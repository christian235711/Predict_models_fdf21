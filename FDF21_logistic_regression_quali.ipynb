{
  "nbformat": 4,
  "nbformat_minor": 5,
  "metadata": {
    "kernelspec": {
      "display_name": "Python 3",
      "language": "python",
      "name": "python3"
    },
    "language_info": {
      "codemirror_mode": {
        "name": "ipython",
        "version": 3
      },
      "file_extension": ".py",
      "mimetype": "text/x-python",
      "name": "python",
      "nbconvert_exporter": "python",
      "pygments_lexer": "ipython3",
      "version": "3.8.8"
    },
    "colab": {
      "name": "FDF21_logistic_regression_quali.ipynb",
      "provenance": [],
      "collapsed_sections": []
    }
  },
  "cells": [
    {
      "cell_type": "code",
      "metadata": {
        "id": "46d1b569",
        "colab": {
          "base_uri": "https://localhost:8080/"
        },
        "outputId": "375cf5ff-aff0-4f0c-97b4-f453e2c9b3c9"
      },
      "source": [
        "import numpy as np\n",
        "import pandas as pd\n",
        "import seaborn as sns\n",
        "import matplotlib.pyplot as plt\n",
        "import sklearn\n",
        "\n",
        "from sklearn.linear_model import LogisticRegression\n",
        "\n",
        "from sklearn.metrics import f1_score, confusion_matrix, classification_report, confusion_matrix\n",
        "from sklearn.model_selection import train_test_split, learning_curve, GridSearchCV, RandomizedSearchCV\n",
        "\n",
        "from sklearn.preprocessing import OneHotEncoder\n",
        "\n",
        "from google.colab import drive\n",
        "drive.mount('/content/drive')"
      ],
      "id": "46d1b569",
      "execution_count": 1,
      "outputs": [
        {
          "output_type": "stream",
          "text": [
            "Mounted at /content/drive\n"
          ],
          "name": "stdout"
        }
      ]
    },
    {
      "cell_type": "code",
      "metadata": {
        "id": "e81965ad"
      },
      "source": [
        "#nombre de modalités de chaque variables (dans un dataframe)\n",
        "def nombre_mod(data2):\n",
        "    #création d'un dataframe vide\n",
        "    dff= pd.DataFrame(columns=[\"VARIABLE\",\"NOMBRE_MOD\", \"NOMBRE_MOD_SANS_NA\"])\n",
        "    for i in range(data2.shape[1]): # sans compter les valeurs manquantes\n",
        "        taille =len(data2.iloc[:,i].value_counts(dropna=False))\n",
        "        taille_1 = len(data2.iloc[:,i].value_counts(dropna=True) )\n",
        "        dff=dff.append({\"VARIABLE\": colonnes[i],\"NOMBRE_MOD\":taille, \"NOMBRE_MOD_SANS_NA\":taille_1 }, ignore_index=True)\n",
        "    return dff"
      ],
      "id": "e81965ad",
      "execution_count": 2,
      "outputs": []
    },
    {
      "cell_type": "code",
      "metadata": {
        "id": "d704d0bf"
      },
      "source": [
        "# option d'affichage des résultats\n",
        "#pd.set_option(\"display.max_row\",130)\n",
        "pd.set_option(\"display.max_columns\",100)"
      ],
      "id": "d704d0bf",
      "execution_count": 3,
      "outputs": []
    },
    {
      "cell_type": "code",
      "metadata": {
        "id": "78ad0a9b"
      },
      "source": [
        "# les noms des variables\n",
        "\n",
        "colonnes =([\"IDENT\", \"TypeHabi\", \"GeoFaz_Scl\", \"GeoFaz_cl\", \"ImmoFaz_Scl\", \"ImmoFaz_cl\", \"Anciennete\",\n",
        "            \"Logement_prix_m2\", \"Mediane_RFR\", \"Sexe\", \"Prenom_Phase_scl_H\", \"Prenom_Phase_scl_F\",\n",
        "            \"Prenom_Phase_cl_H\", \"Prenom_Phase_cl_F\", \"Age_H\", \"Age_F\", \"Affinite_1\", \"Affinite_2\",\n",
        "            \"Prenom_effectif\", \"Potentiel_prenom\", \"Onoma-Phase_Scl\", \"Onoma-Phase_CL\", \"Top_mon\"])"
      ],
      "id": "78ad0a9b",
      "execution_count": 4,
      "outputs": []
    },
    {
      "cell_type": "code",
      "metadata": {
        "colab": {
          "base_uri": "https://localhost:8080/",
          "height": 456
        },
        "id": "47c00091",
        "outputId": "55591bee-ffff-4e82-890f-d456aab642df"
      },
      "source": [
        "#data_orig = pd.read_csv(\"C:/Users/Christian/Desktop/my_data_FDFIFI19.txt\",sep=\" \" , names = colonnes, low_memory=False, dtype=str )#, dtype='Int64')\n",
        "data_orig = pd.read_csv(\"/content/drive/MyDrive/spad_score_method_1/spad_projection_FDFTOT21/my_data_FDFTOT21.txt\", delim_whitespace=\"\\t\", header = None, names=colonnes, low_memory=False, dtype=str )#, dtype='Int64')\n",
        "data_orig\n",
        "data = data_orig.copy()\n",
        "data"
      ],
      "id": "47c00091",
      "execution_count": 5,
      "outputs": [
        {
          "output_type": "execute_result",
          "data": {
            "text/html": [
              "<div>\n",
              "<style scoped>\n",
              "    .dataframe tbody tr th:only-of-type {\n",
              "        vertical-align: middle;\n",
              "    }\n",
              "\n",
              "    .dataframe tbody tr th {\n",
              "        vertical-align: top;\n",
              "    }\n",
              "\n",
              "    .dataframe thead th {\n",
              "        text-align: right;\n",
              "    }\n",
              "</style>\n",
              "<table border=\"1\" class=\"dataframe\">\n",
              "  <thead>\n",
              "    <tr style=\"text-align: right;\">\n",
              "      <th></th>\n",
              "      <th>IDENT</th>\n",
              "      <th>TypeHabi</th>\n",
              "      <th>GeoFaz_Scl</th>\n",
              "      <th>GeoFaz_cl</th>\n",
              "      <th>ImmoFaz_Scl</th>\n",
              "      <th>ImmoFaz_cl</th>\n",
              "      <th>Anciennete</th>\n",
              "      <th>Logement_prix_m2</th>\n",
              "      <th>Mediane_RFR</th>\n",
              "      <th>Sexe</th>\n",
              "      <th>Prenom_Phase_scl_H</th>\n",
              "      <th>Prenom_Phase_scl_F</th>\n",
              "      <th>Prenom_Phase_cl_H</th>\n",
              "      <th>Prenom_Phase_cl_F</th>\n",
              "      <th>Age_H</th>\n",
              "      <th>Age_F</th>\n",
              "      <th>Affinite_1</th>\n",
              "      <th>Affinite_2</th>\n",
              "      <th>Prenom_effectif</th>\n",
              "      <th>Potentiel_prenom</th>\n",
              "      <th>Onoma-Phase_Scl</th>\n",
              "      <th>Onoma-Phase_CL</th>\n",
              "      <th>Top_mon</th>\n",
              "    </tr>\n",
              "  </thead>\n",
              "  <tbody>\n",
              "    <tr>\n",
              "      <th>0</th>\n",
              "      <td>000000010010000001</td>\n",
              "      <td>02</td>\n",
              "      <td>81</td>\n",
              "      <td>08</td>\n",
              "      <td>91</td>\n",
              "      <td>09</td>\n",
              "      <td>06</td>\n",
              "      <td>21</td>\n",
              "      <td>21</td>\n",
              "      <td>01</td>\n",
              "      <td>71</td>\n",
              "      <td>41</td>\n",
              "      <td>07</td>\n",
              "      <td>04</td>\n",
              "      <td>12</td>\n",
              "      <td>04</td>\n",
              "      <td>20</td>\n",
              "      <td>02</td>\n",
              "      <td>02</td>\n",
              "      <td>01</td>\n",
              "      <td>51</td>\n",
              "      <td>05</td>\n",
              "      <td>1</td>\n",
              "    </tr>\n",
              "    <tr>\n",
              "      <th>1</th>\n",
              "      <td>000000020010000006</td>\n",
              "      <td>01</td>\n",
              "      <td>75</td>\n",
              "      <td>07</td>\n",
              "      <td>43</td>\n",
              "      <td>04</td>\n",
              "      <td>06</td>\n",
              "      <td>06</td>\n",
              "      <td>13</td>\n",
              "      <td>02</td>\n",
              "      <td>71</td>\n",
              "      <td>64</td>\n",
              "      <td>07</td>\n",
              "      <td>06</td>\n",
              "      <td>12</td>\n",
              "      <td>09</td>\n",
              "      <td>04</td>\n",
              "      <td>12</td>\n",
              "      <td>04</td>\n",
              "      <td>13</td>\n",
              "      <td>12</td>\n",
              "      <td>01</td>\n",
              "      <td>1</td>\n",
              "    </tr>\n",
              "    <tr>\n",
              "      <th>2</th>\n",
              "      <td>000000030010000011</td>\n",
              "      <td>01</td>\n",
              "      <td>76</td>\n",
              "      <td>07</td>\n",
              "      <td>43</td>\n",
              "      <td>04</td>\n",
              "      <td>06</td>\n",
              "      <td>06</td>\n",
              "      <td>16</td>\n",
              "      <td>03</td>\n",
              "      <td>54</td>\n",
              "      <td>81</td>\n",
              "      <td>05</td>\n",
              "      <td>08</td>\n",
              "      <td>07</td>\n",
              "      <td>12</td>\n",
              "      <td>06</td>\n",
              "      <td>06</td>\n",
              "      <td>04</td>\n",
              "      <td>18</td>\n",
              "      <td>36</td>\n",
              "      <td>03</td>\n",
              "      <td>2</td>\n",
              "    </tr>\n",
              "    <tr>\n",
              "      <th>3</th>\n",
              "      <td>000000040010000013</td>\n",
              "      <td>03</td>\n",
              "      <td>75</td>\n",
              "      <td>07</td>\n",
              "      <td>43</td>\n",
              "      <td>04</td>\n",
              "      <td>04</td>\n",
              "      <td>06</td>\n",
              "      <td>13</td>\n",
              "      <td>01</td>\n",
              "      <td>71</td>\n",
              "      <td>36</td>\n",
              "      <td>07</td>\n",
              "      <td>03</td>\n",
              "      <td>12</td>\n",
              "      <td>11</td>\n",
              "      <td>11</td>\n",
              "      <td>19</td>\n",
              "      <td>04</td>\n",
              "      <td>06</td>\n",
              "      <td>21</td>\n",
              "      <td>02</td>\n",
              "      <td>1</td>\n",
              "    </tr>\n",
              "    <tr>\n",
              "      <th>4</th>\n",
              "      <td>000000050010000015</td>\n",
              "      <td>02</td>\n",
              "      <td>33</td>\n",
              "      <td>03</td>\n",
              "      <td>44</td>\n",
              "      <td>04</td>\n",
              "      <td>06</td>\n",
              "      <td>07</td>\n",
              "      <td>12</td>\n",
              "      <td>01</td>\n",
              "      <td>71</td>\n",
              "      <td>42</td>\n",
              "      <td>07</td>\n",
              "      <td>04</td>\n",
              "      <td>12</td>\n",
              "      <td>05</td>\n",
              "      <td>14</td>\n",
              "      <td>03</td>\n",
              "      <td>03</td>\n",
              "      <td>01</td>\n",
              "      <td>14</td>\n",
              "      <td>01</td>\n",
              "      <td>2</td>\n",
              "    </tr>\n",
              "    <tr>\n",
              "      <th>...</th>\n",
              "      <td>...</td>\n",
              "      <td>...</td>\n",
              "      <td>...</td>\n",
              "      <td>...</td>\n",
              "      <td>...</td>\n",
              "      <td>...</td>\n",
              "      <td>...</td>\n",
              "      <td>...</td>\n",
              "      <td>...</td>\n",
              "      <td>...</td>\n",
              "      <td>...</td>\n",
              "      <td>...</td>\n",
              "      <td>...</td>\n",
              "      <td>...</td>\n",
              "      <td>...</td>\n",
              "      <td>...</td>\n",
              "      <td>...</td>\n",
              "      <td>...</td>\n",
              "      <td>...</td>\n",
              "      <td>...</td>\n",
              "      <td>...</td>\n",
              "      <td>...</td>\n",
              "      <td>...</td>\n",
              "    </tr>\n",
              "    <tr>\n",
              "      <th>1219994</th>\n",
              "      <td>010928800370109343</td>\n",
              "      <td>01</td>\n",
              "      <td>64</td>\n",
              "      <td>06</td>\n",
              "      <td>82</td>\n",
              "      <td>08</td>\n",
              "      <td>05</td>\n",
              "      <td>16</td>\n",
              "      <td>17</td>\n",
              "      <td>02</td>\n",
              "      <td>71</td>\n",
              "      <td>81</td>\n",
              "      <td>07</td>\n",
              "      <td>08</td>\n",
              "      <td>12</td>\n",
              "      <td>12</td>\n",
              "      <td>21</td>\n",
              "      <td>21</td>\n",
              "      <td>06</td>\n",
              "      <td>21</td>\n",
              "      <td>61</td>\n",
              "      <td>06</td>\n",
              "      <td>NaN</td>\n",
              "    </tr>\n",
              "    <tr>\n",
              "      <th>1219995</th>\n",
              "      <td>010928810370109344</td>\n",
              "      <td>03</td>\n",
              "      <td>61</td>\n",
              "      <td>06</td>\n",
              "      <td>64</td>\n",
              "      <td>06</td>\n",
              "      <td>06</td>\n",
              "      <td>14</td>\n",
              "      <td>01</td>\n",
              "      <td>04</td>\n",
              "      <td>44</td>\n",
              "      <td>81</td>\n",
              "      <td>04</td>\n",
              "      <td>08</td>\n",
              "      <td>05</td>\n",
              "      <td>12</td>\n",
              "      <td>01</td>\n",
              "      <td>05</td>\n",
              "      <td>01</td>\n",
              "      <td>03</td>\n",
              "      <td>54</td>\n",
              "      <td>05</td>\n",
              "      <td>NaN</td>\n",
              "    </tr>\n",
              "    <tr>\n",
              "      <th>1219996</th>\n",
              "      <td>010928820370109345</td>\n",
              "      <td>02</td>\n",
              "      <td>13</td>\n",
              "      <td>01</td>\n",
              "      <td>42</td>\n",
              "      <td>04</td>\n",
              "      <td>07</td>\n",
              "      <td>07</td>\n",
              "      <td>15</td>\n",
              "      <td>02</td>\n",
              "      <td>71</td>\n",
              "      <td>81</td>\n",
              "      <td>07</td>\n",
              "      <td>08</td>\n",
              "      <td>12</td>\n",
              "      <td>12</td>\n",
              "      <td>21</td>\n",
              "      <td>21</td>\n",
              "      <td>06</td>\n",
              "      <td>21</td>\n",
              "      <td>61</td>\n",
              "      <td>06</td>\n",
              "      <td>NaN</td>\n",
              "    </tr>\n",
              "    <tr>\n",
              "      <th>1219997</th>\n",
              "      <td>010928830370109346</td>\n",
              "      <td>02</td>\n",
              "      <td>31</td>\n",
              "      <td>03</td>\n",
              "      <td>82</td>\n",
              "      <td>08</td>\n",
              "      <td>08</td>\n",
              "      <td>16</td>\n",
              "      <td>19</td>\n",
              "      <td>02</td>\n",
              "      <td>71</td>\n",
              "      <td>45</td>\n",
              "      <td>07</td>\n",
              "      <td>04</td>\n",
              "      <td>12</td>\n",
              "      <td>03</td>\n",
              "      <td>02</td>\n",
              "      <td>02</td>\n",
              "      <td>03</td>\n",
              "      <td>01</td>\n",
              "      <td>44</td>\n",
              "      <td>04</td>\n",
              "      <td>NaN</td>\n",
              "    </tr>\n",
              "    <tr>\n",
              "      <th>1219998</th>\n",
              "      <td>010928840370109347</td>\n",
              "      <td>02</td>\n",
              "      <td>12</td>\n",
              "      <td>01</td>\n",
              "      <td>82</td>\n",
              "      <td>08</td>\n",
              "      <td>06</td>\n",
              "      <td>17</td>\n",
              "      <td>17</td>\n",
              "      <td>03</td>\n",
              "      <td>33</td>\n",
              "      <td>81</td>\n",
              "      <td>03</td>\n",
              "      <td>08</td>\n",
              "      <td>07</td>\n",
              "      <td>12</td>\n",
              "      <td>03</td>\n",
              "      <td>03</td>\n",
              "      <td>05</td>\n",
              "      <td>20</td>\n",
              "      <td>31</td>\n",
              "      <td>03</td>\n",
              "      <td>NaN</td>\n",
              "    </tr>\n",
              "  </tbody>\n",
              "</table>\n",
              "<p>1219999 rows × 23 columns</p>\n",
              "</div>"
            ],
            "text/plain": [
              "                      IDENT TypeHabi GeoFaz_Scl GeoFaz_cl ImmoFaz_Scl  \\\n",
              "0        000000010010000001       02         81        08          91   \n",
              "1        000000020010000006       01         75        07          43   \n",
              "2        000000030010000011       01         76        07          43   \n",
              "3        000000040010000013       03         75        07          43   \n",
              "4        000000050010000015       02         33        03          44   \n",
              "...                     ...      ...        ...       ...         ...   \n",
              "1219994  010928800370109343       01         64        06          82   \n",
              "1219995  010928810370109344       03         61        06          64   \n",
              "1219996  010928820370109345       02         13        01          42   \n",
              "1219997  010928830370109346       02         31        03          82   \n",
              "1219998  010928840370109347       02         12        01          82   \n",
              "\n",
              "        ImmoFaz_cl Anciennete Logement_prix_m2 Mediane_RFR Sexe  \\\n",
              "0               09         06               21          21   01   \n",
              "1               04         06               06          13   02   \n",
              "2               04         06               06          16   03   \n",
              "3               04         04               06          13   01   \n",
              "4               04         06               07          12   01   \n",
              "...            ...        ...              ...         ...  ...   \n",
              "1219994         08         05               16          17   02   \n",
              "1219995         06         06               14          01   04   \n",
              "1219996         04         07               07          15   02   \n",
              "1219997         08         08               16          19   02   \n",
              "1219998         08         06               17          17   03   \n",
              "\n",
              "        Prenom_Phase_scl_H Prenom_Phase_scl_F Prenom_Phase_cl_H  \\\n",
              "0                       71                 41                07   \n",
              "1                       71                 64                07   \n",
              "2                       54                 81                05   \n",
              "3                       71                 36                07   \n",
              "4                       71                 42                07   \n",
              "...                    ...                ...               ...   \n",
              "1219994                 71                 81                07   \n",
              "1219995                 44                 81                04   \n",
              "1219996                 71                 81                07   \n",
              "1219997                 71                 45                07   \n",
              "1219998                 33                 81                03   \n",
              "\n",
              "        Prenom_Phase_cl_F Age_H Age_F Affinite_1 Affinite_2 Prenom_effectif  \\\n",
              "0                      04    12    04         20         02              02   \n",
              "1                      06    12    09         04         12              04   \n",
              "2                      08    07    12         06         06              04   \n",
              "3                      03    12    11         11         19              04   \n",
              "4                      04    12    05         14         03              03   \n",
              "...                   ...   ...   ...        ...        ...             ...   \n",
              "1219994                08    12    12         21         21              06   \n",
              "1219995                08    05    12         01         05              01   \n",
              "1219996                08    12    12         21         21              06   \n",
              "1219997                04    12    03         02         02              03   \n",
              "1219998                08    07    12         03         03              05   \n",
              "\n",
              "        Potentiel_prenom Onoma-Phase_Scl Onoma-Phase_CL Top_mon  \n",
              "0                     01              51             05       1  \n",
              "1                     13              12             01       1  \n",
              "2                     18              36             03       2  \n",
              "3                     06              21             02       1  \n",
              "4                     01              14             01       2  \n",
              "...                  ...             ...            ...     ...  \n",
              "1219994               21              61             06     NaN  \n",
              "1219995               03              54             05     NaN  \n",
              "1219996               21              61             06     NaN  \n",
              "1219997               01              44             04     NaN  \n",
              "1219998               20              31             03     NaN  \n",
              "\n",
              "[1219999 rows x 23 columns]"
            ]
          },
          "metadata": {
            "tags": []
          },
          "execution_count": 5
        }
      ]
    },
    {
      "cell_type": "code",
      "metadata": {
        "colab": {
          "base_uri": "https://localhost:8080/"
        },
        "id": "0924d2aa",
        "outputId": "cec4418a-b3c2-41ff-9fc6-125d2eafe875"
      },
      "source": [
        "data.info()"
      ],
      "id": "0924d2aa",
      "execution_count": 6,
      "outputs": [
        {
          "output_type": "stream",
          "text": [
            "<class 'pandas.core.frame.DataFrame'>\n",
            "RangeIndex: 1219999 entries, 0 to 1219998\n",
            "Data columns (total 23 columns):\n",
            " #   Column              Non-Null Count    Dtype \n",
            "---  ------              --------------    ----- \n",
            " 0   IDENT               1219999 non-null  object\n",
            " 1   TypeHabi            1219999 non-null  object\n",
            " 2   GeoFaz_Scl          1219999 non-null  object\n",
            " 3   GeoFaz_cl           1219999 non-null  object\n",
            " 4   ImmoFaz_Scl         1219999 non-null  object\n",
            " 5   ImmoFaz_cl          1219999 non-null  object\n",
            " 6   Anciennete          1219999 non-null  object\n",
            " 7   Logement_prix_m2    1219999 non-null  object\n",
            " 8   Mediane_RFR         1219999 non-null  object\n",
            " 9   Sexe                1219999 non-null  object\n",
            " 10  Prenom_Phase_scl_H  1219999 non-null  object\n",
            " 11  Prenom_Phase_scl_F  1219999 non-null  object\n",
            " 12  Prenom_Phase_cl_H   1219999 non-null  object\n",
            " 13  Prenom_Phase_cl_F   1219999 non-null  object\n",
            " 14  Age_H               1219999 non-null  object\n",
            " 15  Age_F               1219999 non-null  object\n",
            " 16  Affinite_1          1219999 non-null  object\n",
            " 17  Affinite_2          1219999 non-null  object\n",
            " 18  Prenom_effectif     1219999 non-null  object\n",
            " 19  Potentiel_prenom    1219999 non-null  object\n",
            " 20  Onoma-Phase_Scl     1219999 non-null  object\n",
            " 21  Onoma-Phase_CL      1219999 non-null  object\n",
            " 22  Top_mon             127115 non-null   object\n",
            "dtypes: object(23)\n",
            "memory usage: 214.1+ MB\n"
          ],
          "name": "stdout"
        }
      ]
    },
    {
      "cell_type": "code",
      "metadata": {
        "id": "685aae90",
        "colab": {
          "base_uri": "https://localhost:8080/"
        },
        "outputId": "740079e8-e183-4e35-b665-8275421cec89"
      },
      "source": [
        "(data.isnull()).sum(axis=0)"
      ],
      "id": "685aae90",
      "execution_count": 7,
      "outputs": [
        {
          "output_type": "execute_result",
          "data": {
            "text/plain": [
              "IDENT                       0\n",
              "TypeHabi                    0\n",
              "GeoFaz_Scl                  0\n",
              "GeoFaz_cl                   0\n",
              "ImmoFaz_Scl                 0\n",
              "ImmoFaz_cl                  0\n",
              "Anciennete                  0\n",
              "Logement_prix_m2            0\n",
              "Mediane_RFR                 0\n",
              "Sexe                        0\n",
              "Prenom_Phase_scl_H          0\n",
              "Prenom_Phase_scl_F          0\n",
              "Prenom_Phase_cl_H           0\n",
              "Prenom_Phase_cl_F           0\n",
              "Age_H                       0\n",
              "Age_F                       0\n",
              "Affinite_1                  0\n",
              "Affinite_2                  0\n",
              "Prenom_effectif             0\n",
              "Potentiel_prenom            0\n",
              "Onoma-Phase_Scl             0\n",
              "Onoma-Phase_CL              0\n",
              "Top_mon               1092884\n",
              "dtype: int64"
            ]
          },
          "metadata": {
            "tags": []
          },
          "execution_count": 7
        }
      ]
    },
    {
      "cell_type": "code",
      "metadata": {
        "id": "fc9a5942",
        "colab": {
          "base_uri": "https://localhost:8080/",
          "height": 202
        },
        "outputId": "5888c397-1329-488d-bf4b-f76aca4f9a0b"
      },
      "source": [
        "# tableau de corrélation \n",
        "tableau_corr =data_sans_nan.iloc[:,1:23].corr()\n",
        "tableau_corr"
      ],
      "id": "fc9a5942",
      "execution_count": 8,
      "outputs": [
        {
          "output_type": "error",
          "ename": "NameError",
          "evalue": "ignored",
          "traceback": [
            "\u001b[0;31m---------------------------------------------------------------------------\u001b[0m",
            "\u001b[0;31mNameError\u001b[0m                                 Traceback (most recent call last)",
            "\u001b[0;32m<ipython-input-8-6251be532848>\u001b[0m in \u001b[0;36m<module>\u001b[0;34m()\u001b[0m\n\u001b[1;32m      1\u001b[0m \u001b[0;31m# tableau de corrélation\u001b[0m\u001b[0;34m\u001b[0m\u001b[0;34m\u001b[0m\u001b[0;34m\u001b[0m\u001b[0m\n\u001b[0;32m----> 2\u001b[0;31m \u001b[0mtableau_corr\u001b[0m \u001b[0;34m=\u001b[0m\u001b[0mdata_sans_nan\u001b[0m\u001b[0;34m.\u001b[0m\u001b[0miloc\u001b[0m\u001b[0;34m[\u001b[0m\u001b[0;34m:\u001b[0m\u001b[0;34m,\u001b[0m\u001b[0;36m1\u001b[0m\u001b[0;34m:\u001b[0m\u001b[0;36m23\u001b[0m\u001b[0;34m]\u001b[0m\u001b[0;34m.\u001b[0m\u001b[0mcorr\u001b[0m\u001b[0;34m(\u001b[0m\u001b[0;34m)\u001b[0m\u001b[0;34m\u001b[0m\u001b[0;34m\u001b[0m\u001b[0m\n\u001b[0m\u001b[1;32m      3\u001b[0m \u001b[0mtableau_corr\u001b[0m\u001b[0;34m\u001b[0m\u001b[0;34m\u001b[0m\u001b[0m\n",
            "\u001b[0;31mNameError\u001b[0m: name 'data_sans_nan' is not defined"
          ]
        }
      ]
    },
    {
      "cell_type": "code",
      "metadata": {
        "id": "239a362c"
      },
      "source": [
        "# sélection des corrélations les plus importantes\n",
        "def variables_corr(tableau_corr, seuil):\n",
        "    variables_corr_pos=[] ; variables_corr_pos_val=[]\n",
        "    variables_corr_neg=[] ; variables_corr_neg_val=[]\n",
        "    for i in range(tableau_corr.shape[0]):  \n",
        "        for j in range(tableau_corr.shape[0]):\n",
        "            if i<j: #i!=j:\n",
        "                if (tableau_corr.iloc[i,j] > seuil):\n",
        "                    variables_corr_pos.append(colonnes[j+1])\n",
        "                    variables_corr_pos_val.append(round( tableau_corr.iloc[i,j], 2))\n",
        "                if (tableau_corr.iloc[i,j] <-seuil):\n",
        "                    variables_corr_neg.append(colonnes[j+1])\n",
        "                    variables_corr_neg_val.append(round( tableau_corr.iloc[i,j], 2))\n",
        "\n",
        "        if (len(variables_corr_pos) > 0) | (len(variables_corr_neg) >0) :\n",
        "            print(\"variable : \", colonnes[i+1])\n",
        "            if len(variables_corr_pos) > 0:    \n",
        "                print(\"corr pos\", variables_corr_pos)\n",
        "                print(\"corr pos\", variables_corr_pos_val)\n",
        "            if len(variables_corr_neg) >0:  \n",
        "                print(\"corr neg\", variables_corr_neg)\n",
        "                print(\"corr neg\", variables_corr_neg_val)\n",
        "            print(\"\")\n",
        "        variables_corr_pos = variables_corr_pos*0\n",
        "        variables_corr_neg = variables_corr_pos*0\n",
        "\n",
        "        variables_corr_pos_val = variables_corr_pos_val*0\n",
        "        variables_corr_neg_val = variables_corr_pos_val*0\n",
        "        \n",
        "# élimination des variables trop corrélées (choix manuel)\n",
        "def elimination_val_corr(data):\n",
        "    data = data.drop(columns=[\"GeoFaz_cl\",\"Prenom_Phase_cl_H\",\"Prenom_Phase_cl_F\"])\n",
        "    return data\n",
        "          "
      ],
      "id": "239a362c",
      "execution_count": null,
      "outputs": []
    },
    {
      "cell_type": "code",
      "metadata": {
        "id": "2a0cafd6"
      },
      "source": [
        "# corrélations les plus importantes \n",
        "variables_corr(tableau_corr, seuil=0.95)"
      ],
      "id": "2a0cafd6",
      "execution_count": null,
      "outputs": []
    },
    {
      "cell_type": "code",
      "metadata": {
        "id": "1cfbe9f8"
      },
      "source": [
        ""
      ],
      "id": "1cfbe9f8",
      "execution_count": null,
      "outputs": []
    },
    {
      "cell_type": "code",
      "metadata": {
        "id": "e2a863af"
      },
      "source": [
        "# Comme il n'y a pas de valeurs manquantes, le seul traitement qu'on fait c'est tranformer\n",
        "# le type de variable (les variables continues deviennent qualitatives)\n",
        "def data_processing(df):\n",
        "    \"\"\" \n",
        "    for i in range(0,len(df.columns)):    \n",
        "        df[df.columns[i]].fillna(100.0, inplace=True) #On remplace les données manquantes par 100\n",
        "    for i in range(0,len(df.columns)):\n",
        "        print(df[df.columns[i]].value_counts(dropna=False))    \n",
        "    \"\"\"\n",
        "    \n",
        "   #Transformation de toutes les variables en facteurs         \n",
        "    for i in range(0,len(df.columns)):\n",
        "        df[df.columns[i]] = df[df.columns[i]].astype('category')\n",
        "    return df.to_numpy() \n"
      ],
      "id": "e2a863af",
      "execution_count": null,
      "outputs": []
    },
    {
      "cell_type": "code",
      "metadata": {
        "id": "ecb96762"
      },
      "source": [
        "data = data_sans_nan"
      ],
      "id": "ecb96762",
      "execution_count": null,
      "outputs": []
    },
    {
      "cell_type": "code",
      "metadata": {
        "id": "b9056e96"
      },
      "source": [
        "# numéro correspondant à la dernière colonne\n",
        "nb_var = data.shape[1] - 1\n",
        "\n",
        "# encodage Onehot\n",
        "encodage = OneHotEncoder()  \n",
        "encodage.fit(data_processing(data.iloc[:,1:nb_var]))  \n",
        "\n",
        "#train_X = (encodage.transform(data_processing(data.iloc[:,1:nb_var])).toarray()).astype('float32')\n",
        "### train_Y = np.asanyarray(data.iloc[:,nb_var]).astype('float32')\n",
        "\n",
        "#input_size = train_X.shape[1] # ca sert pas ici\n",
        "#train_Y[train_Y == 2.] = 0. # ligne inutile"
      ],
      "id": "b9056e96",
      "execution_count": null,
      "outputs": []
    },
    {
      "cell_type": "code",
      "metadata": {
        "id": "1634f3d7"
      },
      "source": [
        ""
      ],
      "id": "1634f3d7",
      "execution_count": null,
      "outputs": []
    },
    {
      "cell_type": "code",
      "metadata": {
        "id": "7bb65f2b"
      },
      "source": [
        "\n",
        "def evaluation(model, X_train, y_train, X_test, y_test, scoring):\n",
        "\n",
        "    model.fit(X_train, y_train)\n",
        "    y_pred = model.predict(X_test)\n",
        "    \n",
        "    print(\"test set : \")\n",
        "    print(confusion_matrix(y_test, y_pred))\n",
        "    print(classification_report(y_test, y_pred)) \n",
        "    print(\"train set : \")\n",
        "    print(confusion_matrix(y_train, model.predict(X_train))) # ajouter \n",
        "    print(classification_report(y_train, model.predict(X_train) ))\n",
        "\n",
        "    N, train_score, val_score = learning_curve(model, X_train, y_train, cv = 4,shuffle=True, scoring = scoring, train_sizes = np.linspace(0.1, 1, 6) )\n",
        "    print(N)\n",
        "    print(train_score.mean(axis=1))\n",
        "    plt.figure(figsize = (10,6))\n",
        "    plt.plot(N, train_score.mean(axis=1), label =\"train_score\")\n",
        "    plt.plot(N, val_score.mean(axis=1), label =\"cross_validation_score\")\n",
        "\n",
        "    plt.legend()\n",
        "\n",
        "    \n",
        "def quarantiles(model, data_orig, affichage, save, path):\n",
        "    # position de la dernière variable explicative dans le dataset\n",
        "    nb_var = data_orig.shape[1]-1\n",
        "    \n",
        "    # predict sur tous les individus (avec et sans classe IFI+)\n",
        "    tous_probas = model.predict_proba(data_orig.iloc[:,1:nb_var])\n",
        "    df_tous = pd.DataFrame({'IDENT': data_orig.iloc[:,0] , 'PROBA': tous_probas[:,0] })\n",
        "    #df_tous\n",
        "\n",
        "    # valeurs ordonnées pour diviser après\n",
        "    df_tous=df_tous.sort_values(by='PROBA', ascending=True)\n",
        "    #df_tous\n",
        "\n",
        "    # vérification\n",
        "    print(df_tous['PROBA'].value_counts())\n",
        "    \n",
        "    # quarantiles\n",
        "    df_temp =pd.DataFrame( pd.qcut(df_tous['PROBA'],q= 20)  )\n",
        "    # ajout par index (IMPORTANTE)\n",
        "    df_tous[\"TRANCHES\"]=pd.DataFrame(df_temp.iloc[:,0].to_numpy(),index= df_temp.index)\n",
        "    #df_tous\n",
        "\n",
        "    # pour la colonne IFI+ :\n",
        "    # remplissage de la dernière colonne par 2 (VALABLE QUE POUR CE DATA, MODIFIER POUR D'AUTRES)\n",
        "    data_temp_t = data_orig.copy()\n",
        "    # remplacement\n",
        "    data_temp_t[\"Top_mon\"] =  data_temp_t[\"Top_mon\"].replace(1.0,'1')\n",
        "    data_temp_t[\"Top_mon\"] =  data_temp_t[\"Top_mon\"].replace(2.0,'2')\n",
        "    data_all_complet_class = data_temp_t.fillna('2')\n",
        "    #data_all_complet_class\n",
        "\n",
        "    # jointure\n",
        "    ident_class_tous = data_all_complet_class[[\"IDENT\",\"Top_mon\"]]\n",
        "    tableau_resultats = pd.merge(df_tous,ident_class_tous)\n",
        "    #tableau_resultats\n",
        "\n",
        "    # tranches finales\n",
        "    tab_cross_temp = pd.crosstab(tableau_resultats[\"TRANCHES\"],tableau_resultats[\"Top_mon\"])    \n",
        "    \n",
        "    # création d'une colonne total\n",
        "    tab_cross_temp[\"TOTAL\"]=tab_cross_temp[\"1\"]+tab_cross_temp[\"2\"]\n",
        "    \n",
        "    # affichage\n",
        "    if affichage ==True:        \n",
        "        print(tab_cross_temp)\n",
        "    \n",
        "    # création du tableau final en éliminant la colonne 2\n",
        "    tab_pour_excel = tab_cross_temp.drop([\"2\"], axis=1)\n",
        "    \n",
        "    # enregistrement sous Excel\n",
        "    if save == True:\n",
        "        tab_pour_excel.to_excel(path)\n",
        "\n",
        "     "
      ],
      "id": "7bb65f2b",
      "execution_count": 15,
      "outputs": []
    },
    {
      "cell_type": "code",
      "metadata": {
        "id": "e46a9d46"
      },
      "source": [
        "##############################################################################################################\n",
        "#                                                   PREMIERS TESTS\n",
        "##############################################################################################################\n"
      ],
      "id": "e46a9d46",
      "execution_count": null,
      "outputs": []
    },
    {
      "cell_type": "code",
      "metadata": {
        "id": "2e4dedce"
      },
      "source": [
        "##########################################\n",
        "# AVEC VARIABLES DONS ET ENCODAGE DUMMIES\n",
        "#########################################"
      ],
      "id": "2e4dedce",
      "execution_count": null,
      "outputs": []
    },
    {
      "cell_type": "code",
      "metadata": {
        "id": "474de22e",
        "colab": {
          "base_uri": "https://localhost:8080/"
        },
        "outputId": "b4673036-7963-4bc3-9b30-a54ea29e9008"
      },
      "source": [
        "# test predict individus sans classe\n",
        "data = data_orig.copy()\n",
        "\n",
        "# encodage Onehot sur toutes les données (on évite ainsi les erreurs futures)\n",
        "nb_var = data.shape[1] - 1\n",
        "data_1_22 = pd.get_dummies(data.iloc[:,1:(data.shape[1]-1)], columns=data.columns[1:(data.shape[1]-1)] )\n",
        "data_var_qualitatives_temp =  pd.concat([data[\"IDENT\"], data_1_22, data[\"Top_mon\"]], axis=1)\n",
        "data = data_var_qualitatives_temp\n",
        "#encodage = OneHotEncoder()\n",
        "#encodage.fit(data_processing(data.iloc[:,1:nb_var]))\n",
        "\n",
        "# élimination des individus n'ayant pas de valeur pour la varialbe IFI+\n",
        "\"\"\"IMPORTANT\"\"\"\n",
        "data_sans_nan = data[(data.isnull()).sum(axis=1) == 0]\n",
        "\n",
        "#conversion du type de variable\n",
        "for i in range(1,data_sans_nan.shape[1]):\n",
        "    data_sans_nan.iloc[:,i]=data_sans_nan.iloc[:,i].astype(int)\n",
        "\n",
        "# base de données avec des variables corrélées et avec encodage OneHot\n",
        "data =data_sans_nan\n",
        "\n",
        "nb_var = data.shape[1] - 1\n",
        "train_set, test_set = train_test_split(data, test_size = 0.2, random_state=0 )\n",
        "\n",
        "train_X_s = (train_set.iloc[:,1:nb_var]).to_numpy()\n",
        "train_Y_s = np.asanyarray(train_set.iloc[:,nb_var])\n",
        "\n",
        "test_X_s = (test_set.iloc[:,1:nb_var]).to_numpy()\n",
        "test_Y_s = np.asanyarray(test_set.iloc[:,nb_var])\n"
      ],
      "id": "474de22e",
      "execution_count": null,
      "outputs": [
        {
          "output_type": "stream",
          "text": [
            "/usr/local/lib/python3.7/dist-packages/pandas/core/indexing.py:1743: SettingWithCopyWarning: \n",
            "A value is trying to be set on a copy of a slice from a DataFrame.\n",
            "Try using .loc[row_indexer,col_indexer] = value instead\n",
            "\n",
            "See the caveats in the documentation: https://pandas.pydata.org/pandas-docs/stable/user_guide/indexing.html#returning-a-view-versus-a-copy\n",
            "  isetter(ilocs[0], value)\n"
          ],
          "name": "stderr"
        }
      ]
    },
    {
      "cell_type": "code",
      "metadata": {
        "id": "9191a686"
      },
      "source": [
        ""
      ],
      "id": "9191a686",
      "execution_count": null,
      "outputs": []
    },
    {
      "cell_type": "code",
      "metadata": {
        "id": "a6539fea",
        "colab": {
          "base_uri": "https://localhost:8080/"
        },
        "outputId": "831fe58e-5246-4359-9050-8589f77f5ceb"
      },
      "source": [
        "model_reg_logistic = LogisticRegression(random_state =0, max_iter= 10000, class_weight=\"balanced\" )\n",
        "\n",
        "param = {'C':[0.01,0.05,0.1,0.5,1,2], 'solver': ['liblinear','newton-cg', 'lbfgs']} #'penalty':['l2', 'none']\n",
        "\n",
        "grid_reg_logistic = GridSearchCV(model_reg_logistic, param_grid = param, cv=5, scoring ='recall', n_jobs=-1 )\n",
        "resultat_reg_logistic = grid_reg_logistic.fit(train_X_s, train_Y_s)\n",
        "print(resultat_reg_logistic.best_params_)\n",
        "\n",
        "param = {'solver': ['newton_cg','lbfgs'], 'penalty':['none']} #'penalty':['l2', 'none']\n",
        "\n",
        "grid_reg_logistic = GridSearchCV(model_reg_logistic, param_grid = param, cv=5, scoring ='recall' )\n",
        "resultat_reg_logistic = grid_reg_logistic.fit(train_X_s, train_Y_s)\n",
        "resultat_reg_logistic.best_params_"
      ],
      "id": "a6539fea",
      "execution_count": null,
      "outputs": [
        {
          "output_type": "stream",
          "text": [
            "/usr/local/lib/python3.7/dist-packages/joblib/externals/loky/process_executor.py:691: UserWarning: A worker stopped while some jobs were given to the executor. This can be caused by a too short worker timeout or by a memory leak.\n",
            "  \"timeout or by a memory leak.\", UserWarning\n"
          ],
          "name": "stderr"
        },
        {
          "output_type": "stream",
          "text": [
            "{'C': 0.01, 'solver': 'liblinear'}\n"
          ],
          "name": "stdout"
        },
        {
          "output_type": "stream",
          "text": [
            "/usr/local/lib/python3.7/dist-packages/sklearn/model_selection/_validation.py:536: FitFailedWarning: Estimator fit failed. The score on this train-test partition for these parameters will be set to nan. Details: \n",
            "ValueError: Logistic Regression supports only solvers in ['liblinear', 'newton-cg', 'lbfgs', 'sag', 'saga'], got newton_cg.\n",
            "\n",
            "  FitFailedWarning)\n"
          ],
          "name": "stderr"
        },
        {
          "output_type": "execute_result",
          "data": {
            "text/plain": [
              "{'penalty': 'none', 'solver': 'lbfgs'}"
            ]
          },
          "metadata": {
            "tags": []
          },
          "execution_count": 56
        }
      ]
    },
    {
      "cell_type": "code",
      "metadata": {
        "scrolled": false,
        "id": "f9dc635a",
        "outputId": "d3cab997-3cee-4126-ce22-c467b6fe0f26"
      },
      "source": [
        "#model_17_cw = LogisticRegression(random_state =0,C=0.01,solver=\"liblinear\", max_iter= 10000, class_weight=\"balanced\")\n",
        "#evaluation(model_17_cw, train_X_s, train_Y_s, test_X_s, test_Y_s, scoring=\"recall\" )"
      ],
      "id": "f9dc635a",
      "execution_count": null,
      "outputs": [
        {
          "output_type": "stream",
          "text": [
            "test set : \n",
            "[[  416    82]\n",
            " [ 9927 82666]]\n",
            "              precision    recall  f1-score   support\n",
            "\n",
            "           1       0.04      0.84      0.08       498\n",
            "           2       1.00      0.89      0.94     92593\n",
            "\n",
            "    accuracy                           0.89     93091\n",
            "   macro avg       0.52      0.86      0.51     93091\n",
            "weighted avg       0.99      0.89      0.94     93091\n",
            "\n",
            "train set : \n",
            "[[  1818    304]\n",
            " [ 39620 330620]]\n",
            "              precision    recall  f1-score   support\n",
            "\n",
            "           1       0.04      0.86      0.08      2122\n",
            "           2       1.00      0.89      0.94    370240\n",
            "\n",
            "    accuracy                           0.89    372362\n",
            "   macro avg       0.52      0.87      0.51    372362\n",
            "weighted avg       0.99      0.89      0.94    372362\n",
            "\n",
            "[ 27927  78195 128464 178733 229002 279271]\n",
            "[0.90186667 0.88042618 0.87042502 0.86389862 0.85940989 0.86003902]\n"
          ],
          "name": "stdout"
        },
        {
          "output_type": "display_data",
          "data": {
            "image/png": "[encoded data removed]",
            "text/plain": [
              "<Figure size 720x432 with 1 Axes>"
            ]
          },
          "metadata": {
            "tags": [],
            "needs_background": "light"
          }
        }
      ]
    },
    {
      "cell_type": "code",
      "metadata": {
        "id": "1be3314f",
        "colab": {
          "base_uri": "https://localhost:8080/",
          "height": 771
        },
        "outputId": "4e34a148-f714-42d2-b92e-0cf186c45483"
      },
      "source": [
        "#model_17_cw = LogisticRegression(random_state =0,solver=\"lbfgs\",penalty=\"none\" ,max_iter= 10000, class_weight=\"balanced\")\n",
        "model_17_cw = LogisticRegression(random_state =0,C=0.01,solver=\"liblinear\", max_iter= 10000, class_weight=\"balanced\")\n",
        "evaluation(model_17_cw, train_X_s, train_Y_s, test_X_s, test_Y_s, scoring=\"recall\" )"
      ],
      "id": "1be3314f",
      "execution_count": null,
      "outputs": [
        {
          "output_type": "stream",
          "text": [
            "test set : \n",
            "[[ 2515  2164]\n",
            " [ 7479 13265]]\n",
            "              precision    recall  f1-score   support\n",
            "\n",
            "           1       0.25      0.54      0.34      4679\n",
            "           2       0.86      0.64      0.73     20744\n",
            "\n",
            "    accuracy                           0.62     25423\n",
            "   macro avg       0.56      0.59      0.54     25423\n",
            "weighted avg       0.75      0.62      0.66     25423\n",
            "\n",
            "train set : \n",
            "[[10444  8333]\n",
            " [29159 53756]]\n",
            "              precision    recall  f1-score   support\n",
            "\n",
            "           1       0.26      0.56      0.36     18777\n",
            "           2       0.87      0.65      0.74     82915\n",
            "\n",
            "    accuracy                           0.63    101692\n",
            "   macro avg       0.56      0.60      0.55    101692\n",
            "weighted avg       0.75      0.63      0.67    101692\n",
            "\n"
          ],
          "name": "stdout"
        },
        {
          "output_type": "error",
          "ename": "KeyboardInterrupt",
          "evalue": "ignored",
          "traceback": [
            "\u001b[0;31m---------------------------------------------------------------------------\u001b[0m",
            "\u001b[0;31mKeyboardInterrupt\u001b[0m                         Traceback (most recent call last)",
            "\u001b[0;32m<ipython-input-57-2bf6de62bc82>\u001b[0m in \u001b[0;36m<module>\u001b[0;34m()\u001b[0m\n\u001b[1;32m      1\u001b[0m \u001b[0;31m#model_17_cw = LogisticRegression(random_state =0,solver=\"lbfgs\",penalty=\"none\" ,max_iter= 10000, class_weight=\"balanced\")\u001b[0m\u001b[0;34m\u001b[0m\u001b[0;34m\u001b[0m\u001b[0;34m\u001b[0m\u001b[0m\n\u001b[1;32m      2\u001b[0m \u001b[0mmodel_17_cw\u001b[0m \u001b[0;34m=\u001b[0m \u001b[0mLogisticRegression\u001b[0m\u001b[0;34m(\u001b[0m\u001b[0mrandom_state\u001b[0m \u001b[0;34m=\u001b[0m\u001b[0;36m0\u001b[0m\u001b[0;34m,\u001b[0m\u001b[0mC\u001b[0m\u001b[0;34m=\u001b[0m\u001b[0;36m0.01\u001b[0m\u001b[0;34m,\u001b[0m\u001b[0msolver\u001b[0m\u001b[0;34m=\u001b[0m\u001b[0;34m\"liblinear\"\u001b[0m\u001b[0;34m,\u001b[0m \u001b[0mmax_iter\u001b[0m\u001b[0;34m=\u001b[0m \u001b[0;36m10000\u001b[0m\u001b[0;34m,\u001b[0m \u001b[0mclass_weight\u001b[0m\u001b[0;34m=\u001b[0m\u001b[0;34m\"balanced\"\u001b[0m\u001b[0;34m)\u001b[0m\u001b[0;34m\u001b[0m\u001b[0;34m\u001b[0m\u001b[0m\n\u001b[0;32m----> 3\u001b[0;31m \u001b[0mevaluation\u001b[0m\u001b[0;34m(\u001b[0m\u001b[0mmodel_17_cw\u001b[0m\u001b[0;34m,\u001b[0m \u001b[0mtrain_X_s\u001b[0m\u001b[0;34m,\u001b[0m \u001b[0mtrain_Y_s\u001b[0m\u001b[0;34m,\u001b[0m \u001b[0mtest_X_s\u001b[0m\u001b[0;34m,\u001b[0m \u001b[0mtest_Y_s\u001b[0m\u001b[0;34m,\u001b[0m \u001b[0mscoring\u001b[0m\u001b[0;34m=\u001b[0m\u001b[0;34m\"recall\"\u001b[0m \u001b[0;34m)\u001b[0m\u001b[0;34m\u001b[0m\u001b[0;34m\u001b[0m\u001b[0m\n\u001b[0m",
            "\u001b[0;32m<ipython-input-50-aabac38f863c>\u001b[0m in \u001b[0;36mevaluation\u001b[0;34m(model, X_train, y_train, X_test, y_test, scoring)\u001b[0m\n\u001b[1;32m     12\u001b[0m     \u001b[0mprint\u001b[0m\u001b[0;34m(\u001b[0m\u001b[0mclassification_report\u001b[0m\u001b[0;34m(\u001b[0m\u001b[0my_train\u001b[0m\u001b[0;34m,\u001b[0m \u001b[0mmodel\u001b[0m\u001b[0;34m.\u001b[0m\u001b[0mpredict\u001b[0m\u001b[0;34m(\u001b[0m\u001b[0mX_train\u001b[0m\u001b[0;34m)\u001b[0m \u001b[0;34m)\u001b[0m\u001b[0;34m)\u001b[0m\u001b[0;34m\u001b[0m\u001b[0;34m\u001b[0m\u001b[0m\n\u001b[1;32m     13\u001b[0m \u001b[0;34m\u001b[0m\u001b[0m\n\u001b[0;32m---> 14\u001b[0;31m     \u001b[0mN\u001b[0m\u001b[0;34m,\u001b[0m \u001b[0mtrain_score\u001b[0m\u001b[0;34m,\u001b[0m \u001b[0mval_score\u001b[0m \u001b[0;34m=\u001b[0m \u001b[0mlearning_curve\u001b[0m\u001b[0;34m(\u001b[0m\u001b[0mmodel\u001b[0m\u001b[0;34m,\u001b[0m \u001b[0mX_train\u001b[0m\u001b[0;34m,\u001b[0m \u001b[0my_train\u001b[0m\u001b[0;34m,\u001b[0m \u001b[0mcv\u001b[0m \u001b[0;34m=\u001b[0m \u001b[0;36m4\u001b[0m\u001b[0;34m,\u001b[0m\u001b[0mshuffle\u001b[0m\u001b[0;34m=\u001b[0m\u001b[0;32mTrue\u001b[0m\u001b[0;34m,\u001b[0m \u001b[0mscoring\u001b[0m \u001b[0;34m=\u001b[0m \u001b[0mscoring\u001b[0m\u001b[0;34m,\u001b[0m \u001b[0mtrain_sizes\u001b[0m \u001b[0;34m=\u001b[0m \u001b[0mnp\u001b[0m\u001b[0;34m.\u001b[0m\u001b[0mlinspace\u001b[0m\u001b[0;34m(\u001b[0m\u001b[0;36m0.1\u001b[0m\u001b[0;34m,\u001b[0m \u001b[0;36m1\u001b[0m\u001b[0;34m,\u001b[0m \u001b[0;36m6\u001b[0m\u001b[0;34m)\u001b[0m \u001b[0;34m)\u001b[0m\u001b[0;34m\u001b[0m\u001b[0;34m\u001b[0m\u001b[0m\n\u001b[0m\u001b[1;32m     15\u001b[0m     \u001b[0mprint\u001b[0m\u001b[0;34m(\u001b[0m\u001b[0mN\u001b[0m\u001b[0;34m)\u001b[0m\u001b[0;34m\u001b[0m\u001b[0;34m\u001b[0m\u001b[0m\n\u001b[1;32m     16\u001b[0m     \u001b[0mprint\u001b[0m\u001b[0;34m(\u001b[0m\u001b[0mtrain_score\u001b[0m\u001b[0;34m.\u001b[0m\u001b[0mmean\u001b[0m\u001b[0;34m(\u001b[0m\u001b[0maxis\u001b[0m\u001b[0;34m=\u001b[0m\u001b[0;36m1\u001b[0m\u001b[0;34m)\u001b[0m\u001b[0;34m)\u001b[0m\u001b[0;34m\u001b[0m\u001b[0;34m\u001b[0m\u001b[0m\n",
            "\u001b[0;32m/usr/local/lib/python3.7/dist-packages/sklearn/model_selection/_validation.py\u001b[0m in \u001b[0;36mlearning_curve\u001b[0;34m(estimator, X, y, groups, train_sizes, cv, scoring, exploit_incremental_learning, n_jobs, pre_dispatch, verbose, shuffle, random_state, error_score, return_times)\u001b[0m\n\u001b[1;32m   1254\u001b[0m             \u001b[0mparameters\u001b[0m\u001b[0;34m=\u001b[0m\u001b[0;32mNone\u001b[0m\u001b[0;34m,\u001b[0m \u001b[0mfit_params\u001b[0m\u001b[0;34m=\u001b[0m\u001b[0;32mNone\u001b[0m\u001b[0;34m,\u001b[0m \u001b[0mreturn_train_score\u001b[0m\u001b[0;34m=\u001b[0m\u001b[0;32mTrue\u001b[0m\u001b[0;34m,\u001b[0m\u001b[0;34m\u001b[0m\u001b[0;34m\u001b[0m\u001b[0m\n\u001b[1;32m   1255\u001b[0m             error_score=error_score, return_times=return_times)\n\u001b[0;32m-> 1256\u001b[0;31m             for train, test in train_test_proportions)\n\u001b[0m\u001b[1;32m   1257\u001b[0m         \u001b[0mout\u001b[0m \u001b[0;34m=\u001b[0m \u001b[0mnp\u001b[0m\u001b[0;34m.\u001b[0m\u001b[0marray\u001b[0m\u001b[0;34m(\u001b[0m\u001b[0mout\u001b[0m\u001b[0;34m)\u001b[0m\u001b[0;34m\u001b[0m\u001b[0;34m\u001b[0m\u001b[0m\n\u001b[1;32m   1258\u001b[0m         \u001b[0mn_cv_folds\u001b[0m \u001b[0;34m=\u001b[0m \u001b[0mout\u001b[0m\u001b[0;34m.\u001b[0m\u001b[0mshape\u001b[0m\u001b[0;34m[\u001b[0m\u001b[0;36m0\u001b[0m\u001b[0;34m]\u001b[0m \u001b[0;34m//\u001b[0m \u001b[0mn_unique_ticks\u001b[0m\u001b[0;34m\u001b[0m\u001b[0;34m\u001b[0m\u001b[0m\n",
            "\u001b[0;32m/usr/local/lib/python3.7/dist-packages/joblib/parallel.py\u001b[0m in \u001b[0;36m__call__\u001b[0;34m(self, iterable)\u001b[0m\n\u001b[1;32m   1042\u001b[0m                 \u001b[0mself\u001b[0m\u001b[0;34m.\u001b[0m\u001b[0m_iterating\u001b[0m \u001b[0;34m=\u001b[0m \u001b[0mself\u001b[0m\u001b[0;34m.\u001b[0m\u001b[0m_original_iterator\u001b[0m \u001b[0;32mis\u001b[0m \u001b[0;32mnot\u001b[0m \u001b[0;32mNone\u001b[0m\u001b[0;34m\u001b[0m\u001b[0;34m\u001b[0m\u001b[0m\n\u001b[1;32m   1043\u001b[0m \u001b[0;34m\u001b[0m\u001b[0m\n\u001b[0;32m-> 1044\u001b[0;31m             \u001b[0;32mwhile\u001b[0m \u001b[0mself\u001b[0m\u001b[0;34m.\u001b[0m\u001b[0mdispatch_one_batch\u001b[0m\u001b[0;34m(\u001b[0m\u001b[0miterator\u001b[0m\u001b[0;34m)\u001b[0m\u001b[0;34m:\u001b[0m\u001b[0;34m\u001b[0m\u001b[0;34m\u001b[0m\u001b[0m\n\u001b[0m\u001b[1;32m   1045\u001b[0m                 \u001b[0;32mpass\u001b[0m\u001b[0;34m\u001b[0m\u001b[0;34m\u001b[0m\u001b[0m\n\u001b[1;32m   1046\u001b[0m \u001b[0;34m\u001b[0m\u001b[0m\n",
            "\u001b[0;32m/usr/local/lib/python3.7/dist-packages/joblib/parallel.py\u001b[0m in \u001b[0;36mdispatch_one_batch\u001b[0;34m(self, iterator)\u001b[0m\n\u001b[1;32m    857\u001b[0m                 \u001b[0;32mreturn\u001b[0m \u001b[0;32mFalse\u001b[0m\u001b[0;34m\u001b[0m\u001b[0;34m\u001b[0m\u001b[0m\n\u001b[1;32m    858\u001b[0m             \u001b[0;32melse\u001b[0m\u001b[0;34m:\u001b[0m\u001b[0;34m\u001b[0m\u001b[0;34m\u001b[0m\u001b[0m\n\u001b[0;32m--> 859\u001b[0;31m                 \u001b[0mself\u001b[0m\u001b[0;34m.\u001b[0m\u001b[0m_dispatch\u001b[0m\u001b[0;34m(\u001b[0m\u001b[0mtasks\u001b[0m\u001b[0;34m)\u001b[0m\u001b[0;34m\u001b[0m\u001b[0;34m\u001b[0m\u001b[0m\n\u001b[0m\u001b[1;32m    860\u001b[0m                 \u001b[0;32mreturn\u001b[0m \u001b[0;32mTrue\u001b[0m\u001b[0;34m\u001b[0m\u001b[0;34m\u001b[0m\u001b[0m\n\u001b[1;32m    861\u001b[0m \u001b[0;34m\u001b[0m\u001b[0m\n",
            "\u001b[0;32m/usr/local/lib/python3.7/dist-packages/joblib/parallel.py\u001b[0m in \u001b[0;36m_dispatch\u001b[0;34m(self, batch)\u001b[0m\n\u001b[1;32m    775\u001b[0m         \u001b[0;32mwith\u001b[0m \u001b[0mself\u001b[0m\u001b[0;34m.\u001b[0m\u001b[0m_lock\u001b[0m\u001b[0;34m:\u001b[0m\u001b[0;34m\u001b[0m\u001b[0;34m\u001b[0m\u001b[0m\n\u001b[1;32m    776\u001b[0m             \u001b[0mjob_idx\u001b[0m \u001b[0;34m=\u001b[0m \u001b[0mlen\u001b[0m\u001b[0;34m(\u001b[0m\u001b[0mself\u001b[0m\u001b[0;34m.\u001b[0m\u001b[0m_jobs\u001b[0m\u001b[0;34m)\u001b[0m\u001b[0;34m\u001b[0m\u001b[0;34m\u001b[0m\u001b[0m\n\u001b[0;32m--> 777\u001b[0;31m             \u001b[0mjob\u001b[0m \u001b[0;34m=\u001b[0m \u001b[0mself\u001b[0m\u001b[0;34m.\u001b[0m\u001b[0m_backend\u001b[0m\u001b[0;34m.\u001b[0m\u001b[0mapply_async\u001b[0m\u001b[0;34m(\u001b[0m\u001b[0mbatch\u001b[0m\u001b[0;34m,\u001b[0m \u001b[0mcallback\u001b[0m\u001b[0;34m=\u001b[0m\u001b[0mcb\u001b[0m\u001b[0;34m)\u001b[0m\u001b[0;34m\u001b[0m\u001b[0;34m\u001b[0m\u001b[0m\n\u001b[0m\u001b[1;32m    778\u001b[0m             \u001b[0;31m# A job can complete so quickly than its callback is\u001b[0m\u001b[0;34m\u001b[0m\u001b[0;34m\u001b[0m\u001b[0;34m\u001b[0m\u001b[0m\n\u001b[1;32m    779\u001b[0m             \u001b[0;31m# called before we get here, causing self._jobs to\u001b[0m\u001b[0;34m\u001b[0m\u001b[0;34m\u001b[0m\u001b[0;34m\u001b[0m\u001b[0m\n",
            "\u001b[0;32m/usr/local/lib/python3.7/dist-packages/joblib/_parallel_backends.py\u001b[0m in \u001b[0;36mapply_async\u001b[0;34m(self, func, callback)\u001b[0m\n\u001b[1;32m    206\u001b[0m     \u001b[0;32mdef\u001b[0m \u001b[0mapply_async\u001b[0m\u001b[0;34m(\u001b[0m\u001b[0mself\u001b[0m\u001b[0;34m,\u001b[0m \u001b[0mfunc\u001b[0m\u001b[0;34m,\u001b[0m \u001b[0mcallback\u001b[0m\u001b[0;34m=\u001b[0m\u001b[0;32mNone\u001b[0m\u001b[0;34m)\u001b[0m\u001b[0;34m:\u001b[0m\u001b[0;34m\u001b[0m\u001b[0;34m\u001b[0m\u001b[0m\n\u001b[1;32m    207\u001b[0m         \u001b[0;34m\"\"\"Schedule a func to be run\"\"\"\u001b[0m\u001b[0;34m\u001b[0m\u001b[0;34m\u001b[0m\u001b[0m\n\u001b[0;32m--> 208\u001b[0;31m         \u001b[0mresult\u001b[0m \u001b[0;34m=\u001b[0m \u001b[0mImmediateResult\u001b[0m\u001b[0;34m(\u001b[0m\u001b[0mfunc\u001b[0m\u001b[0;34m)\u001b[0m\u001b[0;34m\u001b[0m\u001b[0;34m\u001b[0m\u001b[0m\n\u001b[0m\u001b[1;32m    209\u001b[0m         \u001b[0;32mif\u001b[0m \u001b[0mcallback\u001b[0m\u001b[0;34m:\u001b[0m\u001b[0;34m\u001b[0m\u001b[0;34m\u001b[0m\u001b[0m\n\u001b[1;32m    210\u001b[0m             \u001b[0mcallback\u001b[0m\u001b[0;34m(\u001b[0m\u001b[0mresult\u001b[0m\u001b[0;34m)\u001b[0m\u001b[0;34m\u001b[0m\u001b[0;34m\u001b[0m\u001b[0m\n",
            "\u001b[0;32m/usr/local/lib/python3.7/dist-packages/joblib/_parallel_backends.py\u001b[0m in \u001b[0;36m__init__\u001b[0;34m(self, batch)\u001b[0m\n\u001b[1;32m    570\u001b[0m         \u001b[0;31m# Don't delay the application, to avoid keeping the input\u001b[0m\u001b[0;34m\u001b[0m\u001b[0;34m\u001b[0m\u001b[0;34m\u001b[0m\u001b[0m\n\u001b[1;32m    571\u001b[0m         \u001b[0;31m# arguments in memory\u001b[0m\u001b[0;34m\u001b[0m\u001b[0;34m\u001b[0m\u001b[0;34m\u001b[0m\u001b[0m\n\u001b[0;32m--> 572\u001b[0;31m         \u001b[0mself\u001b[0m\u001b[0;34m.\u001b[0m\u001b[0mresults\u001b[0m \u001b[0;34m=\u001b[0m \u001b[0mbatch\u001b[0m\u001b[0;34m(\u001b[0m\u001b[0;34m)\u001b[0m\u001b[0;34m\u001b[0m\u001b[0;34m\u001b[0m\u001b[0m\n\u001b[0m\u001b[1;32m    573\u001b[0m \u001b[0;34m\u001b[0m\u001b[0m\n\u001b[1;32m    574\u001b[0m     \u001b[0;32mdef\u001b[0m \u001b[0mget\u001b[0m\u001b[0;34m(\u001b[0m\u001b[0mself\u001b[0m\u001b[0;34m)\u001b[0m\u001b[0;34m:\u001b[0m\u001b[0;34m\u001b[0m\u001b[0;34m\u001b[0m\u001b[0m\n",
            "\u001b[0;32m/usr/local/lib/python3.7/dist-packages/joblib/parallel.py\u001b[0m in \u001b[0;36m__call__\u001b[0;34m(self)\u001b[0m\n\u001b[1;32m    261\u001b[0m         \u001b[0;32mwith\u001b[0m \u001b[0mparallel_backend\u001b[0m\u001b[0;34m(\u001b[0m\u001b[0mself\u001b[0m\u001b[0;34m.\u001b[0m\u001b[0m_backend\u001b[0m\u001b[0;34m,\u001b[0m \u001b[0mn_jobs\u001b[0m\u001b[0;34m=\u001b[0m\u001b[0mself\u001b[0m\u001b[0;34m.\u001b[0m\u001b[0m_n_jobs\u001b[0m\u001b[0;34m)\u001b[0m\u001b[0;34m:\u001b[0m\u001b[0;34m\u001b[0m\u001b[0;34m\u001b[0m\u001b[0m\n\u001b[1;32m    262\u001b[0m             return [func(*args, **kwargs)\n\u001b[0;32m--> 263\u001b[0;31m                     for func, args, kwargs in self.items]\n\u001b[0m\u001b[1;32m    264\u001b[0m \u001b[0;34m\u001b[0m\u001b[0m\n\u001b[1;32m    265\u001b[0m     \u001b[0;32mdef\u001b[0m \u001b[0m__reduce__\u001b[0m\u001b[0;34m(\u001b[0m\u001b[0mself\u001b[0m\u001b[0;34m)\u001b[0m\u001b[0;34m:\u001b[0m\u001b[0;34m\u001b[0m\u001b[0;34m\u001b[0m\u001b[0m\n",
            "\u001b[0;32m/usr/local/lib/python3.7/dist-packages/joblib/parallel.py\u001b[0m in \u001b[0;36m<listcomp>\u001b[0;34m(.0)\u001b[0m\n\u001b[1;32m    261\u001b[0m         \u001b[0;32mwith\u001b[0m \u001b[0mparallel_backend\u001b[0m\u001b[0;34m(\u001b[0m\u001b[0mself\u001b[0m\u001b[0;34m.\u001b[0m\u001b[0m_backend\u001b[0m\u001b[0;34m,\u001b[0m \u001b[0mn_jobs\u001b[0m\u001b[0;34m=\u001b[0m\u001b[0mself\u001b[0m\u001b[0;34m.\u001b[0m\u001b[0m_n_jobs\u001b[0m\u001b[0;34m)\u001b[0m\u001b[0;34m:\u001b[0m\u001b[0;34m\u001b[0m\u001b[0;34m\u001b[0m\u001b[0m\n\u001b[1;32m    262\u001b[0m             return [func(*args, **kwargs)\n\u001b[0;32m--> 263\u001b[0;31m                     for func, args, kwargs in self.items]\n\u001b[0m\u001b[1;32m    264\u001b[0m \u001b[0;34m\u001b[0m\u001b[0m\n\u001b[1;32m    265\u001b[0m     \u001b[0;32mdef\u001b[0m \u001b[0m__reduce__\u001b[0m\u001b[0;34m(\u001b[0m\u001b[0mself\u001b[0m\u001b[0;34m)\u001b[0m\u001b[0;34m:\u001b[0m\u001b[0;34m\u001b[0m\u001b[0;34m\u001b[0m\u001b[0m\n",
            "\u001b[0;32m/usr/local/lib/python3.7/dist-packages/sklearn/model_selection/_validation.py\u001b[0m in \u001b[0;36m_fit_and_score\u001b[0;34m(estimator, X, y, scorer, train, test, verbose, parameters, fit_params, return_train_score, return_parameters, return_n_test_samples, return_times, return_estimator, error_score)\u001b[0m\n\u001b[1;32m    506\u001b[0m     \u001b[0mstart_time\u001b[0m \u001b[0;34m=\u001b[0m \u001b[0mtime\u001b[0m\u001b[0;34m.\u001b[0m\u001b[0mtime\u001b[0m\u001b[0;34m(\u001b[0m\u001b[0;34m)\u001b[0m\u001b[0;34m\u001b[0m\u001b[0;34m\u001b[0m\u001b[0m\n\u001b[1;32m    507\u001b[0m \u001b[0;34m\u001b[0m\u001b[0m\n\u001b[0;32m--> 508\u001b[0;31m     \u001b[0mX_train\u001b[0m\u001b[0;34m,\u001b[0m \u001b[0my_train\u001b[0m \u001b[0;34m=\u001b[0m \u001b[0m_safe_split\u001b[0m\u001b[0;34m(\u001b[0m\u001b[0mestimator\u001b[0m\u001b[0;34m,\u001b[0m \u001b[0mX\u001b[0m\u001b[0;34m,\u001b[0m \u001b[0my\u001b[0m\u001b[0;34m,\u001b[0m \u001b[0mtrain\u001b[0m\u001b[0;34m)\u001b[0m\u001b[0;34m\u001b[0m\u001b[0;34m\u001b[0m\u001b[0m\n\u001b[0m\u001b[1;32m    509\u001b[0m     \u001b[0mX_test\u001b[0m\u001b[0;34m,\u001b[0m \u001b[0my_test\u001b[0m \u001b[0;34m=\u001b[0m \u001b[0m_safe_split\u001b[0m\u001b[0;34m(\u001b[0m\u001b[0mestimator\u001b[0m\u001b[0;34m,\u001b[0m \u001b[0mX\u001b[0m\u001b[0;34m,\u001b[0m \u001b[0my\u001b[0m\u001b[0;34m,\u001b[0m \u001b[0mtest\u001b[0m\u001b[0;34m,\u001b[0m \u001b[0mtrain\u001b[0m\u001b[0;34m)\u001b[0m\u001b[0;34m\u001b[0m\u001b[0;34m\u001b[0m\u001b[0m\n\u001b[1;32m    510\u001b[0m \u001b[0;34m\u001b[0m\u001b[0m\n",
            "\u001b[0;32m/usr/local/lib/python3.7/dist-packages/sklearn/utils/metaestimators.py\u001b[0m in \u001b[0;36m_safe_split\u001b[0;34m(estimator, X, y, indices, train_indices)\u001b[0m\n\u001b[1;32m    199\u001b[0m             \u001b[0mX_subset\u001b[0m \u001b[0;34m=\u001b[0m \u001b[0mX\u001b[0m\u001b[0;34m[\u001b[0m\u001b[0mnp\u001b[0m\u001b[0;34m.\u001b[0m\u001b[0mix_\u001b[0m\u001b[0;34m(\u001b[0m\u001b[0mindices\u001b[0m\u001b[0;34m,\u001b[0m \u001b[0mtrain_indices\u001b[0m\u001b[0;34m)\u001b[0m\u001b[0;34m]\u001b[0m\u001b[0;34m\u001b[0m\u001b[0;34m\u001b[0m\u001b[0m\n\u001b[1;32m    200\u001b[0m     \u001b[0;32melse\u001b[0m\u001b[0;34m:\u001b[0m\u001b[0;34m\u001b[0m\u001b[0;34m\u001b[0m\u001b[0m\n\u001b[0;32m--> 201\u001b[0;31m         \u001b[0mX_subset\u001b[0m \u001b[0;34m=\u001b[0m \u001b[0m_safe_indexing\u001b[0m\u001b[0;34m(\u001b[0m\u001b[0mX\u001b[0m\u001b[0;34m,\u001b[0m \u001b[0mindices\u001b[0m\u001b[0;34m)\u001b[0m\u001b[0;34m\u001b[0m\u001b[0;34m\u001b[0m\u001b[0m\n\u001b[0m\u001b[1;32m    202\u001b[0m \u001b[0;34m\u001b[0m\u001b[0m\n\u001b[1;32m    203\u001b[0m     \u001b[0;32mif\u001b[0m \u001b[0my\u001b[0m \u001b[0;32mis\u001b[0m \u001b[0;32mnot\u001b[0m \u001b[0;32mNone\u001b[0m\u001b[0;34m:\u001b[0m\u001b[0;34m\u001b[0m\u001b[0;34m\u001b[0m\u001b[0m\n",
            "\u001b[0;32m/usr/local/lib/python3.7/dist-packages/sklearn/utils/__init__.py\u001b[0m in \u001b[0;36m_safe_indexing\u001b[0;34m(X, indices, axis)\u001b[0m\n\u001b[1;32m    411\u001b[0m         \u001b[0;32mreturn\u001b[0m \u001b[0m_pandas_indexing\u001b[0m\u001b[0;34m(\u001b[0m\u001b[0mX\u001b[0m\u001b[0;34m,\u001b[0m \u001b[0mindices\u001b[0m\u001b[0;34m,\u001b[0m \u001b[0mindices_dtype\u001b[0m\u001b[0;34m,\u001b[0m \u001b[0maxis\u001b[0m\u001b[0;34m=\u001b[0m\u001b[0maxis\u001b[0m\u001b[0;34m)\u001b[0m\u001b[0;34m\u001b[0m\u001b[0;34m\u001b[0m\u001b[0m\n\u001b[1;32m    412\u001b[0m     \u001b[0;32melif\u001b[0m \u001b[0mhasattr\u001b[0m\u001b[0;34m(\u001b[0m\u001b[0mX\u001b[0m\u001b[0;34m,\u001b[0m \u001b[0;34m\"shape\"\u001b[0m\u001b[0;34m)\u001b[0m\u001b[0;34m:\u001b[0m\u001b[0;34m\u001b[0m\u001b[0;34m\u001b[0m\u001b[0m\n\u001b[0;32m--> 413\u001b[0;31m         \u001b[0;32mreturn\u001b[0m \u001b[0m_array_indexing\u001b[0m\u001b[0;34m(\u001b[0m\u001b[0mX\u001b[0m\u001b[0;34m,\u001b[0m \u001b[0mindices\u001b[0m\u001b[0;34m,\u001b[0m \u001b[0mindices_dtype\u001b[0m\u001b[0;34m,\u001b[0m \u001b[0maxis\u001b[0m\u001b[0;34m=\u001b[0m\u001b[0maxis\u001b[0m\u001b[0;34m)\u001b[0m\u001b[0;34m\u001b[0m\u001b[0;34m\u001b[0m\u001b[0m\n\u001b[0m\u001b[1;32m    414\u001b[0m     \u001b[0;32melse\u001b[0m\u001b[0;34m:\u001b[0m\u001b[0;34m\u001b[0m\u001b[0;34m\u001b[0m\u001b[0m\n\u001b[1;32m    415\u001b[0m         \u001b[0;32mreturn\u001b[0m \u001b[0m_list_indexing\u001b[0m\u001b[0;34m(\u001b[0m\u001b[0mX\u001b[0m\u001b[0;34m,\u001b[0m \u001b[0mindices\u001b[0m\u001b[0;34m,\u001b[0m \u001b[0mindices_dtype\u001b[0m\u001b[0;34m)\u001b[0m\u001b[0;34m\u001b[0m\u001b[0;34m\u001b[0m\u001b[0m\n",
            "\u001b[0;32m/usr/local/lib/python3.7/dist-packages/sklearn/utils/__init__.py\u001b[0m in \u001b[0;36m_array_indexing\u001b[0;34m(array, key, key_dtype, axis)\u001b[0m\n\u001b[1;32m    197\u001b[0m     \u001b[0;32mif\u001b[0m \u001b[0misinstance\u001b[0m\u001b[0;34m(\u001b[0m\u001b[0mkey\u001b[0m\u001b[0;34m,\u001b[0m \u001b[0mtuple\u001b[0m\u001b[0;34m)\u001b[0m\u001b[0;34m:\u001b[0m\u001b[0;34m\u001b[0m\u001b[0;34m\u001b[0m\u001b[0m\n\u001b[1;32m    198\u001b[0m         \u001b[0mkey\u001b[0m \u001b[0;34m=\u001b[0m \u001b[0mlist\u001b[0m\u001b[0;34m(\u001b[0m\u001b[0mkey\u001b[0m\u001b[0;34m)\u001b[0m\u001b[0;34m\u001b[0m\u001b[0;34m\u001b[0m\u001b[0m\n\u001b[0;32m--> 199\u001b[0;31m     \u001b[0;32mreturn\u001b[0m \u001b[0marray\u001b[0m\u001b[0;34m[\u001b[0m\u001b[0mkey\u001b[0m\u001b[0;34m]\u001b[0m \u001b[0;32mif\u001b[0m \u001b[0maxis\u001b[0m \u001b[0;34m==\u001b[0m \u001b[0;36m0\u001b[0m \u001b[0;32melse\u001b[0m \u001b[0marray\u001b[0m\u001b[0;34m[\u001b[0m\u001b[0;34m:\u001b[0m\u001b[0;34m,\u001b[0m \u001b[0mkey\u001b[0m\u001b[0;34m]\u001b[0m\u001b[0;34m\u001b[0m\u001b[0;34m\u001b[0m\u001b[0m\n\u001b[0m\u001b[1;32m    200\u001b[0m \u001b[0;34m\u001b[0m\u001b[0m\n\u001b[1;32m    201\u001b[0m \u001b[0;34m\u001b[0m\u001b[0m\n",
            "\u001b[0;31mKeyboardInterrupt\u001b[0m: "
          ]
        }
      ]
    },
    {
      "cell_type": "code",
      "metadata": {
        "id": "7ebb054d",
        "colab": {
          "base_uri": "https://localhost:8080/"
        },
        "outputId": "3edeb526-a975-4275-c216-046916292626"
      },
      "source": [
        "#model_17_cw = LogisticRegression(random_state =0,solver=\"lbfgs\",penalty=\"none\" ,max_iter= 10000, class_weight=\"balanced\")\n",
        "model_17_cw = LogisticRegression(random_state =0,C=0.01,solver=\"liblinear\", max_iter= 10000, class_weight=\"balanced\")\n",
        "model_17_cw.fit(train_X_s,train_Y_s)\n",
        "quarantiles(model=model_17_cw, data_orig= data_var_qualitatives_temp,\n",
        "            affichage=True, save=False, path = \"C:/Users/Christian/Desktop/avec_dons_encodage_dummies_logistic_regression.xlsx\")"
      ],
      "id": "7ebb054d",
      "execution_count": null,
      "outputs": [
        {
          "output_type": "stream",
          "text": [
            "0.738044    326\n",
            "0.806030    235\n",
            "0.833267    223\n",
            "0.659192    220\n",
            "0.670961    215\n",
            "           ... \n",
            "0.367871      1\n",
            "0.328928      1\n",
            "0.378777      1\n",
            "0.604477      1\n",
            "0.679060      1\n",
            "Name: PROBA, Length: 925208, dtype: int64\n",
            "Top_mon            1      2  TOTAL\n",
            "TRANCHES                          \n",
            "(0.167, 0.292]   231  30273  30504\n",
            "(0.292, 0.312]   274  30224  30498\n",
            "(0.312, 0.326]   273  30225  30498\n",
            "(0.326, 0.338]   298  30203  30501\n",
            "(0.338, 0.348]   318  30181  30499\n",
            "(0.348, 0.358]   338  30162  30500\n",
            "(0.358, 0.368]   376  30124  30500\n",
            "(0.368, 0.377]   415  30085  30500\n",
            "(0.377, 0.386]   398  30102  30500\n",
            "(0.386, 0.394]   450  30051  30501\n",
            "(0.394, 0.403]   405  30094  30499\n",
            "(0.403, 0.411]   507  29993  30500\n",
            "(0.411, 0.42]    472  30030  30502\n",
            "(0.42, 0.428]    493  30005  30498\n",
            "(0.428, 0.437]   530  29970  30500\n",
            "(0.437, 0.445]   572  29929  30501\n",
            "(0.445, 0.453]   593  29907  30500\n",
            "(0.453, 0.461]   603  29896  30499\n",
            "(0.461, 0.469]   599  29902  30501\n",
            "(0.469, 0.477]   629  29870  30499\n",
            "(0.477, 0.485]   583  29917  30500\n",
            "(0.485, 0.494]   608  29891  30499\n",
            "(0.494, 0.502]   661  29839  30500\n",
            "(0.502, 0.51]    685  29815  30500\n",
            "(0.51, 0.518]    604  29896  30500\n",
            "(0.518, 0.527]   625  29876  30501\n",
            "(0.527, 0.536]   635  29864  30499\n",
            "(0.536, 0.545]   662  29838  30500\n",
            "(0.545, 0.555]   699  29801  30500\n",
            "(0.555, 0.566]   676  29824  30500\n",
            "(0.566, 0.577]   697  29803  30500\n",
            "(0.577, 0.59]    655  29845  30500\n",
            "(0.59, 0.605]    700  29801  30501\n",
            "(0.605, 0.622]   692  29807  30499\n",
            "(0.622, 0.642]   734  29766  30500\n",
            "(0.642, 0.664]   739  29762  30501\n",
            "(0.664, 0.691]   815  29684  30499\n",
            "(0.691, 0.725]   892  29608  30500\n",
            "(0.725, 0.77]   1032  29470  30502\n",
            "(0.77, 0.932]   1288  29210  30498\n"
          ],
          "name": "stdout"
        }
      ]
    },
    {
      "cell_type": "code",
      "metadata": {
        "id": "367ea9ec"
      },
      "source": [
        "##########################################\n",
        "# SANS VARIABLES DONS ET ENCODAGE DUMMIES\n",
        "#########################################\n"
      ],
      "id": "367ea9ec",
      "execution_count": null,
      "outputs": []
    },
    {
      "cell_type": "code",
      "metadata": {
        "id": "4eea29b1",
        "colab": {
          "base_uri": "https://localhost:8080/"
        },
        "outputId": "27ade011-377f-4448-bcd4-d80384001ab7"
      },
      "source": [
        "# test predict individus sans classe\n",
        "data = data_orig.copy()\n",
        "\n",
        "# on élimine les variables dons\n",
        "data=data.drop([\"GeoFaz_cl\", \"ImmoFaz_Scl\", \"ImmoFaz_cl\", \"Prenom_Phase_cl_H\", \"Prenom_Phase_cl_F\",\n",
        "                \"Onoma-Phase_Scl\", \"Onoma-Phase_CL\"],axis=1)\n",
        "\n",
        "# encodage Onehot sur toutes les données (on évite ainsi les erreurs futures)\n",
        "nb_var = data.shape[1] - 1\n",
        "data_1_22 = pd.get_dummies(data.iloc[:,1:(data.shape[1]-1)], columns=data.columns[1:(data.shape[1]-1)] )\n",
        "data_var_qualitatives_temp =  pd.concat([data[\"IDENT\"], data_1_22, data[\"Top_mon\"]], axis=1)\n",
        "data = data_var_qualitatives_temp\n",
        "#encodage = OneHotEncoder()\n",
        "#encodage.fit(data_processing(data.iloc[:,1:nb_var]))\n",
        "\n",
        "# élimination des individus n'ayant pas de valeur pour la varialbe IFI+\n",
        "\"\"\"IMPORTANT\"\"\"\n",
        "data_sans_nan = data[(data.isnull()).sum(axis=1) == 0]\n",
        "\n",
        "#conversion du type de variable\n",
        "for i in range(1,data_sans_nan.shape[1]):\n",
        "    data_sans_nan.iloc[:,i]=data_sans_nan.iloc[:,i].astype(int)\n",
        "\n",
        "# base de données avec des variables corrélées et avec encodage OneHot\n",
        "data =data_sans_nan\n",
        "\n",
        "nb_var = data.shape[1] - 1\n",
        "train_set, test_set = train_test_split(data, test_size = 0.2, random_state=0 )\n",
        "\n",
        "train_X_s = (train_set.iloc[:,1:nb_var]).to_numpy()\n",
        "train_Y_s = np.asanyarray(train_set.iloc[:,nb_var])\n",
        "\n",
        "test_X_s = (test_set.iloc[:,1:nb_var]).to_numpy()\n",
        "test_Y_s = np.asanyarray(test_set.iloc[:,nb_var])\n"
      ],
      "id": "4eea29b1",
      "execution_count": null,
      "outputs": [
        {
          "output_type": "stream",
          "text": [
            "/usr/local/lib/python3.7/dist-packages/pandas/core/indexing.py:1743: SettingWithCopyWarning: \n",
            "A value is trying to be set on a copy of a slice from a DataFrame.\n",
            "Try using .loc[row_indexer,col_indexer] = value instead\n",
            "\n",
            "See the caveats in the documentation: https://pandas.pydata.org/pandas-docs/stable/user_guide/indexing.html#returning-a-view-versus-a-copy\n",
            "  isetter(ilocs[0], value)\n"
          ],
          "name": "stderr"
        }
      ]
    },
    {
      "cell_type": "code",
      "metadata": {
        "id": "1bfe404f",
        "colab": {
          "base_uri": "https://localhost:8080/"
        },
        "outputId": "3508acae-ffc5-45a5-e68d-c8e0a2cd20a3"
      },
      "source": [
        "model_reg_logistic = LogisticRegression(random_state =0, max_iter= 10000, class_weight=\"balanced\" )\n",
        "\n",
        "param = {'C':[0.01,0.1,1], 'solver': ['liblinear','newton-cg', 'lbfgs']} #'penalty':['l2', 'none']\n",
        "\n",
        "grid_reg_logistic = GridSearchCV(model_reg_logistic, param_grid = param, cv=5, scoring ='recall', n_jobs = 2 )\n",
        "resultat_reg_logistic = grid_reg_logistic.fit(train_X_s, train_Y_s)\n",
        "print(resultat_reg_logistic.best_params_)\n",
        "\n",
        "param = {'solver': ['newton_cg','lbfgs'], 'penalty':['none']} #'penalty':['l2', 'none']\n",
        "\n",
        "grid_reg_logistic = GridSearchCV(model_reg_logistic, param_grid = param, cv=5, scoring ='recall', n_jobs=2 )\n",
        "resultat_reg_logistic = grid_reg_logistic.fit(train_X_s, train_Y_s)\n",
        "resultat_reg_logistic.best_params_"
      ],
      "id": "1bfe404f",
      "execution_count": null,
      "outputs": [
        {
          "output_type": "stream",
          "text": [
            "/usr/local/lib/python3.7/dist-packages/joblib/externals/loky/process_executor.py:691: UserWarning: A worker stopped while some jobs were given to the executor. This can be caused by a too short worker timeout or by a memory leak.\n",
            "  \"timeout or by a memory leak.\", UserWarning\n"
          ],
          "name": "stderr"
        },
        {
          "output_type": "stream",
          "text": [
            "{'C': 0.01, 'solver': 'newton-cg'}\n"
          ],
          "name": "stdout"
        },
        {
          "output_type": "execute_result",
          "data": {
            "text/plain": [
              "{'penalty': 'none', 'solver': 'lbfgs'}"
            ]
          },
          "metadata": {
            "tags": []
          },
          "execution_count": 60
        }
      ]
    },
    {
      "cell_type": "code",
      "metadata": {
        "id": "4883d96d",
        "colab": {
          "base_uri": "https://localhost:8080/",
          "height": 771
        },
        "outputId": "10529858-1007-444b-8fed-bcd4a9932c02"
      },
      "source": [
        "#model_17_cw = LogisticRegression(random_state =0,solver=\"lbfgs\",penalty=\"none\" ,max_iter= 10000, class_weight=\"balanced\")\n",
        "model_17_cw = LogisticRegression(random_state =0,C=0.01,solver=\"newton-cg\", max_iter= 10000, class_weight=\"balanced\")\n",
        "\n",
        "evaluation(model_17_cw, train_X_s, train_Y_s, test_X_s, test_Y_s, scoring=\"recall\" )"
      ],
      "id": "4883d96d",
      "execution_count": null,
      "outputs": [
        {
          "output_type": "stream",
          "text": [
            "test set : \n",
            "[[ 2545  2134]\n",
            " [ 7548 13196]]\n",
            "              precision    recall  f1-score   support\n",
            "\n",
            "           1       0.25      0.54      0.34      4679\n",
            "           2       0.86      0.64      0.73     20744\n",
            "\n",
            "    accuracy                           0.62     25423\n",
            "   macro avg       0.56      0.59      0.54     25423\n",
            "weighted avg       0.75      0.62      0.66     25423\n",
            "\n",
            "train set : \n",
            "[[10420  8357]\n",
            " [29252 53663]]\n",
            "              precision    recall  f1-score   support\n",
            "\n",
            "           1       0.26      0.55      0.36     18777\n",
            "           2       0.87      0.65      0.74     82915\n",
            "\n",
            "    accuracy                           0.63    101692\n",
            "   macro avg       0.56      0.60      0.55    101692\n",
            "weighted avg       0.75      0.63      0.67    101692\n",
            "\n"
          ],
          "name": "stdout"
        },
        {
          "output_type": "error",
          "ename": "KeyboardInterrupt",
          "evalue": "ignored",
          "traceback": [
            "\u001b[0;31m---------------------------------------------------------------------------\u001b[0m",
            "\u001b[0;31mKeyboardInterrupt\u001b[0m                         Traceback (most recent call last)",
            "\u001b[0;32m<ipython-input-61-ec999aed9772>\u001b[0m in \u001b[0;36m<module>\u001b[0;34m()\u001b[0m\n\u001b[1;32m      2\u001b[0m \u001b[0mmodel_17_cw\u001b[0m \u001b[0;34m=\u001b[0m \u001b[0mLogisticRegression\u001b[0m\u001b[0;34m(\u001b[0m\u001b[0mrandom_state\u001b[0m \u001b[0;34m=\u001b[0m\u001b[0;36m0\u001b[0m\u001b[0;34m,\u001b[0m\u001b[0mC\u001b[0m\u001b[0;34m=\u001b[0m\u001b[0;36m0.01\u001b[0m\u001b[0;34m,\u001b[0m\u001b[0msolver\u001b[0m\u001b[0;34m=\u001b[0m\u001b[0;34m\"newton-cg\"\u001b[0m\u001b[0;34m,\u001b[0m \u001b[0mmax_iter\u001b[0m\u001b[0;34m=\u001b[0m \u001b[0;36m10000\u001b[0m\u001b[0;34m,\u001b[0m \u001b[0mclass_weight\u001b[0m\u001b[0;34m=\u001b[0m\u001b[0;34m\"balanced\"\u001b[0m\u001b[0;34m)\u001b[0m\u001b[0;34m\u001b[0m\u001b[0;34m\u001b[0m\u001b[0m\n\u001b[1;32m      3\u001b[0m \u001b[0;34m\u001b[0m\u001b[0m\n\u001b[0;32m----> 4\u001b[0;31m \u001b[0mevaluation\u001b[0m\u001b[0;34m(\u001b[0m\u001b[0mmodel_17_cw\u001b[0m\u001b[0;34m,\u001b[0m \u001b[0mtrain_X_s\u001b[0m\u001b[0;34m,\u001b[0m \u001b[0mtrain_Y_s\u001b[0m\u001b[0;34m,\u001b[0m \u001b[0mtest_X_s\u001b[0m\u001b[0;34m,\u001b[0m \u001b[0mtest_Y_s\u001b[0m\u001b[0;34m,\u001b[0m \u001b[0mscoring\u001b[0m\u001b[0;34m=\u001b[0m\u001b[0;34m\"recall\"\u001b[0m \u001b[0;34m)\u001b[0m\u001b[0;34m\u001b[0m\u001b[0;34m\u001b[0m\u001b[0m\n\u001b[0m",
            "\u001b[0;32m<ipython-input-50-aabac38f863c>\u001b[0m in \u001b[0;36mevaluation\u001b[0;34m(model, X_train, y_train, X_test, y_test, scoring)\u001b[0m\n\u001b[1;32m     12\u001b[0m     \u001b[0mprint\u001b[0m\u001b[0;34m(\u001b[0m\u001b[0mclassification_report\u001b[0m\u001b[0;34m(\u001b[0m\u001b[0my_train\u001b[0m\u001b[0;34m,\u001b[0m \u001b[0mmodel\u001b[0m\u001b[0;34m.\u001b[0m\u001b[0mpredict\u001b[0m\u001b[0;34m(\u001b[0m\u001b[0mX_train\u001b[0m\u001b[0;34m)\u001b[0m \u001b[0;34m)\u001b[0m\u001b[0;34m)\u001b[0m\u001b[0;34m\u001b[0m\u001b[0;34m\u001b[0m\u001b[0m\n\u001b[1;32m     13\u001b[0m \u001b[0;34m\u001b[0m\u001b[0m\n\u001b[0;32m---> 14\u001b[0;31m     \u001b[0mN\u001b[0m\u001b[0;34m,\u001b[0m \u001b[0mtrain_score\u001b[0m\u001b[0;34m,\u001b[0m \u001b[0mval_score\u001b[0m \u001b[0;34m=\u001b[0m \u001b[0mlearning_curve\u001b[0m\u001b[0;34m(\u001b[0m\u001b[0mmodel\u001b[0m\u001b[0;34m,\u001b[0m \u001b[0mX_train\u001b[0m\u001b[0;34m,\u001b[0m \u001b[0my_train\u001b[0m\u001b[0;34m,\u001b[0m \u001b[0mcv\u001b[0m \u001b[0;34m=\u001b[0m \u001b[0;36m4\u001b[0m\u001b[0;34m,\u001b[0m\u001b[0mshuffle\u001b[0m\u001b[0;34m=\u001b[0m\u001b[0;32mTrue\u001b[0m\u001b[0;34m,\u001b[0m \u001b[0mscoring\u001b[0m \u001b[0;34m=\u001b[0m \u001b[0mscoring\u001b[0m\u001b[0;34m,\u001b[0m \u001b[0mtrain_sizes\u001b[0m \u001b[0;34m=\u001b[0m \u001b[0mnp\u001b[0m\u001b[0;34m.\u001b[0m\u001b[0mlinspace\u001b[0m\u001b[0;34m(\u001b[0m\u001b[0;36m0.1\u001b[0m\u001b[0;34m,\u001b[0m \u001b[0;36m1\u001b[0m\u001b[0;34m,\u001b[0m \u001b[0;36m6\u001b[0m\u001b[0;34m)\u001b[0m \u001b[0;34m)\u001b[0m\u001b[0;34m\u001b[0m\u001b[0;34m\u001b[0m\u001b[0m\n\u001b[0m\u001b[1;32m     15\u001b[0m     \u001b[0mprint\u001b[0m\u001b[0;34m(\u001b[0m\u001b[0mN\u001b[0m\u001b[0;34m)\u001b[0m\u001b[0;34m\u001b[0m\u001b[0;34m\u001b[0m\u001b[0m\n\u001b[1;32m     16\u001b[0m     \u001b[0mprint\u001b[0m\u001b[0;34m(\u001b[0m\u001b[0mtrain_score\u001b[0m\u001b[0;34m.\u001b[0m\u001b[0mmean\u001b[0m\u001b[0;34m(\u001b[0m\u001b[0maxis\u001b[0m\u001b[0;34m=\u001b[0m\u001b[0;36m1\u001b[0m\u001b[0;34m)\u001b[0m\u001b[0;34m)\u001b[0m\u001b[0;34m\u001b[0m\u001b[0;34m\u001b[0m\u001b[0m\n",
            "\u001b[0;32m/usr/local/lib/python3.7/dist-packages/sklearn/model_selection/_validation.py\u001b[0m in \u001b[0;36mlearning_curve\u001b[0;34m(estimator, X, y, groups, train_sizes, cv, scoring, exploit_incremental_learning, n_jobs, pre_dispatch, verbose, shuffle, random_state, error_score, return_times)\u001b[0m\n\u001b[1;32m   1254\u001b[0m             \u001b[0mparameters\u001b[0m\u001b[0;34m=\u001b[0m\u001b[0;32mNone\u001b[0m\u001b[0;34m,\u001b[0m \u001b[0mfit_params\u001b[0m\u001b[0;34m=\u001b[0m\u001b[0;32mNone\u001b[0m\u001b[0;34m,\u001b[0m \u001b[0mreturn_train_score\u001b[0m\u001b[0;34m=\u001b[0m\u001b[0;32mTrue\u001b[0m\u001b[0;34m,\u001b[0m\u001b[0;34m\u001b[0m\u001b[0;34m\u001b[0m\u001b[0m\n\u001b[1;32m   1255\u001b[0m             error_score=error_score, return_times=return_times)\n\u001b[0;32m-> 1256\u001b[0;31m             for train, test in train_test_proportions)\n\u001b[0m\u001b[1;32m   1257\u001b[0m         \u001b[0mout\u001b[0m \u001b[0;34m=\u001b[0m \u001b[0mnp\u001b[0m\u001b[0;34m.\u001b[0m\u001b[0marray\u001b[0m\u001b[0;34m(\u001b[0m\u001b[0mout\u001b[0m\u001b[0;34m)\u001b[0m\u001b[0;34m\u001b[0m\u001b[0;34m\u001b[0m\u001b[0m\n\u001b[1;32m   1258\u001b[0m         \u001b[0mn_cv_folds\u001b[0m \u001b[0;34m=\u001b[0m \u001b[0mout\u001b[0m\u001b[0;34m.\u001b[0m\u001b[0mshape\u001b[0m\u001b[0;34m[\u001b[0m\u001b[0;36m0\u001b[0m\u001b[0;34m]\u001b[0m \u001b[0;34m//\u001b[0m \u001b[0mn_unique_ticks\u001b[0m\u001b[0;34m\u001b[0m\u001b[0;34m\u001b[0m\u001b[0m\n",
            "\u001b[0;32m/usr/local/lib/python3.7/dist-packages/joblib/parallel.py\u001b[0m in \u001b[0;36m__call__\u001b[0;34m(self, iterable)\u001b[0m\n\u001b[1;32m   1042\u001b[0m                 \u001b[0mself\u001b[0m\u001b[0;34m.\u001b[0m\u001b[0m_iterating\u001b[0m \u001b[0;34m=\u001b[0m \u001b[0mself\u001b[0m\u001b[0;34m.\u001b[0m\u001b[0m_original_iterator\u001b[0m \u001b[0;32mis\u001b[0m \u001b[0;32mnot\u001b[0m \u001b[0;32mNone\u001b[0m\u001b[0;34m\u001b[0m\u001b[0;34m\u001b[0m\u001b[0m\n\u001b[1;32m   1043\u001b[0m \u001b[0;34m\u001b[0m\u001b[0m\n\u001b[0;32m-> 1044\u001b[0;31m             \u001b[0;32mwhile\u001b[0m \u001b[0mself\u001b[0m\u001b[0;34m.\u001b[0m\u001b[0mdispatch_one_batch\u001b[0m\u001b[0;34m(\u001b[0m\u001b[0miterator\u001b[0m\u001b[0;34m)\u001b[0m\u001b[0;34m:\u001b[0m\u001b[0;34m\u001b[0m\u001b[0;34m\u001b[0m\u001b[0m\n\u001b[0m\u001b[1;32m   1045\u001b[0m                 \u001b[0;32mpass\u001b[0m\u001b[0;34m\u001b[0m\u001b[0;34m\u001b[0m\u001b[0m\n\u001b[1;32m   1046\u001b[0m \u001b[0;34m\u001b[0m\u001b[0m\n",
            "\u001b[0;32m/usr/local/lib/python3.7/dist-packages/joblib/parallel.py\u001b[0m in \u001b[0;36mdispatch_one_batch\u001b[0;34m(self, iterator)\u001b[0m\n\u001b[1;32m    857\u001b[0m                 \u001b[0;32mreturn\u001b[0m \u001b[0;32mFalse\u001b[0m\u001b[0;34m\u001b[0m\u001b[0;34m\u001b[0m\u001b[0m\n\u001b[1;32m    858\u001b[0m             \u001b[0;32melse\u001b[0m\u001b[0;34m:\u001b[0m\u001b[0;34m\u001b[0m\u001b[0;34m\u001b[0m\u001b[0m\n\u001b[0;32m--> 859\u001b[0;31m                 \u001b[0mself\u001b[0m\u001b[0;34m.\u001b[0m\u001b[0m_dispatch\u001b[0m\u001b[0;34m(\u001b[0m\u001b[0mtasks\u001b[0m\u001b[0;34m)\u001b[0m\u001b[0;34m\u001b[0m\u001b[0;34m\u001b[0m\u001b[0m\n\u001b[0m\u001b[1;32m    860\u001b[0m                 \u001b[0;32mreturn\u001b[0m \u001b[0;32mTrue\u001b[0m\u001b[0;34m\u001b[0m\u001b[0;34m\u001b[0m\u001b[0m\n\u001b[1;32m    861\u001b[0m \u001b[0;34m\u001b[0m\u001b[0m\n",
            "\u001b[0;32m/usr/local/lib/python3.7/dist-packages/joblib/parallel.py\u001b[0m in \u001b[0;36m_dispatch\u001b[0;34m(self, batch)\u001b[0m\n\u001b[1;32m    775\u001b[0m         \u001b[0;32mwith\u001b[0m \u001b[0mself\u001b[0m\u001b[0;34m.\u001b[0m\u001b[0m_lock\u001b[0m\u001b[0;34m:\u001b[0m\u001b[0;34m\u001b[0m\u001b[0;34m\u001b[0m\u001b[0m\n\u001b[1;32m    776\u001b[0m             \u001b[0mjob_idx\u001b[0m \u001b[0;34m=\u001b[0m \u001b[0mlen\u001b[0m\u001b[0;34m(\u001b[0m\u001b[0mself\u001b[0m\u001b[0;34m.\u001b[0m\u001b[0m_jobs\u001b[0m\u001b[0;34m)\u001b[0m\u001b[0;34m\u001b[0m\u001b[0;34m\u001b[0m\u001b[0m\n\u001b[0;32m--> 777\u001b[0;31m             \u001b[0mjob\u001b[0m \u001b[0;34m=\u001b[0m \u001b[0mself\u001b[0m\u001b[0;34m.\u001b[0m\u001b[0m_backend\u001b[0m\u001b[0;34m.\u001b[0m\u001b[0mapply_async\u001b[0m\u001b[0;34m(\u001b[0m\u001b[0mbatch\u001b[0m\u001b[0;34m,\u001b[0m \u001b[0mcallback\u001b[0m\u001b[0;34m=\u001b[0m\u001b[0mcb\u001b[0m\u001b[0;34m)\u001b[0m\u001b[0;34m\u001b[0m\u001b[0;34m\u001b[0m\u001b[0m\n\u001b[0m\u001b[1;32m    778\u001b[0m             \u001b[0;31m# A job can complete so quickly than its callback is\u001b[0m\u001b[0;34m\u001b[0m\u001b[0;34m\u001b[0m\u001b[0;34m\u001b[0m\u001b[0m\n\u001b[1;32m    779\u001b[0m             \u001b[0;31m# called before we get here, causing self._jobs to\u001b[0m\u001b[0;34m\u001b[0m\u001b[0;34m\u001b[0m\u001b[0;34m\u001b[0m\u001b[0m\n",
            "\u001b[0;32m/usr/local/lib/python3.7/dist-packages/joblib/_parallel_backends.py\u001b[0m in \u001b[0;36mapply_async\u001b[0;34m(self, func, callback)\u001b[0m\n\u001b[1;32m    206\u001b[0m     \u001b[0;32mdef\u001b[0m \u001b[0mapply_async\u001b[0m\u001b[0;34m(\u001b[0m\u001b[0mself\u001b[0m\u001b[0;34m,\u001b[0m \u001b[0mfunc\u001b[0m\u001b[0;34m,\u001b[0m \u001b[0mcallback\u001b[0m\u001b[0;34m=\u001b[0m\u001b[0;32mNone\u001b[0m\u001b[0;34m)\u001b[0m\u001b[0;34m:\u001b[0m\u001b[0;34m\u001b[0m\u001b[0;34m\u001b[0m\u001b[0m\n\u001b[1;32m    207\u001b[0m         \u001b[0;34m\"\"\"Schedule a func to be run\"\"\"\u001b[0m\u001b[0;34m\u001b[0m\u001b[0;34m\u001b[0m\u001b[0m\n\u001b[0;32m--> 208\u001b[0;31m         \u001b[0mresult\u001b[0m \u001b[0;34m=\u001b[0m \u001b[0mImmediateResult\u001b[0m\u001b[0;34m(\u001b[0m\u001b[0mfunc\u001b[0m\u001b[0;34m)\u001b[0m\u001b[0;34m\u001b[0m\u001b[0;34m\u001b[0m\u001b[0m\n\u001b[0m\u001b[1;32m    209\u001b[0m         \u001b[0;32mif\u001b[0m \u001b[0mcallback\u001b[0m\u001b[0;34m:\u001b[0m\u001b[0;34m\u001b[0m\u001b[0;34m\u001b[0m\u001b[0m\n\u001b[1;32m    210\u001b[0m             \u001b[0mcallback\u001b[0m\u001b[0;34m(\u001b[0m\u001b[0mresult\u001b[0m\u001b[0;34m)\u001b[0m\u001b[0;34m\u001b[0m\u001b[0;34m\u001b[0m\u001b[0m\n",
            "\u001b[0;32m/usr/local/lib/python3.7/dist-packages/joblib/_parallel_backends.py\u001b[0m in \u001b[0;36m__init__\u001b[0;34m(self, batch)\u001b[0m\n\u001b[1;32m    570\u001b[0m         \u001b[0;31m# Don't delay the application, to avoid keeping the input\u001b[0m\u001b[0;34m\u001b[0m\u001b[0;34m\u001b[0m\u001b[0;34m\u001b[0m\u001b[0m\n\u001b[1;32m    571\u001b[0m         \u001b[0;31m# arguments in memory\u001b[0m\u001b[0;34m\u001b[0m\u001b[0;34m\u001b[0m\u001b[0;34m\u001b[0m\u001b[0m\n\u001b[0;32m--> 572\u001b[0;31m         \u001b[0mself\u001b[0m\u001b[0;34m.\u001b[0m\u001b[0mresults\u001b[0m \u001b[0;34m=\u001b[0m \u001b[0mbatch\u001b[0m\u001b[0;34m(\u001b[0m\u001b[0;34m)\u001b[0m\u001b[0;34m\u001b[0m\u001b[0;34m\u001b[0m\u001b[0m\n\u001b[0m\u001b[1;32m    573\u001b[0m \u001b[0;34m\u001b[0m\u001b[0m\n\u001b[1;32m    574\u001b[0m     \u001b[0;32mdef\u001b[0m \u001b[0mget\u001b[0m\u001b[0;34m(\u001b[0m\u001b[0mself\u001b[0m\u001b[0;34m)\u001b[0m\u001b[0;34m:\u001b[0m\u001b[0;34m\u001b[0m\u001b[0;34m\u001b[0m\u001b[0m\n",
            "\u001b[0;32m/usr/local/lib/python3.7/dist-packages/joblib/parallel.py\u001b[0m in \u001b[0;36m__call__\u001b[0;34m(self)\u001b[0m\n\u001b[1;32m    261\u001b[0m         \u001b[0;32mwith\u001b[0m \u001b[0mparallel_backend\u001b[0m\u001b[0;34m(\u001b[0m\u001b[0mself\u001b[0m\u001b[0;34m.\u001b[0m\u001b[0m_backend\u001b[0m\u001b[0;34m,\u001b[0m \u001b[0mn_jobs\u001b[0m\u001b[0;34m=\u001b[0m\u001b[0mself\u001b[0m\u001b[0;34m.\u001b[0m\u001b[0m_n_jobs\u001b[0m\u001b[0;34m)\u001b[0m\u001b[0;34m:\u001b[0m\u001b[0;34m\u001b[0m\u001b[0;34m\u001b[0m\u001b[0m\n\u001b[1;32m    262\u001b[0m             return [func(*args, **kwargs)\n\u001b[0;32m--> 263\u001b[0;31m                     for func, args, kwargs in self.items]\n\u001b[0m\u001b[1;32m    264\u001b[0m \u001b[0;34m\u001b[0m\u001b[0m\n\u001b[1;32m    265\u001b[0m     \u001b[0;32mdef\u001b[0m \u001b[0m__reduce__\u001b[0m\u001b[0;34m(\u001b[0m\u001b[0mself\u001b[0m\u001b[0;34m)\u001b[0m\u001b[0;34m:\u001b[0m\u001b[0;34m\u001b[0m\u001b[0;34m\u001b[0m\u001b[0m\n",
            "\u001b[0;32m/usr/local/lib/python3.7/dist-packages/joblib/parallel.py\u001b[0m in \u001b[0;36m<listcomp>\u001b[0;34m(.0)\u001b[0m\n\u001b[1;32m    261\u001b[0m         \u001b[0;32mwith\u001b[0m \u001b[0mparallel_backend\u001b[0m\u001b[0;34m(\u001b[0m\u001b[0mself\u001b[0m\u001b[0;34m.\u001b[0m\u001b[0m_backend\u001b[0m\u001b[0;34m,\u001b[0m \u001b[0mn_jobs\u001b[0m\u001b[0;34m=\u001b[0m\u001b[0mself\u001b[0m\u001b[0;34m.\u001b[0m\u001b[0m_n_jobs\u001b[0m\u001b[0;34m)\u001b[0m\u001b[0;34m:\u001b[0m\u001b[0;34m\u001b[0m\u001b[0;34m\u001b[0m\u001b[0m\n\u001b[1;32m    262\u001b[0m             return [func(*args, **kwargs)\n\u001b[0;32m--> 263\u001b[0;31m                     for func, args, kwargs in self.items]\n\u001b[0m\u001b[1;32m    264\u001b[0m \u001b[0;34m\u001b[0m\u001b[0m\n\u001b[1;32m    265\u001b[0m     \u001b[0;32mdef\u001b[0m \u001b[0m__reduce__\u001b[0m\u001b[0;34m(\u001b[0m\u001b[0mself\u001b[0m\u001b[0;34m)\u001b[0m\u001b[0;34m:\u001b[0m\u001b[0;34m\u001b[0m\u001b[0;34m\u001b[0m\u001b[0m\n",
            "\u001b[0;32m/usr/local/lib/python3.7/dist-packages/sklearn/model_selection/_validation.py\u001b[0m in \u001b[0;36m_fit_and_score\u001b[0;34m(estimator, X, y, scorer, train, test, verbose, parameters, fit_params, return_train_score, return_parameters, return_n_test_samples, return_times, return_estimator, error_score)\u001b[0m\n\u001b[1;32m    513\u001b[0m             \u001b[0mestimator\u001b[0m\u001b[0;34m.\u001b[0m\u001b[0mfit\u001b[0m\u001b[0;34m(\u001b[0m\u001b[0mX_train\u001b[0m\u001b[0;34m,\u001b[0m \u001b[0;34m**\u001b[0m\u001b[0mfit_params\u001b[0m\u001b[0;34m)\u001b[0m\u001b[0;34m\u001b[0m\u001b[0;34m\u001b[0m\u001b[0m\n\u001b[1;32m    514\u001b[0m         \u001b[0;32melse\u001b[0m\u001b[0;34m:\u001b[0m\u001b[0;34m\u001b[0m\u001b[0;34m\u001b[0m\u001b[0m\n\u001b[0;32m--> 515\u001b[0;31m             \u001b[0mestimator\u001b[0m\u001b[0;34m.\u001b[0m\u001b[0mfit\u001b[0m\u001b[0;34m(\u001b[0m\u001b[0mX_train\u001b[0m\u001b[0;34m,\u001b[0m \u001b[0my_train\u001b[0m\u001b[0;34m,\u001b[0m \u001b[0;34m**\u001b[0m\u001b[0mfit_params\u001b[0m\u001b[0;34m)\u001b[0m\u001b[0;34m\u001b[0m\u001b[0;34m\u001b[0m\u001b[0m\n\u001b[0m\u001b[1;32m    516\u001b[0m \u001b[0;34m\u001b[0m\u001b[0m\n\u001b[1;32m    517\u001b[0m     \u001b[0;32mexcept\u001b[0m \u001b[0mException\u001b[0m \u001b[0;32mas\u001b[0m \u001b[0me\u001b[0m\u001b[0;34m:\u001b[0m\u001b[0;34m\u001b[0m\u001b[0;34m\u001b[0m\u001b[0m\n",
            "\u001b[0;32m/usr/local/lib/python3.7/dist-packages/sklearn/linear_model/_logistic.py\u001b[0m in \u001b[0;36mfit\u001b[0;34m(self, X, y, sample_weight)\u001b[0m\n\u001b[1;32m   1599\u001b[0m                       \u001b[0mpenalty\u001b[0m\u001b[0;34m=\u001b[0m\u001b[0mpenalty\u001b[0m\u001b[0;34m,\u001b[0m \u001b[0mmax_squared_sum\u001b[0m\u001b[0;34m=\u001b[0m\u001b[0mmax_squared_sum\u001b[0m\u001b[0;34m,\u001b[0m\u001b[0;34m\u001b[0m\u001b[0;34m\u001b[0m\u001b[0m\n\u001b[1;32m   1600\u001b[0m                       sample_weight=sample_weight)\n\u001b[0;32m-> 1601\u001b[0;31m             for class_, warm_start_coef_ in zip(classes_, warm_start_coef))\n\u001b[0m\u001b[1;32m   1602\u001b[0m \u001b[0;34m\u001b[0m\u001b[0m\n\u001b[1;32m   1603\u001b[0m         \u001b[0mfold_coefs_\u001b[0m\u001b[0;34m,\u001b[0m \u001b[0m_\u001b[0m\u001b[0;34m,\u001b[0m \u001b[0mn_iter_\u001b[0m \u001b[0;34m=\u001b[0m \u001b[0mzip\u001b[0m\u001b[0;34m(\u001b[0m\u001b[0;34m*\u001b[0m\u001b[0mfold_coefs_\u001b[0m\u001b[0;34m)\u001b[0m\u001b[0;34m\u001b[0m\u001b[0;34m\u001b[0m\u001b[0m\n",
            "\u001b[0;32m/usr/local/lib/python3.7/dist-packages/joblib/parallel.py\u001b[0m in \u001b[0;36m__call__\u001b[0;34m(self, iterable)\u001b[0m\n\u001b[1;32m   1039\u001b[0m             \u001b[0;31m# remaining jobs.\u001b[0m\u001b[0;34m\u001b[0m\u001b[0;34m\u001b[0m\u001b[0;34m\u001b[0m\u001b[0m\n\u001b[1;32m   1040\u001b[0m             \u001b[0mself\u001b[0m\u001b[0;34m.\u001b[0m\u001b[0m_iterating\u001b[0m \u001b[0;34m=\u001b[0m \u001b[0;32mFalse\u001b[0m\u001b[0;34m\u001b[0m\u001b[0;34m\u001b[0m\u001b[0m\n\u001b[0;32m-> 1041\u001b[0;31m             \u001b[0;32mif\u001b[0m \u001b[0mself\u001b[0m\u001b[0;34m.\u001b[0m\u001b[0mdispatch_one_batch\u001b[0m\u001b[0;34m(\u001b[0m\u001b[0miterator\u001b[0m\u001b[0;34m)\u001b[0m\u001b[0;34m:\u001b[0m\u001b[0;34m\u001b[0m\u001b[0;34m\u001b[0m\u001b[0m\n\u001b[0m\u001b[1;32m   1042\u001b[0m                 \u001b[0mself\u001b[0m\u001b[0;34m.\u001b[0m\u001b[0m_iterating\u001b[0m \u001b[0;34m=\u001b[0m \u001b[0mself\u001b[0m\u001b[0;34m.\u001b[0m\u001b[0m_original_iterator\u001b[0m \u001b[0;32mis\u001b[0m \u001b[0;32mnot\u001b[0m \u001b[0;32mNone\u001b[0m\u001b[0;34m\u001b[0m\u001b[0;34m\u001b[0m\u001b[0m\n\u001b[1;32m   1043\u001b[0m \u001b[0;34m\u001b[0m\u001b[0m\n",
            "\u001b[0;32m/usr/local/lib/python3.7/dist-packages/joblib/parallel.py\u001b[0m in \u001b[0;36mdispatch_one_batch\u001b[0;34m(self, iterator)\u001b[0m\n\u001b[1;32m    857\u001b[0m                 \u001b[0;32mreturn\u001b[0m \u001b[0;32mFalse\u001b[0m\u001b[0;34m\u001b[0m\u001b[0;34m\u001b[0m\u001b[0m\n\u001b[1;32m    858\u001b[0m             \u001b[0;32melse\u001b[0m\u001b[0;34m:\u001b[0m\u001b[0;34m\u001b[0m\u001b[0;34m\u001b[0m\u001b[0m\n\u001b[0;32m--> 859\u001b[0;31m                 \u001b[0mself\u001b[0m\u001b[0;34m.\u001b[0m\u001b[0m_dispatch\u001b[0m\u001b[0;34m(\u001b[0m\u001b[0mtasks\u001b[0m\u001b[0;34m)\u001b[0m\u001b[0;34m\u001b[0m\u001b[0;34m\u001b[0m\u001b[0m\n\u001b[0m\u001b[1;32m    860\u001b[0m                 \u001b[0;32mreturn\u001b[0m \u001b[0;32mTrue\u001b[0m\u001b[0;34m\u001b[0m\u001b[0;34m\u001b[0m\u001b[0m\n\u001b[1;32m    861\u001b[0m \u001b[0;34m\u001b[0m\u001b[0m\n",
            "\u001b[0;32m/usr/local/lib/python3.7/dist-packages/joblib/parallel.py\u001b[0m in \u001b[0;36m_dispatch\u001b[0;34m(self, batch)\u001b[0m\n\u001b[1;32m    775\u001b[0m         \u001b[0;32mwith\u001b[0m \u001b[0mself\u001b[0m\u001b[0;34m.\u001b[0m\u001b[0m_lock\u001b[0m\u001b[0;34m:\u001b[0m\u001b[0;34m\u001b[0m\u001b[0;34m\u001b[0m\u001b[0m\n\u001b[1;32m    776\u001b[0m             \u001b[0mjob_idx\u001b[0m \u001b[0;34m=\u001b[0m \u001b[0mlen\u001b[0m\u001b[0;34m(\u001b[0m\u001b[0mself\u001b[0m\u001b[0;34m.\u001b[0m\u001b[0m_jobs\u001b[0m\u001b[0;34m)\u001b[0m\u001b[0;34m\u001b[0m\u001b[0;34m\u001b[0m\u001b[0m\n\u001b[0;32m--> 777\u001b[0;31m             \u001b[0mjob\u001b[0m \u001b[0;34m=\u001b[0m \u001b[0mself\u001b[0m\u001b[0;34m.\u001b[0m\u001b[0m_backend\u001b[0m\u001b[0;34m.\u001b[0m\u001b[0mapply_async\u001b[0m\u001b[0;34m(\u001b[0m\u001b[0mbatch\u001b[0m\u001b[0;34m,\u001b[0m \u001b[0mcallback\u001b[0m\u001b[0;34m=\u001b[0m\u001b[0mcb\u001b[0m\u001b[0;34m)\u001b[0m\u001b[0;34m\u001b[0m\u001b[0;34m\u001b[0m\u001b[0m\n\u001b[0m\u001b[1;32m    778\u001b[0m             \u001b[0;31m# A job can complete so quickly than its callback is\u001b[0m\u001b[0;34m\u001b[0m\u001b[0;34m\u001b[0m\u001b[0;34m\u001b[0m\u001b[0m\n\u001b[1;32m    779\u001b[0m             \u001b[0;31m# called before we get here, causing self._jobs to\u001b[0m\u001b[0;34m\u001b[0m\u001b[0;34m\u001b[0m\u001b[0;34m\u001b[0m\u001b[0m\n",
            "\u001b[0;32m/usr/local/lib/python3.7/dist-packages/joblib/_parallel_backends.py\u001b[0m in \u001b[0;36mapply_async\u001b[0;34m(self, func, callback)\u001b[0m\n\u001b[1;32m    206\u001b[0m     \u001b[0;32mdef\u001b[0m \u001b[0mapply_async\u001b[0m\u001b[0;34m(\u001b[0m\u001b[0mself\u001b[0m\u001b[0;34m,\u001b[0m \u001b[0mfunc\u001b[0m\u001b[0;34m,\u001b[0m \u001b[0mcallback\u001b[0m\u001b[0;34m=\u001b[0m\u001b[0;32mNone\u001b[0m\u001b[0;34m)\u001b[0m\u001b[0;34m:\u001b[0m\u001b[0;34m\u001b[0m\u001b[0;34m\u001b[0m\u001b[0m\n\u001b[1;32m    207\u001b[0m         \u001b[0;34m\"\"\"Schedule a func to be run\"\"\"\u001b[0m\u001b[0;34m\u001b[0m\u001b[0;34m\u001b[0m\u001b[0m\n\u001b[0;32m--> 208\u001b[0;31m         \u001b[0mresult\u001b[0m \u001b[0;34m=\u001b[0m \u001b[0mImmediateResult\u001b[0m\u001b[0;34m(\u001b[0m\u001b[0mfunc\u001b[0m\u001b[0;34m)\u001b[0m\u001b[0;34m\u001b[0m\u001b[0;34m\u001b[0m\u001b[0m\n\u001b[0m\u001b[1;32m    209\u001b[0m         \u001b[0;32mif\u001b[0m \u001b[0mcallback\u001b[0m\u001b[0;34m:\u001b[0m\u001b[0;34m\u001b[0m\u001b[0;34m\u001b[0m\u001b[0m\n\u001b[1;32m    210\u001b[0m             \u001b[0mcallback\u001b[0m\u001b[0;34m(\u001b[0m\u001b[0mresult\u001b[0m\u001b[0;34m)\u001b[0m\u001b[0;34m\u001b[0m\u001b[0;34m\u001b[0m\u001b[0m\n",
            "\u001b[0;32m/usr/local/lib/python3.7/dist-packages/joblib/_parallel_backends.py\u001b[0m in \u001b[0;36m__init__\u001b[0;34m(self, batch)\u001b[0m\n\u001b[1;32m    570\u001b[0m         \u001b[0;31m# Don't delay the application, to avoid keeping the input\u001b[0m\u001b[0;34m\u001b[0m\u001b[0;34m\u001b[0m\u001b[0;34m\u001b[0m\u001b[0m\n\u001b[1;32m    571\u001b[0m         \u001b[0;31m# arguments in memory\u001b[0m\u001b[0;34m\u001b[0m\u001b[0;34m\u001b[0m\u001b[0;34m\u001b[0m\u001b[0m\n\u001b[0;32m--> 572\u001b[0;31m         \u001b[0mself\u001b[0m\u001b[0;34m.\u001b[0m\u001b[0mresults\u001b[0m \u001b[0;34m=\u001b[0m \u001b[0mbatch\u001b[0m\u001b[0;34m(\u001b[0m\u001b[0;34m)\u001b[0m\u001b[0;34m\u001b[0m\u001b[0;34m\u001b[0m\u001b[0m\n\u001b[0m\u001b[1;32m    573\u001b[0m \u001b[0;34m\u001b[0m\u001b[0m\n\u001b[1;32m    574\u001b[0m     \u001b[0;32mdef\u001b[0m \u001b[0mget\u001b[0m\u001b[0;34m(\u001b[0m\u001b[0mself\u001b[0m\u001b[0;34m)\u001b[0m\u001b[0;34m:\u001b[0m\u001b[0;34m\u001b[0m\u001b[0;34m\u001b[0m\u001b[0m\n",
            "\u001b[0;32m/usr/local/lib/python3.7/dist-packages/joblib/parallel.py\u001b[0m in \u001b[0;36m__call__\u001b[0;34m(self)\u001b[0m\n\u001b[1;32m    261\u001b[0m         \u001b[0;32mwith\u001b[0m \u001b[0mparallel_backend\u001b[0m\u001b[0;34m(\u001b[0m\u001b[0mself\u001b[0m\u001b[0;34m.\u001b[0m\u001b[0m_backend\u001b[0m\u001b[0;34m,\u001b[0m \u001b[0mn_jobs\u001b[0m\u001b[0;34m=\u001b[0m\u001b[0mself\u001b[0m\u001b[0;34m.\u001b[0m\u001b[0m_n_jobs\u001b[0m\u001b[0;34m)\u001b[0m\u001b[0;34m:\u001b[0m\u001b[0;34m\u001b[0m\u001b[0;34m\u001b[0m\u001b[0m\n\u001b[1;32m    262\u001b[0m             return [func(*args, **kwargs)\n\u001b[0;32m--> 263\u001b[0;31m                     for func, args, kwargs in self.items]\n\u001b[0m\u001b[1;32m    264\u001b[0m \u001b[0;34m\u001b[0m\u001b[0m\n\u001b[1;32m    265\u001b[0m     \u001b[0;32mdef\u001b[0m \u001b[0m__reduce__\u001b[0m\u001b[0;34m(\u001b[0m\u001b[0mself\u001b[0m\u001b[0;34m)\u001b[0m\u001b[0;34m:\u001b[0m\u001b[0;34m\u001b[0m\u001b[0;34m\u001b[0m\u001b[0m\n",
            "\u001b[0;32m/usr/local/lib/python3.7/dist-packages/joblib/parallel.py\u001b[0m in \u001b[0;36m<listcomp>\u001b[0;34m(.0)\u001b[0m\n\u001b[1;32m    261\u001b[0m         \u001b[0;32mwith\u001b[0m \u001b[0mparallel_backend\u001b[0m\u001b[0;34m(\u001b[0m\u001b[0mself\u001b[0m\u001b[0;34m.\u001b[0m\u001b[0m_backend\u001b[0m\u001b[0;34m,\u001b[0m \u001b[0mn_jobs\u001b[0m\u001b[0;34m=\u001b[0m\u001b[0mself\u001b[0m\u001b[0;34m.\u001b[0m\u001b[0m_n_jobs\u001b[0m\u001b[0;34m)\u001b[0m\u001b[0;34m:\u001b[0m\u001b[0;34m\u001b[0m\u001b[0;34m\u001b[0m\u001b[0m\n\u001b[1;32m    262\u001b[0m             return [func(*args, **kwargs)\n\u001b[0;32m--> 263\u001b[0;31m                     for func, args, kwargs in self.items]\n\u001b[0m\u001b[1;32m    264\u001b[0m \u001b[0;34m\u001b[0m\u001b[0m\n\u001b[1;32m    265\u001b[0m     \u001b[0;32mdef\u001b[0m \u001b[0m__reduce__\u001b[0m\u001b[0;34m(\u001b[0m\u001b[0mself\u001b[0m\u001b[0;34m)\u001b[0m\u001b[0;34m:\u001b[0m\u001b[0;34m\u001b[0m\u001b[0;34m\u001b[0m\u001b[0m\n",
            "\u001b[0;32m/usr/local/lib/python3.7/dist-packages/sklearn/linear_model/_logistic.py\u001b[0m in \u001b[0;36m_logistic_regression_path\u001b[0;34m(X, y, pos_class, Cs, fit_intercept, max_iter, tol, verbose, solver, coef, class_weight, dual, penalty, intercept_scaling, multi_class, random_state, check_input, max_squared_sum, sample_weight, l1_ratio)\u001b[0m\n\u001b[1;32m    943\u001b[0m             \u001b[0margs\u001b[0m \u001b[0;34m=\u001b[0m \u001b[0;34m(\u001b[0m\u001b[0mX\u001b[0m\u001b[0;34m,\u001b[0m \u001b[0mtarget\u001b[0m\u001b[0;34m,\u001b[0m \u001b[0;36m1.\u001b[0m \u001b[0;34m/\u001b[0m \u001b[0mC\u001b[0m\u001b[0;34m,\u001b[0m \u001b[0msample_weight\u001b[0m\u001b[0;34m)\u001b[0m\u001b[0;34m\u001b[0m\u001b[0;34m\u001b[0m\u001b[0m\n\u001b[1;32m    944\u001b[0m             w0, n_iter_i = _newton_cg(hess, func, grad, w0, args=args,\n\u001b[0;32m--> 945\u001b[0;31m                                       maxiter=max_iter, tol=tol)\n\u001b[0m\u001b[1;32m    946\u001b[0m         \u001b[0;32melif\u001b[0m \u001b[0msolver\u001b[0m \u001b[0;34m==\u001b[0m \u001b[0;34m'liblinear'\u001b[0m\u001b[0;34m:\u001b[0m\u001b[0;34m\u001b[0m\u001b[0;34m\u001b[0m\u001b[0m\n\u001b[1;32m    947\u001b[0m             coef_, intercept_, n_iter_i, = _fit_liblinear(\n",
            "\u001b[0;32m/usr/local/lib/python3.7/dist-packages/sklearn/utils/optimize.py\u001b[0m in \u001b[0;36m_newton_cg\u001b[0;34m(grad_hess, func, grad, x0, args, tol, maxiter, maxinner, line_search, warn)\u001b[0m\n\u001b[1;32m    180\u001b[0m         \u001b[0;31m# Compute a search direction pk by applying the CG method to\u001b[0m\u001b[0;34m\u001b[0m\u001b[0;34m\u001b[0m\u001b[0;34m\u001b[0m\u001b[0m\n\u001b[1;32m    181\u001b[0m         \u001b[0;31m#  del2 f(xk) p = - fgrad f(xk) starting from 0.\u001b[0m\u001b[0;34m\u001b[0m\u001b[0;34m\u001b[0m\u001b[0;34m\u001b[0m\u001b[0m\n\u001b[0;32m--> 182\u001b[0;31m         \u001b[0mfgrad\u001b[0m\u001b[0;34m,\u001b[0m \u001b[0mfhess_p\u001b[0m \u001b[0;34m=\u001b[0m \u001b[0mgrad_hess\u001b[0m\u001b[0;34m(\u001b[0m\u001b[0mxk\u001b[0m\u001b[0;34m,\u001b[0m \u001b[0;34m*\u001b[0m\u001b[0margs\u001b[0m\u001b[0;34m)\u001b[0m\u001b[0;34m\u001b[0m\u001b[0;34m\u001b[0m\u001b[0m\n\u001b[0m\u001b[1;32m    183\u001b[0m \u001b[0;34m\u001b[0m\u001b[0m\n\u001b[1;32m    184\u001b[0m         \u001b[0mabsgrad\u001b[0m \u001b[0;34m=\u001b[0m \u001b[0mnp\u001b[0m\u001b[0;34m.\u001b[0m\u001b[0mabs\u001b[0m\u001b[0;34m(\u001b[0m\u001b[0mfgrad\u001b[0m\u001b[0;34m)\u001b[0m\u001b[0;34m\u001b[0m\u001b[0;34m\u001b[0m\u001b[0m\n",
            "\u001b[0;32m/usr/local/lib/python3.7/dist-packages/sklearn/linear_model/_logistic.py\u001b[0m in \u001b[0;36m_logistic_grad_hess\u001b[0;34m(w, X, y, alpha, sample_weight)\u001b[0m\n\u001b[1;32m    231\u001b[0m         \u001b[0;31m# Calculate the double derivative with respect to intercept\u001b[0m\u001b[0;34m\u001b[0m\u001b[0;34m\u001b[0m\u001b[0;34m\u001b[0m\u001b[0m\n\u001b[1;32m    232\u001b[0m         \u001b[0;31m# In the case of sparse matrices this returns a matrix object.\u001b[0m\u001b[0;34m\u001b[0m\u001b[0;34m\u001b[0m\u001b[0;34m\u001b[0m\u001b[0m\n\u001b[0;32m--> 233\u001b[0;31m         \u001b[0mdd_intercept\u001b[0m \u001b[0;34m=\u001b[0m \u001b[0mnp\u001b[0m\u001b[0;34m.\u001b[0m\u001b[0msqueeze\u001b[0m\u001b[0;34m(\u001b[0m\u001b[0mnp\u001b[0m\u001b[0;34m.\u001b[0m\u001b[0marray\u001b[0m\u001b[0;34m(\u001b[0m\u001b[0mdX\u001b[0m\u001b[0;34m.\u001b[0m\u001b[0msum\u001b[0m\u001b[0;34m(\u001b[0m\u001b[0maxis\u001b[0m\u001b[0;34m=\u001b[0m\u001b[0;36m0\u001b[0m\u001b[0;34m)\u001b[0m\u001b[0;34m)\u001b[0m\u001b[0;34m)\u001b[0m\u001b[0;34m\u001b[0m\u001b[0;34m\u001b[0m\u001b[0m\n\u001b[0m\u001b[1;32m    234\u001b[0m \u001b[0;34m\u001b[0m\u001b[0m\n\u001b[1;32m    235\u001b[0m     \u001b[0;32mdef\u001b[0m \u001b[0mHs\u001b[0m\u001b[0;34m(\u001b[0m\u001b[0ms\u001b[0m\u001b[0;34m)\u001b[0m\u001b[0;34m:\u001b[0m\u001b[0;34m\u001b[0m\u001b[0;34m\u001b[0m\u001b[0m\n",
            "\u001b[0;32m/usr/local/lib/python3.7/dist-packages/numpy/core/_methods.py\u001b[0m in \u001b[0;36m_sum\u001b[0;34m(a, axis, dtype, out, keepdims, initial, where)\u001b[0m\n\u001b[1;32m     45\u001b[0m def _sum(a, axis=None, dtype=None, out=None, keepdims=False,\n\u001b[1;32m     46\u001b[0m          initial=_NoValue, where=True):\n\u001b[0;32m---> 47\u001b[0;31m     \u001b[0;32mreturn\u001b[0m \u001b[0mumr_sum\u001b[0m\u001b[0;34m(\u001b[0m\u001b[0ma\u001b[0m\u001b[0;34m,\u001b[0m \u001b[0maxis\u001b[0m\u001b[0;34m,\u001b[0m \u001b[0mdtype\u001b[0m\u001b[0;34m,\u001b[0m \u001b[0mout\u001b[0m\u001b[0;34m,\u001b[0m \u001b[0mkeepdims\u001b[0m\u001b[0;34m,\u001b[0m \u001b[0minitial\u001b[0m\u001b[0;34m,\u001b[0m \u001b[0mwhere\u001b[0m\u001b[0;34m)\u001b[0m\u001b[0;34m\u001b[0m\u001b[0;34m\u001b[0m\u001b[0m\n\u001b[0m\u001b[1;32m     48\u001b[0m \u001b[0;34m\u001b[0m\u001b[0m\n\u001b[1;32m     49\u001b[0m def _prod(a, axis=None, dtype=None, out=None, keepdims=False,\n",
            "\u001b[0;31mKeyboardInterrupt\u001b[0m: "
          ]
        }
      ]
    },
    {
      "cell_type": "code",
      "metadata": {
        "id": "05a41696",
        "colab": {
          "base_uri": "https://localhost:8080/"
        },
        "outputId": "f8f5adcb-2db4-4447-8b22-273404366195"
      },
      "source": [
        "#data_var_qualitatives_temp\n",
        "model_17_cw.fit(train_X_s,train_Y_s)\n",
        "quarantiles(model=model_17_cw, data_orig= data,affichage=True,\n",
        "            save=False, path = \"C:/Users/Christian/Desktop/sans_dons_encodage_dummies_logistic_regression.xlsx\")"
      ],
      "id": "05a41696",
      "execution_count": null,
      "outputs": [
        {
          "output_type": "stream",
          "text": [
            "0.913447    50\n",
            "0.654803    33\n",
            "0.750406    33\n",
            "0.733709    26\n",
            "0.738316    23\n",
            "            ..\n",
            "0.734021     1\n",
            "0.506568     1\n",
            "0.556617     1\n",
            "0.586337     1\n",
            "0.337920     1\n",
            "Name: PROBA, Length: 96552, dtype: int64\n",
            "Top_mon            1     2  TOTAL\n",
            "TRANCHES                         \n",
            "(0.188, 0.319]   535  5821   6356\n",
            "(0.319, 0.345]   637  5719   6356\n",
            "(0.345, 0.364]   687  5669   6356\n",
            "(0.364, 0.382]   766  5590   6356\n",
            "(0.382, 0.399]   799  5556   6355\n",
            "(0.399, 0.414]   869  5487   6356\n",
            "(0.414, 0.428]   850  5505   6355\n",
            "(0.428, 0.442]   968  5388   6356\n",
            "(0.442, 0.456]   971  5385   6356\n",
            "(0.456, 0.47]   1072  5284   6356\n",
            "(0.47, 0.483]   1009  5346   6355\n",
            "(0.483, 0.498]  1152  5205   6357\n",
            "(0.498, 0.512]  1183  5173   6356\n",
            "(0.512, 0.528]  1228  5126   6354\n",
            "(0.528, 0.546]  1320  5036   6356\n",
            "(0.546, 0.566]  1386  4970   6356\n",
            "(0.566, 0.594]  1496  4859   6355\n",
            "(0.594, 0.634]  1639  4718   6357\n",
            "(0.634, 0.699]  2037  4319   6356\n",
            "(0.699, 0.926]  2852  3503   6355\n"
          ],
          "name": "stdout"
        }
      ]
    },
    {
      "cell_type": "code",
      "metadata": {
        "id": "08RvvFVaIldS"
      },
      "source": [
        ""
      ],
      "id": "08RvvFVaIldS",
      "execution_count": null,
      "outputs": []
    },
    {
      "cell_type": "code",
      "metadata": {
        "id": "6a62db87"
      },
      "source": [
        "####################################################################################\n",
        "#                                FIN PREMIERS TESTS\n",
        "####################################################################################"
      ],
      "id": "6a62db87",
      "execution_count": null,
      "outputs": []
    },
    {
      "cell_type": "code",
      "metadata": {
        "id": "178704f4"
      },
      "source": [
        ""
      ],
      "id": "178704f4",
      "execution_count": null,
      "outputs": []
    },
    {
      "cell_type": "code",
      "metadata": {
        "id": "2b90ca16"
      },
      "source": [
        ""
      ],
      "id": "2b90ca16",
      "execution_count": null,
      "outputs": []
    },
    {
      "cell_type": "code",
      "metadata": {
        "id": "1d2bc66a"
      },
      "source": [
        ""
      ],
      "id": "1d2bc66a",
      "execution_count": null,
      "outputs": []
    },
    {
      "cell_type": "code",
      "metadata": {
        "id": "e52f95fe"
      },
      "source": [
        ""
      ],
      "id": "e52f95fe",
      "execution_count": null,
      "outputs": []
    },
    {
      "cell_type": "code",
      "metadata": {
        "id": "5d4494ad"
      },
      "source": [
        "#############################################################################################\n",
        "#\n",
        "#                                 DATA AUGMENTATION\n",
        "#\n",
        "#############################################################################################"
      ],
      "id": "5d4494ad",
      "execution_count": null,
      "outputs": []
    },
    {
      "cell_type": "code",
      "metadata": {
        "id": "8c4f9081",
        "colab": {
          "base_uri": "https://localhost:8080/"
        },
        "outputId": "5c0ae4c0-9bf0-470c-855e-3d939dd30dae"
      },
      "source": [
        "# test predict individus sans classe\n",
        "data = data_orig.copy()\n",
        "\n",
        "# encodage Onehot sur toutes les données (on évite ainsi les erreurs futures)\n",
        "nb_var = data.shape[1] - 1\n",
        "data_1_22 = pd.get_dummies(data.iloc[:,1:(data.shape[1]-1)], columns=data.columns[1:(data.shape[1]-1)] )\n",
        "data_var_qualitatives_temp =  pd.concat([data[\"IDENT\"], data_1_22, data[\"Top_mon\"]], axis=1)\n",
        "data = data_var_qualitatives_temp\n",
        "#encodage = OneHotEncoder()\n",
        "#encodage.fit(data_processing(data.iloc[:,1:nb_var]))\n",
        "\n",
        "# élimination des individus n'ayant pas de valeur pour la varialbe IFI+\n",
        "\"\"\"IMPORTANT\"\"\"\n",
        "data_sans_nan = data[(data.isnull()).sum(axis=1) == 0]\n",
        "\n",
        "#conversion du type de variable\n",
        "for i in range(1,data_sans_nan.shape[1]):\n",
        "    data_sans_nan.iloc[:,i]=data_sans_nan.iloc[:,i].astype(int)\n",
        "\n",
        "# base de données avec des variables corrélées et avec encodage OneHot\n",
        "data =data_sans_nan\n",
        "\n",
        "nb_var = data.shape[1] - 1\n",
        "train_set, test_set = train_test_split(data, test_size = 0.2, random_state=0 )\n",
        "\n",
        "train_X_s = (train_set.iloc[:,1:nb_var]).to_numpy()\n",
        "train_Y_s = np.asanyarray(train_set.iloc[:,nb_var])\n",
        "\n",
        "test_X_s = (test_set.iloc[:,1:nb_var]).to_numpy()\n",
        "test_Y_s = np.asanyarray(test_set.iloc[:,nb_var])\n",
        "\n"
      ],
      "id": "8c4f9081",
      "execution_count": 9,
      "outputs": [
        {
          "output_type": "stream",
          "text": [
            "/usr/local/lib/python3.7/dist-packages/pandas/core/indexing.py:1743: SettingWithCopyWarning: \n",
            "A value is trying to be set on a copy of a slice from a DataFrame.\n",
            "Try using .loc[row_indexer,col_indexer] = value instead\n",
            "\n",
            "See the caveats in the documentation: https://pandas.pydata.org/pandas-docs/stable/user_guide/indexing.html#returning-a-view-versus-a-copy\n",
            "  isetter(ilocs[0], value)\n"
          ],
          "name": "stderr"
        }
      ]
    },
    {
      "cell_type": "code",
      "metadata": {
        "id": "cfb486c1",
        "colab": {
          "base_uri": "https://localhost:8080/"
        },
        "outputId": "d8348342-eda5-46cd-94f3-e12679fb2e80"
      },
      "source": [
        "import imblearn\n",
        "from imblearn.under_sampling import TomekLinks\n",
        "from imblearn.over_sampling import SMOTE"
      ],
      "id": "cfb486c1",
      "execution_count": 10,
      "outputs": [
        {
          "output_type": "stream",
          "text": [
            "/usr/local/lib/python3.7/dist-packages/sklearn/externals/six.py:31: FutureWarning: The module is deprecated in version 0.21 and will be removed in version 0.23 since we've dropped support for Python 2.7. Please rely on the official version of six (https://pypi.org/project/six/).\n",
            "  \"(https://pypi.org/project/six/).\", FutureWarning)\n",
            "/usr/local/lib/python3.7/dist-packages/sklearn/utils/deprecation.py:144: FutureWarning: The sklearn.neighbors.base module is  deprecated in version 0.22 and will be removed in version 0.24. The corresponding classes / functions should instead be imported from sklearn.neighbors. Anything that cannot be imported from sklearn.neighbors is now part of the private API.\n",
            "  warnings.warn(message, FutureWarning)\n"
          ],
          "name": "stderr"
        }
      ]
    },
    {
      "cell_type": "code",
      "metadata": {
        "id": "add367b6",
        "colab": {
          "base_uri": "https://localhost:8080/"
        },
        "outputId": "d6fe7ffa-7091-4231-a20f-0c437719d090"
      },
      "source": [
        "# augmentation des données\n",
        "tl = SMOTE()\n",
        "X_resampled, y_resampled = tl.fit_resample(train_X_s[:,:22] , train_Y_s ) \n"
      ],
      "id": "add367b6",
      "execution_count": 11,
      "outputs": [
        {
          "output_type": "stream",
          "text": [
            "/usr/local/lib/python3.7/dist-packages/sklearn/utils/deprecation.py:87: FutureWarning: Function safe_indexing is deprecated; safe_indexing is deprecated in version 0.22 and will be removed in version 0.24.\n",
            "  warnings.warn(msg, category=FutureWarning)\n"
          ],
          "name": "stderr"
        }
      ]
    },
    {
      "cell_type": "code",
      "metadata": {
        "colab": {
          "base_uri": "https://localhost:8080/"
        },
        "id": "zJLXWWZkPV9-",
        "outputId": "6cd0b51d-5282-4b7a-f998-ff26dd5c9c15"
      },
      "source": [
        "train_X_s.shape"
      ],
      "id": "zJLXWWZkPV9-",
      "execution_count": 20,
      "outputs": [
        {
          "output_type": "execute_result",
          "data": {
            "text/plain": [
              "(101692, 374)"
            ]
          },
          "metadata": {
            "tags": []
          },
          "execution_count": 20
        }
      ]
    },
    {
      "cell_type": "code",
      "metadata": {
        "id": "fe427b04",
        "colab": {
          "base_uri": "https://localhost:8080/"
        },
        "outputId": "8d14a4e3-d86c-4932-9a6a-dc19ad7a85c9"
      },
      "source": [
        "print(np.unique(y_resampled, return_counts=True) )\n",
        "np.unique(train_Y_s, return_counts = True)\n"
      ],
      "id": "fe427b04",
      "execution_count": 12,
      "outputs": [
        {
          "output_type": "stream",
          "text": [
            "(array([1, 2]), array([82915, 82915]))\n"
          ],
          "name": "stdout"
        },
        {
          "output_type": "execute_result",
          "data": {
            "text/plain": [
              "(array([1, 2]), array([18777, 82915]))"
            ]
          },
          "metadata": {
            "tags": []
          },
          "execution_count": 12
        }
      ]
    },
    {
      "cell_type": "code",
      "metadata": {
        "id": "b8ef21ad",
        "colab": {
          "base_uri": "https://localhost:8080/"
        },
        "outputId": "a1158788-f4df-4cdd-a714-fc6d06c42957"
      },
      "source": [
        "model_reg_logistic = LogisticRegression(random_state =0, max_iter= 10000, class_weight=\"balanced\" )\n",
        "\n",
        "param = {'C':[0.01,0.1,1], 'solver': ['liblinear','newton-cg', 'lbfgs']} #avec penalty l1 et l2\n",
        "\n",
        "grid_reg_logistic = GridSearchCV(model_reg_logistic, param_grid = param, cv=5, scoring ='recall', n_jobs = 2 )\n",
        "resultat_reg_logistic = grid_reg_logistic.fit(train_X_s, train_Y_s)\n",
        "print(resultat_reg_logistic.best_params_)\n",
        "\n",
        "param = {'solver': ['newton_cg','lbfgs'], 'penalty':['none']} #sans penalty\n",
        "\n",
        "grid_reg_logistic = GridSearchCV(model_reg_logistic, param_grid = param, cv=5, scoring ='recall', n_jobs=2 )\n",
        "resultat_reg_logistic = grid_reg_logistic.fit(train_X_s, train_Y_s)\n",
        "print(resultat_reg_logistic.best_params_)"
      ],
      "id": "b8ef21ad",
      "execution_count": 13,
      "outputs": [
        {
          "output_type": "stream",
          "text": [
            "/usr/local/lib/python3.7/dist-packages/joblib/externals/loky/process_executor.py:691: UserWarning: A worker stopped while some jobs were given to the executor. This can be caused by a too short worker timeout or by a memory leak.\n",
            "  \"timeout or by a memory leak.\", UserWarning\n"
          ],
          "name": "stderr"
        },
        {
          "output_type": "stream",
          "text": [
            "{'C': 0.01, 'solver': 'liblinear'}\n",
            "{'penalty': 'none', 'solver': 'lbfgs'}\n"
          ],
          "name": "stdout"
        }
      ]
    },
    {
      "cell_type": "code",
      "metadata": {
        "colab": {
          "base_uri": "https://localhost:8080/",
          "height": 771
        },
        "id": "JS7pBb46I7Nh",
        "outputId": "91336b81-c4d5-4591-f88b-a2a6870574c6"
      },
      "source": [
        "model_17_cw = LogisticRegression(random_state =0,solver=\"lbfgs\",penalty=\"none\" ,max_iter= 10000, class_weight=\"balanced\")\n",
        "#model_17_cw = LogisticRegression(random_state =0,C=0.01,solver=\"liblinear\", max_iter= 10000, class_weight=\"balanced\")\n",
        "\n",
        "evaluation(model_17_cw, train_X_s, train_Y_s, test_X_s, test_Y_s, scoring=\"recall\" )"
      ],
      "id": "JS7pBb46I7Nh",
      "execution_count": 17,
      "outputs": [
        {
          "output_type": "stream",
          "text": [
            "test set : \n",
            "[[ 2516  2163]\n",
            " [ 7474 13270]]\n",
            "              precision    recall  f1-score   support\n",
            "\n",
            "           1       0.25      0.54      0.34      4679\n",
            "           2       0.86      0.64      0.73     20744\n",
            "\n",
            "    accuracy                           0.62     25423\n",
            "   macro avg       0.56      0.59      0.54     25423\n",
            "weighted avg       0.75      0.62      0.66     25423\n",
            "\n",
            "train set : \n",
            "[[10474  8303]\n",
            " [29115 53800]]\n",
            "              precision    recall  f1-score   support\n",
            "\n",
            "           1       0.26      0.56      0.36     18777\n",
            "           2       0.87      0.65      0.74     82915\n",
            "\n",
            "    accuracy                           0.63    101692\n",
            "   macro avg       0.57      0.60      0.55    101692\n",
            "weighted avg       0.76      0.63      0.67    101692\n",
            "\n"
          ],
          "name": "stdout"
        },
        {
          "output_type": "error",
          "ename": "KeyboardInterrupt",
          "evalue": "ignored",
          "traceback": [
            "\u001b[0;31m---------------------------------------------------------------------------\u001b[0m",
            "\u001b[0;31mKeyboardInterrupt\u001b[0m                         Traceback (most recent call last)",
            "\u001b[0;32m<ipython-input-17-8de03d7c5859>\u001b[0m in \u001b[0;36m<module>\u001b[0;34m()\u001b[0m\n\u001b[1;32m      2\u001b[0m \u001b[0;31m#model_17_cw = LogisticRegression(random_state =0,C=0.01,solver=\"liblinear\", max_iter= 10000, class_weight=\"balanced\")\u001b[0m\u001b[0;34m\u001b[0m\u001b[0;34m\u001b[0m\u001b[0;34m\u001b[0m\u001b[0m\n\u001b[1;32m      3\u001b[0m \u001b[0;34m\u001b[0m\u001b[0m\n\u001b[0;32m----> 4\u001b[0;31m \u001b[0mevaluation\u001b[0m\u001b[0;34m(\u001b[0m\u001b[0mmodel_17_cw\u001b[0m\u001b[0;34m,\u001b[0m \u001b[0mtrain_X_s\u001b[0m\u001b[0;34m,\u001b[0m \u001b[0mtrain_Y_s\u001b[0m\u001b[0;34m,\u001b[0m \u001b[0mtest_X_s\u001b[0m\u001b[0;34m,\u001b[0m \u001b[0mtest_Y_s\u001b[0m\u001b[0;34m,\u001b[0m \u001b[0mscoring\u001b[0m\u001b[0;34m=\u001b[0m\u001b[0;34m\"recall\"\u001b[0m \u001b[0;34m)\u001b[0m\u001b[0;34m\u001b[0m\u001b[0;34m\u001b[0m\u001b[0m\n\u001b[0m",
            "\u001b[0;32m<ipython-input-15-91048ac8a28d>\u001b[0m in \u001b[0;36mevaluation\u001b[0;34m(model, X_train, y_train, X_test, y_test, scoring)\u001b[0m\n\u001b[1;32m     12\u001b[0m     \u001b[0mprint\u001b[0m\u001b[0;34m(\u001b[0m\u001b[0mclassification_report\u001b[0m\u001b[0;34m(\u001b[0m\u001b[0my_train\u001b[0m\u001b[0;34m,\u001b[0m \u001b[0mmodel\u001b[0m\u001b[0;34m.\u001b[0m\u001b[0mpredict\u001b[0m\u001b[0;34m(\u001b[0m\u001b[0mX_train\u001b[0m\u001b[0;34m)\u001b[0m \u001b[0;34m)\u001b[0m\u001b[0;34m)\u001b[0m\u001b[0;34m\u001b[0m\u001b[0;34m\u001b[0m\u001b[0m\n\u001b[1;32m     13\u001b[0m \u001b[0;34m\u001b[0m\u001b[0m\n\u001b[0;32m---> 14\u001b[0;31m     \u001b[0mN\u001b[0m\u001b[0;34m,\u001b[0m \u001b[0mtrain_score\u001b[0m\u001b[0;34m,\u001b[0m \u001b[0mval_score\u001b[0m \u001b[0;34m=\u001b[0m \u001b[0mlearning_curve\u001b[0m\u001b[0;34m(\u001b[0m\u001b[0mmodel\u001b[0m\u001b[0;34m,\u001b[0m \u001b[0mX_train\u001b[0m\u001b[0;34m,\u001b[0m \u001b[0my_train\u001b[0m\u001b[0;34m,\u001b[0m \u001b[0mcv\u001b[0m \u001b[0;34m=\u001b[0m \u001b[0;36m4\u001b[0m\u001b[0;34m,\u001b[0m\u001b[0mshuffle\u001b[0m\u001b[0;34m=\u001b[0m\u001b[0;32mTrue\u001b[0m\u001b[0;34m,\u001b[0m \u001b[0mscoring\u001b[0m \u001b[0;34m=\u001b[0m \u001b[0mscoring\u001b[0m\u001b[0;34m,\u001b[0m \u001b[0mtrain_sizes\u001b[0m \u001b[0;34m=\u001b[0m \u001b[0mnp\u001b[0m\u001b[0;34m.\u001b[0m\u001b[0mlinspace\u001b[0m\u001b[0;34m(\u001b[0m\u001b[0;36m0.1\u001b[0m\u001b[0;34m,\u001b[0m \u001b[0;36m1\u001b[0m\u001b[0;34m,\u001b[0m \u001b[0;36m6\u001b[0m\u001b[0;34m)\u001b[0m \u001b[0;34m)\u001b[0m\u001b[0;34m\u001b[0m\u001b[0;34m\u001b[0m\u001b[0m\n\u001b[0m\u001b[1;32m     15\u001b[0m     \u001b[0mprint\u001b[0m\u001b[0;34m(\u001b[0m\u001b[0mN\u001b[0m\u001b[0;34m)\u001b[0m\u001b[0;34m\u001b[0m\u001b[0;34m\u001b[0m\u001b[0m\n\u001b[1;32m     16\u001b[0m     \u001b[0mprint\u001b[0m\u001b[0;34m(\u001b[0m\u001b[0mtrain_score\u001b[0m\u001b[0;34m.\u001b[0m\u001b[0mmean\u001b[0m\u001b[0;34m(\u001b[0m\u001b[0maxis\u001b[0m\u001b[0;34m=\u001b[0m\u001b[0;36m1\u001b[0m\u001b[0;34m)\u001b[0m\u001b[0;34m)\u001b[0m\u001b[0;34m\u001b[0m\u001b[0;34m\u001b[0m\u001b[0m\n",
            "\u001b[0;32m/usr/local/lib/python3.7/dist-packages/sklearn/model_selection/_validation.py\u001b[0m in \u001b[0;36mlearning_curve\u001b[0;34m(estimator, X, y, groups, train_sizes, cv, scoring, exploit_incremental_learning, n_jobs, pre_dispatch, verbose, shuffle, random_state, error_score, return_times)\u001b[0m\n\u001b[1;32m   1254\u001b[0m             \u001b[0mparameters\u001b[0m\u001b[0;34m=\u001b[0m\u001b[0;32mNone\u001b[0m\u001b[0;34m,\u001b[0m \u001b[0mfit_params\u001b[0m\u001b[0;34m=\u001b[0m\u001b[0;32mNone\u001b[0m\u001b[0;34m,\u001b[0m \u001b[0mreturn_train_score\u001b[0m\u001b[0;34m=\u001b[0m\u001b[0;32mTrue\u001b[0m\u001b[0;34m,\u001b[0m\u001b[0;34m\u001b[0m\u001b[0;34m\u001b[0m\u001b[0m\n\u001b[1;32m   1255\u001b[0m             error_score=error_score, return_times=return_times)\n\u001b[0;32m-> 1256\u001b[0;31m             for train, test in train_test_proportions)\n\u001b[0m\u001b[1;32m   1257\u001b[0m         \u001b[0mout\u001b[0m \u001b[0;34m=\u001b[0m \u001b[0mnp\u001b[0m\u001b[0;34m.\u001b[0m\u001b[0marray\u001b[0m\u001b[0;34m(\u001b[0m\u001b[0mout\u001b[0m\u001b[0;34m)\u001b[0m\u001b[0;34m\u001b[0m\u001b[0;34m\u001b[0m\u001b[0m\n\u001b[1;32m   1258\u001b[0m         \u001b[0mn_cv_folds\u001b[0m \u001b[0;34m=\u001b[0m \u001b[0mout\u001b[0m\u001b[0;34m.\u001b[0m\u001b[0mshape\u001b[0m\u001b[0;34m[\u001b[0m\u001b[0;36m0\u001b[0m\u001b[0;34m]\u001b[0m \u001b[0;34m//\u001b[0m \u001b[0mn_unique_ticks\u001b[0m\u001b[0;34m\u001b[0m\u001b[0;34m\u001b[0m\u001b[0m\n",
            "\u001b[0;32m/usr/local/lib/python3.7/dist-packages/joblib/parallel.py\u001b[0m in \u001b[0;36m__call__\u001b[0;34m(self, iterable)\u001b[0m\n\u001b[1;32m   1042\u001b[0m                 \u001b[0mself\u001b[0m\u001b[0;34m.\u001b[0m\u001b[0m_iterating\u001b[0m \u001b[0;34m=\u001b[0m \u001b[0mself\u001b[0m\u001b[0;34m.\u001b[0m\u001b[0m_original_iterator\u001b[0m \u001b[0;32mis\u001b[0m \u001b[0;32mnot\u001b[0m \u001b[0;32mNone\u001b[0m\u001b[0;34m\u001b[0m\u001b[0;34m\u001b[0m\u001b[0m\n\u001b[1;32m   1043\u001b[0m \u001b[0;34m\u001b[0m\u001b[0m\n\u001b[0;32m-> 1044\u001b[0;31m             \u001b[0;32mwhile\u001b[0m \u001b[0mself\u001b[0m\u001b[0;34m.\u001b[0m\u001b[0mdispatch_one_batch\u001b[0m\u001b[0;34m(\u001b[0m\u001b[0miterator\u001b[0m\u001b[0;34m)\u001b[0m\u001b[0;34m:\u001b[0m\u001b[0;34m\u001b[0m\u001b[0;34m\u001b[0m\u001b[0m\n\u001b[0m\u001b[1;32m   1045\u001b[0m                 \u001b[0;32mpass\u001b[0m\u001b[0;34m\u001b[0m\u001b[0;34m\u001b[0m\u001b[0m\n\u001b[1;32m   1046\u001b[0m \u001b[0;34m\u001b[0m\u001b[0m\n",
            "\u001b[0;32m/usr/local/lib/python3.7/dist-packages/joblib/parallel.py\u001b[0m in \u001b[0;36mdispatch_one_batch\u001b[0;34m(self, iterator)\u001b[0m\n\u001b[1;32m    857\u001b[0m                 \u001b[0;32mreturn\u001b[0m \u001b[0;32mFalse\u001b[0m\u001b[0;34m\u001b[0m\u001b[0;34m\u001b[0m\u001b[0m\n\u001b[1;32m    858\u001b[0m             \u001b[0;32melse\u001b[0m\u001b[0;34m:\u001b[0m\u001b[0;34m\u001b[0m\u001b[0;34m\u001b[0m\u001b[0m\n\u001b[0;32m--> 859\u001b[0;31m                 \u001b[0mself\u001b[0m\u001b[0;34m.\u001b[0m\u001b[0m_dispatch\u001b[0m\u001b[0;34m(\u001b[0m\u001b[0mtasks\u001b[0m\u001b[0;34m)\u001b[0m\u001b[0;34m\u001b[0m\u001b[0;34m\u001b[0m\u001b[0m\n\u001b[0m\u001b[1;32m    860\u001b[0m                 \u001b[0;32mreturn\u001b[0m \u001b[0;32mTrue\u001b[0m\u001b[0;34m\u001b[0m\u001b[0;34m\u001b[0m\u001b[0m\n\u001b[1;32m    861\u001b[0m \u001b[0;34m\u001b[0m\u001b[0m\n",
            "\u001b[0;32m/usr/local/lib/python3.7/dist-packages/joblib/parallel.py\u001b[0m in \u001b[0;36m_dispatch\u001b[0;34m(self, batch)\u001b[0m\n\u001b[1;32m    775\u001b[0m         \u001b[0;32mwith\u001b[0m \u001b[0mself\u001b[0m\u001b[0;34m.\u001b[0m\u001b[0m_lock\u001b[0m\u001b[0;34m:\u001b[0m\u001b[0;34m\u001b[0m\u001b[0;34m\u001b[0m\u001b[0m\n\u001b[1;32m    776\u001b[0m             \u001b[0mjob_idx\u001b[0m \u001b[0;34m=\u001b[0m \u001b[0mlen\u001b[0m\u001b[0;34m(\u001b[0m\u001b[0mself\u001b[0m\u001b[0;34m.\u001b[0m\u001b[0m_jobs\u001b[0m\u001b[0;34m)\u001b[0m\u001b[0;34m\u001b[0m\u001b[0;34m\u001b[0m\u001b[0m\n\u001b[0;32m--> 777\u001b[0;31m             \u001b[0mjob\u001b[0m \u001b[0;34m=\u001b[0m \u001b[0mself\u001b[0m\u001b[0;34m.\u001b[0m\u001b[0m_backend\u001b[0m\u001b[0;34m.\u001b[0m\u001b[0mapply_async\u001b[0m\u001b[0;34m(\u001b[0m\u001b[0mbatch\u001b[0m\u001b[0;34m,\u001b[0m \u001b[0mcallback\u001b[0m\u001b[0;34m=\u001b[0m\u001b[0mcb\u001b[0m\u001b[0;34m)\u001b[0m\u001b[0;34m\u001b[0m\u001b[0;34m\u001b[0m\u001b[0m\n\u001b[0m\u001b[1;32m    778\u001b[0m             \u001b[0;31m# A job can complete so quickly than its callback is\u001b[0m\u001b[0;34m\u001b[0m\u001b[0;34m\u001b[0m\u001b[0;34m\u001b[0m\u001b[0m\n\u001b[1;32m    779\u001b[0m             \u001b[0;31m# called before we get here, causing self._jobs to\u001b[0m\u001b[0;34m\u001b[0m\u001b[0;34m\u001b[0m\u001b[0;34m\u001b[0m\u001b[0m\n",
            "\u001b[0;32m/usr/local/lib/python3.7/dist-packages/joblib/_parallel_backends.py\u001b[0m in \u001b[0;36mapply_async\u001b[0;34m(self, func, callback)\u001b[0m\n\u001b[1;32m    206\u001b[0m     \u001b[0;32mdef\u001b[0m \u001b[0mapply_async\u001b[0m\u001b[0;34m(\u001b[0m\u001b[0mself\u001b[0m\u001b[0;34m,\u001b[0m \u001b[0mfunc\u001b[0m\u001b[0;34m,\u001b[0m \u001b[0mcallback\u001b[0m\u001b[0;34m=\u001b[0m\u001b[0;32mNone\u001b[0m\u001b[0;34m)\u001b[0m\u001b[0;34m:\u001b[0m\u001b[0;34m\u001b[0m\u001b[0;34m\u001b[0m\u001b[0m\n\u001b[1;32m    207\u001b[0m         \u001b[0;34m\"\"\"Schedule a func to be run\"\"\"\u001b[0m\u001b[0;34m\u001b[0m\u001b[0;34m\u001b[0m\u001b[0m\n\u001b[0;32m--> 208\u001b[0;31m         \u001b[0mresult\u001b[0m \u001b[0;34m=\u001b[0m \u001b[0mImmediateResult\u001b[0m\u001b[0;34m(\u001b[0m\u001b[0mfunc\u001b[0m\u001b[0;34m)\u001b[0m\u001b[0;34m\u001b[0m\u001b[0;34m\u001b[0m\u001b[0m\n\u001b[0m\u001b[1;32m    209\u001b[0m         \u001b[0;32mif\u001b[0m \u001b[0mcallback\u001b[0m\u001b[0;34m:\u001b[0m\u001b[0;34m\u001b[0m\u001b[0;34m\u001b[0m\u001b[0m\n\u001b[1;32m    210\u001b[0m             \u001b[0mcallback\u001b[0m\u001b[0;34m(\u001b[0m\u001b[0mresult\u001b[0m\u001b[0;34m)\u001b[0m\u001b[0;34m\u001b[0m\u001b[0;34m\u001b[0m\u001b[0m\n",
            "\u001b[0;32m/usr/local/lib/python3.7/dist-packages/joblib/_parallel_backends.py\u001b[0m in \u001b[0;36m__init__\u001b[0;34m(self, batch)\u001b[0m\n\u001b[1;32m    570\u001b[0m         \u001b[0;31m# Don't delay the application, to avoid keeping the input\u001b[0m\u001b[0;34m\u001b[0m\u001b[0;34m\u001b[0m\u001b[0;34m\u001b[0m\u001b[0m\n\u001b[1;32m    571\u001b[0m         \u001b[0;31m# arguments in memory\u001b[0m\u001b[0;34m\u001b[0m\u001b[0;34m\u001b[0m\u001b[0;34m\u001b[0m\u001b[0m\n\u001b[0;32m--> 572\u001b[0;31m         \u001b[0mself\u001b[0m\u001b[0;34m.\u001b[0m\u001b[0mresults\u001b[0m \u001b[0;34m=\u001b[0m \u001b[0mbatch\u001b[0m\u001b[0;34m(\u001b[0m\u001b[0;34m)\u001b[0m\u001b[0;34m\u001b[0m\u001b[0;34m\u001b[0m\u001b[0m\n\u001b[0m\u001b[1;32m    573\u001b[0m \u001b[0;34m\u001b[0m\u001b[0m\n\u001b[1;32m    574\u001b[0m     \u001b[0;32mdef\u001b[0m \u001b[0mget\u001b[0m\u001b[0;34m(\u001b[0m\u001b[0mself\u001b[0m\u001b[0;34m)\u001b[0m\u001b[0;34m:\u001b[0m\u001b[0;34m\u001b[0m\u001b[0;34m\u001b[0m\u001b[0m\n",
            "\u001b[0;32m/usr/local/lib/python3.7/dist-packages/joblib/parallel.py\u001b[0m in \u001b[0;36m__call__\u001b[0;34m(self)\u001b[0m\n\u001b[1;32m    261\u001b[0m         \u001b[0;32mwith\u001b[0m \u001b[0mparallel_backend\u001b[0m\u001b[0;34m(\u001b[0m\u001b[0mself\u001b[0m\u001b[0;34m.\u001b[0m\u001b[0m_backend\u001b[0m\u001b[0;34m,\u001b[0m \u001b[0mn_jobs\u001b[0m\u001b[0;34m=\u001b[0m\u001b[0mself\u001b[0m\u001b[0;34m.\u001b[0m\u001b[0m_n_jobs\u001b[0m\u001b[0;34m)\u001b[0m\u001b[0;34m:\u001b[0m\u001b[0;34m\u001b[0m\u001b[0;34m\u001b[0m\u001b[0m\n\u001b[1;32m    262\u001b[0m             return [func(*args, **kwargs)\n\u001b[0;32m--> 263\u001b[0;31m                     for func, args, kwargs in self.items]\n\u001b[0m\u001b[1;32m    264\u001b[0m \u001b[0;34m\u001b[0m\u001b[0m\n\u001b[1;32m    265\u001b[0m     \u001b[0;32mdef\u001b[0m \u001b[0m__reduce__\u001b[0m\u001b[0;34m(\u001b[0m\u001b[0mself\u001b[0m\u001b[0;34m)\u001b[0m\u001b[0;34m:\u001b[0m\u001b[0;34m\u001b[0m\u001b[0;34m\u001b[0m\u001b[0m\n",
            "\u001b[0;32m/usr/local/lib/python3.7/dist-packages/joblib/parallel.py\u001b[0m in \u001b[0;36m<listcomp>\u001b[0;34m(.0)\u001b[0m\n\u001b[1;32m    261\u001b[0m         \u001b[0;32mwith\u001b[0m \u001b[0mparallel_backend\u001b[0m\u001b[0;34m(\u001b[0m\u001b[0mself\u001b[0m\u001b[0;34m.\u001b[0m\u001b[0m_backend\u001b[0m\u001b[0;34m,\u001b[0m \u001b[0mn_jobs\u001b[0m\u001b[0;34m=\u001b[0m\u001b[0mself\u001b[0m\u001b[0;34m.\u001b[0m\u001b[0m_n_jobs\u001b[0m\u001b[0;34m)\u001b[0m\u001b[0;34m:\u001b[0m\u001b[0;34m\u001b[0m\u001b[0;34m\u001b[0m\u001b[0m\n\u001b[1;32m    262\u001b[0m             return [func(*args, **kwargs)\n\u001b[0;32m--> 263\u001b[0;31m                     for func, args, kwargs in self.items]\n\u001b[0m\u001b[1;32m    264\u001b[0m \u001b[0;34m\u001b[0m\u001b[0m\n\u001b[1;32m    265\u001b[0m     \u001b[0;32mdef\u001b[0m \u001b[0m__reduce__\u001b[0m\u001b[0;34m(\u001b[0m\u001b[0mself\u001b[0m\u001b[0;34m)\u001b[0m\u001b[0;34m:\u001b[0m\u001b[0;34m\u001b[0m\u001b[0;34m\u001b[0m\u001b[0m\n",
            "\u001b[0;32m/usr/local/lib/python3.7/dist-packages/sklearn/model_selection/_validation.py\u001b[0m in \u001b[0;36m_fit_and_score\u001b[0;34m(estimator, X, y, scorer, train, test, verbose, parameters, fit_params, return_train_score, return_parameters, return_n_test_samples, return_times, return_estimator, error_score)\u001b[0m\n\u001b[1;32m    513\u001b[0m             \u001b[0mestimator\u001b[0m\u001b[0;34m.\u001b[0m\u001b[0mfit\u001b[0m\u001b[0;34m(\u001b[0m\u001b[0mX_train\u001b[0m\u001b[0;34m,\u001b[0m \u001b[0;34m**\u001b[0m\u001b[0mfit_params\u001b[0m\u001b[0;34m)\u001b[0m\u001b[0;34m\u001b[0m\u001b[0;34m\u001b[0m\u001b[0m\n\u001b[1;32m    514\u001b[0m         \u001b[0;32melse\u001b[0m\u001b[0;34m:\u001b[0m\u001b[0;34m\u001b[0m\u001b[0;34m\u001b[0m\u001b[0m\n\u001b[0;32m--> 515\u001b[0;31m             \u001b[0mestimator\u001b[0m\u001b[0;34m.\u001b[0m\u001b[0mfit\u001b[0m\u001b[0;34m(\u001b[0m\u001b[0mX_train\u001b[0m\u001b[0;34m,\u001b[0m \u001b[0my_train\u001b[0m\u001b[0;34m,\u001b[0m \u001b[0;34m**\u001b[0m\u001b[0mfit_params\u001b[0m\u001b[0;34m)\u001b[0m\u001b[0;34m\u001b[0m\u001b[0;34m\u001b[0m\u001b[0m\n\u001b[0m\u001b[1;32m    516\u001b[0m \u001b[0;34m\u001b[0m\u001b[0m\n\u001b[1;32m    517\u001b[0m     \u001b[0;32mexcept\u001b[0m \u001b[0mException\u001b[0m \u001b[0;32mas\u001b[0m \u001b[0me\u001b[0m\u001b[0;34m:\u001b[0m\u001b[0;34m\u001b[0m\u001b[0;34m\u001b[0m\u001b[0m\n",
            "\u001b[0;32m/usr/local/lib/python3.7/dist-packages/sklearn/linear_model/_logistic.py\u001b[0m in \u001b[0;36mfit\u001b[0;34m(self, X, y, sample_weight)\u001b[0m\n\u001b[1;32m   1599\u001b[0m                       \u001b[0mpenalty\u001b[0m\u001b[0;34m=\u001b[0m\u001b[0mpenalty\u001b[0m\u001b[0;34m,\u001b[0m \u001b[0mmax_squared_sum\u001b[0m\u001b[0;34m=\u001b[0m\u001b[0mmax_squared_sum\u001b[0m\u001b[0;34m,\u001b[0m\u001b[0;34m\u001b[0m\u001b[0;34m\u001b[0m\u001b[0m\n\u001b[1;32m   1600\u001b[0m                       sample_weight=sample_weight)\n\u001b[0;32m-> 1601\u001b[0;31m             for class_, warm_start_coef_ in zip(classes_, warm_start_coef))\n\u001b[0m\u001b[1;32m   1602\u001b[0m \u001b[0;34m\u001b[0m\u001b[0m\n\u001b[1;32m   1603\u001b[0m         \u001b[0mfold_coefs_\u001b[0m\u001b[0;34m,\u001b[0m \u001b[0m_\u001b[0m\u001b[0;34m,\u001b[0m \u001b[0mn_iter_\u001b[0m \u001b[0;34m=\u001b[0m \u001b[0mzip\u001b[0m\u001b[0;34m(\u001b[0m\u001b[0;34m*\u001b[0m\u001b[0mfold_coefs_\u001b[0m\u001b[0;34m)\u001b[0m\u001b[0;34m\u001b[0m\u001b[0;34m\u001b[0m\u001b[0m\n",
            "\u001b[0;32m/usr/local/lib/python3.7/dist-packages/joblib/parallel.py\u001b[0m in \u001b[0;36m__call__\u001b[0;34m(self, iterable)\u001b[0m\n\u001b[1;32m   1039\u001b[0m             \u001b[0;31m# remaining jobs.\u001b[0m\u001b[0;34m\u001b[0m\u001b[0;34m\u001b[0m\u001b[0;34m\u001b[0m\u001b[0m\n\u001b[1;32m   1040\u001b[0m             \u001b[0mself\u001b[0m\u001b[0;34m.\u001b[0m\u001b[0m_iterating\u001b[0m \u001b[0;34m=\u001b[0m \u001b[0;32mFalse\u001b[0m\u001b[0;34m\u001b[0m\u001b[0;34m\u001b[0m\u001b[0m\n\u001b[0;32m-> 1041\u001b[0;31m             \u001b[0;32mif\u001b[0m \u001b[0mself\u001b[0m\u001b[0;34m.\u001b[0m\u001b[0mdispatch_one_batch\u001b[0m\u001b[0;34m(\u001b[0m\u001b[0miterator\u001b[0m\u001b[0;34m)\u001b[0m\u001b[0;34m:\u001b[0m\u001b[0;34m\u001b[0m\u001b[0;34m\u001b[0m\u001b[0m\n\u001b[0m\u001b[1;32m   1042\u001b[0m                 \u001b[0mself\u001b[0m\u001b[0;34m.\u001b[0m\u001b[0m_iterating\u001b[0m \u001b[0;34m=\u001b[0m \u001b[0mself\u001b[0m\u001b[0;34m.\u001b[0m\u001b[0m_original_iterator\u001b[0m \u001b[0;32mis\u001b[0m \u001b[0;32mnot\u001b[0m \u001b[0;32mNone\u001b[0m\u001b[0;34m\u001b[0m\u001b[0;34m\u001b[0m\u001b[0m\n\u001b[1;32m   1043\u001b[0m \u001b[0;34m\u001b[0m\u001b[0m\n",
            "\u001b[0;32m/usr/local/lib/python3.7/dist-packages/joblib/parallel.py\u001b[0m in \u001b[0;36mdispatch_one_batch\u001b[0;34m(self, iterator)\u001b[0m\n\u001b[1;32m    857\u001b[0m                 \u001b[0;32mreturn\u001b[0m \u001b[0;32mFalse\u001b[0m\u001b[0;34m\u001b[0m\u001b[0;34m\u001b[0m\u001b[0m\n\u001b[1;32m    858\u001b[0m             \u001b[0;32melse\u001b[0m\u001b[0;34m:\u001b[0m\u001b[0;34m\u001b[0m\u001b[0;34m\u001b[0m\u001b[0m\n\u001b[0;32m--> 859\u001b[0;31m                 \u001b[0mself\u001b[0m\u001b[0;34m.\u001b[0m\u001b[0m_dispatch\u001b[0m\u001b[0;34m(\u001b[0m\u001b[0mtasks\u001b[0m\u001b[0;34m)\u001b[0m\u001b[0;34m\u001b[0m\u001b[0;34m\u001b[0m\u001b[0m\n\u001b[0m\u001b[1;32m    860\u001b[0m                 \u001b[0;32mreturn\u001b[0m \u001b[0;32mTrue\u001b[0m\u001b[0;34m\u001b[0m\u001b[0;34m\u001b[0m\u001b[0m\n\u001b[1;32m    861\u001b[0m \u001b[0;34m\u001b[0m\u001b[0m\n",
            "\u001b[0;32m/usr/local/lib/python3.7/dist-packages/joblib/parallel.py\u001b[0m in \u001b[0;36m_dispatch\u001b[0;34m(self, batch)\u001b[0m\n\u001b[1;32m    775\u001b[0m         \u001b[0;32mwith\u001b[0m \u001b[0mself\u001b[0m\u001b[0;34m.\u001b[0m\u001b[0m_lock\u001b[0m\u001b[0;34m:\u001b[0m\u001b[0;34m\u001b[0m\u001b[0;34m\u001b[0m\u001b[0m\n\u001b[1;32m    776\u001b[0m             \u001b[0mjob_idx\u001b[0m \u001b[0;34m=\u001b[0m \u001b[0mlen\u001b[0m\u001b[0;34m(\u001b[0m\u001b[0mself\u001b[0m\u001b[0;34m.\u001b[0m\u001b[0m_jobs\u001b[0m\u001b[0;34m)\u001b[0m\u001b[0;34m\u001b[0m\u001b[0;34m\u001b[0m\u001b[0m\n\u001b[0;32m--> 777\u001b[0;31m             \u001b[0mjob\u001b[0m \u001b[0;34m=\u001b[0m \u001b[0mself\u001b[0m\u001b[0;34m.\u001b[0m\u001b[0m_backend\u001b[0m\u001b[0;34m.\u001b[0m\u001b[0mapply_async\u001b[0m\u001b[0;34m(\u001b[0m\u001b[0mbatch\u001b[0m\u001b[0;34m,\u001b[0m \u001b[0mcallback\u001b[0m\u001b[0;34m=\u001b[0m\u001b[0mcb\u001b[0m\u001b[0;34m)\u001b[0m\u001b[0;34m\u001b[0m\u001b[0;34m\u001b[0m\u001b[0m\n\u001b[0m\u001b[1;32m    778\u001b[0m             \u001b[0;31m# A job can complete so quickly than its callback is\u001b[0m\u001b[0;34m\u001b[0m\u001b[0;34m\u001b[0m\u001b[0;34m\u001b[0m\u001b[0m\n\u001b[1;32m    779\u001b[0m             \u001b[0;31m# called before we get here, causing self._jobs to\u001b[0m\u001b[0;34m\u001b[0m\u001b[0;34m\u001b[0m\u001b[0;34m\u001b[0m\u001b[0m\n",
            "\u001b[0;32m/usr/local/lib/python3.7/dist-packages/joblib/_parallel_backends.py\u001b[0m in \u001b[0;36mapply_async\u001b[0;34m(self, func, callback)\u001b[0m\n\u001b[1;32m    206\u001b[0m     \u001b[0;32mdef\u001b[0m \u001b[0mapply_async\u001b[0m\u001b[0;34m(\u001b[0m\u001b[0mself\u001b[0m\u001b[0;34m,\u001b[0m \u001b[0mfunc\u001b[0m\u001b[0;34m,\u001b[0m \u001b[0mcallback\u001b[0m\u001b[0;34m=\u001b[0m\u001b[0;32mNone\u001b[0m\u001b[0;34m)\u001b[0m\u001b[0;34m:\u001b[0m\u001b[0;34m\u001b[0m\u001b[0;34m\u001b[0m\u001b[0m\n\u001b[1;32m    207\u001b[0m         \u001b[0;34m\"\"\"Schedule a func to be run\"\"\"\u001b[0m\u001b[0;34m\u001b[0m\u001b[0;34m\u001b[0m\u001b[0m\n\u001b[0;32m--> 208\u001b[0;31m         \u001b[0mresult\u001b[0m \u001b[0;34m=\u001b[0m \u001b[0mImmediateResult\u001b[0m\u001b[0;34m(\u001b[0m\u001b[0mfunc\u001b[0m\u001b[0;34m)\u001b[0m\u001b[0;34m\u001b[0m\u001b[0;34m\u001b[0m\u001b[0m\n\u001b[0m\u001b[1;32m    209\u001b[0m         \u001b[0;32mif\u001b[0m \u001b[0mcallback\u001b[0m\u001b[0;34m:\u001b[0m\u001b[0;34m\u001b[0m\u001b[0;34m\u001b[0m\u001b[0m\n\u001b[1;32m    210\u001b[0m             \u001b[0mcallback\u001b[0m\u001b[0;34m(\u001b[0m\u001b[0mresult\u001b[0m\u001b[0;34m)\u001b[0m\u001b[0;34m\u001b[0m\u001b[0;34m\u001b[0m\u001b[0m\n",
            "\u001b[0;32m/usr/local/lib/python3.7/dist-packages/joblib/_parallel_backends.py\u001b[0m in \u001b[0;36m__init__\u001b[0;34m(self, batch)\u001b[0m\n\u001b[1;32m    570\u001b[0m         \u001b[0;31m# Don't delay the application, to avoid keeping the input\u001b[0m\u001b[0;34m\u001b[0m\u001b[0;34m\u001b[0m\u001b[0;34m\u001b[0m\u001b[0m\n\u001b[1;32m    571\u001b[0m         \u001b[0;31m# arguments in memory\u001b[0m\u001b[0;34m\u001b[0m\u001b[0;34m\u001b[0m\u001b[0;34m\u001b[0m\u001b[0m\n\u001b[0;32m--> 572\u001b[0;31m         \u001b[0mself\u001b[0m\u001b[0;34m.\u001b[0m\u001b[0mresults\u001b[0m \u001b[0;34m=\u001b[0m \u001b[0mbatch\u001b[0m\u001b[0;34m(\u001b[0m\u001b[0;34m)\u001b[0m\u001b[0;34m\u001b[0m\u001b[0;34m\u001b[0m\u001b[0m\n\u001b[0m\u001b[1;32m    573\u001b[0m \u001b[0;34m\u001b[0m\u001b[0m\n\u001b[1;32m    574\u001b[0m     \u001b[0;32mdef\u001b[0m \u001b[0mget\u001b[0m\u001b[0;34m(\u001b[0m\u001b[0mself\u001b[0m\u001b[0;34m)\u001b[0m\u001b[0;34m:\u001b[0m\u001b[0;34m\u001b[0m\u001b[0;34m\u001b[0m\u001b[0m\n",
            "\u001b[0;32m/usr/local/lib/python3.7/dist-packages/joblib/parallel.py\u001b[0m in \u001b[0;36m__call__\u001b[0;34m(self)\u001b[0m\n\u001b[1;32m    261\u001b[0m         \u001b[0;32mwith\u001b[0m \u001b[0mparallel_backend\u001b[0m\u001b[0;34m(\u001b[0m\u001b[0mself\u001b[0m\u001b[0;34m.\u001b[0m\u001b[0m_backend\u001b[0m\u001b[0;34m,\u001b[0m \u001b[0mn_jobs\u001b[0m\u001b[0;34m=\u001b[0m\u001b[0mself\u001b[0m\u001b[0;34m.\u001b[0m\u001b[0m_n_jobs\u001b[0m\u001b[0;34m)\u001b[0m\u001b[0;34m:\u001b[0m\u001b[0;34m\u001b[0m\u001b[0;34m\u001b[0m\u001b[0m\n\u001b[1;32m    262\u001b[0m             return [func(*args, **kwargs)\n\u001b[0;32m--> 263\u001b[0;31m                     for func, args, kwargs in self.items]\n\u001b[0m\u001b[1;32m    264\u001b[0m \u001b[0;34m\u001b[0m\u001b[0m\n\u001b[1;32m    265\u001b[0m     \u001b[0;32mdef\u001b[0m \u001b[0m__reduce__\u001b[0m\u001b[0;34m(\u001b[0m\u001b[0mself\u001b[0m\u001b[0;34m)\u001b[0m\u001b[0;34m:\u001b[0m\u001b[0;34m\u001b[0m\u001b[0;34m\u001b[0m\u001b[0m\n",
            "\u001b[0;32m/usr/local/lib/python3.7/dist-packages/joblib/parallel.py\u001b[0m in \u001b[0;36m<listcomp>\u001b[0;34m(.0)\u001b[0m\n\u001b[1;32m    261\u001b[0m         \u001b[0;32mwith\u001b[0m \u001b[0mparallel_backend\u001b[0m\u001b[0;34m(\u001b[0m\u001b[0mself\u001b[0m\u001b[0;34m.\u001b[0m\u001b[0m_backend\u001b[0m\u001b[0;34m,\u001b[0m \u001b[0mn_jobs\u001b[0m\u001b[0;34m=\u001b[0m\u001b[0mself\u001b[0m\u001b[0;34m.\u001b[0m\u001b[0m_n_jobs\u001b[0m\u001b[0;34m)\u001b[0m\u001b[0;34m:\u001b[0m\u001b[0;34m\u001b[0m\u001b[0;34m\u001b[0m\u001b[0m\n\u001b[1;32m    262\u001b[0m             return [func(*args, **kwargs)\n\u001b[0;32m--> 263\u001b[0;31m                     for func, args, kwargs in self.items]\n\u001b[0m\u001b[1;32m    264\u001b[0m \u001b[0;34m\u001b[0m\u001b[0m\n\u001b[1;32m    265\u001b[0m     \u001b[0;32mdef\u001b[0m \u001b[0m__reduce__\u001b[0m\u001b[0;34m(\u001b[0m\u001b[0mself\u001b[0m\u001b[0;34m)\u001b[0m\u001b[0;34m:\u001b[0m\u001b[0;34m\u001b[0m\u001b[0;34m\u001b[0m\u001b[0m\n",
            "\u001b[0;32m/usr/local/lib/python3.7/dist-packages/sklearn/linear_model/_logistic.py\u001b[0m in \u001b[0;36m_logistic_regression_path\u001b[0;34m(X, y, pos_class, Cs, fit_intercept, max_iter, tol, verbose, solver, coef, class_weight, dual, penalty, intercept_scaling, multi_class, random_state, check_input, max_squared_sum, sample_weight, l1_ratio)\u001b[0m\n\u001b[1;32m    934\u001b[0m                 \u001b[0mfunc\u001b[0m\u001b[0;34m,\u001b[0m \u001b[0mw0\u001b[0m\u001b[0;34m,\u001b[0m \u001b[0mmethod\u001b[0m\u001b[0;34m=\u001b[0m\u001b[0;34m\"L-BFGS-B\"\u001b[0m\u001b[0;34m,\u001b[0m \u001b[0mjac\u001b[0m\u001b[0;34m=\u001b[0m\u001b[0;32mTrue\u001b[0m\u001b[0;34m,\u001b[0m\u001b[0;34m\u001b[0m\u001b[0;34m\u001b[0m\u001b[0m\n\u001b[1;32m    935\u001b[0m                 \u001b[0margs\u001b[0m\u001b[0;34m=\u001b[0m\u001b[0;34m(\u001b[0m\u001b[0mX\u001b[0m\u001b[0;34m,\u001b[0m \u001b[0mtarget\u001b[0m\u001b[0;34m,\u001b[0m \u001b[0;36m1.\u001b[0m \u001b[0;34m/\u001b[0m \u001b[0mC\u001b[0m\u001b[0;34m,\u001b[0m \u001b[0msample_weight\u001b[0m\u001b[0;34m)\u001b[0m\u001b[0;34m,\u001b[0m\u001b[0;34m\u001b[0m\u001b[0;34m\u001b[0m\u001b[0m\n\u001b[0;32m--> 936\u001b[0;31m                 \u001b[0moptions\u001b[0m\u001b[0;34m=\u001b[0m\u001b[0;34m{\u001b[0m\u001b[0;34m\"iprint\"\u001b[0m\u001b[0;34m:\u001b[0m \u001b[0miprint\u001b[0m\u001b[0;34m,\u001b[0m \u001b[0;34m\"gtol\"\u001b[0m\u001b[0;34m:\u001b[0m \u001b[0mtol\u001b[0m\u001b[0;34m,\u001b[0m \u001b[0;34m\"maxiter\"\u001b[0m\u001b[0;34m:\u001b[0m \u001b[0mmax_iter\u001b[0m\u001b[0;34m}\u001b[0m\u001b[0;34m\u001b[0m\u001b[0;34m\u001b[0m\u001b[0m\n\u001b[0m\u001b[1;32m    937\u001b[0m             )\n\u001b[1;32m    938\u001b[0m             n_iter_i = _check_optimize_result(\n",
            "\u001b[0;32m/usr/local/lib/python3.7/dist-packages/scipy/optimize/_minimize.py\u001b[0m in \u001b[0;36mminimize\u001b[0;34m(fun, x0, args, method, jac, hess, hessp, bounds, constraints, tol, callback, options)\u001b[0m\n\u001b[1;32m    608\u001b[0m     \u001b[0;32melif\u001b[0m \u001b[0mmeth\u001b[0m \u001b[0;34m==\u001b[0m \u001b[0;34m'l-bfgs-b'\u001b[0m\u001b[0;34m:\u001b[0m\u001b[0;34m\u001b[0m\u001b[0;34m\u001b[0m\u001b[0m\n\u001b[1;32m    609\u001b[0m         return _minimize_lbfgsb(fun, x0, args, jac, bounds,\n\u001b[0;32m--> 610\u001b[0;31m                                 callback=callback, **options)\n\u001b[0m\u001b[1;32m    611\u001b[0m     \u001b[0;32melif\u001b[0m \u001b[0mmeth\u001b[0m \u001b[0;34m==\u001b[0m \u001b[0;34m'tnc'\u001b[0m\u001b[0;34m:\u001b[0m\u001b[0;34m\u001b[0m\u001b[0;34m\u001b[0m\u001b[0m\n\u001b[1;32m    612\u001b[0m         return _minimize_tnc(fun, x0, args, jac, bounds, callback=callback,\n",
            "\u001b[0;32m/usr/local/lib/python3.7/dist-packages/scipy/optimize/lbfgsb.py\u001b[0m in \u001b[0;36m_minimize_lbfgsb\u001b[0;34m(fun, x0, args, jac, bounds, disp, maxcor, ftol, gtol, eps, maxfun, maxiter, iprint, callback, maxls, **unknown_options)\u001b[0m\n\u001b[1;32m    343\u001b[0m             \u001b[0;31m# until the completion of the current minimization iteration.\u001b[0m\u001b[0;34m\u001b[0m\u001b[0;34m\u001b[0m\u001b[0;34m\u001b[0m\u001b[0m\n\u001b[1;32m    344\u001b[0m             \u001b[0;31m# Overwrite f and g:\u001b[0m\u001b[0;34m\u001b[0m\u001b[0;34m\u001b[0m\u001b[0;34m\u001b[0m\u001b[0m\n\u001b[0;32m--> 345\u001b[0;31m             \u001b[0mf\u001b[0m\u001b[0;34m,\u001b[0m \u001b[0mg\u001b[0m \u001b[0;34m=\u001b[0m \u001b[0mfunc_and_grad\u001b[0m\u001b[0;34m(\u001b[0m\u001b[0mx\u001b[0m\u001b[0;34m)\u001b[0m\u001b[0;34m\u001b[0m\u001b[0;34m\u001b[0m\u001b[0m\n\u001b[0m\u001b[1;32m    346\u001b[0m         \u001b[0;32melif\u001b[0m \u001b[0mtask_str\u001b[0m\u001b[0;34m.\u001b[0m\u001b[0mstartswith\u001b[0m\u001b[0;34m(\u001b[0m\u001b[0;34mb'NEW_X'\u001b[0m\u001b[0;34m)\u001b[0m\u001b[0;34m:\u001b[0m\u001b[0;34m\u001b[0m\u001b[0;34m\u001b[0m\u001b[0m\n\u001b[1;32m    347\u001b[0m             \u001b[0;31m# new iteration\u001b[0m\u001b[0;34m\u001b[0m\u001b[0;34m\u001b[0m\u001b[0;34m\u001b[0m\u001b[0m\n",
            "\u001b[0;32m/usr/local/lib/python3.7/dist-packages/scipy/optimize/lbfgsb.py\u001b[0m in \u001b[0;36mfunc_and_grad\u001b[0;34m(x)\u001b[0m\n\u001b[1;32m    293\u001b[0m     \u001b[0;32melse\u001b[0m\u001b[0;34m:\u001b[0m\u001b[0;34m\u001b[0m\u001b[0;34m\u001b[0m\u001b[0m\n\u001b[1;32m    294\u001b[0m         \u001b[0;32mdef\u001b[0m \u001b[0mfunc_and_grad\u001b[0m\u001b[0;34m(\u001b[0m\u001b[0mx\u001b[0m\u001b[0;34m)\u001b[0m\u001b[0;34m:\u001b[0m\u001b[0;34m\u001b[0m\u001b[0;34m\u001b[0m\u001b[0m\n\u001b[0;32m--> 295\u001b[0;31m             \u001b[0mf\u001b[0m \u001b[0;34m=\u001b[0m \u001b[0mfun\u001b[0m\u001b[0;34m(\u001b[0m\u001b[0mx\u001b[0m\u001b[0;34m,\u001b[0m \u001b[0;34m*\u001b[0m\u001b[0margs\u001b[0m\u001b[0;34m)\u001b[0m\u001b[0;34m\u001b[0m\u001b[0;34m\u001b[0m\u001b[0m\n\u001b[0m\u001b[1;32m    296\u001b[0m             \u001b[0mg\u001b[0m \u001b[0;34m=\u001b[0m \u001b[0mjac\u001b[0m\u001b[0;34m(\u001b[0m\u001b[0mx\u001b[0m\u001b[0;34m,\u001b[0m \u001b[0;34m*\u001b[0m\u001b[0margs\u001b[0m\u001b[0;34m)\u001b[0m\u001b[0;34m\u001b[0m\u001b[0;34m\u001b[0m\u001b[0m\n\u001b[1;32m    297\u001b[0m             \u001b[0;32mreturn\u001b[0m \u001b[0mf\u001b[0m\u001b[0;34m,\u001b[0m \u001b[0mg\u001b[0m\u001b[0;34m\u001b[0m\u001b[0;34m\u001b[0m\u001b[0m\n",
            "\u001b[0;32m/usr/local/lib/python3.7/dist-packages/scipy/optimize/optimize.py\u001b[0m in \u001b[0;36mfunction_wrapper\u001b[0;34m(*wrapper_args)\u001b[0m\n\u001b[1;32m    325\u001b[0m     \u001b[0;32mdef\u001b[0m \u001b[0mfunction_wrapper\u001b[0m\u001b[0;34m(\u001b[0m\u001b[0;34m*\u001b[0m\u001b[0mwrapper_args\u001b[0m\u001b[0;34m)\u001b[0m\u001b[0;34m:\u001b[0m\u001b[0;34m\u001b[0m\u001b[0;34m\u001b[0m\u001b[0m\n\u001b[1;32m    326\u001b[0m         \u001b[0mncalls\u001b[0m\u001b[0;34m[\u001b[0m\u001b[0;36m0\u001b[0m\u001b[0;34m]\u001b[0m \u001b[0;34m+=\u001b[0m \u001b[0;36m1\u001b[0m\u001b[0;34m\u001b[0m\u001b[0;34m\u001b[0m\u001b[0m\n\u001b[0;32m--> 327\u001b[0;31m         \u001b[0;32mreturn\u001b[0m \u001b[0mfunction\u001b[0m\u001b[0;34m(\u001b[0m\u001b[0;34m*\u001b[0m\u001b[0;34m(\u001b[0m\u001b[0mwrapper_args\u001b[0m \u001b[0;34m+\u001b[0m \u001b[0margs\u001b[0m\u001b[0;34m)\u001b[0m\u001b[0;34m)\u001b[0m\u001b[0;34m\u001b[0m\u001b[0;34m\u001b[0m\u001b[0m\n\u001b[0m\u001b[1;32m    328\u001b[0m \u001b[0;34m\u001b[0m\u001b[0m\n\u001b[1;32m    329\u001b[0m     \u001b[0;32mreturn\u001b[0m \u001b[0mncalls\u001b[0m\u001b[0;34m,\u001b[0m \u001b[0mfunction_wrapper\u001b[0m\u001b[0;34m\u001b[0m\u001b[0;34m\u001b[0m\u001b[0m\n",
            "\u001b[0;32m/usr/local/lib/python3.7/dist-packages/scipy/optimize/optimize.py\u001b[0m in \u001b[0;36m__call__\u001b[0;34m(self, x, *args)\u001b[0m\n\u001b[1;32m     63\u001b[0m     \u001b[0;32mdef\u001b[0m \u001b[0m__call__\u001b[0m\u001b[0;34m(\u001b[0m\u001b[0mself\u001b[0m\u001b[0;34m,\u001b[0m \u001b[0mx\u001b[0m\u001b[0;34m,\u001b[0m \u001b[0;34m*\u001b[0m\u001b[0margs\u001b[0m\u001b[0;34m)\u001b[0m\u001b[0;34m:\u001b[0m\u001b[0;34m\u001b[0m\u001b[0;34m\u001b[0m\u001b[0m\n\u001b[1;32m     64\u001b[0m         \u001b[0mself\u001b[0m\u001b[0;34m.\u001b[0m\u001b[0mx\u001b[0m \u001b[0;34m=\u001b[0m \u001b[0mnumpy\u001b[0m\u001b[0;34m.\u001b[0m\u001b[0masarray\u001b[0m\u001b[0;34m(\u001b[0m\u001b[0mx\u001b[0m\u001b[0;34m)\u001b[0m\u001b[0;34m.\u001b[0m\u001b[0mcopy\u001b[0m\u001b[0;34m(\u001b[0m\u001b[0;34m)\u001b[0m\u001b[0;34m\u001b[0m\u001b[0;34m\u001b[0m\u001b[0m\n\u001b[0;32m---> 65\u001b[0;31m         \u001b[0mfg\u001b[0m \u001b[0;34m=\u001b[0m \u001b[0mself\u001b[0m\u001b[0;34m.\u001b[0m\u001b[0mfun\u001b[0m\u001b[0;34m(\u001b[0m\u001b[0mx\u001b[0m\u001b[0;34m,\u001b[0m \u001b[0;34m*\u001b[0m\u001b[0margs\u001b[0m\u001b[0;34m)\u001b[0m\u001b[0;34m\u001b[0m\u001b[0;34m\u001b[0m\u001b[0m\n\u001b[0m\u001b[1;32m     66\u001b[0m         \u001b[0mself\u001b[0m\u001b[0;34m.\u001b[0m\u001b[0mjac\u001b[0m \u001b[0;34m=\u001b[0m \u001b[0mfg\u001b[0m\u001b[0;34m[\u001b[0m\u001b[0;36m1\u001b[0m\u001b[0;34m]\u001b[0m\u001b[0;34m\u001b[0m\u001b[0;34m\u001b[0m\u001b[0m\n\u001b[1;32m     67\u001b[0m         \u001b[0;32mreturn\u001b[0m \u001b[0mfg\u001b[0m\u001b[0;34m[\u001b[0m\u001b[0;36m0\u001b[0m\u001b[0;34m]\u001b[0m\u001b[0;34m\u001b[0m\u001b[0;34m\u001b[0m\u001b[0m\n",
            "\u001b[0;32m/usr/local/lib/python3.7/dist-packages/sklearn/linear_model/_logistic.py\u001b[0m in \u001b[0;36m_logistic_loss_and_grad\u001b[0;34m(w, X, y, alpha, sample_weight)\u001b[0m\n\u001b[1;32m    116\u001b[0m     \u001b[0mgrad\u001b[0m \u001b[0;34m=\u001b[0m \u001b[0mnp\u001b[0m\u001b[0;34m.\u001b[0m\u001b[0mempty_like\u001b[0m\u001b[0;34m(\u001b[0m\u001b[0mw\u001b[0m\u001b[0;34m)\u001b[0m\u001b[0;34m\u001b[0m\u001b[0;34m\u001b[0m\u001b[0m\n\u001b[1;32m    117\u001b[0m \u001b[0;34m\u001b[0m\u001b[0m\n\u001b[0;32m--> 118\u001b[0;31m     \u001b[0mw\u001b[0m\u001b[0;34m,\u001b[0m \u001b[0mc\u001b[0m\u001b[0;34m,\u001b[0m \u001b[0myz\u001b[0m \u001b[0;34m=\u001b[0m \u001b[0m_intercept_dot\u001b[0m\u001b[0;34m(\u001b[0m\u001b[0mw\u001b[0m\u001b[0;34m,\u001b[0m \u001b[0mX\u001b[0m\u001b[0;34m,\u001b[0m \u001b[0my\u001b[0m\u001b[0;34m)\u001b[0m\u001b[0;34m\u001b[0m\u001b[0;34m\u001b[0m\u001b[0m\n\u001b[0m\u001b[1;32m    119\u001b[0m \u001b[0;34m\u001b[0m\u001b[0m\n\u001b[1;32m    120\u001b[0m     \u001b[0;32mif\u001b[0m \u001b[0msample_weight\u001b[0m \u001b[0;32mis\u001b[0m \u001b[0;32mNone\u001b[0m\u001b[0;34m:\u001b[0m\u001b[0;34m\u001b[0m\u001b[0;34m\u001b[0m\u001b[0m\n",
            "\u001b[0;32m/usr/local/lib/python3.7/dist-packages/sklearn/linear_model/_logistic.py\u001b[0m in \u001b[0;36m_intercept_dot\u001b[0;34m(w, X, y)\u001b[0m\n\u001b[1;32m     79\u001b[0m         \u001b[0mw\u001b[0m \u001b[0;34m=\u001b[0m \u001b[0mw\u001b[0m\u001b[0;34m[\u001b[0m\u001b[0;34m:\u001b[0m\u001b[0;34m-\u001b[0m\u001b[0;36m1\u001b[0m\u001b[0;34m]\u001b[0m\u001b[0;34m\u001b[0m\u001b[0;34m\u001b[0m\u001b[0m\n\u001b[1;32m     80\u001b[0m \u001b[0;34m\u001b[0m\u001b[0m\n\u001b[0;32m---> 81\u001b[0;31m     \u001b[0mz\u001b[0m \u001b[0;34m=\u001b[0m \u001b[0msafe_sparse_dot\u001b[0m\u001b[0;34m(\u001b[0m\u001b[0mX\u001b[0m\u001b[0;34m,\u001b[0m \u001b[0mw\u001b[0m\u001b[0;34m)\u001b[0m \u001b[0;34m+\u001b[0m \u001b[0mc\u001b[0m\u001b[0;34m\u001b[0m\u001b[0;34m\u001b[0m\u001b[0m\n\u001b[0m\u001b[1;32m     82\u001b[0m     \u001b[0myz\u001b[0m \u001b[0;34m=\u001b[0m \u001b[0my\u001b[0m \u001b[0;34m*\u001b[0m \u001b[0mz\u001b[0m\u001b[0;34m\u001b[0m\u001b[0;34m\u001b[0m\u001b[0m\n\u001b[1;32m     83\u001b[0m     \u001b[0;32mreturn\u001b[0m \u001b[0mw\u001b[0m\u001b[0;34m,\u001b[0m \u001b[0mc\u001b[0m\u001b[0;34m,\u001b[0m \u001b[0myz\u001b[0m\u001b[0;34m\u001b[0m\u001b[0;34m\u001b[0m\u001b[0m\n",
            "\u001b[0;32m/usr/local/lib/python3.7/dist-packages/sklearn/utils/extmath.py\u001b[0m in \u001b[0;36msafe_sparse_dot\u001b[0;34m(a, b, dense_output)\u001b[0m\n\u001b[1;32m    149\u001b[0m             \u001b[0mret\u001b[0m \u001b[0;34m=\u001b[0m \u001b[0mnp\u001b[0m\u001b[0;34m.\u001b[0m\u001b[0mdot\u001b[0m\u001b[0;34m(\u001b[0m\u001b[0ma\u001b[0m\u001b[0;34m,\u001b[0m \u001b[0mb\u001b[0m\u001b[0;34m)\u001b[0m\u001b[0;34m\u001b[0m\u001b[0;34m\u001b[0m\u001b[0m\n\u001b[1;32m    150\u001b[0m     \u001b[0;32melse\u001b[0m\u001b[0;34m:\u001b[0m\u001b[0;34m\u001b[0m\u001b[0;34m\u001b[0m\u001b[0m\n\u001b[0;32m--> 151\u001b[0;31m         \u001b[0mret\u001b[0m \u001b[0;34m=\u001b[0m \u001b[0ma\u001b[0m \u001b[0;34m@\u001b[0m \u001b[0mb\u001b[0m\u001b[0;34m\u001b[0m\u001b[0;34m\u001b[0m\u001b[0m\n\u001b[0m\u001b[1;32m    152\u001b[0m \u001b[0;34m\u001b[0m\u001b[0m\n\u001b[1;32m    153\u001b[0m     if (sparse.issparse(a) and sparse.issparse(b)\n",
            "\u001b[0;31mKeyboardInterrupt\u001b[0m: "
          ]
        }
      ]
    },
    {
      "cell_type": "code",
      "metadata": {
        "id": "3cp1fiuxI7P_"
      },
      "source": [
        ""
      ],
      "id": "3cp1fiuxI7P_",
      "execution_count": null,
      "outputs": []
    },
    {
      "cell_type": "code",
      "metadata": {
        "id": "tj6Hhd9II7Sz"
      },
      "source": [
        ""
      ],
      "id": "tj6Hhd9II7Sz",
      "execution_count": null,
      "outputs": []
    },
    {
      "cell_type": "code",
      "metadata": {
        "id": "cVwQUJjLI7VM"
      },
      "source": [
        ""
      ],
      "id": "cVwQUJjLI7VM",
      "execution_count": null,
      "outputs": []
    },
    {
      "cell_type": "code",
      "metadata": {
        "id": "8f4843be"
      },
      "source": [
        ""
      ],
      "id": "8f4843be",
      "execution_count": null,
      "outputs": []
    },
    {
      "cell_type": "code",
      "metadata": {
        "id": "f018872a"
      },
      "source": [
        ""
      ],
      "id": "f018872a",
      "execution_count": null,
      "outputs": []
    },
    {
      "cell_type": "code",
      "metadata": {
        "id": "c42d145a"
      },
      "source": [
        "#####################################################################################\n",
        "####################################################################################"
      ],
      "id": "c42d145a",
      "execution_count": null,
      "outputs": []
    },
    {
      "cell_type": "code",
      "metadata": {
        "id": "bfa9a797",
        "outputId": "2b29bab7-2407-419f-bfae-f686edfa5016"
      },
      "source": [
        "# il nous faut toutes les variables (*,24)\n",
        "data.shape"
      ],
      "id": "bfa9a797",
      "execution_count": null,
      "outputs": [
        {
          "output_type": "execute_result",
          "data": {
            "text/plain": [
              "(465453, 20)"
            ]
          },
          "metadata": {
            "tags": []
          },
          "execution_count": 196
        }
      ]
    },
    {
      "cell_type": "code",
      "metadata": {
        "id": "49fda19a"
      },
      "source": [
        "# on élimine les variables dons\n",
        "data=data.drop([\"Annee_1er_don\", \"Cumul_dons\",\"Don_max\", \"Don_moyen\"],axis=1)"
      ],
      "id": "49fda19a",
      "execution_count": null,
      "outputs": []
    },
    {
      "cell_type": "code",
      "metadata": {
        "id": "e04a7fd2"
      },
      "source": [
        "# PARAMETRAGE\n",
        "# base de données avec des variables corrélées et sans encodage OneHot\n",
        "nb_var = data.shape[1] - 1\n",
        "train_set, test_set = train_test_split(data, test_size = 0.2, random_state=0)\n",
        "\n",
        "train_X_s = (train_set.iloc[:,1:nb_var]).to_numpy() # sans prendre en compte les identifiants\n",
        "train_Y_s = np.asanyarray(train_set.iloc[:,nb_var])\n",
        "\n",
        "test_X_s = (test_set.iloc[:,1:nb_var]).to_numpy()\n",
        "test_Y_s = np.asanyarray(test_set.iloc[:,nb_var])\n",
        "\n"
      ],
      "id": "e04a7fd2",
      "execution_count": null,
      "outputs": []
    },
    {
      "cell_type": "code",
      "metadata": {
        "id": "0ebf2bed",
        "outputId": "7ffa6c49-3fe9-4865-e429-5005a515e2f2"
      },
      "source": [
        "# Premier paramétrage\n",
        "model_reg_logistic = LogisticRegression(random_state =0, max_iter= 10000, class_weight=\"balanced\" )\n",
        "\n",
        "param = {'C':[0.01,0.05,0.1,0.15,1,10,50], 'solver': ['liblinear','newton-cg', 'lbfgs']} #'penalty':['l2', 'none']\n",
        "\n",
        "grid_reg_logistic = GridSearchCV(model_reg_logistic, param_grid = param, cv=5, scoring ='recall' )\n",
        "resultat_reg_logistic = grid_reg_logistic.fit(train_X_s, train_Y_s)\n",
        "resultat_reg_logistic.best_params_"
      ],
      "id": "0ebf2bed",
      "execution_count": null,
      "outputs": [
        {
          "output_type": "stream",
          "text": [
            "C:\\Users\\Christian\\anaconda3\\lib\\site-packages\\scipy\\optimize\\linesearch.py:327: LineSearchWarning: The line search algorithm did not converge\n",
            "  warn('The line search algorithm did not converge', LineSearchWarning)\n",
            "C:\\Users\\Christian\\anaconda3\\lib\\site-packages\\sklearn\\utils\\optimize.py:195: UserWarning: Line Search failed\n",
            "  warnings.warn('Line Search failed')\n"
          ],
          "name": "stderr"
        },
        {
          "output_type": "execute_result",
          "data": {
            "text/plain": [
              "{'C': 0.01, 'solver': 'liblinear'}"
            ]
          },
          "metadata": {
            "tags": []
          },
          "execution_count": 198
        }
      ]
    },
    {
      "cell_type": "code",
      "metadata": {
        "id": "ba94abdb",
        "outputId": "b3942834-44d6-4ed8-850c-e7fd4ce86a0b"
      },
      "source": [
        "final_model_reg_logistic = LogisticRegression(random_state = 0, max_iter = 10000, class_weight  = \"balanced\", \n",
        "                                             C=0.01, solver=\"liblinear\")\n",
        "evaluation(final_model_reg_logistic, train_X_s, train_Y_s, test_X_s, test_Y_s, scoring = \"recall\") "
      ],
      "id": "ba94abdb",
      "execution_count": null,
      "outputs": [
        {
          "output_type": "stream",
          "text": [
            "test set : \n",
            "[[  342   156]\n",
            " [29264 63329]]\n",
            "              precision    recall  f1-score   support\n",
            "\n",
            "           1       0.01      0.69      0.02       498\n",
            "           2       1.00      0.68      0.81     92593\n",
            "\n",
            "    accuracy                           0.68     93091\n",
            "   macro avg       0.50      0.69      0.42     93091\n",
            "weighted avg       0.99      0.68      0.81     93091\n",
            "\n",
            "train set : \n",
            "[[  1452    670]\n",
            " [117042 253198]]\n",
            "              precision    recall  f1-score   support\n",
            "\n",
            "           1       0.01      0.68      0.02      2122\n",
            "           2       1.00      0.68      0.81    370240\n",
            "\n",
            "    accuracy                           0.68    372362\n",
            "   macro avg       0.50      0.68      0.42    372362\n",
            "weighted avg       0.99      0.68      0.81    372362\n",
            "\n",
            "[ 27927  78195 128464 178733 229002 279271]\n",
            "[0.72067408 0.70205963 0.69005457 0.69035879 0.68988017 0.68551717]\n"
          ],
          "name": "stdout"
        },
        {
          "output_type": "display_data",
          "data": {
            "image/png": "[encoded data removed]",
            "text/plain": [
              "<Figure size 720x432 with 1 Axes>"
            ]
          },
          "metadata": {
            "tags": [],
            "needs_background": "light"
          }
        }
      ]
    },
    {
      "cell_type": "code",
      "metadata": {
        "id": "97399915",
        "outputId": "3d2b593f-7dd7-4563-d72f-3ef6d52be77b"
      },
      "source": [
        ""
      ],
      "id": "97399915",
      "execution_count": null,
      "outputs": [
        {
          "output_type": "execute_result",
          "data": {
            "text/plain": [
              "(465453, 20)"
            ]
          },
          "metadata": {
            "tags": []
          },
          "execution_count": 199
        }
      ]
    },
    {
      "cell_type": "code",
      "metadata": {
        "id": "6275209a"
      },
      "source": [
        "#####################################################################################\n",
        "####################################################################################\n",
        "#                        TEST QUARANTILES\n",
        "####################################################################################\n",
        "####################################################################################"
      ],
      "id": "6275209a",
      "execution_count": null,
      "outputs": []
    },
    {
      "cell_type": "code",
      "metadata": {
        "id": "2c510fba"
      },
      "source": [
        "####################################################################################\n",
        "####################################################################################\n",
        "#            AVEC VARIABLES DONS\n",
        "####################################################################################\n",
        "####################################################################################\n"
      ],
      "id": "2c510fba",
      "execution_count": null,
      "outputs": []
    },
    {
      "cell_type": "code",
      "metadata": {
        "scrolled": true,
        "id": "2014a0ce",
        "outputId": "489d4b1c-8057-4bb7-c397-71c73cf18709"
      },
      "source": [
        "# test predict individus sans classe\n",
        "data = data_orig.copy()\n",
        "# élimination des individus n'ayant pas de valeur pour la varialbe IFI+\n",
        "\"\"\"IMPORTANT\"\"\"\n",
        "data_sans_nan = data[(data.isnull()).sum(axis=1) == 0]\n",
        "\n",
        "#conversion du type de variable\n",
        "for i in range(1,data_sans_nan.shape[1]):\n",
        "    data_sans_nan.iloc[:,i]=data_sans_nan.iloc[:,i].astype(int)\n",
        "\n",
        "# base de données avec des variables corrélées et sans encodage OneHot\n",
        "data =data_sans_nan\n",
        "\n",
        "nb_var = data.shape[1] - 1\n",
        "train_set, test_set = train_test_split(data, test_size = 0.2, random_state=0 )\n",
        "\n",
        "train_X_s = (train_set.iloc[:,1:nb_var]).to_numpy()\n",
        "train_Y_s = np.asanyarray(train_set.iloc[:,nb_var])\n",
        "\n",
        "test_X_s = (test_set.iloc[:,1:nb_var]).to_numpy()\n",
        "test_Y_s = np.asanyarray(test_set.iloc[:,nb_var])\n",
        "\n",
        "# data sans classe\n",
        "#test_data_sans_class =data_orig[(data_orig.isnull()).sum(axis=1) != 0]\n",
        "#test_data_sans_class.shape\n"
      ],
      "id": "2014a0ce",
      "execution_count": null,
      "outputs": [
        {
          "output_type": "stream",
          "text": [
            "C:\\Users\\Christian\\anaconda3\\lib\\site-packages\\pandas\\core\\indexing.py:1843: SettingWithCopyWarning: \n",
            "A value is trying to be set on a copy of a slice from a DataFrame.\n",
            "Try using .loc[row_indexer,col_indexer] = value instead\n",
            "\n",
            "See the caveats in the documentation: https://pandas.pydata.org/pandas-docs/stable/user_guide/indexing.html#returning-a-view-versus-a-copy\n",
            "  self.obj[item_labels[indexer[info_axis]]] = value\n",
            "C:\\Users\\Christian\\anaconda3\\lib\\site-packages\\pandas\\core\\indexing.py:1676: SettingWithCopyWarning: \n",
            "A value is trying to be set on a copy of a slice from a DataFrame.\n",
            "Try using .loc[row_indexer,col_indexer] = value instead\n",
            "\n",
            "See the caveats in the documentation: https://pandas.pydata.org/pandas-docs/stable/user_guide/indexing.html#returning-a-view-versus-a-copy\n",
            "  self._setitem_single_column(ilocs[0], value, pi)\n"
          ],
          "name": "stderr"
        }
      ]
    },
    {
      "cell_type": "code",
      "metadata": {
        "id": "cc783383",
        "outputId": "fead2c12-0376-4266-97cc-e8d3412dfcfd"
      },
      "source": [
        "final_model_reg_logistic = LogisticRegression(random_state = 0, max_iter = 10000, class_weight  = \"balanced\", \n",
        "                                             C=0.1486, solver=\"liblinear\")\n",
        "evaluation(final_model_reg_logistic, train_X_s, train_Y_s, test_X_s, test_Y_s, scoring = \"recall\") "
      ],
      "id": "cc783383",
      "execution_count": null,
      "outputs": [
        {
          "output_type": "stream",
          "text": [
            "test set : \n",
            "[[  430    68]\n",
            " [14450 78143]]\n",
            "              precision    recall  f1-score   support\n",
            "\n",
            "           1       0.03      0.86      0.06       498\n",
            "           2       1.00      0.84      0.92     92593\n",
            "\n",
            "    accuracy                           0.84     93091\n",
            "   macro avg       0.51      0.85      0.49     93091\n",
            "weighted avg       0.99      0.84      0.91     93091\n",
            "\n",
            "train set : \n",
            "[[  1871    251]\n",
            " [ 57921 312319]]\n",
            "              precision    recall  f1-score   support\n",
            "\n",
            "           1       0.03      0.88      0.06      2122\n",
            "           2       1.00      0.84      0.91    370240\n",
            "\n",
            "    accuracy                           0.84    372362\n",
            "   macro avg       0.52      0.86      0.49    372362\n",
            "weighted avg       0.99      0.84      0.91    372362\n",
            "\n",
            "[ 27927  78195 128464 178733 229002 279271]\n",
            "[0.88354701 0.87916147 0.87995439 0.88008883 0.88108381 0.87951711]\n"
          ],
          "name": "stdout"
        },
        {
          "output_type": "display_data",
          "data": {
            "image/png": "[encoded data removed]",
            "text/plain": [
              "<Figure size 720x432 with 1 Axes>"
            ]
          },
          "metadata": {
            "tags": [],
            "needs_background": "light"
          }
        }
      ]
    },
    {
      "cell_type": "code",
      "metadata": {
        "id": "d0a29417"
      },
      "source": [
        ""
      ],
      "id": "d0a29417",
      "execution_count": null,
      "outputs": []
    },
    {
      "cell_type": "code",
      "metadata": {
        "id": "5ac2ccba"
      },
      "source": [
        ""
      ],
      "id": "5ac2ccba",
      "execution_count": null,
      "outputs": []
    },
    {
      "cell_type": "code",
      "metadata": {
        "id": "8884ccb4"
      },
      "source": [
        ""
      ],
      "id": "8884ccb4",
      "execution_count": null,
      "outputs": []
    },
    {
      "cell_type": "code",
      "metadata": {
        "id": "1713794b"
      },
      "source": [
        ""
      ],
      "id": "1713794b",
      "execution_count": null,
      "outputs": []
    },
    {
      "cell_type": "code",
      "metadata": {
        "id": "5d78a85c"
      },
      "source": [
        ""
      ],
      "id": "5d78a85c",
      "execution_count": null,
      "outputs": []
    },
    {
      "cell_type": "code",
      "metadata": {
        "id": "723f9aee"
      },
      "source": [
        "quarantiles(model=final_model_reg_logistic, data_orig=data_orig, affichage=False, save=True, path = \"C:/Users/Christian/Desktop/test_tranches_logistic_regression.xlsx\")"
      ],
      "id": "723f9aee",
      "execution_count": null,
      "outputs": []
    },
    {
      "cell_type": "code",
      "metadata": {
        "id": "31048764"
      },
      "source": [
        "####################################################################################\n",
        "####################################################################################\n",
        "# SANS VARIABLES DONS\n",
        "####################################################################################\n",
        "####################################################################################"
      ],
      "id": "31048764",
      "execution_count": null,
      "outputs": []
    },
    {
      "cell_type": "code",
      "metadata": {
        "id": "c1bc4688",
        "outputId": "98a460be-e850-4f65-a9c1-34cd01805aea"
      },
      "source": [
        "\n",
        "\n",
        "# test predict individus sans classe\n",
        "data = data_orig.copy()\n",
        "\n",
        "# il nous faut toutes les variables (*,24)\n",
        "print(\"dim data_orig: \",data.shape)\n",
        "\n",
        "# on élimine les variables dons\n",
        "data=data.drop([\"Annee_1er_don\", \"Cumul_dons\", \"Don_max\", \"Don_moyen\"],axis=1)\n",
        "\n",
        "# élimination des individus n'ayant pas de valeur pour la varialbe IFI+\n",
        "\"\"\"IMPORTANT\"\"\"\n",
        "data_sans_nan = data[(data.isnull()).sum(axis=1) == 0]\n",
        "\n",
        "#conversion du type de variable\n",
        "for i in range(1,data_sans_nan.shape[1]):\n",
        "    data_sans_nan.iloc[:,i]=data_sans_nan.iloc[:,i].astype(int)\n",
        "\n",
        "# base de données avec des variables corrélées et sans encodage OneHot\n",
        "data =data_sans_nan\n",
        "\n",
        "nb_var = data.shape[1] - 1\n",
        "train_set, test_set = train_test_split(data, test_size = 0.2, random_state=0 )\n",
        "\n",
        "train_X_s = (train_set.iloc[:,1:nb_var]).to_numpy()\n",
        "train_Y_s = np.asanyarray(train_set.iloc[:,nb_var])\n",
        "\n",
        "test_X_s = (test_set.iloc[:,1:nb_var]).to_numpy()\n",
        "test_Y_s = np.asanyarray(test_set.iloc[:,nb_var])"
      ],
      "id": "c1bc4688",
      "execution_count": null,
      "outputs": [
        {
          "output_type": "stream",
          "text": [
            "dim data_orig:  (484522, 24)\n"
          ],
          "name": "stdout"
        },
        {
          "output_type": "stream",
          "text": [
            "C:\\Users\\Christian\\anaconda3\\lib\\site-packages\\pandas\\core\\indexing.py:1843: SettingWithCopyWarning: \n",
            "A value is trying to be set on a copy of a slice from a DataFrame.\n",
            "Try using .loc[row_indexer,col_indexer] = value instead\n",
            "\n",
            "See the caveats in the documentation: https://pandas.pydata.org/pandas-docs/stable/user_guide/indexing.html#returning-a-view-versus-a-copy\n",
            "  self.obj[item_labels[indexer[info_axis]]] = value\n",
            "C:\\Users\\Christian\\anaconda3\\lib\\site-packages\\pandas\\core\\indexing.py:1676: SettingWithCopyWarning: \n",
            "A value is trying to be set on a copy of a slice from a DataFrame.\n",
            "Try using .loc[row_indexer,col_indexer] = value instead\n",
            "\n",
            "See the caveats in the documentation: https://pandas.pydata.org/pandas-docs/stable/user_guide/indexing.html#returning-a-view-versus-a-copy\n",
            "  self._setitem_single_column(ilocs[0], value, pi)\n"
          ],
          "name": "stderr"
        }
      ]
    },
    {
      "cell_type": "code",
      "metadata": {
        "id": "5fd7c4bb",
        "outputId": "3df06837-0de8-4700-f1c4-7cca95db5db0"
      },
      "source": [
        "final_model_reg_logistic = LogisticRegression(random_state = 0, max_iter = 10000, class_weight  = \"balanced\", \n",
        "                                             C=0.01, solver=\"liblinear\")\n",
        "evaluation(final_model_reg_logistic, train_X_s, train_Y_s, test_X_s, test_Y_s, scoring = \"recall\")"
      ],
      "id": "5fd7c4bb",
      "execution_count": null,
      "outputs": [
        {
          "output_type": "stream",
          "text": [
            "test set : \n",
            "[[  342   156]\n",
            " [29264 63329]]\n",
            "              precision    recall  f1-score   support\n",
            "\n",
            "           1       0.01      0.69      0.02       498\n",
            "           2       1.00      0.68      0.81     92593\n",
            "\n",
            "    accuracy                           0.68     93091\n",
            "   macro avg       0.50      0.69      0.42     93091\n",
            "weighted avg       0.99      0.68      0.81     93091\n",
            "\n",
            "train set : \n",
            "[[  1452    670]\n",
            " [117042 253198]]\n",
            "              precision    recall  f1-score   support\n",
            "\n",
            "           1       0.01      0.68      0.02      2122\n",
            "           2       1.00      0.68      0.81    370240\n",
            "\n",
            "    accuracy                           0.68    372362\n",
            "   macro avg       0.50      0.68      0.42    372362\n",
            "weighted avg       0.99      0.68      0.81    372362\n",
            "\n",
            "[ 27927  78195 128464 178733 229002 279271]\n",
            "[0.67008367 0.67363854 0.67889481 0.6802875  0.68468387 0.68551717]\n"
          ],
          "name": "stdout"
        },
        {
          "output_type": "display_data",
          "data": {
            "image/png": "[encoded data removed]",
            "text/plain": [
              "<Figure size 720x432 with 1 Axes>"
            ]
          },
          "metadata": {
            "tags": [],
            "needs_background": "light"
          }
        }
      ]
    },
    {
      "cell_type": "code",
      "metadata": {
        "id": "b3261cf6",
        "outputId": "35b47baa-79dc-4ce7-b6de-95e1dc1f0bb2"
      },
      "source": [
        "quarantiles(model=final_model_reg_logistic, data_orig=data_orig, affichage=True, save=False, path = \"C:/Users/Christian/Desktop/sans_tranches_logistic_regression.xlsx\")"
      ],
      "id": "b3261cf6",
      "execution_count": null,
      "outputs": [
        {
          "output_type": "stream",
          "text": [
            "0.309052    42\n",
            "0.517760    41\n",
            "0.497110    40\n",
            "0.310224    39\n",
            "0.364319    33\n",
            "            ..\n",
            "0.584646     1\n",
            "0.234523     1\n",
            "0.194584     1\n",
            "0.445435     1\n",
            "0.099528     1\n",
            "Name: PROBA, Length: 418817, dtype: int64\n",
            "IFI+                              1      2  TOTAL\n",
            "TRANCHES                                         \n",
            "(0.023299999999999998, 0.0928]    9  12105  12114\n",
            "(0.0928, 0.108]                  10  12103  12113\n",
            "(0.108, 0.119]                   12  12101  12113\n",
            "(0.119, 0.13]                    20  12099  12119\n",
            "(0.13, 0.14]                     15  12093  12108\n",
            "(0.14, 0.149]                    22  12090  12112\n",
            "(0.149, 0.158]                   17  12096  12113\n",
            "(0.158, 0.167]                   20  12093  12113\n",
            "(0.167, 0.175]                   25  12088  12113\n",
            "(0.175, 0.183]                   24  12089  12113\n",
            "(0.183, 0.191]                   24  12089  12113\n",
            "(0.191, 0.199]                   14  12099  12113\n",
            "(0.199, 0.207]                   30  12083  12113\n",
            "(0.207, 0.215]                   33  12080  12113\n",
            "(0.215, 0.223]                   35  12078  12113\n",
            "(0.223, 0.231]                   37  12076  12113\n",
            "(0.231, 0.239]                   23  12090  12113\n",
            "(0.239, 0.247]                   39  12074  12113\n",
            "(0.247, 0.255]                   34  12080  12114\n",
            "(0.255, 0.264]                   46  12066  12112\n",
            "(0.264, 0.272]                   48  12065  12113\n",
            "(0.272, 0.282]                   64  12050  12114\n",
            "(0.282, 0.291]                   58  12054  12112\n",
            "(0.291, 0.301]                   69  12044  12113\n",
            "(0.301, 0.31]                    69  12044  12113\n",
            "(0.31, 0.321]                    60  12056  12116\n",
            "(0.321, 0.331]                   72  12038  12110\n",
            "(0.331, 0.343]                   78  12035  12113\n",
            "(0.343, 0.355]                   76  12037  12113\n",
            "(0.355, 0.368]                   83  12030  12113\n",
            "(0.368, 0.381]                   83  12031  12114\n",
            "(0.381, 0.396]                   89  12023  12112\n",
            "(0.396, 0.413]                   81  12032  12113\n",
            "(0.413, 0.431]                   97  12016  12113\n",
            "(0.431, 0.453]                  114  11999  12113\n",
            "(0.453, 0.477]                  125  11988  12113\n",
            "(0.477, 0.505]                  174  11939  12113\n",
            "(0.505, 0.542]                  163  11950  12113\n",
            "(0.542, 0.598]                  210  11903  12113\n",
            "(0.598, 0.907]                  318  11796  12114\n"
          ],
          "name": "stdout"
        }
      ]
    },
    {
      "cell_type": "code",
      "metadata": {
        "id": "76a86dd8"
      },
      "source": [
        ""
      ],
      "id": "76a86dd8",
      "execution_count": null,
      "outputs": []
    },
    {
      "cell_type": "code",
      "metadata": {
        "id": "5ed655f3"
      },
      "source": [
        ""
      ],
      "id": "5ed655f3",
      "execution_count": null,
      "outputs": []
    },
    {
      "cell_type": "code",
      "metadata": {
        "id": "ae1651a3"
      },
      "source": [
        ""
      ],
      "id": "ae1651a3",
      "execution_count": null,
      "outputs": []
    },
    {
      "cell_type": "code",
      "metadata": {
        "id": "88c2d78f"
      },
      "source": [
        ""
      ],
      "id": "88c2d78f",
      "execution_count": null,
      "outputs": []
    },
    {
      "cell_type": "code",
      "metadata": {
        "id": "39764be1"
      },
      "source": [
        ""
      ],
      "id": "39764be1",
      "execution_count": null,
      "outputs": []
    },
    {
      "cell_type": "code",
      "metadata": {
        "id": "b6af0b20"
      },
      "source": [
        ""
      ],
      "id": "b6af0b20",
      "execution_count": null,
      "outputs": []
    },
    {
      "cell_type": "code",
      "metadata": {
        "id": "2744b893"
      },
      "source": [
        ""
      ],
      "id": "2744b893",
      "execution_count": null,
      "outputs": []
    },
    {
      "cell_type": "code",
      "metadata": {
        "id": "76389aea"
      },
      "source": [
        "data_1 = data_non_corr[data_non_corr[\"IFI+\"]==1]\n",
        "data_2 = data_non_corr[data_non_corr[\"IFI+\"]==2]"
      ],
      "id": "76389aea",
      "execution_count": null,
      "outputs": []
    },
    {
      "cell_type": "code",
      "metadata": {
        "id": "4511079d"
      },
      "source": [
        "\n"
      ],
      "id": "4511079d",
      "execution_count": null,
      "outputs": []
    },
    {
      "cell_type": "code",
      "metadata": {
        "id": "12705dfd"
      },
      "source": [
        "\n"
      ],
      "id": "12705dfd",
      "execution_count": null,
      "outputs": []
    },
    {
      "cell_type": "code",
      "metadata": {
        "id": "589cc202"
      },
      "source": [
        "\n",
        "probas = model_17.predict_proba( data_non_corr.iloc[:,1:nb_var] ) # *1000 data_1\n",
        "#Création des quarantiles\n",
        "d = {'id': data_non_corr.iloc[:,0] , 'proba': probas[:,0]} # data_1\n",
        "df = pd.DataFrame(data=d)\n",
        "df.to_excel(\"C:/Users/Christian/Desktop/test_test.xlsx\") \n",
        "\n"
      ],
      "id": "589cc202",
      "execution_count": null,
      "outputs": []
    },
    {
      "cell_type": "code",
      "metadata": {
        "id": "7a4e111d"
      },
      "source": [
        "df"
      ],
      "id": "7a4e111d",
      "execution_count": null,
      "outputs": []
    },
    {
      "cell_type": "code",
      "metadata": {
        "id": "a274eeb3"
      },
      "source": [
        "somme_quarantiles = pd.DataFrame(data =\"-\", index=[\"somme\"], columns = [\"Tranches de Score\",\"Zone\",\"Eff.\", \"Pourc.\", \"Pourc. cumulé\"] )\n"
      ],
      "id": "a274eeb3",
      "execution_count": null,
      "outputs": []
    },
    {
      "cell_type": "code",
      "metadata": {
        "id": "02569934"
      },
      "source": [
        "info_quarantiles = pd.DataFrame(data =\"-\", index=range(40), columns = [\"Tranches de Score\",\"Zone\",\"Eff.\", \"Pourc.\", \"Pourc. cumulé\"] )\n"
      ],
      "id": "02569934",
      "execution_count": null,
      "outputs": []
    },
    {
      "cell_type": "code",
      "metadata": {
        "id": "3910c876"
      },
      "source": [
        "# prendre uniquement les probalités supérieurs à 50\n",
        "\n",
        "def remplissage_score_1(probas, taux):\n",
        "\n",
        "    somme_quarantiles = pd.DataFrame(data =\"\", index=[\"somme\"], columns = [\"Tranches de Score\",\"Zone\",\"Eff.\", \"Pourc.\", \"Pourc. cumulé\"] )\n",
        "    info_quarantiles = pd.DataFrame(data =\"\", index=range(40), columns = [\"Tranches de Score\",\"Zone\",\"Eff.\", \"Pourc.\", \"Pourc. cumulé\"] )\n",
        "\n",
        "    num = 0\n",
        "    somme_cum = 0\n",
        "    dim_qua = info_quarantiles.shape[0]\n",
        "    val_max = max(probas[:,0])\n",
        "    val_inter = val_max/40\n",
        "    val_change = 0\n",
        "\n",
        "    for k in range(dim_qua) :   \n",
        "        if k == (dim_qua-1) : \n",
        "            somme = ((val_change <=probas[:,0]) & (probas[:,0]<= val_change + val_inter)).sum()\n",
        "        else :\n",
        "            somme = ((val_change <=probas[:,0]) & (probas[:,0]< val_change + val_inter)).sum()\n",
        "            \n",
        "        if k < (dim_qua/2 - (4+1)) : \n",
        "            info_quarantiles.iloc[k,1] = 'R'\n",
        "        elif k > (dim_qua/2 -(1) ) :\n",
        "            info_quarantiles.iloc[k,1] = 'V'\n",
        "        else:\n",
        "            info_quarantiles.iloc[k,1] = '-'\n",
        "            \n",
        "        if k == 0:\n",
        "            info_quarantiles.iloc[k,0] = str(num)+\" - \"+str(num+25)\n",
        "        else :\n",
        "            info_quarantiles.iloc[k,0] = str(num+1)+\" - \"+str(num+25)\n",
        "        \n",
        "        info_quarantiles.iloc[k,2] = somme\n",
        "        info_quarantiles.iloc[k,3] = round(somme/probas.shape[0],2)\n",
        "\n",
        "        somme_cum = somme_cum + info_quarantiles.iloc[k,3]\n",
        "\n",
        "        info_quarantiles.iloc[k,4] = somme_cum\n",
        "        num = num + 25\n",
        "        val_change = val_change + val_inter\n",
        "\n",
        "    somme_quarantiles.iloc[0,0] = \"Ensemble\"    \n",
        "    somme_quarantiles.iloc[0,2] = info_quarantiles.iloc[:,2].sum()\n",
        "    somme_quarantiles.iloc[0,3] = info_quarantiles.iloc[:,3].sum()\n",
        "    somme_quarantiles.iloc[0,4] = info_quarantiles.iloc[39,4]\n",
        "\n",
        "    return info_quarantiles.append(somme_quarantiles)\n",
        "\n",
        "    \n",
        "    "
      ],
      "id": "3910c876",
      "execution_count": null,
      "outputs": []
    },
    {
      "cell_type": "code",
      "metadata": {
        "id": "e829e456"
      },
      "source": [
        "remplissage_score_1(probas, taux=4)\n"
      ],
      "id": "e829e456",
      "execution_count": null,
      "outputs": []
    },
    {
      "cell_type": "code",
      "metadata": {
        "id": "dcc4fc11"
      },
      "source": [
        ""
      ],
      "id": "dcc4fc11",
      "execution_count": null,
      "outputs": []
    },
    {
      "cell_type": "code",
      "metadata": {
        "id": "85f33c1b"
      },
      "source": [
        "  "
      ],
      "id": "85f33c1b",
      "execution_count": null,
      "outputs": []
    },
    {
      "cell_type": "code",
      "metadata": {
        "id": "8fb7f3dd"
      },
      "source": [
        ""
      ],
      "id": "8fb7f3dd",
      "execution_count": null,
      "outputs": []
    },
    {
      "cell_type": "code",
      "metadata": {
        "id": "8cabf642"
      },
      "source": [
        "#####################################################################################\n",
        "####################################################################################"
      ],
      "id": "8cabf642",
      "execution_count": null,
      "outputs": []
    },
    {
      "cell_type": "code",
      "metadata": {
        "id": "c7572e75"
      },
      "source": [
        "#from scipy.stats import kstest\n",
        "#test_stat = kstest(x, 'norm')"
      ],
      "id": "c7572e75",
      "execution_count": null,
      "outputs": []
    },
    {
      "cell_type": "code",
      "metadata": {
        "id": "eff029de"
      },
      "source": [
        ""
      ],
      "id": "eff029de",
      "execution_count": null,
      "outputs": []
    }
  ]
}