{
  "nbformat": 4,
  "nbformat_minor": 0,
  "metadata": {
    "colab": {
      "name": "FDF21_Neural_Networks.ipynb",
      "provenance": [],
      "collapsed_sections": [],
      "authorship_tag": "ABX9TyNb869TyZzGLU01w6iv27vz"
    },
    "kernelspec": {
      "display_name": "Python 3",
      "name": "python3"
    },
    "language_info": {
      "name": "python"
    }
  },
  "cells": [
    {
      "cell_type": "code",
      "metadata": {
        "colab": {
          "base_uri": "https://localhost:8080/"
        },
        "id": "3FL4NG4bKoPL",
        "outputId": "4cfd0ac1-3832-42fb-9bb1-ac6ff24dcc99"
      },
      "source": [
        "import numpy as np\n",
        "import pandas as pd\n",
        "import seaborn as sns\n",
        "import matplotlib.pyplot as plt\n",
        "\n",
        "\n",
        "from sklearn.metrics import confusion_matrix\n",
        "\n",
        "from google.colab import drive\n",
        "drive.mount('/content/drive')"
      ],
      "execution_count": 1,
      "outputs": [
        {
          "output_type": "stream",
          "text": [
            "Mounted at /content/drive\n"
          ],
          "name": "stdout"
        }
      ]
    },
    {
      "cell_type": "code",
      "metadata": {
        "id": "wmD80CCCK5ga"
      },
      "source": [
        "# option d'affichage des résultats\n",
        "pd.set_option(\"display.max_row\",130)\n",
        "pd.set_option(\"display.max_columns\",100)"
      ],
      "execution_count": 2,
      "outputs": []
    },
    {
      "cell_type": "code",
      "metadata": {
        "id": "kkc12UYCK5ie"
      },
      "source": [
        "# les noms des variables\n",
        "\n",
        "colonnes =([\"IDENT\", \"TypeHabi\", \"GeoFaz_Scl\", \"GeoFaz_cl\", \"ImmoFaz_Scl\", \"ImmoFaz_cl\", \"Anciennete\",\n",
        "            \"Logement_prix_m2\", \"Mediane_RFR\", \"Sexe\", \"Prenom_Phase_scl_H\", \"Prenom_Phase_scl_F\",\n",
        "            \"Prenom_Phase_cl_H\", \"Prenom_Phase_cl_F\", \"Age_H\", \"Age_F\", \"Affinite_1\", \"Affinite_2\",\n",
        "            \"Prenom_effectif\", \"Potentiel_prenom\", \"Onoma-Phase_Scl\", \"Onoma-Phase_CL\", \"Top_mon\"])"
      ],
      "execution_count": 3,
      "outputs": []
    },
    {
      "cell_type": "code",
      "metadata": {
        "id": "u5wVNuMu-y9R"
      },
      "source": [
        "colonnes_montant = [\"DEDUPLI\", \"IDENT\", \"SommeDeMONTANT_NUM\", \"Flag_Top_Montant\", \"NovosScore_Vingtile\"]\n",
        "\n",
        "data_montant_orig = pd.read_csv(\"/content/drive/MyDrive/spad_score_method_1/spad_projection_FDFTOT21/DONS_FDF_N_TODAY_1ers_gestes_REF_MD.txt\", sep=\";\", header = 0, low_memory=False, dtype=str) #, dtype=str )#, dtype='Int64')\n",
        "\n",
        "data_montant_orig.iloc[:,2]=data_montant_orig.iloc[:,2].str.replace(\",\",\".\")\n",
        "\n",
        "data_montant_orig.columns =colonnes_montant\n",
        "data_montant_orig[\"SommeDeMONTANT_NUM\"]=data_montant_orig[\"SommeDeMONTANT_NUM\"].astype(float)"
      ],
      "execution_count": 4,
      "outputs": []
    },
    {
      "cell_type": "code",
      "metadata": {
        "id": "IqjK-LTnK5k3"
      },
      "source": [
        "# importation du fichier (changer le chemin d'accès)\n",
        "''' Faites attention au type de fichier, au délimiteur des valeurs (ça doit être unique et non multiple),\n",
        "au header et à la lecture des types d'objets (low_memory) '''\n",
        "\n",
        "data_orig = pd.read_csv(\"/content/drive/MyDrive/spad_score_method_1/spad_projection_FDFTOT21/sans_8_new_my_data_FDFTOT21.txt\", delim_whitespace=\"\\t\", header = None, names=colonnes, low_memory=False, dtype=str)#, dtype='Int64')\n"
      ],
      "execution_count": 5,
      "outputs": []
    },
    {
      "cell_type": "code",
      "metadata": {
        "colab": {
          "base_uri": "https://localhost:8080/"
        },
        "id": "Snpt62qBK5nN",
        "outputId": "25c8b3e4-1c2b-4202-ef18-84f892b65ba6"
      },
      "source": [
        "''' copie superficielle (peu profonde) du dataset original pour ne pas modifier les valeurs\n",
        "d'origine par erreur plus tard \n",
        "'''\n",
        "data = data_orig.copy()\n",
        "data.shape"
      ],
      "execution_count": 6,
      "outputs": [
        {
          "output_type": "execute_result",
          "data": {
            "text/plain": [
              "(1192180, 23)"
            ]
          },
          "metadata": {
            "tags": []
          },
          "execution_count": 6
        }
      ]
    },
    {
      "cell_type": "code",
      "metadata": {
        "colab": {
          "base_uri": "https://localhost:8080/",
          "height": 243
        },
        "id": "vbTTDlg_LGIt",
        "outputId": "39ba6747-d6a8-4224-b35e-5c8d3f0e23ad"
      },
      "source": [
        "# visualisation des premiers lignes\n",
        "data.head()\n"
      ],
      "execution_count": 7,
      "outputs": [
        {
          "output_type": "execute_result",
          "data": {
            "text/html": [
              "<div>\n",
              "<style scoped>\n",
              "    .dataframe tbody tr th:only-of-type {\n",
              "        vertical-align: middle;\n",
              "    }\n",
              "\n",
              "    .dataframe tbody tr th {\n",
              "        vertical-align: top;\n",
              "    }\n",
              "\n",
              "    .dataframe thead th {\n",
              "        text-align: right;\n",
              "    }\n",
              "</style>\n",
              "<table border=\"1\" class=\"dataframe\">\n",
              "  <thead>\n",
              "    <tr style=\"text-align: right;\">\n",
              "      <th></th>\n",
              "      <th>IDENT</th>\n",
              "      <th>TypeHabi</th>\n",
              "      <th>GeoFaz_Scl</th>\n",
              "      <th>GeoFaz_cl</th>\n",
              "      <th>ImmoFaz_Scl</th>\n",
              "      <th>ImmoFaz_cl</th>\n",
              "      <th>Anciennete</th>\n",
              "      <th>Logement_prix_m2</th>\n",
              "      <th>Mediane_RFR</th>\n",
              "      <th>Sexe</th>\n",
              "      <th>Prenom_Phase_scl_H</th>\n",
              "      <th>Prenom_Phase_scl_F</th>\n",
              "      <th>Prenom_Phase_cl_H</th>\n",
              "      <th>Prenom_Phase_cl_F</th>\n",
              "      <th>Age_H</th>\n",
              "      <th>Age_F</th>\n",
              "      <th>Affinite_1</th>\n",
              "      <th>Affinite_2</th>\n",
              "      <th>Prenom_effectif</th>\n",
              "      <th>Potentiel_prenom</th>\n",
              "      <th>Onoma-Phase_Scl</th>\n",
              "      <th>Onoma-Phase_CL</th>\n",
              "      <th>Top_mon</th>\n",
              "    </tr>\n",
              "  </thead>\n",
              "  <tbody>\n",
              "    <tr>\n",
              "      <th>0</th>\n",
              "      <td>0010000001</td>\n",
              "      <td>02</td>\n",
              "      <td>81</td>\n",
              "      <td>08</td>\n",
              "      <td>91</td>\n",
              "      <td>09</td>\n",
              "      <td>06</td>\n",
              "      <td>21</td>\n",
              "      <td>21</td>\n",
              "      <td>01</td>\n",
              "      <td>71</td>\n",
              "      <td>41</td>\n",
              "      <td>07</td>\n",
              "      <td>04</td>\n",
              "      <td>12</td>\n",
              "      <td>04</td>\n",
              "      <td>20</td>\n",
              "      <td>02</td>\n",
              "      <td>02</td>\n",
              "      <td>01</td>\n",
              "      <td>51</td>\n",
              "      <td>05</td>\n",
              "      <td>1</td>\n",
              "    </tr>\n",
              "    <tr>\n",
              "      <th>1</th>\n",
              "      <td>0010000006</td>\n",
              "      <td>01</td>\n",
              "      <td>75</td>\n",
              "      <td>07</td>\n",
              "      <td>43</td>\n",
              "      <td>04</td>\n",
              "      <td>06</td>\n",
              "      <td>06</td>\n",
              "      <td>13</td>\n",
              "      <td>02</td>\n",
              "      <td>71</td>\n",
              "      <td>64</td>\n",
              "      <td>07</td>\n",
              "      <td>06</td>\n",
              "      <td>12</td>\n",
              "      <td>09</td>\n",
              "      <td>04</td>\n",
              "      <td>12</td>\n",
              "      <td>04</td>\n",
              "      <td>13</td>\n",
              "      <td>12</td>\n",
              "      <td>01</td>\n",
              "      <td>1</td>\n",
              "    </tr>\n",
              "    <tr>\n",
              "      <th>2</th>\n",
              "      <td>0010000011</td>\n",
              "      <td>01</td>\n",
              "      <td>76</td>\n",
              "      <td>07</td>\n",
              "      <td>43</td>\n",
              "      <td>04</td>\n",
              "      <td>06</td>\n",
              "      <td>06</td>\n",
              "      <td>16</td>\n",
              "      <td>03</td>\n",
              "      <td>54</td>\n",
              "      <td>81</td>\n",
              "      <td>05</td>\n",
              "      <td>08</td>\n",
              "      <td>07</td>\n",
              "      <td>12</td>\n",
              "      <td>06</td>\n",
              "      <td>06</td>\n",
              "      <td>04</td>\n",
              "      <td>18</td>\n",
              "      <td>36</td>\n",
              "      <td>03</td>\n",
              "      <td>2</td>\n",
              "    </tr>\n",
              "    <tr>\n",
              "      <th>3</th>\n",
              "      <td>0010000013</td>\n",
              "      <td>03</td>\n",
              "      <td>75</td>\n",
              "      <td>07</td>\n",
              "      <td>43</td>\n",
              "      <td>04</td>\n",
              "      <td>04</td>\n",
              "      <td>06</td>\n",
              "      <td>13</td>\n",
              "      <td>01</td>\n",
              "      <td>71</td>\n",
              "      <td>36</td>\n",
              "      <td>07</td>\n",
              "      <td>03</td>\n",
              "      <td>12</td>\n",
              "      <td>11</td>\n",
              "      <td>11</td>\n",
              "      <td>19</td>\n",
              "      <td>04</td>\n",
              "      <td>06</td>\n",
              "      <td>21</td>\n",
              "      <td>02</td>\n",
              "      <td>1</td>\n",
              "    </tr>\n",
              "    <tr>\n",
              "      <th>4</th>\n",
              "      <td>0010000015</td>\n",
              "      <td>02</td>\n",
              "      <td>33</td>\n",
              "      <td>03</td>\n",
              "      <td>44</td>\n",
              "      <td>04</td>\n",
              "      <td>06</td>\n",
              "      <td>07</td>\n",
              "      <td>12</td>\n",
              "      <td>01</td>\n",
              "      <td>71</td>\n",
              "      <td>42</td>\n",
              "      <td>07</td>\n",
              "      <td>04</td>\n",
              "      <td>12</td>\n",
              "      <td>05</td>\n",
              "      <td>14</td>\n",
              "      <td>03</td>\n",
              "      <td>03</td>\n",
              "      <td>01</td>\n",
              "      <td>14</td>\n",
              "      <td>01</td>\n",
              "      <td>2</td>\n",
              "    </tr>\n",
              "  </tbody>\n",
              "</table>\n",
              "</div>"
            ],
            "text/plain": [
              "        IDENT TypeHabi GeoFaz_Scl GeoFaz_cl ImmoFaz_Scl ImmoFaz_cl Anciennete  \\\n",
              "0  0010000001       02         81        08          91         09         06   \n",
              "1  0010000006       01         75        07          43         04         06   \n",
              "2  0010000011       01         76        07          43         04         06   \n",
              "3  0010000013       03         75        07          43         04         04   \n",
              "4  0010000015       02         33        03          44         04         06   \n",
              "\n",
              "  Logement_prix_m2 Mediane_RFR Sexe Prenom_Phase_scl_H Prenom_Phase_scl_F  \\\n",
              "0               21          21   01                 71                 41   \n",
              "1               06          13   02                 71                 64   \n",
              "2               06          16   03                 54                 81   \n",
              "3               06          13   01                 71                 36   \n",
              "4               07          12   01                 71                 42   \n",
              "\n",
              "  Prenom_Phase_cl_H Prenom_Phase_cl_F Age_H Age_F Affinite_1 Affinite_2  \\\n",
              "0                07                04    12    04         20         02   \n",
              "1                07                06    12    09         04         12   \n",
              "2                05                08    07    12         06         06   \n",
              "3                07                03    12    11         11         19   \n",
              "4                07                04    12    05         14         03   \n",
              "\n",
              "  Prenom_effectif Potentiel_prenom Onoma-Phase_Scl Onoma-Phase_CL Top_mon  \n",
              "0              02               01              51             05       1  \n",
              "1              04               13              12             01       1  \n",
              "2              04               18              36             03       2  \n",
              "3              04               06              21             02       1  \n",
              "4              03               01              14             01       2  "
            ]
          },
          "metadata": {
            "tags": []
          },
          "execution_count": 7
        }
      ]
    },
    {
      "cell_type": "code",
      "metadata": {
        "id": "ZJgFPrv-_omD"
      },
      "source": [
        ""
      ],
      "execution_count": 7,
      "outputs": []
    },
    {
      "cell_type": "code",
      "metadata": {
        "id": "R32oQgCWLGPT"
      },
      "source": [
        "#nombre de modalités de chaque variables (dans un dataframe)\n",
        "def nombre_mod(data2):\n",
        "    #création d'un dataframe vide\n",
        "    dff= pd.DataFrame(columns=[\"VARIABLE\",\"NOMBRE_MOD\", \"NOMBRE_MOD_SANS_NA\"])\n",
        "    for i in range(data2.shape[1]): # sans compter les valeurs manquantes\n",
        "        taille =len(data2.iloc[:,i].value_counts(dropna=False))\n",
        "        taille_1 = len(data2.iloc[:,i].value_counts(dropna=True) )\n",
        "        dff=dff.append({\"VARIABLE\": colonnes[i],\"NOMBRE_MOD\":taille, \"NOMBRE_MOD_SANS_NA\":taille_1 }, ignore_index=True)\n",
        "    return dff\n",
        "\n",
        "# sélection des corrélations les plus importantes\n",
        "def variables_corr(tableau_corr, seuil):\n",
        "    colonnes = tableau_corr.columns\n",
        "    val_temp = 0 \n",
        "    variables_corr_pos=[] ; variables_corr_pos_val=[]\n",
        "    variables_corr_neg=[] ; variables_corr_neg_val=[]\n",
        "    for i in range(tableau_corr.shape[0]):  \n",
        "        for j in range(tableau_corr.shape[0]):\n",
        "            if i<j: #i!=j:\n",
        "                if (tableau_corr.iloc[i,j] > seuil):\n",
        "                    variables_corr_pos.append(colonnes[j])\n",
        "                    variables_corr_pos_val.append(round( tableau_corr.iloc[i,j], 2))\n",
        "                    val_temp += 1\n",
        "\n",
        "                if (tableau_corr.iloc[i,j] <-seuil):\n",
        "                    variables_corr_neg.append(colonnes[j])\n",
        "                    variables_corr_neg_val.append(round( tableau_corr.iloc[i,j], 2))\n",
        "                    val_temp += 1\n",
        "\n",
        "        if (len(variables_corr_pos) > 0) | (len(variables_corr_neg) >0) :\n",
        "            print(\"variable : \", colonnes[i])\n",
        "            if len(variables_corr_pos) > 0:    \n",
        "                print(\"corr pos\", variables_corr_pos)\n",
        "                print(\"corr pos\", variables_corr_pos_val)\n",
        "                val_temp += 1\n",
        "\n",
        "            if len(variables_corr_neg) >0:  \n",
        "                print(\"corr neg\", variables_corr_neg)\n",
        "                print(\"corr neg\", variables_corr_neg_val)\n",
        "                val_temp += 1\n",
        "            print(\"\")\n",
        "        variables_corr_pos = variables_corr_pos*0\n",
        "        variables_corr_neg = variables_corr_pos*0\n",
        "\n",
        "        variables_corr_pos_val = variables_corr_pos_val*0\n",
        "        variables_corr_neg_val = variables_corr_pos_val*0\n",
        "    if val_temp == 0:\n",
        "        print(\"IL N'Y A PAS DE CORRELATION ENTRE LES VARIABLES PAR RAPPORT AU SEUIL PRIS\")\n",
        "        \n",
        "\n",
        "\n",
        "def evaluation(model, X_train, y_train, X_test, y_test, scoring, plot):\n",
        "\n",
        "    #model.fit(X_train, y_train)\n",
        "    y_pred_test = (model.predict(X_test) > 0.5).astype(\"int64\").ravel()\n",
        "    y_pred_train = (model.predict(X_train) > 0.5 ).astype(\"int64\").ravel()\n",
        "\n",
        "    y_pred_test = np.where(y_pred_test==0, 2, y_pred_test) \n",
        "    y_pred_train = np.where(y_pred_train==0, 2, y_pred_train) \n",
        "\n",
        "    y_test = np.where(y_test==0, 2, y_test) \n",
        "    y_train = np.where(y_train==0, 2, y_train) \n",
        "\n",
        "    print(\"test\",accuracy_score(y_test, y_pred_test)); print(\"train\", accuracy_score(y_train, y_pred_train))\n",
        "\n",
        "    print(\"test set : \")\n",
        "    print(confusion_matrix(y_test, y_pred_test))\n",
        "    print(classification_report(y_test, y_pred_test)) \n",
        "    print(\"train set : \")\n",
        "    print(confusion_matrix(y_train, y_pred_train )) # ajouter \n",
        "    print(classification_report(y_train, y_pred_train ))\n",
        "\n",
        "    if plot == True:\n",
        "        N, train_score, val_score = learning_curve(model, X_train, y_train, shuffle=True, cv = 4, scoring = scoring, train_sizes = np.linspace(0.1, 1, 6) )\n",
        "\n",
        "        plt.figure(figsize = (10,6))\n",
        "        plt.plot(N, train_score.mean(axis=1), label =\"train_score\")\n",
        "        plt.plot(N, val_score.mean(axis=1), label =\"cross_validation_score\")\n",
        "        plt.legend()\n",
        "    else :\n",
        "        print(\"GRAPHIQUE NON DEMANDE\")\n",
        "\n",
        "# Comme il n'y a pas de valeurs manquantes (à la place il y a un nombre), le seul traitement qu'on fait c'est tranformer\n",
        "# le type de variable (les variables continues deviennent qualitatives)\n",
        "def data_processing(df):\n",
        "    \"\"\" \n",
        "    for i in range(0,len(df.columns)):    \n",
        "        df[df.columns[i]].fillna(100.0, inplace=True) #On remplace les données manquantes par 100\n",
        "    for i in range(0,len(df.columns)):\n",
        "        print(df[df.columns[i]].value_counts(dropna=False))    \n",
        "    \"\"\"\n",
        "    \n",
        "   #Transformation de toutes les variables en facteurs         \n",
        "    for i in range(0,len(df.columns)):\n",
        "        df[df.columns[i]] = df[df.columns[i]].astype('category')\n",
        "    return df.to_numpy() #.as_matrix()\n",
        "\n",
        "\n",
        "def vingtiles(model, data_orig, affichage, save, path): # data_orig est une variables locale (peut être différente au df d'origine)\n",
        "    # position de la dernière variable explicative dans le dataset\n",
        "    nb_var = data_orig.shape[1]-1\n",
        "\n",
        "    # predict sur tous les individus (avec et sans classe Top_mon)\n",
        "    tous_probas = model.predict_proba(data_orig.iloc[:,1:nb_var])\n",
        "    df_tous = pd.DataFrame({'IDENT': data_orig.iloc[:,0] , 'PROBA': tous_probas[:,0] })\n",
        "    #df_tous\n",
        "    \n",
        "    # valeurs ordonnées pour diviser après\n",
        "    df_tous=df_tous.sort_values(by='PROBA', ascending=True)\n",
        "    #df_tous\n",
        "    print(df_tous)\n",
        "    \n",
        "    #vérification\n",
        "    print(df_tous['PROBA'].value_counts())\n",
        "\n",
        "    # vingtiles\n",
        "    df_temp =pd.DataFrame( pd.qcut(df_tous['PROBA'],q= 20)  )\n",
        "    #print(df_temp)\n",
        "\n",
        "    # ajout par index (IMPORTANTE)\n",
        "    df_tous[\"TRANCHES\"]=pd.DataFrame(df_temp.iloc[:,0].to_numpy(),index= df_temp.index)\n",
        "    #print(df_tous)\n",
        "\n",
        "    # création de la dernière colonne CLASSE et son remplissage\n",
        "    index_20_ord = pd.DataFrame(np.unique(df_tous[\"TRANCHES\"])) \n",
        "    df_tous[\"CLASSE\"]=df_tous[\"TRANCHES\"].copy()\n",
        "    ind_val=1\n",
        "    for kk in range(20):\n",
        "        df_tous[\"CLASSE\"][df_tous[\"CLASSE\"]== index_20_ord.iloc[kk,0] ] = str(ind_val) \n",
        "        ind_val+=1\n",
        "    print(df_tous)    \n",
        "    \n",
        "    # pour la colonne Top_mon : changement de type de variable et remplissage des valeurs (s'il le faut)\n",
        "    data_temp_t = data_orig.copy()\n",
        "    data_temp_t[\"Top_mon\"] =  data_temp_t[\"Top_mon\"].replace(1.0,'1')\n",
        "    data_temp_t[\"Top_mon\"] =  data_temp_t[\"Top_mon\"].replace(2.0,'2')\n",
        "    data_all_complet_class = data_temp_t #data_temp_t.fillna('2')\n",
        "    #data_all_complet_class\n",
        "\n",
        "    # jointure\n",
        "    ident_class_tous = data_all_complet_class[[\"IDENT\",\"Top_mon\"]]\n",
        "    tableau_resultats = pd.merge(df_tous,ident_class_tous)\n",
        "    #tableau_resultats\n",
        "\n",
        "    # tranches finales\n",
        "    tab_cross_temp = pd.crosstab(tableau_resultats[\"TRANCHES\"],tableau_resultats[\"Top_mon\"])\n",
        "    #print(tab_cross_temp); print(\"-----------------------\")\n",
        "\n",
        "    # création d'une colonne TOTAL\n",
        "    tab_cross_temp[\"TOTAL\"]=tab_cross_temp[\"1\"]+tab_cross_temp[\"2\"]\n",
        "    \n",
        "    # affichage\n",
        "    if affichage ==True:        \n",
        "        print(tab_cross_temp)\n",
        "\n",
        "    # création du tableau final en éliminant la colonne 2\n",
        "    #tab_pour_excel = tab_cross_temp.drop([\"2\"], axis=1)\n",
        "\n",
        "    # si on ne veut pas éliminer la colonne 2\n",
        "    tab_pour_excel =  tab_cross_temp\n",
        "    \n",
        "    # enregistrement sous Excel\n",
        "    if save == True:\n",
        "        tab_pour_excel.to_excel(path)\n",
        "\n",
        "    return  df_tous\n",
        "\n",
        "\n",
        "def tableau_5_montant(df_tous, data_montant_orig, affichage, save, path):\n",
        "    # tableau avec les deux variables qui nous intéressent\n",
        "    ident_et_montant = data_montant_orig[[\"IDENT\",\"SommeDeMONTANT_NUM\"]]\n",
        "\n",
        "    # jointure\n",
        "    tableau_resultats_et_montant = pd.merge(df_tous,ident_et_montant)\n",
        "    #print(tableau_resultats_et_montant) \n",
        "\n",
        "    # on élimine toutes les sommes supérieur à 5000 €\n",
        "    tableau_resultats_et_montant = tableau_resultats_et_montant[tableau_resultats_et_montant[\"SommeDeMONTANT_NUM\"] <= 5000]\n",
        "    print(tableau_resultats_et_montant) \n",
        "    #print(tableau_resultats_et_montant[\"TRANCHES\"].value_counts())\n",
        "    #print(pd.DataFrame(np.unique(tableau_resultats_et_montant[\"TRANCHES\"])))\n",
        "\n",
        "    # index\n",
        "    index_temp = pd.DataFrame(np.unique(tableau_resultats_et_montant[\"TRANCHES\"])) \n",
        "\n",
        "    # création du tableau qui contiendra les résultats finaux\n",
        "    tableau_resultats_finaux = pd.DataFrame(columns=[\"TRANCHES\",\"Moyen_Somme\",\"TOTAL\"],index=range(20))\n",
        "    tableau_resultats_finaux[\"TRANCHES\"] = index_temp\n",
        "\n",
        "    # remplissage du tableau final\n",
        "    for k in range(20):\n",
        "        tableau_resultats_finaux.iloc[k,1] = tableau_resultats_et_montant[tableau_resultats_et_montant[\"TRANCHES\"]==index_temp.iloc[k,0]][\"SommeDeMONTANT_NUM\"].mean()\n",
        "        tableau_resultats_finaux.iloc[k,2] = (tableau_resultats_et_montant[\"TRANCHES\"]==index_temp.iloc[k,0]).sum()\n",
        "    \n",
        "    # affichage\n",
        "    if affichage:        \n",
        "        print(tableau_resultats_finaux)\n",
        "    \n",
        "    # enregistrement sous Excel\n",
        "    if save:\n",
        "        tableau_resultats_finaux.to_excel(path)\n",
        "\n",
        "\n",
        "def vingtiles_ind_sans_target(model, data_orig, affichage, save, path):\n",
        "    # position de la dernière variable explicative dans le dataset\n",
        "    nb_var = data_orig.shape[1]-1\n",
        "\n",
        "    # predict sur tous les individus (avec et sans classe IFI+)\n",
        "    tous_probas = model.predict_proba(data_orig.iloc[:,1:nb_var])\n",
        "    df_tous = pd.DataFrame({'IDENT': data_orig.iloc[:,0] , 'PROBA': tous_probas[:,0] })\n",
        "    #df_tous\n",
        "    \n",
        "    # valeurs ordonnées pour diviser après\n",
        "    df_tous=df_tous.sort_values(by='PROBA', ascending=True)\n",
        "    #df_tous\n",
        "    print(df_tous)\n",
        "    \n",
        "    #vérification\n",
        "    print(df_tous['PROBA'].value_counts())\n",
        "\n",
        "    # quarantiles\n",
        "    df_temp =pd.DataFrame( pd.qcut(df_tous['PROBA'],q= 20)  )\n",
        "    print(df_temp)\n",
        "\n",
        "    # ajout par index (IMPORTANTE)\n",
        "    df_tous[\"TRANCHES\"]=pd.DataFrame(df_temp.iloc[:,0].to_numpy(),index= df_temp.index)\n",
        "    print(df_tous)\n",
        "    print(df_tous[\"TRANCHES\"].value_counts(ascending = True))\n",
        "\n",
        "    # GERE L'ORDRE\n",
        "    patra = np.unique(df_tous.iloc[:,2], return_counts=True)\n",
        "    df_tranches_sans_target = pd.DataFrame([patra[0],patra[1]]).T\n",
        "    df_tranches_sans_target.columns=[\"TRANCHES\",\"COUNTS\"]\n",
        "\n",
        "    # affichage\n",
        "    if affichage ==True:        \n",
        "        print(df_tranches_sans_target)\n",
        "    \n",
        "    # enregistrement sous Excel\n",
        "    if save == True:\n",
        "        df_tranches_sans_target.to_excel(path)\n",
        "    \n",
        "\n",
        "# élimination des variables trop corrélées (choix manuel)\n",
        "def elimination_val_corr(data):\n",
        "    data = data.drop(columns=[\"\"])\n",
        "    return data\n",
        "          \n"
      ],
      "execution_count": 22,
      "outputs": []
    },
    {
      "cell_type": "code",
      "metadata": {
        "id": "DDurwydOLm27"
      },
      "source": [
        "\n",
        "from sklearn.preprocessing import OneHotEncoder\n",
        "\n",
        "from sklearn.neural_network import MLPClassifier\n",
        "\n",
        "from sklearn.metrics import f1_score, confusion_matrix, classification_report, accuracy_score\n",
        "from sklearn.model_selection import train_test_split, learning_curve, GridSearchCV, cross_val_score"
      ],
      "execution_count": 9,
      "outputs": []
    },
    {
      "cell_type": "code",
      "metadata": {
        "id": "o9sthKcqlUFn"
      },
      "source": [
        ""
      ],
      "execution_count": 9,
      "outputs": []
    },
    {
      "cell_type": "code",
      "metadata": {
        "id": "CHgt_J2KlURC"
      },
      "source": [
        ""
      ],
      "execution_count": 9,
      "outputs": []
    },
    {
      "cell_type": "code",
      "metadata": {
        "id": "EIBrIyqiQkh4"
      },
      "source": [
        "###########################################################################################################\n",
        "#                                                   KERAS \n",
        "###########################################################################################################\n"
      ],
      "execution_count": 10,
      "outputs": []
    },
    {
      "cell_type": "code",
      "metadata": {
        "id": "zOiFMyCBlZ04"
      },
      "source": [
        "##########################################\n",
        "# SANS LES VARIABLES CORR  ET ENCODAGE DUMMIES\n",
        "#########################################"
      ],
      "execution_count": 11,
      "outputs": []
    },
    {
      "cell_type": "code",
      "metadata": {
        "colab": {
          "base_uri": "https://localhost:8080/"
        },
        "id": "lVx7zX-hlaIY",
        "outputId": "b81704fa-5894-48dd-d5b6-7c7c4c61f436"
      },
      "source": [
        "# test predict individus sans classe\n",
        "data = data_orig.copy()\n",
        "\n",
        "# on élimine les variables dons\n",
        "data=data.drop([\"GeoFaz_cl\", \"ImmoFaz_Scl\", \"ImmoFaz_cl\", \"Prenom_Phase_cl_H\", \"Prenom_Phase_cl_F\",\n",
        "                \"Onoma-Phase_Scl\", \"Onoma-Phase_CL\"],axis=1)\n",
        "\n",
        "# encodage Onehot sur toutes les données (on évite ainsi les erreurs futures)\n",
        "nb_var = data.shape[1] - 1\n",
        "data_1_22 = pd.get_dummies(data.iloc[:,1:(data.shape[1]-1)], columns=data.columns[1:(data.shape[1]-1)] )\n",
        "data_var_qualitatives_temp =  pd.concat([data[\"IDENT\"], data_1_22, data[\"Top_mon\"]], axis=1)\n",
        "data = data_var_qualitatives_temp\n",
        "#encodage = OneHotEncoder()\n",
        "#encodage.fit(data_processing(data.iloc[:,1:nb_var]))\n",
        "\n",
        "# élimination des individus n'ayant pas de valeur pour la varialbe IFI+\n",
        "\"\"\"IMPORTANT\"\"\"\n",
        "data_sans_nan = data[(data.isnull()).sum(axis=1) == 0]\n",
        "\n",
        "#conversion du type de variable\n",
        "for i in range(1,data_sans_nan.shape[1]):\n",
        "    data_sans_nan.iloc[:,i]=data_sans_nan.iloc[:,i].astype(int)\n",
        "\n",
        "# base de données avec des variables corrélées et avec encodage OneHot\n",
        "data =data_sans_nan\n",
        "\n",
        "nb_var = data.shape[1] - 1\n",
        "train_set, test_set = train_test_split(data, test_size = 0.2, random_state=0 )\n",
        "\n",
        "train_X_s = (train_set.iloc[:,1:nb_var]).to_numpy()\n",
        "train_Y_s = np.asanyarray(train_set.iloc[:,nb_var])\n",
        "train_Y_s[train_Y_s==2]=0\n",
        "train_Y_s[train_Y_s==1]=1\n",
        "\n",
        "test_X_s = (test_set.iloc[:,1:nb_var]).to_numpy()\n",
        "test_Y_s = np.asanyarray(test_set.iloc[:,nb_var])\n",
        "test_Y_s[test_Y_s==2]=0\n",
        "train_Y_s[train_Y_s==1]=1"
      ],
      "execution_count": 12,
      "outputs": [
        {
          "output_type": "stream",
          "text": [
            "/usr/local/lib/python3.7/dist-packages/pandas/core/indexing.py:1743: SettingWithCopyWarning: \n",
            "A value is trying to be set on a copy of a slice from a DataFrame.\n",
            "Try using .loc[row_indexer,col_indexer] = value instead\n",
            "\n",
            "See the caveats in the documentation: https://pandas.pydata.org/pandas-docs/stable/user_guide/indexing.html#returning-a-view-versus-a-copy\n",
            "  isetter(ilocs[0], value)\n"
          ],
          "name": "stderr"
        }
      ]
    },
    {
      "cell_type": "code",
      "metadata": {
        "id": "_HuqZmj-laKc"
      },
      "source": [
        "\"\"\"\n",
        "import os\n",
        "%env PYTHONHASHSEED=0\n",
        "os.environ['PYTHONHASHSEED']=str(0)\n",
        "\"\"\"\n",
        "import tensorflow as tf\n",
        "import random \n",
        "import keras\n",
        "from keras import models, layers\n",
        "from keras.wrappers.scikit_learn import KerasClassifier \n",
        "from sklearn.utils import class_weight \n",
        "\n",
        "random.seed(0)\n",
        "np.random.seed(0)\n",
        "tf.random.set_seed(0)\n"
      ],
      "execution_count": 70,
      "outputs": []
    },
    {
      "cell_type": "code",
      "metadata": {
        "id": "KVoyzqEboq8s"
      },
      "source": [
        "\n",
        "\n",
        "# Create function returning a compiled network\n",
        "\n",
        "def create_network(number_of_features):\n",
        "    # numbers of features\n",
        "    number_of_features = number_of_features  #train_X_s.shape[1]\n",
        "\n",
        "    # start neural network\n",
        "    network = models.Sequential()\n",
        "\n",
        "    # add fully connected layer with a ReLU activation function\n",
        "    network.add(layers.Dense(units=200, activation=\"relu\", input_shape = (number_of_features, ), kernel_initializer=keras.initializers.glorot_uniform(seed=0) ))\n",
        "\n",
        "    # add fully connected layer with a ReLu activation function\n",
        "    network.add(layers.Dense(units=100, activation = \"tanh\", kernel_initializer=keras.initializers.glorot_uniform(seed=0) ) )\n",
        "\n",
        "    # add fully connected layer with a ReLu activation function\n",
        "    network.add(layers.Dense(units=50, activation = \"tanh\", kernel_initializer=keras.initializers.glorot_uniform(seed=0) ) )    \n",
        "\n",
        "    # add fully connected layer with a ReLu activation function\n",
        "    network.add(layers.Dense(units=20, activation = \"tanh\", kernel_initializer=keras.initializers.glorot_uniform(seed=0) ) )    \n",
        "\n",
        "    # add fully connected layer with a sigmoid activation function\n",
        "    network.add(layers.Dense(units=1, activation = \"sigmoid\", kernel_initializer=keras.initializers.glorot_uniform(seed=0) ) )\n",
        "\n",
        "    # compile neural network\n",
        "    network.compile(loss=\"binary_crossentropy\", optimizer =\"adam\", metrics = [\"accuracy\"] )\n",
        "\n",
        "\n",
        "    return network\n"
      ],
      "execution_count": 58,
      "outputs": []
    },
    {
      "cell_type": "code",
      "metadata": {
        "id": "Z-5h8dZKAunL"
      },
      "source": [
        "def plot_graphics(history):\n",
        "    # get training and test loss histories\n",
        "    training_loss = history.history[\"loss\"]\n",
        "    test_loss = history.history[\"val_loss\"]\n",
        "\n",
        "    # create count of the number of epochs\n",
        "    epoch_count = range(1, len(training_loss)+1)\n",
        "\n",
        "    # visualize loss history\n",
        "    plt.figure(figsize=(8,5))\n",
        "    plt.plot(epoch_count, training_loss, \"r--\" )\n",
        "    plt.plot(epoch_count, test_loss, \"b-\")\n",
        "    plt.legend([\"Training Loss\", \"Test Loss\"])\n",
        "    plt.xlabel(\"Epoch\")\n",
        "    plt.ylabel(\"Loss\")\n",
        "\n",
        "    # get training and test accuracy histories\n",
        "\n",
        "    training_accuracy = history.history[\"accuracy\"]\n",
        "    test_accuracy = history.history[\"val_accuracy\"]\n",
        "\n",
        "    plt.figure(figsize=(8,5))\n",
        "    plt.plot(epoch_count, training_accuracy, \"r--\")\n",
        "    plt.plot(epoch_count, test_accuracy, \"b-\")\n",
        "    plt.legend([\"Training Accuracy\", \"Test Accuracy\"])\n",
        "    plt.xlabel(\"Epoch\")\n",
        "    plt.ylabel(\"Accuracy Score\")\n"
      ],
      "execution_count": 59,
      "outputs": []
    },
    {
      "cell_type": "code",
      "metadata": {
        "colab": {
          "base_uri": "https://localhost:8080/"
        },
        "id": "8uJ0kITcXpOL",
        "outputId": "39b76113-524f-4221-c449-ed38557816a2"
      },
      "source": [
        "# class weight for embalanced data\n",
        "class_weights = class_weight.compute_class_weight('balanced',np.unique(train_Y_s ),train_Y_s)\n",
        "class_weights = dict(enumerate(class_weights))\n",
        "class_weights"
      ],
      "execution_count": 60,
      "outputs": [
        {
          "output_type": "execute_result",
          "data": {
            "text/plain": [
              "{0: 0.684332948534606, 1: 1.8562415291863346}"
            ]
          },
          "metadata": {
            "tags": []
          },
          "execution_count": 60
        }
      ]
    },
    {
      "cell_type": "code",
      "metadata": {
        "colab": {
          "base_uri": "https://localhost:8080/",
          "height": 651
        },
        "id": "AOM3dm3iwBXJ",
        "outputId": "36ce8beb-0cb1-45f4-fd75-c2ba32661930"
      },
      "source": [
        "# \n",
        "# train neural network\n",
        "network = create_network( number_of_features=train_X_s.shape[1])\n",
        "history= network.fit(train_X_s, train_Y_s, epochs=100, verbose=0, batch_size=1024,class_weight=class_weights , validation_data=(test_X_s, test_Y_s))\n",
        "\n",
        "plot_graphics(history)"
      ],
      "execution_count": 75,
      "outputs": [
        {
          "output_type": "display_data",
          "data": {
            "image/png": "[encoded data removed]",
            "text/plain": [
              "<Figure size 576x360 with 1 Axes>"
            ]
          },
          "metadata": {
            "tags": [],
            "needs_background": "light"
          }
        },
        {
          "output_type": "display_data",
          "data": {
            "image/png": "[encoded data removed]",
            "text/plain": [
              "<Figure size 576x360 with 1 Axes>"
            ]
          },
          "metadata": {
            "tags": [],
            "needs_background": "light"
          }
        }
      ]
    },
    {
      "cell_type": "code",
      "metadata": {
        "colab": {
          "base_uri": "https://localhost:8080/",
          "height": 1000
        },
        "id": "y_sisUntnOYH",
        "outputId": "f2402720-e337-4b70-f079-5a3c13c113de"
      },
      "source": [
        "# \n",
        "# train neural network\n",
        "network = create_network( number_of_features=train_X_s.shape[1])\n",
        "history= network.fit(train_X_s, train_Y_s, epochs=30, verbose=1, batch_size=1024,class_weight=class_weights , validation_data=(test_X_s, test_Y_s))\n",
        "\n",
        "plot_graphics(history)"
      ],
      "execution_count": 76,
      "outputs": [
        {
          "output_type": "stream",
          "text": [
            "Epoch 1/30\n",
            "78/78 [==============================] - 3s 21ms/step - loss: 0.6783 - accuracy: 0.5728 - val_loss: 0.6578 - val_accuracy: 0.6310\n",
            "Epoch 2/30\n",
            "78/78 [==============================] - 1s 17ms/step - loss: 0.6639 - accuracy: 0.6180 - val_loss: 0.6449 - val_accuracy: 0.6401\n",
            "Epoch 3/30\n",
            "78/78 [==============================] - 1s 16ms/step - loss: 0.6563 - accuracy: 0.6288 - val_loss: 0.6546 - val_accuracy: 0.6337\n",
            "Epoch 4/30\n",
            "78/78 [==============================] - 1s 17ms/step - loss: 0.6503 - accuracy: 0.6337 - val_loss: 0.6549 - val_accuracy: 0.6249\n",
            "Epoch 5/30\n",
            "78/78 [==============================] - 1s 17ms/step - loss: 0.6407 - accuracy: 0.6411 - val_loss: 0.7074 - val_accuracy: 0.5479\n",
            "Epoch 6/30\n",
            "78/78 [==============================] - 1s 17ms/step - loss: 0.6280 - accuracy: 0.6444 - val_loss: 0.6901 - val_accuracy: 0.5661\n",
            "Epoch 7/30\n",
            "78/78 [==============================] - 1s 17ms/step - loss: 0.6109 - accuracy: 0.6604 - val_loss: 0.6844 - val_accuracy: 0.5792\n",
            "Epoch 8/30\n",
            "78/78 [==============================] - 1s 17ms/step - loss: 0.5980 - accuracy: 0.6714 - val_loss: 0.6837 - val_accuracy: 0.5794\n",
            "Epoch 9/30\n",
            "78/78 [==============================] - 1s 17ms/step - loss: 0.5802 - accuracy: 0.6778 - val_loss: 0.7360 - val_accuracy: 0.5332\n",
            "Epoch 10/30\n",
            "78/78 [==============================] - 1s 17ms/step - loss: 0.5674 - accuracy: 0.6806 - val_loss: 0.7162 - val_accuracy: 0.5545\n",
            "Epoch 11/30\n",
            "78/78 [==============================] - 1s 17ms/step - loss: 0.5507 - accuracy: 0.6903 - val_loss: 0.6647 - val_accuracy: 0.6521\n",
            "Epoch 12/30\n",
            "78/78 [==============================] - 1s 17ms/step - loss: 0.5383 - accuracy: 0.6991 - val_loss: 0.7586 - val_accuracy: 0.5377\n",
            "Epoch 13/30\n",
            "78/78 [==============================] - 1s 17ms/step - loss: 0.5187 - accuracy: 0.7041 - val_loss: 0.7643 - val_accuracy: 0.5368\n",
            "Epoch 14/30\n",
            "78/78 [==============================] - 1s 17ms/step - loss: 0.5108 - accuracy: 0.7082 - val_loss: 0.7536 - val_accuracy: 0.5732\n",
            "Epoch 15/30\n",
            "78/78 [==============================] - 1s 17ms/step - loss: 0.4926 - accuracy: 0.7151 - val_loss: 0.7874 - val_accuracy: 0.5637\n",
            "Epoch 16/30\n",
            "78/78 [==============================] - 1s 17ms/step - loss: 0.4822 - accuracy: 0.7225 - val_loss: 0.8394 - val_accuracy: 0.5254\n",
            "Epoch 17/30\n",
            "78/78 [==============================] - 1s 17ms/step - loss: 0.4733 - accuracy: 0.7218 - val_loss: 0.8514 - val_accuracy: 0.5163\n",
            "Epoch 18/30\n",
            "78/78 [==============================] - 1s 17ms/step - loss: 0.4673 - accuracy: 0.7217 - val_loss: 0.8397 - val_accuracy: 0.5647\n",
            "Epoch 19/30\n",
            "78/78 [==============================] - 1s 17ms/step - loss: 0.4551 - accuracy: 0.7336 - val_loss: 0.8562 - val_accuracy: 0.5633\n",
            "Epoch 20/30\n",
            "78/78 [==============================] - 1s 17ms/step - loss: 0.4474 - accuracy: 0.7373 - val_loss: 0.8861 - val_accuracy: 0.5691\n",
            "Epoch 21/30\n",
            "78/78 [==============================] - 1s 17ms/step - loss: 0.4336 - accuracy: 0.7429 - val_loss: 0.9120 - val_accuracy: 0.5401\n",
            "Epoch 22/30\n",
            "78/78 [==============================] - 1s 17ms/step - loss: 0.4289 - accuracy: 0.7487 - val_loss: 0.9276 - val_accuracy: 0.5415\n",
            "Epoch 23/30\n",
            "78/78 [==============================] - 1s 17ms/step - loss: 0.4203 - accuracy: 0.7520 - val_loss: 0.9141 - val_accuracy: 0.5578\n",
            "Epoch 24/30\n",
            "78/78 [==============================] - 1s 17ms/step - loss: 0.4138 - accuracy: 0.7583 - val_loss: 0.9812 - val_accuracy: 0.5476\n",
            "Epoch 25/30\n",
            "78/78 [==============================] - 1s 17ms/step - loss: 0.4057 - accuracy: 0.7609 - val_loss: 0.9593 - val_accuracy: 0.5827\n",
            "Epoch 26/30\n",
            "78/78 [==============================] - 1s 17ms/step - loss: 0.3979 - accuracy: 0.7682 - val_loss: 0.9795 - val_accuracy: 0.5570\n",
            "Epoch 27/30\n",
            "78/78 [==============================] - 1s 17ms/step - loss: 0.3894 - accuracy: 0.7718 - val_loss: 1.0043 - val_accuracy: 0.5410\n",
            "Epoch 28/30\n",
            "78/78 [==============================] - 1s 17ms/step - loss: 0.3885 - accuracy: 0.7714 - val_loss: 1.0316 - val_accuracy: 0.5622\n",
            "Epoch 29/30\n",
            "78/78 [==============================] - 1s 17ms/step - loss: 0.3800 - accuracy: 0.7791 - val_loss: 0.9872 - val_accuracy: 0.5908\n",
            "Epoch 30/30\n",
            "78/78 [==============================] - 1s 17ms/step - loss: 0.3746 - accuracy: 0.7855 - val_loss: 1.0440 - val_accuracy: 0.5543\n"
          ],
          "name": "stdout"
        },
        {
          "output_type": "display_data",
          "data": {
            "image/png": "[encoded data removed]",
            "text/plain": [
              "<Figure size 576x360 with 1 Axes>"
            ]
          },
          "metadata": {
            "tags": [],
            "needs_background": "light"
          }
        },
        {
          "output_type": "display_data",
          "data": {
            "image/png": "[encoded data removed]",
            "text/plain": [
              "<Figure size 576x360 with 1 Axes>"
            ]
          },
          "metadata": {
            "tags": [],
            "needs_background": "light"
          }
        }
      ]
    },
    {
      "cell_type": "code",
      "metadata": {
        "id": "qr6xhUQfjx-B"
      },
      "source": [
        ""
      ],
      "execution_count": 27,
      "outputs": []
    },
    {
      "cell_type": "code",
      "metadata": {
        "colab": {
          "base_uri": "https://localhost:8080/"
        },
        "id": "JVtg9bPPz2D1",
        "outputId": "c8fdf3bf-4099-4b5c-bf66-bd4b4446de2d"
      },
      "source": [
        "network = create_network( number_of_features=train_X_s.shape[1])\n",
        "history= network.fit(train_X_s, train_Y_s, epochs=3, verbose=1, batch_size=1024,class_weight=class_weights , validation_data=(test_X_s, test_Y_s))\n",
        "\n",
        "evaluation(network, train_X_s, train_Y_s, test_X_s, test_Y_s, scoring=\"recall\", plot=False)"
      ],
      "execution_count": 77,
      "outputs": [
        {
          "output_type": "stream",
          "text": [
            "Epoch 1/3\n",
            "78/78 [==============================] - 3s 22ms/step - loss: 0.6783 - accuracy: 0.5728 - val_loss: 0.6578 - val_accuracy: 0.6310\n",
            "Epoch 2/3\n",
            "78/78 [==============================] - 1s 17ms/step - loss: 0.6639 - accuracy: 0.6180 - val_loss: 0.6449 - val_accuracy: 0.6401\n",
            "Epoch 3/3\n",
            "78/78 [==============================] - 1s 18ms/step - loss: 0.6563 - accuracy: 0.6288 - val_loss: 0.6546 - val_accuracy: 0.6337\n",
            "test 0.6336858006042296\n",
            "train 0.6536708797018984\n",
            "test set : \n",
            "[[2773 2558]\n",
            " [4717 9812]]\n",
            "              precision    recall  f1-score   support\n",
            "\n",
            "           1       0.37      0.52      0.43      5331\n",
            "           2       0.79      0.68      0.73     14529\n",
            "\n",
            "    accuracy                           0.63     19860\n",
            "   macro avg       0.58      0.60      0.58     19860\n",
            "weighted avg       0.68      0.63      0.65     19860\n",
            "\n",
            "train set : \n",
            "[[11691  9706]\n",
            " [17805 40234]]\n",
            "              precision    recall  f1-score   support\n",
            "\n",
            "           1       0.40      0.55      0.46     21397\n",
            "           2       0.81      0.69      0.75     58039\n",
            "\n",
            "    accuracy                           0.65     79436\n",
            "   macro avg       0.60      0.62      0.60     79436\n",
            "weighted avg       0.70      0.65      0.67     79436\n",
            "\n",
            "GRAPHIQUE NON DEMANDE\n"
          ],
          "name": "stdout"
        }
      ]
    },
    {
      "cell_type": "code",
      "metadata": {
        "colab": {
          "base_uri": "https://localhost:8080/"
        },
        "id": "A2z6uWv0qOj3",
        "outputId": "76ef9ccb-9b38-4d36-b4ab-208828314b76"
      },
      "source": [
        "# TRAIN SET TEST SET\n",
        "vingtiles_tableau = vingtiles(model= network, data_orig= data, affichage=True,\n",
        "            save=False, path = \"/content/drive/MyDrive/spad_score_method_1/spad_projection_FDFTOT21/Fichier_excel_vingtiles/train_test_Keras.xlsx\")"
      ],
      "execution_count": 78,
      "outputs": [
        {
          "output_type": "stream",
          "text": [
            "/usr/local/lib/python3.7/dist-packages/keras/engine/sequential.py:425: UserWarning: `model.predict_proba()` is deprecated and will be removed after 2021-01-01. Please use `model.predict()` instead.\n",
            "  warnings.warn('`model.predict_proba()` is deprecated and '\n"
          ],
          "name": "stderr"
        },
        {
          "output_type": "stream",
          "text": [
            "            IDENT     PROBA\n",
            "91216  0010527925  0.146331\n",
            "74064  0010408461  0.146562\n",
            "76031  0010410997  0.146991\n",
            "34269  0010358714  0.155350\n",
            "11693  0010258609  0.156692\n",
            "...           ...       ...\n",
            "98971  0010538885  0.919569\n",
            "5627   0010211298  0.919569\n",
            "83091  0010502100  0.919569\n",
            "5615   0010208685  0.919569\n",
            "83536  0010503920  0.919758\n",
            "\n",
            "[99296 rows x 2 columns]\n",
            "0.912628    49\n",
            "0.727898    26\n",
            "0.663019    23\n",
            "0.723006    19\n",
            "0.799535    19\n",
            "            ..\n",
            "0.581939     1\n",
            "0.478470     1\n",
            "0.557973     1\n",
            "0.415971     1\n",
            "0.500002     1\n",
            "Name: PROBA, Length: 96222, dtype: int64\n"
          ],
          "name": "stdout"
        },
        {
          "output_type": "stream",
          "text": [
            "/usr/local/lib/python3.7/dist-packages/ipykernel_launcher.py:129: SettingWithCopyWarning: \n",
            "A value is trying to be set on a copy of a slice from a DataFrame\n",
            "\n",
            "See the caveats in the documentation: https://pandas.pydata.org/pandas-docs/stable/user_guide/indexing.html#returning-a-view-versus-a-copy\n"
          ],
          "name": "stderr"
        },
        {
          "output_type": "stream",
          "text": [
            "            IDENT     PROBA        TRANCHES CLASSE\n",
            "91216  0010527925  0.146331  (0.145, 0.294]      1\n",
            "74064  0010408461  0.146562  (0.145, 0.294]      1\n",
            "76031  0010410997  0.146991  (0.145, 0.294]      1\n",
            "34269  0010358714  0.155350  (0.145, 0.294]      1\n",
            "11693  0010258609  0.156692  (0.145, 0.294]      1\n",
            "...           ...       ...             ...    ...\n",
            "98971  0010538885  0.919569   (0.711, 0.92]     20\n",
            "5627   0010211298  0.919569   (0.711, 0.92]     20\n",
            "83091  0010502100  0.919569   (0.711, 0.92]     20\n",
            "5615   0010208685  0.919569   (0.711, 0.92]     20\n",
            "83536  0010503920  0.919758   (0.711, 0.92]     20\n",
            "\n",
            "[99296 rows x 4 columns]\n",
            "Top_mon            1     2  TOTAL\n",
            "TRANCHES                         \n",
            "(0.145, 0.294]   472  4493   4965\n",
            "(0.294, 0.324]   662  4303   4965\n",
            "(0.324, 0.346]   765  4200   4965\n",
            "(0.346, 0.365]   829  4136   4965\n",
            "(0.365, 0.382]   876  4088   4964\n",
            "(0.382, 0.398]   934  4031   4965\n",
            "(0.398, 0.413]  1011  3954   4965\n",
            "(0.413, 0.428]  1064  3901   4965\n",
            "(0.428, 0.444]  1125  3839   4964\n",
            "(0.444, 0.459]  1227  3738   4965\n",
            "(0.459, 0.474]  1259  3706   4965\n",
            "(0.474, 0.491]  1308  3657   4965\n",
            "(0.491, 0.508]  1392  3572   4964\n",
            "(0.508, 0.527]  1453  3512   4965\n",
            "(0.527, 0.548]  1598  3367   4965\n",
            "(0.548, 0.572]  1698  3268   4966\n",
            "(0.572, 0.603]  1815  3148   4963\n",
            "(0.603, 0.645]  2025  2940   4965\n",
            "(0.645, 0.711]  2310  2655   4965\n",
            "(0.711, 0.92]   2905  2060   4965\n"
          ],
          "name": "stdout"
        }
      ]
    },
    {
      "cell_type": "code",
      "metadata": {
        "colab": {
          "base_uri": "https://localhost:8080/"
        },
        "id": "5MY9ONumaCHA",
        "outputId": "0639b62c-114a-4d82-a44e-5db256489e58"
      },
      "source": [
        "# TABLEAU MONTANT\n",
        "tableau_5_montant(vingtiles_tableau, data_montant_orig, affichage=True,\n",
        "            save=False, path = \"/content/drive/MyDrive/spad_score_method_1/spad_projection_FDFTOT21/Fichier_excel_vingtiles/montant_Neural_Net.xlsx\")"
      ],
      "execution_count": 79,
      "outputs": [
        {
          "output_type": "stream",
          "text": [
            "            IDENT     PROBA        TRANCHES CLASSE  SommeDeMONTANT_NUM\n",
            "0      0010527925  0.146331  (0.145, 0.294]      1               15.00\n",
            "1      0010408461  0.146562  (0.145, 0.294]      1               15.00\n",
            "2      0010410997  0.146991  (0.145, 0.294]      1               20.00\n",
            "3      0010358714  0.155350  (0.145, 0.294]      1               20.00\n",
            "4      0010258609  0.156692  (0.145, 0.294]      1               20.00\n",
            "...           ...       ...             ...    ...                 ...\n",
            "99290  0010349653  0.919569   (0.711, 0.92]     20               20.00\n",
            "99291  0010538885  0.919569   (0.711, 0.92]     20              766.76\n",
            "99292  0010211298  0.919569   (0.711, 0.92]     20             3000.00\n",
            "99293  0010502100  0.919569   (0.711, 0.92]     20               50.00\n",
            "99294  0010208685  0.919569   (0.711, 0.92]     20             5000.00\n",
            "\n",
            "[99146 rows x 5 columns]\n",
            "          TRANCHES Moyen_Somme TOTAL\n",
            "0   (0.145, 0.294]     24.8562  4964\n",
            "1   (0.294, 0.324]      27.727  4964\n",
            "2   (0.324, 0.346]      28.681  4964\n",
            "3   (0.346, 0.365]     31.3358  4964\n",
            "4   (0.365, 0.382]     33.3996  4963\n",
            "5   (0.382, 0.398]     31.8271  4963\n",
            "6   (0.398, 0.413]     33.0529  4963\n",
            "7   (0.413, 0.428]     35.4207  4962\n",
            "8   (0.428, 0.444]      34.821  4963\n",
            "9   (0.444, 0.459]     37.5274  4964\n",
            "10  (0.459, 0.474]     38.3025  4962\n",
            "11  (0.474, 0.491]      38.783  4963\n",
            "12  (0.491, 0.508]     40.1136  4961\n",
            "13  (0.508, 0.527]     44.2495  4960\n",
            "14  (0.527, 0.548]     48.4522  4958\n",
            "15  (0.548, 0.572]     47.1924  4957\n",
            "16  (0.572, 0.603]     56.3242  4953\n",
            "17  (0.603, 0.645]     67.4603  4950\n",
            "18  (0.645, 0.711]     80.5077  4945\n",
            "19   (0.711, 0.92]     150.687  4903\n"
          ],
          "name": "stdout"
        }
      ]
    },
    {
      "cell_type": "code",
      "metadata": {
        "id": "oKOzsAh6taQG",
        "colab": {
          "base_uri": "https://localhost:8080/"
        },
        "outputId": "e99714d5-be10-40aa-daae-b8240cbd0f43"
      },
      "source": [
        "2905/4965"
      ],
      "execution_count": 82,
      "outputs": [
        {
          "output_type": "execute_result",
          "data": {
            "text/plain": [
              "0.5850956696878147"
            ]
          },
          "metadata": {
            "tags": []
          },
          "execution_count": 82
        }
      ]
    },
    {
      "cell_type": "code",
      "metadata": {
        "id": "RlLyFNW0taT1"
      },
      "source": [
        ""
      ],
      "execution_count": null,
      "outputs": []
    },
    {
      "cell_type": "code",
      "metadata": {
        "colab": {
          "base_uri": "https://localhost:8080/"
        },
        "id": "S-8aMGTqwBaw",
        "outputId": "8624190d-c667-4a0a-a57d-c4dc01f66822"
      },
      "source": [
        "\n",
        "#k-fold cross-validation neural networks ( FOR SMALLER DATA )\n",
        "\n",
        "# wrap Keras model so it can be used by scikit-learn \n",
        "neural_network = KerasClassifier(build_fn =lambda:create_network(number_of_features=train_X_s.shape[1]), epochs=3, batch_size=1024, verbose=0)\n",
        "\n",
        "# evaluate neural network using three-fold cross-validation\n",
        "cross_val_score(neural_network, train_X_s, train_Y_s, cv = 5, n_jobs=2, scoring=\"accuracy\")\n",
        "\n"
      ],
      "execution_count": 80,
      "outputs": [
        {
          "output_type": "execute_result",
          "data": {
            "text/plain": [
              "array([0.7413142 , 0.73966136, 0.73361868, 0.73311513, 0.73871719])"
            ]
          },
          "metadata": {
            "tags": []
          },
          "execution_count": 80
        }
      ]
    },
    {
      "cell_type": "code",
      "metadata": {
        "id": "38H-wgkev8hb"
      },
      "source": [
        ""
      ],
      "execution_count": 34,
      "outputs": []
    },
    {
      "cell_type": "code",
      "metadata": {
        "id": "0_DAzLu3oq-1"
      },
      "source": [
        "\"\"\"\"\n",
        "# wrap keras model \n",
        "neural_network = KerasClassifier(build_fn = create_network, verbose =0)\n",
        "\n",
        "# create hyperparameters \n",
        "hyperparameters = {optimizer = [\"rmsprop\", \"adam\"] , epochs = [5, 10], batch_size = [5, 10, 100]   }\n",
        "\n",
        "grid = GridSearchCV(estimator = neural_network, param_grid=hyperparameters)\n",
        "\n",
        "result = grid.fit( , )\n",
        "\n",
        "result.best_params_\n",
        "\"\"\"\""
      ],
      "execution_count": null,
      "outputs": []
    },
    {
      "cell_type": "code",
      "metadata": {
        "id": "zxobcQbU5Y02"
      },
      "source": [
        "###########################################################################################################\"\n",
        "#                                              VINGTILES LOUIS\n",
        "###########################################################################################################"
      ],
      "execution_count": null,
      "outputs": []
    },
    {
      "cell_type": "code",
      "metadata": {
        "id": "d3jV6RXfVM0z"
      },
      "source": [
        "colonnes_louis=[\"IDENT\",\"Top_mon\",\"predic_mon_top\",\"prob_mon_top\",\"SommeDeMONTANT_NUM\",\"CLASSE_NN_L\"]\n",
        "\n",
        "tableau_louis = pd.read_csv(\"/content/drive/MyDrive/spad_score_method_1/spad_projection_FDFTOT21/result_with_iden_monant_louis.csv\", sep= \";\", header = 0, names=colonnes_louis, low_memory=False, dtype=str )#, dtype='Int64')"
      ],
      "execution_count": 35,
      "outputs": []
    },
    {
      "cell_type": "code",
      "metadata": {
        "id": "0eo-aO0YY94Q"
      },
      "source": [
        "def vingtiles_louis(tableau_proba_louis, data_orig, affichage, save, path): # data_orig est une variables locale (peut être différente au df d'origine)\n",
        "    # model éliminé\n",
        "    # position de la dernière variable explicative dans le dataset\n",
        "    nb_var = data_orig.shape[1]-1\n",
        "\n",
        "    # predict sur tous les individus (avec et sans classe Top_mon)\n",
        "    #tous_probas = model.predict_proba(data_orig.iloc[:,1:nb_var])\n",
        "\n",
        "    #df_tous = pd.DataFrame({'IDENT': data_orig.iloc[:,0] , 'PROBA': tous_probas[:,0] })\n",
        "    df_tous = pd.DataFrame({'IDENT': tableau_proba_louis[\"IDENT\"] , 'PROBA':tableau_louis[\"predic_mon_top\"].astype(float) })\n",
        "    #df_tous\n",
        "    \n",
        "    # valeurs ordonnées pour diviser après\n",
        "    df_tous=df_tous.sort_values(by='PROBA', ascending=True)\n",
        "    #df_tous\n",
        "    print(df_tous)\n",
        "    \n",
        "    #vérification\n",
        "    print(df_tous['PROBA'].value_counts())\n",
        "\n",
        "    # vingtiles\n",
        "    df_temp =pd.DataFrame( pd.qcut(df_tous['PROBA'],q= 20)  )\n",
        "    #print(df_temp)\n",
        "\n",
        "    # ajout par index (IMPORTANTE)\n",
        "    df_tous[\"TRANCHES\"]=pd.DataFrame(df_temp.iloc[:,0].to_numpy(),index= df_temp.index)\n",
        "    #print(df_tous)\n",
        "\n",
        "    # création de la dernière colonne CLASSE et son remplissage\n",
        "    index_20_ord = pd.DataFrame(np.unique(df_tous[\"TRANCHES\"])) \n",
        "    df_tous[\"CLASSE\"]=df_tous[\"TRANCHES\"].copy()\n",
        "    ind_val=1\n",
        "    for kk in range(20):\n",
        "        df_tous[\"CLASSE\"][df_tous[\"CLASSE\"]== index_20_ord.iloc[kk,0] ] = str(ind_val) \n",
        "        ind_val+=1\n",
        "    print(df_tous)    \n",
        "    \n",
        "    # pour la colonne Top_mon : changement de type de variable et remplissage des valeurs (s'il le faut)\n",
        "    data_temp_t = data_orig.copy()\n",
        "    data_temp_t[\"Top_mon\"] =  data_temp_t[\"Top_mon\"].replace(1.0,'1')\n",
        "    data_temp_t[\"Top_mon\"] =  data_temp_t[\"Top_mon\"].replace(2.0,'2')\n",
        "    data_all_complet_class = data_temp_t #data_temp_t.fillna('2')\n",
        "    #data_all_complet_class\n",
        "\n",
        "    # jointure\n",
        "    ident_class_tous = data_all_complet_class[[\"IDENT\",\"Top_mon\"]]\n",
        "    tableau_resultats = pd.merge(df_tous,ident_class_tous)\n",
        "    #tableau_resultats\n",
        "\n",
        "    # tranches finales\n",
        "    tab_cross_temp = pd.crosstab(tableau_resultats[\"TRANCHES\"],tableau_resultats[\"Top_mon\"])\n",
        "    #print(tab_cross_temp); print(\"-----------------------\")\n",
        "\n",
        "    # création d'une colonne TOTAL\n",
        "    tab_cross_temp[\"TOTAL\"]=tab_cross_temp[\"1\"]+tab_cross_temp[\"2\"]\n",
        "    \n",
        "    # affichage\n",
        "    if affichage ==True:        \n",
        "        print(tab_cross_temp)\n",
        "\n",
        "    # création du tableau final en éliminant la colonne 2\n",
        "    #tab_pour_excel = tab_cross_temp.drop([\"2\"], axis=1)\n",
        "\n",
        "    # si on ne veut pas éliminer la colonne 2\n",
        "    tab_pour_excel =  tab_cross_temp\n",
        "    \n",
        "    # enregistrement sous Excel\n",
        "    if save == True:\n",
        "        tab_pour_excel.to_excel(path)\n",
        "\n",
        "    return  df_tous"
      ],
      "execution_count": 47,
      "outputs": []
    },
    {
      "cell_type": "code",
      "metadata": {
        "id": "v50UO_P0m7kD"
      },
      "source": [
        ""
      ],
      "execution_count": 53,
      "outputs": []
    },
    {
      "cell_type": "code",
      "metadata": {
        "id": "apYarzKaurxW",
        "colab": {
          "base_uri": "https://localhost:8080/"
        },
        "outputId": "17eaa9aa-e302-448a-c1c9-df4c0d0e396d"
      },
      "source": [
        "# TRAIN SET TEST SET\n",
        "vingtiles_tableau_louis = vingtiles_louis(tableau_louis, data_orig= data, affichage=True,\n",
        "            save=False, path = \"/content/drive/MyDrive/spad_score_method_1/spad_projection_FDFTOT21/Fichier_excel_vingtiles/train_test_louis_test.xlsx\")"
      ],
      "execution_count": 49,
      "outputs": [
        {
          "output_type": "stream",
          "text": [
            "            IDENT     PROBA\n",
            "0      0010375379  0.337496\n",
            "1      0010337063  0.337583\n",
            "2      0010398167  0.337589\n",
            "3      0010259011  0.337646\n",
            "4      0010402446  0.337655\n",
            "...           ...       ...\n",
            "99288  0010380785  0.801503\n",
            "99289  0010260318  0.801503\n",
            "99293  0010396372  0.801503\n",
            "99294  0010099997  0.801831\n",
            "99295  0010027306  0.802426\n",
            "\n",
            "[99296 rows x 2 columns]\n",
            "0.505172    668\n",
            "0.354766    163\n",
            "0.378716    143\n",
            "0.636734    142\n",
            "0.443627    133\n",
            "           ... \n",
            "0.472959      1\n",
            "0.428832      1\n",
            "0.417283      1\n",
            "0.417716      1\n",
            "0.618935      1\n",
            "Name: PROBA, Length: 93900, dtype: int64\n"
          ],
          "name": "stdout"
        },
        {
          "output_type": "stream",
          "text": [
            "/usr/local/lib/python3.7/dist-packages/ipykernel_launcher.py:34: SettingWithCopyWarning: \n",
            "A value is trying to be set on a copy of a slice from a DataFrame\n",
            "\n",
            "See the caveats in the documentation: https://pandas.pydata.org/pandas-docs/stable/user_guide/indexing.html#returning-a-view-versus-a-copy\n"
          ],
          "name": "stderr"
        },
        {
          "output_type": "stream",
          "text": [
            "            IDENT     PROBA        TRANCHES CLASSE\n",
            "0      0010375379  0.337496  (0.336, 0.366]      1\n",
            "1      0010337063  0.337583  (0.336, 0.366]      1\n",
            "2      0010398167  0.337589  (0.336, 0.366]      1\n",
            "3      0010259011  0.337646  (0.336, 0.366]      1\n",
            "4      0010402446  0.337655  (0.336, 0.366]      1\n",
            "...           ...       ...             ...    ...\n",
            "99288  0010380785  0.801503  (0.676, 0.802]     20\n",
            "99289  0010260318  0.801503  (0.676, 0.802]     20\n",
            "99293  0010396372  0.801503  (0.676, 0.802]     20\n",
            "99294  0010099997  0.801831  (0.676, 0.802]     20\n",
            "99295  0010027306  0.802426  (0.676, 0.802]     20\n",
            "\n",
            "[99296 rows x 4 columns]\n",
            "Top_mon            1     2  TOTAL\n",
            "TRANCHES                         \n",
            "(0.336, 0.366]   703  4262   4965\n",
            "(0.366, 0.379]   854  4111   4965\n",
            "(0.379, 0.393]   870  4096   4966\n",
            "(0.393, 0.403]   922  4042   4964\n",
            "(0.403, 0.413]  1002  3962   4964\n",
            "(0.413, 0.422]  1083  3882   4965\n",
            "(0.422, 0.432]  1076  3889   4965\n",
            "(0.432, 0.445]  1105  3865   4970\n",
            "(0.445, 0.462]  1184  3775   4959\n",
            "(0.462, 0.479]  1236  3729   4965\n",
            "(0.479, 0.499]  1251  3714   4965\n",
            "(0.499, 0.508]  1291  3674   4965\n",
            "(0.508, 0.53]   1421  3543   4964\n",
            "(0.53, 0.549]   1457  3508   4965\n",
            "(0.549, 0.568]  1487  3478   4965\n",
            "(0.568, 0.591]  1608  3357   4965\n",
            "(0.591, 0.617]  1714  3252   4966\n",
            "(0.617, 0.639]  1871  3092   4963\n",
            "(0.639, 0.676]  2054  2911   4965\n",
            "(0.676, 0.802]  2539  2426   4965\n"
          ],
          "name": "stdout"
        }
      ]
    },
    {
      "cell_type": "code",
      "metadata": {
        "colab": {
          "base_uri": "https://localhost:8080/"
        },
        "id": "yq4TgS73pvwv",
        "outputId": "2202ee02-1df4-4a7b-e854-15dd6002db53"
      },
      "source": [
        "# TABLEAU MONTANT\n",
        "tableau_5_montant(vingtiles_tableau_louis, data_montant_orig, affichage=True,\n",
        "            save=False, path = \"/content/drive/MyDrive/spad_score_method_1/spad_projection_FDFTOT21/Fichier_excel_vingtiles/montant_louis_test.xlsx\")"
      ],
      "execution_count": 53,
      "outputs": [
        {
          "output_type": "stream",
          "text": [
            "            IDENT     PROBA        TRANCHES CLASSE  SommeDeMONTANT_NUM\n",
            "0      0010375379  0.337496  (0.336, 0.366]      1                50.0\n",
            "1      0010337063  0.337583  (0.336, 0.366]      1                15.0\n",
            "2      0010398167  0.337589  (0.336, 0.366]      1                20.0\n",
            "3      0010259011  0.337646  (0.336, 0.366]      1                10.0\n",
            "4      0010402446  0.337655  (0.336, 0.366]      1                20.0\n",
            "...           ...       ...             ...    ...                 ...\n",
            "99291  0010380785  0.801503  (0.676, 0.802]     20                50.0\n",
            "99292  0010260318  0.801503  (0.676, 0.802]     20                20.0\n",
            "99293  0010396372  0.801503  (0.676, 0.802]     20                40.0\n",
            "99294  0010099997  0.801831  (0.676, 0.802]     20                20.0\n",
            "99295  0010027306  0.802426  (0.676, 0.802]     20                20.0\n",
            "\n",
            "[99146 rows x 5 columns]\n",
            "          TRANCHES Moyen_Somme TOTAL\n",
            "0   (0.336, 0.366]     28.3548  4965\n",
            "1   (0.366, 0.379]     30.4497  4961\n",
            "2   (0.379, 0.393]      29.692  4965\n",
            "3   (0.393, 0.403]     32.6169  4961\n",
            "4   (0.403, 0.413]     33.9908  4962\n",
            "5   (0.413, 0.422]     33.2837  4963\n",
            "6   (0.422, 0.432]     35.0512  4961\n",
            "7   (0.432, 0.445]     38.2487  4967\n",
            "8   (0.445, 0.462]     36.0419  4957\n",
            "9   (0.462, 0.479]     38.3739  4962\n",
            "10  (0.479, 0.499]     41.5303  4961\n",
            "11  (0.499, 0.508]     39.7364  4964\n",
            "12   (0.508, 0.53]     45.1917  4959\n",
            "13   (0.53, 0.549]      46.797  4961\n",
            "14  (0.549, 0.568]     48.9026  4957\n",
            "15  (0.568, 0.591]     53.6848  4955\n",
            "16  (0.591, 0.617]     58.0595  4955\n",
            "17  (0.617, 0.639]     62.1951  4947\n",
            "18  (0.639, 0.676]     70.7548  4941\n",
            "19  (0.676, 0.802]      127.14  4922\n"
          ],
          "name": "stdout"
        }
      ]
    },
    {
      "cell_type": "code",
      "metadata": {
        "colab": {
          "base_uri": "https://localhost:8080/"
        },
        "id": "lNw6P7oEp8cP",
        "outputId": "4e762b8e-6143-4517-b0eb-c81c9602a32d"
      },
      "source": [
        "2539/4965, 2539/26728"
      ],
      "execution_count": 52,
      "outputs": [
        {
          "output_type": "execute_result",
          "data": {
            "text/plain": [
              "(0.5113796576032226, 0.09499401376833283)"
            ]
          },
          "metadata": {
            "tags": []
          },
          "execution_count": 52
        }
      ]
    },
    {
      "cell_type": "code",
      "metadata": {
        "id": "uTL75zHJqg4l"
      },
      "source": [
        ""
      ],
      "execution_count": null,
      "outputs": []
    }
  ]
}