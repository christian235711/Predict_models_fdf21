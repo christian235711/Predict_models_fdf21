{
  "nbformat": 4,
  "nbformat_minor": 0,
  "metadata": {
    "colab": {
      "name": "FDF21_Neural_Networks.ipynb",
      "provenance": [],
      "collapsed_sections": [],
      "authorship_tag": "ABX9TyOFE3qGQZjqy4qkXa3hhkm2"
    },
    "kernelspec": {
      "display_name": "Python 3",
      "name": "python3"
    },
    "language_info": {
      "name": "python"
    }
  },
  "cells": [
    {
      "cell_type": "code",
      "metadata": {
        "colab": {
          "base_uri": "https://localhost:8080/"
        },
        "id": "3FL4NG4bKoPL",
        "outputId": "ad681f32-9bee-4ff1-c656-6c920c8d693a"
      },
      "source": [
        "import numpy as np\n",
        "import pandas as pd\n",
        "import seaborn as sns\n",
        "import matplotlib.pyplot as plt\n",
        "\n",
        "\n",
        "from sklearn.metrics import confusion_matrix\n",
        "\n",
        "from google.colab import drive\n",
        "drive.mount('/content/drive')"
      ],
      "execution_count": 1,
      "outputs": [
        {
          "output_type": "stream",
          "text": [
            "Mounted at /content/drive\n"
          ],
          "name": "stdout"
        }
      ]
    },
    {
      "cell_type": "code",
      "metadata": {
        "id": "wmD80CCCK5ga"
      },
      "source": [
        "# option d'affichage des résultats\n",
        "pd.set_option(\"display.max_row\",130)\n",
        "pd.set_option(\"display.max_columns\",100)"
      ],
      "execution_count": 2,
      "outputs": []
    },
    {
      "cell_type": "code",
      "metadata": {
        "id": "kkc12UYCK5ie"
      },
      "source": [
        "# les noms des variables\n",
        "\n",
        "colonnes =([\"IDENT\", \"TypeHabi\", \"GeoFaz_Scl\", \"GeoFaz_cl\", \"ImmoFaz_Scl\", \"ImmoFaz_cl\", \"Anciennete\",\n",
        "            \"Logement_prix_m2\", \"Mediane_RFR\", \"Sexe\", \"Prenom_Phase_scl_H\", \"Prenom_Phase_scl_F\",\n",
        "            \"Prenom_Phase_cl_H\", \"Prenom_Phase_cl_F\", \"Age_H\", \"Age_F\", \"Affinite_1\", \"Affinite_2\",\n",
        "            \"Prenom_effectif\", \"Potentiel_prenom\", \"Onoma-Phase_Scl\", \"Onoma-Phase_CL\", \"Top_mon\"])"
      ],
      "execution_count": 3,
      "outputs": []
    },
    {
      "cell_type": "code",
      "metadata": {
        "id": "IqjK-LTnK5k3"
      },
      "source": [
        "# importation du fichier (changer le chemin d'accès)\n",
        "''' Faites attention au type de fichier, au délimiteur des valeurs (ça doit être unique et non multiple),\n",
        "au header et à la lecture des types d'objets (low_memory) '''\n",
        "\n",
        "data_orig = pd.read_csv(\"/content/drive/MyDrive/spad_score_method_1/spad_projection_FDFTOT21/new_my_data_FDFTOT21.txt\", delim_whitespace=\"\\t\", header = None, names=colonnes, low_memory=False, )#, dtype='Int64')\n"
      ],
      "execution_count": 4,
      "outputs": []
    },
    {
      "cell_type": "code",
      "metadata": {
        "colab": {
          "base_uri": "https://localhost:8080/"
        },
        "id": "Snpt62qBK5nN",
        "outputId": "9f90022d-ed61-49d9-8123-8820bd6f05e9"
      },
      "source": [
        "''' copie superficielle (peu profonde) du dataset original pour ne pas modifier les valeurs\n",
        "d'origine par erreur plus tard \n",
        "'''\n",
        "data = data_orig.copy()\n",
        "data.shape"
      ],
      "execution_count": 5,
      "outputs": [
        {
          "output_type": "execute_result",
          "data": {
            "text/plain": [
              "(1192180, 23)"
            ]
          },
          "metadata": {
            "tags": []
          },
          "execution_count": 5
        }
      ]
    },
    {
      "cell_type": "code",
      "metadata": {
        "colab": {
          "base_uri": "https://localhost:8080/",
          "height": 243
        },
        "id": "vbTTDlg_LGIt",
        "outputId": "471a59be-d962-4e1a-c90e-8a89ee2eb515"
      },
      "source": [
        "# visualisation des premiers lignes\n",
        "data.head()\n"
      ],
      "execution_count": 6,
      "outputs": [
        {
          "output_type": "execute_result",
          "data": {
            "text/html": [
              "<div>\n",
              "<style scoped>\n",
              "    .dataframe tbody tr th:only-of-type {\n",
              "        vertical-align: middle;\n",
              "    }\n",
              "\n",
              "    .dataframe tbody tr th {\n",
              "        vertical-align: top;\n",
              "    }\n",
              "\n",
              "    .dataframe thead th {\n",
              "        text-align: right;\n",
              "    }\n",
              "</style>\n",
              "<table border=\"1\" class=\"dataframe\">\n",
              "  <thead>\n",
              "    <tr style=\"text-align: right;\">\n",
              "      <th></th>\n",
              "      <th>IDENT</th>\n",
              "      <th>TypeHabi</th>\n",
              "      <th>GeoFaz_Scl</th>\n",
              "      <th>GeoFaz_cl</th>\n",
              "      <th>ImmoFaz_Scl</th>\n",
              "      <th>ImmoFaz_cl</th>\n",
              "      <th>Anciennete</th>\n",
              "      <th>Logement_prix_m2</th>\n",
              "      <th>Mediane_RFR</th>\n",
              "      <th>Sexe</th>\n",
              "      <th>Prenom_Phase_scl_H</th>\n",
              "      <th>Prenom_Phase_scl_F</th>\n",
              "      <th>Prenom_Phase_cl_H</th>\n",
              "      <th>Prenom_Phase_cl_F</th>\n",
              "      <th>Age_H</th>\n",
              "      <th>Age_F</th>\n",
              "      <th>Affinite_1</th>\n",
              "      <th>Affinite_2</th>\n",
              "      <th>Prenom_effectif</th>\n",
              "      <th>Potentiel_prenom</th>\n",
              "      <th>Onoma-Phase_Scl</th>\n",
              "      <th>Onoma-Phase_CL</th>\n",
              "      <th>Top_mon</th>\n",
              "    </tr>\n",
              "  </thead>\n",
              "  <tbody>\n",
              "    <tr>\n",
              "      <th>0</th>\n",
              "      <td>10010000001</td>\n",
              "      <td>2</td>\n",
              "      <td>81</td>\n",
              "      <td>8</td>\n",
              "      <td>91</td>\n",
              "      <td>9</td>\n",
              "      <td>6</td>\n",
              "      <td>21</td>\n",
              "      <td>21</td>\n",
              "      <td>1</td>\n",
              "      <td>71</td>\n",
              "      <td>41</td>\n",
              "      <td>7</td>\n",
              "      <td>4</td>\n",
              "      <td>12</td>\n",
              "      <td>4</td>\n",
              "      <td>20</td>\n",
              "      <td>2</td>\n",
              "      <td>2</td>\n",
              "      <td>1</td>\n",
              "      <td>51</td>\n",
              "      <td>5</td>\n",
              "      <td>1.0</td>\n",
              "    </tr>\n",
              "    <tr>\n",
              "      <th>1</th>\n",
              "      <td>20010000006</td>\n",
              "      <td>1</td>\n",
              "      <td>75</td>\n",
              "      <td>7</td>\n",
              "      <td>43</td>\n",
              "      <td>4</td>\n",
              "      <td>6</td>\n",
              "      <td>6</td>\n",
              "      <td>13</td>\n",
              "      <td>2</td>\n",
              "      <td>71</td>\n",
              "      <td>64</td>\n",
              "      <td>7</td>\n",
              "      <td>6</td>\n",
              "      <td>12</td>\n",
              "      <td>9</td>\n",
              "      <td>4</td>\n",
              "      <td>12</td>\n",
              "      <td>4</td>\n",
              "      <td>13</td>\n",
              "      <td>12</td>\n",
              "      <td>1</td>\n",
              "      <td>1.0</td>\n",
              "    </tr>\n",
              "    <tr>\n",
              "      <th>2</th>\n",
              "      <td>30010000011</td>\n",
              "      <td>1</td>\n",
              "      <td>76</td>\n",
              "      <td>7</td>\n",
              "      <td>43</td>\n",
              "      <td>4</td>\n",
              "      <td>6</td>\n",
              "      <td>6</td>\n",
              "      <td>16</td>\n",
              "      <td>3</td>\n",
              "      <td>54</td>\n",
              "      <td>81</td>\n",
              "      <td>5</td>\n",
              "      <td>8</td>\n",
              "      <td>7</td>\n",
              "      <td>12</td>\n",
              "      <td>6</td>\n",
              "      <td>6</td>\n",
              "      <td>4</td>\n",
              "      <td>18</td>\n",
              "      <td>36</td>\n",
              "      <td>3</td>\n",
              "      <td>2.0</td>\n",
              "    </tr>\n",
              "    <tr>\n",
              "      <th>3</th>\n",
              "      <td>40010000013</td>\n",
              "      <td>3</td>\n",
              "      <td>75</td>\n",
              "      <td>7</td>\n",
              "      <td>43</td>\n",
              "      <td>4</td>\n",
              "      <td>4</td>\n",
              "      <td>6</td>\n",
              "      <td>13</td>\n",
              "      <td>1</td>\n",
              "      <td>71</td>\n",
              "      <td>36</td>\n",
              "      <td>7</td>\n",
              "      <td>3</td>\n",
              "      <td>12</td>\n",
              "      <td>11</td>\n",
              "      <td>11</td>\n",
              "      <td>19</td>\n",
              "      <td>4</td>\n",
              "      <td>6</td>\n",
              "      <td>21</td>\n",
              "      <td>2</td>\n",
              "      <td>1.0</td>\n",
              "    </tr>\n",
              "    <tr>\n",
              "      <th>4</th>\n",
              "      <td>50010000015</td>\n",
              "      <td>2</td>\n",
              "      <td>33</td>\n",
              "      <td>3</td>\n",
              "      <td>44</td>\n",
              "      <td>4</td>\n",
              "      <td>6</td>\n",
              "      <td>7</td>\n",
              "      <td>12</td>\n",
              "      <td>1</td>\n",
              "      <td>71</td>\n",
              "      <td>42</td>\n",
              "      <td>7</td>\n",
              "      <td>4</td>\n",
              "      <td>12</td>\n",
              "      <td>5</td>\n",
              "      <td>14</td>\n",
              "      <td>3</td>\n",
              "      <td>3</td>\n",
              "      <td>1</td>\n",
              "      <td>14</td>\n",
              "      <td>1</td>\n",
              "      <td>2.0</td>\n",
              "    </tr>\n",
              "  </tbody>\n",
              "</table>\n",
              "</div>"
            ],
            "text/plain": [
              "         IDENT  TypeHabi  GeoFaz_Scl  GeoFaz_cl  ImmoFaz_Scl  ImmoFaz_cl  \\\n",
              "0  10010000001         2          81          8           91           9   \n",
              "1  20010000006         1          75          7           43           4   \n",
              "2  30010000011         1          76          7           43           4   \n",
              "3  40010000013         3          75          7           43           4   \n",
              "4  50010000015         2          33          3           44           4   \n",
              "\n",
              "   Anciennete  Logement_prix_m2  Mediane_RFR  Sexe  Prenom_Phase_scl_H  \\\n",
              "0           6                21           21     1                  71   \n",
              "1           6                 6           13     2                  71   \n",
              "2           6                 6           16     3                  54   \n",
              "3           4                 6           13     1                  71   \n",
              "4           6                 7           12     1                  71   \n",
              "\n",
              "   Prenom_Phase_scl_F  Prenom_Phase_cl_H  Prenom_Phase_cl_F  Age_H  Age_F  \\\n",
              "0                  41                  7                  4     12      4   \n",
              "1                  64                  7                  6     12      9   \n",
              "2                  81                  5                  8      7     12   \n",
              "3                  36                  7                  3     12     11   \n",
              "4                  42                  7                  4     12      5   \n",
              "\n",
              "   Affinite_1  Affinite_2  Prenom_effectif  Potentiel_prenom  Onoma-Phase_Scl  \\\n",
              "0          20           2                2                 1               51   \n",
              "1           4          12                4                13               12   \n",
              "2           6           6                4                18               36   \n",
              "3          11          19                4                 6               21   \n",
              "4          14           3                3                 1               14   \n",
              "\n",
              "   Onoma-Phase_CL  Top_mon  \n",
              "0               5      1.0  \n",
              "1               1      1.0  \n",
              "2               3      2.0  \n",
              "3               2      1.0  \n",
              "4               1      2.0  "
            ]
          },
          "metadata": {
            "tags": []
          },
          "execution_count": 6
        }
      ]
    },
    {
      "cell_type": "code",
      "metadata": {
        "id": "R32oQgCWLGPT"
      },
      "source": [
        "#nombre de modalités de chaque variables (dans un dataframe)\n",
        "def nombre_mod(data2):\n",
        "    #création d'un dataframe vide\n",
        "    dff= pd.DataFrame(columns=[\"VARIABLE\",\"NOMBRE_MOD\", \"NOMBRE_MOD_SANS_NA\"])\n",
        "    for i in range(data2.shape[1]): # sans compter les valeurs manquantes\n",
        "        taille =len(data2.iloc[:,i].value_counts(dropna=False))\n",
        "        taille_1 = len(data2.iloc[:,i].value_counts(dropna=True) )\n",
        "        dff=dff.append({\"VARIABLE\": colonnes[i],\"NOMBRE_MOD\":taille, \"NOMBRE_MOD_SANS_NA\":taille_1 }, ignore_index=True)\n",
        "    return dff\n",
        "\n",
        "# sélection des corrélations les plus importantes\n",
        "def variables_corr(tableau_corr, seuil):\n",
        "    variables_corr_pos=[] ; variables_corr_pos_val=[]\n",
        "    variables_corr_neg=[] ; variables_corr_neg_val=[]\n",
        "    for i in range(tableau_corr.shape[0]):  \n",
        "        for j in range(tableau_corr.shape[0]):\n",
        "            if i<j: #i!=j:\n",
        "                if (tableau_corr.iloc[i,j] > seuil):\n",
        "                    variables_corr_pos.append(colonnes[j+1])\n",
        "                    variables_corr_pos_val.append(round( tableau_corr.iloc[i,j], 2))\n",
        "                if (tableau_corr.iloc[i,j] <-seuil):\n",
        "                    variables_corr_neg.append(colonnes[j+1])\n",
        "                    variables_corr_neg_val.append(round( tableau_corr.iloc[i,j], 2))\n",
        "\n",
        "        if (len(variables_corr_pos) > 0) | (len(variables_corr_neg) >0) :\n",
        "            print(\"variable : \", colonnes[i+1])\n",
        "            if len(variables_corr_pos) > 0:    \n",
        "                print(\"corr pos\", variables_corr_pos)\n",
        "                print(\"corr pos\", variables_corr_pos_val)\n",
        "            if len(variables_corr_neg) >0:  \n",
        "                print(\"corr neg\", variables_corr_neg)\n",
        "                print(\"corr neg\", variables_corr_neg_val)\n",
        "            print(\"\")\n",
        "        variables_corr_pos = variables_corr_pos*0\n",
        "        variables_corr_neg = variables_corr_pos*0\n",
        "\n",
        "        variables_corr_pos_val = variables_corr_pos_val*0\n",
        "        variables_corr_neg_val = variables_corr_pos_val*0\n",
        "\n",
        "\n",
        "def evaluation(model, X_train, y_train, X_test, y_test, scoring, plot):\n",
        "\n",
        "    #model.fit(X_train, y_train)\n",
        "    y_pred_test = (model.predict(X_test) > 0.5).astype(\"int64\")\n",
        "    y_pred_train = (model.predict(X_train) > 0.5 ).astype(\"int64\")\n",
        "\n",
        "    print(\"test set : \")\n",
        "    print(confusion_matrix(y_test, y_pred_test))\n",
        "    print(classification_report(y_test, y_pred_test)) \n",
        "    print(\"train set : \")\n",
        "    print(confusion_matrix(y_train, y_pred_train )) # ajouter \n",
        "    print(classification_report(y_train, y_pred_train ))\n",
        "\n",
        "    if plot == True:\n",
        "        N, train_score, val_score = learning_curve(model, X_train, y_train, shuffle=True, cv = 4, scoring = scoring, train_sizes = np.linspace(0.1, 1, 6) )\n",
        "\n",
        "        plt.figure(figsize = (10,6))\n",
        "        plt.plot(N, train_score.mean(axis=1), label =\"train_score\")\n",
        "        plt.plot(N, val_score.mean(axis=1), label =\"cross_validation_score\")\n",
        "        plt.legend()\n",
        "    else :\n",
        "        print(\"GRAPHIQUE NON DEMANDE\")\n",
        "\n",
        "# Comme il n'y a pas de valeurs manquantes (à la place il y a un nombre), le seul traitement qu'on fait c'est tranformer\n",
        "# le type de variable (les variables continues deviennent qualitatives)\n",
        "def data_processing(df):\n",
        "    \"\"\" \n",
        "    for i in range(0,len(df.columns)):    \n",
        "        df[df.columns[i]].fillna(100.0, inplace=True) #On remplace les données manquantes par 100\n",
        "    for i in range(0,len(df.columns)):\n",
        "        print(df[df.columns[i]].value_counts(dropna=False))    \n",
        "    \"\"\"\n",
        "    \n",
        "   #Transformation de toutes les variables en facteurs         \n",
        "    for i in range(0,len(df.columns)):\n",
        "        df[df.columns[i]] = df[df.columns[i]].astype('category')\n",
        "    return df.to_numpy() #.as_matrix()\n",
        "\n",
        "\n",
        "\n",
        "def vingtiles(model, data_orig, affichage, save, path):\n",
        "    # position de la dernière variable explicative dans le dataset\n",
        "    nb_var = data_orig.shape[1]-1\n",
        "\n",
        "    # predict sur tous les individus (avec et sans classe IFI+)\n",
        "    tous_probas = model.predict_proba(data_orig.iloc[:,1:nb_var])\n",
        "    df_tous = pd.DataFrame({'IDENT': data_orig.iloc[:,0] , 'PROBA': tous_probas[:,0] })\n",
        "    #df_tous\n",
        "    \n",
        "    # valeurs ordonnées pour diviser après\n",
        "    df_tous=df_tous.sort_values(by='PROBA', ascending=True)\n",
        "    #df_tous\n",
        "    print(df_tous)\n",
        "    \n",
        "    #vérification\n",
        "    print(df_tous['PROBA'].value_counts())\n",
        "\n",
        "    # quarantiles\n",
        "    df_temp =pd.DataFrame( pd.qcut(df_tous['PROBA'],q= 20)  )\n",
        "    print(df_temp)\n",
        "\n",
        "    # ajout par index (IMPORTANTE)\n",
        "    df_tous[\"TRANCHES\"]=pd.DataFrame(df_temp.iloc[:,0].to_numpy(),index= df_temp.index)\n",
        "    #print(df_tous)\n",
        "    \n",
        "    # pour la colonne Top_mon :\n",
        "    # remplissage de la dernière colonne par 2 (VALABLE QUE POUR CE DATA, MODIFIER POUR D'AUTRES)\n",
        "    data_temp_t = data_orig.copy()\n",
        "    # remplacement\n",
        "    data_temp_t[\"Top_mon\"] =  data_temp_t[\"Top_mon\"].replace(1.0,'1')\n",
        "    data_temp_t[\"Top_mon\"] =  data_temp_t[\"Top_mon\"].replace(2.0,'2')\n",
        "    data_all_complet_class = data_temp_t.fillna('2')\n",
        "    #data_all_complet_class\n",
        "\n",
        "    # jointure\n",
        "    ident_class_tous = data_all_complet_class[[\"IDENT\",\"Top_mon\"]]\n",
        "    tableau_resultats = pd.merge(df_tous,ident_class_tous)\n",
        "    #tableau_resultats\n",
        "\n",
        "    # tranches finales\n",
        "    tab_cross_temp = pd.crosstab(tableau_resultats[\"TRANCHES\"],tableau_resultats[\"Top_mon\"])\n",
        "    #print(tab_cross_temp); print(\"-----------------------\")\n",
        "\n",
        "    # création d'une colonne total\n",
        "    tab_cross_temp[\"TOTAL\"]=tab_cross_temp[\"1\"]+tab_cross_temp[\"2\"]\n",
        "    \n",
        "    # affichage\n",
        "    if affichage ==True:        \n",
        "        print(tab_cross_temp)\n",
        "\n",
        "    # création du tableau final en éliminant la colonne 2\n",
        "    #tab_pour_excel = tab_cross_temp.drop([\"2\"], axis=1)\n",
        "\n",
        "    # si on ne veut pas éliminer la colonne 2\n",
        "    tab_pour_excel =  tab_cross_temp\n",
        "    \n",
        "    # enregistrement sous Excel\n",
        "    if save == True:\n",
        "        tab_pour_excel.to_excel(path)\n",
        "\n",
        "def vingtiles_ind_sans_target(model, data_orig, affichage, save, path):\n",
        "    # position de la dernière variable explicative dans le dataset\n",
        "    nb_var = data_orig.shape[1]-1\n",
        "\n",
        "    # predict sur tous les individus (avec et sans classe IFI+)\n",
        "    tous_probas = model.predict_proba(data_orig.iloc[:,1:nb_var])\n",
        "    df_tous = pd.DataFrame({'IDENT': data_orig.iloc[:,0] , 'PROBA': tous_probas[:,0] })\n",
        "    #df_tous\n",
        "    \n",
        "    # valeurs ordonnées pour diviser après\n",
        "    df_tous=df_tous.sort_values(by='PROBA', ascending=True)\n",
        "    #df_tous\n",
        "    print(df_tous)\n",
        "    \n",
        "    #vérification\n",
        "    print(df_tous['PROBA'].value_counts())\n",
        "\n",
        "    # quarantiles\n",
        "    df_temp =pd.DataFrame( pd.qcut(df_tous['PROBA'],q= 20)  )\n",
        "    print(df_temp)\n",
        "\n",
        "    # ajout par index (IMPORTANTE)\n",
        "    df_tous[\"TRANCHES\"]=pd.DataFrame(df_temp.iloc[:,0].to_numpy(),index= df_temp.index)\n",
        "    print(df_tous)\n",
        "    print(df_tous[\"TRANCHES\"].value_counts(ascending = True))\n",
        "\n",
        "    # GERE L'ORDRE\n",
        "    patra = np.unique(df_tous.iloc[:,2], return_counts=True)\n",
        "    df_tranches_sans_target = pd.DataFrame([patra[0],patra[1]]).T\n",
        "    df_tranches_sans_target.columns=[\"TRANCHES\",\"COUNTS\"]\n",
        "\n",
        "    # affichage\n",
        "    if affichage ==True:        \n",
        "        print(df_tranches_sans_target)\n",
        "    \n",
        "    # enregistrement sous Excel\n",
        "    if save == True:\n",
        "        df_tranches_sans_target.to_excel(path)\n",
        "    \n",
        "\n",
        "# élimination des variables trop corrélées (choix manuel)\n",
        "def elimination_val_corr(data):\n",
        "    data = data.drop(columns=[\"\"])\n",
        "    return data\n",
        "\n"
      ],
      "execution_count": 7,
      "outputs": []
    },
    {
      "cell_type": "code",
      "metadata": {
        "id": "DDurwydOLm27"
      },
      "source": [
        "\n",
        "from sklearn.preprocessing import OneHotEncoder\n",
        "\n",
        "from sklearn.neural_network import MLPClassifier\n",
        "\n",
        "from sklearn.metrics import f1_score, confusion_matrix, classification_report\n",
        "from sklearn.model_selection import train_test_split, learning_curve, GridSearchCV, cross_val_score"
      ],
      "execution_count": 8,
      "outputs": []
    },
    {
      "cell_type": "code",
      "metadata": {
        "id": "o9sthKcqlUFn"
      },
      "source": [
        ""
      ],
      "execution_count": 8,
      "outputs": []
    },
    {
      "cell_type": "code",
      "metadata": {
        "id": "CHgt_J2KlURC"
      },
      "source": [
        ""
      ],
      "execution_count": 8,
      "outputs": []
    },
    {
      "cell_type": "code",
      "metadata": {
        "id": "EIBrIyqiQkh4"
      },
      "source": [
        "###########################################################################################################\n",
        "#                                                   KERAS \n",
        "###########################################################################################################\n"
      ],
      "execution_count": 9,
      "outputs": []
    },
    {
      "cell_type": "code",
      "metadata": {
        "id": "zOiFMyCBlZ04"
      },
      "source": [
        "##########################################\n",
        "# SANS LES VARIABLES CORR  ET ENCODAGE DUMMIES\n",
        "#########################################"
      ],
      "execution_count": 10,
      "outputs": []
    },
    {
      "cell_type": "code",
      "metadata": {
        "colab": {
          "base_uri": "https://localhost:8080/"
        },
        "id": "lVx7zX-hlaIY",
        "outputId": "6cdf4000-7bb8-4256-d66f-9135041d9dad"
      },
      "source": [
        "# test predict individus sans classe\n",
        "data = data_orig.copy()\n",
        "\n",
        "# on élimine les variables dons\n",
        "data=data.drop([\"GeoFaz_cl\", \"ImmoFaz_Scl\", \"ImmoFaz_cl\", \"Prenom_Phase_cl_H\", \"Prenom_Phase_cl_F\",\n",
        "                \"Onoma-Phase_Scl\", \"Onoma-Phase_CL\"],axis=1)\n",
        "\n",
        "# encodage Onehot sur toutes les données (on évite ainsi les erreurs futures)\n",
        "nb_var = data.shape[1] - 1\n",
        "data_1_22 = pd.get_dummies(data.iloc[:,1:(data.shape[1]-1)], columns=data.columns[1:(data.shape[1]-1)] )\n",
        "data_var_qualitatives_temp =  pd.concat([data[\"IDENT\"], data_1_22, data[\"Top_mon\"]], axis=1)\n",
        "data = data_var_qualitatives_temp\n",
        "#encodage = OneHotEncoder()\n",
        "#encodage.fit(data_processing(data.iloc[:,1:nb_var]))\n",
        "\n",
        "# élimination des individus n'ayant pas de valeur pour la varialbe IFI+\n",
        "\"\"\"IMPORTANT\"\"\"\n",
        "data_sans_nan = data[(data.isnull()).sum(axis=1) == 0]\n",
        "\n",
        "#conversion du type de variable\n",
        "for i in range(1,data_sans_nan.shape[1]):\n",
        "    data_sans_nan.iloc[:,i]=data_sans_nan.iloc[:,i].astype(int)\n",
        "\n",
        "# base de données avec des variables corrélées et avec encodage OneHot\n",
        "data =data_sans_nan\n",
        "\n",
        "nb_var = data.shape[1] - 1\n",
        "train_set, test_set = train_test_split(data, test_size = 0.2, random_state=0 )\n",
        "\n",
        "train_X_s = (train_set.iloc[:,1:nb_var]).to_numpy()\n",
        "train_Y_s = np.asanyarray(train_set.iloc[:,nb_var])\n",
        "train_Y_s[train_Y_s==2]=0\n",
        "train_Y_s[train_Y_s==1]=1\n",
        "\n",
        "test_X_s = (test_set.iloc[:,1:nb_var]).to_numpy()\n",
        "test_Y_s = np.asanyarray(test_set.iloc[:,nb_var])\n",
        "test_Y_s[test_Y_s==2]=0\n",
        "train_Y_s[train_Y_s==1]=1"
      ],
      "execution_count": 11,
      "outputs": [
        {
          "output_type": "stream",
          "text": [
            "/usr/local/lib/python3.7/dist-packages/pandas/core/indexing.py:1743: SettingWithCopyWarning: \n",
            "A value is trying to be set on a copy of a slice from a DataFrame.\n",
            "Try using .loc[row_indexer,col_indexer] = value instead\n",
            "\n",
            "See the caveats in the documentation: https://pandas.pydata.org/pandas-docs/stable/user_guide/indexing.html#returning-a-view-versus-a-copy\n",
            "  isetter(ilocs[0], value)\n"
          ],
          "name": "stderr"
        }
      ]
    },
    {
      "cell_type": "code",
      "metadata": {
        "id": "_HuqZmj-laKc"
      },
      "source": [
        ""
      ],
      "execution_count": 11,
      "outputs": []
    },
    {
      "cell_type": "code",
      "metadata": {
        "id": "KVoyzqEboq8s"
      },
      "source": [
        "\n",
        "from keras import models, layers\n",
        "from keras.wrappers.scikit_learn import KerasClassifier \n",
        "from sklearn.utils import class_weight \n",
        "# np.random.seed(0)\n",
        "\n",
        "\n",
        "\n",
        "\n",
        "\n",
        "\n",
        "# Create function returning a compiled network\n",
        "\n",
        "def create_network(number_of_features):\n",
        "    # numbers of features\n",
        "    number_of_features = number_of_features  #train_X_s.shape[1]\n",
        "\n",
        "    # start neural network\n",
        "    network = models.Sequential()\n",
        "\n",
        "    # add fully connected layer with a ReLU activation function\n",
        "    network.add(layers.Dense(units=200, activation=\"tanh\", input_shape = (number_of_features, ) ))\n",
        "\n",
        "    # add fully connected layer with a ReLu activation function\n",
        "    network.add(layers.Dense(units=100, activation = \"tanh\" ) )\n",
        "\n",
        "    # add fully connected layer with a ReLu activation function\n",
        "    network.add(layers.Dense(units=50, activation = \"sigmoid\" ) )    \n",
        "\n",
        "    # add fully connected layer with a ReLu activation function\n",
        "    network.add(layers.Dense(units=20, activation = \"sigmoid\" ) )    \n",
        "\n",
        "    # add fully connected layer with a sigmoid activation function\n",
        "    network.add(layers.Dense(units=1, activation = \"sigmoid\" ) )\n",
        "\n",
        "    # compile neural network\n",
        "    network.compile(loss=\"binary_crossentropy\", optimizer =\"adam\", metrics = [\"accuracy\"] )\n",
        "\n",
        "\n",
        "    return network\n"
      ],
      "execution_count": 110,
      "outputs": []
    },
    {
      "cell_type": "code",
      "metadata": {
        "id": "Z-5h8dZKAunL"
      },
      "source": [
        "def plot_graphics(history):\n",
        "    # get training and test loss histories\n",
        "    training_loss = history.history[\"loss\"]\n",
        "    test_loss = history.history[\"val_loss\"]\n",
        "\n",
        "    # create count of the number of epochs\n",
        "    epoch_count = range(1, len(training_loss)+1)\n",
        "\n",
        "    # visualize loss history\n",
        "    plt.figure(figsize=(8,5))\n",
        "    plt.plot(epoch_count, training_loss, \"r--\" )\n",
        "    plt.plot(epoch_count, test_loss, \"b-\")\n",
        "    plt.legend([\"Training Loss\", \"Test Loss\"])\n",
        "    plt.xlabel(\"Epoch\")\n",
        "    plt.ylabel(\"Loss\")\n",
        "\n",
        "    # get training and test accuracy histories\n",
        "\n",
        "    training_accuracy = history.history[\"accuracy\"]\n",
        "    test_accuracy = history.history[\"val_accuracy\"]\n",
        "\n",
        "    plt.figure(figsize=(8,5))\n",
        "    plt.plot(epoch_count, training_accuracy, \"r--\")\n",
        "    plt.plot(epoch_count, test_accuracy, \"b-\")\n",
        "    plt.legend([\"Training Accuracy\", \"Test Accuracy\"])\n",
        "    plt.xlabel(\"Epoch\")\n",
        "    plt.ylabel(\"Accuracy Score\")\n"
      ],
      "execution_count": 111,
      "outputs": []
    },
    {
      "cell_type": "code",
      "metadata": {
        "colab": {
          "base_uri": "https://localhost:8080/"
        },
        "id": "8uJ0kITcXpOL",
        "outputId": "02c4611e-3c04-4829-caef-f37ec7feb988"
      },
      "source": [
        "# \n",
        "class_weights = class_weight.compute_class_weight('balanced',np.unique(train_Y_s ),train_Y_s)\n",
        "class_weights = dict(enumerate(class_weights))\n",
        "class_weights"
      ],
      "execution_count": 112,
      "outputs": [
        {
          "output_type": "execute_result",
          "data": {
            "text/plain": [
              "{0: 0.684332948534606, 1: 1.8562415291863346}"
            ]
          },
          "metadata": {
            "tags": []
          },
          "execution_count": 112
        }
      ]
    },
    {
      "cell_type": "code",
      "metadata": {
        "colab": {
          "base_uri": "https://localhost:8080/",
          "height": 651
        },
        "id": "AOM3dm3iwBXJ",
        "outputId": "e8e5647e-99ef-45cf-d70c-ba566d15e430"
      },
      "source": [
        "# \n",
        "# train neural network\n",
        "network = create_network( number_of_features=train_X_s.shape[1])\n",
        "history= network.fit(train_X_s, train_Y_s, epochs=100, verbose=0, batch_size=1024,class_weight=class_weights , validation_data=(test_X_s, test_Y_s))\n",
        "\n",
        "plot_graphics(history)"
      ],
      "execution_count": 113,
      "outputs": [
        {
          "output_type": "display_data",
          "data": {
            "image/png": "[encoded data removed]",
            "text/plain": [
              "<Figure size 576x360 with 1 Axes>"
            ]
          },
          "metadata": {
            "tags": [],
            "needs_background": "light"
          }
        },
        {
          "output_type": "display_data",
          "data": {
            "image/png": "[encoded data removed]",
            "text/plain": [
              "<Figure size 576x360 with 1 Axes>"
            ]
          },
          "metadata": {
            "tags": [],
            "needs_background": "light"
          }
        }
      ]
    },
    {
      "cell_type": "code",
      "metadata": {
        "colab": {
          "base_uri": "https://localhost:8080/",
          "height": 651
        },
        "id": "y_sisUntnOYH",
        "outputId": "8dd51b5a-ac19-4822-d6bb-aa323ef35d10"
      },
      "source": [
        "# \n",
        "# train neural network\n",
        "network = create_network( number_of_features=train_X_s.shape[1])\n",
        "history= network.fit(train_X_s, train_Y_s, epochs=30, verbose=0, batch_size=1024,class_weight=class_weights , validation_data=(test_X_s, test_Y_s))\n",
        "\n",
        "plot_graphics(history)"
      ],
      "execution_count": 114,
      "outputs": [
        {
          "output_type": "display_data",
          "data": {
            "image/png": "[encoded data removed]",
            "text/plain": [
              "<Figure size 576x360 with 1 Axes>"
            ]
          },
          "metadata": {
            "tags": [],
            "needs_background": "light"
          }
        },
        {
          "output_type": "display_data",
          "data": {
            "image/png": "[encoded data removed]",
            "text/plain": [
              "<Figure size 576x360 with 1 Axes>"
            ]
          },
          "metadata": {
            "tags": [],
            "needs_background": "light"
          }
        }
      ]
    },
    {
      "cell_type": "code",
      "metadata": {
        "id": "qr6xhUQfjx-B"
      },
      "source": [
        ""
      ],
      "execution_count": 114,
      "outputs": []
    },
    {
      "cell_type": "code",
      "metadata": {
        "colab": {
          "base_uri": "https://localhost:8080/"
        },
        "id": "JVtg9bPPz2D1",
        "outputId": "316b57a2-2bc5-4bc5-e9d1-4834e68bc6d8"
      },
      "source": [
        "network = create_network( number_of_features=train_X_s.shape[1])\n",
        "history= network.fit(train_X_s, train_Y_s, epochs=15, verbose=0, batch_size=1024,class_weight=class_weights , validation_data=(test_X_s, test_Y_s))\n",
        "\n",
        "evaluation(network, train_X_s, train_Y_s, test_X_s, test_Y_s, scoring=\"recall\", plot=False)"
      ],
      "execution_count": 117,
      "outputs": [
        {
          "output_type": "stream",
          "text": [
            "test set : \n",
            "[[8369 6160]\n",
            " [2089 3242]]\n",
            "              precision    recall  f1-score   support\n",
            "\n",
            "           0       0.80      0.58      0.67     14529\n",
            "           1       0.34      0.61      0.44      5331\n",
            "\n",
            "    accuracy                           0.58     19860\n",
            "   macro avg       0.57      0.59      0.55     19860\n",
            "weighted avg       0.68      0.58      0.61     19860\n",
            "\n",
            "train set : \n",
            "[[34375 23664]\n",
            " [ 7969 13428]]\n",
            "              precision    recall  f1-score   support\n",
            "\n",
            "           0       0.81      0.59      0.68     58039\n",
            "           1       0.36      0.63      0.46     21397\n",
            "\n",
            "    accuracy                           0.60     79436\n",
            "   macro avg       0.59      0.61      0.57     79436\n",
            "weighted avg       0.69      0.60      0.62     79436\n",
            "\n",
            "GRAPHIQUE NON DEMANDE\n"
          ],
          "name": "stdout"
        }
      ]
    },
    {
      "cell_type": "code",
      "metadata": {
        "colab": {
          "base_uri": "https://localhost:8080/"
        },
        "id": "A2z6uWv0qOj3",
        "outputId": "20b72c61-3ab5-4e08-d714-5be7fe2e46ad"
      },
      "source": [
        "# TRAIN SET TEST SET\n",
        "vingtiles(model= network, data_orig= data, affichage=True,\n",
        "            save=False, path = \"/content/drive/MyDrive/spad_score_method_1/spad_projection_FDFTOT21/Fichier_excel_vingtiles/train_test_logistic_regression.xlsx\")"
      ],
      "execution_count": 118,
      "outputs": [
        {
          "output_type": "stream",
          "text": [
            "/usr/local/lib/python3.7/dist-packages/keras/engine/sequential.py:425: UserWarning: `model.predict_proba()` is deprecated and will be removed after 2021-01-01. Please use `model.predict()` instead.\n",
            "  warnings.warn('`model.predict_proba()` is deprecated and '\n"
          ],
          "name": "stderr"
        },
        {
          "output_type": "stream",
          "text": [
            "                 IDENT     PROBA\n",
            "17559  175600010280925  0.233322\n",
            "73979  739800010408376  0.237975\n",
            "85390  853910010519316  0.238278\n",
            "98512  985130010538408  0.238757\n",
            "11693  116940010258609  0.239173\n",
            "...                ...       ...\n",
            "99093  990940010539035  0.870399\n",
            "12413  124140010259347  0.870547\n",
            "90064  900650010526393  0.871048\n",
            "95757  957580010534204  0.871048\n",
            "99283  992840010539458  0.871297\n",
            "\n",
            "[99296 rows x 2 columns]\n",
            "0.858151    49\n",
            "0.664289    26\n",
            "0.632745    23\n",
            "0.728564    19\n",
            "0.722744    19\n",
            "            ..\n",
            "0.581830     1\n",
            "0.581831     1\n",
            "0.586050     1\n",
            "0.602868     1\n",
            "0.437501     1\n",
            "Name: PROBA, Length: 96146, dtype: int64\n",
            "                PROBA\n",
            "17559  (0.232, 0.306]\n",
            "73979  (0.232, 0.306]\n",
            "85390  (0.232, 0.306]\n",
            "98512  (0.232, 0.306]\n",
            "11693  (0.232, 0.306]\n",
            "...               ...\n",
            "99093  (0.721, 0.871]\n",
            "12413  (0.721, 0.871]\n",
            "90064  (0.721, 0.871]\n",
            "95757  (0.721, 0.871]\n",
            "99283  (0.721, 0.871]\n",
            "\n",
            "[99296 rows x 1 columns]\n",
            "Top_mon            1     2  TOTAL\n",
            "TRANCHES                         \n",
            "(0.232, 0.306]   516  4449   4965\n",
            "(0.306, 0.336]   677  4288   4965\n",
            "(0.336, 0.363]   767  4198   4965\n",
            "(0.363, 0.387]   870  4095   4965\n",
            "(0.387, 0.408]   927  4037   4964\n",
            "(0.408, 0.428]  1020  3945   4965\n",
            "(0.428, 0.446]  1049  3916   4965\n",
            "(0.446, 0.462]  1041  3924   4965\n",
            "(0.462, 0.477]  1153  3811   4964\n",
            "(0.477, 0.491]  1234  3731   4965\n",
            "(0.491, 0.505]  1267  3699   4966\n",
            "(0.505, 0.52]   1336  3628   4964\n",
            "(0.52, 0.535]   1361  3603   4964\n",
            "(0.535, 0.552]  1478  3487   4965\n",
            "(0.552, 0.571]  1576  3389   4965\n",
            "(0.571, 0.594]  1661  3304   4965\n",
            "(0.594, 0.622]  1761  3203   4964\n",
            "(0.622, 0.66]   1894  3071   4965\n",
            "(0.66, 0.721]   2238  2727   4965\n",
            "(0.721, 0.871]  2902  2063   4965\n"
          ],
          "name": "stdout"
        }
      ]
    },
    {
      "cell_type": "code",
      "metadata": {
        "id": "_P6iywlEqPHG"
      },
      "source": [
        ""
      ],
      "execution_count": 32,
      "outputs": []
    },
    {
      "cell_type": "code",
      "metadata": {
        "id": "oKOzsAh6taQG"
      },
      "source": [
        ""
      ],
      "execution_count": 29,
      "outputs": []
    },
    {
      "cell_type": "code",
      "metadata": {
        "id": "RlLyFNW0taT1"
      },
      "source": [
        ""
      ],
      "execution_count": 29,
      "outputs": []
    },
    {
      "cell_type": "code",
      "metadata": {
        "colab": {
          "base_uri": "https://localhost:8080/"
        },
        "id": "S-8aMGTqwBaw",
        "outputId": "b0bffcf0-da0b-40b3-ed73-d7fe43de9a4f"
      },
      "source": [
        "#k-fold cross-validation neural networks ( FOR SMALLER DATA )\n",
        "\n",
        "# wrap Keras model so it can be used by scikit-learn \n",
        "neural_network = KerasClassifier(build_fn =lambda:create_network(number_of_features=train_X_s.shape[1]), epochs=15, batch_size=1024, verbose=0)\n",
        "\n",
        "# evaluate neural network using three-fold cross-validation\n",
        "cross_val_score(neural_network, train_X_s, train_Y_s, cv = 10, n_jobs=2, scoring=\"accuracy\")\n",
        "\n"
      ],
      "execution_count": 121,
      "outputs": [
        {
          "output_type": "execute_result",
          "data": {
            "text/plain": [
              "array([0.74005539, 0.73653072, 0.74043303, 0.73564955, 0.73376133,\n",
              "       0.73074018, 0.72869193, 0.73448319, 0.74065215, 0.73712703])"
            ]
          },
          "metadata": {
            "tags": []
          },
          "execution_count": 121
        }
      ]
    },
    {
      "cell_type": "code",
      "metadata": {
        "colab": {
          "base_uri": "https://localhost:8080/"
        },
        "id": "NasXjLOcwBg8",
        "outputId": "f3597683-a590-455d-de9b-e5552657edcd"
      },
      "source": [
        "101692-6780*14"
      ],
      "execution_count": null,
      "outputs": [
        {
          "output_type": "execute_result",
          "data": {
            "text/plain": [
              "6772"
            ]
          },
          "metadata": {
            "tags": []
          },
          "execution_count": 29
        }
      ]
    },
    {
      "cell_type": "code",
      "metadata": {
        "id": "-22oPnT69AmG"
      },
      "source": [
        "####################################################################################################\n",
        "#\n",
        "#                                       UNDER-SAMPLING  ET OVER-SAMPLING (MODIFIER)\n",
        "#\n",
        "####################################################################################################"
      ],
      "execution_count": null,
      "outputs": []
    },
    {
      "cell_type": "code",
      "metadata": {
        "id": "zEcS28Ay9Ao3"
      },
      "source": [
        "# Résultat du traitement sur le train set (under-sampling et over-sampling)\n",
        "abc_test = pd.read_csv(\"/content/drive/MyDrive/spad_score_method_1/spad_projection_FDFTOT21/sans_val_corr_spad_under_over_sampling.txt\", delim_whitespace=\"\\t\", header = None, low_memory=False, dtype=\"Int64\" ) #, dtype='Int64')\n",
        "abc_np = abc_test.to_numpy(dtype=\"Int64\")\n",
        "\n",
        "X_resampled = abc_np[:,:-1]\n",
        "y_resampled = abc_np[:, abc_np.shape[1] -1 ]\n",
        "y_resampled[y_resampled==2]=0\n",
        "y_resampled[y_resampled==1]=1\n"
      ],
      "execution_count": null,
      "outputs": []
    },
    {
      "cell_type": "code",
      "metadata": {
        "colab": {
          "base_uri": "https://localhost:8080/"
        },
        "id": "WRIbfHjV9Ar1",
        "outputId": "d81ff682-c7b3-42f9-fc9b-febd2ca64b84"
      },
      "source": [
        "X_resampled.shape, y_resampled.shape"
      ],
      "execution_count": null,
      "outputs": [
        {
          "output_type": "execute_result",
          "data": {
            "text/plain": [
              "((160026, 269), (160026,))"
            ]
          },
          "metadata": {
            "tags": []
          },
          "execution_count": 43
        }
      ]
    },
    {
      "cell_type": "code",
      "metadata": {
        "colab": {
          "base_uri": "https://localhost:8080/",
          "height": 668
        },
        "id": "QvI6AveX-fY3",
        "outputId": "d010d318-cdb1-41d0-b0d4-dcfa8cebf26c"
      },
      "source": [
        "# \n",
        "# train neural network\n",
        "network = create_network( number_of_features = X_resampled.shape[1])\n",
        "history= network.fit( X_resampled, y_resampled, epochs=100, verbose=0, batch_size=6780, validation_data=(test_X_s, test_Y_s))\n",
        "\n",
        "# get training and test loss histories\n",
        "training_loss = history.history[\"loss\"]\n",
        "test_loss = history.history[\"val_loss\"]\n",
        "\n",
        "# create count of the number of epochs\n",
        "epoch_count = range(1, len(training_loss)+1)\n",
        "\n",
        "# visualize loss history\n",
        "plt.figure(figsize=(8,5))\n",
        "plt.plot(epoch_count, training_loss, \"r--\" )\n",
        "plt.plot(epoch_count, test_loss, \"b-\")\n",
        "plt.legend([\"Training Loss\", \"Test Loss\"])\n",
        "plt.xlabel(\"Epoch\")\n",
        "plt.ylabel(\"Loss\")\n",
        "\n",
        "# get training and test accuracy histories\n",
        "\n",
        "training_accuracy = history.history[\"accuracy\"]\n",
        "test_accuracy = history.history[\"val_accuracy\"]\n",
        "\n",
        "plt.figure(figsize=(8,5))\n",
        "plt.plot(epoch_count, training_accuracy, \"r--\")\n",
        "plt.plot(epoch_count, test_accuracy, \"b-\")\n",
        "plt.legend([\"Training Accuracy\", \"Test Accuracy\"])\n",
        "plt.xlabel(\"Epoch\")\n",
        "plt.ylabel(\"Accuracy Score\")\n"
      ],
      "execution_count": null,
      "outputs": [
        {
          "output_type": "execute_result",
          "data": {
            "text/plain": [
              "Text(0, 0.5, 'Accuracy Score')"
            ]
          },
          "metadata": {
            "tags": []
          },
          "execution_count": 60
        },
        {
          "output_type": "display_data",
          "data": {
            "image/png": "[encoded data removed]",
            "text/plain": [
              "<Figure size 576x360 with 1 Axes>"
            ]
          },
          "metadata": {
            "tags": [],
            "needs_background": "light"
          }
        },
        {
          "output_type": "display_data",
          "data": {
            "image/png": "[encoded data removed]",
            "text/plain": [
              "<Figure size 576x360 with 1 Axes>"
            ]
          },
          "metadata": {
            "tags": [],
            "needs_background": "light"
          }
        }
      ]
    },
    {
      "cell_type": "code",
      "metadata": {
        "colab": {
          "base_uri": "https://localhost:8080/"
        },
        "id": "HyRWFzvy9Auz",
        "outputId": "291c628d-ea5a-4077-fa52-62e88ff4a31f"
      },
      "source": [
        "network = create_network( number_of_features = X_resampled.shape[1])\n",
        "history= network.fit( X_resampled, y_resampled, epochs=1, verbose=0, batch_size=6780, validation_data=(test_X_s, test_Y_s))\n",
        "evaluation(network, X_resampled, y_resampled, test_X_s, test_Y_s, scoring=\"recall\", plot=False)"
      ],
      "execution_count": null,
      "outputs": [
        {
          "output_type": "stream",
          "text": [
            "test set : \n",
            "[[18935  1809]\n",
            " [ 3712   967]]\n",
            "              precision    recall  f1-score   support\n",
            "\n",
            "           0       0.84      0.91      0.87     20744\n",
            "           1       0.35      0.21      0.26      4679\n",
            "\n",
            "    accuracy                           0.78     25423\n",
            "   macro avg       0.59      0.56      0.57     25423\n",
            "weighted avg       0.75      0.78      0.76     25423\n",
            "\n",
            "train set : \n",
            "[[73338  6675]\n",
            " [17999 62014]]\n",
            "              precision    recall  f1-score   support\n",
            "\n",
            "           0       0.80      0.92      0.86     80013\n",
            "           1       0.90      0.78      0.83     80013\n",
            "\n",
            "    accuracy                           0.85    160026\n",
            "   macro avg       0.85      0.85      0.85    160026\n",
            "weighted avg       0.85      0.85      0.85    160026\n",
            "\n",
            "GRAPHIQUE NON DEMANDE\n"
          ],
          "name": "stdout"
        }
      ]
    },
    {
      "cell_type": "code",
      "metadata": {
        "id": "A5S-pIKx9av4"
      },
      "source": [
        ""
      ],
      "execution_count": null,
      "outputs": []
    },
    {
      "cell_type": "code",
      "metadata": {
        "id": "6o4eAEwO9ayZ",
        "colab": {
          "base_uri": "https://localhost:8080/"
        },
        "outputId": "389ff501-0e5b-4e73-b435-488c43ed64f0"
      },
      "source": [
        ""
      ],
      "execution_count": null,
      "outputs": [
        {
          "output_type": "execute_result",
          "data": {
            "text/plain": [
              "array([2, 1, 2, ..., 1, 1, 1])"
            ]
          },
          "metadata": {
            "tags": []
          },
          "execution_count": 33
        }
      ]
    },
    {
      "cell_type": "code",
      "metadata": {
        "id": "lTVCFXsJ9a47"
      },
      "source": [
        ""
      ],
      "execution_count": null,
      "outputs": []
    },
    {
      "cell_type": "code",
      "metadata": {
        "id": "CFRqzLUT9A1M"
      },
      "source": [
        ""
      ],
      "execution_count": null,
      "outputs": []
    },
    {
      "cell_type": "code",
      "metadata": {
        "id": "CDmxyHjUwymi",
        "colab": {
          "base_uri": "https://localhost:8080/"
        },
        "outputId": "26ebf0ac-f975-4390-8877-f6293f872c83"
      },
      "source": [
        "#k-fold cross-validation neural networks ( FOR SMALLER DATA )\n",
        "\n",
        "# wrap Keras model so it can be used by scikit-learn \n",
        "neural_network = KerasClassifier(build_fn =lambda:create_network(number_of_features=X_resampled.shape[1]), epochs=100, batch_size=6780, verbose=0)\n",
        "\n",
        "# evaluate neural network using three-fold cross-validation\n",
        "cross_val_score(neural_network, X_resampled, y_resampled, cv = 4, n_jobs=2)\n",
        "\n"
      ],
      "execution_count": null,
      "outputs": [
        {
          "output_type": "execute_result",
          "data": {
            "text/plain": [
              "array([0.74496961, 0.79521084, 0.87861818, 0.97575366])"
            ]
          },
          "metadata": {
            "tags": []
          },
          "execution_count": 47
        }
      ]
    },
    {
      "cell_type": "code",
      "metadata": {
        "id": "38H-wgkev8hb",
        "colab": {
          "base_uri": "https://localhost:8080/"
        },
        "outputId": "738b3366-827e-4656-afae-ebd5cbe4e9e1"
      },
      "source": [
        ""
      ],
      "execution_count": null,
      "outputs": [
        {
          "output_type": "execute_result",
          "data": {
            "text/plain": [
              "<keras.wrappers.scikit_learn.KerasClassifier at 0x7fd746249450>"
            ]
          },
          "metadata": {
            "tags": []
          },
          "execution_count": 25
        }
      ]
    },
    {
      "cell_type": "code",
      "metadata": {
        "id": "0_DAzLu3oq-1"
      },
      "source": [
        "# wrap keras model s\n",
        "neural_network = KerasClassifier(build_fn = create_network, verbose =0)\n",
        "\n",
        "# create hyperparameters \n",
        "hyperparameters = {optimizer = [\"rmsprop\", \"adam\"] , epochs = [5, 10], batch_size = [5, 10, 100]   }\n",
        "\n",
        "grid = GridSearchCV(estimator = neural_network, param_grid=hyperparameters)\n",
        "\n",
        "result = grid.fit( , )\n",
        "\n",
        "result.best_params_"
      ],
      "execution_count": null,
      "outputs": []
    },
    {
      "cell_type": "code",
      "metadata": {
        "id": "zxobcQbU5Y02"
      },
      "source": [
        ""
      ],
      "execution_count": null,
      "outputs": []
    },
    {
      "cell_type": "code",
      "metadata": {
        "id": "d3jV6RXfVM0z",
        "colab": {
          "base_uri": "https://localhost:8080/"
        },
        "outputId": "3bef1051-18cb-4ab7-ecb1-76d3207220aa"
      },
      "source": [
        ""
      ],
      "execution_count": null,
      "outputs": [
        {
          "output_type": "execute_result",
          "data": {
            "text/plain": [
              "dtype('int64')"
            ]
          },
          "metadata": {
            "tags": []
          },
          "execution_count": 47
        }
      ]
    },
    {
      "cell_type": "code",
      "metadata": {
        "id": "0eo-aO0YY94Q"
      },
      "source": [
        ""
      ],
      "execution_count": null,
      "outputs": []
    }
  ]
}