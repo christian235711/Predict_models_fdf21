{
  "nbformat": 4,
  "nbformat_minor": 0,
  "metadata": {
    "colab": {
      "name": "FDF21_Neural_Networks.ipynb",
      "provenance": [],
      "collapsed_sections": [],
      "authorship_tag": "ABX9TyNqSaYLyrrrAOPSCwfpbk4U"
    },
    "kernelspec": {
      "display_name": "Python 3",
      "name": "python3"
    },
    "language_info": {
      "name": "python"
    }
  },
  "cells": [
    {
      "cell_type": "code",
      "metadata": {
        "colab": {
          "base_uri": "https://localhost:8080/"
        },
        "id": "3FL4NG4bKoPL",
        "outputId": "a2c899b7-076b-4639-b3b3-d49387e3e44e"
      },
      "source": [
        "import numpy as np\n",
        "import pandas as pd\n",
        "import seaborn as sns\n",
        "import matplotlib.pyplot as plt\n",
        "\n",
        "\n",
        "from sklearn.metrics import confusion_matrix\n",
        "\n",
        "from google.colab import drive\n",
        "drive.mount('/content/drive')"
      ],
      "execution_count": 103,
      "outputs": [
        {
          "output_type": "stream",
          "text": [
            "Drive already mounted at /content/drive; to attempt to forcibly remount, call drive.mount(\"/content/drive\", force_remount=True).\n"
          ],
          "name": "stdout"
        }
      ]
    },
    {
      "cell_type": "code",
      "metadata": {
        "id": "wmD80CCCK5ga"
      },
      "source": [
        "# option d'affichage des résultats\n",
        "pd.set_option(\"display.max_row\",130)\n",
        "pd.set_option(\"display.max_columns\",100)"
      ],
      "execution_count": 104,
      "outputs": []
    },
    {
      "cell_type": "code",
      "metadata": {
        "id": "kkc12UYCK5ie"
      },
      "source": [
        "# les noms des variables\n",
        "\n",
        "colonnes =([\"IDENT\", \"TypeHabi\", \"GeoFaz_Scl\", \"GeoFaz_cl\", \"ImmoFaz_Scl\", \"ImmoFaz_cl\", \"Anciennete\",\n",
        "            \"Logement_prix_m2\", \"Mediane_RFR\", \"Sexe\", \"Prenom_Phase_scl_H\", \"Prenom_Phase_scl_F\",\n",
        "            \"Prenom_Phase_cl_H\", \"Prenom_Phase_cl_F\", \"Age_H\", \"Age_F\", \"Affinite_1\", \"Affinite_2\",\n",
        "            \"Prenom_effectif\", \"Potentiel_prenom\", \"Onoma-Phase_Scl\", \"Onoma-Phase_CL\", \"Top_mon\"])"
      ],
      "execution_count": 105,
      "outputs": []
    },
    {
      "cell_type": "code",
      "metadata": {
        "id": "u5wVNuMu-y9R"
      },
      "source": [
        "colonnes_montant = [\"DEDUPLI\", \"IDENT\", \"SommeDeMONTANT_NUM\", \"Flag_Top_Montant\", \"NovosScore_Vingtile\"]\n",
        "\n",
        "data_montant_orig = pd.read_csv(\"/content/drive/MyDrive/spad_score_method_1/spad_projection_FDFTOT21/DONS_FDF_N_TODAY_1ers_gestes_REF_MD.txt\", sep=\";\", header = 0, low_memory=False, dtype=str) #, dtype=str )#, dtype='Int64')\n",
        "\n",
        "data_montant_orig.iloc[:,2]=data_montant_orig.iloc[:,2].str.replace(\",\",\".\")\n",
        "\n",
        "data_montant_orig.columns =colonnes_montant\n",
        "data_montant_orig[\"SommeDeMONTANT_NUM\"]=data_montant_orig[\"SommeDeMONTANT_NUM\"].astype(float)"
      ],
      "execution_count": 106,
      "outputs": []
    },
    {
      "cell_type": "code",
      "metadata": {
        "id": "IqjK-LTnK5k3"
      },
      "source": [
        "# importation du fichier (changer le chemin d'accès)\n",
        "''' Faites attention au type de fichier, au délimiteur des valeurs (ça doit être unique et non multiple),\n",
        "au header et à la lecture des types d'objets (low_memory) '''\n",
        "\n",
        "data_orig = pd.read_csv(\"/content/drive/MyDrive/spad_score_method_1/spad_projection_FDFTOT21/sans_8_new_my_data_FDFTOT21.txt\", delim_whitespace=\"\\t\", header = None, names=colonnes, low_memory=False, dtype=str)#, dtype='Int64')\n"
      ],
      "execution_count": 107,
      "outputs": []
    },
    {
      "cell_type": "code",
      "metadata": {
        "colab": {
          "base_uri": "https://localhost:8080/"
        },
        "id": "Snpt62qBK5nN",
        "outputId": "ec4a087f-157b-439d-d3c9-cd97009dc473"
      },
      "source": [
        "''' copie superficielle (peu profonde) du dataset original pour ne pas modifier les valeurs\n",
        "d'origine par erreur plus tard \n",
        "'''\n",
        "data = data_orig.copy()\n",
        "data.shape"
      ],
      "execution_count": 108,
      "outputs": [
        {
          "output_type": "execute_result",
          "data": {
            "text/plain": [
              "(1192180, 23)"
            ]
          },
          "metadata": {
            "tags": []
          },
          "execution_count": 108
        }
      ]
    },
    {
      "cell_type": "code",
      "metadata": {
        "colab": {
          "base_uri": "https://localhost:8080/",
          "height": 243
        },
        "id": "vbTTDlg_LGIt",
        "outputId": "a0571df7-536a-4d58-c1c4-b31ad219fcef"
      },
      "source": [
        "# visualisation des premiers lignes\n",
        "data.head()\n"
      ],
      "execution_count": 109,
      "outputs": [
        {
          "output_type": "execute_result",
          "data": {
            "text/html": [
              "<div>\n",
              "<style scoped>\n",
              "    .dataframe tbody tr th:only-of-type {\n",
              "        vertical-align: middle;\n",
              "    }\n",
              "\n",
              "    .dataframe tbody tr th {\n",
              "        vertical-align: top;\n",
              "    }\n",
              "\n",
              "    .dataframe thead th {\n",
              "        text-align: right;\n",
              "    }\n",
              "</style>\n",
              "<table border=\"1\" class=\"dataframe\">\n",
              "  <thead>\n",
              "    <tr style=\"text-align: right;\">\n",
              "      <th></th>\n",
              "      <th>IDENT</th>\n",
              "      <th>TypeHabi</th>\n",
              "      <th>GeoFaz_Scl</th>\n",
              "      <th>GeoFaz_cl</th>\n",
              "      <th>ImmoFaz_Scl</th>\n",
              "      <th>ImmoFaz_cl</th>\n",
              "      <th>Anciennete</th>\n",
              "      <th>Logement_prix_m2</th>\n",
              "      <th>Mediane_RFR</th>\n",
              "      <th>Sexe</th>\n",
              "      <th>Prenom_Phase_scl_H</th>\n",
              "      <th>Prenom_Phase_scl_F</th>\n",
              "      <th>Prenom_Phase_cl_H</th>\n",
              "      <th>Prenom_Phase_cl_F</th>\n",
              "      <th>Age_H</th>\n",
              "      <th>Age_F</th>\n",
              "      <th>Affinite_1</th>\n",
              "      <th>Affinite_2</th>\n",
              "      <th>Prenom_effectif</th>\n",
              "      <th>Potentiel_prenom</th>\n",
              "      <th>Onoma-Phase_Scl</th>\n",
              "      <th>Onoma-Phase_CL</th>\n",
              "      <th>Top_mon</th>\n",
              "    </tr>\n",
              "  </thead>\n",
              "  <tbody>\n",
              "    <tr>\n",
              "      <th>0</th>\n",
              "      <td>0010000001</td>\n",
              "      <td>02</td>\n",
              "      <td>81</td>\n",
              "      <td>08</td>\n",
              "      <td>91</td>\n",
              "      <td>09</td>\n",
              "      <td>06</td>\n",
              "      <td>21</td>\n",
              "      <td>21</td>\n",
              "      <td>01</td>\n",
              "      <td>71</td>\n",
              "      <td>41</td>\n",
              "      <td>07</td>\n",
              "      <td>04</td>\n",
              "      <td>12</td>\n",
              "      <td>04</td>\n",
              "      <td>20</td>\n",
              "      <td>02</td>\n",
              "      <td>02</td>\n",
              "      <td>01</td>\n",
              "      <td>51</td>\n",
              "      <td>05</td>\n",
              "      <td>1</td>\n",
              "    </tr>\n",
              "    <tr>\n",
              "      <th>1</th>\n",
              "      <td>0010000006</td>\n",
              "      <td>01</td>\n",
              "      <td>75</td>\n",
              "      <td>07</td>\n",
              "      <td>43</td>\n",
              "      <td>04</td>\n",
              "      <td>06</td>\n",
              "      <td>06</td>\n",
              "      <td>13</td>\n",
              "      <td>02</td>\n",
              "      <td>71</td>\n",
              "      <td>64</td>\n",
              "      <td>07</td>\n",
              "      <td>06</td>\n",
              "      <td>12</td>\n",
              "      <td>09</td>\n",
              "      <td>04</td>\n",
              "      <td>12</td>\n",
              "      <td>04</td>\n",
              "      <td>13</td>\n",
              "      <td>12</td>\n",
              "      <td>01</td>\n",
              "      <td>1</td>\n",
              "    </tr>\n",
              "    <tr>\n",
              "      <th>2</th>\n",
              "      <td>0010000011</td>\n",
              "      <td>01</td>\n",
              "      <td>76</td>\n",
              "      <td>07</td>\n",
              "      <td>43</td>\n",
              "      <td>04</td>\n",
              "      <td>06</td>\n",
              "      <td>06</td>\n",
              "      <td>16</td>\n",
              "      <td>03</td>\n",
              "      <td>54</td>\n",
              "      <td>81</td>\n",
              "      <td>05</td>\n",
              "      <td>08</td>\n",
              "      <td>07</td>\n",
              "      <td>12</td>\n",
              "      <td>06</td>\n",
              "      <td>06</td>\n",
              "      <td>04</td>\n",
              "      <td>18</td>\n",
              "      <td>36</td>\n",
              "      <td>03</td>\n",
              "      <td>2</td>\n",
              "    </tr>\n",
              "    <tr>\n",
              "      <th>3</th>\n",
              "      <td>0010000013</td>\n",
              "      <td>03</td>\n",
              "      <td>75</td>\n",
              "      <td>07</td>\n",
              "      <td>43</td>\n",
              "      <td>04</td>\n",
              "      <td>04</td>\n",
              "      <td>06</td>\n",
              "      <td>13</td>\n",
              "      <td>01</td>\n",
              "      <td>71</td>\n",
              "      <td>36</td>\n",
              "      <td>07</td>\n",
              "      <td>03</td>\n",
              "      <td>12</td>\n",
              "      <td>11</td>\n",
              "      <td>11</td>\n",
              "      <td>19</td>\n",
              "      <td>04</td>\n",
              "      <td>06</td>\n",
              "      <td>21</td>\n",
              "      <td>02</td>\n",
              "      <td>1</td>\n",
              "    </tr>\n",
              "    <tr>\n",
              "      <th>4</th>\n",
              "      <td>0010000015</td>\n",
              "      <td>02</td>\n",
              "      <td>33</td>\n",
              "      <td>03</td>\n",
              "      <td>44</td>\n",
              "      <td>04</td>\n",
              "      <td>06</td>\n",
              "      <td>07</td>\n",
              "      <td>12</td>\n",
              "      <td>01</td>\n",
              "      <td>71</td>\n",
              "      <td>42</td>\n",
              "      <td>07</td>\n",
              "      <td>04</td>\n",
              "      <td>12</td>\n",
              "      <td>05</td>\n",
              "      <td>14</td>\n",
              "      <td>03</td>\n",
              "      <td>03</td>\n",
              "      <td>01</td>\n",
              "      <td>14</td>\n",
              "      <td>01</td>\n",
              "      <td>2</td>\n",
              "    </tr>\n",
              "  </tbody>\n",
              "</table>\n",
              "</div>"
            ],
            "text/plain": [
              "        IDENT TypeHabi GeoFaz_Scl GeoFaz_cl ImmoFaz_Scl ImmoFaz_cl Anciennete  \\\n",
              "0  0010000001       02         81        08          91         09         06   \n",
              "1  0010000006       01         75        07          43         04         06   \n",
              "2  0010000011       01         76        07          43         04         06   \n",
              "3  0010000013       03         75        07          43         04         04   \n",
              "4  0010000015       02         33        03          44         04         06   \n",
              "\n",
              "  Logement_prix_m2 Mediane_RFR Sexe Prenom_Phase_scl_H Prenom_Phase_scl_F  \\\n",
              "0               21          21   01                 71                 41   \n",
              "1               06          13   02                 71                 64   \n",
              "2               06          16   03                 54                 81   \n",
              "3               06          13   01                 71                 36   \n",
              "4               07          12   01                 71                 42   \n",
              "\n",
              "  Prenom_Phase_cl_H Prenom_Phase_cl_F Age_H Age_F Affinite_1 Affinite_2  \\\n",
              "0                07                04    12    04         20         02   \n",
              "1                07                06    12    09         04         12   \n",
              "2                05                08    07    12         06         06   \n",
              "3                07                03    12    11         11         19   \n",
              "4                07                04    12    05         14         03   \n",
              "\n",
              "  Prenom_effectif Potentiel_prenom Onoma-Phase_Scl Onoma-Phase_CL Top_mon  \n",
              "0              02               01              51             05       1  \n",
              "1              04               13              12             01       1  \n",
              "2              04               18              36             03       2  \n",
              "3              04               06              21             02       1  \n",
              "4              03               01              14             01       2  "
            ]
          },
          "metadata": {
            "tags": []
          },
          "execution_count": 109
        }
      ]
    },
    {
      "cell_type": "code",
      "metadata": {
        "id": "ZJgFPrv-_omD"
      },
      "source": [
        ""
      ],
      "execution_count": 109,
      "outputs": []
    },
    {
      "cell_type": "code",
      "metadata": {
        "id": "R32oQgCWLGPT"
      },
      "source": [
        "#nombre de modalités de chaque variables (dans un dataframe)\n",
        "def nombre_mod(data2):\n",
        "    #création d'un dataframe vide\n",
        "    dff= pd.DataFrame(columns=[\"VARIABLE\",\"NOMBRE_MOD\", \"NOMBRE_MOD_SANS_NA\"])\n",
        "    for i in range(data2.shape[1]): # sans compter les valeurs manquantes\n",
        "        taille =len(data2.iloc[:,i].value_counts(dropna=False))\n",
        "        taille_1 = len(data2.iloc[:,i].value_counts(dropna=True) )\n",
        "        dff=dff.append({\"VARIABLE\": colonnes[i],\"NOMBRE_MOD\":taille, \"NOMBRE_MOD_SANS_NA\":taille_1 }, ignore_index=True)\n",
        "    return dff\n",
        "\n",
        "# sélection des corrélations les plus importantes\n",
        "def variables_corr(tableau_corr, seuil):\n",
        "    colonnes = tableau_corr.columns\n",
        "    val_temp = 0 \n",
        "    variables_corr_pos=[] ; variables_corr_pos_val=[]\n",
        "    variables_corr_neg=[] ; variables_corr_neg_val=[]\n",
        "    for i in range(tableau_corr.shape[0]):  \n",
        "        for j in range(tableau_corr.shape[0]):\n",
        "            if i<j: #i!=j:\n",
        "                if (tableau_corr.iloc[i,j] > seuil):\n",
        "                    variables_corr_pos.append(colonnes[j])\n",
        "                    variables_corr_pos_val.append(round( tableau_corr.iloc[i,j], 2))\n",
        "                    val_temp += 1\n",
        "\n",
        "                if (tableau_corr.iloc[i,j] <-seuil):\n",
        "                    variables_corr_neg.append(colonnes[j])\n",
        "                    variables_corr_neg_val.append(round( tableau_corr.iloc[i,j], 2))\n",
        "                    val_temp += 1\n",
        "\n",
        "        if (len(variables_corr_pos) > 0) | (len(variables_corr_neg) >0) :\n",
        "            print(\"variable : \", colonnes[i])\n",
        "            if len(variables_corr_pos) > 0:    \n",
        "                print(\"corr pos\", variables_corr_pos)\n",
        "                print(\"corr pos\", variables_corr_pos_val)\n",
        "                val_temp += 1\n",
        "\n",
        "            if len(variables_corr_neg) >0:  \n",
        "                print(\"corr neg\", variables_corr_neg)\n",
        "                print(\"corr neg\", variables_corr_neg_val)\n",
        "                val_temp += 1\n",
        "            print(\"\")\n",
        "        variables_corr_pos = variables_corr_pos*0\n",
        "        variables_corr_neg = variables_corr_pos*0\n",
        "\n",
        "        variables_corr_pos_val = variables_corr_pos_val*0\n",
        "        variables_corr_neg_val = variables_corr_pos_val*0\n",
        "    if val_temp == 0:\n",
        "        print(\"IL N'Y A PAS DE CORRELATION ENTRE LES VARIABLES PAR RAPPORT AU SEUIL PRIS\")\n",
        "        \n",
        "\n",
        "\n",
        "def evaluation(model, X_train, y_train, X_test, y_test, scoring, plot):\n",
        "\n",
        "    #model.fit(X_train, y_train)\n",
        "    y_pred_test = (model.predict(X_test) > 0.5).astype(\"int64\").ravel()\n",
        "    y_pred_train = (model.predict(X_train) > 0.5 ).astype(\"int64\").ravel()\n",
        "\n",
        "    y_pred_test = np.where(y_pred_test==0, 2, y_pred_test) \n",
        "    y_pred_train = np.where(y_pred_train==0, 2, y_pred_train) \n",
        "\n",
        "    y_test = np.where(y_test==0, 2, y_test) \n",
        "    y_train = np.where(y_train==0, 2, y_train) \n",
        "\n",
        "    print(\"test\",accuracy_score(y_test, y_pred_test)); print(\"train\", accuracy_score(y_train, y_pred_train))\n",
        "\n",
        "    print(\"test set : \")\n",
        "    print(confusion_matrix(y_test, y_pred_test))\n",
        "    print(classification_report(y_test, y_pred_test)) \n",
        "    print(\"train set : \")\n",
        "    print(confusion_matrix(y_train, y_pred_train )) # ajouter \n",
        "    print(classification_report(y_train, y_pred_train ))\n",
        "\n",
        "    if plot == True:\n",
        "        N, train_score, val_score = learning_curve(model, X_train, y_train, shuffle=True, cv = 4, scoring = scoring, train_sizes = np.linspace(0.1, 1, 6) )\n",
        "\n",
        "        plt.figure(figsize = (10,6))\n",
        "        plt.plot(N, train_score.mean(axis=1), label =\"train_score\")\n",
        "        plt.plot(N, val_score.mean(axis=1), label =\"cross_validation_score\")\n",
        "        plt.legend()\n",
        "    else :\n",
        "        print(\"GRAPHIQUE NON DEMANDE\")\n",
        "\n",
        "# Comme il n'y a pas de valeurs manquantes (à la place il y a un nombre), le seul traitement qu'on fait c'est tranformer\n",
        "# le type de variable (les variables continues deviennent qualitatives)\n",
        "def data_processing(df):\n",
        "    \"\"\" \n",
        "    for i in range(0,len(df.columns)):    \n",
        "        df[df.columns[i]].fillna(100.0, inplace=True) #On remplace les données manquantes par 100\n",
        "    for i in range(0,len(df.columns)):\n",
        "        print(df[df.columns[i]].value_counts(dropna=False))    \n",
        "    \"\"\"\n",
        "    \n",
        "   #Transformation de toutes les variables en facteurs         \n",
        "    for i in range(0,len(df.columns)):\n",
        "        df[df.columns[i]] = df[df.columns[i]].astype('category')\n",
        "    return df.to_numpy() #.as_matrix()\n",
        "\n",
        "\n",
        "def vingtiles(model, data_orig, affichage, save, path): # data_orig est une variables locale (peut être différente au df d'origine)\n",
        "    # position de la dernière variable explicative dans le dataset\n",
        "    nb_var = data_orig.shape[1]-1\n",
        "\n",
        "    # predict sur tous les individus (avec et sans classe Top_mon)\n",
        "    tous_probas = model.predict_proba(data_orig.iloc[:,1:nb_var])\n",
        "    df_tous = pd.DataFrame({'IDENT': data_orig.iloc[:,0] , 'PROBA': tous_probas[:,0] })\n",
        "    #df_tous\n",
        "    \n",
        "    # valeurs ordonnées pour diviser après\n",
        "    df_tous=df_tous.sort_values(by='PROBA', ascending=True)\n",
        "    #df_tous\n",
        "    print(df_tous)\n",
        "    \n",
        "    #vérification\n",
        "    print(df_tous['PROBA'].value_counts())\n",
        "\n",
        "    # vingtiles\n",
        "    df_temp =pd.DataFrame( pd.qcut(df_tous['PROBA'],q= 20)  )\n",
        "    #print(df_temp)\n",
        "\n",
        "    # ajout par index (IMPORTANTE)\n",
        "    df_tous[\"TRANCHES\"]=pd.DataFrame(df_temp.iloc[:,0].to_numpy(),index= df_temp.index)\n",
        "    #print(df_tous)\n",
        "\n",
        "    # création de la dernière colonne CLASSE et son remplissage\n",
        "    index_20_ord = pd.DataFrame(np.unique(df_tous[\"TRANCHES\"])) \n",
        "    df_tous[\"CLASSE\"]=df_tous[\"TRANCHES\"].copy()\n",
        "    ind_val=1\n",
        "    for kk in range(20):\n",
        "        df_tous[\"CLASSE\"][df_tous[\"CLASSE\"]== index_20_ord.iloc[kk,0] ] = str(ind_val) \n",
        "        ind_val+=1\n",
        "    print(df_tous)    \n",
        "    \n",
        "    # pour la colonne Top_mon : changement de type de variable et remplissage des valeurs (s'il le faut)\n",
        "    data_temp_t = data_orig.copy()\n",
        "    data_temp_t[\"Top_mon\"] =  data_temp_t[\"Top_mon\"].replace(1.0,'1')\n",
        "    data_temp_t[\"Top_mon\"] =  data_temp_t[\"Top_mon\"].replace(2.0,'2')\n",
        "    data_all_complet_class = data_temp_t #data_temp_t.fillna('2')\n",
        "    #data_all_complet_class\n",
        "\n",
        "    # jointure\n",
        "    ident_class_tous = data_all_complet_class[[\"IDENT\",\"Top_mon\"]]\n",
        "    tableau_resultats = pd.merge(df_tous,ident_class_tous)\n",
        "    #tableau_resultats\n",
        "\n",
        "    # tranches finales\n",
        "    tab_cross_temp = pd.crosstab(tableau_resultats[\"TRANCHES\"],tableau_resultats[\"Top_mon\"])\n",
        "    #print(tab_cross_temp); print(\"-----------------------\")\n",
        "\n",
        "    # création d'une colonne TOTAL\n",
        "    tab_cross_temp[\"TOTAL\"]=tab_cross_temp[\"1\"]+tab_cross_temp[\"2\"]\n",
        "    \n",
        "    # affichage\n",
        "    if affichage ==True:        \n",
        "        print(tab_cross_temp)\n",
        "\n",
        "    # création du tableau final en éliminant la colonne 2\n",
        "    #tab_pour_excel = tab_cross_temp.drop([\"2\"], axis=1)\n",
        "\n",
        "    # si on ne veut pas éliminer la colonne 2\n",
        "    tab_pour_excel =  tab_cross_temp\n",
        "    \n",
        "    # enregistrement sous Excel\n",
        "    if save == True:\n",
        "        tab_pour_excel.to_excel(path)\n",
        "\n",
        "    return  df_tous\n",
        "\n",
        "\n",
        "def tableau_5_montant(df_tous, data_montant_orig, affichage, save, path):\n",
        "    # tableau avec les deux variables qui nous intéressent\n",
        "    ident_et_montant = data_montant_orig[[\"IDENT\",\"SommeDeMONTANT_NUM\"]]\n",
        "\n",
        "    # jointure\n",
        "    tableau_resultats_et_montant = pd.merge(df_tous,ident_et_montant)\n",
        "    #print(tableau_resultats_et_montant) \n",
        "\n",
        "    # on élimine toutes les sommes supérieur à 5000 €\n",
        "    tableau_resultats_et_montant = tableau_resultats_et_montant[tableau_resultats_et_montant[\"SommeDeMONTANT_NUM\"] <= 5000]\n",
        "    print(tableau_resultats_et_montant) \n",
        "    #print(tableau_resultats_et_montant[\"TRANCHES\"].value_counts())\n",
        "    #print(pd.DataFrame(np.unique(tableau_resultats_et_montant[\"TRANCHES\"])))\n",
        "\n",
        "    # index\n",
        "    index_temp = pd.DataFrame(np.unique(tableau_resultats_et_montant[\"TRANCHES\"])) \n",
        "\n",
        "    # création du tableau qui contiendra les résultats finaux\n",
        "    tableau_resultats_finaux = pd.DataFrame(columns=[\"TRANCHES\",\"Moyen_Somme\",\"TOTAL\"],index=range(20))\n",
        "    tableau_resultats_finaux[\"TRANCHES\"] = index_temp\n",
        "\n",
        "    # remplissage du tableau final\n",
        "    for k in range(20):\n",
        "        tableau_resultats_finaux.iloc[k,1] = tableau_resultats_et_montant[tableau_resultats_et_montant[\"TRANCHES\"]==index_temp.iloc[k,0]][\"SommeDeMONTANT_NUM\"].mean()\n",
        "        tableau_resultats_finaux.iloc[k,2] = (tableau_resultats_et_montant[\"TRANCHES\"]==index_temp.iloc[k,0]).sum()\n",
        "    \n",
        "    # affichage\n",
        "    if affichage:        \n",
        "        print(tableau_resultats_finaux)\n",
        "    \n",
        "    # enregistrement sous Excel\n",
        "    if save:\n",
        "        tableau_resultats_finaux.to_excel(path)\n",
        "\n",
        "\n",
        "def vingtiles_ind_sans_target(model, data_orig, affichage, save, path):\n",
        "    # position de la dernière variable explicative dans le dataset\n",
        "    nb_var = data_orig.shape[1]-1\n",
        "\n",
        "    # predict sur tous les individus (avec et sans classe IFI+)\n",
        "    tous_probas = model.predict_proba(data_orig.iloc[:,1:nb_var])\n",
        "    df_tous = pd.DataFrame({'IDENT': data_orig.iloc[:,0] , 'PROBA': tous_probas[:,0] })\n",
        "    #df_tous\n",
        "    \n",
        "    # valeurs ordonnées pour diviser après\n",
        "    df_tous=df_tous.sort_values(by='PROBA', ascending=True)\n",
        "    #df_tous\n",
        "    print(df_tous)\n",
        "    \n",
        "    #vérification\n",
        "    print(df_tous['PROBA'].value_counts())\n",
        "\n",
        "    # quarantiles\n",
        "    df_temp =pd.DataFrame( pd.qcut(df_tous['PROBA'],q= 20)  )\n",
        "    print(df_temp)\n",
        "\n",
        "    # ajout par index (IMPORTANTE)\n",
        "    df_tous[\"TRANCHES\"]=pd.DataFrame(df_temp.iloc[:,0].to_numpy(),index= df_temp.index)\n",
        "    print(df_tous)\n",
        "    print(df_tous[\"TRANCHES\"].value_counts(ascending = True))\n",
        "\n",
        "    # GERE L'ORDRE\n",
        "    patra = np.unique(df_tous.iloc[:,2], return_counts=True)\n",
        "    df_tranches_sans_target = pd.DataFrame([patra[0],patra[1]]).T\n",
        "    df_tranches_sans_target.columns=[\"TRANCHES\",\"COUNTS\"]\n",
        "\n",
        "    # affichage\n",
        "    if affichage ==True:        \n",
        "        print(df_tranches_sans_target)\n",
        "    \n",
        "    # enregistrement sous Excel\n",
        "    if save == True:\n",
        "        df_tranches_sans_target.to_excel(path)\n",
        "    \n",
        "\n",
        "# élimination des variables trop corrélées (choix manuel)\n",
        "def elimination_val_corr(data):\n",
        "    data = data.drop(columns=[\"\"])\n",
        "    return data\n",
        "          \n"
      ],
      "execution_count": 318,
      "outputs": []
    },
    {
      "cell_type": "code",
      "metadata": {
        "id": "DDurwydOLm27"
      },
      "source": [
        "\n",
        "from sklearn.preprocessing import OneHotEncoder\n",
        "\n",
        "from sklearn.neural_network import MLPClassifier\n",
        "\n",
        "from sklearn.metrics import f1_score, confusion_matrix, classification_report, accuracy_score\n",
        "from sklearn.model_selection import train_test_split, learning_curve, GridSearchCV, cross_val_score"
      ],
      "execution_count": 317,
      "outputs": []
    },
    {
      "cell_type": "code",
      "metadata": {
        "id": "o9sthKcqlUFn"
      },
      "source": [
        ""
      ],
      "execution_count": 111,
      "outputs": []
    },
    {
      "cell_type": "code",
      "metadata": {
        "id": "CHgt_J2KlURC"
      },
      "source": [
        ""
      ],
      "execution_count": 111,
      "outputs": []
    },
    {
      "cell_type": "code",
      "metadata": {
        "id": "EIBrIyqiQkh4"
      },
      "source": [
        "###########################################################################################################\n",
        "#                                                   KERAS \n",
        "###########################################################################################################\n"
      ],
      "execution_count": 112,
      "outputs": []
    },
    {
      "cell_type": "code",
      "metadata": {
        "id": "zOiFMyCBlZ04"
      },
      "source": [
        "##########################################\n",
        "# SANS LES VARIABLES CORR  ET ENCODAGE DUMMIES\n",
        "#########################################"
      ],
      "execution_count": 113,
      "outputs": []
    },
    {
      "cell_type": "code",
      "metadata": {
        "colab": {
          "base_uri": "https://localhost:8080/"
        },
        "id": "lVx7zX-hlaIY",
        "outputId": "bf2e1df8-681c-48b0-f804-e820225daf60"
      },
      "source": [
        "# test predict individus sans classe\n",
        "data = data_orig.copy()\n",
        "\n",
        "# on élimine les variables dons\n",
        "data=data.drop([\"GeoFaz_cl\", \"ImmoFaz_Scl\", \"ImmoFaz_cl\", \"Prenom_Phase_cl_H\", \"Prenom_Phase_cl_F\",\n",
        "                \"Onoma-Phase_Scl\", \"Onoma-Phase_CL\"],axis=1)\n",
        "\n",
        "# encodage Onehot sur toutes les données (on évite ainsi les erreurs futures)\n",
        "nb_var = data.shape[1] - 1\n",
        "data_1_22 = pd.get_dummies(data.iloc[:,1:(data.shape[1]-1)], columns=data.columns[1:(data.shape[1]-1)] )\n",
        "data_var_qualitatives_temp =  pd.concat([data[\"IDENT\"], data_1_22, data[\"Top_mon\"]], axis=1)\n",
        "data = data_var_qualitatives_temp\n",
        "#encodage = OneHotEncoder()\n",
        "#encodage.fit(data_processing(data.iloc[:,1:nb_var]))\n",
        "\n",
        "# élimination des individus n'ayant pas de valeur pour la varialbe IFI+\n",
        "\"\"\"IMPORTANT\"\"\"\n",
        "data_sans_nan = data[(data.isnull()).sum(axis=1) == 0]\n",
        "\n",
        "#conversion du type de variable\n",
        "for i in range(1,data_sans_nan.shape[1]):\n",
        "    data_sans_nan.iloc[:,i]=data_sans_nan.iloc[:,i].astype(int)\n",
        "\n",
        "# base de données avec des variables corrélées et avec encodage OneHot\n",
        "data =data_sans_nan\n",
        "\n",
        "nb_var = data.shape[1] - 1\n",
        "train_set, test_set = train_test_split(data, test_size = 0.2, random_state=0 )\n",
        "\n",
        "train_X_s = (train_set.iloc[:,1:nb_var]).to_numpy()\n",
        "train_Y_s = np.asanyarray(train_set.iloc[:,nb_var])\n",
        "train_Y_s[train_Y_s==2]=0\n",
        "train_Y_s[train_Y_s==1]=1\n",
        "\n",
        "test_X_s = (test_set.iloc[:,1:nb_var]).to_numpy()\n",
        "test_Y_s = np.asanyarray(test_set.iloc[:,nb_var])\n",
        "test_Y_s[test_Y_s==2]=0\n",
        "train_Y_s[train_Y_s==1]=1"
      ],
      "execution_count": 114,
      "outputs": [
        {
          "output_type": "stream",
          "text": [
            "/usr/local/lib/python3.7/dist-packages/pandas/core/indexing.py:1743: SettingWithCopyWarning: \n",
            "A value is trying to be set on a copy of a slice from a DataFrame.\n",
            "Try using .loc[row_indexer,col_indexer] = value instead\n",
            "\n",
            "See the caveats in the documentation: https://pandas.pydata.org/pandas-docs/stable/user_guide/indexing.html#returning-a-view-versus-a-copy\n",
            "  isetter(ilocs[0], value)\n"
          ],
          "name": "stderr"
        }
      ]
    },
    {
      "cell_type": "code",
      "metadata": {
        "id": "_HuqZmj-laKc",
        "colab": {
          "base_uri": "https://localhost:8080/",
          "height": 35
        },
        "outputId": "b3867a62-da57-4804-84ab-85bb10fc584b"
      },
      "source": [
        "\"\"\"\n",
        "import os\n",
        "%env PYTHONHASHSEED=0\n",
        "os.environ['PYTHONHASHSEED']=str(0)\n",
        "\"\"\"\n",
        "import tensorflow as tf\n",
        "import random \n",
        "import keras\n",
        "from keras import models, layers\n",
        "from keras.wrappers.scikit_learn import KerasClassifier \n",
        "from sklearn.utils import class_weight \n",
        "\"\"\"\n",
        "random.seed(0)\n",
        "np.random.seed(0)\n",
        "tf.random.set_seed(0)\n",
        "\"\"\""
      ],
      "execution_count": 276,
      "outputs": [
        {
          "output_type": "execute_result",
          "data": {
            "application/vnd.google.colaboratory.intrinsic+json": {
              "type": "string"
            },
            "text/plain": [
              "'\\nrandom.seed(0)\\nnp.random.seed(0)\\ntf.random.set_seed(0)\\n'"
            ]
          },
          "metadata": {
            "tags": []
          },
          "execution_count": 276
        }
      ]
    },
    {
      "cell_type": "code",
      "metadata": {
        "id": "KVoyzqEboq8s"
      },
      "source": [
        "\n",
        "\n",
        "# Create function returning a compiled network\n",
        "\n",
        "def create_network(number_of_features):\n",
        "    # numbers of features\n",
        "    number_of_features = number_of_features  #train_X_s.shape[1]\n",
        "\n",
        "    # start neural network\n",
        "    network = models.Sequential()\n",
        "\n",
        "    # add fully connected layer with a ReLU activation function\n",
        "    network.add(layers.Dense(units=200, activation=\"tanh\", input_shape = (number_of_features, ), kernel_initializer=keras.initializers.glorot_uniform(seed=0) ))\n",
        "\n",
        "    # add fully connected layer with a ReLu activation function\n",
        "    network.add(layers.Dense(units=100, activation = \"tanh\", kernel_initializer=keras.initializers.glorot_uniform(seed=0) ) )\n",
        "\n",
        "    # add fully connected layer with a ReLu activation function\n",
        "    network.add(layers.Dense(units=50, activation = \"tanh\", kernel_initializer=keras.initializers.glorot_uniform(seed=0) ) )    \n",
        "\n",
        "    # add fully connected layer with a ReLu activation function\n",
        "    network.add(layers.Dense(units=20, activation = \"tanh\", kernel_initializer=keras.initializers.glorot_uniform(seed=0) ) )    \n",
        "\n",
        "    # add fully connected layer with a sigmoid activation function\n",
        "    network.add(layers.Dense(units=1, activation = \"sigmoid\", kernel_initializer=keras.initializers.glorot_uniform(seed=0) ) )\n",
        "\n",
        "    # compile neural network\n",
        "    network.compile(loss=\"binary_crossentropy\", optimizer =\"adam\", metrics = [\"accuracy\"] )\n",
        "\n",
        "\n",
        "    return network\n"
      ],
      "execution_count": 299,
      "outputs": []
    },
    {
      "cell_type": "code",
      "metadata": {
        "id": "Z-5h8dZKAunL"
      },
      "source": [
        "def plot_graphics(history):\n",
        "    # get training and test loss histories\n",
        "    training_loss = history.history[\"loss\"]\n",
        "    test_loss = history.history[\"val_loss\"]\n",
        "\n",
        "    # create count of the number of epochs\n",
        "    epoch_count = range(1, len(training_loss)+1)\n",
        "\n",
        "    # visualize loss history\n",
        "    plt.figure(figsize=(8,5))\n",
        "    plt.plot(epoch_count, training_loss, \"r--\" )\n",
        "    plt.plot(epoch_count, test_loss, \"b-\")\n",
        "    plt.legend([\"Training Loss\", \"Test Loss\"])\n",
        "    plt.xlabel(\"Epoch\")\n",
        "    plt.ylabel(\"Loss\")\n",
        "\n",
        "    # get training and test accuracy histories\n",
        "\n",
        "    training_accuracy = history.history[\"accuracy\"]\n",
        "    test_accuracy = history.history[\"val_accuracy\"]\n",
        "\n",
        "    plt.figure(figsize=(8,5))\n",
        "    plt.plot(epoch_count, training_accuracy, \"r--\")\n",
        "    plt.plot(epoch_count, test_accuracy, \"b-\")\n",
        "    plt.legend([\"Training Accuracy\", \"Test Accuracy\"])\n",
        "    plt.xlabel(\"Epoch\")\n",
        "    plt.ylabel(\"Accuracy Score\")\n"
      ],
      "execution_count": 300,
      "outputs": []
    },
    {
      "cell_type": "code",
      "metadata": {
        "colab": {
          "base_uri": "https://localhost:8080/"
        },
        "id": "8uJ0kITcXpOL",
        "outputId": "6a6e64c6-5616-4450-954e-d4538239da73"
      },
      "source": [
        "# class weight for embalanced data\n",
        "class_weights = class_weight.compute_class_weight('balanced',np.unique(train_Y_s ),train_Y_s)\n",
        "class_weights = dict(enumerate(class_weights))\n",
        "class_weights"
      ],
      "execution_count": 301,
      "outputs": [
        {
          "output_type": "execute_result",
          "data": {
            "text/plain": [
              "{0: 0.684332948534606, 1: 1.8562415291863346}"
            ]
          },
          "metadata": {
            "tags": []
          },
          "execution_count": 301
        }
      ]
    },
    {
      "cell_type": "code",
      "metadata": {
        "colab": {
          "base_uri": "https://localhost:8080/",
          "height": 651
        },
        "id": "AOM3dm3iwBXJ",
        "outputId": "68a5e881-1935-4062-98a4-aea7ee0fd734"
      },
      "source": [
        "# \n",
        "# train neural network\n",
        "network = create_network( number_of_features=train_X_s.shape[1])\n",
        "history= network.fit(train_X_s, train_Y_s, epochs=100, verbose=0, batch_size=1024,class_weight=class_weights , validation_data=(test_X_s, test_Y_s))\n",
        "\n",
        "plot_graphics(history)"
      ],
      "execution_count": 302,
      "outputs": [
        {
          "output_type": "display_data",
          "data": {
            "image/png": "[encoded data removed]",
            "text/plain": [
              "<Figure size 576x360 with 1 Axes>"
            ]
          },
          "metadata": {
            "tags": [],
            "needs_background": "light"
          }
        },
        {
          "output_type": "display_data",
          "data": {
            "image/png": "[encoded data removed]",
            "text/plain": [
              "<Figure size 576x360 with 1 Axes>"
            ]
          },
          "metadata": {
            "tags": [],
            "needs_background": "light"
          }
        }
      ]
    },
    {
      "cell_type": "code",
      "metadata": {
        "colab": {
          "base_uri": "https://localhost:8080/",
          "height": 1000
        },
        "id": "y_sisUntnOYH",
        "outputId": "f494a442-a5cb-40db-eccf-5a8f91489274"
      },
      "source": [
        "# \n",
        "# train neural network\n",
        "network = create_network( number_of_features=train_X_s.shape[1])\n",
        "history= network.fit(train_X_s, train_Y_s, epochs=30, verbose=1, batch_size=1024,class_weight=class_weights , validation_data=(test_X_s, test_Y_s))\n",
        "\n",
        "plot_graphics(history)"
      ],
      "execution_count": 314,
      "outputs": [
        {
          "output_type": "stream",
          "text": [
            "Epoch 1/30\n",
            "78/78 [==============================] - 2s 20ms/step - loss: 0.6757 - accuracy: 0.5817 - val_loss: 0.6557 - val_accuracy: 0.6319\n",
            "Epoch 2/30\n",
            "78/78 [==============================] - 1s 16ms/step - loss: 0.6663 - accuracy: 0.6134 - val_loss: 0.6577 - val_accuracy: 0.6196\n",
            "Epoch 3/30\n",
            "78/78 [==============================] - 1s 15ms/step - loss: 0.6609 - accuracy: 0.6209 - val_loss: 0.6571 - val_accuracy: 0.6276\n",
            "Epoch 4/30\n",
            "78/78 [==============================] - 1s 16ms/step - loss: 0.6596 - accuracy: 0.6238 - val_loss: 0.6872 - val_accuracy: 0.5727\n",
            "Epoch 5/30\n",
            "78/78 [==============================] - 1s 16ms/step - loss: 0.6559 - accuracy: 0.6205 - val_loss: 0.6652 - val_accuracy: 0.6134\n",
            "Epoch 6/30\n",
            "78/78 [==============================] - 1s 16ms/step - loss: 0.6516 - accuracy: 0.6243 - val_loss: 0.6695 - val_accuracy: 0.6008\n",
            "Epoch 7/30\n",
            "78/78 [==============================] - 1s 16ms/step - loss: 0.6490 - accuracy: 0.6311 - val_loss: 0.6601 - val_accuracy: 0.6200\n",
            "Epoch 8/30\n",
            "78/78 [==============================] - 1s 16ms/step - loss: 0.6469 - accuracy: 0.6344 - val_loss: 0.6628 - val_accuracy: 0.6127\n",
            "Epoch 9/30\n",
            "78/78 [==============================] - 1s 15ms/step - loss: 0.6421 - accuracy: 0.6415 - val_loss: 0.6649 - val_accuracy: 0.6078\n",
            "Epoch 10/30\n",
            "78/78 [==============================] - 1s 16ms/step - loss: 0.6410 - accuracy: 0.6376 - val_loss: 0.6608 - val_accuracy: 0.6088\n",
            "Epoch 11/30\n",
            "78/78 [==============================] - 1s 15ms/step - loss: 0.6366 - accuracy: 0.6426 - val_loss: 0.6585 - val_accuracy: 0.6200\n",
            "Epoch 12/30\n",
            "78/78 [==============================] - 1s 16ms/step - loss: 0.6325 - accuracy: 0.6518 - val_loss: 0.6735 - val_accuracy: 0.6023\n",
            "Epoch 13/30\n",
            "78/78 [==============================] - 1s 16ms/step - loss: 0.6297 - accuracy: 0.6462 - val_loss: 0.6741 - val_accuracy: 0.5989\n",
            "Epoch 14/30\n",
            "78/78 [==============================] - 1s 15ms/step - loss: 0.6261 - accuracy: 0.6525 - val_loss: 0.6773 - val_accuracy: 0.5902\n",
            "Epoch 15/30\n",
            "78/78 [==============================] - 1s 16ms/step - loss: 0.6187 - accuracy: 0.6633 - val_loss: 0.6811 - val_accuracy: 0.5906\n",
            "Epoch 16/30\n",
            "78/78 [==============================] - 1s 16ms/step - loss: 0.6167 - accuracy: 0.6585 - val_loss: 0.6787 - val_accuracy: 0.5960\n",
            "Epoch 17/30\n",
            "78/78 [==============================] - 1s 16ms/step - loss: 0.6133 - accuracy: 0.6670 - val_loss: 0.6846 - val_accuracy: 0.5837\n",
            "Epoch 18/30\n",
            "78/78 [==============================] - 1s 15ms/step - loss: 0.6087 - accuracy: 0.6740 - val_loss: 0.6811 - val_accuracy: 0.5956\n",
            "Epoch 19/30\n",
            "78/78 [==============================] - 1s 16ms/step - loss: 0.6038 - accuracy: 0.6744 - val_loss: 0.7114 - val_accuracy: 0.5626\n",
            "Epoch 20/30\n",
            "78/78 [==============================] - 1s 16ms/step - loss: 0.5984 - accuracy: 0.6760 - val_loss: 0.6876 - val_accuracy: 0.5941\n",
            "Epoch 21/30\n",
            "78/78 [==============================] - 1s 15ms/step - loss: 0.5926 - accuracy: 0.6845 - val_loss: 0.6995 - val_accuracy: 0.5804\n",
            "Epoch 22/30\n",
            "78/78 [==============================] - 1s 16ms/step - loss: 0.5858 - accuracy: 0.6907 - val_loss: 0.6925 - val_accuracy: 0.5887\n",
            "Epoch 23/30\n",
            "78/78 [==============================] - 1s 16ms/step - loss: 0.5802 - accuracy: 0.6926 - val_loss: 0.6781 - val_accuracy: 0.6097\n",
            "Epoch 24/30\n",
            "78/78 [==============================] - 1s 15ms/step - loss: 0.5696 - accuracy: 0.7076 - val_loss: 0.7107 - val_accuracy: 0.5788\n",
            "Epoch 25/30\n",
            "78/78 [==============================] - 1s 18ms/step - loss: 0.5686 - accuracy: 0.7007 - val_loss: 0.7241 - val_accuracy: 0.5731\n",
            "Epoch 26/30\n",
            "78/78 [==============================] - 1s 16ms/step - loss: 0.5591 - accuracy: 0.7084 - val_loss: 0.7109 - val_accuracy: 0.5905\n",
            "Epoch 27/30\n",
            "78/78 [==============================] - 1s 16ms/step - loss: 0.5549 - accuracy: 0.7122 - val_loss: 0.7216 - val_accuracy: 0.5843\n",
            "Epoch 28/30\n",
            "78/78 [==============================] - 1s 16ms/step - loss: 0.5493 - accuracy: 0.7158 - val_loss: 0.7267 - val_accuracy: 0.5807\n",
            "Epoch 29/30\n",
            "78/78 [==============================] - 1s 16ms/step - loss: 0.5400 - accuracy: 0.7244 - val_loss: 0.7427 - val_accuracy: 0.5772\n",
            "Epoch 30/30\n",
            "78/78 [==============================] - 1s 15ms/step - loss: 0.5297 - accuracy: 0.7316 - val_loss: 0.7297 - val_accuracy: 0.5831\n"
          ],
          "name": "stdout"
        },
        {
          "output_type": "display_data",
          "data": {
            "image/png": "[encoded data removed]",
            "text/plain": [
              "<Figure size 576x360 with 1 Axes>"
            ]
          },
          "metadata": {
            "tags": [],
            "needs_background": "light"
          }
        },
        {
          "output_type": "display_data",
          "data": {
            "image/png": "[encoded data removed]",
            "text/plain": [
              "<Figure size 576x360 with 1 Axes>"
            ]
          },
          "metadata": {
            "tags": [],
            "needs_background": "light"
          }
        }
      ]
    },
    {
      "cell_type": "code",
      "metadata": {
        "id": "qr6xhUQfjx-B"
      },
      "source": [
        ""
      ],
      "execution_count": 303,
      "outputs": []
    },
    {
      "cell_type": "code",
      "metadata": {
        "colab": {
          "base_uri": "https://localhost:8080/"
        },
        "id": "JVtg9bPPz2D1",
        "outputId": "218eff19-19d8-4855-ac53-0805b55f8745"
      },
      "source": [
        "network = create_network( number_of_features=train_X_s.shape[1])\n",
        "history= network.fit(train_X_s, train_Y_s, epochs=3, verbose=1, batch_size=1024,class_weight=class_weights , validation_data=(test_X_s, test_Y_s))\n",
        "\n",
        "evaluation(network, train_X_s, train_Y_s, test_X_s, test_Y_s, scoring=\"recall\", plot=False)"
      ],
      "execution_count": 321,
      "outputs": [
        {
          "output_type": "stream",
          "text": [
            "Epoch 1/3\n",
            "78/78 [==============================] - 2s 20ms/step - loss: 0.6757 - accuracy: 0.5817 - val_loss: 0.6557 - val_accuracy: 0.6319\n",
            "Epoch 2/3\n",
            "78/78 [==============================] - 1s 16ms/step - loss: 0.6663 - accuracy: 0.6134 - val_loss: 0.6577 - val_accuracy: 0.6196\n",
            "Epoch 3/3\n",
            "78/78 [==============================] - 1s 16ms/step - loss: 0.6609 - accuracy: 0.6209 - val_loss: 0.6571 - val_accuracy: 0.6276\n",
            "test 0.627643504531722\n",
            "train 0.6384133138627323\n",
            "test set : \n",
            "[[2831 2500]\n",
            " [4895 9634]]\n",
            "              precision    recall  f1-score   support\n",
            "\n",
            "           1       0.37      0.53      0.43      5331\n",
            "           2       0.79      0.66      0.72     14529\n",
            "\n",
            "    accuracy                           0.63     19860\n",
            "   macro avg       0.58      0.60      0.58     19860\n",
            "weighted avg       0.68      0.63      0.65     19860\n",
            "\n",
            "train set : \n",
            "[[11419  9978]\n",
            " [18745 39294]]\n",
            "              precision    recall  f1-score   support\n",
            "\n",
            "           1       0.38      0.53      0.44     21397\n",
            "           2       0.80      0.68      0.73     58039\n",
            "\n",
            "    accuracy                           0.64     79436\n",
            "   macro avg       0.59      0.61      0.59     79436\n",
            "weighted avg       0.68      0.64      0.65     79436\n",
            "\n",
            "GRAPHIQUE NON DEMANDE\n"
          ],
          "name": "stdout"
        }
      ]
    },
    {
      "cell_type": "code",
      "metadata": {
        "colab": {
          "base_uri": "https://localhost:8080/"
        },
        "id": "A2z6uWv0qOj3",
        "outputId": "70b0f0bc-81f6-4eae-c5b9-a46fd4f8a672"
      },
      "source": [
        "# TRAIN SET TEST SET\n",
        "vingtiles_tableau = vingtiles(model= network, data_orig= data, affichage=True,\n",
        "            save=False, path = \"/content/drive/MyDrive/spad_score_method_1/spad_projection_FDFTOT21/Fichier_excel_vingtiles/train_test_Keras.xlsx\")"
      ],
      "execution_count": 309,
      "outputs": [
        {
          "output_type": "stream",
          "text": [
            "/usr/local/lib/python3.7/dist-packages/keras/engine/sequential.py:425: UserWarning: `model.predict_proba()` is deprecated and will be removed after 2021-01-01. Please use `model.predict()` instead.\n",
            "  warnings.warn('`model.predict_proba()` is deprecated and '\n"
          ],
          "name": "stderr"
        },
        {
          "output_type": "stream",
          "text": [
            "            IDENT     PROBA\n",
            "37148  0010361756  0.181700\n",
            "34269  0010358714  0.184192\n",
            "30582  0010350941  0.184366\n",
            "40058  0010364995  0.184645\n",
            "36819  0010361425  0.188408\n",
            "...           ...       ...\n",
            "99283  0010539458  0.894062\n",
            "60221  0010392936  0.894945\n",
            "83624  0010504178  0.895837\n",
            "77220  0010412631  0.895837\n",
            "82851  0010500476  0.895837\n",
            "\n",
            "[99296 rows x 2 columns]\n",
            "0.888343    49\n",
            "0.734548    28\n",
            "0.642364    23\n",
            "0.808212    19\n",
            "0.701075    19\n",
            "            ..\n",
            "0.663088     1\n",
            "0.458820     1\n",
            "0.290965     1\n",
            "0.494045     1\n",
            "0.486457     1\n",
            "Name: PROBA, Length: 96203, dtype: int64\n"
          ],
          "name": "stdout"
        },
        {
          "output_type": "stream",
          "text": [
            "/usr/local/lib/python3.7/dist-packages/ipykernel_launcher.py:127: SettingWithCopyWarning: \n",
            "A value is trying to be set on a copy of a slice from a DataFrame\n",
            "\n",
            "See the caveats in the documentation: https://pandas.pydata.org/pandas-docs/stable/user_guide/indexing.html#returning-a-view-versus-a-copy\n"
          ],
          "name": "stderr"
        },
        {
          "output_type": "stream",
          "text": [
            "            IDENT     PROBA        TRANCHES CLASSE\n",
            "37148  0010361756  0.181700  (0.181, 0.309]      1\n",
            "34269  0010358714  0.184192  (0.181, 0.309]      1\n",
            "30582  0010350941  0.184366  (0.181, 0.309]      1\n",
            "40058  0010364995  0.184645  (0.181, 0.309]      1\n",
            "36819  0010361425  0.188408  (0.181, 0.309]      1\n",
            "...           ...       ...             ...    ...\n",
            "99283  0010539458  0.894062  (0.709, 0.896]     20\n",
            "60221  0010392936  0.894945  (0.709, 0.896]     20\n",
            "83624  0010504178  0.895837  (0.709, 0.896]     20\n",
            "77220  0010412631  0.895837  (0.709, 0.896]     20\n",
            "82851  0010500476  0.895837  (0.709, 0.896]     20\n",
            "\n",
            "[99296 rows x 4 columns]\n",
            "Top_mon            1     2  TOTAL\n",
            "TRANCHES                         \n",
            "(0.181, 0.309]   560  4405   4965\n",
            "(0.309, 0.337]   729  4236   4965\n",
            "(0.337, 0.358]   832  4133   4965\n",
            "(0.358, 0.377]   828  4137   4965\n",
            "(0.377, 0.393]   928  4036   4964\n",
            "(0.393, 0.408]   999  3966   4965\n",
            "(0.408, 0.422]  1074  3891   4965\n",
            "(0.422, 0.437]  1105  3860   4965\n",
            "(0.437, 0.451]  1096  3868   4964\n",
            "(0.451, 0.465]  1191  3774   4965\n",
            "(0.465, 0.479]  1251  3714   4965\n",
            "(0.479, 0.494]  1369  3596   4965\n",
            "(0.494, 0.51]   1372  3592   4964\n",
            "(0.51, 0.528]   1452  3513   4965\n",
            "(0.528, 0.547]  1561  3404   4965\n",
            "(0.547, 0.571]  1673  3292   4965\n",
            "(0.571, 0.601]  1676  3288   4964\n",
            "(0.601, 0.642]  1956  3017   4973\n",
            "(0.642, 0.709]  2224  2733   4957\n",
            "(0.709, 0.896]  2852  2113   4965\n"
          ],
          "name": "stdout"
        }
      ]
    },
    {
      "cell_type": "code",
      "metadata": {
        "colab": {
          "base_uri": "https://localhost:8080/"
        },
        "id": "5MY9ONumaCHA",
        "outputId": "200252ce-0844-48f2-dccc-d68e9b6efc92"
      },
      "source": [
        "# TABLEAU MONTANT\n",
        "tableau_5_montant(vingtiles_tableau, data_montant_orig, affichage=True,\n",
        "            save=False, path = \"/content/drive/MyDrive/spad_score_method_1/spad_projection_FDFTOT21/Fichier_excel_vingtiles/montant_Neural_Net.xlsx\")"
      ],
      "execution_count": 310,
      "outputs": [
        {
          "output_type": "stream",
          "text": [
            "            IDENT     PROBA        TRANCHES CLASSE  SommeDeMONTANT_NUM\n",
            "0      0010361756  0.181700  (0.181, 0.309]      1                15.0\n",
            "1      0010358714  0.184192  (0.181, 0.309]      1                20.0\n",
            "2      0010350941  0.184366  (0.181, 0.309]      1                20.0\n",
            "3      0010364995  0.184645  (0.181, 0.309]      1                25.0\n",
            "4      0010361425  0.188408  (0.181, 0.309]      1                30.0\n",
            "...           ...       ...             ...    ...                 ...\n",
            "99291  0010539458  0.894062  (0.709, 0.896]     20              1917.6\n",
            "99292  0010392936  0.894945  (0.709, 0.896]     20                25.0\n",
            "99293  0010504178  0.895837  (0.709, 0.896]     20                20.0\n",
            "99294  0010412631  0.895837  (0.709, 0.896]     20              2400.0\n",
            "99295  0010500476  0.895837  (0.709, 0.896]     20                10.0\n",
            "\n",
            "[99146 rows x 5 columns]\n",
            "          TRANCHES Moyen_Somme TOTAL\n",
            "0   (0.181, 0.309]      26.152  4964\n",
            "1   (0.309, 0.337]     27.8191  4964\n",
            "2   (0.337, 0.358]     30.8291  4965\n",
            "3   (0.358, 0.377]     30.8245  4962\n",
            "4   (0.377, 0.393]     32.2133  4964\n",
            "5   (0.393, 0.408]     33.4366  4962\n",
            "6   (0.408, 0.422]     34.4763  4964\n",
            "7   (0.422, 0.437]     33.9328  4965\n",
            "8   (0.437, 0.451]      35.433  4963\n",
            "9   (0.451, 0.465]     35.4962  4963\n",
            "10  (0.465, 0.479]     36.7795  4962\n",
            "11  (0.479, 0.494]     41.9446  4959\n",
            "12   (0.494, 0.51]     43.2757  4959\n",
            "13   (0.51, 0.528]     47.8671  4959\n",
            "14  (0.528, 0.547]     45.4914  4962\n",
            "15  (0.547, 0.571]     48.9957  4953\n",
            "16  (0.571, 0.601]     57.3215  4954\n",
            "17  (0.601, 0.642]     60.8265  4959\n",
            "18  (0.642, 0.709]     77.0967  4941\n",
            "19  (0.709, 0.896]     150.502  4902\n"
          ],
          "name": "stdout"
        }
      ]
    },
    {
      "cell_type": "code",
      "metadata": {
        "id": "_P6iywlEqPHG",
        "colab": {
          "base_uri": "https://localhost:8080/"
        },
        "outputId": "a73fd2ad-541f-43ba-897a-cec7f3b2d8a3"
      },
      "source": [
        "2852/4965 , 2954/4965, 2310/4965"
      ],
      "execution_count": 311,
      "outputs": [
        {
          "output_type": "execute_result",
          "data": {
            "text/plain": [
              "(0.5744209466263847, 0.5949647532729103, 0.4652567975830816)"
            ]
          },
          "metadata": {
            "tags": []
          },
          "execution_count": 311
        }
      ]
    },
    {
      "cell_type": "code",
      "metadata": {
        "id": "oKOzsAh6taQG"
      },
      "source": [
        ""
      ],
      "execution_count": 96,
      "outputs": []
    },
    {
      "cell_type": "code",
      "metadata": {
        "id": "RlLyFNW0taT1"
      },
      "source": [
        ""
      ],
      "execution_count": null,
      "outputs": []
    },
    {
      "cell_type": "code",
      "metadata": {
        "colab": {
          "base_uri": "https://localhost:8080/"
        },
        "id": "S-8aMGTqwBaw",
        "outputId": "b0bffcf0-da0b-40b3-ed73-d7fe43de9a4f"
      },
      "source": [
        "#k-fold cross-validation neural networks ( FOR SMALLER DATA )\n",
        "\n",
        "# wrap Keras model so it can be used by scikit-learn \n",
        "neural_network = KerasClassifier(build_fn =lambda:create_network(number_of_features=train_X_s.shape[1]), epochs=15, batch_size=1024, verbose=0)\n",
        "\n",
        "# evaluate neural network using three-fold cross-validation\n",
        "cross_val_score(neural_network, train_X_s, train_Y_s, cv = 10, n_jobs=2, scoring=\"accuracy\")\n",
        "\n"
      ],
      "execution_count": null,
      "outputs": [
        {
          "output_type": "execute_result",
          "data": {
            "text/plain": [
              "array([0.74005539, 0.73653072, 0.74043303, 0.73564955, 0.73376133,\n",
              "       0.73074018, 0.72869193, 0.73448319, 0.74065215, 0.73712703])"
            ]
          },
          "metadata": {
            "tags": []
          },
          "execution_count": 121
        }
      ]
    },
    {
      "cell_type": "code",
      "metadata": {
        "colab": {
          "base_uri": "https://localhost:8080/"
        },
        "id": "NasXjLOcwBg8",
        "outputId": "f3597683-a590-455d-de9b-e5552657edcd"
      },
      "source": [
        "101692-6780*14"
      ],
      "execution_count": null,
      "outputs": [
        {
          "output_type": "execute_result",
          "data": {
            "text/plain": [
              "6772"
            ]
          },
          "metadata": {
            "tags": []
          },
          "execution_count": 29
        }
      ]
    },
    {
      "cell_type": "code",
      "metadata": {
        "id": "-22oPnT69AmG"
      },
      "source": [
        "####################################################################################################\n",
        "#\n",
        "#                                       UNDER-SAMPLING  ET OVER-SAMPLING (MODIFIER)\n",
        "#\n",
        "####################################################################################################"
      ],
      "execution_count": null,
      "outputs": []
    },
    {
      "cell_type": "code",
      "metadata": {
        "id": "zEcS28Ay9Ao3"
      },
      "source": [
        "# Résultat du traitement sur le train set (under-sampling et over-sampling)\n",
        "abc_test = pd.read_csv(\"/content/drive/MyDrive/spad_score_method_1/spad_projection_FDFTOT21/sans_val_corr_spad_under_over_sampling.txt\", delim_whitespace=\"\\t\", header = None, low_memory=False, dtype=\"Int64\" ) #, dtype='Int64')\n",
        "abc_np = abc_test.to_numpy(dtype=\"Int64\")\n",
        "\n",
        "X_resampled = abc_np[:,:-1]\n",
        "y_resampled = abc_np[:, abc_np.shape[1] -1 ]\n",
        "y_resampled[y_resampled==2]=0\n",
        "y_resampled[y_resampled==1]=1\n"
      ],
      "execution_count": null,
      "outputs": []
    },
    {
      "cell_type": "code",
      "metadata": {
        "colab": {
          "base_uri": "https://localhost:8080/"
        },
        "id": "WRIbfHjV9Ar1",
        "outputId": "d81ff682-c7b3-42f9-fc9b-febd2ca64b84"
      },
      "source": [
        "X_resampled.shape, y_resampled.shape"
      ],
      "execution_count": null,
      "outputs": [
        {
          "output_type": "execute_result",
          "data": {
            "text/plain": [
              "((160026, 269), (160026,))"
            ]
          },
          "metadata": {
            "tags": []
          },
          "execution_count": 43
        }
      ]
    },
    {
      "cell_type": "code",
      "metadata": {
        "colab": {
          "base_uri": "https://localhost:8080/",
          "height": 668
        },
        "id": "QvI6AveX-fY3",
        "outputId": "d010d318-cdb1-41d0-b0d4-dcfa8cebf26c"
      },
      "source": [
        "# \n",
        "# train neural network\n",
        "network = create_network( number_of_features = X_resampled.shape[1])\n",
        "history= network.fit( X_resampled, y_resampled, epochs=100, verbose=0, batch_size=6780, validation_data=(test_X_s, test_Y_s))\n",
        "\n",
        "# get training and test loss histories\n",
        "training_loss = history.history[\"loss\"]\n",
        "test_loss = history.history[\"val_loss\"]\n",
        "\n",
        "# create count of the number of epochs\n",
        "epoch_count = range(1, len(training_loss)+1)\n",
        "\n",
        "# visualize loss history\n",
        "plt.figure(figsize=(8,5))\n",
        "plt.plot(epoch_count, training_loss, \"r--\" )\n",
        "plt.plot(epoch_count, test_loss, \"b-\")\n",
        "plt.legend([\"Training Loss\", \"Test Loss\"])\n",
        "plt.xlabel(\"Epoch\")\n",
        "plt.ylabel(\"Loss\")\n",
        "\n",
        "# get training and test accuracy histories\n",
        "\n",
        "training_accuracy = history.history[\"accuracy\"]\n",
        "test_accuracy = history.history[\"val_accuracy\"]\n",
        "\n",
        "plt.figure(figsize=(8,5))\n",
        "plt.plot(epoch_count, training_accuracy, \"r--\")\n",
        "plt.plot(epoch_count, test_accuracy, \"b-\")\n",
        "plt.legend([\"Training Accuracy\", \"Test Accuracy\"])\n",
        "plt.xlabel(\"Epoch\")\n",
        "plt.ylabel(\"Accuracy Score\")\n"
      ],
      "execution_count": null,
      "outputs": [
        {
          "output_type": "execute_result",
          "data": {
            "text/plain": [
              "Text(0, 0.5, 'Accuracy Score')"
            ]
          },
          "metadata": {
            "tags": []
          },
          "execution_count": 60
        },
        {
          "output_type": "display_data",
          "data": {
            "image/png": "[encoded data removed]",
            "text/plain": [
              "<Figure size 576x360 with 1 Axes>"
            ]
          },
          "metadata": {
            "tags": [],
            "needs_background": "light"
          }
        },
        {
          "output_type": "display_data",
          "data": {
            "image/png": "[encoded data removed]",
            "text/plain": [
              "<Figure size 576x360 with 1 Axes>"
            ]
          },
          "metadata": {
            "tags": [],
            "needs_background": "light"
          }
        }
      ]
    },
    {
      "cell_type": "code",
      "metadata": {
        "colab": {
          "base_uri": "https://localhost:8080/"
        },
        "id": "HyRWFzvy9Auz",
        "outputId": "291c628d-ea5a-4077-fa52-62e88ff4a31f"
      },
      "source": [
        "network = create_network( number_of_features = X_resampled.shape[1])\n",
        "history= network.fit( X_resampled, y_resampled, epochs=1, verbose=0, batch_size=6780, validation_data=(test_X_s, test_Y_s))\n",
        "evaluation(network, X_resampled, y_resampled, test_X_s, test_Y_s, scoring=\"recall\", plot=False)"
      ],
      "execution_count": null,
      "outputs": [
        {
          "output_type": "stream",
          "text": [
            "test set : \n",
            "[[18935  1809]\n",
            " [ 3712   967]]\n",
            "              precision    recall  f1-score   support\n",
            "\n",
            "           0       0.84      0.91      0.87     20744\n",
            "           1       0.35      0.21      0.26      4679\n",
            "\n",
            "    accuracy                           0.78     25423\n",
            "   macro avg       0.59      0.56      0.57     25423\n",
            "weighted avg       0.75      0.78      0.76     25423\n",
            "\n",
            "train set : \n",
            "[[73338  6675]\n",
            " [17999 62014]]\n",
            "              precision    recall  f1-score   support\n",
            "\n",
            "           0       0.80      0.92      0.86     80013\n",
            "           1       0.90      0.78      0.83     80013\n",
            "\n",
            "    accuracy                           0.85    160026\n",
            "   macro avg       0.85      0.85      0.85    160026\n",
            "weighted avg       0.85      0.85      0.85    160026\n",
            "\n",
            "GRAPHIQUE NON DEMANDE\n"
          ],
          "name": "stdout"
        }
      ]
    },
    {
      "cell_type": "code",
      "metadata": {
        "id": "A5S-pIKx9av4"
      },
      "source": [
        ""
      ],
      "execution_count": null,
      "outputs": []
    },
    {
      "cell_type": "code",
      "metadata": {
        "id": "6o4eAEwO9ayZ",
        "colab": {
          "base_uri": "https://localhost:8080/"
        },
        "outputId": "389ff501-0e5b-4e73-b435-488c43ed64f0"
      },
      "source": [
        ""
      ],
      "execution_count": null,
      "outputs": [
        {
          "output_type": "execute_result",
          "data": {
            "text/plain": [
              "array([2, 1, 2, ..., 1, 1, 1])"
            ]
          },
          "metadata": {
            "tags": []
          },
          "execution_count": 33
        }
      ]
    },
    {
      "cell_type": "code",
      "metadata": {
        "id": "lTVCFXsJ9a47"
      },
      "source": [
        ""
      ],
      "execution_count": null,
      "outputs": []
    },
    {
      "cell_type": "code",
      "metadata": {
        "id": "CFRqzLUT9A1M"
      },
      "source": [
        ""
      ],
      "execution_count": null,
      "outputs": []
    },
    {
      "cell_type": "code",
      "metadata": {
        "id": "CDmxyHjUwymi",
        "colab": {
          "base_uri": "https://localhost:8080/"
        },
        "outputId": "26ebf0ac-f975-4390-8877-f6293f872c83"
      },
      "source": [
        "#k-fold cross-validation neural networks ( FOR SMALLER DATA )\n",
        "\n",
        "# wrap Keras model so it can be used by scikit-learn \n",
        "neural_network = KerasClassifier(build_fn =lambda:create_network(number_of_features=X_resampled.shape[1]), epochs=100, batch_size=6780, verbose=0)\n",
        "\n",
        "# evaluate neural network using three-fold cross-validation\n",
        "cross_val_score(neural_network, X_resampled, y_resampled, cv = 4, n_jobs=2)\n",
        "\n"
      ],
      "execution_count": null,
      "outputs": [
        {
          "output_type": "execute_result",
          "data": {
            "text/plain": [
              "array([0.74496961, 0.79521084, 0.87861818, 0.97575366])"
            ]
          },
          "metadata": {
            "tags": []
          },
          "execution_count": 47
        }
      ]
    },
    {
      "cell_type": "code",
      "metadata": {
        "id": "38H-wgkev8hb",
        "colab": {
          "base_uri": "https://localhost:8080/"
        },
        "outputId": "738b3366-827e-4656-afae-ebd5cbe4e9e1"
      },
      "source": [
        ""
      ],
      "execution_count": null,
      "outputs": [
        {
          "output_type": "execute_result",
          "data": {
            "text/plain": [
              "<keras.wrappers.scikit_learn.KerasClassifier at 0x7fd746249450>"
            ]
          },
          "metadata": {
            "tags": []
          },
          "execution_count": 25
        }
      ]
    },
    {
      "cell_type": "code",
      "metadata": {
        "id": "0_DAzLu3oq-1"
      },
      "source": [
        "# wrap keras model s\n",
        "neural_network = KerasClassifier(build_fn = create_network, verbose =0)\n",
        "\n",
        "# create hyperparameters \n",
        "hyperparameters = {optimizer = [\"rmsprop\", \"adam\"] , epochs = [5, 10], batch_size = [5, 10, 100]   }\n",
        "\n",
        "grid = GridSearchCV(estimator = neural_network, param_grid=hyperparameters)\n",
        "\n",
        "result = grid.fit( , )\n",
        "\n",
        "result.best_params_"
      ],
      "execution_count": null,
      "outputs": []
    },
    {
      "cell_type": "code",
      "metadata": {
        "id": "zxobcQbU5Y02"
      },
      "source": [
        ""
      ],
      "execution_count": null,
      "outputs": []
    },
    {
      "cell_type": "code",
      "metadata": {
        "id": "d3jV6RXfVM0z"
      },
      "source": [
        "if os.environ.get(\"PYTHONHASHSEED\") != \"0\":\n",
        "    raise Exception(\"You must set PYTHONHASHSEED=0 when starting the Jupyter server to get reproducible results.\")"
      ],
      "execution_count": 221,
      "outputs": []
    },
    {
      "cell_type": "code",
      "metadata": {
        "id": "0eo-aO0YY94Q"
      },
      "source": [
        ""
      ],
      "execution_count": 223,
      "outputs": []
    },
    {
      "cell_type": "code",
      "metadata": {
        "id": "apYarzKaurxW"
      },
      "source": [
        ""
      ],
      "execution_count": null,
      "outputs": []
    }
  ]
}