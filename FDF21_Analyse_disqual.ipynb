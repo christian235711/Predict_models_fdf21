{
  "nbformat": 4,
  "nbformat_minor": 0,
  "metadata": {
    "colab": {
      "name": "FDF21_Analyse_disqual.ipynb",
      "provenance": [],
      "collapsed_sections": [],
      "authorship_tag": "ABX9TyNQpAQndz3PZEkhgj+45bZ4"
    },
    "kernelspec": {
      "name": "python3",
      "display_name": "Python 3"
    },
    "language_info": {
      "name": "python"
    }
  },
  "cells": [
    {
      "cell_type": "code",
      "metadata": {
        "id": "6PE_fq-Af-lD",
        "colab": {
          "base_uri": "https://localhost:8080/"
        },
        "outputId": "b6e72cc6-70d4-40f0-eb26-b98ddb01c30f"
      },
      "source": [
        "import numpy as np\n",
        "import pandas as pd\n",
        "import seaborn as sns\n",
        "import matplotlib.pyplot as plt\n",
        "\n",
        "!pip install fanalysis\n",
        "from fanalysis.mca import MCA\n",
        "\n",
        "from sklearn.metrics import confusion_matrix\n",
        "\n",
        "from google.colab import drive\n",
        "drive.mount('/content/drive')"
      ],
      "execution_count": 1,
      "outputs": [
        {
          "output_type": "stream",
          "text": [
            "Collecting fanalysis\n",
            "\u001b[?25l  Downloading https://files.pythonhosted.org/packages/97/b9/0abf11b0e44fdb450c745e4c9a1e4ab764d5ad8882011161c3ddf290a789/fanalysis-0.0.1-py3-none-any.whl (56kB)\n",
            "\r\u001b[K     |█████▉                          | 10kB 17.9MB/s eta 0:00:01\r\u001b[K     |███████████▋                    | 20kB 21.9MB/s eta 0:00:01\r\u001b[K     |█████████████████▌              | 30kB 15.4MB/s eta 0:00:01\r\u001b[K     |███████████████████████▎        | 40kB 14.6MB/s eta 0:00:01\r\u001b[K     |█████████████████████████████   | 51kB 8.2MB/s eta 0:00:01\r\u001b[K     |████████████████████████████████| 61kB 5.1MB/s \n",
            "\u001b[?25hRequirement already satisfied: numpy>=1.11.0 in /usr/local/lib/python3.7/dist-packages (from fanalysis) (1.19.5)\n",
            "Requirement already satisfied: pandas>=0.19.0 in /usr/local/lib/python3.7/dist-packages (from fanalysis) (1.1.5)\n",
            "Requirement already satisfied: scikit-learn>=0.18.0 in /usr/local/lib/python3.7/dist-packages (from fanalysis) (0.22.2.post1)\n",
            "Requirement already satisfied: matplotlib>=2.0.0 in /usr/local/lib/python3.7/dist-packages (from fanalysis) (3.2.2)\n",
            "Requirement already satisfied: python-dateutil>=2.7.3 in /usr/local/lib/python3.7/dist-packages (from pandas>=0.19.0->fanalysis) (2.8.1)\n",
            "Requirement already satisfied: pytz>=2017.2 in /usr/local/lib/python3.7/dist-packages (from pandas>=0.19.0->fanalysis) (2018.9)\n",
            "Requirement already satisfied: joblib>=0.11 in /usr/local/lib/python3.7/dist-packages (from scikit-learn>=0.18.0->fanalysis) (1.0.1)\n",
            "Requirement already satisfied: scipy>=0.17.0 in /usr/local/lib/python3.7/dist-packages (from scikit-learn>=0.18.0->fanalysis) (1.4.1)\n",
            "Requirement already satisfied: pyparsing!=2.0.4,!=2.1.2,!=2.1.6,>=2.0.1 in /usr/local/lib/python3.7/dist-packages (from matplotlib>=2.0.0->fanalysis) (2.4.7)\n",
            "Requirement already satisfied: cycler>=0.10 in /usr/local/lib/python3.7/dist-packages (from matplotlib>=2.0.0->fanalysis) (0.10.0)\n",
            "Requirement already satisfied: kiwisolver>=1.0.1 in /usr/local/lib/python3.7/dist-packages (from matplotlib>=2.0.0->fanalysis) (1.3.1)\n",
            "Requirement already satisfied: six>=1.5 in /usr/local/lib/python3.7/dist-packages (from python-dateutil>=2.7.3->pandas>=0.19.0->fanalysis) (1.15.0)\n",
            "Installing collected packages: fanalysis\n",
            "Successfully installed fanalysis-0.0.1\n",
            "Mounted at /content/drive\n"
          ],
          "name": "stdout"
        }
      ]
    },
    {
      "cell_type": "code",
      "metadata": {
        "id": "yuD2HnZ3uKFa"
      },
      "source": [
        ""
      ],
      "execution_count": 1,
      "outputs": []
    },
    {
      "cell_type": "code",
      "metadata": {
        "id": "HDcsBJYZuKHz"
      },
      "source": [
        "# option d'affichage des résultats\n",
        "pd.set_option(\"display.max_row\",130)\n",
        "pd.set_option(\"display.max_columns\",100)"
      ],
      "execution_count": 2,
      "outputs": []
    },
    {
      "cell_type": "code",
      "metadata": {
        "id": "EIiIM-2FuKKO"
      },
      "source": [
        "# les noms des variables\n",
        "\n",
        "colonnes =([\"IDENT\", \"TypeHabi\", \"GeoFaz_Scl\", \"GeoFaz_cl\", \"ImmoFaz_Scl\", \"ImmoFaz_cl\", \"Anciennete\",\n",
        "            \"Logement_prix_m2\", \"Mediane_RFR\", \"Sexe\", \"Prenom_Phase_scl_H\", \"Prenom_Phase_scl_F\",\n",
        "            \"Prenom_Phase_cl_H\", \"Prenom_Phase_cl_F\", \"Age_H\", \"Age_F\", \"Affinite_1\", \"Affinite_2\",\n",
        "            \"Prenom_effectif\", \"Potentiel_prenom\", \"Onoma-Phase_Scl\", \"Onoma-Phase_CL\", \"Top_mon\"])"
      ],
      "execution_count": 3,
      "outputs": []
    },
    {
      "cell_type": "code",
      "metadata": {
        "id": "wci4tC0suKMu"
      },
      "source": [
        "# importation du fichier (changer le chemin d'accès)\n",
        "''' Faites attention au type de fichier, au délimiteur des valeurs (ça doit être unique et non multiple),\n",
        "au header et à la lecture des types d'objets (low_memory) '''\n",
        "\n",
        "data_orig = pd.read_csv(\"/content/drive/MyDrive/spad_score_method_1/spad_projection_FDFTOT21/my_data_FDFTOT21.txt\", delim_whitespace=\"\\t\", header = None, names=colonnes, low_memory=False, dtype=str )#, dtype='Int64')\n"
      ],
      "execution_count": 4,
      "outputs": []
    },
    {
      "cell_type": "code",
      "metadata": {
        "colab": {
          "base_uri": "https://localhost:8080/"
        },
        "id": "oyDoq2cHxz7o",
        "outputId": "ecc95d78-13c6-4d14-d1a9-e16f6f4eaf42"
      },
      "source": [
        "''' copie superficielle (peu profonde) du dataset original pour ne pas modifier les valeurs\n",
        "d'origine par erreur plus tard \n",
        "'''\n",
        "data = data_orig.copy()\n",
        "data.shape"
      ],
      "execution_count": 5,
      "outputs": [
        {
          "output_type": "execute_result",
          "data": {
            "text/plain": [
              "(1219999, 23)"
            ]
          },
          "metadata": {
            "tags": []
          },
          "execution_count": 5
        }
      ]
    },
    {
      "cell_type": "code",
      "metadata": {
        "colab": {
          "base_uri": "https://localhost:8080/",
          "height": 240
        },
        "id": "d8EgLMlSxz9s",
        "outputId": "88d0c6dd-4d9c-46aa-889f-7b2e2cdd7774"
      },
      "source": [
        "# visualisation des premiers lignes\n",
        "data.head()\n"
      ],
      "execution_count": 6,
      "outputs": [
        {
          "output_type": "execute_result",
          "data": {
            "text/html": [
              "<div>\n",
              "<style scoped>\n",
              "    .dataframe tbody tr th:only-of-type {\n",
              "        vertical-align: middle;\n",
              "    }\n",
              "\n",
              "    .dataframe tbody tr th {\n",
              "        vertical-align: top;\n",
              "    }\n",
              "\n",
              "    .dataframe thead th {\n",
              "        text-align: right;\n",
              "    }\n",
              "</style>\n",
              "<table border=\"1\" class=\"dataframe\">\n",
              "  <thead>\n",
              "    <tr style=\"text-align: right;\">\n",
              "      <th></th>\n",
              "      <th>IDENT</th>\n",
              "      <th>TypeHabi</th>\n",
              "      <th>GeoFaz_Scl</th>\n",
              "      <th>GeoFaz_cl</th>\n",
              "      <th>ImmoFaz_Scl</th>\n",
              "      <th>ImmoFaz_cl</th>\n",
              "      <th>Anciennete</th>\n",
              "      <th>Logement_prix_m2</th>\n",
              "      <th>Mediane_RFR</th>\n",
              "      <th>Sexe</th>\n",
              "      <th>Prenom_Phase_scl_H</th>\n",
              "      <th>Prenom_Phase_scl_F</th>\n",
              "      <th>Prenom_Phase_cl_H</th>\n",
              "      <th>Prenom_Phase_cl_F</th>\n",
              "      <th>Age_H</th>\n",
              "      <th>Age_F</th>\n",
              "      <th>Affinite_1</th>\n",
              "      <th>Affinite_2</th>\n",
              "      <th>Prenom_effectif</th>\n",
              "      <th>Potentiel_prenom</th>\n",
              "      <th>Onoma-Phase_Scl</th>\n",
              "      <th>Onoma-Phase_CL</th>\n",
              "      <th>Top_mon</th>\n",
              "    </tr>\n",
              "  </thead>\n",
              "  <tbody>\n",
              "    <tr>\n",
              "      <th>0</th>\n",
              "      <td>000000010010000001</td>\n",
              "      <td>02</td>\n",
              "      <td>81</td>\n",
              "      <td>08</td>\n",
              "      <td>91</td>\n",
              "      <td>09</td>\n",
              "      <td>06</td>\n",
              "      <td>21</td>\n",
              "      <td>21</td>\n",
              "      <td>01</td>\n",
              "      <td>71</td>\n",
              "      <td>41</td>\n",
              "      <td>07</td>\n",
              "      <td>04</td>\n",
              "      <td>12</td>\n",
              "      <td>04</td>\n",
              "      <td>20</td>\n",
              "      <td>02</td>\n",
              "      <td>02</td>\n",
              "      <td>01</td>\n",
              "      <td>51</td>\n",
              "      <td>05</td>\n",
              "      <td>1</td>\n",
              "    </tr>\n",
              "    <tr>\n",
              "      <th>1</th>\n",
              "      <td>000000020010000006</td>\n",
              "      <td>01</td>\n",
              "      <td>75</td>\n",
              "      <td>07</td>\n",
              "      <td>43</td>\n",
              "      <td>04</td>\n",
              "      <td>06</td>\n",
              "      <td>06</td>\n",
              "      <td>13</td>\n",
              "      <td>02</td>\n",
              "      <td>71</td>\n",
              "      <td>64</td>\n",
              "      <td>07</td>\n",
              "      <td>06</td>\n",
              "      <td>12</td>\n",
              "      <td>09</td>\n",
              "      <td>04</td>\n",
              "      <td>12</td>\n",
              "      <td>04</td>\n",
              "      <td>13</td>\n",
              "      <td>12</td>\n",
              "      <td>01</td>\n",
              "      <td>1</td>\n",
              "    </tr>\n",
              "    <tr>\n",
              "      <th>2</th>\n",
              "      <td>000000030010000011</td>\n",
              "      <td>01</td>\n",
              "      <td>76</td>\n",
              "      <td>07</td>\n",
              "      <td>43</td>\n",
              "      <td>04</td>\n",
              "      <td>06</td>\n",
              "      <td>06</td>\n",
              "      <td>16</td>\n",
              "      <td>03</td>\n",
              "      <td>54</td>\n",
              "      <td>81</td>\n",
              "      <td>05</td>\n",
              "      <td>08</td>\n",
              "      <td>07</td>\n",
              "      <td>12</td>\n",
              "      <td>06</td>\n",
              "      <td>06</td>\n",
              "      <td>04</td>\n",
              "      <td>18</td>\n",
              "      <td>36</td>\n",
              "      <td>03</td>\n",
              "      <td>2</td>\n",
              "    </tr>\n",
              "    <tr>\n",
              "      <th>3</th>\n",
              "      <td>000000040010000013</td>\n",
              "      <td>03</td>\n",
              "      <td>75</td>\n",
              "      <td>07</td>\n",
              "      <td>43</td>\n",
              "      <td>04</td>\n",
              "      <td>04</td>\n",
              "      <td>06</td>\n",
              "      <td>13</td>\n",
              "      <td>01</td>\n",
              "      <td>71</td>\n",
              "      <td>36</td>\n",
              "      <td>07</td>\n",
              "      <td>03</td>\n",
              "      <td>12</td>\n",
              "      <td>11</td>\n",
              "      <td>11</td>\n",
              "      <td>19</td>\n",
              "      <td>04</td>\n",
              "      <td>06</td>\n",
              "      <td>21</td>\n",
              "      <td>02</td>\n",
              "      <td>1</td>\n",
              "    </tr>\n",
              "    <tr>\n",
              "      <th>4</th>\n",
              "      <td>000000050010000015</td>\n",
              "      <td>02</td>\n",
              "      <td>33</td>\n",
              "      <td>03</td>\n",
              "      <td>44</td>\n",
              "      <td>04</td>\n",
              "      <td>06</td>\n",
              "      <td>07</td>\n",
              "      <td>12</td>\n",
              "      <td>01</td>\n",
              "      <td>71</td>\n",
              "      <td>42</td>\n",
              "      <td>07</td>\n",
              "      <td>04</td>\n",
              "      <td>12</td>\n",
              "      <td>05</td>\n",
              "      <td>14</td>\n",
              "      <td>03</td>\n",
              "      <td>03</td>\n",
              "      <td>01</td>\n",
              "      <td>14</td>\n",
              "      <td>01</td>\n",
              "      <td>2</td>\n",
              "    </tr>\n",
              "  </tbody>\n",
              "</table>\n",
              "</div>"
            ],
            "text/plain": [
              "                IDENT TypeHabi GeoFaz_Scl GeoFaz_cl ImmoFaz_Scl ImmoFaz_cl  \\\n",
              "0  000000010010000001       02         81        08          91         09   \n",
              "1  000000020010000006       01         75        07          43         04   \n",
              "2  000000030010000011       01         76        07          43         04   \n",
              "3  000000040010000013       03         75        07          43         04   \n",
              "4  000000050010000015       02         33        03          44         04   \n",
              "\n",
              "  Anciennete Logement_prix_m2 Mediane_RFR Sexe Prenom_Phase_scl_H  \\\n",
              "0         06               21          21   01                 71   \n",
              "1         06               06          13   02                 71   \n",
              "2         06               06          16   03                 54   \n",
              "3         04               06          13   01                 71   \n",
              "4         06               07          12   01                 71   \n",
              "\n",
              "  Prenom_Phase_scl_F Prenom_Phase_cl_H Prenom_Phase_cl_F Age_H Age_F  \\\n",
              "0                 41                07                04    12    04   \n",
              "1                 64                07                06    12    09   \n",
              "2                 81                05                08    07    12   \n",
              "3                 36                07                03    12    11   \n",
              "4                 42                07                04    12    05   \n",
              "\n",
              "  Affinite_1 Affinite_2 Prenom_effectif Potentiel_prenom Onoma-Phase_Scl  \\\n",
              "0         20         02              02               01              51   \n",
              "1         04         12              04               13              12   \n",
              "2         06         06              04               18              36   \n",
              "3         11         19              04               06              21   \n",
              "4         14         03              03               01              14   \n",
              "\n",
              "  Onoma-Phase_CL Top_mon  \n",
              "0             05       1  \n",
              "1             01       1  \n",
              "2             03       2  \n",
              "3             02       1  \n",
              "4             01       2  "
            ]
          },
          "metadata": {
            "tags": []
          },
          "execution_count": 6
        }
      ]
    },
    {
      "cell_type": "code",
      "metadata": {
        "id": "0DV4-3xA2W_K"
      },
      "source": [
        "#nombre de modalités de chaque variables (dans un dataframe)\n",
        "def nombre_mod(data2):\n",
        "    #création d'un dataframe vide\n",
        "    dff= pd.DataFrame(columns=[\"VARIABLE\",\"NOMBRE_MOD\", \"NOMBRE_MOD_SANS_NA\"])\n",
        "    for i in range(data2.shape[1]): # sans compter les valeurs manquantes\n",
        "        taille =len(data2.iloc[:,i].value_counts(dropna=False))\n",
        "        taille_1 = len(data2.iloc[:,i].value_counts(dropna=True) )\n",
        "        dff=dff.append({\"VARIABLE\": colonnes[i],\"NOMBRE_MOD\":taille, \"NOMBRE_MOD_SANS_NA\":taille_1 }, ignore_index=True)\n",
        "    return dff\n",
        "\n",
        "# sélection des corrélations les plus importantes\n",
        "def variables_corr(tableau_corr, seuil):\n",
        "    colonnes = tableau_corr.columns\n",
        "    val_temp = 0 \n",
        "    variables_corr_pos=[] ; variables_corr_pos_val=[]\n",
        "    variables_corr_neg=[] ; variables_corr_neg_val=[]\n",
        "    for i in range(tableau_corr.shape[0]):  \n",
        "        for j in range(tableau_corr.shape[0]):\n",
        "            if i<j: #i!=j:\n",
        "                if (tableau_corr.iloc[i,j] > seuil):\n",
        "                    variables_corr_pos.append(colonnes[j])\n",
        "                    variables_corr_pos_val.append(round( tableau_corr.iloc[i,j], 2))\n",
        "                    val_temp += 1\n",
        "\n",
        "                if (tableau_corr.iloc[i,j] <-seuil):\n",
        "                    variables_corr_neg.append(colonnes[j])\n",
        "                    variables_corr_neg_val.append(round( tableau_corr.iloc[i,j], 2))\n",
        "                    val_temp += 1\n",
        "\n",
        "        if (len(variables_corr_pos) > 0) | (len(variables_corr_neg) >0) :\n",
        "            print(\"variable : \", colonnes[i])\n",
        "            if len(variables_corr_pos) > 0:    \n",
        "                print(\"corr pos\", variables_corr_pos)\n",
        "                print(\"corr pos\", variables_corr_pos_val)\n",
        "                val_temp += 1\n",
        "\n",
        "            if len(variables_corr_neg) >0:  \n",
        "                print(\"corr neg\", variables_corr_neg)\n",
        "                print(\"corr neg\", variables_corr_neg_val)\n",
        "                val_temp += 1\n",
        "            print(\"\")\n",
        "        variables_corr_pos = variables_corr_pos*0\n",
        "        variables_corr_neg = variables_corr_pos*0\n",
        "\n",
        "        variables_corr_pos_val = variables_corr_pos_val*0\n",
        "        variables_corr_neg_val = variables_corr_pos_val*0\n",
        "    if val_temp == 0:\n",
        "        print(\"IL N'Y A PAS DE CORRELATION ENTRE LES VARIABLES PAR RAPPORT AU SEUIL PRIS\")\n",
        "        \n",
        "\n",
        "def evaluation(model, X_train, y_train, X_test, y_test, scoring, plot):\n",
        "\n",
        "    model.fit(X_train, y_train)\n",
        "    y_pred = model.predict(X_test)\n",
        "    \n",
        "    print(\"test set : \")\n",
        "    print(confusion_matrix(y_test, y_pred))\n",
        "    print(classification_report(y_test, y_pred)) \n",
        "    print(\"train set : \")\n",
        "    print(confusion_matrix(y_train, model.predict(X_train)))  \n",
        "    print(classification_report(y_train, model.predict(X_train) ))\n",
        "\n",
        "    if plot == True:\n",
        "        N, train_score, val_score = learning_curve(model, X_train, y_train, shuffle=True, cv = 4, scoring = scoring, train_sizes = np.linspace(0.1, 1, 6) )\n",
        "\n",
        "        plt.figure(figsize = (10,6))\n",
        "        plt.plot(N, train_score.mean(axis=1), label =\"train_score\")\n",
        "        plt.plot(N, val_score.mean(axis=1), label =\"cross_validation_score\")\n",
        "        plt.legend()\n",
        "    else :\n",
        "        print(\"GRAPHIQUE NON DEMANDE\")\n",
        "\n",
        "# Comme il n'y a pas de valeurs manquantes (à la place il y a un nombre), le seul traitement qu'on fait c'est tranformer\n",
        "# le type de variable (les variables continues deviennent qualitatives)\n",
        "def data_processing(df):\n",
        "    \"\"\" \n",
        "    for i in range(0,len(df.columns)):    \n",
        "        df[df.columns[i]].fillna(100.0, inplace=True) #On remplace les données manquantes par 100\n",
        "    for i in range(0,len(df.columns)):\n",
        "        print(df[df.columns[i]].value_counts(dropna=False))    \n",
        "    \"\"\"\n",
        "    \n",
        "   #Transformation de toutes les variables en facteurs         \n",
        "    for i in range(0,len(df.columns)):\n",
        "        df[df.columns[i]] = df[df.columns[i]].astype('category')\n",
        "    return df.to_numpy() #.as_matrix()\n",
        "\n",
        "\n",
        "def vingtiles(model, data_orig, affichage, save, path):\n",
        "    # position de la dernière variable explicative dans le dataset\n",
        "    nb_var = data_orig.shape[1]-1\n",
        "\n",
        "    # predict sur tous les individus (avec et sans classe IFI+)\n",
        "    tous_probas = model.predict_proba(data_orig.iloc[:,1:nb_var])\n",
        "    df_tous = pd.DataFrame({'IDENT': data_orig.iloc[:,0] , 'PROBA': tous_probas[:,0] })\n",
        "    #df_tous\n",
        "    \n",
        "    # valeurs ordonnées pour diviser après\n",
        "    df_tous=df_tous.sort_values(by='PROBA', ascending=True)\n",
        "    #df_tous\n",
        "    print(df_tous)\n",
        "    \n",
        "    #vérification\n",
        "    print(df_tous['PROBA'].value_counts())\n",
        "\n",
        "    # quarantiles\n",
        "    df_temp =pd.DataFrame( pd.qcut(df_tous['PROBA'],q= 20)  )\n",
        "    print(df_temp)\n",
        "\n",
        "    # ajout par index (IMPORTANTE)\n",
        "    df_tous[\"TRANCHES\"]=pd.DataFrame(df_temp.iloc[:,0].to_numpy(),index= df_temp.index)\n",
        "    #print(df_tous)\n",
        "    \n",
        "    # pour la colonne Top_mon :\n",
        "    # remplissage de la dernière colonne par 2 (VALABLE QUE POUR CE DATA, MODIFIER POUR D'AUTRES)\n",
        "    data_temp_t = data_orig.copy()\n",
        "    # remplacement\n",
        "    data_temp_t[\"Top_mon\"] =  data_temp_t[\"Top_mon\"].replace(1.0,'1')\n",
        "    data_temp_t[\"Top_mon\"] =  data_temp_t[\"Top_mon\"].replace(2.0,'2')\n",
        "    data_all_complet_class = data_temp_t.fillna('2')\n",
        "    #data_all_complet_class\n",
        "\n",
        "    # jointure\n",
        "    ident_class_tous = data_all_complet_class[[\"IDENT\",\"Top_mon\"]]\n",
        "    tableau_resultats = pd.merge(df_tous,ident_class_tous)\n",
        "    #tableau_resultats\n",
        "\n",
        "    # tranches finales\n",
        "    tab_cross_temp = pd.crosstab(tableau_resultats[\"TRANCHES\"],tableau_resultats[\"Top_mon\"])\n",
        "    #print(tab_cross_temp); print(\"-----------------------\")\n",
        "\n",
        "    # création d'une colonne total\n",
        "    tab_cross_temp[\"TOTAL\"]=tab_cross_temp[\"1\"]+tab_cross_temp[\"2\"]\n",
        "    \n",
        "    # affichage\n",
        "    if affichage ==True:        \n",
        "        print(tab_cross_temp)\n",
        "\n",
        "    # création du tableau final en éliminant la colonne 2\n",
        "    #tab_pour_excel = tab_cross_temp.drop([\"2\"], axis=1)\n",
        "\n",
        "    # si on ne veut pas éliminer la colonne 2\n",
        "    tab_pour_excel =  tab_cross_temp\n",
        "    \n",
        "    # enregistrement sous Excel\n",
        "    if save == True:\n",
        "        tab_pour_excel.to_excel(path)\n",
        "\n",
        "def vingtiles_ind_sans_target(model, data_orig, affichage, save, path):\n",
        "    # position de la dernière variable explicative dans le dataset\n",
        "    nb_var = data_orig.shape[1]-1\n",
        "\n",
        "    # predict sur tous les individus (avec et sans classe IFI+)\n",
        "    tous_probas = model.predict_proba(data_orig.iloc[:,1:nb_var])\n",
        "    df_tous = pd.DataFrame({'IDENT': data_orig.iloc[:,0] , 'PROBA': tous_probas[:,0] })\n",
        "    #df_tous\n",
        "    \n",
        "    # valeurs ordonnées pour diviser après\n",
        "    df_tous=df_tous.sort_values(by='PROBA', ascending=True)\n",
        "    #df_tous\n",
        "    print(df_tous)\n",
        "    \n",
        "    #vérification\n",
        "    print(df_tous['PROBA'].value_counts())\n",
        "\n",
        "    # quarantiles\n",
        "    df_temp =pd.DataFrame( pd.qcut(df_tous['PROBA'],q= 20)  )\n",
        "    print(df_temp)\n",
        "\n",
        "    # ajout par index (IMPORTANTE)\n",
        "    df_tous[\"TRANCHES\"]=pd.DataFrame(df_temp.iloc[:,0].to_numpy(),index= df_temp.index)\n",
        "    print(df_tous)\n",
        "    print(df_tous[\"TRANCHES\"].value_counts(ascending = True))\n",
        "\n",
        "    # GERE L'ORDRE\n",
        "    patra = np.unique(df_tous.iloc[:,2], return_counts=True)\n",
        "    df_tranches_sans_target = pd.DataFrame([patra[0],patra[1]]).T\n",
        "    df_tranches_sans_target.columns=[\"TRANCHES\",\"COUNTS\"]\n",
        "\n",
        "    # affichage\n",
        "    if affichage ==True:        \n",
        "        print(df_tranches_sans_target)\n",
        "    \n",
        "    # enregistrement sous Excel\n",
        "    if save == True:\n",
        "        df_tranches_sans_target.to_excel(path)\n",
        "    \n",
        "\n",
        "# élimination des variables trop corrélées (choix manuel)\n",
        "def elimination_val_corr(data):\n",
        "    data = data.drop(columns=[\"\"])\n",
        "    return data\n",
        "\n",
        "    "
      ],
      "execution_count": 7,
      "outputs": []
    },
    {
      "cell_type": "code",
      "metadata": {
        "colab": {
          "base_uri": "https://localhost:8080/",
          "height": 761
        },
        "id": "2EQAN76Q2XBS",
        "outputId": "65a77b1a-5386-4f86-cbce-4ee4980283b2"
      },
      "source": [
        "nombre_mod(data)"
      ],
      "execution_count": 8,
      "outputs": [
        {
          "output_type": "execute_result",
          "data": {
            "text/html": [
              "<div>\n",
              "<style scoped>\n",
              "    .dataframe tbody tr th:only-of-type {\n",
              "        vertical-align: middle;\n",
              "    }\n",
              "\n",
              "    .dataframe tbody tr th {\n",
              "        vertical-align: top;\n",
              "    }\n",
              "\n",
              "    .dataframe thead th {\n",
              "        text-align: right;\n",
              "    }\n",
              "</style>\n",
              "<table border=\"1\" class=\"dataframe\">\n",
              "  <thead>\n",
              "    <tr style=\"text-align: right;\">\n",
              "      <th></th>\n",
              "      <th>VARIABLE</th>\n",
              "      <th>NOMBRE_MOD</th>\n",
              "      <th>NOMBRE_MOD_SANS_NA</th>\n",
              "    </tr>\n",
              "  </thead>\n",
              "  <tbody>\n",
              "    <tr>\n",
              "      <th>0</th>\n",
              "      <td>IDENT</td>\n",
              "      <td>1219999</td>\n",
              "      <td>1219999</td>\n",
              "    </tr>\n",
              "    <tr>\n",
              "      <th>1</th>\n",
              "      <td>TypeHabi</td>\n",
              "      <td>4</td>\n",
              "      <td>4</td>\n",
              "    </tr>\n",
              "    <tr>\n",
              "      <th>2</th>\n",
              "      <td>GeoFaz_Scl</td>\n",
              "      <td>38</td>\n",
              "      <td>38</td>\n",
              "    </tr>\n",
              "    <tr>\n",
              "      <th>3</th>\n",
              "      <td>GeoFaz_cl</td>\n",
              "      <td>8</td>\n",
              "      <td>8</td>\n",
              "    </tr>\n",
              "    <tr>\n",
              "      <th>4</th>\n",
              "      <td>ImmoFaz_Scl</td>\n",
              "      <td>31</td>\n",
              "      <td>31</td>\n",
              "    </tr>\n",
              "    <tr>\n",
              "      <th>5</th>\n",
              "      <td>ImmoFaz_cl</td>\n",
              "      <td>9</td>\n",
              "      <td>9</td>\n",
              "    </tr>\n",
              "    <tr>\n",
              "      <th>6</th>\n",
              "      <td>Anciennete</td>\n",
              "      <td>11</td>\n",
              "      <td>11</td>\n",
              "    </tr>\n",
              "    <tr>\n",
              "      <th>7</th>\n",
              "      <td>Logement_prix_m2</td>\n",
              "      <td>21</td>\n",
              "      <td>21</td>\n",
              "    </tr>\n",
              "    <tr>\n",
              "      <th>8</th>\n",
              "      <td>Mediane_RFR</td>\n",
              "      <td>21</td>\n",
              "      <td>21</td>\n",
              "    </tr>\n",
              "    <tr>\n",
              "      <th>9</th>\n",
              "      <td>Sexe</td>\n",
              "      <td>5</td>\n",
              "      <td>5</td>\n",
              "    </tr>\n",
              "    <tr>\n",
              "      <th>10</th>\n",
              "      <td>Prenom_Phase_scl_H</td>\n",
              "      <td>31</td>\n",
              "      <td>31</td>\n",
              "    </tr>\n",
              "    <tr>\n",
              "      <th>11</th>\n",
              "      <td>Prenom_Phase_scl_F</td>\n",
              "      <td>45</td>\n",
              "      <td>45</td>\n",
              "    </tr>\n",
              "    <tr>\n",
              "      <th>12</th>\n",
              "      <td>Prenom_Phase_cl_H</td>\n",
              "      <td>7</td>\n",
              "      <td>7</td>\n",
              "    </tr>\n",
              "    <tr>\n",
              "      <th>13</th>\n",
              "      <td>Prenom_Phase_cl_F</td>\n",
              "      <td>8</td>\n",
              "      <td>8</td>\n",
              "    </tr>\n",
              "    <tr>\n",
              "      <th>14</th>\n",
              "      <td>Age_H</td>\n",
              "      <td>12</td>\n",
              "      <td>12</td>\n",
              "    </tr>\n",
              "    <tr>\n",
              "      <th>15</th>\n",
              "      <td>Age_F</td>\n",
              "      <td>12</td>\n",
              "      <td>12</td>\n",
              "    </tr>\n",
              "    <tr>\n",
              "      <th>16</th>\n",
              "      <td>Affinite_1</td>\n",
              "      <td>21</td>\n",
              "      <td>21</td>\n",
              "    </tr>\n",
              "    <tr>\n",
              "      <th>17</th>\n",
              "      <td>Affinite_2</td>\n",
              "      <td>21</td>\n",
              "      <td>21</td>\n",
              "    </tr>\n",
              "    <tr>\n",
              "      <th>18</th>\n",
              "      <td>Prenom_effectif</td>\n",
              "      <td>6</td>\n",
              "      <td>6</td>\n",
              "    </tr>\n",
              "    <tr>\n",
              "      <th>19</th>\n",
              "      <td>Potentiel_prenom</td>\n",
              "      <td>21</td>\n",
              "      <td>21</td>\n",
              "    </tr>\n",
              "    <tr>\n",
              "      <th>20</th>\n",
              "      <td>Onoma-Phase_Scl</td>\n",
              "      <td>36</td>\n",
              "      <td>36</td>\n",
              "    </tr>\n",
              "    <tr>\n",
              "      <th>21</th>\n",
              "      <td>Onoma-Phase_CL</td>\n",
              "      <td>6</td>\n",
              "      <td>6</td>\n",
              "    </tr>\n",
              "    <tr>\n",
              "      <th>22</th>\n",
              "      <td>Top_mon</td>\n",
              "      <td>3</td>\n",
              "      <td>2</td>\n",
              "    </tr>\n",
              "  </tbody>\n",
              "</table>\n",
              "</div>"
            ],
            "text/plain": [
              "              VARIABLE NOMBRE_MOD NOMBRE_MOD_SANS_NA\n",
              "0                IDENT    1219999            1219999\n",
              "1             TypeHabi          4                  4\n",
              "2           GeoFaz_Scl         38                 38\n",
              "3            GeoFaz_cl          8                  8\n",
              "4          ImmoFaz_Scl         31                 31\n",
              "5           ImmoFaz_cl          9                  9\n",
              "6           Anciennete         11                 11\n",
              "7     Logement_prix_m2         21                 21\n",
              "8          Mediane_RFR         21                 21\n",
              "9                 Sexe          5                  5\n",
              "10  Prenom_Phase_scl_H         31                 31\n",
              "11  Prenom_Phase_scl_F         45                 45\n",
              "12   Prenom_Phase_cl_H          7                  7\n",
              "13   Prenom_Phase_cl_F          8                  8\n",
              "14               Age_H         12                 12\n",
              "15               Age_F         12                 12\n",
              "16          Affinite_1         21                 21\n",
              "17          Affinite_2         21                 21\n",
              "18     Prenom_effectif          6                  6\n",
              "19    Potentiel_prenom         21                 21\n",
              "20     Onoma-Phase_Scl         36                 36\n",
              "21      Onoma-Phase_CL          6                  6\n",
              "22             Top_mon          3                  2"
            ]
          },
          "metadata": {
            "tags": []
          },
          "execution_count": 8
        }
      ]
    },
    {
      "cell_type": "code",
      "metadata": {
        "colab": {
          "base_uri": "https://localhost:8080/"
        },
        "id": "dNh8ZnOzMfDy",
        "outputId": "26afe198-b423-4f10-cc28-9a5b84952200"
      },
      "source": [
        "data[\"Top_mon\"].value_counts(dropna=False)"
      ],
      "execution_count": 9,
      "outputs": [
        {
          "output_type": "execute_result",
          "data": {
            "text/plain": [
              "NaN    1092884\n",
              "2       103659\n",
              "1        23456\n",
              "Name: Top_mon, dtype: int64"
            ]
          },
          "metadata": {
            "tags": []
          },
          "execution_count": 9
        }
      ]
    },
    {
      "cell_type": "code",
      "metadata": {
        "colab": {
          "base_uri": "https://localhost:8080/"
        },
        "id": "_bJVv_4eBsmj",
        "outputId": "a5c57e0c-c998-4654-c40f-598c323104d4"
      },
      "source": [
        "data.info()"
      ],
      "execution_count": 10,
      "outputs": [
        {
          "output_type": "stream",
          "text": [
            "<class 'pandas.core.frame.DataFrame'>\n",
            "RangeIndex: 1219999 entries, 0 to 1219998\n",
            "Data columns (total 23 columns):\n",
            " #   Column              Non-Null Count    Dtype \n",
            "---  ------              --------------    ----- \n",
            " 0   IDENT               1219999 non-null  object\n",
            " 1   TypeHabi            1219999 non-null  object\n",
            " 2   GeoFaz_Scl          1219999 non-null  object\n",
            " 3   GeoFaz_cl           1219999 non-null  object\n",
            " 4   ImmoFaz_Scl         1219999 non-null  object\n",
            " 5   ImmoFaz_cl          1219999 non-null  object\n",
            " 6   Anciennete          1219999 non-null  object\n",
            " 7   Logement_prix_m2    1219999 non-null  object\n",
            " 8   Mediane_RFR         1219999 non-null  object\n",
            " 9   Sexe                1219999 non-null  object\n",
            " 10  Prenom_Phase_scl_H  1219999 non-null  object\n",
            " 11  Prenom_Phase_scl_F  1219999 non-null  object\n",
            " 12  Prenom_Phase_cl_H   1219999 non-null  object\n",
            " 13  Prenom_Phase_cl_F   1219999 non-null  object\n",
            " 14  Age_H               1219999 non-null  object\n",
            " 15  Age_F               1219999 non-null  object\n",
            " 16  Affinite_1          1219999 non-null  object\n",
            " 17  Affinite_2          1219999 non-null  object\n",
            " 18  Prenom_effectif     1219999 non-null  object\n",
            " 19  Potentiel_prenom    1219999 non-null  object\n",
            " 20  Onoma-Phase_Scl     1219999 non-null  object\n",
            " 21  Onoma-Phase_CL      1219999 non-null  object\n",
            " 22  Top_mon             127115 non-null   object\n",
            "dtypes: object(23)\n",
            "memory usage: 214.1+ MB\n"
          ],
          "name": "stdout"
        }
      ]
    },
    {
      "cell_type": "code",
      "metadata": {
        "id": "R6qqf87_2XGq"
      },
      "source": [
        ""
      ],
      "execution_count": 10,
      "outputs": []
    },
    {
      "cell_type": "code",
      "metadata": {
        "id": "Y4nhL2yxcZZb"
      },
      "source": [
        ""
      ],
      "execution_count": 10,
      "outputs": []
    },
    {
      "cell_type": "code",
      "metadata": {
        "id": "IJOZku3IYEpI"
      },
      "source": [
        ""
      ],
      "execution_count": 10,
      "outputs": []
    },
    {
      "cell_type": "code",
      "metadata": {
        "id": "0lpwr2FMYiq2"
      },
      "source": [
        ""
      ],
      "execution_count": 10,
      "outputs": []
    },
    {
      "cell_type": "code",
      "metadata": {
        "id": "gGyqVG-fUKyo"
      },
      "source": [
        "############################################################### AJOUTER OU EFFACER (data =) #######################################\n",
        "# on élimine les variables corr\n",
        "data=data.drop([\"GeoFaz_cl\", \"ImmoFaz_Scl\", \"ImmoFaz_cl\", \"Prenom_Phase_cl_H\", \"Prenom_Phase_cl_F\", \"Onoma-Phase_Scl\", \"Onoma-Phase_CL\"],axis=1)\n"
      ],
      "execution_count": 11,
      "outputs": []
    },
    {
      "cell_type": "code",
      "metadata": {
        "colab": {
          "base_uri": "https://localhost:8080/"
        },
        "id": "2-RPzJ4vZEhM",
        "outputId": "2c8f3499-63d9-4fa6-c5fe-cd3ac5e67d8e"
      },
      "source": [
        "num_var_max = data.shape[1] - 1\n",
        "num_var_max"
      ],
      "execution_count": 12,
      "outputs": [
        {
          "output_type": "execute_result",
          "data": {
            "text/plain": [
              "15"
            ]
          },
          "metadata": {
            "tags": []
          },
          "execution_count": 12
        }
      ]
    },
    {
      "cell_type": "code",
      "metadata": {
        "id": "C0T71nnOQ1rc",
        "colab": {
          "base_uri": "https://localhost:8080/",
          "height": 313
        },
        "outputId": "d50cfe04-fcbf-45bd-95b5-f68308e82a75"
      },
      "source": [
        "#importation de la librairie\n",
        "from fanalysis.mca import MCA\n",
        "\n",
        "#instanciation\n",
        "acm = MCA(var_labels=data.columns[1:num_var_max])\n",
        "\n",
        "# apprentissage\n",
        "acm.fit(data.iloc[:127115,1:num_var_max].values)\n",
        "#valeurs propres - graphique\n",
        "print(acm.plot_eigenvalues())"
      ],
      "execution_count": 13,
      "outputs": [
        {
          "output_type": "display_data",
          "data": {
            "image/png": "[encoded data removed]",
            "text/plain": [
              "<Figure size 432x288 with 1 Axes>"
            ]
          },
          "metadata": {
            "tags": [],
            "needs_background": "light"
          }
        },
        {
          "output_type": "stream",
          "text": [
            "None\n"
          ],
          "name": "stdout"
        }
      ]
    },
    {
      "cell_type": "code",
      "metadata": {
        "id": "uba6n_5g-7-U"
      },
      "source": [
        "# fonction qui va diviser et calculer les coordonnées des individus \n",
        "def transform_to_coord(data):\n",
        "    coord_part = 0\n",
        "    coord = acm.transform(data.iloc[0:30000,1:num_var_max].values)\n",
        "    k=30000\n",
        "    nb_part = round(data.shape[0]/k)\n",
        "    for i in range(1, nb_part):\n",
        "        coord_part=acm.transform(data.iloc[i*k:(i+1)*k,1:num_var_max].values)\n",
        "        coord=np.concatenate((coord, coord_part))\n",
        "\n",
        "    coord_part = acm.transform(data.iloc[nb_part*k: ,1:num_var_max].values )\n",
        "    coord=np.concatenate((coord, coord_part))\n",
        "    return coord"
      ],
      "execution_count": 14,
      "outputs": []
    },
    {
      "cell_type": "code",
      "metadata": {
        "id": "Owu0Cby0oOnj"
      },
      "source": [
        "#instanciation\n",
        "acm = MCA(var_labels = data.columns[1:num_var_max], n_components=15)  # paramètres index manquante (gérer après)\n",
        "#apprentissage \n",
        "\"ne pas utiliser fit_tranform car le datset est trop grand \"\n",
        "acm.fit(data.iloc[:127115,1:num_var_max].values)\n",
        "\n",
        "# tranformation du dataset\n",
        "coord = transform_to_coord(data)\n"
      ],
      "execution_count": 15,
      "outputs": []
    },
    {
      "cell_type": "code",
      "metadata": {
        "id": "cF7I6w-gPtLx"
      },
      "source": [
        ""
      ],
      "execution_count": 15,
      "outputs": []
    },
    {
      "cell_type": "code",
      "metadata": {
        "id": "o6XdxYjGPT1c"
      },
      "source": [
        ""
      ],
      "execution_count": 15,
      "outputs": []
    },
    {
      "cell_type": "code",
      "metadata": {
        "colab": {
          "base_uri": "https://localhost:8080/"
        },
        "id": "7Xqe0tJsysa3",
        "outputId": "304a3e32-b03b-446c-a5ab-3a703cafd160"
      },
      "source": [
        "# dimension\n",
        "coord.shape"
      ],
      "execution_count": 16,
      "outputs": [
        {
          "output_type": "execute_result",
          "data": {
            "text/plain": [
              "(1219999, 15)"
            ]
          },
          "metadata": {
            "tags": []
          },
          "execution_count": 16
        }
      ]
    },
    {
      "cell_type": "code",
      "metadata": {
        "colab": {
          "base_uri": "https://localhost:8080/",
          "height": 313
        },
        "id": "tpU2mQ-g8XJQ",
        "outputId": "b3230a83-ae48-4d16-cee4-41524c6c73b9"
      },
      "source": [
        "#valeurs propres - graphique\n",
        "print(acm.plot_eigenvalues())\n"
      ],
      "execution_count": 17,
      "outputs": [
        {
          "output_type": "display_data",
          "data": {
            "image/png": "[encoded data removed]",
            "text/plain": [
              "<Figure size 432x288 with 1 Axes>"
            ]
          },
          "metadata": {
            "tags": [],
            "needs_background": "light"
          }
        },
        {
          "output_type": "stream",
          "text": [
            "None\n"
          ],
          "name": "stdout"
        }
      ]
    },
    {
      "cell_type": "code",
      "metadata": {
        "colab": {
          "base_uri": "https://localhost:8080/"
        },
        "id": "OJEJV8tO8eqw",
        "outputId": "0da5d4f5-464a-43bc-8203-1bc98610d15a"
      },
      "source": [
        "#coordonnées des colonnes\n",
        "print(acm.col_topandas())"
      ],
      "execution_count": 18,
      "outputs": [
        {
          "output_type": "stream",
          "text": [
            "                     col_coord_dim1  col_coord_dim2  col_coord_dim3  \\\n",
            "TypeHabi_01                0.328441       -0.201417        0.223749   \n",
            "TypeHabi_02               -0.143567        0.074169       -0.091876   \n",
            "TypeHabi_03                0.136197       -0.000884        0.047311   \n",
            "TypeHabi_04                0.058198       -0.737083        1.988520   \n",
            "GeoFaz_Scl_11             -0.122568       -0.004153        0.081375   \n",
            "...                             ...             ...             ...   \n",
            "Potentiel_prenom_17       -1.288291        0.051224       -0.866692   \n",
            "Potentiel_prenom_18       -1.148183        0.040895       -0.256930   \n",
            "Potentiel_prenom_19       -1.246651        0.016201        0.821046   \n",
            "Potentiel_prenom_20       -1.141801        0.022557        1.248943   \n",
            "Potentiel_prenom_21        0.308138       -5.969901       -0.508811   \n",
            "\n",
            "                     col_coord_dim4  col_coord_dim5  col_coord_dim6  \\\n",
            "TypeHabi_01               -0.255346        0.196996       -0.219208   \n",
            "TypeHabi_02                0.096445       -0.079067        0.093731   \n",
            "TypeHabi_03               -0.023950        0.031041       -0.081578   \n",
            "TypeHabi_04                0.556318        1.801866        0.361813   \n",
            "GeoFaz_Scl_11             -0.070029       -0.107334       -0.110871   \n",
            "...                             ...             ...             ...   \n",
            "Potentiel_prenom_17       -0.740910        0.766523       -1.048853   \n",
            "Potentiel_prenom_18       -0.451277        0.041729       -0.055784   \n",
            "Potentiel_prenom_19        0.068443       -0.770662        0.460069   \n",
            "Potentiel_prenom_20       -0.093210       -1.470482        0.435897   \n",
            "Potentiel_prenom_21        0.994682       -0.097638       -0.165764   \n",
            "\n",
            "                     col_coord_dim7  col_coord_dim8  col_coord_dim9  \\\n",
            "TypeHabi_01                0.215819       -0.335175        0.884569   \n",
            "TypeHabi_02               -0.058877        0.142469       -0.374721   \n",
            "TypeHabi_03                0.091064       -0.090846        0.268132   \n",
            "TypeHabi_04              -32.703038       -4.170129        5.234003   \n",
            "GeoFaz_Scl_11              0.070206       -0.036137        0.111560   \n",
            "...                             ...             ...             ...   \n",
            "Potentiel_prenom_17       -0.039816       -0.333028       -0.580312   \n",
            "Potentiel_prenom_18       -0.026883       -0.231337        0.037550   \n",
            "Potentiel_prenom_19       -0.032489        1.017523        0.569403   \n",
            "Potentiel_prenom_20        0.097256       -0.435022        0.107671   \n",
            "Potentiel_prenom_21        0.029790        0.149041       -0.458550   \n",
            "\n",
            "                     col_coord_dim10  col_coord_dim11  col_coord_dim12  \\\n",
            "TypeHabi_01                -0.161411         0.058934        -0.113059   \n",
            "TypeHabi_02                 0.067713        -0.021274         0.047143   \n",
            "TypeHabi_03                -0.050543         0.002415        -0.030996   \n",
            "TypeHabi_04                -0.084611        -0.526104        -0.512551   \n",
            "GeoFaz_Scl_11               0.035775        -0.058727        -0.044345   \n",
            "...                              ...              ...              ...   \n",
            "Potentiel_prenom_17        -0.326126        -0.195946        -1.622269   \n",
            "Potentiel_prenom_18        -1.560697         0.854876         1.591861   \n",
            "Potentiel_prenom_19        -0.264255        -0.188812        -0.515301   \n",
            "Potentiel_prenom_20         0.042674         0.042996         0.388024   \n",
            "Potentiel_prenom_21         0.026818         0.019469         0.190062   \n",
            "\n",
            "                     col_coord_dim13  col_coord_dim14  col_coord_dim15  \\\n",
            "TypeHabi_01                 0.039524        -0.088841         0.270761   \n",
            "TypeHabi_02                -0.022492         0.014374        -0.080394   \n",
            "TypeHabi_03                 0.042276         0.103647        -0.096033   \n",
            "TypeHabi_04                 0.583525        -0.406919        -0.921360   \n",
            "GeoFaz_Scl_11              -0.183595         0.473151        -1.094031   \n",
            "...                              ...              ...              ...   \n",
            "Potentiel_prenom_17         0.012811         0.076571         0.001623   \n",
            "Potentiel_prenom_18        -1.428908         0.090397         0.006937   \n",
            "Potentiel_prenom_19         0.072995         1.250307         0.488325   \n",
            "Potentiel_prenom_20         1.541382         0.352946         0.063661   \n",
            "Potentiel_prenom_21         0.121928         0.070562        -0.049084   \n",
            "\n",
            "                     col_contrib_dim1  col_contrib_dim2  col_contrib_dim3  \\\n",
            "TypeHabi_01                  0.489161          0.216789          0.311407   \n",
            "TypeHabi_02                  0.257149          0.080878          0.144461   \n",
            "TypeHabi_03                  0.040996          0.000002          0.006786   \n",
            "TypeHabi_04                  0.000046          0.008719          0.073867   \n",
            "GeoFaz_Scl_11                0.010827          0.000015          0.006547   \n",
            "...                               ...               ...               ...   \n",
            "Potentiel_prenom_17          2.259455          0.004209          1.402733   \n",
            "Potentiel_prenom_18          1.299616          0.001943          0.089267   \n",
            "Potentiel_prenom_19          1.583583          0.000315          0.942226   \n",
            "Potentiel_prenom_20          1.486816          0.000684          2.440231   \n",
            "Potentiel_prenom_21          0.046894         20.742959          0.175392   \n",
            "\n",
            "                     col_contrib_dim4  col_contrib_dim5  col_contrib_dim6  \\\n",
            "TypeHabi_01                  0.433863          0.282374          0.371568   \n",
            "TypeHabi_02                  0.170290          0.125151          0.186908   \n",
            "TypeHabi_03                  0.001860          0.003417          0.025081   \n",
            "TypeHabi_04                  0.006185          0.070948          0.003040   \n",
            "GeoFaz_Scl_11                0.005186          0.013323          0.015107   \n",
            "...                               ...               ...               ...   \n",
            "Potentiel_prenom_17          1.096639          1.283516          2.553857   \n",
            "Potentiel_prenom_18          0.294602          0.002755          0.005231   \n",
            "Potentiel_prenom_19          0.007004          0.971079          0.367780   \n",
            "Potentiel_prenom_20          0.014540          3.957051          0.369518   \n",
            "Potentiel_prenom_21          0.717058          0.007555          0.023142   \n",
            "\n",
            "                     col_contrib_dim7  col_contrib_dim8  col_contrib_dim9  \\\n",
            "TypeHabi_01                  0.403490          1.006833          7.202254   \n",
            "TypeHabi_02                  0.082620          0.500489          3.555989   \n",
            "TypeHabi_03                  0.035012          0.036049          0.322535   \n",
            "TypeHabi_04                 27.823599          0.468057          0.757283   \n",
            "GeoFaz_Scl_11                0.006786          0.001860          0.018207   \n",
            "...                               ...               ...               ...   \n",
            "Potentiel_prenom_17          0.004123          0.298411          0.930610   \n",
            "Potentiel_prenom_18          0.001361          0.104271          0.002821   \n",
            "Potentiel_prenom_19          0.002055          2.085061          0.670596   \n",
            "Potentiel_prenom_20          0.020607          0.426558          0.026837   \n",
            "Potentiel_prenom_21          0.000837          0.021683          0.210800   \n",
            "\n",
            "                     col_contrib_dim10  col_contrib_dim11  col_contrib_dim12  \\\n",
            "TypeHabi_01                   0.254673           0.035560           0.136240   \n",
            "TypeHabi_02                   0.123310           0.012749           0.065174   \n",
            "TypeHabi_03                   0.012171           0.000029           0.004991   \n",
            "TypeHabi_04                   0.000210           0.008511           0.008409   \n",
            "GeoFaz_Scl_11                 0.001988           0.005612           0.003331   \n",
            "...                                ...                ...                ...   \n",
            "Potentiel_prenom_17           0.312126           0.118018           8.421355   \n",
            "Potentiel_prenom_18           5.176207           1.626675           5.871691   \n",
            "Potentiel_prenom_19           0.153384           0.082018           0.635965   \n",
            "Potentiel_prenom_20           0.004477           0.004760           0.403602   \n",
            "Potentiel_prenom_21           0.000766           0.000423           0.041935   \n",
            "\n",
            "                     col_contrib_dim13  col_contrib_dim14  col_contrib_dim15  \\\n",
            "TypeHabi_01                   0.016902           0.091166           0.863679   \n",
            "TypeHabi_02                   0.015058           0.006566           0.209493   \n",
            "TypeHabi_03                   0.009424           0.060478           0.052953   \n",
            "TypeHabi_04                   0.011064           0.005744           0.030035   \n",
            "GeoFaz_Scl_11                 0.057961           0.410986           2.241108   \n",
            "...                                ...                ...                ...   \n",
            "Potentiel_prenom_17           0.000533           0.020332           0.000009   \n",
            "Potentiel_prenom_18           4.802443           0.020520           0.000123   \n",
            "Potentiel_prenom_19           0.012954           4.057449           0.631269   \n",
            "Potentiel_prenom_20           6.464845           0.361877           0.012008   \n",
            "Potentiel_prenom_21           0.017518           0.006264           0.003091   \n",
            "\n",
            "                     col_cos2_dim1  col_cos2_dim2  col_cos2_dim3  \\\n",
            "TypeHabi_01               0.033277   1.251472e-02       0.015444   \n",
            "TypeHabi_02               0.038050   1.015509e-02       0.015583   \n",
            "TypeHabi_03               0.002408   1.013913e-07       0.000291   \n",
            "TypeHabi_04               0.000002   3.849343e-04       0.002802   \n",
            "GeoFaz_Scl_11             0.000585   6.713849e-07       0.000258   \n",
            "...                            ...            ...            ...   \n",
            "Potentiel_prenom_17       0.126418   1.998576e-04       0.057215   \n",
            "Potentiel_prenom_18       0.071218   9.034622e-05       0.003566   \n",
            "Potentiel_prenom_19       0.086937   1.468158e-05       0.037709   \n",
            "Potentiel_prenom_20       0.082173   3.207164e-05       0.098318   \n",
            "Potentiel_prenom_21       0.002502   9.392578e-01       0.006823   \n",
            "\n",
            "                     col_cos2_dim4  col_cos2_dim5  col_cos2_dim6  \\\n",
            "TypeHabi_01               0.020114       0.011971       0.014823   \n",
            "TypeHabi_02               0.017171       0.011540       0.016218   \n",
            "TypeHabi_03               0.000074       0.000125       0.000864   \n",
            "TypeHabi_04               0.000219       0.002300       0.000093   \n",
            "GeoFaz_Scl_11             0.000191       0.000448       0.000479   \n",
            "...                            ...            ...            ...   \n",
            "Potentiel_prenom_17       0.041813       0.044754       0.083794   \n",
            "Potentiel_prenom_18       0.011002       0.000094       0.000168   \n",
            "Potentiel_prenom_19       0.000262       0.033223       0.011840   \n",
            "Potentiel_prenom_20       0.000548       0.136291       0.011976   \n",
            "Potentiel_prenom_21       0.026075       0.000251       0.000724   \n",
            "\n",
            "                     col_cos2_dim7  col_cos2_dim8  col_cos2_dim9  \\\n",
            "TypeHabi_01               0.014368       0.034655       0.241375   \n",
            "TypeHabi_02               0.006399       0.037470       0.259212   \n",
            "TypeHabi_03               0.001077       0.001071       0.009333   \n",
            "TypeHabi_04               0.757756       0.012321       0.019410   \n",
            "GeoFaz_Scl_11             0.000192       0.000051       0.000484   \n",
            "...                            ...            ...            ...   \n",
            "Potentiel_prenom_17       0.000121       0.008448       0.025651   \n",
            "Potentiel_prenom_18       0.000039       0.002891       0.000076   \n",
            "Potentiel_prenom_19       0.000059       0.057917       0.018137   \n",
            "Potentiel_prenom_20       0.000596       0.011928       0.000731   \n",
            "Potentiel_prenom_21       0.000023       0.000585       0.005541   \n",
            "\n",
            "                     col_cos2_dim10  col_cos2_dim11  col_cos2_dim12  \\\n",
            "TypeHabi_01                0.008037    1.071417e-03        0.003943   \n",
            "TypeHabi_02                0.008464    8.354728e-04        0.004103   \n",
            "TypeHabi_03                0.000332    7.571176e-07        0.000125   \n",
            "TypeHabi_04                0.000005    1.961087e-04        0.000186   \n",
            "GeoFaz_Scl_11              0.000050    1.342594e-04        0.000077   \n",
            "...                             ...             ...             ...   \n",
            "Potentiel_prenom_17        0.008101    2.924514e-03        0.200460   \n",
            "Potentiel_prenom_18        0.131584    3.947967e-02        0.136892   \n",
            "Potentiel_prenom_19        0.003906    1.994219e-03        0.014854   \n",
            "Potentiel_prenom_20        0.000115    1.165234e-04        0.009490   \n",
            "Potentiel_prenom_21        0.000019    9.989255e-06        0.000952   \n",
            "\n",
            "                     col_cos2_dim13  col_cos2_dim14  col_cos2_dim15  \n",
            "TypeHabi_01                0.000482        0.002435    2.261520e-02  \n",
            "TypeHabi_02                0.000934        0.000381    1.193131e-02  \n",
            "TypeHabi_03                0.000232        0.001395    1.197245e-03  \n",
            "TypeHabi_04                0.000241        0.000117    6.014670e-04  \n",
            "GeoFaz_Scl_11              0.001312        0.008715    4.659389e-02  \n",
            "...                             ...             ...             ...  \n",
            "Potentiel_prenom_17        0.000013        0.000447    2.005404e-07  \n",
            "Potentiel_prenom_18        0.110300        0.000441    2.599994e-06  \n",
            "Potentiel_prenom_19        0.000298        0.087448    1.333931e-02  \n",
            "Potentiel_prenom_20        0.149750        0.007852    2.554395e-04  \n",
            "Potentiel_prenom_21        0.000392        0.000131    6.349373e-05  \n",
            "\n",
            "[269 rows x 45 columns]\n"
          ],
          "name": "stdout"
        }
      ]
    },
    {
      "cell_type": "code",
      "metadata": {
        "colab": {
          "base_uri": "https://localhost:8080/"
        },
        "id": "irARzF0d8es8",
        "outputId": "b3a94907-275a-420d-ce05-9c17fd033c1f"
      },
      "source": [
        "#nombre var. actives\n",
        "p = data.shape[1]-1\n",
        "print(p)\n",
        "#calcul des fonctions de projection\n",
        "fproj = np.zeros(acm.col_coord_.shape)\n",
        "#pour chaque colonne\n",
        "for j in range(fproj.shape[1]):\n",
        " fproj[:,j] = acm.col_coord_[:,j]/(p*np.sqrt(acm.eig_[0,j]))\n",
        "#affichage fonction\n",
        "print(fproj)\n",
        "#affichage plus avenant des deux premiers facteurs\n",
        "print(pd.DataFrame(fproj,index=acm.col_labels_))\n"
      ],
      "execution_count": 19,
      "outputs": [
        {
          "output_type": "stream",
          "text": [
            "15\n",
            "[[ 3.59309123e-02 -2.39199727e-02  2.86685910e-02 ...  6.67892334e-03\n",
            "  -1.55116590e-02  4.77439712e-02]\n",
            " [-1.57060041e-02  8.80819897e-03 -1.17719599e-02 ... -3.80070006e-03\n",
            "   2.50967539e-03 -1.41761250e-02]\n",
            " [ 1.48997091e-02 -1.04952469e-04  6.06181284e-03 ...  7.14385023e-03\n",
            "   1.80968427e-02 -1.69337075e-02]\n",
            " ...\n",
            " [-1.36381364e-01  1.92394723e-03  1.05199151e-01 ...  1.23348091e-02\n",
            "   2.18303711e-01  8.61076405e-02]\n",
            " [-1.24910962e-01  2.67886812e-03  1.60024836e-01 ...  2.60465944e-01\n",
            "   6.16243623e-02  1.12254295e-02]\n",
            " [ 3.37097482e-02 -7.08975837e-01 -6.51930632e-02 ...  2.06036490e-02\n",
            "   1.23201915e-02 -8.65511137e-03]]\n",
            "                           0         1         2         3         4   \\\n",
            "TypeHabi_01          0.035931 -0.023920  0.028669 -0.033839  0.027299   \n",
            "TypeHabi_02         -0.015706  0.008808 -0.011772  0.012781 -0.010957   \n",
            "TypeHabi_03          0.014900 -0.000105  0.006062 -0.003174  0.004302   \n",
            "TypeHabi_04          0.006367 -0.087535  0.254786  0.073725  0.249701   \n",
            "GeoFaz_Scl_11       -0.013409 -0.000493  0.010426 -0.009280 -0.014874   \n",
            "...                       ...       ...       ...       ...       ...   \n",
            "Potentiel_prenom_17 -0.140937  0.006083 -0.111048 -0.098187  0.106224   \n",
            "Potentiel_prenom_18 -0.125609  0.004857 -0.032920 -0.059804  0.005783   \n",
            "Potentiel_prenom_19 -0.136381  0.001924  0.105199  0.009070 -0.106798   \n",
            "Potentiel_prenom_20 -0.124911  0.002679  0.160025 -0.012352 -0.203778   \n",
            "Potentiel_prenom_21  0.033710 -0.708976 -0.065193  0.131818 -0.013531   \n",
            "\n",
            "                           5         6         7         8         9   \\\n",
            "TypeHabi_01         -0.031316  0.032633 -0.051549  0.137872 -0.025926   \n",
            "TypeHabi_02          0.013390 -0.008903  0.021911 -0.058405  0.010876   \n",
            "TypeHabi_03         -0.011654  0.013769 -0.013972  0.041792 -0.008118   \n",
            "TypeHabi_04          0.051688 -4.944889 -0.641356  0.815791 -0.013590   \n",
            "GeoFaz_Scl_11       -0.015839  0.010616 -0.005558  0.017388  0.005746   \n",
            "...                       ...       ...       ...       ...       ...   \n",
            "Potentiel_prenom_17 -0.149838 -0.006020 -0.051219 -0.090450 -0.052383   \n",
            "Potentiel_prenom_18 -0.007969 -0.004065 -0.035579  0.005853 -0.250680   \n",
            "Potentiel_prenom_19  0.065725 -0.004912  0.156493  0.088749 -0.042445   \n",
            "Potentiel_prenom_20  0.062272  0.014706 -0.066905  0.016782  0.006854   \n",
            "Potentiel_prenom_21 -0.023681  0.004504  0.022922 -0.071471  0.004308   \n",
            "\n",
            "                           10        11        12        13        14  \n",
            "TypeHabi_01          0.009688 -0.018962  0.006679 -0.015512  0.047744  \n",
            "TypeHabi_02         -0.003497  0.007907 -0.003801  0.002510 -0.014176  \n",
            "TypeHabi_03          0.000397 -0.005199  0.007144  0.018097 -0.016934  \n",
            "TypeHabi_04         -0.086483 -0.085966  0.098605 -0.071048 -0.162466  \n",
            "GeoFaz_Scl_11       -0.009654 -0.007438 -0.031024  0.082612 -0.192913  \n",
            "...                       ...       ...       ...       ...       ...  \n",
            "Potentiel_prenom_17 -0.032210 -0.272090  0.002165  0.013369  0.000286  \n",
            "Potentiel_prenom_18  0.140528  0.266990 -0.241460  0.015783  0.001223  \n",
            "Potentiel_prenom_19 -0.031038 -0.086427  0.012335  0.218304  0.086108  \n",
            "Potentiel_prenom_20  0.007068  0.065080  0.260466  0.061624  0.011225  \n",
            "Potentiel_prenom_21  0.003200  0.031878  0.020604  0.012320 -0.008655  \n",
            "\n",
            "[269 rows x 15 columns]\n"
          ],
          "name": "stdout"
        }
      ]
    },
    {
      "cell_type": "code",
      "metadata": {
        "id": "TYbwi6XPom6o"
      },
      "source": [
        ""
      ],
      "execution_count": 19,
      "outputs": []
    },
    {
      "cell_type": "code",
      "metadata": {
        "id": "yk7314rJo8ss",
        "colab": {
          "base_uri": "https://localhost:8080/"
        },
        "outputId": "0371d62c-9e03-4b01-9ebb-838c1c2c4640"
      },
      "source": [
        "# affichafe des 10 premières lignes\n",
        "print(coord[:2,:])\n"
      ],
      "execution_count": 20,
      "outputs": [
        {
          "output_type": "stream",
          "text": [
            "[[ 0.90897938 -0.20511943  1.57517015 -0.30513616  1.53599785 -0.1200081\n",
            "  -4.73799717 -0.2425337   0.03879453 -0.15027436 -0.35578542 -0.44997252\n",
            "   0.01852557  0.69644359  0.32477728]\n",
            " [ 0.60676659  0.06940016  0.10698411 -0.15732134 -0.53774169 -0.50235749\n",
            "  -0.04348663 -0.00777334 -0.13122926  0.35807359  0.21733094 -0.09959889\n",
            "  -0.11285631 -0.35949989  0.14576174]]\n"
          ],
          "name": "stdout"
        }
      ]
    },
    {
      "cell_type": "code",
      "metadata": {
        "id": "XZXRt7tZSM2r",
        "colab": {
          "base_uri": "https://localhost:8080/"
        },
        "outputId": "50a4c853-6276-4488-8dca-badf712a383a"
      },
      "source": [
        "#print(data_sans_nan.shape)\n",
        "#print(coord_sans_nan.shape)\n",
        "#print(data_sans_nan.iloc[:,0])\n",
        "#dfff.isnull().sum(axis=0)\n",
        "data.info()"
      ],
      "execution_count": 21,
      "outputs": [
        {
          "output_type": "stream",
          "text": [
            "<class 'pandas.core.frame.DataFrame'>\n",
            "RangeIndex: 1219999 entries, 0 to 1219998\n",
            "Data columns (total 16 columns):\n",
            " #   Column              Non-Null Count    Dtype \n",
            "---  ------              --------------    ----- \n",
            " 0   IDENT               1219999 non-null  object\n",
            " 1   TypeHabi            1219999 non-null  object\n",
            " 2   GeoFaz_Scl          1219999 non-null  object\n",
            " 3   Anciennete          1219999 non-null  object\n",
            " 4   Logement_prix_m2    1219999 non-null  object\n",
            " 5   Mediane_RFR         1219999 non-null  object\n",
            " 6   Sexe                1219999 non-null  object\n",
            " 7   Prenom_Phase_scl_H  1219999 non-null  object\n",
            " 8   Prenom_Phase_scl_F  1219999 non-null  object\n",
            " 9   Age_H               1219999 non-null  object\n",
            " 10  Age_F               1219999 non-null  object\n",
            " 11  Affinite_1          1219999 non-null  object\n",
            " 12  Affinite_2          1219999 non-null  object\n",
            " 13  Prenom_effectif     1219999 non-null  object\n",
            " 14  Potentiel_prenom    1219999 non-null  object\n",
            " 15  Top_mon             127115 non-null   object\n",
            "dtypes: object(16)\n",
            "memory usage: 148.9+ MB\n"
          ],
          "name": "stdout"
        }
      ]
    },
    {
      "cell_type": "code",
      "metadata": {
        "id": "NpZCCbB4VJmr",
        "colab": {
          "base_uri": "https://localhost:8080/"
        },
        "outputId": "5a367827-c044-49df-9094-6c4f07346127"
      },
      "source": [
        "## ATTENTION\n",
        "# élimination des individus n'ayant pas de valeur pour la variable Top_mon\n",
        "data_sans_nan = data[(data.isnull()).sum(axis=1) == 0]\n",
        "coord_sans_nan = coord[(data.isnull()).sum(axis=1) == 0] # coordonnées\n",
        "\n",
        "#conversion du type de variable\n",
        "for i in range(1,data_sans_nan.shape[1]):\n",
        "    data_sans_nan.iloc[:,i]=data_sans_nan.iloc[:,i].astype(int) # essayer avec int64\n",
        "\n",
        "# création\n",
        "def creation_df_temp(data_sans_nan, coord_sans_nan):\n",
        "    dfff = pd.DataFrame()\n",
        "    dfff[\"IDENT\"] = data_sans_nan.iloc[:,0]\n",
        "    for i in range(coord_sans_nan.shape[1] ): #avant 10\n",
        "        dfff[str(i)]=coord_sans_nan[:,i]\n",
        "    dfff[\"Top_mon\"] = data_sans_nan.iloc[:,data_sans_nan.shape[1]-1].astype(int)\n",
        "    return dfff\n",
        "# stockage\n",
        "data_coord_nan = creation_df_temp(data_sans_nan, coord_sans_nan)\n",
        "data_coord_nan.info()\n",
        "#data_coord_nan = dfff \n",
        "\n",
        "# maintien des individus  n'ayant pas de valeur pour la variable Top_mon\n",
        "\n",
        "data_avec_nan = data\n",
        "coord_avec_nan = coord # coordonnées\n",
        "def creation_df_temp_2(data_sans_nan, coord_sans_nan):\n",
        "    dfff = pd.DataFrame()\n",
        "    dfff[\"IDENT\"] = data_sans_nan.iloc[:,0]\n",
        "    for i in range(coord_sans_nan.shape[1]): # avant 10\n",
        "        dfff[str(i)]=coord_sans_nan[:,i]\n",
        "\n",
        "    dfff[\"Top_mon\"] = data_sans_nan.iloc[:,data_sans_nan.shape[1]-1] #.astype(int)\n",
        "\n",
        "    dfff[\"Top_mon\"] = dfff[\"Top_mon\"].replace(1.0, '1')\n",
        "    dfff[\"Top_mon\"] = dfff[\"Top_mon\"].replace(2.0,'2')\n",
        "    #for j in range(data_sans_nan.shape[1]):\n",
        "    #    if dfff.iloc[j,10+1] == 2.0:\n",
        "    #        dfff.iloc[j,10+1] = 2\n",
        "    #    if dfff.iloc[j, 10+1] ==1.0:\n",
        "    #        dfff.iloc[j,10+1] =1\n",
        "\n",
        "    return dfff\n",
        "data_coord_avec_nan = creation_df_temp_2(data_avec_nan, coord_avec_nan)\n",
        "data_coord_avec_nan.info()\n",
        "\n"
      ],
      "execution_count": 22,
      "outputs": [
        {
          "output_type": "stream",
          "text": [
            "/usr/local/lib/python3.7/dist-packages/pandas/core/indexing.py:1781: SettingWithCopyWarning: \n",
            "A value is trying to be set on a copy of a slice from a DataFrame.\n",
            "Try using .loc[row_indexer,col_indexer] = value instead\n",
            "\n",
            "See the caveats in the documentation: https://pandas.pydata.org/pandas-docs/stable/user_guide/indexing.html#returning-a-view-versus-a-copy\n",
            "  self.obj[item_labels[indexer[info_axis]]] = value\n",
            "/usr/local/lib/python3.7/dist-packages/pandas/core/indexing.py:1743: SettingWithCopyWarning: \n",
            "A value is trying to be set on a copy of a slice from a DataFrame.\n",
            "Try using .loc[row_indexer,col_indexer] = value instead\n",
            "\n",
            "See the caveats in the documentation: https://pandas.pydata.org/pandas-docs/stable/user_guide/indexing.html#returning-a-view-versus-a-copy\n",
            "  isetter(ilocs[0], value)\n"
          ],
          "name": "stderr"
        },
        {
          "output_type": "stream",
          "text": [
            "<class 'pandas.core.frame.DataFrame'>\n",
            "Int64Index: 127115 entries, 0 to 127114\n",
            "Data columns (total 17 columns):\n",
            " #   Column   Non-Null Count   Dtype  \n",
            "---  ------   --------------   -----  \n",
            " 0   IDENT    127115 non-null  object \n",
            " 1   0        127115 non-null  float64\n",
            " 2   1        127115 non-null  float64\n",
            " 3   2        127115 non-null  float64\n",
            " 4   3        127115 non-null  float64\n",
            " 5   4        127115 non-null  float64\n",
            " 6   5        127115 non-null  float64\n",
            " 7   6        127115 non-null  float64\n",
            " 8   7        127115 non-null  float64\n",
            " 9   8        127115 non-null  float64\n",
            " 10  9        127115 non-null  float64\n",
            " 11  10       127115 non-null  float64\n",
            " 12  11       127115 non-null  float64\n",
            " 13  12       127115 non-null  float64\n",
            " 14  13       127115 non-null  float64\n",
            " 15  14       127115 non-null  float64\n",
            " 16  Top_mon  127115 non-null  int64  \n",
            "dtypes: float64(15), int64(1), object(1)\n",
            "memory usage: 17.5+ MB\n",
            "<class 'pandas.core.frame.DataFrame'>\n",
            "RangeIndex: 1219999 entries, 0 to 1219998\n",
            "Data columns (total 17 columns):\n",
            " #   Column   Non-Null Count    Dtype  \n",
            "---  ------   --------------    -----  \n",
            " 0   IDENT    1219999 non-null  object \n",
            " 1   0        1219999 non-null  float64\n",
            " 2   1        1219999 non-null  float64\n",
            " 3   2        1219999 non-null  float64\n",
            " 4   3        1219999 non-null  float64\n",
            " 5   4        1219999 non-null  float64\n",
            " 6   5        1219999 non-null  float64\n",
            " 7   6        1219999 non-null  float64\n",
            " 8   7        1219999 non-null  float64\n",
            " 9   8        1219999 non-null  float64\n",
            " 10  9        1219999 non-null  float64\n",
            " 11  10       1219999 non-null  float64\n",
            " 12  11       1219999 non-null  float64\n",
            " 13  12       1219999 non-null  float64\n",
            " 14  13       1219999 non-null  float64\n",
            " 15  14       1219999 non-null  float64\n",
            " 16  Top_mon  127115 non-null   object \n",
            "dtypes: float64(15), object(2)\n",
            "memory usage: 158.2+ MB\n"
          ],
          "name": "stdout"
        }
      ]
    },
    {
      "cell_type": "code",
      "metadata": {
        "id": "LJ4G93RJxEdo"
      },
      "source": [
        ""
      ],
      "execution_count": 22,
      "outputs": []
    },
    {
      "cell_type": "code",
      "metadata": {
        "id": "CuvxB6-qYNzJ",
        "colab": {
          "base_uri": "https://localhost:8080/"
        },
        "outputId": "dce970d4-f20b-4326-a8be-7a5b8ca395ce"
      },
      "source": [
        "from sklearn.discriminant_analysis import LinearDiscriminantAnalysis, QuadraticDiscriminantAnalysis\n",
        "\n",
        "from sklearn.metrics import f1_score, confusion_matrix, classification_report\n",
        "from sklearn.model_selection import train_test_split, learning_curve, GridSearchCV\n",
        "\n",
        "import imblearn\n",
        "from imblearn.combine import SMOTETomek\n",
        "from imblearn.under_sampling import TomekLinks\n",
        "from imblearn.over_sampling import SMOTE\n"
      ],
      "execution_count": 23,
      "outputs": [
        {
          "output_type": "stream",
          "text": [
            "/usr/local/lib/python3.7/dist-packages/sklearn/externals/six.py:31: FutureWarning: The module is deprecated in version 0.21 and will be removed in version 0.23 since we've dropped support for Python 2.7. Please rely on the official version of six (https://pypi.org/project/six/).\n",
            "  \"(https://pypi.org/project/six/).\", FutureWarning)\n",
            "/usr/local/lib/python3.7/dist-packages/sklearn/utils/deprecation.py:144: FutureWarning: The sklearn.neighbors.base module is  deprecated in version 0.22 and will be removed in version 0.24. The corresponding classes / functions should instead be imported from sklearn.neighbors. Anything that cannot be imported from sklearn.neighbors is now part of the private API.\n",
            "  warnings.warn(message, FutureWarning)\n"
          ],
          "name": "stderr"
        }
      ]
    },
    {
      "cell_type": "code",
      "metadata": {
        "id": "7ksFu0t_cirJ"
      },
      "source": [
        "#data_coord_nan.shape\n",
        "#train_X_s.shape"
      ],
      "execution_count": 24,
      "outputs": []
    },
    {
      "cell_type": "code",
      "metadata": {
        "id": "S0jwerFqbXh-"
      },
      "source": [
        "#data_non_corr = elimination_val_corr(data)\n",
        "#nb_var = data_non_corr.shape[1] - 1\n",
        "nb_var = data_coord_nan.shape[1] - 1\n",
        "\n",
        "train_set, test_set = train_test_split(data_coord_nan, test_size = 0.2, random_state=0) # , stratify =data_coord_nan[\"IFI+\"] )\n",
        "\n",
        "train_X_s = (train_set.iloc[:,1:nb_var]).to_numpy()\n",
        "train_Y_s = np.asanyarray(train_set.iloc[:,nb_var])\n",
        "\n",
        "test_X_s = (test_set.iloc[:,1:nb_var]).to_numpy()\n",
        "test_Y_s = np.asanyarray(test_set.iloc[:,nb_var])\n",
        "\n",
        "# comme les résulats sont en overfitting :\n",
        "# Résultat du traitement sur le train set (under-sampling et over-sampling)\n",
        "#abc_test = pd.read_csv(\"/content/drive/MyDrive/spad_score_method_1/spad_projection_FDFTOT21/sans_val_corr_spad_under_over_sampling.txt\", delim_whitespace=\"\\t\", header = None, low_memory=False, dtype=\"Int64\" ) #, dtype='Int64')\n",
        "#abc_np = abc_test.to_numpy(dtype=\"Int64\")\n",
        "\n",
        "#X_resampled = abc_np[:,:-1]\n",
        "#y_resampled = abc_np[:, abc_np.shape[1] -1 ]\n"
      ],
      "execution_count": 25,
      "outputs": []
    },
    {
      "cell_type": "code",
      "metadata": {
        "colab": {
          "base_uri": "https://localhost:8080/",
          "height": 231
        },
        "id": "iMyvFOxwXgcu",
        "outputId": "fefd15b3-2b4b-4d8e-bef1-85844b8bf48f"
      },
      "source": [
        "\n",
        "# dimension du train set\n",
        "print(\"Sans aucun traitement sur le train set : \" , np.unique(train_Y_s, return_counts=True))\n",
        "\n",
        "# diminution des données\n",
        "t2 = TomekLinks()\n",
        "X_resampled, y_resampled = t2.fit_resample(train_X_s[:,:nb_var] , train_Y_s )\n",
        "print(\"Après under-sampling : \", np.unique(y_resampled, return_counts=True ))\n",
        "\n",
        "# augmentation des données\n",
        "tl = SMOTE()\n",
        "X_resampled, y_resampled = tl.fit_resample(X_resampled, y_resampled )\n",
        "print(\"Après over-smapling : \" , np.unique(y_resampled, return_counts=True ))\n",
        "\n",
        "'''\n",
        "# enregistrement du nouveau train set car le traitement du under-sampling prendre du temps \n",
        "pd.DataFrame(np.concatenate((X_resampled, y_resampled.reshape((y_resampled.shape[0],1)) ),\n",
        "                            axis=1)).to_csv(\"/content/drive/MyDrive/spad_score_method_1/spad_projection_FDFTOT21/val_all_spad_under_over_sampling.txt\",\n",
        "                                            sep=\" \", index =False , header = False )\n",
        "'''"
      ],
      "execution_count": 26,
      "outputs": [
        {
          "output_type": "stream",
          "text": [
            "Sans aucun traitement sur le train set :  (array([1, 2]), array([18777, 82915]))\n"
          ],
          "name": "stdout"
        },
        {
          "output_type": "stream",
          "text": [
            "/usr/local/lib/python3.7/dist-packages/sklearn/utils/deprecation.py:87: FutureWarning: Function safe_indexing is deprecated; safe_indexing is deprecated in version 0.22 and will be removed in version 0.24.\n",
            "  warnings.warn(msg, category=FutureWarning)\n",
            "/usr/local/lib/python3.7/dist-packages/sklearn/utils/deprecation.py:87: FutureWarning: Function safe_indexing is deprecated; safe_indexing is deprecated in version 0.22 and will be removed in version 0.24.\n",
            "  warnings.warn(msg, category=FutureWarning)\n"
          ],
          "name": "stderr"
        },
        {
          "output_type": "stream",
          "text": [
            "Après under-sampling :  (array([1, 2]), array([18777, 78378]))\n",
            "Après over-smapling :  (array([1, 2]), array([78378, 78378]))\n"
          ],
          "name": "stdout"
        },
        {
          "output_type": "execute_result",
          "data": {
            "application/vnd.google.colaboratory.intrinsic+json": {
              "type": "string"
            },
            "text/plain": [
              "'\\n# enregistrement du nouveau train set car le traitement du under-sampling prendre du temps \\npd.DataFrame(np.concatenate((X_resampled, y_resampled.reshape((y_resampled.shape[0],1)) ),\\n                            axis=1)).to_csv(\"/content/drive/MyDrive/spad_score_method_1/spad_projection_FDFTOT21/val_all_spad_under_over_sampling.txt\",\\n                                            sep=\" \", index =False , header = False )\\n'"
            ]
          },
          "metadata": {
            "tags": []
          },
          "execution_count": 26
        }
      ]
    },
    {
      "cell_type": "code",
      "metadata": {
        "colab": {
          "base_uri": "https://localhost:8080/"
        },
        "id": "tLasso34-MXx",
        "outputId": "8cdcd1d8-5340-465d-8747-b4cbf6303a07"
      },
      "source": [
        "model_LinearDiscriminantAnalysis = LinearDiscriminantAnalysis()\n",
        "param = {\"solver\" : [\"svd\",\"lsqr\", \"eigen\"], \"tol\" : [0.00001,0.0001,0.001,0.01]}\n",
        "\n",
        "grid_LinearDiscriminantAnalysis = GridSearchCV(model_LinearDiscriminantAnalysis, param_grid= param, cv = 4, scoring = \"f1\")\n",
        "resultat_grid_LinearDiscriminantAnalysis = grid_LinearDiscriminantAnalysis.fit(X_resampled, y_resampled)\n",
        "resultat_grid_LinearDiscriminantAnalysis.best_params_ "
      ],
      "execution_count": 27,
      "outputs": [
        {
          "output_type": "execute_result",
          "data": {
            "text/plain": [
              "{'solver': 'svd', 'tol': 1e-05}"
            ]
          },
          "metadata": {
            "tags": []
          },
          "execution_count": 27
        }
      ]
    },
    {
      "cell_type": "code",
      "metadata": {
        "colab": {
          "base_uri": "https://localhost:8080/"
        },
        "id": "mtwy_DkreMi8",
        "outputId": "b624b5c8-0b7e-40ee-ac13-95bd5e18cdd2"
      },
      "source": [
        "model_17 = LinearDiscriminantAnalysis()  # la valeur par defaut de la tolérence donne le même résultat que tol=1e-5\n",
        "evaluation(model_17, X_resampled, y_resampled, test_X_s, test_Y_s, scoring = \"f1\", plot=False)"
      ],
      "execution_count": 28,
      "outputs": [
        {
          "output_type": "stream",
          "text": [
            "test set : \n",
            "[[ 2648  2031]\n",
            " [ 8004 12740]]\n",
            "              precision    recall  f1-score   support\n",
            "\n",
            "           1       0.25      0.57      0.35      4679\n",
            "           2       0.86      0.61      0.72     20744\n",
            "\n",
            "    accuracy                           0.61     25423\n",
            "   macro avg       0.56      0.59      0.53     25423\n",
            "weighted avg       0.75      0.61      0.65     25423\n",
            "\n",
            "train set : \n",
            "[[43736 34642]\n",
            " [29614 48764]]\n",
            "              precision    recall  f1-score   support\n",
            "\n",
            "           1       0.60      0.56      0.58     78378\n",
            "           2       0.58      0.62      0.60     78378\n",
            "\n",
            "    accuracy                           0.59    156756\n",
            "   macro avg       0.59      0.59      0.59    156756\n",
            "weighted avg       0.59      0.59      0.59    156756\n",
            "\n",
            "GRAPHIQUE NON DEMANDE\n"
          ],
          "name": "stdout"
        }
      ]
    },
    {
      "cell_type": "code",
      "metadata": {
        "id": "YOVl16Po611_"
      },
      "source": [
        ""
      ],
      "execution_count": 28,
      "outputs": []
    },
    {
      "cell_type": "code",
      "metadata": {
        "colab": {
          "base_uri": "https://localhost:8080/"
        },
        "id": "aiN9NNXgjtkO",
        "outputId": "f3606e65-885c-4bad-a80a-c0a23e08aea6"
      },
      "source": [
        "#classe pour l'analyse discriminante\n",
        "\n",
        "#instanciation\n",
        "adl = LinearDiscriminantAnalysis()\n",
        "#apprentissage\n",
        "adl.fit(coord_sans_nan,data_sans_nan[\"Top_mon\"])"
      ],
      "execution_count": 29,
      "outputs": [
        {
          "output_type": "execute_result",
          "data": {
            "text/plain": [
              "LinearDiscriminantAnalysis(n_components=None, priors=None, shrinkage=None,\n",
              "                           solver='svd', store_covariance=False, tol=0.0001)"
            ]
          },
          "metadata": {
            "tags": []
          },
          "execution_count": 29
        }
      ]
    },
    {
      "cell_type": "code",
      "metadata": {
        "id": "ixzqkiWMxz_6",
        "colab": {
          "base_uri": "https://localhost:8080/",
          "height": 419
        },
        "outputId": "0f6b0110-83e6-41c0-a8e6-865a34b8fdcb"
      },
      "source": [
        "#reconstitution de la fonction sur indicatrices (multiplication)\n",
        "fpValues = np.dot(fproj,np.transpose(adl.coef_))\n",
        "#print(fpValues)\n",
        "#affichage plus joli\n",
        "pd.DataFrame(fpValues,index=acm.col_labels_)"
      ],
      "execution_count": 30,
      "outputs": [
        {
          "output_type": "execute_result",
          "data": {
            "text/html": [
              "<div>\n",
              "<style scoped>\n",
              "    .dataframe tbody tr th:only-of-type {\n",
              "        vertical-align: middle;\n",
              "    }\n",
              "\n",
              "    .dataframe tbody tr th {\n",
              "        vertical-align: top;\n",
              "    }\n",
              "\n",
              "    .dataframe thead th {\n",
              "        text-align: right;\n",
              "    }\n",
              "</style>\n",
              "<table border=\"1\" class=\"dataframe\">\n",
              "  <thead>\n",
              "    <tr style=\"text-align: right;\">\n",
              "      <th></th>\n",
              "      <th>0</th>\n",
              "    </tr>\n",
              "  </thead>\n",
              "  <tbody>\n",
              "    <tr>\n",
              "      <th>TypeHabi_01</th>\n",
              "      <td>-0.142084</td>\n",
              "    </tr>\n",
              "    <tr>\n",
              "      <th>TypeHabi_02</th>\n",
              "      <td>0.058531</td>\n",
              "    </tr>\n",
              "    <tr>\n",
              "      <th>TypeHabi_03</th>\n",
              "      <td>-0.036829</td>\n",
              "    </tr>\n",
              "    <tr>\n",
              "      <th>TypeHabi_04</th>\n",
              "      <td>-0.333502</td>\n",
              "    </tr>\n",
              "    <tr>\n",
              "      <th>GeoFaz_Scl_11</th>\n",
              "      <td>-0.022825</td>\n",
              "    </tr>\n",
              "    <tr>\n",
              "      <th>...</th>\n",
              "      <td>...</td>\n",
              "    </tr>\n",
              "    <tr>\n",
              "      <th>Potentiel_prenom_17</th>\n",
              "      <td>-0.039109</td>\n",
              "    </tr>\n",
              "    <tr>\n",
              "      <th>Potentiel_prenom_18</th>\n",
              "      <td>-0.067851</td>\n",
              "    </tr>\n",
              "    <tr>\n",
              "      <th>Potentiel_prenom_19</th>\n",
              "      <td>-0.072167</td>\n",
              "    </tr>\n",
              "    <tr>\n",
              "      <th>Potentiel_prenom_20</th>\n",
              "      <td>-0.081184</td>\n",
              "    </tr>\n",
              "    <tr>\n",
              "      <th>Potentiel_prenom_21</th>\n",
              "      <td>-0.118297</td>\n",
              "    </tr>\n",
              "  </tbody>\n",
              "</table>\n",
              "<p>269 rows × 1 columns</p>\n",
              "</div>"
            ],
            "text/plain": [
              "                            0\n",
              "TypeHabi_01         -0.142084\n",
              "TypeHabi_02          0.058531\n",
              "TypeHabi_03         -0.036829\n",
              "TypeHabi_04         -0.333502\n",
              "GeoFaz_Scl_11       -0.022825\n",
              "...                       ...\n",
              "Potentiel_prenom_17 -0.039109\n",
              "Potentiel_prenom_18 -0.067851\n",
              "Potentiel_prenom_19 -0.072167\n",
              "Potentiel_prenom_20 -0.081184\n",
              "Potentiel_prenom_21 -0.118297\n",
              "\n",
              "[269 rows x 1 columns]"
            ]
          },
          "metadata": {
            "tags": []
          },
          "execution_count": 30
        }
      ]
    },
    {
      "cell_type": "code",
      "metadata": {
        "id": "Hrn05BAzx0CO",
        "colab": {
          "base_uri": "https://localhost:8080/"
        },
        "outputId": "75e9685a-6803-477e-8a04-46313dcfc45a"
      },
      "source": [
        "#data_coord_nan\n",
        "# TRAIN SET TEST SET\n",
        "vingtiles(model =adl, data_orig = data_coord_nan, affichage=True,\n",
        "            save=False, path = \"/content/drive/MyDrive/spad_score_method_1/spad_projection_FDFTOT21/Fichier_excel_vingtiles/train_test_ADL.xlsx\")"
      ],
      "execution_count": 31,
      "outputs": [
        {
          "output_type": "stream",
          "text": [
            "                     IDENT     PROBA\n",
            "102867  001028680010415933  0.065663\n",
            "14333   000143340010258123  0.067659\n",
            "107833  001078340010505522  0.069325\n",
            "29213   000292140010339331  0.069603\n",
            "29214   000292150010339331  0.069603\n",
            "...                    ...       ...\n",
            "112466  001124670010522219  0.630769\n",
            "99937   000999380010413455  0.630769\n",
            "6983    000069840010197221  0.630769\n",
            "80877   000808780010395959  0.630769\n",
            "108290  001082910010515442  0.630769\n",
            "\n",
            "[127115 rows x 2 columns]\n",
            "0.630769    50\n",
            "0.580891    33\n",
            "0.386826    33\n",
            "0.428201    26\n",
            "0.481677    23\n",
            "            ..\n",
            "0.229852     1\n",
            "0.126826     1\n",
            "0.122635     1\n",
            "0.128450     1\n",
            "0.110780     1\n",
            "Name: PROBA, Length: 96552, dtype: int64\n",
            "                   PROBA\n",
            "102867  (0.0647, 0.0974]\n",
            "14333   (0.0647, 0.0974]\n",
            "107833  (0.0647, 0.0974]\n",
            "29213   (0.0647, 0.0974]\n",
            "29214   (0.0647, 0.0974]\n",
            "...                  ...\n",
            "112466    (0.348, 0.631]\n",
            "99937     (0.348, 0.631]\n",
            "6983      (0.348, 0.631]\n",
            "80877     (0.348, 0.631]\n",
            "108290    (0.348, 0.631]\n",
            "\n",
            "[127115 rows x 1 columns]\n",
            "Top_mon              1     2  TOTAL\n",
            "TRANCHES                           \n",
            "(0.0647, 0.0974]   653  5704   6357\n",
            "(0.0974, 0.107]    733  5622   6355\n",
            "(0.107, 0.115]     788  5569   6357\n",
            "(0.115, 0.123]     763  5591   6354\n",
            "(0.123, 0.13]      883  5473   6356\n",
            "(0.13, 0.138]      886  5470   6356\n",
            "(0.138, 0.145]     900  5455   6355\n",
            "(0.145, 0.153]     925  5431   6356\n",
            "(0.153, 0.16]      984  5373   6357\n",
            "(0.16, 0.166]     1012  5344   6356\n",
            "(0.166, 0.173]    1076  5278   6354\n",
            "(0.173, 0.181]    1149  5208   6357\n",
            "(0.181, 0.19]     1149  5207   6356\n",
            "(0.19, 0.2]       1271  5083   6354\n",
            "(0.2, 0.212]      1283  5074   6357\n",
            "(0.212, 0.227]    1379  4977   6356\n",
            "(0.227, 0.248]    1486  4868   6354\n",
            "(0.248, 0.281]    1655  4701   6356\n",
            "(0.281, 0.348]    1918  4438   6356\n",
            "(0.348, 0.631]    2563  3793   6356\n"
          ],
          "name": "stdout"
        }
      ]
    },
    {
      "cell_type": "code",
      "metadata": {
        "id": "bzRRySpGoafi",
        "colab": {
          "base_uri": "https://localhost:8080/"
        },
        "outputId": "16b71ab8-2dfa-4a29-e8a1-1e5512dcc4d1"
      },
      "source": [
        "# INDIVIDUS SANS TARGET\n",
        "vingtiles_ind_sans_target(model = adl, data_orig= data_coord_avec_nan[(data_coord_avec_nan.isnull()).sum(axis=1) != 0], affichage=True,\n",
        "            save=False, path = \"/content/drive/MyDrive/spad_score_method_1/spad_projection_FDFTOT21/Fichier_excel_vingtiles/ind_sans_target_ADL.xlsx\")"
      ],
      "execution_count": 32,
      "outputs": [
        {
          "output_type": "stream",
          "text": [
            "                      IDENT     PROBA\n",
            "1115845  009887310370005194  0.062451\n",
            "457551   003304370140002616  0.062832\n",
            "333411   002062970120003566  0.062956\n",
            "712578   005854640270017537  0.064069\n",
            "1040345  009132310360089694  0.064708\n",
            "...                     ...       ...\n",
            "665837   005387230250010802  0.630769\n",
            "1155940  010288260370045289  0.630769\n",
            "1145278  010181640370034627  0.630769\n",
            "1135162  010080480370024511  0.630769\n",
            "657368   005302540250002333  0.630769\n",
            "\n",
            "[1092884 rows x 2 columns]\n",
            "0.428201    303\n",
            "0.606720    229\n",
            "0.531358    223\n",
            "0.580891    222\n",
            "0.539953    214\n",
            "           ... \n",
            "0.201271      1\n",
            "0.185264      1\n",
            "0.101039      1\n",
            "0.237376      1\n",
            "0.150889      1\n",
            "Name: PROBA, Length: 838236, dtype: int64\n",
            "                   PROBA\n",
            "1115845  (0.0615, 0.095]\n",
            "457551   (0.0615, 0.095]\n",
            "333411   (0.0615, 0.095]\n",
            "712578   (0.0615, 0.095]\n",
            "1040345  (0.0615, 0.095]\n",
            "...                  ...\n",
            "665837    (0.362, 0.631]\n",
            "1155940   (0.362, 0.631]\n",
            "1145278   (0.362, 0.631]\n",
            "1135162   (0.362, 0.631]\n",
            "657368    (0.362, 0.631]\n",
            "\n",
            "[1092884 rows x 1 columns]\n",
            "                      IDENT     PROBA         TRANCHES\n",
            "1115845  009887310370005194  0.062451  (0.0615, 0.095]\n",
            "457551   003304370140002616  0.062832  (0.0615, 0.095]\n",
            "333411   002062970120003566  0.062956  (0.0615, 0.095]\n",
            "712578   005854640270017537  0.064069  (0.0615, 0.095]\n",
            "1040345  009132310360089694  0.064708  (0.0615, 0.095]\n",
            "...                     ...       ...              ...\n",
            "665837   005387230250010802  0.630769   (0.362, 0.631]\n",
            "1155940  010288260370045289  0.630769   (0.362, 0.631]\n",
            "1145278  010181640370034627  0.630769   (0.362, 0.631]\n",
            "1135162  010080480370024511  0.630769   (0.362, 0.631]\n",
            "657368   005302540250002333  0.630769   (0.362, 0.631]\n",
            "\n",
            "[1092884 rows x 3 columns]\n",
            "(0.203, 0.217]     54643\n",
            "(0.362, 0.631]     54643\n",
            "(0.095, 0.104]     54644\n",
            "(0.126, 0.134]     54644\n",
            "(0.234, 0.257]     54644\n",
            "(0.119, 0.126]     54644\n",
            "(0.142, 0.15]      54644\n",
            "(0.15, 0.157]      54644\n",
            "(0.257, 0.291]     54644\n",
            "(0.173, 0.182]     54644\n",
            "(0.182, 0.192]     54644\n",
            "(0.217, 0.234]     54644\n",
            "(0.165, 0.173]     54644\n",
            "(0.104, 0.112]     54644\n",
            "(0.157, 0.165]     54644\n",
            "(0.112, 0.119]     54644\n",
            "(0.134, 0.142]     54645\n",
            "(0.0615, 0.095]    54645\n",
            "(0.192, 0.203]     54646\n",
            "(0.291, 0.362]     54646\n",
            "Name: TRANCHES, dtype: int64\n",
            "           TRANCHES COUNTS\n",
            "0   (0.0615, 0.095]  54645\n",
            "1    (0.095, 0.104]  54644\n",
            "2    (0.104, 0.112]  54644\n",
            "3    (0.112, 0.119]  54644\n",
            "4    (0.119, 0.126]  54644\n",
            "5    (0.126, 0.134]  54644\n",
            "6    (0.134, 0.142]  54645\n",
            "7     (0.142, 0.15]  54644\n",
            "8     (0.15, 0.157]  54644\n",
            "9    (0.157, 0.165]  54644\n",
            "10   (0.165, 0.173]  54644\n",
            "11   (0.173, 0.182]  54644\n",
            "12   (0.182, 0.192]  54644\n",
            "13   (0.192, 0.203]  54646\n",
            "14   (0.203, 0.217]  54643\n",
            "15   (0.217, 0.234]  54644\n",
            "16   (0.234, 0.257]  54644\n",
            "17   (0.257, 0.291]  54644\n",
            "18   (0.291, 0.362]  54646\n",
            "19   (0.362, 0.631]  54643\n"
          ],
          "name": "stdout"
        }
      ]
    },
    {
      "cell_type": "code",
      "metadata": {
        "id": "Tgxw6vZHoah_"
      },
      "source": [
        ""
      ],
      "execution_count": 32,
      "outputs": []
    },
    {
      "cell_type": "code",
      "metadata": {
        "id": "jaVuYmyQoakO"
      },
      "source": [
        ""
      ],
      "execution_count": 32,
      "outputs": []
    },
    {
      "cell_type": "code",
      "metadata": {
        "id": "td8tREtarT8x",
        "colab": {
          "base_uri": "https://localhost:8080/"
        },
        "outputId": "fc93dd41-f85f-4af5-80a0-07c37ffbfa61"
      },
      "source": [
        "model_ADQ = QuadraticDiscriminantAnalysis()\n",
        "evaluation(model_ADQ, X_resampled, y_resampled, test_X_s, test_Y_s, scoring = \"f1\", plot=False)\n"
      ],
      "execution_count": 33,
      "outputs": [
        {
          "output_type": "stream",
          "text": [
            "test set : \n",
            "[[ 1561  3118]\n",
            " [ 4000 16744]]\n",
            "              precision    recall  f1-score   support\n",
            "\n",
            "           1       0.28      0.33      0.30      4679\n",
            "           2       0.84      0.81      0.82     20744\n",
            "\n",
            "    accuracy                           0.72     25423\n",
            "   macro avg       0.56      0.57      0.56     25423\n",
            "weighted avg       0.74      0.72      0.73     25423\n",
            "\n",
            "train set : \n",
            "[[25608 52770]\n",
            " [14683 63695]]\n",
            "              precision    recall  f1-score   support\n",
            "\n",
            "           1       0.64      0.33      0.43     78378\n",
            "           2       0.55      0.81      0.65     78378\n",
            "\n",
            "    accuracy                           0.57    156756\n",
            "   macro avg       0.59      0.57      0.54    156756\n",
            "weighted avg       0.59      0.57      0.54    156756\n",
            "\n",
            "GRAPHIQUE NON DEMANDE\n"
          ],
          "name": "stdout"
        }
      ]
    },
    {
      "cell_type": "code",
      "metadata": {
        "id": "ncpYOwNVqtX6",
        "colab": {
          "base_uri": "https://localhost:8080/"
        },
        "outputId": "af9484fa-c2cc-40d4-9a3d-21520c2fb5eb"
      },
      "source": [
        "#data_coord_nan\n",
        "# TRAIN SET TEST SET\n",
        "vingtiles(model =model_ADQ, data_orig = data_coord_nan, affichage=True,\n",
        "            save=False, path = \"/content/drive/MyDrive/spad_score_method_1/spad_projection_FDFTOT21/Fichier_excel_vingtiles/train_test_ADL.xlsx\")"
      ],
      "execution_count": 35,
      "outputs": [
        {
          "output_type": "stream",
          "text": [
            "                     IDENT     PROBA\n",
            "13793   000137940010257726  0.011439\n",
            "78876   000788770010394181  0.012201\n",
            "33209   000332100010343438  0.012264\n",
            "10870   000108710010255388  0.012347\n",
            "31930   000319310010341998  0.012459\n",
            "...                    ...       ...\n",
            "112730  001127310010522857  1.000000\n",
            "56597   000565980010368943  1.000000\n",
            "91186   000911870010404532  1.000000\n",
            "121821  001218220010533437  1.000000\n",
            "54564   000545650010367356  1.000000\n",
            "\n",
            "[127115 rows x 2 columns]\n",
            "1.000000    107\n",
            "1.000000     50\n",
            "1.000000     33\n",
            "0.959994     33\n",
            "0.994878     26\n",
            "           ... \n",
            "0.030638      1\n",
            "0.775405      1\n",
            "0.211847      1\n",
            "0.779543      1\n",
            "0.105906      1\n",
            "Name: PROBA, Length: 96455, dtype: int64\n",
            "                   PROBA\n",
            "13793   (0.0104, 0.0632]\n",
            "78876   (0.0104, 0.0632]\n",
            "33209   (0.0104, 0.0632]\n",
            "10870   (0.0104, 0.0632]\n",
            "31930   (0.0104, 0.0632]\n",
            "...                  ...\n",
            "112730      (0.979, 1.0]\n",
            "56597       (0.979, 1.0]\n",
            "91186       (0.979, 1.0]\n",
            "121821      (0.979, 1.0]\n",
            "54564       (0.979, 1.0]\n",
            "\n",
            "[127115 rows x 1 columns]\n",
            "Top_mon              1     2  TOTAL\n",
            "TRANCHES                           \n",
            "(0.0104, 0.0632]   712  5644   6356\n",
            "(0.0632, 0.0824]   814  5543   6357\n",
            "(0.0824, 0.112]    780  5575   6355\n",
            "(0.112, 0.14]      810  5545   6355\n",
            "(0.14, 0.162]      863  5493   6356\n",
            "(0.162, 0.178]     890  5467   6357\n",
            "(0.178, 0.193]     966  5388   6354\n",
            "(0.193, 0.209]    1001  5355   6356\n",
            "(0.209, 0.228]     987  5370   6357\n",
            "(0.228, 0.248]    1035  5321   6356\n",
            "(0.248, 0.279]    1042  5312   6354\n",
            "(0.279, 0.313]    1134  5222   6356\n",
            "(0.313, 0.349]    1193  5163   6356\n",
            "(0.349, 0.393]    1232  5123   6355\n",
            "(0.393, 0.447]    1349  5008   6357\n",
            "(0.447, 0.523]    1418  4937   6355\n",
            "(0.523, 0.626]    1490  4865   6355\n",
            "(0.626, 0.771]    1630  4726   6356\n",
            "(0.771, 0.979]    1899  4457   6356\n",
            "(0.979, 1.0]      2211  4145   6356\n"
          ],
          "name": "stdout"
        }
      ]
    },
    {
      "cell_type": "code",
      "metadata": {
        "id": "m_GYkyDqqtaA"
      },
      "source": [
        ""
      ],
      "execution_count": null,
      "outputs": []
    },
    {
      "cell_type": "code",
      "metadata": {
        "id": "OgVGcJpOh83C"
      },
      "source": [
        ""
      ],
      "execution_count": null,
      "outputs": []
    },
    {
      "cell_type": "code",
      "metadata": {
        "id": "-uG3-b8GPx1r"
      },
      "source": [
        "#################################################################################\n",
        "#################################################################################"
      ],
      "execution_count": null,
      "outputs": []
    },
    {
      "cell_type": "code",
      "metadata": {
        "id": "CfLeYRkTPx4H"
      },
      "source": [
        ""
      ],
      "execution_count": null,
      "outputs": []
    },
    {
      "cell_type": "code",
      "metadata": {
        "id": "e3EFAWmGPx62"
      },
      "source": [
        ""
      ],
      "execution_count": null,
      "outputs": []
    },
    {
      "cell_type": "code",
      "metadata": {
        "id": "IZcwARe4QFf2"
      },
      "source": [
        ""
      ],
      "execution_count": null,
      "outputs": []
    },
    {
      "cell_type": "code",
      "metadata": {
        "id": "0csF8LqVx0Ee"
      },
      "source": [
        "\n",
        "'''\n",
        "from sklearn.preprocessing import KBinsDiscretizer\n",
        "# discrétisation des variables continues (les valeurs manquantes doivent être gérées en amont)\n",
        " c'est qui est bien avec KBinsDiscretizer est qu'il s'adapte aux éventuelles partitions au\n",
        "sein d'une variable. En d'autres termes, si la méthode n'arrive pas à partitionner les individus\n",
        "en k partitions, alors elle esssayera de les partitionner en k-1 partitions, et ainsi de suite, \n",
        "jusqu'à atteindre 1 partition (il faut faire attention avec les variables ayant uniquement \n",
        "une modalité). Lorsque la méthode rencontre ce cas, elle affichera \"UserWaring\" pour informer \n",
        "l'utilisateur de celui-ci ainsi que les variables concernées. Ceci sera utile plus tard.\n",
        "\n",
        "\n",
        "method_discre = KBinsDiscretizer(n_bins=4, encode='ordinal', strategy='quantile') \n",
        "method_discre.fit(data.iloc[:,1:23])\n",
        "resultat_discre = method_discre.transform(data.iloc[:,1:23])\n",
        "resultat_discre\n",
        "\n",
        "# construction du data frame après discrétisation\n",
        "data2_index = data.iloc[:,0]\n",
        "df_resultat_discre = pd.DataFrame(resultat_discre,columns=colonnes[1:23], dtype=int )\n",
        "data_final = pd.concat([data2_index, df_resultat_discre,data[\"IFI+\"]], axis=1 ) #data2_index\n",
        "data_final\n",
        "\n",
        "#nombre_mod(data_final)\n",
        "#nombre_mod(data)\n",
        "\n",
        "# description des modalités d'une variable\n",
        "for k in range(1,data_final.shape[1]):\n",
        "    print(data_final.iloc[:,k].value_counts(dropna=True)); print(\"=\"*50)\n",
        "\n",
        "# description des modalités d'une variable\n",
        "for k in range(1,data.shape[1]):\n",
        "    print(data.iloc[:,k].value_counts(dropna=True)); print(\"=\"*50)\n",
        "\n",
        "'''\n"
      ],
      "execution_count": null,
      "outputs": []
    },
    {
      "cell_type": "code",
      "metadata": {
        "id": "SIKMz_STz4fn"
      },
      "source": [
        "###########################################################################################################"
      ],
      "execution_count": null,
      "outputs": []
    },
    {
      "cell_type": "code",
      "metadata": {
        "id": "3oAVMbZqz9eK"
      },
      "source": [
        "from sklearn.pipeline import Pipeline "
      ],
      "execution_count": 37,
      "outputs": []
    },
    {
      "cell_type": "code",
      "metadata": {
        "id": "jAZ0dEGzIgry"
      },
      "source": [
        "disqual =  Pipeline([(\"acm\", MCA(var_labels = data.columns[1:num_var_max], )),(\"adl\", LinearDiscriminantAnalysis())])"
      ],
      "execution_count": 41,
      "outputs": []
    },
    {
      "cell_type": "code",
      "metadata": {
        "id": "_YNg4cZgIgu-"
      },
      "source": [
        "disqual.fit(data.iloc[:127115, 1:-1].values, data.iloc[:127115, num_var_max] )"
      ],
      "execution_count": null,
      "outputs": []
    },
    {
      "cell_type": "code",
      "metadata": {
        "id": "q3k4jqMm5plF"
      },
      "source": [
        "#accès à l'ACM, nombre de composants\n",
        "print(disqual.named_steps[\"acm\"].n_components_)\n"
      ],
      "execution_count": null,
      "outputs": []
    },
    {
      "cell_type": "code",
      "metadata": {
        "id": "XEvgv1RcU149"
      },
      "source": [
        "#afficher les valeurs propres\n",
        "disqual.named_steps[\"acm\"].plot_eigenvalues()\n"
      ],
      "execution_count": null,
      "outputs": []
    },
    {
      "cell_type": "code",
      "metadata": {
        "id": "Kx5lHEqr5vn8"
      },
      "source": [
        "#coefs. de la fonction score\n",
        "print(disqual.named_steps[\"adl\"].coef_)\n"
      ],
      "execution_count": null,
      "outputs": []
    },
    {
      "cell_type": "code",
      "metadata": {
        "id": "Bjg0uW_z5vrq"
      },
      "source": [
        "#prediction\n",
        "pVote = disqual.predict(vote_test.iloc[:,:-1].values)\n",
        "print(numpy.unique(pVote,return_counts=True))\n"
      ],
      "execution_count": null,
      "outputs": []
    },
    {
      "cell_type": "code",
      "metadata": {
        "id": "9zSE6MTn6CMP"
      },
      "source": [
        "#nombres de facteurs à tester\n",
        "parametres = [{\"acm__n_components\":[1,2,5,10,15,20,25,30,32]}]"
      ],
      "execution_count": null,
      "outputs": []
    },
    {
      "cell_type": "code",
      "metadata": {
        "id": "m0czJyy46CPC"
      },
      "source": [
        ""
      ],
      "execution_count": null,
      "outputs": []
    },
    {
      "cell_type": "code",
      "metadata": {
        "id": "blbzUKqT8HXP"
      },
      "source": [
        ""
      ],
      "execution_count": null,
      "outputs": []
    },
    {
      "cell_type": "code",
      "metadata": {
        "colab": {
          "base_uri": "https://localhost:8080/",
          "height": 167
        },
        "id": "nbdOPpD58HZZ",
        "outputId": "ffdd4a50-541a-4e97-bee1-5542e599097b"
      },
      "source": [
        "data.iloc[:127115, 1:-1]"
      ],
      "execution_count": 1,
      "outputs": [
        {
          "output_type": "error",
          "ename": "NameError",
          "evalue": "ignored",
          "traceback": [
            "\u001b[0;31m---------------------------------------------------------------------------\u001b[0m",
            "\u001b[0;31mNameError\u001b[0m                                 Traceback (most recent call last)",
            "\u001b[0;32m<ipython-input-1-0b3b6f5b8821>\u001b[0m in \u001b[0;36m<module>\u001b[0;34m()\u001b[0m\n\u001b[0;32m----> 1\u001b[0;31m \u001b[0mdata\u001b[0m\u001b[0;34m.\u001b[0m\u001b[0miloc\u001b[0m\u001b[0;34m[\u001b[0m\u001b[0;34m:\u001b[0m\u001b[0;36m127115\u001b[0m\u001b[0;34m,\u001b[0m \u001b[0;36m1\u001b[0m\u001b[0;34m:\u001b[0m\u001b[0;34m-\u001b[0m\u001b[0;36m1\u001b[0m\u001b[0;34m]\u001b[0m\u001b[0;34m\u001b[0m\u001b[0;34m\u001b[0m\u001b[0m\n\u001b[0m",
            "\u001b[0;31mNameError\u001b[0m: name 'data' is not defined"
          ]
        }
      ]
    },
    {
      "cell_type": "code",
      "metadata": {
        "id": "Go9HQRlr8H4Q"
      },
      "source": [
        ""
      ],
      "execution_count": null,
      "outputs": []
    }
  ]
}