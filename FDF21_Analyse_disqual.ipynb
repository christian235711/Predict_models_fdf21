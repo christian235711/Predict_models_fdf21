{
  "nbformat": 4,
  "nbformat_minor": 0,
  "metadata": {
    "colab": {
      "name": "FDF21_Analyse_disqual.ipynb",
      "provenance": [],
      "collapsed_sections": [],
      "authorship_tag": "ABX9TyNTXUGCVE0lgiXsGZcOLtu+"
    },
    "kernelspec": {
      "name": "python3",
      "display_name": "Python 3"
    },
    "language_info": {
      "name": "python"
    }
  },
  "cells": [
    {
      "cell_type": "code",
      "metadata": {
        "id": "6PE_fq-Af-lD",
        "colab": {
          "base_uri": "https://localhost:8080/"
        },
        "outputId": "0924cbf2-b9c6-48cd-823a-8d67bf250972"
      },
      "source": [
        "import numpy as np\n",
        "import pandas as pd\n",
        "import seaborn as sns\n",
        "import matplotlib.pyplot as plt\n",
        "\n",
        "!pip install fanalysis\n",
        "from fanalysis.mca import MCA\n",
        "\n",
        "from sklearn.metrics import confusion_matrix\n",
        "\n",
        "from google.colab import drive\n",
        "drive.mount('/content/drive')"
      ],
      "execution_count": 39,
      "outputs": [
        {
          "output_type": "stream",
          "text": [
            "Requirement already satisfied: fanalysis in /usr/local/lib/python3.7/dist-packages (0.0.1)\n",
            "Requirement already satisfied: numpy>=1.11.0 in /usr/local/lib/python3.7/dist-packages (from fanalysis) (1.19.5)\n",
            "Requirement already satisfied: scikit-learn>=0.18.0 in /usr/local/lib/python3.7/dist-packages (from fanalysis) (0.22.2.post1)\n",
            "Requirement already satisfied: matplotlib>=2.0.0 in /usr/local/lib/python3.7/dist-packages (from fanalysis) (3.2.2)\n",
            "Requirement already satisfied: pandas>=0.19.0 in /usr/local/lib/python3.7/dist-packages (from fanalysis) (1.1.5)\n",
            "Requirement already satisfied: python-dateutil>=2.1 in /usr/local/lib/python3.7/dist-packages (from matplotlib>=2.0.0->fanalysis) (2.8.1)\n",
            "Requirement already satisfied: cycler>=0.10 in /usr/local/lib/python3.7/dist-packages (from matplotlib>=2.0.0->fanalysis) (0.10.0)\n",
            "Requirement already satisfied: kiwisolver>=1.0.1 in /usr/local/lib/python3.7/dist-packages (from matplotlib>=2.0.0->fanalysis) (1.3.1)\n",
            "Requirement already satisfied: pyparsing!=2.0.4,!=2.1.2,!=2.1.6,>=2.0.1 in /usr/local/lib/python3.7/dist-packages (from matplotlib>=2.0.0->fanalysis) (2.4.7)\n",
            "Requirement already satisfied: six in /usr/local/lib/python3.7/dist-packages (from cycler>=0.10->matplotlib>=2.0.0->fanalysis) (1.15.0)\n",
            "Requirement already satisfied: pytz>=2017.2 in /usr/local/lib/python3.7/dist-packages (from pandas>=0.19.0->fanalysis) (2018.9)\n",
            "Requirement already satisfied: scipy>=0.17.0 in /usr/local/lib/python3.7/dist-packages (from scikit-learn>=0.18.0->fanalysis) (1.4.1)\n",
            "Requirement already satisfied: joblib>=0.11 in /usr/local/lib/python3.7/dist-packages (from scikit-learn>=0.18.0->fanalysis) (1.0.1)\n",
            "Drive already mounted at /content/drive; to attempt to forcibly remount, call drive.mount(\"/content/drive\", force_remount=True).\n"
          ],
          "name": "stdout"
        }
      ]
    },
    {
      "cell_type": "code",
      "metadata": {
        "id": "yuD2HnZ3uKFa"
      },
      "source": [
        ""
      ],
      "execution_count": 39,
      "outputs": []
    },
    {
      "cell_type": "code",
      "metadata": {
        "id": "HDcsBJYZuKHz"
      },
      "source": [
        "# option d'affichage des résultats\n",
        "pd.set_option(\"display.max_row\",130)\n",
        "pd.set_option(\"display.max_columns\",100)"
      ],
      "execution_count": 40,
      "outputs": []
    },
    {
      "cell_type": "code",
      "metadata": {
        "id": "EIiIM-2FuKKO"
      },
      "source": [
        "# les noms des variables\n",
        "\n",
        "colonnes =([\"IDENT\", \"TypeHabi\", \"GeoFaz_Scl\", \"GeoFaz_cl\", \"ImmoFaz_Scl\", \"ImmoFaz_cl\", \"Anciennete\",\n",
        "            \"Logement_prix_m2\", \"Mediane_RFR\", \"Sexe\", \"Prenom_Phase_scl_H\", \"Prenom_Phase_scl_F\",\n",
        "            \"Prenom_Phase_cl_H\", \"Prenom_Phase_cl_F\", \"Age_H\", \"Age_F\", \"Affinite_1\", \"Affinite_2\",\n",
        "            \"Prenom_effectif\", \"Potentiel_prenom\", \"Onoma-Phase_Scl\", \"Onoma-Phase_CL\", \"Top_mon\"])"
      ],
      "execution_count": 41,
      "outputs": []
    },
    {
      "cell_type": "code",
      "metadata": {
        "id": "pKb5oZ88kUoG"
      },
      "source": [
        "colonnes_montant = [\"DEDUPLI\", \"IDENT\", \"SommeDeMONTANT_NUM\", \"Flag_Top_Montant\", \"NovosScore_Vingtile\"]\n",
        "\n",
        "data_montant_orig = pd.read_csv(\"/content/drive/MyDrive/spad_score_method_1/spad_projection_FDFTOT21/DONS_FDF_N_TODAY_1ers_gestes_REF_MD.txt\", sep=\";\", header = 0, low_memory=False, dtype=str) #, dtype=str )#, dtype='Int64')\n",
        "\n",
        "data_montant_orig.iloc[:,2]=data_montant_orig.iloc[:,2].str.replace(\",\",\".\")\n",
        "\n",
        "data_montant_orig.columns =colonnes_montant\n",
        "data_montant_orig[\"SommeDeMONTANT_NUM\"]=data_montant_orig[\"SommeDeMONTANT_NUM\"].astype(float)"
      ],
      "execution_count": 42,
      "outputs": []
    },
    {
      "cell_type": "code",
      "metadata": {
        "id": "wci4tC0suKMu"
      },
      "source": [
        "# importation du fichier (changer le chemin d'accès)\n",
        "''' Faites attention au type de fichier, au délimiteur des valeurs (ça doit être unique et non multiple),\n",
        "au header et à la lecture des types d'objets (low_memory) '''\n",
        "\n",
        "data_orig = pd.read_csv(\"/content/drive/MyDrive/spad_score_method_1/spad_projection_FDFTOT21/sans_8_new_my_data_FDFTOT21.txt\", delim_whitespace=\"\\t\", header = None, names=colonnes, low_memory=False, dtype=str )#, dtype='Int64')\n"
      ],
      "execution_count": 43,
      "outputs": []
    },
    {
      "cell_type": "code",
      "metadata": {
        "colab": {
          "base_uri": "https://localhost:8080/"
        },
        "id": "oyDoq2cHxz7o",
        "outputId": "60603953-217a-41e6-8b52-e46e13f86c0b"
      },
      "source": [
        "''' copie superficielle (peu profonde) du dataset original pour ne pas modifier les valeurs\n",
        "d'origine par erreur plus tard \n",
        "'''\n",
        "data = data_orig.copy()\n",
        "data.shape"
      ],
      "execution_count": 44,
      "outputs": [
        {
          "output_type": "execute_result",
          "data": {
            "text/plain": [
              "(1192180, 23)"
            ]
          },
          "metadata": {
            "tags": []
          },
          "execution_count": 44
        }
      ]
    },
    {
      "cell_type": "code",
      "metadata": {
        "colab": {
          "base_uri": "https://localhost:8080/",
          "height": 243
        },
        "id": "d8EgLMlSxz9s",
        "outputId": "bc3ed154-55c8-4548-c99a-5209c5c64e3c"
      },
      "source": [
        "# visualisation des premiers lignes\n",
        "data.head()\n"
      ],
      "execution_count": 45,
      "outputs": [
        {
          "output_type": "execute_result",
          "data": {
            "text/html": [
              "<div>\n",
              "<style scoped>\n",
              "    .dataframe tbody tr th:only-of-type {\n",
              "        vertical-align: middle;\n",
              "    }\n",
              "\n",
              "    .dataframe tbody tr th {\n",
              "        vertical-align: top;\n",
              "    }\n",
              "\n",
              "    .dataframe thead th {\n",
              "        text-align: right;\n",
              "    }\n",
              "</style>\n",
              "<table border=\"1\" class=\"dataframe\">\n",
              "  <thead>\n",
              "    <tr style=\"text-align: right;\">\n",
              "      <th></th>\n",
              "      <th>IDENT</th>\n",
              "      <th>TypeHabi</th>\n",
              "      <th>GeoFaz_Scl</th>\n",
              "      <th>GeoFaz_cl</th>\n",
              "      <th>ImmoFaz_Scl</th>\n",
              "      <th>ImmoFaz_cl</th>\n",
              "      <th>Anciennete</th>\n",
              "      <th>Logement_prix_m2</th>\n",
              "      <th>Mediane_RFR</th>\n",
              "      <th>Sexe</th>\n",
              "      <th>Prenom_Phase_scl_H</th>\n",
              "      <th>Prenom_Phase_scl_F</th>\n",
              "      <th>Prenom_Phase_cl_H</th>\n",
              "      <th>Prenom_Phase_cl_F</th>\n",
              "      <th>Age_H</th>\n",
              "      <th>Age_F</th>\n",
              "      <th>Affinite_1</th>\n",
              "      <th>Affinite_2</th>\n",
              "      <th>Prenom_effectif</th>\n",
              "      <th>Potentiel_prenom</th>\n",
              "      <th>Onoma-Phase_Scl</th>\n",
              "      <th>Onoma-Phase_CL</th>\n",
              "      <th>Top_mon</th>\n",
              "    </tr>\n",
              "  </thead>\n",
              "  <tbody>\n",
              "    <tr>\n",
              "      <th>0</th>\n",
              "      <td>0010000001</td>\n",
              "      <td>02</td>\n",
              "      <td>81</td>\n",
              "      <td>08</td>\n",
              "      <td>91</td>\n",
              "      <td>09</td>\n",
              "      <td>06</td>\n",
              "      <td>21</td>\n",
              "      <td>21</td>\n",
              "      <td>01</td>\n",
              "      <td>71</td>\n",
              "      <td>41</td>\n",
              "      <td>07</td>\n",
              "      <td>04</td>\n",
              "      <td>12</td>\n",
              "      <td>04</td>\n",
              "      <td>20</td>\n",
              "      <td>02</td>\n",
              "      <td>02</td>\n",
              "      <td>01</td>\n",
              "      <td>51</td>\n",
              "      <td>05</td>\n",
              "      <td>1</td>\n",
              "    </tr>\n",
              "    <tr>\n",
              "      <th>1</th>\n",
              "      <td>0010000006</td>\n",
              "      <td>01</td>\n",
              "      <td>75</td>\n",
              "      <td>07</td>\n",
              "      <td>43</td>\n",
              "      <td>04</td>\n",
              "      <td>06</td>\n",
              "      <td>06</td>\n",
              "      <td>13</td>\n",
              "      <td>02</td>\n",
              "      <td>71</td>\n",
              "      <td>64</td>\n",
              "      <td>07</td>\n",
              "      <td>06</td>\n",
              "      <td>12</td>\n",
              "      <td>09</td>\n",
              "      <td>04</td>\n",
              "      <td>12</td>\n",
              "      <td>04</td>\n",
              "      <td>13</td>\n",
              "      <td>12</td>\n",
              "      <td>01</td>\n",
              "      <td>1</td>\n",
              "    </tr>\n",
              "    <tr>\n",
              "      <th>2</th>\n",
              "      <td>0010000011</td>\n",
              "      <td>01</td>\n",
              "      <td>76</td>\n",
              "      <td>07</td>\n",
              "      <td>43</td>\n",
              "      <td>04</td>\n",
              "      <td>06</td>\n",
              "      <td>06</td>\n",
              "      <td>16</td>\n",
              "      <td>03</td>\n",
              "      <td>54</td>\n",
              "      <td>81</td>\n",
              "      <td>05</td>\n",
              "      <td>08</td>\n",
              "      <td>07</td>\n",
              "      <td>12</td>\n",
              "      <td>06</td>\n",
              "      <td>06</td>\n",
              "      <td>04</td>\n",
              "      <td>18</td>\n",
              "      <td>36</td>\n",
              "      <td>03</td>\n",
              "      <td>2</td>\n",
              "    </tr>\n",
              "    <tr>\n",
              "      <th>3</th>\n",
              "      <td>0010000013</td>\n",
              "      <td>03</td>\n",
              "      <td>75</td>\n",
              "      <td>07</td>\n",
              "      <td>43</td>\n",
              "      <td>04</td>\n",
              "      <td>04</td>\n",
              "      <td>06</td>\n",
              "      <td>13</td>\n",
              "      <td>01</td>\n",
              "      <td>71</td>\n",
              "      <td>36</td>\n",
              "      <td>07</td>\n",
              "      <td>03</td>\n",
              "      <td>12</td>\n",
              "      <td>11</td>\n",
              "      <td>11</td>\n",
              "      <td>19</td>\n",
              "      <td>04</td>\n",
              "      <td>06</td>\n",
              "      <td>21</td>\n",
              "      <td>02</td>\n",
              "      <td>1</td>\n",
              "    </tr>\n",
              "    <tr>\n",
              "      <th>4</th>\n",
              "      <td>0010000015</td>\n",
              "      <td>02</td>\n",
              "      <td>33</td>\n",
              "      <td>03</td>\n",
              "      <td>44</td>\n",
              "      <td>04</td>\n",
              "      <td>06</td>\n",
              "      <td>07</td>\n",
              "      <td>12</td>\n",
              "      <td>01</td>\n",
              "      <td>71</td>\n",
              "      <td>42</td>\n",
              "      <td>07</td>\n",
              "      <td>04</td>\n",
              "      <td>12</td>\n",
              "      <td>05</td>\n",
              "      <td>14</td>\n",
              "      <td>03</td>\n",
              "      <td>03</td>\n",
              "      <td>01</td>\n",
              "      <td>14</td>\n",
              "      <td>01</td>\n",
              "      <td>2</td>\n",
              "    </tr>\n",
              "  </tbody>\n",
              "</table>\n",
              "</div>"
            ],
            "text/plain": [
              "        IDENT TypeHabi GeoFaz_Scl GeoFaz_cl ImmoFaz_Scl ImmoFaz_cl Anciennete  \\\n",
              "0  0010000001       02         81        08          91         09         06   \n",
              "1  0010000006       01         75        07          43         04         06   \n",
              "2  0010000011       01         76        07          43         04         06   \n",
              "3  0010000013       03         75        07          43         04         04   \n",
              "4  0010000015       02         33        03          44         04         06   \n",
              "\n",
              "  Logement_prix_m2 Mediane_RFR Sexe Prenom_Phase_scl_H Prenom_Phase_scl_F  \\\n",
              "0               21          21   01                 71                 41   \n",
              "1               06          13   02                 71                 64   \n",
              "2               06          16   03                 54                 81   \n",
              "3               06          13   01                 71                 36   \n",
              "4               07          12   01                 71                 42   \n",
              "\n",
              "  Prenom_Phase_cl_H Prenom_Phase_cl_F Age_H Age_F Affinite_1 Affinite_2  \\\n",
              "0                07                04    12    04         20         02   \n",
              "1                07                06    12    09         04         12   \n",
              "2                05                08    07    12         06         06   \n",
              "3                07                03    12    11         11         19   \n",
              "4                07                04    12    05         14         03   \n",
              "\n",
              "  Prenom_effectif Potentiel_prenom Onoma-Phase_Scl Onoma-Phase_CL Top_mon  \n",
              "0              02               01              51             05       1  \n",
              "1              04               13              12             01       1  \n",
              "2              04               18              36             03       2  \n",
              "3              04               06              21             02       1  \n",
              "4              03               01              14             01       2  "
            ]
          },
          "metadata": {
            "tags": []
          },
          "execution_count": 45
        }
      ]
    },
    {
      "cell_type": "code",
      "metadata": {
        "id": "0DV4-3xA2W_K"
      },
      "source": [
        "#nombre de modalités de chaque variables (dans un dataframe)\n",
        "def nombre_mod(data2):\n",
        "    #création d'un dataframe vide\n",
        "    dff= pd.DataFrame(columns=[\"VARIABLE\",\"NOMBRE_MOD\", \"NOMBRE_MOD_SANS_NA\"])\n",
        "    for i in range(data2.shape[1]): # sans compter les valeurs manquantes\n",
        "        taille =len(data2.iloc[:,i].value_counts(dropna=False))\n",
        "        taille_1 = len(data2.iloc[:,i].value_counts(dropna=True) )\n",
        "        dff=dff.append({\"VARIABLE\": colonnes[i],\"NOMBRE_MOD\":taille, \"NOMBRE_MOD_SANS_NA\":taille_1 }, ignore_index=True)\n",
        "    return dff\n",
        "\n",
        "# sélection des corrélations les plus importantes\n",
        "def variables_corr(tableau_corr, seuil):\n",
        "    colonnes = tableau_corr.columns\n",
        "    val_temp = 0 \n",
        "    variables_corr_pos=[] ; variables_corr_pos_val=[]\n",
        "    variables_corr_neg=[] ; variables_corr_neg_val=[]\n",
        "    for i in range(tableau_corr.shape[0]):  \n",
        "        for j in range(tableau_corr.shape[0]):\n",
        "            if i<j: #i!=j:\n",
        "                if (tableau_corr.iloc[i,j] > seuil):\n",
        "                    variables_corr_pos.append(colonnes[j])\n",
        "                    variables_corr_pos_val.append(round( tableau_corr.iloc[i,j], 2))\n",
        "                    val_temp += 1\n",
        "\n",
        "                if (tableau_corr.iloc[i,j] <-seuil):\n",
        "                    variables_corr_neg.append(colonnes[j])\n",
        "                    variables_corr_neg_val.append(round( tableau_corr.iloc[i,j], 2))\n",
        "                    val_temp += 1\n",
        "\n",
        "        if (len(variables_corr_pos) > 0) | (len(variables_corr_neg) >0) :\n",
        "            print(\"variable : \", colonnes[i])\n",
        "            if len(variables_corr_pos) > 0:    \n",
        "                print(\"corr pos\", variables_corr_pos)\n",
        "                print(\"corr pos\", variables_corr_pos_val)\n",
        "                val_temp += 1\n",
        "\n",
        "            if len(variables_corr_neg) >0:  \n",
        "                print(\"corr neg\", variables_corr_neg)\n",
        "                print(\"corr neg\", variables_corr_neg_val)\n",
        "                val_temp += 1\n",
        "            print(\"\")\n",
        "        variables_corr_pos = variables_corr_pos*0\n",
        "        variables_corr_neg = variables_corr_pos*0\n",
        "\n",
        "        variables_corr_pos_val = variables_corr_pos_val*0\n",
        "        variables_corr_neg_val = variables_corr_pos_val*0\n",
        "    if val_temp == 0:\n",
        "        print(\"IL N'Y A PAS DE CORRELATION ENTRE LES VARIABLES PAR RAPPORT AU SEUIL PRIS\")\n",
        "        \n",
        "\n",
        "def evaluation(model, X_train, y_train, X_test, y_test, scoring, plot):\n",
        "\n",
        "    model.fit(X_train, y_train)\n",
        "    y_pred = model.predict(X_test)\n",
        "    \n",
        "    print(\"test set : \")\n",
        "    print(confusion_matrix(y_test, y_pred))\n",
        "    print(classification_report(y_test, y_pred)) \n",
        "    print(\"train set : \")\n",
        "    print(confusion_matrix(y_train, model.predict(X_train)))  \n",
        "    print(classification_report(y_train, model.predict(X_train) ))\n",
        "\n",
        "    if plot == True:\n",
        "        N, train_score, val_score = learning_curve(model, X_train, y_train, shuffle=True, cv = 4, scoring = scoring, train_sizes = np.linspace(0.1, 1, 6) )\n",
        "\n",
        "        plt.figure(figsize = (10,6))\n",
        "        plt.plot(N, train_score.mean(axis=1), label =\"train_score\")\n",
        "        plt.plot(N, val_score.mean(axis=1), label =\"cross_validation_score\")\n",
        "        plt.legend()\n",
        "    else :\n",
        "        print(\"GRAPHIQUE NON DEMANDE\")\n",
        "\n",
        "# Comme il n'y a pas de valeurs manquantes (à la place il y a un nombre), le seul traitement qu'on fait c'est tranformer\n",
        "# le type de variable (les variables continues deviennent qualitatives)\n",
        "def data_processing(df):\n",
        "    \"\"\" \n",
        "    for i in range(0,len(df.columns)):    \n",
        "        df[df.columns[i]].fillna(100.0, inplace=True) #On remplace les données manquantes par 100\n",
        "    for i in range(0,len(df.columns)):\n",
        "        print(df[df.columns[i]].value_counts(dropna=False))    \n",
        "    \"\"\"\n",
        "    \n",
        "   #Transformation de toutes les variables en facteurs         \n",
        "    for i in range(0,len(df.columns)):\n",
        "        df[df.columns[i]] = df[df.columns[i]].astype('category')\n",
        "    return df.to_numpy() #.as_matrix()\n",
        "\n",
        "\n",
        "def vingtiles(model, data_orig, affichage, save, path): # data_orig est une variables locale (peut être différente au df d'origine)\n",
        "    # position de la dernière variable explicative dans le dataset\n",
        "    nb_var = data_orig.shape[1]-1\n",
        "\n",
        "    # predict sur tous les individus (avec et sans classe Top_mon)\n",
        "    tous_probas = model.predict_proba(data_orig.iloc[:,1:nb_var])\n",
        "    df_tous = pd.DataFrame({'IDENT': data_orig.iloc[:,0] , 'PROBA': tous_probas[:,0] })\n",
        "    #df_tous\n",
        "    \n",
        "    # valeurs ordonnées pour diviser après\n",
        "    df_tous=df_tous.sort_values(by='PROBA', ascending=True)\n",
        "    #df_tous\n",
        "    print(df_tous)\n",
        "    \n",
        "    #vérification\n",
        "    print(df_tous['PROBA'].value_counts())\n",
        "\n",
        "    # vingtiles\n",
        "    df_temp =pd.DataFrame( pd.qcut(df_tous['PROBA'],q= 20)  )\n",
        "    #print(df_temp)\n",
        "\n",
        "    # ajout par index (IMPORTANTE)\n",
        "    df_tous[\"TRANCHES\"]=pd.DataFrame(df_temp.iloc[:,0].to_numpy(),index= df_temp.index)\n",
        "    #print(df_tous)\n",
        "\n",
        "    # création de la dernière colonne CLASSE et son remplissage\n",
        "    index_20_ord = pd.DataFrame(np.unique(df_tous[\"TRANCHES\"])) \n",
        "    df_tous[\"CLASSE\"]=df_tous[\"TRANCHES\"].copy()\n",
        "    ind_val=1\n",
        "    for kk in range(20):\n",
        "        df_tous[\"CLASSE\"][df_tous[\"CLASSE\"]== index_20_ord.iloc[kk,0] ] = str(ind_val) \n",
        "        ind_val+=1\n",
        "    print(df_tous)    \n",
        "    \n",
        "    # pour la colonne Top_mon : changement de type de variable et remplissage des valeurs (s'il le faut)\n",
        "    data_temp_t = data_orig.copy()\n",
        "    data_temp_t[\"Top_mon\"] =  data_temp_t[\"Top_mon\"].replace(1.0,'1')\n",
        "    data_temp_t[\"Top_mon\"] =  data_temp_t[\"Top_mon\"].replace(2.0,'2')\n",
        "    data_all_complet_class = data_temp_t #data_temp_t.fillna('2')\n",
        "    #data_all_complet_class\n",
        "\n",
        "    # jointure\n",
        "    ident_class_tous = data_all_complet_class[[\"IDENT\",\"Top_mon\"]]\n",
        "    tableau_resultats = pd.merge(df_tous,ident_class_tous)\n",
        "    #tableau_resultats\n",
        "\n",
        "    # tranches finales\n",
        "    tab_cross_temp = pd.crosstab(tableau_resultats[\"TRANCHES\"],tableau_resultats[\"Top_mon\"])\n",
        "    #print(tab_cross_temp); print(\"-----------------------\")\n",
        "\n",
        "    # création d'une colonne TOTAL\n",
        "    tab_cross_temp[\"TOTAL\"]=tab_cross_temp[\"1\"]+tab_cross_temp[\"2\"]\n",
        "    \n",
        "    # affichage\n",
        "    if affichage ==True:        \n",
        "        print(tab_cross_temp)\n",
        "\n",
        "    # création du tableau final en éliminant la colonne 2\n",
        "    #tab_pour_excel = tab_cross_temp.drop([\"2\"], axis=1)\n",
        "\n",
        "    # si on ne veut pas éliminer la colonne 2\n",
        "    tab_pour_excel =  tab_cross_temp\n",
        "    \n",
        "    # enregistrement sous Excel\n",
        "    if save == True:\n",
        "        tab_pour_excel.to_excel(path)\n",
        "\n",
        "    return  df_tous\n",
        "\n",
        "\n",
        "def tableau_5_montant(df_tous, data_montant_orig, affichage, save, path):\n",
        "    # tableau avec les deux variables qui nous intéressent\n",
        "    ident_et_montant = data_montant_orig[[\"IDENT\",\"SommeDeMONTANT_NUM\"]]\n",
        "\n",
        "    # jointure\n",
        "    tableau_resultats_et_montant = pd.merge(df_tous,ident_et_montant)\n",
        "    #print(tableau_resultats_et_montant) \n",
        "\n",
        "    # on élimine toutes les sommes supérieur à 5000 €\n",
        "    tableau_resultats_et_montant = tableau_resultats_et_montant[tableau_resultats_et_montant[\"SommeDeMONTANT_NUM\"] <= 5000]\n",
        "    print(tableau_resultats_et_montant) \n",
        "    #print(tableau_resultats_et_montant[\"TRANCHES\"].value_counts())\n",
        "    #print(pd.DataFrame(np.unique(tableau_resultats_et_montant[\"TRANCHES\"])))\n",
        "\n",
        "    # index\n",
        "    index_temp = pd.DataFrame(np.unique(tableau_resultats_et_montant[\"TRANCHES\"])) \n",
        "\n",
        "    # création du tableau qui contiendra les résultats finaux\n",
        "    tableau_resultats_finaux = pd.DataFrame(columns=[\"TRANCHES\",\"Moyen_Somme\",\"TOTAL\"],index=range(20))\n",
        "    tableau_resultats_finaux[\"TRANCHES\"] = index_temp\n",
        "\n",
        "    # remplissage du tableau final\n",
        "    for k in range(20):\n",
        "        tableau_resultats_finaux.iloc[k,1] = tableau_resultats_et_montant[tableau_resultats_et_montant[\"TRANCHES\"]==index_temp.iloc[k,0]][\"SommeDeMONTANT_NUM\"].mean()\n",
        "        tableau_resultats_finaux.iloc[k,2] = (tableau_resultats_et_montant[\"TRANCHES\"]==index_temp.iloc[k,0]).sum()\n",
        "    \n",
        "    # affichage\n",
        "    if affichage:        \n",
        "        print(tableau_resultats_finaux)\n",
        "    \n",
        "    # enregistrement sous Excel\n",
        "    if save:\n",
        "        tableau_resultats_finaux.to_excel(path)\n",
        "\n",
        "\n",
        "def vingtiles_ind_sans_target(model, data_orig, affichage, save, path):\n",
        "    # position de la dernière variable explicative dans le dataset\n",
        "    nb_var = data_orig.shape[1]-1\n",
        "\n",
        "    # predict sur tous les individus (avec et sans classe IFI+)\n",
        "    tous_probas = model.predict_proba(data_orig.iloc[:,1:nb_var])\n",
        "    df_tous = pd.DataFrame({'IDENT': data_orig.iloc[:,0] , 'PROBA': tous_probas[:,0] })\n",
        "    #df_tous\n",
        "    \n",
        "    # valeurs ordonnées pour diviser après\n",
        "    df_tous=df_tous.sort_values(by='PROBA', ascending=True)\n",
        "    #df_tous\n",
        "    print(df_tous)\n",
        "    \n",
        "    #vérification\n",
        "    print(df_tous['PROBA'].value_counts())\n",
        "\n",
        "    # quarantiles\n",
        "    df_temp =pd.DataFrame( pd.qcut(df_tous['PROBA'],q= 20)  )\n",
        "    print(df_temp)\n",
        "\n",
        "    # ajout par index (IMPORTANTE)\n",
        "    df_tous[\"TRANCHES\"]=pd.DataFrame(df_temp.iloc[:,0].to_numpy(),index= df_temp.index)\n",
        "    print(df_tous)\n",
        "    print(df_tous[\"TRANCHES\"].value_counts(ascending = True))\n",
        "\n",
        "    # GERE L'ORDRE\n",
        "    patra = np.unique(df_tous.iloc[:,2], return_counts=True)\n",
        "    df_tranches_sans_target = pd.DataFrame([patra[0],patra[1]]).T\n",
        "    df_tranches_sans_target.columns=[\"TRANCHES\",\"COUNTS\"]\n",
        "\n",
        "    # affichage\n",
        "    if affichage ==True:        \n",
        "        print(df_tranches_sans_target)\n",
        "    \n",
        "    # enregistrement sous Excel\n",
        "    if save == True:\n",
        "        df_tranches_sans_target.to_excel(path)\n",
        "    \n",
        "\n",
        "# élimination des variables trop corrélées (choix manuel)\n",
        "def elimination_val_corr(data):\n",
        "    data = data.drop(columns=[\"\"])\n",
        "    return data\n",
        "          \n",
        " "
      ],
      "execution_count": 46,
      "outputs": []
    },
    {
      "cell_type": "code",
      "metadata": {
        "colab": {
          "base_uri": "https://localhost:8080/",
          "height": 770
        },
        "id": "2EQAN76Q2XBS",
        "outputId": "cc3cdc1c-a50b-446d-bc45-924a8c7d49fc"
      },
      "source": [
        "nombre_mod(data)"
      ],
      "execution_count": 47,
      "outputs": [
        {
          "output_type": "execute_result",
          "data": {
            "text/html": [
              "<div>\n",
              "<style scoped>\n",
              "    .dataframe tbody tr th:only-of-type {\n",
              "        vertical-align: middle;\n",
              "    }\n",
              "\n",
              "    .dataframe tbody tr th {\n",
              "        vertical-align: top;\n",
              "    }\n",
              "\n",
              "    .dataframe thead th {\n",
              "        text-align: right;\n",
              "    }\n",
              "</style>\n",
              "<table border=\"1\" class=\"dataframe\">\n",
              "  <thead>\n",
              "    <tr style=\"text-align: right;\">\n",
              "      <th></th>\n",
              "      <th>VARIABLE</th>\n",
              "      <th>NOMBRE_MOD</th>\n",
              "      <th>NOMBRE_MOD_SANS_NA</th>\n",
              "    </tr>\n",
              "  </thead>\n",
              "  <tbody>\n",
              "    <tr>\n",
              "      <th>0</th>\n",
              "      <td>IDENT</td>\n",
              "      <td>1191464</td>\n",
              "      <td>1191464</td>\n",
              "    </tr>\n",
              "    <tr>\n",
              "      <th>1</th>\n",
              "      <td>TypeHabi</td>\n",
              "      <td>4</td>\n",
              "      <td>4</td>\n",
              "    </tr>\n",
              "    <tr>\n",
              "      <th>2</th>\n",
              "      <td>GeoFaz_Scl</td>\n",
              "      <td>38</td>\n",
              "      <td>38</td>\n",
              "    </tr>\n",
              "    <tr>\n",
              "      <th>3</th>\n",
              "      <td>GeoFaz_cl</td>\n",
              "      <td>8</td>\n",
              "      <td>8</td>\n",
              "    </tr>\n",
              "    <tr>\n",
              "      <th>4</th>\n",
              "      <td>ImmoFaz_Scl</td>\n",
              "      <td>31</td>\n",
              "      <td>31</td>\n",
              "    </tr>\n",
              "    <tr>\n",
              "      <th>5</th>\n",
              "      <td>ImmoFaz_cl</td>\n",
              "      <td>9</td>\n",
              "      <td>9</td>\n",
              "    </tr>\n",
              "    <tr>\n",
              "      <th>6</th>\n",
              "      <td>Anciennete</td>\n",
              "      <td>11</td>\n",
              "      <td>11</td>\n",
              "    </tr>\n",
              "    <tr>\n",
              "      <th>7</th>\n",
              "      <td>Logement_prix_m2</td>\n",
              "      <td>21</td>\n",
              "      <td>21</td>\n",
              "    </tr>\n",
              "    <tr>\n",
              "      <th>8</th>\n",
              "      <td>Mediane_RFR</td>\n",
              "      <td>21</td>\n",
              "      <td>21</td>\n",
              "    </tr>\n",
              "    <tr>\n",
              "      <th>9</th>\n",
              "      <td>Sexe</td>\n",
              "      <td>5</td>\n",
              "      <td>5</td>\n",
              "    </tr>\n",
              "    <tr>\n",
              "      <th>10</th>\n",
              "      <td>Prenom_Phase_scl_H</td>\n",
              "      <td>31</td>\n",
              "      <td>31</td>\n",
              "    </tr>\n",
              "    <tr>\n",
              "      <th>11</th>\n",
              "      <td>Prenom_Phase_scl_F</td>\n",
              "      <td>45</td>\n",
              "      <td>45</td>\n",
              "    </tr>\n",
              "    <tr>\n",
              "      <th>12</th>\n",
              "      <td>Prenom_Phase_cl_H</td>\n",
              "      <td>7</td>\n",
              "      <td>7</td>\n",
              "    </tr>\n",
              "    <tr>\n",
              "      <th>13</th>\n",
              "      <td>Prenom_Phase_cl_F</td>\n",
              "      <td>8</td>\n",
              "      <td>8</td>\n",
              "    </tr>\n",
              "    <tr>\n",
              "      <th>14</th>\n",
              "      <td>Age_H</td>\n",
              "      <td>12</td>\n",
              "      <td>12</td>\n",
              "    </tr>\n",
              "    <tr>\n",
              "      <th>15</th>\n",
              "      <td>Age_F</td>\n",
              "      <td>12</td>\n",
              "      <td>12</td>\n",
              "    </tr>\n",
              "    <tr>\n",
              "      <th>16</th>\n",
              "      <td>Affinite_1</td>\n",
              "      <td>21</td>\n",
              "      <td>21</td>\n",
              "    </tr>\n",
              "    <tr>\n",
              "      <th>17</th>\n",
              "      <td>Affinite_2</td>\n",
              "      <td>21</td>\n",
              "      <td>21</td>\n",
              "    </tr>\n",
              "    <tr>\n",
              "      <th>18</th>\n",
              "      <td>Prenom_effectif</td>\n",
              "      <td>6</td>\n",
              "      <td>6</td>\n",
              "    </tr>\n",
              "    <tr>\n",
              "      <th>19</th>\n",
              "      <td>Potentiel_prenom</td>\n",
              "      <td>21</td>\n",
              "      <td>21</td>\n",
              "    </tr>\n",
              "    <tr>\n",
              "      <th>20</th>\n",
              "      <td>Onoma-Phase_Scl</td>\n",
              "      <td>36</td>\n",
              "      <td>36</td>\n",
              "    </tr>\n",
              "    <tr>\n",
              "      <th>21</th>\n",
              "      <td>Onoma-Phase_CL</td>\n",
              "      <td>6</td>\n",
              "      <td>6</td>\n",
              "    </tr>\n",
              "    <tr>\n",
              "      <th>22</th>\n",
              "      <td>Top_mon</td>\n",
              "      <td>3</td>\n",
              "      <td>2</td>\n",
              "    </tr>\n",
              "  </tbody>\n",
              "</table>\n",
              "</div>"
            ],
            "text/plain": [
              "              VARIABLE NOMBRE_MOD NOMBRE_MOD_SANS_NA\n",
              "0                IDENT    1191464            1191464\n",
              "1             TypeHabi          4                  4\n",
              "2           GeoFaz_Scl         38                 38\n",
              "3            GeoFaz_cl          8                  8\n",
              "4          ImmoFaz_Scl         31                 31\n",
              "5           ImmoFaz_cl          9                  9\n",
              "6           Anciennete         11                 11\n",
              "7     Logement_prix_m2         21                 21\n",
              "8          Mediane_RFR         21                 21\n",
              "9                 Sexe          5                  5\n",
              "10  Prenom_Phase_scl_H         31                 31\n",
              "11  Prenom_Phase_scl_F         45                 45\n",
              "12   Prenom_Phase_cl_H          7                  7\n",
              "13   Prenom_Phase_cl_F          8                  8\n",
              "14               Age_H         12                 12\n",
              "15               Age_F         12                 12\n",
              "16          Affinite_1         21                 21\n",
              "17          Affinite_2         21                 21\n",
              "18     Prenom_effectif          6                  6\n",
              "19    Potentiel_prenom         21                 21\n",
              "20     Onoma-Phase_Scl         36                 36\n",
              "21      Onoma-Phase_CL          6                  6\n",
              "22             Top_mon          3                  2"
            ]
          },
          "metadata": {
            "tags": []
          },
          "execution_count": 47
        }
      ]
    },
    {
      "cell_type": "code",
      "metadata": {
        "colab": {
          "base_uri": "https://localhost:8080/"
        },
        "id": "dNh8ZnOzMfDy",
        "outputId": "e8882cbd-b67f-472c-aff6-04bdc593430e"
      },
      "source": [
        "data[\"Top_mon\"].value_counts(dropna=False)"
      ],
      "execution_count": 48,
      "outputs": [
        {
          "output_type": "execute_result",
          "data": {
            "text/plain": [
              "NaN    1092884\n",
              "2        72568\n",
              "1        26728\n",
              "Name: Top_mon, dtype: int64"
            ]
          },
          "metadata": {
            "tags": []
          },
          "execution_count": 48
        }
      ]
    },
    {
      "cell_type": "code",
      "metadata": {
        "colab": {
          "base_uri": "https://localhost:8080/"
        },
        "id": "_bJVv_4eBsmj",
        "outputId": "ebd51204-db4d-4630-b19b-0bfbb0fa47fa"
      },
      "source": [
        "data.info()"
      ],
      "execution_count": 49,
      "outputs": [
        {
          "output_type": "stream",
          "text": [
            "<class 'pandas.core.frame.DataFrame'>\n",
            "RangeIndex: 1192180 entries, 0 to 1192179\n",
            "Data columns (total 23 columns):\n",
            " #   Column              Non-Null Count    Dtype \n",
            "---  ------              --------------    ----- \n",
            " 0   IDENT               1192180 non-null  object\n",
            " 1   TypeHabi            1192180 non-null  object\n",
            " 2   GeoFaz_Scl          1192180 non-null  object\n",
            " 3   GeoFaz_cl           1192180 non-null  object\n",
            " 4   ImmoFaz_Scl         1192180 non-null  object\n",
            " 5   ImmoFaz_cl          1192180 non-null  object\n",
            " 6   Anciennete          1192180 non-null  object\n",
            " 7   Logement_prix_m2    1192180 non-null  object\n",
            " 8   Mediane_RFR         1192180 non-null  object\n",
            " 9   Sexe                1192180 non-null  object\n",
            " 10  Prenom_Phase_scl_H  1192180 non-null  object\n",
            " 11  Prenom_Phase_scl_F  1192180 non-null  object\n",
            " 12  Prenom_Phase_cl_H   1192180 non-null  object\n",
            " 13  Prenom_Phase_cl_F   1192180 non-null  object\n",
            " 14  Age_H               1192180 non-null  object\n",
            " 15  Age_F               1192180 non-null  object\n",
            " 16  Affinite_1          1192180 non-null  object\n",
            " 17  Affinite_2          1192180 non-null  object\n",
            " 18  Prenom_effectif     1192180 non-null  object\n",
            " 19  Potentiel_prenom    1192180 non-null  object\n",
            " 20  Onoma-Phase_Scl     1192180 non-null  object\n",
            " 21  Onoma-Phase_CL      1192180 non-null  object\n",
            " 22  Top_mon             99296 non-null    object\n",
            "dtypes: object(23)\n",
            "memory usage: 209.2+ MB\n"
          ],
          "name": "stdout"
        }
      ]
    },
    {
      "cell_type": "code",
      "metadata": {
        "id": "R6qqf87_2XGq"
      },
      "source": [
        ""
      ],
      "execution_count": 49,
      "outputs": []
    },
    {
      "cell_type": "code",
      "metadata": {
        "id": "Y4nhL2yxcZZb"
      },
      "source": [
        ""
      ],
      "execution_count": 49,
      "outputs": []
    },
    {
      "cell_type": "code",
      "metadata": {
        "id": "IJOZku3IYEpI"
      },
      "source": [
        ""
      ],
      "execution_count": 49,
      "outputs": []
    },
    {
      "cell_type": "code",
      "metadata": {
        "id": "0lpwr2FMYiq2"
      },
      "source": [
        ""
      ],
      "execution_count": 49,
      "outputs": []
    },
    {
      "cell_type": "code",
      "metadata": {
        "id": "gGyqVG-fUKyo"
      },
      "source": [
        "############################################################### AJOUTER OU EFFACER (data =) #######################################\n",
        "# on élimine les variables corr\n",
        "data=data.drop([\"GeoFaz_cl\", \"ImmoFaz_Scl\", \"ImmoFaz_cl\", \"Prenom_Phase_cl_H\", \"Prenom_Phase_cl_F\", \"Onoma-Phase_Scl\", \"Onoma-Phase_CL\"],axis=1)\n"
      ],
      "execution_count": 50,
      "outputs": []
    },
    {
      "cell_type": "code",
      "metadata": {
        "colab": {
          "base_uri": "https://localhost:8080/"
        },
        "id": "2-RPzJ4vZEhM",
        "outputId": "f291fd11-cad7-4943-c7e6-962b14e3af21"
      },
      "source": [
        "num_var_max = data.shape[1] - 1\n",
        "num_var_max"
      ],
      "execution_count": 51,
      "outputs": [
        {
          "output_type": "execute_result",
          "data": {
            "text/plain": [
              "15"
            ]
          },
          "metadata": {
            "tags": []
          },
          "execution_count": 51
        }
      ]
    },
    {
      "cell_type": "code",
      "metadata": {
        "id": "C0T71nnOQ1rc",
        "colab": {
          "base_uri": "https://localhost:8080/",
          "height": 313
        },
        "outputId": "33e6d0e5-e2b1-408e-d420-438839cea8b2"
      },
      "source": [
        "#importation de la librairie\n",
        "from fanalysis.mca import MCA\n",
        "\n",
        "#instanciation\n",
        "acm = MCA(var_labels=data.columns[1:num_var_max])\n",
        "\n",
        "# apprentissage\n",
        "dim_temporaire = data_orig[(data_orig.isnull()).sum(axis=1) == 0].shape[0]\n",
        "acm.fit(data.iloc[:dim_temporaire,1:num_var_max].values)\n",
        "\n",
        "#valeurs propres - graphique\n",
        "print(acm.plot_eigenvalues())"
      ],
      "execution_count": 52,
      "outputs": [
        {
          "output_type": "display_data",
          "data": {
            "image/png": "[encoded data removed]",
            "text/plain": [
              "<Figure size 432x288 with 1 Axes>"
            ]
          },
          "metadata": {
            "tags": [],
            "needs_background": "light"
          }
        },
        {
          "output_type": "stream",
          "text": [
            "None\n"
          ],
          "name": "stdout"
        }
      ]
    },
    {
      "cell_type": "code",
      "metadata": {
        "id": "uba6n_5g-7-U"
      },
      "source": [
        "# fonction qui va diviser et calculer les coordonnées des individus \n",
        "def transform_to_coord(data):\n",
        "    coord_part = 0\n",
        "    coord = acm.transform(data.iloc[0:30000,1:num_var_max].values)\n",
        "    k=30000\n",
        "    nb_part = round(data.shape[0]/k)\n",
        "    for i in range(1, nb_part):\n",
        "        coord_part=acm.transform(data.iloc[i*k:(i+1)*k,1:num_var_max].values)\n",
        "        coord=np.concatenate((coord, coord_part))\n",
        "\n",
        "    coord_part = acm.transform(data.iloc[nb_part*k: ,1:num_var_max].values )\n",
        "    coord=np.concatenate((coord, coord_part))\n",
        "    return coord"
      ],
      "execution_count": 53,
      "outputs": []
    },
    {
      "cell_type": "code",
      "metadata": {
        "id": "Owu0Cby0oOnj"
      },
      "source": [
        "#instanciation\n",
        "acm = MCA(var_labels = data.columns[1:num_var_max], n_components=55)  # paramètres index manquante (gérer après)\n",
        "#apprentissage \n",
        "\"ne pas utiliser fit_tranform car le datset est trop grand \"\n",
        "dim_temporaire = data_orig[(data_orig.isnull()).sum(axis=1) == 0].shape[0]\n",
        "acm.fit(data.iloc[:dim_temporaire,1:num_var_max].values)\n",
        "\n",
        "# tranformation du dataset\n",
        "coord = transform_to_coord(data)\n"
      ],
      "execution_count": 54,
      "outputs": []
    },
    {
      "cell_type": "code",
      "metadata": {
        "id": "cF7I6w-gPtLx"
      },
      "source": [
        ""
      ],
      "execution_count": 54,
      "outputs": []
    },
    {
      "cell_type": "code",
      "metadata": {
        "id": "o6XdxYjGPT1c"
      },
      "source": [
        ""
      ],
      "execution_count": 54,
      "outputs": []
    },
    {
      "cell_type": "code",
      "metadata": {
        "colab": {
          "base_uri": "https://localhost:8080/"
        },
        "id": "7Xqe0tJsysa3",
        "outputId": "0adccf87-94bb-4ce2-dbee-65f1cd13e3c2"
      },
      "source": [
        "# dimension\n",
        "coord.shape"
      ],
      "execution_count": 55,
      "outputs": [
        {
          "output_type": "execute_result",
          "data": {
            "text/plain": [
              "(1192180, 55)"
            ]
          },
          "metadata": {
            "tags": []
          },
          "execution_count": 55
        }
      ]
    },
    {
      "cell_type": "code",
      "metadata": {
        "colab": {
          "base_uri": "https://localhost:8080/",
          "height": 313
        },
        "id": "tpU2mQ-g8XJQ",
        "outputId": "27f56a5e-1084-4b2c-a524-1708b131ee5d"
      },
      "source": [
        "#valeurs propres - graphique\n",
        "print(acm.plot_eigenvalues())\n"
      ],
      "execution_count": 56,
      "outputs": [
        {
          "output_type": "display_data",
          "data": {
            "image/png": "[encoded data removed]",
            "text/plain": [
              "<Figure size 432x288 with 1 Axes>"
            ]
          },
          "metadata": {
            "tags": [],
            "needs_background": "light"
          }
        },
        {
          "output_type": "stream",
          "text": [
            "None\n"
          ],
          "name": "stdout"
        }
      ]
    },
    {
      "cell_type": "code",
      "metadata": {
        "colab": {
          "base_uri": "https://localhost:8080/"
        },
        "id": "OJEJV8tO8eqw",
        "outputId": "8d512bd2-e316-49eb-cc42-44849daeabf2"
      },
      "source": [
        "#coordonnées des colonnes\n",
        "print(acm.col_topandas())"
      ],
      "execution_count": 57,
      "outputs": [
        {
          "output_type": "stream",
          "text": [
            "                     col_coord_dim1  col_coord_dim2  col_coord_dim3  \\\n",
            "TypeHabi_01                0.332183       -0.202362       -0.231645   \n",
            "TypeHabi_02               -0.145991        0.076641        0.096391   \n",
            "TypeHabi_03                0.130764       -0.006427       -0.049888   \n",
            "TypeHabi_04                0.106165       -0.912794       -2.005275   \n",
            "GeoFaz_Scl_11             -0.127093       -0.005029       -0.083136   \n",
            "...                             ...             ...             ...   \n",
            "Potentiel_prenom_17       -1.300294        0.054908        0.854744   \n",
            "Potentiel_prenom_18       -1.162968        0.042447        0.258765   \n",
            "Potentiel_prenom_19       -1.255502        0.014836       -0.832904   \n",
            "Potentiel_prenom_20       -1.149292        0.022841       -1.259650   \n",
            "Potentiel_prenom_21        0.298405       -5.820721        0.498699   \n",
            "\n",
            "                     col_coord_dim4  col_coord_dim5  col_coord_dim6  \\\n",
            "TypeHabi_01                0.242887       -0.173721        0.234663   \n",
            "TypeHabi_02               -0.093366        0.070446       -0.100573   \n",
            "TypeHabi_03                0.023020       -0.024995        0.078932   \n",
            "TypeHabi_04               -0.223344       -1.880229       -0.058447   \n",
            "GeoFaz_Scl_11              0.061781        0.102610        0.112497   \n",
            "...                             ...             ...             ...   \n",
            "Potentiel_prenom_17        0.736645       -0.758106        1.082233   \n",
            "Potentiel_prenom_18        0.468832       -0.043326        0.064678   \n",
            "Potentiel_prenom_19       -0.040103        0.790576       -0.493533   \n",
            "Potentiel_prenom_20        0.131298        1.495645       -0.498224   \n",
            "Potentiel_prenom_21       -0.949982        0.105665        0.151568   \n",
            "\n",
            "                     col_coord_dim7  col_coord_dim8  col_coord_dim9  \\\n",
            "TypeHabi_01               -0.285593        0.323057       -0.864841   \n",
            "TypeHabi_02                0.091482       -0.140335        0.372759   \n",
            "TypeHabi_03               -0.113501        0.082022       -0.260545   \n",
            "TypeHabi_04               32.648740        6.302875       -7.020638   \n",
            "GeoFaz_Scl_11             -0.075192        0.028837       -0.102479   \n",
            "...                             ...             ...             ...   \n",
            "Potentiel_prenom_17        0.015852        0.322425        0.524150   \n",
            "Potentiel_prenom_18        0.032337        0.267303       -0.021890   \n",
            "Potentiel_prenom_19        0.075549       -1.034932       -0.616216   \n",
            "Potentiel_prenom_20       -0.120812        0.442839       -0.066539   \n",
            "Potentiel_prenom_21        0.005437       -0.160548        0.465098   \n",
            "\n",
            "                     col_coord_dim10  col_coord_dim11  col_coord_dim12  \\\n",
            "TypeHabi_01                 0.136446        -0.077037         0.098731   \n",
            "TypeHabi_02                -0.056785         0.031223        -0.042141   \n",
            "TypeHabi_03                 0.038255        -0.017280         0.027509   \n",
            "TypeHabi_04                -0.338391         0.248665         0.790341   \n",
            "GeoFaz_Scl_11              -0.065793         0.047661         0.022015   \n",
            "...                              ...              ...              ...   \n",
            "Potentiel_prenom_17         0.315589         0.358176         1.609519   \n",
            "Potentiel_prenom_18         1.560926        -1.058038        -1.687718   \n",
            "Potentiel_prenom_19         0.261077         0.232956         0.509931   \n",
            "Potentiel_prenom_20        -0.059603        -0.043758        -0.157934   \n",
            "Potentiel_prenom_21        -0.015976        -0.017671        -0.153353   \n",
            "\n",
            "                     col_coord_dim13  col_coord_dim14  col_coord_dim15  \\\n",
            "TypeHabi_01                -0.033338         0.097502        -0.263577   \n",
            "TypeHabi_02                 0.017012        -0.018191         0.077758   \n",
            "TypeHabi_03                -0.023650        -0.100565         0.102332   \n",
            "TypeHabi_04                -0.456199         0.366374         0.858179   \n",
            "GeoFaz_Scl_11               0.195214        -0.541937         1.062303   \n",
            "...                              ...              ...              ...   \n",
            "Potentiel_prenom_17         0.220729        -0.055929        -0.003820   \n",
            "Potentiel_prenom_18         1.196693        -0.145315        -0.074280   \n",
            "Potentiel_prenom_19        -0.021652        -1.204404        -0.452808   \n",
            "Potentiel_prenom_20        -1.590687        -0.395664        -0.070397   \n",
            "Potentiel_prenom_21        -0.145632        -0.067543         0.052299   \n",
            "\n",
            "                     col_coord_dim16  col_coord_dim17  col_coord_dim18  \\\n",
            "TypeHabi_01                 0.030261        -0.003420         0.026775   \n",
            "TypeHabi_02                -0.011882         0.003788        -0.019277   \n",
            "TypeHabi_03                 0.005547        -0.012355         0.054487   \n",
            "TypeHabi_04                -0.249794        -0.291812        -0.374746   \n",
            "GeoFaz_Scl_11              -0.113406         0.104783         0.011296   \n",
            "...                              ...              ...              ...   \n",
            "Potentiel_prenom_17         0.064902        -0.388557        -0.203250   \n",
            "Potentiel_prenom_18        -0.493763        -0.815352         0.886649   \n",
            "Potentiel_prenom_19         0.781265         0.291224        -0.291934   \n",
            "Potentiel_prenom_20        -0.065651        -0.495382        -0.003103   \n",
            "Potentiel_prenom_21         0.011043         0.027060        -0.057834   \n",
            "\n",
            "                     col_coord_dim19  col_coord_dim20  col_coord_dim21  \\\n",
            "TypeHabi_01                -0.023673         0.221954        -0.314229   \n",
            "TypeHabi_02                 0.016710        -0.115435         0.170002   \n",
            "TypeHabi_03                -0.044170         0.197144        -0.312644   \n",
            "TypeHabi_04                -0.038594        -1.719032         1.917172   \n",
            "GeoFaz_Scl_11              -0.054596        -0.085831         0.043488   \n",
            "...                              ...              ...              ...   \n",
            "Potentiel_prenom_17        -1.080185        -0.142338        -0.214945   \n",
            "Potentiel_prenom_18         0.385936        -0.018850        -0.115399   \n",
            "Potentiel_prenom_19         0.521283        -0.285229         0.051265   \n",
            "Potentiel_prenom_20        -0.554073         0.537457         0.430903   \n",
            "Potentiel_prenom_21        -0.025696        -0.074864         0.008235   \n",
            "\n",
            "                     col_coord_dim22  col_coord_dim23  col_coord_dim24  \\\n",
            "TypeHabi_01                 0.185956        -0.072282         0.049352   \n",
            "TypeHabi_02                -0.093766         0.021659        -0.028664   \n",
            "TypeHabi_03                 0.148259         0.025060         0.059690   \n",
            "TypeHabi_04                -1.346812         0.432551        -0.245163   \n",
            "GeoFaz_Scl_11              -0.128473         0.001527         0.029495   \n",
            "...                              ...              ...              ...   \n",
            "Potentiel_prenom_17        -0.354154        -0.099753         0.138724   \n",
            "Potentiel_prenom_18        -0.093443        -0.412179        -0.471741   \n",
            "Potentiel_prenom_19         0.102884        -0.615712         0.583327   \n",
            "Potentiel_prenom_20         0.055125         0.310323        -0.225624   \n",
            "Potentiel_prenom_21        -0.104403         0.013474        -0.037628   \n",
            "\n",
            "                     col_coord_dim25  col_coord_dim26  col_coord_dim27  \\\n",
            "TypeHabi_01                -0.074075         0.035706         0.020130   \n",
            "TypeHabi_02                 0.039908        -0.011685        -0.027466   \n",
            "TypeHabi_03                -0.073102        -0.008230         0.108260   \n",
            "TypeHabi_04                 0.509606         0.014989         0.540649   \n",
            "GeoFaz_Scl_11              -0.039863        -0.129820         0.136098   \n",
            "...                              ...              ...              ...   \n",
            "Potentiel_prenom_17        -0.214710         0.308539         0.145282   \n",
            "Potentiel_prenom_18         0.053293         0.246543         0.204933   \n",
            "Potentiel_prenom_19         0.346085        -0.469433         0.503800   \n",
            "Potentiel_prenom_20        -0.544823         0.367384        -0.286052   \n",
            "Potentiel_prenom_21         0.008598        -0.074004         0.068104   \n",
            "\n",
            "                     col_coord_dim28  col_coord_dim29  col_coord_dim30  \\\n",
            "TypeHabi_01                 0.009077        -0.008360        -0.025901   \n",
            "TypeHabi_02                 0.027022        -0.022690         0.011311   \n",
            "TypeHabi_03                -0.159655         0.141022        -0.010548   \n",
            "TypeHabi_04                -1.556298         0.367753         0.121299   \n",
            "GeoFaz_Scl_11              -0.147184         0.009140         0.210913   \n",
            "...                              ...              ...              ...   \n",
            "Potentiel_prenom_17         0.181091         0.345753        -0.155890   \n",
            "Potentiel_prenom_18         0.108699         0.291108         0.124947   \n",
            "Potentiel_prenom_19         0.211795         0.077412        -1.035848   \n",
            "Potentiel_prenom_20        -0.128968         0.219789         0.723315   \n",
            "Potentiel_prenom_21        -0.016092         0.024874         0.026714   \n",
            "\n",
            "                     col_coord_dim31  col_coord_dim32  col_coord_dim33  \\\n",
            "TypeHabi_01                 0.037235         0.096633        -0.007521   \n",
            "TypeHabi_02                -0.025295        -0.061771         0.010041   \n",
            "TypeHabi_03                 0.062929         0.143003        -0.044413   \n",
            "TypeHabi_04                 0.242840         0.421320         0.692269   \n",
            "GeoFaz_Scl_11              -0.219502        -0.245460        -0.037500   \n",
            "...                              ...              ...              ...   \n",
            "Potentiel_prenom_17         0.139697        -0.040727        -0.030753   \n",
            "Potentiel_prenom_18         0.175171        -0.207366        -0.044464   \n",
            "Potentiel_prenom_19        -0.146100        -0.168204        -0.337268   \n",
            "Potentiel_prenom_20         0.974856        -0.111315         0.337812   \n",
            "Potentiel_prenom_21         0.030143        -0.004731         0.006420   \n",
            "\n",
            "                     col_coord_dim34  col_coord_dim35  col_coord_dim36  \\\n",
            "TypeHabi_01                 0.423446        -0.066538         0.024095   \n",
            "TypeHabi_02                -0.219546         0.035054        -0.021614   \n",
            "TypeHabi_03                 0.344475        -0.056056         0.072136   \n",
            "TypeHabi_04                 1.516123        -0.437697        -0.234467   \n",
            "GeoFaz_Scl_11              -1.498541         0.262964         0.089356   \n",
            "...                              ...              ...              ...   \n",
            "Potentiel_prenom_17         0.026544         0.143968        -0.001052   \n",
            "Potentiel_prenom_18         0.132991        -0.084754        -0.391963   \n",
            "Potentiel_prenom_19        -0.101539        -0.227333         0.074922   \n",
            "Potentiel_prenom_20         0.008203         0.197742         0.217552   \n",
            "Potentiel_prenom_21        -0.025512        -0.035695        -0.043861   \n",
            "\n",
            "                     col_coord_dim37  col_coord_dim38  col_coord_dim39  \\\n",
            "TypeHabi_01                -0.090716         0.018529        -0.067058   \n",
            "TypeHabi_02                 0.046202        -0.008807         0.041868   \n",
            "TypeHabi_03                -0.071046         0.009835        -0.093532   \n",
            "TypeHabi_04                -0.002504         0.203564        -0.320185   \n",
            "GeoFaz_Scl_11               0.254332        -0.130369         0.143088   \n",
            "...                              ...              ...              ...   \n",
            "Potentiel_prenom_17        -0.102241         0.194988         0.123087   \n",
            "Potentiel_prenom_18         0.291868        -0.136524         0.254582   \n",
            "Potentiel_prenom_19        -0.284119        -0.415208        -0.372093   \n",
            "Potentiel_prenom_20         0.034100         0.369746         0.211871   \n",
            "Potentiel_prenom_21        -0.001179         0.051123         0.025696   \n",
            "\n",
            "                     col_coord_dim40  col_coord_dim41  col_coord_dim42  \\\n",
            "TypeHabi_01                 0.049439        -0.002950         0.015631   \n",
            "TypeHabi_02                -0.026946        -0.117069        -0.014855   \n",
            "TypeHabi_03                 0.044555         0.650355         0.047639   \n",
            "TypeHabi_04                 0.686738         1.043743         0.500175   \n",
            "GeoFaz_Scl_11              -0.037662        -0.080334         0.001760   \n",
            "...                              ...              ...              ...   \n",
            "Potentiel_prenom_17         0.079138        -0.027508         0.287012   \n",
            "Potentiel_prenom_18         0.025085         0.152091        -0.249834   \n",
            "Potentiel_prenom_19        -0.291051         0.060643        -0.112903   \n",
            "Potentiel_prenom_20         0.210998        -0.148911         0.251628   \n",
            "Potentiel_prenom_21        -0.082135        -0.036558        -0.015887   \n",
            "\n",
            "                     col_coord_dim43  col_coord_dim44  col_coord_dim45  \\\n",
            "TypeHabi_01                -0.014139         0.040776        -0.053299   \n",
            "TypeHabi_02                 0.002889        -0.050897         0.009527   \n",
            "TypeHabi_03                 0.010716         0.196295         0.068344   \n",
            "TypeHabi_04                 0.372695         0.522324        -2.103088   \n",
            "GeoFaz_Scl_11               0.003754        -0.097138        -0.017912   \n",
            "...                              ...              ...              ...   \n",
            "Potentiel_prenom_17         0.083988        -0.063343         0.195035   \n",
            "Potentiel_prenom_18        -0.038800         0.183301         0.176422   \n",
            "Potentiel_prenom_19        -0.437837         0.206306        -0.341420   \n",
            "Potentiel_prenom_20         0.167961        -0.159462        -0.140050   \n",
            "Potentiel_prenom_21         0.005606         0.003131        -0.077420   \n",
            "\n",
            "                     col_coord_dim46  col_coord_dim47  col_coord_dim48  \\\n",
            "TypeHabi_01                 0.079959        -0.002803         0.093507   \n",
            "TypeHabi_02                 0.032682         0.083293         0.064676   \n",
            "TypeHabi_03                -0.352062        -0.450445        -0.556979   \n",
            "TypeHabi_04                 1.186137        -1.129811         1.091443   \n",
            "GeoFaz_Scl_11              -0.367444        -0.567014         0.347354   \n",
            "...                              ...              ...              ...   \n",
            "Potentiel_prenom_17         0.055230         0.047192         0.008804   \n",
            "Potentiel_prenom_18         0.164445         0.071070         0.086134   \n",
            "Potentiel_prenom_19        -0.352279         0.307588         0.054230   \n",
            "Potentiel_prenom_20        -0.107676        -0.062999         0.114944   \n",
            "Potentiel_prenom_21         0.079673        -0.041464        -0.105933   \n",
            "\n",
            "                     col_coord_dim49  col_coord_dim50  ...  col_cos2_dim6  \\\n",
            "TypeHabi_01                -0.068641         0.025526  ...       0.017172   \n",
            "TypeHabi_02                -0.026106         0.012540  ...       0.018413   \n",
            "TypeHabi_03                 0.287783        -0.119035  ...       0.000819   \n",
            "TypeHabi_04                -0.396656        -0.492423  ...       0.000002   \n",
            "GeoFaz_Scl_11              -0.053368         0.206339  ...       0.000489   \n",
            "...                              ...              ...  ...            ...   \n",
            "Potentiel_prenom_17        -0.108081         0.010784  ...       0.088679   \n",
            "Potentiel_prenom_18        -0.210238         0.057078  ...       0.000227   \n",
            "Potentiel_prenom_19        -0.595674        -0.073899  ...       0.013139   \n",
            "Potentiel_prenom_20         0.321225         0.011638  ...       0.015080   \n",
            "Potentiel_prenom_21         0.072491        -0.013722  ...       0.000637   \n",
            "\n",
            "                     col_cos2_dim7  col_cos2_dim8  col_cos2_dim9  \\\n",
            "TypeHabi_01           2.543490e-02       0.032546       0.233243   \n",
            "TypeHabi_02           1.523456e-02       0.035850       0.252936   \n",
            "TypeHabi_03           1.693408e-03       0.000884       0.008923   \n",
            "TypeHabi_04           7.197291e-01       0.026823       0.033280   \n",
            "GeoFaz_Scl_11         2.185861e-04       0.000032       0.000406   \n",
            "...                            ...            ...            ...   \n",
            "Potentiel_prenom_17   1.902670e-05       0.007871       0.020801   \n",
            "Potentiel_prenom_18   5.676692e-05       0.003879       0.000026   \n",
            "Potentiel_prenom_19   3.078776e-04       0.057775       0.020483   \n",
            "Potentiel_prenom_20   8.867198e-04       0.011914       0.000269   \n",
            "Potentiel_prenom_21   8.193071e-07       0.000714       0.005996   \n",
            "\n",
            "                     col_cos2_dim10  col_cos2_dim11  col_cos2_dim12  \\\n",
            "TypeHabi_01                0.005806        0.001851        0.003040   \n",
            "TypeHabi_02                0.005870        0.001775        0.003233   \n",
            "TypeHabi_03                0.000192        0.000039        0.000099   \n",
            "TypeHabi_04                0.000077        0.000042        0.000422   \n",
            "GeoFaz_Scl_11              0.000167        0.000088        0.000019   \n",
            "...                             ...             ...             ...   \n",
            "Potentiel_prenom_17        0.007541        0.009713        0.196143   \n",
            "Potentiel_prenom_18        0.132272        0.060772        0.154633   \n",
            "Potentiel_prenom_19        0.003677        0.002927        0.014026   \n",
            "Potentiel_prenom_20        0.000216        0.000116        0.001515   \n",
            "Potentiel_prenom_21        0.000007        0.000009        0.000652   \n",
            "\n",
            "                     col_cos2_dim13  col_cos2_dim14  col_cos2_dim15  \\\n",
            "TypeHabi_01                0.000347        0.002965        0.021665   \n",
            "TypeHabi_02                0.000527        0.000602        0.011006   \n",
            "TypeHabi_03                0.000074        0.001329        0.001377   \n",
            "TypeHabi_04                0.000141        0.000091        0.000497   \n",
            "GeoFaz_Scl_11              0.001473        0.011355        0.043629   \n",
            "...                             ...             ...             ...   \n",
            "Potentiel_prenom_17        0.003689        0.000237        0.000001   \n",
            "Potentiel_prenom_18        0.077744        0.001146        0.000300   \n",
            "Potentiel_prenom_19        0.000025        0.078246        0.011060   \n",
            "Potentiel_prenom_20        0.153722        0.009511        0.000301   \n",
            "Potentiel_prenom_21        0.000588        0.000126        0.000076   \n",
            "\n",
            "                     col_cos2_dim16  col_cos2_dim17  col_cos2_dim18  \\\n",
            "TypeHabi_01                0.000286        0.000004    2.235650e-04   \n",
            "TypeHabi_02                0.000257        0.000026    6.764619e-04   \n",
            "TypeHabi_03                0.000004        0.000020    3.902513e-04   \n",
            "TypeHabi_04                0.000042        0.000057    9.482242e-05   \n",
            "GeoFaz_Scl_11              0.000497        0.000424    4.933163e-06   \n",
            "...                             ...             ...             ...   \n",
            "Potentiel_prenom_17        0.000319        0.011431    3.127805e-03   \n",
            "Potentiel_prenom_18        0.013235        0.036091    4.267823e-02   \n",
            "Potentiel_prenom_19        0.032924        0.004575    4.597162e-03   \n",
            "Potentiel_prenom_20        0.000262        0.014909    5.850660e-07   \n",
            "Potentiel_prenom_21        0.000003        0.000020    9.270690e-05   \n",
            "\n",
            "                     col_cos2_dim19  col_cos2_dim20  col_cos2_dim21  \\\n",
            "TypeHabi_01                0.000175        0.015362        0.030791   \n",
            "TypeHabi_02                0.000508        0.024256        0.052609   \n",
            "TypeHabi_03                0.000256        0.005109        0.012849   \n",
            "TypeHabi_04                0.000001        0.001995        0.002482   \n",
            "GeoFaz_Scl_11              0.000115        0.000285        0.000073   \n",
            "...                             ...             ...             ...   \n",
            "Potentiel_prenom_17        0.088344        0.001534        0.003498   \n",
            "Potentiel_prenom_18        0.008086        0.000019        0.000723   \n",
            "Potentiel_prenom_19        0.014658        0.004388        0.000142   \n",
            "Potentiel_prenom_20        0.018651        0.017549        0.011280   \n",
            "Potentiel_prenom_21        0.000018        0.000155        0.000002   \n",
            "\n",
            "                     col_cos2_dim22  col_cos2_dim23  col_cos2_dim24  \\\n",
            "TypeHabi_01                0.010783    1.629294e-03        0.000760   \n",
            "TypeHabi_02                0.016005    8.539110e-04        0.001496   \n",
            "TypeHabi_03                0.002889    8.255311e-05        0.000468   \n",
            "TypeHabi_04                0.001225    1.263313e-04        0.000041   \n",
            "GeoFaz_Scl_11              0.000638    9.013608e-08        0.000034   \n",
            "...                             ...             ...             ...   \n",
            "Potentiel_prenom_17        0.009497    7.534113e-04        0.001457   \n",
            "Potentiel_prenom_18        0.000474    9.223053e-03        0.012081   \n",
            "Potentiel_prenom_19        0.000571    2.044912e-02        0.018355   \n",
            "Potentiel_prenom_20        0.000185    5.850492e-03        0.003093   \n",
            "Potentiel_prenom_21        0.000302    5.031954e-06        0.000039   \n",
            "\n",
            "                     col_cos2_dim25  col_cos2_dim26  col_cos2_dim27  \\\n",
            "TypeHabi_01                0.001711    3.975651e-04        0.000126   \n",
            "TypeHabi_02                0.002899    2.485305e-04        0.001373   \n",
            "TypeHabi_03                0.000702    8.904514e-06        0.001541   \n",
            "TypeHabi_04                0.000175    1.517025e-07        0.000197   \n",
            "GeoFaz_Scl_11              0.000061    6.515686e-04        0.000716   \n",
            "...                             ...             ...             ...   \n",
            "Potentiel_prenom_17        0.003490    7.207764e-03        0.001598   \n",
            "Potentiel_prenom_18        0.000154    3.299815e-03        0.002280   \n",
            "Potentiel_prenom_19        0.006461    1.188684e-02        0.013691   \n",
            "Potentiel_prenom_20        0.018033    8.199844e-03        0.004971   \n",
            "Potentiel_prenom_21        0.000002    1.517976e-04        0.000129   \n",
            "\n",
            "                     col_cos2_dim28  col_cos2_dim29  col_cos2_dim30  \\\n",
            "TypeHabi_01                0.000026        0.000022        0.000209   \n",
            "TypeHabi_02                0.001329        0.000937        0.000233   \n",
            "TypeHabi_03                0.003351        0.002614        0.000015   \n",
            "TypeHabi_04                0.001635        0.000091        0.000010   \n",
            "GeoFaz_Scl_11              0.000838        0.000003        0.001720   \n",
            "...                             ...             ...             ...   \n",
            "Potentiel_prenom_17        0.002483        0.009051        0.001840   \n",
            "Potentiel_prenom_18        0.000641        0.004601        0.000848   \n",
            "Potentiel_prenom_19        0.002420        0.000323        0.057878   \n",
            "Potentiel_prenom_20        0.001010        0.002935        0.031785   \n",
            "Potentiel_prenom_21        0.000007        0.000017        0.000020   \n",
            "\n",
            "                     col_cos2_dim31  col_cos2_dim32  col_cos2_dim33  \\\n",
            "TypeHabi_01                0.000432    2.911995e-03        0.000018   \n",
            "TypeHabi_02                0.001165    6.945857e-03        0.000184   \n",
            "TypeHabi_03                0.000521    2.688135e-03        0.000259   \n",
            "TypeHabi_04                0.000040    1.198560e-04        0.000324   \n",
            "GeoFaz_Scl_11              0.001863    2.329351e-03        0.000054   \n",
            "...                             ...             ...             ...   \n",
            "Potentiel_prenom_17        0.001478    1.255879e-04        0.000072   \n",
            "Potentiel_prenom_18        0.001666    2.334424e-03        0.000107   \n",
            "Potentiel_prenom_19        0.001151    1.526123e-03        0.006136   \n",
            "Potentiel_prenom_20        0.057736    7.527822e-04        0.006933   \n",
            "Potentiel_prenom_21        0.000025    6.203459e-07        0.000001   \n",
            "\n",
            "                     col_cos2_dim34  col_cos2_dim35  col_cos2_dim36  \\\n",
            "TypeHabi_01                0.055915        0.001381    1.810517e-04   \n",
            "TypeHabi_02                0.087741        0.002237    8.503760e-04   \n",
            "TypeHabi_03                0.015598        0.000413    6.840090e-04   \n",
            "TypeHabi_04                0.001552        0.000129    3.711931e-05   \n",
            "GeoFaz_Scl_11              0.086818        0.002673    3.086908e-04   \n",
            "...                             ...             ...             ...   \n",
            "Potentiel_prenom_17        0.000053        0.001569    8.383224e-08   \n",
            "Potentiel_prenom_18        0.000960        0.000390    8.340528e-03   \n",
            "Potentiel_prenom_19        0.000556        0.002788    3.027838e-04   \n",
            "Potentiel_prenom_20        0.000004        0.002376    2.875351e-03   \n",
            "Potentiel_prenom_21        0.000018        0.000035    5.332314e-05   \n",
            "\n",
            "                     col_cos2_dim37  col_cos2_dim38  col_cos2_dim39  \\\n",
            "TypeHabi_01            2.566250e-03        0.000107        0.001402   \n",
            "TypeHabi_02            3.885679e-03        0.000141        0.003191   \n",
            "TypeHabi_03            6.635031e-04        0.000013        0.001150   \n",
            "TypeHabi_04            4.233671e-09        0.000028        0.000069   \n",
            "GeoFaz_Scl_11          2.500793e-03        0.000657        0.000792   \n",
            "...                             ...             ...             ...   \n",
            "Potentiel_prenom_17    7.914681e-04        0.002879        0.001147   \n",
            "Potentiel_prenom_18    4.624635e-03        0.001012        0.003518   \n",
            "Potentiel_prenom_19    4.354305e-03        0.009299        0.007468   \n",
            "Potentiel_prenom_20    7.064234e-05        0.008306        0.002727   \n",
            "Potentiel_prenom_21    3.854629e-08        0.000072        0.000018   \n",
            "\n",
            "                     col_cos2_dim40  col_cos2_dim41  col_cos2_dim42  \\\n",
            "TypeHabi_01                0.000762        0.000003    7.619378e-05   \n",
            "TypeHabi_02                0.001322        0.024948    4.016864e-04   \n",
            "TypeHabi_03                0.000261        0.055598    2.983151e-04   \n",
            "TypeHabi_04                0.000318        0.000736    1.689193e-04   \n",
            "GeoFaz_Scl_11              0.000055        0.000249    1.197720e-07   \n",
            "...                             ...             ...             ...   \n",
            "Potentiel_prenom_17        0.000474        0.000057    6.237082e-03   \n",
            "Potentiel_prenom_18        0.000034        0.001256    3.388501e-03   \n",
            "Potentiel_prenom_19        0.004569        0.000198    6.875865e-04   \n",
            "Potentiel_prenom_20        0.002705        0.001347    3.846652e-03   \n",
            "Potentiel_prenom_21        0.000187        0.000037    6.995931e-06   \n",
            "\n",
            "                     col_cos2_dim43  col_cos2_dim44  col_cos2_dim45  \\\n",
            "TypeHabi_01            6.234048e-05    5.184966e-04        0.000886   \n",
            "TypeHabi_02            1.519231e-05    4.715592e-03        0.000165   \n",
            "TypeHabi_03            1.509416e-05    5.064952e-03        0.000614   \n",
            "TypeHabi_04            9.378737e-05    1.842110e-04        0.002986   \n",
            "GeoFaz_Scl_11          5.448387e-07    3.647976e-04        0.000012   \n",
            "...                             ...             ...             ...   \n",
            "Potentiel_prenom_17    5.340849e-04    3.037893e-04        0.002880   \n",
            "Potentiel_prenom_18    8.172581e-05    1.824034e-03        0.001690   \n",
            "Potentiel_prenom_19    1.034055e-02    2.295850e-03        0.006288   \n",
            "Potentiel_prenom_20    1.713895e-03    1.544837e-03        0.001192   \n",
            "Potentiel_prenom_21    8.712240e-07    2.717629e-07        0.000166   \n",
            "\n",
            "                     col_cos2_dim46  col_cos2_dim47  col_cos2_dim48  \\\n",
            "TypeHabi_01                0.001994        0.000002        0.002727   \n",
            "TypeHabi_02                0.001944        0.012629        0.007615   \n",
            "TypeHabi_03                0.016293        0.026671        0.040779   \n",
            "TypeHabi_04                0.000950        0.000862        0.000804   \n",
            "GeoFaz_Scl_11              0.005220        0.012430        0.004665   \n",
            "...                             ...             ...             ...   \n",
            "Potentiel_prenom_17        0.000231        0.000169        0.000006   \n",
            "Potentiel_prenom_18        0.001468        0.000274        0.000403   \n",
            "Potentiel_prenom_19        0.006694        0.005103        0.000159   \n",
            "Potentiel_prenom_20        0.000704        0.000241        0.000803   \n",
            "Potentiel_prenom_21        0.000176        0.000048        0.000311   \n",
            "\n",
            "                     col_cos2_dim49  col_cos2_dim50  col_cos2_dim51  \\\n",
            "TypeHabi_01                0.001469        0.000203        0.001211   \n",
            "TypeHabi_02                0.001241        0.000286        0.002384   \n",
            "TypeHabi_03                0.010887        0.001863        0.013412   \n",
            "TypeHabi_04                0.000106        0.000164        0.001663   \n",
            "GeoFaz_Scl_11              0.000110        0.001646        0.006834   \n",
            "...                             ...             ...             ...   \n",
            "Potentiel_prenom_17        0.000884        0.000009        0.002584   \n",
            "Potentiel_prenom_18        0.002400        0.000177        0.000038   \n",
            "Potentiel_prenom_19        0.019140        0.000295        0.001784   \n",
            "Potentiel_prenom_20        0.006269        0.000008        0.003101   \n",
            "Potentiel_prenom_21        0.000146        0.000005        0.000186   \n",
            "\n",
            "                     col_cos2_dim52  col_cos2_dim53  col_cos2_dim54  \\\n",
            "TypeHabi_01                0.003589        0.000502        0.001916   \n",
            "TypeHabi_02                0.009314        0.000633        0.009930   \n",
            "TypeHabi_03                0.051041        0.004196        0.042382   \n",
            "TypeHabi_04                0.000777        0.000993        0.000167   \n",
            "GeoFaz_Scl_11              0.035931        0.002833        0.000231   \n",
            "...                             ...             ...             ...   \n",
            "Potentiel_prenom_17        0.000225        0.005327        0.000303   \n",
            "Potentiel_prenom_18        0.000056        0.000664        0.000884   \n",
            "Potentiel_prenom_19        0.000923        0.001692        0.004951   \n",
            "Potentiel_prenom_20        0.000245        0.004124        0.003595   \n",
            "Potentiel_prenom_21        0.000057        0.000124        0.000121   \n",
            "\n",
            "                     col_cos2_dim55  \n",
            "TypeHabi_01                0.001175  \n",
            "TypeHabi_02                0.003878  \n",
            "TypeHabi_03                0.019820  \n",
            "TypeHabi_04                0.000783  \n",
            "GeoFaz_Scl_11              0.002630  \n",
            "...                             ...  \n",
            "Potentiel_prenom_17        0.000017  \n",
            "Potentiel_prenom_18        0.000573  \n",
            "Potentiel_prenom_19        0.001836  \n",
            "Potentiel_prenom_20        0.002675  \n",
            "Potentiel_prenom_21        0.000030  \n",
            "\n",
            "[269 rows x 165 columns]\n"
          ],
          "name": "stdout"
        }
      ]
    },
    {
      "cell_type": "code",
      "metadata": {
        "colab": {
          "base_uri": "https://localhost:8080/"
        },
        "id": "irARzF0d8es8",
        "outputId": "47a9f019-d219-493b-f550-b7e43df3c43d"
      },
      "source": [
        "#nombre var. actives\n",
        "p = data.shape[1]-1\n",
        "print(p)\n",
        "#calcul des fonctions de projection\n",
        "fproj = np.zeros(acm.col_coord_.shape)\n",
        "#pour chaque colonne\n",
        "for j in range(fproj.shape[1]):\n",
        " fproj[:,j] = acm.col_coord_[:,j]/(p*np.sqrt(acm.eig_[0,j]))\n",
        "#affichage fonction\n",
        "print(fproj)\n",
        "#affichage plus avenant des deux premiers facteurs\n",
        "print(pd.DataFrame(fproj,index=acm.col_labels_))\n"
      ],
      "execution_count": 58,
      "outputs": [
        {
          "output_type": "stream",
          "text": [
            "15\n",
            "[[ 0.0363745  -0.02395679 -0.02967096 ...  0.00912592 -0.01789951\n",
            "  -0.01407735]\n",
            " [-0.01598628  0.00907323  0.01234655 ...  0.00424292 -0.01686645\n",
            "  -0.01058414]\n",
            " [ 0.01431884 -0.0007609  -0.00639004 ... -0.04064256  0.12966795\n",
            "   0.08903856]\n",
            " ...\n",
            " [-0.13747924  0.00175632 -0.10668513 ... -0.04029207  0.06918552\n",
            "  -0.04230643]\n",
            " [-0.12584915  0.0027041  -0.16134627 ...  0.059268   -0.05555159\n",
            "   0.0481111 ]\n",
            " [ 0.03267582 -0.68909142  0.06387752 ... -0.01522862  0.01507019\n",
            "   0.0075577 ]]\n",
            "                           0         1         2         3         4   \\\n",
            "TypeHabi_01          0.036374 -0.023957 -0.029671  0.032196 -0.024136   \n",
            "TypeHabi_02         -0.015986  0.009073  0.012347 -0.012376  0.009787   \n",
            "TypeHabi_03          0.014319 -0.000761 -0.006390  0.003051 -0.003473   \n",
            "TypeHabi_04          0.011625 -0.108062 -0.256852 -0.029606 -0.261229   \n",
            "GeoFaz_Scl_11       -0.013917 -0.000595 -0.010649  0.008189  0.014256   \n",
            "...                       ...       ...       ...       ...       ...   \n",
            "Potentiel_prenom_17 -0.142384  0.006500  0.109483  0.097647 -0.105327   \n",
            "Potentiel_prenom_18 -0.127347  0.005025  0.033145  0.062146 -0.006019   \n",
            "Potentiel_prenom_19 -0.137479  0.001756 -0.106685 -0.005316  0.109839   \n",
            "Potentiel_prenom_20 -0.125849  0.002704 -0.161346  0.017404  0.207797   \n",
            "Potentiel_prenom_21  0.032676 -0.689091  0.063878 -0.125926  0.014681   \n",
            "\n",
            "                           5         6         7         8         9   \\\n",
            "TypeHabi_01          0.033476 -0.043377  0.049771 -0.134881  0.021917   \n",
            "TypeHabi_02         -0.014347  0.013895 -0.021620  0.058136 -0.009121   \n",
            "TypeHabi_03          0.011260 -0.017239  0.012636 -0.040635  0.006145   \n",
            "TypeHabi_04         -0.008338  4.958782  0.971041 -1.094941 -0.054356   \n",
            "GeoFaz_Scl_11        0.016048 -0.011420  0.004443 -0.015983 -0.010568   \n",
            "...                       ...       ...       ...       ...       ...   \n",
            "Potentiel_prenom_17  0.154384  0.002408  0.049674  0.081747  0.050693   \n",
            "Potentiel_prenom_18  0.009226  0.004911  0.041182 -0.003414  0.250734   \n",
            "Potentiel_prenom_19 -0.070404  0.011475 -0.159445 -0.096105  0.041937   \n",
            "Potentiel_prenom_20 -0.071073 -0.018349  0.068225 -0.010378 -0.009574   \n",
            "Potentiel_prenom_21  0.021622  0.000826 -0.024735  0.072537 -0.002566   \n",
            "\n",
            "                           10        11        12        13        14  \\\n",
            "TypeHabi_01         -0.012691  0.016557 -0.005641  0.017054 -0.046490   \n",
            "TypeHabi_02          0.005144 -0.007067  0.002878 -0.003182  0.013715   \n",
            "TypeHabi_03         -0.002847  0.004613 -0.004002 -0.017590  0.018050   \n",
            "TypeHabi_04          0.040965  0.132542 -0.077189  0.064083  0.151367   \n",
            "GeoFaz_Scl_11        0.007852  0.003692  0.033030 -0.094792  0.187371   \n",
            "...                       ...       ...       ...       ...       ...   \n",
            "Potentiel_prenom_17  0.059006  0.269919  0.037348 -0.009783 -0.000674   \n",
            "Potentiel_prenom_18 -0.174301 -0.283033  0.202481 -0.025417 -0.013102   \n",
            "Potentiel_prenom_19  0.038377  0.085516 -0.003664 -0.210666 -0.079867   \n",
            "Potentiel_prenom_20 -0.007209 -0.026486 -0.269145 -0.069207 -0.012417   \n",
            "Potentiel_prenom_21 -0.002911 -0.025718 -0.024641 -0.011814  0.009225   \n",
            "\n",
            "                           15        16        17        18        19  \\\n",
            "TypeHabi_01          0.005367 -0.000611  0.004849 -0.004336  0.040686   \n",
            "TypeHabi_02         -0.002108  0.000677 -0.003491  0.003060 -0.021160   \n",
            "TypeHabi_03          0.000984 -0.002207  0.009868 -0.008090  0.036138   \n",
            "TypeHabi_04         -0.044306 -0.052122 -0.067867 -0.007069 -0.315115   \n",
            "GeoFaz_Scl_11       -0.020115  0.018716  0.002046 -0.009999 -0.015734   \n",
            "...                       ...       ...       ...       ...       ...   \n",
            "Potentiel_prenom_17  0.011512 -0.069402 -0.036809 -0.197841 -0.026092   \n",
            "Potentiel_prenom_18 -0.087579 -0.145633  0.160574  0.070686 -0.003455   \n",
            "Potentiel_prenom_19  0.138573  0.052017 -0.052870  0.095475 -0.052285   \n",
            "Potentiel_prenom_20 -0.011645 -0.088482 -0.000562 -0.101481  0.098521   \n",
            "Potentiel_prenom_21  0.001959  0.004833 -0.010474 -0.004706 -0.013723   \n",
            "\n",
            "                           20        21        22        23        24  \\\n",
            "TypeHabi_01         -0.058537  0.034953 -0.013740  0.009488 -0.014275   \n",
            "TypeHabi_02          0.031669 -0.017625  0.004117 -0.005511  0.007690   \n",
            "TypeHabi_03         -0.058242  0.027867  0.004764  0.011476 -0.014087   \n",
            "TypeHabi_04          0.357145 -0.253152  0.082222 -0.047134  0.098204   \n",
            "GeoFaz_Scl_11        0.008101 -0.024148  0.000290  0.005671 -0.007682   \n",
            "...                       ...       ...       ...       ...       ...   \n",
            "Potentiel_prenom_17 -0.040041 -0.066568 -0.018962  0.026670 -0.041376   \n",
            "Potentiel_prenom_18 -0.021497 -0.017564 -0.078350 -0.090695  0.010270   \n",
            "Potentiel_prenom_19  0.009550  0.019338 -0.117039  0.112148  0.066692   \n",
            "Potentiel_prenom_20  0.080272  0.010361  0.058988 -0.043377 -0.104990   \n",
            "Potentiel_prenom_21  0.001534 -0.019624  0.002561 -0.007234  0.001657   \n",
            "\n",
            "                           25        26        27        28        29  \\\n",
            "TypeHabi_01          0.006992  0.003946  0.001792 -0.001658 -0.005170   \n",
            "TypeHabi_02         -0.002288 -0.005384  0.005334 -0.004500  0.002258   \n",
            "TypeHabi_03         -0.001612  0.021220 -0.031517  0.027967 -0.002105   \n",
            "TypeHabi_04          0.002935  0.105975 -0.307223  0.072933  0.024212   \n",
            "GeoFaz_Scl_11       -0.025424  0.026677 -0.029055  0.001813  0.042100   \n",
            "...                       ...       ...       ...       ...       ...   \n",
            "Potentiel_prenom_17  0.060423  0.028477  0.035748  0.068570 -0.031117   \n",
            "Potentiel_prenom_18  0.048282  0.040170  0.021458  0.057732  0.024940   \n",
            "Potentiel_prenom_19 -0.091932  0.098752  0.041810  0.015352 -0.206764   \n",
            "Potentiel_prenom_20  0.071947 -0.056070 -0.025459  0.043588  0.144380   \n",
            "Potentiel_prenom_21 -0.014493  0.013349 -0.003177  0.004933  0.005332   \n",
            "\n",
            "                           30        31        32        33        34  \\\n",
            "TypeHabi_01          0.007525  0.019630 -0.001533  0.086495 -0.013713   \n",
            "TypeHabi_02         -0.005112 -0.012548  0.002047 -0.044845  0.007224   \n",
            "TypeHabi_03          0.012718  0.029050 -0.009056  0.070364 -0.011553   \n",
            "TypeHabi_04          0.049076  0.085587  0.141153  0.309690 -0.090207   \n",
            "GeoFaz_Scl_11       -0.044360 -0.049863 -0.007646 -0.306099  0.054196   \n",
            "...                       ...       ...       ...       ...       ...   \n",
            "Potentiel_prenom_17  0.028232 -0.008273 -0.006271  0.005422  0.029671   \n",
            "Potentiel_prenom_18  0.035401 -0.042125 -0.009066  0.027165 -0.017467   \n",
            "Potentiel_prenom_19 -0.029526 -0.034169 -0.068769 -0.020741 -0.046852   \n",
            "Potentiel_prenom_20  0.197013 -0.022613  0.068880  0.001676  0.040754   \n",
            "Potentiel_prenom_21  0.006092 -0.000961  0.001309 -0.005211 -0.007357   \n",
            "\n",
            "                           35        36        37        38        39  \\\n",
            "TypeHabi_01          0.004971 -0.018924  0.003878 -0.014160  0.010604   \n",
            "TypeHabi_02         -0.004459  0.009638 -0.001843  0.008841 -0.005780   \n",
            "TypeHabi_03          0.014882 -0.014821  0.002058 -0.019751  0.009556   \n",
            "TypeHabi_04         -0.048372 -0.000522  0.042604 -0.067612  0.147294   \n",
            "GeoFaz_Scl_11        0.018435  0.053055 -0.027285  0.030215 -0.008078   \n",
            "...                       ...       ...       ...       ...       ...   \n",
            "Potentiel_prenom_17 -0.000217 -0.021328  0.040809  0.025992  0.016974   \n",
            "Potentiel_prenom_18 -0.080865  0.060886 -0.028573  0.053759  0.005380   \n",
            "Potentiel_prenom_19  0.015457 -0.059269 -0.086900 -0.078573 -0.062426   \n",
            "Potentiel_prenom_20  0.044882  0.007113  0.077385  0.044740  0.045256   \n",
            "Potentiel_prenom_21 -0.009049 -0.000246  0.010700  0.005426 -0.017617   \n",
            "\n",
            "                           40        41        42        43        44  \\\n",
            "TypeHabi_01         -0.000637  0.003387 -0.003093  0.008950 -0.011768   \n",
            "TypeHabi_02         -0.025300 -0.003219  0.000632 -0.011172  0.002103   \n",
            "TypeHabi_03          0.140552  0.010323  0.002344  0.043086  0.015090   \n",
            "TypeHabi_04          0.225569  0.108385  0.081518  0.114648 -0.464358   \n",
            "GeoFaz_Scl_11       -0.017361  0.000381  0.000821 -0.021321 -0.003955   \n",
            "...                       ...       ...       ...       ...       ...   \n",
            "Potentiel_prenom_17 -0.005945  0.062194  0.018370 -0.013903  0.043063   \n",
            "Potentiel_prenom_18  0.032869 -0.054138 -0.008487  0.040234  0.038954   \n",
            "Potentiel_prenom_19  0.013106 -0.024465 -0.095767  0.045283 -0.075385   \n",
            "Potentiel_prenom_20 -0.032182  0.054526  0.036738 -0.035001 -0.030923   \n",
            "Potentiel_prenom_21 -0.007901 -0.003443  0.001226  0.000687 -0.017094   \n",
            "\n",
            "                           45        46        47        48        49  \\\n",
            "TypeHabi_01          0.017683 -0.000624  0.020858 -0.015397  0.005753   \n",
            "TypeHabi_02          0.007228  0.018532  0.014427 -0.005856  0.002826   \n",
            "TypeHabi_03         -0.077861 -0.100222 -0.124238  0.064552 -0.026830   \n",
            "TypeHabi_04          0.262321 -0.251378  0.243455 -0.088973 -0.110991   \n",
            "GeoFaz_Scl_11       -0.081263 -0.126158  0.077480 -0.011971  0.046508   \n",
            "...                       ...       ...       ...       ...       ...   \n",
            "Potentiel_prenom_17  0.012214  0.010500  0.001964 -0.024243  0.002431   \n",
            "Potentiel_prenom_18  0.036368  0.015813  0.019213 -0.047158  0.012865   \n",
            "Potentiel_prenom_19 -0.077909  0.068437  0.012096 -0.133614 -0.016657   \n",
            "Potentiel_prenom_20 -0.023813 -0.014017  0.025639  0.072053  0.002623   \n",
            "Potentiel_prenom_21  0.017620 -0.009226 -0.023629  0.016260 -0.003093   \n",
            "\n",
            "                           50        51        52        53        54  \n",
            "TypeHabi_01         -0.014066 -0.024356  0.009126 -0.017900 -0.014077  \n",
            "TypeHabi_02         -0.008169 -0.016240  0.004243 -0.016866 -0.010584  \n",
            "TypeHabi_03          0.072105  0.141469 -0.040643  0.129668  0.089039  \n",
            "TypeHabi_04          0.354311 -0.243555 -0.275826  0.113495 -0.246871  \n",
            "GeoFaz_Scl_11        0.094908 -0.218865 -0.061576 -0.017651 -0.059804  \n",
            "...                       ...       ...       ...       ...       ...  \n",
            "Potentiel_prenom_17 -0.041703 -0.012375 -0.060339  0.014435  0.003469  \n",
            "Potentiel_prenom_18  0.005977  0.007303  0.025156 -0.029134  0.023549  \n",
            "Potentiel_prenom_19 -0.041050 -0.029704 -0.040292  0.069186 -0.042306  \n",
            "Potentiel_prenom_20  0.051002  0.014422  0.059268 -0.055552  0.048111  \n",
            "Potentiel_prenom_21  0.018494  0.010325 -0.015229  0.015070  0.007558  \n",
            "\n",
            "[269 rows x 55 columns]\n"
          ],
          "name": "stdout"
        }
      ]
    },
    {
      "cell_type": "code",
      "metadata": {
        "id": "TYbwi6XPom6o"
      },
      "source": [
        ""
      ],
      "execution_count": 58,
      "outputs": []
    },
    {
      "cell_type": "code",
      "metadata": {
        "id": "yk7314rJo8ss",
        "colab": {
          "base_uri": "https://localhost:8080/"
        },
        "outputId": "4fb1f529-2fa2-4af3-d929-a3c28f7af25d"
      },
      "source": [
        "# affichafe des 10 premières lignes\n",
        "print(coord[:2,:])\n"
      ],
      "execution_count": 59,
      "outputs": [
        {
          "output_type": "stream",
          "text": [
            "[[ 9.01913285e-01 -2.09883556e-01 -1.58151918e+00  3.39904799e-01\n",
            "  -1.55754346e+00  1.98470948e-01  4.60805222e+00  5.26594712e-01\n",
            "  -2.89404151e-01  1.01153160e-01  3.48560994e-01  4.52024071e-01\n",
            "   9.88762191e-02 -8.05669197e-01 -5.06490177e-01 -1.17963205e+00\n",
            "   3.32491077e-01  6.04743324e-01 -7.89071534e-02  3.31673468e-01\n",
            "   6.98336905e-01  1.52708935e-01  2.09341648e-01 -2.35928946e-02\n",
            "  -2.93807952e-01 -4.76460395e-01 -5.17969126e-01  1.68319325e-01\n",
            "   3.20740801e-01  1.22734109e+00  4.37396808e-01  1.32535955e+00\n",
            "  -1.00692914e+00 -5.29530068e-01 -8.94754337e-02 -1.62054881e+00\n",
            "  -5.34084124e-01 -2.80052959e-01 -1.11643911e+00 -1.13165105e+00\n",
            "   6.85239367e-01 -7.74801379e-01 -1.28496486e+00 -1.09831885e+00\n",
            "   1.27227786e+00  2.98839543e-01  3.25815776e-01  6.70631414e-01\n",
            "   7.14424154e-01  4.13236106e-01 -1.89596586e-01 -3.54905304e-02\n",
            "   2.04203685e-01 -8.43234963e-02  9.70357416e-02]\n",
            " [ 6.01636503e-01  7.30355812e-02 -1.12990965e-01  1.47301668e-01\n",
            "   5.59992208e-01  4.87224463e-01  4.33552925e-02 -2.02030379e-03\n",
            "   1.65540832e-01 -3.68690936e-01 -2.06575256e-01  9.85929704e-02\n",
            "   1.26864341e-01  3.88646409e-01 -1.16544568e-01  8.59211508e-02\n",
            "   1.46516596e-01 -5.61389716e-03  2.85183113e-01  2.00698996e-01\n",
            "  -1.12993198e-01  1.94793478e-01  4.20203834e-01 -2.16016437e-01\n",
            "   1.97768082e-01  1.06966980e-01 -7.18803618e-02  3.28380784e-01\n",
            "  -1.36097520e-01  1.68767353e-01  3.23273338e-01  3.95376619e-02\n",
            "  -4.64689729e-02  6.15257607e-01 -3.97557120e-01  3.66544775e-01\n",
            "   3.44771363e-02 -7.61305408e-01 -3.09631162e-02 -2.10866744e-01\n",
            "   3.30018584e-01 -8.95909668e-02 -3.27889176e-01  1.69043046e-01\n",
            "  -5.84537537e-01 -2.24257767e-01  3.46855537e-02  5.26385542e-02\n",
            "  -4.96977692e-02  3.01904302e-01 -1.81048016e-01  3.74056170e-02\n",
            "   2.91051137e-01 -2.24187620e-01 -1.72784802e-02]]\n"
          ],
          "name": "stdout"
        }
      ]
    },
    {
      "cell_type": "code",
      "metadata": {
        "id": "XZXRt7tZSM2r",
        "colab": {
          "base_uri": "https://localhost:8080/"
        },
        "outputId": "6fde994d-49c0-4ccc-9a5f-1d9eb2af874c"
      },
      "source": [
        "#print(data_sans_nan.shape)\n",
        "#print(coord_sans_nan.shape)\n",
        "#print(data_sans_nan.iloc[:,0])\n",
        "#dfff.isnull().sum(axis=0)\n",
        "data.info()"
      ],
      "execution_count": 60,
      "outputs": [
        {
          "output_type": "stream",
          "text": [
            "<class 'pandas.core.frame.DataFrame'>\n",
            "RangeIndex: 1192180 entries, 0 to 1192179\n",
            "Data columns (total 16 columns):\n",
            " #   Column              Non-Null Count    Dtype \n",
            "---  ------              --------------    ----- \n",
            " 0   IDENT               1192180 non-null  object\n",
            " 1   TypeHabi            1192180 non-null  object\n",
            " 2   GeoFaz_Scl          1192180 non-null  object\n",
            " 3   Anciennete          1192180 non-null  object\n",
            " 4   Logement_prix_m2    1192180 non-null  object\n",
            " 5   Mediane_RFR         1192180 non-null  object\n",
            " 6   Sexe                1192180 non-null  object\n",
            " 7   Prenom_Phase_scl_H  1192180 non-null  object\n",
            " 8   Prenom_Phase_scl_F  1192180 non-null  object\n",
            " 9   Age_H               1192180 non-null  object\n",
            " 10  Age_F               1192180 non-null  object\n",
            " 11  Affinite_1          1192180 non-null  object\n",
            " 12  Affinite_2          1192180 non-null  object\n",
            " 13  Prenom_effectif     1192180 non-null  object\n",
            " 14  Potentiel_prenom    1192180 non-null  object\n",
            " 15  Top_mon             99296 non-null    object\n",
            "dtypes: object(16)\n",
            "memory usage: 145.5+ MB\n"
          ],
          "name": "stdout"
        }
      ]
    },
    {
      "cell_type": "code",
      "metadata": {
        "id": "NpZCCbB4VJmr",
        "colab": {
          "base_uri": "https://localhost:8080/"
        },
        "outputId": "25afedff-9e17-499e-e15d-fb7eb6cc1c16"
      },
      "source": [
        "## ATTENTION\n",
        "# élimination des individus n'ayant pas de valeur pour la variable Top_mon\n",
        "data_sans_nan = data[(data.isnull()).sum(axis=1) == 0]\n",
        "coord_sans_nan = coord[(data.isnull()).sum(axis=1) == 0] # coordonnées\n",
        "\n",
        "#conversion du type de variable\n",
        "for i in range(1,data_sans_nan.shape[1]):\n",
        "    data_sans_nan.iloc[:,i]=data_sans_nan.iloc[:,i].astype(int) # essayer avec int64\n",
        "\n",
        "# création\n",
        "def creation_df_temp(data_sans_nan, coord_sans_nan):\n",
        "    dfff = pd.DataFrame()\n",
        "    dfff[\"IDENT\"] = data_sans_nan.iloc[:,0]\n",
        "    for i in range(coord_sans_nan.shape[1] ): #avant 10\n",
        "        dfff[str(i)]=coord_sans_nan[:,i]\n",
        "    dfff[\"Top_mon\"] = data_sans_nan.iloc[:,data_sans_nan.shape[1]-1].astype(int)\n",
        "    return dfff\n",
        "# stockage\n",
        "data_coord_nan = creation_df_temp(data_sans_nan, coord_sans_nan)\n",
        "data_coord_nan.info()\n",
        "#data_coord_nan = dfff \n",
        "\n",
        "# maintien des individus  n'ayant pas de valeur pour la variable Top_mon\n",
        "\n",
        "data_avec_nan = data\n",
        "coord_avec_nan = coord # coordonnées\n",
        "def creation_df_temp_2(data_sans_nan, coord_sans_nan):\n",
        "    dfff = pd.DataFrame()\n",
        "    dfff[\"IDENT\"] = data_sans_nan.iloc[:,0]\n",
        "    for i in range(coord_sans_nan.shape[1]): # avant 10\n",
        "        dfff[str(i)]=coord_sans_nan[:,i]\n",
        "\n",
        "    dfff[\"Top_mon\"] = data_sans_nan.iloc[:,data_sans_nan.shape[1]-1] #.astype(int)\n",
        "\n",
        "    dfff[\"Top_mon\"] = dfff[\"Top_mon\"].replace(1.0, '1')\n",
        "    dfff[\"Top_mon\"] = dfff[\"Top_mon\"].replace(2.0,'2')\n",
        "    #for j in range(data_sans_nan.shape[1]):\n",
        "    #    if dfff.iloc[j,10+1] == 2.0:\n",
        "    #        dfff.iloc[j,10+1] = 2\n",
        "    #    if dfff.iloc[j, 10+1] ==1.0:\n",
        "    #        dfff.iloc[j,10+1] =1\n",
        "\n",
        "    return dfff\n",
        "data_coord_avec_nan = creation_df_temp_2(data_avec_nan, coord_avec_nan)\n",
        "data_coord_avec_nan.info()\n",
        "\n"
      ],
      "execution_count": 61,
      "outputs": [
        {
          "output_type": "stream",
          "text": [
            "/usr/local/lib/python3.7/dist-packages/pandas/core/indexing.py:1781: SettingWithCopyWarning: \n",
            "A value is trying to be set on a copy of a slice from a DataFrame.\n",
            "Try using .loc[row_indexer,col_indexer] = value instead\n",
            "\n",
            "See the caveats in the documentation: https://pandas.pydata.org/pandas-docs/stable/user_guide/indexing.html#returning-a-view-versus-a-copy\n",
            "  self.obj[item_labels[indexer[info_axis]]] = value\n",
            "/usr/local/lib/python3.7/dist-packages/pandas/core/indexing.py:1743: SettingWithCopyWarning: \n",
            "A value is trying to be set on a copy of a slice from a DataFrame.\n",
            "Try using .loc[row_indexer,col_indexer] = value instead\n",
            "\n",
            "See the caveats in the documentation: https://pandas.pydata.org/pandas-docs/stable/user_guide/indexing.html#returning-a-view-versus-a-copy\n",
            "  isetter(ilocs[0], value)\n"
          ],
          "name": "stderr"
        },
        {
          "output_type": "stream",
          "text": [
            "<class 'pandas.core.frame.DataFrame'>\n",
            "Int64Index: 99296 entries, 0 to 99295\n",
            "Data columns (total 57 columns):\n",
            " #   Column   Non-Null Count  Dtype  \n",
            "---  ------   --------------  -----  \n",
            " 0   IDENT    99296 non-null  object \n",
            " 1   0        99296 non-null  float64\n",
            " 2   1        99296 non-null  float64\n",
            " 3   2        99296 non-null  float64\n",
            " 4   3        99296 non-null  float64\n",
            " 5   4        99296 non-null  float64\n",
            " 6   5        99296 non-null  float64\n",
            " 7   6        99296 non-null  float64\n",
            " 8   7        99296 non-null  float64\n",
            " 9   8        99296 non-null  float64\n",
            " 10  9        99296 non-null  float64\n",
            " 11  10       99296 non-null  float64\n",
            " 12  11       99296 non-null  float64\n",
            " 13  12       99296 non-null  float64\n",
            " 14  13       99296 non-null  float64\n",
            " 15  14       99296 non-null  float64\n",
            " 16  15       99296 non-null  float64\n",
            " 17  16       99296 non-null  float64\n",
            " 18  17       99296 non-null  float64\n",
            " 19  18       99296 non-null  float64\n",
            " 20  19       99296 non-null  float64\n",
            " 21  20       99296 non-null  float64\n",
            " 22  21       99296 non-null  float64\n",
            " 23  22       99296 non-null  float64\n",
            " 24  23       99296 non-null  float64\n",
            " 25  24       99296 non-null  float64\n",
            " 26  25       99296 non-null  float64\n",
            " 27  26       99296 non-null  float64\n",
            " 28  27       99296 non-null  float64\n",
            " 29  28       99296 non-null  float64\n",
            " 30  29       99296 non-null  float64\n",
            " 31  30       99296 non-null  float64\n",
            " 32  31       99296 non-null  float64\n",
            " 33  32       99296 non-null  float64\n",
            " 34  33       99296 non-null  float64\n",
            " 35  34       99296 non-null  float64\n",
            " 36  35       99296 non-null  float64\n",
            " 37  36       99296 non-null  float64\n",
            " 38  37       99296 non-null  float64\n",
            " 39  38       99296 non-null  float64\n",
            " 40  39       99296 non-null  float64\n",
            " 41  40       99296 non-null  float64\n",
            " 42  41       99296 non-null  float64\n",
            " 43  42       99296 non-null  float64\n",
            " 44  43       99296 non-null  float64\n",
            " 45  44       99296 non-null  float64\n",
            " 46  45       99296 non-null  float64\n",
            " 47  46       99296 non-null  float64\n",
            " 48  47       99296 non-null  float64\n",
            " 49  48       99296 non-null  float64\n",
            " 50  49       99296 non-null  float64\n",
            " 51  50       99296 non-null  float64\n",
            " 52  51       99296 non-null  float64\n",
            " 53  52       99296 non-null  float64\n",
            " 54  53       99296 non-null  float64\n",
            " 55  54       99296 non-null  float64\n",
            " 56  Top_mon  99296 non-null  int64  \n",
            "dtypes: float64(55), int64(1), object(1)\n",
            "memory usage: 43.9+ MB\n",
            "<class 'pandas.core.frame.DataFrame'>\n",
            "RangeIndex: 1192180 entries, 0 to 1192179\n",
            "Data columns (total 57 columns):\n",
            " #   Column   Non-Null Count    Dtype  \n",
            "---  ------   --------------    -----  \n",
            " 0   IDENT    1192180 non-null  object \n",
            " 1   0        1192180 non-null  float64\n",
            " 2   1        1192180 non-null  float64\n",
            " 3   2        1192180 non-null  float64\n",
            " 4   3        1192180 non-null  float64\n",
            " 5   4        1192180 non-null  float64\n",
            " 6   5        1192180 non-null  float64\n",
            " 7   6        1192180 non-null  float64\n",
            " 8   7        1192180 non-null  float64\n",
            " 9   8        1192180 non-null  float64\n",
            " 10  9        1192180 non-null  float64\n",
            " 11  10       1192180 non-null  float64\n",
            " 12  11       1192180 non-null  float64\n",
            " 13  12       1192180 non-null  float64\n",
            " 14  13       1192180 non-null  float64\n",
            " 15  14       1192180 non-null  float64\n",
            " 16  15       1192180 non-null  float64\n",
            " 17  16       1192180 non-null  float64\n",
            " 18  17       1192180 non-null  float64\n",
            " 19  18       1192180 non-null  float64\n",
            " 20  19       1192180 non-null  float64\n",
            " 21  20       1192180 non-null  float64\n",
            " 22  21       1192180 non-null  float64\n",
            " 23  22       1192180 non-null  float64\n",
            " 24  23       1192180 non-null  float64\n",
            " 25  24       1192180 non-null  float64\n",
            " 26  25       1192180 non-null  float64\n",
            " 27  26       1192180 non-null  float64\n",
            " 28  27       1192180 non-null  float64\n",
            " 29  28       1192180 non-null  float64\n",
            " 30  29       1192180 non-null  float64\n",
            " 31  30       1192180 non-null  float64\n",
            " 32  31       1192180 non-null  float64\n",
            " 33  32       1192180 non-null  float64\n",
            " 34  33       1192180 non-null  float64\n",
            " 35  34       1192180 non-null  float64\n",
            " 36  35       1192180 non-null  float64\n",
            " 37  36       1192180 non-null  float64\n",
            " 38  37       1192180 non-null  float64\n",
            " 39  38       1192180 non-null  float64\n",
            " 40  39       1192180 non-null  float64\n",
            " 41  40       1192180 non-null  float64\n",
            " 42  41       1192180 non-null  float64\n",
            " 43  42       1192180 non-null  float64\n",
            " 44  43       1192180 non-null  float64\n",
            " 45  44       1192180 non-null  float64\n",
            " 46  45       1192180 non-null  float64\n",
            " 47  46       1192180 non-null  float64\n",
            " 48  47       1192180 non-null  float64\n",
            " 49  48       1192180 non-null  float64\n",
            " 50  49       1192180 non-null  float64\n",
            " 51  50       1192180 non-null  float64\n",
            " 52  51       1192180 non-null  float64\n",
            " 53  52       1192180 non-null  float64\n",
            " 54  53       1192180 non-null  float64\n",
            " 55  54       1192180 non-null  float64\n",
            " 56  Top_mon  99296 non-null    object \n",
            "dtypes: float64(55), object(2)\n",
            "memory usage: 518.4+ MB\n"
          ],
          "name": "stdout"
        }
      ]
    },
    {
      "cell_type": "code",
      "metadata": {
        "id": "LJ4G93RJxEdo"
      },
      "source": [
        ""
      ],
      "execution_count": 61,
      "outputs": []
    },
    {
      "cell_type": "code",
      "metadata": {
        "id": "CuvxB6-qYNzJ"
      },
      "source": [
        "from sklearn.discriminant_analysis import LinearDiscriminantAnalysis, QuadraticDiscriminantAnalysis\n",
        "\n",
        "from sklearn.metrics import f1_score, confusion_matrix, classification_report\n",
        "from sklearn.model_selection import train_test_split, learning_curve, GridSearchCV\n",
        "\n",
        "import imblearn\n",
        "from imblearn.combine import SMOTETomek\n",
        "from imblearn.under_sampling import TomekLinks\n",
        "from imblearn.over_sampling import SMOTE\n"
      ],
      "execution_count": 62,
      "outputs": []
    },
    {
      "cell_type": "code",
      "metadata": {
        "id": "7ksFu0t_cirJ"
      },
      "source": [
        "#data_coord_nan.shape\n",
        "#train_X_s.shape"
      ],
      "execution_count": 63,
      "outputs": []
    },
    {
      "cell_type": "code",
      "metadata": {
        "id": "S0jwerFqbXh-"
      },
      "source": [
        "#data_non_corr = elimination_val_corr(data)\n",
        "#nb_var = data_non_corr.shape[1] - 1\n",
        "nb_var = data_coord_nan.shape[1] - 1\n",
        "\n",
        "train_set, test_set = train_test_split(data_coord_nan, test_size = 0.2, random_state=0) # , stratify =data_coord_nan[\"IFI+\"] )\n",
        "\n",
        "train_X_s = (train_set.iloc[:,1:nb_var]).to_numpy()\n",
        "train_Y_s = np.asanyarray(train_set.iloc[:,nb_var])\n",
        "\n",
        "test_X_s = (test_set.iloc[:,1:nb_var]).to_numpy()\n",
        "test_Y_s = np.asanyarray(test_set.iloc[:,nb_var])\n",
        "\n",
        "# comme les résulats sont en overfitting :\n",
        "# Résultat du traitement sur le train set (under-sampling et over-sampling)\n",
        "#abc_test = pd.read_csv(\"/content/drive/MyDrive/spad_score_method_1/spad_projection_FDFTOT21/sans_val_corr_spad_under_over_sampling.txt\", delim_whitespace=\"\\t\", header = None, low_memory=False, dtype=\"Int64\" ) #, dtype='Int64')\n",
        "#abc_np = abc_test.to_numpy(dtype=\"Int64\")\n",
        "\n",
        "#X_resampled = abc_np[:,:-1]\n",
        "#y_resampled = abc_np[:, abc_np.shape[1] -1 ]\n"
      ],
      "execution_count": 64,
      "outputs": []
    },
    {
      "cell_type": "code",
      "metadata": {
        "colab": {
          "base_uri": "https://localhost:8080/",
          "height": 211
        },
        "id": "iMyvFOxwXgcu",
        "outputId": "28c2d402-30c1-4b39-9968-cd673a717b3e"
      },
      "source": [
        "\n",
        "# dimension du train set\n",
        "print(\"Sans aucun traitement sur le train set : \" , np.unique(train_Y_s, return_counts=True))\n",
        "\n",
        "# diminution des données\n",
        "t2 = TomekLinks(random_state=0)\n",
        "X_resampled, y_resampled = t2.fit_resample(train_X_s[:,:nb_var] , train_Y_s )\n",
        "print(\"Après under-sampling : \", np.unique(y_resampled, return_counts=True ))\n",
        "\n",
        "# augmentation des données\n",
        "tl = SMOTE(random_state=0)\n",
        "X_resampled, y_resampled = tl.fit_resample(X_resampled, y_resampled )\n",
        "print(\"Après over-smapling : \" , np.unique(y_resampled, return_counts=True ))\n",
        "\n",
        "'''\n",
        "# enregistrement du nouveau train set car le traitement du under-sampling prendre du temps \n",
        "pd.DataFrame(np.concatenate((X_resampled, y_resampled.reshape((y_resampled.shape[0],1)) ),\n",
        "                            axis=1)).to_csv(\"/content/drive/MyDrive/spad_score_method_1/spad_projection_FDFTOT21/val_all_spad_under_over_sampling.txt\",\n",
        "                                            sep=\" \", index =False , header = False )\n",
        "'''"
      ],
      "execution_count": 65,
      "outputs": [
        {
          "output_type": "stream",
          "text": [
            "Sans aucun traitement sur le train set :  (array([1, 2]), array([21397, 58039]))\n"
          ],
          "name": "stdout"
        },
        {
          "output_type": "stream",
          "text": [
            "/usr/local/lib/python3.7/dist-packages/sklearn/utils/deprecation.py:87: FutureWarning: Function safe_indexing is deprecated; safe_indexing is deprecated in version 0.22 and will be removed in version 0.24.\n",
            "  warnings.warn(msg, category=FutureWarning)\n",
            "/usr/local/lib/python3.7/dist-packages/sklearn/utils/deprecation.py:87: FutureWarning: Function safe_indexing is deprecated; safe_indexing is deprecated in version 0.22 and will be removed in version 0.24.\n",
            "  warnings.warn(msg, category=FutureWarning)\n"
          ],
          "name": "stderr"
        },
        {
          "output_type": "stream",
          "text": [
            "Après under-sampling :  (array([1, 2]), array([21397, 51054]))\n",
            "Après over-smapling :  (array([1, 2]), array([51054, 51054]))\n"
          ],
          "name": "stdout"
        },
        {
          "output_type": "execute_result",
          "data": {
            "application/vnd.google.colaboratory.intrinsic+json": {
              "type": "string"
            },
            "text/plain": [
              "'\\n# enregistrement du nouveau train set car le traitement du under-sampling prendre du temps \\npd.DataFrame(np.concatenate((X_resampled, y_resampled.reshape((y_resampled.shape[0],1)) ),\\n                            axis=1)).to_csv(\"/content/drive/MyDrive/spad_score_method_1/spad_projection_FDFTOT21/val_all_spad_under_over_sampling.txt\",\\n                                            sep=\" \", index =False , header = False )\\n'"
            ]
          },
          "metadata": {
            "tags": []
          },
          "execution_count": 65
        }
      ]
    },
    {
      "cell_type": "code",
      "metadata": {
        "id": "uTPZVCiaFPYp"
      },
      "source": [
        ""
      ],
      "execution_count": 65,
      "outputs": []
    },
    {
      "cell_type": "code",
      "metadata": {
        "colab": {
          "base_uri": "https://localhost:8080/"
        },
        "id": "tLasso34-MXx",
        "outputId": "4d6e6bad-bdc0-4c1b-d2ee-f21b08ddbd12"
      },
      "source": [
        "model_LinearDiscriminantAnalysis = LinearDiscriminantAnalysis()\n",
        "param = {\"solver\" : [\"svd\",\"lsqr\", \"eigen\"], \"tol\" : [0.00001,0.0001,0.001,0.01]}\n",
        "\n",
        "grid_LinearDiscriminantAnalysis = GridSearchCV(model_LinearDiscriminantAnalysis, param_grid= param, cv = 4, scoring = \"f1\")\n",
        "resultat_grid_LinearDiscriminantAnalysis = grid_LinearDiscriminantAnalysis.fit(X_resampled, y_resampled)\n",
        "resultat_grid_LinearDiscriminantAnalysis.best_params_ "
      ],
      "execution_count": 66,
      "outputs": [
        {
          "output_type": "execute_result",
          "data": {
            "text/plain": [
              "{'solver': 'svd', 'tol': 1e-05}"
            ]
          },
          "metadata": {
            "tags": []
          },
          "execution_count": 66
        }
      ]
    },
    {
      "cell_type": "code",
      "metadata": {
        "colab": {
          "base_uri": "https://localhost:8080/"
        },
        "id": "mtwy_DkreMi8",
        "outputId": "32789e91-e638-4c6c-89d0-a1a01efe7fee"
      },
      "source": [
        "final_model_ADL = LinearDiscriminantAnalysis()  # la valeur par defaut de la tolérence donne le même résultat que tol=1e-5\n",
        "evaluation(final_model_ADL, X_resampled, y_resampled, test_X_s, test_Y_s, scoring = \"recall\", plot=False)"
      ],
      "execution_count": 67,
      "outputs": [
        {
          "output_type": "stream",
          "text": [
            "test set : \n",
            "[[3183 2148]\n",
            " [5950 8579]]\n",
            "              precision    recall  f1-score   support\n",
            "\n",
            "           1       0.35      0.60      0.44      5331\n",
            "           2       0.80      0.59      0.68     14529\n",
            "\n",
            "    accuracy                           0.59     19860\n",
            "   macro avg       0.57      0.59      0.56     19860\n",
            "weighted avg       0.68      0.59      0.62     19860\n",
            "\n",
            "train set : \n",
            "[[30219 20835]\n",
            " [19855 31199]]\n",
            "              precision    recall  f1-score   support\n",
            "\n",
            "           1       0.60      0.59      0.60     51054\n",
            "           2       0.60      0.61      0.61     51054\n",
            "\n",
            "    accuracy                           0.60    102108\n",
            "   macro avg       0.60      0.60      0.60    102108\n",
            "weighted avg       0.60      0.60      0.60    102108\n",
            "\n",
            "GRAPHIQUE NON DEMANDE\n"
          ],
          "name": "stdout"
        }
      ]
    },
    {
      "cell_type": "code",
      "metadata": {
        "id": "YOVl16Po611_"
      },
      "source": [
        ""
      ],
      "execution_count": 67,
      "outputs": []
    },
    {
      "cell_type": "code",
      "metadata": {
        "colab": {
          "base_uri": "https://localhost:8080/"
        },
        "id": "aiN9NNXgjtkO",
        "outputId": "8583ac90-29bb-4abb-a444-2a75073cd5c9"
      },
      "source": [
        "#classe pour l'analyse discriminante\n",
        "\n",
        "#instanciation\n",
        "adl = LinearDiscriminantAnalysis()\n",
        "#apprentissage\n",
        "adl.fit(coord_sans_nan,data_sans_nan[\"Top_mon\"])"
      ],
      "execution_count": 68,
      "outputs": [
        {
          "output_type": "execute_result",
          "data": {
            "text/plain": [
              "LinearDiscriminantAnalysis(n_components=None, priors=None, shrinkage=None,\n",
              "                           solver='svd', store_covariance=False, tol=0.0001)"
            ]
          },
          "metadata": {
            "tags": []
          },
          "execution_count": 68
        }
      ]
    },
    {
      "cell_type": "code",
      "metadata": {
        "id": "ixzqkiWMxz_6",
        "colab": {
          "base_uri": "https://localhost:8080/",
          "height": 423
        },
        "outputId": "7b76100e-a2ea-47d9-a2c1-8b2f360b5b10"
      },
      "source": [
        "#reconstitution de la fonction sur indicatrices (multiplication)\n",
        "fpValues = np.dot(fproj,np.transpose(adl.coef_))\n",
        "#print(fpValues)\n",
        "#affichage plus joli\n",
        "pd.DataFrame(fpValues,index=acm.col_labels_)"
      ],
      "execution_count": 69,
      "outputs": [
        {
          "output_type": "execute_result",
          "data": {
            "text/html": [
              "<div>\n",
              "<style scoped>\n",
              "    .dataframe tbody tr th:only-of-type {\n",
              "        vertical-align: middle;\n",
              "    }\n",
              "\n",
              "    .dataframe tbody tr th {\n",
              "        vertical-align: top;\n",
              "    }\n",
              "\n",
              "    .dataframe thead th {\n",
              "        text-align: right;\n",
              "    }\n",
              "</style>\n",
              "<table border=\"1\" class=\"dataframe\">\n",
              "  <thead>\n",
              "    <tr style=\"text-align: right;\">\n",
              "      <th></th>\n",
              "      <th>0</th>\n",
              "    </tr>\n",
              "  </thead>\n",
              "  <tbody>\n",
              "    <tr>\n",
              "      <th>TypeHabi_01</th>\n",
              "      <td>-0.093445</td>\n",
              "    </tr>\n",
              "    <tr>\n",
              "      <th>TypeHabi_02</th>\n",
              "      <td>0.038804</td>\n",
              "    </tr>\n",
              "    <tr>\n",
              "      <th>TypeHabi_03</th>\n",
              "      <td>-0.021734</td>\n",
              "    </tr>\n",
              "    <tr>\n",
              "      <th>TypeHabi_04</th>\n",
              "      <td>-0.455233</td>\n",
              "    </tr>\n",
              "    <tr>\n",
              "      <th>GeoFaz_Scl_11</th>\n",
              "      <td>-0.049130</td>\n",
              "    </tr>\n",
              "    <tr>\n",
              "      <th>...</th>\n",
              "      <td>...</td>\n",
              "    </tr>\n",
              "    <tr>\n",
              "      <th>Potentiel_prenom_17</th>\n",
              "      <td>-0.028254</td>\n",
              "    </tr>\n",
              "    <tr>\n",
              "      <th>Potentiel_prenom_18</th>\n",
              "      <td>-0.081114</td>\n",
              "    </tr>\n",
              "    <tr>\n",
              "      <th>Potentiel_prenom_19</th>\n",
              "      <td>-0.077301</td>\n",
              "    </tr>\n",
              "    <tr>\n",
              "      <th>Potentiel_prenom_20</th>\n",
              "      <td>-0.140148</td>\n",
              "    </tr>\n",
              "    <tr>\n",
              "      <th>Potentiel_prenom_21</th>\n",
              "      <td>-0.080840</td>\n",
              "    </tr>\n",
              "  </tbody>\n",
              "</table>\n",
              "<p>269 rows × 1 columns</p>\n",
              "</div>"
            ],
            "text/plain": [
              "                            0\n",
              "TypeHabi_01         -0.093445\n",
              "TypeHabi_02          0.038804\n",
              "TypeHabi_03         -0.021734\n",
              "TypeHabi_04         -0.455233\n",
              "GeoFaz_Scl_11       -0.049130\n",
              "...                       ...\n",
              "Potentiel_prenom_17 -0.028254\n",
              "Potentiel_prenom_18 -0.081114\n",
              "Potentiel_prenom_19 -0.077301\n",
              "Potentiel_prenom_20 -0.140148\n",
              "Potentiel_prenom_21 -0.080840\n",
              "\n",
              "[269 rows x 1 columns]"
            ]
          },
          "metadata": {
            "tags": []
          },
          "execution_count": 69
        }
      ]
    },
    {
      "cell_type": "code",
      "metadata": {
        "id": "Hrn05BAzx0CO",
        "colab": {
          "base_uri": "https://localhost:8080/"
        },
        "outputId": "03b6b32f-4f7d-480a-abba-968e284d039e"
      },
      "source": [
        "# TRAIN SET TEST SET\n",
        "vingtiles_tableau = vingtiles(model = final_model_ADL, data_orig = data_coord_nan, affichage=True,\n",
        "            save=True, path = \"/content/drive/MyDrive/spad_score_method_1/spad_projection_FDFTOT21/Fichier_excel_vingtiles/train_test_ACM_ADL_55.xlsx\")"
      ],
      "execution_count": 70,
      "outputs": [
        {
          "output_type": "stream",
          "text": [
            "            IDENT     PROBA\n",
            "73678  0010408023  0.114864\n",
            "11693  0010258609  0.116910\n",
            "85390  0010519316  0.119418\n",
            "8403   0010255206  0.131544\n",
            "21974  0010338341  0.141150\n",
            "...           ...       ...\n",
            "51004  0010376561  0.873636\n",
            "12520  0010259455  0.873636\n",
            "75590  0010410331  0.873636\n",
            "88332  0010524378  0.894030\n",
            "76474  0010411847  0.896718\n",
            "\n",
            "[99296 rows x 2 columns]\n",
            "0.833813    49\n",
            "0.804308    28\n",
            "0.638842    24\n",
            "0.825461    19\n",
            "0.771718    19\n",
            "            ..\n",
            "0.727852     1\n",
            "0.374694     1\n",
            "0.569101     1\n",
            "0.777392     1\n",
            "0.660762     1\n",
            "Name: PROBA, Length: 96552, dtype: int64\n"
          ],
          "name": "stdout"
        },
        {
          "output_type": "stream",
          "text": [
            "/usr/local/lib/python3.7/dist-packages/ipykernel_launcher.py:119: SettingWithCopyWarning: \n",
            "A value is trying to be set on a copy of a slice from a DataFrame\n",
            "\n",
            "See the caveats in the documentation: https://pandas.pydata.org/pandas-docs/stable/user_guide/indexing.html#returning-a-view-versus-a-copy\n"
          ],
          "name": "stderr"
        },
        {
          "output_type": "stream",
          "text": [
            "            IDENT     PROBA        TRANCHES CLASSE\n",
            "73678  0010408023  0.114864   (0.114, 0.29]      1\n",
            "11693  0010258609  0.116910   (0.114, 0.29]      1\n",
            "85390  0010519316  0.119418   (0.114, 0.29]      1\n",
            "8403   0010255206  0.131544   (0.114, 0.29]      1\n",
            "21974  0010338341  0.141150   (0.114, 0.29]      1\n",
            "...           ...       ...             ...    ...\n",
            "51004  0010376561  0.873636  (0.697, 0.897]     20\n",
            "12520  0010259455  0.873636  (0.697, 0.897]     20\n",
            "75590  0010410331  0.873636  (0.697, 0.897]     20\n",
            "88332  0010524378  0.894030  (0.697, 0.897]     20\n",
            "76474  0010411847  0.896718  (0.697, 0.897]     20\n",
            "\n",
            "[99296 rows x 4 columns]\n",
            "Top_mon            1     2  TOTAL\n",
            "TRANCHES                         \n",
            "(0.114, 0.29]    683  4282   4965\n",
            "(0.29, 0.328]    823  4142   4965\n",
            "(0.328, 0.355]   874  4091   4965\n",
            "(0.355, 0.378]   885  4080   4965\n",
            "(0.378, 0.399]   995  3969   4964\n",
            "(0.399, 0.417]  1033  3932   4965\n",
            "(0.417, 0.435]  1070  3895   4965\n",
            "(0.435, 0.452]  1054  3911   4965\n",
            "(0.452, 0.469]  1226  3738   4964\n",
            "(0.469, 0.486]  1189  3776   4965\n",
            "(0.486, 0.502]  1276  3689   4965\n",
            "(0.502, 0.518]  1351  3614   4965\n",
            "(0.518, 0.535]  1351  3613   4964\n",
            "(0.535, 0.553]  1463  3502   4965\n",
            "(0.553, 0.572]  1500  3465   4965\n",
            "(0.572, 0.594]  1608  3357   4965\n",
            "(0.594, 0.619]  1746  3218   4964\n",
            "(0.619, 0.649]  1833  3132   4965\n",
            "(0.649, 0.697]  2129  2836   4965\n",
            "(0.697, 0.897]  2639  2326   4965\n"
          ],
          "name": "stdout"
        }
      ]
    },
    {
      "cell_type": "code",
      "metadata": {
        "colab": {
          "base_uri": "https://localhost:8080/"
        },
        "id": "a6Jzy8ARodMH",
        "outputId": "655054f3-08d5-445f-896c-0acf2682ac81"
      },
      "source": [
        "# TABLEAU MONTANT\n",
        "tableau_5_montant(vingtiles_tableau, data_montant_orig, affichage=True,\n",
        "            save=True, path = \"/content/drive/MyDrive/spad_score_method_1/spad_projection_FDFTOT21/Fichier_excel_vingtiles/montant_ACM_ADL_55.xlsx\")"
      ],
      "execution_count": 71,
      "outputs": [
        {
          "output_type": "stream",
          "text": [
            "            IDENT     PROBA        TRANCHES CLASSE  SommeDeMONTANT_NUM\n",
            "0      0010408023  0.114864   (0.114, 0.29]      1                20.0\n",
            "1      0010258609  0.116910   (0.114, 0.29]      1                20.0\n",
            "2      0010519316  0.119418   (0.114, 0.29]      1                20.0\n",
            "3      0010255206  0.131544   (0.114, 0.29]      1                15.0\n",
            "4      0010338341  0.141150   (0.114, 0.29]      1                20.0\n",
            "...           ...       ...             ...    ...                 ...\n",
            "99291  0010376561  0.873636  (0.697, 0.897]     20               500.0\n",
            "99292  0010259455  0.873636  (0.697, 0.897]     20                50.0\n",
            "99293  0010410331  0.873636  (0.697, 0.897]     20                50.0\n",
            "99294  0010524378  0.894030  (0.697, 0.897]     20                15.0\n",
            "99295  0010411847  0.896718  (0.697, 0.897]     20                30.0\n",
            "\n",
            "[99146 rows x 5 columns]\n",
            "          TRANCHES Moyen_Somme TOTAL\n",
            "0    (0.114, 0.29]     27.9929  4964\n",
            "1    (0.29, 0.328]     29.9027  4964\n",
            "2   (0.328, 0.355]     30.2076  4964\n",
            "3   (0.355, 0.378]     32.3665  4964\n",
            "4   (0.378, 0.399]     32.8387  4963\n",
            "5   (0.399, 0.417]     33.2283  4961\n",
            "6   (0.417, 0.435]      36.781  4965\n",
            "7   (0.435, 0.452]     35.3801  4962\n",
            "8   (0.452, 0.469]     37.2081  4959\n",
            "9   (0.469, 0.486]      38.223  4962\n",
            "10  (0.486, 0.502]     39.6164  4960\n",
            "11  (0.502, 0.518]     39.9172  4962\n",
            "12  (0.518, 0.535]     44.7895  4960\n",
            "13  (0.535, 0.553]     45.6553  4962\n",
            "14  (0.553, 0.572]     47.2309  4960\n",
            "15  (0.572, 0.594]     51.0322  4956\n",
            "16  (0.594, 0.619]      58.749  4952\n",
            "17  (0.619, 0.649]     59.7229  4947\n",
            "18  (0.649, 0.697]     77.2892  4947\n",
            "19  (0.697, 0.897]     132.171  4912\n"
          ],
          "name": "stdout"
        }
      ]
    },
    {
      "cell_type": "code",
      "metadata": {
        "id": "gDO7vRLUoLbI"
      },
      "source": [
        ""
      ],
      "execution_count": 71,
      "outputs": []
    },
    {
      "cell_type": "code",
      "metadata": {
        "id": "bzRRySpGoafi",
        "colab": {
          "base_uri": "https://localhost:8080/",
          "height": 70
        },
        "outputId": "52acd73d-cbac-45aa-d4e9-0c56c1b30e7c"
      },
      "source": [
        "\"\"\"\n",
        "# INDIVIDUS SANS TARGET\n",
        "vingtiles_ind_sans_target(model = final_model_ADL, data_orig= data_coord_avec_nan[(data_coord_avec_nan.isnull()).sum(axis=1) != 0], affichage=True,\n",
        "            save=False, path = \"/content/drive/MyDrive/spad_score_method_1/spad_projection_FDFTOT21/Fichier_excel_vingtiles/ind_sans_target_ACM_ADL_15.xlsx\")\n",
        "\"\"\""
      ],
      "execution_count": 72,
      "outputs": [
        {
          "output_type": "execute_result",
          "data": {
            "application/vnd.google.colaboratory.intrinsic+json": {
              "type": "string"
            },
            "text/plain": [
              "'\\n# INDIVIDUS SANS TARGET\\nvingtiles_ind_sans_target(model = final_model_ADL, data_orig= data_coord_avec_nan[(data_coord_avec_nan.isnull()).sum(axis=1) != 0], affichage=True,\\n            save=False, path = \"/content/drive/MyDrive/spad_score_method_1/spad_projection_FDFTOT21/Fichier_excel_vingtiles/ind_sans_target_ACM_ADL_15.xlsx\")\\n'"
            ]
          },
          "metadata": {
            "tags": []
          },
          "execution_count": 72
        }
      ]
    },
    {
      "cell_type": "code",
      "metadata": {
        "id": "Tgxw6vZHoah_"
      },
      "source": [
        ""
      ],
      "execution_count": 72,
      "outputs": []
    },
    {
      "cell_type": "code",
      "metadata": {
        "id": "jaVuYmyQoakO"
      },
      "source": [
        ""
      ],
      "execution_count": 72,
      "outputs": []
    },
    {
      "cell_type": "code",
      "metadata": {
        "id": "td8tREtarT8x",
        "colab": {
          "base_uri": "https://localhost:8080/"
        },
        "outputId": "8e0d4539-b7b5-4f20-bdba-5a3c793e0de4"
      },
      "source": [
        "model_ADQ = QuadraticDiscriminantAnalysis()\n",
        "evaluation(model_ADQ, X_resampled, y_resampled, test_X_s, test_Y_s, scoring = \"f1\", plot=False)\n"
      ],
      "execution_count": 73,
      "outputs": [
        {
          "output_type": "stream",
          "text": [
            "test set : \n",
            "[[2864 2467]\n",
            " [5289 9240]]\n",
            "              precision    recall  f1-score   support\n",
            "\n",
            "           1       0.35      0.54      0.42      5331\n",
            "           2       0.79      0.64      0.70     14529\n",
            "\n",
            "    accuracy                           0.61     19860\n",
            "   macro avg       0.57      0.59      0.56     19860\n",
            "weighted avg       0.67      0.61      0.63     19860\n",
            "\n",
            "train set : \n",
            "[[27584 23470]\n",
            " [17700 33354]]\n",
            "              precision    recall  f1-score   support\n",
            "\n",
            "           1       0.61      0.54      0.57     51054\n",
            "           2       0.59      0.65      0.62     51054\n",
            "\n",
            "    accuracy                           0.60    102108\n",
            "   macro avg       0.60      0.60      0.60    102108\n",
            "weighted avg       0.60      0.60      0.60    102108\n",
            "\n",
            "GRAPHIQUE NON DEMANDE\n"
          ],
          "name": "stdout"
        }
      ]
    },
    {
      "cell_type": "code",
      "metadata": {
        "id": "ncpYOwNVqtX6",
        "colab": {
          "base_uri": "https://localhost:8080/"
        },
        "outputId": "5ae2c81a-8d4e-4761-de93-23f77217c7d5"
      },
      "source": [
        "#data_coord_nan\n",
        "# TRAIN SET TEST SET\n",
        "vingtiles_tableau = vingtiles(model =model_ADQ, data_orig = data_coord_nan, affichage=True,\n",
        "            save=True, path = \"/content/drive/MyDrive/spad_score_method_1/spad_projection_FDFTOT21/Fichier_excel_vingtiles/train_test_ACM_ADQ_55.xlsx\")"
      ],
      "execution_count": 74,
      "outputs": [
        {
          "output_type": "stream",
          "text": [
            "            IDENT          PROBA\n",
            "39841  0010364732   0.000000e+00\n",
            "16041  0010263606   0.000000e+00\n",
            "96630  0010536346  3.927216e-207\n",
            "36200  0010360794  5.552899e-177\n",
            "94441  0010532578  6.611069e-177\n",
            "...           ...            ...\n",
            "83713  0010504904   1.000000e+00\n",
            "83722  0010504930   1.000000e+00\n",
            "83737  0010505025   1.000000e+00\n",
            "83404  0010503481   1.000000e+00\n",
            "0      0010000001   1.000000e+00\n",
            "\n",
            "[99296 rows x 2 columns]\n",
            "1.000000    316\n",
            "1.000000     49\n",
            "1.000000     28\n",
            "0.996478     24\n",
            "1.000000     19\n",
            "           ... \n",
            "0.651542      1\n",
            "0.848683      1\n",
            "0.252042      1\n",
            "0.899238      1\n",
            "0.999971      1\n",
            "Name: PROBA, Length: 96254, dtype: int64\n"
          ],
          "name": "stdout"
        },
        {
          "output_type": "stream",
          "text": [
            "/usr/local/lib/python3.7/dist-packages/ipykernel_launcher.py:119: SettingWithCopyWarning: \n",
            "A value is trying to be set on a copy of a slice from a DataFrame\n",
            "\n",
            "See the caveats in the documentation: https://pandas.pydata.org/pandas-docs/stable/user_guide/indexing.html#returning-a-view-versus-a-copy\n"
          ],
          "name": "stderr"
        },
        {
          "output_type": "stream",
          "text": [
            "            IDENT          PROBA              TRANCHES CLASSE\n",
            "39841  0010364732   0.000000e+00  (-1e-05, 2.2219e-05]      1\n",
            "16041  0010263606   0.000000e+00  (-1e-05, 2.2219e-05]      1\n",
            "96630  0010536346  3.927216e-207  (-1e-05, 2.2219e-05]      1\n",
            "36200  0010360794  5.552899e-177  (-1e-05, 2.2219e-05]      1\n",
            "94441  0010532578  6.611069e-177  (-1e-05, 2.2219e-05]      1\n",
            "...           ...            ...                   ...    ...\n",
            "83713  0010504904   1.000000e+00        (0.99995, 1.0]     20\n",
            "83722  0010504930   1.000000e+00        (0.99995, 1.0]     20\n",
            "83737  0010505025   1.000000e+00        (0.99995, 1.0]     20\n",
            "83404  0010503481   1.000000e+00        (0.99995, 1.0]     20\n",
            "0      0010000001   1.000000e+00        (0.99995, 1.0]     20\n",
            "\n",
            "[99296 rows x 4 columns]\n",
            "Top_mon                      1     2  TOTAL\n",
            "TRANCHES                                   \n",
            "(-1e-05, 2.2219e-05]       844  4121   4965\n",
            "(2.2219e-05, 0.00068522]   867  4098   4965\n",
            "(0.00068522, 0.0039006]    906  4059   4965\n",
            "(0.0039006, 0.01219]       916  4049   4965\n",
            "(0.01219, 0.027027]        984  3980   4964\n",
            "(0.027027, 0.053666]      1008  3957   4965\n",
            "(0.053666, 0.088648]      1069  3896   4965\n",
            "(0.088648, 0.13436]       1114  3851   4965\n",
            "(0.13436, 0.19485]        1185  3779   4964\n",
            "(0.19485, 0.27742]        1180  3785   4965\n",
            "(0.27742, 0.38934]        1304  3661   4965\n",
            "(0.38934, 0.52099]        1315  3650   4965\n",
            "(0.52099, 0.64234]        1411  3553   4964\n",
            "(0.64234, 0.75009]        1468  3497   4965\n",
            "(0.75009, 0.85606]        1595  3370   4965\n",
            "(0.85606, 0.9278]         1604  3361   4965\n",
            "(0.9278, 0.97232]         1763  3201   4964\n",
            "(0.97232, 0.99759]        1969  2996   4965\n",
            "(0.99759, 0.99995]        1744  3221   4965\n",
            "(0.99995, 1.0]            2482  2483   4965\n"
          ],
          "name": "stdout"
        }
      ]
    },
    {
      "cell_type": "code",
      "metadata": {
        "colab": {
          "base_uri": "https://localhost:8080/"
        },
        "id": "dH_0S2Q0oqiO",
        "outputId": "666f669b-da41-4249-ad32-e09205c93210"
      },
      "source": [
        "# TABLEAU MONTANT\n",
        "tableau_5_montant(vingtiles_tableau, data_montant_orig, affichage=True,\n",
        "            save=True, path = \"/content/drive/MyDrive/spad_score_method_1/spad_projection_FDFTOT21/Fichier_excel_vingtiles/montant_ACM_ADQ_55.xlsx\")"
      ],
      "execution_count": 75,
      "outputs": [
        {
          "output_type": "stream",
          "text": [
            "            IDENT          PROBA              TRANCHES CLASSE  \\\n",
            "0      0010364732   0.000000e+00  (-1e-05, 2.2219e-05]      1   \n",
            "1      0010263606   0.000000e+00  (-1e-05, 2.2219e-05]      1   \n",
            "2      0010536346  3.927216e-207  (-1e-05, 2.2219e-05]      1   \n",
            "3      0010360794  5.552899e-177  (-1e-05, 2.2219e-05]      1   \n",
            "4      0010532578  6.611069e-177  (-1e-05, 2.2219e-05]      1   \n",
            "...           ...            ...                   ...    ...   \n",
            "99291  0010504904   1.000000e+00        (0.99995, 1.0]     20   \n",
            "99292  0010504930   1.000000e+00        (0.99995, 1.0]     20   \n",
            "99293  0010505025   1.000000e+00        (0.99995, 1.0]     20   \n",
            "99294  0010503481   1.000000e+00        (0.99995, 1.0]     20   \n",
            "99295  0010000001   1.000000e+00        (0.99995, 1.0]     20   \n",
            "\n",
            "       SommeDeMONTANT_NUM  \n",
            "0                  1750.0  \n",
            "1                    15.0  \n",
            "2                     5.0  \n",
            "3                    30.0  \n",
            "4                    30.0  \n",
            "...                   ...  \n",
            "99291                50.0  \n",
            "99292               500.0  \n",
            "99293                 5.0  \n",
            "99294                60.0  \n",
            "99295               100.0  \n",
            "\n",
            "[99146 rows x 5 columns]\n",
            "                    TRANCHES Moyen_Somme TOTAL\n",
            "0       (-1e-05, 2.2219e-05]     32.4185  4957\n",
            "1   (2.2219e-05, 0.00068522]       32.15  4962\n",
            "2    (0.00068522, 0.0039006]     32.0686  4963\n",
            "3       (0.0039006, 0.01219]     33.0609  4964\n",
            "4        (0.01219, 0.027027]     33.0175  4962\n",
            "5       (0.027027, 0.053666]     34.2024  4961\n",
            "6       (0.053666, 0.088648]      32.937  4963\n",
            "7        (0.088648, 0.13436]     38.1382  4963\n",
            "8         (0.13436, 0.19485]     38.0194  4964\n",
            "9         (0.19485, 0.27742]     36.8058  4961\n",
            "10        (0.27742, 0.38934]     38.8942  4962\n",
            "11        (0.38934, 0.52099]     38.5886  4961\n",
            "12        (0.52099, 0.64234]     42.3161  4960\n",
            "13        (0.64234, 0.75009]     48.1662  4955\n",
            "14        (0.75009, 0.85606]     50.9515  4956\n",
            "15         (0.85606, 0.9278]     50.7955  4954\n",
            "16         (0.9278, 0.97232]     54.0895  4959\n",
            "17        (0.97232, 0.99759]     70.0223  4953\n",
            "18        (0.99759, 0.99995]     64.3795  4953\n",
            "19            (0.99995, 1.0]     129.135  4913\n"
          ],
          "name": "stdout"
        }
      ]
    },
    {
      "cell_type": "code",
      "metadata": {
        "id": "m_GYkyDqqtaA",
        "colab": {
          "base_uri": "https://localhost:8080/",
          "height": 70
        },
        "outputId": "225b719e-4905-461f-9d33-4b9efae4f818"
      },
      "source": [
        "\"\"\"\n",
        "# INDIVIDUS SANS TARGET\n",
        "vingtiles_ind_sans_target(model = model_ADQ, data_orig= data_coord_avec_nan[(data_coord_avec_nan.isnull()).sum(axis=1) != 0], affichage=True,\n",
        "            save=False, path = \"/content/drive/MyDrive/spad_score_method_1/spad_projection_FDFTOT21/Fichier_excel_vingtiles/ind_sans_target_ACM_ADQ_15.xlsx\")\n",
        "\"\"\""
      ],
      "execution_count": 76,
      "outputs": [
        {
          "output_type": "execute_result",
          "data": {
            "application/vnd.google.colaboratory.intrinsic+json": {
              "type": "string"
            },
            "text/plain": [
              "'\\n# INDIVIDUS SANS TARGET\\nvingtiles_ind_sans_target(model = model_ADQ, data_orig= data_coord_avec_nan[(data_coord_avec_nan.isnull()).sum(axis=1) != 0], affichage=True,\\n            save=False, path = \"/content/drive/MyDrive/spad_score_method_1/spad_projection_FDFTOT21/Fichier_excel_vingtiles/ind_sans_target_ACM_ADQ_15.xlsx\")\\n'"
            ]
          },
          "metadata": {
            "tags": []
          },
          "execution_count": 76
        }
      ]
    },
    {
      "cell_type": "code",
      "metadata": {
        "id": "OgVGcJpOh83C"
      },
      "source": [
        "###############################################################################\n",
        "###############################################################################"
      ],
      "execution_count": null,
      "outputs": []
    },
    {
      "cell_type": "code",
      "metadata": {
        "colab": {
          "base_uri": "https://localhost:8080/",
          "height": 1000
        },
        "id": "GjEC3Y3AfrGT",
        "outputId": "749b8f1c-3a05-40fd-8159-8d9e242b0b82"
      },
      "source": [
        "# SANS UNDER-SAMPLING ET OVER-SAMPLING\n",
        "\n",
        "print(\"ADL test sans under-sampling et over_sampling\")\n",
        "test_model_ADL = LinearDiscriminantAnalysis()  # la valeur par defaut de la tolérence donne le même résultat que tol=1e-5\n",
        "evaluation(test_model_ADL, train_X_s, train_Y_s, test_X_s, test_Y_s, scoring = \"f1\", plot=False)\n",
        "\n",
        "print(\"ADQ test sans under-sampling et over_sampling\")\n",
        "test_model_ADQ = QuadraticDiscriminantAnalysis()  # la valeur par defaut de la tolérence donne le même résultat que tol=1e-5\n",
        "evaluation(test_model_ADQ, train_X_s, train_Y_s, test_X_s, test_Y_s, scoring = \"f1\", plot=False)\n",
        "\n",
        "vingtiles(model =test_model_ADQ, data_orig = data_coord_nan, affichage=True,\n",
        "          save=False, path = \"/content/drive/MyDrive/spad_score_method_1/spad_projection_FDFTOT21/Fichier_excel_vingtiles/train_test_ADL.xlsx\")\n"
      ],
      "execution_count": null,
      "outputs": [
        {
          "output_type": "stream",
          "text": [
            "ADL test sans under-sampling et over_sampling\n",
            "test set : \n",
            "[[  362  4969]\n",
            " [  304 14225]]\n",
            "              precision    recall  f1-score   support\n",
            "\n",
            "           1       0.54      0.07      0.12      5331\n",
            "           2       0.74      0.98      0.84     14529\n",
            "\n",
            "    accuracy                           0.73     19860\n",
            "   macro avg       0.64      0.52      0.48     19860\n",
            "weighted avg       0.69      0.73      0.65     19860\n",
            "\n",
            "train set : \n",
            "[[ 1333 20064]\n",
            " [ 1059 56980]]\n",
            "              precision    recall  f1-score   support\n",
            "\n",
            "           1       0.56      0.06      0.11     21397\n",
            "           2       0.74      0.98      0.84     58039\n",
            "\n",
            "    accuracy                           0.73     79436\n",
            "   macro avg       0.65      0.52      0.48     79436\n",
            "weighted avg       0.69      0.73      0.65     79436\n",
            "\n",
            "GRAPHIQUE NON DEMANDE\n",
            "ADQ test sans under-sampling et over_sampling\n",
            "test set : \n",
            "[[ 1034  4297]\n",
            " [ 1465 13064]]\n",
            "              precision    recall  f1-score   support\n",
            "\n",
            "           1       0.41      0.19      0.26      5331\n",
            "           2       0.75      0.90      0.82     14529\n",
            "\n",
            "    accuracy                           0.71     19860\n",
            "   macro avg       0.58      0.55      0.54     19860\n",
            "weighted avg       0.66      0.71      0.67     19860\n",
            "\n",
            "train set : \n",
            "[[ 4076 17321]\n",
            " [ 5587 52452]]\n",
            "              precision    recall  f1-score   support\n",
            "\n",
            "           1       0.42      0.19      0.26     21397\n",
            "           2       0.75      0.90      0.82     58039\n",
            "\n",
            "    accuracy                           0.71     79436\n",
            "   macro avg       0.59      0.55      0.54     79436\n",
            "weighted avg       0.66      0.71      0.67     79436\n",
            "\n",
            "GRAPHIQUE NON DEMANDE\n",
            "            IDENT     PROBA\n",
            "29349  0010349327  0.002981\n",
            "71553  0010405567  0.003858\n",
            "15120  0010262361  0.004484\n",
            "31093  0010351666  0.004811\n",
            "50732  0010376221  0.005193\n",
            "...           ...       ...\n",
            "15987  0010263545  1.000000\n",
            "29779  0010349936  1.000000\n",
            "6059   0010252767  1.000000\n",
            "56998  0010384509  1.000000\n",
            "0      0010000001  1.000000\n",
            "\n",
            "[99296 rows x 2 columns]\n",
            "1.000000    179\n",
            "1.000000     49\n",
            "0.999992     28\n",
            "0.930599     24\n",
            "0.984566     19\n",
            "           ... \n",
            "0.917517      1\n",
            "0.162198      1\n",
            "0.202373      1\n",
            "0.095801      1\n",
            "0.602193      1\n",
            "Name: PROBA, Length: 96393, dtype: int64\n"
          ],
          "name": "stdout"
        },
        {
          "output_type": "stream",
          "text": [
            "/usr/local/lib/python3.7/dist-packages/ipykernel_launcher.py:119: SettingWithCopyWarning: \n",
            "A value is trying to be set on a copy of a slice from a DataFrame\n",
            "\n",
            "See the caveats in the documentation: https://pandas.pydata.org/pandas-docs/stable/user_guide/indexing.html#returning-a-view-versus-a-copy\n"
          ],
          "name": "stderr"
        },
        {
          "output_type": "stream",
          "text": [
            "            IDENT     PROBA           TRANCHES CLASSE\n",
            "29349  0010349327  0.002981  (0.00198, 0.0213]      1\n",
            "71553  0010405567  0.003858  (0.00198, 0.0213]      1\n",
            "15120  0010262361  0.004484  (0.00198, 0.0213]      1\n",
            "31093  0010351666  0.004811  (0.00198, 0.0213]      1\n",
            "50732  0010376221  0.005193  (0.00198, 0.0213]      1\n",
            "...           ...       ...                ...    ...\n",
            "15987  0010263545  1.000000       (0.964, 1.0]     20\n",
            "29779  0010349936  1.000000       (0.964, 1.0]     20\n",
            "6059   0010252767  1.000000       (0.964, 1.0]     20\n",
            "56998  0010384509  1.000000       (0.964, 1.0]     20\n",
            "0      0010000001  1.000000       (0.964, 1.0]     20\n",
            "\n",
            "[99296 rows x 4 columns]\n",
            "Top_mon               1     2  TOTAL\n",
            "TRANCHES                            \n",
            "(0.00198, 0.0213]   815  4150   4965\n",
            "(0.0213, 0.0277]    911  4054   4965\n",
            "(0.0277, 0.0387]    930  4035   4965\n",
            "(0.0387, 0.0514]    947  4018   4965\n",
            "(0.0514, 0.0612]    980  3984   4964\n",
            "(0.0612, 0.0688]   1115  3850   4965\n",
            "(0.0688, 0.0768]   1096  3869   4965\n",
            "(0.0768, 0.0856]   1165  3800   4965\n",
            "(0.0856, 0.0954]   1135  3829   4964\n",
            "(0.0954, 0.108]    1214  3751   4965\n",
            "(0.108, 0.124]     1279  3686   4965\n",
            "(0.124, 0.142]     1336  3629   4965\n",
            "(0.142, 0.166]     1419  3545   4964\n",
            "(0.166, 0.196]     1428  3537   4965\n",
            "(0.196, 0.24]      1593  3372   4965\n",
            "(0.24, 0.318]      1558  3407   4965\n",
            "(0.318, 0.424]     1701  3263   4964\n",
            "(0.424, 0.571]     1840  3125   4965\n",
            "(0.571, 0.964]     2088  2877   4965\n",
            "(0.964, 1.0]       2178  2787   4965\n"
          ],
          "name": "stdout"
        },
        {
          "output_type": "execute_result",
          "data": {
            "text/html": [
              "<div>\n",
              "<style scoped>\n",
              "    .dataframe tbody tr th:only-of-type {\n",
              "        vertical-align: middle;\n",
              "    }\n",
              "\n",
              "    .dataframe tbody tr th {\n",
              "        vertical-align: top;\n",
              "    }\n",
              "\n",
              "    .dataframe thead th {\n",
              "        text-align: right;\n",
              "    }\n",
              "</style>\n",
              "<table border=\"1\" class=\"dataframe\">\n",
              "  <thead>\n",
              "    <tr style=\"text-align: right;\">\n",
              "      <th></th>\n",
              "      <th>IDENT</th>\n",
              "      <th>PROBA</th>\n",
              "      <th>TRANCHES</th>\n",
              "      <th>CLASSE</th>\n",
              "    </tr>\n",
              "  </thead>\n",
              "  <tbody>\n",
              "    <tr>\n",
              "      <th>29349</th>\n",
              "      <td>0010349327</td>\n",
              "      <td>0.002981</td>\n",
              "      <td>(0.00198, 0.0213]</td>\n",
              "      <td>1</td>\n",
              "    </tr>\n",
              "    <tr>\n",
              "      <th>71553</th>\n",
              "      <td>0010405567</td>\n",
              "      <td>0.003858</td>\n",
              "      <td>(0.00198, 0.0213]</td>\n",
              "      <td>1</td>\n",
              "    </tr>\n",
              "    <tr>\n",
              "      <th>15120</th>\n",
              "      <td>0010262361</td>\n",
              "      <td>0.004484</td>\n",
              "      <td>(0.00198, 0.0213]</td>\n",
              "      <td>1</td>\n",
              "    </tr>\n",
              "    <tr>\n",
              "      <th>31093</th>\n",
              "      <td>0010351666</td>\n",
              "      <td>0.004811</td>\n",
              "      <td>(0.00198, 0.0213]</td>\n",
              "      <td>1</td>\n",
              "    </tr>\n",
              "    <tr>\n",
              "      <th>50732</th>\n",
              "      <td>0010376221</td>\n",
              "      <td>0.005193</td>\n",
              "      <td>(0.00198, 0.0213]</td>\n",
              "      <td>1</td>\n",
              "    </tr>\n",
              "    <tr>\n",
              "      <th>...</th>\n",
              "      <td>...</td>\n",
              "      <td>...</td>\n",
              "      <td>...</td>\n",
              "      <td>...</td>\n",
              "    </tr>\n",
              "    <tr>\n",
              "      <th>15987</th>\n",
              "      <td>0010263545</td>\n",
              "      <td>1.000000</td>\n",
              "      <td>(0.964, 1.0]</td>\n",
              "      <td>20</td>\n",
              "    </tr>\n",
              "    <tr>\n",
              "      <th>29779</th>\n",
              "      <td>0010349936</td>\n",
              "      <td>1.000000</td>\n",
              "      <td>(0.964, 1.0]</td>\n",
              "      <td>20</td>\n",
              "    </tr>\n",
              "    <tr>\n",
              "      <th>6059</th>\n",
              "      <td>0010252767</td>\n",
              "      <td>1.000000</td>\n",
              "      <td>(0.964, 1.0]</td>\n",
              "      <td>20</td>\n",
              "    </tr>\n",
              "    <tr>\n",
              "      <th>56998</th>\n",
              "      <td>0010384509</td>\n",
              "      <td>1.000000</td>\n",
              "      <td>(0.964, 1.0]</td>\n",
              "      <td>20</td>\n",
              "    </tr>\n",
              "    <tr>\n",
              "      <th>0</th>\n",
              "      <td>0010000001</td>\n",
              "      <td>1.000000</td>\n",
              "      <td>(0.964, 1.0]</td>\n",
              "      <td>20</td>\n",
              "    </tr>\n",
              "  </tbody>\n",
              "</table>\n",
              "<p>99296 rows × 4 columns</p>\n",
              "</div>"
            ],
            "text/plain": [
              "            IDENT     PROBA           TRANCHES CLASSE\n",
              "29349  0010349327  0.002981  (0.00198, 0.0213]      1\n",
              "71553  0010405567  0.003858  (0.00198, 0.0213]      1\n",
              "15120  0010262361  0.004484  (0.00198, 0.0213]      1\n",
              "31093  0010351666  0.004811  (0.00198, 0.0213]      1\n",
              "50732  0010376221  0.005193  (0.00198, 0.0213]      1\n",
              "...           ...       ...                ...    ...\n",
              "15987  0010263545  1.000000       (0.964, 1.0]     20\n",
              "29779  0010349936  1.000000       (0.964, 1.0]     20\n",
              "6059   0010252767  1.000000       (0.964, 1.0]     20\n",
              "56998  0010384509  1.000000       (0.964, 1.0]     20\n",
              "0      0010000001  1.000000       (0.964, 1.0]     20\n",
              "\n",
              "[99296 rows x 4 columns]"
            ]
          },
          "metadata": {
            "tags": []
          },
          "execution_count": 40
        }
      ]
    },
    {
      "cell_type": "code",
      "metadata": {
        "id": "zNo_JpzffrI-"
      },
      "source": [
        ""
      ],
      "execution_count": null,
      "outputs": []
    },
    {
      "cell_type": "code",
      "metadata": {
        "id": "8kj3m4VlfrMh"
      },
      "source": [
        ""
      ],
      "execution_count": null,
      "outputs": []
    },
    {
      "cell_type": "code",
      "metadata": {
        "id": "-uG3-b8GPx1r"
      },
      "source": [
        "#################################################################################\n",
        "#################################################################################"
      ],
      "execution_count": null,
      "outputs": []
    },
    {
      "cell_type": "code",
      "metadata": {
        "id": "CfLeYRkTPx4H"
      },
      "source": [
        "import warnings\n",
        "warnings.filterwarnings(\"ignore\")"
      ],
      "execution_count": null,
      "outputs": []
    },
    {
      "cell_type": "code",
      "metadata": {
        "id": "igJQA-9ZjMDg"
      },
      "source": [
        "from scipy.stats import shapiro"
      ],
      "execution_count": null,
      "outputs": []
    },
    {
      "cell_type": "code",
      "metadata": {
        "colab": {
          "base_uri": "https://localhost:8080/",
          "height": 1000
        },
        "id": "MRk4_z0vSTOS",
        "outputId": "8e6c09ce-c0a2-4f8b-d1cb-6a086f674507"
      },
      "source": [
        "\n",
        "for i in range(0,15):\n",
        "    plt.figure(figsize=(5,8))\n",
        "    sns.distplot(coord_sans_nan[data_sans_nan.iloc[:,15]==1,i],hist=False) \n",
        "    sns.distplot(coord_sans_nan[data_sans_nan.iloc[:,15]==2,i],hist=False) \n",
        "    plt.xlim((-2.5,2.5))\n",
        "    plt.ylim((0,2))\n"
      ],
      "execution_count": null,
      "outputs": [
        {
          "output_type": "stream",
          "text": [
            "/usr/local/lib/python3.7/dist-packages/seaborn/distributions.py:2557: FutureWarning: `distplot` is a deprecated function and will be removed in a future version. Please adapt your code to use either `displot` (a figure-level function with similar flexibility) or `kdeplot` (an axes-level function for kernel density plots).\n",
            "  warnings.warn(msg, FutureWarning)\n",
            "/usr/local/lib/python3.7/dist-packages/seaborn/distributions.py:2557: FutureWarning: `distplot` is a deprecated function and will be removed in a future version. Please adapt your code to use either `displot` (a figure-level function with similar flexibility) or `kdeplot` (an axes-level function for kernel density plots).\n",
            "  warnings.warn(msg, FutureWarning)\n",
            "/usr/local/lib/python3.7/dist-packages/seaborn/distributions.py:2557: FutureWarning: `distplot` is a deprecated function and will be removed in a future version. Please adapt your code to use either `displot` (a figure-level function with similar flexibility) or `kdeplot` (an axes-level function for kernel density plots).\n",
            "  warnings.warn(msg, FutureWarning)\n",
            "/usr/local/lib/python3.7/dist-packages/seaborn/distributions.py:2557: FutureWarning: `distplot` is a deprecated function and will be removed in a future version. Please adapt your code to use either `displot` (a figure-level function with similar flexibility) or `kdeplot` (an axes-level function for kernel density plots).\n",
            "  warnings.warn(msg, FutureWarning)\n",
            "/usr/local/lib/python3.7/dist-packages/seaborn/distributions.py:2557: FutureWarning: `distplot` is a deprecated function and will be removed in a future version. Please adapt your code to use either `displot` (a figure-level function with similar flexibility) or `kdeplot` (an axes-level function for kernel density plots).\n",
            "  warnings.warn(msg, FutureWarning)\n",
            "/usr/local/lib/python3.7/dist-packages/seaborn/distributions.py:2557: FutureWarning: `distplot` is a deprecated function and will be removed in a future version. Please adapt your code to use either `displot` (a figure-level function with similar flexibility) or `kdeplot` (an axes-level function for kernel density plots).\n",
            "  warnings.warn(msg, FutureWarning)\n",
            "/usr/local/lib/python3.7/dist-packages/seaborn/distributions.py:2557: FutureWarning: `distplot` is a deprecated function and will be removed in a future version. Please adapt your code to use either `displot` (a figure-level function with similar flexibility) or `kdeplot` (an axes-level function for kernel density plots).\n",
            "  warnings.warn(msg, FutureWarning)\n",
            "/usr/local/lib/python3.7/dist-packages/seaborn/distributions.py:2557: FutureWarning: `distplot` is a deprecated function and will be removed in a future version. Please adapt your code to use either `displot` (a figure-level function with similar flexibility) or `kdeplot` (an axes-level function for kernel density plots).\n",
            "  warnings.warn(msg, FutureWarning)\n",
            "/usr/local/lib/python3.7/dist-packages/seaborn/distributions.py:2557: FutureWarning: `distplot` is a deprecated function and will be removed in a future version. Please adapt your code to use either `displot` (a figure-level function with similar flexibility) or `kdeplot` (an axes-level function for kernel density plots).\n",
            "  warnings.warn(msg, FutureWarning)\n",
            "/usr/local/lib/python3.7/dist-packages/seaborn/distributions.py:2557: FutureWarning: `distplot` is a deprecated function and will be removed in a future version. Please adapt your code to use either `displot` (a figure-level function with similar flexibility) or `kdeplot` (an axes-level function for kernel density plots).\n",
            "  warnings.warn(msg, FutureWarning)\n",
            "/usr/local/lib/python3.7/dist-packages/seaborn/distributions.py:2557: FutureWarning: `distplot` is a deprecated function and will be removed in a future version. Please adapt your code to use either `displot` (a figure-level function with similar flexibility) or `kdeplot` (an axes-level function for kernel density plots).\n",
            "  warnings.warn(msg, FutureWarning)\n",
            "/usr/local/lib/python3.7/dist-packages/seaborn/distributions.py:2557: FutureWarning: `distplot` is a deprecated function and will be removed in a future version. Please adapt your code to use either `displot` (a figure-level function with similar flexibility) or `kdeplot` (an axes-level function for kernel density plots).\n",
            "  warnings.warn(msg, FutureWarning)\n",
            "/usr/local/lib/python3.7/dist-packages/seaborn/distributions.py:2557: FutureWarning: `distplot` is a deprecated function and will be removed in a future version. Please adapt your code to use either `displot` (a figure-level function with similar flexibility) or `kdeplot` (an axes-level function for kernel density plots).\n",
            "  warnings.warn(msg, FutureWarning)\n",
            "/usr/local/lib/python3.7/dist-packages/seaborn/distributions.py:2557: FutureWarning: `distplot` is a deprecated function and will be removed in a future version. Please adapt your code to use either `displot` (a figure-level function with similar flexibility) or `kdeplot` (an axes-level function for kernel density plots).\n",
            "  warnings.warn(msg, FutureWarning)\n",
            "/usr/local/lib/python3.7/dist-packages/seaborn/distributions.py:2557: FutureWarning: `distplot` is a deprecated function and will be removed in a future version. Please adapt your code to use either `displot` (a figure-level function with similar flexibility) or `kdeplot` (an axes-level function for kernel density plots).\n",
            "  warnings.warn(msg, FutureWarning)\n",
            "/usr/local/lib/python3.7/dist-packages/seaborn/distributions.py:2557: FutureWarning: `distplot` is a deprecated function and will be removed in a future version. Please adapt your code to use either `displot` (a figure-level function with similar flexibility) or `kdeplot` (an axes-level function for kernel density plots).\n",
            "  warnings.warn(msg, FutureWarning)\n",
            "/usr/local/lib/python3.7/dist-packages/seaborn/distributions.py:2557: FutureWarning: `distplot` is a deprecated function and will be removed in a future version. Please adapt your code to use either `displot` (a figure-level function with similar flexibility) or `kdeplot` (an axes-level function for kernel density plots).\n",
            "  warnings.warn(msg, FutureWarning)\n",
            "/usr/local/lib/python3.7/dist-packages/seaborn/distributions.py:2557: FutureWarning: `distplot` is a deprecated function and will be removed in a future version. Please adapt your code to use either `displot` (a figure-level function with similar flexibility) or `kdeplot` (an axes-level function for kernel density plots).\n",
            "  warnings.warn(msg, FutureWarning)\n",
            "/usr/local/lib/python3.7/dist-packages/seaborn/distributions.py:2557: FutureWarning: `distplot` is a deprecated function and will be removed in a future version. Please adapt your code to use either `displot` (a figure-level function with similar flexibility) or `kdeplot` (an axes-level function for kernel density plots).\n",
            "  warnings.warn(msg, FutureWarning)\n",
            "/usr/local/lib/python3.7/dist-packages/seaborn/distributions.py:2557: FutureWarning: `distplot` is a deprecated function and will be removed in a future version. Please adapt your code to use either `displot` (a figure-level function with similar flexibility) or `kdeplot` (an axes-level function for kernel density plots).\n",
            "  warnings.warn(msg, FutureWarning)\n",
            "/usr/local/lib/python3.7/dist-packages/seaborn/distributions.py:2557: FutureWarning: `distplot` is a deprecated function and will be removed in a future version. Please adapt your code to use either `displot` (a figure-level function with similar flexibility) or `kdeplot` (an axes-level function for kernel density plots).\n",
            "  warnings.warn(msg, FutureWarning)\n",
            "/usr/local/lib/python3.7/dist-packages/seaborn/distributions.py:2557: FutureWarning: `distplot` is a deprecated function and will be removed in a future version. Please adapt your code to use either `displot` (a figure-level function with similar flexibility) or `kdeplot` (an axes-level function for kernel density plots).\n",
            "  warnings.warn(msg, FutureWarning)\n",
            "/usr/local/lib/python3.7/dist-packages/seaborn/distributions.py:2557: FutureWarning: `distplot` is a deprecated function and will be removed in a future version. Please adapt your code to use either `displot` (a figure-level function with similar flexibility) or `kdeplot` (an axes-level function for kernel density plots).\n",
            "  warnings.warn(msg, FutureWarning)\n",
            "/usr/local/lib/python3.7/dist-packages/seaborn/distributions.py:2557: FutureWarning: `distplot` is a deprecated function and will be removed in a future version. Please adapt your code to use either `displot` (a figure-level function with similar flexibility) or `kdeplot` (an axes-level function for kernel density plots).\n",
            "  warnings.warn(msg, FutureWarning)\n",
            "/usr/local/lib/python3.7/dist-packages/seaborn/distributions.py:2557: FutureWarning: `distplot` is a deprecated function and will be removed in a future version. Please adapt your code to use either `displot` (a figure-level function with similar flexibility) or `kdeplot` (an axes-level function for kernel density plots).\n",
            "  warnings.warn(msg, FutureWarning)\n",
            "/usr/local/lib/python3.7/dist-packages/seaborn/distributions.py:2557: FutureWarning: `distplot` is a deprecated function and will be removed in a future version. Please adapt your code to use either `displot` (a figure-level function with similar flexibility) or `kdeplot` (an axes-level function for kernel density plots).\n",
            "  warnings.warn(msg, FutureWarning)\n",
            "/usr/local/lib/python3.7/dist-packages/seaborn/distributions.py:2557: FutureWarning: `distplot` is a deprecated function and will be removed in a future version. Please adapt your code to use either `displot` (a figure-level function with similar flexibility) or `kdeplot` (an axes-level function for kernel density plots).\n",
            "  warnings.warn(msg, FutureWarning)\n",
            "/usr/local/lib/python3.7/dist-packages/seaborn/distributions.py:2557: FutureWarning: `distplot` is a deprecated function and will be removed in a future version. Please adapt your code to use either `displot` (a figure-level function with similar flexibility) or `kdeplot` (an axes-level function for kernel density plots).\n",
            "  warnings.warn(msg, FutureWarning)\n",
            "/usr/local/lib/python3.7/dist-packages/seaborn/distributions.py:2557: FutureWarning: `distplot` is a deprecated function and will be removed in a future version. Please adapt your code to use either `displot` (a figure-level function with similar flexibility) or `kdeplot` (an axes-level function for kernel density plots).\n",
            "  warnings.warn(msg, FutureWarning)\n",
            "/usr/local/lib/python3.7/dist-packages/seaborn/distributions.py:2557: FutureWarning: `distplot` is a deprecated function and will be removed in a future version. Please adapt your code to use either `displot` (a figure-level function with similar flexibility) or `kdeplot` (an axes-level function for kernel density plots).\n",
            "  warnings.warn(msg, FutureWarning)\n"
          ],
          "name": "stderr"
        },
        {
          "output_type": "display_data",
          "data": {
            "image/png": "[encoded data removed]",
            "text/plain": [
              "<Figure size 360x576 with 1 Axes>"
            ]
          },
          "metadata": {
            "tags": [],
            "needs_background": "light"
          }
        },
        {
          "output_type": "display_data",
          "data": {
            "image/png": "[encoded data removed]",
            "text/plain": [
              "<Figure size 360x576 with 1 Axes>"
            ]
          },
          "metadata": {
            "tags": [],
            "needs_background": "light"
          }
        },
        {
          "output_type": "display_data",
          "data": {
            "image/png": "[encoded data removed]",
            "text/plain": [
              "<Figure size 360x576 with 1 Axes>"
            ]
          },
          "metadata": {
            "tags": [],
            "needs_background": "light"
          }
        },
        {
          "output_type": "display_data",
          "data": {
            "image/png": "[encoded data removed]",
            "text/plain": [
              "<Figure size 360x576 with 1 Axes>"
            ]
          },
          "metadata": {
            "tags": [],
            "needs_background": "light"
          }
        },
        {
          "output_type": "display_data",
          "data": {
            "image/png": "[encoded data removed]",
            "text/plain": [
              "<Figure size 360x576 with 1 Axes>"
            ]
          },
          "metadata": {
            "tags": [],
            "needs_background": "light"
          }
        },
        {
          "output_type": "display_data",
          "data": {
            "image/png": "[encoded data removed]",
            "text/plain": [
              "<Figure size 360x576 with 1 Axes>"
            ]
          },
          "metadata": {
            "tags": [],
            "needs_background": "light"
          }
        },
        {
          "output_type": "display_data",
          "data": {
            "image/png": "[encoded data removed]",
            "text/plain": [
              "<Figure size 360x576 with 1 Axes>"
            ]
          },
          "metadata": {
            "tags": [],
            "needs_background": "light"
          }
        },
        {
          "output_type": "display_data",
          "data": {
            "image/png": "[encoded data removed]",
            "text/plain": [
              "<Figure size 360x576 with 1 Axes>"
            ]
          },
          "metadata": {
            "tags": [],
            "needs_background": "light"
          }
        },
        {
          "output_type": "display_data",
          "data": {
            "image/png": "[encoded data removed]",
            "text/plain": [
              "<Figure size 360x576 with 1 Axes>"
            ]
          },
          "metadata": {
            "tags": [],
            "needs_background": "light"
          }
        },
        {
          "output_type": "display_data",
          "data": {
            "image/png": "[encoded data removed]",
            "text/plain": [
              "<Figure size 360x576 with 1 Axes>"
            ]
          },
          "metadata": {
            "tags": [],
            "needs_background": "light"
          }
        },
        {
          "output_type": "display_data",
          "data": {
            "image/png": "[encoded data removed]",
            "text/plain": [
              "<Figure size 360x576 with 1 Axes>"
            ]
          },
          "metadata": {
            "tags": [],
            "needs_background": "light"
          }
        },
        {
          "output_type": "display_data",
          "data": {
            "image/png": "[encoded data removed]",
            "text/plain": [
              "<Figure size 360x576 with 1 Axes>"
            ]
          },
          "metadata": {
            "tags": [],
            "needs_background": "light"
          }
        },
        {
          "output_type": "display_data",
          "data": {
            "image/png": "[encoded data removed]",
            "text/plain": [
              "<Figure size 360x576 with 1 Axes>"
            ]
          },
          "metadata": {
            "tags": [],
            "needs_background": "light"
          }
        },
        {
          "output_type": "display_data",
          "data": {
            "image/png": "[encoded data removed]",
            "text/plain": [
              "<Figure size 360x576 with 1 Axes>"
            ]
          },
          "metadata": {
            "tags": [],
            "needs_background": "light"
          }
        },
        {
          "output_type": "display_data",
          "data": {
            "image/png": "[encoded data removed]",
            "text/plain": [
              "<Figure size 360x576 with 1 Axes>"
            ]
          },
          "metadata": {
            "tags": [],
            "needs_background": "light"
          }
        }
      ]
    },
    {
      "cell_type": "code",
      "metadata": {
        "colab": {
          "base_uri": "https://localhost:8080/"
        },
        "id": "a2tNN4IFWJA9",
        "outputId": "89909e21-6ab4-401c-e275-34050c8f545e"
      },
      "source": [
        "for j in range(15):\n",
        "    print( shapiro(coord_sans_nan[data_sans_nan.iloc[:,15]==1,j]), shapiro(coord_sans_nan[data_sans_nan.iloc[:,15]==2,j]) )"
      ],
      "execution_count": null,
      "outputs": [
        {
          "output_type": "stream",
          "text": [
            "/usr/local/lib/python3.7/dist-packages/scipy/stats/morestats.py:1676: UserWarning: p-value may not be accurate for N > 5000.\n",
            "  warnings.warn(\"p-value may not be accurate for N > 5000.\")\n",
            "/usr/local/lib/python3.7/dist-packages/scipy/stats/morestats.py:1676: UserWarning: p-value may not be accurate for N > 5000.\n",
            "  warnings.warn(\"p-value may not be accurate for N > 5000.\")\n",
            "/usr/local/lib/python3.7/dist-packages/scipy/stats/morestats.py:1676: UserWarning: p-value may not be accurate for N > 5000.\n",
            "  warnings.warn(\"p-value may not be accurate for N > 5000.\")\n",
            "/usr/local/lib/python3.7/dist-packages/scipy/stats/morestats.py:1676: UserWarning: p-value may not be accurate for N > 5000.\n",
            "  warnings.warn(\"p-value may not be accurate for N > 5000.\")\n",
            "/usr/local/lib/python3.7/dist-packages/scipy/stats/morestats.py:1676: UserWarning: p-value may not be accurate for N > 5000.\n",
            "  warnings.warn(\"p-value may not be accurate for N > 5000.\")\n",
            "/usr/local/lib/python3.7/dist-packages/scipy/stats/morestats.py:1676: UserWarning: p-value may not be accurate for N > 5000.\n",
            "  warnings.warn(\"p-value may not be accurate for N > 5000.\")\n",
            "/usr/local/lib/python3.7/dist-packages/scipy/stats/morestats.py:1676: UserWarning: p-value may not be accurate for N > 5000.\n",
            "  warnings.warn(\"p-value may not be accurate for N > 5000.\")\n",
            "/usr/local/lib/python3.7/dist-packages/scipy/stats/morestats.py:1676: UserWarning: p-value may not be accurate for N > 5000.\n",
            "  warnings.warn(\"p-value may not be accurate for N > 5000.\")\n",
            "/usr/local/lib/python3.7/dist-packages/scipy/stats/morestats.py:1676: UserWarning: p-value may not be accurate for N > 5000.\n",
            "  warnings.warn(\"p-value may not be accurate for N > 5000.\")\n",
            "/usr/local/lib/python3.7/dist-packages/scipy/stats/morestats.py:1676: UserWarning: p-value may not be accurate for N > 5000.\n",
            "  warnings.warn(\"p-value may not be accurate for N > 5000.\")\n",
            "/usr/local/lib/python3.7/dist-packages/scipy/stats/morestats.py:1676: UserWarning: p-value may not be accurate for N > 5000.\n",
            "  warnings.warn(\"p-value may not be accurate for N > 5000.\")\n",
            "/usr/local/lib/python3.7/dist-packages/scipy/stats/morestats.py:1676: UserWarning: p-value may not be accurate for N > 5000.\n",
            "  warnings.warn(\"p-value may not be accurate for N > 5000.\")\n",
            "/usr/local/lib/python3.7/dist-packages/scipy/stats/morestats.py:1676: UserWarning: p-value may not be accurate for N > 5000.\n",
            "  warnings.warn(\"p-value may not be accurate for N > 5000.\")\n",
            "/usr/local/lib/python3.7/dist-packages/scipy/stats/morestats.py:1676: UserWarning: p-value may not be accurate for N > 5000.\n",
            "  warnings.warn(\"p-value may not be accurate for N > 5000.\")\n",
            "/usr/local/lib/python3.7/dist-packages/scipy/stats/morestats.py:1676: UserWarning: p-value may not be accurate for N > 5000.\n",
            "  warnings.warn(\"p-value may not be accurate for N > 5000.\")\n",
            "/usr/local/lib/python3.7/dist-packages/scipy/stats/morestats.py:1676: UserWarning: p-value may not be accurate for N > 5000.\n",
            "  warnings.warn(\"p-value may not be accurate for N > 5000.\")\n",
            "/usr/local/lib/python3.7/dist-packages/scipy/stats/morestats.py:1676: UserWarning: p-value may not be accurate for N > 5000.\n",
            "  warnings.warn(\"p-value may not be accurate for N > 5000.\")\n",
            "/usr/local/lib/python3.7/dist-packages/scipy/stats/morestats.py:1676: UserWarning: p-value may not be accurate for N > 5000.\n",
            "  warnings.warn(\"p-value may not be accurate for N > 5000.\")\n",
            "/usr/local/lib/python3.7/dist-packages/scipy/stats/morestats.py:1676: UserWarning: p-value may not be accurate for N > 5000.\n",
            "  warnings.warn(\"p-value may not be accurate for N > 5000.\")\n",
            "/usr/local/lib/python3.7/dist-packages/scipy/stats/morestats.py:1676: UserWarning: p-value may not be accurate for N > 5000.\n",
            "  warnings.warn(\"p-value may not be accurate for N > 5000.\")\n",
            "/usr/local/lib/python3.7/dist-packages/scipy/stats/morestats.py:1676: UserWarning: p-value may not be accurate for N > 5000.\n",
            "  warnings.warn(\"p-value may not be accurate for N > 5000.\")\n",
            "/usr/local/lib/python3.7/dist-packages/scipy/stats/morestats.py:1676: UserWarning: p-value may not be accurate for N > 5000.\n",
            "  warnings.warn(\"p-value may not be accurate for N > 5000.\")\n",
            "/usr/local/lib/python3.7/dist-packages/scipy/stats/morestats.py:1676: UserWarning: p-value may not be accurate for N > 5000.\n",
            "  warnings.warn(\"p-value may not be accurate for N > 5000.\")\n",
            "/usr/local/lib/python3.7/dist-packages/scipy/stats/morestats.py:1676: UserWarning: p-value may not be accurate for N > 5000.\n",
            "  warnings.warn(\"p-value may not be accurate for N > 5000.\")\n"
          ],
          "name": "stderr"
        },
        {
          "output_type": "stream",
          "text": [
            "(0.8889386653900146, 0.0) (0.88752681016922, 0.0)\n",
            "(0.33572298288345337, 0.0) (0.3221573829650879, 0.0)\n",
            "(0.9529616832733154, 0.0) (0.9291819334030151, 0.0)\n",
            "(0.8717105388641357, 0.0) (0.861024022102356, 0.0)\n",
            "(0.95638507604599, 0.0) (0.9423134922981262, 0.0)\n",
            "(0.9959754347801208, 6.040618565258718e-26) (0.9951214790344238, 7.894775418159587e-41)\n",
            "(0.2060166597366333, 0.0) (0.23741638660430908, 0.0)\n",
            "(0.949048638343811, 0.0) (0.9674699902534485, 0.0)\n",
            "(0.948469877243042, 0.0) (0.9614996314048767, 0.0)\n",
            "(0.9854901432991028, 9.80908925027372e-45) (0.9900328516960144, 0.0)\n",
            "(0.8798614144325256, 0.0) (0.8598746061325073, 0.0)\n",
            "(0.9900939464569092, 1.3937046878167945e-38) (0.9910640716552734, 0.0)\n",
            "(0.9853678941726685, 7.006492321624085e-45) (0.9859757423400879, 0.0)\n",
            "(0.9913292527198792, 1.508155700654167e-36) (0.9938042163848877, 8.407790785948902e-45)\n",
            "(0.9881532788276672, 2.094801074319169e-41) (0.9904729127883911, 0.0)\n"
          ],
          "name": "stdout"
        },
        {
          "output_type": "stream",
          "text": [
            "/usr/local/lib/python3.7/dist-packages/scipy/stats/morestats.py:1676: UserWarning: p-value may not be accurate for N > 5000.\n",
            "  warnings.warn(\"p-value may not be accurate for N > 5000.\")\n",
            "/usr/local/lib/python3.7/dist-packages/scipy/stats/morestats.py:1676: UserWarning: p-value may not be accurate for N > 5000.\n",
            "  warnings.warn(\"p-value may not be accurate for N > 5000.\")\n",
            "/usr/local/lib/python3.7/dist-packages/scipy/stats/morestats.py:1676: UserWarning: p-value may not be accurate for N > 5000.\n",
            "  warnings.warn(\"p-value may not be accurate for N > 5000.\")\n",
            "/usr/local/lib/python3.7/dist-packages/scipy/stats/morestats.py:1676: UserWarning: p-value may not be accurate for N > 5000.\n",
            "  warnings.warn(\"p-value may not be accurate for N > 5000.\")\n",
            "/usr/local/lib/python3.7/dist-packages/scipy/stats/morestats.py:1676: UserWarning: p-value may not be accurate for N > 5000.\n",
            "  warnings.warn(\"p-value may not be accurate for N > 5000.\")\n",
            "/usr/local/lib/python3.7/dist-packages/scipy/stats/morestats.py:1676: UserWarning: p-value may not be accurate for N > 5000.\n",
            "  warnings.warn(\"p-value may not be accurate for N > 5000.\")\n"
          ],
          "name": "stderr"
        }
      ]
    },
    {
      "cell_type": "code",
      "metadata": {
        "colab": {
          "base_uri": "https://localhost:8080/"
        },
        "id": "KRVPkZ9FWwm3",
        "outputId": "84c24e45-aca2-44a1-a9bf-dde50b2ad1e7"
      },
      "source": [
        "shapiro(coord_sans_nan[data_sans_nan.iloc[:,15]==1,:]), shapiro(coord_sans_nan[data_sans_nan.iloc[:,15]==2,:])"
      ],
      "execution_count": null,
      "outputs": [
        {
          "output_type": "stream",
          "text": [
            "/usr/local/lib/python3.7/dist-packages/scipy/stats/morestats.py:1676: UserWarning: p-value may not be accurate for N > 5000.\n",
            "  warnings.warn(\"p-value may not be accurate for N > 5000.\")\n",
            "/usr/local/lib/python3.7/dist-packages/scipy/stats/morestats.py:1676: UserWarning: p-value may not be accurate for N > 5000.\n",
            "  warnings.warn(\"p-value may not be accurate for N > 5000.\")\n"
          ],
          "name": "stderr"
        },
        {
          "output_type": "execute_result",
          "data": {
            "text/plain": [
              "((0.8687389492988586, 0.0), (0.9115259051322937, 0.0))"
            ]
          },
          "metadata": {
            "tags": []
          },
          "execution_count": 44
        }
      ]
    },
    {
      "cell_type": "code",
      "metadata": {
        "colab": {
          "base_uri": "https://localhost:8080/",
          "height": 283
        },
        "id": "mVEvl0WqW3yh",
        "outputId": "ebe27d9f-592a-4108-90d5-3932591acb86"
      },
      "source": [
        "plt.plot(coord_sans_nan[data_sans_nan.iloc[:,15]==2,1], coord_sans_nan[data_sans_nan.iloc[:,15]==2,0],\".\")\n",
        "plt.plot(coord_sans_nan[data_sans_nan.iloc[:,15]==1,1], coord_sans_nan[data_sans_nan.iloc[:,15]==1,0],\".\")"
      ],
      "execution_count": null,
      "outputs": [
        {
          "output_type": "execute_result",
          "data": {
            "text/plain": [
              "[<matplotlib.lines.Line2D at 0x7fc2e6e1bad0>]"
            ]
          },
          "metadata": {
            "tags": []
          },
          "execution_count": 45
        },
        {
          "output_type": "display_data",
          "data": {
            "image/png": "[encoded data removed]",
            "text/plain": [
              "<Figure size 432x288 with 1 Axes>"
            ]
          },
          "metadata": {
            "tags": [],
            "needs_background": "light"
          }
        }
      ]
    },
    {
      "cell_type": "code",
      "metadata": {
        "colab": {
          "base_uri": "https://localhost:8080/",
          "height": 283
        },
        "id": "9vXfindOYYvk",
        "outputId": "cb76d740-d7d5-4ee6-f808-d86ad43893f6"
      },
      "source": [
        "plt.plot(coord_sans_nan[data_sans_nan.iloc[:,15]==2,1], coord_sans_nan[data_sans_nan.iloc[:,15]==2,2],\".\")\n",
        "plt.plot(coord_sans_nan[data_sans_nan.iloc[:,15]==1,1], coord_sans_nan[data_sans_nan.iloc[:,15]==1,2],\".\")"
      ],
      "execution_count": null,
      "outputs": [
        {
          "output_type": "execute_result",
          "data": {
            "text/plain": [
              "[<matplotlib.lines.Line2D at 0x7fc2e6d87910>]"
            ]
          },
          "metadata": {
            "tags": []
          },
          "execution_count": 46
        },
        {
          "output_type": "display_data",
          "data": {
            "image/png": "[encoded data removed]",
            "text/plain": [
              "<Figure size 432x288 with 1 Axes>"
            ]
          },
          "metadata": {
            "tags": [],
            "needs_background": "light"
          }
        }
      ]
    },
    {
      "cell_type": "code",
      "metadata": {
        "colab": {
          "base_uri": "https://localhost:8080/",
          "height": 283
        },
        "id": "Sv0Ae6i9t9Q1",
        "outputId": "4afb7cd1-db12-4616-ee2d-851cbc3af6c1"
      },
      "source": [
        "plt.plot(coord_sans_nan[data_sans_nan.iloc[:,15]==2,0], coord_sans_nan[data_sans_nan.iloc[:,15]==2,2],\".\")\n",
        "plt.plot(coord_sans_nan[data_sans_nan.iloc[:,15]==1,0], coord_sans_nan[data_sans_nan.iloc[:,15]==1,2],\".\")"
      ],
      "execution_count": null,
      "outputs": [
        {
          "output_type": "execute_result",
          "data": {
            "text/plain": [
              "[<matplotlib.lines.Line2D at 0x7fc2e6d64fd0>]"
            ]
          },
          "metadata": {
            "tags": []
          },
          "execution_count": 47
        },
        {
          "output_type": "display_data",
          "data": {
            "image/png": "[encoded data removed]",
            "text/plain": [
              "<Figure size 432x288 with 1 Axes>"
            ]
          },
          "metadata": {
            "tags": [],
            "needs_background": "light"
          }
        }
      ]
    },
    {
      "cell_type": "code",
      "metadata": {
        "colab": {
          "base_uri": "https://localhost:8080/"
        },
        "id": "gZjFY1LbDFZm",
        "outputId": "d4ffdeb7-f286-4cd2-adbf-217fa8882d0f"
      },
      "source": [
        "for j in range(15):#23456\n",
        "    hhh = pd.DataFrame(coord_sans_nan[data_sans_nan.iloc[:,15]==2,j])\n",
        "    \n",
        "    q_low = hhh.quantile(0.05)\n",
        "    q_hi  = hhh.quantile(0.95)\n",
        "    df_filtered = hhh[(hhh < q_hi) & (hhh > q_low)]\n",
        "\n",
        "    print(shapiro(df_filtered.dropna()))\n"
      ],
      "execution_count": null,
      "outputs": [
        {
          "output_type": "stream",
          "text": [
            "/usr/local/lib/python3.7/dist-packages/scipy/stats/morestats.py:1676: UserWarning: p-value may not be accurate for N > 5000.\n",
            "  warnings.warn(\"p-value may not be accurate for N > 5000.\")\n",
            "/usr/local/lib/python3.7/dist-packages/scipy/stats/morestats.py:1676: UserWarning: p-value may not be accurate for N > 5000.\n",
            "  warnings.warn(\"p-value may not be accurate for N > 5000.\")\n",
            "/usr/local/lib/python3.7/dist-packages/scipy/stats/morestats.py:1676: UserWarning: p-value may not be accurate for N > 5000.\n",
            "  warnings.warn(\"p-value may not be accurate for N > 5000.\")\n",
            "/usr/local/lib/python3.7/dist-packages/scipy/stats/morestats.py:1676: UserWarning: p-value may not be accurate for N > 5000.\n",
            "  warnings.warn(\"p-value may not be accurate for N > 5000.\")\n",
            "/usr/local/lib/python3.7/dist-packages/scipy/stats/morestats.py:1676: UserWarning: p-value may not be accurate for N > 5000.\n",
            "  warnings.warn(\"p-value may not be accurate for N > 5000.\")\n",
            "/usr/local/lib/python3.7/dist-packages/scipy/stats/morestats.py:1676: UserWarning: p-value may not be accurate for N > 5000.\n",
            "  warnings.warn(\"p-value may not be accurate for N > 5000.\")\n",
            "/usr/local/lib/python3.7/dist-packages/scipy/stats/morestats.py:1676: UserWarning: p-value may not be accurate for N > 5000.\n",
            "  warnings.warn(\"p-value may not be accurate for N > 5000.\")\n",
            "/usr/local/lib/python3.7/dist-packages/scipy/stats/morestats.py:1676: UserWarning: p-value may not be accurate for N > 5000.\n",
            "  warnings.warn(\"p-value may not be accurate for N > 5000.\")\n",
            "/usr/local/lib/python3.7/dist-packages/scipy/stats/morestats.py:1676: UserWarning: p-value may not be accurate for N > 5000.\n",
            "  warnings.warn(\"p-value may not be accurate for N > 5000.\")\n"
          ],
          "name": "stderr"
        },
        {
          "output_type": "stream",
          "text": [
            "(0.8826243877410889, 0.0)\n",
            "(0.9888412356376648, 0.0)\n",
            "(0.9318932294845581, 0.0)\n",
            "(0.9116094708442688, 0.0)\n",
            "(0.979480504989624, 0.0)\n",
            "(0.9826248288154602, 0.0)\n",
            "(0.9731096029281616, 0.0)\n",
            "(0.9884598851203918, 0.0)\n",
            "(0.9880431294441223, 0.0)\n",
            "(0.9888715744018555, 0.0)\n",
            "(0.9916458129882812, 0.0)\n",
            "(0.9882144927978516, 0.0)\n",
            "(0.9854512810707092, 0.0)\n",
            "(0.9830330610275269, 0.0)\n",
            "(0.9786491394042969, 0.0)\n"
          ],
          "name": "stdout"
        },
        {
          "output_type": "stream",
          "text": [
            "/usr/local/lib/python3.7/dist-packages/scipy/stats/morestats.py:1676: UserWarning: p-value may not be accurate for N > 5000.\n",
            "  warnings.warn(\"p-value may not be accurate for N > 5000.\")\n",
            "/usr/local/lib/python3.7/dist-packages/scipy/stats/morestats.py:1676: UserWarning: p-value may not be accurate for N > 5000.\n",
            "  warnings.warn(\"p-value may not be accurate for N > 5000.\")\n",
            "/usr/local/lib/python3.7/dist-packages/scipy/stats/morestats.py:1676: UserWarning: p-value may not be accurate for N > 5000.\n",
            "  warnings.warn(\"p-value may not be accurate for N > 5000.\")\n",
            "/usr/local/lib/python3.7/dist-packages/scipy/stats/morestats.py:1676: UserWarning: p-value may not be accurate for N > 5000.\n",
            "  warnings.warn(\"p-value may not be accurate for N > 5000.\")\n",
            "/usr/local/lib/python3.7/dist-packages/scipy/stats/morestats.py:1676: UserWarning: p-value may not be accurate for N > 5000.\n",
            "  warnings.warn(\"p-value may not be accurate for N > 5000.\")\n",
            "/usr/local/lib/python3.7/dist-packages/scipy/stats/morestats.py:1676: UserWarning: p-value may not be accurate for N > 5000.\n",
            "  warnings.warn(\"p-value may not be accurate for N > 5000.\")\n"
          ],
          "name": "stderr"
        }
      ]
    },
    {
      "cell_type": "code",
      "metadata": {
        "colab": {
          "base_uri": "https://localhost:8080/",
          "height": 317
        },
        "id": "5oeZQaY9gbf_",
        "outputId": "0add3289-6c63-4e19-952a-6e09099f3c36"
      },
      "source": [
        "hhh = pd.DataFrame(coord_sans_nan[data_sans_nan.iloc[:,15]==1,1])\n",
        "q_low = hhh.quantile(0.03)\n",
        "q_hi  = hhh.quantile(0.95)\n",
        "df_filtered = hhh[(hhh < q_hi) & (hhh > q_low)]\n",
        "print(df_filtered.shape)\n",
        "\n",
        "hhh_2 = pd.DataFrame(coord_sans_nan[data_sans_nan.iloc[:,15]==1,2])\n",
        "q_low_2 = hhh_2.quantile(0.03)\n",
        "q_hi_2  = hhh_2.quantile(0.95)\n",
        "df_filtered_2 = hhh_2[(hhh_2 < q_hi_2) & (hhh_2 > q_low_2)]\n",
        "print(df_filtered_2.shape)\n",
        "\n",
        "plt.plot(df_filtered.iloc[:,0], df_filtered_2.iloc[:,0], '.')"
      ],
      "execution_count": null,
      "outputs": [
        {
          "output_type": "stream",
          "text": [
            "(26728, 1)\n",
            "(26728, 1)\n"
          ],
          "name": "stdout"
        },
        {
          "output_type": "execute_result",
          "data": {
            "text/plain": [
              "[<matplotlib.lines.Line2D at 0x7fc2e6ce13d0>]"
            ]
          },
          "metadata": {
            "tags": []
          },
          "execution_count": 49
        },
        {
          "output_type": "display_data",
          "data": {
            "image/png": "[encoded data removed]",
            "text/plain": [
              "<Figure size 432x288 with 1 Axes>"
            ]
          },
          "metadata": {
            "tags": [],
            "needs_background": "light"
          }
        }
      ]
    },
    {
      "cell_type": "code",
      "metadata": {
        "id": "O1GfVaA0eH_7"
      },
      "source": [
        ""
      ],
      "execution_count": null,
      "outputs": []
    },
    {
      "cell_type": "code",
      "metadata": {
        "id": "0csF8LqVx0Ee"
      },
      "source": [
        "\n",
        "'''\n",
        "from sklearn.preprocessing import KBinsDiscretizer\n",
        "# discrétisation des variables continues (les valeurs manquantes doivent être gérées en amont)\n",
        " c'est qui est bien avec KBinsDiscretizer est qu'il s'adapte aux éventuelles partitions au\n",
        "sein d'une variable. En d'autres termes, si la méthode n'arrive pas à partitionner les individus\n",
        "en k partitions, alors elle esssayera de les partitionner en k-1 partitions, et ainsi de suite, \n",
        "jusqu'à atteindre 1 partition (il faut faire attention avec les variables ayant uniquement \n",
        "une modalité). Lorsque la méthode rencontre ce cas, elle affichera \"UserWaring\" pour informer \n",
        "l'utilisateur de celui-ci ainsi que les variables concernées. Ceci sera utile plus tard.\n",
        "\n",
        "\n",
        "method_discre = KBinsDiscretizer(n_bins=4, encode='ordinal', strategy='quantile') \n",
        "method_discre.fit(data.iloc[:,1:23])\n",
        "resultat_discre = method_discre.transform(data.iloc[:,1:23])\n",
        "resultat_discre\n",
        "\n",
        "# construction du data frame après discrétisation\n",
        "data2_index = data.iloc[:,0]\n",
        "df_resultat_discre = pd.DataFrame(resultat_discre,columns=colonnes[1:23], dtype=int )\n",
        "data_final = pd.concat([data2_index, df_resultat_discre,data[\"IFI+\"]], axis=1 ) #data2_index\n",
        "data_final\n",
        "\n",
        "#nombre_mod(data_final)\n",
        "#nombre_mod(data)\n",
        "\n",
        "# description des modalités d'une variable\n",
        "for k in range(1,data_final.shape[1]):\n",
        "    print(data_final.iloc[:,k].value_counts(dropna=True)); print(\"=\"*50)\n",
        "\n",
        "# description des modalités d'une variable\n",
        "for k in range(1,data.shape[1]):\n",
        "    print(data.iloc[:,k].value_counts(dropna=True)); print(\"=\"*50)\n",
        "\n",
        "'''\n"
      ],
      "execution_count": null,
      "outputs": []
    },
    {
      "cell_type": "code",
      "metadata": {
        "id": "SIKMz_STz4fn"
      },
      "source": [
        "###########################################################################################################\n",
        "#  PIPELINE"
      ],
      "execution_count": null,
      "outputs": []
    },
    {
      "cell_type": "code",
      "metadata": {
        "id": "3oAVMbZqz9eK"
      },
      "source": [
        "from sklearn.pipeline import Pipeline, make_pipeline"
      ],
      "execution_count": null,
      "outputs": []
    },
    {
      "cell_type": "code",
      "metadata": {
        "id": "jAZ0dEGzIgry"
      },
      "source": [
        "disqual =  Pipeline([(\"acm\", MCA(var_labels = data.columns[1:num_var_max], )),(\"adl\", LinearDiscriminantAnalysis())])"
      ],
      "execution_count": null,
      "outputs": []
    },
    {
      "cell_type": "code",
      "metadata": {
        "id": "_YNg4cZgIgu-"
      },
      "source": [
        "disqual.fit(data.iloc[:127115, 1:-1].values, data.iloc[:127115, num_var_max] )\n",
        "\n"
      ],
      "execution_count": null,
      "outputs": []
    },
    {
      "cell_type": "code",
      "metadata": {
        "id": "q3k4jqMm5plF"
      },
      "source": [
        "#accès à l'ACM, nombre de composants\n",
        "print(disqual.named_steps[\"acm\"].n_components_)\n"
      ],
      "execution_count": null,
      "outputs": []
    },
    {
      "cell_type": "code",
      "metadata": {
        "id": "XEvgv1RcU149"
      },
      "source": [
        "#afficher les valeurs propres\n",
        "disqual.named_steps[\"acm\"].plot_eigenvalues()\n"
      ],
      "execution_count": null,
      "outputs": []
    },
    {
      "cell_type": "code",
      "metadata": {
        "id": "Kx5lHEqr5vn8"
      },
      "source": [
        "#coefs. de la fonction score\n",
        "print(disqual.named_steps[\"adl\"].coef_)\n"
      ],
      "execution_count": null,
      "outputs": []
    },
    {
      "cell_type": "code",
      "metadata": {
        "id": "Bjg0uW_z5vrq"
      },
      "source": [
        "#prediction\n",
        "pVote = disqual.predict(vote_test.iloc[:,:-1].values)\n",
        "print(numpy.unique(pVote,return_counts=True))\n"
      ],
      "execution_count": null,
      "outputs": []
    },
    {
      "cell_type": "code",
      "metadata": {
        "id": "9zSE6MTn6CMP"
      },
      "source": [
        "#nombres de facteurs à tester\n",
        "parametres = [{\"acm__n_components\":[1,2,5,10,15,20,25,30,32]}]"
      ],
      "execution_count": null,
      "outputs": []
    },
    {
      "cell_type": "code",
      "metadata": {
        "id": "m0czJyy46CPC"
      },
      "source": [
        ""
      ],
      "execution_count": null,
      "outputs": []
    },
    {
      "cell_type": "code",
      "metadata": {
        "id": "blbzUKqT8HXP",
        "colab": {
          "base_uri": "https://localhost:8080/"
        },
        "outputId": "3e6a6e09-b9a9-419d-db88-8abd81fed783"
      },
      "source": [
        "1771/4964"
      ],
      "execution_count": null,
      "outputs": [
        {
          "output_type": "execute_result",
          "data": {
            "text/plain": [
              "0.35676873489121674"
            ]
          },
          "metadata": {
            "tags": []
          },
          "execution_count": 52
        }
      ]
    },
    {
      "cell_type": "code",
      "metadata": {
        "id": "Db6LKnHuJ6MJ"
      },
      "source": [
        ""
      ],
      "execution_count": null,
      "outputs": []
    },
    {
      "cell_type": "code",
      "metadata": {
        "id": "Bs5C3G-B-zLe"
      },
      "source": [
        ""
      ],
      "execution_count": null,
      "outputs": []
    },
    {
      "cell_type": "code",
      "metadata": {
        "id": "LpMadefxoQXh"
      },
      "source": [
        ""
      ],
      "execution_count": null,
      "outputs": []
    },
    {
      "cell_type": "code",
      "metadata": {
        "id": "o5nJHZBiWJrc"
      },
      "source": [
        ""
      ],
      "execution_count": null,
      "outputs": []
    }
  ]
}