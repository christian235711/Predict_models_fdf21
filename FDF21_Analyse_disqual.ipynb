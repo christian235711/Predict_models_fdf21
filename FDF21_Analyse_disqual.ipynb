{
  "nbformat": 4,
  "nbformat_minor": 0,
  "metadata": {
    "colab": {
      "name": "FDF21_Analyse_disqual.ipynb",
      "provenance": [],
      "collapsed_sections": [],
      "authorship_tag": "ABX9TyOOu7pasWfCxJK2JfPTYIkd"
    },
    "kernelspec": {
      "name": "python3",
      "display_name": "Python 3"
    },
    "language_info": {
      "name": "python"
    }
  },
  "cells": [
    {
      "cell_type": "code",
      "metadata": {
        "id": "6PE_fq-Af-lD",
        "colab": {
          "base_uri": "https://localhost:8080/"
        },
        "outputId": "0aef9462-e863-4c7a-b74f-0c82ae5d48b5"
      },
      "source": [
        "import numpy as np\n",
        "import pandas as pd\n",
        "import seaborn as sns\n",
        "import matplotlib.pyplot as plt\n",
        "\n",
        "!pip install fanalysis\n",
        "from fanalysis.mca import MCA\n",
        "\n",
        "from sklearn.metrics import confusion_matrix\n",
        "\n",
        "from google.colab import drive\n",
        "drive.mount('/content/drive')"
      ],
      "execution_count": 1,
      "outputs": [
        {
          "output_type": "stream",
          "text": [
            "Collecting fanalysis\n",
            "\u001b[?25l  Downloading https://files.pythonhosted.org/packages/97/b9/0abf11b0e44fdb450c745e4c9a1e4ab764d5ad8882011161c3ddf290a789/fanalysis-0.0.1-py3-none-any.whl (56kB)\n",
            "\r\u001b[K     |█████▉                          | 10kB 14.5MB/s eta 0:00:01\r\u001b[K     |███████████▋                    | 20kB 12.9MB/s eta 0:00:01\r\u001b[K     |█████████████████▌              | 30kB 9.2MB/s eta 0:00:01\r\u001b[K     |███████████████████████▎        | 40kB 8.0MB/s eta 0:00:01\r\u001b[K     |█████████████████████████████   | 51kB 4.3MB/s eta 0:00:01\r\u001b[K     |████████████████████████████████| 61kB 3.2MB/s \n",
            "\u001b[?25hRequirement already satisfied: matplotlib>=2.0.0 in /usr/local/lib/python3.7/dist-packages (from fanalysis) (3.2.2)\n",
            "Requirement already satisfied: pandas>=0.19.0 in /usr/local/lib/python3.7/dist-packages (from fanalysis) (1.1.5)\n",
            "Requirement already satisfied: numpy>=1.11.0 in /usr/local/lib/python3.7/dist-packages (from fanalysis) (1.19.5)\n",
            "Requirement already satisfied: scikit-learn>=0.18.0 in /usr/local/lib/python3.7/dist-packages (from fanalysis) (0.22.2.post1)\n",
            "Requirement already satisfied: kiwisolver>=1.0.1 in /usr/local/lib/python3.7/dist-packages (from matplotlib>=2.0.0->fanalysis) (1.3.1)\n",
            "Requirement already satisfied: python-dateutil>=2.1 in /usr/local/lib/python3.7/dist-packages (from matplotlib>=2.0.0->fanalysis) (2.8.1)\n",
            "Requirement already satisfied: pyparsing!=2.0.4,!=2.1.2,!=2.1.6,>=2.0.1 in /usr/local/lib/python3.7/dist-packages (from matplotlib>=2.0.0->fanalysis) (2.4.7)\n",
            "Requirement already satisfied: cycler>=0.10 in /usr/local/lib/python3.7/dist-packages (from matplotlib>=2.0.0->fanalysis) (0.10.0)\n",
            "Requirement already satisfied: pytz>=2017.2 in /usr/local/lib/python3.7/dist-packages (from pandas>=0.19.0->fanalysis) (2018.9)\n",
            "Requirement already satisfied: joblib>=0.11 in /usr/local/lib/python3.7/dist-packages (from scikit-learn>=0.18.0->fanalysis) (1.0.1)\n",
            "Requirement already satisfied: scipy>=0.17.0 in /usr/local/lib/python3.7/dist-packages (from scikit-learn>=0.18.0->fanalysis) (1.4.1)\n",
            "Requirement already satisfied: six>=1.5 in /usr/local/lib/python3.7/dist-packages (from python-dateutil>=2.1->matplotlib>=2.0.0->fanalysis) (1.15.0)\n",
            "Installing collected packages: fanalysis\n",
            "Successfully installed fanalysis-0.0.1\n",
            "Mounted at /content/drive\n"
          ],
          "name": "stdout"
        }
      ]
    },
    {
      "cell_type": "code",
      "metadata": {
        "id": "yuD2HnZ3uKFa"
      },
      "source": [
        ""
      ],
      "execution_count": 1,
      "outputs": []
    },
    {
      "cell_type": "code",
      "metadata": {
        "id": "HDcsBJYZuKHz"
      },
      "source": [
        "# option d'affichage des résultats\n",
        "pd.set_option(\"display.max_row\",130)\n",
        "pd.set_option(\"display.max_columns\",100)"
      ],
      "execution_count": 2,
      "outputs": []
    },
    {
      "cell_type": "code",
      "metadata": {
        "id": "EIiIM-2FuKKO"
      },
      "source": [
        "# les noms des variables\n",
        "\n",
        "colonnes =([\"IDENT\", \"TypeHabi\", \"GeoFaz_Scl\", \"GeoFaz_cl\", \"ImmoFaz_Scl\", \"ImmoFaz_cl\", \"Anciennete\",\n",
        "            \"Logement_prix_m2\", \"Mediane_RFR\", \"Sexe\", \"Prenom_Phase_scl_H\", \"Prenom_Phase_scl_F\",\n",
        "            \"Prenom_Phase_cl_H\", \"Prenom_Phase_cl_F\", \"Age_H\", \"Age_F\", \"Affinite_1\", \"Affinite_2\",\n",
        "            \"Prenom_effectif\", \"Potentiel_prenom\", \"Onoma-Phase_Scl\", \"Onoma-Phase_CL\", \"Top_mon\"])"
      ],
      "execution_count": 3,
      "outputs": []
    },
    {
      "cell_type": "code",
      "metadata": {
        "id": "wci4tC0suKMu"
      },
      "source": [
        "# importation du fichier (changer le chemin d'accès)\n",
        "''' Faites attention au type de fichier, au délimiteur des valeurs (ça doit être unique et non multiple),\n",
        "au header et à la lecture des types d'objets (low_memory) '''\n",
        "\n",
        "data_orig = pd.read_csv(\"/content/drive/MyDrive/spad_score_method_1/spad_projection_FDFTOT21/my_data_FDFTOT21.txt\", delim_whitespace=\"\\t\", header = None, names=colonnes, low_memory=False, dtype=str )#, dtype='Int64')\n"
      ],
      "execution_count": 4,
      "outputs": []
    },
    {
      "cell_type": "code",
      "metadata": {
        "colab": {
          "base_uri": "https://localhost:8080/"
        },
        "id": "oyDoq2cHxz7o",
        "outputId": "a353d7bd-6623-490f-e0ea-6140d0cb2d4f"
      },
      "source": [
        "''' copie superficielle (peu profonde) du dataset original pour ne pas modifier les valeurs\n",
        "d'origine par erreur plus tard \n",
        "'''\n",
        "data = data_orig.copy()\n",
        "data.shape"
      ],
      "execution_count": 5,
      "outputs": [
        {
          "output_type": "execute_result",
          "data": {
            "text/plain": [
              "(1219999, 23)"
            ]
          },
          "metadata": {
            "tags": []
          },
          "execution_count": 5
        }
      ]
    },
    {
      "cell_type": "code",
      "metadata": {
        "colab": {
          "base_uri": "https://localhost:8080/",
          "height": 240
        },
        "id": "d8EgLMlSxz9s",
        "outputId": "9f83f7e1-f864-40bf-a408-187b81f1e453"
      },
      "source": [
        "# visualisation des premiers lignes\n",
        "data.head()\n"
      ],
      "execution_count": 6,
      "outputs": [
        {
          "output_type": "execute_result",
          "data": {
            "text/html": [
              "<div>\n",
              "<style scoped>\n",
              "    .dataframe tbody tr th:only-of-type {\n",
              "        vertical-align: middle;\n",
              "    }\n",
              "\n",
              "    .dataframe tbody tr th {\n",
              "        vertical-align: top;\n",
              "    }\n",
              "\n",
              "    .dataframe thead th {\n",
              "        text-align: right;\n",
              "    }\n",
              "</style>\n",
              "<table border=\"1\" class=\"dataframe\">\n",
              "  <thead>\n",
              "    <tr style=\"text-align: right;\">\n",
              "      <th></th>\n",
              "      <th>IDENT</th>\n",
              "      <th>TypeHabi</th>\n",
              "      <th>GeoFaz_Scl</th>\n",
              "      <th>GeoFaz_cl</th>\n",
              "      <th>ImmoFaz_Scl</th>\n",
              "      <th>ImmoFaz_cl</th>\n",
              "      <th>Anciennete</th>\n",
              "      <th>Logement_prix_m2</th>\n",
              "      <th>Mediane_RFR</th>\n",
              "      <th>Sexe</th>\n",
              "      <th>Prenom_Phase_scl_H</th>\n",
              "      <th>Prenom_Phase_scl_F</th>\n",
              "      <th>Prenom_Phase_cl_H</th>\n",
              "      <th>Prenom_Phase_cl_F</th>\n",
              "      <th>Age_H</th>\n",
              "      <th>Age_F</th>\n",
              "      <th>Affinite_1</th>\n",
              "      <th>Affinite_2</th>\n",
              "      <th>Prenom_effectif</th>\n",
              "      <th>Potentiel_prenom</th>\n",
              "      <th>Onoma-Phase_Scl</th>\n",
              "      <th>Onoma-Phase_CL</th>\n",
              "      <th>Top_mon</th>\n",
              "    </tr>\n",
              "  </thead>\n",
              "  <tbody>\n",
              "    <tr>\n",
              "      <th>0</th>\n",
              "      <td>000000010010000001</td>\n",
              "      <td>02</td>\n",
              "      <td>81</td>\n",
              "      <td>08</td>\n",
              "      <td>91</td>\n",
              "      <td>09</td>\n",
              "      <td>06</td>\n",
              "      <td>21</td>\n",
              "      <td>21</td>\n",
              "      <td>01</td>\n",
              "      <td>71</td>\n",
              "      <td>41</td>\n",
              "      <td>07</td>\n",
              "      <td>04</td>\n",
              "      <td>12</td>\n",
              "      <td>04</td>\n",
              "      <td>20</td>\n",
              "      <td>02</td>\n",
              "      <td>02</td>\n",
              "      <td>01</td>\n",
              "      <td>51</td>\n",
              "      <td>05</td>\n",
              "      <td>1</td>\n",
              "    </tr>\n",
              "    <tr>\n",
              "      <th>1</th>\n",
              "      <td>000000020010000006</td>\n",
              "      <td>01</td>\n",
              "      <td>75</td>\n",
              "      <td>07</td>\n",
              "      <td>43</td>\n",
              "      <td>04</td>\n",
              "      <td>06</td>\n",
              "      <td>06</td>\n",
              "      <td>13</td>\n",
              "      <td>02</td>\n",
              "      <td>71</td>\n",
              "      <td>64</td>\n",
              "      <td>07</td>\n",
              "      <td>06</td>\n",
              "      <td>12</td>\n",
              "      <td>09</td>\n",
              "      <td>04</td>\n",
              "      <td>12</td>\n",
              "      <td>04</td>\n",
              "      <td>13</td>\n",
              "      <td>12</td>\n",
              "      <td>01</td>\n",
              "      <td>1</td>\n",
              "    </tr>\n",
              "    <tr>\n",
              "      <th>2</th>\n",
              "      <td>000000030010000011</td>\n",
              "      <td>01</td>\n",
              "      <td>76</td>\n",
              "      <td>07</td>\n",
              "      <td>43</td>\n",
              "      <td>04</td>\n",
              "      <td>06</td>\n",
              "      <td>06</td>\n",
              "      <td>16</td>\n",
              "      <td>03</td>\n",
              "      <td>54</td>\n",
              "      <td>81</td>\n",
              "      <td>05</td>\n",
              "      <td>08</td>\n",
              "      <td>07</td>\n",
              "      <td>12</td>\n",
              "      <td>06</td>\n",
              "      <td>06</td>\n",
              "      <td>04</td>\n",
              "      <td>18</td>\n",
              "      <td>36</td>\n",
              "      <td>03</td>\n",
              "      <td>2</td>\n",
              "    </tr>\n",
              "    <tr>\n",
              "      <th>3</th>\n",
              "      <td>000000040010000013</td>\n",
              "      <td>03</td>\n",
              "      <td>75</td>\n",
              "      <td>07</td>\n",
              "      <td>43</td>\n",
              "      <td>04</td>\n",
              "      <td>04</td>\n",
              "      <td>06</td>\n",
              "      <td>13</td>\n",
              "      <td>01</td>\n",
              "      <td>71</td>\n",
              "      <td>36</td>\n",
              "      <td>07</td>\n",
              "      <td>03</td>\n",
              "      <td>12</td>\n",
              "      <td>11</td>\n",
              "      <td>11</td>\n",
              "      <td>19</td>\n",
              "      <td>04</td>\n",
              "      <td>06</td>\n",
              "      <td>21</td>\n",
              "      <td>02</td>\n",
              "      <td>1</td>\n",
              "    </tr>\n",
              "    <tr>\n",
              "      <th>4</th>\n",
              "      <td>000000050010000015</td>\n",
              "      <td>02</td>\n",
              "      <td>33</td>\n",
              "      <td>03</td>\n",
              "      <td>44</td>\n",
              "      <td>04</td>\n",
              "      <td>06</td>\n",
              "      <td>07</td>\n",
              "      <td>12</td>\n",
              "      <td>01</td>\n",
              "      <td>71</td>\n",
              "      <td>42</td>\n",
              "      <td>07</td>\n",
              "      <td>04</td>\n",
              "      <td>12</td>\n",
              "      <td>05</td>\n",
              "      <td>14</td>\n",
              "      <td>03</td>\n",
              "      <td>03</td>\n",
              "      <td>01</td>\n",
              "      <td>14</td>\n",
              "      <td>01</td>\n",
              "      <td>2</td>\n",
              "    </tr>\n",
              "  </tbody>\n",
              "</table>\n",
              "</div>"
            ],
            "text/plain": [
              "                IDENT TypeHabi GeoFaz_Scl GeoFaz_cl ImmoFaz_Scl ImmoFaz_cl  \\\n",
              "0  000000010010000001       02         81        08          91         09   \n",
              "1  000000020010000006       01         75        07          43         04   \n",
              "2  000000030010000011       01         76        07          43         04   \n",
              "3  000000040010000013       03         75        07          43         04   \n",
              "4  000000050010000015       02         33        03          44         04   \n",
              "\n",
              "  Anciennete Logement_prix_m2 Mediane_RFR Sexe Prenom_Phase_scl_H  \\\n",
              "0         06               21          21   01                 71   \n",
              "1         06               06          13   02                 71   \n",
              "2         06               06          16   03                 54   \n",
              "3         04               06          13   01                 71   \n",
              "4         06               07          12   01                 71   \n",
              "\n",
              "  Prenom_Phase_scl_F Prenom_Phase_cl_H Prenom_Phase_cl_F Age_H Age_F  \\\n",
              "0                 41                07                04    12    04   \n",
              "1                 64                07                06    12    09   \n",
              "2                 81                05                08    07    12   \n",
              "3                 36                07                03    12    11   \n",
              "4                 42                07                04    12    05   \n",
              "\n",
              "  Affinite_1 Affinite_2 Prenom_effectif Potentiel_prenom Onoma-Phase_Scl  \\\n",
              "0         20         02              02               01              51   \n",
              "1         04         12              04               13              12   \n",
              "2         06         06              04               18              36   \n",
              "3         11         19              04               06              21   \n",
              "4         14         03              03               01              14   \n",
              "\n",
              "  Onoma-Phase_CL Top_mon  \n",
              "0             05       1  \n",
              "1             01       1  \n",
              "2             03       2  \n",
              "3             02       1  \n",
              "4             01       2  "
            ]
          },
          "metadata": {
            "tags": []
          },
          "execution_count": 6
        }
      ]
    },
    {
      "cell_type": "code",
      "metadata": {
        "id": "0DV4-3xA2W_K"
      },
      "source": [
        "#nombre de modalités de chaque variables (dans un dataframe)\n",
        "def nombre_mod(data2):\n",
        "    #création d'un dataframe vide\n",
        "    dff= pd.DataFrame(columns=[\"VARIABLE\",\"NOMBRE_MOD\", \"NOMBRE_MOD_SANS_NA\"])\n",
        "    for i in range(data2.shape[1]): # sans compter les valeurs manquantes\n",
        "        taille =len(data2.iloc[:,i].value_counts(dropna=False))\n",
        "        taille_1 = len(data2.iloc[:,i].value_counts(dropna=True) )\n",
        "        dff=dff.append({\"VARIABLE\": colonnes[i],\"NOMBRE_MOD\":taille, \"NOMBRE_MOD_SANS_NA\":taille_1 }, ignore_index=True)\n",
        "    return dff\n",
        "\n",
        "# sélection des corrélations les plus importantes\n",
        "def variables_corr(tableau_corr, seuil):\n",
        "    colonnes = tableau_corr.columns\n",
        "    val_temp = 0 \n",
        "    variables_corr_pos=[] ; variables_corr_pos_val=[]\n",
        "    variables_corr_neg=[] ; variables_corr_neg_val=[]\n",
        "    for i in range(tableau_corr.shape[0]):  \n",
        "        for j in range(tableau_corr.shape[0]):\n",
        "            if i<j: #i!=j:\n",
        "                if (tableau_corr.iloc[i,j] > seuil):\n",
        "                    variables_corr_pos.append(colonnes[j])\n",
        "                    variables_corr_pos_val.append(round( tableau_corr.iloc[i,j], 2))\n",
        "                    val_temp += 1\n",
        "\n",
        "                if (tableau_corr.iloc[i,j] <-seuil):\n",
        "                    variables_corr_neg.append(colonnes[j])\n",
        "                    variables_corr_neg_val.append(round( tableau_corr.iloc[i,j], 2))\n",
        "                    val_temp += 1\n",
        "\n",
        "        if (len(variables_corr_pos) > 0) | (len(variables_corr_neg) >0) :\n",
        "            print(\"variable : \", colonnes[i])\n",
        "            if len(variables_corr_pos) > 0:    \n",
        "                print(\"corr pos\", variables_corr_pos)\n",
        "                print(\"corr pos\", variables_corr_pos_val)\n",
        "                val_temp += 1\n",
        "\n",
        "            if len(variables_corr_neg) >0:  \n",
        "                print(\"corr neg\", variables_corr_neg)\n",
        "                print(\"corr neg\", variables_corr_neg_val)\n",
        "                val_temp += 1\n",
        "            print(\"\")\n",
        "        variables_corr_pos = variables_corr_pos*0\n",
        "        variables_corr_neg = variables_corr_pos*0\n",
        "\n",
        "        variables_corr_pos_val = variables_corr_pos_val*0\n",
        "        variables_corr_neg_val = variables_corr_pos_val*0\n",
        "    if val_temp == 0:\n",
        "        print(\"IL N'Y A PAS DE CORRELATION ENTRE LES VARIABLES PAR RAPPORT AU SEUIL PRIS\")\n",
        "        \n",
        "\n",
        "def evaluation(model, X_train, y_train, X_test, y_test, scoring, plot):\n",
        "\n",
        "    model.fit(X_train, y_train)\n",
        "    y_pred = model.predict(X_test)\n",
        "    \n",
        "    print(\"test set : \")\n",
        "    print(confusion_matrix(y_test, y_pred))\n",
        "    print(classification_report(y_test, y_pred)) \n",
        "    print(\"train set : \")\n",
        "    print(confusion_matrix(y_train, model.predict(X_train)))  \n",
        "    print(classification_report(y_train, model.predict(X_train) ))\n",
        "\n",
        "    if plot == True:\n",
        "        N, train_score, val_score = learning_curve(model, X_train, y_train, shuffle=True, cv = 4, scoring = scoring, train_sizes = np.linspace(0.1, 1, 6) )\n",
        "\n",
        "        plt.figure(figsize = (10,6))\n",
        "        plt.plot(N, train_score.mean(axis=1), label =\"train_score\")\n",
        "        plt.plot(N, val_score.mean(axis=1), label =\"cross_validation_score\")\n",
        "        plt.legend()\n",
        "    else :\n",
        "        print(\"GRAPHIQUE NON DEMANDE\")\n",
        "\n",
        "# Comme il n'y a pas de valeurs manquantes (à la place il y a un nombre), le seul traitement qu'on fait c'est tranformer\n",
        "# le type de variable (les variables continues deviennent qualitatives)\n",
        "def data_processing(df):\n",
        "    \"\"\" \n",
        "    for i in range(0,len(df.columns)):    \n",
        "        df[df.columns[i]].fillna(100.0, inplace=True) #On remplace les données manquantes par 100\n",
        "    for i in range(0,len(df.columns)):\n",
        "        print(df[df.columns[i]].value_counts(dropna=False))    \n",
        "    \"\"\"\n",
        "    \n",
        "   #Transformation de toutes les variables en facteurs         \n",
        "    for i in range(0,len(df.columns)):\n",
        "        df[df.columns[i]] = df[df.columns[i]].astype('category')\n",
        "    return df.to_numpy() #.as_matrix()\n",
        "\n",
        "\n",
        "def vingtiles(model, data_orig, affichage, save, path):\n",
        "    # position de la dernière variable explicative dans le dataset\n",
        "    nb_var = data_orig.shape[1]-1\n",
        "\n",
        "    # predict sur tous les individus (avec et sans classe IFI+)\n",
        "    tous_probas = model.predict_proba(data_orig.iloc[:,1:nb_var])\n",
        "    df_tous = pd.DataFrame({'IDENT': data_orig.iloc[:,0] , 'PROBA': tous_probas[:,0] })\n",
        "    #df_tous\n",
        "    \n",
        "    # valeurs ordonnées pour diviser après\n",
        "    df_tous=df_tous.sort_values(by='PROBA', ascending=True)\n",
        "    #df_tous\n",
        "    print(df_tous)\n",
        "    \n",
        "    #vérification\n",
        "    print(df_tous['PROBA'].value_counts())\n",
        "\n",
        "    # quarantiles\n",
        "    df_temp =pd.DataFrame( pd.qcut(df_tous['PROBA'],q= 20)  )\n",
        "    print(df_temp)\n",
        "\n",
        "    # ajout par index (IMPORTANTE)\n",
        "    df_tous[\"TRANCHES\"]=pd.DataFrame(df_temp.iloc[:,0].to_numpy(),index= df_temp.index)\n",
        "    #print(df_tous)\n",
        "    \n",
        "    # pour la colonne Top_mon :\n",
        "    # remplissage de la dernière colonne par 2 (VALABLE QUE POUR CE DATA, MODIFIER POUR D'AUTRES)\n",
        "    data_temp_t = data_orig.copy()\n",
        "    # remplacement\n",
        "    data_temp_t[\"Top_mon\"] =  data_temp_t[\"Top_mon\"].replace(1.0,'1')\n",
        "    data_temp_t[\"Top_mon\"] =  data_temp_t[\"Top_mon\"].replace(2.0,'2')\n",
        "    data_all_complet_class = data_temp_t.fillna('2')\n",
        "    #data_all_complet_class\n",
        "\n",
        "    # jointure\n",
        "    ident_class_tous = data_all_complet_class[[\"IDENT\",\"Top_mon\"]]\n",
        "    tableau_resultats = pd.merge(df_tous,ident_class_tous)\n",
        "    #tableau_resultats\n",
        "\n",
        "    # tranches finales\n",
        "    tab_cross_temp = pd.crosstab(tableau_resultats[\"TRANCHES\"],tableau_resultats[\"Top_mon\"])\n",
        "    #print(tab_cross_temp); print(\"-----------------------\")\n",
        "\n",
        "    # création d'une colonne total\n",
        "    tab_cross_temp[\"TOTAL\"]=tab_cross_temp[\"1\"]+tab_cross_temp[\"2\"]\n",
        "    \n",
        "    # affichage\n",
        "    if affichage ==True:        \n",
        "        print(tab_cross_temp)\n",
        "\n",
        "    # création du tableau final en éliminant la colonne 2\n",
        "    #tab_pour_excel = tab_cross_temp.drop([\"2\"], axis=1)\n",
        "\n",
        "    # si on ne veut pas éliminer la colonne 2\n",
        "    tab_pour_excel =  tab_cross_temp\n",
        "    \n",
        "    # enregistrement sous Excel\n",
        "    if save == True:\n",
        "        tab_pour_excel.to_excel(path)\n",
        "\n",
        "def vingtiles_ind_sans_target(model, data_orig, affichage, save, path):\n",
        "    # position de la dernière variable explicative dans le dataset\n",
        "    nb_var = data_orig.shape[1]-1\n",
        "\n",
        "    # predict sur tous les individus (avec et sans classe IFI+)\n",
        "    tous_probas = model.predict_proba(data_orig.iloc[:,1:nb_var])\n",
        "    df_tous = pd.DataFrame({'IDENT': data_orig.iloc[:,0] , 'PROBA': tous_probas[:,0] })\n",
        "    #df_tous\n",
        "    \n",
        "    # valeurs ordonnées pour diviser après\n",
        "    df_tous=df_tous.sort_values(by='PROBA', ascending=True)\n",
        "    #df_tous\n",
        "    print(df_tous)\n",
        "    \n",
        "    #vérification\n",
        "    print(df_tous['PROBA'].value_counts())\n",
        "\n",
        "    # quarantiles\n",
        "    df_temp =pd.DataFrame( pd.qcut(df_tous['PROBA'],q= 20)  )\n",
        "    print(df_temp)\n",
        "\n",
        "    # ajout par index (IMPORTANTE)\n",
        "    df_tous[\"TRANCHES\"]=pd.DataFrame(df_temp.iloc[:,0].to_numpy(),index= df_temp.index)\n",
        "    print(df_tous)\n",
        "    print(df_tous[\"TRANCHES\"].value_counts(ascending = True))\n",
        "\n",
        "    # GERE L'ORDRE\n",
        "    patra = np.unique(df_tous.iloc[:,2], return_counts=True)\n",
        "    df_tranches_sans_target = pd.DataFrame([patra[0],patra[1]]).T\n",
        "    df_tranches_sans_target.columns=[\"TRANCHES\",\"COUNTS\"]\n",
        "\n",
        "    # affichage\n",
        "    if affichage ==True:        \n",
        "        print(df_tranches_sans_target)\n",
        "    \n",
        "    # enregistrement sous Excel\n",
        "    if save == True:\n",
        "        df_tranches_sans_target.to_excel(path)\n",
        "    \n",
        "\n",
        "# élimination des variables trop corrélées (choix manuel)\n",
        "def elimination_val_corr(data):\n",
        "    data = data.drop(columns=[\"\"])\n",
        "    return data\n",
        "\n",
        "    "
      ],
      "execution_count": 7,
      "outputs": []
    },
    {
      "cell_type": "code",
      "metadata": {
        "colab": {
          "base_uri": "https://localhost:8080/",
          "height": 761
        },
        "id": "2EQAN76Q2XBS",
        "outputId": "592b7cf6-1dd1-457d-9aae-7e79348e91ef"
      },
      "source": [
        "nombre_mod(data)"
      ],
      "execution_count": 8,
      "outputs": [
        {
          "output_type": "execute_result",
          "data": {
            "text/html": [
              "<div>\n",
              "<style scoped>\n",
              "    .dataframe tbody tr th:only-of-type {\n",
              "        vertical-align: middle;\n",
              "    }\n",
              "\n",
              "    .dataframe tbody tr th {\n",
              "        vertical-align: top;\n",
              "    }\n",
              "\n",
              "    .dataframe thead th {\n",
              "        text-align: right;\n",
              "    }\n",
              "</style>\n",
              "<table border=\"1\" class=\"dataframe\">\n",
              "  <thead>\n",
              "    <tr style=\"text-align: right;\">\n",
              "      <th></th>\n",
              "      <th>VARIABLE</th>\n",
              "      <th>NOMBRE_MOD</th>\n",
              "      <th>NOMBRE_MOD_SANS_NA</th>\n",
              "    </tr>\n",
              "  </thead>\n",
              "  <tbody>\n",
              "    <tr>\n",
              "      <th>0</th>\n",
              "      <td>IDENT</td>\n",
              "      <td>1219999</td>\n",
              "      <td>1219999</td>\n",
              "    </tr>\n",
              "    <tr>\n",
              "      <th>1</th>\n",
              "      <td>TypeHabi</td>\n",
              "      <td>4</td>\n",
              "      <td>4</td>\n",
              "    </tr>\n",
              "    <tr>\n",
              "      <th>2</th>\n",
              "      <td>GeoFaz_Scl</td>\n",
              "      <td>38</td>\n",
              "      <td>38</td>\n",
              "    </tr>\n",
              "    <tr>\n",
              "      <th>3</th>\n",
              "      <td>GeoFaz_cl</td>\n",
              "      <td>8</td>\n",
              "      <td>8</td>\n",
              "    </tr>\n",
              "    <tr>\n",
              "      <th>4</th>\n",
              "      <td>ImmoFaz_Scl</td>\n",
              "      <td>31</td>\n",
              "      <td>31</td>\n",
              "    </tr>\n",
              "    <tr>\n",
              "      <th>5</th>\n",
              "      <td>ImmoFaz_cl</td>\n",
              "      <td>9</td>\n",
              "      <td>9</td>\n",
              "    </tr>\n",
              "    <tr>\n",
              "      <th>6</th>\n",
              "      <td>Anciennete</td>\n",
              "      <td>11</td>\n",
              "      <td>11</td>\n",
              "    </tr>\n",
              "    <tr>\n",
              "      <th>7</th>\n",
              "      <td>Logement_prix_m2</td>\n",
              "      <td>21</td>\n",
              "      <td>21</td>\n",
              "    </tr>\n",
              "    <tr>\n",
              "      <th>8</th>\n",
              "      <td>Mediane_RFR</td>\n",
              "      <td>21</td>\n",
              "      <td>21</td>\n",
              "    </tr>\n",
              "    <tr>\n",
              "      <th>9</th>\n",
              "      <td>Sexe</td>\n",
              "      <td>5</td>\n",
              "      <td>5</td>\n",
              "    </tr>\n",
              "    <tr>\n",
              "      <th>10</th>\n",
              "      <td>Prenom_Phase_scl_H</td>\n",
              "      <td>31</td>\n",
              "      <td>31</td>\n",
              "    </tr>\n",
              "    <tr>\n",
              "      <th>11</th>\n",
              "      <td>Prenom_Phase_scl_F</td>\n",
              "      <td>45</td>\n",
              "      <td>45</td>\n",
              "    </tr>\n",
              "    <tr>\n",
              "      <th>12</th>\n",
              "      <td>Prenom_Phase_cl_H</td>\n",
              "      <td>7</td>\n",
              "      <td>7</td>\n",
              "    </tr>\n",
              "    <tr>\n",
              "      <th>13</th>\n",
              "      <td>Prenom_Phase_cl_F</td>\n",
              "      <td>8</td>\n",
              "      <td>8</td>\n",
              "    </tr>\n",
              "    <tr>\n",
              "      <th>14</th>\n",
              "      <td>Age_H</td>\n",
              "      <td>12</td>\n",
              "      <td>12</td>\n",
              "    </tr>\n",
              "    <tr>\n",
              "      <th>15</th>\n",
              "      <td>Age_F</td>\n",
              "      <td>12</td>\n",
              "      <td>12</td>\n",
              "    </tr>\n",
              "    <tr>\n",
              "      <th>16</th>\n",
              "      <td>Affinite_1</td>\n",
              "      <td>21</td>\n",
              "      <td>21</td>\n",
              "    </tr>\n",
              "    <tr>\n",
              "      <th>17</th>\n",
              "      <td>Affinite_2</td>\n",
              "      <td>21</td>\n",
              "      <td>21</td>\n",
              "    </tr>\n",
              "    <tr>\n",
              "      <th>18</th>\n",
              "      <td>Prenom_effectif</td>\n",
              "      <td>6</td>\n",
              "      <td>6</td>\n",
              "    </tr>\n",
              "    <tr>\n",
              "      <th>19</th>\n",
              "      <td>Potentiel_prenom</td>\n",
              "      <td>21</td>\n",
              "      <td>21</td>\n",
              "    </tr>\n",
              "    <tr>\n",
              "      <th>20</th>\n",
              "      <td>Onoma-Phase_Scl</td>\n",
              "      <td>36</td>\n",
              "      <td>36</td>\n",
              "    </tr>\n",
              "    <tr>\n",
              "      <th>21</th>\n",
              "      <td>Onoma-Phase_CL</td>\n",
              "      <td>6</td>\n",
              "      <td>6</td>\n",
              "    </tr>\n",
              "    <tr>\n",
              "      <th>22</th>\n",
              "      <td>Top_mon</td>\n",
              "      <td>3</td>\n",
              "      <td>2</td>\n",
              "    </tr>\n",
              "  </tbody>\n",
              "</table>\n",
              "</div>"
            ],
            "text/plain": [
              "              VARIABLE NOMBRE_MOD NOMBRE_MOD_SANS_NA\n",
              "0                IDENT    1219999            1219999\n",
              "1             TypeHabi          4                  4\n",
              "2           GeoFaz_Scl         38                 38\n",
              "3            GeoFaz_cl          8                  8\n",
              "4          ImmoFaz_Scl         31                 31\n",
              "5           ImmoFaz_cl          9                  9\n",
              "6           Anciennete         11                 11\n",
              "7     Logement_prix_m2         21                 21\n",
              "8          Mediane_RFR         21                 21\n",
              "9                 Sexe          5                  5\n",
              "10  Prenom_Phase_scl_H         31                 31\n",
              "11  Prenom_Phase_scl_F         45                 45\n",
              "12   Prenom_Phase_cl_H          7                  7\n",
              "13   Prenom_Phase_cl_F          8                  8\n",
              "14               Age_H         12                 12\n",
              "15               Age_F         12                 12\n",
              "16          Affinite_1         21                 21\n",
              "17          Affinite_2         21                 21\n",
              "18     Prenom_effectif          6                  6\n",
              "19    Potentiel_prenom         21                 21\n",
              "20     Onoma-Phase_Scl         36                 36\n",
              "21      Onoma-Phase_CL          6                  6\n",
              "22             Top_mon          3                  2"
            ]
          },
          "metadata": {
            "tags": []
          },
          "execution_count": 8
        }
      ]
    },
    {
      "cell_type": "code",
      "metadata": {
        "colab": {
          "base_uri": "https://localhost:8080/"
        },
        "id": "dNh8ZnOzMfDy",
        "outputId": "f2d6dd5b-8b73-41ee-88d7-b82539d98c6c"
      },
      "source": [
        "data[\"Top_mon\"].value_counts(dropna=False)"
      ],
      "execution_count": 9,
      "outputs": [
        {
          "output_type": "execute_result",
          "data": {
            "text/plain": [
              "NaN    1092884\n",
              "2       103659\n",
              "1        23456\n",
              "Name: Top_mon, dtype: int64"
            ]
          },
          "metadata": {
            "tags": []
          },
          "execution_count": 9
        }
      ]
    },
    {
      "cell_type": "code",
      "metadata": {
        "colab": {
          "base_uri": "https://localhost:8080/"
        },
        "id": "_bJVv_4eBsmj",
        "outputId": "73b72afe-5673-4818-9586-50fef9f2033f"
      },
      "source": [
        "data.info()"
      ],
      "execution_count": 10,
      "outputs": [
        {
          "output_type": "stream",
          "text": [
            "<class 'pandas.core.frame.DataFrame'>\n",
            "RangeIndex: 1219999 entries, 0 to 1219998\n",
            "Data columns (total 23 columns):\n",
            " #   Column              Non-Null Count    Dtype \n",
            "---  ------              --------------    ----- \n",
            " 0   IDENT               1219999 non-null  object\n",
            " 1   TypeHabi            1219999 non-null  object\n",
            " 2   GeoFaz_Scl          1219999 non-null  object\n",
            " 3   GeoFaz_cl           1219999 non-null  object\n",
            " 4   ImmoFaz_Scl         1219999 non-null  object\n",
            " 5   ImmoFaz_cl          1219999 non-null  object\n",
            " 6   Anciennete          1219999 non-null  object\n",
            " 7   Logement_prix_m2    1219999 non-null  object\n",
            " 8   Mediane_RFR         1219999 non-null  object\n",
            " 9   Sexe                1219999 non-null  object\n",
            " 10  Prenom_Phase_scl_H  1219999 non-null  object\n",
            " 11  Prenom_Phase_scl_F  1219999 non-null  object\n",
            " 12  Prenom_Phase_cl_H   1219999 non-null  object\n",
            " 13  Prenom_Phase_cl_F   1219999 non-null  object\n",
            " 14  Age_H               1219999 non-null  object\n",
            " 15  Age_F               1219999 non-null  object\n",
            " 16  Affinite_1          1219999 non-null  object\n",
            " 17  Affinite_2          1219999 non-null  object\n",
            " 18  Prenom_effectif     1219999 non-null  object\n",
            " 19  Potentiel_prenom    1219999 non-null  object\n",
            " 20  Onoma-Phase_Scl     1219999 non-null  object\n",
            " 21  Onoma-Phase_CL      1219999 non-null  object\n",
            " 22  Top_mon             127115 non-null   object\n",
            "dtypes: object(23)\n",
            "memory usage: 214.1+ MB\n"
          ],
          "name": "stdout"
        }
      ]
    },
    {
      "cell_type": "code",
      "metadata": {
        "id": "R6qqf87_2XGq"
      },
      "source": [
        ""
      ],
      "execution_count": 10,
      "outputs": []
    },
    {
      "cell_type": "code",
      "metadata": {
        "id": "Y4nhL2yxcZZb"
      },
      "source": [
        ""
      ],
      "execution_count": 10,
      "outputs": []
    },
    {
      "cell_type": "code",
      "metadata": {
        "id": "IJOZku3IYEpI"
      },
      "source": [
        ""
      ],
      "execution_count": 10,
      "outputs": []
    },
    {
      "cell_type": "code",
      "metadata": {
        "id": "0lpwr2FMYiq2"
      },
      "source": [
        ""
      ],
      "execution_count": 10,
      "outputs": []
    },
    {
      "cell_type": "code",
      "metadata": {
        "id": "gGyqVG-fUKyo"
      },
      "source": [
        "############################################################### AJOUTER OU EFFACER (data =) #######################################\n",
        "# on élimine les variables corr\n",
        "data=data.drop([\"GeoFaz_cl\", \"ImmoFaz_Scl\", \"ImmoFaz_cl\", \"Prenom_Phase_cl_H\", \"Prenom_Phase_cl_F\", \"Onoma-Phase_Scl\", \"Onoma-Phase_CL\"],axis=1)\n"
      ],
      "execution_count": 11,
      "outputs": []
    },
    {
      "cell_type": "code",
      "metadata": {
        "colab": {
          "base_uri": "https://localhost:8080/"
        },
        "id": "2-RPzJ4vZEhM",
        "outputId": "42850bf5-ad2a-4b54-9b5a-5b8910ee7fe1"
      },
      "source": [
        "num_var_max = data.shape[1] - 1\n",
        "num_var_max"
      ],
      "execution_count": 12,
      "outputs": [
        {
          "output_type": "execute_result",
          "data": {
            "text/plain": [
              "15"
            ]
          },
          "metadata": {
            "tags": []
          },
          "execution_count": 12
        }
      ]
    },
    {
      "cell_type": "code",
      "metadata": {
        "id": "C0T71nnOQ1rc",
        "colab": {
          "base_uri": "https://localhost:8080/",
          "height": 313
        },
        "outputId": "8e15fec1-8a44-4118-9164-2f6e66711c9b"
      },
      "source": [
        "#importation de la librairie\n",
        "from fanalysis.mca import MCA\n",
        "\n",
        "#instanciation\n",
        "acm = MCA(var_labels=data.columns[1:num_var_max])\n",
        "\n",
        "# apprentissage\n",
        "acm.fit(data.iloc[:127115,1:num_var_max].values)\n",
        "#valeurs propres - graphique\n",
        "print(acm.plot_eigenvalues())"
      ],
      "execution_count": 13,
      "outputs": [
        {
          "output_type": "display_data",
          "data": {
            "image/png": "[encoded data removed]",
            "text/plain": [
              "<Figure size 432x288 with 1 Axes>"
            ]
          },
          "metadata": {
            "tags": [],
            "needs_background": "light"
          }
        },
        {
          "output_type": "stream",
          "text": [
            "None\n"
          ],
          "name": "stdout"
        }
      ]
    },
    {
      "cell_type": "code",
      "metadata": {
        "id": "uba6n_5g-7-U"
      },
      "source": [
        "# fonction qui va diviser et calculer les coordonnées des individus \n",
        "def transform_to_coord(data):\n",
        "    coord_part = 0\n",
        "    coord = acm.transform(data.iloc[0:30000,1:num_var_max].values)\n",
        "    k=30000\n",
        "    nb_part = round(data.shape[0]/k)\n",
        "    for i in range(1, nb_part):\n",
        "        coord_part=acm.transform(data.iloc[i*k:(i+1)*k,1:num_var_max].values)\n",
        "        coord=np.concatenate((coord, coord_part))\n",
        "\n",
        "    coord_part = acm.transform(data.iloc[nb_part*k: ,1:num_var_max].values )\n",
        "    coord=np.concatenate((coord, coord_part))\n",
        "    return coord"
      ],
      "execution_count": 14,
      "outputs": []
    },
    {
      "cell_type": "code",
      "metadata": {
        "id": "Owu0Cby0oOnj"
      },
      "source": [
        "#instanciation\n",
        "acm = MCA(var_labels = data.columns[1:num_var_max], n_components=55)  # paramètres index manquante (gérer après)\n",
        "#apprentissage \n",
        "\"ne pas utiliser fit_tranform car le datset est trop grand \"\n",
        "acm.fit(data.iloc[:127115,1:num_var_max].values)\n",
        "\n",
        "# tranformation du dataset\n",
        "coord = transform_to_coord(data)\n"
      ],
      "execution_count": 15,
      "outputs": []
    },
    {
      "cell_type": "code",
      "metadata": {
        "id": "cF7I6w-gPtLx"
      },
      "source": [
        ""
      ],
      "execution_count": 15,
      "outputs": []
    },
    {
      "cell_type": "code",
      "metadata": {
        "id": "o6XdxYjGPT1c"
      },
      "source": [
        ""
      ],
      "execution_count": 15,
      "outputs": []
    },
    {
      "cell_type": "code",
      "metadata": {
        "colab": {
          "base_uri": "https://localhost:8080/"
        },
        "id": "7Xqe0tJsysa3",
        "outputId": "833aeb6f-3903-4a07-e7ff-a6a47bbcf40e"
      },
      "source": [
        "# dimension\n",
        "coord.shape"
      ],
      "execution_count": 16,
      "outputs": [
        {
          "output_type": "execute_result",
          "data": {
            "text/plain": [
              "(1219999, 55)"
            ]
          },
          "metadata": {
            "tags": []
          },
          "execution_count": 16
        }
      ]
    },
    {
      "cell_type": "code",
      "metadata": {
        "colab": {
          "base_uri": "https://localhost:8080/",
          "height": 313
        },
        "id": "tpU2mQ-g8XJQ",
        "outputId": "bf1ce87b-7eba-4c64-8d57-fa0b1d820693"
      },
      "source": [
        "#valeurs propres - graphique\n",
        "print(acm.plot_eigenvalues())\n"
      ],
      "execution_count": 17,
      "outputs": [
        {
          "output_type": "display_data",
          "data": {
            "image/png": "[encoded data removed]",
            "text/plain": [
              "<Figure size 432x288 with 1 Axes>"
            ]
          },
          "metadata": {
            "tags": [],
            "needs_background": "light"
          }
        },
        {
          "output_type": "stream",
          "text": [
            "None\n"
          ],
          "name": "stdout"
        }
      ]
    },
    {
      "cell_type": "code",
      "metadata": {
        "colab": {
          "base_uri": "https://localhost:8080/"
        },
        "id": "OJEJV8tO8eqw",
        "outputId": "46b99fc1-5ace-44b9-a883-398d7dc11bac"
      },
      "source": [
        "#coordonnées des colonnes\n",
        "print(acm.col_topandas())"
      ],
      "execution_count": 18,
      "outputs": [
        {
          "output_type": "stream",
          "text": [
            "                     col_coord_dim1  col_coord_dim2  col_coord_dim3  \\\n",
            "TypeHabi_01                0.328441       -0.201417        0.223749   \n",
            "TypeHabi_02               -0.143567        0.074169       -0.091876   \n",
            "TypeHabi_03                0.136197       -0.000884        0.047311   \n",
            "TypeHabi_04                0.058198       -0.737083        1.988520   \n",
            "GeoFaz_Scl_11             -0.122568       -0.004153        0.081375   \n",
            "...                             ...             ...             ...   \n",
            "Potentiel_prenom_17       -1.288291        0.051224       -0.866692   \n",
            "Potentiel_prenom_18       -1.148183        0.040895       -0.256930   \n",
            "Potentiel_prenom_19       -1.246651        0.016201        0.821046   \n",
            "Potentiel_prenom_20       -1.141801        0.022557        1.248943   \n",
            "Potentiel_prenom_21        0.308138       -5.969901       -0.508811   \n",
            "\n",
            "                     col_coord_dim4  col_coord_dim5  col_coord_dim6  \\\n",
            "TypeHabi_01               -0.255346        0.196996       -0.219208   \n",
            "TypeHabi_02                0.096445       -0.079067        0.093731   \n",
            "TypeHabi_03               -0.023950        0.031041       -0.081578   \n",
            "TypeHabi_04                0.556318        1.801866        0.361813   \n",
            "GeoFaz_Scl_11             -0.070029       -0.107334       -0.110871   \n",
            "...                             ...             ...             ...   \n",
            "Potentiel_prenom_17       -0.740910        0.766523       -1.048853   \n",
            "Potentiel_prenom_18       -0.451277        0.041729       -0.055784   \n",
            "Potentiel_prenom_19        0.068443       -0.770662        0.460069   \n",
            "Potentiel_prenom_20       -0.093210       -1.470482        0.435897   \n",
            "Potentiel_prenom_21        0.994682       -0.097638       -0.165764   \n",
            "\n",
            "                     col_coord_dim7  col_coord_dim8  col_coord_dim9  \\\n",
            "TypeHabi_01                0.215819       -0.335175        0.884569   \n",
            "TypeHabi_02               -0.058877        0.142469       -0.374721   \n",
            "TypeHabi_03                0.091064       -0.090846        0.268132   \n",
            "TypeHabi_04              -32.703038       -4.170129        5.234003   \n",
            "GeoFaz_Scl_11              0.070206       -0.036137        0.111560   \n",
            "...                             ...             ...             ...   \n",
            "Potentiel_prenom_17       -0.039816       -0.333028       -0.580312   \n",
            "Potentiel_prenom_18       -0.026883       -0.231337        0.037550   \n",
            "Potentiel_prenom_19       -0.032489        1.017523        0.569403   \n",
            "Potentiel_prenom_20        0.097256       -0.435022        0.107671   \n",
            "Potentiel_prenom_21        0.029790        0.149041       -0.458550   \n",
            "\n",
            "                     col_coord_dim10  col_coord_dim11  col_coord_dim12  \\\n",
            "TypeHabi_01                -0.161411         0.058934        -0.113059   \n",
            "TypeHabi_02                 0.067713        -0.021274         0.047143   \n",
            "TypeHabi_03                -0.050543         0.002415        -0.030996   \n",
            "TypeHabi_04                -0.084611        -0.526104        -0.512551   \n",
            "GeoFaz_Scl_11               0.035775        -0.058727        -0.044345   \n",
            "...                              ...              ...              ...   \n",
            "Potentiel_prenom_17        -0.326126        -0.195946        -1.622269   \n",
            "Potentiel_prenom_18        -1.560697         0.854876         1.591861   \n",
            "Potentiel_prenom_19        -0.264255        -0.188812        -0.515301   \n",
            "Potentiel_prenom_20         0.042674         0.042996         0.388024   \n",
            "Potentiel_prenom_21         0.026818         0.019469         0.190062   \n",
            "\n",
            "                     col_coord_dim13  col_coord_dim14  col_coord_dim15  \\\n",
            "TypeHabi_01                 0.039524        -0.088841         0.270761   \n",
            "TypeHabi_02                -0.022492         0.014374        -0.080394   \n",
            "TypeHabi_03                 0.042276         0.103647        -0.096033   \n",
            "TypeHabi_04                 0.583525        -0.406919        -0.921360   \n",
            "GeoFaz_Scl_11              -0.183595         0.473151        -1.094031   \n",
            "...                              ...              ...              ...   \n",
            "Potentiel_prenom_17         0.012811         0.076571         0.001623   \n",
            "Potentiel_prenom_18        -1.428908         0.090397         0.006937   \n",
            "Potentiel_prenom_19         0.072995         1.250307         0.488325   \n",
            "Potentiel_prenom_20         1.541382         0.352946         0.063661   \n",
            "Potentiel_prenom_21         0.121928         0.070562        -0.049084   \n",
            "\n",
            "                     col_coord_dim16  col_coord_dim17  col_coord_dim18  \\\n",
            "TypeHabi_01                -0.020353         0.009777        -0.049725   \n",
            "TypeHabi_02                 0.006751        -0.003913         0.028478   \n",
            "TypeHabi_03                 0.001885         0.004521        -0.061463   \n",
            "TypeHabi_04                 0.286246        -0.404203         0.442652   \n",
            "GeoFaz_Scl_11               0.036597         0.112002        -0.015477   \n",
            "...                              ...              ...              ...   \n",
            "Potentiel_prenom_17        -0.001467        -0.447297         0.201134   \n",
            "Potentiel_prenom_18         0.618135        -0.783583        -0.875005   \n",
            "Potentiel_prenom_19        -0.638486         0.214558         0.308071   \n",
            "Potentiel_prenom_20         0.121522        -0.429080        -0.045851   \n",
            "Potentiel_prenom_21        -0.012314         0.021141         0.070726   \n",
            "\n",
            "                     col_coord_dim19  col_coord_dim20  col_coord_dim21  \\\n",
            "TypeHabi_01                 0.033225        -0.185120         0.342316   \n",
            "TypeHabi_02                -0.019967         0.097951        -0.181811   \n",
            "TypeHabi_03                 0.044427        -0.182193         0.336468   \n",
            "TypeHabi_04                 0.019348         1.473935        -2.027839   \n",
            "GeoFaz_Scl_11               0.027595         0.077467        -0.054965   \n",
            "...                              ...              ...              ...   \n",
            "Potentiel_prenom_17         1.063002         0.250974         0.230225   \n",
            "Potentiel_prenom_18        -0.436949        -0.018849         0.091033   \n",
            "Potentiel_prenom_19        -0.483155         0.202211        -0.106514   \n",
            "Potentiel_prenom_20         0.615728        -0.475889        -0.372183   \n",
            "Potentiel_prenom_21         0.020413         0.072328        -0.018647   \n",
            "\n",
            "                     col_coord_dim22  col_coord_dim23  col_coord_dim24  \\\n",
            "TypeHabi_01                -0.181321         0.069206        -0.038697   \n",
            "TypeHabi_02                 0.090727        -0.021680         0.025235   \n",
            "TypeHabi_03                -0.148355        -0.018474        -0.063792   \n",
            "TypeHabi_04                 1.335829        -0.184716         0.119436   \n",
            "GeoFaz_Scl_11               0.122070        -0.002567        -0.001264   \n",
            "...                              ...              ...              ...   \n",
            "Potentiel_prenom_17         0.330403         0.109520        -0.054951   \n",
            "Potentiel_prenom_18         0.025649         0.436573         0.458027   \n",
            "Potentiel_prenom_19        -0.093731         0.578717        -0.697922   \n",
            "Potentiel_prenom_20        -0.112246        -0.284281         0.370681   \n",
            "Potentiel_prenom_21         0.111867        -0.015174         0.033753   \n",
            "\n",
            "                     col_coord_dim25  col_coord_dim26  col_coord_dim27  \\\n",
            "TypeHabi_01                 0.063441        -0.041442        -0.010597   \n",
            "TypeHabi_02                -0.034912         0.024386         0.020398   \n",
            "TypeHabi_03                 0.069920        -0.051603        -0.091238   \n",
            "TypeHabi_04                -0.487864        -0.166477        -0.351393   \n",
            "GeoFaz_Scl_11               0.111614         0.036636        -0.134831   \n",
            "...                              ...              ...              ...   \n",
            "Potentiel_prenom_17         0.218565        -0.324952         0.044451   \n",
            "Potentiel_prenom_18        -0.171145        -0.308408        -0.041692   \n",
            "Potentiel_prenom_19        -0.259754         0.134292        -0.677670   \n",
            "Potentiel_prenom_20         0.483010        -0.138439         0.444739   \n",
            "Potentiel_prenom_21        -0.019613         0.024243        -0.093065   \n",
            "\n",
            "                     col_coord_dim28  col_coord_dim29  col_coord_dim30  \\\n",
            "TypeHabi_01                 0.026193         0.001332         0.010797   \n",
            "TypeHabi_02                 0.020807        -0.019284        -0.006432   \n",
            "TypeHabi_03                -0.161920         0.104854         0.016083   \n",
            "TypeHabi_04                -1.505383         0.206260        -0.312922   \n",
            "GeoFaz_Scl_11              -0.210386        -0.030143        -0.179915   \n",
            "...                              ...              ...              ...   \n",
            "Potentiel_prenom_17         0.127925         0.337789         0.218962   \n",
            "Potentiel_prenom_18         0.095386         0.312369        -0.103332   \n",
            "Potentiel_prenom_19         0.115079         0.019099         1.000599   \n",
            "Potentiel_prenom_20        -0.109898         0.224606        -0.617230   \n",
            "Potentiel_prenom_21        -0.027974         0.024087        -0.015120   \n",
            "\n",
            "                     col_coord_dim31  col_coord_dim32  col_coord_dim33  \\\n",
            "TypeHabi_01                 0.047576        -0.105927         0.090683   \n",
            "TypeHabi_02                -0.031027         0.046309        -0.053347   \n",
            "TypeHabi_03                 0.076141        -0.038719         0.115106   \n",
            "TypeHabi_04                 0.225682        -0.869467        -0.003216   \n",
            "GeoFaz_Scl_11              -0.213235         0.329094        -0.176771   \n",
            "...                              ...              ...              ...   \n",
            "Potentiel_prenom_17         0.114643         0.102650        -0.044896   \n",
            "Potentiel_prenom_18         0.170755         0.101448        -0.171258   \n",
            "Potentiel_prenom_19        -0.303860         0.327178         0.037392   \n",
            "Potentiel_prenom_20         0.943587        -0.018234        -0.464311   \n",
            "Potentiel_prenom_21         0.040054         0.006503        -0.012635   \n",
            "\n",
            "                     col_coord_dim34  col_coord_dim35  col_coord_dim36  \\\n",
            "TypeHabi_01                -0.413206         0.046696        -0.022360   \n",
            "TypeHabi_02                 0.213020        -0.019608         0.016763   \n",
            "TypeHabi_03                -0.346702         0.012290        -0.048798   \n",
            "TypeHabi_04                -1.298332         0.420285         0.007437   \n",
            "GeoFaz_Scl_11               1.474474        -0.220784        -0.125197   \n",
            "...                              ...              ...              ...   \n",
            "Potentiel_prenom_17        -0.030210        -0.149689         0.058777   \n",
            "Potentiel_prenom_18        -0.135076         0.211714         0.372588   \n",
            "Potentiel_prenom_19         0.041940         0.284338        -0.110133   \n",
            "Potentiel_prenom_20        -0.076115        -0.346968        -0.202651   \n",
            "Potentiel_prenom_21         0.033077         0.039504         0.025267   \n",
            "\n",
            "                     col_coord_dim37  col_coord_dim38  col_coord_dim39  \\\n",
            "TypeHabi_01                 0.093579        -0.039042         0.058863   \n",
            "TypeHabi_02                -0.044527         0.015989        -0.035225   \n",
            "TypeHabi_03                 0.059189        -0.009388         0.076083   \n",
            "TypeHabi_04                 0.026794        -0.123981         0.322611   \n",
            "GeoFaz_Scl_11              -0.285398         0.194880        -0.104281   \n",
            "...                              ...              ...              ...   \n",
            "Potentiel_prenom_17         0.130110        -0.147199        -0.145925   \n",
            "Potentiel_prenom_18        -0.329922         0.132012        -0.239909   \n",
            "Potentiel_prenom_19         0.254489         0.333292         0.456550   \n",
            "Potentiel_prenom_20         0.019312        -0.280033        -0.267991   \n",
            "Potentiel_prenom_21        -0.008908        -0.052505        -0.031458   \n",
            "\n",
            "                     col_coord_dim40  col_coord_dim41  col_coord_dim42  \\\n",
            "TypeHabi_01                -0.043929         0.003197        -0.017984   \n",
            "TypeHabi_02                 0.021323        -0.111149         0.036935   \n",
            "TypeHabi_03                -0.026339         0.615144        -0.167985   \n",
            "TypeHabi_04                -0.632470         0.930774        -0.586735   \n",
            "GeoFaz_Scl_11              -0.010842        -0.088251         0.019086   \n",
            "...                              ...              ...              ...   \n",
            "Potentiel_prenom_17        -0.093870        -0.059388        -0.257063   \n",
            "Potentiel_prenom_18        -0.014810         0.192383         0.222092   \n",
            "Potentiel_prenom_19         0.281041         0.064514         0.103672   \n",
            "Potentiel_prenom_20        -0.206044        -0.173381        -0.192076   \n",
            "Potentiel_prenom_21         0.086662        -0.027309         0.011771   \n",
            "\n",
            "                     col_coord_dim43  col_coord_dim44  col_coord_dim45  \\\n",
            "TypeHabi_01                 0.022693        -0.030867         0.093880   \n",
            "TypeHabi_02                 0.024617         0.054023        -0.002331   \n",
            "TypeHabi_03                -0.184153        -0.241002        -0.193399   \n",
            "TypeHabi_04                -0.222429        -0.101636         2.262377   \n",
            "GeoFaz_Scl_11              -0.013034         0.123145        -0.179686   \n",
            "...                              ...              ...              ...   \n",
            "Potentiel_prenom_17        -0.039060         0.070774        -0.150154   \n",
            "Potentiel_prenom_18        -0.029440        -0.189848        -0.051147   \n",
            "Potentiel_prenom_19         0.329378        -0.268691         0.174950   \n",
            "Potentiel_prenom_20        -0.091320         0.212252         0.045539   \n",
            "Potentiel_prenom_21        -0.005169         0.002705         0.096217   \n",
            "\n",
            "                     col_coord_dim46  col_coord_dim47  col_coord_dim48  \\\n",
            "TypeHabi_01                -0.051914         0.006784        -0.092657   \n",
            "TypeHabi_02                -0.035789         0.083982        -0.054955   \n",
            "TypeHabi_03                 0.309849        -0.483381         0.505700   \n",
            "TypeHabi_04                -0.211663        -0.749511        -0.870955   \n",
            "GeoFaz_Scl_11               0.244626        -0.499114        -0.353394   \n",
            "...                              ...              ...              ...   \n",
            "Potentiel_prenom_17        -0.139475         0.029468        -0.034366   \n",
            "Potentiel_prenom_18        -0.203424         0.095187        -0.081251   \n",
            "Potentiel_prenom_19         0.495821         0.208823        -0.062002   \n",
            "Potentiel_prenom_20         0.119890        -0.018841        -0.092653   \n",
            "Potentiel_prenom_21        -0.030856        -0.050324         0.118061   \n",
            "\n",
            "                     col_coord_dim49  col_coord_dim50  ...  col_cos2_dim6  \\\n",
            "TypeHabi_01                 0.067606        -0.034503  ...       0.014823   \n",
            "TypeHabi_02                 0.035024        -0.022662  ...       0.016218   \n",
            "TypeHabi_03                -0.337497         0.194629  ...       0.000864   \n",
            "TypeHabi_04                 0.174417         0.663552  ...       0.000093   \n",
            "GeoFaz_Scl_11               0.031565        -0.047302  ...       0.000479   \n",
            "...                              ...              ...  ...            ...   \n",
            "Potentiel_prenom_17         0.089044        -0.128710  ...       0.083794   \n",
            "Potentiel_prenom_18         0.214366        -0.022103  ...       0.000168   \n",
            "Potentiel_prenom_19         0.632154         0.005290  ...       0.011840   \n",
            "Potentiel_prenom_20        -0.311055         0.103097  ...       0.011976   \n",
            "Potentiel_prenom_21        -0.077100         0.043417  ...       0.000724   \n",
            "\n",
            "                     col_cos2_dim7  col_cos2_dim8  col_cos2_dim9  \\\n",
            "TypeHabi_01               0.014368       0.034655       0.241375   \n",
            "TypeHabi_02               0.006399       0.037470       0.259212   \n",
            "TypeHabi_03               0.001077       0.001071       0.009333   \n",
            "TypeHabi_04               0.757756       0.012321       0.019410   \n",
            "GeoFaz_Scl_11             0.000192       0.000051       0.000484   \n",
            "...                            ...            ...            ...   \n",
            "Potentiel_prenom_17       0.000121       0.008448       0.025651   \n",
            "Potentiel_prenom_18       0.000039       0.002891       0.000076   \n",
            "Potentiel_prenom_19       0.000059       0.057917       0.018137   \n",
            "Potentiel_prenom_20       0.000596       0.011928       0.000731   \n",
            "Potentiel_prenom_21       0.000023       0.000585       0.005541   \n",
            "\n",
            "                     col_cos2_dim10  col_cos2_dim11  col_cos2_dim12  \\\n",
            "TypeHabi_01                0.008037    1.071417e-03        0.003943   \n",
            "TypeHabi_02                0.008464    8.354728e-04        0.004103   \n",
            "TypeHabi_03                0.000332    7.571176e-07        0.000125   \n",
            "TypeHabi_04                0.000005    1.961087e-04        0.000186   \n",
            "GeoFaz_Scl_11              0.000050    1.342594e-04        0.000077   \n",
            "...                             ...             ...             ...   \n",
            "Potentiel_prenom_17        0.008101    2.924514e-03        0.200460   \n",
            "Potentiel_prenom_18        0.131584    3.947967e-02        0.136892   \n",
            "Potentiel_prenom_19        0.003906    1.994219e-03        0.014854   \n",
            "Potentiel_prenom_20        0.000115    1.165234e-04        0.009490   \n",
            "Potentiel_prenom_21        0.000019    9.989255e-06        0.000952   \n",
            "\n",
            "                     col_cos2_dim13  col_cos2_dim14  col_cos2_dim15  \\\n",
            "TypeHabi_01                0.000482        0.002435    2.261520e-02   \n",
            "TypeHabi_02                0.000934        0.000381    1.193131e-02   \n",
            "TypeHabi_03                0.000232        0.001395    1.197245e-03   \n",
            "TypeHabi_04                0.000241        0.000117    6.014670e-04   \n",
            "GeoFaz_Scl_11              0.001312        0.008715    4.659389e-02   \n",
            "...                             ...             ...             ...   \n",
            "Potentiel_prenom_17        0.000013        0.000447    2.005404e-07   \n",
            "Potentiel_prenom_18        0.110300        0.000441    2.599994e-06   \n",
            "Potentiel_prenom_19        0.000298        0.087448    1.333931e-02   \n",
            "Potentiel_prenom_20        0.149750        0.007852    2.554395e-04   \n",
            "Potentiel_prenom_21        0.000392        0.000131    6.349373e-05   \n",
            "\n",
            "                     col_cos2_dim16  col_cos2_dim17  col_cos2_dim18  \\\n",
            "TypeHabi_01            1.277831e-04        0.000029        0.000763   \n",
            "TypeHabi_02            8.413905e-05        0.000028        0.001497   \n",
            "TypeHabi_03            4.610971e-07        0.000003        0.000490   \n",
            "TypeHabi_04            5.805403e-05        0.000116        0.000139   \n",
            "GeoFaz_Scl_11          5.213827e-05        0.000488        0.000009   \n",
            "...                             ...             ...             ...   \n",
            "Potentiel_prenom_17    1.639686e-07        0.015240        0.003081   \n",
            "Potentiel_prenom_18    2.064116e-02        0.033169        0.041361   \n",
            "Potentiel_prenom_19    2.280438e-02        0.002575        0.005309   \n",
            "Potentiel_prenom_20    9.308017e-04        0.011604        0.000133   \n",
            "Potentiel_prenom_21    3.996180e-06        0.000012        0.000132   \n",
            "\n",
            "                     col_cos2_dim19  col_cos2_dim20  col_cos2_dim21  \\\n",
            "TypeHabi_01            3.405242e-04        0.010571        0.036148   \n",
            "TypeHabi_02            7.359875e-04        0.017711        0.061021   \n",
            "TypeHabi_03            2.562303e-04        0.004309        0.014697   \n",
            "TypeHabi_04            2.652428e-07        0.001539        0.002914   \n",
            "GeoFaz_Scl_11          2.964366e-05        0.000234        0.000118   \n",
            "...                             ...             ...             ...   \n",
            "Potentiel_prenom_17    8.606962e-02        0.004798        0.004037   \n",
            "Potentiel_prenom_18    1.031403e-02        0.000019        0.000448   \n",
            "Potentiel_prenom_19    1.305832e-02        0.002287        0.000635   \n",
            "Potentiel_prenom_20    2.389595e-02        0.014274        0.008731   \n",
            "Potentiel_prenom_21    1.098110e-05        0.000138        0.000009   \n",
            "\n",
            "                     col_cos2_dim22  col_cos2_dim23  col_cos2_dim24  \\\n",
            "TypeHabi_01                0.010142    1.477461e-03    4.619253e-04   \n",
            "TypeHabi_02                0.015195    8.676462e-04    1.175556e-03   \n",
            "TypeHabi_03                0.002857    4.430689e-05    5.282878e-04   \n",
            "TypeHabi_04                0.001264    2.417466e-05    1.010708e-05   \n",
            "GeoFaz_Scl_11              0.000580    2.565451e-07    6.218779e-08   \n",
            "...                             ...             ...             ...   \n",
            "Potentiel_prenom_17        0.008315    9.136268e-04    2.300033e-04   \n",
            "Potentiel_prenom_18        0.000036    1.029627e-02    1.133310e-02   \n",
            "Potentiel_prenom_19        0.000491    1.873477e-02    2.724761e-02   \n",
            "Potentiel_prenom_20        0.000794    5.093807e-03    8.660590e-03   \n",
            "Potentiel_prenom_21        0.000330    6.067718e-06    3.002381e-05   \n",
            "\n",
            "                     col_cos2_dim25  col_cos2_dim26  col_cos2_dim27  \\\n",
            "TypeHabi_01                0.001242        0.000530        0.000035   \n",
            "TypeHabi_02                0.002250        0.001098        0.000768   \n",
            "TypeHabi_03                0.000635        0.000346        0.001081   \n",
            "TypeHabi_04                0.000169        0.000020        0.000087   \n",
            "GeoFaz_Scl_11              0.000485        0.000052        0.000708   \n",
            "...                             ...             ...             ...   \n",
            "Potentiel_prenom_17        0.003639        0.008043        0.000151   \n",
            "Potentiel_prenom_18        0.001582        0.005138        0.000094   \n",
            "Potentiel_prenom_19        0.003774        0.001009        0.025689   \n",
            "Potentiel_prenom_20        0.014705        0.001208        0.012467   \n",
            "Potentiel_prenom_21        0.000010        0.000015        0.000228   \n",
            "\n",
            "                     col_cos2_dim28  col_cos2_dim29  col_cos2_dim30  \\\n",
            "TypeHabi_01                0.000212    5.474745e-07        0.000036   \n",
            "TypeHabi_02                0.000799    6.864891e-04        0.000076   \n",
            "TypeHabi_03                0.003404    1.427301e-03        0.000034   \n",
            "TypeHabi_04                0.001606    3.014277e-05        0.000069   \n",
            "GeoFaz_Scl_11              0.001723    3.537045e-05        0.001260   \n",
            "...                             ...             ...             ...   \n",
            "Potentiel_prenom_17        0.001246    8.691040e-03        0.003652   \n",
            "Potentiel_prenom_18        0.000492    5.271117e-03        0.000577   \n",
            "Potentiel_prenom_19        0.000741    2.040538e-05        0.056006   \n",
            "Potentiel_prenom_20        0.000761    3.179724e-03        0.024013   \n",
            "Potentiel_prenom_21        0.000021    1.529088e-05        0.000006   \n",
            "\n",
            "                     col_cos2_dim31  col_cos2_dim32  col_cos2_dim33  \\\n",
            "TypeHabi_01                0.000698        0.003461    2.536772e-03   \n",
            "TypeHabi_02                0.001777        0.003959    5.253673e-03   \n",
            "TypeHabi_03                0.000753        0.000195    1.720038e-03   \n",
            "TypeHabi_04                0.000036        0.000536    7.326360e-09   \n",
            "GeoFaz_Scl_11              0.001770        0.004216    1.216447e-03   \n",
            "...                             ...             ...             ...   \n",
            "Potentiel_prenom_17        0.001001        0.000803    1.535300e-04   \n",
            "Potentiel_prenom_18        0.001575        0.000556    1.584407e-03   \n",
            "Potentiel_prenom_19        0.005165        0.005988    7.821011e-05   \n",
            "Potentiel_prenom_20        0.056119        0.000021    1.358833e-02   \n",
            "Potentiel_prenom_21        0.000042        0.000001    4.206995e-06   \n",
            "\n",
            "                     col_cos2_dim34  col_cos2_dim35  col_cos2_dim36  \\\n",
            "TypeHabi_01                0.052670        0.000673    1.542246e-04   \n",
            "TypeHabi_02                0.083768        0.000710    5.187491e-04   \n",
            "TypeHabi_03                0.015605        0.000020    3.091403e-04   \n",
            "TypeHabi_04                0.001194        0.000125    3.918680e-08   \n",
            "GeoFaz_Scl_11              0.084634        0.001898    6.101831e-04   \n",
            "...                             ...             ...             ...   \n",
            "Potentiel_prenom_17        0.000070        0.001707    2.631459e-04   \n",
            "Potentiel_prenom_18        0.000986        0.002421    7.499370e-03   \n",
            "Potentiel_prenom_19        0.000098        0.004523    6.785041e-04   \n",
            "Potentiel_prenom_20        0.000365        0.007588    2.588490e-03   \n",
            "Potentiel_prenom_21        0.000029        0.000041    1.682547e-05   \n",
            "\n",
            "                     col_cos2_dim37  col_cos2_dim38  col_cos2_dim39  \\\n",
            "TypeHabi_01            2.701365e-03        0.000470        0.001069   \n",
            "TypeHabi_02            3.660027e-03        0.000472        0.002291   \n",
            "TypeHabi_03            4.548022e-04        0.000011        0.000751   \n",
            "TypeHabi_04            5.086603e-07        0.000011        0.000074   \n",
            "GeoFaz_Scl_11          3.170813e-03        0.001478        0.000423   \n",
            "...                             ...             ...             ...   \n",
            "Potentiel_prenom_17    1.289453e-03        0.001650        0.001622   \n",
            "Potentiel_prenom_18    5.880184e-03        0.000941        0.003109   \n",
            "Potentiel_prenom_19    3.622879e-03        0.006214        0.011660   \n",
            "Potentiel_prenom_20    2.350628e-05        0.004943        0.004527   \n",
            "Potentiel_prenom_21    2.091308e-06        0.000073        0.000026   \n",
            "\n",
            "                     col_cos2_dim40  col_cos2_dim41  col_cos2_dim42  \\\n",
            "TypeHabi_01                0.000595        0.000003        0.000100   \n",
            "TypeHabi_02                0.000839        0.022806        0.002518   \n",
            "TypeHabi_03                0.000090        0.049124        0.003663   \n",
            "TypeHabi_04                0.000283        0.000614        0.000244   \n",
            "GeoFaz_Scl_11              0.000005        0.000303        0.000014   \n",
            "...                             ...             ...             ...   \n",
            "Potentiel_prenom_17        0.000671        0.000269        0.005033   \n",
            "Potentiel_prenom_18        0.000012        0.001999        0.002665   \n",
            "Potentiel_prenom_19        0.004418        0.000233        0.000601   \n",
            "Potentiel_prenom_20        0.002676        0.001895        0.002325   \n",
            "Potentiel_prenom_21        0.000198        0.000020        0.000004   \n",
            "\n",
            "                     col_cos2_dim43  col_cos2_dim44  col_cos2_dim45  \\\n",
            "TypeHabi_01            1.588530e-04    2.939202e-04        0.002719   \n",
            "TypeHabi_02            1.118699e-03    5.387620e-03        0.000010   \n",
            "TypeHabi_03            4.402524e-03    7.540239e-03        0.004856   \n",
            "TypeHabi_04            3.505403e-05    7.318973e-06        0.003626   \n",
            "GeoFaz_Scl_11          6.613292e-06    5.903383e-04        0.001257   \n",
            "...                             ...             ...             ...   \n",
            "Potentiel_prenom_17    1.162115e-04    3.815282e-04        0.001717   \n",
            "Potentiel_prenom_18    4.681993e-05    1.947056e-03        0.000141   \n",
            "Potentiel_prenom_19    6.068807e-03    4.038510e-03        0.001712   \n",
            "Potentiel_prenom_20    5.256302e-04    2.839547e-03        0.000131   \n",
            "Potentiel_prenom_21    7.040335e-07    1.927772e-07        0.000244   \n",
            "\n",
            "                     col_cos2_dim46  col_cos2_dim47  col_cos2_dim48  \\\n",
            "TypeHabi_01                0.000831        0.000014        0.002648   \n",
            "TypeHabi_02                0.002364        0.013020        0.005575   \n",
            "TypeHabi_03                0.012464        0.030334        0.033199   \n",
            "TypeHabi_04                0.000032        0.000398        0.000537   \n",
            "GeoFaz_Scl_11              0.002330        0.009698        0.004862   \n",
            "...                             ...             ...             ...   \n",
            "Potentiel_prenom_17        0.001482        0.000066        0.000090   \n",
            "Potentiel_prenom_18        0.002235        0.000489        0.000357   \n",
            "Potentiel_prenom_19        0.013752        0.002439        0.000215   \n",
            "Potentiel_prenom_20        0.000906        0.000022        0.000541   \n",
            "Potentiel_prenom_21        0.000025        0.000067        0.000367   \n",
            "\n",
            "                     col_cos2_dim49  col_cos2_dim50  col_cos2_dim51  \\\n",
            "TypeHabi_01                0.001410        0.000367        0.000130   \n",
            "TypeHabi_02                0.002264        0.000948        0.000821   \n",
            "TypeHabi_03                0.014787        0.004918        0.003074   \n",
            "TypeHabi_04                0.000022        0.000312        0.000982   \n",
            "GeoFaz_Scl_11              0.000039        0.000087        0.019432   \n",
            "...                             ...             ...             ...   \n",
            "Potentiel_prenom_17        0.000604        0.001262        0.001953   \n",
            "Potentiel_prenom_18        0.002482        0.000026        0.000018   \n",
            "Potentiel_prenom_19        0.022354        0.000002        0.001459   \n",
            "Potentiel_prenom_20        0.006098        0.000670        0.003540   \n",
            "Potentiel_prenom_21        0.000157        0.000050        0.000062   \n",
            "\n",
            "                     col_cos2_dim52  col_cos2_dim53  col_cos2_dim54  \\\n",
            "TypeHabi_01                0.003723        0.001347        0.000911   \n",
            "TypeHabi_02                0.006885        0.007013        0.007216   \n",
            "TypeHabi_03                0.042276        0.030926        0.027003   \n",
            "TypeHabi_04                0.000005        0.000390        0.001310   \n",
            "GeoFaz_Scl_11              0.010462        0.010183        0.002501   \n",
            "...                             ...             ...             ...   \n",
            "Potentiel_prenom_17        0.000924        0.002338        0.002308   \n",
            "Potentiel_prenom_18        0.000043        0.000219        0.000686   \n",
            "Potentiel_prenom_19        0.000035        0.000043        0.001664   \n",
            "Potentiel_prenom_20        0.000842        0.000178        0.001476   \n",
            "Potentiel_prenom_21        0.000145        0.000004        0.000183   \n",
            "\n",
            "                     col_cos2_dim55  \n",
            "TypeHabi_01                0.000248  \n",
            "TypeHabi_02                0.000644  \n",
            "TypeHabi_03                0.003700  \n",
            "TypeHabi_04                0.000513  \n",
            "GeoFaz_Scl_11              0.002442  \n",
            "...                             ...  \n",
            "Potentiel_prenom_17        0.000098  \n",
            "Potentiel_prenom_18        0.001973  \n",
            "Potentiel_prenom_19        0.014805  \n",
            "Potentiel_prenom_20        0.011376  \n",
            "Potentiel_prenom_21        0.000007  \n",
            "\n",
            "[269 rows x 165 columns]\n"
          ],
          "name": "stdout"
        }
      ]
    },
    {
      "cell_type": "code",
      "metadata": {
        "colab": {
          "base_uri": "https://localhost:8080/"
        },
        "id": "irARzF0d8es8",
        "outputId": "7932bd24-9a93-4884-ff4b-3bfc79961e2f"
      },
      "source": [
        "#nombre var. actives\n",
        "p = data.shape[1]-1\n",
        "print(p)\n",
        "#calcul des fonctions de projection\n",
        "fproj = np.zeros(acm.col_coord_.shape)\n",
        "#pour chaque colonne\n",
        "for j in range(fproj.shape[1]):\n",
        " fproj[:,j] = acm.col_coord_[:,j]/(p*np.sqrt(acm.eig_[0,j]))\n",
        "#affichage fonction\n",
        "print(fproj)\n",
        "#affichage plus avenant des deux premiers facteurs\n",
        "print(pd.DataFrame(fproj,index=acm.col_labels_))\n"
      ],
      "execution_count": 19,
      "outputs": [
        {
          "output_type": "stream",
          "text": [
            "15\n",
            "[[ 3.59309123e-02 -2.39199727e-02  2.86685910e-02 ... -1.50164893e-02\n",
            "   1.23936311e-02  6.49223294e-03]\n",
            " [-1.57060041e-02  8.80819897e-03 -1.17719599e-02 ... -1.40077138e-02\n",
            "   1.42549360e-02  4.27963926e-03]\n",
            " [ 1.48997091e-02 -1.04952469e-04  6.06181284e-03 ...  1.10922276e-01\n",
            "  -1.03987490e-01 -3.86802836e-02]\n",
            " ...\n",
            " [-1.36381364e-01  1.92394723e-03  1.05199151e-01 ... -6.29491112e-03\n",
            "  -3.93227083e-02  1.17875718e-01]\n",
            " [-1.24910962e-01  2.67886812e-03  1.60024836e-01 ...  1.20788044e-02\n",
            "   3.48972759e-02 -9.73442847e-02]\n",
            " [ 3.37097482e-02 -7.08975837e-01 -6.51930632e-02 ...  2.93681338e-03\n",
            "  -1.90032253e-02 -3.84424437e-03]]\n",
            "                           0         1         2         3         4   \\\n",
            "TypeHabi_01          0.035931 -0.023920  0.028669 -0.033839  0.027299   \n",
            "TypeHabi_02         -0.015706  0.008808 -0.011772  0.012781 -0.010957   \n",
            "TypeHabi_03          0.014900 -0.000105  0.006062 -0.003174  0.004302   \n",
            "TypeHabi_04          0.006367 -0.087535  0.254786  0.073725  0.249701   \n",
            "GeoFaz_Scl_11       -0.013409 -0.000493  0.010426 -0.009280 -0.014874   \n",
            "...                       ...       ...       ...       ...       ...   \n",
            "Potentiel_prenom_17 -0.140937  0.006083 -0.111048 -0.098187  0.106224   \n",
            "Potentiel_prenom_18 -0.125609  0.004857 -0.032920 -0.059804  0.005783   \n",
            "Potentiel_prenom_19 -0.136381  0.001924  0.105199  0.009070 -0.106798   \n",
            "Potentiel_prenom_20 -0.124911  0.002679  0.160025 -0.012352 -0.203778   \n",
            "Potentiel_prenom_21  0.033710 -0.708976 -0.065193  0.131818 -0.013531   \n",
            "\n",
            "                           5         6         7         8         9   \\\n",
            "TypeHabi_01         -0.031316  0.032633 -0.051549  0.137872 -0.025926   \n",
            "TypeHabi_02          0.013390 -0.008903  0.021911 -0.058405  0.010876   \n",
            "TypeHabi_03         -0.011654  0.013769 -0.013972  0.041792 -0.008118   \n",
            "TypeHabi_04          0.051688 -4.944889 -0.641356  0.815791 -0.013590   \n",
            "GeoFaz_Scl_11       -0.015839  0.010616 -0.005558  0.017388  0.005746   \n",
            "...                       ...       ...       ...       ...       ...   \n",
            "Potentiel_prenom_17 -0.149838 -0.006020 -0.051219 -0.090450 -0.052383   \n",
            "Potentiel_prenom_18 -0.007969 -0.004065 -0.035579  0.005853 -0.250680   \n",
            "Potentiel_prenom_19  0.065725 -0.004912  0.156493  0.088749 -0.042445   \n",
            "Potentiel_prenom_20  0.062272  0.014706 -0.066905  0.016782  0.006854   \n",
            "Potentiel_prenom_21 -0.023681  0.004504  0.022922 -0.071471  0.004308   \n",
            "\n",
            "                           10        11        12        13        14  \\\n",
            "TypeHabi_01          0.009688 -0.018962  0.006679 -0.015512  0.047744   \n",
            "TypeHabi_02         -0.003497  0.007907 -0.003801  0.002510 -0.014176   \n",
            "TypeHabi_03          0.000397 -0.005199  0.007144  0.018097 -0.016934   \n",
            "TypeHabi_04         -0.086483 -0.085966  0.098605 -0.071048 -0.162466   \n",
            "GeoFaz_Scl_11       -0.009654 -0.007438 -0.031024  0.082612 -0.192913   \n",
            "...                       ...       ...       ...       ...       ...   \n",
            "Potentiel_prenom_17 -0.032210 -0.272090  0.002165  0.013369  0.000286   \n",
            "Potentiel_prenom_18  0.140528  0.266990 -0.241460  0.015783  0.001223   \n",
            "Potentiel_prenom_19 -0.031038 -0.086427  0.012335  0.218304  0.086108   \n",
            "Potentiel_prenom_20  0.007068  0.065080  0.260466  0.061624  0.011225   \n",
            "Potentiel_prenom_21  0.003200  0.031878  0.020604  0.012320 -0.008655   \n",
            "\n",
            "                           15        16        17        18        19  \\\n",
            "TypeHabi_01         -0.003603  0.001743 -0.008988  0.006077 -0.033995   \n",
            "TypeHabi_02          0.001195 -0.000698  0.005148 -0.003652  0.017987   \n",
            "TypeHabi_03          0.000334  0.000806 -0.011110  0.008127 -0.033457   \n",
            "TypeHabi_04          0.050675 -0.072071  0.080011  0.003539  0.270667   \n",
            "GeoFaz_Scl_11        0.006479  0.019970 -0.002798  0.005048  0.014226   \n",
            "...                       ...       ...       ...       ...       ...   \n",
            "Potentiel_prenom_17 -0.000260 -0.079755  0.036356  0.194444  0.046088   \n",
            "Potentiel_prenom_18  0.109430 -0.139717 -0.158160 -0.079927 -0.003461   \n",
            "Potentiel_prenom_19 -0.113033  0.038257  0.055685 -0.088379  0.037133   \n",
            "Potentiel_prenom_20  0.021513 -0.076507 -0.008288  0.112629 -0.087390   \n",
            "Potentiel_prenom_21 -0.002180  0.003770  0.012784  0.003734  0.013282   \n",
            "\n",
            "                           20        21        22        23        24  \\\n",
            "TypeHabi_01          0.063647 -0.034048  0.013150 -0.007432  0.012232   \n",
            "TypeHabi_02         -0.033804  0.017036 -0.004119  0.004847 -0.006731   \n",
            "TypeHabi_03          0.062560 -0.027857 -0.003510 -0.012252  0.013481   \n",
            "TypeHabi_04         -0.377037  0.250836 -0.035098  0.022940 -0.094065   \n",
            "GeoFaz_Scl_11       -0.010220  0.022922 -0.000488 -0.000243  0.021520   \n",
            "...                       ...       ...       ...       ...       ...   \n",
            "Potentiel_prenom_17  0.042806  0.062042  0.020810 -0.010554  0.042141   \n",
            "Potentiel_prenom_18  0.016926  0.004816  0.082953  0.087972 -0.032998   \n",
            "Potentiel_prenom_19 -0.019804 -0.017600  0.109962 -0.134049 -0.050083   \n",
            "Potentiel_prenom_20 -0.069200 -0.021077 -0.054016  0.071196  0.093129   \n",
            "Potentiel_prenom_21 -0.003467  0.021006 -0.002883  0.006483 -0.003782   \n",
            "\n",
            "                           25        26        27        28        29  \\\n",
            "TypeHabi_01         -0.008098 -0.002076  0.005170  0.000264  0.002152   \n",
            "TypeHabi_02          0.004765  0.003997  0.004107 -0.003827 -0.001282   \n",
            "TypeHabi_03         -0.010084 -0.017876 -0.031961  0.020811  0.003205   \n",
            "TypeHabi_04         -0.032533 -0.068849 -0.297147  0.040937 -0.062365   \n",
            "GeoFaz_Scl_11        0.007159 -0.026418 -0.041528 -0.005983 -0.035857   \n",
            "...                       ...       ...       ...       ...       ...   \n",
            "Potentiel_prenom_17 -0.063502  0.008709  0.025251  0.067041  0.043639   \n",
            "Potentiel_prenom_18 -0.060269 -0.008169  0.018828  0.061996 -0.020594   \n",
            "Potentiel_prenom_19  0.026243 -0.132777  0.022715  0.003791  0.199417   \n",
            "Potentiel_prenom_20 -0.027054  0.087138 -0.021693  0.044578 -0.123013   \n",
            "Potentiel_prenom_21  0.004738 -0.018234 -0.005522  0.004781 -0.003013   \n",
            "\n",
            "                           30        31        32        33        34  \\\n",
            "TypeHabi_01          0.009614 -0.021512  0.018452 -0.084376  0.009615   \n",
            "TypeHabi_02         -0.006270  0.009405 -0.010855  0.043498 -0.004037   \n",
            "TypeHabi_03          0.015386 -0.007863  0.023421 -0.070796  0.002530   \n",
            "TypeHabi_04          0.045604 -0.176577 -0.000654 -0.265118  0.086535   \n",
            "GeoFaz_Scl_11       -0.043088  0.066834 -0.035968  0.301086 -0.045458   \n",
            "...                       ...       ...       ...       ...       ...   \n",
            "Potentiel_prenom_17  0.023166  0.020847 -0.009135 -0.006169 -0.030820   \n",
            "Potentiel_prenom_18  0.034505  0.020603 -0.034847 -0.027582  0.043591   \n",
            "Potentiel_prenom_19 -0.061401  0.066445  0.007608  0.008564  0.058544   \n",
            "Potentiel_prenom_20  0.190671 -0.003703 -0.094475 -0.015543 -0.071439   \n",
            "Potentiel_prenom_21  0.008094  0.001321 -0.002571  0.006754  0.008134   \n",
            "\n",
            "                           35        36        37        38        39  \\\n",
            "TypeHabi_01         -0.004610  0.019482 -0.008174  0.012397 -0.009405   \n",
            "TypeHabi_02          0.003456 -0.009270  0.003347 -0.007418  0.004565   \n",
            "TypeHabi_03         -0.010061  0.012322 -0.001965  0.016023 -0.005639   \n",
            "TypeHabi_04          0.001533  0.005578 -0.025956  0.067942 -0.135407   \n",
            "GeoFaz_Scl_11       -0.025813 -0.059416  0.040799 -0.021961 -0.002321   \n",
            "...                       ...       ...       ...       ...       ...   \n",
            "Potentiel_prenom_17  0.012119  0.027087 -0.030816 -0.030732 -0.020097   \n",
            "Potentiel_prenom_18  0.076820 -0.068685  0.027637 -0.050525 -0.003171   \n",
            "Potentiel_prenom_19 -0.022707  0.052981  0.069776  0.096149  0.060169   \n",
            "Potentiel_prenom_20 -0.041782  0.004020 -0.058626 -0.056439 -0.044113   \n",
            "Potentiel_prenom_21  0.005210 -0.001855 -0.010992 -0.006625  0.018554   \n",
            "\n",
            "                           40        41        42        43        44  \\\n",
            "TypeHabi_01          0.000690 -0.003897  0.004958 -0.006774  0.020710   \n",
            "TypeHabi_02         -0.023992  0.008004  0.005378  0.011855 -0.000514   \n",
            "TypeHabi_03          0.132779 -0.036401 -0.040233 -0.052886 -0.042664   \n",
            "TypeHabi_04          0.200908 -0.127142 -0.048595 -0.022303  0.499083   \n",
            "GeoFaz_Scl_11       -0.019049  0.004136 -0.002848  0.027023 -0.039639   \n",
            "...                       ...       ...       ...       ...       ...   \n",
            "Potentiel_prenom_17 -0.012819 -0.055704 -0.008534  0.015531 -0.033124   \n",
            "Potentiel_prenom_18  0.041526  0.048126 -0.006432 -0.041661 -0.011283   \n",
            "Potentiel_prenom_19  0.013925  0.022465  0.071960 -0.058962  0.038594   \n",
            "Potentiel_prenom_20 -0.037425 -0.041622 -0.019951  0.046577  0.010046   \n",
            "Potentiel_prenom_21 -0.005895  0.002551 -0.001129  0.000594  0.021226   \n",
            "\n",
            "                           45        46        47        48        49  \\\n",
            "TypeHabi_01         -0.011484  0.001510 -0.020671  0.015157 -0.007764   \n",
            "TypeHabi_02         -0.007917  0.018695 -0.012260  0.007852 -0.005099   \n",
            "TypeHabi_03          0.068541 -0.107602  0.112817 -0.075664  0.043797   \n",
            "TypeHabi_04         -0.046822 -0.166843 -0.194302  0.039103  0.149318   \n",
            "GeoFaz_Scl_11        0.054113 -0.111104 -0.078839  0.007077 -0.010644   \n",
            "...                       ...       ...       ...       ...       ...   \n",
            "Potentiel_prenom_17 -0.030853  0.006560 -0.007667  0.019963 -0.028963   \n",
            "Potentiel_prenom_18 -0.044999  0.021189 -0.018126  0.048059 -0.004974   \n",
            "Potentiel_prenom_19  0.109680  0.046485 -0.013832  0.141725  0.001190   \n",
            "Potentiel_prenom_20  0.026521 -0.004194 -0.020670 -0.069736  0.023200   \n",
            "Potentiel_prenom_21 -0.006826 -0.011202  0.026338 -0.017285  0.009770   \n",
            "\n",
            "                           50        51        52        53        54  \n",
            "TypeHabi_01          0.004628  0.024911 -0.015016  0.012394  0.006492  \n",
            "TypeHabi_02          0.004759  0.013848 -0.014008  0.014255  0.004280  \n",
            "TypeHabi_03         -0.034721 -0.129402  0.110922 -0.103987 -0.038680  \n",
            "TypeHabi_04         -0.265702  0.019059 -0.168518 -0.310053  0.194938  \n",
            "GeoFaz_Scl_11       -0.159427  0.117552 -0.116235 -0.057791  0.057386  \n",
            "...                       ...       ...       ...       ...       ...  \n",
            "Potentiel_prenom_17  0.036130 -0.024971 -0.039816 -0.039690  0.008239  \n",
            "Potentiel_prenom_18 -0.004108 -0.006376  0.014480  0.025703 -0.043791  \n",
            "Potentiel_prenom_19  0.036441  0.005651 -0.006295 -0.039323  0.117876  \n",
            "Potentiel_prenom_20 -0.053480  0.026211  0.012079  0.034897 -0.097344  \n",
            "Potentiel_prenom_21 -0.010959 -0.016794  0.002937 -0.019003 -0.003844  \n",
            "\n",
            "[269 rows x 55 columns]\n"
          ],
          "name": "stdout"
        }
      ]
    },
    {
      "cell_type": "code",
      "metadata": {
        "id": "TYbwi6XPom6o"
      },
      "source": [
        ""
      ],
      "execution_count": 19,
      "outputs": []
    },
    {
      "cell_type": "code",
      "metadata": {
        "id": "yk7314rJo8ss",
        "colab": {
          "base_uri": "https://localhost:8080/"
        },
        "outputId": "def5c1ec-c473-470c-89f6-c54ea574ed51"
      },
      "source": [
        "# affichafe des 10 premières lignes\n",
        "print(coord[:2,:])\n"
      ],
      "execution_count": 20,
      "outputs": [
        {
          "output_type": "stream",
          "text": [
            "[[ 0.90897938 -0.20511943  1.57517015 -0.30513616  1.53599785 -0.1200081\n",
            "  -4.73799717 -0.2425337   0.03879453 -0.15027436 -0.35578542 -0.44997252\n",
            "   0.01852557  0.69644359  0.32477728  1.30102309  0.45203226 -0.58338459\n",
            "   0.10847874 -0.29588466 -0.61725847 -0.1687855  -0.14619939  0.07572901\n",
            "   0.37063942  0.7613413   0.27198486  0.16325276  0.43790788 -1.19949123\n",
            "   0.77894056  0.58957137  1.54807128  0.57761669  0.79079078  1.20992298\n",
            "   0.34758901 -0.13667409  1.20771278  1.09098986  0.75372128  0.7426818\n",
            "   1.4107058   0.44996354 -0.97701555 -0.66540732  0.22170627 -0.6086971\n",
            "  -0.68104135 -0.55808516 -0.08175017  0.02949122  0.08006698  0.46501535\n",
            "   0.25586602]\n",
            " [ 0.60676659  0.06940016  0.10698411 -0.15732134 -0.53774169 -0.50235749\n",
            "  -0.04348663 -0.00777334 -0.13122926  0.35807359  0.21733094 -0.09959889\n",
            "  -0.11285631 -0.35949989  0.14576174 -0.1082968   0.15263499 -0.01279147\n",
            "  -0.26711163 -0.21558612  0.10573249 -0.15768895 -0.41619283  0.17904142\n",
            "  -0.24347195 -0.03478853  0.0880697   0.35990308 -0.04224648 -0.1645059\n",
            "   0.25662712 -0.08322081  0.02817413 -0.61765515  0.29597691 -0.42305387\n",
            "  -0.05647459  0.73478179  0.14726043  0.23860522  0.35430568  0.04279153\n",
            "   0.20531009 -0.18760417  0.45591802  0.5161198  -0.0093833  -0.02202865\n",
            "   0.07493498 -0.21028026  0.03321203  0.21381761  0.01549409  0.38912023\n",
            "  -0.03062286]]\n"
          ],
          "name": "stdout"
        }
      ]
    },
    {
      "cell_type": "code",
      "metadata": {
        "id": "XZXRt7tZSM2r",
        "colab": {
          "base_uri": "https://localhost:8080/"
        },
        "outputId": "d5424c56-b004-4bc6-b49b-604e54cb55df"
      },
      "source": [
        "#print(data_sans_nan.shape)\n",
        "#print(coord_sans_nan.shape)\n",
        "#print(data_sans_nan.iloc[:,0])\n",
        "#dfff.isnull().sum(axis=0)\n",
        "data.info()"
      ],
      "execution_count": 21,
      "outputs": [
        {
          "output_type": "stream",
          "text": [
            "<class 'pandas.core.frame.DataFrame'>\n",
            "RangeIndex: 1219999 entries, 0 to 1219998\n",
            "Data columns (total 16 columns):\n",
            " #   Column              Non-Null Count    Dtype \n",
            "---  ------              --------------    ----- \n",
            " 0   IDENT               1219999 non-null  object\n",
            " 1   TypeHabi            1219999 non-null  object\n",
            " 2   GeoFaz_Scl          1219999 non-null  object\n",
            " 3   Anciennete          1219999 non-null  object\n",
            " 4   Logement_prix_m2    1219999 non-null  object\n",
            " 5   Mediane_RFR         1219999 non-null  object\n",
            " 6   Sexe                1219999 non-null  object\n",
            " 7   Prenom_Phase_scl_H  1219999 non-null  object\n",
            " 8   Prenom_Phase_scl_F  1219999 non-null  object\n",
            " 9   Age_H               1219999 non-null  object\n",
            " 10  Age_F               1219999 non-null  object\n",
            " 11  Affinite_1          1219999 non-null  object\n",
            " 12  Affinite_2          1219999 non-null  object\n",
            " 13  Prenom_effectif     1219999 non-null  object\n",
            " 14  Potentiel_prenom    1219999 non-null  object\n",
            " 15  Top_mon             127115 non-null   object\n",
            "dtypes: object(16)\n",
            "memory usage: 148.9+ MB\n"
          ],
          "name": "stdout"
        }
      ]
    },
    {
      "cell_type": "code",
      "metadata": {
        "id": "NpZCCbB4VJmr",
        "colab": {
          "base_uri": "https://localhost:8080/"
        },
        "outputId": "49f81952-07c1-4fde-d48b-07da96ab9edf"
      },
      "source": [
        "## ATTENTION\n",
        "# élimination des individus n'ayant pas de valeur pour la variable Top_mon\n",
        "data_sans_nan = data[(data.isnull()).sum(axis=1) == 0]\n",
        "coord_sans_nan = coord[(data.isnull()).sum(axis=1) == 0] # coordonnées\n",
        "\n",
        "#conversion du type de variable\n",
        "for i in range(1,data_sans_nan.shape[1]):\n",
        "    data_sans_nan.iloc[:,i]=data_sans_nan.iloc[:,i].astype(int) # essayer avec int64\n",
        "\n",
        "# création\n",
        "def creation_df_temp(data_sans_nan, coord_sans_nan):\n",
        "    dfff = pd.DataFrame()\n",
        "    dfff[\"IDENT\"] = data_sans_nan.iloc[:,0]\n",
        "    for i in range(coord_sans_nan.shape[1] ): #avant 10\n",
        "        dfff[str(i)]=coord_sans_nan[:,i]\n",
        "    dfff[\"Top_mon\"] = data_sans_nan.iloc[:,data_sans_nan.shape[1]-1].astype(int)\n",
        "    return dfff\n",
        "# stockage\n",
        "data_coord_nan = creation_df_temp(data_sans_nan, coord_sans_nan)\n",
        "data_coord_nan.info()\n",
        "#data_coord_nan = dfff \n",
        "\n",
        "# maintien des individus  n'ayant pas de valeur pour la variable Top_mon\n",
        "\n",
        "data_avec_nan = data\n",
        "coord_avec_nan = coord # coordonnées\n",
        "def creation_df_temp_2(data_sans_nan, coord_sans_nan):\n",
        "    dfff = pd.DataFrame()\n",
        "    dfff[\"IDENT\"] = data_sans_nan.iloc[:,0]\n",
        "    for i in range(coord_sans_nan.shape[1]): # avant 10\n",
        "        dfff[str(i)]=coord_sans_nan[:,i]\n",
        "\n",
        "    dfff[\"Top_mon\"] = data_sans_nan.iloc[:,data_sans_nan.shape[1]-1] #.astype(int)\n",
        "\n",
        "    dfff[\"Top_mon\"] = dfff[\"Top_mon\"].replace(1.0, '1')\n",
        "    dfff[\"Top_mon\"] = dfff[\"Top_mon\"].replace(2.0,'2')\n",
        "    #for j in range(data_sans_nan.shape[1]):\n",
        "    #    if dfff.iloc[j,10+1] == 2.0:\n",
        "    #        dfff.iloc[j,10+1] = 2\n",
        "    #    if dfff.iloc[j, 10+1] ==1.0:\n",
        "    #        dfff.iloc[j,10+1] =1\n",
        "\n",
        "    return dfff\n",
        "data_coord_avec_nan = creation_df_temp_2(data_avec_nan, coord_avec_nan)\n",
        "data_coord_avec_nan.info()\n",
        "\n"
      ],
      "execution_count": 22,
      "outputs": [
        {
          "output_type": "stream",
          "text": [
            "/usr/local/lib/python3.7/dist-packages/pandas/core/indexing.py:1781: SettingWithCopyWarning: \n",
            "A value is trying to be set on a copy of a slice from a DataFrame.\n",
            "Try using .loc[row_indexer,col_indexer] = value instead\n",
            "\n",
            "See the caveats in the documentation: https://pandas.pydata.org/pandas-docs/stable/user_guide/indexing.html#returning-a-view-versus-a-copy\n",
            "  self.obj[item_labels[indexer[info_axis]]] = value\n",
            "/usr/local/lib/python3.7/dist-packages/pandas/core/indexing.py:1743: SettingWithCopyWarning: \n",
            "A value is trying to be set on a copy of a slice from a DataFrame.\n",
            "Try using .loc[row_indexer,col_indexer] = value instead\n",
            "\n",
            "See the caveats in the documentation: https://pandas.pydata.org/pandas-docs/stable/user_guide/indexing.html#returning-a-view-versus-a-copy\n",
            "  isetter(ilocs[0], value)\n"
          ],
          "name": "stderr"
        },
        {
          "output_type": "stream",
          "text": [
            "<class 'pandas.core.frame.DataFrame'>\n",
            "Int64Index: 127115 entries, 0 to 127114\n",
            "Data columns (total 57 columns):\n",
            " #   Column   Non-Null Count   Dtype  \n",
            "---  ------   --------------   -----  \n",
            " 0   IDENT    127115 non-null  object \n",
            " 1   0        127115 non-null  float64\n",
            " 2   1        127115 non-null  float64\n",
            " 3   2        127115 non-null  float64\n",
            " 4   3        127115 non-null  float64\n",
            " 5   4        127115 non-null  float64\n",
            " 6   5        127115 non-null  float64\n",
            " 7   6        127115 non-null  float64\n",
            " 8   7        127115 non-null  float64\n",
            " 9   8        127115 non-null  float64\n",
            " 10  9        127115 non-null  float64\n",
            " 11  10       127115 non-null  float64\n",
            " 12  11       127115 non-null  float64\n",
            " 13  12       127115 non-null  float64\n",
            " 14  13       127115 non-null  float64\n",
            " 15  14       127115 non-null  float64\n",
            " 16  15       127115 non-null  float64\n",
            " 17  16       127115 non-null  float64\n",
            " 18  17       127115 non-null  float64\n",
            " 19  18       127115 non-null  float64\n",
            " 20  19       127115 non-null  float64\n",
            " 21  20       127115 non-null  float64\n",
            " 22  21       127115 non-null  float64\n",
            " 23  22       127115 non-null  float64\n",
            " 24  23       127115 non-null  float64\n",
            " 25  24       127115 non-null  float64\n",
            " 26  25       127115 non-null  float64\n",
            " 27  26       127115 non-null  float64\n",
            " 28  27       127115 non-null  float64\n",
            " 29  28       127115 non-null  float64\n",
            " 30  29       127115 non-null  float64\n",
            " 31  30       127115 non-null  float64\n",
            " 32  31       127115 non-null  float64\n",
            " 33  32       127115 non-null  float64\n",
            " 34  33       127115 non-null  float64\n",
            " 35  34       127115 non-null  float64\n",
            " 36  35       127115 non-null  float64\n",
            " 37  36       127115 non-null  float64\n",
            " 38  37       127115 non-null  float64\n",
            " 39  38       127115 non-null  float64\n",
            " 40  39       127115 non-null  float64\n",
            " 41  40       127115 non-null  float64\n",
            " 42  41       127115 non-null  float64\n",
            " 43  42       127115 non-null  float64\n",
            " 44  43       127115 non-null  float64\n",
            " 45  44       127115 non-null  float64\n",
            " 46  45       127115 non-null  float64\n",
            " 47  46       127115 non-null  float64\n",
            " 48  47       127115 non-null  float64\n",
            " 49  48       127115 non-null  float64\n",
            " 50  49       127115 non-null  float64\n",
            " 51  50       127115 non-null  float64\n",
            " 52  51       127115 non-null  float64\n",
            " 53  52       127115 non-null  float64\n",
            " 54  53       127115 non-null  float64\n",
            " 55  54       127115 non-null  float64\n",
            " 56  Top_mon  127115 non-null  int64  \n",
            "dtypes: float64(55), int64(1), object(1)\n",
            "memory usage: 56.2+ MB\n",
            "<class 'pandas.core.frame.DataFrame'>\n",
            "RangeIndex: 1219999 entries, 0 to 1219998\n",
            "Data columns (total 57 columns):\n",
            " #   Column   Non-Null Count    Dtype  \n",
            "---  ------   --------------    -----  \n",
            " 0   IDENT    1219999 non-null  object \n",
            " 1   0        1219999 non-null  float64\n",
            " 2   1        1219999 non-null  float64\n",
            " 3   2        1219999 non-null  float64\n",
            " 4   3        1219999 non-null  float64\n",
            " 5   4        1219999 non-null  float64\n",
            " 6   5        1219999 non-null  float64\n",
            " 7   6        1219999 non-null  float64\n",
            " 8   7        1219999 non-null  float64\n",
            " 9   8        1219999 non-null  float64\n",
            " 10  9        1219999 non-null  float64\n",
            " 11  10       1219999 non-null  float64\n",
            " 12  11       1219999 non-null  float64\n",
            " 13  12       1219999 non-null  float64\n",
            " 14  13       1219999 non-null  float64\n",
            " 15  14       1219999 non-null  float64\n",
            " 16  15       1219999 non-null  float64\n",
            " 17  16       1219999 non-null  float64\n",
            " 18  17       1219999 non-null  float64\n",
            " 19  18       1219999 non-null  float64\n",
            " 20  19       1219999 non-null  float64\n",
            " 21  20       1219999 non-null  float64\n",
            " 22  21       1219999 non-null  float64\n",
            " 23  22       1219999 non-null  float64\n",
            " 24  23       1219999 non-null  float64\n",
            " 25  24       1219999 non-null  float64\n",
            " 26  25       1219999 non-null  float64\n",
            " 27  26       1219999 non-null  float64\n",
            " 28  27       1219999 non-null  float64\n",
            " 29  28       1219999 non-null  float64\n",
            " 30  29       1219999 non-null  float64\n",
            " 31  30       1219999 non-null  float64\n",
            " 32  31       1219999 non-null  float64\n",
            " 33  32       1219999 non-null  float64\n",
            " 34  33       1219999 non-null  float64\n",
            " 35  34       1219999 non-null  float64\n",
            " 36  35       1219999 non-null  float64\n",
            " 37  36       1219999 non-null  float64\n",
            " 38  37       1219999 non-null  float64\n",
            " 39  38       1219999 non-null  float64\n",
            " 40  39       1219999 non-null  float64\n",
            " 41  40       1219999 non-null  float64\n",
            " 42  41       1219999 non-null  float64\n",
            " 43  42       1219999 non-null  float64\n",
            " 44  43       1219999 non-null  float64\n",
            " 45  44       1219999 non-null  float64\n",
            " 46  45       1219999 non-null  float64\n",
            " 47  46       1219999 non-null  float64\n",
            " 48  47       1219999 non-null  float64\n",
            " 49  48       1219999 non-null  float64\n",
            " 50  49       1219999 non-null  float64\n",
            " 51  50       1219999 non-null  float64\n",
            " 52  51       1219999 non-null  float64\n",
            " 53  52       1219999 non-null  float64\n",
            " 54  53       1219999 non-null  float64\n",
            " 55  54       1219999 non-null  float64\n",
            " 56  Top_mon  127115 non-null   object \n",
            "dtypes: float64(55), object(2)\n",
            "memory usage: 530.5+ MB\n"
          ],
          "name": "stdout"
        }
      ]
    },
    {
      "cell_type": "code",
      "metadata": {
        "id": "LJ4G93RJxEdo"
      },
      "source": [
        ""
      ],
      "execution_count": 22,
      "outputs": []
    },
    {
      "cell_type": "code",
      "metadata": {
        "id": "CuvxB6-qYNzJ",
        "colab": {
          "base_uri": "https://localhost:8080/"
        },
        "outputId": "8b4ef872-3260-41b7-af58-c4324959bbd6"
      },
      "source": [
        "from sklearn.discriminant_analysis import LinearDiscriminantAnalysis, QuadraticDiscriminantAnalysis\n",
        "\n",
        "from sklearn.metrics import f1_score, confusion_matrix, classification_report\n",
        "from sklearn.model_selection import train_test_split, learning_curve, GridSearchCV\n",
        "\n",
        "import imblearn\n",
        "from imblearn.combine import SMOTETomek\n",
        "from imblearn.under_sampling import TomekLinks\n",
        "from imblearn.over_sampling import SMOTE\n"
      ],
      "execution_count": 23,
      "outputs": [
        {
          "output_type": "stream",
          "text": [
            "/usr/local/lib/python3.7/dist-packages/sklearn/externals/six.py:31: FutureWarning: The module is deprecated in version 0.21 and will be removed in version 0.23 since we've dropped support for Python 2.7. Please rely on the official version of six (https://pypi.org/project/six/).\n",
            "  \"(https://pypi.org/project/six/).\", FutureWarning)\n",
            "/usr/local/lib/python3.7/dist-packages/sklearn/utils/deprecation.py:144: FutureWarning: The sklearn.neighbors.base module is  deprecated in version 0.22 and will be removed in version 0.24. The corresponding classes / functions should instead be imported from sklearn.neighbors. Anything that cannot be imported from sklearn.neighbors is now part of the private API.\n",
            "  warnings.warn(message, FutureWarning)\n"
          ],
          "name": "stderr"
        }
      ]
    },
    {
      "cell_type": "code",
      "metadata": {
        "id": "7ksFu0t_cirJ"
      },
      "source": [
        "#data_coord_nan.shape\n",
        "#train_X_s.shape"
      ],
      "execution_count": 24,
      "outputs": []
    },
    {
      "cell_type": "code",
      "metadata": {
        "id": "S0jwerFqbXh-"
      },
      "source": [
        "#data_non_corr = elimination_val_corr(data)\n",
        "#nb_var = data_non_corr.shape[1] - 1\n",
        "nb_var = data_coord_nan.shape[1] - 1\n",
        "\n",
        "train_set, test_set = train_test_split(data_coord_nan, test_size = 0.2, random_state=0) # , stratify =data_coord_nan[\"IFI+\"] )\n",
        "\n",
        "train_X_s = (train_set.iloc[:,1:nb_var]).to_numpy()\n",
        "train_Y_s = np.asanyarray(train_set.iloc[:,nb_var])\n",
        "\n",
        "test_X_s = (test_set.iloc[:,1:nb_var]).to_numpy()\n",
        "test_Y_s = np.asanyarray(test_set.iloc[:,nb_var])\n",
        "\n",
        "# comme les résulats sont en overfitting :\n",
        "# Résultat du traitement sur le train set (under-sampling et over-sampling)\n",
        "#abc_test = pd.read_csv(\"/content/drive/MyDrive/spad_score_method_1/spad_projection_FDFTOT21/sans_val_corr_spad_under_over_sampling.txt\", delim_whitespace=\"\\t\", header = None, low_memory=False, dtype=\"Int64\" ) #, dtype='Int64')\n",
        "#abc_np = abc_test.to_numpy(dtype=\"Int64\")\n",
        "\n",
        "#X_resampled = abc_np[:,:-1]\n",
        "#y_resampled = abc_np[:, abc_np.shape[1] -1 ]\n"
      ],
      "execution_count": 25,
      "outputs": []
    },
    {
      "cell_type": "code",
      "metadata": {
        "colab": {
          "base_uri": "https://localhost:8080/",
          "height": 231
        },
        "id": "iMyvFOxwXgcu",
        "outputId": "88bba783-0010-47f1-8e3c-edbf5682db79"
      },
      "source": [
        "\n",
        "# dimension du train set\n",
        "print(\"Sans aucun traitement sur le train set : \" , np.unique(train_Y_s, return_counts=True))\n",
        "\n",
        "# diminution des données\n",
        "t2 = TomekLinks()\n",
        "X_resampled, y_resampled = t2.fit_resample(train_X_s[:,:nb_var] , train_Y_s )\n",
        "print(\"Après under-sampling : \", np.unique(y_resampled, return_counts=True ))\n",
        "\n",
        "# augmentation des données\n",
        "tl = SMOTE()\n",
        "X_resampled, y_resampled = tl.fit_resample(X_resampled, y_resampled )\n",
        "print(\"Après over-smapling : \" , np.unique(y_resampled, return_counts=True ))\n",
        "\n",
        "'''\n",
        "# enregistrement du nouveau train set car le traitement du under-sampling prendre du temps \n",
        "pd.DataFrame(np.concatenate((X_resampled, y_resampled.reshape((y_resampled.shape[0],1)) ),\n",
        "                            axis=1)).to_csv(\"/content/drive/MyDrive/spad_score_method_1/spad_projection_FDFTOT21/val_all_spad_under_over_sampling.txt\",\n",
        "                                            sep=\" \", index =False , header = False )\n",
        "'''"
      ],
      "execution_count": 26,
      "outputs": [
        {
          "output_type": "stream",
          "text": [
            "Sans aucun traitement sur le train set :  (array([1, 2]), array([18777, 82915]))\n"
          ],
          "name": "stdout"
        },
        {
          "output_type": "stream",
          "text": [
            "/usr/local/lib/python3.7/dist-packages/sklearn/utils/deprecation.py:87: FutureWarning: Function safe_indexing is deprecated; safe_indexing is deprecated in version 0.22 and will be removed in version 0.24.\n",
            "  warnings.warn(msg, category=FutureWarning)\n",
            "/usr/local/lib/python3.7/dist-packages/sklearn/utils/deprecation.py:87: FutureWarning: Function safe_indexing is deprecated; safe_indexing is deprecated in version 0.22 and will be removed in version 0.24.\n",
            "  warnings.warn(msg, category=FutureWarning)\n"
          ],
          "name": "stderr"
        },
        {
          "output_type": "stream",
          "text": [
            "Après under-sampling :  (array([1, 2]), array([18777, 78722]))\n",
            "Après over-smapling :  (array([1, 2]), array([78722, 78722]))\n"
          ],
          "name": "stdout"
        },
        {
          "output_type": "execute_result",
          "data": {
            "application/vnd.google.colaboratory.intrinsic+json": {
              "type": "string"
            },
            "text/plain": [
              "'\\n# enregistrement du nouveau train set car le traitement du under-sampling prendre du temps \\npd.DataFrame(np.concatenate((X_resampled, y_resampled.reshape((y_resampled.shape[0],1)) ),\\n                            axis=1)).to_csv(\"/content/drive/MyDrive/spad_score_method_1/spad_projection_FDFTOT21/val_all_spad_under_over_sampling.txt\",\\n                                            sep=\" \", index =False , header = False )\\n'"
            ]
          },
          "metadata": {
            "tags": []
          },
          "execution_count": 26
        }
      ]
    },
    {
      "cell_type": "code",
      "metadata": {
        "colab": {
          "base_uri": "https://localhost:8080/"
        },
        "id": "tLasso34-MXx",
        "outputId": "ed85557f-8eca-47fa-e875-c6842ec987d2"
      },
      "source": [
        "model_LinearDiscriminantAnalysis = LinearDiscriminantAnalysis()\n",
        "param = {\"solver\" : [\"svd\",\"lsqr\", \"eigen\"], \"tol\" : [0.00001,0.0001,0.001,0.01]}\n",
        "\n",
        "grid_LinearDiscriminantAnalysis = GridSearchCV(model_LinearDiscriminantAnalysis, param_grid= param, cv = 4, scoring = \"f1\")\n",
        "resultat_grid_LinearDiscriminantAnalysis = grid_LinearDiscriminantAnalysis.fit(X_resampled, y_resampled)\n",
        "resultat_grid_LinearDiscriminantAnalysis.best_params_ "
      ],
      "execution_count": 27,
      "outputs": [
        {
          "output_type": "execute_result",
          "data": {
            "text/plain": [
              "{'solver': 'svd', 'tol': 1e-05}"
            ]
          },
          "metadata": {
            "tags": []
          },
          "execution_count": 27
        }
      ]
    },
    {
      "cell_type": "code",
      "metadata": {
        "colab": {
          "base_uri": "https://localhost:8080/",
          "height": 796
        },
        "id": "mtwy_DkreMi8",
        "outputId": "7e9be8e5-c7dd-40e2-f483-c2f1819f8938"
      },
      "source": [
        "final_model_ADL = LinearDiscriminantAnalysis()  # la valeur par defaut de la tolérence donne le même résultat que tol=1e-5\n",
        "evaluation(final_model_ADL, X_resampled, y_resampled, test_X_s, test_Y_s, scoring = \"recall\", plot=True)"
      ],
      "execution_count": 38,
      "outputs": [
        {
          "output_type": "stream",
          "text": [
            "test set : \n",
            "[[ 2675  2004]\n",
            " [ 8271 12473]]\n",
            "              precision    recall  f1-score   support\n",
            "\n",
            "           1       0.24      0.57      0.34      4679\n",
            "           2       0.86      0.60      0.71     20744\n",
            "\n",
            "    accuracy                           0.60     25423\n",
            "   macro avg       0.55      0.59      0.53     25423\n",
            "weighted avg       0.75      0.60      0.64     25423\n",
            "\n",
            "train set : \n",
            "[[45540 33182]\n",
            " [30366 48356]]\n",
            "              precision    recall  f1-score   support\n",
            "\n",
            "           1       0.60      0.58      0.59     78722\n",
            "           2       0.59      0.61      0.60     78722\n",
            "\n",
            "    accuracy                           0.60    157444\n",
            "   macro avg       0.60      0.60      0.60    157444\n",
            "weighted avg       0.60      0.60      0.60    157444\n",
            "\n"
          ],
          "name": "stdout"
        },
        {
          "output_type": "display_data",
          "data": {
            "image/png": "[encoded data removed]",
            "text/plain": [
              "<Figure size 720x432 with 1 Axes>"
            ]
          },
          "metadata": {
            "tags": [],
            "needs_background": "light"
          }
        }
      ]
    },
    {
      "cell_type": "code",
      "metadata": {
        "id": "YOVl16Po611_"
      },
      "source": [
        ""
      ],
      "execution_count": 38,
      "outputs": []
    },
    {
      "cell_type": "code",
      "metadata": {
        "colab": {
          "base_uri": "https://localhost:8080/"
        },
        "id": "aiN9NNXgjtkO",
        "outputId": "6d13da48-dd65-4dd5-f7dd-193955be6016"
      },
      "source": [
        "#classe pour l'analyse discriminante\n",
        "\n",
        "#instanciation\n",
        "adl = LinearDiscriminantAnalysis()\n",
        "#apprentissage\n",
        "adl.fit(coord_sans_nan,data_sans_nan[\"Top_mon\"])"
      ],
      "execution_count": 39,
      "outputs": [
        {
          "output_type": "execute_result",
          "data": {
            "text/plain": [
              "LinearDiscriminantAnalysis(n_components=None, priors=None, shrinkage=None,\n",
              "                           solver='svd', store_covariance=False, tol=0.0001)"
            ]
          },
          "metadata": {
            "tags": []
          },
          "execution_count": 39
        }
      ]
    },
    {
      "cell_type": "code",
      "metadata": {
        "id": "ixzqkiWMxz_6",
        "colab": {
          "base_uri": "https://localhost:8080/",
          "height": 419
        },
        "outputId": "3965defd-965f-4f20-feaf-194d2d404faf"
      },
      "source": [
        "#reconstitution de la fonction sur indicatrices (multiplication)\n",
        "fpValues = np.dot(fproj,np.transpose(adl.coef_))\n",
        "#print(fpValues)\n",
        "#affichage plus joli\n",
        "pd.DataFrame(fpValues,index=acm.col_labels_)"
      ],
      "execution_count": 40,
      "outputs": [
        {
          "output_type": "execute_result",
          "data": {
            "text/html": [
              "<div>\n",
              "<style scoped>\n",
              "    .dataframe tbody tr th:only-of-type {\n",
              "        vertical-align: middle;\n",
              "    }\n",
              "\n",
              "    .dataframe tbody tr th {\n",
              "        vertical-align: top;\n",
              "    }\n",
              "\n",
              "    .dataframe thead th {\n",
              "        text-align: right;\n",
              "    }\n",
              "</style>\n",
              "<table border=\"1\" class=\"dataframe\">\n",
              "  <thead>\n",
              "    <tr style=\"text-align: right;\">\n",
              "      <th></th>\n",
              "      <th>0</th>\n",
              "    </tr>\n",
              "  </thead>\n",
              "  <tbody>\n",
              "    <tr>\n",
              "      <th>TypeHabi_01</th>\n",
              "      <td>-0.110558</td>\n",
              "    </tr>\n",
              "    <tr>\n",
              "      <th>TypeHabi_02</th>\n",
              "      <td>0.047993</td>\n",
              "    </tr>\n",
              "    <tr>\n",
              "      <th>TypeHabi_03</th>\n",
              "      <td>-0.041137</td>\n",
              "    </tr>\n",
              "    <tr>\n",
              "      <th>TypeHabi_04</th>\n",
              "      <td>-0.478006</td>\n",
              "    </tr>\n",
              "    <tr>\n",
              "      <th>GeoFaz_Scl_11</th>\n",
              "      <td>-0.026874</td>\n",
              "    </tr>\n",
              "    <tr>\n",
              "      <th>...</th>\n",
              "      <td>...</td>\n",
              "    </tr>\n",
              "    <tr>\n",
              "      <th>Potentiel_prenom_17</th>\n",
              "      <td>-0.031524</td>\n",
              "    </tr>\n",
              "    <tr>\n",
              "      <th>Potentiel_prenom_18</th>\n",
              "      <td>-0.090097</td>\n",
              "    </tr>\n",
              "    <tr>\n",
              "      <th>Potentiel_prenom_19</th>\n",
              "      <td>-0.057832</td>\n",
              "    </tr>\n",
              "    <tr>\n",
              "      <th>Potentiel_prenom_20</th>\n",
              "      <td>-0.104537</td>\n",
              "    </tr>\n",
              "    <tr>\n",
              "      <th>Potentiel_prenom_21</th>\n",
              "      <td>-0.125313</td>\n",
              "    </tr>\n",
              "  </tbody>\n",
              "</table>\n",
              "<p>269 rows × 1 columns</p>\n",
              "</div>"
            ],
            "text/plain": [
              "                            0\n",
              "TypeHabi_01         -0.110558\n",
              "TypeHabi_02          0.047993\n",
              "TypeHabi_03         -0.041137\n",
              "TypeHabi_04         -0.478006\n",
              "GeoFaz_Scl_11       -0.026874\n",
              "...                       ...\n",
              "Potentiel_prenom_17 -0.031524\n",
              "Potentiel_prenom_18 -0.090097\n",
              "Potentiel_prenom_19 -0.057832\n",
              "Potentiel_prenom_20 -0.104537\n",
              "Potentiel_prenom_21 -0.125313\n",
              "\n",
              "[269 rows x 1 columns]"
            ]
          },
          "metadata": {
            "tags": []
          },
          "execution_count": 40
        }
      ]
    },
    {
      "cell_type": "code",
      "metadata": {
        "id": "Hrn05BAzx0CO",
        "colab": {
          "base_uri": "https://localhost:8080/"
        },
        "outputId": "252a74d2-9981-49a6-fc2c-ddbf52a97627"
      },
      "source": [
        "#data_coord_nan\n",
        "# TRAIN SET TEST SET\n",
        "vingtiles(model = final_model_ADL, data_orig = data_coord_nan, affichage=True,\n",
        "            save=True, path = \"/content/drive/MyDrive/spad_score_method_1/spad_projection_FDFTOT21/Fichier_excel_vingtiles/train_test_ACM_ADL_55.xlsx\")"
      ],
      "execution_count": 41,
      "outputs": [
        {
          "output_type": "stream",
          "text": [
            "                     IDENT     PROBA\n",
            "95031   000950320010408023  0.132357\n",
            "14967   000149680010258609  0.135429\n",
            "10617   000106180010255206  0.137616\n",
            "109645  001096460010519316  0.138390\n",
            "109646  001096470010519316  0.138390\n",
            "...                    ...       ...\n",
            "98476   000984770010411847  0.877001\n",
            "98477   000984780010411847  0.877001\n",
            "98478   000984790010411847  0.877001\n",
            "98479   000984800010411847  0.877001\n",
            "113297  001132980010524378  0.877867\n",
            "\n",
            "[127115 rows x 2 columns]\n",
            "0.851184    50\n",
            "0.819614    33\n",
            "0.632409    33\n",
            "0.744355    26\n",
            "0.748381    23\n",
            "            ..\n",
            "0.685551     1\n",
            "0.695374     1\n",
            "0.408050     1\n",
            "0.443637     1\n",
            "0.531586     1\n",
            "Name: PROBA, Length: 96552, dtype: int64\n",
            "                 PROBA\n",
            "95031   (0.131, 0.299]\n",
            "14967   (0.131, 0.299]\n",
            "10617   (0.131, 0.299]\n",
            "109645  (0.131, 0.299]\n",
            "109646  (0.131, 0.299]\n",
            "...                ...\n",
            "98476   (0.685, 0.878]\n",
            "98477   (0.685, 0.878]\n",
            "98478   (0.685, 0.878]\n",
            "98479   (0.685, 0.878]\n",
            "113297  (0.685, 0.878]\n",
            "\n",
            "[127115 rows x 1 columns]\n",
            "Top_mon            1     2  TOTAL\n",
            "TRANCHES                         \n",
            "(0.131, 0.299]   581  5775   6356\n",
            "(0.299, 0.334]   711  5645   6356\n",
            "(0.334, 0.359]   772  5584   6356\n",
            "(0.359, 0.38]    782  5574   6356\n",
            "(0.38, 0.399]    804  5551   6355\n",
            "(0.399, 0.416]   880  5476   6356\n",
            "(0.416, 0.432]   939  5416   6355\n",
            "(0.432, 0.448]   929  5428   6357\n",
            "(0.448, 0.463]   994  5361   6355\n",
            "(0.463, 0.478]  1014  5343   6357\n",
            "(0.478, 0.493]  1076  5278   6354\n",
            "(0.493, 0.508]  1096  5260   6356\n",
            "(0.508, 0.523]  1236  5120   6356\n",
            "(0.523, 0.539]  1249  5106   6355\n",
            "(0.539, 0.557]  1266  5090   6356\n",
            "(0.557, 0.578]  1392  4964   6356\n",
            "(0.578, 0.603]  1548  4807   6355\n",
            "(0.603, 0.634]  1633  4723   6356\n",
            "(0.634, 0.685]  1952  4406   6358\n",
            "(0.685, 0.878]  2602  3752   6354\n"
          ],
          "name": "stdout"
        }
      ]
    },
    {
      "cell_type": "code",
      "metadata": {
        "id": "bzRRySpGoafi",
        "colab": {
          "base_uri": "https://localhost:8080/"
        },
        "outputId": "bc2d5028-c44d-427c-d447-741b1733f341"
      },
      "source": [
        "# INDIVIDUS SANS TARGET\n",
        "vingtiles_ind_sans_target(model = final_model_ADL, data_orig= data_coord_avec_nan[(data_coord_avec_nan.isnull()).sum(axis=1) != 0], affichage=True,\n",
        "            save=True, path = \"/content/drive/MyDrive/spad_score_method_1/spad_projection_FDFTOT21/Fichier_excel_vingtiles/ind_sans_target_ACM_ADL_55.xlsx\")"
      ],
      "execution_count": 42,
      "outputs": [
        {
          "output_type": "stream",
          "text": [
            "                      IDENT     PROBA\n",
            "777325   006502110280062284  0.095884\n",
            "742413   006152990280027372  0.097734\n",
            "529969   004028550190018414  0.099811\n",
            "151774   000246600020014496  0.106769\n",
            "142606   000154920020005328  0.108041\n",
            "...                     ...       ...\n",
            "398770   002716560130018935  0.860323\n",
            "380360   002532460130000525  0.868097\n",
            "388670   002615560130008835  0.872727\n",
            "397360   002702460130017525  0.883293\n",
            "1128044  010009300370017393  0.891299\n",
            "\n",
            "[1092884 rows x 2 columns]\n",
            "0.744355    303\n",
            "0.838111    229\n",
            "0.796958    223\n",
            "0.819614    222\n",
            "0.823823    214\n",
            "           ... \n",
            "0.462610      1\n",
            "0.520382      1\n",
            "0.704124      1\n",
            "0.545472      1\n",
            "0.491367      1\n",
            "Name: PROBA, Length: 838236, dtype: int64\n",
            "                   PROBA\n",
            "777325   (0.0949, 0.299]\n",
            "742413   (0.0949, 0.299]\n",
            "529969   (0.0949, 0.299]\n",
            "151774   (0.0949, 0.299]\n",
            "142606   (0.0949, 0.299]\n",
            "...                  ...\n",
            "398770    (0.696, 0.891]\n",
            "380360    (0.696, 0.891]\n",
            "388670    (0.696, 0.891]\n",
            "397360    (0.696, 0.891]\n",
            "1128044   (0.696, 0.891]\n",
            "\n",
            "[1092884 rows x 1 columns]\n",
            "                      IDENT     PROBA         TRANCHES\n",
            "777325   006502110280062284  0.095884  (0.0949, 0.299]\n",
            "742413   006152990280027372  0.097734  (0.0949, 0.299]\n",
            "529969   004028550190018414  0.099811  (0.0949, 0.299]\n",
            "151774   000246600020014496  0.106769  (0.0949, 0.299]\n",
            "142606   000154920020005328  0.108041  (0.0949, 0.299]\n",
            "...                     ...       ...              ...\n",
            "398770   002716560130018935  0.860323   (0.696, 0.891]\n",
            "380360   002532460130000525  0.868097   (0.696, 0.891]\n",
            "388670   002615560130008835  0.872727   (0.696, 0.891]\n",
            "397360   002702460130017525  0.883293   (0.696, 0.891]\n",
            "1128044  010009300370017393  0.891299   (0.696, 0.891]\n",
            "\n",
            "[1092884 rows x 3 columns]\n",
            "(0.429, 0.446]     54641\n",
            "(0.463, 0.479]     54642\n",
            "(0.375, 0.394]     54642\n",
            "(0.512, 0.529]     54643\n",
            "(0.614, 0.647]     54643\n",
            "(0.547, 0.566]     54644\n",
            "(0.331, 0.355]     54644\n",
            "(0.588, 0.614]     54644\n",
            "(0.647, 0.696]     54644\n",
            "(0.299, 0.331]     54644\n",
            "(0.479, 0.496]     54644\n",
            "(0.696, 0.891]     54645\n",
            "(0.529, 0.547]     54645\n",
            "(0.566, 0.588]     54645\n",
            "(0.0949, 0.299]    54645\n",
            "(0.496, 0.512]     54645\n",
            "(0.446, 0.463]     54646\n",
            "(0.394, 0.412]     54646\n",
            "(0.412, 0.429]     54646\n",
            "(0.355, 0.375]     54646\n",
            "Name: TRANCHES, dtype: int64\n",
            "           TRANCHES COUNTS\n",
            "0   (0.0949, 0.299]  54645\n",
            "1    (0.299, 0.331]  54644\n",
            "2    (0.331, 0.355]  54644\n",
            "3    (0.355, 0.375]  54646\n",
            "4    (0.375, 0.394]  54642\n",
            "5    (0.394, 0.412]  54646\n",
            "6    (0.412, 0.429]  54646\n",
            "7    (0.429, 0.446]  54641\n",
            "8    (0.446, 0.463]  54646\n",
            "9    (0.463, 0.479]  54642\n",
            "10   (0.479, 0.496]  54644\n",
            "11   (0.496, 0.512]  54645\n",
            "12   (0.512, 0.529]  54643\n",
            "13   (0.529, 0.547]  54645\n",
            "14   (0.547, 0.566]  54644\n",
            "15   (0.566, 0.588]  54645\n",
            "16   (0.588, 0.614]  54644\n",
            "17   (0.614, 0.647]  54643\n",
            "18   (0.647, 0.696]  54644\n",
            "19   (0.696, 0.891]  54645\n"
          ],
          "name": "stdout"
        }
      ]
    },
    {
      "cell_type": "code",
      "metadata": {
        "id": "Tgxw6vZHoah_"
      },
      "source": [
        ""
      ],
      "execution_count": 42,
      "outputs": []
    },
    {
      "cell_type": "code",
      "metadata": {
        "id": "jaVuYmyQoakO"
      },
      "source": [
        ""
      ],
      "execution_count": 42,
      "outputs": []
    },
    {
      "cell_type": "code",
      "metadata": {
        "id": "td8tREtarT8x",
        "colab": {
          "base_uri": "https://localhost:8080/"
        },
        "outputId": "015f0001-f509-4c09-8444-56f7df7d261b"
      },
      "source": [
        "model_ADQ = QuadraticDiscriminantAnalysis()\n",
        "evaluation(model_ADQ, X_resampled, y_resampled, test_X_s, test_Y_s, scoring = \"f1\", plot=False)\n"
      ],
      "execution_count": 43,
      "outputs": [
        {
          "output_type": "stream",
          "text": [
            "test set : \n",
            "[[ 2648  2031]\n",
            " [ 8192 12552]]\n",
            "              precision    recall  f1-score   support\n",
            "\n",
            "           1       0.24      0.57      0.34      4679\n",
            "           2       0.86      0.61      0.71     20744\n",
            "\n",
            "    accuracy                           0.60     25423\n",
            "   macro avg       0.55      0.59      0.53     25423\n",
            "weighted avg       0.75      0.60      0.64     25423\n",
            "\n",
            "train set : \n",
            "[[45369 33353]\n",
            " [30226 48496]]\n",
            "              precision    recall  f1-score   support\n",
            "\n",
            "           1       0.60      0.58      0.59     78722\n",
            "           2       0.59      0.62      0.60     78722\n",
            "\n",
            "    accuracy                           0.60    157444\n",
            "   macro avg       0.60      0.60      0.60    157444\n",
            "weighted avg       0.60      0.60      0.60    157444\n",
            "\n",
            "GRAPHIQUE NON DEMANDE\n"
          ],
          "name": "stdout"
        }
      ]
    },
    {
      "cell_type": "code",
      "metadata": {
        "id": "ncpYOwNVqtX6",
        "colab": {
          "base_uri": "https://localhost:8080/"
        },
        "outputId": "2e0e072d-e2f3-431e-9430-6eb50c90f7e6"
      },
      "source": [
        "#data_coord_nan\n",
        "# TRAIN SET TEST SET\n",
        "vingtiles(model =model_ADQ, data_orig = data_coord_nan, affichage=True,\n",
        "            save=True, path = \"/content/drive/MyDrive/spad_score_method_1/spad_projection_FDFTOT21/Fichier_excel_vingtiles/train_test_ACM_ADQ_55.xlsx\")"
      ],
      "execution_count": 44,
      "outputs": [
        {
          "output_type": "stream",
          "text": [
            "                     IDENT          PROBA\n",
            "20506   000205070010263606   0.000000e+00\n",
            "20505   000205060010263606   0.000000e+00\n",
            "51438   000514390010364732   0.000000e+00\n",
            "55599   000556000010368142  2.642561e-225\n",
            "19833   000198340010262832  2.321103e-217\n",
            "...                    ...            ...\n",
            "101059  001010600010414446   1.000000e+00\n",
            "63000   000630010010373933   1.000000e+00\n",
            "116524  001165250010527408   1.000000e+00\n",
            "42798   000427990010357590   1.000000e+00\n",
            "33726   000337270010343876   1.000000e+00\n",
            "\n",
            "[127115 rows x 2 columns]\n",
            "1.000000    206\n",
            "1.000000     50\n",
            "0.990993     33\n",
            "1.000000     33\n",
            "0.999992     26\n",
            "           ... \n",
            "0.073185      1\n",
            "0.000079      1\n",
            "0.938091      1\n",
            "0.000196      1\n",
            "0.442068      1\n",
            "Name: PROBA, Length: 96400, dtype: int64\n",
            "                       PROBA\n",
            "20506   (-1e-05, 3.8601e-05]\n",
            "20505   (-1e-05, 3.8601e-05]\n",
            "51438   (-1e-05, 3.8601e-05]\n",
            "55599   (-1e-05, 3.8601e-05]\n",
            "19833   (-1e-05, 3.8601e-05]\n",
            "...                      ...\n",
            "101059        (0.99995, 1.0]\n",
            "63000         (0.99995, 1.0]\n",
            "116524        (0.99995, 1.0]\n",
            "42798         (0.99995, 1.0]\n",
            "33726         (0.99995, 1.0]\n",
            "\n",
            "[127115 rows x 1 columns]\n",
            "Top_mon                     1     2  TOTAL\n",
            "TRANCHES                                  \n",
            "(-1e-05, 3.8601e-05]      678  5678   6356\n",
            "(3.8601e-05, 0.0010458]   796  5560   6356\n",
            "(0.0010458, 0.0071913]    748  5608   6356\n",
            "(0.0071913, 0.02121]      841  5514   6355\n",
            "(0.02121, 0.045335]       839  5517   6356\n",
            "(0.045335, 0.080131]      861  5495   6356\n",
            "(0.080131, 0.12842]       847  5508   6355\n",
            "(0.12842, 0.18592]        937  5419   6356\n",
            "(0.18592, 0.25387]        954  5402   6356\n",
            "(0.25387, 0.33774]       1023  5333   6356\n",
            "(0.33774, 0.43885]       1109  5247   6356\n",
            "(0.43885, 0.5477]        1171  5186   6357\n",
            "(0.5477, 0.65665]        1212  5142   6354\n",
            "(0.65665, 0.7541]        1309  5046   6355\n",
            "(0.7541, 0.8404]         1394  4962   6356\n",
            "(0.8404, 0.91377]        1413  4944   6357\n",
            "(0.91377, 0.96625]       1577  4778   6355\n",
            "(0.96625, 0.99617]       1685  4670   6355\n",
            "(0.99617, 0.99995]       1751  4605   6356\n",
            "(0.99995, 1.0]           2311  4045   6356\n"
          ],
          "name": "stdout"
        }
      ]
    },
    {
      "cell_type": "code",
      "metadata": {
        "id": "m_GYkyDqqtaA",
        "colab": {
          "base_uri": "https://localhost:8080/"
        },
        "outputId": "3c9e071a-d426-4c1f-92d6-41ed4ef2c55d"
      },
      "source": [
        "# INDIVIDUS SANS TARGET\n",
        "vingtiles_ind_sans_target(model = model_ADQ, data_orig= data_coord_avec_nan[(data_coord_avec_nan.isnull()).sum(axis=1) != 0], affichage=True,\n",
        "            save=True, path = \"/content/drive/MyDrive/spad_score_method_1/spad_projection_FDFTOT21/Fichier_excel_vingtiles/ind_sans_target_ACM_ADQ_55.xlsx\")"
      ],
      "execution_count": 45,
      "outputs": [
        {
          "output_type": "stream",
          "text": [
            "                      IDENT          PROBA\n",
            "382162   002550480130002327   0.000000e+00\n",
            "769490   006423760280054449   0.000000e+00\n",
            "384136   002570220130004301   0.000000e+00\n",
            "630804   005036900220045223   0.000000e+00\n",
            "1121129  009940150370010478  4.132133e-232\n",
            "...                     ...            ...\n",
            "698573   005714590270003532   1.000000e+00\n",
            "767018   006399040280051977   1.000000e+00\n",
            "157844   000307300020020566   1.000000e+00\n",
            "618234   004911200220032653   1.000000e+00\n",
            "756724   006296100280041683   1.000000e+00\n",
            "\n",
            "[1092884 rows x 2 columns]\n",
            "1.000000    1323\n",
            "0.999992     303\n",
            "1.000000     229\n",
            "0.999999     223\n",
            "1.000000     222\n",
            "            ... \n",
            "0.528273       1\n",
            "0.001382       1\n",
            "0.969128       1\n",
            "0.646282       1\n",
            "0.609922       1\n",
            "Name: PROBA, Length: 837003, dtype: int64\n",
            "                        PROBA\n",
            "382162   (-1e-05, 8.0772e-05]\n",
            "769490   (-1e-05, 8.0772e-05]\n",
            "384136   (-1e-05, 8.0772e-05]\n",
            "630804   (-1e-05, 8.0772e-05]\n",
            "1121129  (-1e-05, 8.0772e-05]\n",
            "...                       ...\n",
            "698573         (0.99996, 1.0]\n",
            "767018         (0.99996, 1.0]\n",
            "157844         (0.99996, 1.0]\n",
            "618234         (0.99996, 1.0]\n",
            "756724         (0.99996, 1.0]\n",
            "\n",
            "[1092884 rows x 1 columns]\n",
            "                      IDENT          PROBA              TRANCHES\n",
            "382162   002550480130002327   0.000000e+00  (-1e-05, 8.0772e-05]\n",
            "769490   006423760280054449   0.000000e+00  (-1e-05, 8.0772e-05]\n",
            "384136   002570220130004301   0.000000e+00  (-1e-05, 8.0772e-05]\n",
            "630804   005036900220045223   0.000000e+00  (-1e-05, 8.0772e-05]\n",
            "1121129  009940150370010478  4.132133e-232  (-1e-05, 8.0772e-05]\n",
            "...                     ...            ...                   ...\n",
            "698573   005714590270003532   1.000000e+00        (0.99996, 1.0]\n",
            "767018   006399040280051977   1.000000e+00        (0.99996, 1.0]\n",
            "157844   000307300020020566   1.000000e+00        (0.99996, 1.0]\n",
            "618234   004911200220032653   1.000000e+00        (0.99996, 1.0]\n",
            "756724   006296100280041683   1.000000e+00        (0.99996, 1.0]\n",
            "\n",
            "[1092884 rows x 3 columns]\n",
            "(0.96821, 0.99679]         54641\n",
            "(0.021339, 0.043804]       54643\n",
            "(0.043804, 0.075871]       54644\n",
            "(0.31917, 0.41825]         54644\n",
            "(0.0013992, 0.0080096]     54644\n",
            "(0.41825, 0.53222]         54644\n",
            "(0.24025, 0.31917]         54644\n",
            "(0.53222, 0.64987]         54644\n",
            "(0.75375, 0.84312]         54644\n",
            "(0.11901, 0.17368]         54644\n",
            "(0.99679, 0.99996]         54644\n",
            "(8.0772e-05, 0.0013992]    54644\n",
            "(0.17368, 0.24025]         54644\n",
            "(0.91748, 0.96821]         54645\n",
            "(0.075871, 0.11901]        54645\n",
            "(0.99996, 1.0]             54645\n",
            "(-1e-05, 8.0772e-05]       54645\n",
            "(0.0080096, 0.021339]      54645\n",
            "(0.64987, 0.75375]         54645\n",
            "(0.84312, 0.91748]         54646\n",
            "Name: TRANCHES, dtype: int64\n",
            "                   TRANCHES COUNTS\n",
            "0      (-1e-05, 8.0772e-05]  54645\n",
            "1   (8.0772e-05, 0.0013992]  54644\n",
            "2    (0.0013992, 0.0080096]  54644\n",
            "3     (0.0080096, 0.021339]  54645\n",
            "4      (0.021339, 0.043804]  54643\n",
            "5      (0.043804, 0.075871]  54644\n",
            "6       (0.075871, 0.11901]  54645\n",
            "7        (0.11901, 0.17368]  54644\n",
            "8        (0.17368, 0.24025]  54644\n",
            "9        (0.24025, 0.31917]  54644\n",
            "10       (0.31917, 0.41825]  54644\n",
            "11       (0.41825, 0.53222]  54644\n",
            "12       (0.53222, 0.64987]  54644\n",
            "13       (0.64987, 0.75375]  54645\n",
            "14       (0.75375, 0.84312]  54644\n",
            "15       (0.84312, 0.91748]  54646\n",
            "16       (0.91748, 0.96821]  54645\n",
            "17       (0.96821, 0.99679]  54641\n",
            "18       (0.99679, 0.99996]  54644\n",
            "19           (0.99996, 1.0]  54645\n"
          ],
          "name": "stdout"
        }
      ]
    },
    {
      "cell_type": "code",
      "metadata": {
        "id": "OgVGcJpOh83C"
      },
      "source": [
        "###############################################################################\n",
        "###############################################################################"
      ],
      "execution_count": 36,
      "outputs": []
    },
    {
      "cell_type": "code",
      "metadata": {
        "colab": {
          "base_uri": "https://localhost:8080/"
        },
        "id": "GjEC3Y3AfrGT",
        "outputId": "e94fab93-2616-4510-d8a8-bdf891bcd23d"
      },
      "source": [
        "# SANS UNDER-SAMPLING ET OVER-SAMPLING\n",
        "\n",
        "print(\"ADL test sans under-sampling et over_sampling\")\n",
        "test_model_ADL = LinearDiscriminantAnalysis()  # la valeur par defaut de la tolérence donne le même résultat que tol=1e-5\n",
        "evaluation(test_model_ADL, train_X_s, train_Y_s, test_X_s, test_Y_s, scoring = \"f1\", plot=False)\n",
        "\n",
        "print(\"ADQ test sans under-sampling et over_sampling\")\n",
        "test_model_ADQ = QuadraticDiscriminantAnalysis()  # la valeur par defaut de la tolérence donne le même résultat que tol=1e-5\n",
        "evaluation(test_model_ADQ, train_X_s, train_Y_s, test_X_s, test_Y_s, scoring = \"f1\", plot=False)\n",
        "\n",
        "vingtiles(model =test_model_ADQ, data_orig = data_coord_nan, affichage=True,\n",
        "          save=False, path = \"/content/drive/MyDrive/spad_score_method_1/spad_projection_FDFTOT21/Fichier_excel_vingtiles/train_test_ADL.xlsx\")\n"
      ],
      "execution_count": 37,
      "outputs": [
        {
          "output_type": "stream",
          "text": [
            "ADL test sans under-sampling et over_sampling\n",
            "test set : \n",
            "[[  170  4509]\n",
            " [  222 20522]]\n",
            "              precision    recall  f1-score   support\n",
            "\n",
            "           1       0.43      0.04      0.07      4679\n",
            "           2       0.82      0.99      0.90     20744\n",
            "\n",
            "    accuracy                           0.81     25423\n",
            "   macro avg       0.63      0.51      0.48     25423\n",
            "weighted avg       0.75      0.81      0.74     25423\n",
            "\n",
            "train set : \n",
            "[[  785 17992]\n",
            " [  862 82053]]\n",
            "              precision    recall  f1-score   support\n",
            "\n",
            "           1       0.48      0.04      0.08     18777\n",
            "           2       0.82      0.99      0.90     82915\n",
            "\n",
            "    accuracy                           0.81    101692\n",
            "   macro avg       0.65      0.52      0.49    101692\n",
            "weighted avg       0.76      0.81      0.75    101692\n",
            "\n",
            "GRAPHIQUE NON DEMANDE\n",
            "ADQ test sans under-sampling et over_sampling\n",
            "test set : \n",
            "[[ 1545  3134]\n",
            " [ 4020 16724]]\n",
            "              precision    recall  f1-score   support\n",
            "\n",
            "           1       0.28      0.33      0.30      4679\n",
            "           2       0.84      0.81      0.82     20744\n",
            "\n",
            "    accuracy                           0.72     25423\n",
            "   macro avg       0.56      0.57      0.56     25423\n",
            "weighted avg       0.74      0.72      0.73     25423\n",
            "\n",
            "train set : \n",
            "[[ 6225 12552]\n",
            " [15708 67207]]\n",
            "              precision    recall  f1-score   support\n",
            "\n",
            "           1       0.28      0.33      0.31     18777\n",
            "           2       0.84      0.81      0.83     82915\n",
            "\n",
            "    accuracy                           0.72    101692\n",
            "   macro avg       0.56      0.57      0.57    101692\n",
            "weighted avg       0.74      0.72      0.73    101692\n",
            "\n",
            "GRAPHIQUE NON DEMANDE\n",
            "                     IDENT  PROBA\n",
            "25198   000251990010327937    0.0\n",
            "51438   000514390010364732    0.0\n",
            "20506   000205070010263606    0.0\n",
            "20505   000205060010263606    0.0\n",
            "19833   000198340010262832    0.0\n",
            "...                    ...    ...\n",
            "112730  001127310010522857    1.0\n",
            "113297  001132980010524378    1.0\n",
            "19306   000193070010262285    1.0\n",
            "34291   000342920010344502    1.0\n",
            "3619    000036200010038556    1.0\n",
            "\n",
            "[127115 rows x 2 columns]\n",
            "1.000000    247\n",
            "1.000000     50\n",
            "0.972728     33\n",
            "1.000000     33\n",
            "0.999935     26\n",
            "           ... \n",
            "0.664641      1\n",
            "0.000035      1\n",
            "0.994793      1\n",
            "0.108372      1\n",
            "0.624328      1\n",
            "Name: PROBA, Length: 96370, dtype: int64\n",
            "                       PROBA\n",
            "25198   (-0.0001, 8.886e-05]\n",
            "51438   (-0.0001, 8.886e-05]\n",
            "20506   (-0.0001, 8.886e-05]\n",
            "20505   (-0.0001, 8.886e-05]\n",
            "19833   (-0.0001, 8.886e-05]\n",
            "...                      ...\n",
            "112730         (0.9996, 1.0]\n",
            "113297         (0.9996, 1.0]\n",
            "19306          (0.9996, 1.0]\n",
            "34291          (0.9996, 1.0]\n",
            "3619           (0.9996, 1.0]\n",
            "\n",
            "[127115 rows x 1 columns]\n",
            "Top_mon                    1     2  TOTAL\n",
            "TRANCHES                                 \n",
            "(-0.0001, 8.886e-05]     688  5668   6356\n",
            "(8.886e-05, 0.0008074]   732  5625   6357\n",
            "(0.0008074, 0.002694]    761  5594   6355\n",
            "(0.002694, 0.006022]     804  5551   6355\n",
            "(0.006022, 0.01061]      820  5536   6356\n",
            "(0.01061, 0.01684]       854  5502   6356\n",
            "(0.01684, 0.02511]       889  5466   6355\n",
            "(0.02511, 0.03644]       966  5390   6356\n",
            "(0.03644, 0.05144]       955  5401   6356\n",
            "(0.05144, 0.07171]      1051  5305   6356\n",
            "(0.07171, 0.1028]       1169  5187   6356\n",
            "(0.1028, 0.1459]        1133  5222   6355\n",
            "(0.1459, 0.2051]        1198  5158   6356\n",
            "(0.2051, 0.2841]        1288  5067   6355\n",
            "(0.2841, 0.3969]        1396  4960   6356\n",
            "(0.3969, 0.5599]        1471  4885   6356\n",
            "(0.5599, 0.7897]        1582  4773   6355\n",
            "(0.7897, 0.9739]        1654  4702   6356\n",
            "(0.9739, 0.9996]        1674  4683   6357\n",
            "(0.9996, 1.0]           2371  3984   6355\n"
          ],
          "name": "stdout"
        },
        {
          "output_type": "stream",
          "text": [
            "/usr/local/lib/python3.7/dist-packages/ipykernel_launcher.py:133: SettingWithCopyWarning: \n",
            "A value is trying to be set on a copy of a slice from a DataFrame.\n",
            "Try using .loc[row_indexer,col_indexer] = value instead\n",
            "\n",
            "See the caveats in the documentation: https://pandas.pydata.org/pandas-docs/stable/user_guide/indexing.html#returning-a-view-versus-a-copy\n"
          ],
          "name": "stderr"
        }
      ]
    },
    {
      "cell_type": "code",
      "metadata": {
        "id": "zNo_JpzffrI-"
      },
      "source": [
        ""
      ],
      "execution_count": 37,
      "outputs": []
    },
    {
      "cell_type": "code",
      "metadata": {
        "id": "8kj3m4VlfrMh"
      },
      "source": [
        ""
      ],
      "execution_count": null,
      "outputs": []
    },
    {
      "cell_type": "code",
      "metadata": {
        "id": "-uG3-b8GPx1r"
      },
      "source": [
        "#################################################################################\n",
        "#################################################################################"
      ],
      "execution_count": null,
      "outputs": []
    },
    {
      "cell_type": "code",
      "metadata": {
        "id": "CfLeYRkTPx4H"
      },
      "source": [
        ""
      ],
      "execution_count": null,
      "outputs": []
    },
    {
      "cell_type": "code",
      "metadata": {
        "id": "e3EFAWmGPx62"
      },
      "source": [
        ""
      ],
      "execution_count": null,
      "outputs": []
    },
    {
      "cell_type": "code",
      "metadata": {
        "id": "IZcwARe4QFf2"
      },
      "source": [
        ""
      ],
      "execution_count": null,
      "outputs": []
    },
    {
      "cell_type": "code",
      "metadata": {
        "id": "0csF8LqVx0Ee"
      },
      "source": [
        "\n",
        "'''\n",
        "from sklearn.preprocessing import KBinsDiscretizer\n",
        "# discrétisation des variables continues (les valeurs manquantes doivent être gérées en amont)\n",
        " c'est qui est bien avec KBinsDiscretizer est qu'il s'adapte aux éventuelles partitions au\n",
        "sein d'une variable. En d'autres termes, si la méthode n'arrive pas à partitionner les individus\n",
        "en k partitions, alors elle esssayera de les partitionner en k-1 partitions, et ainsi de suite, \n",
        "jusqu'à atteindre 1 partition (il faut faire attention avec les variables ayant uniquement \n",
        "une modalité). Lorsque la méthode rencontre ce cas, elle affichera \"UserWaring\" pour informer \n",
        "l'utilisateur de celui-ci ainsi que les variables concernées. Ceci sera utile plus tard.\n",
        "\n",
        "\n",
        "method_discre = KBinsDiscretizer(n_bins=4, encode='ordinal', strategy='quantile') \n",
        "method_discre.fit(data.iloc[:,1:23])\n",
        "resultat_discre = method_discre.transform(data.iloc[:,1:23])\n",
        "resultat_discre\n",
        "\n",
        "# construction du data frame après discrétisation\n",
        "data2_index = data.iloc[:,0]\n",
        "df_resultat_discre = pd.DataFrame(resultat_discre,columns=colonnes[1:23], dtype=int )\n",
        "data_final = pd.concat([data2_index, df_resultat_discre,data[\"IFI+\"]], axis=1 ) #data2_index\n",
        "data_final\n",
        "\n",
        "#nombre_mod(data_final)\n",
        "#nombre_mod(data)\n",
        "\n",
        "# description des modalités d'une variable\n",
        "for k in range(1,data_final.shape[1]):\n",
        "    print(data_final.iloc[:,k].value_counts(dropna=True)); print(\"=\"*50)\n",
        "\n",
        "# description des modalités d'une variable\n",
        "for k in range(1,data.shape[1]):\n",
        "    print(data.iloc[:,k].value_counts(dropna=True)); print(\"=\"*50)\n",
        "\n",
        "'''\n"
      ],
      "execution_count": null,
      "outputs": []
    },
    {
      "cell_type": "code",
      "metadata": {
        "id": "SIKMz_STz4fn"
      },
      "source": [
        "###########################################################################################################\n",
        "#  PIPELINE"
      ],
      "execution_count": null,
      "outputs": []
    },
    {
      "cell_type": "code",
      "metadata": {
        "id": "3oAVMbZqz9eK"
      },
      "source": [
        "from sklearn.pipeline import Pipeline, make_pipeline"
      ],
      "execution_count": null,
      "outputs": []
    },
    {
      "cell_type": "code",
      "metadata": {
        "id": "jAZ0dEGzIgry"
      },
      "source": [
        "disqual =  Pipeline([(\"acm\", MCA(var_labels = data.columns[1:num_var_max], )),(\"adl\", LinearDiscriminantAnalysis())])"
      ],
      "execution_count": null,
      "outputs": []
    },
    {
      "cell_type": "code",
      "metadata": {
        "id": "_YNg4cZgIgu-"
      },
      "source": [
        "disqual.fit(data.iloc[:127115, 1:-1].values, data.iloc[:127115, num_var_max] )\n",
        "\n"
      ],
      "execution_count": null,
      "outputs": []
    },
    {
      "cell_type": "code",
      "metadata": {
        "id": "q3k4jqMm5plF"
      },
      "source": [
        "#accès à l'ACM, nombre de composants\n",
        "print(disqual.named_steps[\"acm\"].n_components_)\n"
      ],
      "execution_count": null,
      "outputs": []
    },
    {
      "cell_type": "code",
      "metadata": {
        "id": "XEvgv1RcU149"
      },
      "source": [
        "#afficher les valeurs propres\n",
        "disqual.named_steps[\"acm\"].plot_eigenvalues()\n"
      ],
      "execution_count": null,
      "outputs": []
    },
    {
      "cell_type": "code",
      "metadata": {
        "id": "Kx5lHEqr5vn8"
      },
      "source": [
        "#coefs. de la fonction score\n",
        "print(disqual.named_steps[\"adl\"].coef_)\n"
      ],
      "execution_count": null,
      "outputs": []
    },
    {
      "cell_type": "code",
      "metadata": {
        "id": "Bjg0uW_z5vrq"
      },
      "source": [
        "#prediction\n",
        "pVote = disqual.predict(vote_test.iloc[:,:-1].values)\n",
        "print(numpy.unique(pVote,return_counts=True))\n"
      ],
      "execution_count": null,
      "outputs": []
    },
    {
      "cell_type": "code",
      "metadata": {
        "id": "9zSE6MTn6CMP"
      },
      "source": [
        "#nombres de facteurs à tester\n",
        "parametres = [{\"acm__n_components\":[1,2,5,10,15,20,25,30,32]}]"
      ],
      "execution_count": null,
      "outputs": []
    },
    {
      "cell_type": "code",
      "metadata": {
        "id": "m0czJyy46CPC"
      },
      "source": [
        ""
      ],
      "execution_count": null,
      "outputs": []
    },
    {
      "cell_type": "code",
      "metadata": {
        "id": "blbzUKqT8HXP"
      },
      "source": [
        ""
      ],
      "execution_count": null,
      "outputs": []
    }
  ]
}