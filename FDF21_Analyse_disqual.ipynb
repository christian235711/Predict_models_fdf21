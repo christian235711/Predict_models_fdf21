{
  "nbformat": 4,
  "nbformat_minor": 0,
  "metadata": {
    "colab": {
      "name": "FDF21_Analyse_disqual.ipynb",
      "provenance": [],
      "collapsed_sections": [],
      "authorship_tag": "ABX9TyNLWdnnNNVlbkP1nh5hlZKE"
    },
    "kernelspec": {
      "name": "python3",
      "display_name": "Python 3"
    },
    "language_info": {
      "name": "python"
    }
  },
  "cells": [
    {
      "cell_type": "code",
      "metadata": {
        "id": "6PE_fq-Af-lD",
        "colab": {
          "base_uri": "https://localhost:8080/"
        },
        "outputId": "e3f343ea-6011-4978-e82f-d054aef27b40"
      },
      "source": [
        "import numpy as np\n",
        "import pandas as pd\n",
        "import seaborn as sns\n",
        "import matplotlib.pyplot as plt\n",
        "\n",
        "!pip install fanalysis\n",
        "from fanalysis.mca import MCA\n",
        "\n",
        "from sklearn.metrics import confusion_matrix\n",
        "\n",
        "from google.colab import drive\n",
        "drive.mount('/content/drive')"
      ],
      "execution_count": 2,
      "outputs": [
        {
          "output_type": "stream",
          "text": [
            "Requirement already satisfied: fanalysis in /usr/local/lib/python3.7/dist-packages (0.0.1)\n",
            "Requirement already satisfied: matplotlib>=2.0.0 in /usr/local/lib/python3.7/dist-packages (from fanalysis) (3.2.2)\n",
            "Requirement already satisfied: scikit-learn>=0.18.0 in /usr/local/lib/python3.7/dist-packages (from fanalysis) (0.22.2.post1)\n",
            "Requirement already satisfied: pandas>=0.19.0 in /usr/local/lib/python3.7/dist-packages (from fanalysis) (1.1.5)\n",
            "Requirement already satisfied: numpy>=1.11.0 in /usr/local/lib/python3.7/dist-packages (from fanalysis) (1.19.5)\n",
            "Requirement already satisfied: cycler>=0.10 in /usr/local/lib/python3.7/dist-packages (from matplotlib>=2.0.0->fanalysis) (0.10.0)\n",
            "Requirement already satisfied: pyparsing!=2.0.4,!=2.1.2,!=2.1.6,>=2.0.1 in /usr/local/lib/python3.7/dist-packages (from matplotlib>=2.0.0->fanalysis) (2.4.7)\n",
            "Requirement already satisfied: kiwisolver>=1.0.1 in /usr/local/lib/python3.7/dist-packages (from matplotlib>=2.0.0->fanalysis) (1.3.1)\n",
            "Requirement already satisfied: python-dateutil>=2.1 in /usr/local/lib/python3.7/dist-packages (from matplotlib>=2.0.0->fanalysis) (2.8.1)\n",
            "Requirement already satisfied: joblib>=0.11 in /usr/local/lib/python3.7/dist-packages (from scikit-learn>=0.18.0->fanalysis) (1.0.1)\n",
            "Requirement already satisfied: scipy>=0.17.0 in /usr/local/lib/python3.7/dist-packages (from scikit-learn>=0.18.0->fanalysis) (1.4.1)\n",
            "Requirement already satisfied: pytz>=2017.2 in /usr/local/lib/python3.7/dist-packages (from pandas>=0.19.0->fanalysis) (2018.9)\n",
            "Requirement already satisfied: six in /usr/local/lib/python3.7/dist-packages (from cycler>=0.10->matplotlib>=2.0.0->fanalysis) (1.15.0)\n",
            "Drive already mounted at /content/drive; to attempt to forcibly remount, call drive.mount(\"/content/drive\", force_remount=True).\n"
          ],
          "name": "stdout"
        }
      ]
    },
    {
      "cell_type": "code",
      "metadata": {
        "id": "yuD2HnZ3uKFa"
      },
      "source": [
        ""
      ],
      "execution_count": 2,
      "outputs": []
    },
    {
      "cell_type": "code",
      "metadata": {
        "id": "HDcsBJYZuKHz"
      },
      "source": [
        "# option d'affichage des résultats\n",
        "pd.set_option(\"display.max_row\",130)\n",
        "pd.set_option(\"display.max_columns\",100)"
      ],
      "execution_count": 3,
      "outputs": []
    },
    {
      "cell_type": "code",
      "metadata": {
        "id": "EIiIM-2FuKKO"
      },
      "source": [
        "# les noms des variables\n",
        "\n",
        "colonnes =([\"IDENT\", \"TypeHabi\", \"GeoFaz_Scl\", \"GeoFaz_cl\", \"ImmoFaz_Scl\", \"ImmoFaz_cl\", \"Anciennete\",\n",
        "            \"Logement_prix_m2\", \"Mediane_RFR\", \"Sexe\", \"Prenom_Phase_scl_H\", \"Prenom_Phase_scl_F\",\n",
        "            \"Prenom_Phase_cl_H\", \"Prenom_Phase_cl_F\", \"Age_H\", \"Age_F\", \"Affinite_1\", \"Affinite_2\",\n",
        "            \"Prenom_effectif\", \"Potentiel_prenom\", \"Onoma-Phase_Scl\", \"Onoma-Phase_CL\", \"Top_mon\"])"
      ],
      "execution_count": 4,
      "outputs": []
    },
    {
      "cell_type": "code",
      "metadata": {
        "id": "wci4tC0suKMu"
      },
      "source": [
        "# importation du fichier (changer le chemin d'accès)\n",
        "''' Faites attention au type de fichier, au délimiteur des valeurs (ça doit être unique et non multiple),\n",
        "au header et à la lecture des types d'objets (low_memory) '''\n",
        "\n",
        "data_orig = pd.read_csv(\"/content/drive/MyDrive/spad_score_method_1/spad_projection_FDFTOT21/my_data_FDFTOT21.txt\", delim_whitespace=\"\\t\", header = None, names=colonnes, low_memory=False, dtype=str )#, dtype='Int64')\n"
      ],
      "execution_count": 5,
      "outputs": []
    },
    {
      "cell_type": "code",
      "metadata": {
        "colab": {
          "base_uri": "https://localhost:8080/"
        },
        "id": "oyDoq2cHxz7o",
        "outputId": "8c046b21-759d-4581-d003-9f1b26ba721c"
      },
      "source": [
        "''' copie superficielle (peu profonde) du dataset original pour ne pas modifier les valeurs\n",
        "d'origine par erreur plus tard \n",
        "'''\n",
        "data = data_orig.copy()\n",
        "data.shape"
      ],
      "execution_count": 6,
      "outputs": [
        {
          "output_type": "execute_result",
          "data": {
            "text/plain": [
              "(1219999, 23)"
            ]
          },
          "metadata": {
            "tags": []
          },
          "execution_count": 6
        }
      ]
    },
    {
      "cell_type": "code",
      "metadata": {
        "colab": {
          "base_uri": "https://localhost:8080/",
          "height": 240
        },
        "id": "d8EgLMlSxz9s",
        "outputId": "581b7200-c8fc-466b-a268-da2f2af377bb"
      },
      "source": [
        "# visualisation des premiers lignes\n",
        "data.head()\n"
      ],
      "execution_count": 7,
      "outputs": [
        {
          "output_type": "execute_result",
          "data": {
            "text/html": [
              "<div>\n",
              "<style scoped>\n",
              "    .dataframe tbody tr th:only-of-type {\n",
              "        vertical-align: middle;\n",
              "    }\n",
              "\n",
              "    .dataframe tbody tr th {\n",
              "        vertical-align: top;\n",
              "    }\n",
              "\n",
              "    .dataframe thead th {\n",
              "        text-align: right;\n",
              "    }\n",
              "</style>\n",
              "<table border=\"1\" class=\"dataframe\">\n",
              "  <thead>\n",
              "    <tr style=\"text-align: right;\">\n",
              "      <th></th>\n",
              "      <th>IDENT</th>\n",
              "      <th>TypeHabi</th>\n",
              "      <th>GeoFaz_Scl</th>\n",
              "      <th>GeoFaz_cl</th>\n",
              "      <th>ImmoFaz_Scl</th>\n",
              "      <th>ImmoFaz_cl</th>\n",
              "      <th>Anciennete</th>\n",
              "      <th>Logement_prix_m2</th>\n",
              "      <th>Mediane_RFR</th>\n",
              "      <th>Sexe</th>\n",
              "      <th>Prenom_Phase_scl_H</th>\n",
              "      <th>Prenom_Phase_scl_F</th>\n",
              "      <th>Prenom_Phase_cl_H</th>\n",
              "      <th>Prenom_Phase_cl_F</th>\n",
              "      <th>Age_H</th>\n",
              "      <th>Age_F</th>\n",
              "      <th>Affinite_1</th>\n",
              "      <th>Affinite_2</th>\n",
              "      <th>Prenom_effectif</th>\n",
              "      <th>Potentiel_prenom</th>\n",
              "      <th>Onoma-Phase_Scl</th>\n",
              "      <th>Onoma-Phase_CL</th>\n",
              "      <th>Top_mon</th>\n",
              "    </tr>\n",
              "  </thead>\n",
              "  <tbody>\n",
              "    <tr>\n",
              "      <th>0</th>\n",
              "      <td>000000010010000001</td>\n",
              "      <td>02</td>\n",
              "      <td>81</td>\n",
              "      <td>08</td>\n",
              "      <td>91</td>\n",
              "      <td>09</td>\n",
              "      <td>06</td>\n",
              "      <td>21</td>\n",
              "      <td>21</td>\n",
              "      <td>01</td>\n",
              "      <td>71</td>\n",
              "      <td>41</td>\n",
              "      <td>07</td>\n",
              "      <td>04</td>\n",
              "      <td>12</td>\n",
              "      <td>04</td>\n",
              "      <td>20</td>\n",
              "      <td>02</td>\n",
              "      <td>02</td>\n",
              "      <td>01</td>\n",
              "      <td>51</td>\n",
              "      <td>05</td>\n",
              "      <td>1</td>\n",
              "    </tr>\n",
              "    <tr>\n",
              "      <th>1</th>\n",
              "      <td>000000020010000006</td>\n",
              "      <td>01</td>\n",
              "      <td>75</td>\n",
              "      <td>07</td>\n",
              "      <td>43</td>\n",
              "      <td>04</td>\n",
              "      <td>06</td>\n",
              "      <td>06</td>\n",
              "      <td>13</td>\n",
              "      <td>02</td>\n",
              "      <td>71</td>\n",
              "      <td>64</td>\n",
              "      <td>07</td>\n",
              "      <td>06</td>\n",
              "      <td>12</td>\n",
              "      <td>09</td>\n",
              "      <td>04</td>\n",
              "      <td>12</td>\n",
              "      <td>04</td>\n",
              "      <td>13</td>\n",
              "      <td>12</td>\n",
              "      <td>01</td>\n",
              "      <td>1</td>\n",
              "    </tr>\n",
              "    <tr>\n",
              "      <th>2</th>\n",
              "      <td>000000030010000011</td>\n",
              "      <td>01</td>\n",
              "      <td>76</td>\n",
              "      <td>07</td>\n",
              "      <td>43</td>\n",
              "      <td>04</td>\n",
              "      <td>06</td>\n",
              "      <td>06</td>\n",
              "      <td>16</td>\n",
              "      <td>03</td>\n",
              "      <td>54</td>\n",
              "      <td>81</td>\n",
              "      <td>05</td>\n",
              "      <td>08</td>\n",
              "      <td>07</td>\n",
              "      <td>12</td>\n",
              "      <td>06</td>\n",
              "      <td>06</td>\n",
              "      <td>04</td>\n",
              "      <td>18</td>\n",
              "      <td>36</td>\n",
              "      <td>03</td>\n",
              "      <td>2</td>\n",
              "    </tr>\n",
              "    <tr>\n",
              "      <th>3</th>\n",
              "      <td>000000040010000013</td>\n",
              "      <td>03</td>\n",
              "      <td>75</td>\n",
              "      <td>07</td>\n",
              "      <td>43</td>\n",
              "      <td>04</td>\n",
              "      <td>04</td>\n",
              "      <td>06</td>\n",
              "      <td>13</td>\n",
              "      <td>01</td>\n",
              "      <td>71</td>\n",
              "      <td>36</td>\n",
              "      <td>07</td>\n",
              "      <td>03</td>\n",
              "      <td>12</td>\n",
              "      <td>11</td>\n",
              "      <td>11</td>\n",
              "      <td>19</td>\n",
              "      <td>04</td>\n",
              "      <td>06</td>\n",
              "      <td>21</td>\n",
              "      <td>02</td>\n",
              "      <td>1</td>\n",
              "    </tr>\n",
              "    <tr>\n",
              "      <th>4</th>\n",
              "      <td>000000050010000015</td>\n",
              "      <td>02</td>\n",
              "      <td>33</td>\n",
              "      <td>03</td>\n",
              "      <td>44</td>\n",
              "      <td>04</td>\n",
              "      <td>06</td>\n",
              "      <td>07</td>\n",
              "      <td>12</td>\n",
              "      <td>01</td>\n",
              "      <td>71</td>\n",
              "      <td>42</td>\n",
              "      <td>07</td>\n",
              "      <td>04</td>\n",
              "      <td>12</td>\n",
              "      <td>05</td>\n",
              "      <td>14</td>\n",
              "      <td>03</td>\n",
              "      <td>03</td>\n",
              "      <td>01</td>\n",
              "      <td>14</td>\n",
              "      <td>01</td>\n",
              "      <td>2</td>\n",
              "    </tr>\n",
              "  </tbody>\n",
              "</table>\n",
              "</div>"
            ],
            "text/plain": [
              "                IDENT TypeHabi GeoFaz_Scl GeoFaz_cl ImmoFaz_Scl ImmoFaz_cl  \\\n",
              "0  000000010010000001       02         81        08          91         09   \n",
              "1  000000020010000006       01         75        07          43         04   \n",
              "2  000000030010000011       01         76        07          43         04   \n",
              "3  000000040010000013       03         75        07          43         04   \n",
              "4  000000050010000015       02         33        03          44         04   \n",
              "\n",
              "  Anciennete Logement_prix_m2 Mediane_RFR Sexe Prenom_Phase_scl_H  \\\n",
              "0         06               21          21   01                 71   \n",
              "1         06               06          13   02                 71   \n",
              "2         06               06          16   03                 54   \n",
              "3         04               06          13   01                 71   \n",
              "4         06               07          12   01                 71   \n",
              "\n",
              "  Prenom_Phase_scl_F Prenom_Phase_cl_H Prenom_Phase_cl_F Age_H Age_F  \\\n",
              "0                 41                07                04    12    04   \n",
              "1                 64                07                06    12    09   \n",
              "2                 81                05                08    07    12   \n",
              "3                 36                07                03    12    11   \n",
              "4                 42                07                04    12    05   \n",
              "\n",
              "  Affinite_1 Affinite_2 Prenom_effectif Potentiel_prenom Onoma-Phase_Scl  \\\n",
              "0         20         02              02               01              51   \n",
              "1         04         12              04               13              12   \n",
              "2         06         06              04               18              36   \n",
              "3         11         19              04               06              21   \n",
              "4         14         03              03               01              14   \n",
              "\n",
              "  Onoma-Phase_CL Top_mon  \n",
              "0             05       1  \n",
              "1             01       1  \n",
              "2             03       2  \n",
              "3             02       1  \n",
              "4             01       2  "
            ]
          },
          "metadata": {
            "tags": []
          },
          "execution_count": 7
        }
      ]
    },
    {
      "cell_type": "code",
      "metadata": {
        "id": "0DV4-3xA2W_K"
      },
      "source": [
        "#nombre de modalités de chaque variables (dans un dataframe)\n",
        "def nombre_mod(data2):\n",
        "    #création d'un dataframe vide\n",
        "    dff= pd.DataFrame(columns=[\"VARIABLE\",\"NOMBRE_MOD\", \"NOMBRE_MOD_SANS_NA\"])\n",
        "    for i in range(data2.shape[1]): # sans compter les valeurs manquantes\n",
        "        taille =len(data2.iloc[:,i].value_counts(dropna=False))\n",
        "        taille_1 = len(data2.iloc[:,i].value_counts(dropna=True) )\n",
        "        dff=dff.append({\"VARIABLE\": colonnes[i],\"NOMBRE_MOD\":taille, \"NOMBRE_MOD_SANS_NA\":taille_1 }, ignore_index=True)\n",
        "    return dff\n",
        "\n",
        "# sélection des corrélations les plus importantes\n",
        "def variables_corr(tableau_corr, seuil):\n",
        "    colonnes = tableau_corr.columns\n",
        "    val_temp = 0 \n",
        "    variables_corr_pos=[] ; variables_corr_pos_val=[]\n",
        "    variables_corr_neg=[] ; variables_corr_neg_val=[]\n",
        "    for i in range(tableau_corr.shape[0]):  \n",
        "        for j in range(tableau_corr.shape[0]):\n",
        "            if i<j: #i!=j:\n",
        "                if (tableau_corr.iloc[i,j] > seuil):\n",
        "                    variables_corr_pos.append(colonnes[j])\n",
        "                    variables_corr_pos_val.append(round( tableau_corr.iloc[i,j], 2))\n",
        "                    val_temp += 1\n",
        "\n",
        "                if (tableau_corr.iloc[i,j] <-seuil):\n",
        "                    variables_corr_neg.append(colonnes[j])\n",
        "                    variables_corr_neg_val.append(round( tableau_corr.iloc[i,j], 2))\n",
        "                    val_temp += 1\n",
        "\n",
        "        if (len(variables_corr_pos) > 0) | (len(variables_corr_neg) >0) :\n",
        "            print(\"variable : \", colonnes[i])\n",
        "            if len(variables_corr_pos) > 0:    \n",
        "                print(\"corr pos\", variables_corr_pos)\n",
        "                print(\"corr pos\", variables_corr_pos_val)\n",
        "                val_temp += 1\n",
        "\n",
        "            if len(variables_corr_neg) >0:  \n",
        "                print(\"corr neg\", variables_corr_neg)\n",
        "                print(\"corr neg\", variables_corr_neg_val)\n",
        "                val_temp += 1\n",
        "            print(\"\")\n",
        "        variables_corr_pos = variables_corr_pos*0\n",
        "        variables_corr_neg = variables_corr_pos*0\n",
        "\n",
        "        variables_corr_pos_val = variables_corr_pos_val*0\n",
        "        variables_corr_neg_val = variables_corr_pos_val*0\n",
        "    if val_temp == 0:\n",
        "        print(\"IL N'Y A PAS DE CORRELATION ENTRE LES VARIABLES PAR RAPPORT AU SEUIL PRIS\")\n",
        "        \n",
        "\n",
        "def evaluation(model, X_train, y_train, X_test, y_test, scoring, plot):\n",
        "\n",
        "    model.fit(X_train, y_train)\n",
        "    y_pred = model.predict(X_test)\n",
        "    \n",
        "    print(\"test set : \")\n",
        "    print(confusion_matrix(y_test, y_pred))\n",
        "    print(classification_report(y_test, y_pred)) \n",
        "    print(\"train set : \")\n",
        "    print(confusion_matrix(y_train, model.predict(X_train)))  \n",
        "    print(classification_report(y_train, model.predict(X_train) ))\n",
        "\n",
        "    if plot == True:\n",
        "        N, train_score, val_score = learning_curve(model, X_train, y_train, shuffle=True, cv = 4, scoring = scoring, train_sizes = np.linspace(0.1, 1, 6) )\n",
        "\n",
        "        plt.figure(figsize = (10,6))\n",
        "        plt.plot(N, train_score.mean(axis=1), label =\"train_score\")\n",
        "        plt.plot(N, val_score.mean(axis=1), label =\"cross_validation_score\")\n",
        "        plt.legend()\n",
        "    else :\n",
        "        print(\"GRAPHIQUE NON DEMANDE\")\n",
        "\n",
        "# Comme il n'y a pas de valeurs manquantes (à la place il y a un nombre), le seul traitement qu'on fait c'est tranformer\n",
        "# le type de variable (les variables continues deviennent qualitatives)\n",
        "def data_processing(df):\n",
        "    \"\"\" \n",
        "    for i in range(0,len(df.columns)):    \n",
        "        df[df.columns[i]].fillna(100.0, inplace=True) #On remplace les données manquantes par 100\n",
        "    for i in range(0,len(df.columns)):\n",
        "        print(df[df.columns[i]].value_counts(dropna=False))    \n",
        "    \"\"\"\n",
        "    \n",
        "   #Transformation de toutes les variables en facteurs         \n",
        "    for i in range(0,len(df.columns)):\n",
        "        df[df.columns[i]] = df[df.columns[i]].astype('category')\n",
        "    return df.to_numpy() #.as_matrix()\n",
        "\n",
        "\n",
        "def vingtiles(model, data_orig, affichage, save, path):\n",
        "    # position de la dernière variable explicative dans le dataset\n",
        "    nb_var = data_orig.shape[1]-1\n",
        "\n",
        "    # predict sur tous les individus (avec et sans classe IFI+)\n",
        "    tous_probas = model.predict_proba(data_orig.iloc[:,1:nb_var])\n",
        "    df_tous = pd.DataFrame({'IDENT': data_orig.iloc[:,0] , 'PROBA': tous_probas[:,0] })\n",
        "    #df_tous\n",
        "    \n",
        "    # valeurs ordonnées pour diviser après\n",
        "    df_tous=df_tous.sort_values(by='PROBA', ascending=True)\n",
        "    #df_tous\n",
        "    print(df_tous)\n",
        "    \n",
        "    #vérification\n",
        "    print(df_tous['PROBA'].value_counts())\n",
        "\n",
        "    # quarantiles\n",
        "    df_temp =pd.DataFrame( pd.qcut(df_tous['PROBA'],q= 20)  )\n",
        "    print(df_temp)\n",
        "\n",
        "    # ajout par index (IMPORTANTE)\n",
        "    df_tous[\"TRANCHES\"]=pd.DataFrame(df_temp.iloc[:,0].to_numpy(),index= df_temp.index)\n",
        "    #print(df_tous)\n",
        "    \n",
        "    # pour la colonne Top_mon :\n",
        "    # remplissage de la dernière colonne par 2 (VALABLE QUE POUR CE DATA, MODIFIER POUR D'AUTRES)\n",
        "    data_temp_t = data_orig.copy()\n",
        "    # remplacement\n",
        "    data_temp_t[\"Top_mon\"] =  data_temp_t[\"Top_mon\"].replace(1.0,'1')\n",
        "    data_temp_t[\"Top_mon\"] =  data_temp_t[\"Top_mon\"].replace(2.0,'2')\n",
        "    data_all_complet_class = data_temp_t.fillna('2')\n",
        "    #data_all_complet_class\n",
        "\n",
        "    # jointure\n",
        "    ident_class_tous = data_all_complet_class[[\"IDENT\",\"Top_mon\"]]\n",
        "    tableau_resultats = pd.merge(df_tous,ident_class_tous)\n",
        "    #tableau_resultats\n",
        "\n",
        "    # tranches finales\n",
        "    tab_cross_temp = pd.crosstab(tableau_resultats[\"TRANCHES\"],tableau_resultats[\"Top_mon\"])\n",
        "    #print(tab_cross_temp); print(\"-----------------------\")\n",
        "\n",
        "    # création d'une colonne total\n",
        "    tab_cross_temp[\"TOTAL\"]=tab_cross_temp[\"1\"]+tab_cross_temp[\"2\"]\n",
        "    \n",
        "    # affichage\n",
        "    if affichage ==True:        \n",
        "        print(tab_cross_temp)\n",
        "\n",
        "    # création du tableau final en éliminant la colonne 2\n",
        "    #tab_pour_excel = tab_cross_temp.drop([\"2\"], axis=1)\n",
        "\n",
        "    # si on ne veut pas éliminer la colonne 2\n",
        "    tab_pour_excel =  tab_cross_temp\n",
        "    \n",
        "    # enregistrement sous Excel\n",
        "    if save == True:\n",
        "        tab_pour_excel.to_excel(path)\n",
        "\n",
        "def vingtiles_ind_sans_target(model, data_orig, affichage, save, path):\n",
        "    # position de la dernière variable explicative dans le dataset\n",
        "    nb_var = data_orig.shape[1]-1\n",
        "\n",
        "    # predict sur tous les individus (avec et sans classe IFI+)\n",
        "    tous_probas = model.predict_proba(data_orig.iloc[:,1:nb_var])\n",
        "    df_tous = pd.DataFrame({'IDENT': data_orig.iloc[:,0] , 'PROBA': tous_probas[:,0] })\n",
        "    #df_tous\n",
        "    \n",
        "    # valeurs ordonnées pour diviser après\n",
        "    df_tous=df_tous.sort_values(by='PROBA', ascending=True)\n",
        "    #df_tous\n",
        "    print(df_tous)\n",
        "    \n",
        "    #vérification\n",
        "    print(df_tous['PROBA'].value_counts())\n",
        "\n",
        "    # quarantiles\n",
        "    df_temp =pd.DataFrame( pd.qcut(df_tous['PROBA'],q= 20)  )\n",
        "    print(df_temp)\n",
        "\n",
        "    # ajout par index (IMPORTANTE)\n",
        "    df_tous[\"TRANCHES\"]=pd.DataFrame(df_temp.iloc[:,0].to_numpy(),index= df_temp.index)\n",
        "    print(df_tous)\n",
        "    print(df_tous[\"TRANCHES\"].value_counts(ascending = True))\n",
        "\n",
        "    # GERE L'ORDRE\n",
        "    patra = np.unique(df_tous.iloc[:,2], return_counts=True)\n",
        "    df_tranches_sans_target = pd.DataFrame([patra[0],patra[1]]).T\n",
        "    df_tranches_sans_target.columns=[\"TRANCHES\",\"COUNTS\"]\n",
        "\n",
        "    # affichage\n",
        "    if affichage ==True:        \n",
        "        print(df_tranches_sans_target)\n",
        "    \n",
        "    # enregistrement sous Excel\n",
        "    if save == True:\n",
        "        df_tranches_sans_target.to_excel(path)\n",
        "    \n",
        "\n",
        "# élimination des variables trop corrélées (choix manuel)\n",
        "def elimination_val_corr(data):\n",
        "    data = data.drop(columns=[\"\"])\n",
        "    return data\n",
        "\n",
        "    "
      ],
      "execution_count": 8,
      "outputs": []
    },
    {
      "cell_type": "code",
      "metadata": {
        "colab": {
          "base_uri": "https://localhost:8080/",
          "height": 761
        },
        "id": "2EQAN76Q2XBS",
        "outputId": "586aeca0-3189-4a2e-95d7-537e058181d7"
      },
      "source": [
        "nombre_mod(data)"
      ],
      "execution_count": 9,
      "outputs": [
        {
          "output_type": "execute_result",
          "data": {
            "text/html": [
              "<div>\n",
              "<style scoped>\n",
              "    .dataframe tbody tr th:only-of-type {\n",
              "        vertical-align: middle;\n",
              "    }\n",
              "\n",
              "    .dataframe tbody tr th {\n",
              "        vertical-align: top;\n",
              "    }\n",
              "\n",
              "    .dataframe thead th {\n",
              "        text-align: right;\n",
              "    }\n",
              "</style>\n",
              "<table border=\"1\" class=\"dataframe\">\n",
              "  <thead>\n",
              "    <tr style=\"text-align: right;\">\n",
              "      <th></th>\n",
              "      <th>VARIABLE</th>\n",
              "      <th>NOMBRE_MOD</th>\n",
              "      <th>NOMBRE_MOD_SANS_NA</th>\n",
              "    </tr>\n",
              "  </thead>\n",
              "  <tbody>\n",
              "    <tr>\n",
              "      <th>0</th>\n",
              "      <td>IDENT</td>\n",
              "      <td>1219999</td>\n",
              "      <td>1219999</td>\n",
              "    </tr>\n",
              "    <tr>\n",
              "      <th>1</th>\n",
              "      <td>TypeHabi</td>\n",
              "      <td>4</td>\n",
              "      <td>4</td>\n",
              "    </tr>\n",
              "    <tr>\n",
              "      <th>2</th>\n",
              "      <td>GeoFaz_Scl</td>\n",
              "      <td>38</td>\n",
              "      <td>38</td>\n",
              "    </tr>\n",
              "    <tr>\n",
              "      <th>3</th>\n",
              "      <td>GeoFaz_cl</td>\n",
              "      <td>8</td>\n",
              "      <td>8</td>\n",
              "    </tr>\n",
              "    <tr>\n",
              "      <th>4</th>\n",
              "      <td>ImmoFaz_Scl</td>\n",
              "      <td>31</td>\n",
              "      <td>31</td>\n",
              "    </tr>\n",
              "    <tr>\n",
              "      <th>5</th>\n",
              "      <td>ImmoFaz_cl</td>\n",
              "      <td>9</td>\n",
              "      <td>9</td>\n",
              "    </tr>\n",
              "    <tr>\n",
              "      <th>6</th>\n",
              "      <td>Anciennete</td>\n",
              "      <td>11</td>\n",
              "      <td>11</td>\n",
              "    </tr>\n",
              "    <tr>\n",
              "      <th>7</th>\n",
              "      <td>Logement_prix_m2</td>\n",
              "      <td>21</td>\n",
              "      <td>21</td>\n",
              "    </tr>\n",
              "    <tr>\n",
              "      <th>8</th>\n",
              "      <td>Mediane_RFR</td>\n",
              "      <td>21</td>\n",
              "      <td>21</td>\n",
              "    </tr>\n",
              "    <tr>\n",
              "      <th>9</th>\n",
              "      <td>Sexe</td>\n",
              "      <td>5</td>\n",
              "      <td>5</td>\n",
              "    </tr>\n",
              "    <tr>\n",
              "      <th>10</th>\n",
              "      <td>Prenom_Phase_scl_H</td>\n",
              "      <td>31</td>\n",
              "      <td>31</td>\n",
              "    </tr>\n",
              "    <tr>\n",
              "      <th>11</th>\n",
              "      <td>Prenom_Phase_scl_F</td>\n",
              "      <td>45</td>\n",
              "      <td>45</td>\n",
              "    </tr>\n",
              "    <tr>\n",
              "      <th>12</th>\n",
              "      <td>Prenom_Phase_cl_H</td>\n",
              "      <td>7</td>\n",
              "      <td>7</td>\n",
              "    </tr>\n",
              "    <tr>\n",
              "      <th>13</th>\n",
              "      <td>Prenom_Phase_cl_F</td>\n",
              "      <td>8</td>\n",
              "      <td>8</td>\n",
              "    </tr>\n",
              "    <tr>\n",
              "      <th>14</th>\n",
              "      <td>Age_H</td>\n",
              "      <td>12</td>\n",
              "      <td>12</td>\n",
              "    </tr>\n",
              "    <tr>\n",
              "      <th>15</th>\n",
              "      <td>Age_F</td>\n",
              "      <td>12</td>\n",
              "      <td>12</td>\n",
              "    </tr>\n",
              "    <tr>\n",
              "      <th>16</th>\n",
              "      <td>Affinite_1</td>\n",
              "      <td>21</td>\n",
              "      <td>21</td>\n",
              "    </tr>\n",
              "    <tr>\n",
              "      <th>17</th>\n",
              "      <td>Affinite_2</td>\n",
              "      <td>21</td>\n",
              "      <td>21</td>\n",
              "    </tr>\n",
              "    <tr>\n",
              "      <th>18</th>\n",
              "      <td>Prenom_effectif</td>\n",
              "      <td>6</td>\n",
              "      <td>6</td>\n",
              "    </tr>\n",
              "    <tr>\n",
              "      <th>19</th>\n",
              "      <td>Potentiel_prenom</td>\n",
              "      <td>21</td>\n",
              "      <td>21</td>\n",
              "    </tr>\n",
              "    <tr>\n",
              "      <th>20</th>\n",
              "      <td>Onoma-Phase_Scl</td>\n",
              "      <td>36</td>\n",
              "      <td>36</td>\n",
              "    </tr>\n",
              "    <tr>\n",
              "      <th>21</th>\n",
              "      <td>Onoma-Phase_CL</td>\n",
              "      <td>6</td>\n",
              "      <td>6</td>\n",
              "    </tr>\n",
              "    <tr>\n",
              "      <th>22</th>\n",
              "      <td>Top_mon</td>\n",
              "      <td>3</td>\n",
              "      <td>2</td>\n",
              "    </tr>\n",
              "  </tbody>\n",
              "</table>\n",
              "</div>"
            ],
            "text/plain": [
              "              VARIABLE NOMBRE_MOD NOMBRE_MOD_SANS_NA\n",
              "0                IDENT    1219999            1219999\n",
              "1             TypeHabi          4                  4\n",
              "2           GeoFaz_Scl         38                 38\n",
              "3            GeoFaz_cl          8                  8\n",
              "4          ImmoFaz_Scl         31                 31\n",
              "5           ImmoFaz_cl          9                  9\n",
              "6           Anciennete         11                 11\n",
              "7     Logement_prix_m2         21                 21\n",
              "8          Mediane_RFR         21                 21\n",
              "9                 Sexe          5                  5\n",
              "10  Prenom_Phase_scl_H         31                 31\n",
              "11  Prenom_Phase_scl_F         45                 45\n",
              "12   Prenom_Phase_cl_H          7                  7\n",
              "13   Prenom_Phase_cl_F          8                  8\n",
              "14               Age_H         12                 12\n",
              "15               Age_F         12                 12\n",
              "16          Affinite_1         21                 21\n",
              "17          Affinite_2         21                 21\n",
              "18     Prenom_effectif          6                  6\n",
              "19    Potentiel_prenom         21                 21\n",
              "20     Onoma-Phase_Scl         36                 36\n",
              "21      Onoma-Phase_CL          6                  6\n",
              "22             Top_mon          3                  2"
            ]
          },
          "metadata": {
            "tags": []
          },
          "execution_count": 9
        }
      ]
    },
    {
      "cell_type": "code",
      "metadata": {
        "colab": {
          "base_uri": "https://localhost:8080/"
        },
        "id": "dNh8ZnOzMfDy",
        "outputId": "519346f4-0ba2-42ba-b64c-0a9ea3988ab6"
      },
      "source": [
        "data[\"Top_mon\"].value_counts(dropna=False)"
      ],
      "execution_count": 10,
      "outputs": [
        {
          "output_type": "execute_result",
          "data": {
            "text/plain": [
              "NaN    1092884\n",
              "2       103659\n",
              "1        23456\n",
              "Name: Top_mon, dtype: int64"
            ]
          },
          "metadata": {
            "tags": []
          },
          "execution_count": 10
        }
      ]
    },
    {
      "cell_type": "code",
      "metadata": {
        "colab": {
          "base_uri": "https://localhost:8080/"
        },
        "id": "_bJVv_4eBsmj",
        "outputId": "886e79d2-b0d9-49c0-be3f-8a3a35f13bd7"
      },
      "source": [
        "data.info()"
      ],
      "execution_count": 11,
      "outputs": [
        {
          "output_type": "stream",
          "text": [
            "<class 'pandas.core.frame.DataFrame'>\n",
            "RangeIndex: 1219999 entries, 0 to 1219998\n",
            "Data columns (total 23 columns):\n",
            " #   Column              Non-Null Count    Dtype \n",
            "---  ------              --------------    ----- \n",
            " 0   IDENT               1219999 non-null  object\n",
            " 1   TypeHabi            1219999 non-null  object\n",
            " 2   GeoFaz_Scl          1219999 non-null  object\n",
            " 3   GeoFaz_cl           1219999 non-null  object\n",
            " 4   ImmoFaz_Scl         1219999 non-null  object\n",
            " 5   ImmoFaz_cl          1219999 non-null  object\n",
            " 6   Anciennete          1219999 non-null  object\n",
            " 7   Logement_prix_m2    1219999 non-null  object\n",
            " 8   Mediane_RFR         1219999 non-null  object\n",
            " 9   Sexe                1219999 non-null  object\n",
            " 10  Prenom_Phase_scl_H  1219999 non-null  object\n",
            " 11  Prenom_Phase_scl_F  1219999 non-null  object\n",
            " 12  Prenom_Phase_cl_H   1219999 non-null  object\n",
            " 13  Prenom_Phase_cl_F   1219999 non-null  object\n",
            " 14  Age_H               1219999 non-null  object\n",
            " 15  Age_F               1219999 non-null  object\n",
            " 16  Affinite_1          1219999 non-null  object\n",
            " 17  Affinite_2          1219999 non-null  object\n",
            " 18  Prenom_effectif     1219999 non-null  object\n",
            " 19  Potentiel_prenom    1219999 non-null  object\n",
            " 20  Onoma-Phase_Scl     1219999 non-null  object\n",
            " 21  Onoma-Phase_CL      1219999 non-null  object\n",
            " 22  Top_mon             127115 non-null   object\n",
            "dtypes: object(23)\n",
            "memory usage: 214.1+ MB\n"
          ],
          "name": "stdout"
        }
      ]
    },
    {
      "cell_type": "code",
      "metadata": {
        "id": "R6qqf87_2XGq"
      },
      "source": [
        ""
      ],
      "execution_count": 11,
      "outputs": []
    },
    {
      "cell_type": "code",
      "metadata": {
        "id": "Y4nhL2yxcZZb"
      },
      "source": [
        ""
      ],
      "execution_count": 11,
      "outputs": []
    },
    {
      "cell_type": "code",
      "metadata": {
        "id": "IJOZku3IYEpI"
      },
      "source": [
        ""
      ],
      "execution_count": 11,
      "outputs": []
    },
    {
      "cell_type": "code",
      "metadata": {
        "id": "0lpwr2FMYiq2"
      },
      "source": [
        ""
      ],
      "execution_count": 11,
      "outputs": []
    },
    {
      "cell_type": "code",
      "metadata": {
        "id": "gGyqVG-fUKyo"
      },
      "source": [
        "############################################################### AJOUTER OU EFFACER (data =) #######################################\n",
        "# on élimine les variables corr\n",
        "data=data.drop([\"GeoFaz_cl\", \"ImmoFaz_Scl\", \"ImmoFaz_cl\", \"Prenom_Phase_cl_H\", \"Prenom_Phase_cl_F\", \"Onoma-Phase_Scl\", \"Onoma-Phase_CL\"],axis=1)\n"
      ],
      "execution_count": 12,
      "outputs": []
    },
    {
      "cell_type": "code",
      "metadata": {
        "colab": {
          "base_uri": "https://localhost:8080/"
        },
        "id": "2-RPzJ4vZEhM",
        "outputId": "03e3d076-295d-45f5-dd61-af77f850f009"
      },
      "source": [
        "num_var_max = data.shape[1] - 1\n",
        "num_var_max"
      ],
      "execution_count": 13,
      "outputs": [
        {
          "output_type": "execute_result",
          "data": {
            "text/plain": [
              "15"
            ]
          },
          "metadata": {
            "tags": []
          },
          "execution_count": 13
        }
      ]
    },
    {
      "cell_type": "code",
      "metadata": {
        "id": "C0T71nnOQ1rc",
        "colab": {
          "base_uri": "https://localhost:8080/",
          "height": 313
        },
        "outputId": "56f6c463-816b-4580-b0d1-21b6892cdff1"
      },
      "source": [
        "#importation de la librairie\n",
        "from fanalysis.mca import MCA\n",
        "\n",
        "#instanciation\n",
        "acm = MCA(var_labels=data.columns[1:num_var_max])\n",
        "\n",
        "# apprentissage\n",
        "acm.fit(data.iloc[:127115,1:num_var_max].values)\n",
        "#valeurs propres - graphique\n",
        "print(acm.plot_eigenvalues())"
      ],
      "execution_count": 14,
      "outputs": [
        {
          "output_type": "display_data",
          "data": {
            "image/png": "[encoded data removed]",
            "text/plain": [
              "<Figure size 432x288 with 1 Axes>"
            ]
          },
          "metadata": {
            "tags": [],
            "needs_background": "light"
          }
        },
        {
          "output_type": "stream",
          "text": [
            "None\n"
          ],
          "name": "stdout"
        }
      ]
    },
    {
      "cell_type": "code",
      "metadata": {
        "id": "uba6n_5g-7-U"
      },
      "source": [
        "# fonction qui va diviser et calculer les coordonnées des individus \n",
        "def transform_to_coord(data):\n",
        "    coord_part = 0\n",
        "    coord = acm.transform(data.iloc[0:30000,1:num_var_max].values)\n",
        "    k=30000\n",
        "    nb_part = round(data.shape[0]/k)\n",
        "    for i in range(1, nb_part):\n",
        "        coord_part=acm.transform(data.iloc[i*k:(i+1)*k,1:num_var_max].values)\n",
        "        coord=np.concatenate((coord, coord_part))\n",
        "\n",
        "    coord_part = acm.transform(data.iloc[nb_part*k: ,1:num_var_max].values )\n",
        "    coord=np.concatenate((coord, coord_part))\n",
        "    return coord"
      ],
      "execution_count": 15,
      "outputs": []
    },
    {
      "cell_type": "code",
      "metadata": {
        "id": "Owu0Cby0oOnj"
      },
      "source": [
        "#instanciation\n",
        "acm = MCA(var_labels = data.columns[1:num_var_max], n_components=100)  # paramètres index manquante (gérer après)\n",
        "#apprentissage \n",
        "\"ne pas utiliser fit_tranform car le datset est trop grand \"\n",
        "acm.fit(data.iloc[:127115,1:num_var_max].values)\n",
        "\n",
        "# tranformation du dataset\n",
        "coord = transform_to_coord(data)\n"
      ],
      "execution_count": 16,
      "outputs": []
    },
    {
      "cell_type": "code",
      "metadata": {
        "id": "cF7I6w-gPtLx"
      },
      "source": [
        ""
      ],
      "execution_count": 16,
      "outputs": []
    },
    {
      "cell_type": "code",
      "metadata": {
        "id": "o6XdxYjGPT1c"
      },
      "source": [
        ""
      ],
      "execution_count": 16,
      "outputs": []
    },
    {
      "cell_type": "code",
      "metadata": {
        "colab": {
          "base_uri": "https://localhost:8080/"
        },
        "id": "7Xqe0tJsysa3",
        "outputId": "c366b49d-8433-4c93-dc91-eca7dddd2502"
      },
      "source": [
        "# dimension\n",
        "coord.shape"
      ],
      "execution_count": 17,
      "outputs": [
        {
          "output_type": "execute_result",
          "data": {
            "text/plain": [
              "(1219999, 100)"
            ]
          },
          "metadata": {
            "tags": []
          },
          "execution_count": 17
        }
      ]
    },
    {
      "cell_type": "code",
      "metadata": {
        "colab": {
          "base_uri": "https://localhost:8080/",
          "height": 313
        },
        "id": "tpU2mQ-g8XJQ",
        "outputId": "1e240f0e-a473-4d0e-cbb6-1ae5f13ea231"
      },
      "source": [
        "#valeurs propres - graphique\n",
        "print(acm.plot_eigenvalues())\n"
      ],
      "execution_count": 18,
      "outputs": [
        {
          "output_type": "display_data",
          "data": {
            "image/png": "[encoded data removed]",
            "text/plain": [
              "<Figure size 432x288 with 1 Axes>"
            ]
          },
          "metadata": {
            "tags": [],
            "needs_background": "light"
          }
        },
        {
          "output_type": "stream",
          "text": [
            "None\n"
          ],
          "name": "stdout"
        }
      ]
    },
    {
      "cell_type": "code",
      "metadata": {
        "colab": {
          "base_uri": "https://localhost:8080/"
        },
        "id": "OJEJV8tO8eqw",
        "outputId": "6f6659ee-a747-43c7-cb95-541ac246cdca"
      },
      "source": [
        "#coordonnées des colonnes\n",
        "print(acm.col_topandas())"
      ],
      "execution_count": 19,
      "outputs": [
        {
          "output_type": "stream",
          "text": [
            "                     col_coord_dim1  col_coord_dim2  col_coord_dim3  \\\n",
            "TypeHabi_01                0.328441       -0.201417        0.223749   \n",
            "TypeHabi_02               -0.143567        0.074169       -0.091876   \n",
            "TypeHabi_03                0.136197       -0.000884        0.047311   \n",
            "TypeHabi_04                0.058198       -0.737083        1.988520   \n",
            "GeoFaz_Scl_11             -0.122568       -0.004153        0.081375   \n",
            "...                             ...             ...             ...   \n",
            "Potentiel_prenom_17       -1.288291        0.051224       -0.866692   \n",
            "Potentiel_prenom_18       -1.148183        0.040895       -0.256930   \n",
            "Potentiel_prenom_19       -1.246651        0.016201        0.821046   \n",
            "Potentiel_prenom_20       -1.141801        0.022557        1.248943   \n",
            "Potentiel_prenom_21        0.308138       -5.969901       -0.508811   \n",
            "\n",
            "                     col_coord_dim4  col_coord_dim5  col_coord_dim6  \\\n",
            "TypeHabi_01               -0.255346        0.196996       -0.219208   \n",
            "TypeHabi_02                0.096445       -0.079067        0.093731   \n",
            "TypeHabi_03               -0.023950        0.031041       -0.081578   \n",
            "TypeHabi_04                0.556318        1.801866        0.361813   \n",
            "GeoFaz_Scl_11             -0.070029       -0.107334       -0.110871   \n",
            "...                             ...             ...             ...   \n",
            "Potentiel_prenom_17       -0.740910        0.766523       -1.048853   \n",
            "Potentiel_prenom_18       -0.451277        0.041729       -0.055784   \n",
            "Potentiel_prenom_19        0.068443       -0.770662        0.460069   \n",
            "Potentiel_prenom_20       -0.093210       -1.470482        0.435897   \n",
            "Potentiel_prenom_21        0.994682       -0.097638       -0.165764   \n",
            "\n",
            "                     col_coord_dim7  col_coord_dim8  col_coord_dim9  \\\n",
            "TypeHabi_01                0.215819       -0.335175        0.884569   \n",
            "TypeHabi_02               -0.058877        0.142469       -0.374721   \n",
            "TypeHabi_03                0.091064       -0.090846        0.268132   \n",
            "TypeHabi_04              -32.703038       -4.170129        5.234003   \n",
            "GeoFaz_Scl_11              0.070206       -0.036137        0.111560   \n",
            "...                             ...             ...             ...   \n",
            "Potentiel_prenom_17       -0.039816       -0.333028       -0.580312   \n",
            "Potentiel_prenom_18       -0.026883       -0.231337        0.037550   \n",
            "Potentiel_prenom_19       -0.032489        1.017523        0.569403   \n",
            "Potentiel_prenom_20        0.097256       -0.435022        0.107671   \n",
            "Potentiel_prenom_21        0.029790        0.149041       -0.458550   \n",
            "\n",
            "                     col_coord_dim10  col_coord_dim11  col_coord_dim12  \\\n",
            "TypeHabi_01                -0.161411         0.058934        -0.113059   \n",
            "TypeHabi_02                 0.067713        -0.021274         0.047143   \n",
            "TypeHabi_03                -0.050543         0.002415        -0.030996   \n",
            "TypeHabi_04                -0.084611        -0.526104        -0.512551   \n",
            "GeoFaz_Scl_11               0.035775        -0.058727        -0.044345   \n",
            "...                              ...              ...              ...   \n",
            "Potentiel_prenom_17        -0.326126        -0.195946        -1.622269   \n",
            "Potentiel_prenom_18        -1.560697         0.854876         1.591861   \n",
            "Potentiel_prenom_19        -0.264255        -0.188812        -0.515301   \n",
            "Potentiel_prenom_20         0.042674         0.042996         0.388024   \n",
            "Potentiel_prenom_21         0.026818         0.019469         0.190062   \n",
            "\n",
            "                     col_coord_dim13  col_coord_dim14  col_coord_dim15  \\\n",
            "TypeHabi_01                 0.039524        -0.088841         0.270761   \n",
            "TypeHabi_02                -0.022492         0.014374        -0.080394   \n",
            "TypeHabi_03                 0.042276         0.103647        -0.096033   \n",
            "TypeHabi_04                 0.583525        -0.406919        -0.921360   \n",
            "GeoFaz_Scl_11              -0.183595         0.473151        -1.094031   \n",
            "...                              ...              ...              ...   \n",
            "Potentiel_prenom_17         0.012811         0.076571         0.001623   \n",
            "Potentiel_prenom_18        -1.428908         0.090397         0.006937   \n",
            "Potentiel_prenom_19         0.072995         1.250307         0.488325   \n",
            "Potentiel_prenom_20         1.541382         0.352946         0.063661   \n",
            "Potentiel_prenom_21         0.121928         0.070562        -0.049084   \n",
            "\n",
            "                     col_coord_dim16  col_coord_dim17  col_coord_dim18  \\\n",
            "TypeHabi_01                -0.020353         0.009777        -0.049725   \n",
            "TypeHabi_02                 0.006751        -0.003913         0.028478   \n",
            "TypeHabi_03                 0.001885         0.004521        -0.061463   \n",
            "TypeHabi_04                 0.286246        -0.404203         0.442652   \n",
            "GeoFaz_Scl_11               0.036597         0.112002        -0.015477   \n",
            "...                              ...              ...              ...   \n",
            "Potentiel_prenom_17        -0.001467        -0.447297         0.201134   \n",
            "Potentiel_prenom_18         0.618135        -0.783583        -0.875005   \n",
            "Potentiel_prenom_19        -0.638486         0.214558         0.308071   \n",
            "Potentiel_prenom_20         0.121522        -0.429080        -0.045851   \n",
            "Potentiel_prenom_21        -0.012314         0.021141         0.070726   \n",
            "\n",
            "                     col_coord_dim19  col_coord_dim20  col_coord_dim21  \\\n",
            "TypeHabi_01                 0.033225        -0.185120         0.342316   \n",
            "TypeHabi_02                -0.019967         0.097951        -0.181811   \n",
            "TypeHabi_03                 0.044427        -0.182193         0.336468   \n",
            "TypeHabi_04                 0.019348         1.473935        -2.027839   \n",
            "GeoFaz_Scl_11               0.027595         0.077467        -0.054965   \n",
            "...                              ...              ...              ...   \n",
            "Potentiel_prenom_17         1.063002         0.250974         0.230225   \n",
            "Potentiel_prenom_18        -0.436949        -0.018849         0.091033   \n",
            "Potentiel_prenom_19        -0.483155         0.202211        -0.106514   \n",
            "Potentiel_prenom_20         0.615728        -0.475889        -0.372183   \n",
            "Potentiel_prenom_21         0.020413         0.072328        -0.018647   \n",
            "\n",
            "                     col_coord_dim22  col_coord_dim23  col_coord_dim24  \\\n",
            "TypeHabi_01                -0.181321         0.069206        -0.038697   \n",
            "TypeHabi_02                 0.090727        -0.021680         0.025235   \n",
            "TypeHabi_03                -0.148355        -0.018474        -0.063792   \n",
            "TypeHabi_04                 1.335829        -0.184716         0.119436   \n",
            "GeoFaz_Scl_11               0.122070        -0.002567        -0.001264   \n",
            "...                              ...              ...              ...   \n",
            "Potentiel_prenom_17         0.330403         0.109520        -0.054951   \n",
            "Potentiel_prenom_18         0.025649         0.436573         0.458027   \n",
            "Potentiel_prenom_19        -0.093731         0.578717        -0.697922   \n",
            "Potentiel_prenom_20        -0.112246        -0.284281         0.370681   \n",
            "Potentiel_prenom_21         0.111867        -0.015174         0.033753   \n",
            "\n",
            "                     col_coord_dim25  col_coord_dim26  col_coord_dim27  \\\n",
            "TypeHabi_01                 0.063441        -0.041442        -0.010597   \n",
            "TypeHabi_02                -0.034912         0.024386         0.020398   \n",
            "TypeHabi_03                 0.069920        -0.051603        -0.091238   \n",
            "TypeHabi_04                -0.487864        -0.166477        -0.351393   \n",
            "GeoFaz_Scl_11               0.111614         0.036636        -0.134831   \n",
            "...                              ...              ...              ...   \n",
            "Potentiel_prenom_17         0.218565        -0.324952         0.044451   \n",
            "Potentiel_prenom_18        -0.171145        -0.308408        -0.041692   \n",
            "Potentiel_prenom_19        -0.259754         0.134292        -0.677670   \n",
            "Potentiel_prenom_20         0.483010        -0.138439         0.444739   \n",
            "Potentiel_prenom_21        -0.019613         0.024243        -0.093065   \n",
            "\n",
            "                     col_coord_dim28  col_coord_dim29  col_coord_dim30  \\\n",
            "TypeHabi_01                -0.026193         0.001332         0.010797   \n",
            "TypeHabi_02                -0.020807        -0.019284        -0.006432   \n",
            "TypeHabi_03                 0.161920         0.104854         0.016083   \n",
            "TypeHabi_04                 1.505383         0.206260        -0.312922   \n",
            "GeoFaz_Scl_11               0.210386        -0.030143        -0.179915   \n",
            "...                              ...              ...              ...   \n",
            "Potentiel_prenom_17        -0.127925         0.337789         0.218962   \n",
            "Potentiel_prenom_18        -0.095386         0.312369        -0.103332   \n",
            "Potentiel_prenom_19        -0.115079         0.019099         1.000599   \n",
            "Potentiel_prenom_20         0.109898         0.224606        -0.617230   \n",
            "Potentiel_prenom_21         0.027974         0.024087        -0.015120   \n",
            "\n",
            "                     col_coord_dim31  col_coord_dim32  col_coord_dim33  \\\n",
            "TypeHabi_01                 0.047576        -0.105927         0.090683   \n",
            "TypeHabi_02                -0.031027         0.046309        -0.053347   \n",
            "TypeHabi_03                 0.076141        -0.038719         0.115106   \n",
            "TypeHabi_04                 0.225682        -0.869467        -0.003216   \n",
            "GeoFaz_Scl_11              -0.213235         0.329094        -0.176771   \n",
            "...                              ...              ...              ...   \n",
            "Potentiel_prenom_17         0.114643         0.102650        -0.044896   \n",
            "Potentiel_prenom_18         0.170755         0.101448        -0.171258   \n",
            "Potentiel_prenom_19        -0.303860         0.327178         0.037392   \n",
            "Potentiel_prenom_20         0.943587        -0.018234        -0.464311   \n",
            "Potentiel_prenom_21         0.040054         0.006503        -0.012635   \n",
            "\n",
            "                     col_coord_dim34  col_coord_dim35  col_coord_dim36  \\\n",
            "TypeHabi_01                -0.413206         0.046696        -0.022360   \n",
            "TypeHabi_02                 0.213020        -0.019608         0.016763   \n",
            "TypeHabi_03                -0.346702         0.012290        -0.048798   \n",
            "TypeHabi_04                -1.298332         0.420285         0.007437   \n",
            "GeoFaz_Scl_11               1.474474        -0.220784        -0.125197   \n",
            "...                              ...              ...              ...   \n",
            "Potentiel_prenom_17        -0.030210        -0.149689         0.058777   \n",
            "Potentiel_prenom_18        -0.135076         0.211714         0.372588   \n",
            "Potentiel_prenom_19         0.041940         0.284338        -0.110133   \n",
            "Potentiel_prenom_20        -0.076115        -0.346968        -0.202651   \n",
            "Potentiel_prenom_21         0.033077         0.039504         0.025267   \n",
            "\n",
            "                     col_coord_dim37  col_coord_dim38  col_coord_dim39  \\\n",
            "TypeHabi_01                 0.093579        -0.039042         0.058863   \n",
            "TypeHabi_02                -0.044527         0.015989        -0.035225   \n",
            "TypeHabi_03                 0.059189        -0.009388         0.076083   \n",
            "TypeHabi_04                 0.026794        -0.123981         0.322611   \n",
            "GeoFaz_Scl_11              -0.285398         0.194880        -0.104281   \n",
            "...                              ...              ...              ...   \n",
            "Potentiel_prenom_17         0.130110        -0.147199        -0.145925   \n",
            "Potentiel_prenom_18        -0.329922         0.132012        -0.239909   \n",
            "Potentiel_prenom_19         0.254489         0.333292         0.456550   \n",
            "Potentiel_prenom_20         0.019312        -0.280033        -0.267991   \n",
            "Potentiel_prenom_21        -0.008908        -0.052505        -0.031458   \n",
            "\n",
            "                     col_coord_dim40  col_coord_dim41  col_coord_dim42  \\\n",
            "TypeHabi_01                -0.043929         0.003197        -0.017984   \n",
            "TypeHabi_02                 0.021323        -0.111149         0.036935   \n",
            "TypeHabi_03                -0.026339         0.615144        -0.167985   \n",
            "TypeHabi_04                -0.632470         0.930774        -0.586735   \n",
            "GeoFaz_Scl_11              -0.010842        -0.088251         0.019086   \n",
            "...                              ...              ...              ...   \n",
            "Potentiel_prenom_17        -0.093870        -0.059388        -0.257063   \n",
            "Potentiel_prenom_18        -0.014810         0.192383         0.222092   \n",
            "Potentiel_prenom_19         0.281041         0.064514         0.103672   \n",
            "Potentiel_prenom_20        -0.206044        -0.173381        -0.192076   \n",
            "Potentiel_prenom_21         0.086662        -0.027309         0.011771   \n",
            "\n",
            "                     col_coord_dim43  col_coord_dim44  col_coord_dim45  \\\n",
            "TypeHabi_01                 0.022693        -0.030867         0.093880   \n",
            "TypeHabi_02                 0.024617         0.054023        -0.002331   \n",
            "TypeHabi_03                -0.184153        -0.241002        -0.193399   \n",
            "TypeHabi_04                -0.222429        -0.101636         2.262377   \n",
            "GeoFaz_Scl_11              -0.013034         0.123145        -0.179686   \n",
            "...                              ...              ...              ...   \n",
            "Potentiel_prenom_17        -0.039060         0.070774        -0.150154   \n",
            "Potentiel_prenom_18        -0.029440        -0.189848        -0.051147   \n",
            "Potentiel_prenom_19         0.329378        -0.268691         0.174950   \n",
            "Potentiel_prenom_20        -0.091320         0.212252         0.045539   \n",
            "Potentiel_prenom_21        -0.005169         0.002705         0.096217   \n",
            "\n",
            "                     col_coord_dim46  col_coord_dim47  col_coord_dim48  \\\n",
            "TypeHabi_01                -0.051914         0.006784        -0.092657   \n",
            "TypeHabi_02                -0.035789         0.083982        -0.054955   \n",
            "TypeHabi_03                 0.309849        -0.483381         0.505700   \n",
            "TypeHabi_04                -0.211663        -0.749511        -0.870955   \n",
            "GeoFaz_Scl_11               0.244626        -0.499114        -0.353394   \n",
            "...                              ...              ...              ...   \n",
            "Potentiel_prenom_17        -0.139475         0.029468        -0.034366   \n",
            "Potentiel_prenom_18        -0.203424         0.095187        -0.081251   \n",
            "Potentiel_prenom_19         0.495821         0.208823        -0.062002   \n",
            "Potentiel_prenom_20         0.119890        -0.018841        -0.092653   \n",
            "Potentiel_prenom_21        -0.030856        -0.050324         0.118061   \n",
            "\n",
            "                     col_coord_dim49  col_coord_dim50  ...  col_cos2_dim51  \\\n",
            "TypeHabi_01                 0.067606        -0.034503  ...        0.000130   \n",
            "TypeHabi_02                 0.035024        -0.022662  ...        0.000821   \n",
            "TypeHabi_03                -0.337497         0.194629  ...        0.003074   \n",
            "TypeHabi_04                 0.174417         0.663552  ...        0.000982   \n",
            "GeoFaz_Scl_11               0.031565        -0.047302  ...        0.019432   \n",
            "...                              ...              ...  ...             ...   \n",
            "Potentiel_prenom_17         0.089044        -0.128710  ...        0.001953   \n",
            "Potentiel_prenom_18         0.214366        -0.022103  ...        0.000018   \n",
            "Potentiel_prenom_19         0.632154         0.005290  ...        0.001459   \n",
            "Potentiel_prenom_20        -0.311055         0.103097  ...        0.003540   \n",
            "Potentiel_prenom_21        -0.077100         0.043417  ...        0.000062   \n",
            "\n",
            "                     col_cos2_dim52  col_cos2_dim53  col_cos2_dim54  \\\n",
            "TypeHabi_01                0.003723        0.001347        0.000911   \n",
            "TypeHabi_02                0.006885        0.007013        0.007216   \n",
            "TypeHabi_03                0.042276        0.030926        0.027003   \n",
            "TypeHabi_04                0.000005        0.000390        0.001310   \n",
            "GeoFaz_Scl_11              0.010462        0.010183        0.002501   \n",
            "...                             ...             ...             ...   \n",
            "Potentiel_prenom_17        0.000924        0.002338        0.002308   \n",
            "Potentiel_prenom_18        0.000043        0.000219        0.000686   \n",
            "Potentiel_prenom_19        0.000035        0.000043        0.001664   \n",
            "Potentiel_prenom_20        0.000842        0.000178        0.001476   \n",
            "Potentiel_prenom_21        0.000145        0.000004        0.000183   \n",
            "\n",
            "                     col_cos2_dim55  col_cos2_dim56  col_cos2_dim57  \\\n",
            "TypeHabi_01                0.000248        0.001505        0.000061   \n",
            "TypeHabi_02                0.000644        0.003289        0.000845   \n",
            "TypeHabi_03                0.003700        0.019467        0.001185   \n",
            "TypeHabi_04                0.000513        0.000596        0.000243   \n",
            "GeoFaz_Scl_11              0.002442        0.005063        0.000392   \n",
            "...                             ...             ...             ...   \n",
            "Potentiel_prenom_17        0.000098        0.000311        0.000886   \n",
            "Potentiel_prenom_18        0.001973        0.002319        0.000147   \n",
            "Potentiel_prenom_19        0.014805        0.000296        0.005569   \n",
            "Potentiel_prenom_20        0.011376        0.000439        0.003302   \n",
            "Potentiel_prenom_21        0.000007        0.000004        0.000004   \n",
            "\n",
            "                     col_cos2_dim58  col_cos2_dim59  col_cos2_dim60  \\\n",
            "TypeHabi_01                0.000084    7.912001e-04        0.000145   \n",
            "TypeHabi_02                0.000016    4.300742e-04        0.002961   \n",
            "TypeHabi_03                0.000032    2.938897e-05        0.009868   \n",
            "TypeHabi_04                0.000059    1.361677e-04        0.000498   \n",
            "GeoFaz_Scl_11              0.004273    3.349393e-03        0.013793   \n",
            "...                             ...             ...             ...   \n",
            "Potentiel_prenom_17        0.000118    6.953187e-05        0.000283   \n",
            "Potentiel_prenom_18        0.000443    1.055823e-04        0.000023   \n",
            "Potentiel_prenom_19        0.001264    3.740050e-04        0.000304   \n",
            "Potentiel_prenom_20        0.005676    7.072494e-05        0.000923   \n",
            "Potentiel_prenom_21        0.000007    8.832660e-07        0.000003   \n",
            "\n",
            "                     col_cos2_dim61  col_cos2_dim62  col_cos2_dim63  \\\n",
            "TypeHabi_01            1.438793e-05        0.000265    1.111552e-03   \n",
            "TypeHabi_02            9.439005e-03        0.000110    9.951631e-04   \n",
            "TypeHabi_03            2.264263e-02        0.000023    1.364761e-05   \n",
            "TypeHabi_04            2.422253e-08        0.000186    1.029203e-04   \n",
            "GeoFaz_Scl_11          8.070991e-05        0.000738    1.397994e-02   \n",
            "...                             ...             ...             ...   \n",
            "Potentiel_prenom_17    2.206328e-04        0.000134    1.270295e-03   \n",
            "Potentiel_prenom_18    1.318268e-03        0.000032    2.677464e-03   \n",
            "Potentiel_prenom_19    2.112070e-05        0.001458    2.926665e-03   \n",
            "Potentiel_prenom_20    1.249253e-03        0.000019    3.720648e-03   \n",
            "Potentiel_prenom_21    1.117501e-07        0.000004    7.242163e-08   \n",
            "\n",
            "                     col_cos2_dim64  col_cos2_dim65  col_cos2_dim66  \\\n",
            "TypeHabi_01                0.000321    1.629734e-05    8.399397e-04   \n",
            "TypeHabi_02                0.002440    1.931015e-03    5.874891e-04   \n",
            "TypeHabi_03                0.009252    5.329869e-03    5.670736e-03   \n",
            "TypeHabi_04                0.000366    4.920367e-04    2.845063e-05   \n",
            "GeoFaz_Scl_11              0.007515    1.732356e-02    4.790347e-02   \n",
            "...                             ...             ...             ...   \n",
            "Potentiel_prenom_17        0.000438    2.276495e-03    1.311526e-04   \n",
            "Potentiel_prenom_18        0.000001    7.450639e-04    5.242899e-04   \n",
            "Potentiel_prenom_19        0.000171    2.731177e-03    1.099322e-03   \n",
            "Potentiel_prenom_20        0.000328    1.733952e-04    3.725319e-05   \n",
            "Potentiel_prenom_21        0.000014    8.434472e-07    5.513075e-07   \n",
            "\n",
            "                     col_cos2_dim67  col_cos2_dim68  col_cos2_dim69  \\\n",
            "TypeHabi_01                0.000174    7.213466e-05        0.007604   \n",
            "TypeHabi_02                0.000136    5.660342e-07        0.000042   \n",
            "TypeHabi_03                0.000004    1.168848e-04        0.010482   \n",
            "TypeHabi_04                0.000483    5.758917e-05        0.002339   \n",
            "GeoFaz_Scl_11              0.001372    1.951037e-02        0.021669   \n",
            "...                             ...             ...             ...   \n",
            "Potentiel_prenom_17        0.000088    8.641248e-06        0.000044   \n",
            "Potentiel_prenom_18        0.001234    8.046779e-05        0.000224   \n",
            "Potentiel_prenom_19        0.003901    1.572588e-05        0.001150   \n",
            "Potentiel_prenom_20        0.000453    1.434238e-04        0.000106   \n",
            "Potentiel_prenom_21        0.000040    1.581179e-05        0.000010   \n",
            "\n",
            "                     col_cos2_dim70  col_cos2_dim71  col_cos2_dim72  \\\n",
            "TypeHabi_01                0.002287        0.003639        0.000612   \n",
            "TypeHabi_02                0.001955        0.000289        0.003498   \n",
            "TypeHabi_03                0.000009        0.011298        0.003247   \n",
            "TypeHabi_04                0.000039        0.000048        0.000271   \n",
            "GeoFaz_Scl_11              0.010844        0.000836        0.019953   \n",
            "...                             ...             ...             ...   \n",
            "Potentiel_prenom_17        0.000711        0.000551        0.001745   \n",
            "Potentiel_prenom_18        0.003177        0.000587        0.007612   \n",
            "Potentiel_prenom_19        0.002920        0.000898        0.000019   \n",
            "Potentiel_prenom_20        0.000117        0.000718        0.000053   \n",
            "Potentiel_prenom_21        0.000002        0.000023        0.000006   \n",
            "\n",
            "                     col_cos2_dim73  col_cos2_dim74  col_cos2_dim75  \\\n",
            "TypeHabi_01                0.005095        0.001033        0.000112   \n",
            "TypeHabi_02                0.000140        0.000005        0.000601   \n",
            "TypeHabi_03                0.005073        0.001936        0.000432   \n",
            "TypeHabi_04                0.005322        0.000568        0.000457   \n",
            "GeoFaz_Scl_11              0.040014        0.000389        0.001251   \n",
            "...                             ...             ...             ...   \n",
            "Potentiel_prenom_17        0.000055        0.000919        0.000066   \n",
            "Potentiel_prenom_18        0.000906        0.000182        0.000118   \n",
            "Potentiel_prenom_19        0.000029        0.000064        0.002182   \n",
            "Potentiel_prenom_20        0.000399        0.000392        0.000395   \n",
            "Potentiel_prenom_21        0.000005        0.000004        0.000009   \n",
            "\n",
            "                     col_cos2_dim76  col_cos2_dim77  col_cos2_dim78  \\\n",
            "TypeHabi_01            1.451283e-03        0.000331        0.002084   \n",
            "TypeHabi_02            1.325034e-04        0.000063        0.000486   \n",
            "TypeHabi_03            1.056494e-03        0.000100        0.008857   \n",
            "TypeHabi_04            1.354044e-04        0.000806        0.000018   \n",
            "GeoFaz_Scl_11          3.310183e-04        0.001874        0.013485   \n",
            "...                             ...             ...             ...   \n",
            "Potentiel_prenom_17    1.538910e-04        0.000188        0.000452   \n",
            "Potentiel_prenom_18    2.119408e-04        0.002099        0.000885   \n",
            "Potentiel_prenom_19    1.444437e-05        0.000545        0.002734   \n",
            "Potentiel_prenom_20    2.119021e-04        0.000006        0.000840   \n",
            "Potentiel_prenom_21    8.430170e-09        0.000003        0.000019   \n",
            "\n",
            "                     col_cos2_dim79  col_cos2_dim80  col_cos2_dim81  \\\n",
            "TypeHabi_01            6.342735e-04        0.000285        0.000786   \n",
            "TypeHabi_02            3.425569e-05        0.000193        0.000076   \n",
            "TypeHabi_03            1.692840e-03        0.002051        0.002608   \n",
            "TypeHabi_04            1.864485e-04        0.000595        0.000064   \n",
            "GeoFaz_Scl_11          4.694376e-07        0.007592        0.004800   \n",
            "...                             ...             ...             ...   \n",
            "Potentiel_prenom_17    9.355182e-04        0.000013        0.000077   \n",
            "Potentiel_prenom_18    3.572285e-03        0.000042        0.000034   \n",
            "Potentiel_prenom_19    8.596355e-04        0.000111        0.001918   \n",
            "Potentiel_prenom_20    7.173855e-05        0.000116        0.000009   \n",
            "Potentiel_prenom_21    7.878938e-08        0.000001        0.000007   \n",
            "\n",
            "                     col_cos2_dim82  col_cos2_dim83  col_cos2_dim84  \\\n",
            "TypeHabi_01            5.811768e-04        0.001202    2.011413e-04   \n",
            "TypeHabi_02            6.222114e-04        0.000169    2.493743e-03   \n",
            "TypeHabi_03            1.621916e-05        0.000750    3.084320e-03   \n",
            "TypeHabi_04            2.160755e-04        0.000065    1.679262e-05   \n",
            "GeoFaz_Scl_11          1.365916e-02        0.002653    2.101270e-03   \n",
            "...                             ...             ...             ...   \n",
            "Potentiel_prenom_17    2.806821e-04        0.001018    5.983822e-05   \n",
            "Potentiel_prenom_18    5.319614e-04        0.000709    1.516967e-04   \n",
            "Potentiel_prenom_19    2.799779e-08        0.000161    2.678432e-04   \n",
            "Potentiel_prenom_20    3.467899e-05        0.000046    2.844507e-06   \n",
            "Potentiel_prenom_21    1.779432e-06        0.000012    2.730506e-07   \n",
            "\n",
            "                     col_cos2_dim85  col_cos2_dim86  col_cos2_dim87  \\\n",
            "TypeHabi_01                0.000273        0.005797    5.325085e-04   \n",
            "TypeHabi_02                0.000319        0.000052    4.530688e-04   \n",
            "TypeHabi_03                0.002298        0.008945    1.147721e-07   \n",
            "TypeHabi_04                0.000089        0.002354    9.439749e-05   \n",
            "GeoFaz_Scl_11              0.004270        0.014840    2.769973e-04   \n",
            "...                             ...             ...             ...   \n",
            "Potentiel_prenom_17        0.000192        0.000043    6.626442e-05   \n",
            "Potentiel_prenom_18        0.000023        0.000127    3.166157e-04   \n",
            "Potentiel_prenom_19        0.000043        0.000980    7.566262e-05   \n",
            "Potentiel_prenom_20        0.000393        0.000020    4.699193e-04   \n",
            "Potentiel_prenom_21        0.000008        0.000066    1.974715e-06   \n",
            "\n",
            "                     col_cos2_dim88  col_cos2_dim89  col_cos2_dim90  \\\n",
            "TypeHabi_01            3.912614e-04    8.382340e-05        0.000013   \n",
            "TypeHabi_02            1.780658e-05    1.054316e-04        0.000033   \n",
            "TypeHabi_03            1.131600e-03    1.826352e-05        0.000024   \n",
            "TypeHabi_04            1.421129e-04    1.703795e-04        0.000149   \n",
            "GeoFaz_Scl_11          5.607340e-04    3.552896e-03        0.006759   \n",
            "...                             ...             ...             ...   \n",
            "Potentiel_prenom_17    9.602664e-05    5.382630e-04        0.000118   \n",
            "Potentiel_prenom_18    2.794522e-04    1.646248e-04        0.000157   \n",
            "Potentiel_prenom_19    1.006371e-03    5.759772e-05        0.000733   \n",
            "Potentiel_prenom_20    6.157172e-04    8.343690e-06        0.000721   \n",
            "Potentiel_prenom_21    7.847290e-07    5.535035e-08        0.000009   \n",
            "\n",
            "                     col_cos2_dim91  col_cos2_dim92  col_cos2_dim93  \\\n",
            "TypeHabi_01            2.668076e-03    1.948362e-03    6.759698e-04   \n",
            "TypeHabi_02            3.797254e-08    2.345160e-06    1.712684e-03   \n",
            "TypeHabi_03            4.448591e-03    3.101292e-03    8.279506e-03   \n",
            "TypeHabi_04            4.463857e-04    8.518053e-05    4.453275e-03   \n",
            "GeoFaz_Scl_11          1.255612e-02    3.301320e-02    2.982269e-03   \n",
            "...                             ...             ...             ...   \n",
            "Potentiel_prenom_17    8.611806e-05    3.733847e-05    8.980095e-05   \n",
            "Potentiel_prenom_18    1.587540e-04    6.093917e-04    5.061745e-04   \n",
            "Potentiel_prenom_19    9.624655e-05    2.741821e-05    8.340974e-05   \n",
            "Potentiel_prenom_20    2.428278e-05    9.518982e-06    2.495255e-07   \n",
            "Potentiel_prenom_21    4.334188e-06    7.841143e-07    2.933319e-05   \n",
            "\n",
            "                     col_cos2_dim94  col_cos2_dim95  col_cos2_dim96  \\\n",
            "TypeHabi_01            6.020933e-04    2.465569e-04    2.429610e-05   \n",
            "TypeHabi_02            4.905207e-05    8.063865e-04    5.054960e-05   \n",
            "TypeHabi_03            1.762526e-03    4.042583e-04    3.087108e-05   \n",
            "TypeHabi_04            1.940929e-04    3.250599e-04    3.121420e-04   \n",
            "GeoFaz_Scl_11          8.738100e-03    1.187899e-03    2.191693e-05   \n",
            "...                             ...             ...             ...   \n",
            "Potentiel_prenom_17    2.434965e-06    4.302596e-05    1.705995e-04   \n",
            "Potentiel_prenom_18    1.599042e-04    7.373896e-05    4.780842e-04   \n",
            "Potentiel_prenom_19    1.584819e-04    3.496456e-05    1.858352e-04   \n",
            "Potentiel_prenom_20    1.058007e-05    2.124420e-04    8.431527e-05   \n",
            "Potentiel_prenom_21    8.776898e-07    3.690337e-07    4.003946e-07   \n",
            "\n",
            "                     col_cos2_dim97  col_cos2_dim98  col_cos2_dim99  \\\n",
            "TypeHabi_01                0.002208        0.001985        0.000061   \n",
            "TypeHabi_02                0.000237        0.000001        0.000048   \n",
            "TypeHabi_03                0.007203        0.003519        0.000448   \n",
            "TypeHabi_04                0.000074        0.000345        0.000027   \n",
            "GeoFaz_Scl_11              0.003665        0.002065        0.003072   \n",
            "...                             ...             ...             ...   \n",
            "Potentiel_prenom_17        0.000142        0.000026        0.000072   \n",
            "Potentiel_prenom_18        0.000013        0.000443        0.000001   \n",
            "Potentiel_prenom_19        0.000040        0.000044        0.000977   \n",
            "Potentiel_prenom_20        0.000171        0.000007        0.000085   \n",
            "Potentiel_prenom_21        0.000018        0.000024        0.000006   \n",
            "\n",
            "                     col_cos2_dim100  \n",
            "TypeHabi_01                 0.000666  \n",
            "TypeHabi_02                 0.000051  \n",
            "TypeHabi_03                 0.001966  \n",
            "TypeHabi_04                 0.000064  \n",
            "GeoFaz_Scl_11               0.001961  \n",
            "...                              ...  \n",
            "Potentiel_prenom_17         0.000002  \n",
            "Potentiel_prenom_18         0.000048  \n",
            "Potentiel_prenom_19         0.000127  \n",
            "Potentiel_prenom_20         0.000155  \n",
            "Potentiel_prenom_21         0.000023  \n",
            "\n",
            "[269 rows x 300 columns]\n"
          ],
          "name": "stdout"
        }
      ]
    },
    {
      "cell_type": "code",
      "metadata": {
        "colab": {
          "base_uri": "https://localhost:8080/"
        },
        "id": "irARzF0d8es8",
        "outputId": "279c7179-0b04-47de-bf1d-a51a8fbfcbe7"
      },
      "source": [
        "#nombre var. actives\n",
        "p = data.shape[1]-1\n",
        "print(p)\n",
        "#calcul des fonctions de projection\n",
        "fproj = np.zeros(acm.col_coord_.shape)\n",
        "#pour chaque colonne\n",
        "for j in range(fproj.shape[1]):\n",
        " fproj[:,j] = acm.col_coord_[:,j]/(p*np.sqrt(acm.eig_[0,j]))\n",
        "#affichage fonction\n",
        "print(fproj)\n",
        "#affichage plus avenant des deux premiers facteurs\n",
        "print(pd.DataFrame(fproj,index=acm.col_labels_))\n"
      ],
      "execution_count": 20,
      "outputs": [
        {
          "output_type": "stream",
          "text": [
            "15\n",
            "[[ 3.59309123e-02 -2.39199727e-02  2.86685910e-02 ...  1.98287086e-02\n",
            "   3.47465580e-03  1.15059848e-02]\n",
            " [-1.57060041e-02  8.80819897e-03 -1.17719599e-02 ... -1.86543376e-04\n",
            "   1.25763779e-03  1.29627738e-03]\n",
            " [ 1.48997091e-02 -1.04952469e-04  6.06181284e-03 ... -4.06938254e-02\n",
            "  -1.45242679e-02 -3.04682575e-02]\n",
            " ...\n",
            " [-1.36381364e-01  1.92394723e-03  1.05199151e-01 ...  6.96158367e-03\n",
            "   3.26948676e-02  1.18162069e-02]\n",
            " [-1.24910962e-01  2.67886812e-03  1.60024836e-01 ...  2.64338557e-03\n",
            "  -9.05677408e-03 -1.22761441e-02]\n",
            " [ 3.37097482e-02 -7.08975837e-01 -6.51930632e-02 ...  7.47849225e-03\n",
            "   3.83099418e-03 -7.31519271e-03]]\n",
            "                           0         1         2         3         4   \\\n",
            "TypeHabi_01          0.035931 -0.023920  0.028669 -0.033839  0.027299   \n",
            "TypeHabi_02         -0.015706  0.008808 -0.011772  0.012781 -0.010957   \n",
            "TypeHabi_03          0.014900 -0.000105  0.006062 -0.003174  0.004302   \n",
            "TypeHabi_04          0.006367 -0.087535  0.254786  0.073725  0.249701   \n",
            "GeoFaz_Scl_11       -0.013409 -0.000493  0.010426 -0.009280 -0.014874   \n",
            "...                       ...       ...       ...       ...       ...   \n",
            "Potentiel_prenom_17 -0.140937  0.006083 -0.111048 -0.098187  0.106224   \n",
            "Potentiel_prenom_18 -0.125609  0.004857 -0.032920 -0.059804  0.005783   \n",
            "Potentiel_prenom_19 -0.136381  0.001924  0.105199  0.009070 -0.106798   \n",
            "Potentiel_prenom_20 -0.124911  0.002679  0.160025 -0.012352 -0.203778   \n",
            "Potentiel_prenom_21  0.033710 -0.708976 -0.065193  0.131818 -0.013531   \n",
            "\n",
            "                           5         6         7         8         9   \\\n",
            "TypeHabi_01         -0.031316  0.032633 -0.051549  0.137872 -0.025926   \n",
            "TypeHabi_02          0.013390 -0.008903  0.021911 -0.058405  0.010876   \n",
            "TypeHabi_03         -0.011654  0.013769 -0.013972  0.041792 -0.008118   \n",
            "TypeHabi_04          0.051688 -4.944889 -0.641356  0.815791 -0.013590   \n",
            "GeoFaz_Scl_11       -0.015839  0.010616 -0.005558  0.017388  0.005746   \n",
            "...                       ...       ...       ...       ...       ...   \n",
            "Potentiel_prenom_17 -0.149838 -0.006020 -0.051219 -0.090450 -0.052383   \n",
            "Potentiel_prenom_18 -0.007969 -0.004065 -0.035579  0.005853 -0.250680   \n",
            "Potentiel_prenom_19  0.065725 -0.004912  0.156493  0.088749 -0.042445   \n",
            "Potentiel_prenom_20  0.062272  0.014706 -0.066905  0.016782  0.006854   \n",
            "Potentiel_prenom_21 -0.023681  0.004504  0.022922 -0.071471  0.004308   \n",
            "\n",
            "                           10        11        12        13        14  \\\n",
            "TypeHabi_01          0.009688 -0.018962  0.006679 -0.015512  0.047744   \n",
            "TypeHabi_02         -0.003497  0.007907 -0.003801  0.002510 -0.014176   \n",
            "TypeHabi_03          0.000397 -0.005199  0.007144  0.018097 -0.016934   \n",
            "TypeHabi_04         -0.086483 -0.085966  0.098605 -0.071048 -0.162466   \n",
            "GeoFaz_Scl_11       -0.009654 -0.007438 -0.031024  0.082612 -0.192913   \n",
            "...                       ...       ...       ...       ...       ...   \n",
            "Potentiel_prenom_17 -0.032210 -0.272090  0.002165  0.013369  0.000286   \n",
            "Potentiel_prenom_18  0.140528  0.266990 -0.241460  0.015783  0.001223   \n",
            "Potentiel_prenom_19 -0.031038 -0.086427  0.012335  0.218304  0.086108   \n",
            "Potentiel_prenom_20  0.007068  0.065080  0.260466  0.061624  0.011225   \n",
            "Potentiel_prenom_21  0.003200  0.031878  0.020604  0.012320 -0.008655   \n",
            "\n",
            "                           15        16        17        18        19  \\\n",
            "TypeHabi_01         -0.003603  0.001743 -0.008988  0.006077 -0.033995   \n",
            "TypeHabi_02          0.001195 -0.000698  0.005148 -0.003652  0.017987   \n",
            "TypeHabi_03          0.000334  0.000806 -0.011110  0.008127 -0.033457   \n",
            "TypeHabi_04          0.050675 -0.072071  0.080011  0.003539  0.270667   \n",
            "GeoFaz_Scl_11        0.006479  0.019970 -0.002798  0.005048  0.014226   \n",
            "...                       ...       ...       ...       ...       ...   \n",
            "Potentiel_prenom_17 -0.000260 -0.079755  0.036356  0.194444  0.046088   \n",
            "Potentiel_prenom_18  0.109430 -0.139717 -0.158160 -0.079927 -0.003461   \n",
            "Potentiel_prenom_19 -0.113033  0.038257  0.055685 -0.088379  0.037133   \n",
            "Potentiel_prenom_20  0.021513 -0.076507 -0.008288  0.112629 -0.087390   \n",
            "Potentiel_prenom_21 -0.002180  0.003770  0.012784  0.003734  0.013282   \n",
            "\n",
            "                           20        21        22        23        24  \\\n",
            "TypeHabi_01          0.063647 -0.034048  0.013150 -0.007432  0.012232   \n",
            "TypeHabi_02         -0.033804  0.017036 -0.004119  0.004847 -0.006731   \n",
            "TypeHabi_03          0.062560 -0.027857 -0.003510 -0.012252  0.013481   \n",
            "TypeHabi_04         -0.377037  0.250836 -0.035098  0.022940 -0.094065   \n",
            "GeoFaz_Scl_11       -0.010220  0.022922 -0.000488 -0.000243  0.021520   \n",
            "...                       ...       ...       ...       ...       ...   \n",
            "Potentiel_prenom_17  0.042806  0.062042  0.020810 -0.010554  0.042141   \n",
            "Potentiel_prenom_18  0.016926  0.004816  0.082953  0.087972 -0.032998   \n",
            "Potentiel_prenom_19 -0.019804 -0.017600  0.109962 -0.134049 -0.050083   \n",
            "Potentiel_prenom_20 -0.069200 -0.021077 -0.054016  0.071196  0.093129   \n",
            "Potentiel_prenom_21 -0.003467  0.021006 -0.002883  0.006483 -0.003782   \n",
            "\n",
            "                           25        26        27        28        29  \\\n",
            "TypeHabi_01         -0.008098 -0.002076 -0.005170  0.000264  0.002152   \n",
            "TypeHabi_02          0.004765  0.003997 -0.004107 -0.003827 -0.001282   \n",
            "TypeHabi_03         -0.010084 -0.017876  0.031961  0.020811  0.003205   \n",
            "TypeHabi_04         -0.032533 -0.068849  0.297147  0.040937 -0.062365   \n",
            "GeoFaz_Scl_11        0.007159 -0.026418  0.041528 -0.005983 -0.035857   \n",
            "...                       ...       ...       ...       ...       ...   \n",
            "Potentiel_prenom_17 -0.063502  0.008709 -0.025251  0.067041  0.043639   \n",
            "Potentiel_prenom_18 -0.060269 -0.008169 -0.018828  0.061996 -0.020594   \n",
            "Potentiel_prenom_19  0.026243 -0.132777 -0.022715  0.003791  0.199417   \n",
            "Potentiel_prenom_20 -0.027054  0.087138  0.021693  0.044578 -0.123013   \n",
            "Potentiel_prenom_21  0.004738 -0.018234  0.005522  0.004781 -0.003013   \n",
            "\n",
            "                           30        31        32        33        34  \\\n",
            "TypeHabi_01          0.009614 -0.021512  0.018452 -0.084376  0.009615   \n",
            "TypeHabi_02         -0.006270  0.009405 -0.010855  0.043498 -0.004037   \n",
            "TypeHabi_03          0.015386 -0.007863  0.023421 -0.070796  0.002530   \n",
            "TypeHabi_04          0.045604 -0.176577 -0.000654 -0.265118  0.086535   \n",
            "GeoFaz_Scl_11       -0.043088  0.066834 -0.035968  0.301086 -0.045458   \n",
            "...                       ...       ...       ...       ...       ...   \n",
            "Potentiel_prenom_17  0.023166  0.020847 -0.009135 -0.006169 -0.030820   \n",
            "Potentiel_prenom_18  0.034505  0.020603 -0.034847 -0.027582  0.043591   \n",
            "Potentiel_prenom_19 -0.061401  0.066445  0.007608  0.008564  0.058544   \n",
            "Potentiel_prenom_20  0.190671 -0.003703 -0.094475 -0.015543 -0.071439   \n",
            "Potentiel_prenom_21  0.008094  0.001321 -0.002571  0.006754  0.008134   \n",
            "\n",
            "                           35        36        37        38        39  \\\n",
            "TypeHabi_01         -0.004610  0.019482 -0.008174  0.012397 -0.009405   \n",
            "TypeHabi_02          0.003456 -0.009270  0.003347 -0.007418  0.004565   \n",
            "TypeHabi_03         -0.010061  0.012322 -0.001965  0.016023 -0.005639   \n",
            "TypeHabi_04          0.001533  0.005578 -0.025956  0.067942 -0.135407   \n",
            "GeoFaz_Scl_11       -0.025813 -0.059416  0.040799 -0.021961 -0.002321   \n",
            "...                       ...       ...       ...       ...       ...   \n",
            "Potentiel_prenom_17  0.012119  0.027087 -0.030816 -0.030732 -0.020097   \n",
            "Potentiel_prenom_18  0.076820 -0.068685  0.027637 -0.050525 -0.003171   \n",
            "Potentiel_prenom_19 -0.022707  0.052981  0.069776  0.096149  0.060169   \n",
            "Potentiel_prenom_20 -0.041782  0.004020 -0.058626 -0.056439 -0.044113   \n",
            "Potentiel_prenom_21  0.005210 -0.001855 -0.010992 -0.006625  0.018554   \n",
            "\n",
            "                           40        41        42        43        44  \\\n",
            "TypeHabi_01          0.000690 -0.003897  0.004958 -0.006774  0.020710   \n",
            "TypeHabi_02         -0.023992  0.008004  0.005378  0.011855 -0.000514   \n",
            "TypeHabi_03          0.132779 -0.036401 -0.040233 -0.052886 -0.042664   \n",
            "TypeHabi_04          0.200908 -0.127142 -0.048595 -0.022303  0.499083   \n",
            "GeoFaz_Scl_11       -0.019049  0.004136 -0.002848  0.027023 -0.039639   \n",
            "...                       ...       ...       ...       ...       ...   \n",
            "Potentiel_prenom_17 -0.012819 -0.055704 -0.008534  0.015531 -0.033124   \n",
            "Potentiel_prenom_18  0.041526  0.048126 -0.006432 -0.041661 -0.011283   \n",
            "Potentiel_prenom_19  0.013925  0.022465  0.071960 -0.058962  0.038594   \n",
            "Potentiel_prenom_20 -0.037425 -0.041622 -0.019951  0.046577  0.010046   \n",
            "Potentiel_prenom_21 -0.005895  0.002551 -0.001129  0.000594  0.021226   \n",
            "\n",
            "                           45        46        47        48        49  \\\n",
            "TypeHabi_01         -0.011484  0.001510 -0.020671  0.015157 -0.007764   \n",
            "TypeHabi_02         -0.007917  0.018695 -0.012260  0.007852 -0.005099   \n",
            "TypeHabi_03          0.068541 -0.107602  0.112817 -0.075664  0.043797   \n",
            "TypeHabi_04         -0.046822 -0.166843 -0.194302  0.039103  0.149318   \n",
            "GeoFaz_Scl_11        0.054113 -0.111104 -0.078839  0.007077 -0.010644   \n",
            "...                       ...       ...       ...       ...       ...   \n",
            "Potentiel_prenom_17 -0.030853  0.006560 -0.007667  0.019963 -0.028963   \n",
            "Potentiel_prenom_18 -0.044999  0.021189 -0.018126  0.048059 -0.004974   \n",
            "Potentiel_prenom_19  0.109680  0.046485 -0.013832  0.141725  0.001190   \n",
            "Potentiel_prenom_20  0.026521 -0.004194 -0.020670 -0.069736  0.023200   \n",
            "Potentiel_prenom_21 -0.006826 -0.011202  0.026338 -0.017285  0.009770   \n",
            "\n",
            "                           50        51        52        53        54  \\\n",
            "TypeHabi_01         -0.004628  0.024911 -0.015016  0.012394  0.006492   \n",
            "TypeHabi_02         -0.004759  0.013848 -0.014008  0.014255  0.004280   \n",
            "TypeHabi_03          0.034721 -0.129402  0.110922 -0.103987 -0.038680   \n",
            "TypeHabi_04          0.265702  0.019059 -0.168518 -0.310053  0.194938   \n",
            "GeoFaz_Scl_11        0.159427  0.117552 -0.116235 -0.057791  0.057386   \n",
            "...                       ...       ...       ...       ...       ...   \n",
            "Potentiel_prenom_17 -0.036130 -0.024971 -0.039816 -0.039690  0.008239   \n",
            "Potentiel_prenom_18  0.004108 -0.006376  0.014480  0.025703 -0.043791   \n",
            "Potentiel_prenom_19 -0.036441  0.005651 -0.006295 -0.039323  0.117876   \n",
            "Potentiel_prenom_20  0.053480  0.026211  0.012079  0.034897 -0.097344   \n",
            "Potentiel_prenom_21  0.010959 -0.016794  0.002937 -0.019003 -0.003844   \n",
            "\n",
            "                           55        56        57        58        59  \\\n",
            "TypeHabi_01         -0.016027 -0.003236  0.003828  0.011769 -0.005048   \n",
            "TypeHabi_02         -0.009686  0.004924 -0.000677 -0.003547 -0.009330   \n",
            "TypeHabi_03          0.088857 -0.021984 -0.003621 -0.003497  0.064230   \n",
            "TypeHabi_04         -0.210481  0.134757 -0.067175 -0.101879 -0.195308   \n",
            "GeoFaz_Scl_11       -0.082751  0.023092  0.076935  0.068167  0.138667   \n",
            "...                       ...       ...       ...       ...       ...   \n",
            "Potentiel_prenom_17 -0.014664 -0.024816  0.009127  0.007021 -0.014212   \n",
            "Potentiel_prenom_18 -0.047539 -0.012021  0.021024 -0.010274  0.004832   \n",
            "Potentiel_prenom_19  0.016699 -0.072605 -0.034910  0.019002  0.017163   \n",
            "Potentiel_prenom_20  0.019159  0.052667  0.069684 -0.007785 -0.028190   \n",
            "Potentiel_prenom_21  0.002900 -0.002983 -0.003676 -0.001345  0.002662   \n",
            "\n",
            "                           60        61        62        63        64  \\\n",
            "TypeHabi_01         -0.001600 -0.006894  0.014162  0.007629 -0.001723   \n",
            "TypeHabi_02         -0.016758  0.001821 -0.005478  0.008599 -0.007669   \n",
            "TypeHabi_03          0.097872  0.003123  0.002419 -0.063146  0.048044   \n",
            "TypeHabi_04          0.001370  0.120648 -0.089921 -0.169900 -0.197594   \n",
            "GeoFaz_Scl_11       -0.010671 -0.032407 -0.141386  0.103926  0.158174   \n",
            "...                       ...       ...       ...       ...       ...   \n",
            "Potentiel_prenom_17 -0.012613  0.009865 -0.030468 -0.017932  0.040992   \n",
            "Potentiel_prenom_18  0.036609 -0.005708 -0.052525 -0.001040 -0.027846   \n",
            "Potentiel_prenom_19  0.004554  0.038006  0.053966  0.013095  0.052392   \n",
            "Potentiel_prenom_20 -0.032993  0.004107 -0.057322 -0.017062  0.012436   \n",
            "Potentiel_prenom_21 -0.000483 -0.002869  0.000391  0.005543  0.001341   \n",
            "\n",
            "                           65        66        67        68        69  \\\n",
            "TypeHabi_01         -0.012388 -0.005648 -0.003648 -0.037529  0.020615   \n",
            "TypeHabi_02         -0.004235  0.002041  0.000132  0.001134 -0.007790   \n",
            "TypeHabi_03          0.049619  0.001280  0.007159  0.067922  0.002025   \n",
            "TypeHabi_04         -0.047574 -0.196449 -0.068018  0.434313 -0.056231   \n",
            "GeoFaz_Scl_11       -0.263360  0.044686 -0.168899 -0.178335 -0.126353   \n",
            "...                       ...       ...       ...       ...       ...   \n",
            "Potentiel_prenom_17 -0.009851 -0.008089 -0.002541 -0.005759  0.023127   \n",
            "Potentiel_prenom_18  0.023389  0.035976  0.009208  0.015399 -0.058060   \n",
            "Potentiel_prenom_19 -0.033282  0.062848  0.004000  0.034269  0.054700   \n",
            "Potentiel_prenom_20 -0.005772 -0.020185 -0.011381 -0.009786  0.010309   \n",
            "Potentiel_prenom_21 -0.001086 -0.009285 -0.005844  0.004634  0.002175   \n",
            "\n",
            "                           70        71        72        73        74  \\\n",
            "TypeHabi_01          0.026096  0.010705 -0.030926 -0.013944 -0.004613   \n",
            "TypeHabi_02          0.003004 -0.010462  0.002094 -0.000381  0.004359   \n",
            "TypeHabi_03         -0.070884  0.038011  0.047570  0.029431 -0.013943   \n",
            "TypeHabi_04          0.062355 -0.148777  0.659516  0.215812 -0.194126   \n",
            "GeoFaz_Scl_11        0.035216 -0.172075  0.243967  0.024090  0.043302   \n",
            "...                       ...       ...       ...       ...       ...   \n",
            "Potentiel_prenom_17 -0.020444 -0.036377 -0.006483 -0.026477 -0.007111   \n",
            "Potentiel_prenom_18  0.025041  0.090220  0.031162  0.014004  0.011290   \n",
            "Potentiel_prenom_19 -0.030447 -0.004476 -0.005443  0.008145 -0.047710   \n",
            "Potentiel_prenom_20 -0.025637  0.006990 -0.019153 -0.018999 -0.019124   \n",
            "Potentiel_prenom_21  0.007168 -0.003707  0.003159  0.003036 -0.004451   \n",
            "\n",
            "                           75        76        77        78        79  \\\n",
            "TypeHabi_01         -0.016587 -0.007931  0.019940  0.011022  0.007387   \n",
            "TypeHabi_02          0.002049  0.001411  0.003934  0.001047  0.002487   \n",
            "TypeHabi_03          0.021815  0.006714 -0.063363 -0.027758 -0.030567   \n",
            "TypeHabi_04          0.105716  0.258108  0.039047 -0.124697  0.222860   \n",
            "GeoFaz_Scl_11       -0.022299 -0.053097 -0.142778 -0.000844  0.107392   \n",
            "...                       ...       ...       ...       ...       ...   \n",
            "Potentiel_prenom_17 -0.010870  0.012038  0.018690 -0.026939 -0.003194   \n",
            "Potentiel_prenom_18 -0.015147 -0.047697 -0.031047  0.062509 -0.006753   \n",
            "Potentiel_prenom_19  0.003886  0.023884  0.053627 -0.030134  0.010824   \n",
            "Potentiel_prenom_20 -0.014021  0.002288 -0.028003  0.008201 -0.010432   \n",
            "Potentiel_prenom_21  0.000137  0.002674  0.006485 -0.000420  0.001550   \n",
            "\n",
            "                           80        81        82        83        84  \\\n",
            "TypeHabi_01          0.012289  0.010574  0.015223  0.006229  0.007266   \n",
            "TypeHabi_02          0.001565 -0.004472 -0.002331 -0.008965  0.003211   \n",
            "TypeHabi_03         -0.034500  0.002723 -0.018532  0.037597 -0.032499   \n",
            "TypeHabi_04          0.073179  0.134530  0.073738  0.037552 -0.086685   \n",
            "GeoFaz_Scl_11        0.085466  0.144302 -0.063655 -0.056670  0.080905   \n",
            "...                       ...       ...       ...       ...       ...   \n",
            "Potentiel_prenom_17 -0.007750  0.014788  0.028186 -0.006837  0.012272   \n",
            "Potentiel_prenom_18  0.006138 -0.024174 -0.027941 -0.012926  0.005006   \n",
            "Potentiel_prenom_19  0.045072  0.000172  0.013085 -0.016878 -0.006789   \n",
            "Potentiel_prenom_20 -0.002891 -0.005714 -0.006586  0.001639  0.019291   \n",
            "Potentiel_prenom_21  0.003977  0.002002  0.005240 -0.000785 -0.004321   \n",
            "\n",
            "                           85        86        87        88        89  \\\n",
            "TypeHabi_01         -0.033540 -0.010170 -0.008731 -0.004046 -0.001575   \n",
            "TypeHabi_02          0.001300  0.003835 -0.000761  0.001855  0.001042   \n",
            "TypeHabi_03          0.064228 -0.000230  0.022890 -0.002912 -0.003344   \n",
            "TypeHabi_04         -0.445949 -0.089346 -0.109801  0.120373  0.112618   \n",
            "GeoFaz_Scl_11        0.151067 -0.020648  0.029425 -0.074158 -0.102324   \n",
            "...                       ...       ...       ...       ...       ...   \n",
            "Potentiel_prenom_17  0.005828 -0.007220 -0.008705  0.020635  0.009655   \n",
            "Potentiel_prenom_18 -0.011878 -0.018739 -0.017633 -0.013551  0.013225   \n",
            "Potentiel_prenom_19  0.032387  0.009002  0.032884  0.007877 -0.028102   \n",
            "Potentiel_prenom_20 -0.004375 -0.021135 -0.024232  0.002824  0.026256   \n",
            "Potentiel_prenom_21 -0.012256  0.002119 -0.001338 -0.000356  0.004456   \n",
            "\n",
            "                           90        91        92        93        94  \\\n",
            "TypeHabi_01         -0.022862 -0.019557 -0.011528  0.010882  0.006970   \n",
            "TypeHabi_02          0.000035  0.000277 -0.007501  0.001270 -0.005153   \n",
            "TypeHabi_03          0.045506  0.038035  0.062193 -0.028701  0.013759   \n",
            "TypeHabi_04          0.195123  0.085326  0.617408 -0.128925  0.167002   \n",
            "GeoFaz_Scl_11        0.139612 -0.226618  0.068163 -0.116703 -0.043070   \n",
            "...                       ...       ...       ...       ...       ...   \n",
            "Potentiel_prenom_17  0.008266  0.005448  0.008456  0.001393 -0.005860   \n",
            "Potentiel_prenom_18  0.013326 -0.026137 -0.023838 -0.013402  0.009109   \n",
            "Potentiel_prenom_19  0.010197  0.005448 -0.009510  0.013111 -0.006164   \n",
            "Potentiel_prenom_20  0.004825 -0.003024 -0.000490 -0.003191 -0.014314   \n",
            "Potentiel_prenom_21  0.003153 -0.001342  0.008216  0.001422  0.000923   \n",
            "\n",
            "                           95        96        97        98        99  \n",
            "TypeHabi_01          0.002190  0.020885  0.019829  0.003475  0.011506  \n",
            "TypeHabi_02         -0.001291  0.002797 -0.000187  0.001258  0.001296  \n",
            "TypeHabi_03          0.003806 -0.058145 -0.040694 -0.014524 -0.030468  \n",
            "TypeHabi_04         -0.163798 -0.079867  0.172533  0.047994 -0.074126  \n",
            "GeoFaz_Scl_11        0.005856  0.075744 -0.056934  0.069477 -0.055572  \n",
            "...                       ...       ...       ...       ...       ...  \n",
            "Potentiel_prenom_17 -0.011679 -0.010669 -0.004570 -0.007582  0.001325  \n",
            "Potentiel_prenom_18  0.023216 -0.003810  0.022375 -0.001179 -0.007347  \n",
            "Potentiel_prenom_19 -0.014224  0.006617  0.006962  0.032695  0.011816  \n",
            "Potentiel_prenom_20  0.009026 -0.012854  0.002643 -0.009057 -0.012276  \n",
            "Potentiel_prenom_21 -0.000962  0.006377  0.007478  0.003831 -0.007315  \n",
            "\n",
            "[269 rows x 100 columns]\n"
          ],
          "name": "stdout"
        }
      ]
    },
    {
      "cell_type": "code",
      "metadata": {
        "id": "TYbwi6XPom6o"
      },
      "source": [
        ""
      ],
      "execution_count": 20,
      "outputs": []
    },
    {
      "cell_type": "code",
      "metadata": {
        "id": "yk7314rJo8ss",
        "colab": {
          "base_uri": "https://localhost:8080/"
        },
        "outputId": "6045212c-2a0f-493a-c4f9-8d7f0c1d6107"
      },
      "source": [
        "# affichafe des 10 premières lignes\n",
        "print(coord[:2,:])\n"
      ],
      "execution_count": 21,
      "outputs": [
        {
          "output_type": "stream",
          "text": [
            "[[ 9.08979382e-01 -2.05119427e-01  1.57517015e+00 -3.05136158e-01\n",
            "   1.53599785e+00 -1.20008100e-01 -4.73799717e+00 -2.42533702e-01\n",
            "   3.87945315e-02 -1.50274363e-01 -3.55785423e-01 -4.49972520e-01\n",
            "   1.85255749e-02  6.96443586e-01  3.24777282e-01  1.30102309e+00\n",
            "   4.52032263e-01 -5.83384593e-01  1.08478743e-01 -2.95884655e-01\n",
            "  -6.17258467e-01 -1.68785502e-01 -1.46199393e-01  7.57290088e-02\n",
            "   3.70639417e-01  7.61341295e-01  2.71984855e-01 -1.63252762e-01\n",
            "   4.37907877e-01 -1.19949123e+00  7.78940558e-01  5.89571365e-01\n",
            "   1.54807128e+00  5.77616687e-01  7.90790784e-01  1.20992298e+00\n",
            "   3.47589010e-01 -1.36674090e-01  1.20771278e+00  1.09098986e+00\n",
            "   7.53721276e-01  7.42681797e-01  1.41070580e+00  4.49963544e-01\n",
            "  -9.77015548e-01 -6.65407324e-01  2.21706266e-01 -6.08697102e-01\n",
            "  -6.81041353e-01 -5.58085158e-01  8.17501657e-02  2.94912217e-02\n",
            "   8.00669833e-02  4.65015351e-01  2.55866021e-01  5.23220346e-01\n",
            "  -1.33097022e-01  2.18734148e-01  2.36644192e-01  2.26232335e-01\n",
            "   4.69754430e-01 -2.60058261e-01 -1.65077923e-01  1.02213576e-01\n",
            "  -5.66411357e-01  7.26050173e-01 -3.96827053e-02  5.67085093e-01\n",
            "  -4.08819487e-01  8.95766985e-01 -1.12060123e+00 -5.56671971e-01\n",
            "  -8.87500993e-01 -1.71776781e-01 -7.30258339e-02 -2.06339029e-01\n",
            "  -9.65104481e-01 -9.17284779e-01 -2.86463753e-02 -2.68121676e-01\n",
            "  -2.69954496e-01  3.17579038e-01 -2.97826491e-01 -1.12135437e+00\n",
            "   4.78890638e-01  9.69814229e-01  2.95078947e-01 -2.01502656e-01\n",
            "   1.53341218e-01  3.64908437e-01  2.13238591e-01 -2.03756846e-01\n",
            "  -7.21323800e-01  7.18315308e-03 -2.69920022e-02 -6.71013940e-02\n",
            "   3.85402757e-01  5.71621048e-01 -2.66159182e-01  2.34633786e-01]\n",
            " [ 6.06766587e-01  6.94001569e-02  1.06984114e-01 -1.57321343e-01\n",
            "  -5.37741690e-01 -5.02357490e-01 -4.34866280e-02 -7.77334081e-03\n",
            "  -1.31229262e-01  3.58073585e-01  2.17330937e-01 -9.95988855e-02\n",
            "  -1.12856307e-01 -3.59499889e-01  1.45761745e-01 -1.08296802e-01\n",
            "   1.52634995e-01 -1.27914734e-02 -2.67111632e-01 -2.15586118e-01\n",
            "   1.05732489e-01 -1.57688949e-01 -4.16192833e-01  1.79041421e-01\n",
            "  -2.43471952e-01 -3.47885283e-02  8.80696977e-02 -3.59903079e-01\n",
            "  -4.22464828e-02 -1.64505896e-01  2.56627124e-01 -8.32208132e-02\n",
            "   2.81741273e-02 -6.17655147e-01  2.95976915e-01 -4.23053873e-01\n",
            "  -5.64745936e-02  7.34781787e-01  1.47260427e-01  2.38605221e-01\n",
            "   3.54305683e-01  4.27915338e-02  2.05310093e-01 -1.87604173e-01\n",
            "   4.55918024e-01  5.16119796e-01 -9.38330201e-03 -2.20286538e-02\n",
            "   7.49349799e-02 -2.10280261e-01 -3.32120273e-02  2.13817605e-01\n",
            "   1.54940922e-02  3.89120228e-01 -3.06228592e-02 -1.07643410e-01\n",
            "  -2.68771094e-01 -1.54057735e-01 -5.34862709e-04  1.43211456e-01\n",
            "   1.63187133e-01 -1.92919951e-01  2.41746803e-03 -6.17233624e-01\n",
            "   1.27576975e-01  1.35548287e-01  4.48086802e-01 -4.63509260e-01\n",
            "  -1.96650771e-01 -1.14205952e-01  3.33842694e-01 -2.66833198e-02\n",
            "  -3.57863016e-01 -2.34902992e-03 -5.43240603e-01  1.44554302e-01\n",
            "   9.71097091e-02  1.64516578e-01 -2.77557845e-01 -4.35206842e-01\n",
            "   6.56191941e-02  3.00800954e-01  1.29125441e-01  1.23851653e-02\n",
            "   1.20312827e-01 -2.52559520e-01  2.49899383e-01 -8.38667203e-04\n",
            "   1.71358314e-01  6.02949460e-02  2.66986874e-01 -2.94595267e-01\n",
            "  -2.47240336e-01 -1.61959300e-01  1.68743803e-01  2.30941605e-01\n",
            "   2.61569551e-01 -1.04529532e-01  4.33787408e-02 -1.26597640e-01]]\n"
          ],
          "name": "stdout"
        }
      ]
    },
    {
      "cell_type": "code",
      "metadata": {
        "id": "XZXRt7tZSM2r",
        "colab": {
          "base_uri": "https://localhost:8080/"
        },
        "outputId": "4ae85f0b-a254-44b7-f6f3-7f0cfdb65bb5"
      },
      "source": [
        "#print(data_sans_nan.shape)\n",
        "#print(coord_sans_nan.shape)\n",
        "#print(data_sans_nan.iloc[:,0])\n",
        "#dfff.isnull().sum(axis=0)\n",
        "data.info()"
      ],
      "execution_count": 22,
      "outputs": [
        {
          "output_type": "stream",
          "text": [
            "<class 'pandas.core.frame.DataFrame'>\n",
            "RangeIndex: 1219999 entries, 0 to 1219998\n",
            "Data columns (total 16 columns):\n",
            " #   Column              Non-Null Count    Dtype \n",
            "---  ------              --------------    ----- \n",
            " 0   IDENT               1219999 non-null  object\n",
            " 1   TypeHabi            1219999 non-null  object\n",
            " 2   GeoFaz_Scl          1219999 non-null  object\n",
            " 3   Anciennete          1219999 non-null  object\n",
            " 4   Logement_prix_m2    1219999 non-null  object\n",
            " 5   Mediane_RFR         1219999 non-null  object\n",
            " 6   Sexe                1219999 non-null  object\n",
            " 7   Prenom_Phase_scl_H  1219999 non-null  object\n",
            " 8   Prenom_Phase_scl_F  1219999 non-null  object\n",
            " 9   Age_H               1219999 non-null  object\n",
            " 10  Age_F               1219999 non-null  object\n",
            " 11  Affinite_1          1219999 non-null  object\n",
            " 12  Affinite_2          1219999 non-null  object\n",
            " 13  Prenom_effectif     1219999 non-null  object\n",
            " 14  Potentiel_prenom    1219999 non-null  object\n",
            " 15  Top_mon             127115 non-null   object\n",
            "dtypes: object(16)\n",
            "memory usage: 148.9+ MB\n"
          ],
          "name": "stdout"
        }
      ]
    },
    {
      "cell_type": "code",
      "metadata": {
        "id": "NpZCCbB4VJmr",
        "colab": {
          "base_uri": "https://localhost:8080/"
        },
        "outputId": "28132a86-7336-44b4-b948-34619c9c24c4"
      },
      "source": [
        "## ATTENTION\n",
        "# élimination des individus n'ayant pas de valeur pour la variable Top_mon\n",
        "data_sans_nan = data[(data.isnull()).sum(axis=1) == 0]\n",
        "coord_sans_nan = coord[(data.isnull()).sum(axis=1) == 0] # coordonnées\n",
        "\n",
        "#conversion du type de variable\n",
        "for i in range(1,data_sans_nan.shape[1]):\n",
        "    data_sans_nan.iloc[:,i]=data_sans_nan.iloc[:,i].astype(int) # essayer avec int64\n",
        "\n",
        "# création\n",
        "def creation_df_temp(data_sans_nan, coord_sans_nan):\n",
        "    dfff = pd.DataFrame()\n",
        "    dfff[\"IDENT\"] = data_sans_nan.iloc[:,0]\n",
        "    for i in range(coord_sans_nan.shape[1] ): #avant 10\n",
        "        dfff[str(i)]=coord_sans_nan[:,i]\n",
        "    dfff[\"Top_mon\"] = data_sans_nan.iloc[:,data_sans_nan.shape[1]-1].astype(int)\n",
        "    return dfff\n",
        "# stockage\n",
        "data_coord_nan = creation_df_temp(data_sans_nan, coord_sans_nan)\n",
        "data_coord_nan.info()\n",
        "#data_coord_nan = dfff \n",
        "\n",
        "# maintien des individus  n'ayant pas de valeur pour la variable Top_mon\n",
        "\n",
        "data_avec_nan = data\n",
        "coord_avec_nan = coord # coordonnées\n",
        "def creation_df_temp_2(data_sans_nan, coord_sans_nan):\n",
        "    dfff = pd.DataFrame()\n",
        "    dfff[\"IDENT\"] = data_sans_nan.iloc[:,0]\n",
        "    for i in range(coord_sans_nan.shape[1]): # avant 10\n",
        "        dfff[str(i)]=coord_sans_nan[:,i]\n",
        "\n",
        "    dfff[\"Top_mon\"] = data_sans_nan.iloc[:,data_sans_nan.shape[1]-1] #.astype(int)\n",
        "\n",
        "    dfff[\"Top_mon\"] = dfff[\"Top_mon\"].replace(1.0, '1')\n",
        "    dfff[\"Top_mon\"] = dfff[\"Top_mon\"].replace(2.0,'2')\n",
        "    #for j in range(data_sans_nan.shape[1]):\n",
        "    #    if dfff.iloc[j,10+1] == 2.0:\n",
        "    #        dfff.iloc[j,10+1] = 2\n",
        "    #    if dfff.iloc[j, 10+1] ==1.0:\n",
        "    #        dfff.iloc[j,10+1] =1\n",
        "\n",
        "    return dfff\n",
        "data_coord_avec_nan = creation_df_temp_2(data_avec_nan, coord_avec_nan)\n",
        "data_coord_avec_nan.info()\n",
        "\n"
      ],
      "execution_count": 23,
      "outputs": [
        {
          "output_type": "stream",
          "text": [
            "/usr/local/lib/python3.7/dist-packages/pandas/core/indexing.py:1781: SettingWithCopyWarning: \n",
            "A value is trying to be set on a copy of a slice from a DataFrame.\n",
            "Try using .loc[row_indexer,col_indexer] = value instead\n",
            "\n",
            "See the caveats in the documentation: https://pandas.pydata.org/pandas-docs/stable/user_guide/indexing.html#returning-a-view-versus-a-copy\n",
            "  self.obj[item_labels[indexer[info_axis]]] = value\n",
            "/usr/local/lib/python3.7/dist-packages/pandas/core/indexing.py:1743: SettingWithCopyWarning: \n",
            "A value is trying to be set on a copy of a slice from a DataFrame.\n",
            "Try using .loc[row_indexer,col_indexer] = value instead\n",
            "\n",
            "See the caveats in the documentation: https://pandas.pydata.org/pandas-docs/stable/user_guide/indexing.html#returning-a-view-versus-a-copy\n",
            "  isetter(ilocs[0], value)\n"
          ],
          "name": "stderr"
        },
        {
          "output_type": "stream",
          "text": [
            "<class 'pandas.core.frame.DataFrame'>\n",
            "Int64Index: 127115 entries, 0 to 127114\n",
            "Columns: 102 entries, IDENT to Top_mon\n",
            "dtypes: float64(100), int64(1), object(1)\n",
            "memory usage: 99.9+ MB\n",
            "<class 'pandas.core.frame.DataFrame'>\n",
            "RangeIndex: 1219999 entries, 0 to 1219998\n",
            "Columns: 102 entries, IDENT to Top_mon\n",
            "dtypes: float64(100), object(2)\n",
            "memory usage: 949.4+ MB\n"
          ],
          "name": "stdout"
        }
      ]
    },
    {
      "cell_type": "code",
      "metadata": {
        "id": "LJ4G93RJxEdo"
      },
      "source": [
        ""
      ],
      "execution_count": 23,
      "outputs": []
    },
    {
      "cell_type": "code",
      "metadata": {
        "id": "CuvxB6-qYNzJ",
        "colab": {
          "base_uri": "https://localhost:8080/"
        },
        "outputId": "09084786-2d79-4f41-b2dd-7515d8213b03"
      },
      "source": [
        "from sklearn.discriminant_analysis import LinearDiscriminantAnalysis, QuadraticDiscriminantAnalysis\n",
        "\n",
        "from sklearn.metrics import f1_score, confusion_matrix, classification_report\n",
        "from sklearn.model_selection import train_test_split, learning_curve, GridSearchCV\n",
        "\n",
        "import imblearn\n",
        "from imblearn.combine import SMOTETomek\n",
        "from imblearn.under_sampling import TomekLinks\n",
        "from imblearn.over_sampling import SMOTE\n"
      ],
      "execution_count": 24,
      "outputs": [
        {
          "output_type": "stream",
          "text": [
            "/usr/local/lib/python3.7/dist-packages/sklearn/externals/six.py:31: FutureWarning: The module is deprecated in version 0.21 and will be removed in version 0.23 since we've dropped support for Python 2.7. Please rely on the official version of six (https://pypi.org/project/six/).\n",
            "  \"(https://pypi.org/project/six/).\", FutureWarning)\n",
            "/usr/local/lib/python3.7/dist-packages/sklearn/utils/deprecation.py:144: FutureWarning: The sklearn.neighbors.base module is  deprecated in version 0.22 and will be removed in version 0.24. The corresponding classes / functions should instead be imported from sklearn.neighbors. Anything that cannot be imported from sklearn.neighbors is now part of the private API.\n",
            "  warnings.warn(message, FutureWarning)\n"
          ],
          "name": "stderr"
        }
      ]
    },
    {
      "cell_type": "code",
      "metadata": {
        "id": "7ksFu0t_cirJ"
      },
      "source": [
        "#data_coord_nan.shape\n",
        "#train_X_s.shape"
      ],
      "execution_count": 25,
      "outputs": []
    },
    {
      "cell_type": "code",
      "metadata": {
        "id": "S0jwerFqbXh-"
      },
      "source": [
        "#data_non_corr = elimination_val_corr(data)\n",
        "#nb_var = data_non_corr.shape[1] - 1\n",
        "nb_var = data_coord_nan.shape[1] - 1\n",
        "\n",
        "train_set, test_set = train_test_split(data_coord_nan, test_size = 0.2, random_state=0) # , stratify =data_coord_nan[\"IFI+\"] )\n",
        "\n",
        "train_X_s = (train_set.iloc[:,1:nb_var]).to_numpy()\n",
        "train_Y_s = np.asanyarray(train_set.iloc[:,nb_var])\n",
        "\n",
        "test_X_s = (test_set.iloc[:,1:nb_var]).to_numpy()\n",
        "test_Y_s = np.asanyarray(test_set.iloc[:,nb_var])\n",
        "\n",
        "# comme les résulats sont en overfitting :\n",
        "# Résultat du traitement sur le train set (under-sampling et over-sampling)\n",
        "#abc_test = pd.read_csv(\"/content/drive/MyDrive/spad_score_method_1/spad_projection_FDFTOT21/sans_val_corr_spad_under_over_sampling.txt\", delim_whitespace=\"\\t\", header = None, low_memory=False, dtype=\"Int64\" ) #, dtype='Int64')\n",
        "#abc_np = abc_test.to_numpy(dtype=\"Int64\")\n",
        "\n",
        "#X_resampled = abc_np[:,:-1]\n",
        "#y_resampled = abc_np[:, abc_np.shape[1] -1 ]\n"
      ],
      "execution_count": 26,
      "outputs": []
    },
    {
      "cell_type": "code",
      "metadata": {
        "colab": {
          "base_uri": "https://localhost:8080/",
          "height": 231
        },
        "id": "iMyvFOxwXgcu",
        "outputId": "9657a206-b6f8-4229-ae17-0e411178505c"
      },
      "source": [
        "\n",
        "# dimension du train set\n",
        "print(\"Sans aucun traitement sur le train set : \" , np.unique(train_Y_s, return_counts=True))\n",
        "\n",
        "# diminution des données\n",
        "t2 = TomekLinks()\n",
        "X_resampled, y_resampled = t2.fit_resample(train_X_s[:,:nb_var] , train_Y_s )\n",
        "print(\"Après under-sampling : \", np.unique(y_resampled, return_counts=True ))\n",
        "\n",
        "# augmentation des données\n",
        "tl = SMOTE()\n",
        "X_resampled, y_resampled = tl.fit_resample(X_resampled, y_resampled )\n",
        "print(\"Après over-smapling : \" , np.unique(y_resampled, return_counts=True ))\n",
        "\n",
        "'''\n",
        "# enregistrement du nouveau train set car le traitement du under-sampling prendre du temps \n",
        "pd.DataFrame(np.concatenate((X_resampled, y_resampled.reshape((y_resampled.shape[0],1)) ),\n",
        "                            axis=1)).to_csv(\"/content/drive/MyDrive/spad_score_method_1/spad_projection_FDFTOT21/val_all_spad_under_over_sampling.txt\",\n",
        "                                            sep=\" \", index =False , header = False )\n",
        "'''"
      ],
      "execution_count": 27,
      "outputs": [
        {
          "output_type": "stream",
          "text": [
            "Sans aucun traitement sur le train set :  (array([1, 2]), array([18777, 82915]))\n"
          ],
          "name": "stdout"
        },
        {
          "output_type": "stream",
          "text": [
            "/usr/local/lib/python3.7/dist-packages/sklearn/utils/deprecation.py:87: FutureWarning: Function safe_indexing is deprecated; safe_indexing is deprecated in version 0.22 and will be removed in version 0.24.\n",
            "  warnings.warn(msg, category=FutureWarning)\n",
            "/usr/local/lib/python3.7/dist-packages/sklearn/utils/deprecation.py:87: FutureWarning: Function safe_indexing is deprecated; safe_indexing is deprecated in version 0.22 and will be removed in version 0.24.\n",
            "  warnings.warn(msg, category=FutureWarning)\n"
          ],
          "name": "stderr"
        },
        {
          "output_type": "stream",
          "text": [
            "Après under-sampling :  (array([1, 2]), array([18777, 78972]))\n",
            "Après over-smapling :  (array([1, 2]), array([78972, 78972]))\n"
          ],
          "name": "stdout"
        },
        {
          "output_type": "execute_result",
          "data": {
            "application/vnd.google.colaboratory.intrinsic+json": {
              "type": "string"
            },
            "text/plain": [
              "'\\n# enregistrement du nouveau train set car le traitement du under-sampling prendre du temps \\npd.DataFrame(np.concatenate((X_resampled, y_resampled.reshape((y_resampled.shape[0],1)) ),\\n                            axis=1)).to_csv(\"/content/drive/MyDrive/spad_score_method_1/spad_projection_FDFTOT21/val_all_spad_under_over_sampling.txt\",\\n                                            sep=\" \", index =False , header = False )\\n'"
            ]
          },
          "metadata": {
            "tags": []
          },
          "execution_count": 27
        }
      ]
    },
    {
      "cell_type": "code",
      "metadata": {
        "colab": {
          "base_uri": "https://localhost:8080/"
        },
        "id": "tLasso34-MXx",
        "outputId": "3087ea4e-33cf-4e91-9493-2db298bf6906"
      },
      "source": [
        "model_LinearDiscriminantAnalysis = LinearDiscriminantAnalysis()\n",
        "param = {\"solver\" : [\"svd\",\"lsqr\", \"eigen\"], \"tol\" : [0.00001,0.0001,0.001,0.01]}\n",
        "\n",
        "grid_LinearDiscriminantAnalysis = GridSearchCV(model_LinearDiscriminantAnalysis, param_grid= param, cv = 4, scoring = \"f1\")\n",
        "resultat_grid_LinearDiscriminantAnalysis = grid_LinearDiscriminantAnalysis.fit(X_resampled, y_resampled)\n",
        "resultat_grid_LinearDiscriminantAnalysis.best_params_ "
      ],
      "execution_count": 28,
      "outputs": [
        {
          "output_type": "execute_result",
          "data": {
            "text/plain": [
              "{'solver': 'svd', 'tol': 1e-05}"
            ]
          },
          "metadata": {
            "tags": []
          },
          "execution_count": 28
        }
      ]
    },
    {
      "cell_type": "code",
      "metadata": {
        "colab": {
          "base_uri": "https://localhost:8080/"
        },
        "id": "mtwy_DkreMi8",
        "outputId": "4220e5b7-ff01-421c-b0fb-4fd38ef2ae69"
      },
      "source": [
        "final_model_ADL = LinearDiscriminantAnalysis()  # la valeur par defaut de la tolérence donne le même résultat que tol=1e-5\n",
        "evaluation(final_model_ADL, X_resampled, y_resampled, test_X_s, test_Y_s, scoring = \"f1\", plot=False)"
      ],
      "execution_count": 38,
      "outputs": [
        {
          "output_type": "stream",
          "text": [
            "test set : \n",
            "[[ 2569  2110]\n",
            " [ 7793 12951]]\n",
            "              precision    recall  f1-score   support\n",
            "\n",
            "           1       0.25      0.55      0.34      4679\n",
            "           2       0.86      0.62      0.72     20744\n",
            "\n",
            "    accuracy                           0.61     25423\n",
            "   macro avg       0.55      0.59      0.53     25423\n",
            "weighted avg       0.75      0.61      0.65     25423\n",
            "\n",
            "train set : \n",
            "[[45802 33170]\n",
            " [28826 50146]]\n",
            "              precision    recall  f1-score   support\n",
            "\n",
            "           1       0.61      0.58      0.60     78972\n",
            "           2       0.60      0.63      0.62     78972\n",
            "\n",
            "    accuracy                           0.61    157944\n",
            "   macro avg       0.61      0.61      0.61    157944\n",
            "weighted avg       0.61      0.61      0.61    157944\n",
            "\n",
            "GRAPHIQUE NON DEMANDE\n"
          ],
          "name": "stdout"
        }
      ]
    },
    {
      "cell_type": "code",
      "metadata": {
        "id": "YOVl16Po611_"
      },
      "source": [
        ""
      ],
      "execution_count": 38,
      "outputs": []
    },
    {
      "cell_type": "code",
      "metadata": {
        "colab": {
          "base_uri": "https://localhost:8080/"
        },
        "id": "aiN9NNXgjtkO",
        "outputId": "05d9d8c3-5711-4069-ef5d-c0d095cba2a9"
      },
      "source": [
        "#classe pour l'analyse discriminante\n",
        "\n",
        "#instanciation\n",
        "adl = LinearDiscriminantAnalysis()\n",
        "#apprentissage\n",
        "adl.fit(coord_sans_nan,data_sans_nan[\"Top_mon\"])"
      ],
      "execution_count": 39,
      "outputs": [
        {
          "output_type": "execute_result",
          "data": {
            "text/plain": [
              "LinearDiscriminantAnalysis(n_components=None, priors=None, shrinkage=None,\n",
              "                           solver='svd', store_covariance=False, tol=0.0001)"
            ]
          },
          "metadata": {
            "tags": []
          },
          "execution_count": 39
        }
      ]
    },
    {
      "cell_type": "code",
      "metadata": {
        "id": "ixzqkiWMxz_6",
        "colab": {
          "base_uri": "https://localhost:8080/",
          "height": 419
        },
        "outputId": "edadf353-ab16-4a7d-f992-9bd33d469b4e"
      },
      "source": [
        "#reconstitution de la fonction sur indicatrices (multiplication)\n",
        "fpValues = np.dot(fproj,np.transpose(adl.coef_))\n",
        "#print(fpValues)\n",
        "#affichage plus joli\n",
        "pd.DataFrame(fpValues,index=acm.col_labels_)"
      ],
      "execution_count": 40,
      "outputs": [
        {
          "output_type": "execute_result",
          "data": {
            "text/html": [
              "<div>\n",
              "<style scoped>\n",
              "    .dataframe tbody tr th:only-of-type {\n",
              "        vertical-align: middle;\n",
              "    }\n",
              "\n",
              "    .dataframe tbody tr th {\n",
              "        vertical-align: top;\n",
              "    }\n",
              "\n",
              "    .dataframe thead th {\n",
              "        text-align: right;\n",
              "    }\n",
              "</style>\n",
              "<table border=\"1\" class=\"dataframe\">\n",
              "  <thead>\n",
              "    <tr style=\"text-align: right;\">\n",
              "      <th></th>\n",
              "      <th>0</th>\n",
              "    </tr>\n",
              "  </thead>\n",
              "  <tbody>\n",
              "    <tr>\n",
              "      <th>TypeHabi_01</th>\n",
              "      <td>-0.092099</td>\n",
              "    </tr>\n",
              "    <tr>\n",
              "      <th>TypeHabi_02</th>\n",
              "      <td>0.048614</td>\n",
              "    </tr>\n",
              "    <tr>\n",
              "      <th>TypeHabi_03</th>\n",
              "      <td>-0.082929</td>\n",
              "    </tr>\n",
              "    <tr>\n",
              "      <th>TypeHabi_04</th>\n",
              "      <td>-0.411022</td>\n",
              "    </tr>\n",
              "    <tr>\n",
              "      <th>GeoFaz_Scl_11</th>\n",
              "      <td>-0.085793</td>\n",
              "    </tr>\n",
              "    <tr>\n",
              "      <th>...</th>\n",
              "      <td>...</td>\n",
              "    </tr>\n",
              "    <tr>\n",
              "      <th>Potentiel_prenom_17</th>\n",
              "      <td>-0.027500</td>\n",
              "    </tr>\n",
              "    <tr>\n",
              "      <th>Potentiel_prenom_18</th>\n",
              "      <td>-0.104457</td>\n",
              "    </tr>\n",
              "    <tr>\n",
              "      <th>Potentiel_prenom_19</th>\n",
              "      <td>-0.061024</td>\n",
              "    </tr>\n",
              "    <tr>\n",
              "      <th>Potentiel_prenom_20</th>\n",
              "      <td>-0.100081</td>\n",
              "    </tr>\n",
              "    <tr>\n",
              "      <th>Potentiel_prenom_21</th>\n",
              "      <td>-0.120278</td>\n",
              "    </tr>\n",
              "  </tbody>\n",
              "</table>\n",
              "<p>269 rows × 1 columns</p>\n",
              "</div>"
            ],
            "text/plain": [
              "                            0\n",
              "TypeHabi_01         -0.092099\n",
              "TypeHabi_02          0.048614\n",
              "TypeHabi_03         -0.082929\n",
              "TypeHabi_04         -0.411022\n",
              "GeoFaz_Scl_11       -0.085793\n",
              "...                       ...\n",
              "Potentiel_prenom_17 -0.027500\n",
              "Potentiel_prenom_18 -0.104457\n",
              "Potentiel_prenom_19 -0.061024\n",
              "Potentiel_prenom_20 -0.100081\n",
              "Potentiel_prenom_21 -0.120278\n",
              "\n",
              "[269 rows x 1 columns]"
            ]
          },
          "metadata": {
            "tags": []
          },
          "execution_count": 40
        }
      ]
    },
    {
      "cell_type": "code",
      "metadata": {
        "id": "Hrn05BAzx0CO",
        "colab": {
          "base_uri": "https://localhost:8080/"
        },
        "outputId": "231e6592-82c1-4440-a9b5-446c6666bc19"
      },
      "source": [
        "#data_coord_nan\n",
        "# TRAIN SET TEST SET\n",
        "vingtiles(model = final_model_ADL, data_orig = data_coord_nan, affichage=True,\n",
        "            save=False, path = \"/content/drive/MyDrive/spad_score_method_1/spad_projection_FDFTOT21/Fichier_excel_vingtiles/train_test_ADL.xlsx\")"
      ],
      "execution_count": 41,
      "outputs": [
        {
          "output_type": "stream",
          "text": [
            "                    IDENT     PROBA\n",
            "14967  000149680010258609  0.070923\n",
            "58289  000582900010370203  0.071184\n",
            "16105  000161060010259481  0.076184\n",
            "22977  000229780010284249  0.086981\n",
            "85384  000853850010399661  0.087389\n",
            "...                   ...       ...\n",
            "33727  000337280010343876  0.915298\n",
            "2879   000028800010030338  0.933887\n",
            "92497  000924980010405707  0.964942\n",
            "79376  000793770010394586  0.971163\n",
            "79377  000793780010394586  0.971163\n",
            "\n",
            "[127115 rows x 2 columns]\n",
            "0.863146    50\n",
            "0.657361    33\n",
            "0.825763    33\n",
            "0.752604    26\n",
            "0.766716    23\n",
            "            ..\n",
            "0.335870     1\n",
            "0.373506     1\n",
            "0.281062     1\n",
            "0.467646     1\n",
            "0.339609     1\n",
            "Name: PROBA, Length: 96553, dtype: int64\n",
            "                 PROBA\n",
            "14967  (0.0699, 0.281]\n",
            "58289  (0.0699, 0.281]\n",
            "16105  (0.0699, 0.281]\n",
            "22977  (0.0699, 0.281]\n",
            "85384  (0.0699, 0.281]\n",
            "...                ...\n",
            "33727   (0.708, 0.971]\n",
            "2879    (0.708, 0.971]\n",
            "92497   (0.708, 0.971]\n",
            "79376   (0.708, 0.971]\n",
            "79377   (0.708, 0.971]\n",
            "\n",
            "[127115 rows x 1 columns]\n",
            "Top_mon             1     2  TOTAL\n",
            "TRANCHES                          \n",
            "(0.0699, 0.281]   568  5788   6356\n",
            "(0.281, 0.315]    723  5635   6358\n",
            "(0.315, 0.339]    766  5588   6354\n",
            "(0.339, 0.361]    816  5539   6355\n",
            "(0.361, 0.382]    838  5519   6357\n",
            "(0.382, 0.4]      835  5520   6355\n",
            "(0.4, 0.418]      946  5409   6355\n",
            "(0.418, 0.435]    907  5449   6356\n",
            "(0.435, 0.451]    949  5407   6356\n",
            "(0.451, 0.468]   1007  5349   6356\n",
            "(0.468, 0.484]   1079  5277   6356\n",
            "(0.484, 0.502]   1212  5143   6355\n",
            "(0.502, 0.52]    1179  5177   6356\n",
            "(0.52, 0.539]    1194  5162   6356\n",
            "(0.539, 0.56]    1248  5107   6355\n",
            "(0.56, 0.585]    1452  4904   6356\n",
            "(0.585, 0.615]   1537  4818   6355\n",
            "(0.615, 0.653]   1646  4711   6357\n",
            "(0.653, 0.708]   1961  4394   6355\n",
            "(0.708, 0.971]   2593  3763   6356\n"
          ],
          "name": "stdout"
        }
      ]
    },
    {
      "cell_type": "code",
      "metadata": {
        "id": "bzRRySpGoafi",
        "colab": {
          "base_uri": "https://localhost:8080/"
        },
        "outputId": "f45334e2-c906-4b31-8a5c-d4bf999b6b27"
      },
      "source": [
        "# INDIVIDUS SANS TARGET\n",
        "vingtiles_ind_sans_target(model = final_model_ADL, data_orig= data_coord_avec_nan[(data_coord_avec_nan.isnull()).sum(axis=1) != 0], affichage=True,\n",
        "            save=False, path = \"/content/drive/MyDrive/spad_score_method_1/spad_projection_FDFTOT21/Fichier_excel_vingtiles/ind_sans_target_ADL.xlsx\")"
      ],
      "execution_count": 42,
      "outputs": [
        {
          "output_type": "stream",
          "text": [
            "                      IDENT     PROBA\n",
            "742413   006152990280027372  0.056112\n",
            "151774   000246600020014496  0.059062\n",
            "847530   007204160290007484  0.059471\n",
            "575591   004484770210005024  0.060419\n",
            "255458   001283440050068334  0.063190\n",
            "...                     ...       ...\n",
            "1096927  009698130360146276  0.962505\n",
            "986719   008596050360036068  0.963220\n",
            "398985   002718710130019150  0.963251\n",
            "408573   002814590130028738  0.963806\n",
            "1082878  009557640360132227  0.974162\n",
            "\n",
            "[1092884 rows x 2 columns]\n",
            "0.752604    303\n",
            "0.846201    229\n",
            "0.820378    223\n",
            "0.825763    222\n",
            "0.843716    214\n",
            "           ... \n",
            "0.399470      1\n",
            "0.547544      1\n",
            "0.580437      1\n",
            "0.499777      1\n",
            "0.301645      1\n",
            "Name: PROBA, Length: 838236, dtype: int64\n",
            "                                 PROBA\n",
            "742413   (0.055099999999999996, 0.281]\n",
            "151774   (0.055099999999999996, 0.281]\n",
            "847530   (0.055099999999999996, 0.281]\n",
            "575591   (0.055099999999999996, 0.281]\n",
            "255458   (0.055099999999999996, 0.281]\n",
            "...                                ...\n",
            "1096927                 (0.723, 0.974]\n",
            "986719                  (0.723, 0.974]\n",
            "398985                  (0.723, 0.974]\n",
            "408573                  (0.723, 0.974]\n",
            "1082878                 (0.723, 0.974]\n",
            "\n",
            "[1092884 rows x 1 columns]\n",
            "                      IDENT     PROBA                       TRANCHES\n",
            "742413   006152990280027372  0.056112  (0.055099999999999996, 0.281]\n",
            "151774   000246600020014496  0.059062  (0.055099999999999996, 0.281]\n",
            "847530   007204160290007484  0.059471  (0.055099999999999996, 0.281]\n",
            "575591   004484770210005024  0.060419  (0.055099999999999996, 0.281]\n",
            "255458   001283440050068334  0.063190  (0.055099999999999996, 0.281]\n",
            "...                     ...       ...                            ...\n",
            "1096927  009698130360146276  0.962505                 (0.723, 0.974]\n",
            "986719   008596050360036068  0.963220                 (0.723, 0.974]\n",
            "398985   002718710130019150  0.963251                 (0.723, 0.974]\n",
            "408573   002814590130028738  0.963806                 (0.723, 0.974]\n",
            "1082878  009557640360132227  0.974162                 (0.723, 0.974]\n",
            "\n",
            "[1092884 rows x 3 columns]\n",
            "(0.669, 0.723]                   54570\n",
            "(0.723, 0.974]                   54641\n",
            "(0.419, 0.437]                   54642\n",
            "(0.575, 0.601]                   54642\n",
            "(0.493, 0.512]                   54644\n",
            "(0.337, 0.359]                   54644\n",
            "(0.359, 0.38]                    54644\n",
            "(0.281, 0.313]                   54644\n",
            "(0.512, 0.531]                   54644\n",
            "(0.475, 0.493]                   54644\n",
            "(0.313, 0.337]                   54644\n",
            "(0.437, 0.456]                   54644\n",
            "(0.456, 0.475]                   54644\n",
            "(0.055099999999999996, 0.281]    54645\n",
            "(0.38, 0.4]                      54645\n",
            "(0.531, 0.551]                   54645\n",
            "(0.551, 0.575]                   54646\n",
            "(0.4, 0.419]                     54646\n",
            "(0.601, 0.632]                   54651\n",
            "(0.632, 0.669]                   54715\n",
            "Name: TRANCHES, dtype: int64\n",
            "                         TRANCHES COUNTS\n",
            "0   (0.055099999999999996, 0.281]  54645\n",
            "1                  (0.281, 0.313]  54644\n",
            "2                  (0.313, 0.337]  54644\n",
            "3                  (0.337, 0.359]  54644\n",
            "4                   (0.359, 0.38]  54644\n",
            "5                     (0.38, 0.4]  54645\n",
            "6                    (0.4, 0.419]  54646\n",
            "7                  (0.419, 0.437]  54642\n",
            "8                  (0.437, 0.456]  54644\n",
            "9                  (0.456, 0.475]  54644\n",
            "10                 (0.475, 0.493]  54644\n",
            "11                 (0.493, 0.512]  54644\n",
            "12                 (0.512, 0.531]  54644\n",
            "13                 (0.531, 0.551]  54645\n",
            "14                 (0.551, 0.575]  54646\n",
            "15                 (0.575, 0.601]  54642\n",
            "16                 (0.601, 0.632]  54651\n",
            "17                 (0.632, 0.669]  54715\n",
            "18                 (0.669, 0.723]  54570\n",
            "19                 (0.723, 0.974]  54641\n"
          ],
          "name": "stdout"
        }
      ]
    },
    {
      "cell_type": "code",
      "metadata": {
        "id": "Tgxw6vZHoah_"
      },
      "source": [
        ""
      ],
      "execution_count": 33,
      "outputs": []
    },
    {
      "cell_type": "code",
      "metadata": {
        "id": "jaVuYmyQoakO"
      },
      "source": [
        ""
      ],
      "execution_count": 33,
      "outputs": []
    },
    {
      "cell_type": "code",
      "metadata": {
        "id": "td8tREtarT8x",
        "colab": {
          "base_uri": "https://localhost:8080/"
        },
        "outputId": "aaff33af-0c06-477a-826d-01a828d89f87"
      },
      "source": [
        "model_ADQ = QuadraticDiscriminantAnalysis()\n",
        "evaluation(model_ADQ, X_resampled, y_resampled, test_X_s, test_Y_s, scoring = \"f1\", plot=False)\n"
      ],
      "execution_count": 34,
      "outputs": [
        {
          "output_type": "stream",
          "text": [
            "test set : \n",
            "[[ 2932  1747]\n",
            " [ 9783 10961]]\n",
            "              precision    recall  f1-score   support\n",
            "\n",
            "           1       0.23      0.63      0.34      4679\n",
            "           2       0.86      0.53      0.66     20744\n",
            "\n",
            "    accuracy                           0.55     25423\n",
            "   macro avg       0.55      0.58      0.50     25423\n",
            "weighted avg       0.75      0.55      0.60     25423\n",
            "\n",
            "train set : \n",
            "[[56070 22902]\n",
            " [36166 42806]]\n",
            "              precision    recall  f1-score   support\n",
            "\n",
            "           1       0.61      0.71      0.65     78972\n",
            "           2       0.65      0.54      0.59     78972\n",
            "\n",
            "    accuracy                           0.63    157944\n",
            "   macro avg       0.63      0.63      0.62    157944\n",
            "weighted avg       0.63      0.63      0.62    157944\n",
            "\n",
            "GRAPHIQUE NON DEMANDE\n"
          ],
          "name": "stdout"
        }
      ]
    },
    {
      "cell_type": "code",
      "metadata": {
        "id": "ncpYOwNVqtX6",
        "colab": {
          "base_uri": "https://localhost:8080/"
        },
        "outputId": "638cd8b9-6cbf-4475-d554-e46e3e19204d"
      },
      "source": [
        "#data_coord_nan\n",
        "# TRAIN SET TEST SET\n",
        "vingtiles(model =model_ADQ, data_orig = data_coord_nan, affichage=True,\n",
        "            save=False, path = \"/content/drive/MyDrive/spad_score_method_1/spad_projection_FDFTOT21/Fichier_excel_vingtiles/train_test_ADL.xlsx\")"
      ],
      "execution_count": 35,
      "outputs": [
        {
          "output_type": "stream",
          "text": [
            "                     IDENT  PROBA\n",
            "123453  001234540010535446    0.0\n",
            "79377   000793780010394586    0.0\n",
            "23349   000233500010289009    0.0\n",
            "91621   000916220010404942    0.0\n",
            "72061   000720620010382028    0.0\n",
            "...                    ...    ...\n",
            "47348   000473490010361282    1.0\n",
            "87867   000878680010401809    1.0\n",
            "102867  001028680010415933    1.0\n",
            "70873   000708740010381073    1.0\n",
            "20093   000200940010263131    1.0\n",
            "\n",
            "[127115 rows x 2 columns]\n",
            "1.000000    480\n",
            "0.000000     91\n",
            "1.000000     43\n",
            "1.000000     33\n",
            "0.999929     33\n",
            "           ... \n",
            "0.001482      1\n",
            "0.205408      1\n",
            "1.000000      1\n",
            "0.003954      1\n",
            "0.008649      1\n",
            "Name: PROBA, Length: 96085, dtype: int64\n",
            "                        PROBA\n",
            "123453  (-1e-06, 1.64354e-10]\n",
            "79377   (-1e-06, 1.64354e-10]\n",
            "23349   (-1e-06, 1.64354e-10]\n",
            "91621   (-1e-06, 1.64354e-10]\n",
            "72061   (-1e-06, 1.64354e-10]\n",
            "...                       ...\n",
            "47348         (0.999999, 1.0]\n",
            "87867         (0.999999, 1.0]\n",
            "102867        (0.999999, 1.0]\n",
            "70873         (0.999999, 1.0]\n",
            "20093         (0.999999, 1.0]\n",
            "\n",
            "[127115 rows x 1 columns]\n",
            "Top_mon                        1     2  TOTAL\n",
            "TRANCHES                                     \n",
            "(-1e-06, 1.64354e-10]        761  5595   6356\n",
            "(1.64354e-10, 2.95717e-06]   687  5669   6356\n",
            "(2.95717e-06, 9.95713e-05]   767  5589   6356\n",
            "(9.95713e-05, 0.000997582]   840  5515   6355\n",
            "(0.000997582, 0.00512906]    858  5498   6356\n",
            "(0.00512906, 0.0192486]      857  5499   6356\n",
            "(0.0192486, 0.0577039]       880  5475   6355\n",
            "(0.0577039, 0.139139]        973  5383   6356\n",
            "(0.139139, 0.28784]          941  5416   6357\n",
            "(0.28784, 0.48285]           987  5369   6356\n",
            "(0.48285, 0.676018]         1101  5253   6354\n",
            "(0.676018, 0.820105]        1091  5265   6356\n",
            "(0.820105, 0.910253]        1103  5254   6357\n",
            "(0.910253, 0.960226]        1175  5179   6354\n",
            "(0.960226, 0.98427]         1320  5036   6356\n",
            "(0.98427, 0.994758]         1429  4927   6356\n",
            "(0.994758, 0.998749]        1582  4773   6355\n",
            "(0.998749, 0.999878]        1695  4661   6356\n",
            "(0.999878, 0.999999]        1887  4470   6357\n",
            "(0.999999, 1.0]             2522  3833   6355\n"
          ],
          "name": "stdout"
        }
      ]
    },
    {
      "cell_type": "code",
      "metadata": {
        "id": "m_GYkyDqqtaA",
        "colab": {
          "base_uri": "https://localhost:8080/"
        },
        "outputId": "b48ba360-2ee2-4a95-df27-b4d996c9aa21"
      },
      "source": [
        "# INDIVIDUS SANS TARGET\n",
        "vingtiles_ind_sans_target(model = model_ADQ, data_orig= data_coord_avec_nan[(data_coord_avec_nan.isnull()).sum(axis=1) != 0], affichage=True,\n",
        "            save=False, path = \"/content/drive/MyDrive/spad_score_method_1/spad_projection_FDFTOT21/Fichier_excel_vingtiles/ind_sans_target_ADL.xlsx\")"
      ],
      "execution_count": 37,
      "outputs": [
        {
          "output_type": "stream",
          "text": [
            "                      IDENT  PROBA\n",
            "570288   004431740200008729    0.0\n",
            "795133   006680190280080092    0.0\n",
            "1006816  008797020360056165    0.0\n",
            "364453   002373390120034608    0.0\n",
            "1093049  009659350360142398    0.0\n",
            "...                     ...    ...\n",
            "566000   004388860200004441    1.0\n",
            "450555   003234410130070720    1.0\n",
            "374951   002478370120045106    1.0\n",
            "955291   008281770360004640    1.0\n",
            "171202   000440880030004086    1.0\n",
            "\n",
            "[1092884 rows x 2 columns]\n",
            "1.000000    3728\n",
            "0.000000     773\n",
            "1.000000     351\n",
            "1.000000     303\n",
            "1.000000     230\n",
            "            ... \n",
            "0.922378       1\n",
            "0.010459       1\n",
            "0.137279       1\n",
            "0.679637       1\n",
            "0.155726       1\n",
            "Name: PROBA, Length: 833510, dtype: int64\n",
            "                         PROBA\n",
            "570288   (-1e-06, 2.96866e-09]\n",
            "795133   (-1e-06, 2.96866e-09]\n",
            "1006816  (-1e-06, 2.96866e-09]\n",
            "364453   (-1e-06, 2.96866e-09]\n",
            "1093049  (-1e-06, 2.96866e-09]\n",
            "...                        ...\n",
            "566000         (0.999999, 1.0]\n",
            "450555         (0.999999, 1.0]\n",
            "374951         (0.999999, 1.0]\n",
            "955291         (0.999999, 1.0]\n",
            "171202         (0.999999, 1.0]\n",
            "\n",
            "[1092884 rows x 1 columns]\n",
            "                      IDENT  PROBA               TRANCHES\n",
            "570288   004431740200008729    0.0  (-1e-06, 2.96866e-09]\n",
            "795133   006680190280080092    0.0  (-1e-06, 2.96866e-09]\n",
            "1006816  008797020360056165    0.0  (-1e-06, 2.96866e-09]\n",
            "364453   002373390120034608    0.0  (-1e-06, 2.96866e-09]\n",
            "1093049  009659350360142398    0.0  (-1e-06, 2.96866e-09]\n",
            "...                     ...    ...                    ...\n",
            "566000   004388860200004441    1.0        (0.999999, 1.0]\n",
            "450555   003234410130070720    1.0        (0.999999, 1.0]\n",
            "374951   002478370120045106    1.0        (0.999999, 1.0]\n",
            "955291   008281770360004640    1.0        (0.999999, 1.0]\n",
            "171202   000440880030004086    1.0        (0.999999, 1.0]\n",
            "\n",
            "[1092884 rows x 3 columns]\n",
            "(0.996628, 0.999236]          54641\n",
            "(0.00160359, 0.00749738]      54642\n",
            "(0.999934, 0.999999]          54643\n",
            "(0.548503, 0.732771]          54643\n",
            "(2.96866e-09, 8.94829e-06]    54644\n",
            "(0.732771, 0.859119]          54644\n",
            "(0.0745933, 0.176479]         54644\n",
            "(0.00749738, 0.0261813]       54644\n",
            "(0.176479, 0.345126]          54644\n",
            "(0.859119, 0.933279]          54644\n",
            "(8.94829e-06, 0.000213985]    54644\n",
            "(0.989275, 0.996628]          54645\n",
            "(-1e-06, 2.96866e-09]         54645\n",
            "(0.933279, 0.971507]          54645\n",
            "(0.345126, 0.548503]          54645\n",
            "(0.999999, 1.0]               54645\n",
            "(0.0261813, 0.0745933]        54645\n",
            "(0.999236, 0.999934]          54645\n",
            "(0.000213985, 0.00160359]     54646\n",
            "(0.971507, 0.989275]          54646\n",
            "Name: TRANCHES, dtype: int64\n",
            "                      TRANCHES COUNTS\n",
            "0        (-1e-06, 2.96866e-09]  54645\n",
            "1   (2.96866e-09, 8.94829e-06]  54644\n",
            "2   (8.94829e-06, 0.000213985]  54644\n",
            "3    (0.000213985, 0.00160359]  54646\n",
            "4     (0.00160359, 0.00749738]  54642\n",
            "5      (0.00749738, 0.0261813]  54644\n",
            "6       (0.0261813, 0.0745933]  54645\n",
            "7        (0.0745933, 0.176479]  54644\n",
            "8         (0.176479, 0.345126]  54644\n",
            "9         (0.345126, 0.548503]  54645\n",
            "10        (0.548503, 0.732771]  54643\n",
            "11        (0.732771, 0.859119]  54644\n",
            "12        (0.859119, 0.933279]  54644\n",
            "13        (0.933279, 0.971507]  54645\n",
            "14        (0.971507, 0.989275]  54646\n",
            "15        (0.989275, 0.996628]  54645\n",
            "16        (0.996628, 0.999236]  54641\n",
            "17        (0.999236, 0.999934]  54645\n",
            "18        (0.999934, 0.999999]  54643\n",
            "19             (0.999999, 1.0]  54645\n"
          ],
          "name": "stdout"
        }
      ]
    },
    {
      "cell_type": "code",
      "metadata": {
        "id": "OgVGcJpOh83C"
      },
      "source": [
        "###############################################################################\n",
        "###############################################################################"
      ],
      "execution_count": 35,
      "outputs": []
    },
    {
      "cell_type": "code",
      "metadata": {
        "colab": {
          "base_uri": "https://localhost:8080/"
        },
        "id": "GjEC3Y3AfrGT",
        "outputId": "d1ac5de8-aad3-4192-989c-3d929f112d65"
      },
      "source": [
        "# SANS UNDER-SAMPLING ET OVER-SAMPLING\n",
        "\n",
        "print(\"ADL test sans under-sampling et over_sampling\")\n",
        "test_model_ADL = LinearDiscriminantAnalysis()  # la valeur par defaut de la tolérence donne le même résultat que tol=1e-5\n",
        "evaluation(test_model_ADL, train_X_s, train_Y_s, test_X_s, test_Y_s, scoring = \"f1\", plot=False)\n",
        "\n",
        "print(\"ADQ test sans under-sampling et over_sampling\")\n",
        "test_model_ADQ = QuadraticDiscriminantAnalysis()  # la valeur par defaut de la tolérence donne le même résultat que tol=1e-5\n",
        "evaluation(test_model_ADQ, train_X_s, train_Y_s, test_X_s, test_Y_s, scoring = \"f1\", plot=False)\n",
        "\n",
        "vingtiles(model =test_model_ADQ, data_orig = data_coord_nan, affichage=True,\n",
        "            save=False, path = \"/content/drive/MyDrive/spad_score_method_1/spad_projection_FDFTOT21/Fichier_excel_vingtiles/train_test_ADL.xlsx\")\n"
      ],
      "execution_count": 45,
      "outputs": [
        {
          "output_type": "stream",
          "text": [
            "ADL test sans under-sampling et over_sampling\n",
            "test set : \n",
            "[[  190  4489]\n",
            " [  226 20518]]\n",
            "              precision    recall  f1-score   support\n",
            "\n",
            "           1       0.46      0.04      0.07      4679\n",
            "           2       0.82      0.99      0.90     20744\n",
            "\n",
            "    accuracy                           0.81     25423\n",
            "   macro avg       0.64      0.51      0.49     25423\n",
            "weighted avg       0.75      0.81      0.75     25423\n",
            "\n",
            "train set : \n",
            "[[  796 17981]\n",
            " [  849 82066]]\n",
            "              precision    recall  f1-score   support\n",
            "\n",
            "           1       0.48      0.04      0.08     18777\n",
            "           2       0.82      0.99      0.90     82915\n",
            "\n",
            "    accuracy                           0.81    101692\n",
            "   macro avg       0.65      0.52      0.49    101692\n",
            "weighted avg       0.76      0.81      0.75    101692\n",
            "\n",
            "GRAPHIQUE NON DEMANDE\n",
            "ADQ test sans under-sampling et over_sampling\n",
            "test set : \n",
            "[[ 2161  2518]\n",
            " [ 6084 14660]]\n",
            "              precision    recall  f1-score   support\n",
            "\n",
            "           1       0.26      0.46      0.33      4679\n",
            "           2       0.85      0.71      0.77     20744\n",
            "\n",
            "    accuracy                           0.66     25423\n",
            "   macro avg       0.56      0.58      0.55     25423\n",
            "weighted avg       0.74      0.66      0.69     25423\n",
            "\n",
            "train set : \n",
            "[[ 8829  9948]\n",
            " [23791 59124]]\n",
            "              precision    recall  f1-score   support\n",
            "\n",
            "           1       0.27      0.47      0.34     18777\n",
            "           2       0.86      0.71      0.78     82915\n",
            "\n",
            "    accuracy                           0.67    101692\n",
            "   macro avg       0.56      0.59      0.56    101692\n",
            "weighted avg       0.75      0.67      0.70    101692\n",
            "\n",
            "GRAPHIQUE NON DEMANDE\n",
            "                     IDENT  PROBA\n",
            "114413  001144140010525400    0.0\n",
            "28037   000280380010338341    0.0\n",
            "18595   000185960010261505    0.0\n",
            "63997   000639980010374695    0.0\n",
            "63998   000639990010374695    0.0\n",
            "...                    ...    ...\n",
            "80673   000806740010395761    1.0\n",
            "112136  001121370010521700    1.0\n",
            "7292    000072930010252545    1.0\n",
            "37212   000372130010348606    1.0\n",
            "117371  001173720010528978    1.0\n",
            "\n",
            "[127115 rows x 2 columns]\n",
            "1.000000    550\n",
            "1.000000     50\n",
            "0.000000     45\n",
            "1.000000     33\n",
            "0.990578     33\n",
            "           ... \n",
            "0.254804      1\n",
            "0.199665      1\n",
            "0.002699      1\n",
            "0.307819      1\n",
            "0.000232      1\n",
            "Name: PROBA, Length: 96024, dtype: int64\n",
            "                       PROBA\n",
            "114413  (-1e-05, 3.1412e-07]\n",
            "28037   (-1e-05, 3.1412e-07]\n",
            "18595   (-1e-05, 3.1412e-07]\n",
            "63997   (-1e-05, 3.1412e-07]\n",
            "63998   (-1e-05, 3.1412e-07]\n",
            "...                      ...\n",
            "80673         (0.99997, 1.0]\n",
            "112136        (0.99997, 1.0]\n",
            "7292          (0.99997, 1.0]\n",
            "37212         (0.99997, 1.0]\n",
            "117371        (0.99997, 1.0]\n",
            "\n",
            "[127115 rows x 1 columns]\n",
            "Top_mon                     1     2  TOTAL\n",
            "TRANCHES                                  \n",
            "(-1e-05, 3.1412e-07]      674  5683   6357\n",
            "(3.1412e-07, 4.953e-05]   694  5661   6355\n",
            "(4.953e-05, 0.00036499]   719  5638   6357\n",
            "(0.00036499, 0.0014586]   795  5559   6354\n",
            "(0.0014586, 0.0041318]    805  5551   6356\n",
            "(0.0041318, 0.0094095]    846  5510   6356\n",
            "(0.0094095, 0.019]        885  5470   6355\n",
            "(0.019, 0.034852]         926  5430   6356\n",
            "(0.034852, 0.062088]     1014  5342   6356\n",
            "(0.062088, 0.1059]       1058  5298   6356\n",
            "(0.1059, 0.17344]        1032  5323   6355\n",
            "(0.17344, 0.26917]       1141  5216   6357\n",
            "(0.26917, 0.40364]       1184  5171   6355\n",
            "(0.40364, 0.57286]       1248  5107   6355\n",
            "(0.57286, 0.74402]       1379  4977   6356\n",
            "(0.74402, 0.88139]       1448  4908   6356\n",
            "(0.88139, 0.96712]       1670  4685   6355\n",
            "(0.96712, 0.99708]       1688  4668   6356\n",
            "(0.99708, 0.99997]       1794  4563   6357\n",
            "(0.99997, 1.0]           2456  3899   6355\n"
          ],
          "name": "stdout"
        }
      ]
    },
    {
      "cell_type": "code",
      "metadata": {
        "id": "zNo_JpzffrI-"
      },
      "source": [
        ""
      ],
      "execution_count": 46,
      "outputs": []
    },
    {
      "cell_type": "code",
      "metadata": {
        "id": "8kj3m4VlfrMh"
      },
      "source": [
        ""
      ],
      "execution_count": null,
      "outputs": []
    },
    {
      "cell_type": "code",
      "metadata": {
        "id": "-uG3-b8GPx1r"
      },
      "source": [
        "#################################################################################\n",
        "#################################################################################"
      ],
      "execution_count": 36,
      "outputs": []
    },
    {
      "cell_type": "code",
      "metadata": {
        "id": "CfLeYRkTPx4H"
      },
      "source": [
        ""
      ],
      "execution_count": 36,
      "outputs": []
    },
    {
      "cell_type": "code",
      "metadata": {
        "id": "e3EFAWmGPx62"
      },
      "source": [
        ""
      ],
      "execution_count": 36,
      "outputs": []
    },
    {
      "cell_type": "code",
      "metadata": {
        "id": "IZcwARe4QFf2"
      },
      "source": [
        ""
      ],
      "execution_count": 36,
      "outputs": []
    },
    {
      "cell_type": "code",
      "metadata": {
        "id": "0csF8LqVx0Ee"
      },
      "source": [
        "\n",
        "'''\n",
        "from sklearn.preprocessing import KBinsDiscretizer\n",
        "# discrétisation des variables continues (les valeurs manquantes doivent être gérées en amont)\n",
        " c'est qui est bien avec KBinsDiscretizer est qu'il s'adapte aux éventuelles partitions au\n",
        "sein d'une variable. En d'autres termes, si la méthode n'arrive pas à partitionner les individus\n",
        "en k partitions, alors elle esssayera de les partitionner en k-1 partitions, et ainsi de suite, \n",
        "jusqu'à atteindre 1 partition (il faut faire attention avec les variables ayant uniquement \n",
        "une modalité). Lorsque la méthode rencontre ce cas, elle affichera \"UserWaring\" pour informer \n",
        "l'utilisateur de celui-ci ainsi que les variables concernées. Ceci sera utile plus tard.\n",
        "\n",
        "\n",
        "method_discre = KBinsDiscretizer(n_bins=4, encode='ordinal', strategy='quantile') \n",
        "method_discre.fit(data.iloc[:,1:23])\n",
        "resultat_discre = method_discre.transform(data.iloc[:,1:23])\n",
        "resultat_discre\n",
        "\n",
        "# construction du data frame après discrétisation\n",
        "data2_index = data.iloc[:,0]\n",
        "df_resultat_discre = pd.DataFrame(resultat_discre,columns=colonnes[1:23], dtype=int )\n",
        "data_final = pd.concat([data2_index, df_resultat_discre,data[\"IFI+\"]], axis=1 ) #data2_index\n",
        "data_final\n",
        "\n",
        "#nombre_mod(data_final)\n",
        "#nombre_mod(data)\n",
        "\n",
        "# description des modalités d'une variable\n",
        "for k in range(1,data_final.shape[1]):\n",
        "    print(data_final.iloc[:,k].value_counts(dropna=True)); print(\"=\"*50)\n",
        "\n",
        "# description des modalités d'une variable\n",
        "for k in range(1,data.shape[1]):\n",
        "    print(data.iloc[:,k].value_counts(dropna=True)); print(\"=\"*50)\n",
        "\n",
        "'''\n"
      ],
      "execution_count": null,
      "outputs": []
    },
    {
      "cell_type": "code",
      "metadata": {
        "id": "SIKMz_STz4fn"
      },
      "source": [
        "###########################################################################################################"
      ],
      "execution_count": null,
      "outputs": []
    },
    {
      "cell_type": "code",
      "metadata": {
        "id": "3oAVMbZqz9eK"
      },
      "source": [
        "from sklearn.pipeline import Pipeline "
      ],
      "execution_count": 37,
      "outputs": []
    },
    {
      "cell_type": "code",
      "metadata": {
        "id": "jAZ0dEGzIgry"
      },
      "source": [
        "disqual =  Pipeline([(\"acm\", MCA(var_labels = data.columns[1:num_var_max], )),(\"adl\", LinearDiscriminantAnalysis())])"
      ],
      "execution_count": 41,
      "outputs": []
    },
    {
      "cell_type": "code",
      "metadata": {
        "id": "_YNg4cZgIgu-"
      },
      "source": [
        "disqual.fit(data.iloc[:127115, 1:-1].values, data.iloc[:127115, num_var_max] )"
      ],
      "execution_count": null,
      "outputs": []
    },
    {
      "cell_type": "code",
      "metadata": {
        "id": "q3k4jqMm5plF"
      },
      "source": [
        "#accès à l'ACM, nombre de composants\n",
        "print(disqual.named_steps[\"acm\"].n_components_)\n"
      ],
      "execution_count": null,
      "outputs": []
    },
    {
      "cell_type": "code",
      "metadata": {
        "id": "XEvgv1RcU149"
      },
      "source": [
        "#afficher les valeurs propres\n",
        "disqual.named_steps[\"acm\"].plot_eigenvalues()\n"
      ],
      "execution_count": null,
      "outputs": []
    },
    {
      "cell_type": "code",
      "metadata": {
        "id": "Kx5lHEqr5vn8"
      },
      "source": [
        "#coefs. de la fonction score\n",
        "print(disqual.named_steps[\"adl\"].coef_)\n"
      ],
      "execution_count": null,
      "outputs": []
    },
    {
      "cell_type": "code",
      "metadata": {
        "id": "Bjg0uW_z5vrq"
      },
      "source": [
        "#prediction\n",
        "pVote = disqual.predict(vote_test.iloc[:,:-1].values)\n",
        "print(numpy.unique(pVote,return_counts=True))\n"
      ],
      "execution_count": null,
      "outputs": []
    },
    {
      "cell_type": "code",
      "metadata": {
        "id": "9zSE6MTn6CMP"
      },
      "source": [
        "#nombres de facteurs à tester\n",
        "parametres = [{\"acm__n_components\":[1,2,5,10,15,20,25,30,32]}]"
      ],
      "execution_count": null,
      "outputs": []
    },
    {
      "cell_type": "code",
      "metadata": {
        "id": "m0czJyy46CPC"
      },
      "source": [
        ""
      ],
      "execution_count": null,
      "outputs": []
    },
    {
      "cell_type": "code",
      "metadata": {
        "id": "blbzUKqT8HXP"
      },
      "source": [
        ""
      ],
      "execution_count": null,
      "outputs": []
    },
    {
      "cell_type": "code",
      "metadata": {
        "colab": {
          "base_uri": "https://localhost:8080/",
          "height": 167
        },
        "id": "nbdOPpD58HZZ",
        "outputId": "ffdd4a50-541a-4e97-bee1-5542e599097b"
      },
      "source": [
        "data.iloc[:127115, 1:-1]"
      ],
      "execution_count": 1,
      "outputs": [
        {
          "output_type": "error",
          "ename": "NameError",
          "evalue": "ignored",
          "traceback": [
            "\u001b[0;31m---------------------------------------------------------------------------\u001b[0m",
            "\u001b[0;31mNameError\u001b[0m                                 Traceback (most recent call last)",
            "\u001b[0;32m<ipython-input-1-0b3b6f5b8821>\u001b[0m in \u001b[0;36m<module>\u001b[0;34m()\u001b[0m\n\u001b[0;32m----> 1\u001b[0;31m \u001b[0mdata\u001b[0m\u001b[0;34m.\u001b[0m\u001b[0miloc\u001b[0m\u001b[0;34m[\u001b[0m\u001b[0;34m:\u001b[0m\u001b[0;36m127115\u001b[0m\u001b[0;34m,\u001b[0m \u001b[0;36m1\u001b[0m\u001b[0;34m:\u001b[0m\u001b[0;34m-\u001b[0m\u001b[0;36m1\u001b[0m\u001b[0;34m]\u001b[0m\u001b[0;34m\u001b[0m\u001b[0;34m\u001b[0m\u001b[0m\n\u001b[0m",
            "\u001b[0;31mNameError\u001b[0m: name 'data' is not defined"
          ]
        }
      ]
    },
    {
      "cell_type": "code",
      "metadata": {
        "id": "Go9HQRlr8H4Q"
      },
      "source": [
        ""
      ],
      "execution_count": null,
      "outputs": []
    }
  ]
}