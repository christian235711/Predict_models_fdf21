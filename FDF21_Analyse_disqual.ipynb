{
  "nbformat": 4,
  "nbformat_minor": 0,
  "metadata": {
    "colab": {
      "name": "FDF21_Analyse_disqual.ipynb",
      "provenance": [],
      "collapsed_sections": [],
      "authorship_tag": "ABX9TyNMaj6+ZEo1fmt83pxDDmLQ"
    },
    "kernelspec": {
      "name": "python3",
      "display_name": "Python 3"
    },
    "language_info": {
      "name": "python"
    }
  },
  "cells": [
    {
      "cell_type": "code",
      "metadata": {
        "id": "6PE_fq-Af-lD",
        "colab": {
          "base_uri": "https://localhost:8080/"
        },
        "outputId": "20624c2e-d154-4e2e-de8e-7c9b22c2a34f"
      },
      "source": [
        "import numpy as np\n",
        "import pandas as pd\n",
        "import seaborn as sns\n",
        "import matplotlib.pyplot as plt\n",
        "\n",
        "!pip install fanalysis\n",
        "from fanalysis.mca import MCA\n",
        "\n",
        "from sklearn.metrics import confusion_matrix\n",
        "\n",
        "from google.colab import drive\n",
        "drive.mount('/content/drive')"
      ],
      "execution_count": 53,
      "outputs": [
        {
          "output_type": "stream",
          "text": [
            "Requirement already satisfied: fanalysis in /usr/local/lib/python3.7/dist-packages (0.0.1)\n",
            "Requirement already satisfied: numpy>=1.11.0 in /usr/local/lib/python3.7/dist-packages (from fanalysis) (1.19.5)\n",
            "Requirement already satisfied: pandas>=0.19.0 in /usr/local/lib/python3.7/dist-packages (from fanalysis) (1.1.5)\n",
            "Requirement already satisfied: scikit-learn>=0.18.0 in /usr/local/lib/python3.7/dist-packages (from fanalysis) (0.22.2.post1)\n",
            "Requirement already satisfied: matplotlib>=2.0.0 in /usr/local/lib/python3.7/dist-packages (from fanalysis) (3.2.2)\n",
            "Requirement already satisfied: kiwisolver>=1.0.1 in /usr/local/lib/python3.7/dist-packages (from matplotlib>=2.0.0->fanalysis) (1.3.1)\n",
            "Requirement already satisfied: pyparsing!=2.0.4,!=2.1.2,!=2.1.6,>=2.0.1 in /usr/local/lib/python3.7/dist-packages (from matplotlib>=2.0.0->fanalysis) (2.4.7)\n",
            "Requirement already satisfied: cycler>=0.10 in /usr/local/lib/python3.7/dist-packages (from matplotlib>=2.0.0->fanalysis) (0.10.0)\n",
            "Requirement already satisfied: python-dateutil>=2.1 in /usr/local/lib/python3.7/dist-packages (from matplotlib>=2.0.0->fanalysis) (2.8.1)\n",
            "Requirement already satisfied: six in /usr/local/lib/python3.7/dist-packages (from cycler>=0.10->matplotlib>=2.0.0->fanalysis) (1.15.0)\n",
            "Requirement already satisfied: pytz>=2017.2 in /usr/local/lib/python3.7/dist-packages (from pandas>=0.19.0->fanalysis) (2018.9)\n",
            "Requirement already satisfied: scipy>=0.17.0 in /usr/local/lib/python3.7/dist-packages (from scikit-learn>=0.18.0->fanalysis) (1.4.1)\n",
            "Requirement already satisfied: joblib>=0.11 in /usr/local/lib/python3.7/dist-packages (from scikit-learn>=0.18.0->fanalysis) (1.0.1)\n",
            "Drive already mounted at /content/drive; to attempt to forcibly remount, call drive.mount(\"/content/drive\", force_remount=True).\n"
          ],
          "name": "stdout"
        }
      ]
    },
    {
      "cell_type": "code",
      "metadata": {
        "id": "yuD2HnZ3uKFa"
      },
      "source": [
        ""
      ],
      "execution_count": 53,
      "outputs": []
    },
    {
      "cell_type": "code",
      "metadata": {
        "id": "HDcsBJYZuKHz"
      },
      "source": [
        "# option d'affichage des résultats\n",
        "pd.set_option(\"display.max_row\",130)\n",
        "pd.set_option(\"display.max_columns\",100)"
      ],
      "execution_count": 54,
      "outputs": []
    },
    {
      "cell_type": "code",
      "metadata": {
        "id": "EIiIM-2FuKKO"
      },
      "source": [
        "# les noms des variables\n",
        "\n",
        "colonnes =([\"IDENT\", \"TypeHabi\", \"GeoFaz_Scl\", \"GeoFaz_cl\", \"ImmoFaz_Scl\", \"ImmoFaz_cl\", \"Anciennete\",\n",
        "            \"Logement_prix_m2\", \"Mediane_RFR\", \"Sexe\", \"Prenom_Phase_scl_H\", \"Prenom_Phase_scl_F\",\n",
        "            \"Prenom_Phase_cl_H\", \"Prenom_Phase_cl_F\", \"Age_H\", \"Age_F\", \"Affinite_1\", \"Affinite_2\",\n",
        "            \"Prenom_effectif\", \"Potentiel_prenom\", \"Onoma-Phase_Scl\", \"Onoma-Phase_CL\", \"Top_mon\"])"
      ],
      "execution_count": 55,
      "outputs": []
    },
    {
      "cell_type": "code",
      "metadata": {
        "id": "wci4tC0suKMu"
      },
      "source": [
        "# importation du fichier (changer le chemin d'accès)\n",
        "''' Faites attention au type de fichier, au délimiteur des valeurs (ça doit être unique et non multiple),\n",
        "au header et à la lecture des types d'objets (low_memory) '''\n",
        "\n",
        "data_orig = pd.read_csv(\"/content/drive/MyDrive/spad_score_method_1/spad_projection_FDFTOT21/new_my_data_FDFTOT21.txt\", delim_whitespace=\"\\t\", header = None, names=colonnes, low_memory=False, dtype=str )#, dtype='Int64')\n"
      ],
      "execution_count": 56,
      "outputs": []
    },
    {
      "cell_type": "code",
      "metadata": {
        "colab": {
          "base_uri": "https://localhost:8080/"
        },
        "id": "oyDoq2cHxz7o",
        "outputId": "6916fe9b-c6a6-4ed6-ec18-273919b28a53"
      },
      "source": [
        "''' copie superficielle (peu profonde) du dataset original pour ne pas modifier les valeurs\n",
        "d'origine par erreur plus tard \n",
        "'''\n",
        "data = data_orig.copy()\n",
        "data.shape"
      ],
      "execution_count": 57,
      "outputs": [
        {
          "output_type": "execute_result",
          "data": {
            "text/plain": [
              "(1192180, 23)"
            ]
          },
          "metadata": {
            "tags": []
          },
          "execution_count": 57
        }
      ]
    },
    {
      "cell_type": "code",
      "metadata": {
        "colab": {
          "base_uri": "https://localhost:8080/",
          "height": 243
        },
        "id": "d8EgLMlSxz9s",
        "outputId": "f76257e4-2977-4b36-c066-1bf85f1404d5"
      },
      "source": [
        "# visualisation des premiers lignes\n",
        "data.head()\n"
      ],
      "execution_count": 58,
      "outputs": [
        {
          "output_type": "execute_result",
          "data": {
            "text/html": [
              "<div>\n",
              "<style scoped>\n",
              "    .dataframe tbody tr th:only-of-type {\n",
              "        vertical-align: middle;\n",
              "    }\n",
              "\n",
              "    .dataframe tbody tr th {\n",
              "        vertical-align: top;\n",
              "    }\n",
              "\n",
              "    .dataframe thead th {\n",
              "        text-align: right;\n",
              "    }\n",
              "</style>\n",
              "<table border=\"1\" class=\"dataframe\">\n",
              "  <thead>\n",
              "    <tr style=\"text-align: right;\">\n",
              "      <th></th>\n",
              "      <th>IDENT</th>\n",
              "      <th>TypeHabi</th>\n",
              "      <th>GeoFaz_Scl</th>\n",
              "      <th>GeoFaz_cl</th>\n",
              "      <th>ImmoFaz_Scl</th>\n",
              "      <th>ImmoFaz_cl</th>\n",
              "      <th>Anciennete</th>\n",
              "      <th>Logement_prix_m2</th>\n",
              "      <th>Mediane_RFR</th>\n",
              "      <th>Sexe</th>\n",
              "      <th>Prenom_Phase_scl_H</th>\n",
              "      <th>Prenom_Phase_scl_F</th>\n",
              "      <th>Prenom_Phase_cl_H</th>\n",
              "      <th>Prenom_Phase_cl_F</th>\n",
              "      <th>Age_H</th>\n",
              "      <th>Age_F</th>\n",
              "      <th>Affinite_1</th>\n",
              "      <th>Affinite_2</th>\n",
              "      <th>Prenom_effectif</th>\n",
              "      <th>Potentiel_prenom</th>\n",
              "      <th>Onoma-Phase_Scl</th>\n",
              "      <th>Onoma-Phase_CL</th>\n",
              "      <th>Top_mon</th>\n",
              "    </tr>\n",
              "  </thead>\n",
              "  <tbody>\n",
              "    <tr>\n",
              "      <th>0</th>\n",
              "      <td>000000010010000001</td>\n",
              "      <td>02</td>\n",
              "      <td>81</td>\n",
              "      <td>08</td>\n",
              "      <td>91</td>\n",
              "      <td>09</td>\n",
              "      <td>06</td>\n",
              "      <td>21</td>\n",
              "      <td>21</td>\n",
              "      <td>01</td>\n",
              "      <td>71</td>\n",
              "      <td>41</td>\n",
              "      <td>07</td>\n",
              "      <td>04</td>\n",
              "      <td>12</td>\n",
              "      <td>04</td>\n",
              "      <td>20</td>\n",
              "      <td>02</td>\n",
              "      <td>02</td>\n",
              "      <td>01</td>\n",
              "      <td>51</td>\n",
              "      <td>05</td>\n",
              "      <td>1</td>\n",
              "    </tr>\n",
              "    <tr>\n",
              "      <th>1</th>\n",
              "      <td>000000020010000006</td>\n",
              "      <td>01</td>\n",
              "      <td>75</td>\n",
              "      <td>07</td>\n",
              "      <td>43</td>\n",
              "      <td>04</td>\n",
              "      <td>06</td>\n",
              "      <td>06</td>\n",
              "      <td>13</td>\n",
              "      <td>02</td>\n",
              "      <td>71</td>\n",
              "      <td>64</td>\n",
              "      <td>07</td>\n",
              "      <td>06</td>\n",
              "      <td>12</td>\n",
              "      <td>09</td>\n",
              "      <td>04</td>\n",
              "      <td>12</td>\n",
              "      <td>04</td>\n",
              "      <td>13</td>\n",
              "      <td>12</td>\n",
              "      <td>01</td>\n",
              "      <td>1</td>\n",
              "    </tr>\n",
              "    <tr>\n",
              "      <th>2</th>\n",
              "      <td>000000030010000011</td>\n",
              "      <td>01</td>\n",
              "      <td>76</td>\n",
              "      <td>07</td>\n",
              "      <td>43</td>\n",
              "      <td>04</td>\n",
              "      <td>06</td>\n",
              "      <td>06</td>\n",
              "      <td>16</td>\n",
              "      <td>03</td>\n",
              "      <td>54</td>\n",
              "      <td>81</td>\n",
              "      <td>05</td>\n",
              "      <td>08</td>\n",
              "      <td>07</td>\n",
              "      <td>12</td>\n",
              "      <td>06</td>\n",
              "      <td>06</td>\n",
              "      <td>04</td>\n",
              "      <td>18</td>\n",
              "      <td>36</td>\n",
              "      <td>03</td>\n",
              "      <td>2</td>\n",
              "    </tr>\n",
              "    <tr>\n",
              "      <th>3</th>\n",
              "      <td>000000040010000013</td>\n",
              "      <td>03</td>\n",
              "      <td>75</td>\n",
              "      <td>07</td>\n",
              "      <td>43</td>\n",
              "      <td>04</td>\n",
              "      <td>04</td>\n",
              "      <td>06</td>\n",
              "      <td>13</td>\n",
              "      <td>01</td>\n",
              "      <td>71</td>\n",
              "      <td>36</td>\n",
              "      <td>07</td>\n",
              "      <td>03</td>\n",
              "      <td>12</td>\n",
              "      <td>11</td>\n",
              "      <td>11</td>\n",
              "      <td>19</td>\n",
              "      <td>04</td>\n",
              "      <td>06</td>\n",
              "      <td>21</td>\n",
              "      <td>02</td>\n",
              "      <td>1</td>\n",
              "    </tr>\n",
              "    <tr>\n",
              "      <th>4</th>\n",
              "      <td>000000050010000015</td>\n",
              "      <td>02</td>\n",
              "      <td>33</td>\n",
              "      <td>03</td>\n",
              "      <td>44</td>\n",
              "      <td>04</td>\n",
              "      <td>06</td>\n",
              "      <td>07</td>\n",
              "      <td>12</td>\n",
              "      <td>01</td>\n",
              "      <td>71</td>\n",
              "      <td>42</td>\n",
              "      <td>07</td>\n",
              "      <td>04</td>\n",
              "      <td>12</td>\n",
              "      <td>05</td>\n",
              "      <td>14</td>\n",
              "      <td>03</td>\n",
              "      <td>03</td>\n",
              "      <td>01</td>\n",
              "      <td>14</td>\n",
              "      <td>01</td>\n",
              "      <td>2</td>\n",
              "    </tr>\n",
              "  </tbody>\n",
              "</table>\n",
              "</div>"
            ],
            "text/plain": [
              "                IDENT TypeHabi GeoFaz_Scl GeoFaz_cl ImmoFaz_Scl ImmoFaz_cl  \\\n",
              "0  000000010010000001       02         81        08          91         09   \n",
              "1  000000020010000006       01         75        07          43         04   \n",
              "2  000000030010000011       01         76        07          43         04   \n",
              "3  000000040010000013       03         75        07          43         04   \n",
              "4  000000050010000015       02         33        03          44         04   \n",
              "\n",
              "  Anciennete Logement_prix_m2 Mediane_RFR Sexe Prenom_Phase_scl_H  \\\n",
              "0         06               21          21   01                 71   \n",
              "1         06               06          13   02                 71   \n",
              "2         06               06          16   03                 54   \n",
              "3         04               06          13   01                 71   \n",
              "4         06               07          12   01                 71   \n",
              "\n",
              "  Prenom_Phase_scl_F Prenom_Phase_cl_H Prenom_Phase_cl_F Age_H Age_F  \\\n",
              "0                 41                07                04    12    04   \n",
              "1                 64                07                06    12    09   \n",
              "2                 81                05                08    07    12   \n",
              "3                 36                07                03    12    11   \n",
              "4                 42                07                04    12    05   \n",
              "\n",
              "  Affinite_1 Affinite_2 Prenom_effectif Potentiel_prenom Onoma-Phase_Scl  \\\n",
              "0         20         02              02               01              51   \n",
              "1         04         12              04               13              12   \n",
              "2         06         06              04               18              36   \n",
              "3         11         19              04               06              21   \n",
              "4         14         03              03               01              14   \n",
              "\n",
              "  Onoma-Phase_CL Top_mon  \n",
              "0             05       1  \n",
              "1             01       1  \n",
              "2             03       2  \n",
              "3             02       1  \n",
              "4             01       2  "
            ]
          },
          "metadata": {
            "tags": []
          },
          "execution_count": 58
        }
      ]
    },
    {
      "cell_type": "code",
      "metadata": {
        "id": "0DV4-3xA2W_K"
      },
      "source": [
        "#nombre de modalités de chaque variables (dans un dataframe)\n",
        "def nombre_mod(data2):\n",
        "    #création d'un dataframe vide\n",
        "    dff= pd.DataFrame(columns=[\"VARIABLE\",\"NOMBRE_MOD\", \"NOMBRE_MOD_SANS_NA\"])\n",
        "    for i in range(data2.shape[1]): # sans compter les valeurs manquantes\n",
        "        taille =len(data2.iloc[:,i].value_counts(dropna=False))\n",
        "        taille_1 = len(data2.iloc[:,i].value_counts(dropna=True) )\n",
        "        dff=dff.append({\"VARIABLE\": colonnes[i],\"NOMBRE_MOD\":taille, \"NOMBRE_MOD_SANS_NA\":taille_1 }, ignore_index=True)\n",
        "    return dff\n",
        "\n",
        "# sélection des corrélations les plus importantes\n",
        "def variables_corr(tableau_corr, seuil):\n",
        "    colonnes = tableau_corr.columns\n",
        "    val_temp = 0 \n",
        "    variables_corr_pos=[] ; variables_corr_pos_val=[]\n",
        "    variables_corr_neg=[] ; variables_corr_neg_val=[]\n",
        "    for i in range(tableau_corr.shape[0]):  \n",
        "        for j in range(tableau_corr.shape[0]):\n",
        "            if i<j: #i!=j:\n",
        "                if (tableau_corr.iloc[i,j] > seuil):\n",
        "                    variables_corr_pos.append(colonnes[j])\n",
        "                    variables_corr_pos_val.append(round( tableau_corr.iloc[i,j], 2))\n",
        "                    val_temp += 1\n",
        "\n",
        "                if (tableau_corr.iloc[i,j] <-seuil):\n",
        "                    variables_corr_neg.append(colonnes[j])\n",
        "                    variables_corr_neg_val.append(round( tableau_corr.iloc[i,j], 2))\n",
        "                    val_temp += 1\n",
        "\n",
        "        if (len(variables_corr_pos) > 0) | (len(variables_corr_neg) >0) :\n",
        "            print(\"variable : \", colonnes[i])\n",
        "            if len(variables_corr_pos) > 0:    \n",
        "                print(\"corr pos\", variables_corr_pos)\n",
        "                print(\"corr pos\", variables_corr_pos_val)\n",
        "                val_temp += 1\n",
        "\n",
        "            if len(variables_corr_neg) >0:  \n",
        "                print(\"corr neg\", variables_corr_neg)\n",
        "                print(\"corr neg\", variables_corr_neg_val)\n",
        "                val_temp += 1\n",
        "            print(\"\")\n",
        "        variables_corr_pos = variables_corr_pos*0\n",
        "        variables_corr_neg = variables_corr_pos*0\n",
        "\n",
        "        variables_corr_pos_val = variables_corr_pos_val*0\n",
        "        variables_corr_neg_val = variables_corr_pos_val*0\n",
        "    if val_temp == 0:\n",
        "        print(\"IL N'Y A PAS DE CORRELATION ENTRE LES VARIABLES PAR RAPPORT AU SEUIL PRIS\")\n",
        "        \n",
        "\n",
        "def evaluation(model, X_train, y_train, X_test, y_test, scoring, plot):\n",
        "\n",
        "    model.fit(X_train, y_train)\n",
        "    y_pred = model.predict(X_test)\n",
        "    \n",
        "    print(\"test set : \")\n",
        "    print(confusion_matrix(y_test, y_pred))\n",
        "    print(classification_report(y_test, y_pred)) \n",
        "    print(\"train set : \")\n",
        "    print(confusion_matrix(y_train, model.predict(X_train)))  \n",
        "    print(classification_report(y_train, model.predict(X_train) ))\n",
        "\n",
        "    if plot == True:\n",
        "        N, train_score, val_score = learning_curve(model, X_train, y_train, shuffle=True, cv = 4, scoring = scoring, train_sizes = np.linspace(0.1, 1, 6) )\n",
        "\n",
        "        plt.figure(figsize = (10,6))\n",
        "        plt.plot(N, train_score.mean(axis=1), label =\"train_score\")\n",
        "        plt.plot(N, val_score.mean(axis=1), label =\"cross_validation_score\")\n",
        "        plt.legend()\n",
        "    else :\n",
        "        print(\"GRAPHIQUE NON DEMANDE\")\n",
        "\n",
        "# Comme il n'y a pas de valeurs manquantes (à la place il y a un nombre), le seul traitement qu'on fait c'est tranformer\n",
        "# le type de variable (les variables continues deviennent qualitatives)\n",
        "def data_processing(df):\n",
        "    \"\"\" \n",
        "    for i in range(0,len(df.columns)):    \n",
        "        df[df.columns[i]].fillna(100.0, inplace=True) #On remplace les données manquantes par 100\n",
        "    for i in range(0,len(df.columns)):\n",
        "        print(df[df.columns[i]].value_counts(dropna=False))    \n",
        "    \"\"\"\n",
        "    \n",
        "   #Transformation de toutes les variables en facteurs         \n",
        "    for i in range(0,len(df.columns)):\n",
        "        df[df.columns[i]] = df[df.columns[i]].astype('category')\n",
        "    return df.to_numpy() #.as_matrix()\n",
        "\n",
        "\n",
        "def vingtiles(model, data_orig, affichage, save, path):\n",
        "    # position de la dernière variable explicative dans le dataset\n",
        "    nb_var = data_orig.shape[1]-1\n",
        "\n",
        "    # predict sur tous les individus (avec et sans classe IFI+)\n",
        "    tous_probas = model.predict_proba(data_orig.iloc[:,1:nb_var])\n",
        "    df_tous = pd.DataFrame({'IDENT': data_orig.iloc[:,0] , 'PROBA': tous_probas[:,0] })\n",
        "    #df_tous\n",
        "    \n",
        "    # valeurs ordonnées pour diviser après\n",
        "    df_tous=df_tous.sort_values(by='PROBA', ascending=True)\n",
        "    #df_tous\n",
        "    print(df_tous)\n",
        "    \n",
        "    #vérification\n",
        "    print(df_tous['PROBA'].value_counts())\n",
        "\n",
        "    # quarantiles\n",
        "    df_temp =pd.DataFrame( pd.qcut(df_tous['PROBA'],q= 20)  )\n",
        "    print(df_temp)\n",
        "\n",
        "    # ajout par index (IMPORTANTE)\n",
        "    df_tous[\"TRANCHES\"]=pd.DataFrame(df_temp.iloc[:,0].to_numpy(),index= df_temp.index)\n",
        "    #print(df_tous)\n",
        "    \n",
        "    # pour la colonne Top_mon :\n",
        "    # remplissage de la dernière colonne par 2 (VALABLE QUE POUR CE DATA, MODIFIER POUR D'AUTRES)\n",
        "    data_temp_t = data_orig.copy()\n",
        "    # remplacement\n",
        "    data_temp_t[\"Top_mon\"] =  data_temp_t[\"Top_mon\"].replace(1.0,'1')\n",
        "    data_temp_t[\"Top_mon\"] =  data_temp_t[\"Top_mon\"].replace(2.0,'2')\n",
        "    data_all_complet_class = data_temp_t.fillna('2')\n",
        "    #data_all_complet_class\n",
        "\n",
        "    # jointure\n",
        "    ident_class_tous = data_all_complet_class[[\"IDENT\",\"Top_mon\"]]\n",
        "    tableau_resultats = pd.merge(df_tous,ident_class_tous)\n",
        "    #tableau_resultats\n",
        "\n",
        "    # tranches finales\n",
        "    tab_cross_temp = pd.crosstab(tableau_resultats[\"TRANCHES\"],tableau_resultats[\"Top_mon\"])\n",
        "    #print(tab_cross_temp); print(\"-----------------------\")\n",
        "\n",
        "    # création d'une colonne total\n",
        "    tab_cross_temp[\"TOTAL\"]=tab_cross_temp[\"1\"]+tab_cross_temp[\"2\"]\n",
        "    \n",
        "    # affichage\n",
        "    if affichage ==True:        \n",
        "        print(tab_cross_temp)\n",
        "\n",
        "    # création du tableau final en éliminant la colonne 2\n",
        "    #tab_pour_excel = tab_cross_temp.drop([\"2\"], axis=1)\n",
        "\n",
        "    # si on ne veut pas éliminer la colonne 2\n",
        "    tab_pour_excel =  tab_cross_temp\n",
        "    \n",
        "    # enregistrement sous Excel\n",
        "    if save == True:\n",
        "        tab_pour_excel.to_excel(path)\n",
        "\n",
        "def vingtiles_ind_sans_target(model, data_orig, affichage, save, path):\n",
        "    # position de la dernière variable explicative dans le dataset\n",
        "    nb_var = data_orig.shape[1]-1\n",
        "\n",
        "    # predict sur tous les individus (avec et sans classe IFI+)\n",
        "    tous_probas = model.predict_proba(data_orig.iloc[:,1:nb_var])\n",
        "    df_tous = pd.DataFrame({'IDENT': data_orig.iloc[:,0] , 'PROBA': tous_probas[:,0] })\n",
        "    #df_tous\n",
        "    \n",
        "    # valeurs ordonnées pour diviser après\n",
        "    df_tous=df_tous.sort_values(by='PROBA', ascending=True)\n",
        "    #df_tous\n",
        "    print(df_tous)\n",
        "    \n",
        "    #vérification\n",
        "    print(df_tous['PROBA'].value_counts())\n",
        "\n",
        "    # quarantiles\n",
        "    df_temp =pd.DataFrame( pd.qcut(df_tous['PROBA'],q= 20)  )\n",
        "    print(df_temp)\n",
        "\n",
        "    # ajout par index (IMPORTANTE)\n",
        "    df_tous[\"TRANCHES\"]=pd.DataFrame(df_temp.iloc[:,0].to_numpy(),index= df_temp.index)\n",
        "    print(df_tous)\n",
        "    print(df_tous[\"TRANCHES\"].value_counts(ascending = True))\n",
        "\n",
        "    # GERE L'ORDRE\n",
        "    patra = np.unique(df_tous.iloc[:,2], return_counts=True)\n",
        "    df_tranches_sans_target = pd.DataFrame([patra[0],patra[1]]).T\n",
        "    df_tranches_sans_target.columns=[\"TRANCHES\",\"COUNTS\"]\n",
        "\n",
        "    # affichage\n",
        "    if affichage ==True:        \n",
        "        print(df_tranches_sans_target)\n",
        "    \n",
        "    # enregistrement sous Excel\n",
        "    if save == True:\n",
        "        df_tranches_sans_target.to_excel(path)\n",
        "    \n",
        "\n",
        "# élimination des variables trop corrélées (choix manuel)\n",
        "def elimination_val_corr(data):\n",
        "    data = data.drop(columns=[\"\"])\n",
        "    return data\n",
        "\n",
        "    "
      ],
      "execution_count": 59,
      "outputs": []
    },
    {
      "cell_type": "code",
      "metadata": {
        "colab": {
          "base_uri": "https://localhost:8080/",
          "height": 770
        },
        "id": "2EQAN76Q2XBS",
        "outputId": "78470875-950c-43ca-c965-5166b4044221"
      },
      "source": [
        "nombre_mod(data)"
      ],
      "execution_count": 60,
      "outputs": [
        {
          "output_type": "execute_result",
          "data": {
            "text/html": [
              "<div>\n",
              "<style scoped>\n",
              "    .dataframe tbody tr th:only-of-type {\n",
              "        vertical-align: middle;\n",
              "    }\n",
              "\n",
              "    .dataframe tbody tr th {\n",
              "        vertical-align: top;\n",
              "    }\n",
              "\n",
              "    .dataframe thead th {\n",
              "        text-align: right;\n",
              "    }\n",
              "</style>\n",
              "<table border=\"1\" class=\"dataframe\">\n",
              "  <thead>\n",
              "    <tr style=\"text-align: right;\">\n",
              "      <th></th>\n",
              "      <th>VARIABLE</th>\n",
              "      <th>NOMBRE_MOD</th>\n",
              "      <th>NOMBRE_MOD_SANS_NA</th>\n",
              "    </tr>\n",
              "  </thead>\n",
              "  <tbody>\n",
              "    <tr>\n",
              "      <th>0</th>\n",
              "      <td>IDENT</td>\n",
              "      <td>1192180</td>\n",
              "      <td>1192180</td>\n",
              "    </tr>\n",
              "    <tr>\n",
              "      <th>1</th>\n",
              "      <td>TypeHabi</td>\n",
              "      <td>4</td>\n",
              "      <td>4</td>\n",
              "    </tr>\n",
              "    <tr>\n",
              "      <th>2</th>\n",
              "      <td>GeoFaz_Scl</td>\n",
              "      <td>38</td>\n",
              "      <td>38</td>\n",
              "    </tr>\n",
              "    <tr>\n",
              "      <th>3</th>\n",
              "      <td>GeoFaz_cl</td>\n",
              "      <td>8</td>\n",
              "      <td>8</td>\n",
              "    </tr>\n",
              "    <tr>\n",
              "      <th>4</th>\n",
              "      <td>ImmoFaz_Scl</td>\n",
              "      <td>31</td>\n",
              "      <td>31</td>\n",
              "    </tr>\n",
              "    <tr>\n",
              "      <th>5</th>\n",
              "      <td>ImmoFaz_cl</td>\n",
              "      <td>9</td>\n",
              "      <td>9</td>\n",
              "    </tr>\n",
              "    <tr>\n",
              "      <th>6</th>\n",
              "      <td>Anciennete</td>\n",
              "      <td>11</td>\n",
              "      <td>11</td>\n",
              "    </tr>\n",
              "    <tr>\n",
              "      <th>7</th>\n",
              "      <td>Logement_prix_m2</td>\n",
              "      <td>21</td>\n",
              "      <td>21</td>\n",
              "    </tr>\n",
              "    <tr>\n",
              "      <th>8</th>\n",
              "      <td>Mediane_RFR</td>\n",
              "      <td>21</td>\n",
              "      <td>21</td>\n",
              "    </tr>\n",
              "    <tr>\n",
              "      <th>9</th>\n",
              "      <td>Sexe</td>\n",
              "      <td>5</td>\n",
              "      <td>5</td>\n",
              "    </tr>\n",
              "    <tr>\n",
              "      <th>10</th>\n",
              "      <td>Prenom_Phase_scl_H</td>\n",
              "      <td>31</td>\n",
              "      <td>31</td>\n",
              "    </tr>\n",
              "    <tr>\n",
              "      <th>11</th>\n",
              "      <td>Prenom_Phase_scl_F</td>\n",
              "      <td>45</td>\n",
              "      <td>45</td>\n",
              "    </tr>\n",
              "    <tr>\n",
              "      <th>12</th>\n",
              "      <td>Prenom_Phase_cl_H</td>\n",
              "      <td>7</td>\n",
              "      <td>7</td>\n",
              "    </tr>\n",
              "    <tr>\n",
              "      <th>13</th>\n",
              "      <td>Prenom_Phase_cl_F</td>\n",
              "      <td>8</td>\n",
              "      <td>8</td>\n",
              "    </tr>\n",
              "    <tr>\n",
              "      <th>14</th>\n",
              "      <td>Age_H</td>\n",
              "      <td>12</td>\n",
              "      <td>12</td>\n",
              "    </tr>\n",
              "    <tr>\n",
              "      <th>15</th>\n",
              "      <td>Age_F</td>\n",
              "      <td>12</td>\n",
              "      <td>12</td>\n",
              "    </tr>\n",
              "    <tr>\n",
              "      <th>16</th>\n",
              "      <td>Affinite_1</td>\n",
              "      <td>21</td>\n",
              "      <td>21</td>\n",
              "    </tr>\n",
              "    <tr>\n",
              "      <th>17</th>\n",
              "      <td>Affinite_2</td>\n",
              "      <td>21</td>\n",
              "      <td>21</td>\n",
              "    </tr>\n",
              "    <tr>\n",
              "      <th>18</th>\n",
              "      <td>Prenom_effectif</td>\n",
              "      <td>6</td>\n",
              "      <td>6</td>\n",
              "    </tr>\n",
              "    <tr>\n",
              "      <th>19</th>\n",
              "      <td>Potentiel_prenom</td>\n",
              "      <td>21</td>\n",
              "      <td>21</td>\n",
              "    </tr>\n",
              "    <tr>\n",
              "      <th>20</th>\n",
              "      <td>Onoma-Phase_Scl</td>\n",
              "      <td>36</td>\n",
              "      <td>36</td>\n",
              "    </tr>\n",
              "    <tr>\n",
              "      <th>21</th>\n",
              "      <td>Onoma-Phase_CL</td>\n",
              "      <td>6</td>\n",
              "      <td>6</td>\n",
              "    </tr>\n",
              "    <tr>\n",
              "      <th>22</th>\n",
              "      <td>Top_mon</td>\n",
              "      <td>3</td>\n",
              "      <td>2</td>\n",
              "    </tr>\n",
              "  </tbody>\n",
              "</table>\n",
              "</div>"
            ],
            "text/plain": [
              "              VARIABLE NOMBRE_MOD NOMBRE_MOD_SANS_NA\n",
              "0                IDENT    1192180            1192180\n",
              "1             TypeHabi          4                  4\n",
              "2           GeoFaz_Scl         38                 38\n",
              "3            GeoFaz_cl          8                  8\n",
              "4          ImmoFaz_Scl         31                 31\n",
              "5           ImmoFaz_cl          9                  9\n",
              "6           Anciennete         11                 11\n",
              "7     Logement_prix_m2         21                 21\n",
              "8          Mediane_RFR         21                 21\n",
              "9                 Sexe          5                  5\n",
              "10  Prenom_Phase_scl_H         31                 31\n",
              "11  Prenom_Phase_scl_F         45                 45\n",
              "12   Prenom_Phase_cl_H          7                  7\n",
              "13   Prenom_Phase_cl_F          8                  8\n",
              "14               Age_H         12                 12\n",
              "15               Age_F         12                 12\n",
              "16          Affinite_1         21                 21\n",
              "17          Affinite_2         21                 21\n",
              "18     Prenom_effectif          6                  6\n",
              "19    Potentiel_prenom         21                 21\n",
              "20     Onoma-Phase_Scl         36                 36\n",
              "21      Onoma-Phase_CL          6                  6\n",
              "22             Top_mon          3                  2"
            ]
          },
          "metadata": {
            "tags": []
          },
          "execution_count": 60
        }
      ]
    },
    {
      "cell_type": "code",
      "metadata": {
        "colab": {
          "base_uri": "https://localhost:8080/"
        },
        "id": "dNh8ZnOzMfDy",
        "outputId": "12e561e6-07c1-4e56-ed19-3d5706baec20"
      },
      "source": [
        "data[\"Top_mon\"].value_counts(dropna=False)"
      ],
      "execution_count": 61,
      "outputs": [
        {
          "output_type": "execute_result",
          "data": {
            "text/plain": [
              "NaN    1092884\n",
              "2        72568\n",
              "1        26728\n",
              "Name: Top_mon, dtype: int64"
            ]
          },
          "metadata": {
            "tags": []
          },
          "execution_count": 61
        }
      ]
    },
    {
      "cell_type": "code",
      "metadata": {
        "colab": {
          "base_uri": "https://localhost:8080/"
        },
        "id": "_bJVv_4eBsmj",
        "outputId": "f760e1b4-7276-4cee-c51f-904b1c65dbd3"
      },
      "source": [
        "data.info()"
      ],
      "execution_count": 62,
      "outputs": [
        {
          "output_type": "stream",
          "text": [
            "<class 'pandas.core.frame.DataFrame'>\n",
            "RangeIndex: 1192180 entries, 0 to 1192179\n",
            "Data columns (total 23 columns):\n",
            " #   Column              Non-Null Count    Dtype \n",
            "---  ------              --------------    ----- \n",
            " 0   IDENT               1192180 non-null  object\n",
            " 1   TypeHabi            1192180 non-null  object\n",
            " 2   GeoFaz_Scl          1192180 non-null  object\n",
            " 3   GeoFaz_cl           1192180 non-null  object\n",
            " 4   ImmoFaz_Scl         1192180 non-null  object\n",
            " 5   ImmoFaz_cl          1192180 non-null  object\n",
            " 6   Anciennete          1192180 non-null  object\n",
            " 7   Logement_prix_m2    1192180 non-null  object\n",
            " 8   Mediane_RFR         1192180 non-null  object\n",
            " 9   Sexe                1192180 non-null  object\n",
            " 10  Prenom_Phase_scl_H  1192180 non-null  object\n",
            " 11  Prenom_Phase_scl_F  1192180 non-null  object\n",
            " 12  Prenom_Phase_cl_H   1192180 non-null  object\n",
            " 13  Prenom_Phase_cl_F   1192180 non-null  object\n",
            " 14  Age_H               1192180 non-null  object\n",
            " 15  Age_F               1192180 non-null  object\n",
            " 16  Affinite_1          1192180 non-null  object\n",
            " 17  Affinite_2          1192180 non-null  object\n",
            " 18  Prenom_effectif     1192180 non-null  object\n",
            " 19  Potentiel_prenom    1192180 non-null  object\n",
            " 20  Onoma-Phase_Scl     1192180 non-null  object\n",
            " 21  Onoma-Phase_CL      1192180 non-null  object\n",
            " 22  Top_mon             99296 non-null    object\n",
            "dtypes: object(23)\n",
            "memory usage: 209.2+ MB\n"
          ],
          "name": "stdout"
        }
      ]
    },
    {
      "cell_type": "code",
      "metadata": {
        "id": "R6qqf87_2XGq"
      },
      "source": [
        ""
      ],
      "execution_count": 62,
      "outputs": []
    },
    {
      "cell_type": "code",
      "metadata": {
        "id": "Y4nhL2yxcZZb"
      },
      "source": [
        ""
      ],
      "execution_count": 62,
      "outputs": []
    },
    {
      "cell_type": "code",
      "metadata": {
        "id": "IJOZku3IYEpI"
      },
      "source": [
        ""
      ],
      "execution_count": 62,
      "outputs": []
    },
    {
      "cell_type": "code",
      "metadata": {
        "id": "0lpwr2FMYiq2"
      },
      "source": [
        ""
      ],
      "execution_count": 62,
      "outputs": []
    },
    {
      "cell_type": "code",
      "metadata": {
        "id": "gGyqVG-fUKyo"
      },
      "source": [
        "############################################################### AJOUTER OU EFFACER (data =) #######################################\n",
        "# on élimine les variables corr\n",
        "data=data.drop([\"GeoFaz_cl\", \"ImmoFaz_Scl\", \"ImmoFaz_cl\", \"Prenom_Phase_cl_H\", \"Prenom_Phase_cl_F\", \"Onoma-Phase_Scl\", \"Onoma-Phase_CL\"],axis=1)\n"
      ],
      "execution_count": 63,
      "outputs": []
    },
    {
      "cell_type": "code",
      "metadata": {
        "colab": {
          "base_uri": "https://localhost:8080/"
        },
        "id": "2-RPzJ4vZEhM",
        "outputId": "da7f6fa1-7a27-4dcf-ea09-930b832faec1"
      },
      "source": [
        "num_var_max = data.shape[1] - 1\n",
        "num_var_max"
      ],
      "execution_count": 64,
      "outputs": [
        {
          "output_type": "execute_result",
          "data": {
            "text/plain": [
              "15"
            ]
          },
          "metadata": {
            "tags": []
          },
          "execution_count": 64
        }
      ]
    },
    {
      "cell_type": "code",
      "metadata": {
        "id": "C0T71nnOQ1rc",
        "colab": {
          "base_uri": "https://localhost:8080/",
          "height": 313
        },
        "outputId": "8b7efad7-59c3-4a37-d662-e371b24e7134"
      },
      "source": [
        "#importation de la librairie\n",
        "from fanalysis.mca import MCA\n",
        "\n",
        "#instanciation\n",
        "acm = MCA(var_labels=data.columns[1:num_var_max])\n",
        "\n",
        "# apprentissage\n",
        "acm.fit(data.iloc[:127115,1:num_var_max].values)\n",
        "#valeurs propres - graphique\n",
        "print(acm.plot_eigenvalues())"
      ],
      "execution_count": 65,
      "outputs": [
        {
          "output_type": "display_data",
          "data": {
            "image/png": "[encoded data removed]",
            "text/plain": [
              "<Figure size 432x288 with 1 Axes>"
            ]
          },
          "metadata": {
            "tags": [],
            "needs_background": "light"
          }
        },
        {
          "output_type": "stream",
          "text": [
            "None\n"
          ],
          "name": "stdout"
        }
      ]
    },
    {
      "cell_type": "code",
      "metadata": {
        "id": "uba6n_5g-7-U"
      },
      "source": [
        "# fonction qui va diviser et calculer les coordonnées des individus \n",
        "def transform_to_coord(data):\n",
        "    coord_part = 0\n",
        "    coord = acm.transform(data.iloc[0:30000,1:num_var_max].values)\n",
        "    k=30000\n",
        "    nb_part = round(data.shape[0]/k)\n",
        "    for i in range(1, nb_part):\n",
        "        coord_part=acm.transform(data.iloc[i*k:(i+1)*k,1:num_var_max].values)\n",
        "        coord=np.concatenate((coord, coord_part))\n",
        "\n",
        "    coord_part = acm.transform(data.iloc[nb_part*k: ,1:num_var_max].values )\n",
        "    coord=np.concatenate((coord, coord_part))\n",
        "    return coord"
      ],
      "execution_count": 66,
      "outputs": []
    },
    {
      "cell_type": "code",
      "metadata": {
        "id": "Owu0Cby0oOnj"
      },
      "source": [
        "#instanciation\n",
        "acm = MCA(var_labels = data.columns[1:num_var_max], n_components=15)  # paramètres index manquante (gérer après)\n",
        "#apprentissage \n",
        "\"ne pas utiliser fit_tranform car le datset est trop grand \"\n",
        "acm.fit(data.iloc[:127115,1:num_var_max].values)\n",
        "\n",
        "# tranformation du dataset\n",
        "coord = transform_to_coord(data)\n"
      ],
      "execution_count": 67,
      "outputs": []
    },
    {
      "cell_type": "code",
      "metadata": {
        "id": "cF7I6w-gPtLx"
      },
      "source": [
        ""
      ],
      "execution_count": 67,
      "outputs": []
    },
    {
      "cell_type": "code",
      "metadata": {
        "id": "o6XdxYjGPT1c"
      },
      "source": [
        ""
      ],
      "execution_count": 67,
      "outputs": []
    },
    {
      "cell_type": "code",
      "metadata": {
        "colab": {
          "base_uri": "https://localhost:8080/"
        },
        "id": "7Xqe0tJsysa3",
        "outputId": "8293ee68-3e1b-4652-c211-68477d25e941"
      },
      "source": [
        "# dimension\n",
        "coord.shape"
      ],
      "execution_count": 68,
      "outputs": [
        {
          "output_type": "execute_result",
          "data": {
            "text/plain": [
              "(1192180, 15)"
            ]
          },
          "metadata": {
            "tags": []
          },
          "execution_count": 68
        }
      ]
    },
    {
      "cell_type": "code",
      "metadata": {
        "colab": {
          "base_uri": "https://localhost:8080/",
          "height": 313
        },
        "id": "tpU2mQ-g8XJQ",
        "outputId": "1a1021a3-14b3-459b-e690-a76e0ae989b0"
      },
      "source": [
        "#valeurs propres - graphique\n",
        "print(acm.plot_eigenvalues())\n"
      ],
      "execution_count": 69,
      "outputs": [
        {
          "output_type": "display_data",
          "data": {
            "image/png": "[encoded data removed]",
            "text/plain": [
              "<Figure size 432x288 with 1 Axes>"
            ]
          },
          "metadata": {
            "tags": [],
            "needs_background": "light"
          }
        },
        {
          "output_type": "stream",
          "text": [
            "None\n"
          ],
          "name": "stdout"
        }
      ]
    },
    {
      "cell_type": "code",
      "metadata": {
        "colab": {
          "base_uri": "https://localhost:8080/"
        },
        "id": "OJEJV8tO8eqw",
        "outputId": "a0b0d284-1388-4132-81ad-f496c30c536b"
      },
      "source": [
        "#coordonnées des colonnes\n",
        "print(acm.col_topandas())"
      ],
      "execution_count": 70,
      "outputs": [
        {
          "output_type": "stream",
          "text": [
            "                     col_coord_dim1  col_coord_dim2  col_coord_dim3  \\\n",
            "TypeHabi_01                0.303745       -0.199664       -0.211148   \n",
            "TypeHabi_02               -0.137910        0.078707        0.088941   \n",
            "TypeHabi_03                0.122199       -0.010173       -0.038724   \n",
            "TypeHabi_04                0.078727       -1.065636       -1.803922   \n",
            "GeoFaz_Scl_11             -0.138645       -0.005575       -0.087617   \n",
            "...                             ...             ...             ...   \n",
            "Potentiel_prenom_17       -1.320105        0.090332        0.899473   \n",
            "Potentiel_prenom_18       -1.182690        0.075362        0.286507   \n",
            "Potentiel_prenom_19       -1.281801        0.052114       -0.833528   \n",
            "Potentiel_prenom_20       -1.174645        0.057272       -1.283870   \n",
            "Potentiel_prenom_21        0.122916       -5.894422        0.417186   \n",
            "\n",
            "                     col_coord_dim4  col_coord_dim5  col_coord_dim6  \\\n",
            "TypeHabi_01                0.247493       -0.127000        0.242205   \n",
            "TypeHabi_02               -0.098090        0.053430       -0.106188   \n",
            "TypeHabi_03                0.022230       -0.019244        0.075153   \n",
            "TypeHabi_04               -0.088510       -1.857371        0.401610   \n",
            "GeoFaz_Scl_11              0.079899        0.089913        0.112638   \n",
            "...                             ...             ...             ...   \n",
            "Potentiel_prenom_17        0.661822       -0.707636        1.148728   \n",
            "Potentiel_prenom_18        0.440342       -0.044586        0.068000   \n",
            "Potentiel_prenom_19        0.015074        0.753971       -0.569854   \n",
            "Potentiel_prenom_20        0.223777        1.483362       -0.591688   \n",
            "Potentiel_prenom_21       -1.031099        0.108902        0.154611   \n",
            "\n",
            "                     col_coord_dim7  col_coord_dim8  col_coord_dim9  \\\n",
            "TypeHabi_01               -0.349227        0.341024       -0.840496   \n",
            "TypeHabi_02                0.126028       -0.152228        0.374182   \n",
            "TypeHabi_03               -0.130461        0.074038       -0.255504   \n",
            "TypeHabi_04               35.048393       10.327454       -9.014935   \n",
            "GeoFaz_Scl_11             -0.071411        0.006490       -0.070461   \n",
            "...                             ...             ...             ...   \n",
            "Potentiel_prenom_17       -0.018951        0.305299        0.521399   \n",
            "Potentiel_prenom_18       -0.015161        0.233461       -0.040072   \n",
            "Potentiel_prenom_19        0.147380       -1.037713       -0.691917   \n",
            "Potentiel_prenom_20       -0.139981        0.442761       -0.012124   \n",
            "Potentiel_prenom_21        0.029079       -0.169825        0.447893   \n",
            "\n",
            "                     col_coord_dim10  col_coord_dim11  col_coord_dim12  \\\n",
            "TypeHabi_01                 0.105994        -0.048824         0.087810   \n",
            "TypeHabi_02                -0.045010         0.018616        -0.038289   \n",
            "TypeHabi_03                 0.024876        -0.002266         0.022781   \n",
            "TypeHabi_04                 0.181873         0.414255         0.840945   \n",
            "GeoFaz_Scl_11              -0.043230         0.050584         0.046334   \n",
            "...                              ...              ...              ...   \n",
            "Potentiel_prenom_17         0.344393         0.359703         1.595235   \n",
            "Potentiel_prenom_18         1.508480        -1.104545        -1.694768   \n",
            "Potentiel_prenom_19         0.265409         0.290176         0.533646   \n",
            "Potentiel_prenom_20        -0.028702        -0.051211        -0.198278   \n",
            "Potentiel_prenom_21         0.002702        -0.031698        -0.141323   \n",
            "\n",
            "                     col_coord_dim13  col_coord_dim14  col_coord_dim15  \\\n",
            "TypeHabi_01                -0.012474         0.126433        -0.227731   \n",
            "TypeHabi_02                 0.009591        -0.029693         0.068666   \n",
            "TypeHabi_03                -0.024616        -0.101652         0.092679   \n",
            "TypeHabi_04                -0.395862         0.246676         1.107778   \n",
            "GeoFaz_Scl_11               0.190856        -0.689717         0.957951   \n",
            "...                              ...              ...              ...   \n",
            "Potentiel_prenom_17         0.215728        -0.019332        -0.010017   \n",
            "Potentiel_prenom_18         1.229099        -0.128282         0.012752   \n",
            "Potentiel_prenom_19        -0.025398        -1.144364        -0.631299   \n",
            "Potentiel_prenom_20        -1.582945        -0.381602        -0.126057   \n",
            "Potentiel_prenom_21        -0.149434        -0.069460         0.029498   \n",
            "\n",
            "                     col_contrib_dim1  col_contrib_dim2  col_contrib_dim3  \\\n",
            "TypeHabi_01                  0.431798          0.220861          0.286482   \n",
            "TypeHabi_02                  0.234113          0.090265          0.133690   \n",
            "TypeHabi_03                  0.033623          0.000276          0.004636   \n",
            "TypeHabi_04                  0.000067          0.014455          0.048043   \n",
            "GeoFaz_Scl_11                0.013450          0.000026          0.007375   \n",
            "...                               ...               ...               ...   \n",
            "Potentiel_prenom_17          2.334221          0.012938          1.487862   \n",
            "Potentiel_prenom_18          1.368944          0.006580          0.110300   \n",
            "Potentiel_prenom_19          1.572162          0.003076          0.912760   \n",
            "Potentiel_prenom_20          1.480572          0.004166          2.428392   \n",
            "Potentiel_prenom_21          0.007677         20.898173          0.121420   \n",
            "\n",
            "                     col_contrib_dim4  col_contrib_dim5  col_contrib_dim6  \\\n",
            "TypeHabi_01                  0.418232          0.122150          0.464051   \n",
            "TypeHabi_02                  0.172786          0.056863          0.234597   \n",
            "TypeHabi_03                  0.001623          0.001349          0.021495   \n",
            "TypeHabi_04                  0.000123          0.060028          0.002931   \n",
            "GeoFaz_Scl_11                0.006517          0.009153          0.015005   \n",
            "...                               ...               ...               ...   \n",
            "Potentiel_prenom_17          0.855927          1.085338          2.987428   \n",
            "Potentiel_prenom_18          0.276855          0.003148          0.007649   \n",
            "Potentiel_prenom_19          0.000317          0.880206          0.525196   \n",
            "Potentiel_prenom_20          0.078393          3.820591          0.634951   \n",
            "Potentiel_prenom_21          0.788130          0.009751          0.020530   \n",
            "\n",
            "                     col_contrib_dim7  col_contrib_dim8  col_contrib_dim9  \\\n",
            "TypeHabi_01                  1.107421          1.076506          6.675336   \n",
            "TypeHabi_02                  0.379317          0.564162          3.479671   \n",
            "TypeHabi_03                  0.074352          0.024412          0.296780   \n",
            "TypeHabi_04                 25.627356          2.268322          1.764407   \n",
            "GeoFaz_Scl_11                0.006923          0.000058          0.007014   \n",
            "...                               ...               ...               ...   \n",
            "Potentiel_prenom_17          0.000933          0.246922          0.735197   \n",
            "Potentiel_prenom_18          0.000436          0.105500          0.003173   \n",
            "Potentiel_prenom_19          0.040324          2.037951          0.924917   \n",
            "Potentiel_prenom_20          0.040793          0.416042          0.000318   \n",
            "Potentiel_prenom_21          0.000834          0.028984          0.205805   \n",
            "\n",
            "                     col_contrib_dim10  col_contrib_dim11  col_contrib_dim12  \\\n",
            "TypeHabi_01                   0.113094           0.025363           0.084889   \n",
            "TypeHabi_02                   0.053636           0.009698           0.042449   \n",
            "TypeHabi_03                   0.002997           0.000026           0.002749   \n",
            "TypeHabi_04                   0.000765           0.004195           0.017888   \n",
            "GeoFaz_Scl_11                 0.002813           0.004070           0.003534   \n",
            "...                                ...                ...                ...   \n",
            "Potentiel_prenom_17           0.341698           0.393996           8.018072   \n",
            "Potentiel_prenom_18           4.789949           2.714491           6.612401   \n",
            "Potentiel_prenom_19           0.144976           0.183171           0.640999   \n",
            "Potentiel_prenom_20           0.001901           0.006398           0.099234   \n",
            "Potentiel_prenom_21           0.000008           0.001161           0.023872   \n",
            "\n",
            "                     col_contrib_dim13  col_contrib_dim14  col_contrib_dim15  \\\n",
            "TypeHabi_01                   0.001748           0.191559           0.630937   \n",
            "TypeHabi_02                   0.002718           0.027788           0.150868   \n",
            "TypeHabi_03                   0.003275           0.059573           0.050273   \n",
            "TypeHabi_04                   0.004045           0.001675           0.034302   \n",
            "GeoFaz_Scl_11                 0.061177           0.852275           1.669105   \n",
            "...                                ...                ...                ...   \n",
            "Potentiel_prenom_17           0.149623           0.001282           0.000349   \n",
            "Potentiel_prenom_18           3.548773           0.041238           0.000414   \n",
            "Potentiel_prenom_19           0.001481           3.208517           0.991301   \n",
            "Potentiel_prenom_20           6.453701           0.400090           0.044323   \n",
            "Potentiel_prenom_21           0.027235           0.006277           0.001149   \n",
            "\n",
            "                     col_cos2_dim1  col_cos2_dim2  col_cos2_dim3  \\\n",
            "TypeHabi_01               0.029633       0.012804       0.014319   \n",
            "TypeHabi_02               0.033721       0.010983       0.014025   \n",
            "TypeHabi_03               0.001978       0.000014       0.000199   \n",
            "TypeHabi_04               0.000003       0.000635       0.001819   \n",
            "GeoFaz_Scl_11             0.000725       0.000001       0.000290   \n",
            "...                            ...            ...            ...   \n",
            "Potentiel_prenom_17       0.130313       0.000610       0.060499   \n",
            "Potentiel_prenom_18       0.074915       0.000304       0.004396   \n",
            "Potentiel_prenom_19       0.085934       0.000142       0.036338   \n",
            "Potentiel_prenom_20       0.081445       0.000194       0.097295   \n",
            "Potentiel_prenom_21       0.000410       0.941878       0.004718   \n",
            "\n",
            "                     col_cos2_dim4  col_cos2_dim5  col_cos2_dim6  \\\n",
            "TypeHabi_01               0.019673       0.005180       0.018842   \n",
            "TypeHabi_02               0.017059       0.005062       0.019992   \n",
            "TypeHabi_03               0.000065       0.000049       0.000748   \n",
            "TypeHabi_04               0.000004       0.001928       0.000090   \n",
            "GeoFaz_Scl_11             0.000241       0.000305       0.000479   \n",
            "...                            ...            ...            ...   \n",
            "Potentiel_prenom_17       0.032753       0.037445       0.098674   \n",
            "Potentiel_prenom_18       0.010385       0.000106       0.000248   \n",
            "Potentiel_prenom_19       0.000012       0.029733       0.016984   \n",
            "Potentiel_prenom_20       0.002956       0.129881       0.020665   \n",
            "Potentiel_prenom_21       0.028821       0.000322       0.000648   \n",
            "\n",
            "                     col_cos2_dim7  col_cos2_dim8  col_cos2_dim9  \\\n",
            "TypeHabi_01               0.039171       0.037353       0.226895   \n",
            "TypeHabi_02               0.028161       0.041087       0.248244   \n",
            "TypeHabi_03               0.002254       0.000726       0.008647   \n",
            "TypeHabi_04               0.686500       0.059606       0.045418   \n",
            "GeoFaz_Scl_11             0.000192       0.000002       0.000187   \n",
            "...                            ...            ...            ...   \n",
            "Potentiel_prenom_17       0.000027       0.006970       0.020329   \n",
            "Potentiel_prenom_18       0.000012       0.002919       0.000086   \n",
            "Potentiel_prenom_19       0.001136       0.056322       0.025040   \n",
            "Potentiel_prenom_20       0.001157       0.011571       0.000009   \n",
            "Potentiel_prenom_21       0.000023       0.000782       0.005438   \n",
            "\n",
            "                     col_cos2_dim10  col_cos2_dim11  col_cos2_dim12  \\\n",
            "TypeHabi_01            3.608439e-03    7.656252e-04        0.002477   \n",
            "TypeHabi_02            3.591934e-03    6.144618e-04        0.002599   \n",
            "TypeHabi_03            8.195769e-05    6.801882e-07        0.000069   \n",
            "TypeHabi_04            1.848591e-05    9.590467e-05        0.000395   \n",
            "GeoFaz_Scl_11          7.048416e-05    9.650555e-05        0.000081   \n",
            "...                             ...             ...             ...   \n",
            "Potentiel_prenom_17    8.869100e-03    9.675196e-03        0.190292   \n",
            "Potentiel_prenom_18    1.218731e-01    6.534254e-02        0.153833   \n",
            "Potentiel_prenom_19    3.684302e-03    4.403979e-03        0.014895   \n",
            "Potentiel_prenom_20    4.862680e-05    1.548014e-04        0.002321   \n",
            "Potentiel_prenom_21    1.979237e-07    2.723770e-05        0.000541   \n",
            "\n",
            "                     col_cos2_dim13  col_cos2_dim14  col_cos2_dim15  \n",
            "TypeHabi_01                0.000050        0.005134        0.016657  \n",
            "TypeHabi_02                0.000163        0.001563        0.008360  \n",
            "TypeHabi_03                0.000080        0.001369        0.001138  \n",
            "TypeHabi_04                0.000088        0.000034        0.000686  \n",
            "GeoFaz_Scl_11              0.001374        0.017942        0.034611  \n",
            "...                             ...             ...             ...  \n",
            "Potentiel_prenom_17        0.003480        0.000028        0.000008  \n",
            "Potentiel_prenom_18        0.080910        0.000881        0.000009  \n",
            "Potentiel_prenom_19        0.000034        0.068494        0.020845  \n",
            "Potentiel_prenom_20        0.147905        0.008596        0.000938  \n",
            "Potentiel_prenom_21        0.000605        0.000131        0.000024  \n",
            "\n",
            "[269 rows x 45 columns]\n"
          ],
          "name": "stdout"
        }
      ]
    },
    {
      "cell_type": "code",
      "metadata": {
        "colab": {
          "base_uri": "https://localhost:8080/"
        },
        "id": "irARzF0d8es8",
        "outputId": "2209c207-a251-49b7-f32b-77b9b9cdff8c"
      },
      "source": [
        "#nombre var. actives\n",
        "p = data.shape[1]-1\n",
        "print(p)\n",
        "#calcul des fonctions de projection\n",
        "fproj = np.zeros(acm.col_coord_.shape)\n",
        "#pour chaque colonne\n",
        "for j in range(fproj.shape[1]):\n",
        " fproj[:,j] = acm.col_coord_[:,j]/(p*np.sqrt(acm.eig_[0,j]))\n",
        "#affichage fonction\n",
        "print(fproj)\n",
        "#affichage plus avenant des deux premiers facteurs\n",
        "print(pd.DataFrame(fproj,index=acm.col_labels_))\n"
      ],
      "execution_count": 71,
      "outputs": [
        {
          "output_type": "stream",
          "text": [
            "15\n",
            "[[ 0.03324437 -0.0237759  -0.02707861 ... -0.00211514  0.02214265\n",
            "  -0.04018564]\n",
            " [-0.01509404  0.00937241  0.01140621 ...  0.00162636 -0.00520022\n",
            "   0.01211689]\n",
            " [ 0.01337452 -0.00121141 -0.0049661  ... -0.00417397 -0.01780262\n",
            "   0.01635417]\n",
            " ...\n",
            " [-0.14029106  0.00620571 -0.10689556 ... -0.00430656 -0.20041651\n",
            "  -0.11139973]\n",
            " [-0.12856302  0.00681995 -0.16464959 ... -0.26841431 -0.06683131\n",
            "  -0.02224408]\n",
            " [ 0.01345298 -0.70190616  0.05350198 ... -0.02533906 -0.01216482\n",
            "   0.00520516]]\n",
            "                           0         1         2         3         4   \\\n",
            "TypeHabi_01          0.033244 -0.023776 -0.027079  0.032718 -0.017682   \n",
            "TypeHabi_02         -0.015094  0.009372  0.011406 -0.012967  0.007439   \n",
            "TypeHabi_03          0.013375 -0.001211 -0.004966  0.002939 -0.002679   \n",
            "TypeHabi_04          0.008617 -0.126896 -0.231344 -0.011701 -0.258594   \n",
            "GeoFaz_Scl_11       -0.015174 -0.000664 -0.011236  0.010562  0.012518   \n",
            "...                       ...       ...       ...       ...       ...   \n",
            "Potentiel_prenom_17 -0.144483  0.010757  0.115353  0.087491 -0.098521   \n",
            "Potentiel_prenom_18 -0.129444  0.008974  0.036743  0.058212 -0.006207   \n",
            "Potentiel_prenom_19 -0.140291  0.006206 -0.106896  0.001993  0.104972   \n",
            "Potentiel_prenom_20 -0.128563  0.006820 -0.164650  0.029583  0.206522   \n",
            "Potentiel_prenom_21  0.013453 -0.701906  0.053502 -0.136309  0.015162   \n",
            "\n",
            "                           5         6         7         8         9   \\\n",
            "TypeHabi_01          0.034464 -0.053240  0.052491 -0.130712  0.017014   \n",
            "TypeHabi_02         -0.015110  0.019213 -0.023431  0.058192 -0.007225   \n",
            "TypeHabi_03          0.010694 -0.019889  0.011396 -0.039735  0.003993   \n",
            "TypeHabi_04          0.057146  5.343107  1.589624 -1.401979  0.029193   \n",
            "GeoFaz_Scl_11        0.016027 -0.010887  0.000999 -0.010958 -0.006939   \n",
            "...                       ...       ...       ...       ...       ...   \n",
            "Potentiel_prenom_17  0.163454 -0.002889  0.046992  0.081087  0.055280   \n",
            "Potentiel_prenom_18  0.009676 -0.002311  0.035935 -0.006232  0.242133   \n",
            "Potentiel_prenom_19 -0.081085  0.022468 -0.159727 -0.107605  0.042602   \n",
            "Potentiel_prenom_20 -0.084192 -0.021340  0.068151 -0.001886 -0.004607   \n",
            "Potentiel_prenom_21  0.022000  0.004433 -0.026140  0.069655  0.000434   \n",
            "\n",
            "                           10        11        12        13        14  \n",
            "TypeHabi_01         -0.008057  0.014740 -0.002115  0.022143 -0.040186  \n",
            "TypeHabi_02          0.003072 -0.006427  0.001626 -0.005200  0.012117  \n",
            "TypeHabi_03         -0.000374  0.003824 -0.004174 -0.017803  0.016354  \n",
            "TypeHabi_04          0.068362  0.141164 -0.067125  0.043201  0.195480  \n",
            "GeoFaz_Scl_11        0.008348  0.007778  0.032363 -0.120792  0.169041  \n",
            "...                       ...       ...       ...       ...       ...  \n",
            "Potentiel_prenom_17  0.059360  0.267782  0.036580 -0.003386 -0.001768  \n",
            "Potentiel_prenom_18 -0.182277 -0.284490  0.208414 -0.022467  0.002250  \n",
            "Potentiel_prenom_19  0.047886  0.089580 -0.004307 -0.200417 -0.111400  \n",
            "Potentiel_prenom_20 -0.008451 -0.033284 -0.268414 -0.066831 -0.022244  \n",
            "Potentiel_prenom_21 -0.005231 -0.023723 -0.025339 -0.012165  0.005205  \n",
            "\n",
            "[269 rows x 15 columns]\n"
          ],
          "name": "stdout"
        }
      ]
    },
    {
      "cell_type": "code",
      "metadata": {
        "id": "TYbwi6XPom6o"
      },
      "source": [
        ""
      ],
      "execution_count": 71,
      "outputs": []
    },
    {
      "cell_type": "code",
      "metadata": {
        "id": "yk7314rJo8ss",
        "colab": {
          "base_uri": "https://localhost:8080/"
        },
        "outputId": "1807e485-4613-4094-edd0-c645fe63d77a"
      },
      "source": [
        "# affichafe des 10 premières lignes\n",
        "print(coord[:2,:])\n"
      ],
      "execution_count": 72,
      "outputs": [
        {
          "output_type": "stream",
          "text": [
            "[[ 0.86585844 -0.23562583 -1.54494638  0.36875233 -1.58848612  0.32111693\n",
            "   4.82360798  1.02242222 -0.58930332  0.19050679  0.36327062  0.4525547\n",
            "   0.13149429 -0.71902619 -0.59435988]\n",
            " [ 0.58631339  0.05973386 -0.12572079  0.1360449   0.59304448  0.46186966\n",
            "   0.06055677 -0.02802718  0.16498668 -0.35868261 -0.20906163  0.11183214\n",
            "   0.13039718  0.38831965 -0.05117458]]\n"
          ],
          "name": "stdout"
        }
      ]
    },
    {
      "cell_type": "code",
      "metadata": {
        "id": "XZXRt7tZSM2r",
        "colab": {
          "base_uri": "https://localhost:8080/"
        },
        "outputId": "632efd8a-4418-4f82-f12a-3ec1f8e9fbc0"
      },
      "source": [
        "#print(data_sans_nan.shape)\n",
        "#print(coord_sans_nan.shape)\n",
        "#print(data_sans_nan.iloc[:,0])\n",
        "#dfff.isnull().sum(axis=0)\n",
        "data.info()"
      ],
      "execution_count": 73,
      "outputs": [
        {
          "output_type": "stream",
          "text": [
            "<class 'pandas.core.frame.DataFrame'>\n",
            "RangeIndex: 1192180 entries, 0 to 1192179\n",
            "Data columns (total 16 columns):\n",
            " #   Column              Non-Null Count    Dtype \n",
            "---  ------              --------------    ----- \n",
            " 0   IDENT               1192180 non-null  object\n",
            " 1   TypeHabi            1192180 non-null  object\n",
            " 2   GeoFaz_Scl          1192180 non-null  object\n",
            " 3   Anciennete          1192180 non-null  object\n",
            " 4   Logement_prix_m2    1192180 non-null  object\n",
            " 5   Mediane_RFR         1192180 non-null  object\n",
            " 6   Sexe                1192180 non-null  object\n",
            " 7   Prenom_Phase_scl_H  1192180 non-null  object\n",
            " 8   Prenom_Phase_scl_F  1192180 non-null  object\n",
            " 9   Age_H               1192180 non-null  object\n",
            " 10  Age_F               1192180 non-null  object\n",
            " 11  Affinite_1          1192180 non-null  object\n",
            " 12  Affinite_2          1192180 non-null  object\n",
            " 13  Prenom_effectif     1192180 non-null  object\n",
            " 14  Potentiel_prenom    1192180 non-null  object\n",
            " 15  Top_mon             99296 non-null    object\n",
            "dtypes: object(16)\n",
            "memory usage: 145.5+ MB\n"
          ],
          "name": "stdout"
        }
      ]
    },
    {
      "cell_type": "code",
      "metadata": {
        "id": "NpZCCbB4VJmr",
        "colab": {
          "base_uri": "https://localhost:8080/"
        },
        "outputId": "1bf2d8ec-215a-4b07-b52b-c35b7f9a454e"
      },
      "source": [
        "## ATTENTION\n",
        "# élimination des individus n'ayant pas de valeur pour la variable Top_mon\n",
        "data_sans_nan = data[(data.isnull()).sum(axis=1) == 0]\n",
        "coord_sans_nan = coord[(data.isnull()).sum(axis=1) == 0] # coordonnées\n",
        "\n",
        "#conversion du type de variable\n",
        "for i in range(1,data_sans_nan.shape[1]):\n",
        "    data_sans_nan.iloc[:,i]=data_sans_nan.iloc[:,i].astype(int) # essayer avec int64\n",
        "\n",
        "# création\n",
        "def creation_df_temp(data_sans_nan, coord_sans_nan):\n",
        "    dfff = pd.DataFrame()\n",
        "    dfff[\"IDENT\"] = data_sans_nan.iloc[:,0]\n",
        "    for i in range(coord_sans_nan.shape[1] ): #avant 10\n",
        "        dfff[str(i)]=coord_sans_nan[:,i]\n",
        "    dfff[\"Top_mon\"] = data_sans_nan.iloc[:,data_sans_nan.shape[1]-1].astype(int)\n",
        "    return dfff\n",
        "# stockage\n",
        "data_coord_nan = creation_df_temp(data_sans_nan, coord_sans_nan)\n",
        "data_coord_nan.info()\n",
        "#data_coord_nan = dfff \n",
        "\n",
        "# maintien des individus  n'ayant pas de valeur pour la variable Top_mon\n",
        "\n",
        "data_avec_nan = data\n",
        "coord_avec_nan = coord # coordonnées\n",
        "def creation_df_temp_2(data_sans_nan, coord_sans_nan):\n",
        "    dfff = pd.DataFrame()\n",
        "    dfff[\"IDENT\"] = data_sans_nan.iloc[:,0]\n",
        "    for i in range(coord_sans_nan.shape[1]): # avant 10\n",
        "        dfff[str(i)]=coord_sans_nan[:,i]\n",
        "\n",
        "    dfff[\"Top_mon\"] = data_sans_nan.iloc[:,data_sans_nan.shape[1]-1] #.astype(int)\n",
        "\n",
        "    dfff[\"Top_mon\"] = dfff[\"Top_mon\"].replace(1.0, '1')\n",
        "    dfff[\"Top_mon\"] = dfff[\"Top_mon\"].replace(2.0,'2')\n",
        "    #for j in range(data_sans_nan.shape[1]):\n",
        "    #    if dfff.iloc[j,10+1] == 2.0:\n",
        "    #        dfff.iloc[j,10+1] = 2\n",
        "    #    if dfff.iloc[j, 10+1] ==1.0:\n",
        "    #        dfff.iloc[j,10+1] =1\n",
        "\n",
        "    return dfff\n",
        "data_coord_avec_nan = creation_df_temp_2(data_avec_nan, coord_avec_nan)\n",
        "data_coord_avec_nan.info()\n",
        "\n"
      ],
      "execution_count": 74,
      "outputs": [
        {
          "output_type": "stream",
          "text": [
            "/usr/local/lib/python3.7/dist-packages/pandas/core/indexing.py:1781: SettingWithCopyWarning: \n",
            "A value is trying to be set on a copy of a slice from a DataFrame.\n",
            "Try using .loc[row_indexer,col_indexer] = value instead\n",
            "\n",
            "See the caveats in the documentation: https://pandas.pydata.org/pandas-docs/stable/user_guide/indexing.html#returning-a-view-versus-a-copy\n",
            "  self.obj[item_labels[indexer[info_axis]]] = value\n",
            "/usr/local/lib/python3.7/dist-packages/pandas/core/indexing.py:1743: SettingWithCopyWarning: \n",
            "A value is trying to be set on a copy of a slice from a DataFrame.\n",
            "Try using .loc[row_indexer,col_indexer] = value instead\n",
            "\n",
            "See the caveats in the documentation: https://pandas.pydata.org/pandas-docs/stable/user_guide/indexing.html#returning-a-view-versus-a-copy\n",
            "  isetter(ilocs[0], value)\n"
          ],
          "name": "stderr"
        },
        {
          "output_type": "stream",
          "text": [
            "<class 'pandas.core.frame.DataFrame'>\n",
            "Int64Index: 99296 entries, 0 to 99295\n",
            "Data columns (total 17 columns):\n",
            " #   Column   Non-Null Count  Dtype  \n",
            "---  ------   --------------  -----  \n",
            " 0   IDENT    99296 non-null  object \n",
            " 1   0        99296 non-null  float64\n",
            " 2   1        99296 non-null  float64\n",
            " 3   2        99296 non-null  float64\n",
            " 4   3        99296 non-null  float64\n",
            " 5   4        99296 non-null  float64\n",
            " 6   5        99296 non-null  float64\n",
            " 7   6        99296 non-null  float64\n",
            " 8   7        99296 non-null  float64\n",
            " 9   8        99296 non-null  float64\n",
            " 10  9        99296 non-null  float64\n",
            " 11  10       99296 non-null  float64\n",
            " 12  11       99296 non-null  float64\n",
            " 13  12       99296 non-null  float64\n",
            " 14  13       99296 non-null  float64\n",
            " 15  14       99296 non-null  float64\n",
            " 16  Top_mon  99296 non-null  int64  \n",
            "dtypes: float64(15), int64(1), object(1)\n",
            "memory usage: 13.6+ MB\n",
            "<class 'pandas.core.frame.DataFrame'>\n",
            "RangeIndex: 1192180 entries, 0 to 1192179\n",
            "Data columns (total 17 columns):\n",
            " #   Column   Non-Null Count    Dtype  \n",
            "---  ------   --------------    -----  \n",
            " 0   IDENT    1192180 non-null  object \n",
            " 1   0        1192180 non-null  float64\n",
            " 2   1        1192180 non-null  float64\n",
            " 3   2        1192180 non-null  float64\n",
            " 4   3        1192180 non-null  float64\n",
            " 5   4        1192180 non-null  float64\n",
            " 6   5        1192180 non-null  float64\n",
            " 7   6        1192180 non-null  float64\n",
            " 8   7        1192180 non-null  float64\n",
            " 9   8        1192180 non-null  float64\n",
            " 10  9        1192180 non-null  float64\n",
            " 11  10       1192180 non-null  float64\n",
            " 12  11       1192180 non-null  float64\n",
            " 13  12       1192180 non-null  float64\n",
            " 14  13       1192180 non-null  float64\n",
            " 15  14       1192180 non-null  float64\n",
            " 16  Top_mon  99296 non-null    object \n",
            "dtypes: float64(15), object(2)\n",
            "memory usage: 154.6+ MB\n"
          ],
          "name": "stdout"
        }
      ]
    },
    {
      "cell_type": "code",
      "metadata": {
        "id": "LJ4G93RJxEdo"
      },
      "source": [
        ""
      ],
      "execution_count": 74,
      "outputs": []
    },
    {
      "cell_type": "code",
      "metadata": {
        "id": "CuvxB6-qYNzJ"
      },
      "source": [
        "from sklearn.discriminant_analysis import LinearDiscriminantAnalysis, QuadraticDiscriminantAnalysis\n",
        "\n",
        "from sklearn.metrics import f1_score, confusion_matrix, classification_report\n",
        "from sklearn.model_selection import train_test_split, learning_curve, GridSearchCV\n",
        "\n",
        "import imblearn\n",
        "from imblearn.combine import SMOTETomek\n",
        "from imblearn.under_sampling import TomekLinks\n",
        "from imblearn.over_sampling import SMOTE\n"
      ],
      "execution_count": 75,
      "outputs": []
    },
    {
      "cell_type": "code",
      "metadata": {
        "id": "7ksFu0t_cirJ"
      },
      "source": [
        "#data_coord_nan.shape\n",
        "#train_X_s.shape"
      ],
      "execution_count": 76,
      "outputs": []
    },
    {
      "cell_type": "code",
      "metadata": {
        "id": "S0jwerFqbXh-"
      },
      "source": [
        "#data_non_corr = elimination_val_corr(data)\n",
        "#nb_var = data_non_corr.shape[1] - 1\n",
        "nb_var = data_coord_nan.shape[1] - 1\n",
        "\n",
        "train_set, test_set = train_test_split(data_coord_nan, test_size = 0.2, random_state=0) # , stratify =data_coord_nan[\"IFI+\"] )\n",
        "\n",
        "train_X_s = (train_set.iloc[:,1:nb_var]).to_numpy()\n",
        "train_Y_s = np.asanyarray(train_set.iloc[:,nb_var])\n",
        "\n",
        "test_X_s = (test_set.iloc[:,1:nb_var]).to_numpy()\n",
        "test_Y_s = np.asanyarray(test_set.iloc[:,nb_var])\n",
        "\n",
        "# comme les résulats sont en overfitting :\n",
        "# Résultat du traitement sur le train set (under-sampling et over-sampling)\n",
        "#abc_test = pd.read_csv(\"/content/drive/MyDrive/spad_score_method_1/spad_projection_FDFTOT21/sans_val_corr_spad_under_over_sampling.txt\", delim_whitespace=\"\\t\", header = None, low_memory=False, dtype=\"Int64\" ) #, dtype='Int64')\n",
        "#abc_np = abc_test.to_numpy(dtype=\"Int64\")\n",
        "\n",
        "#X_resampled = abc_np[:,:-1]\n",
        "#y_resampled = abc_np[:, abc_np.shape[1] -1 ]\n"
      ],
      "execution_count": 77,
      "outputs": []
    },
    {
      "cell_type": "code",
      "metadata": {
        "colab": {
          "base_uri": "https://localhost:8080/",
          "height": 211
        },
        "id": "iMyvFOxwXgcu",
        "outputId": "4a441295-2250-479e-f35a-1ea403961ea6"
      },
      "source": [
        "\n",
        "# dimension du train set\n",
        "print(\"Sans aucun traitement sur le train set : \" , np.unique(train_Y_s, return_counts=True))\n",
        "\n",
        "# diminution des données\n",
        "t2 = TomekLinks()\n",
        "X_resampled, y_resampled = t2.fit_resample(train_X_s[:,:nb_var] , train_Y_s )\n",
        "print(\"Après under-sampling : \", np.unique(y_resampled, return_counts=True ))\n",
        "\n",
        "# augmentation des données\n",
        "tl = SMOTE()\n",
        "X_resampled, y_resampled = tl.fit_resample(X_resampled, y_resampled )\n",
        "print(\"Après over-smapling : \" , np.unique(y_resampled, return_counts=True ))\n",
        "\n",
        "'''\n",
        "# enregistrement du nouveau train set car le traitement du under-sampling prendre du temps \n",
        "pd.DataFrame(np.concatenate((X_resampled, y_resampled.reshape((y_resampled.shape[0],1)) ),\n",
        "                            axis=1)).to_csv(\"/content/drive/MyDrive/spad_score_method_1/spad_projection_FDFTOT21/val_all_spad_under_over_sampling.txt\",\n",
        "                                            sep=\" \", index =False , header = False )\n",
        "'''"
      ],
      "execution_count": 78,
      "outputs": [
        {
          "output_type": "stream",
          "text": [
            "Sans aucun traitement sur le train set :  (array([1, 2]), array([21397, 58039]))\n"
          ],
          "name": "stdout"
        },
        {
          "output_type": "stream",
          "text": [
            "/usr/local/lib/python3.7/dist-packages/sklearn/utils/deprecation.py:87: FutureWarning: Function safe_indexing is deprecated; safe_indexing is deprecated in version 0.22 and will be removed in version 0.24.\n",
            "  warnings.warn(msg, category=FutureWarning)\n",
            "/usr/local/lib/python3.7/dist-packages/sklearn/utils/deprecation.py:87: FutureWarning: Function safe_indexing is deprecated; safe_indexing is deprecated in version 0.22 and will be removed in version 0.24.\n",
            "  warnings.warn(msg, category=FutureWarning)\n"
          ],
          "name": "stderr"
        },
        {
          "output_type": "stream",
          "text": [
            "Après under-sampling :  (array([1, 2]), array([21397, 50605]))\n",
            "Après over-smapling :  (array([1, 2]), array([50605, 50605]))\n"
          ],
          "name": "stdout"
        },
        {
          "output_type": "execute_result",
          "data": {
            "application/vnd.google.colaboratory.intrinsic+json": {
              "type": "string"
            },
            "text/plain": [
              "'\\n# enregistrement du nouveau train set car le traitement du under-sampling prendre du temps \\npd.DataFrame(np.concatenate((X_resampled, y_resampled.reshape((y_resampled.shape[0],1)) ),\\n                            axis=1)).to_csv(\"/content/drive/MyDrive/spad_score_method_1/spad_projection_FDFTOT21/val_all_spad_under_over_sampling.txt\",\\n                                            sep=\" \", index =False , header = False )\\n'"
            ]
          },
          "metadata": {
            "tags": []
          },
          "execution_count": 78
        }
      ]
    },
    {
      "cell_type": "code",
      "metadata": {
        "colab": {
          "base_uri": "https://localhost:8080/"
        },
        "id": "tLasso34-MXx",
        "outputId": "04e4400c-107d-48b2-e060-c902221bd44b"
      },
      "source": [
        "model_LinearDiscriminantAnalysis = LinearDiscriminantAnalysis()\n",
        "param = {\"solver\" : [\"svd\",\"lsqr\", \"eigen\"], \"tol\" : [0.00001,0.0001,0.001,0.01]}\n",
        "\n",
        "grid_LinearDiscriminantAnalysis = GridSearchCV(model_LinearDiscriminantAnalysis, param_grid= param, cv = 4, scoring = \"f1\")\n",
        "resultat_grid_LinearDiscriminantAnalysis = grid_LinearDiscriminantAnalysis.fit(X_resampled, y_resampled)\n",
        "resultat_grid_LinearDiscriminantAnalysis.best_params_ "
      ],
      "execution_count": 79,
      "outputs": [
        {
          "output_type": "execute_result",
          "data": {
            "text/plain": [
              "{'solver': 'svd', 'tol': 1e-05}"
            ]
          },
          "metadata": {
            "tags": []
          },
          "execution_count": 79
        }
      ]
    },
    {
      "cell_type": "code",
      "metadata": {
        "colab": {
          "base_uri": "https://localhost:8080/",
          "height": 790
        },
        "id": "mtwy_DkreMi8",
        "outputId": "c2c5028c-f086-46b2-c82b-1f5b2d4583bf"
      },
      "source": [
        "final_model_ADL = LinearDiscriminantAnalysis()  # la valeur par defaut de la tolérence donne le même résultat que tol=1e-5\n",
        "evaluation(final_model_ADL, X_resampled, y_resampled, test_X_s, test_Y_s, scoring = \"recall\", plot=True)"
      ],
      "execution_count": 80,
      "outputs": [
        {
          "output_type": "stream",
          "text": [
            "test set : \n",
            "[[3172 2159]\n",
            " [5994 8535]]\n",
            "              precision    recall  f1-score   support\n",
            "\n",
            "           1       0.35      0.60      0.44      5331\n",
            "           2       0.80      0.59      0.68     14529\n",
            "\n",
            "    accuracy                           0.59     19860\n",
            "   macro avg       0.57      0.59      0.56     19860\n",
            "weighted avg       0.68      0.59      0.61     19860\n",
            "\n",
            "train set : \n",
            "[[29221 21384]\n",
            " [19820 30785]]\n",
            "              precision    recall  f1-score   support\n",
            "\n",
            "           1       0.60      0.58      0.59     50605\n",
            "           2       0.59      0.61      0.60     50605\n",
            "\n",
            "    accuracy                           0.59    101210\n",
            "   macro avg       0.59      0.59      0.59    101210\n",
            "weighted avg       0.59      0.59      0.59    101210\n",
            "\n"
          ],
          "name": "stdout"
        },
        {
          "output_type": "display_data",
          "data": {
            "image/png": "[encoded data removed]",
            "text/plain": [
              "<Figure size 720x432 with 1 Axes>"
            ]
          },
          "metadata": {
            "tags": [],
            "needs_background": "light"
          }
        }
      ]
    },
    {
      "cell_type": "code",
      "metadata": {
        "id": "YOVl16Po611_"
      },
      "source": [
        ""
      ],
      "execution_count": 80,
      "outputs": []
    },
    {
      "cell_type": "code",
      "metadata": {
        "colab": {
          "base_uri": "https://localhost:8080/"
        },
        "id": "aiN9NNXgjtkO",
        "outputId": "8a1924ee-2104-4973-c433-3647dc76a02d"
      },
      "source": [
        "#classe pour l'analyse discriminante\n",
        "\n",
        "#instanciation\n",
        "adl = LinearDiscriminantAnalysis()\n",
        "#apprentissage\n",
        "adl.fit(coord_sans_nan,data_sans_nan[\"Top_mon\"])"
      ],
      "execution_count": 81,
      "outputs": [
        {
          "output_type": "execute_result",
          "data": {
            "text/plain": [
              "LinearDiscriminantAnalysis(n_components=None, priors=None, shrinkage=None,\n",
              "                           solver='svd', store_covariance=False, tol=0.0001)"
            ]
          },
          "metadata": {
            "tags": []
          },
          "execution_count": 81
        }
      ]
    },
    {
      "cell_type": "code",
      "metadata": {
        "id": "ixzqkiWMxz_6",
        "colab": {
          "base_uri": "https://localhost:8080/",
          "height": 423
        },
        "outputId": "97edc080-d5ca-4fc4-a3c7-4d467ee2b210"
      },
      "source": [
        "#reconstitution de la fonction sur indicatrices (multiplication)\n",
        "fpValues = np.dot(fproj,np.transpose(adl.coef_))\n",
        "#print(fpValues)\n",
        "#affichage plus joli\n",
        "pd.DataFrame(fpValues,index=acm.col_labels_)"
      ],
      "execution_count": 82,
      "outputs": [
        {
          "output_type": "execute_result",
          "data": {
            "text/html": [
              "<div>\n",
              "<style scoped>\n",
              "    .dataframe tbody tr th:only-of-type {\n",
              "        vertical-align: middle;\n",
              "    }\n",
              "\n",
              "    .dataframe tbody tr th {\n",
              "        vertical-align: top;\n",
              "    }\n",
              "\n",
              "    .dataframe thead th {\n",
              "        text-align: right;\n",
              "    }\n",
              "</style>\n",
              "<table border=\"1\" class=\"dataframe\">\n",
              "  <thead>\n",
              "    <tr style=\"text-align: right;\">\n",
              "      <th></th>\n",
              "      <th>0</th>\n",
              "    </tr>\n",
              "  </thead>\n",
              "  <tbody>\n",
              "    <tr>\n",
              "      <th>TypeHabi_01</th>\n",
              "      <td>-0.120990</td>\n",
              "    </tr>\n",
              "    <tr>\n",
              "      <th>TypeHabi_02</th>\n",
              "      <td>0.052431</td>\n",
              "    </tr>\n",
              "    <tr>\n",
              "      <th>TypeHabi_03</th>\n",
              "      <td>-0.033406</td>\n",
              "    </tr>\n",
              "    <tr>\n",
              "      <th>TypeHabi_04</th>\n",
              "      <td>-0.364314</td>\n",
              "    </tr>\n",
              "    <tr>\n",
              "      <th>GeoFaz_Scl_11</th>\n",
              "      <td>-0.037456</td>\n",
              "    </tr>\n",
              "    <tr>\n",
              "      <th>...</th>\n",
              "      <td>...</td>\n",
              "    </tr>\n",
              "    <tr>\n",
              "      <th>Potentiel_prenom_17</th>\n",
              "      <td>-0.041190</td>\n",
              "    </tr>\n",
              "    <tr>\n",
              "      <th>Potentiel_prenom_18</th>\n",
              "      <td>-0.067725</td>\n",
              "    </tr>\n",
              "    <tr>\n",
              "      <th>Potentiel_prenom_19</th>\n",
              "      <td>-0.095912</td>\n",
              "    </tr>\n",
              "    <tr>\n",
              "      <th>Potentiel_prenom_20</th>\n",
              "      <td>-0.112074</td>\n",
              "    </tr>\n",
              "    <tr>\n",
              "      <th>Potentiel_prenom_21</th>\n",
              "      <td>-0.078719</td>\n",
              "    </tr>\n",
              "  </tbody>\n",
              "</table>\n",
              "<p>269 rows × 1 columns</p>\n",
              "</div>"
            ],
            "text/plain": [
              "                            0\n",
              "TypeHabi_01         -0.120990\n",
              "TypeHabi_02          0.052431\n",
              "TypeHabi_03         -0.033406\n",
              "TypeHabi_04         -0.364314\n",
              "GeoFaz_Scl_11       -0.037456\n",
              "...                       ...\n",
              "Potentiel_prenom_17 -0.041190\n",
              "Potentiel_prenom_18 -0.067725\n",
              "Potentiel_prenom_19 -0.095912\n",
              "Potentiel_prenom_20 -0.112074\n",
              "Potentiel_prenom_21 -0.078719\n",
              "\n",
              "[269 rows x 1 columns]"
            ]
          },
          "metadata": {
            "tags": []
          },
          "execution_count": 82
        }
      ]
    },
    {
      "cell_type": "code",
      "metadata": {
        "id": "Hrn05BAzx0CO",
        "colab": {
          "base_uri": "https://localhost:8080/"
        },
        "outputId": "eb283c14-e130-4b6e-a987-e2d6d318b903"
      },
      "source": [
        "#data_coord_nan\n",
        "# TRAIN SET TEST SET\n",
        "vingtiles(model = final_model_ADL, data_orig = data_coord_nan, affichage=True,\n",
        "            save=True, path = \"/content/drive/MyDrive/spad_score_method_1/spad_projection_FDFTOT21/Fichier_excel_vingtiles/train_test_ACM_ADL_15.xlsx\")"
      ],
      "execution_count": 83,
      "outputs": [
        {
          "output_type": "stream",
          "text": [
            "                    IDENT     PROBA\n",
            "25518  000255190010343102  0.219254\n",
            "83925  000839260010505522  0.219569\n",
            "22808  000228090010339331  0.220280\n",
            "87010  000870110010521170  0.222097\n",
            "33930  000339310010358373  0.222666\n",
            "...                   ...       ...\n",
            "30193  000301940010350422  0.838576\n",
            "2071   000020720010027021  0.838576\n",
            "52881  000528820010378680  0.839833\n",
            "14987  000149880010262185  0.839833\n",
            "87863  000878640010522857  0.842483\n",
            "\n",
            "[99296 rows x 2 columns]\n",
            "0.804073    49\n",
            "0.778021    28\n",
            "0.623429    24\n",
            "0.797643    19\n",
            "0.705472    19\n",
            "            ..\n",
            "0.500953     1\n",
            "0.467163     1\n",
            "0.598653     1\n",
            "0.477123     1\n",
            "0.437110     1\n",
            "Name: PROBA, Length: 96552, dtype: int64\n",
            "                PROBA\n",
            "25518  (0.218, 0.311]\n",
            "83925  (0.218, 0.311]\n",
            "22808  (0.218, 0.311]\n",
            "87010  (0.218, 0.311]\n",
            "33930  (0.218, 0.311]\n",
            "...               ...\n",
            "30193  (0.686, 0.842]\n",
            "2071   (0.686, 0.842]\n",
            "52881  (0.686, 0.842]\n",
            "14987  (0.686, 0.842]\n",
            "87863  (0.686, 0.842]\n",
            "\n",
            "[99296 rows x 1 columns]\n",
            "Top_mon            1     2  TOTAL\n",
            "TRANCHES                         \n",
            "(0.218, 0.311]   748  4217   4965\n",
            "(0.311, 0.343]   794  4171   4965\n",
            "(0.343, 0.368]   897  4068   4965\n",
            "(0.368, 0.389]   936  4029   4965\n",
            "(0.389, 0.408]   970  3994   4964\n",
            "(0.408, 0.425]  1055  3910   4965\n",
            "(0.425, 0.442]  1095  3870   4965\n",
            "(0.442, 0.458]  1098  3867   4965\n",
            "(0.458, 0.472]  1159  3805   4964\n",
            "(0.472, 0.487]  1189  3776   4965\n",
            "(0.487, 0.502]  1295  3670   4965\n",
            "(0.502, 0.516]  1292  3673   4965\n",
            "(0.516, 0.531]  1423  3541   4964\n",
            "(0.531, 0.548]  1431  3534   4965\n",
            "(0.548, 0.566]  1505  3460   4965\n",
            "(0.566, 0.586]  1595  3370   4965\n",
            "(0.586, 0.61]   1721  3243   4964\n",
            "(0.61, 0.64]    1800  3165   4965\n",
            "(0.64, 0.686]   2111  2854   4965\n",
            "(0.686, 0.842]  2614  2351   4965\n"
          ],
          "name": "stdout"
        }
      ]
    },
    {
      "cell_type": "code",
      "metadata": {
        "id": "bzRRySpGoafi",
        "colab": {
          "base_uri": "https://localhost:8080/"
        },
        "outputId": "fb4e5151-63bf-4302-a90b-fd9bc4ae3d30"
      },
      "source": [
        "# INDIVIDUS SANS TARGET\n",
        "vingtiles_ind_sans_target(model = final_model_ADL, data_orig= data_coord_avec_nan[(data_coord_avec_nan.isnull()).sum(axis=1) != 0], affichage=True,\n",
        "            save=True, path = \"/content/drive/MyDrive/spad_score_method_1/spad_projection_FDFTOT21/Fichier_excel_vingtiles/ind_sans_target_ACM_ADL_15.xlsx\")"
      ],
      "execution_count": 84,
      "outputs": [
        {
          "output_type": "stream",
          "text": [
            "                      IDENT     PROBA\n",
            "584426   004851310220026664  0.215555\n",
            "309287   002099920120007261  0.216080\n",
            "504732   004054370190020996  0.216114\n",
            "427186   003278910140000070  0.216124\n",
            "631816   005325210250004600  0.216124\n",
            "...                     ...       ...\n",
            "1091220  009919250370008388  0.841243\n",
            "352009   002527140120049983  0.841243\n",
            "1093864  009945690370011032  0.841243\n",
            "1094472  009951770370011640  0.842483\n",
            "895764   007964690340001932  0.843961\n",
            "\n",
            "[1092884 rows x 2 columns]\n",
            "0.705472    303\n",
            "0.797643    229\n",
            "0.782962    223\n",
            "0.778021    222\n",
            "0.780706    214\n",
            "           ... \n",
            "0.445012      1\n",
            "0.663201      1\n",
            "0.396855      1\n",
            "0.504211      1\n",
            "0.454321      1\n",
            "Name: PROBA, Length: 838236, dtype: int64\n",
            "                  PROBA\n",
            "584426   (0.215, 0.304]\n",
            "309287   (0.215, 0.304]\n",
            "504732   (0.215, 0.304]\n",
            "427186   (0.215, 0.304]\n",
            "631816   (0.215, 0.304]\n",
            "...                 ...\n",
            "1091220  (0.695, 0.844]\n",
            "352009   (0.695, 0.844]\n",
            "1093864  (0.695, 0.844]\n",
            "1094472  (0.695, 0.844]\n",
            "895764   (0.695, 0.844]\n",
            "\n",
            "[1092884 rows x 1 columns]\n",
            "                      IDENT     PROBA        TRANCHES\n",
            "584426   004851310220026664  0.215555  (0.215, 0.304]\n",
            "309287   002099920120007261  0.216080  (0.215, 0.304]\n",
            "504732   004054370190020996  0.216114  (0.215, 0.304]\n",
            "427186   003278910140000070  0.216124  (0.215, 0.304]\n",
            "631816   005325210250004600  0.216124  (0.215, 0.304]\n",
            "...                     ...       ...             ...\n",
            "1091220  009919250370008388  0.841243  (0.695, 0.844]\n",
            "352009   002527140120049983  0.841243  (0.695, 0.844]\n",
            "1093864  009945690370011032  0.841243  (0.695, 0.844]\n",
            "1094472  009951770370011640  0.842483  (0.695, 0.844]\n",
            "895764   007964690340001932  0.843961  (0.695, 0.844]\n",
            "\n",
            "[1092884 rows x 3 columns]\n",
            "(0.649, 0.695]    54642\n",
            "(0.485, 0.501]    54642\n",
            "(0.359, 0.38]     54643\n",
            "(0.517, 0.534]    54643\n",
            "(0.453, 0.469]    54644\n",
            "(0.593, 0.618]    54644\n",
            "(0.572, 0.593]    54644\n",
            "(0.399, 0.417]    54644\n",
            "(0.38, 0.399]     54644\n",
            "(0.552, 0.572]    54644\n",
            "(0.304, 0.335]    54644\n",
            "(0.335, 0.359]    54645\n",
            "(0.695, 0.844]    54645\n",
            "(0.436, 0.453]    54645\n",
            "(0.469, 0.485]    54645\n",
            "(0.501, 0.517]    54645\n",
            "(0.534, 0.552]    54645\n",
            "(0.215, 0.304]    54645\n",
            "(0.417, 0.436]    54645\n",
            "(0.618, 0.649]    54646\n",
            "Name: TRANCHES, dtype: int64\n",
            "          TRANCHES COUNTS\n",
            "0   (0.215, 0.304]  54645\n",
            "1   (0.304, 0.335]  54644\n",
            "2   (0.335, 0.359]  54645\n",
            "3    (0.359, 0.38]  54643\n",
            "4    (0.38, 0.399]  54644\n",
            "5   (0.399, 0.417]  54644\n",
            "6   (0.417, 0.436]  54645\n",
            "7   (0.436, 0.453]  54645\n",
            "8   (0.453, 0.469]  54644\n",
            "9   (0.469, 0.485]  54645\n",
            "10  (0.485, 0.501]  54642\n",
            "11  (0.501, 0.517]  54645\n",
            "12  (0.517, 0.534]  54643\n",
            "13  (0.534, 0.552]  54645\n",
            "14  (0.552, 0.572]  54644\n",
            "15  (0.572, 0.593]  54644\n",
            "16  (0.593, 0.618]  54644\n",
            "17  (0.618, 0.649]  54646\n",
            "18  (0.649, 0.695]  54642\n",
            "19  (0.695, 0.844]  54645\n"
          ],
          "name": "stdout"
        }
      ]
    },
    {
      "cell_type": "code",
      "metadata": {
        "id": "Tgxw6vZHoah_"
      },
      "source": [
        ""
      ],
      "execution_count": 84,
      "outputs": []
    },
    {
      "cell_type": "code",
      "metadata": {
        "id": "jaVuYmyQoakO"
      },
      "source": [
        ""
      ],
      "execution_count": 84,
      "outputs": []
    },
    {
      "cell_type": "code",
      "metadata": {
        "id": "td8tREtarT8x",
        "colab": {
          "base_uri": "https://localhost:8080/"
        },
        "outputId": "68dc41cc-2747-43da-ab06-5cc021004531"
      },
      "source": [
        "model_ADQ = QuadraticDiscriminantAnalysis()\n",
        "evaluation(model_ADQ, X_resampled, y_resampled, test_X_s, test_Y_s, scoring = \"f1\", plot=False)\n"
      ],
      "execution_count": 85,
      "outputs": [
        {
          "output_type": "stream",
          "text": [
            "test set : \n",
            "[[ 1805  3526]\n",
            " [ 2964 11565]]\n",
            "              precision    recall  f1-score   support\n",
            "\n",
            "           1       0.38      0.34      0.36      5331\n",
            "           2       0.77      0.80      0.78     14529\n",
            "\n",
            "    accuracy                           0.67     19860\n",
            "   macro avg       0.57      0.57      0.57     19860\n",
            "weighted avg       0.66      0.67      0.67     19860\n",
            "\n",
            "train set : \n",
            "[[16755 33850]\n",
            " [ 9629 40976]]\n",
            "              precision    recall  f1-score   support\n",
            "\n",
            "           1       0.64      0.33      0.44     50605\n",
            "           2       0.55      0.81      0.65     50605\n",
            "\n",
            "    accuracy                           0.57    101210\n",
            "   macro avg       0.59      0.57      0.54    101210\n",
            "weighted avg       0.59      0.57      0.54    101210\n",
            "\n",
            "GRAPHIQUE NON DEMANDE\n"
          ],
          "name": "stdout"
        }
      ]
    },
    {
      "cell_type": "code",
      "metadata": {
        "id": "ncpYOwNVqtX6",
        "colab": {
          "base_uri": "https://localhost:8080/"
        },
        "outputId": "1ef35297-97e8-43e4-e8de-a74f32682dc6"
      },
      "source": [
        "#data_coord_nan\n",
        "# TRAIN SET TEST SET\n",
        "vingtiles(model =model_ADQ, data_orig = data_coord_nan, affichage=True,\n",
        "            save=True, path = \"/content/drive/MyDrive/spad_score_method_1/spad_projection_FDFTOT21/Fichier_excel_vingtiles/train_test_ACM_ADQ_15.xlsx\")"
      ],
      "execution_count": 86,
      "outputs": [
        {
          "output_type": "stream",
          "text": [
            "                    IDENT     PROBA\n",
            "29349  000293500010349327  0.003076\n",
            "71553  000715540010405567  0.003334\n",
            "15120  000151210010262361  0.005284\n",
            "31093  000310940010351666  0.005618\n",
            "50732  000507330010376221  0.005728\n",
            "...                   ...       ...\n",
            "20249  000202500010334666  1.000000\n",
            "20105  000201060010333603  1.000000\n",
            "20059  000200600010331542  1.000000\n",
            "52981  000529820010378797  1.000000\n",
            "0      000000010010000001  1.000000\n",
            "\n",
            "[99296 rows x 2 columns]\n",
            "1.000000    179\n",
            "1.000000     49\n",
            "0.999997     28\n",
            "0.970728     24\n",
            "0.999998     19\n",
            "           ... \n",
            "0.183630      1\n",
            "0.865040      1\n",
            "0.459323      1\n",
            "0.598467      1\n",
            "0.042233      1\n",
            "Name: PROBA, Length: 96393, dtype: int64\n",
            "                   PROBA\n",
            "29349  (0.00208, 0.0496]\n",
            "71553  (0.00208, 0.0496]\n",
            "15120  (0.00208, 0.0496]\n",
            "31093  (0.00208, 0.0496]\n",
            "50732  (0.00208, 0.0496]\n",
            "...                  ...\n",
            "20249       (0.987, 1.0]\n",
            "20105       (0.987, 1.0]\n",
            "20059       (0.987, 1.0]\n",
            "52981       (0.987, 1.0]\n",
            "0           (0.987, 1.0]\n",
            "\n",
            "[99296 rows x 1 columns]\n",
            "Top_mon               1     2  TOTAL\n",
            "TRANCHES                            \n",
            "(0.00208, 0.0496]   843  4122   4965\n",
            "(0.0496, 0.0655]    918  4047   4965\n",
            "(0.0655, 0.0914]    908  4057   4965\n",
            "(0.0914, 0.119]     948  4017   4965\n",
            "(0.119, 0.142]      981  3983   4964\n",
            "(0.142, 0.161]     1092  3873   4965\n",
            "(0.161, 0.179]     1080  3885   4965\n",
            "(0.179, 0.198]     1157  3808   4965\n",
            "(0.198, 0.219]     1134  3830   4964\n",
            "(0.219, 0.243]     1222  3743   4965\n",
            "(0.243, 0.275]     1278  3687   4965\n",
            "(0.275, 0.311]     1342  3623   4965\n",
            "(0.311, 0.353]     1427  3538   4965\n",
            "(0.353, 0.403]     1426  3538   4964\n",
            "(0.403, 0.471]     1591  3374   4965\n",
            "(0.471, 0.582]     1576  3389   4965\n",
            "(0.582, 0.698]     1692  3272   4964\n",
            "(0.698, 0.816]     1826  3139   4965\n",
            "(0.816, 0.987]     2110  2856   4966\n",
            "(0.987, 1.0]       2177  2787   4964\n"
          ],
          "name": "stdout"
        }
      ]
    },
    {
      "cell_type": "code",
      "metadata": {
        "id": "m_GYkyDqqtaA",
        "colab": {
          "base_uri": "https://localhost:8080/"
        },
        "outputId": "34451815-9329-41ad-e6d6-b0f7ce4f94d9"
      },
      "source": [
        "# INDIVIDUS SANS TARGET\n",
        "vingtiles_ind_sans_target(model = model_ADQ, data_orig= data_coord_avec_nan[(data_coord_avec_nan.isnull()).sum(axis=1) != 0], affichage=True,\n",
        "            save=True, path = \"/content/drive/MyDrive/spad_score_method_1/spad_projection_FDFTOT21/Fichier_excel_vingtiles/ind_sans_target_ACM_ADQ_15.xlsx\")"
      ],
      "execution_count": 87,
      "outputs": [
        {
          "output_type": "stream",
          "text": [
            "                      IDENT     PROBA\n",
            "630614   005313190250003398  0.001621\n",
            "1093572  009942770370010740  0.001808\n",
            "258563   001592680080002554  0.001834\n",
            "537849   004385540200004109  0.002105\n",
            "538266   004389710200004526  0.002157\n",
            "...                     ...       ...\n",
            "1093493  009941980370010661  1.000000\n",
            "229276   001299810050069971  1.000000\n",
            "1100963  010016680370018131  1.000000\n",
            "402090   003027950130050074  1.000000\n",
            "414531   003152360130062515  1.000000\n",
            "\n",
            "[1092884 rows x 2 columns]\n",
            "1.000000    3047\n",
            "0.993407     303\n",
            "0.999998     229\n",
            "0.998860     223\n",
            "0.999997     222\n",
            "            ... \n",
            "0.061365       1\n",
            "0.273856       1\n",
            "0.728278       1\n",
            "0.517373       1\n",
            "0.474190       1\n",
            "Name: PROBA, Length: 836894, dtype: int64\n",
            "                                   PROBA\n",
            "630614   (0.0006199999999999999, 0.0481]\n",
            "1093572  (0.0006199999999999999, 0.0481]\n",
            "258563   (0.0006199999999999999, 0.0481]\n",
            "537849   (0.0006199999999999999, 0.0481]\n",
            "538266   (0.0006199999999999999, 0.0481]\n",
            "...                                  ...\n",
            "1093493                     (0.988, 1.0]\n",
            "229276                      (0.988, 1.0]\n",
            "1100963                     (0.988, 1.0]\n",
            "402090                      (0.988, 1.0]\n",
            "414531                      (0.988, 1.0]\n",
            "\n",
            "[1092884 rows x 1 columns]\n",
            "                      IDENT     PROBA                         TRANCHES\n",
            "630614   005313190250003398  0.001621  (0.0006199999999999999, 0.0481]\n",
            "1093572  009942770370010740  0.001808  (0.0006199999999999999, 0.0481]\n",
            "258563   001592680080002554  0.001834  (0.0006199999999999999, 0.0481]\n",
            "537849   004385540200004109  0.002105  (0.0006199999999999999, 0.0481]\n",
            "538266   004389710200004526  0.002157  (0.0006199999999999999, 0.0481]\n",
            "...                     ...       ...                              ...\n",
            "1093493  009941980370010661  1.000000                     (0.988, 1.0]\n",
            "229276   001299810050069971  1.000000                     (0.988, 1.0]\n",
            "1100963  010016680370018131  1.000000                     (0.988, 1.0]\n",
            "402090   003027950130050074  1.000000                     (0.988, 1.0]\n",
            "414531   003152360130062515  1.000000                     (0.988, 1.0]\n",
            "\n",
            "[1092884 rows x 3 columns]\n",
            "(0.988, 1.0]                       54602\n",
            "(0.695, 0.823]                     54641\n",
            "(0.234, 0.265]                     54643\n",
            "(0.302, 0.344]                     54643\n",
            "(0.109, 0.133]                     54643\n",
            "(0.461, 0.572]                     54644\n",
            "(0.0624, 0.0838]                   54644\n",
            "(0.171, 0.189]                     54644\n",
            "(0.395, 0.461]                     54644\n",
            "(0.0481, 0.0624]                   54644\n",
            "(0.189, 0.21]                      54644\n",
            "(0.133, 0.153]                     54644\n",
            "(0.0838, 0.109]                    54645\n",
            "(0.344, 0.395]                     54645\n",
            "(0.153, 0.171]                     54645\n",
            "(0.21, 0.234]                      54645\n",
            "(0.265, 0.302]                     54645\n",
            "(0.0006199999999999999, 0.0481]    54645\n",
            "(0.572, 0.695]                     54648\n",
            "(0.823, 0.988]                     54686\n",
            "Name: TRANCHES, dtype: int64\n",
            "                           TRANCHES COUNTS\n",
            "0   (0.0006199999999999999, 0.0481]  54645\n",
            "1                  (0.0481, 0.0624]  54644\n",
            "2                  (0.0624, 0.0838]  54644\n",
            "3                   (0.0838, 0.109]  54645\n",
            "4                    (0.109, 0.133]  54643\n",
            "5                    (0.133, 0.153]  54644\n",
            "6                    (0.153, 0.171]  54645\n",
            "7                    (0.171, 0.189]  54644\n",
            "8                     (0.189, 0.21]  54644\n",
            "9                     (0.21, 0.234]  54645\n",
            "10                   (0.234, 0.265]  54643\n",
            "11                   (0.265, 0.302]  54645\n",
            "12                   (0.302, 0.344]  54643\n",
            "13                   (0.344, 0.395]  54645\n",
            "14                   (0.395, 0.461]  54644\n",
            "15                   (0.461, 0.572]  54644\n",
            "16                   (0.572, 0.695]  54648\n",
            "17                   (0.695, 0.823]  54641\n",
            "18                   (0.823, 0.988]  54686\n",
            "19                     (0.988, 1.0]  54602\n"
          ],
          "name": "stdout"
        }
      ]
    },
    {
      "cell_type": "code",
      "metadata": {
        "id": "OgVGcJpOh83C"
      },
      "source": [
        "###############################################################################\n",
        "###############################################################################"
      ],
      "execution_count": 88,
      "outputs": []
    },
    {
      "cell_type": "code",
      "metadata": {
        "colab": {
          "base_uri": "https://localhost:8080/"
        },
        "id": "GjEC3Y3AfrGT",
        "outputId": "2b0efa20-8b66-4a9d-fed0-777e34e4f7de"
      },
      "source": [
        "# SANS UNDER-SAMPLING ET OVER-SAMPLING\n",
        "\n",
        "print(\"ADL test sans under-sampling et over_sampling\")\n",
        "test_model_ADL = LinearDiscriminantAnalysis()  # la valeur par defaut de la tolérence donne le même résultat que tol=1e-5\n",
        "evaluation(test_model_ADL, train_X_s, train_Y_s, test_X_s, test_Y_s, scoring = \"f1\", plot=False)\n",
        "\n",
        "print(\"ADQ test sans under-sampling et over_sampling\")\n",
        "test_model_ADQ = QuadraticDiscriminantAnalysis()  # la valeur par defaut de la tolérence donne le même résultat que tol=1e-5\n",
        "evaluation(test_model_ADQ, train_X_s, train_Y_s, test_X_s, test_Y_s, scoring = \"f1\", plot=False)\n",
        "\n",
        "vingtiles(model =test_model_ADQ, data_orig = data_coord_nan, affichage=True,\n",
        "          save=False, path = \"/content/drive/MyDrive/spad_score_method_1/spad_projection_FDFTOT21/Fichier_excel_vingtiles/train_test_ADL.xlsx\")\n"
      ],
      "execution_count": 89,
      "outputs": [
        {
          "output_type": "stream",
          "text": [
            "ADL test sans under-sampling et over_sampling\n",
            "test set : \n",
            "[[  362  4969]\n",
            " [  304 14225]]\n",
            "              precision    recall  f1-score   support\n",
            "\n",
            "           1       0.54      0.07      0.12      5331\n",
            "           2       0.74      0.98      0.84     14529\n",
            "\n",
            "    accuracy                           0.73     19860\n",
            "   macro avg       0.64      0.52      0.48     19860\n",
            "weighted avg       0.69      0.73      0.65     19860\n",
            "\n",
            "train set : \n",
            "[[ 1333 20064]\n",
            " [ 1059 56980]]\n",
            "              precision    recall  f1-score   support\n",
            "\n",
            "           1       0.56      0.06      0.11     21397\n",
            "           2       0.74      0.98      0.84     58039\n",
            "\n",
            "    accuracy                           0.73     79436\n",
            "   macro avg       0.65      0.52      0.48     79436\n",
            "weighted avg       0.69      0.73      0.65     79436\n",
            "\n",
            "GRAPHIQUE NON DEMANDE\n",
            "ADQ test sans under-sampling et over_sampling\n",
            "test set : \n",
            "[[ 1034  4297]\n",
            " [ 1465 13064]]\n",
            "              precision    recall  f1-score   support\n",
            "\n",
            "           1       0.41      0.19      0.26      5331\n",
            "           2       0.75      0.90      0.82     14529\n",
            "\n",
            "    accuracy                           0.71     19860\n",
            "   macro avg       0.58      0.55      0.54     19860\n",
            "weighted avg       0.66      0.71      0.67     19860\n",
            "\n",
            "train set : \n",
            "[[ 4076 17321]\n",
            " [ 5587 52452]]\n",
            "              precision    recall  f1-score   support\n",
            "\n",
            "           1       0.42      0.19      0.26     21397\n",
            "           2       0.75      0.90      0.82     58039\n",
            "\n",
            "    accuracy                           0.71     79436\n",
            "   macro avg       0.59      0.55      0.54     79436\n",
            "weighted avg       0.66      0.71      0.67     79436\n",
            "\n",
            "GRAPHIQUE NON DEMANDE\n",
            "                    IDENT     PROBA\n",
            "29349  000293500010349327  0.002981\n",
            "71553  000715540010405567  0.003858\n",
            "15120  000151210010262361  0.004484\n",
            "31093  000310940010351666  0.004811\n",
            "50732  000507330010376221  0.005193\n",
            "...                   ...       ...\n",
            "15987  000159880010263545  1.000000\n",
            "29779  000297800010349936  1.000000\n",
            "6059   000060600010252767  1.000000\n",
            "56998  000569990010384509  1.000000\n",
            "0      000000010010000001  1.000000\n",
            "\n",
            "[99296 rows x 2 columns]\n",
            "1.000000    179\n",
            "1.000000     49\n",
            "0.999992     28\n",
            "0.930599     24\n",
            "0.984566     19\n",
            "           ... \n",
            "0.047043      1\n",
            "0.058577      1\n",
            "0.688086      1\n",
            "0.081356      1\n",
            "0.195276      1\n",
            "Name: PROBA, Length: 96393, dtype: int64\n",
            "                   PROBA\n",
            "29349  (0.00198, 0.0213]\n",
            "71553  (0.00198, 0.0213]\n",
            "15120  (0.00198, 0.0213]\n",
            "31093  (0.00198, 0.0213]\n",
            "50732  (0.00198, 0.0213]\n",
            "...                  ...\n",
            "15987       (0.964, 1.0]\n",
            "29779       (0.964, 1.0]\n",
            "6059        (0.964, 1.0]\n",
            "56998       (0.964, 1.0]\n",
            "0           (0.964, 1.0]\n",
            "\n",
            "[99296 rows x 1 columns]\n",
            "Top_mon               1     2  TOTAL\n",
            "TRANCHES                            \n",
            "(0.00198, 0.0213]   815  4150   4965\n",
            "(0.0213, 0.0277]    911  4054   4965\n",
            "(0.0277, 0.0387]    930  4035   4965\n",
            "(0.0387, 0.0514]    947  4018   4965\n",
            "(0.0514, 0.0612]    980  3984   4964\n",
            "(0.0612, 0.0688]   1115  3850   4965\n",
            "(0.0688, 0.0768]   1096  3869   4965\n",
            "(0.0768, 0.0856]   1165  3800   4965\n",
            "(0.0856, 0.0954]   1135  3829   4964\n",
            "(0.0954, 0.108]    1214  3751   4965\n",
            "(0.108, 0.124]     1279  3686   4965\n",
            "(0.124, 0.142]     1336  3629   4965\n",
            "(0.142, 0.166]     1419  3545   4964\n",
            "(0.166, 0.196]     1428  3537   4965\n",
            "(0.196, 0.24]      1593  3372   4965\n",
            "(0.24, 0.318]      1558  3407   4965\n",
            "(0.318, 0.424]     1701  3263   4964\n",
            "(0.424, 0.571]     1840  3125   4965\n",
            "(0.571, 0.964]     2088  2877   4965\n",
            "(0.964, 1.0]       2178  2787   4965\n"
          ],
          "name": "stdout"
        }
      ]
    },
    {
      "cell_type": "code",
      "metadata": {
        "id": "zNo_JpzffrI-"
      },
      "source": [
        ""
      ],
      "execution_count": null,
      "outputs": []
    },
    {
      "cell_type": "code",
      "metadata": {
        "id": "8kj3m4VlfrMh"
      },
      "source": [
        ""
      ],
      "execution_count": null,
      "outputs": []
    },
    {
      "cell_type": "code",
      "metadata": {
        "id": "-uG3-b8GPx1r"
      },
      "source": [
        "#################################################################################\n",
        "#################################################################################"
      ],
      "execution_count": null,
      "outputs": []
    },
    {
      "cell_type": "code",
      "metadata": {
        "id": "CfLeYRkTPx4H"
      },
      "source": [
        "import warnings\n",
        "warnings.filterwarnings(\"ignore\")"
      ],
      "execution_count": 90,
      "outputs": []
    },
    {
      "cell_type": "code",
      "metadata": {
        "id": "igJQA-9ZjMDg"
      },
      "source": [
        "from scipy.stats import shapiro"
      ],
      "execution_count": 91,
      "outputs": []
    },
    {
      "cell_type": "code",
      "metadata": {
        "colab": {
          "base_uri": "https://localhost:8080/",
          "height": 1000
        },
        "id": "MRk4_z0vSTOS",
        "outputId": "14726a09-a18b-4ed9-b738-9909825bdb41"
      },
      "source": [
        "\n",
        "for i in range(0,15):\n",
        "    plt.figure(figsize=(5,8))\n",
        "    sns.distplot(coord_sans_nan[data_sans_nan.iloc[:,15]==1,i],hist=False) \n",
        "    sns.distplot(coord_sans_nan[data_sans_nan.iloc[:,15]==2,i],hist=False) \n",
        "    plt.xlim((-2.5,2.5))\n",
        "    plt.ylim((0,2))\n"
      ],
      "execution_count": 93,
      "outputs": [
        {
          "output_type": "display_data",
          "data": {
            "image/png": "[encoded data removed]",
            "text/plain": [
              "<Figure size 360x576 with 1 Axes>"
            ]
          },
          "metadata": {
            "tags": [],
            "needs_background": "light"
          }
        },
        {
          "output_type": "display_data",
          "data": {
            "image/png": "[encoded data removed]",
            "text/plain": [
              "<Figure size 360x576 with 1 Axes>"
            ]
          },
          "metadata": {
            "tags": [],
            "needs_background": "light"
          }
        },
        {
          "output_type": "display_data",
          "data": {
            "image/png": "[encoded data removed]",
            "text/plain": [
              "<Figure size 360x576 with 1 Axes>"
            ]
          },
          "metadata": {
            "tags": [],
            "needs_background": "light"
          }
        },
        {
          "output_type": "display_data",
          "data": {
            "image/png": "[encoded data removed]",
            "text/plain": [
              "<Figure size 360x576 with 1 Axes>"
            ]
          },
          "metadata": {
            "tags": [],
            "needs_background": "light"
          }
        },
        {
          "output_type": "display_data",
          "data": {
            "image/png": "[encoded data removed]",
            "text/plain": [
              "<Figure size 360x576 with 1 Axes>"
            ]
          },
          "metadata": {
            "tags": [],
            "needs_background": "light"
          }
        },
        {
          "output_type": "display_data",
          "data": {
            "image/png": "[encoded data removed]",
            "text/plain": [
              "<Figure size 360x576 with 1 Axes>"
            ]
          },
          "metadata": {
            "tags": [],
            "needs_background": "light"
          }
        },
        {
          "output_type": "display_data",
          "data": {
            "image/png": "[encoded data removed]",
            "text/plain": [
              "<Figure size 360x576 with 1 Axes>"
            ]
          },
          "metadata": {
            "tags": [],
            "needs_background": "light"
          }
        },
        {
          "output_type": "display_data",
          "data": {
            "image/png": "[encoded data removed]",
            "text/plain": [
              "<Figure size 360x576 with 1 Axes>"
            ]
          },
          "metadata": {
            "tags": [],
            "needs_background": "light"
          }
        },
        {
          "output_type": "display_data",
          "data": {
            "image/png": "[encoded data removed]",
            "text/plain": [
              "<Figure size 360x576 with 1 Axes>"
            ]
          },
          "metadata": {
            "tags": [],
            "needs_background": "light"
          }
        },
        {
          "output_type": "display_data",
          "data": {
            "image/png": "[encoded data removed]",
            "text/plain": [
              "<Figure size 360x576 with 1 Axes>"
            ]
          },
          "metadata": {
            "tags": [],
            "needs_background": "light"
          }
        },
        {
          "output_type": "display_data",
          "data": {
            "image/png": "[encoded data removed]",
            "text/plain": [
              "<Figure size 360x576 with 1 Axes>"
            ]
          },
          "metadata": {
            "tags": [],
            "needs_background": "light"
          }
        },
        {
          "output_type": "display_data",
          "data": {
            "image/png": "[encoded data removed]",
            "text/plain": [
              "<Figure size 360x576 with 1 Axes>"
            ]
          },
          "metadata": {
            "tags": [],
            "needs_background": "light"
          }
        },
        {
          "output_type": "display_data",
          "data": {
            "image/png": "[encoded data removed]",
            "text/plain": [
              "<Figure size 360x576 with 1 Axes>"
            ]
          },
          "metadata": {
            "tags": [],
            "needs_background": "light"
          }
        },
        {
          "output_type": "display_data",
          "data": {
            "image/png": "[encoded data removed]",
            "text/plain": [
              "<Figure size 360x576 with 1 Axes>"
            ]
          },
          "metadata": {
            "tags": [],
            "needs_background": "light"
          }
        },
        {
          "output_type": "display_data",
          "data": {
            "image/png": "[encoded data removed]",
            "text/plain": [
              "<Figure size 360x576 with 1 Axes>"
            ]
          },
          "metadata": {
            "tags": [],
            "needs_background": "light"
          }
        }
      ]
    },
    {
      "cell_type": "code",
      "metadata": {
        "colab": {
          "base_uri": "https://localhost:8080/"
        },
        "id": "a2tNN4IFWJA9",
        "outputId": "86973913-7bd4-4e31-a926-153144e8f862"
      },
      "source": [
        "for j in range(15):\n",
        "    print( shapiro(coord_sans_nan[data_sans_nan.iloc[:,15]==1,j]), shapiro(coord_sans_nan[data_sans_nan.iloc[:,15]==2,j]) )"
      ],
      "execution_count": 96,
      "outputs": [
        {
          "output_type": "stream",
          "text": [
            "(0.8889386653900146, 0.0) (0.88752681016922, 0.0)\n",
            "(0.33572298288345337, 0.0) (0.3221573829650879, 0.0)\n",
            "(0.9529616832733154, 0.0) (0.9291819334030151, 0.0)\n",
            "(0.8717105388641357, 0.0) (0.861024022102356, 0.0)\n",
            "(0.95638507604599, 0.0) (0.9423134922981262, 0.0)\n",
            "(0.9959754347801208, 6.040618565258718e-26) (0.9951214790344238, 7.894775418159587e-41)\n",
            "(0.2060166597366333, 0.0) (0.23741638660430908, 0.0)\n",
            "(0.949048638343811, 0.0) (0.9674699902534485, 0.0)\n",
            "(0.948469877243042, 0.0) (0.9614996314048767, 0.0)\n",
            "(0.9854901432991028, 9.80908925027372e-45) (0.9900328516960144, 0.0)\n",
            "(0.8798614144325256, 0.0) (0.8598746061325073, 0.0)\n",
            "(0.9900939464569092, 1.3937046878167945e-38) (0.9910640716552734, 0.0)\n",
            "(0.9853678941726685, 7.006492321624085e-45) (0.9859757423400879, 0.0)\n",
            "(0.9913292527198792, 1.508155700654167e-36) (0.9938042163848877, 8.407790785948902e-45)\n",
            "(0.9881532788276672, 2.094801074319169e-41) (0.9904729127883911, 0.0)\n"
          ],
          "name": "stdout"
        }
      ]
    },
    {
      "cell_type": "code",
      "metadata": {
        "colab": {
          "base_uri": "https://localhost:8080/"
        },
        "id": "KRVPkZ9FWwm3",
        "outputId": "d4d6438d-af56-4990-ef32-435bf9070d1c"
      },
      "source": [
        "shapiro(coord_sans_nan[data_sans_nan.iloc[:,15]==1,:]), shapiro(coord_sans_nan[data_sans_nan.iloc[:,15]==2,:])"
      ],
      "execution_count": 97,
      "outputs": [
        {
          "output_type": "execute_result",
          "data": {
            "text/plain": [
              "((0.8687389492988586, 0.0), (0.9115259051322937, 0.0))"
            ]
          },
          "metadata": {
            "tags": []
          },
          "execution_count": 97
        }
      ]
    },
    {
      "cell_type": "code",
      "metadata": {
        "colab": {
          "base_uri": "https://localhost:8080/",
          "height": 283
        },
        "id": "mVEvl0WqW3yh",
        "outputId": "f3193842-9257-4da2-ef73-fe55359dedf7"
      },
      "source": [
        "plt.plot(coord_sans_nan[data_sans_nan.iloc[:,15]==2,1], coord_sans_nan[data_sans_nan.iloc[:,15]==2,0],\".\")\n",
        "plt.plot(coord_sans_nan[data_sans_nan.iloc[:,15]==1,1], coord_sans_nan[data_sans_nan.iloc[:,15]==1,0],\".\")"
      ],
      "execution_count": 98,
      "outputs": [
        {
          "output_type": "execute_result",
          "data": {
            "text/plain": [
              "[<matplotlib.lines.Line2D at 0x7f2c3031a710>]"
            ]
          },
          "metadata": {
            "tags": []
          },
          "execution_count": 98
        },
        {
          "output_type": "display_data",
          "data": {
            "image/png": "[encoded data removed]",
            "text/plain": [
              "<Figure size 432x288 with 1 Axes>"
            ]
          },
          "metadata": {
            "tags": [],
            "needs_background": "light"
          }
        }
      ]
    },
    {
      "cell_type": "code",
      "metadata": {
        "colab": {
          "base_uri": "https://localhost:8080/",
          "height": 283
        },
        "id": "9vXfindOYYvk",
        "outputId": "ba0e1c84-a78f-49a8-855b-9db9f3ec0f28"
      },
      "source": [
        "plt.plot(coord_sans_nan[data_sans_nan.iloc[:,15]==2,1], coord_sans_nan[data_sans_nan.iloc[:,15]==2,2],\".\")\n",
        "plt.plot(coord_sans_nan[data_sans_nan.iloc[:,15]==1,1], coord_sans_nan[data_sans_nan.iloc[:,15]==1,2],\".\")"
      ],
      "execution_count": 99,
      "outputs": [
        {
          "output_type": "execute_result",
          "data": {
            "text/plain": [
              "[<matplotlib.lines.Line2D at 0x7f2c121b7a90>]"
            ]
          },
          "metadata": {
            "tags": []
          },
          "execution_count": 99
        },
        {
          "output_type": "display_data",
          "data": {
            "image/png": "[encoded data removed]",
            "text/plain": [
              "<Figure size 432x288 with 1 Axes>"
            ]
          },
          "metadata": {
            "tags": [],
            "needs_background": "light"
          }
        }
      ]
    },
    {
      "cell_type": "code",
      "metadata": {
        "colab": {
          "base_uri": "https://localhost:8080/",
          "height": 283
        },
        "id": "Sv0Ae6i9t9Q1",
        "outputId": "3dd0f55d-84a4-46d8-ec53-bca6886b87c3"
      },
      "source": [
        "plt.plot(coord_sans_nan[data_sans_nan.iloc[:,15]==2,0], coord_sans_nan[data_sans_nan.iloc[:,15]==2,2],\".\")\n",
        "plt.plot(coord_sans_nan[data_sans_nan.iloc[:,15]==1,0], coord_sans_nan[data_sans_nan.iloc[:,15]==1,2],\".\")"
      ],
      "execution_count": 100,
      "outputs": [
        {
          "output_type": "execute_result",
          "data": {
            "text/plain": [
              "[<matplotlib.lines.Line2D at 0x7f2c1220e0d0>]"
            ]
          },
          "metadata": {
            "tags": []
          },
          "execution_count": 100
        },
        {
          "output_type": "display_data",
          "data": {
            "image/png": "[encoded data removed]",
            "text/plain": [
              "<Figure size 432x288 with 1 Axes>"
            ]
          },
          "metadata": {
            "tags": [],
            "needs_background": "light"
          }
        }
      ]
    },
    {
      "cell_type": "code",
      "metadata": {
        "colab": {
          "base_uri": "https://localhost:8080/"
        },
        "id": "gZjFY1LbDFZm",
        "outputId": "413ecbb0-9254-40aa-f857-8e3cdc54df5b"
      },
      "source": [
        "for j in range(15):#23456\n",
        "    hhh = pd.DataFrame(coord_sans_nan[data_sans_nan.iloc[:,15]==2,j])\n",
        "    \n",
        "    q_low = hhh.quantile(0.05)\n",
        "    q_hi  = hhh.quantile(0.95)\n",
        "    df_filtered = hhh[(hhh < q_hi) & (hhh > q_low)]\n",
        "\n",
        "    print(shapiro(df_filtered.dropna()))\n"
      ],
      "execution_count": 101,
      "outputs": [
        {
          "output_type": "stream",
          "text": [
            "(0.8826243877410889, 0.0)\n",
            "(0.9888412356376648, 0.0)\n",
            "(0.9318932294845581, 0.0)\n",
            "(0.9116094708442688, 0.0)\n",
            "(0.979480504989624, 0.0)\n",
            "(0.9826248288154602, 0.0)\n",
            "(0.9731096029281616, 0.0)\n",
            "(0.9884598851203918, 0.0)\n",
            "(0.9880431294441223, 0.0)\n",
            "(0.9888715744018555, 0.0)\n",
            "(0.9916458129882812, 0.0)\n",
            "(0.9882144927978516, 0.0)\n",
            "(0.9854512810707092, 0.0)\n",
            "(0.9830330610275269, 0.0)\n",
            "(0.9786491394042969, 0.0)\n"
          ],
          "name": "stdout"
        }
      ]
    },
    {
      "cell_type": "code",
      "metadata": {
        "colab": {
          "base_uri": "https://localhost:8080/",
          "height": 317
        },
        "id": "5oeZQaY9gbf_",
        "outputId": "038f8ab6-ad36-42f4-9ea3-f3a9301888b6"
      },
      "source": [
        "hhh = pd.DataFrame(coord_sans_nan[data_sans_nan.iloc[:,15]==1,1])\n",
        "q_low = hhh.quantile(0.03)\n",
        "q_hi  = hhh.quantile(0.95)\n",
        "df_filtered = hhh[(hhh < q_hi) & (hhh > q_low)]\n",
        "print(df_filtered.shape)\n",
        "\n",
        "hhh_2 = pd.DataFrame(coord_sans_nan[data_sans_nan.iloc[:,15]==1,2])\n",
        "q_low_2 = hhh_2.quantile(0.03)\n",
        "q_hi_2  = hhh_2.quantile(0.95)\n",
        "df_filtered_2 = hhh_2[(hhh_2 < q_hi_2) & (hhh_2 > q_low_2)]\n",
        "print(df_filtered_2.shape)\n",
        "\n",
        "plt.plot(df_filtered.iloc[:,0], df_filtered_2.iloc[:,0], '.')"
      ],
      "execution_count": 102,
      "outputs": [
        {
          "output_type": "stream",
          "text": [
            "(26728, 1)\n",
            "(26728, 1)\n"
          ],
          "name": "stdout"
        },
        {
          "output_type": "execute_result",
          "data": {
            "text/plain": [
              "[<matplotlib.lines.Line2D at 0x7f2c1217a7d0>]"
            ]
          },
          "metadata": {
            "tags": []
          },
          "execution_count": 102
        },
        {
          "output_type": "display_data",
          "data": {
            "image/png": "[encoded data removed]",
            "text/plain": [
              "<Figure size 432x288 with 1 Axes>"
            ]
          },
          "metadata": {
            "tags": [],
            "needs_background": "light"
          }
        }
      ]
    },
    {
      "cell_type": "code",
      "metadata": {
        "id": "O1GfVaA0eH_7"
      },
      "source": [
        ""
      ],
      "execution_count": 95,
      "outputs": []
    },
    {
      "cell_type": "code",
      "metadata": {
        "id": "0csF8LqVx0Ee"
      },
      "source": [
        "\n",
        "'''\n",
        "from sklearn.preprocessing import KBinsDiscretizer\n",
        "# discrétisation des variables continues (les valeurs manquantes doivent être gérées en amont)\n",
        " c'est qui est bien avec KBinsDiscretizer est qu'il s'adapte aux éventuelles partitions au\n",
        "sein d'une variable. En d'autres termes, si la méthode n'arrive pas à partitionner les individus\n",
        "en k partitions, alors elle esssayera de les partitionner en k-1 partitions, et ainsi de suite, \n",
        "jusqu'à atteindre 1 partition (il faut faire attention avec les variables ayant uniquement \n",
        "une modalité). Lorsque la méthode rencontre ce cas, elle affichera \"UserWaring\" pour informer \n",
        "l'utilisateur de celui-ci ainsi que les variables concernées. Ceci sera utile plus tard.\n",
        "\n",
        "\n",
        "method_discre = KBinsDiscretizer(n_bins=4, encode='ordinal', strategy='quantile') \n",
        "method_discre.fit(data.iloc[:,1:23])\n",
        "resultat_discre = method_discre.transform(data.iloc[:,1:23])\n",
        "resultat_discre\n",
        "\n",
        "# construction du data frame après discrétisation\n",
        "data2_index = data.iloc[:,0]\n",
        "df_resultat_discre = pd.DataFrame(resultat_discre,columns=colonnes[1:23], dtype=int )\n",
        "data_final = pd.concat([data2_index, df_resultat_discre,data[\"IFI+\"]], axis=1 ) #data2_index\n",
        "data_final\n",
        "\n",
        "#nombre_mod(data_final)\n",
        "#nombre_mod(data)\n",
        "\n",
        "# description des modalités d'une variable\n",
        "for k in range(1,data_final.shape[1]):\n",
        "    print(data_final.iloc[:,k].value_counts(dropna=True)); print(\"=\"*50)\n",
        "\n",
        "# description des modalités d'une variable\n",
        "for k in range(1,data.shape[1]):\n",
        "    print(data.iloc[:,k].value_counts(dropna=True)); print(\"=\"*50)\n",
        "\n",
        "'''\n"
      ],
      "execution_count": null,
      "outputs": []
    },
    {
      "cell_type": "code",
      "metadata": {
        "id": "SIKMz_STz4fn"
      },
      "source": [
        "###########################################################################################################\n",
        "#  PIPELINE"
      ],
      "execution_count": null,
      "outputs": []
    },
    {
      "cell_type": "code",
      "metadata": {
        "id": "3oAVMbZqz9eK"
      },
      "source": [
        "from sklearn.pipeline import Pipeline, make_pipeline"
      ],
      "execution_count": null,
      "outputs": []
    },
    {
      "cell_type": "code",
      "metadata": {
        "id": "jAZ0dEGzIgry"
      },
      "source": [
        "disqual =  Pipeline([(\"acm\", MCA(var_labels = data.columns[1:num_var_max], )),(\"adl\", LinearDiscriminantAnalysis())])"
      ],
      "execution_count": null,
      "outputs": []
    },
    {
      "cell_type": "code",
      "metadata": {
        "id": "_YNg4cZgIgu-"
      },
      "source": [
        "disqual.fit(data.iloc[:127115, 1:-1].values, data.iloc[:127115, num_var_max] )\n",
        "\n"
      ],
      "execution_count": null,
      "outputs": []
    },
    {
      "cell_type": "code",
      "metadata": {
        "id": "q3k4jqMm5plF"
      },
      "source": [
        "#accès à l'ACM, nombre de composants\n",
        "print(disqual.named_steps[\"acm\"].n_components_)\n"
      ],
      "execution_count": null,
      "outputs": []
    },
    {
      "cell_type": "code",
      "metadata": {
        "id": "XEvgv1RcU149"
      },
      "source": [
        "#afficher les valeurs propres\n",
        "disqual.named_steps[\"acm\"].plot_eigenvalues()\n"
      ],
      "execution_count": null,
      "outputs": []
    },
    {
      "cell_type": "code",
      "metadata": {
        "id": "Kx5lHEqr5vn8"
      },
      "source": [
        "#coefs. de la fonction score\n",
        "print(disqual.named_steps[\"adl\"].coef_)\n"
      ],
      "execution_count": null,
      "outputs": []
    },
    {
      "cell_type": "code",
      "metadata": {
        "id": "Bjg0uW_z5vrq"
      },
      "source": [
        "#prediction\n",
        "pVote = disqual.predict(vote_test.iloc[:,:-1].values)\n",
        "print(numpy.unique(pVote,return_counts=True))\n"
      ],
      "execution_count": null,
      "outputs": []
    },
    {
      "cell_type": "code",
      "metadata": {
        "id": "9zSE6MTn6CMP"
      },
      "source": [
        "#nombres de facteurs à tester\n",
        "parametres = [{\"acm__n_components\":[1,2,5,10,15,20,25,30,32]}]"
      ],
      "execution_count": null,
      "outputs": []
    },
    {
      "cell_type": "code",
      "metadata": {
        "id": "m0czJyy46CPC"
      },
      "source": [
        ""
      ],
      "execution_count": null,
      "outputs": []
    },
    {
      "cell_type": "code",
      "metadata": {
        "id": "blbzUKqT8HXP",
        "colab": {
          "base_uri": "https://localhost:8080/"
        },
        "outputId": "3e6a6e09-b9a9-419d-db88-8abd81fed783"
      },
      "source": [
        "1771/4964"
      ],
      "execution_count": null,
      "outputs": [
        {
          "output_type": "execute_result",
          "data": {
            "text/plain": [
              "0.35676873489121674"
            ]
          },
          "metadata": {
            "tags": []
          },
          "execution_count": 52
        }
      ]
    },
    {
      "cell_type": "code",
      "metadata": {
        "id": "Db6LKnHuJ6MJ"
      },
      "source": [
        ""
      ],
      "execution_count": null,
      "outputs": []
    }
  ]
}