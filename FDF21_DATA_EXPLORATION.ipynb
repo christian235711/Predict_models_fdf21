{
  "nbformat": 4,
  "nbformat_minor": 0,
  "metadata": {
    "colab": {
      "name": "FDF21_DATA_EXPLORATION.ipynb",
      "provenance": [],
      "collapsed_sections": [],
      "authorship_tag": "ABX9TyMCcJAWGUM88Y60k4jMICF6"
    },
    "kernelspec": {
      "name": "python3",
      "display_name": "Python 3"
    },
    "language_info": {
      "name": "python"
    }
  },
  "cells": [
    {
      "cell_type": "code",
      "metadata": {
        "colab": {
          "base_uri": "https://localhost:8080/"
        },
        "id": "As1VaVK2Y9sc",
        "outputId": "f57b68ac-7b44-4fc5-c482-c771845f5c96"
      },
      "source": [
        "\n",
        "import numpy as np\n",
        "import pandas as pd\n",
        "import seaborn as sns\n",
        "import matplotlib.pyplot as plt\n",
        "import sklearn\n",
        "\n",
        "from sklearn.linear_model import LogisticRegression\n",
        "\n",
        "from sklearn.metrics import f1_score, confusion_matrix, classification_report, confusion_matrix\n",
        "from sklearn.model_selection import train_test_split, learning_curve, GridSearchCV, RandomizedSearchCV\n",
        "\n",
        "from sklearn.preprocessing import OneHotEncoder\n",
        "\n",
        "from google.colab import drive\n",
        "drive.mount('/content/drive')"
      ],
      "execution_count": 1,
      "outputs": [
        {
          "output_type": "stream",
          "text": [
            "Mounted at /content/drive\n"
          ],
          "name": "stdout"
        }
      ]
    },
    {
      "cell_type": "code",
      "metadata": {
        "id": "-Wd3RrM6lyAO"
      },
      "source": [
        "\n",
        "from sklearn.preprocessing import OneHotEncoder\n",
        "\n",
        "from sklearn.metrics import f1_score, confusion_matrix, classification_report\n",
        "from sklearn.model_selection import train_test_split"
      ],
      "execution_count": 2,
      "outputs": []
    },
    {
      "cell_type": "code",
      "metadata": {
        "id": "geGZoZdFY_0C"
      },
      "source": [
        "#nombre de modalités de chaque variables (dans un dataframe)\n",
        "def nombre_mod(data2):\n",
        "    #création d'un dataframe vide\n",
        "    dff= pd.DataFrame(columns=[\"VARIABLE\",\"NOMBRE_MOD\", \"NOMBRE_MOD_SANS_NA\"])\n",
        "    for i in range(data2.shape[1]): # sans compter les valeurs manquantes\n",
        "        taille =len(data2.iloc[:,i].value_counts(dropna=False))\n",
        "        taille_1 = len(data2.iloc[:,i].value_counts(dropna=True) )\n",
        "        dff=dff.append({\"VARIABLE\": colonnes[i],\"NOMBRE_MOD\":taille, \"NOMBRE_MOD_SANS_NA\":taille_1 }, ignore_index=True)\n",
        "    return dff\n",
        "\n",
        "\n",
        "# sélection des corrélations les plus importantes\n",
        "def variables_corr(tableau_corr, seuil):\n",
        "    colonnes = tableau_corr.columns\n",
        "    val_temp = 0 \n",
        "    variables_corr_pos=[] ; variables_corr_pos_val=[]\n",
        "    variables_corr_neg=[] ; variables_corr_neg_val=[]\n",
        "    for i in range(tableau_corr.shape[0]):  \n",
        "        for j in range(tableau_corr.shape[0]):\n",
        "            if i<j: #i!=j:\n",
        "                if (tableau_corr.iloc[i,j] > seuil):\n",
        "                    variables_corr_pos.append(colonnes[j])\n",
        "                    variables_corr_pos_val.append(round( tableau_corr.iloc[i,j], 2))\n",
        "                    val_temp += 1\n",
        "\n",
        "                if (tableau_corr.iloc[i,j] <-seuil):\n",
        "                    variables_corr_neg.append(colonnes[j])\n",
        "                    variables_corr_neg_val.append(round( tableau_corr.iloc[i,j], 2))\n",
        "                    val_temp += 1\n",
        "\n",
        "        if (len(variables_corr_pos) > 0) | (len(variables_corr_neg) >0) :\n",
        "            print(\"variable : \", colonnes[i])\n",
        "            if len(variables_corr_pos) > 0:    \n",
        "                print(\"corr pos\", variables_corr_pos)\n",
        "                print(\"corr pos\", variables_corr_pos_val)\n",
        "                val_temp += 1\n",
        "\n",
        "            if len(variables_corr_neg) >0:  \n",
        "                print(\"corr neg\", variables_corr_neg)\n",
        "                print(\"corr neg\", variables_corr_neg_val)\n",
        "                val_temp += 1\n",
        "            print(\"\")\n",
        "        variables_corr_pos = variables_corr_pos*0\n",
        "        variables_corr_neg = variables_corr_pos*0\n",
        "\n",
        "        variables_corr_pos_val = variables_corr_pos_val*0\n",
        "        variables_corr_neg_val = variables_corr_pos_val*0\n",
        "    if val_temp == 0:\n",
        "        print(\"IL N'Y A PAS DE CORRELATION ENTRE LES VARIABLES PAR RAPPORT AU SEUIL PRIS\")\n",
        "        \n"
      ],
      "execution_count": 3,
      "outputs": []
    },
    {
      "cell_type": "code",
      "metadata": {
        "id": "wcBtqXOvY_5H"
      },
      "source": [
        "# les noms des variables\n",
        "\n",
        "colonnes =([\"IDENT\", \"TypeHabi\", \"GeoFaz_Scl\", \"GeoFaz_cl\", \"ImmoFaz_Scl\", \"ImmoFaz_cl\", \"Anciennete\",\n",
        "            \"Logement_prix_m2\", \"Mediane_RFR\", \"Sexe\", \"Prenom_Phase_scl_H\", \"Prenom_Phase_scl_F\",\n",
        "            \"Prenom_Phase_cl_H\", \"Prenom_Phase_cl_F\", \"Age_H\", \"Age_F\", \"Affinite_1\", \"Affinite_2\",\n",
        "            \"Prenom_effectif\", \"Potentiel_prenom\", \"Onoma-Phase_Scl\", \"Onoma-Phase_CL\", \"Top_mon\"])"
      ],
      "execution_count": 4,
      "outputs": []
    },
    {
      "cell_type": "code",
      "metadata": {
        "colab": {
          "base_uri": "https://localhost:8080/"
        },
        "id": "nAVkF1waY_-Q",
        "outputId": "5b0451b8-59f7-48e6-a2e5-6188891e849a"
      },
      "source": [
        "#data_orig = pd.read_csv(\"C:/Users/Christian/Desktop/my_data_FDFIFI19.txt\",sep=\" \" , names = colonnes, low_memory=False, dtype=str )#, dtype='Int64')\n",
        "data_orig = pd.read_csv(\"/content/drive/MyDrive/spad_score_method_1/spad_projection_FDFTOT21/sans_8_new_my_data_FDFTOT21.txt\", delim_whitespace=\"\\t\", header = None, names=colonnes, low_memory=False, dtype=str )#, dtype='Int64')\n",
        "data = data_orig.copy()\n",
        "print(\"taille du dataset d'origine : \",data.shape)"
      ],
      "execution_count": 5,
      "outputs": [
        {
          "output_type": "stream",
          "text": [
            "taille du dataset d'origine :  (1192180, 23)\n"
          ],
          "name": "stdout"
        }
      ]
    },
    {
      "cell_type": "code",
      "metadata": {
        "id": "z26BY04pWKG5"
      },
      "source": [
        "########################################################################################################\n",
        "#                                          TOUTES LES VARIABLES\n",
        "########################################################################################################"
      ],
      "execution_count": 6,
      "outputs": []
    },
    {
      "cell_type": "code",
      "metadata": {
        "id": "Zc6Vqt_AZxsF",
        "colab": {
          "base_uri": "https://localhost:8080/"
        },
        "outputId": "73279d39-2b72-4eb2-98b6-04311ad331f1"
      },
      "source": [
        "# élimination des individus n'ayant pas de valeur pour la variable Top_mon \n",
        "\"\"\"IMPORTANT\"\"\"\n",
        "data_sans_nan = data[(data.isnull()).sum(axis=1) == 0]\n",
        "\n",
        "#conversion du type de variable\n",
        "for i in range(1,data_sans_nan.shape[1]):\n",
        "    data_sans_nan.iloc[:,i]=data_sans_nan.iloc[:,i].astype(int)"
      ],
      "execution_count": 7,
      "outputs": [
        {
          "output_type": "stream",
          "text": [
            "/usr/local/lib/python3.7/dist-packages/pandas/core/indexing.py:1781: SettingWithCopyWarning: \n",
            "A value is trying to be set on a copy of a slice from a DataFrame.\n",
            "Try using .loc[row_indexer,col_indexer] = value instead\n",
            "\n",
            "See the caveats in the documentation: https://pandas.pydata.org/pandas-docs/stable/user_guide/indexing.html#returning-a-view-versus-a-copy\n",
            "  self.obj[item_labels[indexer[info_axis]]] = value\n",
            "/usr/local/lib/python3.7/dist-packages/pandas/core/indexing.py:1743: SettingWithCopyWarning: \n",
            "A value is trying to be set on a copy of a slice from a DataFrame.\n",
            "Try using .loc[row_indexer,col_indexer] = value instead\n",
            "\n",
            "See the caveats in the documentation: https://pandas.pydata.org/pandas-docs/stable/user_guide/indexing.html#returning-a-view-versus-a-copy\n",
            "  isetter(ilocs[0], value)\n"
          ],
          "name": "stderr"
        }
      ]
    },
    {
      "cell_type": "code",
      "metadata": {
        "colab": {
          "base_uri": "https://localhost:8080/",
          "height": 279
        },
        "id": "sEF0IRATKa90",
        "outputId": "b71cae26-cb90-4e63-bf64-bc89e9186ab8"
      },
      "source": [
        "# PROPORTION DES CLASSES DE LA VARIABLE CIBLE\n",
        "data_sans_nan.iloc[:,-1].value_counts(dropna = False, normalize=True).plot.bar()\n",
        "\n"
      ],
      "execution_count": 8,
      "outputs": [
        {
          "output_type": "execute_result",
          "data": {
            "text/plain": [
              "<matplotlib.axes._subplots.AxesSubplot at 0x7f553e8babd0>"
            ]
          },
          "metadata": {
            "tags": []
          },
          "execution_count": 8
        },
        {
          "output_type": "display_data",
          "data": {
            "image/png": "[encoded data removed]",
            "text/plain": [
              "<Figure size 432x288 with 1 Axes>"
            ]
          },
          "metadata": {
            "tags": [],
            "needs_background": "light"
          }
        }
      ]
    },
    {
      "cell_type": "code",
      "metadata": {
        "colab": {
          "base_uri": "https://localhost:8080/",
          "height": 1000
        },
        "id": "Wk8_CLyuKgpA",
        "outputId": "cfa10ce9-486d-463d-fc49-e0a12ca2577a"
      },
      "source": [
        "# PROPORTION DES CLASSES DE CHACUNE DES VARIABLES EXPLICATIVES\n",
        "for val in data_sans_nan.columns[1:-1] :\n",
        "    plt.figure(figsize=(10,5))\n",
        "    sns.countplot(y=val,data=data_sans_nan, orient='v', color= 'royalblue' )\n"
      ],
      "execution_count": 9,
      "outputs": [
        {
          "output_type": "stream",
          "text": [
            "/usr/local/lib/python3.7/dist-packages/ipykernel_launcher.py:3: RuntimeWarning: More than 20 figures have been opened. Figures created through the pyplot interface (`matplotlib.pyplot.figure`) are retained until explicitly closed and may consume too much memory. (To control this warning, see the rcParam `figure.max_open_warning`).\n",
            "  This is separate from the ipykernel package so we can avoid doing imports until\n"
          ],
          "name": "stderr"
        },
        {
          "output_type": "display_data",
          "data": {
            "image/png": "[encoded data removed]",
            "text/plain": [
              "<Figure size 720x360 with 1 Axes>"
            ]
          },
          "metadata": {
            "tags": [],
            "needs_background": "light"
          }
        },
        {
          "output_type": "display_data",
          "data": {
            "image/png": "[encoded data removed]",
            "text/plain": [
              "<Figure size 720x360 with 1 Axes>"
            ]
          },
          "metadata": {
            "tags": [],
            "needs_background": "light"
          }
        },
        {
          "output_type": "display_data",
          "data": {
            "image/png": "[encoded data removed]",
            "text/plain": [
              "<Figure size 720x360 with 1 Axes>"
            ]
          },
          "metadata": {
            "tags": [],
            "needs_background": "light"
          }
        },
        {
          "output_type": "display_data",
          "data": {
            "image/png": "[encoded data removed]",
            "text/plain": [
              "<Figure size 720x360 with 1 Axes>"
            ]
          },
          "metadata": {
            "tags": [],
            "needs_background": "light"
          }
        },
        {
          "output_type": "display_data",
          "data": {
            "image/png": "[encoded data removed]",
            "text/plain": [
              "<Figure size 720x360 with 1 Axes>"
            ]
          },
          "metadata": {
            "tags": [],
            "needs_background": "light"
          }
        },
        {
          "output_type": "display_data",
          "data": {
            "image/png": "[encoded data removed]",
            "text/plain": [
              "<Figure size 720x360 with 1 Axes>"
            ]
          },
          "metadata": {
            "tags": [],
            "needs_background": "light"
          }
        },
        {
          "output_type": "display_data",
          "data": {
            "image/png": "[encoded data removed]",
            "text/plain": [
              "<Figure size 720x360 with 1 Axes>"
            ]
          },
          "metadata": {
            "tags": [],
            "needs_background": "light"
          }
        },
        {
          "output_type": "display_data",
          "data": {
            "image/png": "[encoded data removed]",
            "text/plain": [
              "<Figure size 720x360 with 1 Axes>"
            ]
          },
          "metadata": {
            "tags": [],
            "needs_background": "light"
          }
        },
        {
          "output_type": "display_data",
          "data": {
            "image/png": "[encoded data removed]",
            "text/plain": [
              "<Figure size 720x360 with 1 Axes>"
            ]
          },
          "metadata": {
            "tags": [],
            "needs_background": "light"
          }
        },
        {
          "output_type": "display_data",
          "data": {
            "image/png": "[encoded data removed]",
            "text/plain": [
              "<Figure size 720x360 with 1 Axes>"
            ]
          },
          "metadata": {
            "tags": [],
            "needs_background": "light"
          }
        },
        {
          "output_type": "display_data",
          "data": {
            "image/png": "[encoded data removed]",
            "text/plain": [
              "<Figure size 720x360 with 1 Axes>"
            ]
          },
          "metadata": {
            "tags": [],
            "needs_background": "light"
          }
        },
        {
          "output_type": "display_data",
          "data": {
            "image/png": "[encoded data removed]",
            "text/plain": [
              "<Figure size 720x360 with 1 Axes>"
            ]
          },
          "metadata": {
            "tags": [],
            "needs_background": "light"
          }
        },
        {
          "output_type": "display_data",
          "data": {
            "image/png": "[encoded data removed]",
            "text/plain": [
              "<Figure size 720x360 with 1 Axes>"
            ]
          },
          "metadata": {
            "tags": [],
            "needs_background": "light"
          }
        },
        {
          "output_type": "display_data",
          "data": {
            "image/png": "[encoded data removed]",
            "text/plain": [
              "<Figure size 720x360 with 1 Axes>"
            ]
          },
          "metadata": {
            "tags": [],
            "needs_background": "light"
          }
        },
        {
          "output_type": "display_data",
          "data": {
            "image/png": "[encoded data removed]",
            "text/plain": [
              "<Figure size 720x360 with 1 Axes>"
            ]
          },
          "metadata": {
            "tags": [],
            "needs_background": "light"
          }
        },
        {
          "output_type": "display_data",
          "data": {
            "image/png": "[encoded data removed]",
            "text/plain": [
              "<Figure size 720x360 with 1 Axes>"
            ]
          },
          "metadata": {
            "tags": [],
            "needs_background": "light"
          }
        },
        {
          "output_type": "display_data",
          "data": {
            "image/png": "[encoded data removed]",
            "text/plain": [
              "<Figure size 720x360 with 1 Axes>"
            ]
          },
          "metadata": {
            "tags": [],
            "needs_background": "light"
          }
        },
        {
          "output_type": "display_data",
          "data": {
            "image/png": "[encoded data removed]",
            "text/plain": [
              "<Figure size 720x360 with 1 Axes>"
            ]
          },
          "metadata": {
            "tags": [],
            "needs_background": "light"
          }
        },
        {
          "output_type": "display_data",
          "data": {
            "image/png": "[encoded data removed]",
            "text/plain": [
              "<Figure size 720x360 with 1 Axes>"
            ]
          },
          "metadata": {
            "tags": [],
            "needs_background": "light"
          }
        },
        {
          "output_type": "display_data",
          "data": {
            "image/png": "[encoded data removed]",
            "text/plain": [
              "<Figure size 720x360 with 1 Axes>"
            ]
          },
          "metadata": {
            "tags": [],
            "needs_background": "light"
          }
        },
        {
          "output_type": "display_data",
          "data": {
            "image/png": "[encoded data removed]",
            "text/plain": [
              "<Figure size 720x360 with 1 Axes>"
            ]
          },
          "metadata": {
            "tags": [],
            "needs_background": "light"
          }
        }
      ]
    },
    {
      "cell_type": "code",
      "metadata": {
        "colab": {
          "base_uri": "https://localhost:8080/",
          "height": 1000
        },
        "id": "m5JQ-PtGKlWg",
        "outputId": "7fdc58d0-87ae-434f-d2b5-e1b7fe6aa0ff"
      },
      "source": [
        "# PROPORTION DES CLASSES DE CHACUNE DES VARIABLES EXPLICATIVES EN FONCTION DES CLASSES DE LA VARIABLE CIBLE\n",
        "for val in data_sans_nan.columns[1:-1] :\n",
        "    plt.figure(figsize=(10,5))\n",
        "    sns.countplot( x=val , hue=\"Top_mon\" , data=data_sans_nan)\n"
      ],
      "execution_count": 10,
      "outputs": [
        {
          "output_type": "stream",
          "text": [
            "/usr/local/lib/python3.7/dist-packages/ipykernel_launcher.py:3: RuntimeWarning: More than 20 figures have been opened. Figures created through the pyplot interface (`matplotlib.pyplot.figure`) are retained until explicitly closed and may consume too much memory. (To control this warning, see the rcParam `figure.max_open_warning`).\n",
            "  This is separate from the ipykernel package so we can avoid doing imports until\n"
          ],
          "name": "stderr"
        },
        {
          "output_type": "display_data",
          "data": {
            "image/png": "[encoded data removed]",
            "text/plain": [
              "<Figure size 720x360 with 1 Axes>"
            ]
          },
          "metadata": {
            "tags": [],
            "needs_background": "light"
          }
        },
        {
          "output_type": "display_data",
          "data": {
            "image/png": "[encoded data removed]",
            "text/plain": [
              "<Figure size 720x360 with 1 Axes>"
            ]
          },
          "metadata": {
            "tags": [],
            "needs_background": "light"
          }
        },
        {
          "output_type": "display_data",
          "data": {
            "image/png": "[encoded data removed]",
            "text/plain": [
              "<Figure size 720x360 with 1 Axes>"
            ]
          },
          "metadata": {
            "tags": [],
            "needs_background": "light"
          }
        },
        {
          "output_type": "display_data",
          "data": {
            "image/png": "[encoded data removed]",
            "text/plain": [
              "<Figure size 720x360 with 1 Axes>"
            ]
          },
          "metadata": {
            "tags": [],
            "needs_background": "light"
          }
        },
        {
          "output_type": "display_data",
          "data": {
            "image/png": "[encoded data removed]",
            "text/plain": [
              "<Figure size 720x360 with 1 Axes>"
            ]
          },
          "metadata": {
            "tags": [],
            "needs_background": "light"
          }
        },
        {
          "output_type": "display_data",
          "data": {
            "image/png": "[encoded data removed]",
            "text/plain": [
              "<Figure size 720x360 with 1 Axes>"
            ]
          },
          "metadata": {
            "tags": [],
            "needs_background": "light"
          }
        },
        {
          "output_type": "display_data",
          "data": {
            "image/png": "[encoded data removed]",
            "text/plain": [
              "<Figure size 720x360 with 1 Axes>"
            ]
          },
          "metadata": {
            "tags": [],
            "needs_background": "light"
          }
        },
        {
          "output_type": "display_data",
          "data": {
            "image/png": "[encoded data removed]",
            "text/plain": [
              "<Figure size 720x360 with 1 Axes>"
            ]
          },
          "metadata": {
            "tags": [],
            "needs_background": "light"
          }
        },
        {
          "output_type": "display_data",
          "data": {
            "image/png": "[encoded data removed]",
            "text/plain": [
              "<Figure size 720x360 with 1 Axes>"
            ]
          },
          "metadata": {
            "tags": [],
            "needs_background": "light"
          }
        },
        {
          "output_type": "display_data",
          "data": {
            "image/png": "[encoded data removed]",
            "text/plain": [
              "<Figure size 720x360 with 1 Axes>"
            ]
          },
          "metadata": {
            "tags": [],
            "needs_background": "light"
          }
        },
        {
          "output_type": "display_data",
          "data": {
            "image/png": "[encoded data removed]",
            "text/plain": [
              "<Figure size 720x360 with 1 Axes>"
            ]
          },
          "metadata": {
            "tags": [],
            "needs_background": "light"
          }
        },
        {
          "output_type": "display_data",
          "data": {
            "image/png": "[encoded data removed]",
            "text/plain": [
              "<Figure size 720x360 with 1 Axes>"
            ]
          },
          "metadata": {
            "tags": [],
            "needs_background": "light"
          }
        },
        {
          "output_type": "display_data",
          "data": {
            "image/png": "[encoded data removed]",
            "text/plain": [
              "<Figure size 720x360 with 1 Axes>"
            ]
          },
          "metadata": {
            "tags": [],
            "needs_background": "light"
          }
        },
        {
          "output_type": "display_data",
          "data": {
            "image/png": "[encoded data removed]",
            "text/plain": [
              "<Figure size 720x360 with 1 Axes>"
            ]
          },
          "metadata": {
            "tags": [],
            "needs_background": "light"
          }
        },
        {
          "output_type": "display_data",
          "data": {
            "image/png": "[encoded data removed]",
            "text/plain": [
              "<Figure size 720x360 with 1 Axes>"
            ]
          },
          "metadata": {
            "tags": [],
            "needs_background": "light"
          }
        },
        {
          "output_type": "display_data",
          "data": {
            "image/png": "[encoded data removed]",
            "text/plain": [
              "<Figure size 720x360 with 1 Axes>"
            ]
          },
          "metadata": {
            "tags": [],
            "needs_background": "light"
          }
        },
        {
          "output_type": "display_data",
          "data": {
            "image/png": "[encoded data removed]",
            "text/plain": [
              "<Figure size 720x360 with 1 Axes>"
            ]
          },
          "metadata": {
            "tags": [],
            "needs_background": "light"
          }
        },
        {
          "output_type": "display_data",
          "data": {
            "image/png": "[encoded data removed]",
            "text/plain": [
              "<Figure size 720x360 with 1 Axes>"
            ]
          },
          "metadata": {
            "tags": [],
            "needs_background": "light"
          }
        },
        {
          "output_type": "display_data",
          "data": {
            "image/png": "[encoded data removed]",
            "text/plain": [
              "<Figure size 720x360 with 1 Axes>"
            ]
          },
          "metadata": {
            "tags": [],
            "needs_background": "light"
          }
        },
        {
          "output_type": "display_data",
          "data": {
            "image/png": "[encoded data removed]",
            "text/plain": [
              "<Figure size 720x360 with 1 Axes>"
            ]
          },
          "metadata": {
            "tags": [],
            "needs_background": "light"
          }
        },
        {
          "output_type": "display_data",
          "data": {
            "image/png": "[encoded data removed]",
            "text/plain": [
              "<Figure size 720x360 with 1 Axes>"
            ]
          },
          "metadata": {
            "tags": [],
            "needs_background": "light"
          }
        }
      ]
    },
    {
      "cell_type": "code",
      "metadata": {
        "colab": {
          "base_uri": "https://localhost:8080/",
          "height": 243
        },
        "id": "v_vAg5mwjZ1o",
        "outputId": "30f04d95-baa1-424b-ed50-5702b2b1c038"
      },
      "source": [
        "# tableau de corrélation \n",
        "tableau_corr = data_sans_nan.iloc[:,1:-1].corr()\n",
        "tableau_corr.head(5)"
      ],
      "execution_count": 11,
      "outputs": [
        {
          "output_type": "execute_result",
          "data": {
            "text/html": [
              "<div>\n",
              "<style scoped>\n",
              "    .dataframe tbody tr th:only-of-type {\n",
              "        vertical-align: middle;\n",
              "    }\n",
              "\n",
              "    .dataframe tbody tr th {\n",
              "        vertical-align: top;\n",
              "    }\n",
              "\n",
              "    .dataframe thead th {\n",
              "        text-align: right;\n",
              "    }\n",
              "</style>\n",
              "<table border=\"1\" class=\"dataframe\">\n",
              "  <thead>\n",
              "    <tr style=\"text-align: right;\">\n",
              "      <th></th>\n",
              "      <th>TypeHabi</th>\n",
              "      <th>GeoFaz_Scl</th>\n",
              "      <th>GeoFaz_cl</th>\n",
              "      <th>ImmoFaz_Scl</th>\n",
              "      <th>ImmoFaz_cl</th>\n",
              "      <th>Anciennete</th>\n",
              "      <th>Logement_prix_m2</th>\n",
              "      <th>Mediane_RFR</th>\n",
              "      <th>Sexe</th>\n",
              "      <th>Prenom_Phase_scl_H</th>\n",
              "      <th>Prenom_Phase_scl_F</th>\n",
              "      <th>Prenom_Phase_cl_H</th>\n",
              "      <th>Prenom_Phase_cl_F</th>\n",
              "      <th>Age_H</th>\n",
              "      <th>Age_F</th>\n",
              "      <th>Affinite_1</th>\n",
              "      <th>Affinite_2</th>\n",
              "      <th>Prenom_effectif</th>\n",
              "      <th>Potentiel_prenom</th>\n",
              "      <th>Onoma-Phase_Scl</th>\n",
              "      <th>Onoma-Phase_CL</th>\n",
              "    </tr>\n",
              "  </thead>\n",
              "  <tbody>\n",
              "    <tr>\n",
              "      <th>TypeHabi</th>\n",
              "      <td>1.000000</td>\n",
              "      <td>-0.273971</td>\n",
              "      <td>-0.279688</td>\n",
              "      <td>-0.135448</td>\n",
              "      <td>-0.132509</td>\n",
              "      <td>0.036373</td>\n",
              "      <td>-0.235844</td>\n",
              "      <td>-0.012325</td>\n",
              "      <td>0.083143</td>\n",
              "      <td>-0.052470</td>\n",
              "      <td>0.030252</td>\n",
              "      <td>-0.056649</td>\n",
              "      <td>0.031401</td>\n",
              "      <td>-0.038451</td>\n",
              "      <td>0.027414</td>\n",
              "      <td>-0.016916</td>\n",
              "      <td>-0.000114</td>\n",
              "      <td>0.016107</td>\n",
              "      <td>0.036138</td>\n",
              "      <td>-0.037657</td>\n",
              "      <td>-0.035870</td>\n",
              "    </tr>\n",
              "    <tr>\n",
              "      <th>GeoFaz_Scl</th>\n",
              "      <td>-0.273971</td>\n",
              "      <td>1.000000</td>\n",
              "      <td>0.996889</td>\n",
              "      <td>0.239715</td>\n",
              "      <td>0.217566</td>\n",
              "      <td>-0.063330</td>\n",
              "      <td>0.306326</td>\n",
              "      <td>-0.125018</td>\n",
              "      <td>-0.111332</td>\n",
              "      <td>0.075532</td>\n",
              "      <td>-0.050103</td>\n",
              "      <td>0.079830</td>\n",
              "      <td>-0.053618</td>\n",
              "      <td>0.055498</td>\n",
              "      <td>-0.043441</td>\n",
              "      <td>0.021672</td>\n",
              "      <td>0.012684</td>\n",
              "      <td>-0.035073</td>\n",
              "      <td>-0.059601</td>\n",
              "      <td>0.052816</td>\n",
              "      <td>0.048651</td>\n",
              "    </tr>\n",
              "    <tr>\n",
              "      <th>GeoFaz_cl</th>\n",
              "      <td>-0.279688</td>\n",
              "      <td>0.996889</td>\n",
              "      <td>1.000000</td>\n",
              "      <td>0.262754</td>\n",
              "      <td>0.241009</td>\n",
              "      <td>-0.062863</td>\n",
              "      <td>0.331074</td>\n",
              "      <td>-0.109429</td>\n",
              "      <td>-0.113426</td>\n",
              "      <td>0.076255</td>\n",
              "      <td>-0.051089</td>\n",
              "      <td>0.080761</td>\n",
              "      <td>-0.054487</td>\n",
              "      <td>0.055478</td>\n",
              "      <td>-0.045444</td>\n",
              "      <td>0.021718</td>\n",
              "      <td>0.010322</td>\n",
              "      <td>-0.035789</td>\n",
              "      <td>-0.060014</td>\n",
              "      <td>0.056230</td>\n",
              "      <td>0.051963</td>\n",
              "    </tr>\n",
              "    <tr>\n",
              "      <th>ImmoFaz_Scl</th>\n",
              "      <td>-0.135448</td>\n",
              "      <td>0.239715</td>\n",
              "      <td>0.262754</td>\n",
              "      <td>1.000000</td>\n",
              "      <td>0.998309</td>\n",
              "      <td>-0.068222</td>\n",
              "      <td>0.772653</td>\n",
              "      <td>0.345121</td>\n",
              "      <td>-0.078794</td>\n",
              "      <td>0.045623</td>\n",
              "      <td>-0.025966</td>\n",
              "      <td>0.049289</td>\n",
              "      <td>-0.026077</td>\n",
              "      <td>0.031162</td>\n",
              "      <td>-0.041003</td>\n",
              "      <td>0.006620</td>\n",
              "      <td>-0.026147</td>\n",
              "      <td>-0.022345</td>\n",
              "      <td>-0.026239</td>\n",
              "      <td>0.050098</td>\n",
              "      <td>0.045594</td>\n",
              "    </tr>\n",
              "    <tr>\n",
              "      <th>ImmoFaz_cl</th>\n",
              "      <td>-0.132509</td>\n",
              "      <td>0.217566</td>\n",
              "      <td>0.241009</td>\n",
              "      <td>0.998309</td>\n",
              "      <td>1.000000</td>\n",
              "      <td>-0.066567</td>\n",
              "      <td>0.779534</td>\n",
              "      <td>0.358974</td>\n",
              "      <td>-0.075986</td>\n",
              "      <td>0.043017</td>\n",
              "      <td>-0.024873</td>\n",
              "      <td>0.046650</td>\n",
              "      <td>-0.024794</td>\n",
              "      <td>0.029031</td>\n",
              "      <td>-0.041052</td>\n",
              "      <td>0.005154</td>\n",
              "      <td>-0.028057</td>\n",
              "      <td>-0.021597</td>\n",
              "      <td>-0.023839</td>\n",
              "      <td>0.050467</td>\n",
              "      <td>0.045985</td>\n",
              "    </tr>\n",
              "  </tbody>\n",
              "</table>\n",
              "</div>"
            ],
            "text/plain": [
              "             TypeHabi  GeoFaz_Scl  ...  Onoma-Phase_Scl  Onoma-Phase_CL\n",
              "TypeHabi     1.000000   -0.273971  ...        -0.037657       -0.035870\n",
              "GeoFaz_Scl  -0.273971    1.000000  ...         0.052816        0.048651\n",
              "GeoFaz_cl   -0.279688    0.996889  ...         0.056230        0.051963\n",
              "ImmoFaz_Scl -0.135448    0.239715  ...         0.050098        0.045594\n",
              "ImmoFaz_cl  -0.132509    0.217566  ...         0.050467        0.045985\n",
              "\n",
              "[5 rows x 21 columns]"
            ]
          },
          "metadata": {
            "tags": []
          },
          "execution_count": 11
        }
      ]
    },
    {
      "cell_type": "code",
      "metadata": {
        "id": "4ByBoNRPZxuj",
        "colab": {
          "base_uri": "https://localhost:8080/"
        },
        "outputId": "28c96ecc-8c52-48db-a481-9c972c8ee829"
      },
      "source": [
        "# CORRELATION ENTRE VARIABLES\n",
        "variables_corr(tableau_corr, seuil= 0.90)"
      ],
      "execution_count": 12,
      "outputs": [
        {
          "output_type": "stream",
          "text": [
            "variable :  GeoFaz_Scl\n",
            "corr pos ['GeoFaz_cl']\n",
            "corr pos [1.0]\n",
            "\n",
            "variable :  ImmoFaz_Scl\n",
            "corr pos ['ImmoFaz_cl']\n",
            "corr pos [1.0]\n",
            "\n",
            "variable :  Prenom_Phase_scl_H\n",
            "corr pos ['Prenom_Phase_cl_H']\n",
            "corr pos [0.99]\n",
            "\n",
            "variable :  Prenom_Phase_scl_F\n",
            "corr pos ['Prenom_Phase_cl_F']\n",
            "corr pos [0.99]\n",
            "\n",
            "variable :  Onoma-Phase_Scl\n",
            "corr pos ['Onoma-Phase_CL']\n",
            "corr pos [0.99]\n",
            "\n"
          ],
          "name": "stdout"
        }
      ]
    },
    {
      "cell_type": "code",
      "metadata": {
        "id": "KE6W8_yDYTyl"
      },
      "source": [
        "##################################################################################################################"
      ],
      "execution_count": 13,
      "outputs": []
    },
    {
      "cell_type": "code",
      "metadata": {
        "id": "NH3xJH0dZlB4"
      },
      "source": [
        "\n",
        "\n",
        "def mod_pourcentage(df_test):\n",
        "    for ii in range(df_test.shape[1]):\n",
        "        temp_ctt =df_test.iloc[:,ii].value_counts(dropna=False)\n",
        "        temp_rest =pd.concat([temp_ctt,round(temp_ctt/df_test.shape[0]*100,2)], axis=1)\n",
        "        temp_rest.columns = [[temp_ctt.name, \"%\"]]\n",
        "        print(temp_rest); print(\"=\"*50)  \n",
        "\n",
        "\n",
        "\n",
        "def mod_pourcentage_seuil(df_test, seuil):\n",
        "    for ii in range(df_test.shape[1]):\n",
        "        temp_ctt =df_test.iloc[:,ii].value_counts(dropna=False)\n",
        "        temp_rest =pd.concat([temp_ctt,round(temp_ctt/df_test.shape[0]*100,2)], axis=1)\n",
        "        temp_rest.columns = [[temp_ctt.name, \"%\"]]\n",
        "        print(temp_rest); print(\"=\"*50)            \n",
        "        temp_index_sort = temp_rest[temp_rest.iloc[:,1]>seuil].index.sort_values()\n",
        "        \n",
        "        for j in range(temp_index_sort.shape[0]):\n",
        "            index_temp = temp_index_sort[j]\n",
        "            liste_nom_mod_filtr.append(temp_ctt.name+\"_\"+str(index_temp))\n",
        "    print(\"Taille : \",len(liste_nom_mod_filtr))\n",
        "    return liste_nom_mod_filtr"
      ],
      "execution_count": 14,
      "outputs": []
    },
    {
      "cell_type": "code",
      "metadata": {
        "id": "nDolzlvWjNrt"
      },
      "source": [
        ""
      ],
      "execution_count": 14,
      "outputs": []
    },
    {
      "cell_type": "code",
      "metadata": {
        "colab": {
          "base_uri": "https://localhost:8080/"
        },
        "id": "RcKannpFYUyQ",
        "outputId": "ac151965-d28e-4552-e9ef-d58a41709381"
      },
      "source": [
        "mod_pourcentage(data_sans_nan.iloc[:,1:])"
      ],
      "execution_count": 15,
      "outputs": [
        {
          "output_type": "stream",
          "text": [
            "  TypeHabi      %\n",
            "2    64089  64.54\n",
            "1    23604  23.77\n",
            "3    11536  11.62\n",
            "4       67   0.07\n",
            "==================================================\n",
            "   GeoFaz_Scl     %\n",
            "31       7459  7.51\n",
            "72       7077  7.13\n",
            "75       5941  5.98\n",
            "13       5437  5.48\n",
            "34       5262  5.30\n",
            "74       5158  5.19\n",
            "37       5109  5.15\n",
            "76       4623  4.66\n",
            "63       4579  4.61\n",
            "73       4481  4.51\n",
            "32       4443  4.47\n",
            "43       4338  4.37\n",
            "71       4041  4.07\n",
            "11       3696  3.72\n",
            "36       3027  3.05\n",
            "64       2708  2.73\n",
            "35       2596  2.61\n",
            "25       2493  2.51\n",
            "33       2210  2.23\n",
            "12       2155  2.17\n",
            "61       1596  1.61\n",
            "41       1555  1.57\n",
            "14       1526  1.54\n",
            "62       1042  1.05\n",
            "15        929  0.94\n",
            "46        798  0.80\n",
            "21        739  0.74\n",
            "22        718  0.72\n",
            "42        660  0.66\n",
            "24        629  0.63\n",
            "45        565  0.57\n",
            "23        497  0.50\n",
            "44        366  0.37\n",
            "51        347  0.35\n",
            "52        259  0.26\n",
            "81        174  0.18\n",
            "53         42  0.04\n",
            "54         21  0.02\n",
            "==================================================\n",
            "  GeoFaz_cl      %\n",
            "7     31321  31.54\n",
            "3     30106  30.32\n",
            "1     13743  13.84\n",
            "6      9925  10.00\n",
            "4      8282   8.34\n",
            "2      5076   5.11\n",
            "5       669   0.67\n",
            "8       174   0.18\n",
            "==================================================\n",
            "   ImmoFaz_Scl     %\n",
            "42        9281  9.35\n",
            "72        7149  7.20\n",
            "44        6378  6.42\n",
            "82        5793  5.83\n",
            "71        4891  4.93\n",
            "75        4776  4.81\n",
            "83        4488  4.52\n",
            "24        4443  4.47\n",
            "22        4423  4.45\n",
            "76        4336  4.37\n",
            "84        3837  3.86\n",
            "51        3632  3.66\n",
            "23        3616  3.64\n",
            "32        3334  3.36\n",
            "11        3247  3.27\n",
            "63        2725  2.74\n",
            "41        2610  2.63\n",
            "81        2566  2.58\n",
            "12        2529  2.55\n",
            "52        2430  2.45\n",
            "31        2176  2.19\n",
            "74        2040  2.05\n",
            "43        1647  1.66\n",
            "53        1464  1.47\n",
            "64        1219  1.23\n",
            "21        1090  1.10\n",
            "62        1027  1.03\n",
            "61         929  0.94\n",
            "73         687  0.69\n",
            "65         359  0.36\n",
            "91         174  0.18\n",
            "==================================================\n",
            "  ImmoFaz_cl      %\n",
            "7      23879  24.05\n",
            "4      19916  20.06\n",
            "8      16684  16.80\n",
            "2      13572  13.67\n",
            "5       7526   7.58\n",
            "6       6259   6.30\n",
            "1       5776   5.82\n",
            "3       5510   5.55\n",
            "9        174   0.18\n",
            "==================================================\n",
            "   Anciennete      %\n",
            "6       26330  26.52\n",
            "7       20380  20.52\n",
            "5       11906  11.99\n",
            "8        9424   9.49\n",
            "10       9168   9.23\n",
            "4        6743   6.79\n",
            "1        5166   5.20\n",
            "9        5119   5.16\n",
            "3        2665   2.68\n",
            "2        2335   2.35\n",
            "11         60   0.06\n",
            "==================================================\n",
            "   Logement_prix_m2     %\n",
            "2              7517  7.57\n",
            "7              7198  7.25\n",
            "3              6608  6.65\n",
            "1              6586  6.63\n",
            "5              6546  6.59\n",
            "9              5543  5.58\n",
            "16             5348  5.39\n",
            "10             5157  5.19\n",
            "18             4678  4.71\n",
            "11             4453  4.48\n",
            "12             4449  4.48\n",
            "4              4379  4.41\n",
            "13             4320  4.35\n",
            "20             3935  3.96\n",
            "6              3915  3.94\n",
            "14             3904  3.93\n",
            "19             3805  3.83\n",
            "17             3779  3.81\n",
            "15             3532  3.56\n",
            "8              3110  3.13\n",
            "21              534  0.54\n",
            "==================================================\n",
            "   Mediane_RFR      %\n",
            "21       11306  11.39\n",
            "20        9766   9.84\n",
            "19        9157   9.22\n",
            "18        6540   6.59\n",
            "17        5962   6.00\n",
            "16        5066   5.10\n",
            "14        4538   4.57\n",
            "15        4447   4.48\n",
            "13        4231   4.26\n",
            "11        4159   4.19\n",
            "10        3664   3.69\n",
            "12        3618   3.64\n",
            "8         3464   3.49\n",
            "6         3464   3.49\n",
            "2         3396   3.42\n",
            "7         3069   3.09\n",
            "5         2837   2.86\n",
            "1         2740   2.76\n",
            "4         2718   2.74\n",
            "3         2668   2.69\n",
            "9         2486   2.50\n",
            "==================================================\n",
            "    Sexe      %\n",
            "1  41652  41.95\n",
            "3  28424  28.63\n",
            "4  26295  26.48\n",
            "2   2311   2.33\n",
            "5    614   0.62\n",
            "==================================================\n",
            "   Prenom_Phase_scl_H      %\n",
            "71              40874  41.16\n",
            "51              19895  20.04\n",
            "33              11749  11.83\n",
            "65               9210   9.28\n",
            "66               6391   6.44\n",
            "32               2910   2.93\n",
            "54               1744   1.76\n",
            "55               1452   1.46\n",
            "52                884   0.89\n",
            "53                783   0.79\n",
            "64                640   0.64\n",
            "56                616   0.62\n",
            "45                546   0.55\n",
            "31                380   0.38\n",
            "44                345   0.35\n",
            "42                154   0.16\n",
            "24                116   0.12\n",
            "26                 82   0.08\n",
            "43                 78   0.08\n",
            "23                 77   0.08\n",
            "21                 65   0.07\n",
            "61                 56   0.06\n",
            "25                 49   0.05\n",
            "62                 42   0.04\n",
            "12                 40   0.04\n",
            "22                 30   0.03\n",
            "41                 25   0.03\n",
            "14                 23   0.02\n",
            "11                 22   0.02\n",
            "63                 16   0.02\n",
            "13                  2   0.00\n",
            "==================================================\n",
            "   Prenom_Phase_scl_F      %\n",
            "81              45567  45.89\n",
            "66              11932  12.02\n",
            "65               7798   7.85\n",
            "44               6651   6.70\n",
            "67               5415   5.45\n",
            "64               5305   5.34\n",
            "36               5042   5.08\n",
            "76               2178   2.19\n",
            "37               1972   1.99\n",
            "72               1190   1.20\n",
            "42                848   0.85\n",
            "74                696   0.70\n",
            "55                590   0.59\n",
            "73                461   0.46\n",
            "75                392   0.39\n",
            "63                384   0.39\n",
            "45                382   0.38\n",
            "52                355   0.36\n",
            "53                342   0.34\n",
            "43                325   0.33\n",
            "46                237   0.24\n",
            "41                218   0.22\n",
            "54                140   0.14\n",
            "22                112   0.11\n",
            "25                109   0.11\n",
            "62                 87   0.09\n",
            "38                 84   0.08\n",
            "24                 79   0.08\n",
            "23                 63   0.06\n",
            "61                 60   0.06\n",
            "33                 40   0.04\n",
            "21                 38   0.04\n",
            "51                 31   0.03\n",
            "31                 29   0.03\n",
            "13                 26   0.03\n",
            "35                 25   0.03\n",
            "14                 20   0.02\n",
            "71                 19   0.02\n",
            "17                 17   0.02\n",
            "34                 10   0.01\n",
            "12                  9   0.01\n",
            "11                  5   0.01\n",
            "32                  5   0.01\n",
            "15                  5   0.01\n",
            "16                  3   0.00\n",
            "==================================================\n",
            "  Prenom_Phase_cl_H      %\n",
            "7             40874  41.16\n",
            "5             25374  25.55\n",
            "6             16355  16.47\n",
            "3             15039  15.15\n",
            "4              1148   1.16\n",
            "2               419   0.42\n",
            "1                87   0.09\n",
            "==================================================\n",
            "  Prenom_Phase_cl_F      %\n",
            "8             45567  45.89\n",
            "6             30981  31.20\n",
            "4              8661   8.72\n",
            "3              7207   7.26\n",
            "7              4936   4.97\n",
            "5              1458   1.47\n",
            "2               401   0.40\n",
            "1                85   0.09\n",
            "==================================================\n",
            "    Age_H      %\n",
            "12  40832  41.12\n",
            "11  14024  14.12\n",
            "10  14001  14.10\n",
            "9   11016  11.09\n",
            "8    7511   7.56\n",
            "7    5282   5.32\n",
            "6    1989   2.00\n",
            "5    1716   1.73\n",
            "4    1456   1.47\n",
            "3     867   0.87\n",
            "2     482   0.49\n",
            "1     120   0.12\n",
            "==================================================\n",
            "    Age_F      %\n",
            "12  45532  45.85\n",
            "11  19224  19.36\n",
            "10  10769  10.85\n",
            "9    8670   8.73\n",
            "8    5362   5.40\n",
            "7    3677   3.70\n",
            "6    2166   2.18\n",
            "5    1445   1.46\n",
            "4    1060   1.07\n",
            "3     757   0.76\n",
            "2     515   0.52\n",
            "1     119   0.12\n",
            "==================================================\n",
            "   Affinite_1     %\n",
            "2        6776  6.82\n",
            "10       6715  6.76\n",
            "14       6411  6.46\n",
            "12       6012  6.05\n",
            "18       5762  5.80\n",
            "17       5696  5.74\n",
            "20       5307  5.34\n",
            "19       5248  5.29\n",
            "15       5126  5.16\n",
            "4        4743  4.78\n",
            "11       4640  4.67\n",
            "13       4482  4.51\n",
            "8        4385  4.42\n",
            "9        4307  4.34\n",
            "6        4268  4.30\n",
            "5        3869  3.90\n",
            "16       3681  3.71\n",
            "7        3368  3.39\n",
            "3        3192  3.21\n",
            "21       2676  2.69\n",
            "1        2632  2.65\n",
            "==================================================\n",
            "   Affinite_2     %\n",
            "13       6772  6.82\n",
            "10       6734  6.78\n",
            "11       6647  6.69\n",
            "15       6098  6.14\n",
            "7        5948  5.99\n",
            "12       5878  5.92\n",
            "20       5688  5.73\n",
            "8        5273  5.31\n",
            "17       5112  5.15\n",
            "6        5095  5.13\n",
            "4        4851  4.89\n",
            "16       4545  4.58\n",
            "14       4178  4.21\n",
            "9        4164  4.19\n",
            "19       4026  4.05\n",
            "5        3766  3.79\n",
            "18       3662  3.69\n",
            "3        3455  3.48\n",
            "2        2910  2.93\n",
            "21       2676  2.69\n",
            "1        1818  1.83\n",
            "==================================================\n",
            "  Prenom_effectif      %\n",
            "5           40529  40.82\n",
            "4           33346  33.58\n",
            "3           12199  12.29\n",
            "1            5341   5.38\n",
            "2            5208   5.24\n",
            "6            2673   2.69\n",
            "==================================================\n",
            "   Potentiel_prenom     %\n",
            "17             6989  7.04\n",
            "20             5687  5.73\n",
            "10             5481  5.52\n",
            "15             5439  5.48\n",
            "7              5191  5.23\n",
            "12             5178  5.21\n",
            "18             5113  5.15\n",
            "19             5082  5.12\n",
            "11             5033  5.07\n",
            "8              4997  5.03\n",
            "14             4848  4.88\n",
            "13             4830  4.86\n",
            "4              4817  4.85\n",
            "9              4753  4.79\n",
            "6              4627  4.66\n",
            "5              4348  4.38\n",
            "3              4028  4.06\n",
            "2              3909  3.94\n",
            "16             3557  3.58\n",
            "1              2711  2.73\n",
            "21             2678  2.70\n",
            "==================================================\n",
            "   Onoma-Phase_Scl      %\n",
            "13           16135  16.25\n",
            "11           15669  15.78\n",
            "22           10468  10.54\n",
            "21            7901   7.96\n",
            "12            5533   5.57\n",
            "17            5341   5.38\n",
            "61            4064   4.09\n",
            "34            3407   3.43\n",
            "15            3320   3.34\n",
            "31            3270   3.29\n",
            "37            3165   3.19\n",
            "23            2901   2.92\n",
            "18            2680   2.70\n",
            "36            2340   2.36\n",
            "38            1685   1.70\n",
            "41            1651   1.66\n",
            "14            1262   1.27\n",
            "16            1089   1.10\n",
            "32            1066   1.07\n",
            "47             669   0.67\n",
            "56             639   0.64\n",
            "42             578   0.58\n",
            "35             568   0.57\n",
            "44             567   0.57\n",
            "53             511   0.51\n",
            "33             470   0.47\n",
            "43             428   0.43\n",
            "54             409   0.41\n",
            "51             299   0.30\n",
            "57             287   0.29\n",
            "52             285   0.29\n",
            "55             237   0.24\n",
            "45             229   0.23\n",
            "48              93   0.09\n",
            "46              52   0.05\n",
            "58              28   0.03\n",
            "==================================================\n",
            "  Onoma-Phase_CL      %\n",
            "1          51029  51.39\n",
            "2          21270  21.42\n",
            "3          15971  16.08\n",
            "4           4267   4.30\n",
            "6           4064   4.09\n",
            "5           2695   2.71\n",
            "==================================================\n",
            "  Top_mon      %\n",
            "2   72568  73.08\n",
            "1   26728  26.92\n",
            "==================================================\n"
          ],
          "name": "stdout"
        }
      ]
    },
    {
      "cell_type": "code",
      "metadata": {
        "colab": {
          "base_uri": "https://localhost:8080/"
        },
        "id": "31a5iZBEhEL6",
        "outputId": "6cc2bb3a-05bd-4b7c-d94c-69fbc3142a66"
      },
      "source": [
        "# NOMBRE D'INDIVIDUS PAR MODALITE ET LE POURCENTAGE CORRESPONDANT\n",
        "liste_nom_mod_filtr = [] \n",
        "mod_pourcentage_seuil(data_sans_nan.iloc[:,1:-1], 5)"
      ],
      "execution_count": 16,
      "outputs": [
        {
          "output_type": "stream",
          "text": [
            "  TypeHabi      %\n",
            "2    64089  64.54\n",
            "1    23604  23.77\n",
            "3    11536  11.62\n",
            "4       67   0.07\n",
            "==================================================\n",
            "   GeoFaz_Scl     %\n",
            "31       7459  7.51\n",
            "72       7077  7.13\n",
            "75       5941  5.98\n",
            "13       5437  5.48\n",
            "34       5262  5.30\n",
            "74       5158  5.19\n",
            "37       5109  5.15\n",
            "76       4623  4.66\n",
            "63       4579  4.61\n",
            "73       4481  4.51\n",
            "32       4443  4.47\n",
            "43       4338  4.37\n",
            "71       4041  4.07\n",
            "11       3696  3.72\n",
            "36       3027  3.05\n",
            "64       2708  2.73\n",
            "35       2596  2.61\n",
            "25       2493  2.51\n",
            "33       2210  2.23\n",
            "12       2155  2.17\n",
            "61       1596  1.61\n",
            "41       1555  1.57\n",
            "14       1526  1.54\n",
            "62       1042  1.05\n",
            "15        929  0.94\n",
            "46        798  0.80\n",
            "21        739  0.74\n",
            "22        718  0.72\n",
            "42        660  0.66\n",
            "24        629  0.63\n",
            "45        565  0.57\n",
            "23        497  0.50\n",
            "44        366  0.37\n",
            "51        347  0.35\n",
            "52        259  0.26\n",
            "81        174  0.18\n",
            "53         42  0.04\n",
            "54         21  0.02\n",
            "==================================================\n",
            "  GeoFaz_cl      %\n",
            "7     31321  31.54\n",
            "3     30106  30.32\n",
            "1     13743  13.84\n",
            "6      9925  10.00\n",
            "4      8282   8.34\n",
            "2      5076   5.11\n",
            "5       669   0.67\n",
            "8       174   0.18\n",
            "==================================================\n",
            "   ImmoFaz_Scl     %\n",
            "42        9281  9.35\n",
            "72        7149  7.20\n",
            "44        6378  6.42\n",
            "82        5793  5.83\n",
            "71        4891  4.93\n",
            "75        4776  4.81\n",
            "83        4488  4.52\n",
            "24        4443  4.47\n",
            "22        4423  4.45\n",
            "76        4336  4.37\n",
            "84        3837  3.86\n",
            "51        3632  3.66\n",
            "23        3616  3.64\n",
            "32        3334  3.36\n",
            "11        3247  3.27\n",
            "63        2725  2.74\n",
            "41        2610  2.63\n",
            "81        2566  2.58\n",
            "12        2529  2.55\n",
            "52        2430  2.45\n",
            "31        2176  2.19\n",
            "74        2040  2.05\n",
            "43        1647  1.66\n",
            "53        1464  1.47\n",
            "64        1219  1.23\n",
            "21        1090  1.10\n",
            "62        1027  1.03\n",
            "61         929  0.94\n",
            "73         687  0.69\n",
            "65         359  0.36\n",
            "91         174  0.18\n",
            "==================================================\n",
            "  ImmoFaz_cl      %\n",
            "7      23879  24.05\n",
            "4      19916  20.06\n",
            "8      16684  16.80\n",
            "2      13572  13.67\n",
            "5       7526   7.58\n",
            "6       6259   6.30\n",
            "1       5776   5.82\n",
            "3       5510   5.55\n",
            "9        174   0.18\n",
            "==================================================\n",
            "   Anciennete      %\n",
            "6       26330  26.52\n",
            "7       20380  20.52\n",
            "5       11906  11.99\n",
            "8        9424   9.49\n",
            "10       9168   9.23\n",
            "4        6743   6.79\n",
            "1        5166   5.20\n",
            "9        5119   5.16\n",
            "3        2665   2.68\n",
            "2        2335   2.35\n",
            "11         60   0.06\n",
            "==================================================\n",
            "   Logement_prix_m2     %\n",
            "2              7517  7.57\n",
            "7              7198  7.25\n",
            "3              6608  6.65\n",
            "1              6586  6.63\n",
            "5              6546  6.59\n",
            "9              5543  5.58\n",
            "16             5348  5.39\n",
            "10             5157  5.19\n",
            "18             4678  4.71\n",
            "11             4453  4.48\n",
            "12             4449  4.48\n",
            "4              4379  4.41\n",
            "13             4320  4.35\n",
            "20             3935  3.96\n",
            "6              3915  3.94\n",
            "14             3904  3.93\n",
            "19             3805  3.83\n",
            "17             3779  3.81\n",
            "15             3532  3.56\n",
            "8              3110  3.13\n",
            "21              534  0.54\n",
            "==================================================\n",
            "   Mediane_RFR      %\n",
            "21       11306  11.39\n",
            "20        9766   9.84\n",
            "19        9157   9.22\n",
            "18        6540   6.59\n",
            "17        5962   6.00\n",
            "16        5066   5.10\n",
            "14        4538   4.57\n",
            "15        4447   4.48\n",
            "13        4231   4.26\n",
            "11        4159   4.19\n",
            "10        3664   3.69\n",
            "12        3618   3.64\n",
            "8         3464   3.49\n",
            "6         3464   3.49\n",
            "2         3396   3.42\n",
            "7         3069   3.09\n",
            "5         2837   2.86\n",
            "1         2740   2.76\n",
            "4         2718   2.74\n",
            "3         2668   2.69\n",
            "9         2486   2.50\n",
            "==================================================\n",
            "    Sexe      %\n",
            "1  41652  41.95\n",
            "3  28424  28.63\n",
            "4  26295  26.48\n",
            "2   2311   2.33\n",
            "5    614   0.62\n",
            "==================================================\n",
            "   Prenom_Phase_scl_H      %\n",
            "71              40874  41.16\n",
            "51              19895  20.04\n",
            "33              11749  11.83\n",
            "65               9210   9.28\n",
            "66               6391   6.44\n",
            "32               2910   2.93\n",
            "54               1744   1.76\n",
            "55               1452   1.46\n",
            "52                884   0.89\n",
            "53                783   0.79\n",
            "64                640   0.64\n",
            "56                616   0.62\n",
            "45                546   0.55\n",
            "31                380   0.38\n",
            "44                345   0.35\n",
            "42                154   0.16\n",
            "24                116   0.12\n",
            "26                 82   0.08\n",
            "43                 78   0.08\n",
            "23                 77   0.08\n",
            "21                 65   0.07\n",
            "61                 56   0.06\n",
            "25                 49   0.05\n",
            "62                 42   0.04\n",
            "12                 40   0.04\n",
            "22                 30   0.03\n",
            "41                 25   0.03\n",
            "14                 23   0.02\n",
            "11                 22   0.02\n",
            "63                 16   0.02\n",
            "13                  2   0.00\n",
            "==================================================\n",
            "   Prenom_Phase_scl_F      %\n",
            "81              45567  45.89\n",
            "66              11932  12.02\n",
            "65               7798   7.85\n",
            "44               6651   6.70\n",
            "67               5415   5.45\n",
            "64               5305   5.34\n",
            "36               5042   5.08\n",
            "76               2178   2.19\n",
            "37               1972   1.99\n",
            "72               1190   1.20\n",
            "42                848   0.85\n",
            "74                696   0.70\n",
            "55                590   0.59\n",
            "73                461   0.46\n",
            "75                392   0.39\n",
            "63                384   0.39\n",
            "45                382   0.38\n",
            "52                355   0.36\n",
            "53                342   0.34\n",
            "43                325   0.33\n",
            "46                237   0.24\n",
            "41                218   0.22\n",
            "54                140   0.14\n",
            "22                112   0.11\n",
            "25                109   0.11\n",
            "62                 87   0.09\n",
            "38                 84   0.08\n",
            "24                 79   0.08\n",
            "23                 63   0.06\n",
            "61                 60   0.06\n",
            "33                 40   0.04\n",
            "21                 38   0.04\n",
            "51                 31   0.03\n",
            "31                 29   0.03\n",
            "13                 26   0.03\n",
            "35                 25   0.03\n",
            "14                 20   0.02\n",
            "71                 19   0.02\n",
            "17                 17   0.02\n",
            "34                 10   0.01\n",
            "12                  9   0.01\n",
            "11                  5   0.01\n",
            "32                  5   0.01\n",
            "15                  5   0.01\n",
            "16                  3   0.00\n",
            "==================================================\n",
            "  Prenom_Phase_cl_H      %\n",
            "7             40874  41.16\n",
            "5             25374  25.55\n",
            "6             16355  16.47\n",
            "3             15039  15.15\n",
            "4              1148   1.16\n",
            "2               419   0.42\n",
            "1                87   0.09\n",
            "==================================================\n",
            "  Prenom_Phase_cl_F      %\n",
            "8             45567  45.89\n",
            "6             30981  31.20\n",
            "4              8661   8.72\n",
            "3              7207   7.26\n",
            "7              4936   4.97\n",
            "5              1458   1.47\n",
            "2               401   0.40\n",
            "1                85   0.09\n",
            "==================================================\n",
            "    Age_H      %\n",
            "12  40832  41.12\n",
            "11  14024  14.12\n",
            "10  14001  14.10\n",
            "9   11016  11.09\n",
            "8    7511   7.56\n",
            "7    5282   5.32\n",
            "6    1989   2.00\n",
            "5    1716   1.73\n",
            "4    1456   1.47\n",
            "3     867   0.87\n",
            "2     482   0.49\n",
            "1     120   0.12\n",
            "==================================================\n",
            "    Age_F      %\n",
            "12  45532  45.85\n",
            "11  19224  19.36\n",
            "10  10769  10.85\n",
            "9    8670   8.73\n",
            "8    5362   5.40\n",
            "7    3677   3.70\n",
            "6    2166   2.18\n",
            "5    1445   1.46\n",
            "4    1060   1.07\n",
            "3     757   0.76\n",
            "2     515   0.52\n",
            "1     119   0.12\n",
            "==================================================\n",
            "   Affinite_1     %\n",
            "2        6776  6.82\n",
            "10       6715  6.76\n",
            "14       6411  6.46\n",
            "12       6012  6.05\n",
            "18       5762  5.80\n",
            "17       5696  5.74\n",
            "20       5307  5.34\n",
            "19       5248  5.29\n",
            "15       5126  5.16\n",
            "4        4743  4.78\n",
            "11       4640  4.67\n",
            "13       4482  4.51\n",
            "8        4385  4.42\n",
            "9        4307  4.34\n",
            "6        4268  4.30\n",
            "5        3869  3.90\n",
            "16       3681  3.71\n",
            "7        3368  3.39\n",
            "3        3192  3.21\n",
            "21       2676  2.69\n",
            "1        2632  2.65\n",
            "==================================================\n",
            "   Affinite_2     %\n",
            "13       6772  6.82\n",
            "10       6734  6.78\n",
            "11       6647  6.69\n",
            "15       6098  6.14\n",
            "7        5948  5.99\n",
            "12       5878  5.92\n",
            "20       5688  5.73\n",
            "8        5273  5.31\n",
            "17       5112  5.15\n",
            "6        5095  5.13\n",
            "4        4851  4.89\n",
            "16       4545  4.58\n",
            "14       4178  4.21\n",
            "9        4164  4.19\n",
            "19       4026  4.05\n",
            "5        3766  3.79\n",
            "18       3662  3.69\n",
            "3        3455  3.48\n",
            "2        2910  2.93\n",
            "21       2676  2.69\n",
            "1        1818  1.83\n",
            "==================================================\n",
            "  Prenom_effectif      %\n",
            "5           40529  40.82\n",
            "4           33346  33.58\n",
            "3           12199  12.29\n",
            "1            5341   5.38\n",
            "2            5208   5.24\n",
            "6            2673   2.69\n",
            "==================================================\n",
            "   Potentiel_prenom     %\n",
            "17             6989  7.04\n",
            "20             5687  5.73\n",
            "10             5481  5.52\n",
            "15             5439  5.48\n",
            "7              5191  5.23\n",
            "12             5178  5.21\n",
            "18             5113  5.15\n",
            "19             5082  5.12\n",
            "11             5033  5.07\n",
            "8              4997  5.03\n",
            "14             4848  4.88\n",
            "13             4830  4.86\n",
            "4              4817  4.85\n",
            "9              4753  4.79\n",
            "6              4627  4.66\n",
            "5              4348  4.38\n",
            "3              4028  4.06\n",
            "2              3909  3.94\n",
            "16             3557  3.58\n",
            "1              2711  2.73\n",
            "21             2678  2.70\n",
            "==================================================\n",
            "   Onoma-Phase_Scl      %\n",
            "13           16135  16.25\n",
            "11           15669  15.78\n",
            "22           10468  10.54\n",
            "21            7901   7.96\n",
            "12            5533   5.57\n",
            "17            5341   5.38\n",
            "61            4064   4.09\n",
            "34            3407   3.43\n",
            "15            3320   3.34\n",
            "31            3270   3.29\n",
            "37            3165   3.19\n",
            "23            2901   2.92\n",
            "18            2680   2.70\n",
            "36            2340   2.36\n",
            "38            1685   1.70\n",
            "41            1651   1.66\n",
            "14            1262   1.27\n",
            "16            1089   1.10\n",
            "32            1066   1.07\n",
            "47             669   0.67\n",
            "56             639   0.64\n",
            "42             578   0.58\n",
            "35             568   0.57\n",
            "44             567   0.57\n",
            "53             511   0.51\n",
            "33             470   0.47\n",
            "43             428   0.43\n",
            "54             409   0.41\n",
            "51             299   0.30\n",
            "57             287   0.29\n",
            "52             285   0.29\n",
            "55             237   0.24\n",
            "45             229   0.23\n",
            "48              93   0.09\n",
            "46              52   0.05\n",
            "58              28   0.03\n",
            "==================================================\n",
            "  Onoma-Phase_CL      %\n",
            "1          51029  51.39\n",
            "2          21270  21.42\n",
            "3          15971  16.08\n",
            "4           4267   4.30\n",
            "6           4064   4.09\n",
            "5           2695   2.71\n",
            "==================================================\n",
            "Taille :  127\n"
          ],
          "name": "stdout"
        },
        {
          "output_type": "execute_result",
          "data": {
            "text/plain": [
              "['TypeHabi_1',\n",
              " 'TypeHabi_2',\n",
              " 'TypeHabi_3',\n",
              " 'GeoFaz_Scl_13',\n",
              " 'GeoFaz_Scl_31',\n",
              " 'GeoFaz_Scl_34',\n",
              " 'GeoFaz_Scl_37',\n",
              " 'GeoFaz_Scl_72',\n",
              " 'GeoFaz_Scl_74',\n",
              " 'GeoFaz_Scl_75',\n",
              " 'GeoFaz_cl_1',\n",
              " 'GeoFaz_cl_2',\n",
              " 'GeoFaz_cl_3',\n",
              " 'GeoFaz_cl_4',\n",
              " 'GeoFaz_cl_6',\n",
              " 'GeoFaz_cl_7',\n",
              " 'ImmoFaz_Scl_42',\n",
              " 'ImmoFaz_Scl_44',\n",
              " 'ImmoFaz_Scl_72',\n",
              " 'ImmoFaz_Scl_82',\n",
              " 'ImmoFaz_cl_1',\n",
              " 'ImmoFaz_cl_2',\n",
              " 'ImmoFaz_cl_3',\n",
              " 'ImmoFaz_cl_4',\n",
              " 'ImmoFaz_cl_5',\n",
              " 'ImmoFaz_cl_6',\n",
              " 'ImmoFaz_cl_7',\n",
              " 'ImmoFaz_cl_8',\n",
              " 'Anciennete_1',\n",
              " 'Anciennete_4',\n",
              " 'Anciennete_5',\n",
              " 'Anciennete_6',\n",
              " 'Anciennete_7',\n",
              " 'Anciennete_8',\n",
              " 'Anciennete_9',\n",
              " 'Anciennete_10',\n",
              " 'Logement_prix_m2_1',\n",
              " 'Logement_prix_m2_2',\n",
              " 'Logement_prix_m2_3',\n",
              " 'Logement_prix_m2_5',\n",
              " 'Logement_prix_m2_7',\n",
              " 'Logement_prix_m2_9',\n",
              " 'Logement_prix_m2_10',\n",
              " 'Logement_prix_m2_16',\n",
              " 'Mediane_RFR_16',\n",
              " 'Mediane_RFR_17',\n",
              " 'Mediane_RFR_18',\n",
              " 'Mediane_RFR_19',\n",
              " 'Mediane_RFR_20',\n",
              " 'Mediane_RFR_21',\n",
              " 'Sexe_1',\n",
              " 'Sexe_3',\n",
              " 'Sexe_4',\n",
              " 'Prenom_Phase_scl_H_33',\n",
              " 'Prenom_Phase_scl_H_51',\n",
              " 'Prenom_Phase_scl_H_65',\n",
              " 'Prenom_Phase_scl_H_66',\n",
              " 'Prenom_Phase_scl_H_71',\n",
              " 'Prenom_Phase_scl_F_36',\n",
              " 'Prenom_Phase_scl_F_44',\n",
              " 'Prenom_Phase_scl_F_64',\n",
              " 'Prenom_Phase_scl_F_65',\n",
              " 'Prenom_Phase_scl_F_66',\n",
              " 'Prenom_Phase_scl_F_67',\n",
              " 'Prenom_Phase_scl_F_81',\n",
              " 'Prenom_Phase_cl_H_3',\n",
              " 'Prenom_Phase_cl_H_5',\n",
              " 'Prenom_Phase_cl_H_6',\n",
              " 'Prenom_Phase_cl_H_7',\n",
              " 'Prenom_Phase_cl_F_3',\n",
              " 'Prenom_Phase_cl_F_4',\n",
              " 'Prenom_Phase_cl_F_6',\n",
              " 'Prenom_Phase_cl_F_8',\n",
              " 'Age_H_7',\n",
              " 'Age_H_8',\n",
              " 'Age_H_9',\n",
              " 'Age_H_10',\n",
              " 'Age_H_11',\n",
              " 'Age_H_12',\n",
              " 'Age_F_8',\n",
              " 'Age_F_9',\n",
              " 'Age_F_10',\n",
              " 'Age_F_11',\n",
              " 'Age_F_12',\n",
              " 'Affinite_1_2',\n",
              " 'Affinite_1_10',\n",
              " 'Affinite_1_12',\n",
              " 'Affinite_1_14',\n",
              " 'Affinite_1_15',\n",
              " 'Affinite_1_17',\n",
              " 'Affinite_1_18',\n",
              " 'Affinite_1_19',\n",
              " 'Affinite_1_20',\n",
              " 'Affinite_2_6',\n",
              " 'Affinite_2_7',\n",
              " 'Affinite_2_8',\n",
              " 'Affinite_2_10',\n",
              " 'Affinite_2_11',\n",
              " 'Affinite_2_12',\n",
              " 'Affinite_2_13',\n",
              " 'Affinite_2_15',\n",
              " 'Affinite_2_17',\n",
              " 'Affinite_2_20',\n",
              " 'Prenom_effectif_1',\n",
              " 'Prenom_effectif_2',\n",
              " 'Prenom_effectif_3',\n",
              " 'Prenom_effectif_4',\n",
              " 'Prenom_effectif_5',\n",
              " 'Potentiel_prenom_7',\n",
              " 'Potentiel_prenom_8',\n",
              " 'Potentiel_prenom_10',\n",
              " 'Potentiel_prenom_11',\n",
              " 'Potentiel_prenom_12',\n",
              " 'Potentiel_prenom_15',\n",
              " 'Potentiel_prenom_17',\n",
              " 'Potentiel_prenom_18',\n",
              " 'Potentiel_prenom_19',\n",
              " 'Potentiel_prenom_20',\n",
              " 'Onoma-Phase_Scl_11',\n",
              " 'Onoma-Phase_Scl_12',\n",
              " 'Onoma-Phase_Scl_13',\n",
              " 'Onoma-Phase_Scl_17',\n",
              " 'Onoma-Phase_Scl_21',\n",
              " 'Onoma-Phase_Scl_22',\n",
              " 'Onoma-Phase_CL_1',\n",
              " 'Onoma-Phase_CL_2',\n",
              " 'Onoma-Phase_CL_3']"
            ]
          },
          "metadata": {
            "tags": []
          },
          "execution_count": 16
        }
      ]
    },
    {
      "cell_type": "code",
      "metadata": {
        "id": "hZQUksGeYVpu"
      },
      "source": [
        "########################################################################################################\n",
        "#                                           SANS VARIABLES CORR\n",
        "########################################################################################################"
      ],
      "execution_count": 17,
      "outputs": []
    },
    {
      "cell_type": "code",
      "metadata": {
        "colab": {
          "base_uri": "https://localhost:8080/",
          "height": 174
        },
        "id": "m9UKJvu5rhgi",
        "outputId": "b367126b-1809-4572-dbff-ef9dadfd3513"
      },
      "source": [
        "# test predict individus sans classe\n",
        "data = data_orig.copy()\n",
        "\n",
        "# on élimine les variables dons\n",
        "data=data.drop([\"GeoFaz_cl\", \"ImmoFaz_Scl\", \"ImmoFaz_cl\", \"Prenom_Phase_cl_H\", \"Prenom_Phase_cl_F\",\n",
        "                \"Onoma-Phase_Scl\", \"Onoma-Phase_CL\"],axis=1)\n",
        "\n",
        "data_data = data.copy()\n",
        "\n",
        "# encodage Onehot sur toutes les données (on évite ainsi les erreurs futures)\n",
        "nb_var = data.shape[1] - 1\n",
        "data_1_22 = pd.get_dummies(data.iloc[:,1:(data.shape[1]-1)], columns=data.columns[1:(data.shape[1]-1)] )\n",
        "data_var_qualitatives_temp =  pd.concat([data[\"IDENT\"], data_1_22, data[\"Top_mon\"]], axis=1)\n",
        "data = data_var_qualitatives_temp\n",
        "#encodage = OneHotEncoder()\n",
        "#encodage.fit(data_processing(data.iloc[:,1:nb_var]))\n",
        "\n",
        "# élimination des individus n'ayant pas de valeur pour la varialbe Top_mon\n",
        "\"\"\"IMPORTANT\"\"\"\n",
        "data_sans_nan = data[(data.isnull()).sum(axis=1) == 0]\n",
        "\n",
        "#conversion du type de variable\n",
        "for i in range(1,data_sans_nan.shape[1]):\n",
        "    data_sans_nan.iloc[:,i]=data_sans_nan.iloc[:,i].astype(int)\n",
        "\"\"\"\n",
        "# base de données avec des variables corrélées et avec encodage OneHot\n",
        "data =data_sans_nan\n",
        "\n",
        "nb_var = data.shape[1] - 1\n",
        "train_set, test_set = train_test_split(data, test_size = 0.2, random_state=0 )\n",
        "\n",
        "train_X_s = (train_set.iloc[:,1:nb_var]).to_numpy()\n",
        "train_Y_s = np.asanyarray(train_set.iloc[:,nb_var])\n",
        "\n",
        "test_X_s = (test_set.iloc[:,1:nb_var]).to_numpy()\n",
        "test_Y_s = np.asanyarray(test_set.iloc[:,nb_var])\n",
        "\"\"\""
      ],
      "execution_count": 18,
      "outputs": [
        {
          "output_type": "stream",
          "text": [
            "/usr/local/lib/python3.7/dist-packages/pandas/core/indexing.py:1743: SettingWithCopyWarning: \n",
            "A value is trying to be set on a copy of a slice from a DataFrame.\n",
            "Try using .loc[row_indexer,col_indexer] = value instead\n",
            "\n",
            "See the caveats in the documentation: https://pandas.pydata.org/pandas-docs/stable/user_guide/indexing.html#returning-a-view-versus-a-copy\n",
            "  isetter(ilocs[0], value)\n"
          ],
          "name": "stderr"
        },
        {
          "output_type": "execute_result",
          "data": {
            "application/vnd.google.colaboratory.intrinsic+json": {
              "type": "string"
            },
            "text/plain": [
              "'\\n# base de données avec des variables corrélées et avec encodage OneHot\\ndata =data_sans_nan\\n\\nnb_var = data.shape[1] - 1\\ntrain_set, test_set = train_test_split(data, test_size = 0.2, random_state=0 )\\n\\ntrain_X_s = (train_set.iloc[:,1:nb_var]).to_numpy()\\ntrain_Y_s = np.asanyarray(train_set.iloc[:,nb_var])\\n\\ntest_X_s = (test_set.iloc[:,1:nb_var]).to_numpy()\\ntest_Y_s = np.asanyarray(test_set.iloc[:,nb_var])\\n'"
            ]
          },
          "metadata": {
            "tags": []
          },
          "execution_count": 18
        }
      ]
    },
    {
      "cell_type": "code",
      "metadata": {
        "colab": {
          "base_uri": "https://localhost:8080/",
          "height": 255
        },
        "id": "gzqhoo4YuwYM",
        "outputId": "a50386f4-9b2a-47a7-f4c7-5eb78e8c1c62"
      },
      "source": [
        "# tableau de corrélation \n",
        "tableau_corr = data_sans_nan.iloc[:,1:-1].corr()\n",
        "tableau_corr.head(5) "
      ],
      "execution_count": 19,
      "outputs": [
        {
          "output_type": "execute_result",
          "data": {
            "text/html": [
              "<div>\n",
              "<style scoped>\n",
              "    .dataframe tbody tr th:only-of-type {\n",
              "        vertical-align: middle;\n",
              "    }\n",
              "\n",
              "    .dataframe tbody tr th {\n",
              "        vertical-align: top;\n",
              "    }\n",
              "\n",
              "    .dataframe thead th {\n",
              "        text-align: right;\n",
              "    }\n",
              "</style>\n",
              "<table border=\"1\" class=\"dataframe\">\n",
              "  <thead>\n",
              "    <tr style=\"text-align: right;\">\n",
              "      <th></th>\n",
              "      <th>TypeHabi_01</th>\n",
              "      <th>TypeHabi_02</th>\n",
              "      <th>TypeHabi_03</th>\n",
              "      <th>TypeHabi_04</th>\n",
              "      <th>GeoFaz_Scl_11</th>\n",
              "      <th>GeoFaz_Scl_12</th>\n",
              "      <th>GeoFaz_Scl_13</th>\n",
              "      <th>GeoFaz_Scl_14</th>\n",
              "      <th>GeoFaz_Scl_15</th>\n",
              "      <th>GeoFaz_Scl_21</th>\n",
              "      <th>GeoFaz_Scl_22</th>\n",
              "      <th>GeoFaz_Scl_23</th>\n",
              "      <th>GeoFaz_Scl_24</th>\n",
              "      <th>GeoFaz_Scl_25</th>\n",
              "      <th>GeoFaz_Scl_31</th>\n",
              "      <th>GeoFaz_Scl_32</th>\n",
              "      <th>GeoFaz_Scl_33</th>\n",
              "      <th>GeoFaz_Scl_34</th>\n",
              "      <th>GeoFaz_Scl_35</th>\n",
              "      <th>GeoFaz_Scl_36</th>\n",
              "      <th>GeoFaz_Scl_37</th>\n",
              "      <th>GeoFaz_Scl_41</th>\n",
              "      <th>GeoFaz_Scl_42</th>\n",
              "      <th>GeoFaz_Scl_43</th>\n",
              "      <th>GeoFaz_Scl_44</th>\n",
              "      <th>GeoFaz_Scl_45</th>\n",
              "      <th>GeoFaz_Scl_46</th>\n",
              "      <th>GeoFaz_Scl_51</th>\n",
              "      <th>GeoFaz_Scl_52</th>\n",
              "      <th>GeoFaz_Scl_53</th>\n",
              "      <th>GeoFaz_Scl_54</th>\n",
              "      <th>GeoFaz_Scl_61</th>\n",
              "      <th>GeoFaz_Scl_62</th>\n",
              "      <th>GeoFaz_Scl_63</th>\n",
              "      <th>GeoFaz_Scl_64</th>\n",
              "      <th>GeoFaz_Scl_71</th>\n",
              "      <th>GeoFaz_Scl_72</th>\n",
              "      <th>GeoFaz_Scl_73</th>\n",
              "      <th>GeoFaz_Scl_74</th>\n",
              "      <th>GeoFaz_Scl_75</th>\n",
              "      <th>...</th>\n",
              "      <th>Affinite_2_09</th>\n",
              "      <th>Affinite_2_10</th>\n",
              "      <th>Affinite_2_11</th>\n",
              "      <th>Affinite_2_12</th>\n",
              "      <th>Affinite_2_13</th>\n",
              "      <th>Affinite_2_14</th>\n",
              "      <th>Affinite_2_15</th>\n",
              "      <th>Affinite_2_16</th>\n",
              "      <th>Affinite_2_17</th>\n",
              "      <th>Affinite_2_18</th>\n",
              "      <th>Affinite_2_19</th>\n",
              "      <th>Affinite_2_20</th>\n",
              "      <th>Affinite_2_21</th>\n",
              "      <th>Prenom_effectif_01</th>\n",
              "      <th>Prenom_effectif_02</th>\n",
              "      <th>Prenom_effectif_03</th>\n",
              "      <th>Prenom_effectif_04</th>\n",
              "      <th>Prenom_effectif_05</th>\n",
              "      <th>Prenom_effectif_06</th>\n",
              "      <th>Potentiel_prenom_01</th>\n",
              "      <th>Potentiel_prenom_02</th>\n",
              "      <th>Potentiel_prenom_03</th>\n",
              "      <th>Potentiel_prenom_04</th>\n",
              "      <th>Potentiel_prenom_05</th>\n",
              "      <th>Potentiel_prenom_06</th>\n",
              "      <th>Potentiel_prenom_07</th>\n",
              "      <th>Potentiel_prenom_08</th>\n",
              "      <th>Potentiel_prenom_09</th>\n",
              "      <th>Potentiel_prenom_10</th>\n",
              "      <th>Potentiel_prenom_11</th>\n",
              "      <th>Potentiel_prenom_12</th>\n",
              "      <th>Potentiel_prenom_13</th>\n",
              "      <th>Potentiel_prenom_14</th>\n",
              "      <th>Potentiel_prenom_15</th>\n",
              "      <th>Potentiel_prenom_16</th>\n",
              "      <th>Potentiel_prenom_17</th>\n",
              "      <th>Potentiel_prenom_18</th>\n",
              "      <th>Potentiel_prenom_19</th>\n",
              "      <th>Potentiel_prenom_20</th>\n",
              "      <th>Potentiel_prenom_21</th>\n",
              "    </tr>\n",
              "  </thead>\n",
              "  <tbody>\n",
              "    <tr>\n",
              "      <th>TypeHabi_01</th>\n",
              "      <td>1.000000</td>\n",
              "      <td>-0.753434</td>\n",
              "      <td>-0.202464</td>\n",
              "      <td>-0.014511</td>\n",
              "      <td>-0.102552</td>\n",
              "      <td>-0.049890</td>\n",
              "      <td>-0.129412</td>\n",
              "      <td>-0.068804</td>\n",
              "      <td>-0.053777</td>\n",
              "      <td>-0.048356</td>\n",
              "      <td>-0.047379</td>\n",
              "      <td>-0.039272</td>\n",
              "      <td>-0.044289</td>\n",
              "      <td>-0.088406</td>\n",
              "      <td>-0.083752</td>\n",
              "      <td>-0.090992</td>\n",
              "      <td>-0.072385</td>\n",
              "      <td>-0.094714</td>\n",
              "      <td>-0.084084</td>\n",
              "      <td>-0.092829</td>\n",
              "      <td>-0.127060</td>\n",
              "      <td>-0.069674</td>\n",
              "      <td>-0.045097</td>\n",
              "      <td>-0.088916</td>\n",
              "      <td>-0.033185</td>\n",
              "      <td>-0.042244</td>\n",
              "      <td>-0.048144</td>\n",
              "      <td>-0.033069</td>\n",
              "      <td>-0.028557</td>\n",
              "      <td>-0.003433</td>\n",
              "      <td>0.013029</td>\n",
              "      <td>0.110921</td>\n",
              "      <td>-0.038006</td>\n",
              "      <td>0.090186</td>\n",
              "      <td>0.095762</td>\n",
              "      <td>0.204198</td>\n",
              "      <td>0.190505</td>\n",
              "      <td>0.299489</td>\n",
              "      <td>0.145933</td>\n",
              "      <td>0.082069</td>\n",
              "      <td>...</td>\n",
              "      <td>-0.028308</td>\n",
              "      <td>0.009714</td>\n",
              "      <td>0.000655</td>\n",
              "      <td>0.005285</td>\n",
              "      <td>-0.010492</td>\n",
              "      <td>0.021781</td>\n",
              "      <td>-0.006265</td>\n",
              "      <td>0.003803</td>\n",
              "      <td>-0.005481</td>\n",
              "      <td>-0.008725</td>\n",
              "      <td>-0.004562</td>\n",
              "      <td>-0.003575</td>\n",
              "      <td>0.039574</td>\n",
              "      <td>0.042406</td>\n",
              "      <td>0.010929</td>\n",
              "      <td>-0.000927</td>\n",
              "      <td>0.004619</td>\n",
              "      <td>-0.041314</td>\n",
              "      <td>0.039700</td>\n",
              "      <td>0.041311</td>\n",
              "      <td>0.013964</td>\n",
              "      <td>0.024523</td>\n",
              "      <td>0.029394</td>\n",
              "      <td>0.022363</td>\n",
              "      <td>0.003715</td>\n",
              "      <td>-0.000528</td>\n",
              "      <td>-0.005720</td>\n",
              "      <td>0.023178</td>\n",
              "      <td>0.010162</td>\n",
              "      <td>-0.015467</td>\n",
              "      <td>-0.012757</td>\n",
              "      <td>-0.011675</td>\n",
              "      <td>0.012028</td>\n",
              "      <td>-0.011949</td>\n",
              "      <td>-0.030494</td>\n",
              "      <td>-0.034071</td>\n",
              "      <td>-0.017709</td>\n",
              "      <td>-0.027920</td>\n",
              "      <td>-0.021267</td>\n",
              "      <td>0.039490</td>\n",
              "    </tr>\n",
              "    <tr>\n",
              "      <th>TypeHabi_02</th>\n",
              "      <td>-0.753434</td>\n",
              "      <td>1.000000</td>\n",
              "      <td>-0.489166</td>\n",
              "      <td>-0.035059</td>\n",
              "      <td>0.115930</td>\n",
              "      <td>0.050436</td>\n",
              "      <td>0.153125</td>\n",
              "      <td>0.085409</td>\n",
              "      <td>0.064375</td>\n",
              "      <td>0.061486</td>\n",
              "      <td>0.057789</td>\n",
              "      <td>0.046304</td>\n",
              "      <td>0.052810</td>\n",
              "      <td>0.111811</td>\n",
              "      <td>0.072018</td>\n",
              "      <td>0.086994</td>\n",
              "      <td>0.080287</td>\n",
              "      <td>0.092633</td>\n",
              "      <td>0.087269</td>\n",
              "      <td>0.112937</td>\n",
              "      <td>0.148608</td>\n",
              "      <td>0.088739</td>\n",
              "      <td>0.058297</td>\n",
              "      <td>0.093118</td>\n",
              "      <td>0.042997</td>\n",
              "      <td>0.055229</td>\n",
              "      <td>0.060583</td>\n",
              "      <td>0.041038</td>\n",
              "      <td>0.036665</td>\n",
              "      <td>-0.001135</td>\n",
              "      <td>-0.013832</td>\n",
              "      <td>-0.108496</td>\n",
              "      <td>0.039761</td>\n",
              "      <td>-0.104434</td>\n",
              "      <td>-0.099632</td>\n",
              "      <td>-0.208212</td>\n",
              "      <td>-0.196197</td>\n",
              "      <td>-0.284892</td>\n",
              "      <td>-0.199039</td>\n",
              "      <td>-0.131680</td>\n",
              "      <td>...</td>\n",
              "      <td>0.024725</td>\n",
              "      <td>-0.017361</td>\n",
              "      <td>-0.000859</td>\n",
              "      <td>-0.004359</td>\n",
              "      <td>0.007944</td>\n",
              "      <td>-0.019884</td>\n",
              "      <td>0.008167</td>\n",
              "      <td>-0.002568</td>\n",
              "      <td>0.004529</td>\n",
              "      <td>0.007084</td>\n",
              "      <td>0.006562</td>\n",
              "      <td>0.001338</td>\n",
              "      <td>-0.034214</td>\n",
              "      <td>-0.045749</td>\n",
              "      <td>-0.015054</td>\n",
              "      <td>-0.002414</td>\n",
              "      <td>-0.004263</td>\n",
              "      <td>0.044855</td>\n",
              "      <td>-0.034371</td>\n",
              "      <td>-0.038596</td>\n",
              "      <td>-0.013532</td>\n",
              "      <td>-0.021535</td>\n",
              "      <td>-0.032341</td>\n",
              "      <td>-0.021949</td>\n",
              "      <td>-0.005735</td>\n",
              "      <td>-0.002123</td>\n",
              "      <td>0.002770</td>\n",
              "      <td>-0.026797</td>\n",
              "      <td>-0.011396</td>\n",
              "      <td>0.014735</td>\n",
              "      <td>0.008706</td>\n",
              "      <td>0.010428</td>\n",
              "      <td>-0.014269</td>\n",
              "      <td>0.016606</td>\n",
              "      <td>0.026415</td>\n",
              "      <td>0.037946</td>\n",
              "      <td>0.021042</td>\n",
              "      <td>0.032281</td>\n",
              "      <td>0.021691</td>\n",
              "      <td>-0.034109</td>\n",
              "    </tr>\n",
              "    <tr>\n",
              "      <th>TypeHabi_03</th>\n",
              "      <td>-0.202464</td>\n",
              "      <td>-0.489166</td>\n",
              "      <td>1.000000</td>\n",
              "      <td>-0.009421</td>\n",
              "      <td>-0.036424</td>\n",
              "      <td>-0.008706</td>\n",
              "      <td>-0.056178</td>\n",
              "      <td>-0.035842</td>\n",
              "      <td>-0.024461</td>\n",
              "      <td>-0.027372</td>\n",
              "      <td>-0.023152</td>\n",
              "      <td>-0.016808</td>\n",
              "      <td>-0.019837</td>\n",
              "      <td>-0.049143</td>\n",
              "      <td>0.004344</td>\n",
              "      <td>-0.008540</td>\n",
              "      <td>-0.023383</td>\n",
              "      <td>-0.011971</td>\n",
              "      <td>-0.018239</td>\n",
              "      <td>-0.044912</td>\n",
              "      <td>-0.052574</td>\n",
              "      <td>-0.039655</td>\n",
              "      <td>-0.027337</td>\n",
              "      <td>-0.020447</td>\n",
              "      <td>-0.019978</td>\n",
              "      <td>-0.026173</td>\n",
              "      <td>-0.026298</td>\n",
              "      <td>-0.017742</td>\n",
              "      <td>-0.016692</td>\n",
              "      <td>0.006298</td>\n",
              "      <td>0.003372</td>\n",
              "      <td>0.014890</td>\n",
              "      <td>-0.008654</td>\n",
              "      <td>0.036567</td>\n",
              "      <td>0.021880</td>\n",
              "      <td>0.040008</td>\n",
              "      <td>0.040044</td>\n",
              "      <td>0.027919</td>\n",
              "      <td>0.103775</td>\n",
              "      <td>0.088093</td>\n",
              "      <td>...</td>\n",
              "      <td>0.000350</td>\n",
              "      <td>0.013207</td>\n",
              "      <td>0.000851</td>\n",
              "      <td>-0.000119</td>\n",
              "      <td>0.002274</td>\n",
              "      <td>0.000878</td>\n",
              "      <td>-0.003986</td>\n",
              "      <td>-0.001057</td>\n",
              "      <td>0.000725</td>\n",
              "      <td>0.001260</td>\n",
              "      <td>-0.003622</td>\n",
              "      <td>0.002864</td>\n",
              "      <td>-0.001920</td>\n",
              "      <td>0.011074</td>\n",
              "      <td>0.008028</td>\n",
              "      <td>0.004571</td>\n",
              "      <td>0.000794</td>\n",
              "      <td>-0.011930</td>\n",
              "      <td>-0.001853</td>\n",
              "      <td>0.002322</td>\n",
              "      <td>0.001755</td>\n",
              "      <td>-0.000950</td>\n",
              "      <td>0.009563</td>\n",
              "      <td>0.003204</td>\n",
              "      <td>0.003794</td>\n",
              "      <td>0.004225</td>\n",
              "      <td>0.003373</td>\n",
              "      <td>0.009099</td>\n",
              "      <td>0.003747</td>\n",
              "      <td>-0.001250</td>\n",
              "      <td>0.003595</td>\n",
              "      <td>-0.000313</td>\n",
              "      <td>0.004925</td>\n",
              "      <td>-0.008687</td>\n",
              "      <td>0.000804</td>\n",
              "      <td>-0.011054</td>\n",
              "      <td>-0.007682</td>\n",
              "      <td>-0.011041</td>\n",
              "      <td>-0.004018</td>\n",
              "      <td>-0.001964</td>\n",
              "    </tr>\n",
              "    <tr>\n",
              "      <th>TypeHabi_04</th>\n",
              "      <td>-0.014511</td>\n",
              "      <td>-0.035059</td>\n",
              "      <td>-0.009421</td>\n",
              "      <td>1.000000</td>\n",
              "      <td>-0.005109</td>\n",
              "      <td>-0.003870</td>\n",
              "      <td>-0.006254</td>\n",
              "      <td>-0.003246</td>\n",
              "      <td>-0.002525</td>\n",
              "      <td>-0.002250</td>\n",
              "      <td>-0.002218</td>\n",
              "      <td>-0.001843</td>\n",
              "      <td>-0.002075</td>\n",
              "      <td>-0.004170</td>\n",
              "      <td>-0.007405</td>\n",
              "      <td>-0.005624</td>\n",
              "      <td>-0.003920</td>\n",
              "      <td>-0.006147</td>\n",
              "      <td>-0.004258</td>\n",
              "      <td>-0.004608</td>\n",
              "      <td>-0.006052</td>\n",
              "      <td>-0.003278</td>\n",
              "      <td>0.002647</td>\n",
              "      <td>-0.005554</td>\n",
              "      <td>-0.001581</td>\n",
              "      <td>-0.001966</td>\n",
              "      <td>-0.002339</td>\n",
              "      <td>0.005033</td>\n",
              "      <td>-0.001329</td>\n",
              "      <td>-0.000535</td>\n",
              "      <td>-0.000378</td>\n",
              "      <td>-0.003321</td>\n",
              "      <td>-0.002676</td>\n",
              "      <td>-0.005713</td>\n",
              "      <td>-0.004351</td>\n",
              "      <td>-0.005352</td>\n",
              "      <td>-0.002676</td>\n",
              "      <td>-0.005649</td>\n",
              "      <td>-0.006082</td>\n",
              "      <td>-0.006555</td>\n",
              "      <td>...</td>\n",
              "      <td>0.004238</td>\n",
              "      <td>-0.002381</td>\n",
              "      <td>-0.005408</td>\n",
              "      <td>-0.004875</td>\n",
              "      <td>-0.002414</td>\n",
              "      <td>-0.001582</td>\n",
              "      <td>0.001430</td>\n",
              "      <td>-0.001980</td>\n",
              "      <td>-0.002544</td>\n",
              "      <td>-0.003027</td>\n",
              "      <td>-0.001409</td>\n",
              "      <td>-0.001399</td>\n",
              "      <td>0.005255</td>\n",
              "      <td>0.010996</td>\n",
              "      <td>-0.000894</td>\n",
              "      <td>0.003271</td>\n",
              "      <td>-0.006980</td>\n",
              "      <td>-0.001852</td>\n",
              "      <td>0.005263</td>\n",
              "      <td>0.005166</td>\n",
              "      <td>-0.001272</td>\n",
              "      <td>0.006452</td>\n",
              "      <td>-0.004062</td>\n",
              "      <td>-0.001770</td>\n",
              "      <td>-0.002065</td>\n",
              "      <td>-0.004361</td>\n",
              "      <td>0.001115</td>\n",
              "      <td>0.001440</td>\n",
              "      <td>-0.002884</td>\n",
              "      <td>-0.002468</td>\n",
              "      <td>0.004372</td>\n",
              "      <td>0.003139</td>\n",
              "      <td>0.004911</td>\n",
              "      <td>-0.002846</td>\n",
              "      <td>0.003339</td>\n",
              "      <td>-0.004118</td>\n",
              "      <td>-0.002545</td>\n",
              "      <td>-0.000755</td>\n",
              "      <td>-0.001398</td>\n",
              "      <td>0.005250</td>\n",
              "    </tr>\n",
              "    <tr>\n",
              "      <th>GeoFaz_Scl_11</th>\n",
              "      <td>-0.102552</td>\n",
              "      <td>0.115930</td>\n",
              "      <td>-0.036424</td>\n",
              "      <td>-0.005109</td>\n",
              "      <td>1.000000</td>\n",
              "      <td>-0.029286</td>\n",
              "      <td>-0.047324</td>\n",
              "      <td>-0.024565</td>\n",
              "      <td>-0.019108</td>\n",
              "      <td>-0.017026</td>\n",
              "      <td>-0.016781</td>\n",
              "      <td>-0.013946</td>\n",
              "      <td>-0.015699</td>\n",
              "      <td>-0.031554</td>\n",
              "      <td>-0.056036</td>\n",
              "      <td>-0.042555</td>\n",
              "      <td>-0.029666</td>\n",
              "      <td>-0.046513</td>\n",
              "      <td>-0.032216</td>\n",
              "      <td>-0.034866</td>\n",
              "      <td>-0.045794</td>\n",
              "      <td>-0.024801</td>\n",
              "      <td>-0.016084</td>\n",
              "      <td>-0.042026</td>\n",
              "      <td>-0.011960</td>\n",
              "      <td>-0.014874</td>\n",
              "      <td>-0.017698</td>\n",
              "      <td>-0.011644</td>\n",
              "      <td>-0.010055</td>\n",
              "      <td>-0.004045</td>\n",
              "      <td>-0.002860</td>\n",
              "      <td>-0.025131</td>\n",
              "      <td>-0.020249</td>\n",
              "      <td>-0.043232</td>\n",
              "      <td>-0.032923</td>\n",
              "      <td>-0.040498</td>\n",
              "      <td>-0.054469</td>\n",
              "      <td>-0.042745</td>\n",
              "      <td>-0.046025</td>\n",
              "      <td>-0.049602</td>\n",
              "      <td>...</td>\n",
              "      <td>0.000798</td>\n",
              "      <td>-0.006697</td>\n",
              "      <td>0.004808</td>\n",
              "      <td>0.003203</td>\n",
              "      <td>0.001041</td>\n",
              "      <td>-0.005701</td>\n",
              "      <td>-0.000217</td>\n",
              "      <td>-0.004881</td>\n",
              "      <td>-0.012104</td>\n",
              "      <td>-0.001780</td>\n",
              "      <td>-0.005356</td>\n",
              "      <td>-0.008864</td>\n",
              "      <td>-0.001185</td>\n",
              "      <td>-0.008207</td>\n",
              "      <td>-0.000203</td>\n",
              "      <td>-0.007304</td>\n",
              "      <td>-0.002727</td>\n",
              "      <td>0.011736</td>\n",
              "      <td>-0.001149</td>\n",
              "      <td>-0.001276</td>\n",
              "      <td>-0.006976</td>\n",
              "      <td>-0.005644</td>\n",
              "      <td>-0.004531</td>\n",
              "      <td>0.001081</td>\n",
              "      <td>-0.008134</td>\n",
              "      <td>-0.008657</td>\n",
              "      <td>0.004137</td>\n",
              "      <td>-0.006707</td>\n",
              "      <td>0.001394</td>\n",
              "      <td>0.000160</td>\n",
              "      <td>-0.004723</td>\n",
              "      <td>-0.001430</td>\n",
              "      <td>0.001369</td>\n",
              "      <td>0.002700</td>\n",
              "      <td>0.000458</td>\n",
              "      <td>0.008705</td>\n",
              "      <td>0.002331</td>\n",
              "      <td>0.014204</td>\n",
              "      <td>0.008315</td>\n",
              "      <td>-0.001209</td>\n",
              "    </tr>\n",
              "  </tbody>\n",
              "</table>\n",
              "<p>5 rows × 269 columns</p>\n",
              "</div>"
            ],
            "text/plain": [
              "               TypeHabi_01  ...  Potentiel_prenom_21\n",
              "TypeHabi_01       1.000000  ...             0.039490\n",
              "TypeHabi_02      -0.753434  ...            -0.034109\n",
              "TypeHabi_03      -0.202464  ...            -0.001964\n",
              "TypeHabi_04      -0.014511  ...             0.005250\n",
              "GeoFaz_Scl_11    -0.102552  ...            -0.001209\n",
              "\n",
              "[5 rows x 269 columns]"
            ]
          },
          "metadata": {
            "tags": []
          },
          "execution_count": 19
        }
      ]
    },
    {
      "cell_type": "code",
      "metadata": {
        "colab": {
          "base_uri": "https://localhost:8080/"
        },
        "id": "TCnM44I5uwxC",
        "outputId": "ba619c5c-6c3f-4330-fe14-183ec54c80c4"
      },
      "source": [
        "# CORRELATION ENTRE VARIABLES\n",
        "variables_corr(tableau_corr, seuil= 0.90)"
      ],
      "execution_count": 20,
      "outputs": [
        {
          "output_type": "stream",
          "text": [
            "variable :  TypeHabi_04\n",
            "corr pos ['Anciennete_11']\n",
            "corr pos [0.91]\n",
            "\n",
            "variable :  Prenom_Phase_scl_H_71\n",
            "corr pos ['Age_H_12']\n",
            "corr pos [1.0]\n",
            "\n",
            "variable :  Prenom_Phase_scl_F_81\n",
            "corr pos ['Age_F_12']\n",
            "corr pos [1.0]\n",
            "\n",
            "variable :  Affinite_1_21\n",
            "corr pos ['Affinite_2_21', 'Prenom_effectif_06', 'Potentiel_prenom_21']\n",
            "corr pos [1.0, 1.0, 1.0]\n",
            "\n",
            "variable :  Affinite_2_21\n",
            "corr pos ['Prenom_effectif_06', 'Potentiel_prenom_21']\n",
            "corr pos [1.0, 1.0]\n",
            "\n",
            "variable :  Prenom_effectif_06\n",
            "corr pos ['Potentiel_prenom_21']\n",
            "corr pos [1.0]\n",
            "\n"
          ],
          "name": "stdout"
        }
      ]
    },
    {
      "cell_type": "code",
      "metadata": {
        "colab": {
          "base_uri": "https://localhost:8080/"
        },
        "id": "XK_cRnr6xCcv",
        "outputId": "57b1140f-1680-4fe0-e6a5-0bc4e544b4a4"
      },
      "source": [
        "# NOMBRE D'INDIVIDUS PAR MODALITE ET LE POURCENTAGE CORRESPONDANT\n",
        "liste_nom_mod_filtr = [] \n",
        "liste_util = mod_pourcentage_seuil(data_data.iloc[:,1:-1], 5)"
      ],
      "execution_count": 21,
      "outputs": [
        {
          "output_type": "stream",
          "text": [
            "   TypeHabi      %\n",
            "02   787631  66.07\n",
            "01   270543  22.69\n",
            "03   133334  11.18\n",
            "04      672   0.06\n",
            "==================================================\n",
            "   GeoFaz_Scl     %\n",
            "31      99428  8.34\n",
            "72      95047  7.97\n",
            "13      67889  5.69\n",
            "75      65711  5.51\n",
            "74      63139  5.30\n",
            "34      62424  5.24\n",
            "37      58766  4.93\n",
            "73      55540  4.66\n",
            "43      54106  4.54\n",
            "76      53115  4.46\n",
            "32      52139  4.37\n",
            "11      51143  4.29\n",
            "71      50323  4.22\n",
            "63      47298  3.97\n",
            "36      35798  3.00\n",
            "64      30008  2.52\n",
            "12      29541  2.48\n",
            "35      28379  2.38\n",
            "25      27630  2.32\n",
            "33      25993  2.18\n",
            "41      19125  1.60\n",
            "14      17798  1.49\n",
            "61      14980  1.26\n",
            "62      10842  0.91\n",
            "15      10486  0.88\n",
            "46       8667  0.73\n",
            "21       8018  0.67\n",
            "22       7891  0.66\n",
            "42       7864  0.66\n",
            "24       6855  0.57\n",
            "45       6057  0.51\n",
            "23       5613  0.47\n",
            "44       4296  0.36\n",
            "51       3631  0.30\n",
            "81       3199  0.27\n",
            "52       2645  0.22\n",
            "53        616  0.05\n",
            "54        180  0.02\n",
            "==================================================\n",
            "   Anciennete      %\n",
            "06     319899  26.83\n",
            "07     251636  21.11\n",
            "05     139188  11.68\n",
            "08     117031   9.82\n",
            "10     109786   9.21\n",
            "04      83162   6.98\n",
            "09      61511   5.16\n",
            "01      54940   4.61\n",
            "03      29749   2.50\n",
            "02      24693   2.07\n",
            "11        585   0.05\n",
            "==================================================\n",
            "   Logement_prix_m2     %\n",
            "07            84883  7.12\n",
            "02            84256  7.07\n",
            "05            76165  6.39\n",
            "01            74957  6.29\n",
            "03            74527  6.25\n",
            "16            66876  5.61\n",
            "09            65559  5.50\n",
            "18            60806  5.10\n",
            "10            60063  5.04\n",
            "12            54604  4.58\n",
            "11            52888  4.44\n",
            "13            52843  4.43\n",
            "19            52123  4.37\n",
            "04            50740  4.26\n",
            "20            50468  4.23\n",
            "14            49850  4.18\n",
            "17            48287  4.05\n",
            "06            44520  3.73\n",
            "15            44511  3.73\n",
            "08            36814  3.09\n",
            "21             6440  0.54\n",
            "==================================================\n",
            "   Mediane_RFR      %\n",
            "21      143489  12.04\n",
            "20      142698  11.97\n",
            "19      119063   9.99\n",
            "18       82600   6.93\n",
            "17       72257   6.06\n",
            "16       59701   5.01\n",
            "14       51671   4.33\n",
            "15       50726   4.25\n",
            "13       48406   4.06\n",
            "11       47167   3.96\n",
            "10       40552   3.40\n",
            "12       40323   3.38\n",
            "08       39770   3.34\n",
            "06       39665   3.33\n",
            "02       34502   2.89\n",
            "07       34119   2.86\n",
            "05       31587   2.65\n",
            "04       29531   2.48\n",
            "03       29310   2.46\n",
            "09       28728   2.41\n",
            "01       26315   2.21\n",
            "==================================================\n",
            "      Sexe      %\n",
            "01  544316  45.66\n",
            "03  420231  35.25\n",
            "04  192528  16.15\n",
            "02   17835   1.50\n",
            "05   17270   1.45\n",
            "==================================================\n",
            "   Prenom_Phase_scl_H      %\n",
            "71             526890  44.20\n",
            "51             230713  19.35\n",
            "33             133425  11.19\n",
            "65             102600   8.61\n",
            "66              78946   6.62\n",
            "32              30916   2.59\n",
            "54              17464   1.46\n",
            "55              15984   1.34\n",
            "52              10156   0.85\n",
            "53               8168   0.69\n",
            "64               7265   0.61\n",
            "56               6544   0.55\n",
            "45               5858   0.49\n",
            "31               4939   0.41\n",
            "44               3018   0.25\n",
            "42               1429   0.12\n",
            "24               1265   0.11\n",
            "23               1059   0.09\n",
            "61                953   0.08\n",
            "43                892   0.07\n",
            "26                710   0.06\n",
            "21                585   0.05\n",
            "25                446   0.04\n",
            "12                442   0.04\n",
            "62                395   0.03\n",
            "22                271   0.02\n",
            "63                235   0.02\n",
            "14                210   0.02\n",
            "41                183   0.02\n",
            "11                177   0.01\n",
            "13                 42   0.00\n",
            "==================================================\n",
            "   Prenom_Phase_scl_F      %\n",
            "81             493048  41.36\n",
            "66             163826  13.74\n",
            "65             108787   9.13\n",
            "44              79089   6.63\n",
            "67              77036   6.46\n",
            "64              70316   5.90\n",
            "36              67217   5.64\n",
            "76              26525   2.22\n",
            "37              22994   1.93\n",
            "72              13794   1.16\n",
            "42               9711   0.81\n",
            "74               7740   0.65\n",
            "55               6211   0.52\n",
            "73               5648   0.47\n",
            "63               5084   0.43\n",
            "45               4215   0.35\n",
            "43               4013   0.34\n",
            "52               3704   0.31\n",
            "53               3508   0.29\n",
            "75               3438   0.29\n",
            "46               2812   0.24\n",
            "41               2684   0.23\n",
            "54               1397   0.12\n",
            "62               1142   0.10\n",
            "25               1063   0.09\n",
            "22                996   0.08\n",
            "61                932   0.08\n",
            "38                902   0.08\n",
            "23                856   0.07\n",
            "24                656   0.06\n",
            "35                400   0.03\n",
            "21                359   0.03\n",
            "33                351   0.03\n",
            "31                279   0.02\n",
            "71                277   0.02\n",
            "13                258   0.02\n",
            "14                186   0.02\n",
            "51                182   0.02\n",
            "17                178   0.01\n",
            "34                105   0.01\n",
            "12                 91   0.01\n",
            "32                 62   0.01\n",
            "15                 49   0.00\n",
            "11                 30   0.00\n",
            "16                 29   0.00\n",
            "==================================================\n",
            "     Age_H      %\n",
            "12  526494  44.16\n",
            "11  165634  13.89\n",
            "10  163717  13.73\n",
            "09  125368  10.52\n",
            "08   84748   7.11\n",
            "07   57213   4.80\n",
            "06   20523   1.72\n",
            "05   16239   1.36\n",
            "04   15766   1.32\n",
            "03    9369   0.79\n",
            "02    5767   0.48\n",
            "01    1342   0.11\n",
            "==================================================\n",
            "     Age_F      %\n",
            "12  492685  41.33\n",
            "11  263689  22.12\n",
            "10  145407  12.20\n",
            "09  115156   9.66\n",
            "08   65308   5.48\n",
            "07   42088   3.53\n",
            "06   24728   2.07\n",
            "05   16387   1.37\n",
            "04   11629   0.98\n",
            "03    8042   0.67\n",
            "02    5935   0.50\n",
            "01    1126   0.09\n",
            "==================================================\n",
            "   Affinite_1     %\n",
            "02      85882  7.20\n",
            "14      81354  6.82\n",
            "10      81298  6.82\n",
            "12      73578  6.17\n",
            "17      70403  5.91\n",
            "18      69407  5.82\n",
            "19      64318  5.39\n",
            "15      64018  5.37\n",
            "20      58067  4.87\n",
            "04      56545  4.74\n",
            "11      55120  4.62\n",
            "13      54703  4.59\n",
            "08      52289  4.39\n",
            "09      51903  4.35\n",
            "06      51330  4.31\n",
            "05      43742  3.67\n",
            "16      43423  3.64\n",
            "07      39496  3.31\n",
            "03      36366  3.05\n",
            "01      30524  2.56\n",
            "21      28414  2.38\n",
            "==================================================\n",
            "   Affinite_2     %\n",
            "10      90315  7.58\n",
            "11      85057  7.13\n",
            "13      84168  7.06\n",
            "15      74858  6.28\n",
            "12      73424  6.16\n",
            "07      70491  5.91\n",
            "20      65850  5.52\n",
            "08      63244  5.30\n",
            "17      61067  5.12\n",
            "06      60312  5.06\n",
            "16      57080  4.79\n",
            "14      53311  4.47\n",
            "04      53021  4.45\n",
            "09      49923  4.19\n",
            "19      47488  3.98\n",
            "18      43721  3.67\n",
            "05      42863  3.60\n",
            "03      36920  3.10\n",
            "02      30487  2.56\n",
            "21      28416  2.38\n",
            "01      20164  1.69\n",
            "==================================================\n",
            "   Prenom_effectif      %\n",
            "05          472868  39.66\n",
            "04          422000  35.40\n",
            "03          151213  12.68\n",
            "02           60039   5.04\n",
            "01           57680   4.84\n",
            "06           28380   2.38\n",
            "==================================================\n",
            "   Potentiel_prenom     %\n",
            "17            78087  6.55\n",
            "10            74209  6.22\n",
            "07            66982  5.62\n",
            "04            64219  5.39\n",
            "20            63457  5.32\n",
            "09            62360  5.23\n",
            "11            61548  5.16\n",
            "14            61473  5.16\n",
            "15            59796  5.02\n",
            "12            58482  4.91\n",
            "06            58120  4.88\n",
            "13            57979  4.86\n",
            "08            57431  4.82\n",
            "18            57232  4.80\n",
            "19            55267  4.64\n",
            "05            55230  4.63\n",
            "03            54246  4.55\n",
            "02            48017  4.03\n",
            "16            40697  3.41\n",
            "01            28915  2.43\n",
            "21            28433  2.38\n",
            "==================================================\n",
            "Taille :  87\n"
          ],
          "name": "stdout"
        }
      ]
    },
    {
      "cell_type": "code",
      "metadata": {
        "colab": {
          "base_uri": "https://localhost:8080/"
        },
        "id": "Fh2Ct1qSN50D",
        "outputId": "31694f5b-0919-4f62-b202-ef45a04a4f54"
      },
      "source": [
        "# AU MOINS 5% DES INDIVIDUS ONT CES MODALITES\n",
        "liste_util"
      ],
      "execution_count": 22,
      "outputs": [
        {
          "output_type": "execute_result",
          "data": {
            "text/plain": [
              "['TypeHabi_01',\n",
              " 'TypeHabi_02',\n",
              " 'TypeHabi_03',\n",
              " 'GeoFaz_Scl_13',\n",
              " 'GeoFaz_Scl_31',\n",
              " 'GeoFaz_Scl_34',\n",
              " 'GeoFaz_Scl_72',\n",
              " 'GeoFaz_Scl_74',\n",
              " 'GeoFaz_Scl_75',\n",
              " 'Anciennete_04',\n",
              " 'Anciennete_05',\n",
              " 'Anciennete_06',\n",
              " 'Anciennete_07',\n",
              " 'Anciennete_08',\n",
              " 'Anciennete_09',\n",
              " 'Anciennete_10',\n",
              " 'Logement_prix_m2_01',\n",
              " 'Logement_prix_m2_02',\n",
              " 'Logement_prix_m2_03',\n",
              " 'Logement_prix_m2_05',\n",
              " 'Logement_prix_m2_07',\n",
              " 'Logement_prix_m2_09',\n",
              " 'Logement_prix_m2_10',\n",
              " 'Logement_prix_m2_16',\n",
              " 'Logement_prix_m2_18',\n",
              " 'Mediane_RFR_16',\n",
              " 'Mediane_RFR_17',\n",
              " 'Mediane_RFR_18',\n",
              " 'Mediane_RFR_19',\n",
              " 'Mediane_RFR_20',\n",
              " 'Mediane_RFR_21',\n",
              " 'Sexe_01',\n",
              " 'Sexe_03',\n",
              " 'Sexe_04',\n",
              " 'Prenom_Phase_scl_H_33',\n",
              " 'Prenom_Phase_scl_H_51',\n",
              " 'Prenom_Phase_scl_H_65',\n",
              " 'Prenom_Phase_scl_H_66',\n",
              " 'Prenom_Phase_scl_H_71',\n",
              " 'Prenom_Phase_scl_F_36',\n",
              " 'Prenom_Phase_scl_F_44',\n",
              " 'Prenom_Phase_scl_F_64',\n",
              " 'Prenom_Phase_scl_F_65',\n",
              " 'Prenom_Phase_scl_F_66',\n",
              " 'Prenom_Phase_scl_F_67',\n",
              " 'Prenom_Phase_scl_F_81',\n",
              " 'Age_H_08',\n",
              " 'Age_H_09',\n",
              " 'Age_H_10',\n",
              " 'Age_H_11',\n",
              " 'Age_H_12',\n",
              " 'Age_F_08',\n",
              " 'Age_F_09',\n",
              " 'Age_F_10',\n",
              " 'Age_F_11',\n",
              " 'Age_F_12',\n",
              " 'Affinite_1_02',\n",
              " 'Affinite_1_10',\n",
              " 'Affinite_1_12',\n",
              " 'Affinite_1_14',\n",
              " 'Affinite_1_15',\n",
              " 'Affinite_1_17',\n",
              " 'Affinite_1_18',\n",
              " 'Affinite_1_19',\n",
              " 'Affinite_2_06',\n",
              " 'Affinite_2_07',\n",
              " 'Affinite_2_08',\n",
              " 'Affinite_2_10',\n",
              " 'Affinite_2_11',\n",
              " 'Affinite_2_12',\n",
              " 'Affinite_2_13',\n",
              " 'Affinite_2_15',\n",
              " 'Affinite_2_17',\n",
              " 'Affinite_2_20',\n",
              " 'Prenom_effectif_02',\n",
              " 'Prenom_effectif_03',\n",
              " 'Prenom_effectif_04',\n",
              " 'Prenom_effectif_05',\n",
              " 'Potentiel_prenom_04',\n",
              " 'Potentiel_prenom_07',\n",
              " 'Potentiel_prenom_09',\n",
              " 'Potentiel_prenom_10',\n",
              " 'Potentiel_prenom_11',\n",
              " 'Potentiel_prenom_14',\n",
              " 'Potentiel_prenom_15',\n",
              " 'Potentiel_prenom_17',\n",
              " 'Potentiel_prenom_20']"
            ]
          },
          "metadata": {
            "tags": []
          },
          "execution_count": 22
        }
      ]
    },
    {
      "cell_type": "code",
      "metadata": {
        "id": "qrMx6arFN7kp"
      },
      "source": [
        "################################################################################################################\n",
        "#\n",
        "################################################################################################################"
      ],
      "execution_count": 23,
      "outputs": []
    },
    {
      "cell_type": "code",
      "metadata": {
        "colab": {
          "base_uri": "https://localhost:8080/"
        },
        "id": "jZEAtS1UUaCZ",
        "outputId": "3aa9272d-201b-4568-8d02-32e75c7d5da3"
      },
      "source": [
        "2619/4965"
      ],
      "execution_count": 31,
      "outputs": [
        {
          "output_type": "execute_result",
          "data": {
            "text/plain": [
              "0.5274924471299094"
            ]
          },
          "metadata": {
            "tags": []
          },
          "execution_count": 31
        }
      ]
    },
    {
      "cell_type": "code",
      "metadata": {
        "id": "6jVEle_MUaE0"
      },
      "source": [
        ""
      ],
      "execution_count": null,
      "outputs": []
    },
    {
      "cell_type": "code",
      "metadata": {
        "id": "VIdoAGFYUaGl"
      },
      "source": [
        ""
      ],
      "execution_count": 259,
      "outputs": []
    },
    {
      "cell_type": "code",
      "metadata": {
        "id": "LnkLTzAoMJjR"
      },
      "source": [
        "[72092,  9936],\n",
        "       [49979, 20127]"
      ],
      "execution_count": null,
      "outputs": []
    },
    {
      "cell_type": "code",
      "metadata": {
        "id": "RL9nuwe3PWG8",
        "colab": {
          "base_uri": "https://localhost:8080/"
        },
        "outputId": "f7ca23b3-639b-422e-964e-cafe8fe503ea"
      },
      "source": [
        "72092/(72092+9936)*100"
      ],
      "execution_count": 17,
      "outputs": [
        {
          "output_type": "execute_result",
          "data": {
            "text/plain": [
              "87.88706295411323"
            ]
          },
          "metadata": {
            "tags": []
          },
          "execution_count": 17
        }
      ]
    },
    {
      "cell_type": "code",
      "metadata": {
        "colab": {
          "base_uri": "https://localhost:8080/"
        },
        "id": "T8H0I_ozaTAX",
        "outputId": "47265c48-34d0-4b58-f6e9-932fd6fe9cc8"
      },
      "source": [
        "20127/(9979+20127)*100"
      ],
      "execution_count": 18,
      "outputs": [
        {
          "output_type": "execute_result",
          "data": {
            "text/plain": [
              "66.85378329901016"
            ]
          },
          "metadata": {
            "tags": []
          },
          "execution_count": 18
        }
      ]
    },
    {
      "cell_type": "code",
      "metadata": {
        "colab": {
          "base_uri": "https://localhost:8080/"
        },
        "id": "57kdalPnagZY",
        "outputId": "64d113d7-9198-4967-f114-8bef5ca0f2bb"
      },
      "source": [
        "72092/(72092+49979)*100"
      ],
      "execution_count": 20,
      "outputs": [
        {
          "output_type": "execute_result",
          "data": {
            "text/plain": [
              "59.0574337885329"
            ]
          },
          "metadata": {
            "tags": []
          },
          "execution_count": 20
        }
      ]
    },
    {
      "cell_type": "code",
      "metadata": {
        "colab": {
          "base_uri": "https://localhost:8080/"
        },
        "id": "Mhaux-P8aj9e",
        "outputId": "46a5f0af-7d60-4c3f-c5df-abf7dfaddcc9"
      },
      "source": [
        "20127/(9936+20127)*100\n"
      ],
      "execution_count": 21,
      "outputs": [
        {
          "output_type": "execute_result",
          "data": {
            "text/plain": [
              "66.94940624688155"
            ]
          },
          "metadata": {
            "tags": []
          },
          "execution_count": 21
        }
      ]
    },
    {
      "cell_type": "code",
      "metadata": {
        "id": "Qm2IjTy5Jo-t"
      },
      "source": [
        ""
      ],
      "execution_count": 33,
      "outputs": []
    },
    {
      "cell_type": "code",
      "metadata": {
        "id": "lAjmg_CfJwNG"
      },
      "source": [
        ""
      ],
      "execution_count": null,
      "outputs": []
    }
  ]
}