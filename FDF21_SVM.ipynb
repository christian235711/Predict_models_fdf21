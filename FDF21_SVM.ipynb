{
  "nbformat": 4,
  "nbformat_minor": 5,
  "metadata": {
    "colab": {
      "name": "FDF21_SVM.ipynb",
      "provenance": [],
      "collapsed_sections": []
    },
    "kernelspec": {
      "display_name": "Python 3",
      "language": "python",
      "name": "python3"
    },
    "language_info": {
      "codemirror_mode": {
        "name": "ipython",
        "version": 3
      },
      "file_extension": ".py",
      "mimetype": "text/x-python",
      "name": "python",
      "nbconvert_exporter": "python",
      "pygments_lexer": "ipython3",
      "version": "3.8.8"
    }
  },
  "cells": [
    {
      "cell_type": "code",
      "metadata": {
        "colab": {
          "base_uri": "https://localhost:8080/"
        },
        "id": "46d1b569",
        "outputId": "0b85775a-686f-4b62-99b1-14e1641e8b1d"
      },
      "source": [
        "import numpy as np\n",
        "import pandas as pd\n",
        "import seaborn as sns\n",
        "import matplotlib.pyplot as plt\n",
        "import sklearn\n",
        "\n",
        "from sklearn.svm import LinearSVC, SVC\n",
        "\n",
        "from sklearn.metrics import f1_score, confusion_matrix, classification_report, confusion_matrix\n",
        "from sklearn.model_selection import train_test_split, learning_curve, GridSearchCV, RandomizedSearchCV\n",
        "\n",
        "from sklearn.preprocessing import OneHotEncoder\n",
        "\n",
        "from google.colab import drive\n",
        "drive.mount('/content/drive')"
      ],
      "id": "46d1b569",
      "execution_count": 1,
      "outputs": [
        {
          "output_type": "stream",
          "text": [
            "Mounted at /content/drive\n"
          ],
          "name": "stdout"
        }
      ]
    },
    {
      "cell_type": "code",
      "metadata": {
        "id": "CzxckN1fQpZU"
      },
      "source": [
        "#import warnings\n",
        "#warnings.filterwarnings(\"ignore\")"
      ],
      "id": "CzxckN1fQpZU",
      "execution_count": 2,
      "outputs": []
    },
    {
      "cell_type": "code",
      "metadata": {
        "id": "d704d0bf"
      },
      "source": [
        "# option d'affichage des résultats\n",
        "#pd.set_option(\"display.max_row\",130)\n",
        "pd.set_option(\"display.max_columns\",100)"
      ],
      "id": "d704d0bf",
      "execution_count": 3,
      "outputs": []
    },
    {
      "cell_type": "code",
      "metadata": {
        "id": "78ad0a9b"
      },
      "source": [
        "# les noms des variables\n",
        "\n",
        "colonnes =([\"IDENT\", \"TypeHabi\", \"GeoFaz_Scl\", \"GeoFaz_cl\", \"ImmoFaz_Scl\", \"ImmoFaz_cl\", \"Anciennete\",\n",
        "            \"Logement_prix_m2\", \"Mediane_RFR\", \"Sexe\", \"Prenom_Phase_scl_H\", \"Prenom_Phase_scl_F\",\n",
        "            \"Prenom_Phase_cl_H\", \"Prenom_Phase_cl_F\", \"Age_H\", \"Age_F\", \"Affinite_1\", \"Affinite_2\",\n",
        "            \"Prenom_effectif\", \"Potentiel_prenom\", \"Onoma-Phase_Scl\", \"Onoma-Phase_CL\", \"Top_mon\"])\n"
      ],
      "id": "78ad0a9b",
      "execution_count": 4,
      "outputs": []
    },
    {
      "cell_type": "code",
      "metadata": {
        "id": "xg5O-7Vu25p0"
      },
      "source": [
        "colonnes_montant = [\"DEDUPLI\", \"IDENT\", \"SommeDeMONTANT_NUM\", \"Flag_Top_Montant\", \"NovosScore_Vingtile\"]\n",
        "\n",
        "data_montant_orig = pd.read_csv(\"/content/drive/MyDrive/spad_score_method_1/spad_projection_FDFTOT21/DONS_FDF_N_TODAY_1ers_gestes_REF_MD.txt\", sep=\";\", header = 0, low_memory=False, dtype=str) #, dtype=str )#, dtype='Int64')\n",
        "\n",
        "data_montant_orig.iloc[:,2]=data_montant_orig.iloc[:,2].str.replace(\",\",\".\")\n",
        "\n",
        "data_montant_orig.columns =colonnes_montant\n",
        "data_montant_orig[\"SommeDeMONTANT_NUM\"]=data_montant_orig[\"SommeDeMONTANT_NUM\"].astype(float)"
      ],
      "id": "xg5O-7Vu25p0",
      "execution_count": 5,
      "outputs": []
    },
    {
      "cell_type": "code",
      "metadata": {
        "id": "dhNfcV7U62LL"
      },
      "source": [
        ""
      ],
      "id": "dhNfcV7U62LL",
      "execution_count": 5,
      "outputs": []
    },
    {
      "cell_type": "code",
      "metadata": {
        "colab": {
          "base_uri": "https://localhost:8080/",
          "height": 461
        },
        "id": "47c00091",
        "outputId": "825dcaa1-524f-4270-f0c2-33e369c3fe55"
      },
      "source": [
        "data_orig = pd.read_csv(\"/content/drive/MyDrive/spad_score_method_1/spad_projection_FDFTOT21/sans_8_new_my_data_FDFTOT21.txt\", delim_whitespace=\"\\t\", header = None, names=colonnes, low_memory=False, dtype=str )#, dtype='Int64')\n",
        "data = data_orig.copy()\n",
        "data"
      ],
      "id": "47c00091",
      "execution_count": 6,
      "outputs": [
        {
          "output_type": "execute_result",
          "data": {
            "text/html": [
              "<div>\n",
              "<style scoped>\n",
              "    .dataframe tbody tr th:only-of-type {\n",
              "        vertical-align: middle;\n",
              "    }\n",
              "\n",
              "    .dataframe tbody tr th {\n",
              "        vertical-align: top;\n",
              "    }\n",
              "\n",
              "    .dataframe thead th {\n",
              "        text-align: right;\n",
              "    }\n",
              "</style>\n",
              "<table border=\"1\" class=\"dataframe\">\n",
              "  <thead>\n",
              "    <tr style=\"text-align: right;\">\n",
              "      <th></th>\n",
              "      <th>IDENT</th>\n",
              "      <th>TypeHabi</th>\n",
              "      <th>GeoFaz_Scl</th>\n",
              "      <th>GeoFaz_cl</th>\n",
              "      <th>ImmoFaz_Scl</th>\n",
              "      <th>ImmoFaz_cl</th>\n",
              "      <th>Anciennete</th>\n",
              "      <th>Logement_prix_m2</th>\n",
              "      <th>Mediane_RFR</th>\n",
              "      <th>Sexe</th>\n",
              "      <th>Prenom_Phase_scl_H</th>\n",
              "      <th>Prenom_Phase_scl_F</th>\n",
              "      <th>Prenom_Phase_cl_H</th>\n",
              "      <th>Prenom_Phase_cl_F</th>\n",
              "      <th>Age_H</th>\n",
              "      <th>Age_F</th>\n",
              "      <th>Affinite_1</th>\n",
              "      <th>Affinite_2</th>\n",
              "      <th>Prenom_effectif</th>\n",
              "      <th>Potentiel_prenom</th>\n",
              "      <th>Onoma-Phase_Scl</th>\n",
              "      <th>Onoma-Phase_CL</th>\n",
              "      <th>Top_mon</th>\n",
              "    </tr>\n",
              "  </thead>\n",
              "  <tbody>\n",
              "    <tr>\n",
              "      <th>0</th>\n",
              "      <td>0010000001</td>\n",
              "      <td>02</td>\n",
              "      <td>81</td>\n",
              "      <td>08</td>\n",
              "      <td>91</td>\n",
              "      <td>09</td>\n",
              "      <td>06</td>\n",
              "      <td>21</td>\n",
              "      <td>21</td>\n",
              "      <td>01</td>\n",
              "      <td>71</td>\n",
              "      <td>41</td>\n",
              "      <td>07</td>\n",
              "      <td>04</td>\n",
              "      <td>12</td>\n",
              "      <td>04</td>\n",
              "      <td>20</td>\n",
              "      <td>02</td>\n",
              "      <td>02</td>\n",
              "      <td>01</td>\n",
              "      <td>51</td>\n",
              "      <td>05</td>\n",
              "      <td>1</td>\n",
              "    </tr>\n",
              "    <tr>\n",
              "      <th>1</th>\n",
              "      <td>0010000006</td>\n",
              "      <td>01</td>\n",
              "      <td>75</td>\n",
              "      <td>07</td>\n",
              "      <td>43</td>\n",
              "      <td>04</td>\n",
              "      <td>06</td>\n",
              "      <td>06</td>\n",
              "      <td>13</td>\n",
              "      <td>02</td>\n",
              "      <td>71</td>\n",
              "      <td>64</td>\n",
              "      <td>07</td>\n",
              "      <td>06</td>\n",
              "      <td>12</td>\n",
              "      <td>09</td>\n",
              "      <td>04</td>\n",
              "      <td>12</td>\n",
              "      <td>04</td>\n",
              "      <td>13</td>\n",
              "      <td>12</td>\n",
              "      <td>01</td>\n",
              "      <td>1</td>\n",
              "    </tr>\n",
              "    <tr>\n",
              "      <th>2</th>\n",
              "      <td>0010000011</td>\n",
              "      <td>01</td>\n",
              "      <td>76</td>\n",
              "      <td>07</td>\n",
              "      <td>43</td>\n",
              "      <td>04</td>\n",
              "      <td>06</td>\n",
              "      <td>06</td>\n",
              "      <td>16</td>\n",
              "      <td>03</td>\n",
              "      <td>54</td>\n",
              "      <td>81</td>\n",
              "      <td>05</td>\n",
              "      <td>08</td>\n",
              "      <td>07</td>\n",
              "      <td>12</td>\n",
              "      <td>06</td>\n",
              "      <td>06</td>\n",
              "      <td>04</td>\n",
              "      <td>18</td>\n",
              "      <td>36</td>\n",
              "      <td>03</td>\n",
              "      <td>2</td>\n",
              "    </tr>\n",
              "    <tr>\n",
              "      <th>3</th>\n",
              "      <td>0010000013</td>\n",
              "      <td>03</td>\n",
              "      <td>75</td>\n",
              "      <td>07</td>\n",
              "      <td>43</td>\n",
              "      <td>04</td>\n",
              "      <td>04</td>\n",
              "      <td>06</td>\n",
              "      <td>13</td>\n",
              "      <td>01</td>\n",
              "      <td>71</td>\n",
              "      <td>36</td>\n",
              "      <td>07</td>\n",
              "      <td>03</td>\n",
              "      <td>12</td>\n",
              "      <td>11</td>\n",
              "      <td>11</td>\n",
              "      <td>19</td>\n",
              "      <td>04</td>\n",
              "      <td>06</td>\n",
              "      <td>21</td>\n",
              "      <td>02</td>\n",
              "      <td>1</td>\n",
              "    </tr>\n",
              "    <tr>\n",
              "      <th>4</th>\n",
              "      <td>0010000015</td>\n",
              "      <td>02</td>\n",
              "      <td>33</td>\n",
              "      <td>03</td>\n",
              "      <td>44</td>\n",
              "      <td>04</td>\n",
              "      <td>06</td>\n",
              "      <td>07</td>\n",
              "      <td>12</td>\n",
              "      <td>01</td>\n",
              "      <td>71</td>\n",
              "      <td>42</td>\n",
              "      <td>07</td>\n",
              "      <td>04</td>\n",
              "      <td>12</td>\n",
              "      <td>05</td>\n",
              "      <td>14</td>\n",
              "      <td>03</td>\n",
              "      <td>03</td>\n",
              "      <td>01</td>\n",
              "      <td>14</td>\n",
              "      <td>01</td>\n",
              "      <td>2</td>\n",
              "    </tr>\n",
              "    <tr>\n",
              "      <th>...</th>\n",
              "      <td>...</td>\n",
              "      <td>...</td>\n",
              "      <td>...</td>\n",
              "      <td>...</td>\n",
              "      <td>...</td>\n",
              "      <td>...</td>\n",
              "      <td>...</td>\n",
              "      <td>...</td>\n",
              "      <td>...</td>\n",
              "      <td>...</td>\n",
              "      <td>...</td>\n",
              "      <td>...</td>\n",
              "      <td>...</td>\n",
              "      <td>...</td>\n",
              "      <td>...</td>\n",
              "      <td>...</td>\n",
              "      <td>...</td>\n",
              "      <td>...</td>\n",
              "      <td>...</td>\n",
              "      <td>...</td>\n",
              "      <td>...</td>\n",
              "      <td>...</td>\n",
              "      <td>...</td>\n",
              "    </tr>\n",
              "    <tr>\n",
              "      <th>1192175</th>\n",
              "      <td>0370109343</td>\n",
              "      <td>01</td>\n",
              "      <td>64</td>\n",
              "      <td>06</td>\n",
              "      <td>82</td>\n",
              "      <td>08</td>\n",
              "      <td>05</td>\n",
              "      <td>16</td>\n",
              "      <td>17</td>\n",
              "      <td>02</td>\n",
              "      <td>71</td>\n",
              "      <td>81</td>\n",
              "      <td>07</td>\n",
              "      <td>08</td>\n",
              "      <td>12</td>\n",
              "      <td>12</td>\n",
              "      <td>21</td>\n",
              "      <td>21</td>\n",
              "      <td>06</td>\n",
              "      <td>21</td>\n",
              "      <td>61</td>\n",
              "      <td>06</td>\n",
              "      <td>NaN</td>\n",
              "    </tr>\n",
              "    <tr>\n",
              "      <th>1192176</th>\n",
              "      <td>0370109344</td>\n",
              "      <td>03</td>\n",
              "      <td>61</td>\n",
              "      <td>06</td>\n",
              "      <td>64</td>\n",
              "      <td>06</td>\n",
              "      <td>06</td>\n",
              "      <td>14</td>\n",
              "      <td>01</td>\n",
              "      <td>04</td>\n",
              "      <td>44</td>\n",
              "      <td>81</td>\n",
              "      <td>04</td>\n",
              "      <td>08</td>\n",
              "      <td>05</td>\n",
              "      <td>12</td>\n",
              "      <td>01</td>\n",
              "      <td>05</td>\n",
              "      <td>01</td>\n",
              "      <td>03</td>\n",
              "      <td>54</td>\n",
              "      <td>05</td>\n",
              "      <td>NaN</td>\n",
              "    </tr>\n",
              "    <tr>\n",
              "      <th>1192177</th>\n",
              "      <td>0370109345</td>\n",
              "      <td>02</td>\n",
              "      <td>13</td>\n",
              "      <td>01</td>\n",
              "      <td>42</td>\n",
              "      <td>04</td>\n",
              "      <td>07</td>\n",
              "      <td>07</td>\n",
              "      <td>15</td>\n",
              "      <td>02</td>\n",
              "      <td>71</td>\n",
              "      <td>81</td>\n",
              "      <td>07</td>\n",
              "      <td>08</td>\n",
              "      <td>12</td>\n",
              "      <td>12</td>\n",
              "      <td>21</td>\n",
              "      <td>21</td>\n",
              "      <td>06</td>\n",
              "      <td>21</td>\n",
              "      <td>61</td>\n",
              "      <td>06</td>\n",
              "      <td>NaN</td>\n",
              "    </tr>\n",
              "    <tr>\n",
              "      <th>1192178</th>\n",
              "      <td>0370109346</td>\n",
              "      <td>02</td>\n",
              "      <td>31</td>\n",
              "      <td>03</td>\n",
              "      <td>82</td>\n",
              "      <td>08</td>\n",
              "      <td>08</td>\n",
              "      <td>16</td>\n",
              "      <td>19</td>\n",
              "      <td>02</td>\n",
              "      <td>71</td>\n",
              "      <td>45</td>\n",
              "      <td>07</td>\n",
              "      <td>04</td>\n",
              "      <td>12</td>\n",
              "      <td>03</td>\n",
              "      <td>02</td>\n",
              "      <td>02</td>\n",
              "      <td>03</td>\n",
              "      <td>01</td>\n",
              "      <td>44</td>\n",
              "      <td>04</td>\n",
              "      <td>NaN</td>\n",
              "    </tr>\n",
              "    <tr>\n",
              "      <th>1192179</th>\n",
              "      <td>0370109347</td>\n",
              "      <td>02</td>\n",
              "      <td>12</td>\n",
              "      <td>01</td>\n",
              "      <td>82</td>\n",
              "      <td>08</td>\n",
              "      <td>06</td>\n",
              "      <td>17</td>\n",
              "      <td>17</td>\n",
              "      <td>03</td>\n",
              "      <td>33</td>\n",
              "      <td>81</td>\n",
              "      <td>03</td>\n",
              "      <td>08</td>\n",
              "      <td>07</td>\n",
              "      <td>12</td>\n",
              "      <td>03</td>\n",
              "      <td>03</td>\n",
              "      <td>05</td>\n",
              "      <td>20</td>\n",
              "      <td>31</td>\n",
              "      <td>03</td>\n",
              "      <td>NaN</td>\n",
              "    </tr>\n",
              "  </tbody>\n",
              "</table>\n",
              "<p>1192180 rows × 23 columns</p>\n",
              "</div>"
            ],
            "text/plain": [
              "              IDENT TypeHabi GeoFaz_Scl GeoFaz_cl ImmoFaz_Scl ImmoFaz_cl  \\\n",
              "0        0010000001       02         81        08          91         09   \n",
              "1        0010000006       01         75        07          43         04   \n",
              "2        0010000011       01         76        07          43         04   \n",
              "3        0010000013       03         75        07          43         04   \n",
              "4        0010000015       02         33        03          44         04   \n",
              "...             ...      ...        ...       ...         ...        ...   \n",
              "1192175  0370109343       01         64        06          82         08   \n",
              "1192176  0370109344       03         61        06          64         06   \n",
              "1192177  0370109345       02         13        01          42         04   \n",
              "1192178  0370109346       02         31        03          82         08   \n",
              "1192179  0370109347       02         12        01          82         08   \n",
              "\n",
              "        Anciennete Logement_prix_m2 Mediane_RFR Sexe Prenom_Phase_scl_H  \\\n",
              "0               06               21          21   01                 71   \n",
              "1               06               06          13   02                 71   \n",
              "2               06               06          16   03                 54   \n",
              "3               04               06          13   01                 71   \n",
              "4               06               07          12   01                 71   \n",
              "...            ...              ...         ...  ...                ...   \n",
              "1192175         05               16          17   02                 71   \n",
              "1192176         06               14          01   04                 44   \n",
              "1192177         07               07          15   02                 71   \n",
              "1192178         08               16          19   02                 71   \n",
              "1192179         06               17          17   03                 33   \n",
              "\n",
              "        Prenom_Phase_scl_F Prenom_Phase_cl_H Prenom_Phase_cl_F Age_H Age_F  \\\n",
              "0                       41                07                04    12    04   \n",
              "1                       64                07                06    12    09   \n",
              "2                       81                05                08    07    12   \n",
              "3                       36                07                03    12    11   \n",
              "4                       42                07                04    12    05   \n",
              "...                    ...               ...               ...   ...   ...   \n",
              "1192175                 81                07                08    12    12   \n",
              "1192176                 81                04                08    05    12   \n",
              "1192177                 81                07                08    12    12   \n",
              "1192178                 45                07                04    12    03   \n",
              "1192179                 81                03                08    07    12   \n",
              "\n",
              "        Affinite_1 Affinite_2 Prenom_effectif Potentiel_prenom  \\\n",
              "0               20         02              02               01   \n",
              "1               04         12              04               13   \n",
              "2               06         06              04               18   \n",
              "3               11         19              04               06   \n",
              "4               14         03              03               01   \n",
              "...            ...        ...             ...              ...   \n",
              "1192175         21         21              06               21   \n",
              "1192176         01         05              01               03   \n",
              "1192177         21         21              06               21   \n",
              "1192178         02         02              03               01   \n",
              "1192179         03         03              05               20   \n",
              "\n",
              "        Onoma-Phase_Scl Onoma-Phase_CL Top_mon  \n",
              "0                    51             05       1  \n",
              "1                    12             01       1  \n",
              "2                    36             03       2  \n",
              "3                    21             02       1  \n",
              "4                    14             01       2  \n",
              "...                 ...            ...     ...  \n",
              "1192175              61             06     NaN  \n",
              "1192176              54             05     NaN  \n",
              "1192177              61             06     NaN  \n",
              "1192178              44             04     NaN  \n",
              "1192179              31             03     NaN  \n",
              "\n",
              "[1192180 rows x 23 columns]"
            ]
          },
          "metadata": {
            "tags": []
          },
          "execution_count": 6
        }
      ]
    },
    {
      "cell_type": "code",
      "metadata": {
        "colab": {
          "base_uri": "https://localhost:8080/"
        },
        "id": "0924d2aa",
        "outputId": "9002aa93-690e-40a0-e06e-f5f46b2f1823"
      },
      "source": [
        "data.info()"
      ],
      "id": "0924d2aa",
      "execution_count": 7,
      "outputs": [
        {
          "output_type": "stream",
          "text": [
            "<class 'pandas.core.frame.DataFrame'>\n",
            "RangeIndex: 1192180 entries, 0 to 1192179\n",
            "Data columns (total 23 columns):\n",
            " #   Column              Non-Null Count    Dtype \n",
            "---  ------              --------------    ----- \n",
            " 0   IDENT               1192180 non-null  object\n",
            " 1   TypeHabi            1192180 non-null  object\n",
            " 2   GeoFaz_Scl          1192180 non-null  object\n",
            " 3   GeoFaz_cl           1192180 non-null  object\n",
            " 4   ImmoFaz_Scl         1192180 non-null  object\n",
            " 5   ImmoFaz_cl          1192180 non-null  object\n",
            " 6   Anciennete          1192180 non-null  object\n",
            " 7   Logement_prix_m2    1192180 non-null  object\n",
            " 8   Mediane_RFR         1192180 non-null  object\n",
            " 9   Sexe                1192180 non-null  object\n",
            " 10  Prenom_Phase_scl_H  1192180 non-null  object\n",
            " 11  Prenom_Phase_scl_F  1192180 non-null  object\n",
            " 12  Prenom_Phase_cl_H   1192180 non-null  object\n",
            " 13  Prenom_Phase_cl_F   1192180 non-null  object\n",
            " 14  Age_H               1192180 non-null  object\n",
            " 15  Age_F               1192180 non-null  object\n",
            " 16  Affinite_1          1192180 non-null  object\n",
            " 17  Affinite_2          1192180 non-null  object\n",
            " 18  Prenom_effectif     1192180 non-null  object\n",
            " 19  Potentiel_prenom    1192180 non-null  object\n",
            " 20  Onoma-Phase_Scl     1192180 non-null  object\n",
            " 21  Onoma-Phase_CL      1192180 non-null  object\n",
            " 22  Top_mon             99296 non-null    object\n",
            "dtypes: object(23)\n",
            "memory usage: 209.2+ MB\n"
          ],
          "name": "stdout"
        }
      ]
    },
    {
      "cell_type": "code",
      "metadata": {
        "id": "239a362c"
      },
      "source": [
        "#nombre de modalités de chaque variables (dans un dataframe)\n",
        "def nombre_mod(data2):\n",
        "    #création d'un dataframe vide\n",
        "    dff= pd.DataFrame(columns=[\"VARIABLE\",\"NOMBRE_MOD\", \"NOMBRE_MOD_SANS_NA\"])\n",
        "    for i in range(data2.shape[1]): # sans compter les valeurs manquantes\n",
        "        taille =len(data2.iloc[:,i].value_counts(dropna=False))\n",
        "        taille_1 = len(data2.iloc[:,i].value_counts(dropna=True) )\n",
        "        dff=dff.append({\"VARIABLE\": colonnes[i],\"NOMBRE_MOD\":taille, \"NOMBRE_MOD_SANS_NA\":taille_1 }, ignore_index=True)\n",
        "    return dff\n",
        "\n",
        "# sélection des corrélations les plus importantes\n",
        "def variables_corr(tableau_corr, seuil):\n",
        "    colonnes = tableau_corr.columns\n",
        "    val_temp = 0 \n",
        "    variables_corr_pos=[] ; variables_corr_pos_val=[]\n",
        "    variables_corr_neg=[] ; variables_corr_neg_val=[]\n",
        "    for i in range(tableau_corr.shape[0]):  \n",
        "        for j in range(tableau_corr.shape[0]):\n",
        "            if i<j: #i!=j:\n",
        "                if (tableau_corr.iloc[i,j] > seuil):\n",
        "                    variables_corr_pos.append(colonnes[j])\n",
        "                    variables_corr_pos_val.append(round( tableau_corr.iloc[i,j], 2))\n",
        "                    val_temp += 1\n",
        "\n",
        "                if (tableau_corr.iloc[i,j] <-seuil):\n",
        "                    variables_corr_neg.append(colonnes[j])\n",
        "                    variables_corr_neg_val.append(round( tableau_corr.iloc[i,j], 2))\n",
        "                    val_temp += 1\n",
        "\n",
        "        if (len(variables_corr_pos) > 0) | (len(variables_corr_neg) >0) :\n",
        "            print(\"variable : \", colonnes[i])\n",
        "            if len(variables_corr_pos) > 0:    \n",
        "                print(\"corr pos\", variables_corr_pos)\n",
        "                print(\"corr pos\", variables_corr_pos_val)\n",
        "                val_temp += 1\n",
        "\n",
        "            if len(variables_corr_neg) >0:  \n",
        "                print(\"corr neg\", variables_corr_neg)\n",
        "                print(\"corr neg\", variables_corr_neg_val)\n",
        "                val_temp += 1\n",
        "            print(\"\")\n",
        "        variables_corr_pos = variables_corr_pos*0\n",
        "        variables_corr_neg = variables_corr_pos*0\n",
        "\n",
        "        variables_corr_pos_val = variables_corr_pos_val*0\n",
        "        variables_corr_neg_val = variables_corr_pos_val*0\n",
        "    if val_temp == 0:\n",
        "        print(\"IL N'Y A PAS DE CORRELATION ENTRE LES VARIABLES PAR RAPPORT AU SEUIL PRIS\")\n",
        "        \n",
        "\n",
        "def evaluation(model, X_train, y_train, X_test, y_test, scoring, plot):\n",
        "\n",
        "    model.fit(X_train, y_train)\n",
        "    y_pred = model.predict(X_test)\n",
        "    \n",
        "    print(\"test set : \")\n",
        "    print(confusion_matrix(y_test, y_pred))\n",
        "    print(classification_report(y_test, y_pred)) \n",
        "    print(\"train set : \")\n",
        "    print(confusion_matrix(y_train, model.predict(X_train)))  \n",
        "    print(classification_report(y_train, model.predict(X_train) ))\n",
        "\n",
        "    if plot == True:\n",
        "        N, train_score, val_score = learning_curve(model, X_train, y_train, shuffle=True, cv = 4, scoring = scoring, train_sizes = np.linspace(0.1, 1, 6) )\n",
        "\n",
        "        plt.figure(figsize = (10,6))\n",
        "        plt.plot(N, train_score.mean(axis=1), label =\"train_score\")\n",
        "        plt.plot(N, val_score.mean(axis=1), label =\"cross_validation_score\")\n",
        "        plt.legend()\n",
        "    else :\n",
        "        print(\"GRAPHIQUE NON DEMANDE\")\n",
        "\n",
        "# Comme il n'y a pas de valeurs manquantes (à la place il y a un nombre), le seul traitement qu'on fait c'est tranformer\n",
        "# le type de variable (les variables continues deviennent qualitatives)\n",
        "def data_processing(df):\n",
        "    \"\"\" \n",
        "    for i in range(0,len(df.columns)):    \n",
        "        df[df.columns[i]].fillna(100.0, inplace=True) #On remplace les données manquantes par 100\n",
        "    for i in range(0,len(df.columns)):\n",
        "        print(df[df.columns[i]].value_counts(dropna=False))    \n",
        "    \"\"\"\n",
        "    \n",
        "   #Transformation de toutes les variables en facteurs         \n",
        "    for i in range(0,len(df.columns)):\n",
        "        df[df.columns[i]] = df[df.columns[i]].astype('category')\n",
        "    return df.to_numpy() #.as_matrix()\n",
        "\n",
        "\n",
        "def vingtiles(model, data_orig, affichage, save, path): # data_orig est une variables locale (peut être différente au df d'origine)\n",
        "    # position de la dernière variable explicative dans le dataset\n",
        "    nb_var = data_orig.shape[1]-1\n",
        "\n",
        "    # predict sur tous les individus (avec et sans classe Top_mon)\n",
        "    tous_probas = model.predict_proba(data_orig.iloc[:,1:nb_var])\n",
        "    df_tous = pd.DataFrame({'IDENT': data_orig.iloc[:,0] , 'PROBA': tous_probas[:,0] })\n",
        "    #df_tous\n",
        "    \n",
        "    # valeurs ordonnées pour diviser après\n",
        "    df_tous=df_tous.sort_values(by='PROBA', ascending=True)\n",
        "    #df_tous\n",
        "    print(df_tous)\n",
        "    \n",
        "    #vérification\n",
        "    print(df_tous['PROBA'].value_counts())\n",
        "\n",
        "    # vingtiles\n",
        "    df_temp =pd.DataFrame( pd.qcut(df_tous['PROBA'],q= 20)  )\n",
        "    #print(df_temp)\n",
        "\n",
        "    # ajout par index (IMPORTANTE)\n",
        "    df_tous[\"TRANCHES\"]=pd.DataFrame(df_temp.iloc[:,0].to_numpy(),index= df_temp.index)\n",
        "    #print(df_tous)\n",
        "\n",
        "    # création de la dernière colonne CLASSE et son remplissage\n",
        "    index_20_ord = pd.DataFrame(np.unique(df_tous[\"TRANCHES\"])) \n",
        "    df_tous[\"CLASSE\"]=df_tous[\"TRANCHES\"].copy()\n",
        "    ind_val=1\n",
        "    for kk in range(20):\n",
        "        df_tous[\"CLASSE\"][df_tous[\"CLASSE\"]== index_20_ord.iloc[kk,0] ] = str(ind_val) \n",
        "        ind_val+=1\n",
        "    print(df_tous)    \n",
        "    \n",
        "    # pour la colonne Top_mon : changement de type de variable et remplissage des valeurs (s'il le faut)\n",
        "    data_temp_t = data_orig.copy()\n",
        "    data_temp_t[\"Top_mon\"] =  data_temp_t[\"Top_mon\"].replace(1.0,'1')\n",
        "    data_temp_t[\"Top_mon\"] =  data_temp_t[\"Top_mon\"].replace(2.0,'2')\n",
        "    data_all_complet_class = data_temp_t #data_temp_t.fillna('2')\n",
        "    #data_all_complet_class\n",
        "\n",
        "    # jointure\n",
        "    ident_class_tous = data_all_complet_class[[\"IDENT\",\"Top_mon\"]]\n",
        "    tableau_resultats = pd.merge(df_tous,ident_class_tous)\n",
        "    #tableau_resultats\n",
        "\n",
        "    # tranches finales\n",
        "    tab_cross_temp = pd.crosstab(tableau_resultats[\"TRANCHES\"],tableau_resultats[\"Top_mon\"])\n",
        "    #print(tab_cross_temp); print(\"-----------------------\")\n",
        "\n",
        "    # création d'une colonne TOTAL\n",
        "    tab_cross_temp[\"TOTAL\"]=tab_cross_temp[\"1\"]+tab_cross_temp[\"2\"]\n",
        "    \n",
        "    # affichage\n",
        "    if affichage ==True:        \n",
        "        print(tab_cross_temp)\n",
        "\n",
        "    # création du tableau final en éliminant la colonne 2\n",
        "    #tab_pour_excel = tab_cross_temp.drop([\"2\"], axis=1)\n",
        "\n",
        "    # si on ne veut pas éliminer la colonne 2\n",
        "    tab_pour_excel =  tab_cross_temp\n",
        "    \n",
        "    # enregistrement sous Excel\n",
        "    if save == True:\n",
        "        tab_pour_excel.to_excel(path)\n",
        "\n",
        "    return  df_tous\n",
        "\n",
        "\n",
        "def tableau_5_montant(df_tous, data_montant_orig, affichage, save, path):\n",
        "    # tableau avec les deux variables qui nous intéressent\n",
        "    ident_et_montant = data_montant_orig[[\"IDENT\",\"SommeDeMONTANT_NUM\"]]\n",
        "\n",
        "    # jointure\n",
        "    tableau_resultats_et_montant = pd.merge(df_tous,ident_et_montant)\n",
        "    #print(tableau_resultats_et_montant) \n",
        "\n",
        "    # on élimine toutes les sommes supérieur à 5000 €\n",
        "    tableau_resultats_et_montant = tableau_resultats_et_montant[tableau_resultats_et_montant[\"SommeDeMONTANT_NUM\"] <= 5000]\n",
        "    print(tableau_resultats_et_montant) \n",
        "    #print(tableau_resultats_et_montant[\"TRANCHES\"].value_counts())\n",
        "    #print(pd.DataFrame(np.unique(tableau_resultats_et_montant[\"TRANCHES\"])))\n",
        "\n",
        "    # index\n",
        "    index_temp = pd.DataFrame(np.unique(tableau_resultats_et_montant[\"TRANCHES\"])) \n",
        "\n",
        "    # création du tableau qui contiendra les résultats finaux\n",
        "    tableau_resultats_finaux = pd.DataFrame(columns=[\"TRANCHES\",\"Moyen_Somme\",\"TOTAL\"],index=range(20))\n",
        "    tableau_resultats_finaux[\"TRANCHES\"] = index_temp\n",
        "\n",
        "    # remplissage du tableau final\n",
        "    for k in range(20):\n",
        "        tableau_resultats_finaux.iloc[k,1] = tableau_resultats_et_montant[tableau_resultats_et_montant[\"TRANCHES\"]==index_temp.iloc[k,0]][\"SommeDeMONTANT_NUM\"].mean()\n",
        "        tableau_resultats_finaux.iloc[k,2] = (tableau_resultats_et_montant[\"TRANCHES\"]==index_temp.iloc[k,0]).sum()\n",
        "    \n",
        "    # affichage\n",
        "    if affichage:        \n",
        "        print(tableau_resultats_finaux)\n",
        "    \n",
        "    # enregistrement sous Excel\n",
        "    if save:\n",
        "        tableau_resultats_finaux.to_excel(path)\n",
        "\n",
        "\n",
        "def vingtiles_ind_sans_target(model, data_orig, affichage, save, path):\n",
        "    # position de la dernière variable explicative dans le dataset\n",
        "    nb_var = data_orig.shape[1]-1\n",
        "\n",
        "    # predict sur tous les individus (avec et sans classe IFI+)\n",
        "    tous_probas = model.predict_proba(data_orig.iloc[:,1:nb_var])\n",
        "    df_tous = pd.DataFrame({'IDENT': data_orig.iloc[:,0] , 'PROBA': tous_probas[:,0] })\n",
        "    #df_tous\n",
        "    \n",
        "    # valeurs ordonnées pour diviser après\n",
        "    df_tous=df_tous.sort_values(by='PROBA', ascending=True)\n",
        "    #df_tous\n",
        "    print(df_tous)\n",
        "    \n",
        "    #vérification\n",
        "    print(df_tous['PROBA'].value_counts())\n",
        "\n",
        "    # quarantiles\n",
        "    df_temp =pd.DataFrame( pd.qcut(df_tous['PROBA'],q= 20)  )\n",
        "    print(df_temp)\n",
        "\n",
        "    # ajout par index (IMPORTANTE)\n",
        "    df_tous[\"TRANCHES\"]=pd.DataFrame(df_temp.iloc[:,0].to_numpy(),index= df_temp.index)\n",
        "    print(df_tous)\n",
        "    print(df_tous[\"TRANCHES\"].value_counts(ascending = True))\n",
        "\n",
        "    # GERE L'ORDRE\n",
        "    patra = np.unique(df_tous.iloc[:,2], return_counts=True)\n",
        "    df_tranches_sans_target = pd.DataFrame([patra[0],patra[1]]).T\n",
        "    df_tranches_sans_target.columns=[\"TRANCHES\",\"COUNTS\"]\n",
        "\n",
        "    # affichage\n",
        "    if affichage ==True:        \n",
        "        print(df_tranches_sans_target)\n",
        "    \n",
        "    # enregistrement sous Excel\n",
        "    if save == True:\n",
        "        df_tranches_sans_target.to_excel(path)\n",
        "    \n",
        "\n",
        "# élimination des variables trop corrélées (choix manuel)\n",
        "def elimination_val_corr(data):\n",
        "    data = data.drop(columns=[\"\"])\n",
        "    return data\n",
        "          \n"
      ],
      "id": "239a362c",
      "execution_count": 8,
      "outputs": []
    },
    {
      "cell_type": "code",
      "metadata": {
        "id": "1cfbe9f8"
      },
      "source": [
        ""
      ],
      "id": "1cfbe9f8",
      "execution_count": 8,
      "outputs": []
    },
    {
      "cell_type": "code",
      "metadata": {
        "id": "e46a9d46"
      },
      "source": [
        "##############################################################################################################\n",
        "#                                                   PREMIERS TESTS\n",
        "##############################################################################################################\n"
      ],
      "id": "e46a9d46",
      "execution_count": 9,
      "outputs": []
    },
    {
      "cell_type": "code",
      "metadata": {
        "id": "367ea9ec"
      },
      "source": [
        "#################################################################################################\n",
        "#                       SANS VARIABLES CORR ET ENCODAGE DUMMIES\n",
        "#################################################################################################\n"
      ],
      "id": "367ea9ec",
      "execution_count": 10,
      "outputs": []
    },
    {
      "cell_type": "code",
      "metadata": {
        "id": "4eea29b1",
        "colab": {
          "base_uri": "https://localhost:8080/"
        },
        "outputId": "68483b17-c665-49b8-a95d-a0aaebbebc1e"
      },
      "source": [
        "# test predict individus sans classe\n",
        "data = data_orig.copy()\n",
        "\n",
        "# on élimine les variables dons\n",
        "data=data.drop([\"GeoFaz_cl\", \"ImmoFaz_Scl\", \"ImmoFaz_cl\", \"Prenom_Phase_cl_H\", \"Prenom_Phase_cl_F\",\n",
        "                \"Onoma-Phase_Scl\", \"Onoma-Phase_CL\"],axis=1)\n",
        "\n",
        "# encodage Onehot sur toutes les données (on évite ainsi les erreurs futures)\n",
        "nb_var = data.shape[1] - 1\n",
        "data_1_22 = pd.get_dummies(data.iloc[:,1:(data.shape[1]-1)], columns=data.columns[1:(data.shape[1]-1)] )\n",
        "data_var_qualitatives_temp =  pd.concat([data[\"IDENT\"], data_1_22, data[\"Top_mon\"]], axis=1)\n",
        "data = data_var_qualitatives_temp\n",
        "#encodage = OneHotEncoder()\n",
        "#encodage.fit(data_processing(data.iloc[:,1:nb_var]))\n",
        "\n",
        "# élimination des individus n'ayant pas de valeur pour la varialbe Top_mon\n",
        "\"\"\"IMPORTANT\"\"\"\n",
        "data_sans_nan = data[(data.isnull()).sum(axis=1) == 0]\n",
        "\n",
        "#conversion du type de variable\n",
        "for i in range(1,data_sans_nan.shape[1]):\n",
        "    data_sans_nan.iloc[:,i]=data_sans_nan.iloc[:,i].astype(int)\n",
        "\n",
        "# base de données avec des variables corrélées et avec encodage OneHot\n",
        "data =data_sans_nan\n",
        "\n",
        "nb_var = data.shape[1] - 1\n",
        "train_set, test_set = train_test_split(data, test_size = 0.2, random_state=0 )\n",
        "\n",
        "train_X_s = (train_set.iloc[:,1:nb_var]).to_numpy()\n",
        "train_Y_s = np.asanyarray(train_set.iloc[:,nb_var])\n",
        "\n",
        "test_X_s = (test_set.iloc[:,1:nb_var]).to_numpy()\n",
        "test_Y_s = np.asanyarray(test_set.iloc[:,nb_var])\n"
      ],
      "id": "4eea29b1",
      "execution_count": 11,
      "outputs": [
        {
          "output_type": "stream",
          "text": [
            "/usr/local/lib/python3.7/dist-packages/pandas/core/indexing.py:1743: SettingWithCopyWarning: \n",
            "A value is trying to be set on a copy of a slice from a DataFrame.\n",
            "Try using .loc[row_indexer,col_indexer] = value instead\n",
            "\n",
            "See the caveats in the documentation: https://pandas.pydata.org/pandas-docs/stable/user_guide/indexing.html#returning-a-view-versus-a-copy\n",
            "  isetter(ilocs[0], value)\n"
          ],
          "name": "stderr"
        }
      ]
    },
    {
      "cell_type": "code",
      "metadata": {
        "id": "UH9DnyImrluz"
      },
      "source": [
        "# CA PREND PLUS DE 14H AVEC UN GRIDSEARCHCV (27 MODELES).AVEC UN RANDOMIZEDSEARCHCV, LE TEMPS EST DIMINUE A 13H \n",
        "# (A CAUSE DU PARAMETRE probability=True)\n",
        "\"\"\"\n",
        "model_SVC = SVC(class_weight =\"balanced\", max_iter=5000, random_state =0, probability=True, cache_size = 1800)\n",
        "param = {'C': [0.1,1, 10], 'gamma': [1,0.1,0.01],'kernel': ['rbf', 'poly', 'sigmoid']}\n",
        "\"\"\""
      ],
      "id": "UH9DnyImrluz",
      "execution_count": null,
      "outputs": []
    },
    {
      "cell_type": "code",
      "metadata": {
        "colab": {
          "base_uri": "https://localhost:8080/"
        },
        "id": "afBsrY0frl-e",
        "outputId": "22d726fc-e832-493b-85f5-ab15e624c4d4"
      },
      "source": [
        "model_SVC = SVC(class_weight =\"balanced\", max_iter=5000, random_state =0, probability=True, cache_size = 1800)\n",
        "param = {'C': [0.1,1, 10], 'gamma': [1,0.1,0.01],'kernel': ['rbf', 'poly', 'sigmoid']}\n",
        "\n",
        "grid_SVC = RandomizedSearchCV(model_SVC, param, cv = 4, scoring = \"recall\", n_jobs=-1 )\n",
        "resultat_grid_SVC = grid_SVC.fit(train_X_s, train_Y_s)\n",
        "resultat_grid_SVC.best_params_"
      ],
      "id": "afBsrY0frl-e",
      "execution_count": null,
      "outputs": [
        {
          "output_type": "stream",
          "text": [
            "/usr/local/lib/python3.7/dist-packages/sklearn/svm/_base.py:231: ConvergenceWarning: Solver terminated early (max_iter=5000).  Consider pre-processing your data with StandardScaler or MinMaxScaler.\n",
            "  % self.max_iter, ConvergenceWarning)\n"
          ],
          "name": "stderr"
        },
        {
          "output_type": "execute_result",
          "data": {
            "text/plain": [
              "{'C': 0.1, 'gamma': 0.1, 'kernel': 'poly'}"
            ]
          },
          "metadata": {
            "tags": []
          },
          "execution_count": 12
        }
      ]
    },
    {
      "cell_type": "code",
      "metadata": {
        "id": "24sy4vCipJph",
        "colab": {
          "base_uri": "https://localhost:8080/"
        },
        "outputId": "3cfbf3a1-a32a-43af-cc0b-d3a58ec1c336"
      },
      "source": [
        "#{'C': 0.1, 'gamma': 0.1, 'kernel': 'poly'}\n",
        "final_model_SVM = SVC(class_weight =\"balanced\", max_iter=5000, random_state =0, probability=True, cache_size = 1800,\n",
        "                      C=0.1, gamma=0.1, kernel= 'poly')\n",
        "evaluation(final_model_SVM, train_X_s, train_Y_s, test_X_s, test_Y_s, scoring=\"recall\", plot=False )"
      ],
      "id": "24sy4vCipJph",
      "execution_count": 12,
      "outputs": [
        {
          "output_type": "stream",
          "text": [
            "/usr/local/lib/python3.7/dist-packages/sklearn/svm/_base.py:231: ConvergenceWarning: Solver terminated early (max_iter=5000).  Consider pre-processing your data with StandardScaler or MinMaxScaler.\n",
            "  % self.max_iter, ConvergenceWarning)\n"
          ],
          "name": "stderr"
        },
        {
          "output_type": "stream",
          "text": [
            "test set : \n",
            "[[ 5331     0]\n",
            " [14529     0]]\n",
            "              precision    recall  f1-score   support\n",
            "\n",
            "           1       0.27      1.00      0.42      5331\n",
            "           2       0.00      0.00      0.00     14529\n",
            "\n",
            "    accuracy                           0.27     19860\n",
            "   macro avg       0.13      0.50      0.21     19860\n",
            "weighted avg       0.07      0.27      0.11     19860\n",
            "\n",
            "train set : \n"
          ],
          "name": "stdout"
        },
        {
          "output_type": "stream",
          "text": [
            "/usr/local/lib/python3.7/dist-packages/sklearn/metrics/_classification.py:1272: UndefinedMetricWarning: Precision and F-score are ill-defined and being set to 0.0 in labels with no predicted samples. Use `zero_division` parameter to control this behavior.\n",
            "  _warn_prf(average, modifier, msg_start, len(result))\n"
          ],
          "name": "stderr"
        },
        {
          "output_type": "stream",
          "text": [
            "[[21397     0]\n",
            " [58039     0]]\n",
            "              precision    recall  f1-score   support\n",
            "\n",
            "           1       0.27      1.00      0.42     21397\n",
            "           2       0.00      0.00      0.00     58039\n",
            "\n",
            "    accuracy                           0.27     79436\n",
            "   macro avg       0.13      0.50      0.21     79436\n",
            "weighted avg       0.07      0.27      0.11     79436\n",
            "\n",
            "GRAPHIQUE NON DEMANDE\n"
          ],
          "name": "stdout"
        },
        {
          "output_type": "stream",
          "text": [
            "/usr/local/lib/python3.7/dist-packages/sklearn/metrics/_classification.py:1272: UndefinedMetricWarning: Precision and F-score are ill-defined and being set to 0.0 in labels with no predicted samples. Use `zero_division` parameter to control this behavior.\n",
            "  _warn_prf(average, modifier, msg_start, len(result))\n"
          ],
          "name": "stderr"
        }
      ]
    },
    {
      "cell_type": "code",
      "metadata": {
        "colab": {
          "base_uri": "https://localhost:8080/"
        },
        "id": "05a41696",
        "outputId": "4502ba3c-f647-4ad1-8247-c1bbaf49f50b"
      },
      "source": [
        "# TRAIN SET TEST SET\n",
        "vingtiles_tableau = vingtiles(model=final_model_SVM, data_orig= data, affichage=True,\n",
        "            save=False, path = \"/content/drive/MyDrive/spad_score_method_1/spad_projection_FDFTOT21/Fichier_excel_vingtiles/train_test_svm.xlsx\")"
      ],
      "id": "05a41696",
      "execution_count": 13,
      "outputs": [
        {
          "output_type": "stream",
          "text": [
            "            IDENT     PROBA\n",
            "88004  0010523065  0.190200\n",
            "43247  0010368416  0.191508\n",
            "44681  0010369841  0.192169\n",
            "22172  0010338540  0.194723\n",
            "53959  0010379997  0.197405\n",
            "...           ...       ...\n",
            "26925  0010344903  0.430983\n",
            "34179  0010358624  0.431666\n",
            "6832   0010253604  0.435378\n",
            "10965  0010257873  0.439164\n",
            "64169  0010397746  0.454565\n",
            "\n",
            "[99296 rows x 2 columns]\n",
            "0.349573    51\n",
            "0.344072    28\n",
            "0.328852    24\n",
            "0.327976    19\n",
            "0.354504    19\n",
            "            ..\n",
            "0.331452     1\n",
            "0.306425     1\n",
            "0.348857     1\n",
            "0.329247     1\n",
            "0.344619     1\n",
            "Name: PROBA, Length: 96528, dtype: int64\n"
          ],
          "name": "stdout"
        },
        {
          "output_type": "stream",
          "text": [
            "/usr/local/lib/python3.7/dist-packages/ipykernel_launcher.py:119: SettingWithCopyWarning: \n",
            "A value is trying to be set on a copy of a slice from a DataFrame\n",
            "\n",
            "See the caveats in the documentation: https://pandas.pydata.org/pandas-docs/stable/user_guide/indexing.html#returning-a-view-versus-a-copy\n"
          ],
          "name": "stderr"
        },
        {
          "output_type": "stream",
          "text": [
            "            IDENT     PROBA        TRANCHES CLASSE\n",
            "88004  0010523065  0.190200  (0.189, 0.294]      1\n",
            "43247  0010368416  0.191508  (0.189, 0.294]      1\n",
            "44681  0010369841  0.192169  (0.189, 0.294]      1\n",
            "22172  0010338540  0.194723  (0.189, 0.294]      1\n",
            "53959  0010379997  0.197405  (0.189, 0.294]      1\n",
            "...           ...       ...             ...    ...\n",
            "26925  0010344903  0.430983  (0.357, 0.455]     20\n",
            "34179  0010358624  0.431666  (0.357, 0.455]     20\n",
            "6832   0010253604  0.435378  (0.357, 0.455]     20\n",
            "10965  0010257873  0.439164  (0.357, 0.455]     20\n",
            "64169  0010397746  0.454565  (0.357, 0.455]     20\n",
            "\n",
            "[99296 rows x 4 columns]\n",
            "Top_mon            1     2  TOTAL\n",
            "TRANCHES                         \n",
            "(0.189, 0.294]   499  4467   4966\n",
            "(0.294, 0.307]  1025  3939   4964\n",
            "(0.307, 0.315]  1322  3643   4965\n",
            "(0.315, 0.321]  1456  3509   4965\n",
            "(0.321, 0.325]  1410  3554   4964\n",
            "(0.325, 0.328]  1339  3627   4966\n",
            "(0.328, 0.331]  1376  3588   4964\n",
            "(0.331, 0.333]  1378  3587   4965\n",
            "(0.333, 0.335]  1271  3693   4964\n",
            "(0.335, 0.337]  1295  3670   4965\n",
            "(0.337, 0.339]  1287  3680   4967\n",
            "(0.339, 0.34]   1327  3636   4963\n",
            "(0.34, 0.342]   1293  3671   4964\n",
            "(0.342, 0.343]  1351  3614   4965\n",
            "(0.343, 0.345]  1292  3673   4965\n",
            "(0.345, 0.347]  1322  3643   4965\n",
            "(0.347, 0.35]   1393  3571   4964\n",
            "(0.35, 0.353]   1490  3475   4965\n",
            "(0.353, 0.357]  1596  3369   4965\n",
            "(0.357, 0.455]  2006  2959   4965\n"
          ],
          "name": "stdout"
        }
      ]
    },
    {
      "cell_type": "code",
      "metadata": {
        "colab": {
          "base_uri": "https://localhost:8080/"
        },
        "id": "5qEI9hCP2vtZ",
        "outputId": "120ec626-f81e-45a9-ee61-3d3a96f4c15f"
      },
      "source": [
        "# TABLEAU MONTANT\n",
        "tableau_5_montant(vingtiles_tableau, data_montant_orig, affichage=True,\n",
        "            save=False, path = \"/content/drive/MyDrive/spad_score_method_1/spad_projection_FDFTOT21/Fichier_excel_vingtiles/montant_svm.xlsx\")"
      ],
      "id": "5qEI9hCP2vtZ",
      "execution_count": 14,
      "outputs": [
        {
          "output_type": "stream",
          "text": [
            "            IDENT     PROBA        TRANCHES CLASSE  SommeDeMONTANT_NUM\n",
            "0      0010523065  0.190200  (0.189, 0.294]      1                30.0\n",
            "1      0010368416  0.191508  (0.189, 0.294]      1                20.0\n",
            "2      0010369841  0.192169  (0.189, 0.294]      1                30.0\n",
            "3      0010338540  0.194723  (0.189, 0.294]      1                20.0\n",
            "4      0010379997  0.197405  (0.189, 0.294]      1                10.0\n",
            "...           ...       ...             ...    ...                 ...\n",
            "99291  0010344903  0.430983  (0.357, 0.455]     20                15.0\n",
            "99292  0010358624  0.431666  (0.357, 0.455]     20                50.0\n",
            "99293  0010253604  0.435378  (0.357, 0.455]     20               100.0\n",
            "99294  0010257873  0.439164  (0.357, 0.455]     20                50.0\n",
            "99295  0010397746  0.454565  (0.357, 0.455]     20                50.0\n",
            "\n",
            "[99146 rows x 5 columns]\n",
            "          TRANCHES Moyen_Somme TOTAL\n",
            "0   (0.189, 0.294]     29.9264  4966\n",
            "1   (0.294, 0.307]     36.5768  4962\n",
            "2   (0.307, 0.315]     40.8403  4958\n",
            "3   (0.315, 0.321]     48.8785  4963\n",
            "4   (0.321, 0.325]     48.5398  4960\n",
            "5   (0.325, 0.328]     44.2492  4959\n",
            "6   (0.328, 0.331]     47.4531  4960\n",
            "7   (0.331, 0.333]     41.3336  4960\n",
            "8   (0.333, 0.335]     44.6538  4958\n",
            "9   (0.335, 0.337]     43.1319  4962\n",
            "10  (0.337, 0.339]     46.1932  4962\n",
            "11   (0.339, 0.34]     47.1251  4951\n",
            "12   (0.34, 0.342]     42.7047  4957\n",
            "13  (0.342, 0.343]     48.4843  4955\n",
            "14  (0.343, 0.345]     44.0359  4953\n",
            "15  (0.345, 0.347]     48.6723  4950\n",
            "16   (0.347, 0.35]     55.5006  4950\n",
            "17   (0.35, 0.353]     52.5016  4957\n",
            "18  (0.353, 0.357]     53.2039  4956\n",
            "19  (0.357, 0.455]     65.3457  4947\n"
          ],
          "name": "stdout"
        }
      ]
    },
    {
      "cell_type": "code",
      "metadata": {
        "id": "wFltVBVFo9nn"
      },
      "source": [
        ""
      ],
      "id": "wFltVBVFo9nn",
      "execution_count": null,
      "outputs": []
    },
    {
      "cell_type": "code",
      "metadata": {
        "colab": {
          "base_uri": "https://localhost:8080/"
        },
        "id": "Ja0XEUe2lym2",
        "outputId": "feecff59-f625-48ac-8274-a0f177c53007"
      },
      "source": [
        "# INDIVIDUS SANS TARGET\n",
        "test_target = vingtiles_ind_sans_target(model=model_SVC, data_orig= data_var_qualitatives_temp[(data_var_qualitatives_temp.isnull()).sum(axis=1) != 0], affichage=True,\n",
        "            save=False, path = \"/content/drive/MyDrive/spad_score_method_1/spad_projection_FDFTOT21/Fichier_excel_vingtiles/ind_sans_target_svm.xlsx\")"
      ],
      "id": "Ja0XEUe2lym2",
      "execution_count": null,
      "outputs": [
        {
          "output_type": "stream",
          "text": [
            "             IDENT     PROBA\n",
            "458714  0170006005  0.202699\n",
            "188962  0050029657  0.205903\n",
            "482219  0180021510  0.206059\n",
            "626153  0240008944  0.208611\n",
            "973846  0360051014  0.208696\n",
            "...            ...       ...\n",
            "636562  0250009346  0.905929\n",
            "636629  0250009413  0.906443\n",
            "628755  0250001539  0.910077\n",
            "644769  0250017553  0.910625\n",
            "895764  0340001932  0.917835\n",
            "\n",
            "[1092884 rows x 2 columns]\n",
            "0.734046    303\n",
            "0.798384    229\n",
            "0.800471    223\n",
            "0.736208    222\n",
            "0.816451    214\n",
            "           ... \n",
            "0.347956      1\n",
            "0.379438      1\n",
            "0.572267      1\n",
            "0.618289      1\n",
            "0.531645      1\n",
            "Name: PROBA, Length: 838236, dtype: int64\n",
            "                 PROBA\n",
            "458714  (0.202, 0.316]\n",
            "188962  (0.202, 0.316]\n",
            "482219  (0.202, 0.316]\n",
            "626153  (0.202, 0.316]\n",
            "973846  (0.202, 0.316]\n",
            "...                ...\n",
            "636562  (0.722, 0.918]\n",
            "636629  (0.722, 0.918]\n",
            "628755  (0.722, 0.918]\n",
            "644769  (0.722, 0.918]\n",
            "895764  (0.722, 0.918]\n",
            "\n",
            "[1092884 rows x 1 columns]\n",
            "             IDENT     PROBA        TRANCHES\n",
            "458714  0170006005  0.202699  (0.202, 0.316]\n",
            "188962  0050029657  0.205903  (0.202, 0.316]\n",
            "482219  0180021510  0.206059  (0.202, 0.316]\n",
            "626153  0240008944  0.208611  (0.202, 0.316]\n",
            "973846  0360051014  0.208696  (0.202, 0.316]\n",
            "...            ...       ...             ...\n",
            "636562  0250009346  0.905929  (0.722, 0.918]\n",
            "636629  0250009413  0.906443  (0.722, 0.918]\n",
            "628755  0250001539  0.910077  (0.722, 0.918]\n",
            "644769  0250017553  0.910625  (0.722, 0.918]\n",
            "895764  0340001932  0.917835  (0.722, 0.918]\n",
            "\n",
            "[1092884 rows x 3 columns]\n",
            "(0.471, 0.488]    54642\n",
            "(0.488, 0.506]    54643\n",
            "(0.577, 0.6]      54644\n",
            "(0.6, 0.627]      54644\n",
            "(0.316, 0.343]    54644\n",
            "(0.343, 0.364]    54644\n",
            "(0.436, 0.454]    54644\n",
            "(0.364, 0.383]    54644\n",
            "(0.558, 0.577]    54644\n",
            "(0.664, 0.722]    54644\n",
            "(0.522, 0.54]     54644\n",
            "(0.383, 0.402]    54644\n",
            "(0.506, 0.522]    54644\n",
            "(0.627, 0.664]    54644\n",
            "(0.419, 0.436]    54644\n",
            "(0.202, 0.316]    54645\n",
            "(0.402, 0.419]    54645\n",
            "(0.722, 0.918]    54645\n",
            "(0.54, 0.558]     54645\n",
            "(0.454, 0.471]    54647\n",
            "Name: TRANCHES, dtype: int64\n",
            "          TRANCHES COUNTS\n",
            "0   (0.202, 0.316]  54645\n",
            "1   (0.316, 0.343]  54644\n",
            "2   (0.343, 0.364]  54644\n",
            "3   (0.364, 0.383]  54644\n",
            "4   (0.383, 0.402]  54644\n",
            "5   (0.402, 0.419]  54645\n",
            "6   (0.419, 0.436]  54644\n",
            "7   (0.436, 0.454]  54644\n",
            "8   (0.454, 0.471]  54647\n",
            "9   (0.471, 0.488]  54642\n",
            "10  (0.488, 0.506]  54643\n",
            "11  (0.506, 0.522]  54644\n",
            "12   (0.522, 0.54]  54644\n",
            "13   (0.54, 0.558]  54645\n",
            "14  (0.558, 0.577]  54644\n",
            "15    (0.577, 0.6]  54644\n",
            "16    (0.6, 0.627]  54644\n",
            "17  (0.627, 0.664]  54644\n",
            "18  (0.664, 0.722]  54644\n",
            "19  (0.722, 0.918]  54645\n"
          ],
          "name": "stdout"
        }
      ]
    },
    {
      "cell_type": "code",
      "metadata": {
        "id": "6a62db87"
      },
      "source": [
        "####################################################################################\n",
        "#                                FIN PREMIERS TESTS\n",
        "####################################################################################"
      ],
      "id": "6a62db87",
      "execution_count": null,
      "outputs": []
    },
    {
      "cell_type": "code",
      "metadata": {
        "id": "178704f4"
      },
      "source": [
        ""
      ],
      "id": "178704f4",
      "execution_count": null,
      "outputs": []
    },
    {
      "cell_type": "code",
      "metadata": {
        "id": "2b90ca16"
      },
      "source": [
        ""
      ],
      "id": "2b90ca16",
      "execution_count": null,
      "outputs": []
    },
    {
      "cell_type": "code",
      "metadata": {
        "id": "1d2bc66a"
      },
      "source": [
        ""
      ],
      "id": "1d2bc66a",
      "execution_count": null,
      "outputs": []
    },
    {
      "cell_type": "code",
      "metadata": {
        "id": "e52f95fe"
      },
      "source": [
        ""
      ],
      "id": "e52f95fe",
      "execution_count": null,
      "outputs": []
    },
    {
      "cell_type": "code",
      "metadata": {
        "id": "5d4494ad"
      },
      "source": [
        "####################################################################################################\n",
        "#\n",
        "#                                        DATA AUGMENTATION\n",
        "#\n",
        "####################################################################################################"
      ],
      "id": "5d4494ad",
      "execution_count": null,
      "outputs": []
    },
    {
      "cell_type": "code",
      "metadata": {
        "id": "8f4843be"
      },
      "source": [
        "####################################################################################################\n",
        "#\n",
        "#                                       UNDER-SAMPLING  ET OVER-SAMPLING\n",
        "#\n",
        "####################################################################################################"
      ],
      "id": "8f4843be",
      "execution_count": null,
      "outputs": []
    },
    {
      "cell_type": "code",
      "metadata": {
        "id": "_LK3t4SFt4lB"
      },
      "source": [
        "##########################################\n",
        "# AVEC VARIABLES DONS ET ENCODAGE DUMMIES\n",
        "##########################################\n",
        "\n",
        "# test predict individus sans classe\n",
        "data = data_orig.copy()\n",
        "\n",
        "# on élimine les variables dons\n",
        "data=data.drop([\"GeoFaz_cl\", \"ImmoFaz_Scl\", \"ImmoFaz_cl\", \"Prenom_Phase_cl_H\", \"Prenom_Phase_cl_F\",\n",
        "                \"Onoma-Phase_Scl\", \"Onoma-Phase_CL\"],axis=1)\n",
        "\n",
        "# encodage Onehot sur toutes les données (on évite ainsi les erreurs futures)\n",
        "nb_var = data.shape[1] - 1\n",
        "data_1_22 = pd.get_dummies(data.iloc[:,1:(data.shape[1]-1)], columns=data.columns[1:(data.shape[1]-1)] )\n",
        "data_var_qualitatives_temp =  pd.concat([data[\"IDENT\"], data_1_22, data[\"Top_mon\"]], axis=1)\n",
        "data = data_var_qualitatives_temp\n",
        "#encodage = OneHotEncoder()\n",
        "#encodage.fit(data_processing(data.iloc[:,1:nb_var]))\n",
        "\n",
        "# élimination des individus n'ayant pas de valeur pour la varialbe Top_mon\n",
        "\"\"\"IMPORTANT\"\"\"\n",
        "data_sans_nan = data[(data.isnull()).sum(axis=1) == 0]\n",
        "\n",
        "#conversion du type de variable\n",
        "for i in range(1,data_sans_nan.shape[1]):\n",
        "    data_sans_nan.iloc[:,i]=data_sans_nan.iloc[:,i].astype(int)\n",
        "\n",
        "# base de données avec des variables corrélées et avec encodage OneHot\n",
        "data =data_sans_nan\n",
        "\n",
        "nb_var = data.shape[1] - 1\n",
        "train_set, test_set = train_test_split(data, test_size = 0.2, random_state=0 )\n",
        "\n",
        "train_X_s = (train_set.iloc[:,1:nb_var]).to_numpy()\n",
        "train_Y_s = np.asanyarray(train_set.iloc[:,nb_var])\n",
        "\n",
        "test_X_s = (test_set.iloc[:,1:nb_var]).to_numpy()\n",
        "test_Y_s = np.asanyarray(test_set.iloc[:,nb_var])\n"
      ],
      "id": "_LK3t4SFt4lB",
      "execution_count": null,
      "outputs": []
    },
    {
      "cell_type": "code",
      "metadata": {
        "id": "6bK9oJU4tzzh"
      },
      "source": [
        "\n",
        "from imblearn.under_sampling import TomekLinks\n",
        "from imblearn.over_sampling import SMOTE"
      ],
      "id": "6bK9oJU4tzzh",
      "execution_count": null,
      "outputs": []
    },
    {
      "cell_type": "code",
      "metadata": {
        "colab": {
          "base_uri": "https://localhost:8080/",
          "height": 139
        },
        "id": "sa_nSucG6qO-",
        "outputId": "b6499ef0-26dc-4389-9da3-e2f362a2cfe3"
      },
      "source": [
        "\n",
        "# dimension du train set\n",
        "print(\"Sans aucun traitement sur le train set : \" , np.unique(train_Y_s, return_counts=True))\n",
        "\n",
        "# diminution des données\n",
        "t2 = TomekLinks(random_state=0)\n",
        "X_resampled, y_resampled = t2.fit_resample(train_X_s[:,:nb_var] , train_Y_s )\n",
        "print(\"Après under-sampling : \", np.unique(y_resampled, return_counts=True ))\n",
        "\n",
        "# augmentation des données\n",
        "tl = SMOTE(random_state=0)\n",
        "X_resampled, y_resampled = tl.fit_resample(X_resampled, y_resampled )\n",
        "print(\"Après over-smapling : \" , np.unique(y_resampled, return_counts=True ))\n",
        "\n",
        "'''\n",
        "# enregistrement du nouveau train set car le traitement du under-sampling prendre du temps \n",
        "pd.DataFrame(np.concatenate((X_resampled, y_resampled.reshape((y_resampled.shape[0],1)) ),\n",
        "                            axis=1)).to_csv(\"/content/drive/MyDrive/spad_score_method_1/spad_projection_FDFTOT21/sans_val_corr_spad_under_over_sampling.txt\",\n",
        "                                            sep=\" \", index =False , header = False, encoding =\"utf-8\")\n",
        "'''\n"
      ],
      "id": "sa_nSucG6qO-",
      "execution_count": null,
      "outputs": [
        {
          "output_type": "stream",
          "text": [
            "Sans aucun traitement sur le train set :  (array([1, 2]), array([21397, 58039]))\n",
            "Après under-sampling :  (array([1, 2]), array([21397, 52706]))\n",
            "Après over-smapling :  (array([1, 2]), array([52706, 52706]))\n"
          ],
          "name": "stdout"
        },
        {
          "output_type": "execute_result",
          "data": {
            "application/vnd.google.colaboratory.intrinsic+json": {
              "type": "string"
            },
            "text/plain": [
              "'\\n# enregistrement du nouveau train set car le traitement du under-sampling prendre du temps \\npd.DataFrame(np.concatenate((X_resampled, y_resampled.reshape((y_resampled.shape[0],1)) ),\\n                            axis=1)).to_csv(\"/content/drive/MyDrive/spad_score_method_1/spad_projection_FDFTOT21/sans_val_corr_spad_under_over_sampling.txt\",\\n                                            sep=\" \", index =False , header = False, encoding =\"utf-8\")\\n'"
            ]
          },
          "metadata": {
            "tags": []
          },
          "execution_count": 85
        }
      ]
    },
    {
      "cell_type": "code",
      "metadata": {
        "id": "5mp7wBBvMtWz"
      },
      "source": [
        ""
      ],
      "id": "5mp7wBBvMtWz",
      "execution_count": null,
      "outputs": []
    },
    {
      "cell_type": "code",
      "metadata": {
        "id": "yk6snWL1MyHc"
      },
      "source": [
        "'''\n",
        "# Résultat du traitement sur le train set (under-sampling et over-sampling)\n",
        "abc_test = pd.read_csv(\"/content/drive/MyDrive/spad_score_method_1/spad_projection_FDFTOT21/sans_val_corr_spad_under_over_sampling.txt\", delim_whitespace=\"\\t\", header = None, low_memory=False, dtype=\"Int64\" ) #, dtype='Int64')\n",
        "abc_np = abc_test.to_numpy(dtype=\"Int64\")\n",
        "\n",
        "X_resampled = abc_np[:,:-1]\n",
        "y_resampled = abc_np[:, abc_np.shape[1] -1 ]\n",
        "'''"
      ],
      "id": "yk6snWL1MyHc",
      "execution_count": null,
      "outputs": []
    },
    {
      "cell_type": "code",
      "metadata": {
        "colab": {
          "base_uri": "https://localhost:8080/"
        },
        "id": "X5C3X2ODQxNu",
        "outputId": "12425876-933b-40ec-9049-715cc9c8c7e5"
      },
      "source": [
        "X_resampled.shape, y_resampled.shape"
      ],
      "id": "X5C3X2ODQxNu",
      "execution_count": null,
      "outputs": [
        {
          "output_type": "execute_result",
          "data": {
            "text/plain": [
              "((105412, 269), (105412,))"
            ]
          },
          "metadata": {
            "tags": []
          },
          "execution_count": 86
        }
      ]
    },
    {
      "cell_type": "code",
      "metadata": {
        "id": "WzdLmFXvbcCq"
      },
      "source": [
        ""
      ],
      "id": "WzdLmFXvbcCq",
      "execution_count": null,
      "outputs": []
    },
    {
      "cell_type": "code",
      "metadata": {
        "id": "6275209a"
      },
      "source": [
        "#####################################################################################\n",
        "###################################################################################\n",
        "####################################################################################\n",
        "####################################################################################"
      ],
      "id": "6275209a",
      "execution_count": null,
      "outputs": []
    },
    {
      "cell_type": "code",
      "metadata": {
        "id": "R8WMdowvkj0H"
      },
      "source": [
        ""
      ],
      "id": "R8WMdowvkj0H",
      "execution_count": null,
      "outputs": []
    },
    {
      "cell_type": "code",
      "metadata": {
        "id": "b_BJP-9rkknw"
      },
      "source": [
        ""
      ],
      "id": "b_BJP-9rkknw",
      "execution_count": null,
      "outputs": []
    },
    {
      "cell_type": "code",
      "metadata": {
        "id": "T63a5IcBknLq"
      },
      "source": [
        ""
      ],
      "id": "T63a5IcBknLq",
      "execution_count": null,
      "outputs": []
    },
    {
      "cell_type": "code",
      "metadata": {
        "id": "8iqsgl7AqRrJ"
      },
      "source": [
        ""
      ],
      "id": "8iqsgl7AqRrJ",
      "execution_count": null,
      "outputs": []
    }
  ]
}