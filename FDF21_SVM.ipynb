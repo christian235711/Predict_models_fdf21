{
  "nbformat": 4,
  "nbformat_minor": 0,
  "metadata": {
    "colab": {
      "name": "FDF21_SVM.ipynb",
      "provenance": [],
      "collapsed_sections": [],
      "authorship_tag": "ABX9TyMd4yWb/R5IcugWo1hus1zG"
    },
    "kernelspec": {
      "display_name": "Python 3",
      "name": "python3"
    },
    "language_info": {
      "name": "python"
    }
  },
  "cells": [
    {
      "cell_type": "code",
      "metadata": {
        "colab": {
          "base_uri": "https://localhost:8080/"
        },
        "id": "BsZJl8nWrTAJ",
        "outputId": "7b1c81be-221b-4da9-dded-fb3671fafa35"
      },
      "source": [
        "import numpy as np\n",
        "import pandas as pd\n",
        "import seaborn as sns\n",
        "import matplotlib.pyplot as plt\n",
        "import sklearn\n",
        "\n",
        "from sklearn.svm import LinearSVC, SVC\n",
        "\n",
        "from sklearn.metrics import f1_score, confusion_matrix, classification_report, confusion_matrix\n",
        "from sklearn.model_selection import train_test_split, learning_curve, GridSearchCV, RandomizedSearchCV\n",
        "\n",
        "from sklearn.preprocessing import OneHotEncoder\n",
        "\n",
        "from google.colab import drive\n",
        "drive.mount('/content/drive')"
      ],
      "execution_count": null,
      "outputs": [
        {
          "output_type": "stream",
          "text": [
            "Mounted at /content/drive\n"
          ],
          "name": "stdout"
        }
      ]
    },
    {
      "cell_type": "code",
      "metadata": {
        "id": "CQ1IZCwxyRL-"
      },
      "source": [
        "import warnings\n",
        "warnings.filterwarnings(\"ignore\")"
      ],
      "execution_count": null,
      "outputs": []
    },
    {
      "cell_type": "code",
      "metadata": {
        "id": "acHEql4drXPt"
      },
      "source": [
        "# option d'affichage des résultats\n",
        "#pd.set_option(\"display.max_row\",130)\n",
        "pd.set_option(\"display.max_columns\",100)"
      ],
      "execution_count": null,
      "outputs": []
    },
    {
      "cell_type": "code",
      "metadata": {
        "id": "AEdAWARBthC2"
      },
      "source": [
        "# les noms des variables\n",
        "\n",
        "colonnes =([\"IDENT\", \"TypeHabi\", \"GeoFaz_Scl\", \"GeoFaz_cl\", \"ImmoFaz_Scl\", \"ImmoFaz_cl\", \"Anciennete\",\n",
        "            \"Logement_prix_m2\", \"Mediane_RFR\", \"Sexe\", \"Prenom_Phase_scl_H\", \"Prenom_Phase_scl_F\",\n",
        "            \"Prenom_Phase_cl_H\", \"Prenom_Phase_cl_F\", \"Age_H\", \"Age_F\", \"Affinite_1\", \"Affinite_2\",\n",
        "            \"Prenom_effectif\", \"Potentiel_prenom\", \"Onoma-Phase_Scl\", \"Onoma-Phase_CL\", \"Top_mon\"])"
      ],
      "execution_count": null,
      "outputs": []
    },
    {
      "cell_type": "code",
      "metadata": {
        "colab": {
          "base_uri": "https://localhost:8080/",
          "height": 456
        },
        "id": "5Qi7kaSWthE5",
        "outputId": "aab97106-d00a-44e5-af81-60cb765a791e"
      },
      "source": [
        "#data_orig = pd.read_csv(\"C:/Users/Christian/Desktop/my_data_FDFIFI19.txt\",sep=\" \" , names = colonnes, low_memory=False, dtype=str )#, dtype='Int64')\n",
        "data_orig = pd.read_csv(\"/content/drive/MyDrive/spad_score_method_1/spad_projection_FDFTOT21/my_data_FDFTOT21.txt\", delim_whitespace=\"\\t\", header = None, names=colonnes, low_memory=False, dtype=str )#, dtype='Int64')\n",
        "data = data_orig.copy()\n",
        "data"
      ],
      "execution_count": null,
      "outputs": [
        {
          "output_type": "execute_result",
          "data": {
            "text/html": [
              "<div>\n",
              "<style scoped>\n",
              "    .dataframe tbody tr th:only-of-type {\n",
              "        vertical-align: middle;\n",
              "    }\n",
              "\n",
              "    .dataframe tbody tr th {\n",
              "        vertical-align: top;\n",
              "    }\n",
              "\n",
              "    .dataframe thead th {\n",
              "        text-align: right;\n",
              "    }\n",
              "</style>\n",
              "<table border=\"1\" class=\"dataframe\">\n",
              "  <thead>\n",
              "    <tr style=\"text-align: right;\">\n",
              "      <th></th>\n",
              "      <th>IDENT</th>\n",
              "      <th>TypeHabi</th>\n",
              "      <th>GeoFaz_Scl</th>\n",
              "      <th>GeoFaz_cl</th>\n",
              "      <th>ImmoFaz_Scl</th>\n",
              "      <th>ImmoFaz_cl</th>\n",
              "      <th>Anciennete</th>\n",
              "      <th>Logement_prix_m2</th>\n",
              "      <th>Mediane_RFR</th>\n",
              "      <th>Sexe</th>\n",
              "      <th>Prenom_Phase_scl_H</th>\n",
              "      <th>Prenom_Phase_scl_F</th>\n",
              "      <th>Prenom_Phase_cl_H</th>\n",
              "      <th>Prenom_Phase_cl_F</th>\n",
              "      <th>Age_H</th>\n",
              "      <th>Age_F</th>\n",
              "      <th>Affinite_1</th>\n",
              "      <th>Affinite_2</th>\n",
              "      <th>Prenom_effectif</th>\n",
              "      <th>Potentiel_prenom</th>\n",
              "      <th>Onoma-Phase_Scl</th>\n",
              "      <th>Onoma-Phase_CL</th>\n",
              "      <th>Top_mon</th>\n",
              "    </tr>\n",
              "  </thead>\n",
              "  <tbody>\n",
              "    <tr>\n",
              "      <th>0</th>\n",
              "      <td>000000010010000001</td>\n",
              "      <td>02</td>\n",
              "      <td>81</td>\n",
              "      <td>08</td>\n",
              "      <td>91</td>\n",
              "      <td>09</td>\n",
              "      <td>06</td>\n",
              "      <td>21</td>\n",
              "      <td>21</td>\n",
              "      <td>01</td>\n",
              "      <td>71</td>\n",
              "      <td>41</td>\n",
              "      <td>07</td>\n",
              "      <td>04</td>\n",
              "      <td>12</td>\n",
              "      <td>04</td>\n",
              "      <td>20</td>\n",
              "      <td>02</td>\n",
              "      <td>02</td>\n",
              "      <td>01</td>\n",
              "      <td>51</td>\n",
              "      <td>05</td>\n",
              "      <td>1</td>\n",
              "    </tr>\n",
              "    <tr>\n",
              "      <th>1</th>\n",
              "      <td>000000020010000006</td>\n",
              "      <td>01</td>\n",
              "      <td>75</td>\n",
              "      <td>07</td>\n",
              "      <td>43</td>\n",
              "      <td>04</td>\n",
              "      <td>06</td>\n",
              "      <td>06</td>\n",
              "      <td>13</td>\n",
              "      <td>02</td>\n",
              "      <td>71</td>\n",
              "      <td>64</td>\n",
              "      <td>07</td>\n",
              "      <td>06</td>\n",
              "      <td>12</td>\n",
              "      <td>09</td>\n",
              "      <td>04</td>\n",
              "      <td>12</td>\n",
              "      <td>04</td>\n",
              "      <td>13</td>\n",
              "      <td>12</td>\n",
              "      <td>01</td>\n",
              "      <td>1</td>\n",
              "    </tr>\n",
              "    <tr>\n",
              "      <th>2</th>\n",
              "      <td>000000030010000011</td>\n",
              "      <td>01</td>\n",
              "      <td>76</td>\n",
              "      <td>07</td>\n",
              "      <td>43</td>\n",
              "      <td>04</td>\n",
              "      <td>06</td>\n",
              "      <td>06</td>\n",
              "      <td>16</td>\n",
              "      <td>03</td>\n",
              "      <td>54</td>\n",
              "      <td>81</td>\n",
              "      <td>05</td>\n",
              "      <td>08</td>\n",
              "      <td>07</td>\n",
              "      <td>12</td>\n",
              "      <td>06</td>\n",
              "      <td>06</td>\n",
              "      <td>04</td>\n",
              "      <td>18</td>\n",
              "      <td>36</td>\n",
              "      <td>03</td>\n",
              "      <td>2</td>\n",
              "    </tr>\n",
              "    <tr>\n",
              "      <th>3</th>\n",
              "      <td>000000040010000013</td>\n",
              "      <td>03</td>\n",
              "      <td>75</td>\n",
              "      <td>07</td>\n",
              "      <td>43</td>\n",
              "      <td>04</td>\n",
              "      <td>04</td>\n",
              "      <td>06</td>\n",
              "      <td>13</td>\n",
              "      <td>01</td>\n",
              "      <td>71</td>\n",
              "      <td>36</td>\n",
              "      <td>07</td>\n",
              "      <td>03</td>\n",
              "      <td>12</td>\n",
              "      <td>11</td>\n",
              "      <td>11</td>\n",
              "      <td>19</td>\n",
              "      <td>04</td>\n",
              "      <td>06</td>\n",
              "      <td>21</td>\n",
              "      <td>02</td>\n",
              "      <td>1</td>\n",
              "    </tr>\n",
              "    <tr>\n",
              "      <th>4</th>\n",
              "      <td>000000050010000015</td>\n",
              "      <td>02</td>\n",
              "      <td>33</td>\n",
              "      <td>03</td>\n",
              "      <td>44</td>\n",
              "      <td>04</td>\n",
              "      <td>06</td>\n",
              "      <td>07</td>\n",
              "      <td>12</td>\n",
              "      <td>01</td>\n",
              "      <td>71</td>\n",
              "      <td>42</td>\n",
              "      <td>07</td>\n",
              "      <td>04</td>\n",
              "      <td>12</td>\n",
              "      <td>05</td>\n",
              "      <td>14</td>\n",
              "      <td>03</td>\n",
              "      <td>03</td>\n",
              "      <td>01</td>\n",
              "      <td>14</td>\n",
              "      <td>01</td>\n",
              "      <td>2</td>\n",
              "    </tr>\n",
              "    <tr>\n",
              "      <th>...</th>\n",
              "      <td>...</td>\n",
              "      <td>...</td>\n",
              "      <td>...</td>\n",
              "      <td>...</td>\n",
              "      <td>...</td>\n",
              "      <td>...</td>\n",
              "      <td>...</td>\n",
              "      <td>...</td>\n",
              "      <td>...</td>\n",
              "      <td>...</td>\n",
              "      <td>...</td>\n",
              "      <td>...</td>\n",
              "      <td>...</td>\n",
              "      <td>...</td>\n",
              "      <td>...</td>\n",
              "      <td>...</td>\n",
              "      <td>...</td>\n",
              "      <td>...</td>\n",
              "      <td>...</td>\n",
              "      <td>...</td>\n",
              "      <td>...</td>\n",
              "      <td>...</td>\n",
              "      <td>...</td>\n",
              "    </tr>\n",
              "    <tr>\n",
              "      <th>1219994</th>\n",
              "      <td>010928800370109343</td>\n",
              "      <td>01</td>\n",
              "      <td>64</td>\n",
              "      <td>06</td>\n",
              "      <td>82</td>\n",
              "      <td>08</td>\n",
              "      <td>05</td>\n",
              "      <td>16</td>\n",
              "      <td>17</td>\n",
              "      <td>02</td>\n",
              "      <td>71</td>\n",
              "      <td>81</td>\n",
              "      <td>07</td>\n",
              "      <td>08</td>\n",
              "      <td>12</td>\n",
              "      <td>12</td>\n",
              "      <td>21</td>\n",
              "      <td>21</td>\n",
              "      <td>06</td>\n",
              "      <td>21</td>\n",
              "      <td>61</td>\n",
              "      <td>06</td>\n",
              "      <td>NaN</td>\n",
              "    </tr>\n",
              "    <tr>\n",
              "      <th>1219995</th>\n",
              "      <td>010928810370109344</td>\n",
              "      <td>03</td>\n",
              "      <td>61</td>\n",
              "      <td>06</td>\n",
              "      <td>64</td>\n",
              "      <td>06</td>\n",
              "      <td>06</td>\n",
              "      <td>14</td>\n",
              "      <td>01</td>\n",
              "      <td>04</td>\n",
              "      <td>44</td>\n",
              "      <td>81</td>\n",
              "      <td>04</td>\n",
              "      <td>08</td>\n",
              "      <td>05</td>\n",
              "      <td>12</td>\n",
              "      <td>01</td>\n",
              "      <td>05</td>\n",
              "      <td>01</td>\n",
              "      <td>03</td>\n",
              "      <td>54</td>\n",
              "      <td>05</td>\n",
              "      <td>NaN</td>\n",
              "    </tr>\n",
              "    <tr>\n",
              "      <th>1219996</th>\n",
              "      <td>010928820370109345</td>\n",
              "      <td>02</td>\n",
              "      <td>13</td>\n",
              "      <td>01</td>\n",
              "      <td>42</td>\n",
              "      <td>04</td>\n",
              "      <td>07</td>\n",
              "      <td>07</td>\n",
              "      <td>15</td>\n",
              "      <td>02</td>\n",
              "      <td>71</td>\n",
              "      <td>81</td>\n",
              "      <td>07</td>\n",
              "      <td>08</td>\n",
              "      <td>12</td>\n",
              "      <td>12</td>\n",
              "      <td>21</td>\n",
              "      <td>21</td>\n",
              "      <td>06</td>\n",
              "      <td>21</td>\n",
              "      <td>61</td>\n",
              "      <td>06</td>\n",
              "      <td>NaN</td>\n",
              "    </tr>\n",
              "    <tr>\n",
              "      <th>1219997</th>\n",
              "      <td>010928830370109346</td>\n",
              "      <td>02</td>\n",
              "      <td>31</td>\n",
              "      <td>03</td>\n",
              "      <td>82</td>\n",
              "      <td>08</td>\n",
              "      <td>08</td>\n",
              "      <td>16</td>\n",
              "      <td>19</td>\n",
              "      <td>02</td>\n",
              "      <td>71</td>\n",
              "      <td>45</td>\n",
              "      <td>07</td>\n",
              "      <td>04</td>\n",
              "      <td>12</td>\n",
              "      <td>03</td>\n",
              "      <td>02</td>\n",
              "      <td>02</td>\n",
              "      <td>03</td>\n",
              "      <td>01</td>\n",
              "      <td>44</td>\n",
              "      <td>04</td>\n",
              "      <td>NaN</td>\n",
              "    </tr>\n",
              "    <tr>\n",
              "      <th>1219998</th>\n",
              "      <td>010928840370109347</td>\n",
              "      <td>02</td>\n",
              "      <td>12</td>\n",
              "      <td>01</td>\n",
              "      <td>82</td>\n",
              "      <td>08</td>\n",
              "      <td>06</td>\n",
              "      <td>17</td>\n",
              "      <td>17</td>\n",
              "      <td>03</td>\n",
              "      <td>33</td>\n",
              "      <td>81</td>\n",
              "      <td>03</td>\n",
              "      <td>08</td>\n",
              "      <td>07</td>\n",
              "      <td>12</td>\n",
              "      <td>03</td>\n",
              "      <td>03</td>\n",
              "      <td>05</td>\n",
              "      <td>20</td>\n",
              "      <td>31</td>\n",
              "      <td>03</td>\n",
              "      <td>NaN</td>\n",
              "    </tr>\n",
              "  </tbody>\n",
              "</table>\n",
              "<p>1219999 rows × 23 columns</p>\n",
              "</div>"
            ],
            "text/plain": [
              "                      IDENT TypeHabi GeoFaz_Scl GeoFaz_cl ImmoFaz_Scl  \\\n",
              "0        000000010010000001       02         81        08          91   \n",
              "1        000000020010000006       01         75        07          43   \n",
              "2        000000030010000011       01         76        07          43   \n",
              "3        000000040010000013       03         75        07          43   \n",
              "4        000000050010000015       02         33        03          44   \n",
              "...                     ...      ...        ...       ...         ...   \n",
              "1219994  010928800370109343       01         64        06          82   \n",
              "1219995  010928810370109344       03         61        06          64   \n",
              "1219996  010928820370109345       02         13        01          42   \n",
              "1219997  010928830370109346       02         31        03          82   \n",
              "1219998  010928840370109347       02         12        01          82   \n",
              "\n",
              "        ImmoFaz_cl Anciennete Logement_prix_m2 Mediane_RFR Sexe  \\\n",
              "0               09         06               21          21   01   \n",
              "1               04         06               06          13   02   \n",
              "2               04         06               06          16   03   \n",
              "3               04         04               06          13   01   \n",
              "4               04         06               07          12   01   \n",
              "...            ...        ...              ...         ...  ...   \n",
              "1219994         08         05               16          17   02   \n",
              "1219995         06         06               14          01   04   \n",
              "1219996         04         07               07          15   02   \n",
              "1219997         08         08               16          19   02   \n",
              "1219998         08         06               17          17   03   \n",
              "\n",
              "        Prenom_Phase_scl_H Prenom_Phase_scl_F Prenom_Phase_cl_H  \\\n",
              "0                       71                 41                07   \n",
              "1                       71                 64                07   \n",
              "2                       54                 81                05   \n",
              "3                       71                 36                07   \n",
              "4                       71                 42                07   \n",
              "...                    ...                ...               ...   \n",
              "1219994                 71                 81                07   \n",
              "1219995                 44                 81                04   \n",
              "1219996                 71                 81                07   \n",
              "1219997                 71                 45                07   \n",
              "1219998                 33                 81                03   \n",
              "\n",
              "        Prenom_Phase_cl_F Age_H Age_F Affinite_1 Affinite_2 Prenom_effectif  \\\n",
              "0                      04    12    04         20         02              02   \n",
              "1                      06    12    09         04         12              04   \n",
              "2                      08    07    12         06         06              04   \n",
              "3                      03    12    11         11         19              04   \n",
              "4                      04    12    05         14         03              03   \n",
              "...                   ...   ...   ...        ...        ...             ...   \n",
              "1219994                08    12    12         21         21              06   \n",
              "1219995                08    05    12         01         05              01   \n",
              "1219996                08    12    12         21         21              06   \n",
              "1219997                04    12    03         02         02              03   \n",
              "1219998                08    07    12         03         03              05   \n",
              "\n",
              "        Potentiel_prenom Onoma-Phase_Scl Onoma-Phase_CL Top_mon  \n",
              "0                     01              51             05       1  \n",
              "1                     13              12             01       1  \n",
              "2                     18              36             03       2  \n",
              "3                     06              21             02       1  \n",
              "4                     01              14             01       2  \n",
              "...                  ...             ...            ...     ...  \n",
              "1219994               21              61             06     NaN  \n",
              "1219995               03              54             05     NaN  \n",
              "1219996               21              61             06     NaN  \n",
              "1219997               01              44             04     NaN  \n",
              "1219998               20              31             03     NaN  \n",
              "\n",
              "[1219999 rows x 23 columns]"
            ]
          },
          "metadata": {
            "tags": []
          },
          "execution_count": 5
        }
      ]
    },
    {
      "cell_type": "code",
      "metadata": {
        "id": "p0jH5nQXynoz"
      },
      "source": [
        "#nombre de modalités de chaque variables (dans un dataframe)\n",
        "def nombre_mod(data2):\n",
        "    #création d'un dataframe vide\n",
        "    dff= pd.DataFrame(columns=[\"VARIABLE\",\"NOMBRE_MOD\", \"NOMBRE_MOD_SANS_NA\"])\n",
        "    for i in range(data2.shape[1]): # sans compter les valeurs manquantes\n",
        "        taille =len(data2.iloc[:,i].value_counts(dropna=False))\n",
        "        taille_1 = len(data2.iloc[:,i].value_counts(dropna=True) )\n",
        "        dff=dff.append({\"VARIABLE\": colonnes[i],\"NOMBRE_MOD\":taille, \"NOMBRE_MOD_SANS_NA\":taille_1 }, ignore_index=True)\n",
        "    return dff\n",
        "\n",
        "# sélection des corrélations les plus importantes\n",
        "def variables_corr(tableau_corr, seuil):\n",
        "    colonnes = tableau_corr.columns\n",
        "    val_temp = 0 \n",
        "    variables_corr_pos=[] ; variables_corr_pos_val=[]\n",
        "    variables_corr_neg=[] ; variables_corr_neg_val=[]\n",
        "    for i in range(tableau_corr.shape[0]):  \n",
        "        for j in range(tableau_corr.shape[0]):\n",
        "            if i<j: #i!=j:\n",
        "                if (tableau_corr.iloc[i,j] > seuil):\n",
        "                    variables_corr_pos.append(colonnes[j])\n",
        "                    variables_corr_pos_val.append(round( tableau_corr.iloc[i,j], 2))\n",
        "                    val_temp += 1\n",
        "\n",
        "                if (tableau_corr.iloc[i,j] <-seuil):\n",
        "                    variables_corr_neg.append(colonnes[j])\n",
        "                    variables_corr_neg_val.append(round( tableau_corr.iloc[i,j], 2))\n",
        "                    val_temp += 1\n",
        "\n",
        "        if (len(variables_corr_pos) > 0) | (len(variables_corr_neg) >0) :\n",
        "            print(\"variable : \", colonnes[i])\n",
        "            if len(variables_corr_pos) > 0:    \n",
        "                print(\"corr pos\", variables_corr_pos)\n",
        "                print(\"corr pos\", variables_corr_pos_val)\n",
        "                val_temp += 1\n",
        "\n",
        "            if len(variables_corr_neg) >0:  \n",
        "                print(\"corr neg\", variables_corr_neg)\n",
        "                print(\"corr neg\", variables_corr_neg_val)\n",
        "                val_temp += 1\n",
        "            print(\"\")\n",
        "        variables_corr_pos = variables_corr_pos*0\n",
        "        variables_corr_neg = variables_corr_pos*0\n",
        "\n",
        "        variables_corr_pos_val = variables_corr_pos_val*0\n",
        "        variables_corr_neg_val = variables_corr_pos_val*0\n",
        "    if val_temp == 0:\n",
        "        print(\"IL N'Y A PAS DE CORRELATION ENTRE LES VARIABLES PAR RAPPORT AU SEUIL PRIS\")\n",
        "        \n",
        "\n",
        "def evaluation(model, X_train, y_train, X_test, y_test, scoring, plot):\n",
        "\n",
        "    model.fit(X_train, y_train)\n",
        "    y_pred = model.predict(X_test)\n",
        "    \n",
        "    print(\"test set : \")\n",
        "    print(confusion_matrix(y_test, y_pred))\n",
        "    print(classification_report(y_test, y_pred)) \n",
        "    print(\"train set : \")\n",
        "    print(confusion_matrix(y_train, model.predict(X_train)))  \n",
        "    print(classification_report(y_train, model.predict(X_train) ))\n",
        "\n",
        "    if plot == True:\n",
        "        N, train_score, val_score = learning_curve(model, X_train, y_train, shuffle=True, cv = 4, scoring = scoring, train_sizes = np.linspace(0.1, 1, 6) )\n",
        "\n",
        "        plt.figure(figsize = (10,6))\n",
        "        plt.plot(N, train_score.mean(axis=1), label =\"train_score\")\n",
        "        plt.plot(N, val_score.mean(axis=1), label =\"cross_validation_score\")\n",
        "        plt.legend()\n",
        "    else :\n",
        "        print(\"GRAPHIQUE NON DEMANDE\")\n",
        "\n",
        "# Comme il n'y a pas de valeurs manquantes (à la place il y a un nombre), le seul traitement qu'on fait c'est tranformer\n",
        "# le type de variable (les variables continues deviennent qualitatives)\n",
        "def data_processing(df):\n",
        "    \"\"\" \n",
        "    for i in range(0,len(df.columns)):    \n",
        "        df[df.columns[i]].fillna(100.0, inplace=True) #On remplace les données manquantes par 100\n",
        "    for i in range(0,len(df.columns)):\n",
        "        print(df[df.columns[i]].value_counts(dropna=False))    \n",
        "    \"\"\"\n",
        "    \n",
        "   #Transformation de toutes les variables en facteurs         \n",
        "    for i in range(0,len(df.columns)):\n",
        "        df[df.columns[i]] = df[df.columns[i]].astype('category')\n",
        "    return df.to_numpy() #.as_matrix()\n",
        "\n",
        "\n",
        "def vingtiles(model, data_orig, affichage, save, path):\n",
        "    # position de la dernière variable explicative dans le dataset\n",
        "    nb_var = data_orig.shape[1]-1\n",
        "\n",
        "    # predict sur tous les individus (avec et sans classe IFI+)\n",
        "    tous_probas = model.predict_proba(data_orig.iloc[:,1:nb_var])\n",
        "    df_tous = pd.DataFrame({'IDENT': data_orig.iloc[:,0] , 'PROBA': tous_probas[:,0] })\n",
        "    #df_tous\n",
        "    \n",
        "    # valeurs ordonnées pour diviser après\n",
        "    df_tous=df_tous.sort_values(by='PROBA', ascending=True)\n",
        "    #df_tous\n",
        "    print(df_tous)\n",
        "    \n",
        "    #vérification\n",
        "    print(df_tous['PROBA'].value_counts())\n",
        "\n",
        "    # quarantiles\n",
        "    df_temp =pd.DataFrame( pd.qcut(df_tous['PROBA'],q= 20)  )\n",
        "    print(df_temp)\n",
        "\n",
        "    # ajout par index (IMPORTANTE)\n",
        "    df_tous[\"TRANCHES\"]=pd.DataFrame(df_temp.iloc[:,0].to_numpy(),index= df_temp.index)\n",
        "    #print(df_tous)\n",
        "    \n",
        "    # pour la colonne Top_mon :\n",
        "    # remplissage de la dernière colonne par 2 (VALABLE QUE POUR CE DATA, MODIFIER POUR D'AUTRES)\n",
        "    data_temp_t = data_orig.copy()\n",
        "    # remplacement\n",
        "    data_temp_t[\"Top_mon\"] =  data_temp_t[\"Top_mon\"].replace(1.0,'1')\n",
        "    data_temp_t[\"Top_mon\"] =  data_temp_t[\"Top_mon\"].replace(2.0,'2')\n",
        "    data_all_complet_class = data_temp_t.fillna('2')\n",
        "    #data_all_complet_class\n",
        "\n",
        "    # jointure\n",
        "    ident_class_tous = data_all_complet_class[[\"IDENT\",\"Top_mon\"]]\n",
        "    tableau_resultats = pd.merge(df_tous,ident_class_tous)\n",
        "    #tableau_resultats\n",
        "\n",
        "    # tranches finales\n",
        "    tab_cross_temp = pd.crosstab(tableau_resultats[\"TRANCHES\"],tableau_resultats[\"Top_mon\"])\n",
        "    #print(tab_cross_temp); print(\"-----------------------\")\n",
        "\n",
        "    # création d'une colonne total\n",
        "    tab_cross_temp[\"TOTAL\"]=tab_cross_temp[\"1\"]+tab_cross_temp[\"2\"]\n",
        "    \n",
        "    # affichage\n",
        "    if affichage ==True:        \n",
        "        print(tab_cross_temp)\n",
        "\n",
        "    # création du tableau final en éliminant la colonne 2\n",
        "    #tab_pour_excel = tab_cross_temp.drop([\"2\"], axis=1)\n",
        "\n",
        "    # si on ne veut pas éliminer la colonne 2\n",
        "    tab_pour_excel =  tab_cross_temp\n",
        "    \n",
        "    # enregistrement sous Excel\n",
        "    if save == True:\n",
        "        tab_pour_excel.to_excel(path)\n",
        "\n",
        "def vingtiles_ind_sans_target(model, data_orig, affichage, save, path):\n",
        "    # position de la dernière variable explicative dans le dataset\n",
        "    nb_var = data_orig.shape[1]-1\n",
        "\n",
        "    # predict sur tous les individus (avec et sans classe IFI+)\n",
        "    tous_probas = model.predict_proba(data_orig.iloc[:,1:nb_var])\n",
        "    df_tous = pd.DataFrame({'IDENT': data_orig.iloc[:,0] , 'PROBA': tous_probas[:,0] })\n",
        "    #df_tous\n",
        "    \n",
        "    # valeurs ordonnées pour diviser après\n",
        "    df_tous=df_tous.sort_values(by='PROBA', ascending=True)\n",
        "    #df_tous\n",
        "    print(df_tous)\n",
        "    \n",
        "    #vérification\n",
        "    print(df_tous['PROBA'].value_counts())\n",
        "\n",
        "    # quarantiles\n",
        "    df_temp =pd.DataFrame( pd.qcut(df_tous['PROBA'],q= 20)  )\n",
        "    print(df_temp)\n",
        "\n",
        "    # ajout par index (IMPORTANTE)\n",
        "    df_tous[\"TRANCHES\"]=pd.DataFrame(df_temp.iloc[:,0].to_numpy(),index= df_temp.index)\n",
        "    print(df_tous)\n",
        "    print(df_tous[\"TRANCHES\"].value_counts(ascending = True))\n",
        "\n",
        "    # GERE L'ORDRE\n",
        "    patra = np.unique(df_tous.iloc[:,2], return_counts=True)\n",
        "    df_tranches_sans_target = pd.DataFrame([patra[0],patra[1]]).T\n",
        "    df_tranches_sans_target.columns=[\"TRANCHES\",\"COUNTS\"]\n",
        "\n",
        "    # affichage\n",
        "    if affichage ==True:        \n",
        "        print(df_tranches_sans_target)\n",
        "    \n",
        "    # enregistrement sous Excel\n",
        "    if save == True:\n",
        "        df_tranches_sans_target.to_excel(path)\n",
        "    \n",
        "\n",
        "# élimination des variables trop corrélées (choix manuel)\n",
        "def elimination_val_corr(data):\n",
        "    data = data.drop(columns=[\"\"])\n",
        "    return data\n",
        "\n",
        "  \n"
      ],
      "execution_count": null,
      "outputs": []
    },
    {
      "cell_type": "code",
      "metadata": {
        "id": "SfyUkn9rthHd"
      },
      "source": [
        "####################################################################################\n",
        "#                                 PREMIERS TESTS\n",
        "####################################################################################\n"
      ],
      "execution_count": null,
      "outputs": []
    },
    {
      "cell_type": "code",
      "metadata": {
        "id": "DwLaUOkUyyIG"
      },
      "source": [
        "##########################################\n",
        "# SANS LES VARIABLES CORR  ET ENCODAGE DUMMIES\n",
        "#########################################"
      ],
      "execution_count": null,
      "outputs": []
    },
    {
      "cell_type": "code",
      "metadata": {
        "id": "ED1X5uh9rXSQ"
      },
      "source": [
        "# test predict individus sans classe\n",
        "data = data_orig.copy()\n",
        "\n",
        "# on élimine les variables dons\n",
        "data=data.drop([\"GeoFaz_cl\", \"ImmoFaz_Scl\", \"ImmoFaz_cl\", \"Prenom_Phase_cl_H\", \"Prenom_Phase_cl_F\",\n",
        "                \"Onoma-Phase_Scl\", \"Onoma-Phase_CL\"],axis=1)\n",
        "\n",
        "# encodage Onehot sur toutes les données (on évite ainsi les erreurs futures)\n",
        "nb_var = data.shape[1] - 1\n",
        "data_1_22 = pd.get_dummies(data.iloc[:,1:(data.shape[1]-1)], columns=data.columns[1:(data.shape[1]-1)] )\n",
        "data_var_qualitatives_temp =  pd.concat([data[\"IDENT\"], data_1_22, data[\"Top_mon\"]], axis=1)\n",
        "data = data_var_qualitatives_temp\n",
        "#encodage = OneHotEncoder()\n",
        "#encodage.fit(data_processing(data.iloc[:,1:nb_var]))\n",
        "\n",
        "# élimination des individus n'ayant pas de valeur pour la varialbe IFI+\n",
        "\"\"\"IMPORTANT\"\"\"\n",
        "data_sans_nan = data[(data.isnull()).sum(axis=1) == 0]\n",
        "\n",
        "#conversion du type de variable\n",
        "for i in range(1,data_sans_nan.shape[1]):\n",
        "    data_sans_nan.iloc[:,i]=data_sans_nan.iloc[:,i].astype(int)\n",
        "\n",
        "# base de données avec des variables corrélées et avec encodage OneHot\n",
        "data =data_sans_nan\n",
        "\n",
        "nb_var = data.shape[1] - 1\n",
        "train_set, test_set = train_test_split(data, test_size = 0.2, random_state=0 )\n",
        "\n",
        "train_X_s = (train_set.iloc[:,1:nb_var]).to_numpy()\n",
        "train_Y_s = np.asanyarray(train_set.iloc[:,nb_var])\n",
        "\n",
        "test_X_s = (test_set.iloc[:,1:nb_var]).to_numpy()\n",
        "test_Y_s = np.asanyarray(test_set.iloc[:,nb_var])\n"
      ],
      "execution_count": null,
      "outputs": []
    },
    {
      "cell_type": "code",
      "metadata": {
        "colab": {
          "base_uri": "https://localhost:8080/"
        },
        "id": "YDQLTzs_t7lG",
        "outputId": "3ced491d-0399-453f-ca7f-15aa3fa6bc43"
      },
      "source": [
        "model_LinearSVC = LinearSVC(class_weight =\"balanced\", max_iter=10000, random_state =0 )\n",
        "param = { \"penalty\": [\"l1\", \"l2\"], \"C\":[0.001, 0.01,0.1, 0.5,1, 1.5, 2, 10 ], \"loss\":[\"hinge\", \"squared_hinge\"],\n",
        "         \"dual\": [True, False]}\n",
        "\n",
        "grid_LinearSVC = GridSearchCV(model_LinearSVC, param, cv = 4, scoring = \"recall\")\n",
        "resultat_grid_LinearSVC = grid_LinearSVC.fit(train_X_s, train_Y_s)\n",
        "resultat_grid_LinearSVC.best_params_\n"
      ],
      "execution_count": null,
      "outputs": [
        {
          "output_type": "execute_result",
          "data": {
            "text/plain": [
              "{'C': 0.001, 'dual': False, 'loss': 'squared_hinge', 'penalty': 'l1'}"
            ]
          },
          "metadata": {
            "tags": []
          },
          "execution_count": 8
        }
      ]
    },
    {
      "cell_type": "code",
      "metadata": {
        "colab": {
          "base_uri": "https://localhost:8080/",
          "height": 237
        },
        "id": "0h8JjZCBt7nH",
        "outputId": "82ce7ab2-1933-4937-93ce-7f70f990bb46"
      },
      "source": [
        "#final_model_LinearSVC = LinearSVC(C=0.001, penalty='l2', loss= 'squared_hinge', class_weight =\"balanced\",max_iter=10000 , random_state=0 ) \n",
        "final_model_LinearSVC = LinearSVC(C=0.001,dual=False, loss = \"squared_hinge\", penalty = \"l1\", class_weight = \"balanced\", max_iter=10000, random_state=0  )\n",
        "evaluation(final_model_LinearSVC, train_X_s, train_Y_s, test_X_s, test_Y_s, scoring=\"recall\", plot=False)"
      ],
      "execution_count": null,
      "outputs": [
        {
          "output_type": "error",
          "ename": "TypeError",
          "evalue": "ignored",
          "traceback": [
            "\u001b[0;31m---------------------------------------------------------------------------\u001b[0m",
            "\u001b[0;31mTypeError\u001b[0m                                 Traceback (most recent call last)",
            "\u001b[0;32m<ipython-input-14-d9c4a69627dd>\u001b[0m in \u001b[0;36m<module>\u001b[0;34m()\u001b[0m\n\u001b[1;32m      1\u001b[0m \u001b[0;31m#final_model_LinearSVC = LinearSVC(C=0.001, penalty='l2', loss= 'squared_hinge', class_weight =\"balanced\",max_iter=10000 , random_state=0 )\u001b[0m\u001b[0;34m\u001b[0m\u001b[0;34m\u001b[0m\u001b[0;34m\u001b[0m\u001b[0m\n\u001b[0;32m----> 2\u001b[0;31m \u001b[0mfinal_model_LinearSVC\u001b[0m \u001b[0;34m=\u001b[0m \u001b[0mLinearSVC\u001b[0m\u001b[0;34m(\u001b[0m\u001b[0mC\u001b[0m\u001b[0;34m=\u001b[0m\u001b[0;36m0.001\u001b[0m\u001b[0;34m,\u001b[0m\u001b[0mdual\u001b[0m\u001b[0;34m=\u001b[0m\u001b[0;32mFalse\u001b[0m\u001b[0;34m,\u001b[0m \u001b[0mloss\u001b[0m \u001b[0;34m=\u001b[0m \u001b[0;34m\"squared_hinge\"\u001b[0m\u001b[0;34m,\u001b[0m \u001b[0mpenalty\u001b[0m \u001b[0;34m=\u001b[0m \u001b[0;34m\"l1\"\u001b[0m\u001b[0;34m,\u001b[0m \u001b[0mprobability\u001b[0m\u001b[0;34m=\u001b[0m\u001b[0;32mTrue\u001b[0m\u001b[0;34m,\u001b[0m \u001b[0mcache_size\u001b[0m\u001b[0;34m=\u001b[0m\u001b[0;36m1000\u001b[0m\u001b[0;34m,\u001b[0m \u001b[0mclass_weight\u001b[0m \u001b[0;34m=\u001b[0m \u001b[0;34m\"balanced\"\u001b[0m\u001b[0;34m,\u001b[0m \u001b[0mmax_iter\u001b[0m\u001b[0;34m=\u001b[0m\u001b[0;36m10000\u001b[0m\u001b[0;34m,\u001b[0m \u001b[0mrandom_state\u001b[0m\u001b[0;34m=\u001b[0m\u001b[0;36m0\u001b[0m  \u001b[0;34m)\u001b[0m\u001b[0;34m\u001b[0m\u001b[0;34m\u001b[0m\u001b[0m\n\u001b[0m\u001b[1;32m      3\u001b[0m \u001b[0mevaluation\u001b[0m\u001b[0;34m(\u001b[0m\u001b[0mfinal_model_LinearSVC\u001b[0m\u001b[0;34m,\u001b[0m \u001b[0mtrain_X_s\u001b[0m\u001b[0;34m,\u001b[0m \u001b[0mtrain_Y_s\u001b[0m\u001b[0;34m,\u001b[0m \u001b[0mtest_X_s\u001b[0m\u001b[0;34m,\u001b[0m \u001b[0mtest_Y_s\u001b[0m\u001b[0;34m,\u001b[0m \u001b[0mscoring\u001b[0m\u001b[0;34m=\u001b[0m\u001b[0;34m\"recall\"\u001b[0m\u001b[0;34m,\u001b[0m \u001b[0mplot\u001b[0m\u001b[0;34m=\u001b[0m\u001b[0;32mFalse\u001b[0m\u001b[0;34m)\u001b[0m\u001b[0;34m\u001b[0m\u001b[0;34m\u001b[0m\u001b[0m\n",
            "\u001b[0;31mTypeError\u001b[0m: __init__() got an unexpected keyword argument 'probability'"
          ]
        }
      ]
    },
    {
      "cell_type": "code",
      "metadata": {
        "colab": {
          "base_uri": "https://localhost:8080/",
          "height": 325
        },
        "id": "XHB1a9aAzwbc",
        "outputId": "ab2e8b8b-07b5-4a3f-d8a6-5dab359848b7"
      },
      "source": [
        "\n",
        "quarantiles(model=final_model_LinearSVC, data_orig= data, affichage=True,\n",
        "            save=False, path = \"C:/Users/Christian/Desktop/sans_dons_encodage_dummies_logistic_regression.xlsx\")"
      ],
      "execution_count": null,
      "outputs": [
        {
          "output_type": "error",
          "ename": "AttributeError",
          "evalue": "ignored",
          "traceback": [
            "\u001b[0;31m---------------------------------------------------------------------------\u001b[0m",
            "\u001b[0;31mAttributeError\u001b[0m                            Traceback (most recent call last)",
            "\u001b[0;32m<ipython-input-10-d3043c49d23f>\u001b[0m in \u001b[0;36m<module>\u001b[0;34m()\u001b[0m\n\u001b[1;32m      1\u001b[0m \u001b[0;34m\u001b[0m\u001b[0m\n\u001b[1;32m      2\u001b[0m quarantiles(model=final_model_LinearSVC, data_orig= data, affichage=True,\n\u001b[0;32m----> 3\u001b[0;31m             save=False, path = \"C:/Users/Christian/Desktop/sans_dons_encodage_dummies_logistic_regression.xlsx\")\n\u001b[0m",
            "\u001b[0;32m<ipython-input-6-94233f61ad94>\u001b[0m in \u001b[0;36mquarantiles\u001b[0;34m(model, data_orig, affichage, save, path)\u001b[0m\n\u001b[1;32m     92\u001b[0m \u001b[0;34m\u001b[0m\u001b[0m\n\u001b[1;32m     93\u001b[0m     \u001b[0;31m# predict sur tous les individus (avec et sans classe IFI+)\u001b[0m\u001b[0;34m\u001b[0m\u001b[0;34m\u001b[0m\u001b[0;34m\u001b[0m\u001b[0m\n\u001b[0;32m---> 94\u001b[0;31m     \u001b[0mtous_probas\u001b[0m \u001b[0;34m=\u001b[0m \u001b[0mmodel\u001b[0m\u001b[0;34m.\u001b[0m\u001b[0mpredict_proba\u001b[0m\u001b[0;34m(\u001b[0m\u001b[0mdata_orig\u001b[0m\u001b[0;34m.\u001b[0m\u001b[0miloc\u001b[0m\u001b[0;34m[\u001b[0m\u001b[0;34m:\u001b[0m\u001b[0;34m,\u001b[0m\u001b[0;36m1\u001b[0m\u001b[0;34m:\u001b[0m\u001b[0mnb_var\u001b[0m\u001b[0;34m]\u001b[0m\u001b[0;34m)\u001b[0m\u001b[0;34m\u001b[0m\u001b[0;34m\u001b[0m\u001b[0m\n\u001b[0m\u001b[1;32m     95\u001b[0m     \u001b[0mdf_tous\u001b[0m \u001b[0;34m=\u001b[0m \u001b[0mpd\u001b[0m\u001b[0;34m.\u001b[0m\u001b[0mDataFrame\u001b[0m\u001b[0;34m(\u001b[0m\u001b[0;34m{\u001b[0m\u001b[0;34m'IDENT'\u001b[0m\u001b[0;34m:\u001b[0m \u001b[0mdata_orig\u001b[0m\u001b[0;34m.\u001b[0m\u001b[0miloc\u001b[0m\u001b[0;34m[\u001b[0m\u001b[0;34m:\u001b[0m\u001b[0;34m,\u001b[0m\u001b[0;36m0\u001b[0m\u001b[0;34m]\u001b[0m \u001b[0;34m,\u001b[0m \u001b[0;34m'PROBA'\u001b[0m\u001b[0;34m:\u001b[0m \u001b[0mtous_probas\u001b[0m\u001b[0;34m[\u001b[0m\u001b[0;34m:\u001b[0m\u001b[0;34m,\u001b[0m\u001b[0;36m0\u001b[0m\u001b[0;34m]\u001b[0m \u001b[0;34m}\u001b[0m\u001b[0;34m)\u001b[0m\u001b[0;34m\u001b[0m\u001b[0;34m\u001b[0m\u001b[0m\n\u001b[1;32m     96\u001b[0m     \u001b[0;31m#df_tous\u001b[0m\u001b[0;34m\u001b[0m\u001b[0;34m\u001b[0m\u001b[0;34m\u001b[0m\u001b[0m\n",
            "\u001b[0;31mAttributeError\u001b[0m: 'LinearSVC' object has no attribute 'predict_proba'"
          ]
        }
      ]
    },
    {
      "cell_type": "code",
      "metadata": {
        "id": "lH4iNEe6D-xR"
      },
      "source": [
        "#   POUR LE MODELE LINEARSVC, ON NE PEUT PAS CALCULER DES PROBABILITES"
      ],
      "execution_count": null,
      "outputs": []
    },
    {
      "cell_type": "code",
      "metadata": {
        "id": "3I2WHX9pPcOw"
      },
      "source": [
        "###########################################################################\n",
        "###########################################################################"
      ],
      "execution_count": null,
      "outputs": []
    },
    {
      "cell_type": "code",
      "metadata": {
        "colab": {
          "base_uri": "https://localhost:8080/"
        },
        "id": "x5xsGewhG0Zg",
        "outputId": "152f1844-9ea8-4a61-d8b5-8b4a2ff3b317"
      },
      "source": [
        "# test SVC\n",
        "final_model_SVC = SVC(C=0.001, probability=True, cache_size=1000, class_weight = \"balanced\", max_iter=10000, random_state=0  )\n",
        "evaluation(final_model_SVC, train_X_s, train_Y_s, test_X_s, test_Y_s, scoring=\"recall\", plot=False)"
      ],
      "execution_count": null,
      "outputs": [
        {
          "output_type": "stream",
          "text": [
            "test set : \n",
            "[[ 4679     0]\n",
            " [20744     0]]\n",
            "              precision    recall  f1-score   support\n",
            "\n",
            "           1       0.18      1.00      0.31      4679\n",
            "           2       0.00      0.00      0.00     20744\n",
            "\n",
            "    accuracy                           0.18     25423\n",
            "   macro avg       0.09      0.50      0.16     25423\n",
            "weighted avg       0.03      0.18      0.06     25423\n",
            "\n",
            "train set : \n",
            "[[18777     0]\n",
            " [82915     0]]\n",
            "              precision    recall  f1-score   support\n",
            "\n",
            "           1       0.18      1.00      0.31     18777\n",
            "           2       0.00      0.00      0.00     82915\n",
            "\n",
            "    accuracy                           0.18    101692\n",
            "   macro avg       0.09      0.50      0.16    101692\n",
            "weighted avg       0.03      0.18      0.06    101692\n",
            "\n",
            "GRAPHIQUE NON DEMANDE\n"
          ],
          "name": "stdout"
        }
      ]
    },
    {
      "cell_type": "code",
      "metadata": {
        "id": "KFnls5K2Q7Dw"
      },
      "source": [
        ""
      ],
      "execution_count": null,
      "outputs": []
    },
    {
      "cell_type": "code",
      "metadata": {
        "id": "rhh1W7kdQBjv"
      },
      "source": [
        "####################################################################################################\n",
        "#\n",
        "#                                       UNDER-SAMPLING  ET OVER-SAMPLING\n",
        "#\n",
        "####################################################################################################"
      ],
      "execution_count": null,
      "outputs": []
    },
    {
      "cell_type": "code",
      "metadata": {
        "id": "-1IB2Sc5Pg3i"
      },
      "source": [
        "# Résultat du traitement sur le train set (under-sampling et over-sampling)\n",
        "abc_test = pd.read_csv(\"/content/drive/MyDrive/spad_score_method_1/spad_projection_FDFTOT21/sans_val_corr_spad_under_over_sampling.txt\", delim_whitespace=\"\\t\", header = None, low_memory=False, dtype=\"Int64\" ) #, dtype='Int64')\n",
        "abc_np = abc_test.to_numpy(dtype=\"Int64\")\n",
        "\n",
        "X_resampled = abc_np[:,:-1]\n",
        "y_resampled = abc_np[:, abc_np.shape[1] -1 ]"
      ],
      "execution_count": null,
      "outputs": []
    },
    {
      "cell_type": "code",
      "metadata": {
        "id": "P4MNU9IkRHO-",
        "colab": {
          "base_uri": "https://localhost:8080/"
        },
        "outputId": "a8c2dd8b-ec08-4b7f-c690-8c5df35a21e1"
      },
      "source": [
        "X_resampled.shape, y_resampled.shape"
      ],
      "execution_count": null,
      "outputs": [
        {
          "output_type": "execute_result",
          "data": {
            "text/plain": [
              "((160026, 269), (160026,))"
            ]
          },
          "metadata": {
            "tags": []
          },
          "execution_count": 11
        }
      ]
    },
    {
      "cell_type": "code",
      "metadata": {
        "colab": {
          "base_uri": "https://localhost:8080/"
        },
        "id": "i3WYrLcgzwgI",
        "outputId": "b680e440-454e-4609-f6d1-c6362413c016"
      },
      "source": [
        "final_model_SVC = SVC(C=1, class_weight = \"balanced\", max_iter=10000, random_state=0)\n",
        "evaluation(final_model_SVC, X_resampled, y_resampled, test_X_s, test_Y_s, scoring=\"recall\", plot=False)"
      ],
      "execution_count": null,
      "outputs": [
        {
          "output_type": "stream",
          "text": [
            "test set : \n",
            "[[ 1043  3636]\n",
            " [ 3729 17015]]\n",
            "              precision    recall  f1-score   support\n",
            "\n",
            "           1       0.22      0.22      0.22      4679\n",
            "           2       0.82      0.82      0.82     20744\n",
            "\n",
            "    accuracy                           0.71     25423\n",
            "   macro avg       0.52      0.52      0.52     25423\n",
            "weighted avg       0.71      0.71      0.71     25423\n",
            "\n",
            "train set : \n",
            "[[64762 15251]\n",
            " [12708 67305]]\n",
            "              precision    recall  f1-score   support\n",
            "\n",
            "           1       0.84      0.81      0.82     80013\n",
            "           2       0.82      0.84      0.83     80013\n",
            "\n",
            "    accuracy                           0.83    160026\n",
            "   macro avg       0.83      0.83      0.83    160026\n",
            "weighted avg       0.83      0.83      0.83    160026\n",
            "\n",
            "GRAPHIQUE NON DEMANDE\n"
          ],
          "name": "stdout"
        }
      ]
    },
    {
      "cell_type": "code",
      "metadata": {
        "colab": {
          "base_uri": "https://localhost:8080/"
        },
        "id": "abCM6bHdQIev",
        "outputId": "2d79b1b7-ffce-411d-b634-df932cb85b4b"
      },
      "source": [
        "final_model_SVC = SVC(C=10, class_weight = \"balanced\", max_iter=10000, random_state=0  )\n",
        "evaluation(final_model_SVC, X_resampled, y_resampled, test_X_s, test_Y_s, scoring=\"recall\", plot=False)"
      ],
      "execution_count": null,
      "outputs": [
        {
          "output_type": "stream",
          "text": [
            "test set : \n",
            "[[ 2206  2473]\n",
            " [ 7898 12846]]\n",
            "              precision    recall  f1-score   support\n",
            "\n",
            "           1       0.22      0.47      0.30      4679\n",
            "           2       0.84      0.62      0.71     20744\n",
            "\n",
            "    accuracy                           0.59     25423\n",
            "   macro avg       0.53      0.55      0.51     25423\n",
            "weighted avg       0.72      0.59      0.64     25423\n",
            "\n",
            "train set : \n",
            "[[71470  8543]\n",
            " [27523 52490]]\n",
            "              precision    recall  f1-score   support\n",
            "\n",
            "           1       0.72      0.89      0.80     80013\n",
            "           2       0.86      0.66      0.74     80013\n",
            "\n",
            "    accuracy                           0.77    160026\n",
            "   macro avg       0.79      0.77      0.77    160026\n",
            "weighted avg       0.79      0.77      0.77    160026\n",
            "\n",
            "GRAPHIQUE NON DEMANDE\n"
          ],
          "name": "stdout"
        }
      ]
    },
    {
      "cell_type": "code",
      "metadata": {
        "id": "HjwRUOZbQIg2",
        "colab": {
          "base_uri": "https://localhost:8080/"
        },
        "outputId": "605f55d4-4f76-487a-b6c0-badad58b8ca4"
      },
      "source": [
        "final_model_SVC = SVC(C=10, kernel=\"poly\", class_weight = \"balanced\", max_iter=10000, random_state=0 )\n",
        "evaluation(final_model_SVC, X_resampled, y_resampled, test_X_s, test_Y_s, scoring=\"recall\", plot=False)"
      ],
      "execution_count": null,
      "outputs": [
        {
          "output_type": "stream",
          "text": [
            "test set : \n",
            "[[ 1898  2781]\n",
            " [ 7244 13500]]\n",
            "              precision    recall  f1-score   support\n",
            "\n",
            "           1       0.21      0.41      0.27      4679\n",
            "           2       0.83      0.65      0.73     20744\n",
            "\n",
            "    accuracy                           0.61     25423\n",
            "   macro avg       0.52      0.53      0.50     25423\n",
            "weighted avg       0.71      0.61      0.65     25423\n",
            "\n",
            "train set : \n",
            "[[62117 17896]\n",
            " [25626 54387]]\n",
            "              precision    recall  f1-score   support\n",
            "\n",
            "           1       0.71      0.78      0.74     80013\n",
            "           2       0.75      0.68      0.71     80013\n",
            "\n",
            "    accuracy                           0.73    160026\n",
            "   macro avg       0.73      0.73      0.73    160026\n",
            "weighted avg       0.73      0.73      0.73    160026\n",
            "\n",
            "GRAPHIQUE NON DEMANDE\n"
          ],
          "name": "stdout"
        }
      ]
    },
    {
      "cell_type": "code",
      "metadata": {
        "id": "b9UxOfk-yDjH",
        "colab": {
          "base_uri": "https://localhost:8080/"
        },
        "outputId": "044ab071-7088-4486-8b9d-e4eeca8566ee"
      },
      "source": [
        "final_model_SVC = SVC(C=10, kernel=\"sigmoid\", class_weight = \"balanced\", max_iter=10000, random_state=0 )\n",
        "evaluation(final_model_SVC, X_resampled, y_resampled, test_X_s, test_Y_s, scoring=\"recall\", plot=False)"
      ],
      "execution_count": null,
      "outputs": [
        {
          "output_type": "stream",
          "text": [
            "test set : \n",
            "[[ 1633  3046]\n",
            " [ 6271 14473]]\n",
            "              precision    recall  f1-score   support\n",
            "\n",
            "           1       0.21      0.35      0.26      4679\n",
            "           2       0.83      0.70      0.76     20744\n",
            "\n",
            "    accuracy                           0.63     25423\n",
            "   macro avg       0.52      0.52      0.51     25423\n",
            "weighted avg       0.71      0.63      0.67     25423\n",
            "\n",
            "train set : \n",
            "[[47263 32750]\n",
            " [24098 55915]]\n",
            "              precision    recall  f1-score   support\n",
            "\n",
            "           1       0.66      0.59      0.62     80013\n",
            "           2       0.63      0.70      0.66     80013\n",
            "\n",
            "    accuracy                           0.64    160026\n",
            "   macro avg       0.65      0.64      0.64    160026\n",
            "weighted avg       0.65      0.64      0.64    160026\n",
            "\n",
            "GRAPHIQUE NON DEMANDE\n"
          ],
          "name": "stdout"
        }
      ]
    },
    {
      "cell_type": "code",
      "metadata": {
        "colab": {
          "base_uri": "https://localhost:8080/"
        },
        "id": "-hOnEAqWsy2D",
        "outputId": "4bf41dc2-cf30-4184-b896-953ef0db63fa"
      },
      "source": [
        "final_model_SVC = SVC(C=10, kernel=\"sigmoid\", probability=True, cache_size=2000 ,class_weight = \"balanced\", max_iter=1000, random_state=0 )\n",
        "evaluation(final_model_SVC, X_resampled, y_resampled, test_X_s, test_Y_s, scoring=\"recall\", plot=False)"
      ],
      "execution_count": null,
      "outputs": [
        {
          "output_type": "stream",
          "text": [
            "test set : \n",
            "[[ 3871   808]\n",
            " [17304  3440]]\n",
            "              precision    recall  f1-score   support\n",
            "\n",
            "           1       0.18      0.83      0.30      4679\n",
            "           2       0.81      0.17      0.28     20744\n",
            "\n",
            "    accuracy                           0.29     25423\n",
            "   macro avg       0.50      0.50      0.29     25423\n",
            "weighted avg       0.69      0.29      0.28     25423\n",
            "\n",
            "train set : \n",
            "[[72782  7231]\n",
            " [67071 12942]]\n",
            "              precision    recall  f1-score   support\n",
            "\n",
            "           1       0.52      0.91      0.66     80013\n",
            "           2       0.64      0.16      0.26     80013\n",
            "\n",
            "    accuracy                           0.54    160026\n",
            "   macro avg       0.58      0.54      0.46    160026\n",
            "weighted avg       0.58      0.54      0.46    160026\n",
            "\n",
            "GRAPHIQUE NON DEMANDE\n"
          ],
          "name": "stdout"
        }
      ]
    },
    {
      "cell_type": "code",
      "metadata": {
        "colab": {
          "base_uri": "https://localhost:8080/",
          "height": 929
        },
        "id": "Nb-sZhCPCtlm",
        "outputId": "6d586da0-d6ae-48f7-9f6f-ef01ee43e566"
      },
      "source": [
        "\n",
        "# TRAIN SET TEST SET\n",
        "vingtiles(model = final_model_SVC, data_orig = data, affichage=True,\n",
        "            save=True, path = \"/content/drive/MyDrive/spad_score_method_1/spad_projection_FDFTOT21/Fichier_excel_vingtiles/train_test_Adaboost.xlsx\")"
      ],
      "execution_count": null,
      "outputs": [
        {
          "output_type": "stream",
          "text": [
            "                     IDENT     PROBA\n",
            "108220  001082210010511190  0.179766\n",
            "113201  001132020010523410  0.186521\n",
            "113200  001132010010523410  0.186521\n",
            "91247   000912480010404582  0.186521\n",
            "3823    000038240010041200  0.189619\n",
            "...                    ...       ...\n",
            "125604  001256050010537952  0.840332\n",
            "25299   000253000010330286  0.840332\n",
            "125603  001256040010537952  0.840332\n",
            "87161   000871620010401170  0.841397\n",
            "110647  001106480010520247  0.841591\n",
            "\n",
            "[127115 rows x 2 columns]\n",
            "0.500000    12890\n",
            "0.612985       53\n",
            "0.666279       33\n",
            "0.606169       33\n",
            "0.639366       26\n",
            "            ...  \n",
            "0.584625        1\n",
            "0.539291        1\n",
            "0.418904        1\n",
            "0.529169        1\n",
            "0.490791        1\n",
            "Name: PROBA, Length: 86625, dtype: int64\n"
          ],
          "name": "stdout"
        },
        {
          "output_type": "error",
          "ename": "ValueError",
          "evalue": "ignored",
          "traceback": [
            "\u001b[0;31m---------------------------------------------------------------------------\u001b[0m",
            "\u001b[0;31mValueError\u001b[0m                                Traceback (most recent call last)",
            "\u001b[0;32m<ipython-input-14-af3ccb69b59c>\u001b[0m in \u001b[0;36m<module>\u001b[0;34m()\u001b[0m\n\u001b[1;32m      2\u001b[0m \u001b[0;31m# TRAIN SET TEST SET\u001b[0m\u001b[0;34m\u001b[0m\u001b[0;34m\u001b[0m\u001b[0;34m\u001b[0m\u001b[0m\n\u001b[1;32m      3\u001b[0m vingtiles(model = final_model_SVC, data_orig = data, affichage=True,\n\u001b[0;32m----> 4\u001b[0;31m             save=True, path = \"/content/drive/MyDrive/spad_score_method_1/spad_projection_FDFTOT21/Fichier_excel_vingtiles/train_test_Adaboost.xlsx\")\n\u001b[0m",
            "\u001b[0;32m<ipython-input-6-fef249df4475>\u001b[0m in \u001b[0;36mvingtiles\u001b[0;34m(model, data_orig, affichage, save, path)\u001b[0m\n\u001b[1;32m    105\u001b[0m \u001b[0;34m\u001b[0m\u001b[0m\n\u001b[1;32m    106\u001b[0m     \u001b[0;31m# quarantiles\u001b[0m\u001b[0;34m\u001b[0m\u001b[0;34m\u001b[0m\u001b[0;34m\u001b[0m\u001b[0m\n\u001b[0;32m--> 107\u001b[0;31m     \u001b[0mdf_temp\u001b[0m \u001b[0;34m=\u001b[0m\u001b[0mpd\u001b[0m\u001b[0;34m.\u001b[0m\u001b[0mDataFrame\u001b[0m\u001b[0;34m(\u001b[0m \u001b[0mpd\u001b[0m\u001b[0;34m.\u001b[0m\u001b[0mqcut\u001b[0m\u001b[0;34m(\u001b[0m\u001b[0mdf_tous\u001b[0m\u001b[0;34m[\u001b[0m\u001b[0;34m'PROBA'\u001b[0m\u001b[0;34m]\u001b[0m\u001b[0;34m,\u001b[0m\u001b[0mq\u001b[0m\u001b[0;34m=\u001b[0m \u001b[0;36m20\u001b[0m\u001b[0;34m)\u001b[0m  \u001b[0;34m)\u001b[0m\u001b[0;34m\u001b[0m\u001b[0;34m\u001b[0m\u001b[0m\n\u001b[0m\u001b[1;32m    108\u001b[0m     \u001b[0mprint\u001b[0m\u001b[0;34m(\u001b[0m\u001b[0mdf_temp\u001b[0m\u001b[0;34m)\u001b[0m\u001b[0;34m\u001b[0m\u001b[0;34m\u001b[0m\u001b[0m\n\u001b[1;32m    109\u001b[0m \u001b[0;34m\u001b[0m\u001b[0m\n",
            "\u001b[0;32m/usr/local/lib/python3.7/dist-packages/pandas/core/reshape/tile.py\u001b[0m in \u001b[0;36mqcut\u001b[0;34m(x, q, labels, retbins, precision, duplicates)\u001b[0m\n\u001b[1;32m    365\u001b[0m         \u001b[0minclude_lowest\u001b[0m\u001b[0;34m=\u001b[0m\u001b[0;32mTrue\u001b[0m\u001b[0;34m,\u001b[0m\u001b[0;34m\u001b[0m\u001b[0;34m\u001b[0m\u001b[0m\n\u001b[1;32m    366\u001b[0m         \u001b[0mdtype\u001b[0m\u001b[0;34m=\u001b[0m\u001b[0mdtype\u001b[0m\u001b[0;34m,\u001b[0m\u001b[0;34m\u001b[0m\u001b[0;34m\u001b[0m\u001b[0m\n\u001b[0;32m--> 367\u001b[0;31m         \u001b[0mduplicates\u001b[0m\u001b[0;34m=\u001b[0m\u001b[0mduplicates\u001b[0m\u001b[0;34m,\u001b[0m\u001b[0;34m\u001b[0m\u001b[0;34m\u001b[0m\u001b[0m\n\u001b[0m\u001b[1;32m    368\u001b[0m     )\n\u001b[1;32m    369\u001b[0m \u001b[0;34m\u001b[0m\u001b[0m\n",
            "\u001b[0;32m/usr/local/lib/python3.7/dist-packages/pandas/core/reshape/tile.py\u001b[0m in \u001b[0;36m_bins_to_cuts\u001b[0;34m(x, bins, right, labels, precision, include_lowest, dtype, duplicates, ordered)\u001b[0m\n\u001b[1;32m    400\u001b[0m         \u001b[0;32mif\u001b[0m \u001b[0mduplicates\u001b[0m \u001b[0;34m==\u001b[0m \u001b[0;34m\"raise\"\u001b[0m\u001b[0;34m:\u001b[0m\u001b[0;34m\u001b[0m\u001b[0;34m\u001b[0m\u001b[0m\n\u001b[1;32m    401\u001b[0m             raise ValueError(\n\u001b[0;32m--> 402\u001b[0;31m                 \u001b[0;34mf\"Bin edges must be unique: {repr(bins)}.\\n\"\u001b[0m\u001b[0;34m\u001b[0m\u001b[0;34m\u001b[0m\u001b[0m\n\u001b[0m\u001b[1;32m    403\u001b[0m                 \u001b[0;34mf\"You can drop duplicate edges by setting the 'duplicates' kwarg\"\u001b[0m\u001b[0;34m\u001b[0m\u001b[0;34m\u001b[0m\u001b[0m\n\u001b[1;32m    404\u001b[0m             )\n",
            "\u001b[0;31mValueError\u001b[0m: Bin edges must be unique: array([0.17976589, 0.42686795, 0.45660891, 0.46814795, 0.47546244,\n       0.4815217 , 0.48688215, 0.49192488, 0.5       , 0.5       ,\n       0.50679749, 0.51206157, 0.51756753, 0.52360006, 0.53000151,\n       0.5372023 , 0.5458765 , 0.55742947, 0.57696472, 0.61518981,\n       0.84159137]).\nYou can drop duplicate edges by setting the 'duplicates' kwarg"
          ]
        }
      ]
    },
    {
      "cell_type": "code",
      "metadata": {
        "id": "5vmE531PHnQA"
      },
      "source": [
        ""
      ],
      "execution_count": null,
      "outputs": []
    }
  ]
}