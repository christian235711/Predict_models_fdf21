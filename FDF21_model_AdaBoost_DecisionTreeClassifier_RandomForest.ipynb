{
  "nbformat": 4,
  "nbformat_minor": 0,
  "metadata": {
    "colab": {
      "name": "FDF21_model_AdaBoost_DecisionTreeClassifier_RandomForest.ipynb",
      "provenance": [],
      "collapsed_sections": [],
      "authorship_tag": "ABX9TyOZBYG+1Y++bV3TTKiArpPa"
    },
    "kernelspec": {
      "display_name": "Python 3",
      "name": "python3"
    },
    "language_info": {
      "name": "python"
    }
  },
  "cells": [
    {
      "cell_type": "code",
      "metadata": {
        "colab": {
          "base_uri": "https://localhost:8080/"
        },
        "id": "uXwzY9aHJ83i",
        "outputId": "978062ea-0f6f-4e0b-cdbf-fe1cc624d612"
      },
      "source": [
        "import numpy as np\n",
        "import pandas as pd\n",
        "import seaborn as sns\n",
        "import matplotlib.pyplot as plt\n",
        "\n",
        "#!pip install fanalysis\n",
        "\n",
        "from sklearn.metrics import confusion_matrix\n",
        "\n",
        "from google.colab import drive\n",
        "drive.mount('/content/drive')"
      ],
      "execution_count": 28,
      "outputs": [
        {
          "output_type": "stream",
          "text": [
            "Drive already mounted at /content/drive; to attempt to forcibly remount, call drive.mount(\"/content/drive\", force_remount=True).\n"
          ],
          "name": "stdout"
        }
      ]
    },
    {
      "cell_type": "code",
      "metadata": {
        "id": "QVPy76oFJ-HY"
      },
      "source": [
        "# les noms des variables\n",
        "\n",
        "colonnes =([\"IDENT\", \"TypeHabi\", \"GeoFaz_Scl\", \"GeoFaz_cl\", \"ImmoFaz_Scl\", \"ImmoFaz_cl\", \"Anciennete\",\n",
        "            \"Logement_prix_m2\", \"Mediane_RFR\", \"Sexe\", \"Prenom_Phase_scl_H\", \"Prenom_Phase_scl_F\",\n",
        "            \"Prenom_Phase_cl_H\", \"Prenom_Phase_cl_F\", \"Age_H\", \"Age_F\", \"Affinite_1\", \"Affinite_2\",\n",
        "            \"Prenom_effectif\", \"Potentiel_prenom\", \"Onoma-Phase_Scl\", \"Onoma-Phase_CL\", \"Top_mon\"])"
      ],
      "execution_count": 29,
      "outputs": []
    },
    {
      "cell_type": "code",
      "metadata": {
        "id": "A8mfuivnlJmh"
      },
      "source": [
        "colonnes_montant = [\"DEDUPLI\", \"IDENT\", \"SommeDeMONTANT_NUM\", \"Flag_Top_Montant\", \"NovosScore_Vingtile\"]\n",
        "\n",
        "data_montant_orig = pd.read_csv(\"/content/drive/MyDrive/spad_score_method_1/spad_projection_FDFTOT21/DONS_FDF_N_TODAY_1ers_gestes_REF_MD.txt\", sep=\";\", header = 0, low_memory=False, dtype=str) #, dtype=str )#, dtype='Int64')\n",
        "\n",
        "data_montant_orig.iloc[:,2]=data_montant_orig.iloc[:,2].str.replace(\",\",\".\")\n",
        "\n",
        "data_montant_orig.columns =colonnes_montant\n",
        "data_montant_orig[\"SommeDeMONTANT_NUM\"]=data_montant_orig[\"SommeDeMONTANT_NUM\"].astype(float)"
      ],
      "execution_count": 30,
      "outputs": []
    },
    {
      "cell_type": "code",
      "metadata": {
        "id": "lmQPaeuMJ-J0"
      },
      "source": [
        "# importation du fichier (changer le chemin d'accès)\n",
        "''' Faites attention au type de fichier, au délimiteur des valeurs (ça doit être unique et non multiple),\n",
        "au header et à la lecture des types d'objets (low_memory) '''\n",
        "\n",
        "data_orig = pd.read_csv(\"/content/drive/MyDrive/spad_score_method_1/spad_projection_FDFTOT21/sans_8_new_my_data_FDFTOT21.txt\", delim_whitespace=\"\\t\", header = None, names=colonnes, low_memory=False,dtype=str )#, dtype='Int64')\n"
      ],
      "execution_count": 31,
      "outputs": []
    },
    {
      "cell_type": "code",
      "metadata": {
        "colab": {
          "base_uri": "https://localhost:8080/"
        },
        "id": "AuFzAId4KKZ_",
        "outputId": "f4971c62-b1c5-4e6b-8e7d-2ad0b2b87f6d"
      },
      "source": [
        "''' copie superficielle (peu profonde) du dataset original pour ne pas modifier les valeurs\n",
        "d'origine par erreur plus tard \n",
        "'''\n",
        "data = data_orig.copy()\n",
        "data.shape"
      ],
      "execution_count": 32,
      "outputs": [
        {
          "output_type": "execute_result",
          "data": {
            "text/plain": [
              "(1192180, 23)"
            ]
          },
          "metadata": {
            "tags": []
          },
          "execution_count": 32
        }
      ]
    },
    {
      "cell_type": "code",
      "metadata": {
        "colab": {
          "base_uri": "https://localhost:8080/",
          "height": 243
        },
        "id": "eCTsRwocJ-MF",
        "outputId": "2d50bd8b-8bd7-4dcc-9adc-33a7d078f1fd"
      },
      "source": [
        "# visualisation des premiers lignes\n",
        "data.head()"
      ],
      "execution_count": 33,
      "outputs": [
        {
          "output_type": "execute_result",
          "data": {
            "text/html": [
              "<div>\n",
              "<style scoped>\n",
              "    .dataframe tbody tr th:only-of-type {\n",
              "        vertical-align: middle;\n",
              "    }\n",
              "\n",
              "    .dataframe tbody tr th {\n",
              "        vertical-align: top;\n",
              "    }\n",
              "\n",
              "    .dataframe thead th {\n",
              "        text-align: right;\n",
              "    }\n",
              "</style>\n",
              "<table border=\"1\" class=\"dataframe\">\n",
              "  <thead>\n",
              "    <tr style=\"text-align: right;\">\n",
              "      <th></th>\n",
              "      <th>IDENT</th>\n",
              "      <th>TypeHabi</th>\n",
              "      <th>GeoFaz_Scl</th>\n",
              "      <th>GeoFaz_cl</th>\n",
              "      <th>ImmoFaz_Scl</th>\n",
              "      <th>ImmoFaz_cl</th>\n",
              "      <th>Anciennete</th>\n",
              "      <th>Logement_prix_m2</th>\n",
              "      <th>Mediane_RFR</th>\n",
              "      <th>Sexe</th>\n",
              "      <th>Prenom_Phase_scl_H</th>\n",
              "      <th>Prenom_Phase_scl_F</th>\n",
              "      <th>Prenom_Phase_cl_H</th>\n",
              "      <th>Prenom_Phase_cl_F</th>\n",
              "      <th>Age_H</th>\n",
              "      <th>Age_F</th>\n",
              "      <th>Affinite_1</th>\n",
              "      <th>Affinite_2</th>\n",
              "      <th>Prenom_effectif</th>\n",
              "      <th>Potentiel_prenom</th>\n",
              "      <th>Onoma-Phase_Scl</th>\n",
              "      <th>Onoma-Phase_CL</th>\n",
              "      <th>Top_mon</th>\n",
              "    </tr>\n",
              "  </thead>\n",
              "  <tbody>\n",
              "    <tr>\n",
              "      <th>0</th>\n",
              "      <td>0010000001</td>\n",
              "      <td>02</td>\n",
              "      <td>81</td>\n",
              "      <td>08</td>\n",
              "      <td>91</td>\n",
              "      <td>09</td>\n",
              "      <td>06</td>\n",
              "      <td>21</td>\n",
              "      <td>21</td>\n",
              "      <td>01</td>\n",
              "      <td>71</td>\n",
              "      <td>41</td>\n",
              "      <td>07</td>\n",
              "      <td>04</td>\n",
              "      <td>12</td>\n",
              "      <td>04</td>\n",
              "      <td>20</td>\n",
              "      <td>02</td>\n",
              "      <td>02</td>\n",
              "      <td>01</td>\n",
              "      <td>51</td>\n",
              "      <td>05</td>\n",
              "      <td>1</td>\n",
              "    </tr>\n",
              "    <tr>\n",
              "      <th>1</th>\n",
              "      <td>0010000006</td>\n",
              "      <td>01</td>\n",
              "      <td>75</td>\n",
              "      <td>07</td>\n",
              "      <td>43</td>\n",
              "      <td>04</td>\n",
              "      <td>06</td>\n",
              "      <td>06</td>\n",
              "      <td>13</td>\n",
              "      <td>02</td>\n",
              "      <td>71</td>\n",
              "      <td>64</td>\n",
              "      <td>07</td>\n",
              "      <td>06</td>\n",
              "      <td>12</td>\n",
              "      <td>09</td>\n",
              "      <td>04</td>\n",
              "      <td>12</td>\n",
              "      <td>04</td>\n",
              "      <td>13</td>\n",
              "      <td>12</td>\n",
              "      <td>01</td>\n",
              "      <td>1</td>\n",
              "    </tr>\n",
              "    <tr>\n",
              "      <th>2</th>\n",
              "      <td>0010000011</td>\n",
              "      <td>01</td>\n",
              "      <td>76</td>\n",
              "      <td>07</td>\n",
              "      <td>43</td>\n",
              "      <td>04</td>\n",
              "      <td>06</td>\n",
              "      <td>06</td>\n",
              "      <td>16</td>\n",
              "      <td>03</td>\n",
              "      <td>54</td>\n",
              "      <td>81</td>\n",
              "      <td>05</td>\n",
              "      <td>08</td>\n",
              "      <td>07</td>\n",
              "      <td>12</td>\n",
              "      <td>06</td>\n",
              "      <td>06</td>\n",
              "      <td>04</td>\n",
              "      <td>18</td>\n",
              "      <td>36</td>\n",
              "      <td>03</td>\n",
              "      <td>2</td>\n",
              "    </tr>\n",
              "    <tr>\n",
              "      <th>3</th>\n",
              "      <td>0010000013</td>\n",
              "      <td>03</td>\n",
              "      <td>75</td>\n",
              "      <td>07</td>\n",
              "      <td>43</td>\n",
              "      <td>04</td>\n",
              "      <td>04</td>\n",
              "      <td>06</td>\n",
              "      <td>13</td>\n",
              "      <td>01</td>\n",
              "      <td>71</td>\n",
              "      <td>36</td>\n",
              "      <td>07</td>\n",
              "      <td>03</td>\n",
              "      <td>12</td>\n",
              "      <td>11</td>\n",
              "      <td>11</td>\n",
              "      <td>19</td>\n",
              "      <td>04</td>\n",
              "      <td>06</td>\n",
              "      <td>21</td>\n",
              "      <td>02</td>\n",
              "      <td>1</td>\n",
              "    </tr>\n",
              "    <tr>\n",
              "      <th>4</th>\n",
              "      <td>0010000015</td>\n",
              "      <td>02</td>\n",
              "      <td>33</td>\n",
              "      <td>03</td>\n",
              "      <td>44</td>\n",
              "      <td>04</td>\n",
              "      <td>06</td>\n",
              "      <td>07</td>\n",
              "      <td>12</td>\n",
              "      <td>01</td>\n",
              "      <td>71</td>\n",
              "      <td>42</td>\n",
              "      <td>07</td>\n",
              "      <td>04</td>\n",
              "      <td>12</td>\n",
              "      <td>05</td>\n",
              "      <td>14</td>\n",
              "      <td>03</td>\n",
              "      <td>03</td>\n",
              "      <td>01</td>\n",
              "      <td>14</td>\n",
              "      <td>01</td>\n",
              "      <td>2</td>\n",
              "    </tr>\n",
              "  </tbody>\n",
              "</table>\n",
              "</div>"
            ],
            "text/plain": [
              "        IDENT TypeHabi GeoFaz_Scl  ... Onoma-Phase_Scl Onoma-Phase_CL Top_mon\n",
              "0  0010000001       02         81  ...              51             05       1\n",
              "1  0010000006       01         75  ...              12             01       1\n",
              "2  0010000011       01         76  ...              36             03       2\n",
              "3  0010000013       03         75  ...              21             02       1\n",
              "4  0010000015       02         33  ...              14             01       2\n",
              "\n",
              "[5 rows x 23 columns]"
            ]
          },
          "metadata": {
            "tags": []
          },
          "execution_count": 33
        }
      ]
    },
    {
      "cell_type": "code",
      "metadata": {
        "id": "HMG7Zbw4Ku9R"
      },
      "source": [
        "#nombre de modalités de chaque variables (dans un dataframe)\n",
        "def nombre_mod(data2):\n",
        "    #création d'un dataframe vide\n",
        "    dff= pd.DataFrame(columns=[\"VARIABLE\",\"NOMBRE_MOD\", \"NOMBRE_MOD_SANS_NA\"])\n",
        "    for i in range(data2.shape[1]): # sans compter les valeurs manquantes\n",
        "        taille =len(data2.iloc[:,i].value_counts(dropna=False))\n",
        "        taille_1 = len(data2.iloc[:,i].value_counts(dropna=True) )\n",
        "        dff=dff.append({\"VARIABLE\": colonnes[i],\"NOMBRE_MOD\":taille, \"NOMBRE_MOD_SANS_NA\":taille_1 }, ignore_index=True)\n",
        "    return dff\n",
        "\n",
        "# sélection des corrélations les plus importantes\n",
        "def variables_corr(tableau_corr, seuil):\n",
        "    colonnes = tableau_corr.columns\n",
        "    val_temp = 0 \n",
        "    variables_corr_pos=[] ; variables_corr_pos_val=[]\n",
        "    variables_corr_neg=[] ; variables_corr_neg_val=[]\n",
        "    for i in range(tableau_corr.shape[0]):  \n",
        "        for j in range(tableau_corr.shape[0]):\n",
        "            if i<j: #i!=j:\n",
        "                if (tableau_corr.iloc[i,j] > seuil):\n",
        "                    variables_corr_pos.append(colonnes[j])\n",
        "                    variables_corr_pos_val.append(round( tableau_corr.iloc[i,j], 2))\n",
        "                    val_temp += 1\n",
        "\n",
        "                if (tableau_corr.iloc[i,j] <-seuil):\n",
        "                    variables_corr_neg.append(colonnes[j])\n",
        "                    variables_corr_neg_val.append(round( tableau_corr.iloc[i,j], 2))\n",
        "                    val_temp += 1\n",
        "\n",
        "        if (len(variables_corr_pos) > 0) | (len(variables_corr_neg) >0) :\n",
        "            print(\"variable : \", colonnes[i])\n",
        "            if len(variables_corr_pos) > 0:    \n",
        "                print(\"corr pos\", variables_corr_pos)\n",
        "                print(\"corr pos\", variables_corr_pos_val)\n",
        "                val_temp += 1\n",
        "\n",
        "            if len(variables_corr_neg) >0:  \n",
        "                print(\"corr neg\", variables_corr_neg)\n",
        "                print(\"corr neg\", variables_corr_neg_val)\n",
        "                val_temp += 1\n",
        "            print(\"\")\n",
        "        variables_corr_pos = variables_corr_pos*0\n",
        "        variables_corr_neg = variables_corr_pos*0\n",
        "\n",
        "        variables_corr_pos_val = variables_corr_pos_val*0\n",
        "        variables_corr_neg_val = variables_corr_pos_val*0\n",
        "    if val_temp == 0:\n",
        "        print(\"IL N'Y A PAS DE CORRELATION ENTRE LES VARIABLES PAR RAPPORT AU SEUIL PRIS\")\n",
        "        \n",
        "\n",
        "def evaluation(model, X_train, y_train, X_test, y_test, scoring, plot):\n",
        "\n",
        "    model.fit(X_train, y_train)\n",
        "    y_pred = model.predict(X_test)\n",
        "    \n",
        "    print(\"test set : \")\n",
        "    print(confusion_matrix(y_test, y_pred))\n",
        "    print(classification_report(y_test, y_pred)) \n",
        "    print(\"train set : \")\n",
        "    print(confusion_matrix(y_train, model.predict(X_train)))  \n",
        "    print(classification_report(y_train, model.predict(X_train) ))\n",
        "\n",
        "    if plot == True:\n",
        "        N, train_score, val_score = learning_curve(model, X_train, y_train, shuffle=True, cv = 4, scoring = scoring, train_sizes = np.linspace(0.1, 1, 6) )\n",
        "\n",
        "        plt.figure(figsize = (10,6))\n",
        "        plt.plot(N, train_score.mean(axis=1), label =\"train_score\")\n",
        "        plt.plot(N, val_score.mean(axis=1), label =\"cross_validation_score\")\n",
        "        plt.legend()\n",
        "    else :\n",
        "        print(\"GRAPHIQUE NON DEMANDE\")\n",
        "\n",
        "# Comme il n'y a pas de valeurs manquantes (à la place il y a un nombre), le seul traitement qu'on fait c'est tranformer\n",
        "# le type de variable (les variables continues deviennent qualitatives)\n",
        "def data_processing(df):\n",
        "    \"\"\" \n",
        "    for i in range(0,len(df.columns)):    \n",
        "        df[df.columns[i]].fillna(100.0, inplace=True) #On remplace les données manquantes par 100\n",
        "    for i in range(0,len(df.columns)):\n",
        "        print(df[df.columns[i]].value_counts(dropna=False))    \n",
        "    \"\"\"\n",
        "    \n",
        "   #Transformation de toutes les variables en facteurs         \n",
        "    for i in range(0,len(df.columns)):\n",
        "        df[df.columns[i]] = df[df.columns[i]].astype('category')\n",
        "    return df.to_numpy() #.as_matrix()\n",
        "\n",
        "\n",
        "def vingtiles(model, data_orig, affichage, save, path): # data_orig est une variables locale (peut être différente au df d'origine)\n",
        "    # position de la dernière variable explicative dans le dataset\n",
        "    nb_var = data_orig.shape[1]-1\n",
        "\n",
        "    # predict sur tous les individus (avec et sans classe Top_mon)\n",
        "    tous_probas = model.predict_proba(data_orig.iloc[:,1:nb_var])\n",
        "    df_tous = pd.DataFrame({'IDENT': data_orig.iloc[:,0] , 'PROBA': tous_probas[:,0] })\n",
        "    #df_tous\n",
        "    \n",
        "    # valeurs ordonnées pour diviser après\n",
        "    df_tous=df_tous.sort_values(by='PROBA', ascending=True)\n",
        "    #df_tous\n",
        "    print(df_tous)\n",
        "    \n",
        "    #vérification\n",
        "    print(df_tous['PROBA'].value_counts())\n",
        "\n",
        "    # vingtiles\n",
        "    df_temp =pd.DataFrame( pd.qcut(df_tous['PROBA'],q= 20)  )\n",
        "    #print(df_temp)\n",
        "\n",
        "    # ajout par index (IMPORTANTE)\n",
        "    df_tous[\"TRANCHES\"]=pd.DataFrame(df_temp.iloc[:,0].to_numpy(),index= df_temp.index)\n",
        "    #print(df_tous)\n",
        "\n",
        "    # création de la dernière colonne CLASSE et son remplissage\n",
        "    index_20_ord = pd.DataFrame(np.unique(df_tous[\"TRANCHES\"])) \n",
        "    df_tous[\"CLASSE\"]=df_tous[\"TRANCHES\"].copy()\n",
        "    ind_val=1\n",
        "    for kk in range(20):\n",
        "        df_tous[\"CLASSE\"][df_tous[\"CLASSE\"]== index_20_ord.iloc[kk,0] ] = str(ind_val) \n",
        "        ind_val+=1\n",
        "    print(df_tous)    \n",
        "    \n",
        "    # pour la colonne Top_mon : changement de type de variable et remplissage des valeurs (s'il le faut)\n",
        "    data_temp_t = data_orig.copy()\n",
        "    data_temp_t[\"Top_mon\"] =  data_temp_t[\"Top_mon\"].replace(1.0,'1')\n",
        "    data_temp_t[\"Top_mon\"] =  data_temp_t[\"Top_mon\"].replace(2.0,'2')\n",
        "    data_all_complet_class = data_temp_t #data_temp_t.fillna('2')\n",
        "    #data_all_complet_class\n",
        "\n",
        "    # jointure\n",
        "    ident_class_tous = data_all_complet_class[[\"IDENT\",\"Top_mon\"]]\n",
        "    tableau_resultats = pd.merge(df_tous,ident_class_tous)\n",
        "    #tableau_resultats\n",
        "\n",
        "    # tranches finales\n",
        "    tab_cross_temp = pd.crosstab(tableau_resultats[\"TRANCHES\"],tableau_resultats[\"Top_mon\"])\n",
        "    #print(tab_cross_temp); print(\"-----------------------\")\n",
        "\n",
        "    # création d'une colonne TOTAL\n",
        "    tab_cross_temp[\"TOTAL\"]=tab_cross_temp[\"1\"]+tab_cross_temp[\"2\"]\n",
        "    \n",
        "    # affichage\n",
        "    if affichage ==True:        \n",
        "        print(tab_cross_temp)\n",
        "\n",
        "    # création du tableau final en éliminant la colonne 2\n",
        "    #tab_pour_excel = tab_cross_temp.drop([\"2\"], axis=1)\n",
        "\n",
        "    # si on ne veut pas éliminer la colonne 2\n",
        "    tab_pour_excel =  tab_cross_temp\n",
        "    \n",
        "    # enregistrement sous Excel\n",
        "    if save == True:\n",
        "        tab_pour_excel.to_excel(path)\n",
        "\n",
        "    return  df_tous\n",
        "\n",
        "\n",
        "def tableau_5_montant(df_tous, data_montant_orig, affichage, save, path):\n",
        "    # tableau avec les deux variables qui nous intéressent\n",
        "    ident_et_montant = data_montant_orig[[\"IDENT\",\"SommeDeMONTANT_NUM\"]]\n",
        "\n",
        "    # jointure\n",
        "    tableau_resultats_et_montant = pd.merge(df_tous,ident_et_montant)\n",
        "    #print(tableau_resultats_et_montant) \n",
        "\n",
        "    # on élimine toutes les sommes supérieur à 5000 €\n",
        "    tableau_resultats_et_montant = tableau_resultats_et_montant[tableau_resultats_et_montant[\"SommeDeMONTANT_NUM\"] <= 5000]\n",
        "    print(tableau_resultats_et_montant) \n",
        "    #print(tableau_resultats_et_montant[\"TRANCHES\"].value_counts())\n",
        "    #print(pd.DataFrame(np.unique(tableau_resultats_et_montant[\"TRANCHES\"])))\n",
        "\n",
        "    # index\n",
        "    index_temp = pd.DataFrame(np.unique(tableau_resultats_et_montant[\"TRANCHES\"])) \n",
        "\n",
        "    # création du tableau qui contiendra les résultats finaux\n",
        "    tableau_resultats_finaux = pd.DataFrame(columns=[\"TRANCHES\",\"Moyen_Somme\",\"TOTAL\"],index=range(20))\n",
        "    tableau_resultats_finaux[\"TRANCHES\"] = index_temp\n",
        "\n",
        "    # remplissage du tableau final\n",
        "    for k in range(20):\n",
        "        tableau_resultats_finaux.iloc[k,1] = tableau_resultats_et_montant[tableau_resultats_et_montant[\"TRANCHES\"]==index_temp.iloc[k,0]][\"SommeDeMONTANT_NUM\"].mean()\n",
        "        tableau_resultats_finaux.iloc[k,2] = (tableau_resultats_et_montant[\"TRANCHES\"]==index_temp.iloc[k,0]).sum()\n",
        "    \n",
        "    # affichage\n",
        "    if affichage:        \n",
        "        print(tableau_resultats_finaux)\n",
        "    \n",
        "    # enregistrement sous Excel\n",
        "    if save:\n",
        "        tableau_resultats_finaux.to_excel(path)\n",
        "\n",
        "\n",
        "def vingtiles_ind_sans_target(model, data_orig, affichage, save, path):\n",
        "    # position de la dernière variable explicative dans le dataset\n",
        "    nb_var = data_orig.shape[1]-1\n",
        "\n",
        "    # predict sur tous les individus (avec et sans classe IFI+)\n",
        "    tous_probas = model.predict_proba(data_orig.iloc[:,1:nb_var])\n",
        "    df_tous = pd.DataFrame({'IDENT': data_orig.iloc[:,0] , 'PROBA': tous_probas[:,0] })\n",
        "    #df_tous\n",
        "    \n",
        "    # valeurs ordonnées pour diviser après\n",
        "    df_tous=df_tous.sort_values(by='PROBA', ascending=True)\n",
        "    #df_tous\n",
        "    print(df_tous)\n",
        "    \n",
        "    #vérification\n",
        "    print(df_tous['PROBA'].value_counts())\n",
        "\n",
        "    # quarantiles\n",
        "    df_temp =pd.DataFrame( pd.qcut(df_tous['PROBA'],q= 20)  )\n",
        "    print(df_temp)\n",
        "\n",
        "    # ajout par index (IMPORTANTE)\n",
        "    df_tous[\"TRANCHES\"]=pd.DataFrame(df_temp.iloc[:,0].to_numpy(),index= df_temp.index)\n",
        "    print(df_tous)\n",
        "    print(df_tous[\"TRANCHES\"].value_counts(ascending = True))\n",
        "\n",
        "    # GERE L'ORDRE\n",
        "    patra = np.unique(df_tous.iloc[:,2], return_counts=True)\n",
        "    df_tranches_sans_target = pd.DataFrame([patra[0],patra[1]]).T\n",
        "    df_tranches_sans_target.columns=[\"TRANCHES\",\"COUNTS\"]\n",
        "\n",
        "    # affichage\n",
        "    if affichage ==True:        \n",
        "        print(df_tranches_sans_target)\n",
        "    \n",
        "    # enregistrement sous Excel\n",
        "    if save == True:\n",
        "        df_tranches_sans_target.to_excel(path)\n",
        "    \n",
        "\n",
        "# élimination des variables trop corrélées (choix manuel)\n",
        "def elimination_val_corr(data):\n",
        "    data = data.drop(columns=[\"\"])\n",
        "    return data\n",
        "          \n"
      ],
      "execution_count": 34,
      "outputs": []
    },
    {
      "cell_type": "code",
      "metadata": {
        "id": "VrNwSeGoLu4z"
      },
      "source": [
        "def vingtiles_xgb(model, data_orig, affichage, save, path):\n",
        "    # position de la dernière variable explicative dans le dataset\n",
        "    nb_var = data_orig.shape[1]-1\n",
        "\n",
        "    # predict sur tous les individus (avec et sans classe IFI+)\n",
        "    tous_probas = model.predict_proba(data_orig.iloc[:,1:nb_var].values)\n",
        "    df_tous = pd.DataFrame({'IDENT': data_orig.iloc[:,0] , 'PROBA': tous_probas[:,0] })\n",
        "    #df_tous\n",
        "    \n",
        "    # valeurs ordonnées pour diviser après\n",
        "    df_tous=df_tous.sort_values(by='PROBA', ascending=True)\n",
        "    #df_tous\n",
        "    print(df_tous)\n",
        "    \n",
        "    #vérification\n",
        "    print(df_tous['PROBA'].value_counts())\n",
        "\n",
        "    # quarantiles\n",
        "    df_temp =pd.DataFrame( pd.qcut(df_tous['PROBA'],q= 20)  )\n",
        "    print(df_temp)\n",
        "\n",
        "    # ajout par index (IMPORTANTE)\n",
        "    df_tous[\"TRANCHES\"]=pd.DataFrame(df_temp.iloc[:,0].to_numpy(),index= df_temp.index)\n",
        "    #print(df_tous)\n",
        "    \n",
        "    # pour la colonne Top_mon :\n",
        "    # remplissage de la dernière colonne par 2 (VALABLE QUE POUR CE DATA, MODIFIER POUR D'AUTRES)\n",
        "    data_temp_t = data_orig.copy()\n",
        "    # remplacement\n",
        "    data_temp_t[\"Top_mon\"] =  data_temp_t[\"Top_mon\"].replace(1.0,'1')\n",
        "    data_temp_t[\"Top_mon\"] =  data_temp_t[\"Top_mon\"].replace(2.0,'2')\n",
        "    data_all_complet_class = data_temp_t.fillna('2')\n",
        "    #data_all_complet_class\n",
        "\n",
        "    # jointure\n",
        "    ident_class_tous = data_all_complet_class[[\"IDENT\",\"Top_mon\"]]\n",
        "    tableau_resultats = pd.merge(df_tous,ident_class_tous)\n",
        "    #tableau_resultats\n",
        "\n",
        "    # tranches finales\n",
        "    tab_cross_temp = pd.crosstab(tableau_resultats[\"TRANCHES\"],tableau_resultats[\"Top_mon\"])\n",
        "    #print(tab_cross_temp); print(\"-----------------------\")\n",
        "\n",
        "    # création d'une colonne total\n",
        "    tab_cross_temp[\"TOTAL\"]=tab_cross_temp[\"1\"]+tab_cross_temp[\"2\"]\n",
        "    \n",
        "    # affichage\n",
        "    if affichage ==True:        \n",
        "        print(tab_cross_temp)\n",
        "\n",
        "    # création du tableau final en éliminant la colonne 2\n",
        "    #tab_pour_excel = tab_cross_temp.drop([\"2\"], axis=1)\n",
        "\n",
        "    # si on ne veut pas éliminer la colonne 2\n",
        "    tab_pour_excel =  tab_cross_temp\n",
        "    \n",
        "    # enregistrement sous Excel\n",
        "    if save == True:\n",
        "        tab_pour_excel.to_excel(path)"
      ],
      "execution_count": 35,
      "outputs": []
    },
    {
      "cell_type": "code",
      "metadata": {
        "id": "91nsbYDpPOb2"
      },
      "source": [
        ""
      ],
      "execution_count": 35,
      "outputs": []
    },
    {
      "cell_type": "code",
      "metadata": {
        "id": "I-YPAloELNpw"
      },
      "source": [
        "from sklearn.model_selection import train_test_split\n",
        "from sklearn.preprocessing import OneHotEncoder\n",
        "\n",
        "from sklearn.tree import DecisionTreeClassifier, plot_tree\n",
        "from sklearn.ensemble import RandomForestClassifier, BaggingClassifier, AdaBoostClassifier, GradientBoostingClassifier, ExtraTreesClassifier\n",
        "\n",
        "from sklearn.metrics import f1_score, confusion_matrix, classification_report\n",
        "from sklearn.model_selection import learning_curve, GridSearchCV"
      ],
      "execution_count": 36,
      "outputs": []
    },
    {
      "cell_type": "code",
      "metadata": {
        "id": "oJZmK3A1hFjN"
      },
      "source": [
        "####################  DONNEES SANS LES VARIABLES CORR ET ENCODAGE DUMMIES        ###########################"
      ],
      "execution_count": 37,
      "outputs": []
    },
    {
      "cell_type": "code",
      "metadata": {
        "colab": {
          "base_uri": "https://localhost:8080/"
        },
        "id": "Ayz77hrtHzrW",
        "outputId": "66b71817-af56-46c2-f3ea-fbd793844c5a"
      },
      "source": [
        "# test predict individus sans classe\n",
        "data = data_orig.copy()\n",
        "\n",
        "# on élimine les variables dons\n",
        "data=data.drop([\"GeoFaz_cl\", \"ImmoFaz_Scl\", \"ImmoFaz_cl\", \"Prenom_Phase_cl_H\", \"Prenom_Phase_cl_F\",\"Onoma-Phase_Scl\",\n",
        "                \"Onoma-Phase_CL\"],axis=1)\n",
        "\n",
        "# encodage Onehot sur toutes les données (on évite ainsi les erreurs futures)\n",
        "nb_var = data.shape[1] - 1\n",
        "data_1_22 = pd.get_dummies(data.iloc[:,1:(data.shape[1]-1)], columns=data.columns[1:(data.shape[1]-1)] )\n",
        "data_var_qualitatives_temp =  pd.concat([data[\"IDENT\"], data_1_22, data[\"Top_mon\"]], axis=1)\n",
        "data = data_var_qualitatives_temp\n",
        "#encodage = OneHotEncoder()\n",
        "#encodage.fit(data_processing(data.iloc[:,1:nb_var]))\n",
        "\n",
        "# élimination des individus n'ayant pas de valeur pour la varialbe IFI+\n",
        "\"\"\"IMPORTANT\"\"\"\n",
        "data_sans_nan = data[(data.isnull()).sum(axis=1) == 0]\n",
        "\n",
        "#conversion du type de variable\n",
        "for i in range(1,data_sans_nan.shape[1]):\n",
        "    data_sans_nan.iloc[:,i]=data_sans_nan.iloc[:,i].astype(int)\n",
        "\n",
        "# base de données avec des variables corrélées et avec encodage OneHot\n",
        "data =data_sans_nan\n",
        "\n",
        "nb_var = data.shape[1] - 1\n",
        "train_set, test_set = train_test_split(data, test_size = 0.2, random_state=0 )\n",
        "\n",
        "train_X_s = (train_set.iloc[:,1:nb_var]).to_numpy()\n",
        "train_Y_s = np.asanyarray(train_set.iloc[:,nb_var])\n",
        "\n",
        "test_X_s = (test_set.iloc[:,1:nb_var]).to_numpy()\n",
        "test_Y_s = np.asanyarray(test_set.iloc[:,nb_var])\n"
      ],
      "execution_count": 38,
      "outputs": [
        {
          "output_type": "stream",
          "text": [
            "/usr/local/lib/python3.7/dist-packages/pandas/core/indexing.py:1743: SettingWithCopyWarning: \n",
            "A value is trying to be set on a copy of a slice from a DataFrame.\n",
            "Try using .loc[row_indexer,col_indexer] = value instead\n",
            "\n",
            "See the caveats in the documentation: https://pandas.pydata.org/pandas-docs/stable/user_guide/indexing.html#returning-a-view-versus-a-copy\n",
            "  isetter(ilocs[0], value)\n"
          ],
          "name": "stderr"
        }
      ]
    },
    {
      "cell_type": "code",
      "metadata": {
        "id": "nzA3GnjILNsT"
      },
      "source": [
        "####################################################################################\n",
        "#                            MODELE 1 : BOOSTING\n",
        "####################################################################################"
      ],
      "execution_count": 12,
      "outputs": []
    },
    {
      "cell_type": "code",
      "metadata": {
        "colab": {
          "base_uri": "https://localhost:8080/"
        },
        "id": "6uT19lFGHzw1",
        "outputId": "bbdd3dab-ce01-4311-94c2-87717ac34755"
      },
      "source": [
        "model_AdaBoost = AdaBoostClassifier(base_estimator=DecisionTreeClassifier(class_weight = \"balanced\"), random_state =0 )\n",
        "param = {'base_estimator__criterion': ['gini','entropy'], 'base_estimator__max_depth' : list(range(2,20, 2)), 'n_estimators' : [20, 50] }\n",
        "\n",
        "grid_AdaBoost = GridSearchCV(model_AdaBoost, param, cv = 4, scoring = \"recall\", n_jobs=-1)\n",
        "resultat_grid_AdaBoost = grid_AdaBoost.fit(train_X_s, train_Y_s)\n",
        "resultat_grid_AdaBoost.best_params_\n",
        "#model_AdaBoost.get_params\n"
      ],
      "execution_count": 13,
      "outputs": [
        {
          "output_type": "execute_result",
          "data": {
            "text/plain": [
              "{'base_estimator__criterion': 'gini',\n",
              " 'base_estimator__max_depth': 2,\n",
              " 'n_estimators': 20}"
            ]
          },
          "metadata": {
            "tags": []
          },
          "execution_count": 13
        }
      ]
    },
    {
      "cell_type": "code",
      "metadata": {
        "colab": {
          "base_uri": "https://localhost:8080/"
        },
        "id": "FUHacSWXHzyp",
        "outputId": "b8108f56-d994-4f37-987f-89dc3669cfe4"
      },
      "source": [
        "final_model_AdaBoost = AdaBoostClassifier(base_estimator = DecisionTreeClassifier(class_weight=\"balanced\", criterion=\"gini\",max_depth=2),n_estimators = 20 , random_state=0 ) \n",
        "evaluation(final_model_AdaBoost, train_X_s, train_Y_s, test_X_s, test_Y_s, scoring=\"recall\" , plot =False)"
      ],
      "execution_count": 39,
      "outputs": [
        {
          "output_type": "stream",
          "text": [
            "test set : \n",
            "[[2826 2505]\n",
            " [4948 9581]]\n",
            "              precision    recall  f1-score   support\n",
            "\n",
            "           1       0.36      0.53      0.43      5331\n",
            "           2       0.79      0.66      0.72     14529\n",
            "\n",
            "    accuracy                           0.62     19860\n",
            "   macro avg       0.58      0.59      0.58     19860\n",
            "weighted avg       0.68      0.62      0.64     19860\n",
            "\n",
            "train set : \n",
            "[[11185 10212]\n",
            " [19170 38869]]\n",
            "              precision    recall  f1-score   support\n",
            "\n",
            "           1       0.37      0.52      0.43     21397\n",
            "           2       0.79      0.67      0.73     58039\n",
            "\n",
            "    accuracy                           0.63     79436\n",
            "   macro avg       0.58      0.60      0.58     79436\n",
            "weighted avg       0.68      0.63      0.65     79436\n",
            "\n",
            "GRAPHIQUE NON DEMANDE\n"
          ],
          "name": "stdout"
        }
      ]
    },
    {
      "cell_type": "code",
      "metadata": {
        "colab": {
          "base_uri": "https://localhost:8080/"
        },
        "id": "LKm4jSqlhqKT",
        "outputId": "54350186-0e82-4316-98dd-2b85eab40c22"
      },
      "source": [
        "# TRAIN SET TEST SET\n",
        "vingtiles_tableau = vingtiles(model = final_model_AdaBoost, data_orig = data, affichage=True,\n",
        "            save=True, path = \"/content/drive/MyDrive/spad_score_method_1/spad_projection_FDFTOT21/Fichier_excel_vingtiles/train_test_Adaboost.xlsx\")"
      ],
      "execution_count": 40,
      "outputs": [
        {
          "output_type": "stream",
          "text": [
            "            IDENT     PROBA\n",
            "63493  0010397061  0.135818\n",
            "18843  0010291953  0.136391\n",
            "10385  0010257272  0.136550\n",
            "62181  0010395560  0.136550\n",
            "11441  0010258353  0.136550\n",
            "...           ...       ...\n",
            "99283  0010539458  0.532344\n",
            "88492  0010524610  0.532355\n",
            "83980  0010505638  0.532984\n",
            "79062  0010415013  0.533166\n",
            "93101  0010530839  0.534106\n",
            "\n",
            "[99296 rows x 2 columns]\n",
            "0.499496    4341\n",
            "0.496758    3719\n",
            "0.491285    2614\n",
            "0.493052    2507\n",
            "0.501509    1123\n",
            "            ... \n",
            "0.506313       1\n",
            "0.518211       1\n",
            "0.495084       1\n",
            "0.499973       1\n",
            "0.497490       1\n",
            "Name: PROBA, Length: 8264, dtype: int64\n"
          ],
          "name": "stdout"
        },
        {
          "output_type": "stream",
          "text": [
            "/usr/local/lib/python3.7/dist-packages/ipykernel_launcher.py:119: SettingWithCopyWarning: \n",
            "A value is trying to be set on a copy of a slice from a DataFrame\n",
            "\n",
            "See the caveats in the documentation: https://pandas.pydata.org/pandas-docs/stable/user_guide/indexing.html#returning-a-view-versus-a-copy\n"
          ],
          "name": "stderr"
        },
        {
          "output_type": "stream",
          "text": [
            "            IDENT     PROBA                       TRANCHES CLASSE\n",
            "63493  0010397061  0.135818  (0.13570000000000002, 0.4908]      1\n",
            "18843  0010291953  0.136391  (0.13570000000000002, 0.4908]      1\n",
            "10385  0010257272  0.136550  (0.13570000000000002, 0.4908]      1\n",
            "62181  0010395560  0.136550  (0.13570000000000002, 0.4908]      1\n",
            "11441  0010258353  0.136550  (0.13570000000000002, 0.4908]      1\n",
            "...           ...       ...                            ...    ...\n",
            "99283  0010539458  0.532344               (0.5119, 0.5341]     20\n",
            "88492  0010524610  0.532355               (0.5119, 0.5341]     20\n",
            "83980  0010505638  0.532984               (0.5119, 0.5341]     20\n",
            "79062  0010415013  0.533166               (0.5119, 0.5341]     20\n",
            "93101  0010530839  0.534106               (0.5119, 0.5341]     20\n",
            "\n",
            "[99296 rows x 4 columns]\n",
            "Top_mon                           1     2  TOTAL\n",
            "TRANCHES                                        \n",
            "(0.13570000000000002, 0.4908]   656  4331   4987\n",
            "(0.4908, 0.4919]                788  4157   4945\n",
            "(0.4919, 0.4931]                875  4091   4966\n",
            "(0.4931, 0.4939]                945  4238   5183\n",
            "(0.4939, 0.495]                 991  3803   4794\n",
            "(0.495, 0.4957]                1030  4008   5038\n",
            "(0.4957, 0.4968]               1803  6678   8481\n",
            "(0.4968, 0.497]                 314  1082   1396\n",
            "(0.497, 0.498]                 1175  3755   4930\n",
            "(0.498, 0.4988]                1354  4286   5640\n",
            "(0.4988, 0.4995]               2234  6309   8543\n",
            "(0.4995, 0.4997]                181   579    760\n",
            "(0.4997, 0.5011]               1283  3596   4879\n",
            "(0.5011, 0.5015]               1471  3495   4966\n",
            "(0.5015, 0.5025]               1748  3985   5733\n",
            "(0.5025, 0.5038]               1330  2891   4221\n",
            "(0.5038, 0.5052]               1699  3240   4939\n",
            "(0.5052, 0.5079]               1860  3106   4966\n",
            "(0.5079, 0.5119]               2189  2807   4996\n",
            "(0.5119, 0.5341]               2802  2131   4933\n"
          ],
          "name": "stdout"
        }
      ]
    },
    {
      "cell_type": "code",
      "metadata": {
        "colab": {
          "base_uri": "https://localhost:8080/"
        },
        "id": "iKXH83PFSlV1",
        "outputId": "d77d2e69-704c-4d04-e0ef-1d3a1646bd11"
      },
      "source": [
        "# TABLEAU MONTANT\n",
        "tableau_5_montant(vingtiles_tableau, data_montant_orig, affichage=True,\n",
        "            save=True, path = \"/content/drive/MyDrive/spad_score_method_1/spad_projection_FDFTOT21/Fichier_excel_vingtiles/montant_Adaboost.xlsx\")"
      ],
      "execution_count": 41,
      "outputs": [
        {
          "output_type": "stream",
          "text": [
            "            IDENT     PROBA  ... CLASSE SommeDeMONTANT_NUM\n",
            "0      0010397061  0.135818  ...      1               15.0\n",
            "1      0010291953  0.136391  ...      1               30.0\n",
            "2      0010257272  0.136550  ...      1               10.0\n",
            "3      0010395560  0.136550  ...      1               15.0\n",
            "4      0010258353  0.136550  ...      1               15.0\n",
            "...           ...       ...  ...    ...                ...\n",
            "99291  0010539458  0.532344  ...     20             1917.6\n",
            "99292  0010524610  0.532355  ...     20               20.0\n",
            "99293  0010505638  0.532984  ...     20              100.0\n",
            "99294  0010415013  0.533166  ...     20              100.0\n",
            "99295  0010530839  0.534106  ...     20              200.0\n",
            "\n",
            "[99146 rows x 5 columns]\n",
            "                         TRANCHES Moyen_Somme TOTAL\n",
            "0   (0.13570000000000002, 0.4908]     28.2102  4985\n",
            "1                (0.4908, 0.4919]     29.7559  4944\n",
            "2                (0.4919, 0.4931]     30.9221  4965\n",
            "3                (0.4931, 0.4939]     31.4666  5183\n",
            "4                 (0.4939, 0.495]     33.4845  4794\n",
            "5                 (0.495, 0.4957]     33.5276  5034\n",
            "6                (0.4957, 0.4968]     34.1494  8480\n",
            "7                 (0.4968, 0.497]     35.3593  1394\n",
            "8                  (0.497, 0.498]     38.8506  4928\n",
            "9                 (0.498, 0.4988]     36.3759  5638\n",
            "10               (0.4988, 0.4995]     41.1638  8534\n",
            "11               (0.4995, 0.4997]     35.9848   759\n",
            "12               (0.4997, 0.5011]     45.1603  4877\n",
            "13               (0.5011, 0.5015]      42.761  4960\n",
            "14               (0.5015, 0.5025]     45.2452  5722\n",
            "15               (0.5025, 0.5038]     48.7597  4217\n",
            "16               (0.5038, 0.5052]     51.9715  4934\n",
            "17               (0.5052, 0.5079]     61.1156  4947\n",
            "18               (0.5079, 0.5119]     73.9287  4970\n",
            "19               (0.5119, 0.5341]     150.757  4881\n"
          ],
          "name": "stdout"
        }
      ]
    },
    {
      "cell_type": "code",
      "metadata": {
        "colab": {
          "base_uri": "https://localhost:8080/"
        },
        "id": "BvNNKb0ndG7O",
        "outputId": "45b9e25d-7a8b-47cb-fbf3-c2220a53c755"
      },
      "source": [
        "# INDIVIDUS SANS TARGET\n",
        "vingtiles_ind_sans_target(model = final_model_AdaBoost, data_orig= data_var_qualitatives_temp[(data_var_qualitatives_temp.isnull()).sum(axis=1) != 0], affichage=True,\n",
        "            save=True, path = \"/content/drive/MyDrive/spad_score_method_1/spad_projection_FDFTOT21/Fichier_excel_vingtiles/ind_sans_target_Adaboost.xlsx\")"
      ],
      "execution_count": 42,
      "outputs": [
        {
          "output_type": "stream",
          "text": [
            "              IDENT     PROBA\n",
            "201285   0050041980  0.134791\n",
            "640373   0250013157  0.135341\n",
            "756347   0280069125  0.135678\n",
            "1126718  0370043886  0.135818\n",
            "867315   0320008483  0.136028\n",
            "...             ...       ...\n",
            "636629   0250009413  0.538215\n",
            "287139   0110005118  0.538356\n",
            "895764   0340001932  0.538955\n",
            "636562   0250009346  0.538955\n",
            "628755   0250001539  0.539339\n",
            "\n",
            "[1092884 rows x 2 columns]\n",
            "0.499496    50475\n",
            "0.491285    34483\n",
            "0.493052    31305\n",
            "0.496758    17272\n",
            "0.501509    16702\n",
            "            ...  \n",
            "0.495653        1\n",
            "0.494264        1\n",
            "0.493699        1\n",
            "0.501168        1\n",
            "0.492433        1\n",
            "Name: PROBA, Length: 22106, dtype: int64\n",
            "                                 PROBA\n",
            "201285   (0.13470000000000001, 0.4908]\n",
            "640373   (0.13470000000000001, 0.4908]\n",
            "756347   (0.13470000000000001, 0.4908]\n",
            "1126718  (0.13470000000000001, 0.4908]\n",
            "867315   (0.13470000000000001, 0.4908]\n",
            "...                                ...\n",
            "636629                (0.5142, 0.5393]\n",
            "287139                (0.5142, 0.5393]\n",
            "895764                (0.5142, 0.5393]\n",
            "636562                (0.5142, 0.5393]\n",
            "628755                (0.5142, 0.5393]\n",
            "\n",
            "[1092884 rows x 1 columns]\n",
            "              IDENT     PROBA                       TRANCHES\n",
            "201285   0050041980  0.134791  (0.13470000000000001, 0.4908]\n",
            "640373   0250013157  0.135341  (0.13470000000000001, 0.4908]\n",
            "756347   0280069125  0.135678  (0.13470000000000001, 0.4908]\n",
            "1126718  0370043886  0.135818  (0.13470000000000001, 0.4908]\n",
            "867315   0320008483  0.136028  (0.13470000000000001, 0.4908]\n",
            "...             ...       ...                            ...\n",
            "636629   0250009413  0.538215               (0.5142, 0.5393]\n",
            "287139   0110005118  0.538356               (0.5142, 0.5393]\n",
            "895764   0340001932  0.538955               (0.5142, 0.5393]\n",
            "636562   0250009346  0.538955               (0.5142, 0.5393]\n",
            "628755   0250001539  0.539339               (0.5142, 0.5393]\n",
            "\n",
            "[1092884 rows x 3 columns]\n",
            "(0.4931, 0.4937]                 44992\n",
            "(0.4967, 0.4973]                 49448\n",
            "(0.4995, 0.501]                  49734\n",
            "(0.5015, 0.5024]                 51557\n",
            "(0.4949, 0.4955]                 52357\n",
            "(0.4973, 0.4984]                 53119\n",
            "(0.5142, 0.5393]                 53135\n",
            "(0.5049, 0.5068]                 54041\n",
            "(0.5068, 0.5098]                 54073\n",
            "(0.4984, 0.4993]                 54659\n",
            "(0.5024, 0.5037]                 54798\n",
            "(0.13470000000000001, 0.4908]    54960\n",
            "(0.5037, 0.5049]                 55647\n",
            "(0.4908, 0.4915]                 55962\n",
            "(0.5098, 0.5142]                 56151\n",
            "(0.4937, 0.4949]                 56915\n",
            "(0.501, 0.5015]                  57112\n",
            "(0.4993, 0.4995]                 60169\n",
            "(0.4955, 0.4967]                 61376\n",
            "(0.4915, 0.4931]                 62679\n",
            "Name: TRANCHES, dtype: int64\n",
            "                         TRANCHES COUNTS\n",
            "0   (0.13470000000000001, 0.4908]  54960\n",
            "1                (0.4908, 0.4915]  55962\n",
            "2                (0.4915, 0.4931]  62679\n",
            "3                (0.4931, 0.4937]  44992\n",
            "4                (0.4937, 0.4949]  56915\n",
            "5                (0.4949, 0.4955]  52357\n",
            "6                (0.4955, 0.4967]  61376\n",
            "7                (0.4967, 0.4973]  49448\n",
            "8                (0.4973, 0.4984]  53119\n",
            "9                (0.4984, 0.4993]  54659\n",
            "10               (0.4993, 0.4995]  60169\n",
            "11                (0.4995, 0.501]  49734\n",
            "12                (0.501, 0.5015]  57112\n",
            "13               (0.5015, 0.5024]  51557\n",
            "14               (0.5024, 0.5037]  54798\n",
            "15               (0.5037, 0.5049]  55647\n",
            "16               (0.5049, 0.5068]  54041\n",
            "17               (0.5068, 0.5098]  54073\n",
            "18               (0.5098, 0.5142]  56151\n",
            "19               (0.5142, 0.5393]  53135\n"
          ],
          "name": "stdout"
        }
      ]
    },
    {
      "cell_type": "code",
      "metadata": {
        "id": "qsQSJ6dhhqRJ"
      },
      "source": [
        "#############################################################\n",
        "#                   MODELE 2 : RANDOM FOREST\n",
        "#############################################################"
      ],
      "execution_count": null,
      "outputs": []
    },
    {
      "cell_type": "code",
      "metadata": {
        "colab": {
          "base_uri": "https://localhost:8080/"
        },
        "id": "HBC-6OWNYvnm",
        "outputId": "72463dc9-e73a-4ef7-bbe0-439c5480b43d"
      },
      "source": [
        "model_RandomForestClassifier = RandomForestClassifier(class_weight=\"balanced\", random_state =0 )\n",
        "param = {'criterion': ['gini','entropy'], 'max_depth' : [2,3,4,5],\"max_features\":[8,12,15,20,25,30] ,'n_estimators' : [20,50,100,200] }\n",
        "\n",
        "grid_RandomForestClassifier = GridSearchCV(model_RandomForestClassifier, param, cv = 4, scoring = \"recall\", n_jobs=-1)\n",
        "resultat_grid_RandomForestClassifier = grid_RandomForestClassifier.fit(train_X_s, train_Y_s)\n",
        "resultat_grid_RandomForestClassifier.best_params_\n"
      ],
      "execution_count": 14,
      "outputs": [
        {
          "output_type": "execute_result",
          "data": {
            "text/plain": [
              "{'criterion': 'gini', 'max_depth': 3, 'max_features': 25, 'n_estimators': 100}"
            ]
          },
          "metadata": {
            "tags": []
          },
          "execution_count": 14
        }
      ]
    },
    {
      "cell_type": "code",
      "metadata": {
        "colab": {
          "base_uri": "https://localhost:8080/"
        },
        "id": "n3i-NJ26zZsC",
        "outputId": "beb568b4-cf0e-4ffa-edd5-cf34d9651db6"
      },
      "source": [
        "final_model_RandomForestClassifier = RandomForestClassifier(class_weight=\"balanced\", criterion=\"gini\", max_depth=3, max_features=25, n_estimators = 100, random_state=0) \n",
        "evaluation(final_model_RandomForestClassifier, train_X_s, train_Y_s, test_X_s, test_Y_s, scoring=\"recall\", plot=False)"
      ],
      "execution_count": 43,
      "outputs": [
        {
          "output_type": "stream",
          "text": [
            "test set : \n",
            "[[3380 1951]\n",
            " [6795 7734]]\n",
            "              precision    recall  f1-score   support\n",
            "\n",
            "           1       0.33      0.63      0.44      5331\n",
            "           2       0.80      0.53      0.64     14529\n",
            "\n",
            "    accuracy                           0.56     19860\n",
            "   macro avg       0.57      0.58      0.54     19860\n",
            "weighted avg       0.67      0.56      0.58     19860\n",
            "\n",
            "train set : \n",
            "[[13273  8124]\n",
            " [27007 31032]]\n",
            "              precision    recall  f1-score   support\n",
            "\n",
            "           1       0.33      0.62      0.43     21397\n",
            "           2       0.79      0.53      0.64     58039\n",
            "\n",
            "    accuracy                           0.56     79436\n",
            "   macro avg       0.56      0.58      0.53     79436\n",
            "weighted avg       0.67      0.56      0.58     79436\n",
            "\n",
            "GRAPHIQUE NON DEMANDE\n"
          ],
          "name": "stdout"
        }
      ]
    },
    {
      "cell_type": "code",
      "metadata": {
        "colab": {
          "base_uri": "https://localhost:8080/"
        },
        "id": "zHQtVH69zZvW",
        "outputId": "646721cf-a37e-488e-8466-0664b04f280d"
      },
      "source": [
        "# TRAIN SET TEST SET\n",
        "vingtiles_tableau = vingtiles(model = final_model_RandomForestClassifier, data_orig = data, affichage=True,\n",
        "            save=True, path = \"/content/drive/MyDrive/spad_score_method_1/spad_projection_FDFTOT21/Fichier_excel_vingtiles/train_test_Random_Forest.xlsx\")"
      ],
      "execution_count": 44,
      "outputs": [
        {
          "output_type": "stream",
          "text": [
            "            IDENT     PROBA\n",
            "67904  0010401663  0.407182\n",
            "53738  0010379725  0.408820\n",
            "21093  0010337388  0.408885\n",
            "42914  0010368050  0.409773\n",
            "93208  0010530978  0.410760\n",
            "...           ...       ...\n",
            "88310  0010524335  0.694018\n",
            "51004  0010376561  0.694018\n",
            "3728   0010049725  0.694018\n",
            "54667  0010381112  0.694018\n",
            "2071   0010027021  0.694018\n",
            "\n",
            "[99296 rows x 2 columns]\n",
            "0.449338    1855\n",
            "0.526649    1347\n",
            "0.451151     695\n",
            "0.510004     676\n",
            "0.461725     508\n",
            "            ... \n",
            "0.510846       1\n",
            "0.434282       1\n",
            "0.499693       1\n",
            "0.444811       1\n",
            "0.462459       1\n",
            "Name: PROBA, Length: 31410, dtype: int64\n"
          ],
          "name": "stdout"
        },
        {
          "output_type": "stream",
          "text": [
            "/usr/local/lib/python3.7/dist-packages/ipykernel_launcher.py:119: SettingWithCopyWarning: \n",
            "A value is trying to be set on a copy of a slice from a DataFrame\n",
            "\n",
            "See the caveats in the documentation: https://pandas.pydata.org/pandas-docs/stable/user_guide/indexing.html#returning-a-view-versus-a-copy\n"
          ],
          "name": "stderr"
        },
        {
          "output_type": "stream",
          "text": [
            "            IDENT     PROBA                     TRANCHES CLASSE\n",
            "67904  0010401663  0.407182  (0.40599999999999997, 0.43]      1\n",
            "53738  0010379725  0.408820  (0.40599999999999997, 0.43]      1\n",
            "21093  0010337388  0.408885  (0.40599999999999997, 0.43]      1\n",
            "42914  0010368050  0.409773  (0.40599999999999997, 0.43]      1\n",
            "93208  0010530978  0.410760  (0.40599999999999997, 0.43]      1\n",
            "...           ...       ...                          ...    ...\n",
            "88310  0010524335  0.694018               (0.585, 0.694]     20\n",
            "51004  0010376561  0.694018               (0.585, 0.694]     20\n",
            "3728   0010049725  0.694018               (0.585, 0.694]     20\n",
            "54667  0010381112  0.694018               (0.585, 0.694]     20\n",
            "2071   0010027021  0.694018               (0.585, 0.694]     20\n",
            "\n",
            "[99296 rows x 4 columns]\n",
            "Top_mon                         1     2  TOTAL\n",
            "TRANCHES                                      \n",
            "(0.40599999999999997, 0.43]   733  4238   4971\n",
            "(0.43, 0.435]                 871  4121   4992\n",
            "(0.435, 0.445]                934  4009   4943\n",
            "(0.445, 0.449]               1095  4671   5766\n",
            "(0.449, 0.452]                794  3358   4152\n",
            "(0.452, 0.456]               1107  3869   4976\n",
            "(0.456, 0.462]               1138  3818   4956\n",
            "(0.462, 0.471]               1173  3790   4963\n",
            "(0.471, 0.484]               1206  3758   4964\n",
            "(0.484, 0.501]               1204  3762   4966\n",
            "(0.501, 0.508]               1186  3779   4965\n",
            "(0.508, 0.512]               1314  3652   4966\n",
            "(0.512, 0.518]               1319  3643   4962\n",
            "(0.518, 0.522]               1418  3714   5132\n",
            "(0.522, 0.526]               1438  3368   4806\n",
            "(0.526, 0.529]               1533  3425   4958\n",
            "(0.529, 0.534]               1649  3314   4963\n",
            "(0.534, 0.546]               1769  3197   4966\n",
            "(0.546, 0.585]               2172  2800   4972\n",
            "(0.585, 0.694]               2675  2282   4957\n"
          ],
          "name": "stdout"
        }
      ]
    },
    {
      "cell_type": "code",
      "metadata": {
        "colab": {
          "base_uri": "https://localhost:8080/"
        },
        "id": "CNoifDu6iXK1",
        "outputId": "9fdd2037-90ae-403d-ac5c-51cb5d010bc4"
      },
      "source": [
        "# TABLEAU MONTANT\n",
        "tableau_5_montant(vingtiles_tableau, data_montant_orig, affichage=True,\n",
        "            save=True, path = \"/content/drive/MyDrive/spad_score_method_1/spad_projection_FDFTOT21/Fichier_excel_vingtiles/montant_Random_Forest.xlsx\")"
      ],
      "execution_count": 45,
      "outputs": [
        {
          "output_type": "stream",
          "text": [
            "            IDENT     PROBA  ... CLASSE SommeDeMONTANT_NUM\n",
            "0      0010401663  0.407182  ...      1               50.0\n",
            "1      0010379725  0.408820  ...      1                5.0\n",
            "2      0010337388  0.408885  ...      1               15.0\n",
            "3      0010368050  0.409773  ...      1               20.0\n",
            "4      0010530978  0.410760  ...      1               15.0\n",
            "...           ...       ...  ...    ...                ...\n",
            "99291  0010524335  0.694018  ...     20               50.0\n",
            "99292  0010376561  0.694018  ...     20              500.0\n",
            "99293  0010049725  0.694018  ...     20                5.0\n",
            "99294  0010381112  0.694018  ...     20              500.0\n",
            "99295  0010027021  0.694018  ...     20               50.0\n",
            "\n",
            "[99146 rows x 5 columns]\n",
            "                       TRANCHES Moyen_Somme TOTAL\n",
            "0   (0.40599999999999997, 0.43]      28.702  4970\n",
            "1                 (0.43, 0.435]     31.2005  4991\n",
            "2                (0.435, 0.445]     31.4399  4941\n",
            "3                (0.445, 0.449]     32.9147  5764\n",
            "4                (0.449, 0.452]     35.2287  4150\n",
            "5                (0.452, 0.456]     35.3875  4972\n",
            "6                (0.456, 0.462]     36.4149  4954\n",
            "7                (0.462, 0.471]     39.8964  4959\n",
            "8                (0.471, 0.484]     38.4715  4958\n",
            "9                (0.484, 0.501]     38.3071  4961\n",
            "10               (0.501, 0.508]     38.0388  4964\n",
            "11               (0.508, 0.512]     39.0489  4963\n",
            "12               (0.512, 0.518]      41.664  4957\n",
            "13               (0.518, 0.522]     40.3542  5128\n",
            "14               (0.522, 0.526]      46.275  4799\n",
            "15               (0.526, 0.529]     51.9433  4953\n",
            "16               (0.529, 0.534]     49.6557  4953\n",
            "17               (0.534, 0.546]     54.3737  4950\n",
            "18               (0.546, 0.585]     87.1604  4954\n",
            "19               (0.585, 0.694]     134.484  4905\n"
          ],
          "name": "stdout"
        }
      ]
    },
    {
      "cell_type": "code",
      "metadata": {
        "colab": {
          "base_uri": "https://localhost:8080/"
        },
        "id": "8jVj4rxxzZ1k",
        "outputId": "4202646f-0eb5-4c54-d085-2729126e189f"
      },
      "source": [
        "# INDIVIDUS SANS TARGET\n",
        "vingtiles_ind_sans_target(model = final_model_RandomForestClassifier, data_orig= data_var_qualitatives_temp[(data_var_qualitatives_temp.isnull()).sum(axis=1) != 0], affichage=True,\n",
        "            save=True, path = \"/content/drive/MyDrive/spad_score_method_1/spad_projection_FDFTOT21/Fichier_excel_vingtiles/ind_sans_target_Random_Forest.xlsx\")"
      ],
      "execution_count": 46,
      "outputs": [
        {
          "output_type": "stream",
          "text": [
            "              IDENT     PROBA\n",
            "1044351  0360121519  0.407182\n",
            "1117635  0370034803  0.407182\n",
            "620301   0240003092  0.407692\n",
            "554085   0210011337  0.407692\n",
            "299901   0110017880  0.407692\n",
            "...             ...       ...\n",
            "407129   0130055113  0.694018\n",
            "1153801  0370070969  0.694018\n",
            "383445   0130031429  0.694018\n",
            "691558   0280004336  0.694018\n",
            "895764   0340001932  0.697864\n",
            "\n",
            "[1092884 rows x 2 columns]\n",
            "0.449338    23996\n",
            "0.526649    18511\n",
            "0.451151     7576\n",
            "0.461725     6683\n",
            "0.452948     5717\n",
            "            ...  \n",
            "0.540732        1\n",
            "0.538556        1\n",
            "0.520763        1\n",
            "0.538466        1\n",
            "0.420964        1\n",
            "Name: PROBA, Length: 123723, dtype: int64\n",
            "                                PROBA\n",
            "1044351  (0.40599999999999997, 0.429]\n",
            "1117635  (0.40599999999999997, 0.429]\n",
            "620301   (0.40599999999999997, 0.429]\n",
            "554085   (0.40599999999999997, 0.429]\n",
            "299901   (0.40599999999999997, 0.429]\n",
            "...                               ...\n",
            "407129                 (0.595, 0.698]\n",
            "1153801                (0.595, 0.698]\n",
            "383445                 (0.595, 0.698]\n",
            "691558                 (0.595, 0.698]\n",
            "895764                 (0.595, 0.698]\n",
            "\n",
            "[1092884 rows x 1 columns]\n",
            "              IDENT     PROBA                      TRANCHES\n",
            "1044351  0360121519  0.407182  (0.40599999999999997, 0.429]\n",
            "1117635  0370034803  0.407182  (0.40599999999999997, 0.429]\n",
            "620301   0240003092  0.407692  (0.40599999999999997, 0.429]\n",
            "554085   0210011337  0.407692  (0.40599999999999997, 0.429]\n",
            "299901   0110017880  0.407692  (0.40599999999999997, 0.429]\n",
            "...             ...       ...                           ...\n",
            "407129   0130055113  0.694018                (0.595, 0.698]\n",
            "1153801  0370070969  0.694018                (0.595, 0.698]\n",
            "383445   0130031429  0.694018                (0.595, 0.698]\n",
            "691558   0280004336  0.694018                (0.595, 0.698]\n",
            "895764   0340001932  0.697864                (0.595, 0.698]\n",
            "\n",
            "[1092884 rows x 3 columns]\n",
            "(0.525, 0.527]                  52263\n",
            "(0.433, 0.441]                  52580\n",
            "(0.459, 0.464]                  54294\n",
            "(0.527, 0.532]                  54366\n",
            "(0.595, 0.698]                  54572\n",
            "(0.476, 0.493]                  54606\n",
            "(0.441, 0.448]                  54619\n",
            "(0.537, 0.55]                   54628\n",
            "(0.448, 0.451]                  54656\n",
            "(0.517, 0.522]                  54657\n",
            "(0.451, 0.454]                  54659\n",
            "(0.532, 0.537]                  54660\n",
            "(0.493, 0.508]                  54666\n",
            "(0.464, 0.476]                  54678\n",
            "(0.55, 0.595]                   54702\n",
            "(0.508, 0.517]                  54893\n",
            "(0.454, 0.459]                  54964\n",
            "(0.40599999999999997, 0.429]    55053\n",
            "(0.429, 0.433]                  56333\n",
            "(0.522, 0.525]                  57035\n",
            "Name: TRANCHES, dtype: int64\n",
            "                        TRANCHES COUNTS\n",
            "0   (0.40599999999999997, 0.429]  55053\n",
            "1                 (0.429, 0.433]  56333\n",
            "2                 (0.433, 0.441]  52580\n",
            "3                 (0.441, 0.448]  54619\n",
            "4                 (0.448, 0.451]  54656\n",
            "5                 (0.451, 0.454]  54659\n",
            "6                 (0.454, 0.459]  54964\n",
            "7                 (0.459, 0.464]  54294\n",
            "8                 (0.464, 0.476]  54678\n",
            "9                 (0.476, 0.493]  54606\n",
            "10                (0.493, 0.508]  54666\n",
            "11                (0.508, 0.517]  54893\n",
            "12                (0.517, 0.522]  54657\n",
            "13                (0.522, 0.525]  57035\n",
            "14                (0.525, 0.527]  52263\n",
            "15                (0.527, 0.532]  54366\n",
            "16                (0.532, 0.537]  54660\n",
            "17                 (0.537, 0.55]  54628\n",
            "18                 (0.55, 0.595]  54702\n",
            "19                (0.595, 0.698]  54572\n"
          ],
          "name": "stdout"
        }
      ]
    },
    {
      "cell_type": "code",
      "metadata": {
        "id": "d04Xaq_mRPT-"
      },
      "source": [
        ""
      ],
      "execution_count": null,
      "outputs": []
    },
    {
      "cell_type": "code",
      "metadata": {
        "id": "7LLwgps2n4tS"
      },
      "source": [
        "#############################################################\n",
        "#                   MODELE 3 : BAGGING\n",
        "#############################################################"
      ],
      "execution_count": null,
      "outputs": []
    },
    {
      "cell_type": "code",
      "metadata": {
        "colab": {
          "base_uri": "https://localhost:8080/"
        },
        "id": "pL9jq9H5n4wa",
        "outputId": "7321e826-eaf9-4bbc-b93b-13d389f634e1"
      },
      "source": [
        "model_Bagging = BaggingClassifier(base_estimator=DecisionTreeClassifier(class_weight = \"balanced\"), random_state =0 )\n",
        "param = {'base_estimator__criterion': ['gini','entropy'], 'base_estimator__max_depth' : list(range(2,20, 1)), 'n_estimators' : [20,50,100],\n",
        "         'bootstrap':[True], \"bootstrap_features\": [False]}\n",
        "\n",
        "grid_Bagging = GridSearchCV(model_Bagging, param, cv = 4, scoring = \"recall\", n_jobs=-1)\n",
        "resultat_grid_Bagging = grid_Bagging.fit(train_X_s, train_Y_s)\n",
        "resultat_grid_Bagging.best_params_\n"
      ],
      "execution_count": 51,
      "outputs": [
        {
          "output_type": "execute_result",
          "data": {
            "text/plain": [
              "{'base_estimator__criterion': 'gini',\n",
              " 'base_estimator__max_depth': 2,\n",
              " 'bootstrap': True,\n",
              " 'bootstrap_features': False,\n",
              " 'n_estimators': 50}"
            ]
          },
          "metadata": {
            "tags": []
          },
          "execution_count": 51
        }
      ]
    },
    {
      "cell_type": "code",
      "metadata": {
        "colab": {
          "base_uri": "https://localhost:8080/"
        },
        "id": "I8vJFdWdn4z1",
        "outputId": "162add83-96ed-4811-e986-c066b09a79cb"
      },
      "source": [
        "final_model_BaggingClassifier = BaggingClassifier(base_estimator=DecisionTreeClassifier(class_weight = \"balanced\", criterion=\"gini\", max_depth=2, random_state=0),bootstrap=True, bootstrap_features=False, n_estimators = 50) \n",
        "evaluation(final_model_BaggingClassifier, train_X_s, train_Y_s, test_X_s, test_Y_s, scoring=\"recall\", plot=False)"
      ],
      "execution_count": 26,
      "outputs": [
        {
          "output_type": "stream",
          "text": [
            "test set : \n",
            "[[3289 2042]\n",
            " [6708 7821]]\n",
            "              precision    recall  f1-score   support\n",
            "\n",
            "           1       0.33      0.62      0.43      5331\n",
            "           2       0.79      0.54      0.64     14529\n",
            "\n",
            "    accuracy                           0.56     19860\n",
            "   macro avg       0.56      0.58      0.54     19860\n",
            "weighted avg       0.67      0.56      0.58     19860\n",
            "\n",
            "train set : \n",
            "[[12917  8480]\n",
            " [26550 31489]]\n",
            "              precision    recall  f1-score   support\n",
            "\n",
            "           1       0.33      0.60      0.42     21397\n",
            "           2       0.79      0.54      0.64     58039\n",
            "\n",
            "    accuracy                           0.56     79436\n",
            "   macro avg       0.56      0.57      0.53     79436\n",
            "weighted avg       0.66      0.56      0.58     79436\n",
            "\n",
            "GRAPHIQUE NON DEMANDE\n"
          ],
          "name": "stdout"
        }
      ]
    },
    {
      "cell_type": "code",
      "metadata": {
        "colab": {
          "base_uri": "https://localhost:8080/",
          "height": 1000
        },
        "id": "-iYPSINKn43B",
        "outputId": "a8baebff-2202-4a61-d763-366289d257dc"
      },
      "source": [
        "vingtiles(model = final_model_BaggingClassifier, data_orig = data, affichage=True,\n",
        "            save=False, path = \"/content/drive/MyDrive/spad_score_method_1/spad_projection_FDFTOT21/Fichier_excel_vingtiles/train_test_Decision_Tree_Classifier.xlsx\")"
      ],
      "execution_count": 27,
      "outputs": [
        {
          "output_type": "stream",
          "text": [
            "            IDENT     PROBA\n",
            "0      0010000001  0.421471\n",
            "51100  0010376657  0.421471\n",
            "51106  0010376663  0.421471\n",
            "51107  0010376664  0.421471\n",
            "51109  0010376666  0.421471\n",
            "...           ...       ...\n",
            "30820  0010351248  0.753873\n",
            "2297   0010029949  0.753873\n",
            "33573  0010358016  0.753873\n",
            "20580  0010336549  0.753873\n",
            "65100  0010398693  0.753873\n",
            "\n",
            "[99296 rows x 2 columns]\n",
            "0.421471    36029\n",
            "0.530511    24169\n",
            "0.507569    15519\n",
            "0.451343    11014\n",
            "0.656990     1817\n",
            "0.744772     1804\n",
            "0.474285     1397\n",
            "0.477697     1343\n",
            "0.705378     1167\n",
            "0.635514      938\n",
            "0.666091      904\n",
            "0.753873      883\n",
            "0.673075      534\n",
            "0.714480      437\n",
            "0.644615      377\n",
            "0.682176      253\n",
            "0.651598      208\n",
            "0.712468      113\n",
            "0.689294      110\n",
            "0.698395       80\n",
            "0.660700       72\n",
            "0.721570       45\n",
            "0.475478       32\n",
            "0.423689       11\n",
            "0.690992        7\n",
            "0.505350        7\n",
            "0.676660        6\n",
            "0.453561        5\n",
            "0.528293        3\n",
            "0.685761        3\n",
            "0.692744        2\n",
            "0.669624        2\n",
            "0.701846        2\n",
            "0.725102        1\n",
            "0.476504        1\n",
            "0.700093        1\n",
            "Name: PROBA, dtype: int64\n"
          ],
          "name": "stdout"
        },
        {
          "output_type": "error",
          "ename": "ValueError",
          "evalue": "ignored",
          "traceback": [
            "\u001b[0;31m---------------------------------------------------------------------------\u001b[0m",
            "\u001b[0;31mValueError\u001b[0m                                Traceback (most recent call last)",
            "\u001b[0;32m<ipython-input-27-4be2b6119a1a>\u001b[0m in \u001b[0;36m<module>\u001b[0;34m()\u001b[0m\n\u001b[1;32m      1\u001b[0m vingtiles(model = final_model_BaggingClassifier, data_orig = data, affichage=True,\n\u001b[0;32m----> 2\u001b[0;31m             save=False, path = \"/content/drive/MyDrive/spad_score_method_1/spad_projection_FDFTOT21/Fichier_excel_vingtiles/train_test_Decision_Tree_Classifier.xlsx\")\n\u001b[0m",
            "\u001b[0;32m<ipython-input-24-8e1bcf0023f5>\u001b[0m in \u001b[0;36mvingtiles\u001b[0;34m(model, data_orig, affichage, save, path)\u001b[0m\n\u001b[1;32m    105\u001b[0m \u001b[0;34m\u001b[0m\u001b[0m\n\u001b[1;32m    106\u001b[0m     \u001b[0;31m# vingtiles\u001b[0m\u001b[0;34m\u001b[0m\u001b[0;34m\u001b[0m\u001b[0;34m\u001b[0m\u001b[0m\n\u001b[0;32m--> 107\u001b[0;31m     \u001b[0mdf_temp\u001b[0m \u001b[0;34m=\u001b[0m\u001b[0mpd\u001b[0m\u001b[0;34m.\u001b[0m\u001b[0mDataFrame\u001b[0m\u001b[0;34m(\u001b[0m \u001b[0mpd\u001b[0m\u001b[0;34m.\u001b[0m\u001b[0mqcut\u001b[0m\u001b[0;34m(\u001b[0m\u001b[0mdf_tous\u001b[0m\u001b[0;34m[\u001b[0m\u001b[0;34m'PROBA'\u001b[0m\u001b[0;34m]\u001b[0m\u001b[0;34m,\u001b[0m\u001b[0mq\u001b[0m\u001b[0;34m=\u001b[0m \u001b[0;36m20\u001b[0m\u001b[0;34m)\u001b[0m  \u001b[0;34m)\u001b[0m\u001b[0;34m\u001b[0m\u001b[0;34m\u001b[0m\u001b[0m\n\u001b[0m\u001b[1;32m    108\u001b[0m     \u001b[0;31m#print(df_temp)\u001b[0m\u001b[0;34m\u001b[0m\u001b[0;34m\u001b[0m\u001b[0;34m\u001b[0m\u001b[0m\n\u001b[1;32m    109\u001b[0m \u001b[0;34m\u001b[0m\u001b[0m\n",
            "\u001b[0;32m/usr/local/lib/python3.7/dist-packages/pandas/core/reshape/tile.py\u001b[0m in \u001b[0;36mqcut\u001b[0;34m(x, q, labels, retbins, precision, duplicates)\u001b[0m\n\u001b[1;32m    365\u001b[0m         \u001b[0minclude_lowest\u001b[0m\u001b[0;34m=\u001b[0m\u001b[0;32mTrue\u001b[0m\u001b[0;34m,\u001b[0m\u001b[0;34m\u001b[0m\u001b[0;34m\u001b[0m\u001b[0m\n\u001b[1;32m    366\u001b[0m         \u001b[0mdtype\u001b[0m\u001b[0;34m=\u001b[0m\u001b[0mdtype\u001b[0m\u001b[0;34m,\u001b[0m\u001b[0;34m\u001b[0m\u001b[0;34m\u001b[0m\u001b[0m\n\u001b[0;32m--> 367\u001b[0;31m         \u001b[0mduplicates\u001b[0m\u001b[0;34m=\u001b[0m\u001b[0mduplicates\u001b[0m\u001b[0;34m,\u001b[0m\u001b[0;34m\u001b[0m\u001b[0;34m\u001b[0m\u001b[0m\n\u001b[0m\u001b[1;32m    368\u001b[0m     )\n\u001b[1;32m    369\u001b[0m \u001b[0;34m\u001b[0m\u001b[0m\n",
            "\u001b[0;32m/usr/local/lib/python3.7/dist-packages/pandas/core/reshape/tile.py\u001b[0m in \u001b[0;36m_bins_to_cuts\u001b[0;34m(x, bins, right, labels, precision, include_lowest, dtype, duplicates, ordered)\u001b[0m\n\u001b[1;32m    400\u001b[0m         \u001b[0;32mif\u001b[0m \u001b[0mduplicates\u001b[0m \u001b[0;34m==\u001b[0m \u001b[0;34m\"raise\"\u001b[0m\u001b[0;34m:\u001b[0m\u001b[0;34m\u001b[0m\u001b[0;34m\u001b[0m\u001b[0m\n\u001b[1;32m    401\u001b[0m             raise ValueError(\n\u001b[0;32m--> 402\u001b[0;31m                 \u001b[0;34mf\"Bin edges must be unique: {repr(bins)}.\\n\"\u001b[0m\u001b[0;34m\u001b[0m\u001b[0;34m\u001b[0m\u001b[0m\n\u001b[0m\u001b[1;32m    403\u001b[0m                 \u001b[0;34mf\"You can drop duplicate edges by setting the 'duplicates' kwarg\"\u001b[0m\u001b[0;34m\u001b[0m\u001b[0;34m\u001b[0m\u001b[0m\n\u001b[1;32m    404\u001b[0m             )\n",
            "\u001b[0;31mValueError\u001b[0m: Bin edges must be unique: array([0.42147071, 0.42147071, 0.42147071, 0.42147071, 0.42147071,\n       0.42147071, 0.42147071, 0.42147071, 0.45134289, 0.45134289,\n       0.47769651, 0.50756869, 0.50756869, 0.50756869, 0.53051119,\n       0.53051119, 0.53051119, 0.53051119, 0.53051119, 0.67307476,\n       0.75387304]).\nYou can drop duplicate edges by setting the 'duplicates' kwarg"
          ]
        }
      ]
    },
    {
      "cell_type": "code",
      "metadata": {
        "id": "M_AjyHWqHVxP"
      },
      "source": [
        "#############################################################\n",
        "#                   MODELE 4 : EXTRA-TREES\n",
        "#############################################################"
      ],
      "execution_count": null,
      "outputs": []
    },
    {
      "cell_type": "code",
      "metadata": {
        "colab": {
          "base_uri": "https://localhost:8080/"
        },
        "id": "Mato8dS5qWhB",
        "outputId": "997ca96e-b655-40b6-866a-e0bbcb95c298"
      },
      "source": [
        "model_ExtraTreesClassifier = ExtraTreesClassifier(class_weight=\"balanced\", random_state =0 )\n",
        "param = {'criterion': ['gini','entropy'], 'max_depth' : [2,3,4,5],\"max_features\":[8,12,15,20,25,30] ,'n_estimators' : [20,50,100] }\n",
        "\n",
        "grid_ExtraTreesClassifier = GridSearchCV(model_ExtraTreesClassifier, param, cv = 4, scoring = \"recall\", n_jobs=-1)\n",
        "resultat_grid_ExtraTreesClassifier = grid_ExtraTreesClassifier.fit(train_X_s, train_Y_s)\n",
        "resultat_grid_ExtraTreesClassifier.best_params_\n",
        "\n"
      ],
      "execution_count": 20,
      "outputs": [
        {
          "output_type": "execute_result",
          "data": {
            "text/plain": [
              "{'criterion': 'entropy',\n",
              " 'max_depth': 3,\n",
              " 'max_features': 30,\n",
              " 'n_estimators': 50}"
            ]
          },
          "metadata": {
            "tags": []
          },
          "execution_count": 20
        }
      ]
    },
    {
      "cell_type": "code",
      "metadata": {
        "colab": {
          "base_uri": "https://localhost:8080/"
        },
        "id": "RoQPo8kpqWj6",
        "outputId": "5cc3ad86-a9bd-482e-d93a-c9fad9783498"
      },
      "source": [
        "final_model_ExtraTreesClassifier = ExtraTreesClassifier( criterion=\"entropy\", max_depth=3, max_features=30, n_estimators=50 , class_weight=\"balanced\", random_state=0) \n",
        "evaluation(final_model_ExtraTreesClassifier, train_X_s, train_Y_s, test_X_s, test_Y_s, scoring=\"recall\", plot=False)"
      ],
      "execution_count": 47,
      "outputs": [
        {
          "output_type": "stream",
          "text": [
            "test set : \n",
            "[[3420 1911]\n",
            " [6955 7574]]\n",
            "              precision    recall  f1-score   support\n",
            "\n",
            "           1       0.33      0.64      0.44      5331\n",
            "           2       0.80      0.52      0.63     14529\n",
            "\n",
            "    accuracy                           0.55     19860\n",
            "   macro avg       0.56      0.58      0.53     19860\n",
            "weighted avg       0.67      0.55      0.58     19860\n",
            "\n",
            "train set : \n",
            "[[13414  7983]\n",
            " [27659 30380]]\n",
            "              precision    recall  f1-score   support\n",
            "\n",
            "           1       0.33      0.63      0.43     21397\n",
            "           2       0.79      0.52      0.63     58039\n",
            "\n",
            "    accuracy                           0.55     79436\n",
            "   macro avg       0.56      0.58      0.53     79436\n",
            "weighted avg       0.67      0.55      0.58     79436\n",
            "\n",
            "GRAPHIQUE NON DEMANDE\n"
          ],
          "name": "stdout"
        }
      ]
    },
    {
      "cell_type": "code",
      "metadata": {
        "colab": {
          "base_uri": "https://localhost:8080/"
        },
        "id": "sbb1j_mWCJTJ",
        "outputId": "c210f940-e182-47c8-a169-27c752e10898"
      },
      "source": [
        "vingtiles_tableau=vingtiles(model = final_model_ExtraTreesClassifier, data_orig = data, affichage=True,\n",
        "            save=True, path = \"/content/drive/MyDrive/spad_score_method_1/spad_projection_FDFTOT21/Fichier_excel_vingtiles/train_test_Extra_Trees_Classifier.xlsx\")"
      ],
      "execution_count": 48,
      "outputs": [
        {
          "output_type": "stream",
          "text": [
            "            IDENT     PROBA\n",
            "14323  0010261341  0.402797\n",
            "21707  0010338071  0.402948\n",
            "61080  0010394340  0.402948\n",
            "35477  0010360000  0.402948\n",
            "23635  0010340220  0.402948\n",
            "...           ...       ...\n",
            "50923  0010376412  0.718302\n",
            "75590  0010410331  0.718302\n",
            "2070   0010027016  0.718302\n",
            "98902  0010538813  0.718302\n",
            "15264  0010262550  0.718302\n",
            "\n",
            "[99296 rows x 2 columns]\n",
            "0.446976    3932\n",
            "0.529540    2659\n",
            "0.528655    1724\n",
            "0.509002    1678\n",
            "0.425110    1476\n",
            "            ... \n",
            "0.531967       1\n",
            "0.521036       1\n",
            "0.447646       1\n",
            "0.441156       1\n",
            "0.472760       1\n",
            "Name: PROBA, Length: 12253, dtype: int64\n"
          ],
          "name": "stdout"
        },
        {
          "output_type": "stream",
          "text": [
            "/usr/local/lib/python3.7/dist-packages/ipykernel_launcher.py:119: SettingWithCopyWarning: \n",
            "A value is trying to be set on a copy of a slice from a DataFrame\n",
            "\n",
            "See the caveats in the documentation: https://pandas.pydata.org/pandas-docs/stable/user_guide/indexing.html#returning-a-view-versus-a-copy\n"
          ],
          "name": "stderr"
        },
        {
          "output_type": "stream",
          "text": [
            "            IDENT     PROBA        TRANCHES CLASSE\n",
            "14323  0010261341  0.402797  (0.402, 0.422]      1\n",
            "21707  0010338071  0.402948  (0.402, 0.422]      1\n",
            "61080  0010394340  0.402948  (0.402, 0.422]      1\n",
            "35477  0010360000  0.402948  (0.402, 0.422]      1\n",
            "23635  0010340220  0.402948  (0.402, 0.422]      1\n",
            "...           ...       ...             ...    ...\n",
            "50923  0010376412  0.718302  (0.596, 0.718]     20\n",
            "75590  0010410331  0.718302  (0.596, 0.718]     20\n",
            "2070   0010027016  0.718302  (0.596, 0.718]     20\n",
            "98902  0010538813  0.718302  (0.596, 0.718]     20\n",
            "15264  0010262550  0.718302  (0.596, 0.718]     20\n",
            "\n",
            "[99296 rows x 4 columns]\n",
            "Top_mon            1     2  TOTAL\n",
            "TRANCHES                         \n",
            "(0.402, 0.422]   876  4575   5451\n",
            "(0.422, 0.427]   767  3714   4481\n",
            "(0.427, 0.442]   908  4058   4966\n",
            "(0.442, 0.447]  1346  6148   7494\n",
            "(0.447, 0.449]   574  1863   2437\n",
            "(0.449, 0.456]  1082  3887   4969\n",
            "(0.456, 0.46]   1203  4345   5548\n",
            "(0.46, 0.468]   1104  3423   4527\n",
            "(0.468, 0.481]  1173  3651   4824\n",
            "(0.481, 0.503]  1274  3683   4957\n",
            "(0.503, 0.508]  1306  4179   5485\n",
            "(0.508, 0.513]  1183  3326   4509\n",
            "(0.513, 0.52]   1295  3603   4898\n",
            "(0.52, 0.525]   1398  3613   5011\n",
            "(0.525, 0.529]  1529  3459   4988\n",
            "(0.529, 0.531]  1605  3626   5231\n",
            "(0.531, 0.537]  1505  3176   4681\n",
            "(0.537, 0.546]  1772  3141   4913\n",
            "(0.546, 0.596]  2196  2815   5011\n",
            "(0.596, 0.718]  2632  2283   4915\n"
          ],
          "name": "stdout"
        }
      ]
    },
    {
      "cell_type": "code",
      "metadata": {
        "colab": {
          "base_uri": "https://localhost:8080/"
        },
        "id": "jS0wqiC_jkzN",
        "outputId": "1a11e808-6698-4a73-af5d-ac0996402111"
      },
      "source": [
        "# TABLEAU MONTANT\n",
        "tableau_5_montant(vingtiles_tableau, data_montant_orig, affichage=True,\n",
        "            save=True, path = \"/content/drive/MyDrive/spad_score_method_1/spad_projection_FDFTOT21/Fichier_excel_vingtiles/montant_Extra_Trees_Classifier.xlsx\")"
      ],
      "execution_count": 49,
      "outputs": [
        {
          "output_type": "stream",
          "text": [
            "            IDENT     PROBA        TRANCHES CLASSE  SommeDeMONTANT_NUM\n",
            "0      0010261341  0.402797  (0.402, 0.422]      1                15.0\n",
            "1      0010338071  0.402948  (0.402, 0.422]      1                30.0\n",
            "2      0010394340  0.402948  (0.402, 0.422]      1                20.0\n",
            "3      0010360000  0.402948  (0.402, 0.422]      1                20.0\n",
            "4      0010340220  0.402948  (0.402, 0.422]      1                20.0\n",
            "...           ...       ...             ...    ...                 ...\n",
            "99291  0010376412  0.718302  (0.596, 0.718]     20               200.0\n",
            "99292  0010410331  0.718302  (0.596, 0.718]     20                50.0\n",
            "99293  0010027016  0.718302  (0.596, 0.718]     20                40.0\n",
            "99294  0010538813  0.718302  (0.596, 0.718]     20                50.0\n",
            "99295  0010262550  0.718302  (0.596, 0.718]     20              1000.0\n",
            "\n",
            "[99146 rows x 5 columns]\n",
            "          TRANCHES Moyen_Somme TOTAL\n",
            "0   (0.402, 0.422]     29.5749  5450\n",
            "1   (0.422, 0.427]     31.7655  4480\n",
            "2   (0.427, 0.442]     30.9538  4964\n",
            "3   (0.442, 0.447]     33.1053  7491\n",
            "4   (0.447, 0.449]     33.8863  2437\n",
            "5   (0.449, 0.456]      38.057  4966\n",
            "6    (0.456, 0.46]     34.8972  5544\n",
            "7    (0.46, 0.468]     38.8247  4523\n",
            "8   (0.468, 0.481]     38.8936  4820\n",
            "9   (0.481, 0.503]     39.4857  4951\n",
            "10  (0.503, 0.508]     36.6523  5482\n",
            "11  (0.508, 0.513]      39.808  4505\n",
            "12   (0.513, 0.52]     43.1039  4893\n",
            "13   (0.52, 0.525]     40.9848  5009\n",
            "14  (0.525, 0.529]     49.0505  4983\n",
            "15  (0.529, 0.531]     46.9249  5223\n",
            "16  (0.531, 0.537]     49.9939  4670\n",
            "17  (0.537, 0.546]     57.6263  4899\n",
            "18  (0.546, 0.596]     84.4453  4994\n",
            "19  (0.596, 0.718]     134.586  4862\n"
          ],
          "name": "stdout"
        }
      ]
    },
    {
      "cell_type": "code",
      "metadata": {
        "colab": {
          "base_uri": "https://localhost:8080/"
        },
        "id": "o4sqbcxcBhvi",
        "outputId": "9b2a9a8a-276c-47be-eecb-3d196014d925"
      },
      "source": [
        "# INDIVIDUS SANS TARGET\n",
        "vingtiles_ind_sans_target(model = final_model_ExtraTreesClassifier, data_orig= data_var_qualitatives_temp[(data_var_qualitatives_temp.isnull()).sum(axis=1) != 0], affichage=True,\n",
        "            save=True, path = \"/content/drive/MyDrive/spad_score_method_1/spad_projection_FDFTOT21/Fichier_excel_vingtiles/ind_sans_target_Extra_Trees_Classifier.xlsx\")"
      ],
      "execution_count": 50,
      "outputs": [
        {
          "output_type": "stream",
          "text": [
            "              IDENT     PROBA\n",
            "280673   0100004652  0.401457\n",
            "1040582  0360117750  0.402797\n",
            "116210   0020006751  0.402797\n",
            "680877   0270013655  0.402797\n",
            "594529   0220036767  0.402797\n",
            "...             ...       ...\n",
            "406052   0130054036  0.718302\n",
            "660858   0260013636  0.718302\n",
            "383142   0130031126  0.718302\n",
            "636562   0250009346  0.718764\n",
            "895764   0340001932  0.719360\n",
            "\n",
            "[1092884 rows x 2 columns]\n",
            "0.446976    49028\n",
            "0.529540    36402\n",
            "0.528655    22677\n",
            "0.425110    20221\n",
            "0.531098    11654\n",
            "            ...  \n",
            "0.588287        1\n",
            "0.510456        1\n",
            "0.598328        1\n",
            "0.597622        1\n",
            "0.559156        1\n",
            "Name: PROBA, Length: 37900, dtype: int64\n",
            "                  PROBA\n",
            "280673      (0.4, 0.42]\n",
            "1040582     (0.4, 0.42]\n",
            "116210      (0.4, 0.42]\n",
            "680877      (0.4, 0.42]\n",
            "594529      (0.4, 0.42]\n",
            "...                 ...\n",
            "406052   (0.601, 0.719]\n",
            "660858   (0.601, 0.719]\n",
            "383142   (0.601, 0.719]\n",
            "636562   (0.601, 0.719]\n",
            "895764   (0.601, 0.719]\n",
            "\n",
            "[1092884 rows x 1 columns]\n",
            "              IDENT     PROBA        TRANCHES\n",
            "280673   0100004652  0.401457     (0.4, 0.42]\n",
            "1040582  0360117750  0.402797     (0.4, 0.42]\n",
            "116210   0020006751  0.402797     (0.4, 0.42]\n",
            "680877   0270013655  0.402797     (0.4, 0.42]\n",
            "594529   0220036767  0.402797     (0.4, 0.42]\n",
            "...             ...       ...             ...\n",
            "406052   0130054036  0.718302  (0.601, 0.719]\n",
            "660858   0260013636  0.718302  (0.601, 0.719]\n",
            "383142   0130031126  0.718302  (0.601, 0.719]\n",
            "636562   0250009346  0.718764  (0.601, 0.719]\n",
            "895764   0340001932  0.719360  (0.601, 0.719]\n",
            "\n",
            "[1092884 rows x 3 columns]\n",
            "(0.425, 0.434]    47726\n",
            "(0.459, 0.462]    49179\n",
            "(0.529, 0.53]     49670\n",
            "(0.447, 0.451]    53133\n",
            "(0.53, 0.534]     53537\n",
            "(0.462, 0.473]    54197\n",
            "(0.601, 0.719]    54439\n",
            "(0.54, 0.55]      54506\n",
            "(0.473, 0.497]    54646\n",
            "(0.497, 0.509]    54656\n",
            "(0.55, 0.601]     54718\n",
            "(0.434, 0.446]    54735\n",
            "(0.534, 0.54]     54906\n",
            "(0.509, 0.519]    55033\n",
            "(0.446, 0.447]    55184\n",
            "(0.4, 0.42]       55270\n",
            "(0.519, 0.525]    55873\n",
            "(0.525, 0.529]    59085\n",
            "(0.451, 0.459]    60571\n",
            "(0.42, 0.425]     61820\n",
            "Name: TRANCHES, dtype: int64\n",
            "          TRANCHES COUNTS\n",
            "0      (0.4, 0.42]  55270\n",
            "1    (0.42, 0.425]  61820\n",
            "2   (0.425, 0.434]  47726\n",
            "3   (0.434, 0.446]  54735\n",
            "4   (0.446, 0.447]  55184\n",
            "5   (0.447, 0.451]  53133\n",
            "6   (0.451, 0.459]  60571\n",
            "7   (0.459, 0.462]  49179\n",
            "8   (0.462, 0.473]  54197\n",
            "9   (0.473, 0.497]  54646\n",
            "10  (0.497, 0.509]  54656\n",
            "11  (0.509, 0.519]  55033\n",
            "12  (0.519, 0.525]  55873\n",
            "13  (0.525, 0.529]  59085\n",
            "14   (0.529, 0.53]  49670\n",
            "15   (0.53, 0.534]  53537\n",
            "16   (0.534, 0.54]  54906\n",
            "17    (0.54, 0.55]  54506\n",
            "18   (0.55, 0.601]  54718\n",
            "19  (0.601, 0.719]  54439\n"
          ],
          "name": "stdout"
        }
      ]
    },
    {
      "cell_type": "code",
      "metadata": {
        "id": "JxHRxZh4DB2f"
      },
      "source": [
        "#############################################################\n",
        "#                   MODELE 5 : XGBoost (IL FAUT L'AMELIORER CAR GRIDSEARCHCV PREND TROP DE TEMPS)\n",
        "#############################################################"
      ],
      "execution_count": null,
      "outputs": []
    },
    {
      "cell_type": "code",
      "metadata": {
        "id": "Xsf_dhDuTIXz"
      },
      "source": [
        "import xgboost as xgb\n",
        "from xgboost.sklearn import XGBClassifier"
      ],
      "execution_count": 18,
      "outputs": []
    },
    {
      "cell_type": "code",
      "metadata": {
        "colab": {
          "base_uri": "https://localhost:8080/",
          "height": 363
        },
        "id": "e8CsHSLMafgQ",
        "outputId": "ce2e1362-de01-45e6-818a-2a9686be4f25"
      },
      "source": [
        "\n",
        "model_XGBClassifier = XGBClassifier(learning_rate =0.1, n_estimators=100, gamma=0, subsample=0.8,\n",
        "                                                  colsample_bytree=0.8, objective= 'binary:logistic', nthread=-1, seed=0)\n",
        "param = { 'scale_pos_weight': list(np.linspace(0.30, 0.40, 20)), 'max_depth':range(3,10,1), 'min_child_weight':range(1,6,2) } #list(np.linspace(0.10, 0.30, 2))   #'max_depth':range(3,10,2), 'min_child_weight':range(1,6,2),\n",
        "\n",
        "grid_XGBClassifier = GridSearchCV(estimator = model_XGBClassifier, param_grid = param, scoring='recall', cv=5, n_jobs=-1)\n",
        "resultat_grid_XGBClassifier = grid_XGBClassifier.fit(train_X_s, train_Y_s)\n",
        "resultat_grid_XGBClassifier.best_params_"
      ],
      "execution_count": 19,
      "outputs": [
        {
          "output_type": "error",
          "ename": "KeyboardInterrupt",
          "evalue": "ignored",
          "traceback": [
            "\u001b[0;31m---------------------------------------------------------------------------\u001b[0m",
            "\u001b[0;31mKeyboardInterrupt\u001b[0m                         Traceback (most recent call last)",
            "\u001b[0;32m<ipython-input-19-a364e178a11a>\u001b[0m in \u001b[0;36m<module>\u001b[0;34m()\u001b[0m\n\u001b[1;32m      5\u001b[0m \u001b[0;34m\u001b[0m\u001b[0m\n\u001b[1;32m      6\u001b[0m \u001b[0mgrid_XGBClassifier\u001b[0m \u001b[0;34m=\u001b[0m \u001b[0mGridSearchCV\u001b[0m\u001b[0;34m(\u001b[0m\u001b[0mestimator\u001b[0m \u001b[0;34m=\u001b[0m \u001b[0mmodel_XGBClassifier\u001b[0m\u001b[0;34m,\u001b[0m \u001b[0mparam_grid\u001b[0m \u001b[0;34m=\u001b[0m \u001b[0mparam\u001b[0m\u001b[0;34m,\u001b[0m \u001b[0mscoring\u001b[0m\u001b[0;34m=\u001b[0m\u001b[0;34m'recall'\u001b[0m\u001b[0;34m,\u001b[0m \u001b[0mcv\u001b[0m\u001b[0;34m=\u001b[0m\u001b[0;36m5\u001b[0m\u001b[0;34m,\u001b[0m \u001b[0mn_jobs\u001b[0m\u001b[0;34m=\u001b[0m\u001b[0;34m-\u001b[0m\u001b[0;36m1\u001b[0m\u001b[0;34m)\u001b[0m\u001b[0;34m\u001b[0m\u001b[0;34m\u001b[0m\u001b[0m\n\u001b[0;32m----> 7\u001b[0;31m \u001b[0mresultat_grid_XGBClassifier\u001b[0m \u001b[0;34m=\u001b[0m \u001b[0mgrid_XGBClassifier\u001b[0m\u001b[0;34m.\u001b[0m\u001b[0mfit\u001b[0m\u001b[0;34m(\u001b[0m\u001b[0mtrain_X_s\u001b[0m\u001b[0;34m,\u001b[0m \u001b[0mtrain_Y_s\u001b[0m\u001b[0;34m)\u001b[0m\u001b[0;34m\u001b[0m\u001b[0;34m\u001b[0m\u001b[0m\n\u001b[0m\u001b[1;32m      8\u001b[0m \u001b[0mresultat_grid_XGBClassifier\u001b[0m\u001b[0;34m.\u001b[0m\u001b[0mbest_params_\u001b[0m\u001b[0;34m\u001b[0m\u001b[0;34m\u001b[0m\u001b[0m\n",
            "\u001b[0;32m/usr/local/lib/python3.7/dist-packages/sklearn/model_selection/_search.py\u001b[0m in \u001b[0;36mfit\u001b[0;34m(self, X, y, groups, **fit_params)\u001b[0m\n\u001b[1;32m    708\u001b[0m                 \u001b[0;32mreturn\u001b[0m \u001b[0mresults\u001b[0m\u001b[0;34m\u001b[0m\u001b[0;34m\u001b[0m\u001b[0m\n\u001b[1;32m    709\u001b[0m \u001b[0;34m\u001b[0m\u001b[0m\n\u001b[0;32m--> 710\u001b[0;31m             \u001b[0mself\u001b[0m\u001b[0;34m.\u001b[0m\u001b[0m_run_search\u001b[0m\u001b[0;34m(\u001b[0m\u001b[0mevaluate_candidates\u001b[0m\u001b[0;34m)\u001b[0m\u001b[0;34m\u001b[0m\u001b[0;34m\u001b[0m\u001b[0m\n\u001b[0m\u001b[1;32m    711\u001b[0m \u001b[0;34m\u001b[0m\u001b[0m\n\u001b[1;32m    712\u001b[0m         \u001b[0;31m# For multi-metric evaluation, store the best_index_, best_params_ and\u001b[0m\u001b[0;34m\u001b[0m\u001b[0;34m\u001b[0m\u001b[0;34m\u001b[0m\u001b[0m\n",
            "\u001b[0;32m/usr/local/lib/python3.7/dist-packages/sklearn/model_selection/_search.py\u001b[0m in \u001b[0;36m_run_search\u001b[0;34m(self, evaluate_candidates)\u001b[0m\n\u001b[1;32m   1149\u001b[0m     \u001b[0;32mdef\u001b[0m \u001b[0m_run_search\u001b[0m\u001b[0;34m(\u001b[0m\u001b[0mself\u001b[0m\u001b[0;34m,\u001b[0m \u001b[0mevaluate_candidates\u001b[0m\u001b[0;34m)\u001b[0m\u001b[0;34m:\u001b[0m\u001b[0;34m\u001b[0m\u001b[0;34m\u001b[0m\u001b[0m\n\u001b[1;32m   1150\u001b[0m         \u001b[0;34m\"\"\"Search all candidates in param_grid\"\"\"\u001b[0m\u001b[0;34m\u001b[0m\u001b[0;34m\u001b[0m\u001b[0m\n\u001b[0;32m-> 1151\u001b[0;31m         \u001b[0mevaluate_candidates\u001b[0m\u001b[0;34m(\u001b[0m\u001b[0mParameterGrid\u001b[0m\u001b[0;34m(\u001b[0m\u001b[0mself\u001b[0m\u001b[0;34m.\u001b[0m\u001b[0mparam_grid\u001b[0m\u001b[0;34m)\u001b[0m\u001b[0;34m)\u001b[0m\u001b[0;34m\u001b[0m\u001b[0;34m\u001b[0m\u001b[0m\n\u001b[0m\u001b[1;32m   1152\u001b[0m \u001b[0;34m\u001b[0m\u001b[0m\n\u001b[1;32m   1153\u001b[0m \u001b[0;34m\u001b[0m\u001b[0m\n",
            "\u001b[0;32m/usr/local/lib/python3.7/dist-packages/sklearn/model_selection/_search.py\u001b[0m in \u001b[0;36mevaluate_candidates\u001b[0;34m(candidate_params)\u001b[0m\n\u001b[1;32m    687\u001b[0m                                \u001b[0;32mfor\u001b[0m \u001b[0mparameters\u001b[0m\u001b[0;34m,\u001b[0m \u001b[0;34m(\u001b[0m\u001b[0mtrain\u001b[0m\u001b[0;34m,\u001b[0m \u001b[0mtest\u001b[0m\u001b[0;34m)\u001b[0m\u001b[0;34m\u001b[0m\u001b[0;34m\u001b[0m\u001b[0m\n\u001b[1;32m    688\u001b[0m                                in product(candidate_params,\n\u001b[0;32m--> 689\u001b[0;31m                                           cv.split(X, y, groups)))\n\u001b[0m\u001b[1;32m    690\u001b[0m \u001b[0;34m\u001b[0m\u001b[0m\n\u001b[1;32m    691\u001b[0m                 \u001b[0;32mif\u001b[0m \u001b[0mlen\u001b[0m\u001b[0;34m(\u001b[0m\u001b[0mout\u001b[0m\u001b[0;34m)\u001b[0m \u001b[0;34m<\u001b[0m \u001b[0;36m1\u001b[0m\u001b[0;34m:\u001b[0m\u001b[0;34m\u001b[0m\u001b[0;34m\u001b[0m\u001b[0m\n",
            "\u001b[0;32m/usr/local/lib/python3.7/dist-packages/joblib/parallel.py\u001b[0m in \u001b[0;36m__call__\u001b[0;34m(self, iterable)\u001b[0m\n\u001b[1;32m   1052\u001b[0m \u001b[0;34m\u001b[0m\u001b[0m\n\u001b[1;32m   1053\u001b[0m             \u001b[0;32mwith\u001b[0m \u001b[0mself\u001b[0m\u001b[0;34m.\u001b[0m\u001b[0m_backend\u001b[0m\u001b[0;34m.\u001b[0m\u001b[0mretrieval_context\u001b[0m\u001b[0;34m(\u001b[0m\u001b[0;34m)\u001b[0m\u001b[0;34m:\u001b[0m\u001b[0;34m\u001b[0m\u001b[0;34m\u001b[0m\u001b[0m\n\u001b[0;32m-> 1054\u001b[0;31m                 \u001b[0mself\u001b[0m\u001b[0;34m.\u001b[0m\u001b[0mretrieve\u001b[0m\u001b[0;34m(\u001b[0m\u001b[0;34m)\u001b[0m\u001b[0;34m\u001b[0m\u001b[0;34m\u001b[0m\u001b[0m\n\u001b[0m\u001b[1;32m   1055\u001b[0m             \u001b[0;31m# Make sure that we get a last message telling us we are done\u001b[0m\u001b[0;34m\u001b[0m\u001b[0;34m\u001b[0m\u001b[0;34m\u001b[0m\u001b[0m\n\u001b[1;32m   1056\u001b[0m             \u001b[0melapsed_time\u001b[0m \u001b[0;34m=\u001b[0m \u001b[0mtime\u001b[0m\u001b[0;34m.\u001b[0m\u001b[0mtime\u001b[0m\u001b[0;34m(\u001b[0m\u001b[0;34m)\u001b[0m \u001b[0;34m-\u001b[0m \u001b[0mself\u001b[0m\u001b[0;34m.\u001b[0m\u001b[0m_start_time\u001b[0m\u001b[0;34m\u001b[0m\u001b[0;34m\u001b[0m\u001b[0m\n",
            "\u001b[0;32m/usr/local/lib/python3.7/dist-packages/joblib/parallel.py\u001b[0m in \u001b[0;36mretrieve\u001b[0;34m(self)\u001b[0m\n\u001b[1;32m    931\u001b[0m             \u001b[0;32mtry\u001b[0m\u001b[0;34m:\u001b[0m\u001b[0;34m\u001b[0m\u001b[0;34m\u001b[0m\u001b[0m\n\u001b[1;32m    932\u001b[0m                 \u001b[0;32mif\u001b[0m \u001b[0mgetattr\u001b[0m\u001b[0;34m(\u001b[0m\u001b[0mself\u001b[0m\u001b[0;34m.\u001b[0m\u001b[0m_backend\u001b[0m\u001b[0;34m,\u001b[0m \u001b[0;34m'supports_timeout'\u001b[0m\u001b[0;34m,\u001b[0m \u001b[0;32mFalse\u001b[0m\u001b[0;34m)\u001b[0m\u001b[0;34m:\u001b[0m\u001b[0;34m\u001b[0m\u001b[0;34m\u001b[0m\u001b[0m\n\u001b[0;32m--> 933\u001b[0;31m                     \u001b[0mself\u001b[0m\u001b[0;34m.\u001b[0m\u001b[0m_output\u001b[0m\u001b[0;34m.\u001b[0m\u001b[0mextend\u001b[0m\u001b[0;34m(\u001b[0m\u001b[0mjob\u001b[0m\u001b[0;34m.\u001b[0m\u001b[0mget\u001b[0m\u001b[0;34m(\u001b[0m\u001b[0mtimeout\u001b[0m\u001b[0;34m=\u001b[0m\u001b[0mself\u001b[0m\u001b[0;34m.\u001b[0m\u001b[0mtimeout\u001b[0m\u001b[0;34m)\u001b[0m\u001b[0;34m)\u001b[0m\u001b[0;34m\u001b[0m\u001b[0;34m\u001b[0m\u001b[0m\n\u001b[0m\u001b[1;32m    934\u001b[0m                 \u001b[0;32melse\u001b[0m\u001b[0;34m:\u001b[0m\u001b[0;34m\u001b[0m\u001b[0;34m\u001b[0m\u001b[0m\n\u001b[1;32m    935\u001b[0m                     \u001b[0mself\u001b[0m\u001b[0;34m.\u001b[0m\u001b[0m_output\u001b[0m\u001b[0;34m.\u001b[0m\u001b[0mextend\u001b[0m\u001b[0;34m(\u001b[0m\u001b[0mjob\u001b[0m\u001b[0;34m.\u001b[0m\u001b[0mget\u001b[0m\u001b[0;34m(\u001b[0m\u001b[0;34m)\u001b[0m\u001b[0;34m)\u001b[0m\u001b[0;34m\u001b[0m\u001b[0;34m\u001b[0m\u001b[0m\n",
            "\u001b[0;32m/usr/local/lib/python3.7/dist-packages/joblib/_parallel_backends.py\u001b[0m in \u001b[0;36mwrap_future_result\u001b[0;34m(future, timeout)\u001b[0m\n\u001b[1;32m    540\u001b[0m         AsyncResults.get from multiprocessing.\"\"\"\n\u001b[1;32m    541\u001b[0m         \u001b[0;32mtry\u001b[0m\u001b[0;34m:\u001b[0m\u001b[0;34m\u001b[0m\u001b[0;34m\u001b[0m\u001b[0m\n\u001b[0;32m--> 542\u001b[0;31m             \u001b[0;32mreturn\u001b[0m \u001b[0mfuture\u001b[0m\u001b[0;34m.\u001b[0m\u001b[0mresult\u001b[0m\u001b[0;34m(\u001b[0m\u001b[0mtimeout\u001b[0m\u001b[0;34m=\u001b[0m\u001b[0mtimeout\u001b[0m\u001b[0;34m)\u001b[0m\u001b[0;34m\u001b[0m\u001b[0;34m\u001b[0m\u001b[0m\n\u001b[0m\u001b[1;32m    543\u001b[0m         \u001b[0;32mexcept\u001b[0m \u001b[0mCfTimeoutError\u001b[0m \u001b[0;32mas\u001b[0m \u001b[0me\u001b[0m\u001b[0;34m:\u001b[0m\u001b[0;34m\u001b[0m\u001b[0;34m\u001b[0m\u001b[0m\n\u001b[1;32m    544\u001b[0m             \u001b[0;32mraise\u001b[0m \u001b[0mTimeoutError\u001b[0m \u001b[0;32mfrom\u001b[0m \u001b[0me\u001b[0m\u001b[0;34m\u001b[0m\u001b[0;34m\u001b[0m\u001b[0m\n",
            "\u001b[0;32m/usr/lib/python3.7/concurrent/futures/_base.py\u001b[0m in \u001b[0;36mresult\u001b[0;34m(self, timeout)\u001b[0m\n\u001b[1;32m    428\u001b[0m                 \u001b[0;32mreturn\u001b[0m \u001b[0mself\u001b[0m\u001b[0;34m.\u001b[0m\u001b[0m__get_result\u001b[0m\u001b[0;34m(\u001b[0m\u001b[0;34m)\u001b[0m\u001b[0;34m\u001b[0m\u001b[0;34m\u001b[0m\u001b[0m\n\u001b[1;32m    429\u001b[0m \u001b[0;34m\u001b[0m\u001b[0m\n\u001b[0;32m--> 430\u001b[0;31m             \u001b[0mself\u001b[0m\u001b[0;34m.\u001b[0m\u001b[0m_condition\u001b[0m\u001b[0;34m.\u001b[0m\u001b[0mwait\u001b[0m\u001b[0;34m(\u001b[0m\u001b[0mtimeout\u001b[0m\u001b[0;34m)\u001b[0m\u001b[0;34m\u001b[0m\u001b[0;34m\u001b[0m\u001b[0m\n\u001b[0m\u001b[1;32m    431\u001b[0m \u001b[0;34m\u001b[0m\u001b[0m\n\u001b[1;32m    432\u001b[0m             \u001b[0;32mif\u001b[0m \u001b[0mself\u001b[0m\u001b[0;34m.\u001b[0m\u001b[0m_state\u001b[0m \u001b[0;32min\u001b[0m \u001b[0;34m[\u001b[0m\u001b[0mCANCELLED\u001b[0m\u001b[0;34m,\u001b[0m \u001b[0mCANCELLED_AND_NOTIFIED\u001b[0m\u001b[0;34m]\u001b[0m\u001b[0;34m:\u001b[0m\u001b[0;34m\u001b[0m\u001b[0;34m\u001b[0m\u001b[0m\n",
            "\u001b[0;32m/usr/lib/python3.7/threading.py\u001b[0m in \u001b[0;36mwait\u001b[0;34m(self, timeout)\u001b[0m\n\u001b[1;32m    294\u001b[0m         \u001b[0;32mtry\u001b[0m\u001b[0;34m:\u001b[0m    \u001b[0;31m# restore state no matter what (e.g., KeyboardInterrupt)\u001b[0m\u001b[0;34m\u001b[0m\u001b[0;34m\u001b[0m\u001b[0m\n\u001b[1;32m    295\u001b[0m             \u001b[0;32mif\u001b[0m \u001b[0mtimeout\u001b[0m \u001b[0;32mis\u001b[0m \u001b[0;32mNone\u001b[0m\u001b[0;34m:\u001b[0m\u001b[0;34m\u001b[0m\u001b[0;34m\u001b[0m\u001b[0m\n\u001b[0;32m--> 296\u001b[0;31m                 \u001b[0mwaiter\u001b[0m\u001b[0;34m.\u001b[0m\u001b[0macquire\u001b[0m\u001b[0;34m(\u001b[0m\u001b[0;34m)\u001b[0m\u001b[0;34m\u001b[0m\u001b[0;34m\u001b[0m\u001b[0m\n\u001b[0m\u001b[1;32m    297\u001b[0m                 \u001b[0mgotit\u001b[0m \u001b[0;34m=\u001b[0m \u001b[0;32mTrue\u001b[0m\u001b[0;34m\u001b[0m\u001b[0;34m\u001b[0m\u001b[0m\n\u001b[1;32m    298\u001b[0m             \u001b[0;32melse\u001b[0m\u001b[0;34m:\u001b[0m\u001b[0;34m\u001b[0m\u001b[0;34m\u001b[0m\u001b[0m\n",
            "\u001b[0;31mKeyboardInterrupt\u001b[0m: "
          ]
        }
      ]
    },
    {
      "cell_type": "code",
      "metadata": {
        "colab": {
          "base_uri": "https://localhost:8080/"
        },
        "id": "sgv8RGt5afiW",
        "outputId": "b424600d-5e50-457c-c711-45c015af7d38"
      },
      "source": [
        "final_model_XGBClassifier = XGBClassifier(learning_rate =0.1, n_estimators=100, max_depth=3, min_child_weight=1, gamma=0, subsample=0.8,\n",
        "                                                  colsample_bytree=0.8, objective= 'binary:logistic', nthread=2, scale_pos_weight=0.34, seed=0)\n",
        "evaluation(final_model_XGBClassifier, train_X_s, train_Y_s, test_X_s, test_Y_s, scoring=\"recall\", plot=False)"
      ],
      "execution_count": null,
      "outputs": [
        {
          "output_type": "stream",
          "text": [
            "test set : \n",
            "[[3313 2018]\n",
            " [6270 8259]]\n",
            "              precision    recall  f1-score   support\n",
            "\n",
            "           1       0.35      0.62      0.44      5331\n",
            "           2       0.80      0.57      0.67     14529\n",
            "\n",
            "    accuracy                           0.58     19860\n",
            "   macro avg       0.57      0.59      0.56     19860\n",
            "weighted avg       0.68      0.58      0.61     19860\n",
            "\n",
            "train set : \n",
            "[[13348  8049]\n",
            " [24432 33607]]\n",
            "              precision    recall  f1-score   support\n",
            "\n",
            "           1       0.35      0.62      0.45     21397\n",
            "           2       0.81      0.58      0.67     58039\n",
            "\n",
            "    accuracy                           0.59     79436\n",
            "   macro avg       0.58      0.60      0.56     79436\n",
            "weighted avg       0.68      0.59      0.61     79436\n",
            "\n",
            "GRAPHIQUE NON DEMANDE\n"
          ],
          "name": "stdout"
        }
      ]
    },
    {
      "cell_type": "code",
      "metadata": {
        "id": "D5UGKazveShM",
        "colab": {
          "base_uri": "https://localhost:8080/"
        },
        "outputId": "bae2f5b7-d042-4785-b625-b4076e9998f4"
      },
      "source": [
        "vingtiles_xgb(model = final_model_XGBClassifier, data_orig = data, affichage=True,\n",
        "            save=False, path = \"/content/drive/MyDrive/spad_score_method_1/spad_projection_FDFTOT21/Fichier_excel_vingtiles/train_test_XGBoost.xlsx\")"
      ],
      "execution_count": null,
      "outputs": [
        {
          "output_type": "stream",
          "text": [
            "                 IDENT     PROBA\n",
            "66003  660040010399617  0.227716\n",
            "67823  678240010401567  0.227716\n",
            "78844  788450010414774  0.227716\n",
            "29727  297280010349859  0.232173\n",
            "68075  680760010401859  0.236831\n",
            "...                ...       ...\n",
            "48128  481290010373476  0.885968\n",
            "83091  830920010502100  0.885968\n",
            "5615    56160010208685  0.885968\n",
            "83536  835370010503920  0.886497\n",
            "60221  602220010392936  0.888440\n",
            "\n",
            "[99296 rows x 2 columns]\n",
            "0.546209    385\n",
            "0.495340    256\n",
            "0.403445    226\n",
            "0.550064    213\n",
            "0.431736    197\n",
            "           ... \n",
            "0.700457      1\n",
            "0.412724      1\n",
            "0.475223      1\n",
            "0.412721      1\n",
            "0.437500      1\n",
            "Name: PROBA, Length: 58312, dtype: int64\n",
            "                PROBA\n",
            "66003  (0.227, 0.361]\n",
            "67823  (0.227, 0.361]\n",
            "78844  (0.227, 0.361]\n",
            "29727  (0.227, 0.361]\n",
            "68075  (0.227, 0.361]\n",
            "...               ...\n",
            "48128  (0.717, 0.888]\n",
            "83091  (0.717, 0.888]\n",
            "5615   (0.717, 0.888]\n",
            "83536  (0.717, 0.888]\n",
            "60221  (0.717, 0.888]\n",
            "\n",
            "[99296 rows x 1 columns]\n",
            "Top_mon            1     2  TOTAL\n",
            "TRANCHES                         \n",
            "(0.227, 0.361]   609  4356   4965\n",
            "(0.361, 0.385]   767  4198   4965\n",
            "(0.385, 0.404]   833  4133   4966\n",
            "(0.404, 0.421]   902  4090   4992\n",
            "(0.421, 0.433]   925  4011   4936\n",
            "(0.433, 0.446]   969  3996   4965\n",
            "(0.446, 0.458]  1107  3858   4965\n",
            "(0.458, 0.471]  1070  3896   4966\n",
            "(0.471, 0.482]  1149  3815   4964\n",
            "(0.482, 0.494]  1170  3794   4964\n",
            "(0.494, 0.507]  1269  3697   4966\n",
            "(0.507, 0.52]   1326  3655   4981\n",
            "(0.52, 0.532]   1414  3533   4947\n",
            "(0.532, 0.545]  1432  3534   4966\n",
            "(0.545, 0.559]  1486  3478   4964\n",
            "(0.559, 0.579]  1640  3325   4965\n",
            "(0.579, 0.605]  1765  3199   4964\n",
            "(0.605, 0.646]  1880  3085   4965\n",
            "(0.646, 0.717]  2169  2796   4965\n",
            "(0.717, 0.888]  2846  2119   4965\n"
          ],
          "name": "stdout"
        }
      ]
    },
    {
      "cell_type": "code",
      "metadata": {
        "id": "1y7a7EMEy8sK"
      },
      "source": [
        "###################################################################################################################@\n",
        "###################################################################################################################@\n",
        "#                                   DECISION TREE CLASSIFIER  ----  AVEC VARIABLES QUALITATIVES\n",
        "###################################################################################################################@\n",
        "###################################################################################################################@"
      ],
      "execution_count": null,
      "outputs": []
    },
    {
      "cell_type": "code",
      "metadata": {
        "id": "CtAZAPy_h355"
      },
      "source": [
        "####################################################################################\n",
        "####################################################################################\n",
        "#                   DECISION TREE\n",
        "####################################################################################\n",
        "####################################################################################"
      ],
      "execution_count": null,
      "outputs": []
    },
    {
      "cell_type": "code",
      "metadata": {
        "colab": {
          "base_uri": "https://localhost:8080/"
        },
        "id": "9pt0VNO18P4N",
        "outputId": "c78b99b3-3dc2-479b-a605-99931c8ac90a"
      },
      "source": [
        "\n",
        "model_DecisionTreeClassifier = DecisionTreeClassifier(random_state = 0, class_weight = \"balanced\" )\n",
        "param = { 'max_depth' :list(range(2,20)), 'criterion': [\"gini\", \"entropy\"], 'max_features' : list(range(3,10,1)),\n",
        "         'min_samples_split' : [0.05, 0.1, 0.4, 0.6, 0.8, 1] }\n",
        "\n",
        "grid_DecisionTreeClassifier = GridSearchCV(model_DecisionTreeClassifier, param_grid= param, cv = 4, scoring = \"recall\", n_jobs=-1)\n",
        "resultat_grid_DecisionTreeClassifier = grid_DecisionTreeClassifier.fit(train_X_s, train_Y_s)\n",
        "resultat_grid_DecisionTreeClassifier.best_params_\n"
      ],
      "execution_count": null,
      "outputs": [
        {
          "output_type": "execute_result",
          "data": {
            "text/plain": [
              "{'criterion': 'gini',\n",
              " 'max_depth': 2,\n",
              " 'max_features': 5,\n",
              " 'min_samples_split': 0.05}"
            ]
          },
          "metadata": {
            "tags": []
          },
          "execution_count": 20
        }
      ]
    },
    {
      "cell_type": "code",
      "metadata": {
        "colab": {
          "base_uri": "https://localhost:8080/"
        },
        "id": "JNnn4DAf8P6W",
        "outputId": "329ebd9d-a8bd-4adb-b602-d8968f54eeac"
      },
      "source": [
        "final_model_DecisionTreeClassifier = DecisionTreeClassifier(random_state = 0, criterion=\"gini\", class_weight = \"balanced\", max_depth = 2, max_features=13, min_samples_split=0.05 )\n",
        "evaluation(final_model_DecisionTreeClassifier, train_X_s, train_Y_s, test_X_s, test_Y_s, scoring=\"recall\", plot=False)"
      ],
      "execution_count": null,
      "outputs": [
        {
          "output_type": "stream",
          "text": [
            "test set : \n",
            "[[ 5180   151]\n",
            " [13889   640]]\n",
            "              precision    recall  f1-score   support\n",
            "\n",
            "           1       0.27      0.97      0.42      5331\n",
            "           2       0.81      0.04      0.08     14529\n",
            "\n",
            "    accuracy                           0.29     19860\n",
            "   macro avg       0.54      0.51      0.25     19860\n",
            "weighted avg       0.66      0.29      0.18     19860\n",
            "\n",
            "train set : \n",
            "[[20819   578]\n",
            " [55499  2540]]\n",
            "              precision    recall  f1-score   support\n",
            "\n",
            "           1       0.27      0.97      0.43     21397\n",
            "           2       0.81      0.04      0.08     58039\n",
            "\n",
            "    accuracy                           0.29     79436\n",
            "   macro avg       0.54      0.51      0.25     79436\n",
            "weighted avg       0.67      0.29      0.18     79436\n",
            "\n",
            "GRAPHIQUE NON DEMANDE\n"
          ],
          "name": "stdout"
        }
      ]
    },
    {
      "cell_type": "code",
      "metadata": {
        "colab": {
          "base_uri": "https://localhost:8080/",
          "height": 779
        },
        "id": "3sGdSD11IMOO",
        "outputId": "1dd1998b-79a3-4201-de6d-77664d68143a"
      },
      "source": [
        "# TRAIN SET TEST SET\n",
        "vingtiles(model = final_model_DecisionTreeClassifier, data_orig = data, affichage=True,\n",
        "            save=False, path = \"/content/drive/MyDrive/spad_score_method_1/spad_projection_FDFTOT21/Fichier_excel_vingtiles/train_test_Decision_Tree_Classifier.xlsx\")"
      ],
      "execution_count": null,
      "outputs": [
        {
          "output_type": "stream",
          "text": [
            "                 IDENT     PROBA\n",
            "56970  569710010384479  0.381666\n",
            "9253    92540010256064  0.381666\n",
            "52518  525190010378240  0.381666\n",
            "60182  601830010392815  0.381666\n",
            "22850  228510010339375  0.381666\n",
            "...                ...       ...\n",
            "29519  295200010349528  0.553444\n",
            "94344  943450010532481  0.553444\n",
            "69420  694210010403242  0.553444\n",
            "44966  449670010370130  0.553444\n",
            "49402  494030010374795  0.553444\n",
            "\n",
            "[99296 rows x 2 columns]\n",
            "0.501674    90709\n",
            "0.553444     4678\n",
            "0.381666     3909\n",
            "Name: PROBA, dtype: int64\n"
          ],
          "name": "stdout"
        },
        {
          "output_type": "error",
          "ename": "ValueError",
          "evalue": "ignored",
          "traceback": [
            "\u001b[0;31m---------------------------------------------------------------------------\u001b[0m",
            "\u001b[0;31mValueError\u001b[0m                                Traceback (most recent call last)",
            "\u001b[0;32m<ipython-input-51-9560f2332a90>\u001b[0m in \u001b[0;36m<module>\u001b[0;34m()\u001b[0m\n\u001b[1;32m      1\u001b[0m \u001b[0;31m# TRAIN SET TEST SET\u001b[0m\u001b[0;34m\u001b[0m\u001b[0;34m\u001b[0m\u001b[0;34m\u001b[0m\u001b[0m\n\u001b[1;32m      2\u001b[0m vingtiles(model = final_model_DecisionTreeClassifier, data_orig = data, affichage=True,\n\u001b[0;32m----> 3\u001b[0;31m             save=False, path = \"/content/drive/MyDrive/spad_score_method_1/spad_projection_FDFTOT21/Fichier_excel_vingtiles/train_test_Decision_Tree_Classifier.xlsx\")\n\u001b[0m",
            "\u001b[0;32m<ipython-input-35-3433ddb3b525>\u001b[0m in \u001b[0;36mvingtiles\u001b[0;34m(model, data_orig, affichage, save, path)\u001b[0m\n\u001b[1;32m    105\u001b[0m \u001b[0;34m\u001b[0m\u001b[0m\n\u001b[1;32m    106\u001b[0m     \u001b[0;31m# quarantiles\u001b[0m\u001b[0;34m\u001b[0m\u001b[0;34m\u001b[0m\u001b[0;34m\u001b[0m\u001b[0m\n\u001b[0;32m--> 107\u001b[0;31m     \u001b[0mdf_temp\u001b[0m \u001b[0;34m=\u001b[0m\u001b[0mpd\u001b[0m\u001b[0;34m.\u001b[0m\u001b[0mDataFrame\u001b[0m\u001b[0;34m(\u001b[0m \u001b[0mpd\u001b[0m\u001b[0;34m.\u001b[0m\u001b[0mqcut\u001b[0m\u001b[0;34m(\u001b[0m\u001b[0mdf_tous\u001b[0m\u001b[0;34m[\u001b[0m\u001b[0;34m'PROBA'\u001b[0m\u001b[0;34m]\u001b[0m\u001b[0;34m,\u001b[0m\u001b[0mq\u001b[0m\u001b[0;34m=\u001b[0m \u001b[0;36m20\u001b[0m\u001b[0;34m)\u001b[0m  \u001b[0;34m)\u001b[0m\u001b[0;34m\u001b[0m\u001b[0;34m\u001b[0m\u001b[0m\n\u001b[0m\u001b[1;32m    108\u001b[0m     \u001b[0mprint\u001b[0m\u001b[0;34m(\u001b[0m\u001b[0mdf_temp\u001b[0m\u001b[0;34m)\u001b[0m\u001b[0;34m\u001b[0m\u001b[0;34m\u001b[0m\u001b[0m\n\u001b[1;32m    109\u001b[0m \u001b[0;34m\u001b[0m\u001b[0m\n",
            "\u001b[0;32m/usr/local/lib/python3.7/dist-packages/pandas/core/reshape/tile.py\u001b[0m in \u001b[0;36mqcut\u001b[0;34m(x, q, labels, retbins, precision, duplicates)\u001b[0m\n\u001b[1;32m    365\u001b[0m         \u001b[0minclude_lowest\u001b[0m\u001b[0;34m=\u001b[0m\u001b[0;32mTrue\u001b[0m\u001b[0;34m,\u001b[0m\u001b[0;34m\u001b[0m\u001b[0;34m\u001b[0m\u001b[0m\n\u001b[1;32m    366\u001b[0m         \u001b[0mdtype\u001b[0m\u001b[0;34m=\u001b[0m\u001b[0mdtype\u001b[0m\u001b[0;34m,\u001b[0m\u001b[0;34m\u001b[0m\u001b[0;34m\u001b[0m\u001b[0m\n\u001b[0;32m--> 367\u001b[0;31m         \u001b[0mduplicates\u001b[0m\u001b[0;34m=\u001b[0m\u001b[0mduplicates\u001b[0m\u001b[0;34m,\u001b[0m\u001b[0;34m\u001b[0m\u001b[0;34m\u001b[0m\u001b[0m\n\u001b[0m\u001b[1;32m    368\u001b[0m     )\n\u001b[1;32m    369\u001b[0m \u001b[0;34m\u001b[0m\u001b[0m\n",
            "\u001b[0;32m/usr/local/lib/python3.7/dist-packages/pandas/core/reshape/tile.py\u001b[0m in \u001b[0;36m_bins_to_cuts\u001b[0;34m(x, bins, right, labels, precision, include_lowest, dtype, duplicates, ordered)\u001b[0m\n\u001b[1;32m    400\u001b[0m         \u001b[0;32mif\u001b[0m \u001b[0mduplicates\u001b[0m \u001b[0;34m==\u001b[0m \u001b[0;34m\"raise\"\u001b[0m\u001b[0;34m:\u001b[0m\u001b[0;34m\u001b[0m\u001b[0;34m\u001b[0m\u001b[0m\n\u001b[1;32m    401\u001b[0m             raise ValueError(\n\u001b[0;32m--> 402\u001b[0;31m                 \u001b[0;34mf\"Bin edges must be unique: {repr(bins)}.\\n\"\u001b[0m\u001b[0;34m\u001b[0m\u001b[0;34m\u001b[0m\u001b[0m\n\u001b[0m\u001b[1;32m    403\u001b[0m                 \u001b[0;34mf\"You can drop duplicate edges by setting the 'duplicates' kwarg\"\u001b[0m\u001b[0;34m\u001b[0m\u001b[0;34m\u001b[0m\u001b[0m\n\u001b[1;32m    404\u001b[0m             )\n",
            "\u001b[0;31mValueError\u001b[0m: Bin edges must be unique: array([0.38166644, 0.50167414, 0.50167414, 0.50167414, 0.50167414,\n       0.50167414, 0.50167414, 0.50167414, 0.50167414, 0.50167414,\n       0.50167414, 0.50167414, 0.50167414, 0.50167414, 0.50167414,\n       0.50167414, 0.50167414, 0.50167414, 0.50167414, 0.50167414,\n       0.55344393]).\nYou can drop duplicate edges by setting the 'duplicates' kwarg"
          ]
        }
      ]
    },
    {
      "cell_type": "code",
      "metadata": {
        "id": "wOGaAy3aicdc"
      },
      "source": [
        "# INDIVIDUS SANS TARGET\n",
        "vingtiles_ind_sans_target(model = final_model_DecisionTreeClassifier, data_orig= data_var_qualitatives_temp[(data_var_qualitatives_temp.isnull()).sum(axis=1) != 0], affichage=True,\n",
        "            save=False, path = \"/content/drive/MyDrive/spad_score_method_1/spad_projection_FDFTOT21/Fichier_excel_vingtiles/ind_sans_target_Decision_Tree_Classifier.xlsx\")"
      ],
      "execution_count": null,
      "outputs": []
    },
    {
      "cell_type": "code",
      "metadata": {
        "id": "ztkYTw2lKfrN"
      },
      "source": [
        ""
      ],
      "execution_count": null,
      "outputs": []
    },
    {
      "cell_type": "code",
      "metadata": {
        "id": "JT4GplPeak4R"
      },
      "source": [
        ""
      ],
      "execution_count": null,
      "outputs": []
    },
    {
      "cell_type": "code",
      "metadata": {
        "id": "16GnZhtoasFp"
      },
      "source": [
        ""
      ],
      "execution_count": null,
      "outputs": []
    },
    {
      "cell_type": "code",
      "metadata": {
        "id": "oH3l33RFbgfm"
      },
      "source": [
        ""
      ],
      "execution_count": null,
      "outputs": []
    },
    {
      "cell_type": "code",
      "metadata": {
        "id": "JtgQ52BrD66B"
      },
      "source": [
        ""
      ],
      "execution_count": null,
      "outputs": []
    },
    {
      "cell_type": "code",
      "metadata": {
        "id": "0iHS19fsUdQu"
      },
      "source": [
        ""
      ],
      "execution_count": null,
      "outputs": []
    }
  ]
}