{
  "nbformat": 4,
  "nbformat_minor": 0,
  "metadata": {
    "colab": {
      "name": "FDF21_model_AdaBoost_DecisionTreeClassifier_RandomForest.ipynb",
      "provenance": [],
      "collapsed_sections": [],
      "authorship_tag": "ABX9TyNOjBqqbqfgcsU97NWFUsHS"
    },
    "kernelspec": {
      "display_name": "Python 3",
      "name": "python3"
    },
    "language_info": {
      "name": "python"
    }
  },
  "cells": [
    {
      "cell_type": "code",
      "metadata": {
        "colab": {
          "base_uri": "https://localhost:8080/"
        },
        "id": "uXwzY9aHJ83i",
        "outputId": "211ef436-d582-480b-974e-dfb7d3ffa812"
      },
      "source": [
        "$import numpy as np\n",
        "import pandas as pd\n",
        "import seaborn as sns\n",
        "import matplotlib.pyplot as plt\n",
        "\n",
        "#!pip install fanalysis\n",
        "\n",
        "from sklearn.metrics import confusion_matrix\n",
        "\n",
        "from google.colab import drive\n",
        "drive.mount('/content/drive')"
      ],
      "execution_count": 1,
      "outputs": [
        {
          "output_type": "stream",
          "text": [
            "Mounted at /content/drive\n"
          ],
          "name": "stdout"
        }
      ]
    },
    {
      "cell_type": "code",
      "metadata": {
        "id": "QVPy76oFJ-HY"
      },
      "source": [
        "# les noms des variables\n",
        "\n",
        "colonnes =([\"IDENT\", \"TypeHabi\", \"GeoFaz_Scl\", \"GeoFaz_cl\", \"ImmoFaz_Scl\", \"ImmoFaz_cl\", \"Anciennete\",\n",
        "            \"Logement_prix_m2\", \"Mediane_RFR\", \"Sexe\", \"Prenom_Phase_scl_H\", \"Prenom_Phase_scl_F\",\n",
        "            \"Prenom_Phase_cl_H\", \"Prenom_Phase_cl_F\", \"Age_H\", \"Age_F\", \"Affinite_1\", \"Affinite_2\",\n",
        "            \"Prenom_effectif\", \"Potentiel_prenom\", \"Onoma-Phase_Scl\", \"Onoma-Phase_CL\", \"Top_mon\"])"
      ],
      "execution_count": 2,
      "outputs": []
    },
    {
      "cell_type": "code",
      "metadata": {
        "id": "lmQPaeuMJ-J0"
      },
      "source": [
        "# importation du fichier (changer le chemin d'accès)\n",
        "''' Faites attention au type de fichier, au délimiteur des valeurs (ça doit être unique et non multiple),\n",
        "au header et à la lecture des types d'objets (low_memory) '''\n",
        "\n",
        "data_orig = pd.read_csv(\"/content/drive/MyDrive/spad_score_method_1/spad_projection_FDFTOT21/my_data_FDFTOT21.txt\", delim_whitespace=\"\\t\", header = None, names=colonnes, low_memory=False, )#, dtype='Int64')\n"
      ],
      "execution_count": 3,
      "outputs": []
    },
    {
      "cell_type": "code",
      "metadata": {
        "colab": {
          "base_uri": "https://localhost:8080/"
        },
        "id": "AuFzAId4KKZ_",
        "outputId": "d1fa3a87-6832-4c43-b644-30bb9647a4f6"
      },
      "source": [
        "''' copie superficielle (peu profonde) du dataset original pour ne pas modifier les valeurs\n",
        "d'origine par erreur plus tard \n",
        "'''\n",
        "data = data_orig.copy()\n",
        "data.shape"
      ],
      "execution_count": 4,
      "outputs": [
        {
          "output_type": "execute_result",
          "data": {
            "text/plain": [
              "(1219999, 23)"
            ]
          },
          "metadata": {
            "tags": []
          },
          "execution_count": 4
        }
      ]
    },
    {
      "cell_type": "code",
      "metadata": {
        "colab": {
          "base_uri": "https://localhost:8080/",
          "height": 240
        },
        "id": "eCTsRwocJ-MF",
        "outputId": "c703e3ce-f3ff-439a-f94e-ea6075607f78"
      },
      "source": [
        "# visualisation des premiers lignes\n",
        "data.head()"
      ],
      "execution_count": 5,
      "outputs": [
        {
          "output_type": "execute_result",
          "data": {
            "text/html": [
              "<div>\n",
              "<style scoped>\n",
              "    .dataframe tbody tr th:only-of-type {\n",
              "        vertical-align: middle;\n",
              "    }\n",
              "\n",
              "    .dataframe tbody tr th {\n",
              "        vertical-align: top;\n",
              "    }\n",
              "\n",
              "    .dataframe thead th {\n",
              "        text-align: right;\n",
              "    }\n",
              "</style>\n",
              "<table border=\"1\" class=\"dataframe\">\n",
              "  <thead>\n",
              "    <tr style=\"text-align: right;\">\n",
              "      <th></th>\n",
              "      <th>IDENT</th>\n",
              "      <th>TypeHabi</th>\n",
              "      <th>GeoFaz_Scl</th>\n",
              "      <th>GeoFaz_cl</th>\n",
              "      <th>ImmoFaz_Scl</th>\n",
              "      <th>ImmoFaz_cl</th>\n",
              "      <th>Anciennete</th>\n",
              "      <th>Logement_prix_m2</th>\n",
              "      <th>Mediane_RFR</th>\n",
              "      <th>Sexe</th>\n",
              "      <th>Prenom_Phase_scl_H</th>\n",
              "      <th>Prenom_Phase_scl_F</th>\n",
              "      <th>Prenom_Phase_cl_H</th>\n",
              "      <th>Prenom_Phase_cl_F</th>\n",
              "      <th>Age_H</th>\n",
              "      <th>Age_F</th>\n",
              "      <th>Affinite_1</th>\n",
              "      <th>Affinite_2</th>\n",
              "      <th>Prenom_effectif</th>\n",
              "      <th>Potentiel_prenom</th>\n",
              "      <th>Onoma-Phase_Scl</th>\n",
              "      <th>Onoma-Phase_CL</th>\n",
              "      <th>Top_mon</th>\n",
              "    </tr>\n",
              "  </thead>\n",
              "  <tbody>\n",
              "    <tr>\n",
              "      <th>0</th>\n",
              "      <td>10010000001</td>\n",
              "      <td>2</td>\n",
              "      <td>81</td>\n",
              "      <td>8</td>\n",
              "      <td>91</td>\n",
              "      <td>9</td>\n",
              "      <td>6</td>\n",
              "      <td>21</td>\n",
              "      <td>21</td>\n",
              "      <td>1</td>\n",
              "      <td>71</td>\n",
              "      <td>41</td>\n",
              "      <td>7</td>\n",
              "      <td>4</td>\n",
              "      <td>12</td>\n",
              "      <td>4</td>\n",
              "      <td>20</td>\n",
              "      <td>2</td>\n",
              "      <td>2</td>\n",
              "      <td>1</td>\n",
              "      <td>51</td>\n",
              "      <td>5</td>\n",
              "      <td>1.0</td>\n",
              "    </tr>\n",
              "    <tr>\n",
              "      <th>1</th>\n",
              "      <td>20010000006</td>\n",
              "      <td>1</td>\n",
              "      <td>75</td>\n",
              "      <td>7</td>\n",
              "      <td>43</td>\n",
              "      <td>4</td>\n",
              "      <td>6</td>\n",
              "      <td>6</td>\n",
              "      <td>13</td>\n",
              "      <td>2</td>\n",
              "      <td>71</td>\n",
              "      <td>64</td>\n",
              "      <td>7</td>\n",
              "      <td>6</td>\n",
              "      <td>12</td>\n",
              "      <td>9</td>\n",
              "      <td>4</td>\n",
              "      <td>12</td>\n",
              "      <td>4</td>\n",
              "      <td>13</td>\n",
              "      <td>12</td>\n",
              "      <td>1</td>\n",
              "      <td>1.0</td>\n",
              "    </tr>\n",
              "    <tr>\n",
              "      <th>2</th>\n",
              "      <td>30010000011</td>\n",
              "      <td>1</td>\n",
              "      <td>76</td>\n",
              "      <td>7</td>\n",
              "      <td>43</td>\n",
              "      <td>4</td>\n",
              "      <td>6</td>\n",
              "      <td>6</td>\n",
              "      <td>16</td>\n",
              "      <td>3</td>\n",
              "      <td>54</td>\n",
              "      <td>81</td>\n",
              "      <td>5</td>\n",
              "      <td>8</td>\n",
              "      <td>7</td>\n",
              "      <td>12</td>\n",
              "      <td>6</td>\n",
              "      <td>6</td>\n",
              "      <td>4</td>\n",
              "      <td>18</td>\n",
              "      <td>36</td>\n",
              "      <td>3</td>\n",
              "      <td>2.0</td>\n",
              "    </tr>\n",
              "    <tr>\n",
              "      <th>3</th>\n",
              "      <td>40010000013</td>\n",
              "      <td>3</td>\n",
              "      <td>75</td>\n",
              "      <td>7</td>\n",
              "      <td>43</td>\n",
              "      <td>4</td>\n",
              "      <td>4</td>\n",
              "      <td>6</td>\n",
              "      <td>13</td>\n",
              "      <td>1</td>\n",
              "      <td>71</td>\n",
              "      <td>36</td>\n",
              "      <td>7</td>\n",
              "      <td>3</td>\n",
              "      <td>12</td>\n",
              "      <td>11</td>\n",
              "      <td>11</td>\n",
              "      <td>19</td>\n",
              "      <td>4</td>\n",
              "      <td>6</td>\n",
              "      <td>21</td>\n",
              "      <td>2</td>\n",
              "      <td>1.0</td>\n",
              "    </tr>\n",
              "    <tr>\n",
              "      <th>4</th>\n",
              "      <td>50010000015</td>\n",
              "      <td>2</td>\n",
              "      <td>33</td>\n",
              "      <td>3</td>\n",
              "      <td>44</td>\n",
              "      <td>4</td>\n",
              "      <td>6</td>\n",
              "      <td>7</td>\n",
              "      <td>12</td>\n",
              "      <td>1</td>\n",
              "      <td>71</td>\n",
              "      <td>42</td>\n",
              "      <td>7</td>\n",
              "      <td>4</td>\n",
              "      <td>12</td>\n",
              "      <td>5</td>\n",
              "      <td>14</td>\n",
              "      <td>3</td>\n",
              "      <td>3</td>\n",
              "      <td>1</td>\n",
              "      <td>14</td>\n",
              "      <td>1</td>\n",
              "      <td>2.0</td>\n",
              "    </tr>\n",
              "  </tbody>\n",
              "</table>\n",
              "</div>"
            ],
            "text/plain": [
              "         IDENT  TypeHabi  GeoFaz_Scl  ...  Onoma-Phase_Scl  Onoma-Phase_CL  Top_mon\n",
              "0  10010000001         2          81  ...               51               5      1.0\n",
              "1  20010000006         1          75  ...               12               1      1.0\n",
              "2  30010000011         1          76  ...               36               3      2.0\n",
              "3  40010000013         3          75  ...               21               2      1.0\n",
              "4  50010000015         2          33  ...               14               1      2.0\n",
              "\n",
              "[5 rows x 23 columns]"
            ]
          },
          "metadata": {
            "tags": []
          },
          "execution_count": 5
        }
      ]
    },
    {
      "cell_type": "code",
      "metadata": {
        "id": "HMG7Zbw4Ku9R"
      },
      "source": [
        "#nombre de modalités de chaque variables (dans un dataframe)\n",
        "def nombre_mod(data2):\n",
        "    #création d'un dataframe vide\n",
        "    dff= pd.DataFrame(columns=[\"VARIABLE\",\"NOMBRE_MOD\", \"NOMBRE_MOD_SANS_NA\"])\n",
        "    for i in range(data2.shape[1]): # sans compter les valeurs manquantes\n",
        "        taille =len(data2.iloc[:,i].value_counts(dropna=False))\n",
        "        taille_1 = len(data2.iloc[:,i].value_counts(dropna=True) )\n",
        "        dff=dff.append({\"VARIABLE\": colonnes[i],\"NOMBRE_MOD\":taille, \"NOMBRE_MOD_SANS_NA\":taille_1 }, ignore_index=True)\n",
        "    return dff\n",
        "\n",
        "# sélection des corrélations les plus importantes\n",
        "def variables_corr(tableau_corr, seuil):\n",
        "    variables_corr_pos=[] ; variables_corr_pos_val=[]\n",
        "    variables_corr_neg=[] ; variables_corr_neg_val=[]\n",
        "    for i in range(tableau_corr.shape[0]):  \n",
        "        for j in range(tableau_corr.shape[0]):\n",
        "            if i<j: #i!=j:\n",
        "                if (tableau_corr.iloc[i,j] > seuil):\n",
        "                    variables_corr_pos.append(colonnes[j+1])\n",
        "                    variables_corr_pos_val.append(round( tableau_corr.iloc[i,j], 2))\n",
        "                if (tableau_corr.iloc[i,j] <-seuil):\n",
        "                    variables_corr_neg.append(colonnes[j+1])\n",
        "                    variables_corr_neg_val.append(round( tableau_corr.iloc[i,j], 2))\n",
        "\n",
        "        if (len(variables_corr_pos) > 0) | (len(variables_corr_neg) >0) :\n",
        "            print(\"variable : \", colonnes[i+1])\n",
        "            if len(variables_corr_pos) > 0:    \n",
        "                print(\"corr pos\", variables_corr_pos)\n",
        "                print(\"corr pos\", variables_corr_pos_val)\n",
        "            if len(variables_corr_neg) >0:  \n",
        "                print(\"corr neg\", variables_corr_neg)\n",
        "                print(\"corr neg\", variables_corr_neg_val)\n",
        "            print(\"\")\n",
        "        variables_corr_pos = variables_corr_pos*0\n",
        "        variables_corr_neg = variables_corr_pos*0\n",
        "\n",
        "        variables_corr_pos_val = variables_corr_pos_val*0\n",
        "        variables_corr_neg_val = variables_corr_pos_val*0\n",
        "\n",
        "\n",
        "def evaluation(model, X_train, y_train, X_test, y_test, scoring):\n",
        "\n",
        "    model.fit(X_train, y_train)\n",
        "    y_pred = model.predict(X_test)\n",
        "    \n",
        "    print(\"test set : \")\n",
        "    print(confusion_matrix(y_test, y_pred))\n",
        "    print(classification_report(y_test, y_pred)) \n",
        "    print(\"train set : \")\n",
        "    print(confusion_matrix(y_train, model.predict(X_train))) # ajouter \n",
        "    print(classification_report(y_train, model.predict(X_train) ))\n",
        "\n",
        "    N, train_score, val_score = learning_curve(model, X_train, y_train,shuffle=True, cv = 4, scoring = scoring, train_sizes = np.linspace(0.1, 1, 6) )\n",
        "\n",
        "    plt.figure(figsize = (10,6))\n",
        "    plt.plot(N, train_score.mean(axis=1), label =\"train_score\")\n",
        "    plt.plot(N, val_score.mean(axis=1), label =\"cross_validation_score\")\n",
        "\n",
        "    plt.legend()\n",
        "\n",
        "# Comme il n'y a pas de valeurs manquantes (à la place il y a un nombre), le seul traitement qu'on fait c'est tranformer\n",
        "# le type de variable (les variables continues deviennent qualitatives)\n",
        "def data_processing(df):\n",
        "    \"\"\" \n",
        "    for i in range(0,len(df.columns)):    \n",
        "        df[df.columns[i]].fillna(100.0, inplace=True) #On remplace les données manquantes par 100\n",
        "    for i in range(0,len(df.columns)):\n",
        "        print(df[df.columns[i]].value_counts(dropna=False))    \n",
        "    \"\"\"\n",
        "    \n",
        "   #Transformation de toutes les variables en facteurs         \n",
        "    for i in range(0,len(df.columns)):\n",
        "        df[df.columns[i]] = df[df.columns[i]].astype('category')\n",
        "    return df.to_numpy() #.as_matrix()\n",
        "\n",
        "\n",
        "def quarantiles(model, data_orig, affichage, save, path):\n",
        "    # position de la dernière variable explicative dans le dataset\n",
        "    nb_var = data_orig.shape[1]-1\n",
        "\n",
        "    # predict sur tous les individus (avec et sans classe IFI+)\n",
        "    tous_probas = model.predict_proba(data_orig.iloc[:,1:nb_var])\n",
        "    df_tous = pd.DataFrame({'IDENT': data_orig.iloc[:,0] , 'PROBA': tous_probas[:,0] })\n",
        "    #df_tous\n",
        "    \n",
        "    # valeurs ordonnées pour diviser après\n",
        "    df_tous=df_tous.sort_values(by='PROBA', ascending=True)\n",
        "    #df_tous\n",
        "    print(df_tous)\n",
        "    \n",
        "    #vérification\n",
        "    print(df_tous['PROBA'].value_counts())\n",
        "\n",
        "    # quarantiles\n",
        "    df_temp =pd.DataFrame( pd.qcut(df_tous['PROBA'],q= 20)  )\n",
        "    print(df_temp)\n",
        "\n",
        "    # ajout par index (IMPORTANTE)\n",
        "    df_tous[\"TRANCHES\"]=pd.DataFrame(df_temp.iloc[:,0].to_numpy(),index= df_temp.index)\n",
        "    #print(df_tous)\n",
        "    \n",
        "    # pour la colonne IFI+ :\n",
        "    # remplissage de la dernière colonne par 2 (VALABLE QUE POUR CE DATA, MODIFIER POUR D'AUTRES)\n",
        "    data_temp_t = data_orig.copy()\n",
        "    # remplacement\n",
        "    data_temp_t[\"Top_mon\"] =  data_temp_t[\"Top_mon\"].replace(1.0,'1')\n",
        "    data_temp_t[\"Top_mon\"] =  data_temp_t[\"Top_mon\"].replace(2.0,'2')\n",
        "    data_all_complet_class = data_temp_t.fillna('2')\n",
        "    #data_all_complet_class\n",
        "\n",
        "    # jointure\n",
        "    ident_class_tous = data_all_complet_class[[\"IDENT\",\"Top_mon\"]]\n",
        "    tableau_resultats = pd.merge(df_tous,ident_class_tous)\n",
        "    #tableau_resultats\n",
        "\n",
        "    # tranches finales\n",
        "    tab_cross_temp = pd.crosstab(tableau_resultats[\"TRANCHES\"],tableau_resultats[\"Top_mon\"])\n",
        "    #print(tab_cross_temp); print(\"-----------------------\")\n",
        "\n",
        "    # création d'une colonne total\n",
        "    tab_cross_temp[\"TOTAL\"]=tab_cross_temp[\"1\"]+tab_cross_temp[\"2\"]\n",
        "    \n",
        "    # affichage\n",
        "    if affichage ==True:        \n",
        "        print(tab_cross_temp)\n",
        "    \n",
        "    # création du tableau final en éliminant la colonne 2\n",
        "    tab_pour_excel = tab_cross_temp.drop([\"2\"], axis=1)\n",
        "    \n",
        "    # enregistrement sous Excel\n",
        "    if save == True:\n",
        "        tab_pour_excel.to_excel(path)\n",
        "\n"
      ],
      "execution_count": 6,
      "outputs": []
    },
    {
      "cell_type": "code",
      "metadata": {
        "id": "EDZBRwtXKu_r"
      },
      "source": [
        "# élimination des individus n'ayant pas de valeurs pour la variable IFI+\n",
        "\"\"\"IMPORTANT\"\"\"\n",
        "data_sans_nan = data[(data.isnull()).sum(axis=1) == 0]\n"
      ],
      "execution_count": 7,
      "outputs": []
    },
    {
      "cell_type": "code",
      "metadata": {
        "colab": {
          "base_uri": "https://localhost:8080/"
        },
        "id": "iVb5iSY8J-OH",
        "outputId": "9523b381-e609-4adc-f2b4-e3f746cf771a"
      },
      "source": [
        "#conversion du type de variable\n",
        "for i in range(1,data_sans_nan.shape[1]):\n",
        "    data_sans_nan.iloc[:,i]=data_sans_nan.iloc[:,i].astype(int)"
      ],
      "execution_count": 8,
      "outputs": [
        {
          "output_type": "stream",
          "text": [
            "/usr/local/lib/python3.7/dist-packages/pandas/core/indexing.py:1743: SettingWithCopyWarning: \n",
            "A value is trying to be set on a copy of a slice from a DataFrame.\n",
            "Try using .loc[row_indexer,col_indexer] = value instead\n",
            "\n",
            "See the caveats in the documentation: https://pandas.pydata.org/pandas-docs/stable/user_guide/indexing.html#returning-a-view-versus-a-copy\n",
            "  isetter(ilocs[0], value)\n"
          ],
          "name": "stderr"
        }
      ]
    },
    {
      "cell_type": "code",
      "metadata": {
        "id": "ebwHHQW-J-Rd"
      },
      "source": [
        "data = data_sans_nan"
      ],
      "execution_count": 9,
      "outputs": []
    },
    {
      "cell_type": "code",
      "metadata": {
        "colab": {
          "base_uri": "https://localhost:8080/"
        },
        "id": "7sI2PXvzZJkb",
        "outputId": "c778aa06-6c13-4f54-9966-783a652207ba"
      },
      "source": [
        "data[\"Top_mon\"].value_counts()"
      ],
      "execution_count": 10,
      "outputs": [
        {
          "output_type": "execute_result",
          "data": {
            "text/plain": [
              "2    103659\n",
              "1     23456\n",
              "Name: Top_mon, dtype: int64"
            ]
          },
          "metadata": {
            "tags": []
          },
          "execution_count": 10
        }
      ]
    },
    {
      "cell_type": "code",
      "metadata": {
        "id": "VrNwSeGoLu4z"
      },
      "source": [
        ""
      ],
      "execution_count": 10,
      "outputs": []
    },
    {
      "cell_type": "code",
      "metadata": {
        "id": "I-YPAloELNpw"
      },
      "source": [
        "from sklearn.model_selection import train_test_split\n",
        "from sklearn.preprocessing import OneHotEncoder\n",
        "\n",
        "from sklearn.tree import DecisionTreeClassifier, plot_tree\n",
        "from sklearn.ensemble import RandomForestClassifier, BaggingClassifier, AdaBoostClassifier, GradientBoostingClassifier\n",
        "\n",
        "from sklearn.metrics import f1_score, confusion_matrix, classification_report\n",
        "from sklearn.model_selection import learning_curve, GridSearchCV"
      ],
      "execution_count": 11,
      "outputs": []
    },
    {
      "cell_type": "code",
      "metadata": {
        "id": "nzA3GnjILNsT"
      },
      "source": [
        "####################################################################################\n",
        "#                            MODELE 1 : BOOSTING\n",
        "####################################################################################"
      ],
      "execution_count": null,
      "outputs": []
    },
    {
      "cell_type": "code",
      "metadata": {
        "id": "M3q0k7HRBPEn"
      },
      "source": [
        "####################      AVEC LES VARIABLES DONS ET ENCODAGE DUMMIES        ###########################"
      ],
      "execution_count": null,
      "outputs": []
    },
    {
      "cell_type": "code",
      "metadata": {
        "colab": {
          "base_uri": "https://localhost:8080/"
        },
        "id": "NUd6QFZA4G-y",
        "outputId": "9b3a33da-ee0c-4aa2-a22c-ed478cf5e158"
      },
      "source": [
        "# test predict individus sans classe\n",
        "data = data_orig.copy()\n",
        "\n",
        "# encodage Onehot sur toutes les données (on évite ainsi les erreurs futures)\n",
        "nb_var = data.shape[1] - 1\n",
        "data_1_22 = pd.get_dummies(data.iloc[:,1:(data.shape[1]-1)], columns=data.columns[1:(data.shape[1]-1)] )\n",
        "data_var_qualitatives_temp =  pd.concat([data[\"IDENT\"], data_1_22, data[\"Top_mon\"]], axis=1)\n",
        "data = data_var_qualitatives_temp\n",
        "#encodage = OneHotEncoder()\n",
        "#encodage.fit(data_processing(data.iloc[:,1:nb_var]))\n",
        "\n",
        "# élimination des individus n'ayant pas de valeur pour la varialbe IFI+\n",
        "\"\"\"IMPORTANT\"\"\"\n",
        "data_sans_nan = data[(data.isnull()).sum(axis=1) == 0]\n",
        "\n",
        "#conversion du type de variable\n",
        "for i in range(1,data_sans_nan.shape[1]):\n",
        "    data_sans_nan.iloc[:,i]=data_sans_nan.iloc[:,i].astype(int)\n",
        "\n",
        "# base de données avec des variables corrélées et avec encodage OneHot\n",
        "data =data_sans_nan\n",
        "\n",
        "nb_var = data.shape[1] - 1\n",
        "train_set, test_set = train_test_split(data, test_size = 0.2, random_state=0 )\n",
        "\n",
        "train_X_s = (train_set.iloc[:,1:nb_var]).to_numpy()\n",
        "train_Y_s = np.asanyarray(train_set.iloc[:,nb_var])\n",
        "\n",
        "test_X_s = (test_set.iloc[:,1:nb_var]).to_numpy()\n",
        "test_Y_s = np.asanyarray(test_set.iloc[:,nb_var])\n"
      ],
      "execution_count": null,
      "outputs": [
        {
          "output_type": "stream",
          "text": [
            "/usr/local/lib/python3.7/dist-packages/pandas/core/indexing.py:1743: SettingWithCopyWarning: \n",
            "A value is trying to be set on a copy of a slice from a DataFrame.\n",
            "Try using .loc[row_indexer,col_indexer] = value instead\n",
            "\n",
            "See the caveats in the documentation: https://pandas.pydata.org/pandas-docs/stable/user_guide/indexing.html#returning-a-view-versus-a-copy\n",
            "  isetter(ilocs[0], value)\n"
          ],
          "name": "stderr"
        }
      ]
    },
    {
      "cell_type": "code",
      "metadata": {
        "colab": {
          "base_uri": "https://localhost:8080/"
        },
        "id": "xCxHeQPW4HBk",
        "outputId": "a8a3879d-e6eb-4df5-daf1-98a90cf14224"
      },
      "source": [
        "model_AdaBoost = AdaBoostClassifier(base_estimator=DecisionTreeClassifier(class_weight = \"balanced\"), random_state =0 )\n",
        "param = {'base_estimator__criterion': ['gini','entropy'], 'base_estimator__max_depth' : list(range(2,20, 2)), 'n_estimators' : [20] }\n",
        "\n",
        "grid_AdaBoost = GridSearchCV(model_AdaBoost, param, cv = 4, scoring = \"recall\")\n",
        "resultat_grid_AdaBoost = grid_AdaBoost.fit(train_X_s, train_Y_s)\n",
        "resultat_grid_AdaBoost.best_params_\n",
        "#model_AdaBoost.get_params\n"
      ],
      "execution_count": null,
      "outputs": [
        {
          "output_type": "execute_result",
          "data": {
            "text/plain": [
              "{'base_estimator__criterion': 'entropy',\n",
              " 'base_estimator__max_depth': 4,\n",
              " 'n_estimators': 20}"
            ]
          },
          "metadata": {
            "tags": []
          },
          "execution_count": 40
        }
      ]
    },
    {
      "cell_type": "code",
      "metadata": {
        "colab": {
          "base_uri": "https://localhost:8080/",
          "height": 796
        },
        "id": "s_QJSf71A71i",
        "outputId": "b8b8f6ee-96f9-433e-e319-3d52b0e19154"
      },
      "source": [
        "final_model_AdaBoost = AdaBoostClassifier(base_estimator = DecisionTreeClassifier(class_weight=\"balanced\", criterion=\"entropy\",max_depth=4),n_estimators = 20 , random_state=0 ) \n",
        "evaluation(final_model_AdaBoost, train_X_s, train_Y_s, test_X_s, test_Y_s, scoring=\"recall\" )"
      ],
      "execution_count": null,
      "outputs": [
        {
          "output_type": "stream",
          "text": [
            "test set : \n",
            "[[ 2496  2183]\n",
            " [ 7321 13423]]\n",
            "              precision    recall  f1-score   support\n",
            "\n",
            "           1       0.25      0.53      0.34      4679\n",
            "           2       0.86      0.65      0.74     20744\n",
            "\n",
            "    accuracy                           0.63     25423\n",
            "   macro avg       0.56      0.59      0.54     25423\n",
            "weighted avg       0.75      0.63      0.67     25423\n",
            "\n",
            "train set : \n",
            "[[10711  8066]\n",
            " [28507 54408]]\n",
            "              precision    recall  f1-score   support\n",
            "\n",
            "           1       0.27      0.57      0.37     18777\n",
            "           2       0.87      0.66      0.75     82915\n",
            "\n",
            "    accuracy                           0.64    101692\n",
            "   macro avg       0.57      0.61      0.56    101692\n",
            "weighted avg       0.76      0.64      0.68    101692\n",
            "\n"
          ],
          "name": "stdout"
        },
        {
          "output_type": "display_data",
          "data": {
            "image/png": "[encoded data removed]",
            "text/plain": [
              "<Figure size 720x432 with 1 Axes>"
            ]
          },
          "metadata": {
            "tags": []
          }
        }
      ]
    },
    {
      "cell_type": "code",
      "metadata": {
        "colab": {
          "base_uri": "https://localhost:8080/"
        },
        "id": "fQfQyd-iA8W4",
        "outputId": "dd25d802-24bf-4d5f-ddeb-8f3c55d1039d"
      },
      "source": [
        "#data_var_qualitatives_temp\n",
        "quarantiles(model=final_model_AdaBoost, data_orig=data, affichage=True, save=False, path = \"/content/drive/MyDrive/spad_score_method_1/avec_dons_encodage_dummies_AdaBoost.xlsx\")"
      ],
      "execution_count": null,
      "outputs": [
        {
          "output_type": "stream",
          "text": [
            "                   IDENT     PROBA\n",
            "20447    204480010263553  0.025010\n",
            "95018    950190010408013  0.025134\n",
            "10644    106450010255229  0.025195\n",
            "29795    297960010339740  0.025383\n",
            "83489    834900010398134  0.025545\n",
            "...                  ...       ...\n",
            "95743    957440010408713  0.859285\n",
            "111837  1118380010521353  0.859500\n",
            "107583  1075840010504930  0.859877\n",
            "94514    945150010407536  0.860194\n",
            "107668  1076690010505190  0.860451\n",
            "\n",
            "[127115 rows x 2 columns]\n",
            "0.500391    528\n",
            "0.493059    429\n",
            "0.497693    333\n",
            "0.499617    291\n",
            "0.498701    254\n",
            "           ... \n",
            "0.498293      1\n",
            "0.523241      1\n",
            "0.493207      1\n",
            "0.504709      1\n",
            "0.488884      1\n",
            "Name: PROBA, Length: 48995, dtype: int64\n",
            "                    PROBA\n",
            "20447   (0.02491, 0.4877]\n",
            "95018   (0.02491, 0.4877]\n",
            "10644   (0.02491, 0.4877]\n",
            "29795   (0.02491, 0.4877]\n",
            "83489   (0.02491, 0.4877]\n",
            "...                   ...\n",
            "95743    (0.5127, 0.8605]\n",
            "111837   (0.5127, 0.8605]\n",
            "107583   (0.5127, 0.8605]\n",
            "94514    (0.5127, 0.8605]\n",
            "107668   (0.5127, 0.8605]\n",
            "\n",
            "[127115 rows x 1 columns]\n",
            "Top_mon               1     2  TOTAL\n",
            "TRANCHES                            \n",
            "(0.02491, 0.4877]   354  6002   6356\n",
            "(0.4877, 0.4909]    597  5768   6365\n",
            "(0.4909, 0.4923]    702  5827   6529\n",
            "(0.4923, 0.4933]    692  5506   6198\n",
            "(0.4933, 0.4942]    751  5581   6332\n",
            "(0.4942, 0.495]     847  5508   6355\n",
            "(0.495, 0.4959]     889  5467   6356\n",
            "(0.4959, 0.4967]    932  5464   6396\n",
            "(0.4967, 0.4975]    956  5361   6317\n",
            "(0.4975, 0.4982]   1024  5334   6358\n",
            "(0.4982, 0.499]    1061  5293   6354\n",
            "(0.499, 0.4998]    1122  5231   6353\n",
            "(0.4998, 0.5006]   1165  5196   6361\n",
            "(0.5006, 0.5015]   1303  5049   6352\n",
            "(0.5015, 0.5025]   1382  4973   6355\n",
            "(0.5025, 0.5038]   1353  5002   6355\n",
            "(0.5038, 0.5054]   1549  4807   6356\n",
            "(0.5054, 0.5079]   1722  4634   6356\n",
            "(0.5079, 0.5127]   2035  4330   6365\n",
            "(0.5127, 0.8605]   3020  3326   6346\n"
          ],
          "name": "stdout"
        }
      ]
    },
    {
      "cell_type": "code",
      "metadata": {
        "id": "oJZmK3A1hFjN"
      },
      "source": [
        "####################   SANS LES VARIABLES DONS ET ENCODAGE DUMMIES        ###########################"
      ],
      "execution_count": null,
      "outputs": []
    },
    {
      "cell_type": "code",
      "metadata": {
        "colab": {
          "base_uri": "https://localhost:8080/"
        },
        "id": "Ayz77hrtHzrW",
        "outputId": "ae81eb8a-ec40-4a10-8efe-a66d9d0d352c"
      },
      "source": [
        "# test predict individus sans classe\n",
        "data = data_orig.copy()\n",
        "\n",
        "# on élimine les variables dons\n",
        "data=data.drop([\"GeoFaz_cl\", \"ImmoFaz_Scl\", \"ImmoFaz_cl\", \"Prenom_Phase_cl_H\", \"Prenom_Phase_cl_F\",\"Onoma-Phase_Scl\",\n",
        "                \"Onoma-Phase_CL\"],axis=1)\n",
        "\n",
        "# encodage Onehot sur toutes les données (on évite ainsi les erreurs futures)\n",
        "nb_var = data.shape[1] - 1\n",
        "data_1_22 = pd.get_dummies(data.iloc[:,1:(data.shape[1]-1)], columns=data.columns[1:(data.shape[1]-1)] )\n",
        "data_var_qualitatives_temp =  pd.concat([data[\"IDENT\"], data_1_22, data[\"Top_mon\"]], axis=1)\n",
        "data = data_var_qualitatives_temp\n",
        "#encodage = OneHotEncoder()\n",
        "#encodage.fit(data_processing(data.iloc[:,1:nb_var]))\n",
        "\n",
        "# élimination des individus n'ayant pas de valeur pour la varialbe IFI+\n",
        "\"\"\"IMPORTANT\"\"\"\n",
        "data_sans_nan = data[(data.isnull()).sum(axis=1) == 0]\n",
        "\n",
        "#conversion du type de variable\n",
        "for i in range(1,data_sans_nan.shape[1]):\n",
        "    data_sans_nan.iloc[:,i]=data_sans_nan.iloc[:,i].astype(int)\n",
        "\n",
        "# base de données avec des variables corrélées et avec encodage OneHot\n",
        "data =data_sans_nan\n",
        "\n",
        "nb_var = data.shape[1] - 1\n",
        "train_set, test_set = train_test_split(data, test_size = 0.2, random_state=0 )\n",
        "\n",
        "train_X_s = (train_set.iloc[:,1:nb_var]).to_numpy()\n",
        "train_Y_s = np.asanyarray(train_set.iloc[:,nb_var])\n",
        "\n",
        "test_X_s = (test_set.iloc[:,1:nb_var]).to_numpy()\n",
        "test_Y_s = np.asanyarray(test_set.iloc[:,nb_var])\n"
      ],
      "execution_count": null,
      "outputs": [
        {
          "output_type": "stream",
          "text": [
            "/usr/local/lib/python3.7/dist-packages/pandas/core/indexing.py:1743: SettingWithCopyWarning: \n",
            "A value is trying to be set on a copy of a slice from a DataFrame.\n",
            "Try using .loc[row_indexer,col_indexer] = value instead\n",
            "\n",
            "See the caveats in the documentation: https://pandas.pydata.org/pandas-docs/stable/user_guide/indexing.html#returning-a-view-versus-a-copy\n",
            "  isetter(ilocs[0], value)\n"
          ],
          "name": "stderr"
        }
      ]
    },
    {
      "cell_type": "code",
      "metadata": {
        "colab": {
          "base_uri": "https://localhost:8080/"
        },
        "id": "6uT19lFGHzw1",
        "outputId": "437f438c-469a-4531-ab72-11d4f738f5d0"
      },
      "source": [
        "model_AdaBoost = AdaBoostClassifier(base_estimator=DecisionTreeClassifier(class_weight = \"balanced\"), random_state =0 )\n",
        "param = {'base_estimator__criterion': ['gini','entropy'], 'base_estimator__max_depth' : list(range(2,20, 2)), 'n_estimators' : [20] }\n",
        "\n",
        "grid_AdaBoost = GridSearchCV(model_AdaBoost, param, cv = 4, scoring = \"recall\")\n",
        "resultat_grid_AdaBoost = grid_AdaBoost.fit(train_X_s, train_Y_s)\n",
        "resultat_grid_AdaBoost.best_params_\n",
        "#model_AdaBoost.get_params\n"
      ],
      "execution_count": null,
      "outputs": [
        {
          "output_type": "execute_result",
          "data": {
            "text/plain": [
              "{'base_estimator__criterion': 'entropy',\n",
              " 'base_estimator__max_depth': 6,\n",
              " 'n_estimators': 20}"
            ]
          },
          "metadata": {
            "tags": []
          },
          "execution_count": 45
        }
      ]
    },
    {
      "cell_type": "code",
      "metadata": {
        "colab": {
          "base_uri": "https://localhost:8080/",
          "height": 796
        },
        "id": "FUHacSWXHzyp",
        "outputId": "7a9f6e47-ae9f-4818-a891-6acc08fe41bd"
      },
      "source": [
        "final_model_AdaBoost = AdaBoostClassifier(base_estimator = DecisionTreeClassifier(class_weight=\"balanced\", criterion=\"entropy\",max_depth=6),n_estimators = 20 , random_state=0 ) \n",
        "evaluation(final_model_AdaBoost, train_X_s, train_Y_s, test_X_s, test_Y_s, scoring=\"recall\" )"
      ],
      "execution_count": null,
      "outputs": [
        {
          "output_type": "stream",
          "text": [
            "test set : \n",
            "[[ 2497  2182]\n",
            " [ 7629 13115]]\n",
            "              precision    recall  f1-score   support\n",
            "\n",
            "           1       0.25      0.53      0.34      4679\n",
            "           2       0.86      0.63      0.73     20744\n",
            "\n",
            "    accuracy                           0.61     25423\n",
            "   macro avg       0.55      0.58      0.53     25423\n",
            "weighted avg       0.74      0.61      0.66     25423\n",
            "\n",
            "train set : \n",
            "[[11352  7425]\n",
            " [28873 54042]]\n",
            "              precision    recall  f1-score   support\n",
            "\n",
            "           1       0.28      0.60      0.38     18777\n",
            "           2       0.88      0.65      0.75     82915\n",
            "\n",
            "    accuracy                           0.64    101692\n",
            "   macro avg       0.58      0.63      0.57    101692\n",
            "weighted avg       0.77      0.64      0.68    101692\n",
            "\n"
          ],
          "name": "stdout"
        },
        {
          "output_type": "display_data",
          "data": {
            "image/png": "[encoded data removed]",
            "text/plain": [
              "<Figure size 720x432 with 1 Axes>"
            ]
          },
          "metadata": {
            "tags": []
          }
        }
      ]
    },
    {
      "cell_type": "code",
      "metadata": {
        "colab": {
          "base_uri": "https://localhost:8080/"
        },
        "id": "LKm4jSqlhqKT",
        "outputId": "59d0294b-2306-48b1-dcaa-ccc22a0b0856"
      },
      "source": [
        "quarantiles(model=final_model_AdaBoost, data_orig=data, affichage=True, save=False, path = \"/content/drive/MyDrive/spad_score_method_1/sans_dons_encodage_dummies_AdaBoost.xlsx\")"
      ],
      "execution_count": null,
      "outputs": [
        {
          "output_type": "stream",
          "text": [
            "                   IDENT     PROBA\n",
            "32284    322850010342417  0.000644\n",
            "30077    300780010340001  0.003931\n",
            "96698    966990010409586  0.004254\n",
            "115802  1158030010526662  0.004276\n",
            "114587  1145880010525561  0.004331\n",
            "...                  ...       ...\n",
            "42552    425530010355650  0.973251\n",
            "90736    907370010404147  0.973752\n",
            "90735    907360010404147  0.973752\n",
            "102909  1029100010415966  0.973942\n",
            "114086  1140870010525118  0.990096\n",
            "\n",
            "[127115 rows x 2 columns]\n",
            "0.492493    141\n",
            "0.500801    135\n",
            "0.501026    116\n",
            "0.497037     92\n",
            "0.500098     78\n",
            "           ... \n",
            "0.500527      1\n",
            "0.504458      1\n",
            "0.495913      1\n",
            "0.499360      1\n",
            "0.498569      1\n",
            "Name: PROBA, Length: 72501, dtype: int64\n",
            "                     PROBA\n",
            "32284   (-0.000356, 0.477]\n",
            "30077   (-0.000356, 0.477]\n",
            "96698   (-0.000356, 0.477]\n",
            "115802  (-0.000356, 0.477]\n",
            "114587  (-0.000356, 0.477]\n",
            "...                    ...\n",
            "42552        (0.513, 0.99]\n",
            "90736        (0.513, 0.99]\n",
            "90735        (0.513, 0.99]\n",
            "102909       (0.513, 0.99]\n",
            "114086       (0.513, 0.99]\n",
            "\n",
            "[127115 rows x 1 columns]\n",
            "Top_mon                1     2  TOTAL\n",
            "TRANCHES                             \n",
            "(-0.000356, 0.477]   181  6175   6356\n",
            "(0.477, 0.488]       444  5913   6357\n",
            "(0.488, 0.491]       584  5771   6355\n",
            "(0.491, 0.492]       685  5670   6355\n",
            "(0.492, 0.493]       715  5641   6356\n",
            "(0.493, 0.494]       849  5507   6356\n",
            "(0.494, 0.495]       902  5453   6355\n",
            "(0.495, 0.496]       863  5494   6357\n",
            "(0.496, 0.497]       963  5392   6355\n",
            "(0.497, 0.498]      1033  5324   6357\n",
            "(0.498, 0.499]      1127  5227   6354\n",
            "(0.499, 0.5]        1177  5179   6356\n",
            "(0.5, 0.501]        1171  5185   6356\n",
            "(0.501, 0.502]      1290  5067   6357\n",
            "(0.502, 0.503]      1281  5079   6360\n",
            "(0.503, 0.504]      1466  4884   6350\n",
            "(0.504, 0.506]      1568  4787   6355\n",
            "(0.506, 0.509]      1758  4598   6356\n",
            "(0.509, 0.513]      2117  4239   6356\n",
            "(0.513, 0.99]       3282  3074   6356\n"
          ],
          "name": "stdout"
        }
      ]
    },
    {
      "cell_type": "code",
      "metadata": {
        "id": "qsQSJ6dhhqRJ"
      },
      "source": [
        "#############################################################\n",
        "#                   MODELE 2 : RANDOM FOREST\n",
        "#############################################################"
      ],
      "execution_count": null,
      "outputs": []
    },
    {
      "cell_type": "code",
      "metadata": {
        "colab": {
          "base_uri": "https://localhost:8080/"
        },
        "id": "pijRYep3hqYZ",
        "outputId": "543458ee-4ea7-4976-b5ed-d49d724775e0"
      },
      "source": [
        "\n",
        "\n",
        "\n",
        "# test predict individus sans classe\n",
        "data = data_orig.copy()\n",
        "\n",
        "# encodage Onehot sur toutes les données (on évite ainsi les erreurs futures)\n",
        "nb_var = data.shape[1] - 1\n",
        "data_1_22 = pd.get_dummies(data.iloc[:,1:(data.shape[1]-1)], columns=data.columns[1:(data.shape[1]-1)] )\n",
        "data_var_qualitatives_temp =  pd.concat([data[\"IDENT\"], data_1_22, data[\"Top_mon\"]], axis=1)\n",
        "data = data_var_qualitatives_temp\n",
        "#encodage = OneHotEncoder()\n",
        "#encodage.fit(data_processing(data.iloc[:,1:nb_var]))\n",
        "\n",
        "# élimination des individus n'ayant pas de valeur pour la varialbe IFI+\n",
        "\"\"\"IMPORTANT\"\"\"\n",
        "data_sans_nan = data[(data.isnull()).sum(axis=1) == 0]\n",
        "\n",
        "#conversion du type de variable\n",
        "for i in range(1,data_sans_nan.shape[1]):\n",
        "    data_sans_nan.iloc[:,i]=data_sans_nan.iloc[:,i].astype(int)\n",
        "\n",
        "# base de données avec des variables corrélées et avec encodage OneHot\n",
        "data =data_sans_nan\n",
        "\n",
        "nb_var = data.shape[1] - 1\n",
        "train_set, test_set = train_test_split(data, test_size = 0.2, random_state=0 )\n",
        "\n",
        "train_X_s = (train_set.iloc[:,1:nb_var]).to_numpy()\n",
        "train_Y_s = np.asanyarray(train_set.iloc[:,nb_var])\n",
        "\n",
        "test_X_s = (test_set.iloc[:,1:nb_var]).to_numpy()\n",
        "test_Y_s = np.asanyarray(test_set.iloc[:,nb_var])\n"
      ],
      "execution_count": null,
      "outputs": [
        {
          "output_type": "stream",
          "text": [
            "/usr/local/lib/python3.7/dist-packages/pandas/core/indexing.py:1743: SettingWithCopyWarning: \n",
            "A value is trying to be set on a copy of a slice from a DataFrame.\n",
            "Try using .loc[row_indexer,col_indexer] = value instead\n",
            "\n",
            "See the caveats in the documentation: https://pandas.pydata.org/pandas-docs/stable/user_guide/indexing.html#returning-a-view-versus-a-copy\n",
            "  isetter(ilocs[0], value)\n"
          ],
          "name": "stderr"
        }
      ]
    },
    {
      "cell_type": "code",
      "metadata": {
        "colab": {
          "background_save": true,
          "base_uri": "https://localhost:8080/"
        },
        "id": "NgNjBxY7zZpM",
        "outputId": "0840141c-f82b-4d7c-fa7e-4be72f8cd1dc"
      },
      "source": [
        "model_RandomForestClassifier = RandomForestClassifier(class_weight=\"balanced\", random_state =0 )\n",
        "param = {'criterion': ['gini','entropy'], 'max_depth' : list(range(2,30, 2)),\"max_features\":[15,20,25] ,'n_estimators' : [20,30,50,100, 200] }\n",
        "\n",
        "grid_RandomForestClassifier = GridSearchCV(model_RandomForestClassifier, param, cv = 4, scoring = \"recall\", n_jobs=2)\n",
        "resultat_grid_RandomForestClassifier = grid_RandomForestClassifier.fit(train_X_s, train_Y_s)\n",
        "resultat_grid_RandomForestClassifier.best_params_\n"
      ],
      "execution_count": null,
      "outputs": [
        {
          "output_type": "stream",
          "text": [
            "/usr/local/lib/python3.7/dist-packages/joblib/externals/loky/process_executor.py:691: UserWarning: A worker stopped while some jobs were given to the executor. This can be caused by a too short worker timeout or by a memory leak.\n",
            "  \"timeout or by a memory leak.\", UserWarning\n"
          ],
          "name": "stderr"
        },
        {
          "output_type": "execute_result",
          "data": {
            "text/plain": [
              "{'criterion': 'gini', 'max_depth': 2, 'max_features': 20, 'n_estimators': 50}"
            ]
          },
          "metadata": {
            "tags": []
          },
          "execution_count": 0
        }
      ]
    },
    {
      "cell_type": "code",
      "metadata": {
        "id": "uxSO2YrZRv9V",
        "colab": {
          "base_uri": "https://localhost:8080/"
        },
        "outputId": "19713b4b-6492-45ad-e563-8a21d1364e74"
      },
      "source": [
        "model_RandomForestClassifier = RandomForestClassifier(class_weight=\"balanced\", random_state =0 )\n",
        "param = {'criterion': ['gini','entropy'], 'max_depth' : [2,3,4,5],\"max_features\":[19,20,21,200] ,'n_estimators' : [40,50,60] }\n",
        "\n",
        "grid_RandomForestClassifier = GridSearchCV(model_RandomForestClassifier, param, cv = 4, scoring = \"recall\", n_jobs=2)\n",
        "resultat_grid_RandomForestClassifier = grid_RandomForestClassifier.fit(train_X_s, train_Y_s)\n",
        "resultat_grid_RandomForestClassifier.best_params_\n"
      ],
      "execution_count": null,
      "outputs": [
        {
          "output_type": "execute_result",
          "data": {
            "text/plain": [
              "{'criterion': 'entropy',\n",
              " 'max_depth': 3,\n",
              " 'max_features': 200,\n",
              " 'n_estimators': 50}"
            ]
          },
          "metadata": {
            "tags": []
          },
          "execution_count": 18
        }
      ]
    },
    {
      "cell_type": "code",
      "metadata": {
        "colab": {
          "base_uri": "https://localhost:8080/"
        },
        "id": "HBC-6OWNYvnm",
        "outputId": "0d4f68eb-e926-4f99-de09-303fa028a750"
      },
      "source": [
        "model_RandomForestClassifier = RandomForestClassifier(class_weight=\"balanced\", random_state =0 )\n",
        "param = {'criterion': ['gini','entropy'], 'max_depth' : [2,3,4,5],\"max_features\":[8,12,15,20,25] ,'n_estimators' : [20,50,100] }\n",
        "\n",
        "grid_RandomForestClassifier = GridSearchCV(model_RandomForestClassifier, param, cv = 4, scoring = \"recall\", n_jobs=2)\n",
        "resultat_grid_RandomForestClassifier = grid_RandomForestClassifier.fit(train_X_s, train_Y_s)\n",
        "resultat_grid_RandomForestClassifier.best_params_\n"
      ],
      "execution_count": null,
      "outputs": [
        {
          "output_type": "execute_result",
          "data": {
            "text/plain": [
              "{'criterion': 'gini', 'max_depth': 2, 'max_features': 12, 'n_estimators': 100}"
            ]
          },
          "metadata": {
            "tags": []
          },
          "execution_count": 28
        }
      ]
    },
    {
      "cell_type": "code",
      "metadata": {
        "colab": {
          "base_uri": "https://localhost:8080/",
          "height": 796
        },
        "id": "n3i-NJ26zZsC",
        "outputId": "46c50c81-4c61-4ba1-e41d-60a9679b7654"
      },
      "source": [
        "final_model_RandomForestClassifier = RandomForestClassifier(class_weight=\"balanced\", criterion=\"gini\", max_depth=2, max_features=12, n_estimators = 100, random_state=0) \n",
        "evaluation(final_model_RandomForestClassifier, train_X_s, train_Y_s, test_X_s, test_Y_s, scoring=\"recall\")"
      ],
      "execution_count": null,
      "outputs": [
        {
          "output_type": "stream",
          "text": [
            "test set : \n",
            "[[ 2937  1742]\n",
            " [10044 10700]]\n",
            "              precision    recall  f1-score   support\n",
            "\n",
            "           1       0.23      0.63      0.33      4679\n",
            "           2       0.86      0.52      0.64     20744\n",
            "\n",
            "    accuracy                           0.54     25423\n",
            "   macro avg       0.54      0.57      0.49     25423\n",
            "weighted avg       0.74      0.54      0.59     25423\n",
            "\n",
            "train set : \n",
            "[[11846  6931]\n",
            " [39944 42971]]\n",
            "              precision    recall  f1-score   support\n",
            "\n",
            "           1       0.23      0.63      0.34     18777\n",
            "           2       0.86      0.52      0.65     82915\n",
            "\n",
            "    accuracy                           0.54    101692\n",
            "   macro avg       0.54      0.57      0.49    101692\n",
            "weighted avg       0.74      0.54      0.59    101692\n",
            "\n"
          ],
          "name": "stdout"
        },
        {
          "output_type": "display_data",
          "data": {
            "image/png": "[encoded data removed]",
            "text/plain": [
              "<Figure size 720x432 with 1 Axes>"
            ]
          },
          "metadata": {
            "tags": [],
            "needs_background": "light"
          }
        }
      ]
    },
    {
      "cell_type": "code",
      "metadata": {
        "colab": {
          "base_uri": "https://localhost:8080/"
        },
        "id": "zHQtVH69zZvW",
        "outputId": "b185a4ca-aa84-479b-99c9-8f612e8077a0"
      },
      "source": [
        "quarantiles(model=final_model_RandomForestClassifier, data_orig=data, affichage=True,\n",
        "            save=False, path = \"/content/drive/MyDrive/spad_score_method_1/sans_dons_encodage_dummies_AdaBoost.xlsx\")"
      ],
      "execution_count": null,
      "outputs": [
        {
          "output_type": "stream",
          "text": [
            "                   IDENT     PROBA\n",
            "16353    163540010259655  0.443020\n",
            "81243    812440010396251  0.443104\n",
            "81244    812450010396251  0.443104\n",
            "55216    552170010367865  0.443528\n",
            "101475  1014760010414774  0.444116\n",
            "...                  ...       ...\n",
            "126631  1266320010538813  0.591604\n",
            "19563    195640010262550  0.591604\n",
            "46136    461370010360285  0.591604\n",
            "126630  1266310010538813  0.591604\n",
            "95649    956500010408568  0.591691\n",
            "\n",
            "[127115 rows x 2 columns]\n",
            "0.513126    377\n",
            "0.513624    324\n",
            "0.514471    321\n",
            "0.466538    319\n",
            "0.463450    273\n",
            "           ... \n",
            "0.512342      1\n",
            "0.470694      1\n",
            "0.499040      1\n",
            "0.494265      1\n",
            "0.515184      1\n",
            "Name: PROBA, Length: 46517, dtype: int64\n",
            "                 PROBA\n",
            "16353   (0.442, 0.458]\n",
            "81243   (0.442, 0.458]\n",
            "81244   (0.442, 0.458]\n",
            "55216   (0.442, 0.458]\n",
            "101475  (0.442, 0.458]\n",
            "...                ...\n",
            "126631  (0.536, 0.592]\n",
            "19563   (0.536, 0.592]\n",
            "46136   (0.536, 0.592]\n",
            "126630  (0.536, 0.592]\n",
            "95649   (0.536, 0.592]\n",
            "\n",
            "[127115 rows x 1 columns]\n",
            "Top_mon            1     2  TOTAL\n",
            "TRANCHES                         \n",
            "(0.442, 0.458]   608  5766   6374\n",
            "(0.458, 0.463]   746  5598   6344\n",
            "(0.463, 0.466]   736  5620   6356\n",
            "(0.466, 0.47]    820  5537   6357\n",
            "(0.47, 0.474]    877  5479   6356\n",
            "(0.474, 0.477]   916  5432   6348\n",
            "(0.477, 0.482]   965  5390   6355\n",
            "(0.482, 0.487]   952  5406   6358\n",
            "(0.487, 0.494]  1132  5223   6355\n",
            "(0.494, 0.501]  1132  5225   6357\n",
            "(0.501, 0.506]  1041  5312   6353\n",
            "(0.506, 0.508]  1114  5242   6356\n",
            "(0.508, 0.51]   1107  5321   6428\n",
            "(0.51, 0.512]   1107  5178   6285\n",
            "(0.512, 0.514]  1260  5094   6354\n",
            "(0.514, 0.516]  1387  4976   6363\n",
            "(0.516, 0.518]  1409  4949   6358\n",
            "(0.518, 0.522]  1549  4798   6347\n",
            "(0.522, 0.536]  2055  4302   6357\n",
            "(0.536, 0.592]  2543  3811   6354\n"
          ],
          "name": "stdout"
        }
      ]
    },
    {
      "cell_type": "code",
      "metadata": {
        "id": "8jVj4rxxzZ1k"
      },
      "source": [
        ""
      ],
      "execution_count": null,
      "outputs": []
    },
    {
      "cell_type": "code",
      "metadata": {
        "id": "zhvOnpk0RPRS"
      },
      "source": [
        ""
      ],
      "execution_count": null,
      "outputs": []
    },
    {
      "cell_type": "code",
      "metadata": {
        "id": "d04Xaq_mRPT-"
      },
      "source": [
        ""
      ],
      "execution_count": null,
      "outputs": []
    },
    {
      "cell_type": "code",
      "metadata": {
        "id": "M_AjyHWqHVxP"
      },
      "source": [
        ""
      ],
      "execution_count": null,
      "outputs": []
    },
    {
      "cell_type": "code",
      "metadata": {
        "id": "1y7a7EMEy8sK"
      },
      "source": [
        "###################################################################################################################@\n",
        "###################################################################################################################@\n",
        "#                                   DECISION TREE CLASSIFIER  ----  AVEC VARIABLES QUALITATIVES\n",
        "###################################################################################################################@\n",
        "###################################################################################################################@"
      ],
      "execution_count": null,
      "outputs": []
    },
    {
      "cell_type": "code",
      "metadata": {
        "id": "3fYBLsEyYzXC"
      },
      "source": [
        "####################################################################################\n",
        "####################################################################################\n",
        "#                   TEST AVEC TOUTES LES VARIABLES\n",
        "####################################################################################\n",
        "####################################################################################"
      ],
      "execution_count": null,
      "outputs": []
    },
    {
      "cell_type": "code",
      "metadata": {
        "colab": {
          "base_uri": "https://localhost:8080/"
        },
        "id": "pBDsMsJcYzZM",
        "outputId": "0ff80b23-3e84-40df-afa3-59ffb16057e1"
      },
      "source": [
        "# test predict individus sans classe\n",
        "data = data_orig.copy()\n",
        "\n",
        "# encodage Onehot sur toutes les données (on évite ainsi les erreurs futures)\n",
        "nb_var = data.shape[1] - 1\n",
        "data_1_22 = pd.get_dummies(data.iloc[:,1:(data.shape[1]-1)], columns=data.columns[1:(data.shape[1]-1)] )\n",
        "data_var_qualitatives_temp =  pd.concat([data[\"IDENT\"], data_1_22, data[\"Top_mon\"]], axis=1)\n",
        "data = data_var_qualitatives_temp\n",
        "#encodage = OneHotEncoder()\n",
        "#encodage.fit(data_processing(data.iloc[:,1:nb_var]))\n",
        "\n",
        "# élimination des individus n'ayant pas de valeur pour la varialbe IFI+\n",
        "\"\"\"IMPORTANT\"\"\"\n",
        "data_sans_nan = data[(data.isnull()).sum(axis=1) == 0]\n",
        "\n",
        "#conversion du type de variable\n",
        "for i in range(1,data_sans_nan.shape[1]):\n",
        "    data_sans_nan.iloc[:,i]=data_sans_nan.iloc[:,i].astype(int)\n",
        "\n",
        "# base de données avec des variables corrélées et avec encodage OneHot\n",
        "data =data_sans_nan\n",
        "\n",
        "nb_var = data.shape[1] - 1\n",
        "train_set, test_set = train_test_split(data, test_size = 0.2, random_state=0 )\n",
        "\n",
        "train_X_s = (train_set.iloc[:,1:nb_var]).to_numpy()\n",
        "train_Y_s = np.asanyarray(train_set.iloc[:,nb_var])\n",
        "\n",
        "test_X_s = (test_set.iloc[:,1:nb_var]).to_numpy()\n",
        "test_Y_s = np.asanyarray(test_set.iloc[:,nb_var])\n"
      ],
      "execution_count": 12,
      "outputs": [
        {
          "output_type": "stream",
          "text": [
            "/usr/local/lib/python3.7/dist-packages/pandas/core/indexing.py:1743: SettingWithCopyWarning: \n",
            "A value is trying to be set on a copy of a slice from a DataFrame.\n",
            "Try using .loc[row_indexer,col_indexer] = value instead\n",
            "\n",
            "See the caveats in the documentation: https://pandas.pydata.org/pandas-docs/stable/user_guide/indexing.html#returning-a-view-versus-a-copy\n",
            "  isetter(ilocs[0], value)\n"
          ],
          "name": "stderr"
        }
      ]
    },
    {
      "cell_type": "code",
      "metadata": {
        "colab": {
          "base_uri": "https://localhost:8080/"
        },
        "id": "_Zwd-eVTZYiZ",
        "outputId": "3f10637a-ea64-451e-bf1e-6dd83568f152"
      },
      "source": [
        "\n",
        "model_DecisionTreeClassifier = DecisionTreeClassifier(random_state = 0, class_weight = \"balanced\" )\n",
        "param = { 'max_depth' :list(range(2,30)), 'criterion': [\"gini\", \"entropy\"], 'max_features' : list(range(5,30,2)),\n",
        "         'min_samples_split' : [0.05, 0.1, 0.4, 0.6, 0.8, 1] }\n",
        "\n",
        "grid_DecisionTreeClassifier = GridSearchCV(model_DecisionTreeClassifier, param_grid= param, cv = 4, scoring = \"recall\", n_jobs=2)\n",
        "resultat_grid_DecisionTreeClassifier = grid_DecisionTreeClassifier.fit(train_X_s, train_Y_s)\n",
        "resultat_grid_DecisionTreeClassifier.best_params_\n"
      ],
      "execution_count": null,
      "outputs": [
        {
          "output_type": "execute_result",
          "data": {
            "text/plain": [
              "{'criterion': 'gini',\n",
              " 'max_depth': 2,\n",
              " 'max_features': 21,\n",
              " 'min_samples_split': 0.05}"
            ]
          },
          "metadata": {
            "tags": []
          },
          "execution_count": 61
        }
      ]
    },
    {
      "cell_type": "code",
      "metadata": {
        "colab": {
          "base_uri": "https://localhost:8080/",
          "height": 796
        },
        "id": "m7OV_rExZYkw",
        "outputId": "91a0f70a-a5a6-403f-a126-d0558b7c7eff"
      },
      "source": [
        "final_model_DecisionTreeClassifier = DecisionTreeClassifier(random_state = 0, criterion=\"gini\", class_weight = \"balanced\", max_depth = 2, max_features=21, min_samples_split=0.05 )\n",
        "evaluation(final_model_DecisionTreeClassifier, train_X_s, train_Y_s, test_X_s, test_Y_s, scoring=\"recall\" )"
      ],
      "execution_count": 13,
      "outputs": [
        {
          "output_type": "stream",
          "text": [
            "test set : \n",
            "[[ 3627  1052]\n",
            " [13885  6859]]\n",
            "              precision    recall  f1-score   support\n",
            "\n",
            "           1       0.21      0.78      0.33      4679\n",
            "           2       0.87      0.33      0.48     20744\n",
            "\n",
            "    accuracy                           0.41     25423\n",
            "   macro avg       0.54      0.55      0.40     25423\n",
            "weighted avg       0.75      0.41      0.45     25423\n",
            "\n",
            "train set : \n",
            "[[14518  4259]\n",
            " [55648 27267]]\n",
            "              precision    recall  f1-score   support\n",
            "\n",
            "           1       0.21      0.77      0.33     18777\n",
            "           2       0.86      0.33      0.48     82915\n",
            "\n",
            "    accuracy                           0.41    101692\n",
            "   macro avg       0.54      0.55      0.40    101692\n",
            "weighted avg       0.74      0.41      0.45    101692\n",
            "\n"
          ],
          "name": "stdout"
        },
        {
          "output_type": "display_data",
          "data": {
            "image/png": "[encoded data removed]",
            "text/plain": [
              "<Figure size 720x432 with 1 Axes>"
            ]
          },
          "metadata": {
            "tags": [],
            "needs_background": "light"
          }
        }
      ]
    },
    {
      "cell_type": "code",
      "metadata": {
        "colab": {
          "base_uri": "https://localhost:8080/",
          "height": 771
        },
        "id": "G30AyKnaZZG7",
        "outputId": "bc726bf8-27c7-4e6c-8beb-302349513329"
      },
      "source": [
        "quarantiles(model=final_model_DecisionTreeClassifier, data_orig = data, affichage=True, save=False, path = \"/content/drive/MyDrive/spad_score_method_1/sans_tranche_DecisionTreeClassifier.xlsx\")"
      ],
      "execution_count": 14,
      "outputs": [
        {
          "output_type": "stream",
          "text": [
            "                   IDENT     PROBA\n",
            "0            10010000001  0.399154\n",
            "43169    431700010357912  0.399154\n",
            "43172    431730010357915  0.399154\n",
            "43173    431740010357916  0.399154\n",
            "43174    431750010357917  0.399154\n",
            "...                  ...       ...\n",
            "53999    540000010366915  0.535420\n",
            "53998    539990010366914  0.535420\n",
            "53997    539980010366913  0.535420\n",
            "54007    540080010366920  0.535420\n",
            "127114  1271150010539470  0.535420\n",
            "\n",
            "[127115 rows x 2 columns]\n",
            "0.535420    69030\n",
            "0.399154    33192\n",
            "0.534965    18648\n",
            "0.453157     6245\n",
            "Name: PROBA, dtype: int64\n"
          ],
          "name": "stdout"
        },
        {
          "output_type": "error",
          "ename": "ValueError",
          "evalue": "ignored",
          "traceback": [
            "\u001b[0;31m---------------------------------------------------------------------------\u001b[0m",
            "\u001b[0;31mValueError\u001b[0m                                Traceback (most recent call last)",
            "\u001b[0;32m<ipython-input-14-9fb6e2fb14ce>\u001b[0m in \u001b[0;36m<module>\u001b[0;34m()\u001b[0m\n\u001b[0;32m----> 1\u001b[0;31m \u001b[0mquarantiles\u001b[0m\u001b[0;34m(\u001b[0m\u001b[0mmodel\u001b[0m\u001b[0;34m=\u001b[0m\u001b[0mfinal_model_DecisionTreeClassifier\u001b[0m\u001b[0;34m,\u001b[0m \u001b[0mdata_orig\u001b[0m \u001b[0;34m=\u001b[0m \u001b[0mdata\u001b[0m\u001b[0;34m,\u001b[0m \u001b[0maffichage\u001b[0m\u001b[0;34m=\u001b[0m\u001b[0;32mTrue\u001b[0m\u001b[0;34m,\u001b[0m \u001b[0msave\u001b[0m\u001b[0;34m=\u001b[0m\u001b[0;32mFalse\u001b[0m\u001b[0;34m,\u001b[0m \u001b[0mpath\u001b[0m \u001b[0;34m=\u001b[0m \u001b[0;34m\"/content/drive/MyDrive/spad_score_method_1/sans_tranche_DecisionTreeClassifier.xlsx\"\u001b[0m\u001b[0;34m)\u001b[0m\u001b[0;34m\u001b[0m\u001b[0;34m\u001b[0m\u001b[0m\n\u001b[0m",
            "\u001b[0;32m<ipython-input-6-742ef7d51da4>\u001b[0m in \u001b[0;36mquarantiles\u001b[0;34m(model, data_orig, affichage, save, path)\u001b[0m\n\u001b[1;32m     93\u001b[0m \u001b[0;34m\u001b[0m\u001b[0m\n\u001b[1;32m     94\u001b[0m     \u001b[0;31m# quarantiles\u001b[0m\u001b[0;34m\u001b[0m\u001b[0;34m\u001b[0m\u001b[0;34m\u001b[0m\u001b[0m\n\u001b[0;32m---> 95\u001b[0;31m     \u001b[0mdf_temp\u001b[0m \u001b[0;34m=\u001b[0m\u001b[0mpd\u001b[0m\u001b[0;34m.\u001b[0m\u001b[0mDataFrame\u001b[0m\u001b[0;34m(\u001b[0m \u001b[0mpd\u001b[0m\u001b[0;34m.\u001b[0m\u001b[0mqcut\u001b[0m\u001b[0;34m(\u001b[0m\u001b[0mdf_tous\u001b[0m\u001b[0;34m[\u001b[0m\u001b[0;34m'PROBA'\u001b[0m\u001b[0;34m]\u001b[0m\u001b[0;34m,\u001b[0m\u001b[0mq\u001b[0m\u001b[0;34m=\u001b[0m \u001b[0;36m20\u001b[0m\u001b[0;34m)\u001b[0m  \u001b[0;34m)\u001b[0m\u001b[0;34m\u001b[0m\u001b[0;34m\u001b[0m\u001b[0m\n\u001b[0m\u001b[1;32m     96\u001b[0m     \u001b[0mprint\u001b[0m\u001b[0;34m(\u001b[0m\u001b[0mdf_temp\u001b[0m\u001b[0;34m)\u001b[0m\u001b[0;34m\u001b[0m\u001b[0;34m\u001b[0m\u001b[0m\n\u001b[1;32m     97\u001b[0m \u001b[0;34m\u001b[0m\u001b[0m\n",
            "\u001b[0;32m/usr/local/lib/python3.7/dist-packages/pandas/core/reshape/tile.py\u001b[0m in \u001b[0;36mqcut\u001b[0;34m(x, q, labels, retbins, precision, duplicates)\u001b[0m\n\u001b[1;32m    365\u001b[0m         \u001b[0minclude_lowest\u001b[0m\u001b[0;34m=\u001b[0m\u001b[0;32mTrue\u001b[0m\u001b[0;34m,\u001b[0m\u001b[0;34m\u001b[0m\u001b[0;34m\u001b[0m\u001b[0m\n\u001b[1;32m    366\u001b[0m         \u001b[0mdtype\u001b[0m\u001b[0;34m=\u001b[0m\u001b[0mdtype\u001b[0m\u001b[0;34m,\u001b[0m\u001b[0;34m\u001b[0m\u001b[0;34m\u001b[0m\u001b[0m\n\u001b[0;32m--> 367\u001b[0;31m         \u001b[0mduplicates\u001b[0m\u001b[0;34m=\u001b[0m\u001b[0mduplicates\u001b[0m\u001b[0;34m,\u001b[0m\u001b[0;34m\u001b[0m\u001b[0;34m\u001b[0m\u001b[0m\n\u001b[0m\u001b[1;32m    368\u001b[0m     )\n\u001b[1;32m    369\u001b[0m \u001b[0;34m\u001b[0m\u001b[0m\n",
            "\u001b[0;32m/usr/local/lib/python3.7/dist-packages/pandas/core/reshape/tile.py\u001b[0m in \u001b[0;36m_bins_to_cuts\u001b[0;34m(x, bins, right, labels, precision, include_lowest, dtype, duplicates, ordered)\u001b[0m\n\u001b[1;32m    400\u001b[0m         \u001b[0;32mif\u001b[0m \u001b[0mduplicates\u001b[0m \u001b[0;34m==\u001b[0m \u001b[0;34m\"raise\"\u001b[0m\u001b[0;34m:\u001b[0m\u001b[0;34m\u001b[0m\u001b[0;34m\u001b[0m\u001b[0m\n\u001b[1;32m    401\u001b[0m             raise ValueError(\n\u001b[0;32m--> 402\u001b[0;31m                 \u001b[0;34mf\"Bin edges must be unique: {repr(bins)}.\\n\"\u001b[0m\u001b[0;34m\u001b[0m\u001b[0;34m\u001b[0m\u001b[0m\n\u001b[0m\u001b[1;32m    403\u001b[0m                 \u001b[0;34mf\"You can drop duplicate edges by setting the 'duplicates' kwarg\"\u001b[0m\u001b[0;34m\u001b[0m\u001b[0;34m\u001b[0m\u001b[0m\n\u001b[1;32m    404\u001b[0m             )\n",
            "\u001b[0;31mValueError\u001b[0m: Bin edges must be unique: array([0.39915404, 0.39915404, 0.39915404, 0.39915404, 0.39915404,\n       0.39915404, 0.45315687, 0.53496476, 0.53496476, 0.53496476,\n       0.53541979, 0.53541979, 0.53541979, 0.53541979, 0.53541979,\n       0.53541979, 0.53541979, 0.53541979, 0.53541979, 0.53541979,\n       0.53541979]).\nYou can drop duplicate edges by setting the 'duplicates' kwarg"
          ]
        }
      ]
    },
    {
      "cell_type": "code",
      "metadata": {
        "id": "N9sZD8-MZZJJ"
      },
      "source": [
        "#importance des variables\n",
        "impVarFirst={\"Variable\":data.columns[1:-1],\"Importance\":final_model_DecisionTreeClassifier.feature_importances_}\n",
        "pd.DataFrame(impVarFirst).sort_values(by=\"Importance\",ascending=False)\n",
        "\n",
        "# affichage graphique de l'arbre (il faut vérifier les noms des colonnes pour qu'on affiche correctement l'arbre)\n",
        "plt.figure(figsize = (15, 10))\n",
        "plot_tree(final_model_DecisionTreeClassifier,feature_names = list(data.columns[1:-1]),filled=True)\n"
      ],
      "execution_count": null,
      "outputs": []
    },
    {
      "cell_type": "code",
      "metadata": {
        "id": "CtAZAPy_h355"
      },
      "source": [
        "####################################################################################\n",
        "####################################################################################\n",
        "#                   TEST SANS LES VARIABLES ILLUSTRATIVES DE SPAD\n",
        "####################################################################################\n",
        "####################################################################################"
      ],
      "execution_count": null,
      "outputs": []
    },
    {
      "cell_type": "code",
      "metadata": {
        "colab": {
          "base_uri": "https://localhost:8080/"
        },
        "id": "Rk6cfrsBh38f",
        "outputId": "32f211ea-da23-4480-aed9-a0d32929e6cd"
      },
      "source": [
        "# test predict individus sans classe\n",
        "data = data_orig.copy()\n",
        "\n",
        "# on élimine les variables dons\n",
        "data=data.drop([\"GeoFaz_cl\", \"ImmoFaz_Scl\", \"ImmoFaz_cl\", \"Prenom_Phase_cl_H\", \"Prenom_Phase_cl_F\",\n",
        "                \"Onoma-Phase_Scl\", \"Onoma-Phase_CL\"],axis=1)\n",
        "\n",
        "# encodage Onehot sur toutes les données (on évite ainsi les erreurs futures)\n",
        "nb_var = data.shape[1] - 1\n",
        "data_1_22 = pd.get_dummies(data.iloc[:,1:(data.shape[1]-1)], columns=data.columns[1:(data.shape[1]-1)] )\n",
        "data_var_qualitatives_temp =  pd.concat([data[\"IDENT\"], data_1_22, data[\"Top_mon\"]], axis=1)\n",
        "data = data_var_qualitatives_temp\n",
        "#encodage = OneHotEncoder()\n",
        "#encodage.fit(data_processing(data.iloc[:,1:nb_var]))\n",
        "\n",
        "# élimination des individus n'ayant pas de valeur pour la varialbe IFI+\n",
        "\"\"\"IMPORTANT\"\"\"\n",
        "data_sans_nan = data[(data.isnull()).sum(axis=1) == 0]\n",
        "\n",
        "#conversion du type de variable\n",
        "for i in range(1,data_sans_nan.shape[1]):\n",
        "    data_sans_nan.iloc[:,i]=data_sans_nan.iloc[:,i].astype(int)\n",
        "\n",
        "# base de données avec des variables corrélées et avec encodage OneHot\n",
        "data =data_sans_nan\n",
        "\n",
        "nb_var = data.shape[1] - 1\n",
        "train_set, test_set = train_test_split(data, test_size = 0.2, random_state=0 )\n",
        "\n",
        "train_X_s = (train_set.iloc[:,1:nb_var]).to_numpy()\n",
        "train_Y_s = np.asanyarray(train_set.iloc[:,nb_var])\n",
        "\n",
        "test_X_s = (test_set.iloc[:,1:nb_var]).to_numpy()\n",
        "test_Y_s = np.asanyarray(test_set.iloc[:,nb_var])\n"
      ],
      "execution_count": null,
      "outputs": [
        {
          "output_type": "stream",
          "text": [
            "/usr/local/lib/python3.7/dist-packages/pandas/core/indexing.py:1743: SettingWithCopyWarning: \n",
            "A value is trying to be set on a copy of a slice from a DataFrame.\n",
            "Try using .loc[row_indexer,col_indexer] = value instead\n",
            "\n",
            "See the caveats in the documentation: https://pandas.pydata.org/pandas-docs/stable/user_guide/indexing.html#returning-a-view-versus-a-copy\n",
            "  isetter(ilocs[0], value)\n"
          ],
          "name": "stderr"
        }
      ]
    },
    {
      "cell_type": "code",
      "metadata": {
        "colab": {
          "base_uri": "https://localhost:8080/"
        },
        "id": "9pt0VNO18P4N",
        "outputId": "db3d7634-0fa5-48a1-d9c4-6d4ae2844e2b"
      },
      "source": [
        "\n",
        "model_DecisionTreeClassifier = DecisionTreeClassifier(random_state = 0, class_weight = \"balanced\" )\n",
        "param = { 'max_depth' :list(range(2,30)), 'criterion': [\"gini\", \"entropy\"], 'max_features' : list(range(5,30,2)),\n",
        "         'min_samples_split' : [0.05, 0.1, 0.4, 0.6, 0.8, 1] }\n",
        "\n",
        "grid_DecisionTreeClassifier = GridSearchCV(model_DecisionTreeClassifier, param_grid= param, cv = 4, scoring = \"recall\", n_jobs=2)\n",
        "resultat_grid_DecisionTreeClassifier = grid_DecisionTreeClassifier.fit(train_X_s, train_Y_s)\n",
        "resultat_grid_DecisionTreeClassifier.best_params_\n"
      ],
      "execution_count": null,
      "outputs": [
        {
          "output_type": "execute_result",
          "data": {
            "text/plain": [
              "{'criterion': 'gini',\n",
              " 'max_depth': 2,\n",
              " 'max_features': 5,\n",
              " 'min_samples_split': 1.0}"
            ]
          },
          "metadata": {
            "tags": []
          },
          "execution_count": 20
        }
      ]
    },
    {
      "cell_type": "code",
      "metadata": {
        "colab": {
          "base_uri": "https://localhost:8080/",
          "height": 796
        },
        "id": "JNnn4DAf8P6W",
        "outputId": "75c840e0-6256-4b83-cfeb-27b6734edb1f"
      },
      "source": [
        "final_model_DecisionTreeClassifier = DecisionTreeClassifier(random_state = 0, criterion=\"gini\", class_weight = \"balanced\", max_depth = 50, max_features=30, min_samples_split=1.0 )\n",
        "evaluation(final_model_DecisionTreeClassifier, train_X_s, train_Y_s, test_X_s, test_Y_s, scoring=\"recall\" )"
      ],
      "execution_count": null,
      "outputs": [
        {
          "output_type": "stream",
          "text": [
            "test set : \n",
            "[[  390  4289]\n",
            " [  611 20133]]\n",
            "              precision    recall  f1-score   support\n",
            "\n",
            "           1       0.39      0.08      0.14      4679\n",
            "           2       0.82      0.97      0.89     20744\n",
            "\n",
            "    accuracy                           0.81     25423\n",
            "   macro avg       0.61      0.53      0.51     25423\n",
            "weighted avg       0.74      0.81      0.75     25423\n",
            "\n",
            "train set : \n",
            "[[ 1539 17238]\n",
            " [ 2379 80536]]\n",
            "              precision    recall  f1-score   support\n",
            "\n",
            "           1       0.39      0.08      0.14     18777\n",
            "           2       0.82      0.97      0.89     82915\n",
            "\n",
            "    accuracy                           0.81    101692\n",
            "   macro avg       0.61      0.53      0.51    101692\n",
            "weighted avg       0.74      0.81      0.75    101692\n",
            "\n"
          ],
          "name": "stdout"
        },
        {
          "output_type": "display_data",
          "data": {
            "image/png": "[encoded data removed]",
            "text/plain": [
              "<Figure size 720x432 with 1 Axes>"
            ]
          },
          "metadata": {
            "tags": []
          }
        }
      ]
    },
    {
      "cell_type": "code",
      "metadata": {
        "colab": {
          "base_uri": "https://localhost:8080/",
          "height": 736
        },
        "id": "3sGdSD11IMOO",
        "outputId": "4846c6b2-b8f1-4422-ed0e-97ff34a146d4"
      },
      "source": [
        "quarantiles(model=final_model_DecisionTreeClassifier, data_orig = data_var_qualitatives_temp, affichage=True, save=False, path = \"/content/drive/MyDrive/spad_score_method_1/sans_tranche_DecisionTreeClassifier.xlsx\")"
      ],
      "execution_count": null,
      "outputs": [
        {
          "output_type": "stream",
          "text": [
            "                     IDENT     PROBA\n",
            "473080    3459660160002552  0.395492\n",
            "252445    1253310050065321  0.395492\n",
            "979346    8522320360028695  0.395492\n",
            "979344    8522300360028693  0.395492\n",
            "1137579  10104650370026928  0.395492\n",
            "...                    ...       ...\n",
            "415250    2881360130035415  0.503694\n",
            "415249    2881350130035414  0.503694\n",
            "415248    2881340130035413  0.503694\n",
            "415227    2881130130035392  0.503694\n",
            "1219998  10928840370109347  0.503694\n",
            "\n",
            "[1219999 rows x 2 columns]\n",
            "0.503694    1171011\n",
            "0.395492      48988\n",
            "Name: PROBA, dtype: int64\n"
          ],
          "name": "stdout"
        },
        {
          "output_type": "error",
          "ename": "ValueError",
          "evalue": "ignored",
          "traceback": [
            "\u001b[0;31m---------------------------------------------------------------------------\u001b[0m",
            "\u001b[0;31mValueError\u001b[0m                                Traceback (most recent call last)",
            "\u001b[0;32m<ipython-input-24-6a9a4b28e031>\u001b[0m in \u001b[0;36m<module>\u001b[0;34m()\u001b[0m\n\u001b[0;32m----> 1\u001b[0;31m \u001b[0mquarantiles\u001b[0m\u001b[0;34m(\u001b[0m\u001b[0mmodel\u001b[0m\u001b[0;34m=\u001b[0m\u001b[0mfinal_model_DecisionTreeClassifier\u001b[0m\u001b[0;34m,\u001b[0m \u001b[0mdata_orig\u001b[0m \u001b[0;34m=\u001b[0m \u001b[0mdata_var_qualitatives_temp\u001b[0m\u001b[0;34m,\u001b[0m \u001b[0maffichage\u001b[0m\u001b[0;34m=\u001b[0m\u001b[0;32mTrue\u001b[0m\u001b[0;34m,\u001b[0m \u001b[0msave\u001b[0m\u001b[0;34m=\u001b[0m\u001b[0;32mFalse\u001b[0m\u001b[0;34m,\u001b[0m \u001b[0mpath\u001b[0m \u001b[0;34m=\u001b[0m \u001b[0;34m\"/content/drive/MyDrive/spad_score_method_1/sans_tranche_DecisionTreeClassifier.xlsx\"\u001b[0m\u001b[0;34m)\u001b[0m\u001b[0;34m\u001b[0m\u001b[0;34m\u001b[0m\u001b[0m\n\u001b[0m",
            "\u001b[0;32m<ipython-input-17-742ef7d51da4>\u001b[0m in \u001b[0;36mquarantiles\u001b[0;34m(model, data_orig, affichage, save, path)\u001b[0m\n\u001b[1;32m     93\u001b[0m \u001b[0;34m\u001b[0m\u001b[0m\n\u001b[1;32m     94\u001b[0m     \u001b[0;31m# quarantiles\u001b[0m\u001b[0;34m\u001b[0m\u001b[0;34m\u001b[0m\u001b[0;34m\u001b[0m\u001b[0m\n\u001b[0;32m---> 95\u001b[0;31m     \u001b[0mdf_temp\u001b[0m \u001b[0;34m=\u001b[0m\u001b[0mpd\u001b[0m\u001b[0;34m.\u001b[0m\u001b[0mDataFrame\u001b[0m\u001b[0;34m(\u001b[0m \u001b[0mpd\u001b[0m\u001b[0;34m.\u001b[0m\u001b[0mqcut\u001b[0m\u001b[0;34m(\u001b[0m\u001b[0mdf_tous\u001b[0m\u001b[0;34m[\u001b[0m\u001b[0;34m'PROBA'\u001b[0m\u001b[0;34m]\u001b[0m\u001b[0;34m,\u001b[0m\u001b[0mq\u001b[0m\u001b[0;34m=\u001b[0m \u001b[0;36m20\u001b[0m\u001b[0;34m)\u001b[0m  \u001b[0;34m)\u001b[0m\u001b[0;34m\u001b[0m\u001b[0;34m\u001b[0m\u001b[0m\n\u001b[0m\u001b[1;32m     96\u001b[0m     \u001b[0mprint\u001b[0m\u001b[0;34m(\u001b[0m\u001b[0mdf_temp\u001b[0m\u001b[0;34m)\u001b[0m\u001b[0;34m\u001b[0m\u001b[0;34m\u001b[0m\u001b[0m\n\u001b[1;32m     97\u001b[0m \u001b[0;34m\u001b[0m\u001b[0m\n",
            "\u001b[0;32m/usr/local/lib/python3.7/dist-packages/pandas/core/reshape/tile.py\u001b[0m in \u001b[0;36mqcut\u001b[0;34m(x, q, labels, retbins, precision, duplicates)\u001b[0m\n\u001b[1;32m    365\u001b[0m         \u001b[0minclude_lowest\u001b[0m\u001b[0;34m=\u001b[0m\u001b[0;32mTrue\u001b[0m\u001b[0;34m,\u001b[0m\u001b[0;34m\u001b[0m\u001b[0;34m\u001b[0m\u001b[0m\n\u001b[1;32m    366\u001b[0m         \u001b[0mdtype\u001b[0m\u001b[0;34m=\u001b[0m\u001b[0mdtype\u001b[0m\u001b[0;34m,\u001b[0m\u001b[0;34m\u001b[0m\u001b[0;34m\u001b[0m\u001b[0m\n\u001b[0;32m--> 367\u001b[0;31m         \u001b[0mduplicates\u001b[0m\u001b[0;34m=\u001b[0m\u001b[0mduplicates\u001b[0m\u001b[0;34m,\u001b[0m\u001b[0;34m\u001b[0m\u001b[0;34m\u001b[0m\u001b[0m\n\u001b[0m\u001b[1;32m    368\u001b[0m     )\n\u001b[1;32m    369\u001b[0m \u001b[0;34m\u001b[0m\u001b[0m\n",
            "\u001b[0;32m/usr/local/lib/python3.7/dist-packages/pandas/core/reshape/tile.py\u001b[0m in \u001b[0;36m_bins_to_cuts\u001b[0;34m(x, bins, right, labels, precision, include_lowest, dtype, duplicates, ordered)\u001b[0m\n\u001b[1;32m    400\u001b[0m         \u001b[0;32mif\u001b[0m \u001b[0mduplicates\u001b[0m \u001b[0;34m==\u001b[0m \u001b[0;34m\"raise\"\u001b[0m\u001b[0;34m:\u001b[0m\u001b[0;34m\u001b[0m\u001b[0;34m\u001b[0m\u001b[0m\n\u001b[1;32m    401\u001b[0m             raise ValueError(\n\u001b[0;32m--> 402\u001b[0;31m                 \u001b[0;34mf\"Bin edges must be unique: {repr(bins)}.\\n\"\u001b[0m\u001b[0;34m\u001b[0m\u001b[0;34m\u001b[0m\u001b[0m\n\u001b[0m\u001b[1;32m    403\u001b[0m                 \u001b[0;34mf\"You can drop duplicate edges by setting the 'duplicates' kwarg\"\u001b[0m\u001b[0;34m\u001b[0m\u001b[0;34m\u001b[0m\u001b[0m\n\u001b[1;32m    404\u001b[0m             )\n",
            "\u001b[0;31mValueError\u001b[0m: Bin edges must be unique: array([0.39549156, 0.5036936 , 0.5036936 , 0.5036936 , 0.5036936 ,\n       0.5036936 , 0.5036936 , 0.5036936 , 0.5036936 , 0.5036936 ,\n       0.5036936 , 0.5036936 , 0.5036936 , 0.5036936 , 0.5036936 ,\n       0.5036936 , 0.5036936 , 0.5036936 , 0.5036936 , 0.5036936 ,\n       0.5036936 ]).\nYou can drop duplicate edges by setting the 'duplicates' kwarg"
          ]
        }
      ]
    },
    {
      "cell_type": "code",
      "metadata": {
        "colab": {
          "base_uri": "https://localhost:8080/"
        },
        "id": "ztkYTw2lKfrN",
        "outputId": "a4bfd407-5174-44b2-d31a-beb4fee6f792"
      },
      "source": [
        "train_X_s.shape"
      ],
      "execution_count": null,
      "outputs": [
        {
          "output_type": "execute_result",
          "data": {
            "text/plain": [
              "(101692, 374)"
            ]
          },
          "metadata": {
            "tags": []
          },
          "execution_count": 18
        }
      ]
    },
    {
      "cell_type": "code",
      "metadata": {
        "colab": {
          "base_uri": "https://localhost:8080/"
        },
        "id": "JT4GplPeak4R",
        "outputId": "f14c29d5-59f6-404f-cc5c-07ac4fb7e4b4"
      },
      "source": [
        "np.sqrt(374)"
      ],
      "execution_count": null,
      "outputs": [
        {
          "output_type": "execute_result",
          "data": {
            "text/plain": [
              "19.339079605813716"
            ]
          },
          "metadata": {
            "tags": []
          },
          "execution_count": 19
        }
      ]
    },
    {
      "cell_type": "code",
      "metadata": {
        "colab": {
          "base_uri": "https://localhost:8080/"
        },
        "id": "16GnZhtoasFp",
        "outputId": "5ef28dfb-72e0-4143-b4f9-27880f5a75a4"
      },
      "source": [
        "np.linspace(0.1, 1,5)"
      ],
      "execution_count": null,
      "outputs": [
        {
          "output_type": "execute_result",
          "data": {
            "text/plain": [
              "array([0.1  , 0.325, 0.55 , 0.775, 1.   ])"
            ]
          },
          "metadata": {
            "tags": []
          },
          "execution_count": 59
        }
      ]
    },
    {
      "cell_type": "code",
      "metadata": {
        "id": "oH3l33RFbgfm"
      },
      "source": [
        "0.05, 0.1, 0.4, 0.6, 0.8, 1"
      ],
      "execution_count": null,
      "outputs": []
    }
  ]
}