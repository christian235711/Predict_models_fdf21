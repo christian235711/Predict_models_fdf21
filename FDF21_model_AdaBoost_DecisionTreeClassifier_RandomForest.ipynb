{
  "nbformat": 4,
  "nbformat_minor": 0,
  "metadata": {
    "colab": {
      "name": "FDF21_model_AdaBoost_DecisionTreeClassifier_RandomForest.ipynb",
      "provenance": [],
      "collapsed_sections": [],
      "authorship_tag": "ABX9TyP3ji2FLwd4bkczsA7976Tl"
    },
    "kernelspec": {
      "display_name": "Python 3",
      "name": "python3"
    },
    "language_info": {
      "name": "python"
    }
  },
  "cells": [
    {
      "cell_type": "code",
      "metadata": {
        "colab": {
          "base_uri": "https://localhost:8080/"
        },
        "id": "uXwzY9aHJ83i",
        "outputId": "ec0a7ea7-55e4-443a-f577-8d6463a1a92e"
      },
      "source": [
        "import numpy as np\n",
        "import pandas as pd\n",
        "import seaborn as sns\n",
        "import matplotlib.pyplot as plt\n",
        "\n",
        "#!pip install fanalysis\n",
        "\n",
        "from sklearn.metrics import confusion_matrix\n",
        "\n",
        "from google.colab import drive\n",
        "drive.mount('/content/drive')"
      ],
      "execution_count": 1,
      "outputs": [
        {
          "output_type": "stream",
          "text": [
            "Mounted at /content/drive\n"
          ],
          "name": "stdout"
        }
      ]
    },
    {
      "cell_type": "code",
      "metadata": {
        "id": "QVPy76oFJ-HY"
      },
      "source": [
        "# les noms des variables\n",
        "\n",
        "colonnes =([\"IDENT\", \"TypeHabi\", \"GeoFaz_Scl\", \"GeoFaz_cl\", \"ImmoFaz_Scl\", \"ImmoFaz_cl\", \"Anciennete\",\n",
        "            \"Logement_prix_m2\", \"Mediane_RFR\", \"Sexe\", \"Prenom_Phase_scl_H\", \"Prenom_Phase_scl_F\",\n",
        "            \"Prenom_Phase_cl_H\", \"Prenom_Phase_cl_F\", \"Age_H\", \"Age_F\", \"Affinite_1\", \"Affinite_2\",\n",
        "            \"Prenom_effectif\", \"Potentiel_prenom\", \"Onoma-Phase_Scl\", \"Onoma-Phase_CL\", \"Top_mon\"])"
      ],
      "execution_count": 2,
      "outputs": []
    },
    {
      "cell_type": "code",
      "metadata": {
        "id": "lmQPaeuMJ-J0"
      },
      "source": [
        "# importation du fichier (changer le chemin d'accès)\n",
        "''' Faites attention au type de fichier, au délimiteur des valeurs (ça doit être unique et non multiple),\n",
        "au header et à la lecture des types d'objets (low_memory) '''\n",
        "\n",
        "data_orig = pd.read_csv(\"/content/drive/MyDrive/spad_score_method_1/spad_projection_FDFTOT21/my_data_FDFTOT21.txt\", delim_whitespace=\"\\t\", header = None, names=colonnes, low_memory=False, )#, dtype='Int64')\n"
      ],
      "execution_count": 3,
      "outputs": []
    },
    {
      "cell_type": "code",
      "metadata": {
        "colab": {
          "base_uri": "https://localhost:8080/"
        },
        "id": "AuFzAId4KKZ_",
        "outputId": "8c284dfd-3b7b-435c-d37f-d3193143ac64"
      },
      "source": [
        "''' copie superficielle (peu profonde) du dataset original pour ne pas modifier les valeurs\n",
        "d'origine par erreur plus tard \n",
        "'''\n",
        "data = data_orig.copy()\n",
        "data.shape"
      ],
      "execution_count": 4,
      "outputs": [
        {
          "output_type": "execute_result",
          "data": {
            "text/plain": [
              "(1219999, 23)"
            ]
          },
          "metadata": {
            "tags": []
          },
          "execution_count": 4
        }
      ]
    },
    {
      "cell_type": "code",
      "metadata": {
        "colab": {
          "base_uri": "https://localhost:8080/",
          "height": 240
        },
        "id": "eCTsRwocJ-MF",
        "outputId": "9ef46b14-84af-49b3-fb74-82786100e225"
      },
      "source": [
        "# visualisation des premiers lignes\n",
        "data.head()"
      ],
      "execution_count": 5,
      "outputs": [
        {
          "output_type": "execute_result",
          "data": {
            "text/html": [
              "<div>\n",
              "<style scoped>\n",
              "    .dataframe tbody tr th:only-of-type {\n",
              "        vertical-align: middle;\n",
              "    }\n",
              "\n",
              "    .dataframe tbody tr th {\n",
              "        vertical-align: top;\n",
              "    }\n",
              "\n",
              "    .dataframe thead th {\n",
              "        text-align: right;\n",
              "    }\n",
              "</style>\n",
              "<table border=\"1\" class=\"dataframe\">\n",
              "  <thead>\n",
              "    <tr style=\"text-align: right;\">\n",
              "      <th></th>\n",
              "      <th>IDENT</th>\n",
              "      <th>TypeHabi</th>\n",
              "      <th>GeoFaz_Scl</th>\n",
              "      <th>GeoFaz_cl</th>\n",
              "      <th>ImmoFaz_Scl</th>\n",
              "      <th>ImmoFaz_cl</th>\n",
              "      <th>Anciennete</th>\n",
              "      <th>Logement_prix_m2</th>\n",
              "      <th>Mediane_RFR</th>\n",
              "      <th>Sexe</th>\n",
              "      <th>Prenom_Phase_scl_H</th>\n",
              "      <th>Prenom_Phase_scl_F</th>\n",
              "      <th>Prenom_Phase_cl_H</th>\n",
              "      <th>Prenom_Phase_cl_F</th>\n",
              "      <th>Age_H</th>\n",
              "      <th>Age_F</th>\n",
              "      <th>Affinite_1</th>\n",
              "      <th>Affinite_2</th>\n",
              "      <th>Prenom_effectif</th>\n",
              "      <th>Potentiel_prenom</th>\n",
              "      <th>Onoma-Phase_Scl</th>\n",
              "      <th>Onoma-Phase_CL</th>\n",
              "      <th>Top_mon</th>\n",
              "    </tr>\n",
              "  </thead>\n",
              "  <tbody>\n",
              "    <tr>\n",
              "      <th>0</th>\n",
              "      <td>10010000001</td>\n",
              "      <td>2</td>\n",
              "      <td>81</td>\n",
              "      <td>8</td>\n",
              "      <td>91</td>\n",
              "      <td>9</td>\n",
              "      <td>6</td>\n",
              "      <td>21</td>\n",
              "      <td>21</td>\n",
              "      <td>1</td>\n",
              "      <td>71</td>\n",
              "      <td>41</td>\n",
              "      <td>7</td>\n",
              "      <td>4</td>\n",
              "      <td>12</td>\n",
              "      <td>4</td>\n",
              "      <td>20</td>\n",
              "      <td>2</td>\n",
              "      <td>2</td>\n",
              "      <td>1</td>\n",
              "      <td>51</td>\n",
              "      <td>5</td>\n",
              "      <td>1.0</td>\n",
              "    </tr>\n",
              "    <tr>\n",
              "      <th>1</th>\n",
              "      <td>20010000006</td>\n",
              "      <td>1</td>\n",
              "      <td>75</td>\n",
              "      <td>7</td>\n",
              "      <td>43</td>\n",
              "      <td>4</td>\n",
              "      <td>6</td>\n",
              "      <td>6</td>\n",
              "      <td>13</td>\n",
              "      <td>2</td>\n",
              "      <td>71</td>\n",
              "      <td>64</td>\n",
              "      <td>7</td>\n",
              "      <td>6</td>\n",
              "      <td>12</td>\n",
              "      <td>9</td>\n",
              "      <td>4</td>\n",
              "      <td>12</td>\n",
              "      <td>4</td>\n",
              "      <td>13</td>\n",
              "      <td>12</td>\n",
              "      <td>1</td>\n",
              "      <td>1.0</td>\n",
              "    </tr>\n",
              "    <tr>\n",
              "      <th>2</th>\n",
              "      <td>30010000011</td>\n",
              "      <td>1</td>\n",
              "      <td>76</td>\n",
              "      <td>7</td>\n",
              "      <td>43</td>\n",
              "      <td>4</td>\n",
              "      <td>6</td>\n",
              "      <td>6</td>\n",
              "      <td>16</td>\n",
              "      <td>3</td>\n",
              "      <td>54</td>\n",
              "      <td>81</td>\n",
              "      <td>5</td>\n",
              "      <td>8</td>\n",
              "      <td>7</td>\n",
              "      <td>12</td>\n",
              "      <td>6</td>\n",
              "      <td>6</td>\n",
              "      <td>4</td>\n",
              "      <td>18</td>\n",
              "      <td>36</td>\n",
              "      <td>3</td>\n",
              "      <td>2.0</td>\n",
              "    </tr>\n",
              "    <tr>\n",
              "      <th>3</th>\n",
              "      <td>40010000013</td>\n",
              "      <td>3</td>\n",
              "      <td>75</td>\n",
              "      <td>7</td>\n",
              "      <td>43</td>\n",
              "      <td>4</td>\n",
              "      <td>4</td>\n",
              "      <td>6</td>\n",
              "      <td>13</td>\n",
              "      <td>1</td>\n",
              "      <td>71</td>\n",
              "      <td>36</td>\n",
              "      <td>7</td>\n",
              "      <td>3</td>\n",
              "      <td>12</td>\n",
              "      <td>11</td>\n",
              "      <td>11</td>\n",
              "      <td>19</td>\n",
              "      <td>4</td>\n",
              "      <td>6</td>\n",
              "      <td>21</td>\n",
              "      <td>2</td>\n",
              "      <td>1.0</td>\n",
              "    </tr>\n",
              "    <tr>\n",
              "      <th>4</th>\n",
              "      <td>50010000015</td>\n",
              "      <td>2</td>\n",
              "      <td>33</td>\n",
              "      <td>3</td>\n",
              "      <td>44</td>\n",
              "      <td>4</td>\n",
              "      <td>6</td>\n",
              "      <td>7</td>\n",
              "      <td>12</td>\n",
              "      <td>1</td>\n",
              "      <td>71</td>\n",
              "      <td>42</td>\n",
              "      <td>7</td>\n",
              "      <td>4</td>\n",
              "      <td>12</td>\n",
              "      <td>5</td>\n",
              "      <td>14</td>\n",
              "      <td>3</td>\n",
              "      <td>3</td>\n",
              "      <td>1</td>\n",
              "      <td>14</td>\n",
              "      <td>1</td>\n",
              "      <td>2.0</td>\n",
              "    </tr>\n",
              "  </tbody>\n",
              "</table>\n",
              "</div>"
            ],
            "text/plain": [
              "         IDENT  TypeHabi  GeoFaz_Scl  ...  Onoma-Phase_Scl  Onoma-Phase_CL  Top_mon\n",
              "0  10010000001         2          81  ...               51               5      1.0\n",
              "1  20010000006         1          75  ...               12               1      1.0\n",
              "2  30010000011         1          76  ...               36               3      2.0\n",
              "3  40010000013         3          75  ...               21               2      1.0\n",
              "4  50010000015         2          33  ...               14               1      2.0\n",
              "\n",
              "[5 rows x 23 columns]"
            ]
          },
          "metadata": {
            "tags": []
          },
          "execution_count": 5
        }
      ]
    },
    {
      "cell_type": "code",
      "metadata": {
        "id": "HMG7Zbw4Ku9R"
      },
      "source": [
        "#nombre de modalités de chaque variables (dans un dataframe)\n",
        "def nombre_mod(data2):\n",
        "    #création d'un dataframe vide\n",
        "    dff= pd.DataFrame(columns=[\"VARIABLE\",\"NOMBRE_MOD\", \"NOMBRE_MOD_SANS_NA\"])\n",
        "    for i in range(data2.shape[1]): # sans compter les valeurs manquantes\n",
        "        taille =len(data2.iloc[:,i].value_counts(dropna=False))\n",
        "        taille_1 = len(data2.iloc[:,i].value_counts(dropna=True) )\n",
        "        dff=dff.append({\"VARIABLE\": colonnes[i],\"NOMBRE_MOD\":taille, \"NOMBRE_MOD_SANS_NA\":taille_1 }, ignore_index=True)\n",
        "    return dff\n",
        "\n",
        "# sélection des corrélations les plus importantes\n",
        "def variables_corr(tableau_corr, seuil):\n",
        "    colonnes = tableau_corr.columns\n",
        "    val_temp = 0 \n",
        "    variables_corr_pos=[] ; variables_corr_pos_val=[]\n",
        "    variables_corr_neg=[] ; variables_corr_neg_val=[]\n",
        "    for i in range(tableau_corr.shape[0]):  \n",
        "        for j in range(tableau_corr.shape[0]):\n",
        "            if i<j: #i!=j:\n",
        "                if (tableau_corr.iloc[i,j] > seuil):\n",
        "                    variables_corr_pos.append(colonnes[j])\n",
        "                    variables_corr_pos_val.append(round( tableau_corr.iloc[i,j], 2))\n",
        "                    val_temp += 1\n",
        "\n",
        "                if (tableau_corr.iloc[i,j] <-seuil):\n",
        "                    variables_corr_neg.append(colonnes[j])\n",
        "                    variables_corr_neg_val.append(round( tableau_corr.iloc[i,j], 2))\n",
        "                    val_temp += 1\n",
        "\n",
        "        if (len(variables_corr_pos) > 0) | (len(variables_corr_neg) >0) :\n",
        "            print(\"variable : \", colonnes[i])\n",
        "            if len(variables_corr_pos) > 0:    \n",
        "                print(\"corr pos\", variables_corr_pos)\n",
        "                print(\"corr pos\", variables_corr_pos_val)\n",
        "                val_temp += 1\n",
        "\n",
        "            if len(variables_corr_neg) >0:  \n",
        "                print(\"corr neg\", variables_corr_neg)\n",
        "                print(\"corr neg\", variables_corr_neg_val)\n",
        "                val_temp += 1\n",
        "            print(\"\")\n",
        "        variables_corr_pos = variables_corr_pos*0\n",
        "        variables_corr_neg = variables_corr_pos*0\n",
        "\n",
        "        variables_corr_pos_val = variables_corr_pos_val*0\n",
        "        variables_corr_neg_val = variables_corr_pos_val*0\n",
        "    if val_temp == 0:\n",
        "        print(\"IL N'Y A PAS DE CORRELATION ENTRE LES VARIABLES PAR RAPPORT AU SEUIL PRIS\")\n",
        "        \n",
        "\n",
        "def evaluation(model, X_train, y_train, X_test, y_test, scoring, plot):\n",
        "\n",
        "    model.fit(X_train, y_train)\n",
        "    y_pred = model.predict(X_test)\n",
        "    \n",
        "    print(\"test set : \")\n",
        "    print(confusion_matrix(y_test, y_pred))\n",
        "    print(classification_report(y_test, y_pred)) \n",
        "    print(\"train set : \")\n",
        "    print(confusion_matrix(y_train, model.predict(X_train)))  \n",
        "    print(classification_report(y_train, model.predict(X_train) ))\n",
        "\n",
        "    if plot == True:\n",
        "        N, train_score, val_score = learning_curve(model, X_train, y_train, shuffle=True, cv = 4, scoring = scoring, train_sizes = np.linspace(0.1, 1, 6) )\n",
        "\n",
        "        plt.figure(figsize = (10,6))\n",
        "        plt.plot(N, train_score.mean(axis=1), label =\"train_score\")\n",
        "        plt.plot(N, val_score.mean(axis=1), label =\"cross_validation_score\")\n",
        "        plt.legend()\n",
        "    else :\n",
        "        print(\"GRAPHIQUE NON DEMANDE\")\n",
        "\n",
        "# Comme il n'y a pas de valeurs manquantes (à la place il y a un nombre), le seul traitement qu'on fait c'est tranformer\n",
        "# le type de variable (les variables continues deviennent qualitatives)\n",
        "def data_processing(df):\n",
        "    \"\"\" \n",
        "    for i in range(0,len(df.columns)):    \n",
        "        df[df.columns[i]].fillna(100.0, inplace=True) #On remplace les données manquantes par 100\n",
        "    for i in range(0,len(df.columns)):\n",
        "        print(df[df.columns[i]].value_counts(dropna=False))    \n",
        "    \"\"\"\n",
        "    \n",
        "   #Transformation de toutes les variables en facteurs         \n",
        "    for i in range(0,len(df.columns)):\n",
        "        df[df.columns[i]] = df[df.columns[i]].astype('category')\n",
        "    return df.to_numpy() #.as_matrix()\n",
        "\n",
        "\n",
        "def vingtiles(model, data_orig, affichage, save, path):\n",
        "    # position de la dernière variable explicative dans le dataset\n",
        "    nb_var = data_orig.shape[1]-1\n",
        "\n",
        "    # predict sur tous les individus (avec et sans classe IFI+)\n",
        "    tous_probas = model.predict_proba(data_orig.iloc[:,1:nb_var])\n",
        "    df_tous = pd.DataFrame({'IDENT': data_orig.iloc[:,0] , 'PROBA': tous_probas[:,0] })\n",
        "    #df_tous\n",
        "    \n",
        "    # valeurs ordonnées pour diviser après\n",
        "    df_tous=df_tous.sort_values(by='PROBA', ascending=True)\n",
        "    #df_tous\n",
        "    print(df_tous)\n",
        "    \n",
        "    #vérification\n",
        "    print(df_tous['PROBA'].value_counts())\n",
        "\n",
        "    # quarantiles\n",
        "    df_temp =pd.DataFrame( pd.qcut(df_tous['PROBA'],q= 20)  )\n",
        "    print(df_temp)\n",
        "\n",
        "    # ajout par index (IMPORTANTE)\n",
        "    df_tous[\"TRANCHES\"]=pd.DataFrame(df_temp.iloc[:,0].to_numpy(),index= df_temp.index)\n",
        "    #print(df_tous)\n",
        "    \n",
        "    # pour la colonne Top_mon :\n",
        "    # remplissage de la dernière colonne par 2 (VALABLE QUE POUR CE DATA, MODIFIER POUR D'AUTRES)\n",
        "    data_temp_t = data_orig.copy()\n",
        "    # remplacement\n",
        "    data_temp_t[\"Top_mon\"] =  data_temp_t[\"Top_mon\"].replace(1.0,'1')\n",
        "    data_temp_t[\"Top_mon\"] =  data_temp_t[\"Top_mon\"].replace(2.0,'2')\n",
        "    data_all_complet_class = data_temp_t.fillna('2')\n",
        "    #data_all_complet_class\n",
        "\n",
        "    # jointure\n",
        "    ident_class_tous = data_all_complet_class[[\"IDENT\",\"Top_mon\"]]\n",
        "    tableau_resultats = pd.merge(df_tous,ident_class_tous)\n",
        "    #tableau_resultats\n",
        "\n",
        "    # tranches finales\n",
        "    tab_cross_temp = pd.crosstab(tableau_resultats[\"TRANCHES\"],tableau_resultats[\"Top_mon\"])\n",
        "    #print(tab_cross_temp); print(\"-----------------------\")\n",
        "\n",
        "    # création d'une colonne total\n",
        "    tab_cross_temp[\"TOTAL\"]=tab_cross_temp[\"1\"]+tab_cross_temp[\"2\"]\n",
        "    \n",
        "    # affichage\n",
        "    if affichage ==True:        \n",
        "        print(tab_cross_temp)\n",
        "\n",
        "    # création du tableau final en éliminant la colonne 2\n",
        "    #tab_pour_excel = tab_cross_temp.drop([\"2\"], axis=1)\n",
        "\n",
        "    # si on ne veut pas éliminer la colonne 2\n",
        "    tab_pour_excel =  tab_cross_temp\n",
        "    \n",
        "    # enregistrement sous Excel\n",
        "    if save == True:\n",
        "        tab_pour_excel.to_excel(path)\n",
        "\n",
        "def vingtiles_ind_sans_target(model, data_orig, affichage, save, path):\n",
        "    # position de la dernière variable explicative dans le dataset\n",
        "    nb_var = data_orig.shape[1]-1\n",
        "\n",
        "    # predict sur tous les individus (avec et sans classe IFI+)\n",
        "    tous_probas = model.predict_proba(data_orig.iloc[:,1:nb_var])\n",
        "    df_tous = pd.DataFrame({'IDENT': data_orig.iloc[:,0] , 'PROBA': tous_probas[:,0] })\n",
        "    #df_tous\n",
        "    \n",
        "    # valeurs ordonnées pour diviser après\n",
        "    df_tous=df_tous.sort_values(by='PROBA', ascending=True)\n",
        "    #df_tous\n",
        "    print(df_tous)\n",
        "    \n",
        "    #vérification\n",
        "    print(df_tous['PROBA'].value_counts())\n",
        "\n",
        "    # quarantiles\n",
        "    df_temp =pd.DataFrame( pd.qcut(df_tous['PROBA'],q= 20)  )\n",
        "    print(df_temp)\n",
        "\n",
        "    # ajout par index (IMPORTANTE)\n",
        "    df_tous[\"TRANCHES\"]=pd.DataFrame(df_temp.iloc[:,0].to_numpy(),index= df_temp.index)\n",
        "    print(df_tous)\n",
        "    print(df_tous[\"TRANCHES\"].value_counts(ascending = True))\n",
        "\n",
        "    # GERE L'ORDRE\n",
        "    patra = np.unique(df_tous.iloc[:,2], return_counts=True)\n",
        "    df_tranches_sans_target = pd.DataFrame([patra[0],patra[1]]).T\n",
        "    df_tranches_sans_target.columns=[\"TRANCHES\",\"COUNTS\"]\n",
        "\n",
        "    # affichage\n",
        "    if affichage ==True:        \n",
        "        print(df_tranches_sans_target)\n",
        "    \n",
        "    # enregistrement sous Excel\n",
        "    if save == True:\n",
        "        df_tranches_sans_target.to_excel(path)\n",
        "    \n",
        "\n",
        "# élimination des variables trop corrélées (choix manuel)\n",
        "def elimination_val_corr(data):\n",
        "    data = data.drop(columns=[\"\"])\n",
        "    return data\n",
        "          \n",
        "        \n"
      ],
      "execution_count": 6,
      "outputs": []
    },
    {
      "cell_type": "code",
      "metadata": {
        "id": "VrNwSeGoLu4z"
      },
      "source": [
        ""
      ],
      "execution_count": 6,
      "outputs": []
    },
    {
      "cell_type": "code",
      "metadata": {
        "id": "I-YPAloELNpw"
      },
      "source": [
        "from sklearn.model_selection import train_test_split\n",
        "from sklearn.preprocessing import OneHotEncoder\n",
        "\n",
        "from sklearn.tree import DecisionTreeClassifier, plot_tree\n",
        "from sklearn.ensemble import RandomForestClassifier, BaggingClassifier, AdaBoostClassifier, GradientBoostingClassifier\n",
        "\n",
        "from sklearn.metrics import f1_score, confusion_matrix, classification_report\n",
        "from sklearn.model_selection import learning_curve, GridSearchCV"
      ],
      "execution_count": 7,
      "outputs": []
    },
    {
      "cell_type": "code",
      "metadata": {
        "id": "nzA3GnjILNsT"
      },
      "source": [
        "####################################################################################\n",
        "#                            MODELE 1 : BOOSTING\n",
        "####################################################################################"
      ],
      "execution_count": null,
      "outputs": []
    },
    {
      "cell_type": "code",
      "metadata": {
        "id": "oJZmK3A1hFjN"
      },
      "source": [
        "####################   SANS LES VARIABLES CORR ET ENCODAGE DUMMIES        ###########################"
      ],
      "execution_count": null,
      "outputs": []
    },
    {
      "cell_type": "code",
      "metadata": {
        "colab": {
          "base_uri": "https://localhost:8080/"
        },
        "id": "Ayz77hrtHzrW",
        "outputId": "d626c123-f670-49ad-9a45-861733997ea4"
      },
      "source": [
        "# test predict individus sans classe\n",
        "data = data_orig.copy()\n",
        "\n",
        "# on élimine les variables dons\n",
        "data=data.drop([\"GeoFaz_cl\", \"ImmoFaz_Scl\", \"ImmoFaz_cl\", \"Prenom_Phase_cl_H\", \"Prenom_Phase_cl_F\",\"Onoma-Phase_Scl\",\n",
        "                \"Onoma-Phase_CL\"],axis=1)\n",
        "\n",
        "# encodage Onehot sur toutes les données (on évite ainsi les erreurs futures)\n",
        "nb_var = data.shape[1] - 1\n",
        "data_1_22 = pd.get_dummies(data.iloc[:,1:(data.shape[1]-1)], columns=data.columns[1:(data.shape[1]-1)] )\n",
        "data_var_qualitatives_temp =  pd.concat([data[\"IDENT\"], data_1_22, data[\"Top_mon\"]], axis=1)\n",
        "data = data_var_qualitatives_temp\n",
        "#encodage = OneHotEncoder()\n",
        "#encodage.fit(data_processing(data.iloc[:,1:nb_var]))\n",
        "\n",
        "# élimination des individus n'ayant pas de valeur pour la varialbe IFI+\n",
        "\"\"\"IMPORTANT\"\"\"\n",
        "data_sans_nan = data[(data.isnull()).sum(axis=1) == 0]\n",
        "\n",
        "#conversion du type de variable\n",
        "for i in range(1,data_sans_nan.shape[1]):\n",
        "    data_sans_nan.iloc[:,i]=data_sans_nan.iloc[:,i].astype(int)\n",
        "\n",
        "# base de données avec des variables corrélées et avec encodage OneHot\n",
        "data =data_sans_nan\n",
        "\n",
        "nb_var = data.shape[1] - 1\n",
        "train_set, test_set = train_test_split(data, test_size = 0.2, random_state=0 )\n",
        "\n",
        "train_X_s = (train_set.iloc[:,1:nb_var]).to_numpy()\n",
        "train_Y_s = np.asanyarray(train_set.iloc[:,nb_var])\n",
        "\n",
        "test_X_s = (test_set.iloc[:,1:nb_var]).to_numpy()\n",
        "test_Y_s = np.asanyarray(test_set.iloc[:,nb_var])\n"
      ],
      "execution_count": 8,
      "outputs": [
        {
          "output_type": "stream",
          "text": [
            "/usr/local/lib/python3.7/dist-packages/pandas/core/indexing.py:1743: SettingWithCopyWarning: \n",
            "A value is trying to be set on a copy of a slice from a DataFrame.\n",
            "Try using .loc[row_indexer,col_indexer] = value instead\n",
            "\n",
            "See the caveats in the documentation: https://pandas.pydata.org/pandas-docs/stable/user_guide/indexing.html#returning-a-view-versus-a-copy\n",
            "  isetter(ilocs[0], value)\n"
          ],
          "name": "stderr"
        }
      ]
    },
    {
      "cell_type": "code",
      "metadata": {
        "colab": {
          "base_uri": "https://localhost:8080/"
        },
        "id": "6uT19lFGHzw1",
        "outputId": "28bd5d24-a0c8-4101-e69b-9fe4d0d0e448"
      },
      "source": [
        "model_AdaBoost = AdaBoostClassifier(base_estimator=DecisionTreeClassifier(class_weight = \"balanced\"), random_state =0 )\n",
        "param = {'base_estimator__criterion': ['gini','entropy'], 'base_estimator__max_depth' : list(range(2,20, 2)), 'n_estimators' : [20, 50] }\n",
        "\n",
        "grid_AdaBoost = GridSearchCV(model_AdaBoost, param, cv = 4, scoring = \"recall\")\n",
        "resultat_grid_AdaBoost = grid_AdaBoost.fit(train_X_s, train_Y_s)\n",
        "resultat_grid_AdaBoost.best_params_\n",
        "#model_AdaBoost.get_params\n"
      ],
      "execution_count": null,
      "outputs": [
        {
          "output_type": "execute_result",
          "data": {
            "text/plain": [
              "{'base_estimator__criterion': 'entropy',\n",
              " 'base_estimator__max_depth': 2,\n",
              " 'n_estimators': 50}"
            ]
          },
          "metadata": {
            "tags": []
          },
          "execution_count": 23
        }
      ]
    },
    {
      "cell_type": "code",
      "metadata": {
        "colab": {
          "base_uri": "https://localhost:8080/"
        },
        "id": "FUHacSWXHzyp",
        "outputId": "a1b7ccfa-f6f7-4018-b4cf-d4047a4dd113"
      },
      "source": [
        "final_model_AdaBoost = AdaBoostClassifier(base_estimator = DecisionTreeClassifier(class_weight=\"balanced\", criterion=\"entropy\",max_depth=2),n_estimators = 50 , random_state=0 ) \n",
        "evaluation(final_model_AdaBoost, train_X_s, train_Y_s, test_X_s, test_Y_s, scoring=\"recall\" , plot =False)"
      ],
      "execution_count": 9,
      "outputs": [
        {
          "output_type": "stream",
          "text": [
            "test set : \n",
            "[[ 2500  2179]\n",
            " [ 7424 13320]]\n",
            "              precision    recall  f1-score   support\n",
            "\n",
            "           1       0.25      0.53      0.34      4679\n",
            "           2       0.86      0.64      0.74     20744\n",
            "\n",
            "    accuracy                           0.62     25423\n",
            "   macro avg       0.56      0.59      0.54     25423\n",
            "weighted avg       0.75      0.62      0.66     25423\n",
            "\n",
            "train set : \n",
            "[[10335  8442]\n",
            " [28817 54098]]\n",
            "              precision    recall  f1-score   support\n",
            "\n",
            "           1       0.26      0.55      0.36     18777\n",
            "           2       0.87      0.65      0.74     82915\n",
            "\n",
            "    accuracy                           0.63    101692\n",
            "   macro avg       0.56      0.60      0.55    101692\n",
            "weighted avg       0.75      0.63      0.67    101692\n",
            "\n",
            "GRAPHIQUE NON DEMANDE\n"
          ],
          "name": "stdout"
        }
      ]
    },
    {
      "cell_type": "code",
      "metadata": {
        "colab": {
          "base_uri": "https://localhost:8080/"
        },
        "id": "LKm4jSqlhqKT",
        "outputId": "3ec95cb4-3e57-459d-a0b2-19012a1d0cdd"
      },
      "source": [
        "# TRAIN SET TEST SET\n",
        "vingtiles(model = final_model_AdaBoost, data_orig = data, affichage=True,\n",
        "            save=True, path = \"/content/drive/MyDrive/spad_score_method_1/spad_projection_FDFTOT21/Fichier_excel_vingtiles/train_test_Adaboost.xlsx\")"
      ],
      "execution_count": 13,
      "outputs": [
        {
          "output_type": "stream",
          "text": [
            "                   IDENT     PROBA\n",
            "42850    428510010357636  0.188269\n",
            "42851    428520010357636  0.188269\n",
            "46649    466500010360721  0.188479\n",
            "52456    524570010365731  0.189056\n",
            "38876    388770010350261  0.319804\n",
            "...                  ...       ...\n",
            "40877    408780010353089  0.671213\n",
            "99873    998740010413228  0.671858\n",
            "13620    136210010257604  0.672557\n",
            "107013  1070140010502776  0.674065\n",
            "111901  1119020010521403  0.676399\n",
            "\n",
            "[127115 rows x 2 columns]\n",
            "0.496489    515\n",
            "0.500127    352\n",
            "0.497421    275\n",
            "0.499830    240\n",
            "0.496207    236\n",
            "           ... \n",
            "0.493898      1\n",
            "0.494560      1\n",
            "0.499133      1\n",
            "0.500211      1\n",
            "0.496313      1\n",
            "Name: PROBA, Length: 54952, dtype: int64\n",
            "                   PROBA\n",
            "42850   (0.1882, 0.4959]\n",
            "42851   (0.1882, 0.4959]\n",
            "46649   (0.1882, 0.4959]\n",
            "52456   (0.1882, 0.4959]\n",
            "38876   (0.1882, 0.4959]\n",
            "...                  ...\n",
            "40877   (0.5045, 0.6764]\n",
            "99873   (0.5045, 0.6764]\n",
            "13620   (0.5045, 0.6764]\n",
            "107013  (0.5045, 0.6764]\n",
            "111901  (0.5045, 0.6764]\n",
            "\n",
            "[127115 rows x 1 columns]\n",
            "Top_mon              1     2  TOTAL\n",
            "TRANCHES                           \n",
            "(0.1882, 0.4959]   497  5859   6356\n",
            "(0.4959, 0.4966]   628  5739   6367\n",
            "(0.4966, 0.4971]   735  5610   6345\n",
            "(0.4971, 0.4975]   742  5633   6375\n",
            "(0.4975, 0.4978]   866  5470   6336\n",
            "(0.4978, 0.4982]   827  5529   6356\n",
            "(0.4982, 0.4985]   872  5483   6355\n",
            "(0.4985, 0.4988]   923  5433   6356\n",
            "(0.4988, 0.4991]   974  5384   6358\n",
            "(0.4991, 0.4994]   975  5383   6358\n",
            "(0.4994, 0.4997]  1108  5246   6354\n",
            "(0.4997, 0.4999]  1128  5225   6353\n",
            "(0.4999, 0.5002]  1147  5211   6358\n",
            "(0.5002, 0.5005]  1236  5117   6353\n",
            "(0.5005, 0.5009]  1300  5058   6358\n",
            "(0.5009, 0.5013]  1365  4990   6355\n",
            "(0.5013, 0.5019]  1544  4811   6355\n",
            "(0.5019, 0.5028]  1621  4734   6355\n",
            "(0.5028, 0.5045]  2042  4314   6356\n",
            "(0.5045, 0.6764]  2926  3430   6356\n"
          ],
          "name": "stdout"
        }
      ]
    },
    {
      "cell_type": "code",
      "metadata": {
        "colab": {
          "base_uri": "https://localhost:8080/"
        },
        "id": "BvNNKb0ndG7O",
        "outputId": "d63846e8-455d-41c3-a920-2be2262e9542"
      },
      "source": [
        "# INDIVIDUS SANS TARGET\n",
        "vingtiles_ind_sans_target(model = final_model_AdaBoost, data_orig= data_var_qualitatives_temp[(data_var_qualitatives_temp.isnull()).sum(axis=1) != 0], affichage=True,\n",
        "            save=True, path = \"/content/drive/MyDrive/spad_score_method_1/spad_projection_FDFTOT21/Fichier_excel_vingtiles/ind_sans_target_Adaboost.xlsx\")"
      ],
      "execution_count": 14,
      "outputs": [
        {
          "output_type": "stream",
          "text": [
            "                   IDENT     PROBA\n",
            "697350  5702360270002309  0.185851\n",
            "523877  3967630190012322  0.188269\n",
            "199093   719790050011969  0.188269\n",
            "374176  2470620120044331  0.188404\n",
            "199176   720620050012052  0.188479\n",
            "...                  ...       ...\n",
            "845045  7179310290004999  0.674267\n",
            "790884  6637700280075843  0.674267\n",
            "259411  1322970060002288  0.674309\n",
            "778120  6510060280063079  0.675774\n",
            "160223   331090020023107  0.676399\n",
            "\n",
            "[1092884 rows x 2 columns]\n",
            "0.496489    5889\n",
            "0.500127    2982\n",
            "0.497421    2844\n",
            "0.496207    2705\n",
            "0.497110    2411\n",
            "            ... \n",
            "0.502277       1\n",
            "0.499980       1\n",
            "0.503141       1\n",
            "0.494205       1\n",
            "0.500590       1\n",
            "Name: PROBA, Length: 277159, dtype: int64\n",
            "                                PROBA\n",
            "697350  (0.18580000000000002, 0.4959]\n",
            "523877  (0.18580000000000002, 0.4959]\n",
            "199093  (0.18580000000000002, 0.4959]\n",
            "374176  (0.18580000000000002, 0.4959]\n",
            "199176  (0.18580000000000002, 0.4959]\n",
            "...                               ...\n",
            "845045               (0.5054, 0.6764]\n",
            "790884               (0.5054, 0.6764]\n",
            "259411               (0.5054, 0.6764]\n",
            "778120               (0.5054, 0.6764]\n",
            "160223               (0.5054, 0.6764]\n",
            "\n",
            "[1092884 rows x 1 columns]\n",
            "                   IDENT     PROBA                       TRANCHES\n",
            "697350  5702360270002309  0.185851  (0.18580000000000002, 0.4959]\n",
            "523877  3967630190012322  0.188269  (0.18580000000000002, 0.4959]\n",
            "199093   719790050011969  0.188269  (0.18580000000000002, 0.4959]\n",
            "374176  2470620120044331  0.188404  (0.18580000000000002, 0.4959]\n",
            "199176   720620050012052  0.188479  (0.18580000000000002, 0.4959]\n",
            "...                  ...       ...                            ...\n",
            "845045  7179310290004999  0.674267               (0.5054, 0.6764]\n",
            "790884  6637700280075843  0.674267               (0.5054, 0.6764]\n",
            "259411  1322970060002288  0.674309               (0.5054, 0.6764]\n",
            "778120  6510060280063079  0.675774               (0.5054, 0.6764]\n",
            "160223   331090020023107  0.676399               (0.5054, 0.6764]\n",
            "\n",
            "[1092884 rows x 3 columns]\n",
            "(0.5005, 0.5008]                 54214\n",
            "(0.4959, 0.4966]                 54359\n",
            "(0.4992, 0.4995]                 54585\n",
            "(0.4998, 0.5002]                 54618\n",
            "(0.4974, 0.4977]                 54628\n",
            "(0.4985, 0.4988]                 54628\n",
            "(0.4981, 0.4985]                 54635\n",
            "(0.5012, 0.5018]                 54635\n",
            "(0.4966, 0.497]                  54639\n",
            "(0.5018, 0.5024]                 54641\n",
            "(0.5054, 0.6764]                 54643\n",
            "(0.5024, 0.5034]                 54645\n",
            "(0.5034, 0.5054]                 54645\n",
            "(0.4995, 0.4998]                 54650\n",
            "(0.5008, 0.5012]                 54650\n",
            "(0.497, 0.4974]                  54658\n",
            "(0.4977, 0.4981]                 54670\n",
            "(0.4988, 0.4992]                 54720\n",
            "(0.18580000000000002, 0.4959]    54943\n",
            "(0.5002, 0.5005]                 55078\n",
            "Name: TRANCHES, dtype: int64\n",
            "                         TRANCHES COUNTS\n",
            "0   (0.18580000000000002, 0.4959]  54943\n",
            "1                (0.4959, 0.4966]  54359\n",
            "2                 (0.4966, 0.497]  54639\n",
            "3                 (0.497, 0.4974]  54658\n",
            "4                (0.4974, 0.4977]  54628\n",
            "5                (0.4977, 0.4981]  54670\n",
            "6                (0.4981, 0.4985]  54635\n",
            "7                (0.4985, 0.4988]  54628\n",
            "8                (0.4988, 0.4992]  54720\n",
            "9                (0.4992, 0.4995]  54585\n",
            "10               (0.4995, 0.4998]  54650\n",
            "11               (0.4998, 0.5002]  54618\n",
            "12               (0.5002, 0.5005]  55078\n",
            "13               (0.5005, 0.5008]  54214\n",
            "14               (0.5008, 0.5012]  54650\n",
            "15               (0.5012, 0.5018]  54635\n",
            "16               (0.5018, 0.5024]  54641\n",
            "17               (0.5024, 0.5034]  54645\n",
            "18               (0.5034, 0.5054]  54645\n",
            "19               (0.5054, 0.6764]  54643\n"
          ],
          "name": "stdout"
        }
      ]
    },
    {
      "cell_type": "code",
      "metadata": {
        "id": "qsQSJ6dhhqRJ"
      },
      "source": [
        "#############################################################\n",
        "#                   MODELE 2 : RANDOM FOREST\n",
        "#############################################################"
      ],
      "execution_count": null,
      "outputs": []
    },
    {
      "cell_type": "code",
      "metadata": {
        "colab": {
          "base_uri": "https://localhost:8080/"
        },
        "id": "HBC-6OWNYvnm",
        "outputId": "e7b405fd-32d4-4b31-f23e-b3086a3b4963"
      },
      "source": [
        "model_RandomForestClassifier = RandomForestClassifier(class_weight=\"balanced\", random_state =0 )\n",
        "param = {'criterion': ['gini','entropy'], 'max_depth' : [2,3,4,5],\"max_features\":[8,12,15,20,25,30] ,'n_estimators' : [20,50,100,200] }\n",
        "\n",
        "grid_RandomForestClassifier = GridSearchCV(model_RandomForestClassifier, param, cv = 4, scoring = \"recall\", n_jobs=2)\n",
        "resultat_grid_RandomForestClassifier = grid_RandomForestClassifier.fit(train_X_s, train_Y_s)\n",
        "resultat_grid_RandomForestClassifier.best_params_\n"
      ],
      "execution_count": null,
      "outputs": [
        {
          "output_type": "execute_result",
          "data": {
            "text/plain": [
              "{'criterion': 'entropy',\n",
              " 'max_depth': 2,\n",
              " 'max_features': 25,\n",
              " 'n_estimators': 100}"
            ]
          },
          "metadata": {
            "tags": []
          },
          "execution_count": 15
        }
      ]
    },
    {
      "cell_type": "code",
      "metadata": {
        "colab": {
          "base_uri": "https://localhost:8080/"
        },
        "id": "n3i-NJ26zZsC",
        "outputId": "4a526d9e-7267-4e00-e92e-e21fda9827d3"
      },
      "source": [
        "final_model_RandomForestClassifier = RandomForestClassifier(class_weight=\"balanced\", criterion=\"entropy\", max_depth=2, max_features=25, n_estimators = 100, random_state=0) \n",
        "evaluation(final_model_RandomForestClassifier, train_X_s, train_Y_s, test_X_s, test_Y_s, scoring=\"recall\", plot=False)"
      ],
      "execution_count": 15,
      "outputs": [
        {
          "output_type": "stream",
          "text": [
            "test set : \n",
            "[[ 2941  1738]\n",
            " [10016 10728]]\n",
            "              precision    recall  f1-score   support\n",
            "\n",
            "           1       0.23      0.63      0.33      4679\n",
            "           2       0.86      0.52      0.65     20744\n",
            "\n",
            "    accuracy                           0.54     25423\n",
            "   macro avg       0.54      0.57      0.49     25423\n",
            "weighted avg       0.74      0.54      0.59     25423\n",
            "\n",
            "train set : \n",
            "[[11814  6963]\n",
            " [39906 43009]]\n",
            "              precision    recall  f1-score   support\n",
            "\n",
            "           1       0.23      0.63      0.34     18777\n",
            "           2       0.86      0.52      0.65     82915\n",
            "\n",
            "    accuracy                           0.54    101692\n",
            "   macro avg       0.54      0.57      0.49    101692\n",
            "weighted avg       0.74      0.54      0.59    101692\n",
            "\n",
            "GRAPHIQUE NON DEMANDE\n"
          ],
          "name": "stdout"
        }
      ]
    },
    {
      "cell_type": "code",
      "metadata": {
        "colab": {
          "base_uri": "https://localhost:8080/"
        },
        "id": "zHQtVH69zZvW",
        "outputId": "539a732f-62e7-4579-fe35-2b974a7a3122"
      },
      "source": [
        "# TRAIN SET TEST SET\n",
        "vingtiles(model = final_model_RandomForestClassifier, data_orig = data, affichage=True,\n",
        "            save=True, path = \"/content/drive/MyDrive/spad_score_method_1/spad_projection_FDFTOT21/Fichier_excel_vingtiles/train_test_Random_Forest.xlsx\")"
      ],
      "execution_count": 16,
      "outputs": [
        {
          "output_type": "stream",
          "text": [
            "                   IDENT     PROBA\n",
            "43772    437730010358349  0.440510\n",
            "31342    313430010341310  0.441143\n",
            "33170    331710010343385  0.441367\n",
            "82750    827510010397541  0.441367\n",
            "26831    268320010337388  0.441669\n",
            "...                  ...       ...\n",
            "70696    706970010380915  0.674459\n",
            "103441  1034420010416386  0.674459\n",
            "98139    981400010411310  0.674459\n",
            "43088    430890010357839  0.674459\n",
            "62409    624100010373476  0.674459\n",
            "\n",
            "[127115 rows x 2 columns]\n",
            "0.460333    6134\n",
            "0.512956    3196\n",
            "0.507179    2098\n",
            "0.460280    1994\n",
            "0.511672    1462\n",
            "            ... \n",
            "0.554860       1\n",
            "0.532087       1\n",
            "0.475308       1\n",
            "0.504877       1\n",
            "0.496743       1\n",
            "Name: PROBA, Length: 12404, dtype: int64\n",
            "                 PROBA\n",
            "43772    (0.44, 0.449]\n",
            "31342    (0.44, 0.449]\n",
            "33170    (0.44, 0.449]\n",
            "82750    (0.44, 0.449]\n",
            "26831    (0.44, 0.449]\n",
            "...                ...\n",
            "70696   (0.558, 0.674]\n",
            "103441  (0.558, 0.674]\n",
            "98139   (0.558, 0.674]\n",
            "43088   (0.558, 0.674]\n",
            "62409   (0.558, 0.674]\n",
            "\n",
            "[127115 rows x 1 columns]\n",
            "Top_mon            1     2  TOTAL\n",
            "TRANCHES                         \n",
            "(0.44, 0.449]    757  6119   6876\n",
            "(0.449, 0.453]   675  5234   5909\n",
            "(0.453, 0.459]   738  5615   6353\n",
            "(0.459, 0.46]   1339  8337   9676\n",
            "(0.46, 0.462]    359  2614   2973\n",
            "(0.462, 0.467]   896  5478   6374\n",
            "(0.467, 0.471]  1011  5328   6339\n",
            "(0.471, 0.479]   979  5380   6359\n",
            "(0.479, 0.485]  1015  5336   6351\n",
            "(0.485, 0.502]  1119  5266   6385\n",
            "(0.502, 0.506]  1082  5831   6913\n",
            "(0.506, 0.508]  1018  4750   5768\n",
            "(0.508, 0.511]  1164  5187   6351\n",
            "(0.511, 0.512]  1212  5141   6353\n",
            "(0.512, 0.513]  1274  5082   6356\n",
            "(0.513, 0.516]  1233  5137   6370\n",
            "(0.516, 0.519]  1403  4944   6347\n",
            "(0.519, 0.525]  1586  4873   6459\n",
            "(0.525, 0.558]  1881  4371   6252\n",
            "(0.558, 0.674]  2715  3636   6351\n"
          ],
          "name": "stdout"
        }
      ]
    },
    {
      "cell_type": "code",
      "metadata": {
        "id": "8jVj4rxxzZ1k",
        "colab": {
          "base_uri": "https://localhost:8080/"
        },
        "outputId": "9c5597b4-8871-4275-d779-98de881a6db2"
      },
      "source": [
        "# INDIVIDUS SANS TARGET\n",
        "vingtiles_ind_sans_target(model = final_model_RandomForestClassifier, data_orig= data_var_qualitatives_temp[(data_var_qualitatives_temp.isnull()).sum(axis=1) != 0], affichage=True,\n",
        "            save=True, path = \"/content/drive/MyDrive/spad_score_method_1/spad_projection_FDFTOT21/Fichier_excel_vingtiles/ind_sans_target_Random_Forest.xlsx\")"
      ],
      "execution_count": 17,
      "outputs": [
        {
          "output_type": "stream",
          "text": [
            "                     IDENT     PROBA\n",
            "804064    6769500280089023  0.440025\n",
            "284484    1573700080000656  0.440025\n",
            "806878    6797640280091837  0.440025\n",
            "610707    4835930220025126  0.440510\n",
            "637886    5107720230002864  0.440510\n",
            "...                    ...       ...\n",
            "1177925  10508110370067274  0.673465\n",
            "657368    5302540250002333  0.673465\n",
            "1145278  10181640370034627  0.673465\n",
            "1209981  10828670370099330  0.674459\n",
            "1180713  10535990370070062  0.674459\n",
            "\n",
            "[1092884 rows x 2 columns]\n",
            "0.460333    56613\n",
            "0.512956    33789\n",
            "0.460280    16712\n",
            "0.511672    15412\n",
            "0.469914    14246\n",
            "            ...  \n",
            "0.522698        1\n",
            "0.488675        1\n",
            "0.519637        1\n",
            "0.569254        1\n",
            "0.477253        1\n",
            "Name: PROBA, Length: 36105, dtype: int64\n",
            "                      PROBA\n",
            "804064   (0.44001, 0.44838]\n",
            "284484   (0.44001, 0.44838]\n",
            "806878   (0.44001, 0.44838]\n",
            "610707   (0.44001, 0.44838]\n",
            "637886   (0.44001, 0.44838]\n",
            "...                     ...\n",
            "1177925  (0.56207, 0.67446]\n",
            "657368   (0.56207, 0.67446]\n",
            "1145278  (0.56207, 0.67446]\n",
            "1209981  (0.56207, 0.67446]\n",
            "1180713  (0.56207, 0.67446]\n",
            "\n",
            "[1092884 rows x 1 columns]\n",
            "                     IDENT     PROBA            TRANCHES\n",
            "804064    6769500280089023  0.440025  (0.44001, 0.44838]\n",
            "284484    1573700080000656  0.440025  (0.44001, 0.44838]\n",
            "806878    6797640280091837  0.440025  (0.44001, 0.44838]\n",
            "610707    4835930220025126  0.440510  (0.44001, 0.44838]\n",
            "637886    5107720230002864  0.440510  (0.44001, 0.44838]\n",
            "...                    ...       ...                 ...\n",
            "1177925  10508110370067274  0.673465  (0.56207, 0.67446]\n",
            "657368    5302540250002333  0.673465  (0.56207, 0.67446]\n",
            "1145278  10181640370034627  0.673465  (0.56207, 0.67446]\n",
            "1209981  10828670370099330  0.674459  (0.56207, 0.67446]\n",
            "1180713  10535990370070062  0.674459  (0.56207, 0.67446]\n",
            "\n",
            "[1092884 rows x 3 columns]\n",
            "(0.51296, 0.51465]    32470\n",
            "(0.46033, 0.46416]    47180\n",
            "(0.51465, 0.51728]    50492\n",
            "(0.45066, 0.45832]    52619\n",
            "(0.5059, 0.51043]     53072\n",
            "(0.52058, 0.52884]    53079\n",
            "(0.46944, 0.47369]    53929\n",
            "(0.47369, 0.48118]    54563\n",
            "(0.52884, 0.56207]    54640\n",
            "(0.56207, 0.67446]    54645\n",
            "(0.48118, 0.49302]    54665\n",
            "(0.46416, 0.46944]    54912\n",
            "(0.44838, 0.45066]    54973\n",
            "(0.51728, 0.52058]    56206\n",
            "(0.49302, 0.5059]     56277\n",
            "(0.44001, 0.44838]    56459\n",
            "(0.46028, 0.46033]    56782\n",
            "(0.45832, 0.46028]    60381\n",
            "(0.51043, 0.51167]    60400\n",
            "(0.51167, 0.51296]    75140\n",
            "Name: TRANCHES, dtype: int64\n",
            "              TRANCHES COUNTS\n",
            "0   (0.44001, 0.44838]  56459\n",
            "1   (0.44838, 0.45066]  54973\n",
            "2   (0.45066, 0.45832]  52619\n",
            "3   (0.45832, 0.46028]  60381\n",
            "4   (0.46028, 0.46033]  56782\n",
            "5   (0.46033, 0.46416]  47180\n",
            "6   (0.46416, 0.46944]  54912\n",
            "7   (0.46944, 0.47369]  53929\n",
            "8   (0.47369, 0.48118]  54563\n",
            "9   (0.48118, 0.49302]  54665\n",
            "10   (0.49302, 0.5059]  56277\n",
            "11   (0.5059, 0.51043]  53072\n",
            "12  (0.51043, 0.51167]  60400\n",
            "13  (0.51167, 0.51296]  75140\n",
            "14  (0.51296, 0.51465]  32470\n",
            "15  (0.51465, 0.51728]  50492\n",
            "16  (0.51728, 0.52058]  56206\n",
            "17  (0.52058, 0.52884]  53079\n",
            "18  (0.52884, 0.56207]  54640\n",
            "19  (0.56207, 0.67446]  54645\n"
          ],
          "name": "stdout"
        }
      ]
    },
    {
      "cell_type": "code",
      "metadata": {
        "id": "d04Xaq_mRPT-"
      },
      "source": [
        ""
      ],
      "execution_count": null,
      "outputs": []
    },
    {
      "cell_type": "code",
      "metadata": {
        "id": "M_AjyHWqHVxP"
      },
      "source": [
        ""
      ],
      "execution_count": null,
      "outputs": []
    },
    {
      "cell_type": "code",
      "metadata": {
        "id": "1y7a7EMEy8sK"
      },
      "source": [
        "###################################################################################################################@\n",
        "###################################################################################################################@\n",
        "#                                   DECISION TREE CLASSIFIER  ----  AVEC VARIABLES QUALITATIVES\n",
        "###################################################################################################################@\n",
        "###################################################################################################################@"
      ],
      "execution_count": null,
      "outputs": []
    },
    {
      "cell_type": "code",
      "metadata": {
        "id": "CtAZAPy_h355"
      },
      "source": [
        "####################################################################################\n",
        "####################################################################################\n",
        "#                   TEST SANS LES VARIABLES ILLUSTRATIVES DE SPAD\n",
        "####################################################################################\n",
        "####################################################################################"
      ],
      "execution_count": null,
      "outputs": []
    },
    {
      "cell_type": "code",
      "metadata": {
        "colab": {
          "base_uri": "https://localhost:8080/"
        },
        "id": "Rk6cfrsBh38f",
        "outputId": "32f211ea-da23-4480-aed9-a0d32929e6cd"
      },
      "source": [
        "# test predict individus sans classe\n",
        "data = data_orig.copy()\n",
        "\n",
        "# on élimine les variables dons\n",
        "data=data.drop([\"GeoFaz_cl\", \"ImmoFaz_Scl\", \"ImmoFaz_cl\", \"Prenom_Phase_cl_H\", \"Prenom_Phase_cl_F\",\n",
        "                \"Onoma-Phase_Scl\", \"Onoma-Phase_CL\"],axis=1)\n",
        "\n",
        "# encodage Onehot sur toutes les données (on évite ainsi les erreurs futures)\n",
        "nb_var = data.shape[1] - 1\n",
        "data_1_22 = pd.get_dummies(data.iloc[:,1:(data.shape[1]-1)], columns=data.columns[1:(data.shape[1]-1)] )\n",
        "data_var_qualitatives_temp =  pd.concat([data[\"IDENT\"], data_1_22, data[\"Top_mon\"]], axis=1)\n",
        "data = data_var_qualitatives_temp\n",
        "#encodage = OneHotEncoder()\n",
        "#encodage.fit(data_processing(data.iloc[:,1:nb_var]))\n",
        "\n",
        "# élimination des individus n'ayant pas de valeur pour la varialbe IFI+\n",
        "\"\"\"IMPORTANT\"\"\"\n",
        "data_sans_nan = data[(data.isnull()).sum(axis=1) == 0]\n",
        "\n",
        "#conversion du type de variable\n",
        "for i in range(1,data_sans_nan.shape[1]):\n",
        "    data_sans_nan.iloc[:,i]=data_sans_nan.iloc[:,i].astype(int)\n",
        "\n",
        "# base de données avec des variables corrélées et avec encodage OneHot\n",
        "data =data_sans_nan\n",
        "\n",
        "nb_var = data.shape[1] - 1\n",
        "train_set, test_set = train_test_split(data, test_size = 0.2, random_state=0 )\n",
        "\n",
        "train_X_s = (train_set.iloc[:,1:nb_var]).to_numpy()\n",
        "train_Y_s = np.asanyarray(train_set.iloc[:,nb_var])\n",
        "\n",
        "test_X_s = (test_set.iloc[:,1:nb_var]).to_numpy()\n",
        "test_Y_s = np.asanyarray(test_set.iloc[:,nb_var])\n"
      ],
      "execution_count": null,
      "outputs": [
        {
          "output_type": "stream",
          "text": [
            "/usr/local/lib/python3.7/dist-packages/pandas/core/indexing.py:1743: SettingWithCopyWarning: \n",
            "A value is trying to be set on a copy of a slice from a DataFrame.\n",
            "Try using .loc[row_indexer,col_indexer] = value instead\n",
            "\n",
            "See the caveats in the documentation: https://pandas.pydata.org/pandas-docs/stable/user_guide/indexing.html#returning-a-view-versus-a-copy\n",
            "  isetter(ilocs[0], value)\n"
          ],
          "name": "stderr"
        }
      ]
    },
    {
      "cell_type": "code",
      "metadata": {
        "colab": {
          "base_uri": "https://localhost:8080/"
        },
        "id": "9pt0VNO18P4N",
        "outputId": "a13dafd6-cf22-47df-8d82-c81f4933bfe2"
      },
      "source": [
        "\n",
        "model_DecisionTreeClassifier = DecisionTreeClassifier(random_state = 0, class_weight = \"balanced\" )\n",
        "param = { 'max_depth' :list(range(2,30)), 'criterion': [\"gini\", \"entropy\"], 'max_features' : list(range(5,30,2)),\n",
        "         'min_samples_split' : [0.05, 0.1, 0.4, 0.6, 0.8, 1] }\n",
        "\n",
        "grid_DecisionTreeClassifier = GridSearchCV(model_DecisionTreeClassifier, param_grid= param, cv = 4, scoring = \"recall\", n_jobs=2)\n",
        "resultat_grid_DecisionTreeClassifier = grid_DecisionTreeClassifier.fit(train_X_s, train_Y_s)\n",
        "resultat_grid_DecisionTreeClassifier.best_params_\n"
      ],
      "execution_count": null,
      "outputs": [
        {
          "output_type": "execute_result",
          "data": {
            "text/plain": [
              "{'criterion': 'gini',\n",
              " 'max_depth': 2,\n",
              " 'max_features': 13,\n",
              " 'min_samples_split': 0.05}"
            ]
          },
          "metadata": {
            "tags": []
          },
          "execution_count": 18
        }
      ]
    },
    {
      "cell_type": "code",
      "metadata": {
        "colab": {
          "base_uri": "https://localhost:8080/"
        },
        "id": "JNnn4DAf8P6W",
        "outputId": "81b98612-40d8-4c34-992a-f61d2ba4c885"
      },
      "source": [
        "final_model_DecisionTreeClassifier = DecisionTreeClassifier(random_state = 0, criterion=\"gini\", class_weight = \"balanced\", max_depth = 2, max_features=13, min_samples_split=0.05 )\n",
        "evaluation(final_model_DecisionTreeClassifier, train_X_s, train_Y_s, test_X_s, test_Y_s, scoring=\"recall\", plot=False)"
      ],
      "execution_count": 18,
      "outputs": [
        {
          "output_type": "stream",
          "text": [
            "test set : \n",
            "[[ 4552   127]\n",
            " [19920   824]]\n",
            "              precision    recall  f1-score   support\n",
            "\n",
            "           1       0.19      0.97      0.31      4679\n",
            "           2       0.87      0.04      0.08     20744\n",
            "\n",
            "    accuracy                           0.21     25423\n",
            "   macro avg       0.53      0.51      0.19     25423\n",
            "weighted avg       0.74      0.21      0.12     25423\n",
            "\n",
            "train set : \n",
            "[[18270   507]\n",
            " [79493  3422]]\n",
            "              precision    recall  f1-score   support\n",
            "\n",
            "           1       0.19      0.97      0.31     18777\n",
            "           2       0.87      0.04      0.08     82915\n",
            "\n",
            "    accuracy                           0.21    101692\n",
            "   macro avg       0.53      0.51      0.20    101692\n",
            "weighted avg       0.74      0.21      0.12    101692\n",
            "\n",
            "GRAPHIQUE NON DEMANDE\n"
          ],
          "name": "stdout"
        }
      ]
    },
    {
      "cell_type": "code",
      "metadata": {
        "colab": {
          "base_uri": "https://localhost:8080/",
          "height": 788
        },
        "id": "3sGdSD11IMOO",
        "outputId": "59a24f03-5c6f-4a9c-c46e-73149ad8d6c4"
      },
      "source": [
        "# TRAIN SET TEST SET\n",
        "vingtiles(model = final_model_DecisionTreeClassifier, data_orig = data, affichage=True,\n",
        "            save=False, path = \"/content/drive/MyDrive/spad_score_method_1/spad_projection_FDFTOT21/Fichier_excel_vingtiles/train_test_Decision_Tree_Classifier.xlsx\")"
      ],
      "execution_count": 19,
      "outputs": [
        {
          "output_type": "stream",
          "text": [
            "                   IDENT     PROBA\n",
            "83556    835570010398180  0.395492\n",
            "49075    490760010362694  0.395492\n",
            "5803      58040010060815  0.395492\n",
            "29796    297970010339741  0.395492\n",
            "84546    845470010398971  0.395492\n",
            "...                  ...       ...\n",
            "25866    258670010335476  0.544734\n",
            "111904  1119050010521405  0.544734\n",
            "67526    675270010377572  0.544734\n",
            "29122    291230010339193  0.544734\n",
            "85404    854050010399675  0.544734\n",
            "\n",
            "[127115 rows x 2 columns]\n",
            "0.501427    116139\n",
            "0.544734      6096\n",
            "0.395492      4880\n",
            "Name: PROBA, dtype: int64\n"
          ],
          "name": "stdout"
        },
        {
          "output_type": "error",
          "ename": "ValueError",
          "evalue": "ignored",
          "traceback": [
            "\u001b[0;31m---------------------------------------------------------------------------\u001b[0m",
            "\u001b[0;31mValueError\u001b[0m                                Traceback (most recent call last)",
            "\u001b[0;32m<ipython-input-19-d45741ca5d60>\u001b[0m in \u001b[0;36m<module>\u001b[0;34m()\u001b[0m\n\u001b[1;32m      1\u001b[0m \u001b[0;31m# TRAIN SET TEST SET\u001b[0m\u001b[0;34m\u001b[0m\u001b[0;34m\u001b[0m\u001b[0;34m\u001b[0m\u001b[0m\n\u001b[1;32m      2\u001b[0m vingtiles(model = final_model_DecisionTreeClassifier, data_orig = data, affichage=True,\n\u001b[0;32m----> 3\u001b[0;31m             save=False, path = \"/content/drive/MyDrive/spad_score_method_1/spad_projection_FDFTOT21/Fichier_excel_vingtiles/train_test_Random_Forest.xlsx\")\n\u001b[0m",
            "\u001b[0;32m<ipython-input-6-3433ddb3b525>\u001b[0m in \u001b[0;36mvingtiles\u001b[0;34m(model, data_orig, affichage, save, path)\u001b[0m\n\u001b[1;32m    105\u001b[0m \u001b[0;34m\u001b[0m\u001b[0m\n\u001b[1;32m    106\u001b[0m     \u001b[0;31m# quarantiles\u001b[0m\u001b[0;34m\u001b[0m\u001b[0;34m\u001b[0m\u001b[0;34m\u001b[0m\u001b[0m\n\u001b[0;32m--> 107\u001b[0;31m     \u001b[0mdf_temp\u001b[0m \u001b[0;34m=\u001b[0m\u001b[0mpd\u001b[0m\u001b[0;34m.\u001b[0m\u001b[0mDataFrame\u001b[0m\u001b[0;34m(\u001b[0m \u001b[0mpd\u001b[0m\u001b[0;34m.\u001b[0m\u001b[0mqcut\u001b[0m\u001b[0;34m(\u001b[0m\u001b[0mdf_tous\u001b[0m\u001b[0;34m[\u001b[0m\u001b[0;34m'PROBA'\u001b[0m\u001b[0;34m]\u001b[0m\u001b[0;34m,\u001b[0m\u001b[0mq\u001b[0m\u001b[0;34m=\u001b[0m \u001b[0;36m20\u001b[0m\u001b[0;34m)\u001b[0m  \u001b[0;34m)\u001b[0m\u001b[0;34m\u001b[0m\u001b[0;34m\u001b[0m\u001b[0m\n\u001b[0m\u001b[1;32m    108\u001b[0m     \u001b[0mprint\u001b[0m\u001b[0;34m(\u001b[0m\u001b[0mdf_temp\u001b[0m\u001b[0;34m)\u001b[0m\u001b[0;34m\u001b[0m\u001b[0;34m\u001b[0m\u001b[0m\n\u001b[1;32m    109\u001b[0m \u001b[0;34m\u001b[0m\u001b[0m\n",
            "\u001b[0;32m/usr/local/lib/python3.7/dist-packages/pandas/core/reshape/tile.py\u001b[0m in \u001b[0;36mqcut\u001b[0;34m(x, q, labels, retbins, precision, duplicates)\u001b[0m\n\u001b[1;32m    365\u001b[0m         \u001b[0minclude_lowest\u001b[0m\u001b[0;34m=\u001b[0m\u001b[0;32mTrue\u001b[0m\u001b[0;34m,\u001b[0m\u001b[0;34m\u001b[0m\u001b[0;34m\u001b[0m\u001b[0m\n\u001b[1;32m    366\u001b[0m         \u001b[0mdtype\u001b[0m\u001b[0;34m=\u001b[0m\u001b[0mdtype\u001b[0m\u001b[0;34m,\u001b[0m\u001b[0;34m\u001b[0m\u001b[0;34m\u001b[0m\u001b[0m\n\u001b[0;32m--> 367\u001b[0;31m         \u001b[0mduplicates\u001b[0m\u001b[0;34m=\u001b[0m\u001b[0mduplicates\u001b[0m\u001b[0;34m,\u001b[0m\u001b[0;34m\u001b[0m\u001b[0;34m\u001b[0m\u001b[0m\n\u001b[0m\u001b[1;32m    368\u001b[0m     )\n\u001b[1;32m    369\u001b[0m \u001b[0;34m\u001b[0m\u001b[0m\n",
            "\u001b[0;32m/usr/local/lib/python3.7/dist-packages/pandas/core/reshape/tile.py\u001b[0m in \u001b[0;36m_bins_to_cuts\u001b[0;34m(x, bins, right, labels, precision, include_lowest, dtype, duplicates, ordered)\u001b[0m\n\u001b[1;32m    400\u001b[0m         \u001b[0;32mif\u001b[0m \u001b[0mduplicates\u001b[0m \u001b[0;34m==\u001b[0m \u001b[0;34m\"raise\"\u001b[0m\u001b[0;34m:\u001b[0m\u001b[0;34m\u001b[0m\u001b[0;34m\u001b[0m\u001b[0m\n\u001b[1;32m    401\u001b[0m             raise ValueError(\n\u001b[0;32m--> 402\u001b[0;31m                 \u001b[0;34mf\"Bin edges must be unique: {repr(bins)}.\\n\"\u001b[0m\u001b[0;34m\u001b[0m\u001b[0;34m\u001b[0m\u001b[0m\n\u001b[0m\u001b[1;32m    403\u001b[0m                 \u001b[0;34mf\"You can drop duplicate edges by setting the 'duplicates' kwarg\"\u001b[0m\u001b[0;34m\u001b[0m\u001b[0;34m\u001b[0m\u001b[0m\n\u001b[1;32m    404\u001b[0m             )\n",
            "\u001b[0;31mValueError\u001b[0m: Bin edges must be unique: array([0.39549156, 0.5014273 , 0.5014273 , 0.5014273 , 0.5014273 ,\n       0.5014273 , 0.5014273 , 0.5014273 , 0.5014273 , 0.5014273 ,\n       0.5014273 , 0.5014273 , 0.5014273 , 0.5014273 , 0.5014273 ,\n       0.5014273 , 0.5014273 , 0.5014273 , 0.5014273 , 0.5014273 ,\n       0.54473389]).\nYou can drop duplicate edges by setting the 'duplicates' kwarg"
          ]
        }
      ]
    },
    {
      "cell_type": "code",
      "metadata": {
        "colab": {
          "base_uri": "https://localhost:8080/",
          "height": 826
        },
        "id": "wOGaAy3aicdc",
        "outputId": "369b89c7-3491-4062-fe9d-d19340f51fe7"
      },
      "source": [
        "# INDIVIDUS SANS TARGET\n",
        "vingtiles_ind_sans_target(model = final_model_DecisionTreeClassifier, data_orig= data_var_qualitatives_temp[(data_var_qualitatives_temp.isnull()).sum(axis=1) != 0], affichage=True,\n",
        "            save=False, path = \"/content/drive/MyDrive/spad_score_method_1/spad_projection_FDFTOT21/Fichier_excel_vingtiles/ind_sans_target_Decision_Tree_Classifier.xlsx\")"
      ],
      "execution_count": 22,
      "outputs": [
        {
          "output_type": "stream",
          "text": [
            "                     IDENT     PROBA\n",
            "400010    2728960130020175  0.395492\n",
            "346069    2189550120016224  0.395492\n",
            "205261     781470050018137  0.395492\n",
            "346064    2189500120016219  0.395492\n",
            "1141792  10146780370031141  0.395492\n",
            "...                    ...       ...\n",
            "370446    2433320120040601  0.544734\n",
            "180692     535780040003576  0.544734\n",
            "1097940   9708260360147289  0.544734\n",
            "180747     536330040003631  0.544734\n",
            "1141212  10140980370030561  0.544734\n",
            "\n",
            "[1092884 rows x 2 columns]\n",
            "0.501427    997647\n",
            "0.544734     51129\n",
            "0.395492     44108\n",
            "Name: PROBA, dtype: int64\n"
          ],
          "name": "stdout"
        },
        {
          "output_type": "error",
          "ename": "ValueError",
          "evalue": "ignored",
          "traceback": [
            "\u001b[0;31m---------------------------------------------------------------------------\u001b[0m",
            "\u001b[0;31mValueError\u001b[0m                                Traceback (most recent call last)",
            "\u001b[0;32m<ipython-input-22-dd2f666c36e7>\u001b[0m in \u001b[0;36m<module>\u001b[0;34m()\u001b[0m\n\u001b[1;32m      1\u001b[0m \u001b[0;31m# INDIVIDUS SANS TARGET\u001b[0m\u001b[0;34m\u001b[0m\u001b[0;34m\u001b[0m\u001b[0;34m\u001b[0m\u001b[0m\n\u001b[1;32m      2\u001b[0m vingtiles_ind_sans_target(model = final_model_DecisionTreeClassifier, data_orig= data_var_qualitatives_temp[(data_var_qualitatives_temp.isnull()).sum(axis=1) != 0], affichage=True,\n\u001b[0;32m----> 3\u001b[0;31m             save=False, path = \"/content/drive/MyDrive/spad_score_method_1/spad_projection_FDFTOT21/Fichier_excel_vingtiles/ind_sans_target_Decision_Tree_Classifier.xlsx\")\n\u001b[0m",
            "\u001b[0;32m<ipython-input-6-3433ddb3b525>\u001b[0m in \u001b[0;36mvingtiles_ind_sans_target\u001b[0;34m(model, data_orig, affichage, save, path)\u001b[0m\n\u001b[1;32m    165\u001b[0m \u001b[0;34m\u001b[0m\u001b[0m\n\u001b[1;32m    166\u001b[0m     \u001b[0;31m# quarantiles\u001b[0m\u001b[0;34m\u001b[0m\u001b[0;34m\u001b[0m\u001b[0;34m\u001b[0m\u001b[0m\n\u001b[0;32m--> 167\u001b[0;31m     \u001b[0mdf_temp\u001b[0m \u001b[0;34m=\u001b[0m\u001b[0mpd\u001b[0m\u001b[0;34m.\u001b[0m\u001b[0mDataFrame\u001b[0m\u001b[0;34m(\u001b[0m \u001b[0mpd\u001b[0m\u001b[0;34m.\u001b[0m\u001b[0mqcut\u001b[0m\u001b[0;34m(\u001b[0m\u001b[0mdf_tous\u001b[0m\u001b[0;34m[\u001b[0m\u001b[0;34m'PROBA'\u001b[0m\u001b[0;34m]\u001b[0m\u001b[0;34m,\u001b[0m\u001b[0mq\u001b[0m\u001b[0;34m=\u001b[0m \u001b[0;36m20\u001b[0m\u001b[0;34m)\u001b[0m  \u001b[0;34m)\u001b[0m\u001b[0;34m\u001b[0m\u001b[0;34m\u001b[0m\u001b[0m\n\u001b[0m\u001b[1;32m    168\u001b[0m     \u001b[0mprint\u001b[0m\u001b[0;34m(\u001b[0m\u001b[0mdf_temp\u001b[0m\u001b[0;34m)\u001b[0m\u001b[0;34m\u001b[0m\u001b[0;34m\u001b[0m\u001b[0m\n\u001b[1;32m    169\u001b[0m \u001b[0;34m\u001b[0m\u001b[0m\n",
            "\u001b[0;32m/usr/local/lib/python3.7/dist-packages/pandas/core/reshape/tile.py\u001b[0m in \u001b[0;36mqcut\u001b[0;34m(x, q, labels, retbins, precision, duplicates)\u001b[0m\n\u001b[1;32m    365\u001b[0m         \u001b[0minclude_lowest\u001b[0m\u001b[0;34m=\u001b[0m\u001b[0;32mTrue\u001b[0m\u001b[0;34m,\u001b[0m\u001b[0;34m\u001b[0m\u001b[0;34m\u001b[0m\u001b[0m\n\u001b[1;32m    366\u001b[0m         \u001b[0mdtype\u001b[0m\u001b[0;34m=\u001b[0m\u001b[0mdtype\u001b[0m\u001b[0;34m,\u001b[0m\u001b[0;34m\u001b[0m\u001b[0;34m\u001b[0m\u001b[0m\n\u001b[0;32m--> 367\u001b[0;31m         \u001b[0mduplicates\u001b[0m\u001b[0;34m=\u001b[0m\u001b[0mduplicates\u001b[0m\u001b[0;34m,\u001b[0m\u001b[0;34m\u001b[0m\u001b[0;34m\u001b[0m\u001b[0m\n\u001b[0m\u001b[1;32m    368\u001b[0m     )\n\u001b[1;32m    369\u001b[0m \u001b[0;34m\u001b[0m\u001b[0m\n",
            "\u001b[0;32m/usr/local/lib/python3.7/dist-packages/pandas/core/reshape/tile.py\u001b[0m in \u001b[0;36m_bins_to_cuts\u001b[0;34m(x, bins, right, labels, precision, include_lowest, dtype, duplicates, ordered)\u001b[0m\n\u001b[1;32m    400\u001b[0m         \u001b[0;32mif\u001b[0m \u001b[0mduplicates\u001b[0m \u001b[0;34m==\u001b[0m \u001b[0;34m\"raise\"\u001b[0m\u001b[0;34m:\u001b[0m\u001b[0;34m\u001b[0m\u001b[0;34m\u001b[0m\u001b[0m\n\u001b[1;32m    401\u001b[0m             raise ValueError(\n\u001b[0;32m--> 402\u001b[0;31m                 \u001b[0;34mf\"Bin edges must be unique: {repr(bins)}.\\n\"\u001b[0m\u001b[0;34m\u001b[0m\u001b[0;34m\u001b[0m\u001b[0m\n\u001b[0m\u001b[1;32m    403\u001b[0m                 \u001b[0;34mf\"You can drop duplicate edges by setting the 'duplicates' kwarg\"\u001b[0m\u001b[0;34m\u001b[0m\u001b[0;34m\u001b[0m\u001b[0m\n\u001b[1;32m    404\u001b[0m             )\n",
            "\u001b[0;31mValueError\u001b[0m: Bin edges must be unique: array([0.39549156, 0.5014273 , 0.5014273 , 0.5014273 , 0.5014273 ,\n       0.5014273 , 0.5014273 , 0.5014273 , 0.5014273 , 0.5014273 ,\n       0.5014273 , 0.5014273 , 0.5014273 , 0.5014273 , 0.5014273 ,\n       0.5014273 , 0.5014273 , 0.5014273 , 0.5014273 , 0.5014273 ,\n       0.54473389]).\nYou can drop duplicate edges by setting the 'duplicates' kwarg"
          ]
        }
      ]
    },
    {
      "cell_type": "code",
      "metadata": {
        "colab": {
          "base_uri": "https://localhost:8080/"
        },
        "id": "ztkYTw2lKfrN",
        "outputId": "a4bfd407-5174-44b2-d31a-beb4fee6f792"
      },
      "source": [
        "train_X_s.shape"
      ],
      "execution_count": null,
      "outputs": [
        {
          "output_type": "execute_result",
          "data": {
            "text/plain": [
              "(101692, 374)"
            ]
          },
          "metadata": {
            "tags": []
          },
          "execution_count": 18
        }
      ]
    },
    {
      "cell_type": "code",
      "metadata": {
        "colab": {
          "base_uri": "https://localhost:8080/"
        },
        "id": "JT4GplPeak4R",
        "outputId": "f14c29d5-59f6-404f-cc5c-07ac4fb7e4b4"
      },
      "source": [
        "np.sqrt(374)"
      ],
      "execution_count": null,
      "outputs": [
        {
          "output_type": "execute_result",
          "data": {
            "text/plain": [
              "19.339079605813716"
            ]
          },
          "metadata": {
            "tags": []
          },
          "execution_count": 19
        }
      ]
    },
    {
      "cell_type": "code",
      "metadata": {
        "colab": {
          "base_uri": "https://localhost:8080/"
        },
        "id": "16GnZhtoasFp",
        "outputId": "5ef28dfb-72e0-4143-b4f9-27880f5a75a4"
      },
      "source": [
        "np.linspace(0.1, 1,5)"
      ],
      "execution_count": null,
      "outputs": [
        {
          "output_type": "execute_result",
          "data": {
            "text/plain": [
              "array([0.1  , 0.325, 0.55 , 0.775, 1.   ])"
            ]
          },
          "metadata": {
            "tags": []
          },
          "execution_count": 59
        }
      ]
    },
    {
      "cell_type": "code",
      "metadata": {
        "id": "oH3l33RFbgfm"
      },
      "source": [
        "0.05, 0.1, 0.4, 0.6, 0.8, 1"
      ],
      "execution_count": null,
      "outputs": []
    }
  ]
}