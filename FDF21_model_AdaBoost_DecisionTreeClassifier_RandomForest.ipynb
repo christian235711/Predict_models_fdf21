{
  "nbformat": 4,
  "nbformat_minor": 0,
  "metadata": {
    "colab": {
      "name": "FDF21_model_AdaBoost_DecisionTreeClassifier_RandomForest.ipynb",
      "provenance": [],
      "collapsed_sections": [],
      "authorship_tag": "ABX9TyMleLjhrm2lgWvcEJ1tFPXR"
    },
    "kernelspec": {
      "display_name": "Python 3",
      "name": "python3"
    },
    "language_info": {
      "name": "python"
    }
  },
  "cells": [
    {
      "cell_type": "code",
      "metadata": {
        "colab": {
          "base_uri": "https://localhost:8080/"
        },
        "id": "uXwzY9aHJ83i",
        "outputId": "9e050fa7-4fc9-4349-eafe-27290f641082"
      },
      "source": [
        "import numpy as np\n",
        "import pandas as pd\n",
        "import seaborn as sns\n",
        "import matplotlib.pyplot as plt\n",
        "\n",
        "#!pip install fanalysis\n",
        "\n",
        "from sklearn.metrics import confusion_matrix\n",
        "\n",
        "from google.colab import drive\n",
        "drive.mount('/content/drive')"
      ],
      "execution_count": 2,
      "outputs": [
        {
          "output_type": "stream",
          "text": [
            "Mounted at /content/drive\n"
          ],
          "name": "stdout"
        }
      ]
    },
    {
      "cell_type": "code",
      "metadata": {
        "id": "QVPy76oFJ-HY"
      },
      "source": [
        "# les noms des variables\n",
        "\n",
        "colonnes =([\"IDENT\", \"TypeHabi\", \"GeoFaz_Scl\", \"GeoFaz_cl\", \"ImmoFaz_Scl\", \"ImmoFaz_cl\", \"Anciennete\",\n",
        "            \"Logement_prix_m2\", \"Mediane_RFR\", \"Sexe\", \"Prenom_Phase_scl_H\", \"Prenom_Phase_scl_F\",\n",
        "            \"Prenom_Phase_cl_H\", \"Prenom_Phase_cl_F\", \"Age_H\", \"Age_F\", \"Affinite_1\", \"Affinite_2\",\n",
        "            \"Prenom_effectif\", \"Potentiel_prenom\", \"Onoma-Phase_Scl\", \"Onoma-Phase_CL\", \"Top_mon\"])"
      ],
      "execution_count": 3,
      "outputs": []
    },
    {
      "cell_type": "code",
      "metadata": {
        "id": "lmQPaeuMJ-J0"
      },
      "source": [
        "# importation du fichier (changer le chemin d'accès)\n",
        "''' Faites attention au type de fichier, au délimiteur des valeurs (ça doit être unique et non multiple),\n",
        "au header et à la lecture des types d'objets (low_memory) '''\n",
        "\n",
        "data_orig = pd.read_csv(\"/content/drive/MyDrive/spad_score_method_1/spad_projection_FDFTOT21/new_my_data_FDFTOT21.txt\", delim_whitespace=\"\\t\", header = None, names=colonnes, low_memory=False, )#, dtype='Int64')\n"
      ],
      "execution_count": 4,
      "outputs": []
    },
    {
      "cell_type": "code",
      "metadata": {
        "colab": {
          "base_uri": "https://localhost:8080/"
        },
        "id": "AuFzAId4KKZ_",
        "outputId": "f3eebd37-eea5-4611-8221-7cf7b229a9cb"
      },
      "source": [
        "''' copie superficielle (peu profonde) du dataset original pour ne pas modifier les valeurs\n",
        "d'origine par erreur plus tard \n",
        "'''\n",
        "data = data_orig.copy()\n",
        "data.shape"
      ],
      "execution_count": 5,
      "outputs": [
        {
          "output_type": "execute_result",
          "data": {
            "text/plain": [
              "(1192180, 23)"
            ]
          },
          "metadata": {
            "tags": []
          },
          "execution_count": 5
        }
      ]
    },
    {
      "cell_type": "code",
      "metadata": {
        "colab": {
          "base_uri": "https://localhost:8080/",
          "height": 243
        },
        "id": "eCTsRwocJ-MF",
        "outputId": "b8521884-2e0a-4e3c-d0f9-77104b0bcf2b"
      },
      "source": [
        "# visualisation des premiers lignes\n",
        "data.head()"
      ],
      "execution_count": 6,
      "outputs": [
        {
          "output_type": "execute_result",
          "data": {
            "text/html": [
              "<div>\n",
              "<style scoped>\n",
              "    .dataframe tbody tr th:only-of-type {\n",
              "        vertical-align: middle;\n",
              "    }\n",
              "\n",
              "    .dataframe tbody tr th {\n",
              "        vertical-align: top;\n",
              "    }\n",
              "\n",
              "    .dataframe thead th {\n",
              "        text-align: right;\n",
              "    }\n",
              "</style>\n",
              "<table border=\"1\" class=\"dataframe\">\n",
              "  <thead>\n",
              "    <tr style=\"text-align: right;\">\n",
              "      <th></th>\n",
              "      <th>IDENT</th>\n",
              "      <th>TypeHabi</th>\n",
              "      <th>GeoFaz_Scl</th>\n",
              "      <th>GeoFaz_cl</th>\n",
              "      <th>ImmoFaz_Scl</th>\n",
              "      <th>ImmoFaz_cl</th>\n",
              "      <th>Anciennete</th>\n",
              "      <th>Logement_prix_m2</th>\n",
              "      <th>Mediane_RFR</th>\n",
              "      <th>Sexe</th>\n",
              "      <th>Prenom_Phase_scl_H</th>\n",
              "      <th>Prenom_Phase_scl_F</th>\n",
              "      <th>Prenom_Phase_cl_H</th>\n",
              "      <th>Prenom_Phase_cl_F</th>\n",
              "      <th>Age_H</th>\n",
              "      <th>Age_F</th>\n",
              "      <th>Affinite_1</th>\n",
              "      <th>Affinite_2</th>\n",
              "      <th>Prenom_effectif</th>\n",
              "      <th>Potentiel_prenom</th>\n",
              "      <th>Onoma-Phase_Scl</th>\n",
              "      <th>Onoma-Phase_CL</th>\n",
              "      <th>Top_mon</th>\n",
              "    </tr>\n",
              "  </thead>\n",
              "  <tbody>\n",
              "    <tr>\n",
              "      <th>0</th>\n",
              "      <td>10010000001</td>\n",
              "      <td>2</td>\n",
              "      <td>81</td>\n",
              "      <td>8</td>\n",
              "      <td>91</td>\n",
              "      <td>9</td>\n",
              "      <td>6</td>\n",
              "      <td>21</td>\n",
              "      <td>21</td>\n",
              "      <td>1</td>\n",
              "      <td>71</td>\n",
              "      <td>41</td>\n",
              "      <td>7</td>\n",
              "      <td>4</td>\n",
              "      <td>12</td>\n",
              "      <td>4</td>\n",
              "      <td>20</td>\n",
              "      <td>2</td>\n",
              "      <td>2</td>\n",
              "      <td>1</td>\n",
              "      <td>51</td>\n",
              "      <td>5</td>\n",
              "      <td>1.0</td>\n",
              "    </tr>\n",
              "    <tr>\n",
              "      <th>1</th>\n",
              "      <td>20010000006</td>\n",
              "      <td>1</td>\n",
              "      <td>75</td>\n",
              "      <td>7</td>\n",
              "      <td>43</td>\n",
              "      <td>4</td>\n",
              "      <td>6</td>\n",
              "      <td>6</td>\n",
              "      <td>13</td>\n",
              "      <td>2</td>\n",
              "      <td>71</td>\n",
              "      <td>64</td>\n",
              "      <td>7</td>\n",
              "      <td>6</td>\n",
              "      <td>12</td>\n",
              "      <td>9</td>\n",
              "      <td>4</td>\n",
              "      <td>12</td>\n",
              "      <td>4</td>\n",
              "      <td>13</td>\n",
              "      <td>12</td>\n",
              "      <td>1</td>\n",
              "      <td>1.0</td>\n",
              "    </tr>\n",
              "    <tr>\n",
              "      <th>2</th>\n",
              "      <td>30010000011</td>\n",
              "      <td>1</td>\n",
              "      <td>76</td>\n",
              "      <td>7</td>\n",
              "      <td>43</td>\n",
              "      <td>4</td>\n",
              "      <td>6</td>\n",
              "      <td>6</td>\n",
              "      <td>16</td>\n",
              "      <td>3</td>\n",
              "      <td>54</td>\n",
              "      <td>81</td>\n",
              "      <td>5</td>\n",
              "      <td>8</td>\n",
              "      <td>7</td>\n",
              "      <td>12</td>\n",
              "      <td>6</td>\n",
              "      <td>6</td>\n",
              "      <td>4</td>\n",
              "      <td>18</td>\n",
              "      <td>36</td>\n",
              "      <td>3</td>\n",
              "      <td>2.0</td>\n",
              "    </tr>\n",
              "    <tr>\n",
              "      <th>3</th>\n",
              "      <td>40010000013</td>\n",
              "      <td>3</td>\n",
              "      <td>75</td>\n",
              "      <td>7</td>\n",
              "      <td>43</td>\n",
              "      <td>4</td>\n",
              "      <td>4</td>\n",
              "      <td>6</td>\n",
              "      <td>13</td>\n",
              "      <td>1</td>\n",
              "      <td>71</td>\n",
              "      <td>36</td>\n",
              "      <td>7</td>\n",
              "      <td>3</td>\n",
              "      <td>12</td>\n",
              "      <td>11</td>\n",
              "      <td>11</td>\n",
              "      <td>19</td>\n",
              "      <td>4</td>\n",
              "      <td>6</td>\n",
              "      <td>21</td>\n",
              "      <td>2</td>\n",
              "      <td>1.0</td>\n",
              "    </tr>\n",
              "    <tr>\n",
              "      <th>4</th>\n",
              "      <td>50010000015</td>\n",
              "      <td>2</td>\n",
              "      <td>33</td>\n",
              "      <td>3</td>\n",
              "      <td>44</td>\n",
              "      <td>4</td>\n",
              "      <td>6</td>\n",
              "      <td>7</td>\n",
              "      <td>12</td>\n",
              "      <td>1</td>\n",
              "      <td>71</td>\n",
              "      <td>42</td>\n",
              "      <td>7</td>\n",
              "      <td>4</td>\n",
              "      <td>12</td>\n",
              "      <td>5</td>\n",
              "      <td>14</td>\n",
              "      <td>3</td>\n",
              "      <td>3</td>\n",
              "      <td>1</td>\n",
              "      <td>14</td>\n",
              "      <td>1</td>\n",
              "      <td>2.0</td>\n",
              "    </tr>\n",
              "  </tbody>\n",
              "</table>\n",
              "</div>"
            ],
            "text/plain": [
              "         IDENT  TypeHabi  GeoFaz_Scl  ...  Onoma-Phase_Scl  Onoma-Phase_CL  Top_mon\n",
              "0  10010000001         2          81  ...               51               5      1.0\n",
              "1  20010000006         1          75  ...               12               1      1.0\n",
              "2  30010000011         1          76  ...               36               3      2.0\n",
              "3  40010000013         3          75  ...               21               2      1.0\n",
              "4  50010000015         2          33  ...               14               1      2.0\n",
              "\n",
              "[5 rows x 23 columns]"
            ]
          },
          "metadata": {
            "tags": []
          },
          "execution_count": 6
        }
      ]
    },
    {
      "cell_type": "code",
      "metadata": {
        "id": "HMG7Zbw4Ku9R"
      },
      "source": [
        "#nombre de modalités de chaque variables (dans un dataframe)\n",
        "def nombre_mod(data2):\n",
        "    #création d'un dataframe vide\n",
        "    dff= pd.DataFrame(columns=[\"VARIABLE\",\"NOMBRE_MOD\", \"NOMBRE_MOD_SANS_NA\"])\n",
        "    for i in range(data2.shape[1]): # sans compter les valeurs manquantes\n",
        "        taille =len(data2.iloc[:,i].value_counts(dropna=False))\n",
        "        taille_1 = len(data2.iloc[:,i].value_counts(dropna=True) )\n",
        "        dff=dff.append({\"VARIABLE\": colonnes[i],\"NOMBRE_MOD\":taille, \"NOMBRE_MOD_SANS_NA\":taille_1 }, ignore_index=True)\n",
        "    return dff\n",
        "\n",
        "# sélection des corrélations les plus importantes\n",
        "def variables_corr(tableau_corr, seuil):\n",
        "    colonnes = tableau_corr.columns\n",
        "    val_temp = 0 \n",
        "    variables_corr_pos=[] ; variables_corr_pos_val=[]\n",
        "    variables_corr_neg=[] ; variables_corr_neg_val=[]\n",
        "    for i in range(tableau_corr.shape[0]):  \n",
        "        for j in range(tableau_corr.shape[0]):\n",
        "            if i<j: #i!=j:\n",
        "                if (tableau_corr.iloc[i,j] > seuil):\n",
        "                    variables_corr_pos.append(colonnes[j])\n",
        "                    variables_corr_pos_val.append(round( tableau_corr.iloc[i,j], 2))\n",
        "                    val_temp += 1\n",
        "\n",
        "                if (tableau_corr.iloc[i,j] <-seuil):\n",
        "                    variables_corr_neg.append(colonnes[j])\n",
        "                    variables_corr_neg_val.append(round( tableau_corr.iloc[i,j], 2))\n",
        "                    val_temp += 1\n",
        "\n",
        "        if (len(variables_corr_pos) > 0) | (len(variables_corr_neg) >0) :\n",
        "            print(\"variable : \", colonnes[i])\n",
        "            if len(variables_corr_pos) > 0:    \n",
        "                print(\"corr pos\", variables_corr_pos)\n",
        "                print(\"corr pos\", variables_corr_pos_val)\n",
        "                val_temp += 1\n",
        "\n",
        "            if len(variables_corr_neg) >0:  \n",
        "                print(\"corr neg\", variables_corr_neg)\n",
        "                print(\"corr neg\", variables_corr_neg_val)\n",
        "                val_temp += 1\n",
        "            print(\"\")\n",
        "        variables_corr_pos = variables_corr_pos*0\n",
        "        variables_corr_neg = variables_corr_pos*0\n",
        "\n",
        "        variables_corr_pos_val = variables_corr_pos_val*0\n",
        "        variables_corr_neg_val = variables_corr_pos_val*0\n",
        "    if val_temp == 0:\n",
        "        print(\"IL N'Y A PAS DE CORRELATION ENTRE LES VARIABLES PAR RAPPORT AU SEUIL PRIS\")\n",
        "        \n",
        "\n",
        "def evaluation(model, X_train, y_train, X_test, y_test, scoring, plot):\n",
        "\n",
        "    model.fit(X_train, y_train)\n",
        "    y_pred = model.predict(X_test)\n",
        "    \n",
        "    print(\"test set : \")\n",
        "    print(confusion_matrix(y_test, y_pred))\n",
        "    print(classification_report(y_test, y_pred)) \n",
        "    print(\"train set : \")\n",
        "    print(confusion_matrix(y_train, model.predict(X_train)))  \n",
        "    print(classification_report(y_train, model.predict(X_train) ))\n",
        "\n",
        "    if plot == True:\n",
        "        N, train_score, val_score = learning_curve(model, X_train, y_train, shuffle=True, cv = 4, scoring = scoring, train_sizes = np.linspace(0.1, 1, 6) )\n",
        "\n",
        "        plt.figure(figsize = (10,6))\n",
        "        plt.plot(N, train_score.mean(axis=1), label =\"train_score\")\n",
        "        plt.plot(N, val_score.mean(axis=1), label =\"cross_validation_score\")\n",
        "        plt.legend()\n",
        "    else :\n",
        "        print(\"GRAPHIQUE NON DEMANDE\")\n",
        "\n",
        "# Comme il n'y a pas de valeurs manquantes (à la place il y a un nombre), le seul traitement qu'on fait c'est tranformer\n",
        "# le type de variable (les variables continues deviennent qualitatives)\n",
        "def data_processing(df):\n",
        "    \"\"\" \n",
        "    for i in range(0,len(df.columns)):    \n",
        "        df[df.columns[i]].fillna(100.0, inplace=True) #On remplace les données manquantes par 100\n",
        "    for i in range(0,len(df.columns)):\n",
        "        print(df[df.columns[i]].value_counts(dropna=False))    \n",
        "    \"\"\"\n",
        "    \n",
        "   #Transformation de toutes les variables en facteurs         \n",
        "    for i in range(0,len(df.columns)):\n",
        "        df[df.columns[i]] = df[df.columns[i]].astype('category')\n",
        "    return df.to_numpy() #.as_matrix()\n",
        "\n",
        "\n",
        "def vingtiles(model, data_orig, affichage, save, path):\n",
        "    # position de la dernière variable explicative dans le dataset\n",
        "    nb_var = data_orig.shape[1]-1\n",
        "\n",
        "    # predict sur tous les individus (avec et sans classe IFI+)\n",
        "    tous_probas = model.predict_proba(data_orig.iloc[:,1:nb_var])\n",
        "    df_tous = pd.DataFrame({'IDENT': data_orig.iloc[:,0] , 'PROBA': tous_probas[:,0] })\n",
        "    #df_tous\n",
        "    \n",
        "    # valeurs ordonnées pour diviser après\n",
        "    df_tous=df_tous.sort_values(by='PROBA', ascending=True)\n",
        "    #df_tous\n",
        "    print(df_tous)\n",
        "    \n",
        "    #vérification\n",
        "    print(df_tous['PROBA'].value_counts())\n",
        "\n",
        "    # quarantiles\n",
        "    df_temp =pd.DataFrame( pd.qcut(df_tous['PROBA'],q= 20)  )\n",
        "    print(df_temp)\n",
        "\n",
        "    # ajout par index (IMPORTANTE)\n",
        "    df_tous[\"TRANCHES\"]=pd.DataFrame(df_temp.iloc[:,0].to_numpy(),index= df_temp.index)\n",
        "    #print(df_tous)\n",
        "    \n",
        "    # pour la colonne Top_mon :\n",
        "    # remplissage de la dernière colonne par 2 (VALABLE QUE POUR CE DATA, MODIFIER POUR D'AUTRES)\n",
        "    data_temp_t = data_orig.copy()\n",
        "    # remplacement\n",
        "    data_temp_t[\"Top_mon\"] =  data_temp_t[\"Top_mon\"].replace(1.0,'1')\n",
        "    data_temp_t[\"Top_mon\"] =  data_temp_t[\"Top_mon\"].replace(2.0,'2')\n",
        "    data_all_complet_class = data_temp_t.fillna('2')\n",
        "    #data_all_complet_class\n",
        "\n",
        "    # jointure\n",
        "    ident_class_tous = data_all_complet_class[[\"IDENT\",\"Top_mon\"]]\n",
        "    tableau_resultats = pd.merge(df_tous,ident_class_tous)\n",
        "    #tableau_resultats\n",
        "\n",
        "    # tranches finales\n",
        "    tab_cross_temp = pd.crosstab(tableau_resultats[\"TRANCHES\"],tableau_resultats[\"Top_mon\"])\n",
        "    #print(tab_cross_temp); print(\"-----------------------\")\n",
        "\n",
        "    # création d'une colonne total\n",
        "    tab_cross_temp[\"TOTAL\"]=tab_cross_temp[\"1\"]+tab_cross_temp[\"2\"]\n",
        "    \n",
        "    # affichage\n",
        "    if affichage ==True:        \n",
        "        print(tab_cross_temp)\n",
        "\n",
        "    # création du tableau final en éliminant la colonne 2\n",
        "    #tab_pour_excel = tab_cross_temp.drop([\"2\"], axis=1)\n",
        "\n",
        "    # si on ne veut pas éliminer la colonne 2\n",
        "    tab_pour_excel =  tab_cross_temp\n",
        "    \n",
        "    # enregistrement sous Excel\n",
        "    if save == True:\n",
        "        tab_pour_excel.to_excel(path)\n",
        "\n",
        "def vingtiles_ind_sans_target(model, data_orig, affichage, save, path):\n",
        "    # position de la dernière variable explicative dans le dataset\n",
        "    nb_var = data_orig.shape[1]-1\n",
        "\n",
        "    # predict sur tous les individus (avec et sans classe IFI+)\n",
        "    tous_probas = model.predict_proba(data_orig.iloc[:,1:nb_var])\n",
        "    df_tous = pd.DataFrame({'IDENT': data_orig.iloc[:,0] , 'PROBA': tous_probas[:,0] })\n",
        "    #df_tous\n",
        "    \n",
        "    # valeurs ordonnées pour diviser après\n",
        "    df_tous=df_tous.sort_values(by='PROBA', ascending=True)\n",
        "    #df_tous\n",
        "    print(df_tous)\n",
        "    \n",
        "    #vérification\n",
        "    print(df_tous['PROBA'].value_counts())\n",
        "\n",
        "    # quarantiles\n",
        "    df_temp =pd.DataFrame( pd.qcut(df_tous['PROBA'],q= 20)  )\n",
        "    print(df_temp)\n",
        "\n",
        "    # ajout par index (IMPORTANTE)\n",
        "    df_tous[\"TRANCHES\"]=pd.DataFrame(df_temp.iloc[:,0].to_numpy(),index= df_temp.index)\n",
        "    print(df_tous)\n",
        "    print(df_tous[\"TRANCHES\"].value_counts(ascending = True))\n",
        "\n",
        "    # GERE L'ORDRE\n",
        "    patra = np.unique(df_tous.iloc[:,2], return_counts=True)\n",
        "    df_tranches_sans_target = pd.DataFrame([patra[0],patra[1]]).T\n",
        "    df_tranches_sans_target.columns=[\"TRANCHES\",\"COUNTS\"]\n",
        "\n",
        "    # affichage\n",
        "    if affichage ==True:        \n",
        "        print(df_tranches_sans_target)\n",
        "    \n",
        "    # enregistrement sous Excel\n",
        "    if save == True:\n",
        "        df_tranches_sans_target.to_excel(path)\n",
        "    \n",
        "\n",
        "# élimination des variables trop corrélées (choix manuel)\n",
        "def elimination_val_corr(data):\n",
        "    data = data.drop(columns=[\"\"])\n",
        "    return data\n",
        "          \n",
        "        \n"
      ],
      "execution_count": 7,
      "outputs": []
    },
    {
      "cell_type": "code",
      "metadata": {
        "id": "VrNwSeGoLu4z"
      },
      "source": [
        "def vingtiles_xgb(model, data_orig, affichage, save, path):\n",
        "    # position de la dernière variable explicative dans le dataset\n",
        "    nb_var = data_orig.shape[1]-1\n",
        "\n",
        "    # predict sur tous les individus (avec et sans classe IFI+)\n",
        "    tous_probas = model.predict_proba(data_orig.iloc[:,1:nb_var].values)\n",
        "    df_tous = pd.DataFrame({'IDENT': data_orig.iloc[:,0] , 'PROBA': tous_probas[:,0] })\n",
        "    #df_tous\n",
        "    \n",
        "    # valeurs ordonnées pour diviser après\n",
        "    df_tous=df_tous.sort_values(by='PROBA', ascending=True)\n",
        "    #df_tous\n",
        "    print(df_tous)\n",
        "    \n",
        "    #vérification\n",
        "    print(df_tous['PROBA'].value_counts())\n",
        "\n",
        "    # quarantiles\n",
        "    df_temp =pd.DataFrame( pd.qcut(df_tous['PROBA'],q= 20)  )\n",
        "    print(df_temp)\n",
        "\n",
        "    # ajout par index (IMPORTANTE)\n",
        "    df_tous[\"TRANCHES\"]=pd.DataFrame(df_temp.iloc[:,0].to_numpy(),index= df_temp.index)\n",
        "    #print(df_tous)\n",
        "    \n",
        "    # pour la colonne Top_mon :\n",
        "    # remplissage de la dernière colonne par 2 (VALABLE QUE POUR CE DATA, MODIFIER POUR D'AUTRES)\n",
        "    data_temp_t = data_orig.copy()\n",
        "    # remplacement\n",
        "    data_temp_t[\"Top_mon\"] =  data_temp_t[\"Top_mon\"].replace(1.0,'1')\n",
        "    data_temp_t[\"Top_mon\"] =  data_temp_t[\"Top_mon\"].replace(2.0,'2')\n",
        "    data_all_complet_class = data_temp_t.fillna('2')\n",
        "    #data_all_complet_class\n",
        "\n",
        "    # jointure\n",
        "    ident_class_tous = data_all_complet_class[[\"IDENT\",\"Top_mon\"]]\n",
        "    tableau_resultats = pd.merge(df_tous,ident_class_tous)\n",
        "    #tableau_resultats\n",
        "\n",
        "    # tranches finales\n",
        "    tab_cross_temp = pd.crosstab(tableau_resultats[\"TRANCHES\"],tableau_resultats[\"Top_mon\"])\n",
        "    #print(tab_cross_temp); print(\"-----------------------\")\n",
        "\n",
        "    # création d'une colonne total\n",
        "    tab_cross_temp[\"TOTAL\"]=tab_cross_temp[\"1\"]+tab_cross_temp[\"2\"]\n",
        "    \n",
        "    # affichage\n",
        "    if affichage ==True:        \n",
        "        print(tab_cross_temp)\n",
        "\n",
        "    # création du tableau final en éliminant la colonne 2\n",
        "    #tab_pour_excel = tab_cross_temp.drop([\"2\"], axis=1)\n",
        "\n",
        "    # si on ne veut pas éliminer la colonne 2\n",
        "    tab_pour_excel =  tab_cross_temp\n",
        "    \n",
        "    # enregistrement sous Excel\n",
        "    if save == True:\n",
        "        tab_pour_excel.to_excel(path)"
      ],
      "execution_count": 35,
      "outputs": []
    },
    {
      "cell_type": "code",
      "metadata": {
        "id": "91nsbYDpPOb2"
      },
      "source": [
        ""
      ],
      "execution_count": null,
      "outputs": []
    },
    {
      "cell_type": "code",
      "metadata": {
        "id": "I-YPAloELNpw"
      },
      "source": [
        "from sklearn.model_selection import train_test_split\n",
        "from sklearn.preprocessing import OneHotEncoder\n",
        "\n",
        "from sklearn.tree import DecisionTreeClassifier, plot_tree\n",
        "from sklearn.ensemble import RandomForestClassifier, BaggingClassifier, AdaBoostClassifier, GradientBoostingClassifier, ExtraTreesClassifier\n",
        "\n",
        "from sklearn.metrics import f1_score, confusion_matrix, classification_report\n",
        "from sklearn.model_selection import learning_curve, GridSearchCV"
      ],
      "execution_count": 8,
      "outputs": []
    },
    {
      "cell_type": "code",
      "metadata": {
        "id": "oJZmK3A1hFjN"
      },
      "source": [
        "####################  DONNEES SANS LES VARIABLES CORR ET ENCODAGE DUMMIES        ###########################"
      ],
      "execution_count": 9,
      "outputs": []
    },
    {
      "cell_type": "code",
      "metadata": {
        "colab": {
          "base_uri": "https://localhost:8080/"
        },
        "id": "Ayz77hrtHzrW",
        "outputId": "857b8002-0ddc-4520-c3a1-595bec7fe62e"
      },
      "source": [
        "# test predict individus sans classe\n",
        "data = data_orig.copy()\n",
        "\n",
        "# on élimine les variables dons\n",
        "data=data.drop([\"GeoFaz_cl\", \"ImmoFaz_Scl\", \"ImmoFaz_cl\", \"Prenom_Phase_cl_H\", \"Prenom_Phase_cl_F\",\"Onoma-Phase_Scl\",\n",
        "                \"Onoma-Phase_CL\"],axis=1)\n",
        "\n",
        "# encodage Onehot sur toutes les données (on évite ainsi les erreurs futures)\n",
        "nb_var = data.shape[1] - 1\n",
        "data_1_22 = pd.get_dummies(data.iloc[:,1:(data.shape[1]-1)], columns=data.columns[1:(data.shape[1]-1)] )\n",
        "data_var_qualitatives_temp =  pd.concat([data[\"IDENT\"], data_1_22, data[\"Top_mon\"]], axis=1)\n",
        "data = data_var_qualitatives_temp\n",
        "#encodage = OneHotEncoder()\n",
        "#encodage.fit(data_processing(data.iloc[:,1:nb_var]))\n",
        "\n",
        "# élimination des individus n'ayant pas de valeur pour la varialbe IFI+\n",
        "\"\"\"IMPORTANT\"\"\"\n",
        "data_sans_nan = data[(data.isnull()).sum(axis=1) == 0]\n",
        "\n",
        "#conversion du type de variable\n",
        "for i in range(1,data_sans_nan.shape[1]):\n",
        "    data_sans_nan.iloc[:,i]=data_sans_nan.iloc[:,i].astype(int)\n",
        "\n",
        "# base de données avec des variables corrélées et avec encodage OneHot\n",
        "data =data_sans_nan\n",
        "\n",
        "nb_var = data.shape[1] - 1\n",
        "train_set, test_set = train_test_split(data, test_size = 0.2, random_state=0 )\n",
        "\n",
        "train_X_s = (train_set.iloc[:,1:nb_var]).to_numpy()\n",
        "train_Y_s = np.asanyarray(train_set.iloc[:,nb_var])\n",
        "\n",
        "test_X_s = (test_set.iloc[:,1:nb_var]).to_numpy()\n",
        "test_Y_s = np.asanyarray(test_set.iloc[:,nb_var])\n"
      ],
      "execution_count": 10,
      "outputs": [
        {
          "output_type": "stream",
          "text": [
            "/usr/local/lib/python3.7/dist-packages/pandas/core/indexing.py:1743: SettingWithCopyWarning: \n",
            "A value is trying to be set on a copy of a slice from a DataFrame.\n",
            "Try using .loc[row_indexer,col_indexer] = value instead\n",
            "\n",
            "See the caveats in the documentation: https://pandas.pydata.org/pandas-docs/stable/user_guide/indexing.html#returning-a-view-versus-a-copy\n",
            "  isetter(ilocs[0], value)\n"
          ],
          "name": "stderr"
        }
      ]
    },
    {
      "cell_type": "code",
      "metadata": {
        "id": "nzA3GnjILNsT"
      },
      "source": [
        "####################################################################################\n",
        "#                            MODELE 1 : BOOSTING\n",
        "####################################################################################"
      ],
      "execution_count": null,
      "outputs": []
    },
    {
      "cell_type": "code",
      "metadata": {
        "colab": {
          "base_uri": "https://localhost:8080/"
        },
        "id": "6uT19lFGHzw1",
        "outputId": "28bd5d24-a0c8-4101-e69b-9fe4d0d0e448"
      },
      "source": [
        "model_AdaBoost = AdaBoostClassifier(base_estimator=DecisionTreeClassifier(class_weight = \"balanced\"), random_state =0 )\n",
        "param = {'base_estimator__criterion': ['gini','entropy'], 'base_estimator__max_depth' : list(range(2,20, 2)), 'n_estimators' : [20, 50] }\n",
        "\n",
        "grid_AdaBoost = GridSearchCV(model_AdaBoost, param, cv = 4, scoring = \"recall\")\n",
        "resultat_grid_AdaBoost = grid_AdaBoost.fit(train_X_s, train_Y_s)\n",
        "resultat_grid_AdaBoost.best_params_\n",
        "#model_AdaBoost.get_params\n"
      ],
      "execution_count": null,
      "outputs": [
        {
          "output_type": "execute_result",
          "data": {
            "text/plain": [
              "{'base_estimator__criterion': 'entropy',\n",
              " 'base_estimator__max_depth': 2,\n",
              " 'n_estimators': 50}"
            ]
          },
          "metadata": {
            "tags": []
          },
          "execution_count": 23
        }
      ]
    },
    {
      "cell_type": "code",
      "metadata": {
        "colab": {
          "base_uri": "https://localhost:8080/"
        },
        "id": "FUHacSWXHzyp",
        "outputId": "cadc399f-a64c-46e3-c4e0-d7bfd69f38b5"
      },
      "source": [
        "final_model_AdaBoost = AdaBoostClassifier(base_estimator = DecisionTreeClassifier(class_weight=\"balanced\", criterion=\"entropy\",max_depth=2),n_estimators = 50 , random_state=0 ) \n",
        "evaluation(final_model_AdaBoost, train_X_s, train_Y_s, test_X_s, test_Y_s, scoring=\"recall\" , plot =False)"
      ],
      "execution_count": 11,
      "outputs": [
        {
          "output_type": "stream",
          "text": [
            "test set : \n",
            "[[2982 2349]\n",
            " [5397 9132]]\n",
            "              precision    recall  f1-score   support\n",
            "\n",
            "           1       0.36      0.56      0.44      5331\n",
            "           2       0.80      0.63      0.70     14529\n",
            "\n",
            "    accuracy                           0.61     19860\n",
            "   macro avg       0.58      0.59      0.57     19860\n",
            "weighted avg       0.68      0.61      0.63     19860\n",
            "\n",
            "train set : \n",
            "[[12034  9363]\n",
            " [20757 37282]]\n",
            "              precision    recall  f1-score   support\n",
            "\n",
            "           1       0.37      0.56      0.44     21397\n",
            "           2       0.80      0.64      0.71     58039\n",
            "\n",
            "    accuracy                           0.62     79436\n",
            "   macro avg       0.58      0.60      0.58     79436\n",
            "weighted avg       0.68      0.62      0.64     79436\n",
            "\n",
            "GRAPHIQUE NON DEMANDE\n"
          ],
          "name": "stdout"
        }
      ]
    },
    {
      "cell_type": "code",
      "metadata": {
        "colab": {
          "base_uri": "https://localhost:8080/"
        },
        "id": "LKm4jSqlhqKT",
        "outputId": "fbdb0d44-f579-4d69-bd17-05aecb38c02f"
      },
      "source": [
        "# TRAIN SET TEST SET\n",
        "vingtiles(model = final_model_AdaBoost, data_orig = data, affichage=True,\n",
        "            save=True, path = \"/content/drive/MyDrive/spad_score_method_1/spad_projection_FDFTOT21/Fichier_excel_vingtiles/train_test_Adaboost.xlsx\")"
      ],
      "execution_count": 12,
      "outputs": [
        {
          "output_type": "stream",
          "text": [
            "                 IDENT     PROBA\n",
            "41557  415580010366670  0.318699\n",
            "51872  518730010377392  0.318767\n",
            "14631  146320010261695  0.319904\n",
            "79066  790670010415017  0.320262\n",
            "32764  327650010355036  0.320385\n",
            "...                ...       ...\n",
            "51980  519810010377558  0.670247\n",
            "80462  804630010416496  0.670698\n",
            "82246  822470010486983  0.672538\n",
            "75982  759830010410948  0.678212\n",
            "87203  872040010521403  0.754833\n",
            "\n",
            "[99296 rows x 2 columns]\n",
            "0.500216    193\n",
            "0.499127    180\n",
            "0.500984    156\n",
            "0.499895    133\n",
            "0.500940    104\n",
            "           ... \n",
            "0.508560      1\n",
            "0.501133      1\n",
            "0.491389      1\n",
            "0.500035      1\n",
            "0.499623      1\n",
            "Name: PROBA, Length: 63545, dtype: int64\n",
            "                  PROBA\n",
            "41557  (0.3186, 0.4959]\n",
            "51872  (0.3186, 0.4959]\n",
            "14631  (0.3186, 0.4959]\n",
            "79066  (0.3186, 0.4959]\n",
            "32764  (0.3186, 0.4959]\n",
            "...                 ...\n",
            "51980  (0.5047, 0.7548]\n",
            "80462  (0.5047, 0.7548]\n",
            "82246  (0.5047, 0.7548]\n",
            "75982  (0.5047, 0.7548]\n",
            "87203  (0.5047, 0.7548]\n",
            "\n",
            "[99296 rows x 1 columns]\n",
            "Top_mon              1     2  TOTAL\n",
            "TRANCHES                           \n",
            "(0.3186, 0.4959]   559  4407   4966\n",
            "(0.4959, 0.4966]   752  4217   4969\n",
            "(0.4966, 0.4971]   827  4133   4960\n",
            "(0.4971, 0.4975]   894  4071   4965\n",
            "(0.4975, 0.4979]   986  3981   4967\n",
            "(0.4979, 0.4983]   987  3985   4972\n",
            "(0.4983, 0.4986]  1083  3873   4956\n",
            "(0.4986, 0.4989]  1056  3939   4995\n",
            "(0.4989, 0.4992]  1157  3777   4934\n",
            "(0.4992, 0.4995]  1234  3730   4964\n",
            "(0.4995, 0.4998]  1264  3724   4988\n",
            "(0.4998, 0.5001]  1309  3634   4943\n",
            "(0.5001, 0.5004]  1413  3553   4966\n",
            "(0.5004, 0.5008]  1440  3523   4963\n",
            "(0.5008, 0.5011]  1507  3457   4964\n",
            "(0.5011, 0.5016]  1598  3367   4965\n",
            "(0.5016, 0.5022]  1754  3210   4964\n",
            "(0.5022, 0.503]   1886  3079   4965\n",
            "(0.503, 0.5047]   2209  2756   4965\n",
            "(0.5047, 0.7548]  2813  2152   4965\n"
          ],
          "name": "stdout"
        }
      ]
    },
    {
      "cell_type": "code",
      "metadata": {
        "colab": {
          "base_uri": "https://localhost:8080/"
        },
        "id": "BvNNKb0ndG7O",
        "outputId": "166a4bbf-8f3f-40b4-d0f3-b424d19a00a7"
      },
      "source": [
        "# INDIVIDUS SANS TARGET\n",
        "vingtiles_ind_sans_target(model = final_model_AdaBoost, data_orig= data_var_qualitatives_temp[(data_var_qualitatives_temp.isnull()).sum(axis=1) != 0], affichage=True,\n",
        "            save=True, path = \"/content/drive/MyDrive/spad_score_method_1/spad_projection_FDFTOT21/Fichier_excel_vingtiles/ind_sans_target_Adaboost.xlsx\")"
      ],
      "execution_count": 13,
      "outputs": [
        {
          "output_type": "stream",
          "text": [
            "                     IDENT     PROBA\n",
            "444570    3452750160001861  0.316018\n",
            "202982    1036870050043677  0.318215\n",
            "174910     756150050015605  0.318370\n",
            "1134735  10354400370051903  0.318699\n",
            "260655    1613600080004646  0.318857\n",
            "...                    ...       ...\n",
            "1119133  10198380370036301  0.678212\n",
            "633736    5344410250006520  0.678492\n",
            "641712    5424170250014471  0.678492\n",
            "635652    5363570250008436  0.679091\n",
            "132404     331090020023107  0.754833\n",
            "\n",
            "[1092884 rows x 2 columns]\n",
            "0.500216    2509\n",
            "0.500984    2383\n",
            "0.502029    1551\n",
            "0.497325    1533\n",
            "0.501632    1175\n",
            "            ... \n",
            "0.492191       1\n",
            "0.496387       1\n",
            "0.502594       1\n",
            "0.510512       1\n",
            "0.506298       1\n",
            "Name: PROBA, Length: 343191, dtype: int64\n",
            "                    PROBA\n",
            "444570   (0.3159, 0.4958]\n",
            "202982   (0.3159, 0.4958]\n",
            "174910   (0.3159, 0.4958]\n",
            "1134735  (0.3159, 0.4958]\n",
            "260655   (0.3159, 0.4958]\n",
            "...                   ...\n",
            "1119133  (0.5061, 0.7548]\n",
            "633736   (0.5061, 0.7548]\n",
            "641712   (0.5061, 0.7548]\n",
            "635652   (0.5061, 0.7548]\n",
            "132404   (0.5061, 0.7548]\n",
            "\n",
            "[1092884 rows x 1 columns]\n",
            "                     IDENT     PROBA          TRANCHES\n",
            "444570    3452750160001861  0.316018  (0.3159, 0.4958]\n",
            "202982    1036870050043677  0.318215  (0.3159, 0.4958]\n",
            "174910     756150050015605  0.318370  (0.3159, 0.4958]\n",
            "1134735  10354400370051903  0.318699  (0.3159, 0.4958]\n",
            "260655    1613600080004646  0.318857  (0.3159, 0.4958]\n",
            "...                    ...       ...               ...\n",
            "1119133  10198380370036301  0.678212  (0.5061, 0.7548]\n",
            "633736    5344410250006520  0.678492  (0.5061, 0.7548]\n",
            "641712    5424170250014471  0.678492  (0.5061, 0.7548]\n",
            "635652    5363570250008436  0.679091  (0.5061, 0.7548]\n",
            "132404     331090020023107  0.754833  (0.5061, 0.7548]\n",
            "\n",
            "[1092884 rows x 3 columns]\n",
            "(0.5028, 0.5039]    54537\n",
            "(0.5061, 0.7548]    54550\n",
            "(0.4982, 0.4986]    54559\n",
            "(0.4971, 0.4975]    54587\n",
            "(0.5007, 0.5011]    54623\n",
            "(0.4993, 0.4996]    54629\n",
            "(0.5016, 0.5021]    54638\n",
            "(0.4996, 0.5]       54642\n",
            "(0.4975, 0.4979]    54642\n",
            "(0.4986, 0.4989]    54643\n",
            "(0.5, 0.5003]       54644\n",
            "(0.3159, 0.4958]    54648\n",
            "(0.4958, 0.4966]    54653\n",
            "(0.4989, 0.4993]    54660\n",
            "(0.5011, 0.5016]    54665\n",
            "(0.5003, 0.5007]    54667\n",
            "(0.4966, 0.4971]    54691\n",
            "(0.4979, 0.4982]    54732\n",
            "(0.5021, 0.5028]    54735\n",
            "(0.5039, 0.5061]    54739\n",
            "Name: TRANCHES, dtype: int64\n",
            "            TRANCHES COUNTS\n",
            "0   (0.3159, 0.4958]  54648\n",
            "1   (0.4958, 0.4966]  54653\n",
            "2   (0.4966, 0.4971]  54691\n",
            "3   (0.4971, 0.4975]  54587\n",
            "4   (0.4975, 0.4979]  54642\n",
            "5   (0.4979, 0.4982]  54732\n",
            "6   (0.4982, 0.4986]  54559\n",
            "7   (0.4986, 0.4989]  54643\n",
            "8   (0.4989, 0.4993]  54660\n",
            "9   (0.4993, 0.4996]  54629\n",
            "10     (0.4996, 0.5]  54642\n",
            "11     (0.5, 0.5003]  54644\n",
            "12  (0.5003, 0.5007]  54667\n",
            "13  (0.5007, 0.5011]  54623\n",
            "14  (0.5011, 0.5016]  54665\n",
            "15  (0.5016, 0.5021]  54638\n",
            "16  (0.5021, 0.5028]  54735\n",
            "17  (0.5028, 0.5039]  54537\n",
            "18  (0.5039, 0.5061]  54739\n",
            "19  (0.5061, 0.7548]  54550\n"
          ],
          "name": "stdout"
        }
      ]
    },
    {
      "cell_type": "code",
      "metadata": {
        "id": "qsQSJ6dhhqRJ"
      },
      "source": [
        "#############################################################\n",
        "#                   MODELE 2 : RANDOM FOREST\n",
        "#############################################################"
      ],
      "execution_count": null,
      "outputs": []
    },
    {
      "cell_type": "code",
      "metadata": {
        "colab": {
          "base_uri": "https://localhost:8080/"
        },
        "id": "HBC-6OWNYvnm",
        "outputId": "e7b405fd-32d4-4b31-f23e-b3086a3b4963"
      },
      "source": [
        "model_RandomForestClassifier = RandomForestClassifier(class_weight=\"balanced\", random_state =0 )\n",
        "param = {'criterion': ['gini','entropy'], 'max_depth' : [2,3,4,5],\"max_features\":[8,12,15,20,25,30] ,'n_estimators' : [20,50,100,200] }\n",
        "\n",
        "grid_RandomForestClassifier = GridSearchCV(model_RandomForestClassifier, param, cv = 4, scoring = \"recall\", n_jobs=2)\n",
        "resultat_grid_RandomForestClassifier = grid_RandomForestClassifier.fit(train_X_s, train_Y_s)\n",
        "resultat_grid_RandomForestClassifier.best_params_\n"
      ],
      "execution_count": null,
      "outputs": [
        {
          "output_type": "execute_result",
          "data": {
            "text/plain": [
              "{'criterion': 'entropy',\n",
              " 'max_depth': 2,\n",
              " 'max_features': 25,\n",
              " 'n_estimators': 100}"
            ]
          },
          "metadata": {
            "tags": []
          },
          "execution_count": 15
        }
      ]
    },
    {
      "cell_type": "code",
      "metadata": {
        "colab": {
          "base_uri": "https://localhost:8080/"
        },
        "id": "n3i-NJ26zZsC",
        "outputId": "30d63e66-0c68-48ee-e7a6-2c7311850eae"
      },
      "source": [
        "final_model_RandomForestClassifier = RandomForestClassifier(class_weight=\"balanced\", criterion=\"entropy\", max_depth=2, max_features=25, n_estimators = 100, random_state=0) \n",
        "evaluation(final_model_RandomForestClassifier, train_X_s, train_Y_s, test_X_s, test_Y_s, scoring=\"recall\", plot=False)"
      ],
      "execution_count": 14,
      "outputs": [
        {
          "output_type": "stream",
          "text": [
            "test set : \n",
            "[[3337 1994]\n",
            " [6697 7832]]\n",
            "              precision    recall  f1-score   support\n",
            "\n",
            "           1       0.33      0.63      0.43      5331\n",
            "           2       0.80      0.54      0.64     14529\n",
            "\n",
            "    accuracy                           0.56     19860\n",
            "   macro avg       0.56      0.58      0.54     19860\n",
            "weighted avg       0.67      0.56      0.59     19860\n",
            "\n",
            "train set : \n",
            "[[13040  8357]\n",
            " [26732 31307]]\n",
            "              precision    recall  f1-score   support\n",
            "\n",
            "           1       0.33      0.61      0.43     21397\n",
            "           2       0.79      0.54      0.64     58039\n",
            "\n",
            "    accuracy                           0.56     79436\n",
            "   macro avg       0.56      0.57      0.53     79436\n",
            "weighted avg       0.67      0.56      0.58     79436\n",
            "\n",
            "GRAPHIQUE NON DEMANDE\n"
          ],
          "name": "stdout"
        }
      ]
    },
    {
      "cell_type": "code",
      "metadata": {
        "colab": {
          "base_uri": "https://localhost:8080/"
        },
        "id": "zHQtVH69zZvW",
        "outputId": "7d8fc25c-b18d-4ede-aa9b-befc2b98d6d5"
      },
      "source": [
        "# TRAIN SET TEST SET\n",
        "vingtiles(model = final_model_RandomForestClassifier, data_orig = data, affichage=True,\n",
        "            save=True, path = \"/content/drive/MyDrive/spad_score_method_1/spad_projection_FDFTOT21/Fichier_excel_vingtiles/train_test_Random_Forest.xlsx\")"
      ],
      "execution_count": 15,
      "outputs": [
        {
          "output_type": "stream",
          "text": [
            "                 IDENT     PROBA\n",
            "21093  210940010337388  0.431003\n",
            "81351  813520010417435  0.433345\n",
            "45203  452040010370375  0.433345\n",
            "85735  857360010519730  0.433664\n",
            "93208  932090010530978  0.433664\n",
            "...                ...       ...\n",
            "59942  599430010392241  0.652199\n",
            "85895  858960010519940  0.652199\n",
            "15264  152650010262550  0.652199\n",
            "3728    37290010049725  0.652199\n",
            "30193  301940010350422  0.652199\n",
            "\n",
            "[99296 rows x 2 columns]\n",
            "0.522340    2486\n",
            "0.462567    2360\n",
            "0.511184    1756\n",
            "0.463206    1390\n",
            "0.463146     922\n",
            "            ... \n",
            "0.508820       1\n",
            "0.483883       1\n",
            "0.445886       1\n",
            "0.445106       1\n",
            "0.447721       1\n",
            "Name: PROBA, Length: 19585, dtype: int64\n",
            "               PROBA\n",
            "21093  (0.43, 0.447]\n",
            "81351  (0.43, 0.447]\n",
            "45203  (0.43, 0.447]\n",
            "85735  (0.43, 0.447]\n",
            "93208  (0.43, 0.447]\n",
            "...              ...\n",
            "59942  (0.56, 0.652]\n",
            "85895  (0.56, 0.652]\n",
            "15264  (0.56, 0.652]\n",
            "3728   (0.56, 0.652]\n",
            "30193  (0.56, 0.652]\n",
            "\n",
            "[99296 rows x 1 columns]\n",
            "Top_mon            1     2  TOTAL\n",
            "TRANCHES                         \n",
            "(0.43, 0.447]    754  4241   4995\n",
            "(0.447, 0.45]    892  4043   4935\n",
            "(0.45, 0.459]    884  4081   4965\n",
            "(0.459, 0.462]   914  4109   5023\n",
            "(0.462, 0.463]  1223  4374   5597\n",
            "(0.463, 0.466]   947  3366   4313\n",
            "(0.466, 0.472]  1139  3787   4926\n",
            "(0.472, 0.478]  1127  3841   4968\n",
            "(0.478, 0.487]  1162  3800   4962\n",
            "(0.487, 0.501]  1355  3611   4966\n",
            "(0.501, 0.509]  1221  3742   4963\n",
            "(0.509, 0.511]  1604  4615   6219\n",
            "(0.511, 0.515]  1042  2681   3723\n",
            "(0.515, 0.519]  1369  3592   4961\n",
            "(0.519, 0.521]  1426  3612   5038\n",
            "(0.521, 0.522]  1759  4030   5789\n",
            "(0.522, 0.525]  1383  2676   4059\n",
            "(0.525, 0.533]  1751  3234   4985\n",
            "(0.533, 0.56]   2124  2821   4945\n",
            "(0.56, 0.652]   2652  2312   4964\n"
          ],
          "name": "stdout"
        }
      ]
    },
    {
      "cell_type": "code",
      "metadata": {
        "colab": {
          "base_uri": "https://localhost:8080/"
        },
        "id": "8jVj4rxxzZ1k",
        "outputId": "4e7a7ee2-fd90-4b78-87bc-ddd184898619"
      },
      "source": [
        "# INDIVIDUS SANS TARGET\n",
        "vingtiles_ind_sans_target(model = final_model_RandomForestClassifier, data_orig= data_var_qualitatives_temp[(data_var_qualitatives_temp.isnull()).sum(axis=1) != 0], affichage=True,\n",
        "            save=True, path = \"/content/drive/MyDrive/spad_score_method_1/spad_projection_FDFTOT21/Fichier_excel_vingtiles/ind_sans_target_Random_Forest.xlsx\")"
      ],
      "execution_count": 16,
      "outputs": [
        {
          "output_type": "stream",
          "text": [
            "                     IDENT     PROBA\n",
            "256380    1570850080000371  0.431003\n",
            "961849    8625540360039017  0.431003\n",
            "1186301  10870060370103469  0.431003\n",
            "904358    8050630340010526  0.431003\n",
            "522399    4231040190038663  0.431003\n",
            "...                    ...       ...\n",
            "296421    1971260110014400  0.657206\n",
            "107409      81140010007952  0.658674\n",
            "1115545  10162500370032713  0.659533\n",
            "636562    5372670250009346  0.663301\n",
            "895764    7964690340001932  0.666665\n",
            "\n",
            "[1092884 rows x 2 columns]\n",
            "0.522340    35171\n",
            "0.462567    30189\n",
            "0.463206    16015\n",
            "0.520539    11016\n",
            "0.463146    10093\n",
            "            ...  \n",
            "0.525004        1\n",
            "0.508264        1\n",
            "0.517442        1\n",
            "0.510307        1\n",
            "0.503065        1\n",
            "Name: PROBA, Length: 64803, dtype: int64\n",
            "                  PROBA\n",
            "256380    (0.43, 0.446]\n",
            "961849    (0.43, 0.446]\n",
            "1186301   (0.43, 0.446]\n",
            "904358    (0.43, 0.446]\n",
            "522399    (0.43, 0.446]\n",
            "...                 ...\n",
            "296421   (0.565, 0.667]\n",
            "107409   (0.565, 0.667]\n",
            "1115545  (0.565, 0.667]\n",
            "636562   (0.565, 0.667]\n",
            "895764   (0.565, 0.667]\n",
            "\n",
            "[1092884 rows x 1 columns]\n",
            "                     IDENT     PROBA        TRANCHES\n",
            "256380    1570850080000371  0.431003   (0.43, 0.446]\n",
            "961849    8625540360039017  0.431003   (0.43, 0.446]\n",
            "1186301  10870060370103469  0.431003   (0.43, 0.446]\n",
            "904358    8050630340010526  0.431003   (0.43, 0.446]\n",
            "522399    4231040190038663  0.431003   (0.43, 0.446]\n",
            "...                    ...       ...             ...\n",
            "296421    1971260110014400  0.657206  (0.565, 0.667]\n",
            "107409      81140010007952  0.658674  (0.565, 0.667]\n",
            "1115545  10162500370032713  0.659533  (0.565, 0.667]\n",
            "636562    5372670250009346  0.663301  (0.565, 0.667]\n",
            "895764    7964690340001932  0.666665  (0.565, 0.667]\n",
            "\n",
            "[1092884 rows x 3 columns]\n",
            "(0.449, 0.455]    49798\n",
            "(0.474, 0.483]    50797\n",
            "(0.521, 0.522]    50963\n",
            "(0.463, 0.464]    51483\n",
            "(0.526, 0.537]    53246\n",
            "(0.483, 0.492]    53510\n",
            "(0.522, 0.523]    53760\n",
            "(0.492, 0.505]    54211\n",
            "(0.537, 0.565]    54333\n",
            "(0.565, 0.667]    54604\n",
            "(0.43, 0.446]     54743\n",
            "(0.513, 0.519]    54779\n",
            "(0.505, 0.513]    54792\n",
            "(0.464, 0.469]    54936\n",
            "(0.455, 0.461]    55821\n",
            "(0.523, 0.526]    56393\n",
            "(0.461, 0.463]    56639\n",
            "(0.519, 0.521]    58917\n",
            "(0.446, 0.449]    59392\n",
            "(0.469, 0.474]    59767\n",
            "Name: TRANCHES, dtype: int64\n",
            "          TRANCHES COUNTS\n",
            "0    (0.43, 0.446]  54743\n",
            "1   (0.446, 0.449]  59392\n",
            "2   (0.449, 0.455]  49798\n",
            "3   (0.455, 0.461]  55821\n",
            "4   (0.461, 0.463]  56639\n",
            "5   (0.463, 0.464]  51483\n",
            "6   (0.464, 0.469]  54936\n",
            "7   (0.469, 0.474]  59767\n",
            "8   (0.474, 0.483]  50797\n",
            "9   (0.483, 0.492]  53510\n",
            "10  (0.492, 0.505]  54211\n",
            "11  (0.505, 0.513]  54792\n",
            "12  (0.513, 0.519]  54779\n",
            "13  (0.519, 0.521]  58917\n",
            "14  (0.521, 0.522]  50963\n",
            "15  (0.522, 0.523]  53760\n",
            "16  (0.523, 0.526]  56393\n",
            "17  (0.526, 0.537]  53246\n",
            "18  (0.537, 0.565]  54333\n",
            "19  (0.565, 0.667]  54604\n"
          ],
          "name": "stdout"
        }
      ]
    },
    {
      "cell_type": "code",
      "metadata": {
        "id": "d04Xaq_mRPT-"
      },
      "source": [
        ""
      ],
      "execution_count": null,
      "outputs": []
    },
    {
      "cell_type": "code",
      "metadata": {
        "id": "7LLwgps2n4tS"
      },
      "source": [
        "#############################################################\n",
        "#                   MODELE 3 : BAGGING\n",
        "#############################################################"
      ],
      "execution_count": null,
      "outputs": []
    },
    {
      "cell_type": "code",
      "metadata": {
        "colab": {
          "base_uri": "https://localhost:8080/"
        },
        "id": "pL9jq9H5n4wa",
        "outputId": "13730fdc-a132-4f50-d43f-f9274d6d17e0"
      },
      "source": [
        "model_Bagging = BaggingClassifier(base_estimator=DecisionTreeClassifier(class_weight = \"balanced\"), random_state =0 )\n",
        "param = {'base_estimator__criterion': ['gini','entropy'], 'base_estimator__max_depth' : list(range(2,20, 2)), 'n_estimators' : [20, 50],\n",
        "         'bootstrap':[True, False], \"bootstrap_features\": [True, False]}\n",
        "\n",
        "grid_Bagging = GridSearchCV(model_Bagging, param, cv = 4, scoring = \"recall\", n_jobs=2)\n",
        "resultat_grid_Bagging = grid_Bagging.fit(train_X_s, train_Y_s)\n",
        "resultat_grid_Bagging.best_params_\n"
      ],
      "execution_count": null,
      "outputs": [
        {
          "output_type": "execute_result",
          "data": {
            "text/plain": [
              "{'base_estimator__criterion': 'gini',\n",
              " 'base_estimator__max_depth': 2,\n",
              " 'bootstrap': False,\n",
              " 'bootstrap_features': False,\n",
              " 'n_estimators': 20}"
            ]
          },
          "metadata": {
            "tags": []
          },
          "execution_count": 12
        }
      ]
    },
    {
      "cell_type": "code",
      "metadata": {
        "colab": {
          "base_uri": "https://localhost:8080/"
        },
        "id": "I8vJFdWdn4z1",
        "outputId": "4b9eba74-f4fe-4077-f767-f4ee684fa2c9"
      },
      "source": [
        "final_model_BaggingClassifier = BaggingClassifier(base_estimator=DecisionTreeClassifier(class_weight = \"balanced\", criterion=\"gini\", max_depth=2, random_state=0),bootstrap=False, bootstrap_features=False, n_estimators = 20) \n",
        "evaluation(final_model_BaggingClassifier, train_X_s, train_Y_s, test_X_s, test_Y_s, scoring=\"recall\", plot=False)"
      ],
      "execution_count": null,
      "outputs": [
        {
          "output_type": "stream",
          "text": [
            "test set : \n",
            "[[3351 1980]\n",
            " [6937 7592]]\n",
            "              precision    recall  f1-score   support\n",
            "\n",
            "           1       0.33      0.63      0.43      5331\n",
            "           2       0.79      0.52      0.63     14529\n",
            "\n",
            "    accuracy                           0.55     19860\n",
            "   macro avg       0.56      0.58      0.53     19860\n",
            "weighted avg       0.67      0.55      0.58     19860\n",
            "\n",
            "train set : \n",
            "[[13136  8261]\n",
            " [27415 30624]]\n",
            "              precision    recall  f1-score   support\n",
            "\n",
            "           1       0.32      0.61      0.42     21397\n",
            "           2       0.79      0.53      0.63     58039\n",
            "\n",
            "    accuracy                           0.55     79436\n",
            "   macro avg       0.56      0.57      0.53     79436\n",
            "weighted avg       0.66      0.55      0.58     79436\n",
            "\n",
            "GRAPHIQUE NON DEMANDE\n"
          ],
          "name": "stdout"
        }
      ]
    },
    {
      "cell_type": "code",
      "metadata": {
        "colab": {
          "base_uri": "https://localhost:8080/",
          "height": 779
        },
        "id": "-iYPSINKn43B",
        "outputId": "d825a356-dad8-464b-d4fb-0d40a75dcc1a"
      },
      "source": [
        "vingtiles(model = final_model_BaggingClassifier, data_orig = data, affichage=True,\n",
        "            save=False, path = \"/content/drive/MyDrive/spad_score_method_1/spad_projection_FDFTOT21/Fichier_excel_vingtiles/train_test_Decision_Tree_Classifier.xlsx\")"
      ],
      "execution_count": null,
      "outputs": [
        {
          "output_type": "stream",
          "text": [
            "                 IDENT     PROBA\n",
            "0          10010000001  0.422535\n",
            "54721  547220010381167  0.422535\n",
            "54723  547240010381169  0.422535\n",
            "54726  547270010381172  0.422535\n",
            "54730  547310010381176  0.422535\n",
            "...                ...       ...\n",
            "26294  262950010344113  0.747443\n",
            "94780  947810010532992  0.747443\n",
            "5695    56960010244031  0.747443\n",
            "2017    20180010026147  0.747443\n",
            "33013  330140010355655  0.747443\n",
            "\n",
            "[99296 rows x 2 columns]\n",
            "0.422535    48457\n",
            "0.529059    41073\n",
            "0.644284     5282\n",
            "0.747443     4484\n",
            "Name: PROBA, dtype: int64\n"
          ],
          "name": "stdout"
        },
        {
          "output_type": "error",
          "ename": "ValueError",
          "evalue": "ignored",
          "traceback": [
            "\u001b[0;31m---------------------------------------------------------------------------\u001b[0m",
            "\u001b[0;31mValueError\u001b[0m                                Traceback (most recent call last)",
            "\u001b[0;32m<ipython-input-46-4be2b6119a1a>\u001b[0m in \u001b[0;36m<module>\u001b[0;34m()\u001b[0m\n\u001b[1;32m      1\u001b[0m vingtiles(model = final_model_BaggingClassifier, data_orig = data, affichage=True,\n\u001b[0;32m----> 2\u001b[0;31m             save=False, path = \"/content/drive/MyDrive/spad_score_method_1/spad_projection_FDFTOT21/Fichier_excel_vingtiles/train_test_Decision_Tree_Classifier.xlsx\")\n\u001b[0m",
            "\u001b[0;32m<ipython-input-35-3433ddb3b525>\u001b[0m in \u001b[0;36mvingtiles\u001b[0;34m(model, data_orig, affichage, save, path)\u001b[0m\n\u001b[1;32m    105\u001b[0m \u001b[0;34m\u001b[0m\u001b[0m\n\u001b[1;32m    106\u001b[0m     \u001b[0;31m# quarantiles\u001b[0m\u001b[0;34m\u001b[0m\u001b[0;34m\u001b[0m\u001b[0;34m\u001b[0m\u001b[0m\n\u001b[0;32m--> 107\u001b[0;31m     \u001b[0mdf_temp\u001b[0m \u001b[0;34m=\u001b[0m\u001b[0mpd\u001b[0m\u001b[0;34m.\u001b[0m\u001b[0mDataFrame\u001b[0m\u001b[0;34m(\u001b[0m \u001b[0mpd\u001b[0m\u001b[0;34m.\u001b[0m\u001b[0mqcut\u001b[0m\u001b[0;34m(\u001b[0m\u001b[0mdf_tous\u001b[0m\u001b[0;34m[\u001b[0m\u001b[0;34m'PROBA'\u001b[0m\u001b[0;34m]\u001b[0m\u001b[0;34m,\u001b[0m\u001b[0mq\u001b[0m\u001b[0;34m=\u001b[0m \u001b[0;36m20\u001b[0m\u001b[0;34m)\u001b[0m  \u001b[0;34m)\u001b[0m\u001b[0;34m\u001b[0m\u001b[0;34m\u001b[0m\u001b[0m\n\u001b[0m\u001b[1;32m    108\u001b[0m     \u001b[0mprint\u001b[0m\u001b[0;34m(\u001b[0m\u001b[0mdf_temp\u001b[0m\u001b[0;34m)\u001b[0m\u001b[0;34m\u001b[0m\u001b[0;34m\u001b[0m\u001b[0m\n\u001b[1;32m    109\u001b[0m \u001b[0;34m\u001b[0m\u001b[0m\n",
            "\u001b[0;32m/usr/local/lib/python3.7/dist-packages/pandas/core/reshape/tile.py\u001b[0m in \u001b[0;36mqcut\u001b[0;34m(x, q, labels, retbins, precision, duplicates)\u001b[0m\n\u001b[1;32m    365\u001b[0m         \u001b[0minclude_lowest\u001b[0m\u001b[0;34m=\u001b[0m\u001b[0;32mTrue\u001b[0m\u001b[0;34m,\u001b[0m\u001b[0;34m\u001b[0m\u001b[0;34m\u001b[0m\u001b[0m\n\u001b[1;32m    366\u001b[0m         \u001b[0mdtype\u001b[0m\u001b[0;34m=\u001b[0m\u001b[0mdtype\u001b[0m\u001b[0;34m,\u001b[0m\u001b[0;34m\u001b[0m\u001b[0;34m\u001b[0m\u001b[0m\n\u001b[0;32m--> 367\u001b[0;31m         \u001b[0mduplicates\u001b[0m\u001b[0;34m=\u001b[0m\u001b[0mduplicates\u001b[0m\u001b[0;34m,\u001b[0m\u001b[0;34m\u001b[0m\u001b[0;34m\u001b[0m\u001b[0m\n\u001b[0m\u001b[1;32m    368\u001b[0m     )\n\u001b[1;32m    369\u001b[0m \u001b[0;34m\u001b[0m\u001b[0m\n",
            "\u001b[0;32m/usr/local/lib/python3.7/dist-packages/pandas/core/reshape/tile.py\u001b[0m in \u001b[0;36m_bins_to_cuts\u001b[0;34m(x, bins, right, labels, precision, include_lowest, dtype, duplicates, ordered)\u001b[0m\n\u001b[1;32m    400\u001b[0m         \u001b[0;32mif\u001b[0m \u001b[0mduplicates\u001b[0m \u001b[0;34m==\u001b[0m \u001b[0;34m\"raise\"\u001b[0m\u001b[0;34m:\u001b[0m\u001b[0;34m\u001b[0m\u001b[0;34m\u001b[0m\u001b[0m\n\u001b[1;32m    401\u001b[0m             raise ValueError(\n\u001b[0;32m--> 402\u001b[0;31m                 \u001b[0;34mf\"Bin edges must be unique: {repr(bins)}.\\n\"\u001b[0m\u001b[0;34m\u001b[0m\u001b[0;34m\u001b[0m\u001b[0m\n\u001b[0m\u001b[1;32m    403\u001b[0m                 \u001b[0;34mf\"You can drop duplicate edges by setting the 'duplicates' kwarg\"\u001b[0m\u001b[0;34m\u001b[0m\u001b[0;34m\u001b[0m\u001b[0m\n\u001b[1;32m    404\u001b[0m             )\n",
            "\u001b[0;31mValueError\u001b[0m: Bin edges must be unique: array([0.4225354 , 0.4225354 , 0.4225354 , 0.4225354 , 0.4225354 ,\n       0.4225354 , 0.4225354 , 0.4225354 , 0.4225354 , 0.4225354 ,\n       0.52905925, 0.52905925, 0.52905925, 0.52905925, 0.52905925,\n       0.52905925, 0.52905925, 0.52905925, 0.52905925, 0.64428447,\n       0.74744331]).\nYou can drop duplicate edges by setting the 'duplicates' kwarg"
          ]
        }
      ]
    },
    {
      "cell_type": "code",
      "metadata": {
        "id": "M_AjyHWqHVxP"
      },
      "source": [
        "#############################################################\n",
        "#                   MODELE 4 : EXTRA-TREES\n",
        "#############################################################"
      ],
      "execution_count": null,
      "outputs": []
    },
    {
      "cell_type": "code",
      "metadata": {
        "colab": {
          "base_uri": "https://localhost:8080/"
        },
        "id": "Mato8dS5qWhB",
        "outputId": "037ec668-de29-499d-f8c6-2108a3afbfd7"
      },
      "source": [
        "model_ExtraTreesClassifier = ExtraTreesClassifier(class_weight=\"balanced\", random_state =0 )\n",
        "param = {'criterion': ['gini','entropy'], 'max_depth' : [2,3,4,5],\"max_features\":[8,12,15,20,25,30] ,'n_estimators' : [20,50,100,200] }\n",
        "\n",
        "grid_ExtraTreesClassifier = GridSearchCV(model_ExtraTreesClassifier, param, cv = 4, scoring = \"recall\", n_jobs=2)\n",
        "resultat_grid_ExtraTreesClassifier = grid_ExtraTreesClassifier.fit(train_X_s, train_Y_s)\n",
        "resultat_grid_ExtraTreesClassifier.best_params_\n",
        "\n"
      ],
      "execution_count": null,
      "outputs": [
        {
          "output_type": "execute_result",
          "data": {
            "text/plain": [
              "{'criterion': 'entropy',\n",
              " 'max_depth': 2,\n",
              " 'max_features': 25,\n",
              " 'n_estimators': 100}"
            ]
          },
          "metadata": {
            "tags": []
          },
          "execution_count": 12
        }
      ]
    },
    {
      "cell_type": "code",
      "metadata": {
        "colab": {
          "base_uri": "https://localhost:8080/"
        },
        "id": "RoQPo8kpqWj6",
        "outputId": "c094120d-1eb4-4b7d-ecc2-07d4793ba533"
      },
      "source": [
        "final_model_ExtraTreesClassifier = ExtraTreesClassifier( criterion=\"entropy\", max_depth=2, max_features=25, n_estimators=100 , class_weight=\"balanced\", random_state=0) \n",
        "evaluation(final_model_ExtraTreesClassifier, train_X_s, train_Y_s, test_X_s, test_Y_s, scoring=\"recall\", plot=False)"
      ],
      "execution_count": 17,
      "outputs": [
        {
          "output_type": "stream",
          "text": [
            "test set : \n",
            "[[3337 1994]\n",
            " [6784 7745]]\n",
            "              precision    recall  f1-score   support\n",
            "\n",
            "           1       0.33      0.63      0.43      5331\n",
            "           2       0.80      0.53      0.64     14529\n",
            "\n",
            "    accuracy                           0.56     19860\n",
            "   macro avg       0.56      0.58      0.54     19860\n",
            "weighted avg       0.67      0.56      0.58     19860\n",
            "\n",
            "train set : \n",
            "[[13090  8307]\n",
            " [26999 31040]]\n",
            "              precision    recall  f1-score   support\n",
            "\n",
            "           1       0.33      0.61      0.43     21397\n",
            "           2       0.79      0.53      0.64     58039\n",
            "\n",
            "    accuracy                           0.56     79436\n",
            "   macro avg       0.56      0.57      0.53     79436\n",
            "weighted avg       0.66      0.56      0.58     79436\n",
            "\n",
            "GRAPHIQUE NON DEMANDE\n"
          ],
          "name": "stdout"
        }
      ]
    },
    {
      "cell_type": "code",
      "metadata": {
        "colab": {
          "base_uri": "https://localhost:8080/"
        },
        "id": "sbb1j_mWCJTJ",
        "outputId": "4422f78e-c2ee-4b0e-ca42-6e2f7a0e75c4"
      },
      "source": [
        "vingtiles(model = final_model_ExtraTreesClassifier, data_orig = data, affichage=True,\n",
        "            save=True, path = \"/content/drive/MyDrive/spad_score_method_1/spad_projection_FDFTOT21/Fichier_excel_vingtiles/train_test_Extra_Trees_Classifier.xlsx\")"
      ],
      "execution_count": 18,
      "outputs": [
        {
          "output_type": "stream",
          "text": [
            "                 IDENT     PROBA\n",
            "10385  103860010257272  0.435484\n",
            "38910  389110010363695  0.435787\n",
            "62181  621820010395560  0.435998\n",
            "70769  707700010404698  0.436404\n",
            "16027  160280010263592  0.436629\n",
            "...                ...       ...\n",
            "2075    20760010027058  0.648462\n",
            "50923  509240010376412  0.648462\n",
            "12520  125210010259455  0.648462\n",
            "2071    20720010027021  0.648462\n",
            "39949  399500010364851  0.648767\n",
            "\n",
            "[99296 rows x 2 columns]\n",
            "0.526498    1291\n",
            "0.458107    1120\n",
            "0.518145     931\n",
            "0.523358     757\n",
            "0.451825     686\n",
            "            ... \n",
            "0.475616       1\n",
            "0.471833       1\n",
            "0.519736       1\n",
            "0.534679       1\n",
            "0.547145       1\n",
            "Name: PROBA, Length: 21072, dtype: int64\n",
            "                PROBA\n",
            "10385  (0.434, 0.448]\n",
            "38910  (0.434, 0.448]\n",
            "62181  (0.434, 0.448]\n",
            "70769  (0.434, 0.448]\n",
            "16027  (0.434, 0.448]\n",
            "...               ...\n",
            "2075   (0.559, 0.649]\n",
            "50923  (0.559, 0.649]\n",
            "12520  (0.559, 0.649]\n",
            "2071   (0.559, 0.649]\n",
            "39949  (0.559, 0.649]\n",
            "\n",
            "[99296 rows x 1 columns]\n",
            "Top_mon            1     2  TOTAL\n",
            "TRANCHES                         \n",
            "(0.434, 0.448]   783  4182   4965\n",
            "(0.448, 0.452]   890  4137   5027\n",
            "(0.452, 0.456]   887  4032   4919\n",
            "(0.456, 0.458]   913  4080   4993\n",
            "(0.458, 0.46]   1068  3881   4949\n",
            "(0.46, 0.463]   1086  3887   4973\n",
            "(0.463, 0.468]  1158  3772   4930\n",
            "(0.468, 0.474]  1101  3866   4967\n",
            "(0.474, 0.483]  1153  3807   4960\n",
            "(0.483, 0.502]  1428  3540   4968\n",
            "(0.502, 0.514]  1355  3690   5045\n",
            "(0.514, 0.517]  1236  3651   4887\n",
            "(0.517, 0.52]   1307  3654   4961\n",
            "(0.52, 0.522]   1369  3613   4982\n",
            "(0.522, 0.524]  1381  3568   4949\n",
            "(0.524, 0.526]  1779  4076   5855\n",
            "(0.526, 0.528]  1350  2722   4072\n",
            "(0.528, 0.534]  1851  3129   4980\n",
            "(0.534, 0.559]  2008  2958   4966\n",
            "(0.559, 0.649]  2625  2323   4948\n"
          ],
          "name": "stdout"
        }
      ]
    },
    {
      "cell_type": "code",
      "metadata": {
        "colab": {
          "base_uri": "https://localhost:8080/"
        },
        "id": "o4sqbcxcBhvi",
        "outputId": "4af4a117-0802-4b9f-862e-e9b041792d28"
      },
      "source": [
        "# INDIVIDUS SANS TARGET\n",
        "vingtiles_ind_sans_target(model = final_model_ExtraTreesClassifier, data_orig= data_var_qualitatives_temp[(data_var_qualitatives_temp.isnull()).sum(axis=1) != 0], affichage=True,\n",
        "            save=True, path = \"/content/drive/MyDrive/spad_score_method_1/spad_projection_FDFTOT21/Fichier_excel_vingtiles/ind_sans_target_Extra_Trees_Classifier.xlsx\")"
      ],
      "execution_count": 19,
      "outputs": [
        {
          "output_type": "stream",
          "text": [
            "                    IDENT     PROBA\n",
            "605731   5064360220047969  0.434779\n",
            "262502   1632070080006493  0.435114\n",
            "1042770  9434750360119938  0.435259\n",
            "1004467  9051720360081635  0.435468\n",
            "326493   2271980120024467  0.435468\n",
            "...                   ...       ...\n",
            "356649   2573540130004633  0.648767\n",
            "99860       5650010000403  0.648767\n",
            "356791   2574960130004775  0.648767\n",
            "1081999  9827040360159167  0.648767\n",
            "895764   7964690340001932  0.650241\n",
            "\n",
            "[1092884 rows x 2 columns]\n",
            "0.526498    17792\n",
            "0.458107    14518\n",
            "0.523358    10259\n",
            "0.451825     9102\n",
            "0.451756     8892\n",
            "            ...  \n",
            "0.568415        1\n",
            "0.579878        1\n",
            "0.468235        1\n",
            "0.511280        1\n",
            "0.535116        1\n",
            "Name: PROBA, Length: 72465, dtype: int64\n",
            "                  PROBA\n",
            "605731   (0.434, 0.447]\n",
            "262502   (0.434, 0.447]\n",
            "1042770  (0.434, 0.447]\n",
            "1004467  (0.434, 0.447]\n",
            "326493   (0.434, 0.447]\n",
            "...                 ...\n",
            "356649    (0.564, 0.65]\n",
            "99860     (0.564, 0.65]\n",
            "356791    (0.564, 0.65]\n",
            "1081999   (0.564, 0.65]\n",
            "895764    (0.564, 0.65]\n",
            "\n",
            "[1092884 rows x 1 columns]\n",
            "                    IDENT     PROBA        TRANCHES\n",
            "605731   5064360220047969  0.434779  (0.434, 0.447]\n",
            "262502   1632070080006493  0.435114  (0.434, 0.447]\n",
            "1042770  9434750360119938  0.435259  (0.434, 0.447]\n",
            "1004467  9051720360081635  0.435468  (0.434, 0.447]\n",
            "326493   2271980120024467  0.435468  (0.434, 0.447]\n",
            "...                   ...       ...             ...\n",
            "356649   2573540130004633  0.648767   (0.564, 0.65]\n",
            "99860       5650010000403  0.648767   (0.564, 0.65]\n",
            "356791   2574960130004775  0.648767   (0.564, 0.65]\n",
            "1081999  9827040360159167  0.648767   (0.564, 0.65]\n",
            "895764   7964690340001932  0.650241   (0.564, 0.65]\n",
            "\n",
            "[1092884 rows x 3 columns]\n",
            "(0.526, 0.527]    49807\n",
            "(0.529, 0.538]    53138\n",
            "(0.451, 0.454]    54289\n",
            "(0.465, 0.471]    54528\n",
            "(0.564, 0.65]     54573\n",
            "(0.506, 0.517]    54574\n",
            "(0.538, 0.564]    54623\n",
            "(0.457, 0.459]    54624\n",
            "(0.454, 0.457]    54630\n",
            "(0.471, 0.478]    54638\n",
            "(0.517, 0.522]    54641\n",
            "(0.478, 0.489]    54655\n",
            "(0.461, 0.465]    54670\n",
            "(0.489, 0.506]    54708\n",
            "(0.459, 0.461]    54744\n",
            "(0.447, 0.451]    54775\n",
            "(0.527, 0.529]    54884\n",
            "(0.434, 0.447]    54903\n",
            "(0.524, 0.526]    56451\n",
            "(0.522, 0.524]    59029\n",
            "Name: TRANCHES, dtype: int64\n",
            "          TRANCHES COUNTS\n",
            "0   (0.434, 0.447]  54903\n",
            "1   (0.447, 0.451]  54775\n",
            "2   (0.451, 0.454]  54289\n",
            "3   (0.454, 0.457]  54630\n",
            "4   (0.457, 0.459]  54624\n",
            "5   (0.459, 0.461]  54744\n",
            "6   (0.461, 0.465]  54670\n",
            "7   (0.465, 0.471]  54528\n",
            "8   (0.471, 0.478]  54638\n",
            "9   (0.478, 0.489]  54655\n",
            "10  (0.489, 0.506]  54708\n",
            "11  (0.506, 0.517]  54574\n",
            "12  (0.517, 0.522]  54641\n",
            "13  (0.522, 0.524]  59029\n",
            "14  (0.524, 0.526]  56451\n",
            "15  (0.526, 0.527]  49807\n",
            "16  (0.527, 0.529]  54884\n",
            "17  (0.529, 0.538]  53138\n",
            "18  (0.538, 0.564]  54623\n",
            "19   (0.564, 0.65]  54573\n"
          ],
          "name": "stdout"
        }
      ]
    },
    {
      "cell_type": "code",
      "metadata": {
        "id": "JxHRxZh4DB2f"
      },
      "source": [
        "#############################################################\n",
        "#                   MODELE 5 : XGBoost (IL FAUT L'AMELIORER CAR GRIDSEARCHCV PREND TROP DE TEMPS)\n",
        "#############################################################"
      ],
      "execution_count": null,
      "outputs": []
    },
    {
      "cell_type": "code",
      "metadata": {
        "id": "Xsf_dhDuTIXz"
      },
      "source": [
        "import xgboost as xgb\n",
        "from xgboost.sklearn import XGBClassifier"
      ],
      "execution_count": 20,
      "outputs": []
    },
    {
      "cell_type": "code",
      "metadata": {
        "colab": {
          "base_uri": "https://localhost:8080/"
        },
        "id": "e8CsHSLMafgQ",
        "outputId": "49441b99-3f21-445f-ea91-c7745fac2203"
      },
      "source": [
        "\n",
        "model_XGBClassifier = XGBClassifier(learning_rate =0.1, n_estimators=100, max_depth=5, min_child_weight=1, gamma=0, subsample=0.8,\n",
        "                                                  colsample_bytree=0.8, objective= 'binary:logistic', nthread=-1, seed=0)\n",
        "param = { 'scale_pos_weight': [0.32, 0.33, 0.34, 0.35] } #list(np.linspace(0.10, 0.30, 2))   #'max_depth':range(3,10,2), 'min_child_weight':range(1,6,2),\n",
        "\n",
        "grid_XGBClassifier = GridSearchCV(estimator = model_XGBClassifier, param_grid = param, scoring='recall', cv=5)\n",
        "resultat_grid_XGBClassifier = grid_XGBClassifier.fit(train_X_s, train_Y_s)\n",
        "resultat_grid_XGBClassifier.best_params_"
      ],
      "execution_count": 39,
      "outputs": [
        {
          "output_type": "execute_result",
          "data": {
            "text/plain": [
              "{'colsample_bytree': 0.8,\n",
              " 'gamma': 0,\n",
              " 'learning_rate': 0.1,\n",
              " 'max_depth': 5,\n",
              " 'min_child_weight': 1,\n",
              " 'n_estimators': 50,\n",
              " 'objective': 'binary:logistic',\n",
              " 'scale_pos_weight': 0.35,\n",
              " 'seed': 0,\n",
              " 'subsample': 0.8}"
            ]
          },
          "metadata": {
            "tags": []
          },
          "execution_count": 39
        }
      ]
    },
    {
      "cell_type": "code",
      "metadata": {
        "colab": {
          "base_uri": "https://localhost:8080/"
        },
        "id": "sgv8RGt5afiW",
        "outputId": "b424600d-5e50-457c-c711-45c015af7d38"
      },
      "source": [
        "final_model_XGBClassifier = XGBClassifier(learning_rate =0.1, n_estimators=100, max_depth=3, min_child_weight=1, gamma=0, subsample=0.8,\n",
        "                                                  colsample_bytree=0.8, objective= 'binary:logistic', nthread=2, scale_pos_weight=0.34, seed=0)\n",
        "evaluation(final_model_XGBClassifier, train_X_s, train_Y_s, test_X_s, test_Y_s, scoring=\"recall\", plot=False)"
      ],
      "execution_count": 55,
      "outputs": [
        {
          "output_type": "stream",
          "text": [
            "test set : \n",
            "[[3313 2018]\n",
            " [6270 8259]]\n",
            "              precision    recall  f1-score   support\n",
            "\n",
            "           1       0.35      0.62      0.44      5331\n",
            "           2       0.80      0.57      0.67     14529\n",
            "\n",
            "    accuracy                           0.58     19860\n",
            "   macro avg       0.57      0.59      0.56     19860\n",
            "weighted avg       0.68      0.58      0.61     19860\n",
            "\n",
            "train set : \n",
            "[[13348  8049]\n",
            " [24432 33607]]\n",
            "              precision    recall  f1-score   support\n",
            "\n",
            "           1       0.35      0.62      0.45     21397\n",
            "           2       0.81      0.58      0.67     58039\n",
            "\n",
            "    accuracy                           0.59     79436\n",
            "   macro avg       0.58      0.60      0.56     79436\n",
            "weighted avg       0.68      0.59      0.61     79436\n",
            "\n",
            "GRAPHIQUE NON DEMANDE\n"
          ],
          "name": "stdout"
        }
      ]
    },
    {
      "cell_type": "code",
      "metadata": {
        "id": "D5UGKazveShM",
        "colab": {
          "base_uri": "https://localhost:8080/"
        },
        "outputId": "bae2f5b7-d042-4785-b625-b4076e9998f4"
      },
      "source": [
        "vingtiles_xgb(model = final_model_XGBClassifier, data_orig = data, affichage=True,\n",
        "            save=False, path = \"/content/drive/MyDrive/spad_score_method_1/spad_projection_FDFTOT21/Fichier_excel_vingtiles/train_test_XGBoost.xlsx\")"
      ],
      "execution_count": 56,
      "outputs": [
        {
          "output_type": "stream",
          "text": [
            "                 IDENT     PROBA\n",
            "66003  660040010399617  0.227716\n",
            "67823  678240010401567  0.227716\n",
            "78844  788450010414774  0.227716\n",
            "29727  297280010349859  0.232173\n",
            "68075  680760010401859  0.236831\n",
            "...                ...       ...\n",
            "48128  481290010373476  0.885968\n",
            "83091  830920010502100  0.885968\n",
            "5615    56160010208685  0.885968\n",
            "83536  835370010503920  0.886497\n",
            "60221  602220010392936  0.888440\n",
            "\n",
            "[99296 rows x 2 columns]\n",
            "0.546209    385\n",
            "0.495340    256\n",
            "0.403445    226\n",
            "0.550064    213\n",
            "0.431736    197\n",
            "           ... \n",
            "0.700457      1\n",
            "0.412724      1\n",
            "0.475223      1\n",
            "0.412721      1\n",
            "0.437500      1\n",
            "Name: PROBA, Length: 58312, dtype: int64\n",
            "                PROBA\n",
            "66003  (0.227, 0.361]\n",
            "67823  (0.227, 0.361]\n",
            "78844  (0.227, 0.361]\n",
            "29727  (0.227, 0.361]\n",
            "68075  (0.227, 0.361]\n",
            "...               ...\n",
            "48128  (0.717, 0.888]\n",
            "83091  (0.717, 0.888]\n",
            "5615   (0.717, 0.888]\n",
            "83536  (0.717, 0.888]\n",
            "60221  (0.717, 0.888]\n",
            "\n",
            "[99296 rows x 1 columns]\n",
            "Top_mon            1     2  TOTAL\n",
            "TRANCHES                         \n",
            "(0.227, 0.361]   609  4356   4965\n",
            "(0.361, 0.385]   767  4198   4965\n",
            "(0.385, 0.404]   833  4133   4966\n",
            "(0.404, 0.421]   902  4090   4992\n",
            "(0.421, 0.433]   925  4011   4936\n",
            "(0.433, 0.446]   969  3996   4965\n",
            "(0.446, 0.458]  1107  3858   4965\n",
            "(0.458, 0.471]  1070  3896   4966\n",
            "(0.471, 0.482]  1149  3815   4964\n",
            "(0.482, 0.494]  1170  3794   4964\n",
            "(0.494, 0.507]  1269  3697   4966\n",
            "(0.507, 0.52]   1326  3655   4981\n",
            "(0.52, 0.532]   1414  3533   4947\n",
            "(0.532, 0.545]  1432  3534   4966\n",
            "(0.545, 0.559]  1486  3478   4964\n",
            "(0.559, 0.579]  1640  3325   4965\n",
            "(0.579, 0.605]  1765  3199   4964\n",
            "(0.605, 0.646]  1880  3085   4965\n",
            "(0.646, 0.717]  2169  2796   4965\n",
            "(0.717, 0.888]  2846  2119   4965\n"
          ],
          "name": "stdout"
        }
      ]
    },
    {
      "cell_type": "code",
      "metadata": {
        "id": "1y7a7EMEy8sK"
      },
      "source": [
        "###################################################################################################################@\n",
        "###################################################################################################################@\n",
        "#                                   DECISION TREE CLASSIFIER  ----  AVEC VARIABLES QUALITATIVES\n",
        "###################################################################################################################@\n",
        "###################################################################################################################@"
      ],
      "execution_count": null,
      "outputs": []
    },
    {
      "cell_type": "code",
      "metadata": {
        "id": "CtAZAPy_h355"
      },
      "source": [
        "####################################################################################\n",
        "####################################################################################\n",
        "#                   TEST SANS LES VARIABLES ILLUSTRATIVES DE SPAD\n",
        "####################################################################################\n",
        "####################################################################################"
      ],
      "execution_count": null,
      "outputs": []
    },
    {
      "cell_type": "code",
      "metadata": {
        "colab": {
          "base_uri": "https://localhost:8080/"
        },
        "id": "Rk6cfrsBh38f",
        "outputId": "32f211ea-da23-4480-aed9-a0d32929e6cd"
      },
      "source": [
        "# test predict individus sans classe\n",
        "data = data_orig.copy()\n",
        "\n",
        "# on élimine les variables dons\n",
        "data=data.drop([\"GeoFaz_cl\", \"ImmoFaz_Scl\", \"ImmoFaz_cl\", \"Prenom_Phase_cl_H\", \"Prenom_Phase_cl_F\",\n",
        "                \"Onoma-Phase_Scl\", \"Onoma-Phase_CL\"],axis=1)\n",
        "\n",
        "# encodage Onehot sur toutes les données (on évite ainsi les erreurs futures)\n",
        "nb_var = data.shape[1] - 1\n",
        "data_1_22 = pd.get_dummies(data.iloc[:,1:(data.shape[1]-1)], columns=data.columns[1:(data.shape[1]-1)] )\n",
        "data_var_qualitatives_temp =  pd.concat([data[\"IDENT\"], data_1_22, data[\"Top_mon\"]], axis=1)\n",
        "data = data_var_qualitatives_temp\n",
        "#encodage = OneHotEncoder()\n",
        "#encodage.fit(data_processing(data.iloc[:,1:nb_var]))\n",
        "\n",
        "# élimination des individus n'ayant pas de valeur pour la varialbe IFI+\n",
        "\"\"\"IMPORTANT\"\"\"\n",
        "data_sans_nan = data[(data.isnull()).sum(axis=1) == 0]\n",
        "\n",
        "#conversion du type de variable\n",
        "for i in range(1,data_sans_nan.shape[1]):\n",
        "    data_sans_nan.iloc[:,i]=data_sans_nan.iloc[:,i].astype(int)\n",
        "\n",
        "# base de données avec des variables corrélées et avec encodage OneHot\n",
        "data =data_sans_nan\n",
        "\n",
        "nb_var = data.shape[1] - 1\n",
        "train_set, test_set = train_test_split(data, test_size = 0.2, random_state=0 )\n",
        "\n",
        "train_X_s = (train_set.iloc[:,1:nb_var]).to_numpy()\n",
        "train_Y_s = np.asanyarray(train_set.iloc[:,nb_var])\n",
        "\n",
        "test_X_s = (test_set.iloc[:,1:nb_var]).to_numpy()\n",
        "test_Y_s = np.asanyarray(test_set.iloc[:,nb_var])\n"
      ],
      "execution_count": null,
      "outputs": [
        {
          "output_type": "stream",
          "text": [
            "/usr/local/lib/python3.7/dist-packages/pandas/core/indexing.py:1743: SettingWithCopyWarning: \n",
            "A value is trying to be set on a copy of a slice from a DataFrame.\n",
            "Try using .loc[row_indexer,col_indexer] = value instead\n",
            "\n",
            "See the caveats in the documentation: https://pandas.pydata.org/pandas-docs/stable/user_guide/indexing.html#returning-a-view-versus-a-copy\n",
            "  isetter(ilocs[0], value)\n"
          ],
          "name": "stderr"
        }
      ]
    },
    {
      "cell_type": "code",
      "metadata": {
        "colab": {
          "base_uri": "https://localhost:8080/"
        },
        "id": "9pt0VNO18P4N",
        "outputId": "c78b99b3-3dc2-479b-a605-99931c8ac90a"
      },
      "source": [
        "\n",
        "model_DecisionTreeClassifier = DecisionTreeClassifier(random_state = 0, class_weight = \"balanced\" )\n",
        "param = { 'max_depth' :list(range(2,20)), 'criterion': [\"gini\", \"entropy\"], 'max_features' : list(range(3,10,1)),\n",
        "         'min_samples_split' : [0.05, 0.1, 0.4, 0.6, 0.8, 1] }\n",
        "\n",
        "grid_DecisionTreeClassifier = GridSearchCV(model_DecisionTreeClassifier, param_grid= param, cv = 4, scoring = \"recall\", n_jobs=2)\n",
        "resultat_grid_DecisionTreeClassifier = grid_DecisionTreeClassifier.fit(train_X_s, train_Y_s)\n",
        "resultat_grid_DecisionTreeClassifier.best_params_\n"
      ],
      "execution_count": null,
      "outputs": [
        {
          "output_type": "execute_result",
          "data": {
            "text/plain": [
              "{'criterion': 'gini',\n",
              " 'max_depth': 2,\n",
              " 'max_features': 5,\n",
              " 'min_samples_split': 0.05}"
            ]
          },
          "metadata": {
            "tags": []
          },
          "execution_count": 20
        }
      ]
    },
    {
      "cell_type": "code",
      "metadata": {
        "colab": {
          "base_uri": "https://localhost:8080/"
        },
        "id": "JNnn4DAf8P6W",
        "outputId": "329ebd9d-a8bd-4adb-b602-d8968f54eeac"
      },
      "source": [
        "final_model_DecisionTreeClassifier = DecisionTreeClassifier(random_state = 0, criterion=\"gini\", class_weight = \"balanced\", max_depth = 2, max_features=13, min_samples_split=0.05 )\n",
        "evaluation(final_model_DecisionTreeClassifier, train_X_s, train_Y_s, test_X_s, test_Y_s, scoring=\"recall\", plot=False)"
      ],
      "execution_count": null,
      "outputs": [
        {
          "output_type": "stream",
          "text": [
            "test set : \n",
            "[[ 5180   151]\n",
            " [13889   640]]\n",
            "              precision    recall  f1-score   support\n",
            "\n",
            "           1       0.27      0.97      0.42      5331\n",
            "           2       0.81      0.04      0.08     14529\n",
            "\n",
            "    accuracy                           0.29     19860\n",
            "   macro avg       0.54      0.51      0.25     19860\n",
            "weighted avg       0.66      0.29      0.18     19860\n",
            "\n",
            "train set : \n",
            "[[20819   578]\n",
            " [55499  2540]]\n",
            "              precision    recall  f1-score   support\n",
            "\n",
            "           1       0.27      0.97      0.43     21397\n",
            "           2       0.81      0.04      0.08     58039\n",
            "\n",
            "    accuracy                           0.29     79436\n",
            "   macro avg       0.54      0.51      0.25     79436\n",
            "weighted avg       0.67      0.29      0.18     79436\n",
            "\n",
            "GRAPHIQUE NON DEMANDE\n"
          ],
          "name": "stdout"
        }
      ]
    },
    {
      "cell_type": "code",
      "metadata": {
        "colab": {
          "base_uri": "https://localhost:8080/",
          "height": 779
        },
        "id": "3sGdSD11IMOO",
        "outputId": "1dd1998b-79a3-4201-de6d-77664d68143a"
      },
      "source": [
        "# TRAIN SET TEST SET\n",
        "vingtiles(model = final_model_DecisionTreeClassifier, data_orig = data, affichage=True,\n",
        "            save=False, path = \"/content/drive/MyDrive/spad_score_method_1/spad_projection_FDFTOT21/Fichier_excel_vingtiles/train_test_Decision_Tree_Classifier.xlsx\")"
      ],
      "execution_count": null,
      "outputs": [
        {
          "output_type": "stream",
          "text": [
            "                 IDENT     PROBA\n",
            "56970  569710010384479  0.381666\n",
            "9253    92540010256064  0.381666\n",
            "52518  525190010378240  0.381666\n",
            "60182  601830010392815  0.381666\n",
            "22850  228510010339375  0.381666\n",
            "...                ...       ...\n",
            "29519  295200010349528  0.553444\n",
            "94344  943450010532481  0.553444\n",
            "69420  694210010403242  0.553444\n",
            "44966  449670010370130  0.553444\n",
            "49402  494030010374795  0.553444\n",
            "\n",
            "[99296 rows x 2 columns]\n",
            "0.501674    90709\n",
            "0.553444     4678\n",
            "0.381666     3909\n",
            "Name: PROBA, dtype: int64\n"
          ],
          "name": "stdout"
        },
        {
          "output_type": "error",
          "ename": "ValueError",
          "evalue": "ignored",
          "traceback": [
            "\u001b[0;31m---------------------------------------------------------------------------\u001b[0m",
            "\u001b[0;31mValueError\u001b[0m                                Traceback (most recent call last)",
            "\u001b[0;32m<ipython-input-51-9560f2332a90>\u001b[0m in \u001b[0;36m<module>\u001b[0;34m()\u001b[0m\n\u001b[1;32m      1\u001b[0m \u001b[0;31m# TRAIN SET TEST SET\u001b[0m\u001b[0;34m\u001b[0m\u001b[0;34m\u001b[0m\u001b[0;34m\u001b[0m\u001b[0m\n\u001b[1;32m      2\u001b[0m vingtiles(model = final_model_DecisionTreeClassifier, data_orig = data, affichage=True,\n\u001b[0;32m----> 3\u001b[0;31m             save=False, path = \"/content/drive/MyDrive/spad_score_method_1/spad_projection_FDFTOT21/Fichier_excel_vingtiles/train_test_Decision_Tree_Classifier.xlsx\")\n\u001b[0m",
            "\u001b[0;32m<ipython-input-35-3433ddb3b525>\u001b[0m in \u001b[0;36mvingtiles\u001b[0;34m(model, data_orig, affichage, save, path)\u001b[0m\n\u001b[1;32m    105\u001b[0m \u001b[0;34m\u001b[0m\u001b[0m\n\u001b[1;32m    106\u001b[0m     \u001b[0;31m# quarantiles\u001b[0m\u001b[0;34m\u001b[0m\u001b[0;34m\u001b[0m\u001b[0;34m\u001b[0m\u001b[0m\n\u001b[0;32m--> 107\u001b[0;31m     \u001b[0mdf_temp\u001b[0m \u001b[0;34m=\u001b[0m\u001b[0mpd\u001b[0m\u001b[0;34m.\u001b[0m\u001b[0mDataFrame\u001b[0m\u001b[0;34m(\u001b[0m \u001b[0mpd\u001b[0m\u001b[0;34m.\u001b[0m\u001b[0mqcut\u001b[0m\u001b[0;34m(\u001b[0m\u001b[0mdf_tous\u001b[0m\u001b[0;34m[\u001b[0m\u001b[0;34m'PROBA'\u001b[0m\u001b[0;34m]\u001b[0m\u001b[0;34m,\u001b[0m\u001b[0mq\u001b[0m\u001b[0;34m=\u001b[0m \u001b[0;36m20\u001b[0m\u001b[0;34m)\u001b[0m  \u001b[0;34m)\u001b[0m\u001b[0;34m\u001b[0m\u001b[0;34m\u001b[0m\u001b[0m\n\u001b[0m\u001b[1;32m    108\u001b[0m     \u001b[0mprint\u001b[0m\u001b[0;34m(\u001b[0m\u001b[0mdf_temp\u001b[0m\u001b[0;34m)\u001b[0m\u001b[0;34m\u001b[0m\u001b[0;34m\u001b[0m\u001b[0m\n\u001b[1;32m    109\u001b[0m \u001b[0;34m\u001b[0m\u001b[0m\n",
            "\u001b[0;32m/usr/local/lib/python3.7/dist-packages/pandas/core/reshape/tile.py\u001b[0m in \u001b[0;36mqcut\u001b[0;34m(x, q, labels, retbins, precision, duplicates)\u001b[0m\n\u001b[1;32m    365\u001b[0m         \u001b[0minclude_lowest\u001b[0m\u001b[0;34m=\u001b[0m\u001b[0;32mTrue\u001b[0m\u001b[0;34m,\u001b[0m\u001b[0;34m\u001b[0m\u001b[0;34m\u001b[0m\u001b[0m\n\u001b[1;32m    366\u001b[0m         \u001b[0mdtype\u001b[0m\u001b[0;34m=\u001b[0m\u001b[0mdtype\u001b[0m\u001b[0;34m,\u001b[0m\u001b[0;34m\u001b[0m\u001b[0;34m\u001b[0m\u001b[0m\n\u001b[0;32m--> 367\u001b[0;31m         \u001b[0mduplicates\u001b[0m\u001b[0;34m=\u001b[0m\u001b[0mduplicates\u001b[0m\u001b[0;34m,\u001b[0m\u001b[0;34m\u001b[0m\u001b[0;34m\u001b[0m\u001b[0m\n\u001b[0m\u001b[1;32m    368\u001b[0m     )\n\u001b[1;32m    369\u001b[0m \u001b[0;34m\u001b[0m\u001b[0m\n",
            "\u001b[0;32m/usr/local/lib/python3.7/dist-packages/pandas/core/reshape/tile.py\u001b[0m in \u001b[0;36m_bins_to_cuts\u001b[0;34m(x, bins, right, labels, precision, include_lowest, dtype, duplicates, ordered)\u001b[0m\n\u001b[1;32m    400\u001b[0m         \u001b[0;32mif\u001b[0m \u001b[0mduplicates\u001b[0m \u001b[0;34m==\u001b[0m \u001b[0;34m\"raise\"\u001b[0m\u001b[0;34m:\u001b[0m\u001b[0;34m\u001b[0m\u001b[0;34m\u001b[0m\u001b[0m\n\u001b[1;32m    401\u001b[0m             raise ValueError(\n\u001b[0;32m--> 402\u001b[0;31m                 \u001b[0;34mf\"Bin edges must be unique: {repr(bins)}.\\n\"\u001b[0m\u001b[0;34m\u001b[0m\u001b[0;34m\u001b[0m\u001b[0m\n\u001b[0m\u001b[1;32m    403\u001b[0m                 \u001b[0;34mf\"You can drop duplicate edges by setting the 'duplicates' kwarg\"\u001b[0m\u001b[0;34m\u001b[0m\u001b[0;34m\u001b[0m\u001b[0m\n\u001b[1;32m    404\u001b[0m             )\n",
            "\u001b[0;31mValueError\u001b[0m: Bin edges must be unique: array([0.38166644, 0.50167414, 0.50167414, 0.50167414, 0.50167414,\n       0.50167414, 0.50167414, 0.50167414, 0.50167414, 0.50167414,\n       0.50167414, 0.50167414, 0.50167414, 0.50167414, 0.50167414,\n       0.50167414, 0.50167414, 0.50167414, 0.50167414, 0.50167414,\n       0.55344393]).\nYou can drop duplicate edges by setting the 'duplicates' kwarg"
          ]
        }
      ]
    },
    {
      "cell_type": "code",
      "metadata": {
        "id": "wOGaAy3aicdc"
      },
      "source": [
        "# INDIVIDUS SANS TARGET\n",
        "vingtiles_ind_sans_target(model = final_model_DecisionTreeClassifier, data_orig= data_var_qualitatives_temp[(data_var_qualitatives_temp.isnull()).sum(axis=1) != 0], affichage=True,\n",
        "            save=False, path = \"/content/drive/MyDrive/spad_score_method_1/spad_projection_FDFTOT21/Fichier_excel_vingtiles/ind_sans_target_Decision_Tree_Classifier.xlsx\")"
      ],
      "execution_count": null,
      "outputs": []
    },
    {
      "cell_type": "code",
      "metadata": {
        "id": "ztkYTw2lKfrN"
      },
      "source": [
        ""
      ],
      "execution_count": null,
      "outputs": []
    },
    {
      "cell_type": "code",
      "metadata": {
        "id": "JT4GplPeak4R"
      },
      "source": [
        ""
      ],
      "execution_count": null,
      "outputs": []
    },
    {
      "cell_type": "code",
      "metadata": {
        "id": "16GnZhtoasFp"
      },
      "source": [
        ""
      ],
      "execution_count": null,
      "outputs": []
    },
    {
      "cell_type": "code",
      "metadata": {
        "id": "oH3l33RFbgfm"
      },
      "source": [
        ""
      ],
      "execution_count": null,
      "outputs": []
    },
    {
      "cell_type": "code",
      "metadata": {
        "id": "JtgQ52BrD66B"
      },
      "source": [
        ""
      ],
      "execution_count": null,
      "outputs": []
    }
  ]
}