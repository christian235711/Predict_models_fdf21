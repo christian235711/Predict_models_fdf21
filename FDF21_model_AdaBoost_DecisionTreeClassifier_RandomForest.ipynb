{
  "nbformat": 4,
  "nbformat_minor": 0,
  "metadata": {
    "accelerator": "GPU",
    "colab": {
      "name": "FDF21_model_AdaBoost_DecisionTreeClassifier_RandomForest.ipynb",
      "provenance": [],
      "collapsed_sections": [],
      "authorship_tag": "ABX9TyPznHMp7Mt5oyxGqTIcqBla"
    },
    "kernelspec": {
      "display_name": "Python 3",
      "name": "python3"
    },
    "language_info": {
      "name": "python"
    }
  },
  "cells": [
    {
      "cell_type": "code",
      "metadata": {
        "colab": {
          "base_uri": "https://localhost:8080/"
        },
        "id": "uXwzY9aHJ83i",
        "outputId": "d35a3cbc-26e7-4100-bd68-89f71d4b5bc9"
      },
      "source": [
        "import numpy as np\n",
        "import pandas as pd\n",
        "import seaborn as sns\n",
        "import matplotlib.pyplot as plt\n",
        "\n",
        "#!pip install fanalysis\n",
        "\n",
        "from sklearn.metrics import confusion_matrix\n",
        "\n",
        "from google.colab import drive\n",
        "drive.mount('/content/drive')"
      ],
      "execution_count": 2,
      "outputs": [
        {
          "output_type": "stream",
          "text": [
            "Mounted at /content/drive\n"
          ],
          "name": "stdout"
        }
      ]
    },
    {
      "cell_type": "code",
      "metadata": {
        "id": "QVPy76oFJ-HY"
      },
      "source": [
        "# les noms des variables\n",
        "\n",
        "colonnes =([\"IDENT\", \"TypeHabi\", \"GeoFaz_Scl\", \"GeoFaz_cl\", \"ImmoFaz_Scl\", \"ImmoFaz_cl\", \"Anciennete\",\n",
        "            \"Logement_prix_m2\", \"Mediane_RFR\", \"Sexe\", \"Prenom_Phase_scl_H\", \"Prenom_Phase_scl_F\",\n",
        "            \"Prenom_Phase_cl_H\", \"Prenom_Phase_cl_F\", \"Age_H\", \"Age_F\", \"Affinite_1\", \"Affinite_2\",\n",
        "            \"Prenom_effectif\", \"Potentiel_prenom\", \"Onoma-Phase_Scl\", \"Onoma-Phase_CL\", \"Top_mon\"])"
      ],
      "execution_count": 3,
      "outputs": []
    },
    {
      "cell_type": "code",
      "metadata": {
        "id": "A8mfuivnlJmh"
      },
      "source": [
        "colonnes_montant = [\"DEDUPLI\", \"IDENT\", \"SommeDeMONTANT_NUM\", \"Flag_Top_Montant\", \"NovosScore_Vingtile\"]\n",
        "\n",
        "data_montant_orig = pd.read_csv(\"/content/drive/MyDrive/spad_score_method_1/spad_projection_FDFTOT21/DONS_FDF_N_TODAY_1ers_gestes_REF_MD.txt\", sep=\";\", header = 0, low_memory=False, dtype=str) #, dtype=str )#, dtype='Int64')\n",
        "\n",
        "data_montant_orig.iloc[:,2]=data_montant_orig.iloc[:,2].str.replace(\",\",\".\")\n",
        "\n",
        "data_montant_orig.columns =colonnes_montant\n",
        "data_montant_orig[\"SommeDeMONTANT_NUM\"]=data_montant_orig[\"SommeDeMONTANT_NUM\"].astype(float)"
      ],
      "execution_count": 4,
      "outputs": []
    },
    {
      "cell_type": "code",
      "metadata": {
        "id": "lmQPaeuMJ-J0"
      },
      "source": [
        "# importation du fichier (changer le chemin d'accès)\n",
        "''' Faites attention au type de fichier, au délimiteur des valeurs (ça doit être unique et non multiple),\n",
        "au header et à la lecture des types d'objets (low_memory) '''\n",
        "\n",
        "data_orig = pd.read_csv(\"/content/drive/MyDrive/spad_score_method_1/spad_projection_FDFTOT21/sans_8_new_my_data_FDFTOT21.txt\", delim_whitespace=\"\\t\", header = None, names=colonnes, low_memory=False,dtype=str )#, dtype='Int64')\n"
      ],
      "execution_count": 5,
      "outputs": []
    },
    {
      "cell_type": "code",
      "metadata": {
        "colab": {
          "base_uri": "https://localhost:8080/"
        },
        "id": "AuFzAId4KKZ_",
        "outputId": "c23ae059-582b-4d9c-d284-0b22877481c2"
      },
      "source": [
        "''' copie superficielle (peu profonde) du dataset original pour ne pas modifier les valeurs\n",
        "d'origine par erreur plus tard \n",
        "'''\n",
        "data = data_orig.copy()\n",
        "data.shape"
      ],
      "execution_count": 6,
      "outputs": [
        {
          "output_type": "execute_result",
          "data": {
            "text/plain": [
              "(1192180, 23)"
            ]
          },
          "metadata": {
            "tags": []
          },
          "execution_count": 6
        }
      ]
    },
    {
      "cell_type": "code",
      "metadata": {
        "colab": {
          "base_uri": "https://localhost:8080/",
          "height": 243
        },
        "id": "eCTsRwocJ-MF",
        "outputId": "d393d4f4-6b73-413d-9082-4641084697c8"
      },
      "source": [
        "# visualisation des premiers lignes\n",
        "data.head()"
      ],
      "execution_count": 7,
      "outputs": [
        {
          "output_type": "execute_result",
          "data": {
            "text/html": [
              "<div>\n",
              "<style scoped>\n",
              "    .dataframe tbody tr th:only-of-type {\n",
              "        vertical-align: middle;\n",
              "    }\n",
              "\n",
              "    .dataframe tbody tr th {\n",
              "        vertical-align: top;\n",
              "    }\n",
              "\n",
              "    .dataframe thead th {\n",
              "        text-align: right;\n",
              "    }\n",
              "</style>\n",
              "<table border=\"1\" class=\"dataframe\">\n",
              "  <thead>\n",
              "    <tr style=\"text-align: right;\">\n",
              "      <th></th>\n",
              "      <th>IDENT</th>\n",
              "      <th>TypeHabi</th>\n",
              "      <th>GeoFaz_Scl</th>\n",
              "      <th>GeoFaz_cl</th>\n",
              "      <th>ImmoFaz_Scl</th>\n",
              "      <th>ImmoFaz_cl</th>\n",
              "      <th>Anciennete</th>\n",
              "      <th>Logement_prix_m2</th>\n",
              "      <th>Mediane_RFR</th>\n",
              "      <th>Sexe</th>\n",
              "      <th>Prenom_Phase_scl_H</th>\n",
              "      <th>Prenom_Phase_scl_F</th>\n",
              "      <th>Prenom_Phase_cl_H</th>\n",
              "      <th>Prenom_Phase_cl_F</th>\n",
              "      <th>Age_H</th>\n",
              "      <th>Age_F</th>\n",
              "      <th>Affinite_1</th>\n",
              "      <th>Affinite_2</th>\n",
              "      <th>Prenom_effectif</th>\n",
              "      <th>Potentiel_prenom</th>\n",
              "      <th>Onoma-Phase_Scl</th>\n",
              "      <th>Onoma-Phase_CL</th>\n",
              "      <th>Top_mon</th>\n",
              "    </tr>\n",
              "  </thead>\n",
              "  <tbody>\n",
              "    <tr>\n",
              "      <th>0</th>\n",
              "      <td>0010000001</td>\n",
              "      <td>02</td>\n",
              "      <td>81</td>\n",
              "      <td>08</td>\n",
              "      <td>91</td>\n",
              "      <td>09</td>\n",
              "      <td>06</td>\n",
              "      <td>21</td>\n",
              "      <td>21</td>\n",
              "      <td>01</td>\n",
              "      <td>71</td>\n",
              "      <td>41</td>\n",
              "      <td>07</td>\n",
              "      <td>04</td>\n",
              "      <td>12</td>\n",
              "      <td>04</td>\n",
              "      <td>20</td>\n",
              "      <td>02</td>\n",
              "      <td>02</td>\n",
              "      <td>01</td>\n",
              "      <td>51</td>\n",
              "      <td>05</td>\n",
              "      <td>1</td>\n",
              "    </tr>\n",
              "    <tr>\n",
              "      <th>1</th>\n",
              "      <td>0010000006</td>\n",
              "      <td>01</td>\n",
              "      <td>75</td>\n",
              "      <td>07</td>\n",
              "      <td>43</td>\n",
              "      <td>04</td>\n",
              "      <td>06</td>\n",
              "      <td>06</td>\n",
              "      <td>13</td>\n",
              "      <td>02</td>\n",
              "      <td>71</td>\n",
              "      <td>64</td>\n",
              "      <td>07</td>\n",
              "      <td>06</td>\n",
              "      <td>12</td>\n",
              "      <td>09</td>\n",
              "      <td>04</td>\n",
              "      <td>12</td>\n",
              "      <td>04</td>\n",
              "      <td>13</td>\n",
              "      <td>12</td>\n",
              "      <td>01</td>\n",
              "      <td>1</td>\n",
              "    </tr>\n",
              "    <tr>\n",
              "      <th>2</th>\n",
              "      <td>0010000011</td>\n",
              "      <td>01</td>\n",
              "      <td>76</td>\n",
              "      <td>07</td>\n",
              "      <td>43</td>\n",
              "      <td>04</td>\n",
              "      <td>06</td>\n",
              "      <td>06</td>\n",
              "      <td>16</td>\n",
              "      <td>03</td>\n",
              "      <td>54</td>\n",
              "      <td>81</td>\n",
              "      <td>05</td>\n",
              "      <td>08</td>\n",
              "      <td>07</td>\n",
              "      <td>12</td>\n",
              "      <td>06</td>\n",
              "      <td>06</td>\n",
              "      <td>04</td>\n",
              "      <td>18</td>\n",
              "      <td>36</td>\n",
              "      <td>03</td>\n",
              "      <td>2</td>\n",
              "    </tr>\n",
              "    <tr>\n",
              "      <th>3</th>\n",
              "      <td>0010000013</td>\n",
              "      <td>03</td>\n",
              "      <td>75</td>\n",
              "      <td>07</td>\n",
              "      <td>43</td>\n",
              "      <td>04</td>\n",
              "      <td>04</td>\n",
              "      <td>06</td>\n",
              "      <td>13</td>\n",
              "      <td>01</td>\n",
              "      <td>71</td>\n",
              "      <td>36</td>\n",
              "      <td>07</td>\n",
              "      <td>03</td>\n",
              "      <td>12</td>\n",
              "      <td>11</td>\n",
              "      <td>11</td>\n",
              "      <td>19</td>\n",
              "      <td>04</td>\n",
              "      <td>06</td>\n",
              "      <td>21</td>\n",
              "      <td>02</td>\n",
              "      <td>1</td>\n",
              "    </tr>\n",
              "    <tr>\n",
              "      <th>4</th>\n",
              "      <td>0010000015</td>\n",
              "      <td>02</td>\n",
              "      <td>33</td>\n",
              "      <td>03</td>\n",
              "      <td>44</td>\n",
              "      <td>04</td>\n",
              "      <td>06</td>\n",
              "      <td>07</td>\n",
              "      <td>12</td>\n",
              "      <td>01</td>\n",
              "      <td>71</td>\n",
              "      <td>42</td>\n",
              "      <td>07</td>\n",
              "      <td>04</td>\n",
              "      <td>12</td>\n",
              "      <td>05</td>\n",
              "      <td>14</td>\n",
              "      <td>03</td>\n",
              "      <td>03</td>\n",
              "      <td>01</td>\n",
              "      <td>14</td>\n",
              "      <td>01</td>\n",
              "      <td>2</td>\n",
              "    </tr>\n",
              "  </tbody>\n",
              "</table>\n",
              "</div>"
            ],
            "text/plain": [
              "        IDENT TypeHabi GeoFaz_Scl  ... Onoma-Phase_Scl Onoma-Phase_CL Top_mon\n",
              "0  0010000001       02         81  ...              51             05       1\n",
              "1  0010000006       01         75  ...              12             01       1\n",
              "2  0010000011       01         76  ...              36             03       2\n",
              "3  0010000013       03         75  ...              21             02       1\n",
              "4  0010000015       02         33  ...              14             01       2\n",
              "\n",
              "[5 rows x 23 columns]"
            ]
          },
          "metadata": {
            "tags": []
          },
          "execution_count": 7
        }
      ]
    },
    {
      "cell_type": "code",
      "metadata": {
        "id": "HMG7Zbw4Ku9R"
      },
      "source": [
        "#nombre de modalités de chaque variables (dans un dataframe)\n",
        "def nombre_mod(data2):\n",
        "    #création d'un dataframe vide\n",
        "    dff= pd.DataFrame(columns=[\"VARIABLE\",\"NOMBRE_MOD\", \"NOMBRE_MOD_SANS_NA\"])\n",
        "    for i in range(data2.shape[1]): # sans compter les valeurs manquantes\n",
        "        taille =len(data2.iloc[:,i].value_counts(dropna=False))\n",
        "        taille_1 = len(data2.iloc[:,i].value_counts(dropna=True) )\n",
        "        dff=dff.append({\"VARIABLE\": colonnes[i],\"NOMBRE_MOD\":taille, \"NOMBRE_MOD_SANS_NA\":taille_1 }, ignore_index=True)\n",
        "    return dff\n",
        "\n",
        "# sélection des corrélations les plus importantes\n",
        "def variables_corr(tableau_corr, seuil):\n",
        "    colonnes = tableau_corr.columns\n",
        "    val_temp = 0 \n",
        "    variables_corr_pos=[] ; variables_corr_pos_val=[]\n",
        "    variables_corr_neg=[] ; variables_corr_neg_val=[]\n",
        "    for i in range(tableau_corr.shape[0]):  \n",
        "        for j in range(tableau_corr.shape[0]):\n",
        "            if i<j: #i!=j:\n",
        "                if (tableau_corr.iloc[i,j] > seuil):\n",
        "                    variables_corr_pos.append(colonnes[j])\n",
        "                    variables_corr_pos_val.append(round( tableau_corr.iloc[i,j], 2))\n",
        "                    val_temp += 1\n",
        "\n",
        "                if (tableau_corr.iloc[i,j] <-seuil):\n",
        "                    variables_corr_neg.append(colonnes[j])\n",
        "                    variables_corr_neg_val.append(round( tableau_corr.iloc[i,j], 2))\n",
        "                    val_temp += 1\n",
        "\n",
        "        if (len(variables_corr_pos) > 0) | (len(variables_corr_neg) >0) :\n",
        "            print(\"variable : \", colonnes[i])\n",
        "            if len(variables_corr_pos) > 0:    \n",
        "                print(\"corr pos\", variables_corr_pos)\n",
        "                print(\"corr pos\", variables_corr_pos_val)\n",
        "                val_temp += 1\n",
        "\n",
        "            if len(variables_corr_neg) >0:  \n",
        "                print(\"corr neg\", variables_corr_neg)\n",
        "                print(\"corr neg\", variables_corr_neg_val)\n",
        "                val_temp += 1\n",
        "            print(\"\")\n",
        "        variables_corr_pos = variables_corr_pos*0\n",
        "        variables_corr_neg = variables_corr_pos*0\n",
        "\n",
        "        variables_corr_pos_val = variables_corr_pos_val*0\n",
        "        variables_corr_neg_val = variables_corr_pos_val*0\n",
        "    if val_temp == 0:\n",
        "        print(\"IL N'Y A PAS DE CORRELATION ENTRE LES VARIABLES PAR RAPPORT AU SEUIL PRIS\")\n",
        "        \n",
        "\n",
        "def evaluation(model, X_train, y_train, X_test, y_test, scoring, plot):\n",
        "\n",
        "    model.fit(X_train, y_train)\n",
        "    y_pred = model.predict(X_test)\n",
        "    \n",
        "    print(\"test set : \")\n",
        "    print(confusion_matrix(y_test, y_pred))\n",
        "    print(classification_report(y_test, y_pred)) \n",
        "    print(\"train set : \")\n",
        "    print(confusion_matrix(y_train, model.predict(X_train)))  \n",
        "    print(classification_report(y_train, model.predict(X_train) ))\n",
        "\n",
        "    if plot == True:\n",
        "        N, train_score, val_score = learning_curve(model, X_train, y_train, shuffle=True, cv = 4, scoring = scoring, train_sizes = np.linspace(0.1, 1, 6) )\n",
        "\n",
        "        plt.figure(figsize = (10,6))\n",
        "        plt.plot(N, train_score.mean(axis=1), label =\"train_score\")\n",
        "        plt.plot(N, val_score.mean(axis=1), label =\"cross_validation_score\")\n",
        "        plt.legend()\n",
        "    else :\n",
        "        print(\"GRAPHIQUE NON DEMANDE\")\n",
        "\n",
        "# Comme il n'y a pas de valeurs manquantes (à la place il y a un nombre), le seul traitement qu'on fait c'est tranformer\n",
        "# le type de variable (les variables continues deviennent qualitatives)\n",
        "def data_processing(df):\n",
        "    \"\"\" \n",
        "    for i in range(0,len(df.columns)):    \n",
        "        df[df.columns[i]].fillna(100.0, inplace=True) #On remplace les données manquantes par 100\n",
        "    for i in range(0,len(df.columns)):\n",
        "        print(df[df.columns[i]].value_counts(dropna=False))    \n",
        "    \"\"\"\n",
        "    \n",
        "   #Transformation de toutes les variables en facteurs         \n",
        "    for i in range(0,len(df.columns)):\n",
        "        df[df.columns[i]] = df[df.columns[i]].astype('category')\n",
        "    return df.to_numpy() #.as_matrix()\n",
        "\n",
        "\n",
        "def vingtiles(model, data_orig, affichage, save, path): # data_orig est une variables locale (peut être différente au df d'origine)\n",
        "    # position de la dernière variable explicative dans le dataset\n",
        "    nb_var = data_orig.shape[1]-1\n",
        "\n",
        "    # predict sur tous les individus (avec et sans classe Top_mon)\n",
        "    tous_probas = model.predict_proba(data_orig.iloc[:,1:nb_var])\n",
        "    df_tous = pd.DataFrame({'IDENT': data_orig.iloc[:,0] , 'PROBA': tous_probas[:,0] })\n",
        "    #df_tous\n",
        "    \n",
        "    # valeurs ordonnées pour diviser après\n",
        "    df_tous=df_tous.sort_values(by='PROBA', ascending=True)\n",
        "    #df_tous\n",
        "    print(df_tous)\n",
        "    \n",
        "    #vérification\n",
        "    print(df_tous['PROBA'].value_counts())\n",
        "\n",
        "    # vingtiles\n",
        "    df_temp =pd.DataFrame( pd.qcut(df_tous['PROBA'],q= 20)  )\n",
        "    #print(df_temp)\n",
        "\n",
        "    # ajout par index (IMPORTANTE)\n",
        "    df_tous[\"TRANCHES\"]=pd.DataFrame(df_temp.iloc[:,0].to_numpy(),index= df_temp.index)\n",
        "    #print(df_tous)\n",
        "\n",
        "    # création de la dernière colonne CLASSE et son remplissage\n",
        "    index_20_ord = pd.DataFrame(np.unique(df_tous[\"TRANCHES\"])) \n",
        "    df_tous[\"CLASSE\"]=df_tous[\"TRANCHES\"].copy()\n",
        "    ind_val=1\n",
        "    for kk in range(20):\n",
        "        df_tous[\"CLASSE\"][df_tous[\"CLASSE\"]== index_20_ord.iloc[kk,0] ] = str(ind_val) \n",
        "        ind_val+=1\n",
        "    print(df_tous)    \n",
        "    \n",
        "    # pour la colonne Top_mon : changement de type de variable et remplissage des valeurs (s'il le faut)\n",
        "    data_temp_t = data_orig.copy()\n",
        "    data_temp_t[\"Top_mon\"] =  data_temp_t[\"Top_mon\"].replace(1.0,'1')\n",
        "    data_temp_t[\"Top_mon\"] =  data_temp_t[\"Top_mon\"].replace(2.0,'2')\n",
        "    data_all_complet_class = data_temp_t #data_temp_t.fillna('2')\n",
        "    #data_all_complet_class\n",
        "\n",
        "    # jointure\n",
        "    ident_class_tous = data_all_complet_class[[\"IDENT\",\"Top_mon\"]]\n",
        "    tableau_resultats = pd.merge(df_tous,ident_class_tous)\n",
        "    #tableau_resultats\n",
        "\n",
        "    # tranches finales\n",
        "    tab_cross_temp = pd.crosstab(tableau_resultats[\"TRANCHES\"],tableau_resultats[\"Top_mon\"])\n",
        "    #print(tab_cross_temp); print(\"-----------------------\")\n",
        "\n",
        "    # création d'une colonne TOTAL\n",
        "    tab_cross_temp[\"TOTAL\"]=tab_cross_temp[\"1\"]+tab_cross_temp[\"2\"]\n",
        "    \n",
        "    # affichage\n",
        "    if affichage ==True:        \n",
        "        print(tab_cross_temp)\n",
        "\n",
        "    # création du tableau final en éliminant la colonne 2\n",
        "    #tab_pour_excel = tab_cross_temp.drop([\"2\"], axis=1)\n",
        "\n",
        "    # si on ne veut pas éliminer la colonne 2\n",
        "    tab_pour_excel =  tab_cross_temp\n",
        "    \n",
        "    # enregistrement sous Excel\n",
        "    if save == True:\n",
        "        tab_pour_excel.to_excel(path)\n",
        "\n",
        "    return  df_tous\n",
        "\n",
        "\n",
        "def tableau_5_montant(df_tous, data_montant_orig, affichage, save, path):\n",
        "    # tableau avec les deux variables qui nous intéressent\n",
        "    ident_et_montant = data_montant_orig[[\"IDENT\",\"SommeDeMONTANT_NUM\"]]\n",
        "\n",
        "    # jointure\n",
        "    tableau_resultats_et_montant = pd.merge(df_tous,ident_et_montant)\n",
        "    #print(tableau_resultats_et_montant) \n",
        "\n",
        "    # on élimine toutes les sommes supérieur à 5000 €\n",
        "    tableau_resultats_et_montant = tableau_resultats_et_montant[tableau_resultats_et_montant[\"SommeDeMONTANT_NUM\"] <= 5000]\n",
        "    print(tableau_resultats_et_montant) \n",
        "    #print(tableau_resultats_et_montant[\"TRANCHES\"].value_counts())\n",
        "    #print(pd.DataFrame(np.unique(tableau_resultats_et_montant[\"TRANCHES\"])))\n",
        "\n",
        "    # index\n",
        "    index_temp = pd.DataFrame(np.unique(tableau_resultats_et_montant[\"TRANCHES\"])) \n",
        "\n",
        "    # création du tableau qui contiendra les résultats finaux\n",
        "    tableau_resultats_finaux = pd.DataFrame(columns=[\"TRANCHES\",\"Moyen_Somme\",\"TOTAL\"],index=range(20))\n",
        "    tableau_resultats_finaux[\"TRANCHES\"] = index_temp\n",
        "\n",
        "    # remplissage du tableau final\n",
        "    for k in range(20):\n",
        "        tableau_resultats_finaux.iloc[k,1] = tableau_resultats_et_montant[tableau_resultats_et_montant[\"TRANCHES\"]==index_temp.iloc[k,0]][\"SommeDeMONTANT_NUM\"].mean()\n",
        "        tableau_resultats_finaux.iloc[k,2] = (tableau_resultats_et_montant[\"TRANCHES\"]==index_temp.iloc[k,0]).sum()\n",
        "    \n",
        "    # affichage\n",
        "    if affichage:        \n",
        "        print(tableau_resultats_finaux)\n",
        "    \n",
        "    # enregistrement sous Excel\n",
        "    if save:\n",
        "        tableau_resultats_finaux.to_excel(path)\n",
        "\n",
        "\n",
        "def vingtiles_ind_sans_target(model, data_orig, affichage, save, path):\n",
        "    # position de la dernière variable explicative dans le dataset\n",
        "    nb_var = data_orig.shape[1]-1\n",
        "\n",
        "    # predict sur tous les individus (avec et sans classe IFI+)\n",
        "    tous_probas = model.predict_proba(data_orig.iloc[:,1:nb_var])\n",
        "    df_tous = pd.DataFrame({'IDENT': data_orig.iloc[:,0] , 'PROBA': tous_probas[:,0] })\n",
        "    #df_tous\n",
        "    \n",
        "    # valeurs ordonnées pour diviser après\n",
        "    df_tous=df_tous.sort_values(by='PROBA', ascending=True)\n",
        "    #df_tous\n",
        "    print(df_tous)\n",
        "    \n",
        "    #vérification\n",
        "    print(df_tous['PROBA'].value_counts())\n",
        "\n",
        "    # quarantiles\n",
        "    df_temp =pd.DataFrame( pd.qcut(df_tous['PROBA'],q= 20)  )\n",
        "    print(df_temp)\n",
        "\n",
        "    # ajout par index (IMPORTANTE)\n",
        "    df_tous[\"TRANCHES\"]=pd.DataFrame(df_temp.iloc[:,0].to_numpy(),index= df_temp.index)\n",
        "    print(df_tous)\n",
        "    print(df_tous[\"TRANCHES\"].value_counts(ascending = True))\n",
        "\n",
        "    # GERE L'ORDRE\n",
        "    patra = np.unique(df_tous.iloc[:,2], return_counts=True)\n",
        "    df_tranches_sans_target = pd.DataFrame([patra[0],patra[1]]).T\n",
        "    df_tranches_sans_target.columns=[\"TRANCHES\",\"COUNTS\"]\n",
        "\n",
        "    # affichage\n",
        "    if affichage ==True:        \n",
        "        print(df_tranches_sans_target)\n",
        "    \n",
        "    # enregistrement sous Excel\n",
        "    if save == True:\n",
        "        df_tranches_sans_target.to_excel(path)\n",
        "    \n",
        "\n",
        "# élimination des variables trop corrélées (choix manuel)\n",
        "def elimination_val_corr(data):\n",
        "    data = data.drop(columns=[\"\"])\n",
        "    return data\n",
        "          \n"
      ],
      "execution_count": 8,
      "outputs": []
    },
    {
      "cell_type": "code",
      "metadata": {
        "id": "VrNwSeGoLu4z"
      },
      "source": [
        "def vingtiles_xgb(model, data_orig, affichage, save, path): #.values) # on ajoute : .values\n",
        "    # position de la dernière variable explicative dans le dataset\n",
        "    nb_var = data_orig.shape[1]-1\n",
        "\n",
        "    # predict sur tous les individus (avec et sans classe Top_mon)\n",
        "    tous_probas = model.predict_proba(data_orig.iloc[:,1:nb_var].values) # on ajoute : .values\n",
        "    df_tous = pd.DataFrame({'IDENT': data_orig.iloc[:,0] , 'PROBA': tous_probas[:,0] })\n",
        "    #df_tous\n",
        "    \n",
        "    # valeurs ordonnées pour diviser après\n",
        "    df_tous=df_tous.sort_values(by='PROBA', ascending=True)\n",
        "    #df_tous\n",
        "    print(df_tous)\n",
        "    \n",
        "    #vérification\n",
        "    print(df_tous['PROBA'].value_counts())\n",
        "\n",
        "    # vingtiles\n",
        "    df_temp =pd.DataFrame( pd.qcut(df_tous['PROBA'],q= 20)  )\n",
        "    #print(df_temp)\n",
        "\n",
        "    # ajout par index (IMPORTANTE)\n",
        "    df_tous[\"TRANCHES\"]=pd.DataFrame(df_temp.iloc[:,0].to_numpy(),index= df_temp.index)\n",
        "    #print(df_tous)\n",
        "\n",
        "    # création de la dernière colonne CLASSE et son remplissage\n",
        "    index_20_ord = pd.DataFrame(np.unique(df_tous[\"TRANCHES\"])) \n",
        "    df_tous[\"CLASSE\"]=df_tous[\"TRANCHES\"].copy()\n",
        "    ind_val=1\n",
        "    for kk in range(20):\n",
        "        df_tous[\"CLASSE\"][df_tous[\"CLASSE\"]== index_20_ord.iloc[kk,0] ] = str(ind_val) \n",
        "        ind_val+=1\n",
        "    print(df_tous)    \n",
        "    \n",
        "    # pour la colonne Top_mon : changement de type de variable et remplissage des valeurs (s'il le faut)\n",
        "    data_temp_t = data_orig.copy()\n",
        "    data_temp_t[\"Top_mon\"] =  data_temp_t[\"Top_mon\"].replace(1.0,'1')\n",
        "    data_temp_t[\"Top_mon\"] =  data_temp_t[\"Top_mon\"].replace(2.0,'2')\n",
        "    data_all_complet_class = data_temp_t #data_temp_t.fillna('2')\n",
        "    #data_all_complet_class\n",
        "\n",
        "    # jointure\n",
        "    ident_class_tous = data_all_complet_class[[\"IDENT\",\"Top_mon\"]]\n",
        "    tableau_resultats = pd.merge(df_tous,ident_class_tous)\n",
        "    #tableau_resultats\n",
        "\n",
        "    # tranches finales\n",
        "    tab_cross_temp = pd.crosstab(tableau_resultats[\"TRANCHES\"],tableau_resultats[\"Top_mon\"])\n",
        "    #print(tab_cross_temp); print(\"-----------------------\")\n",
        "\n",
        "    # création d'une colonne TOTAL\n",
        "    tab_cross_temp[\"TOTAL\"]=tab_cross_temp[\"1\"]+tab_cross_temp[\"2\"]\n",
        "    \n",
        "    # affichage\n",
        "    if affichage ==True:        \n",
        "        print(tab_cross_temp)\n",
        "\n",
        "    # création du tableau final en éliminant la colonne 2\n",
        "    #tab_pour_excel = tab_cross_temp.drop([\"2\"], axis=1)\n",
        "\n",
        "    # si on ne veut pas éliminer la colonne 2\n",
        "    tab_pour_excel =  tab_cross_temp\n",
        "    \n",
        "    # enregistrement sous Excel\n",
        "    if save == True:\n",
        "        tab_pour_excel.to_excel(path)\n",
        "\n",
        "    return  df_tous"
      ],
      "execution_count": 33,
      "outputs": []
    },
    {
      "cell_type": "code",
      "metadata": {
        "id": "91nsbYDpPOb2"
      },
      "source": [
        ""
      ],
      "execution_count": 9,
      "outputs": []
    },
    {
      "cell_type": "code",
      "metadata": {
        "id": "I-YPAloELNpw"
      },
      "source": [
        "from sklearn.model_selection import train_test_split\n",
        "from sklearn.preprocessing import OneHotEncoder\n",
        "\n",
        "from sklearn.tree import DecisionTreeClassifier, plot_tree\n",
        "from sklearn.ensemble import RandomForestClassifier, BaggingClassifier, AdaBoostClassifier, GradientBoostingClassifier, ExtraTreesClassifier\n",
        "\n",
        "from sklearn.metrics import f1_score, confusion_matrix, classification_report\n",
        "from sklearn.model_selection import learning_curve, GridSearchCV"
      ],
      "execution_count": 10,
      "outputs": []
    },
    {
      "cell_type": "code",
      "metadata": {
        "id": "oJZmK3A1hFjN"
      },
      "source": [
        "####################  DONNEES SANS LES VARIABLES CORR ET ENCODAGE DUMMIES        ###########################"
      ],
      "execution_count": 11,
      "outputs": []
    },
    {
      "cell_type": "code",
      "metadata": {
        "colab": {
          "base_uri": "https://localhost:8080/"
        },
        "id": "Ayz77hrtHzrW",
        "outputId": "b034b187-b9ec-4ac5-ebdd-2668267b79ca"
      },
      "source": [
        "# test predict individus sans classe\n",
        "data = data_orig.copy()\n",
        "\n",
        "# on élimine les variables dons\n",
        "data=data.drop([\"GeoFaz_cl\", \"ImmoFaz_Scl\", \"ImmoFaz_cl\", \"Prenom_Phase_cl_H\", \"Prenom_Phase_cl_F\",\"Onoma-Phase_Scl\",\n",
        "                \"Onoma-Phase_CL\"],axis=1)\n",
        "\n",
        "# encodage Onehot sur toutes les données (on évite ainsi les erreurs futures)\n",
        "nb_var = data.shape[1] - 1\n",
        "data_1_22 = pd.get_dummies(data.iloc[:,1:(data.shape[1]-1)], columns=data.columns[1:(data.shape[1]-1)] )\n",
        "data_var_qualitatives_temp =  pd.concat([data[\"IDENT\"], data_1_22, data[\"Top_mon\"]], axis=1)\n",
        "data = data_var_qualitatives_temp\n",
        "#encodage = OneHotEncoder()\n",
        "#encodage.fit(data_processing(data.iloc[:,1:nb_var]))\n",
        "\n",
        "# élimination des individus n'ayant pas de valeur pour la varialbe IFI+\n",
        "\"\"\"IMPORTANT\"\"\"\n",
        "data_sans_nan = data[(data.isnull()).sum(axis=1) == 0]\n",
        "\n",
        "#conversion du type de variable\n",
        "for i in range(1,data_sans_nan.shape[1]):\n",
        "    data_sans_nan.iloc[:,i]=data_sans_nan.iloc[:,i].astype(int)\n",
        "\n",
        "# base de données avec des variables corrélées et avec encodage OneHot\n",
        "data =data_sans_nan\n",
        "\n",
        "nb_var = data.shape[1] - 1\n",
        "train_set, test_set = train_test_split(data, test_size = 0.2, random_state=0 )\n",
        "\n",
        "train_X_s = (train_set.iloc[:,1:nb_var]).to_numpy()\n",
        "train_Y_s = np.asanyarray(train_set.iloc[:,nb_var])\n",
        "\n",
        "test_X_s = (test_set.iloc[:,1:nb_var]).to_numpy()\n",
        "test_Y_s = np.asanyarray(test_set.iloc[:,nb_var])\n"
      ],
      "execution_count": 12,
      "outputs": [
        {
          "output_type": "stream",
          "text": [
            "/usr/local/lib/python3.7/dist-packages/pandas/core/indexing.py:1743: SettingWithCopyWarning: \n",
            "A value is trying to be set on a copy of a slice from a DataFrame.\n",
            "Try using .loc[row_indexer,col_indexer] = value instead\n",
            "\n",
            "See the caveats in the documentation: https://pandas.pydata.org/pandas-docs/stable/user_guide/indexing.html#returning-a-view-versus-a-copy\n",
            "  isetter(ilocs[0], value)\n"
          ],
          "name": "stderr"
        }
      ]
    },
    {
      "cell_type": "code",
      "metadata": {
        "id": "nzA3GnjILNsT"
      },
      "source": [
        "####################################################################################\n",
        "#                            MODELE 1 : BOOSTING\n",
        "####################################################################################"
      ],
      "execution_count": null,
      "outputs": []
    },
    {
      "cell_type": "code",
      "metadata": {
        "id": "6uT19lFGHzw1"
      },
      "source": [
        "model_AdaBoost = AdaBoostClassifier(base_estimator=DecisionTreeClassifier(class_weight = \"balanced\"), random_state =0 )\n",
        "param = {'base_estimator__criterion': ['gini','entropy'], 'base_estimator__max_depth' : list(range(2,20, 2)), 'n_estimators' : [20, 50] }\n",
        "\n",
        "grid_AdaBoost = GridSearchCV(model_AdaBoost, param, cv = 4, scoring = \"recall\", n_jobs=-1)\n",
        "resultat_grid_AdaBoost = grid_AdaBoost.fit(train_X_s, train_Y_s)\n",
        "resultat_grid_AdaBoost.best_params_\n",
        "#model_AdaBoost.get_params\n"
      ],
      "execution_count": null,
      "outputs": []
    },
    {
      "cell_type": "code",
      "metadata": {
        "id": "FUHacSWXHzyp",
        "colab": {
          "base_uri": "https://localhost:8080/"
        },
        "outputId": "01b8e313-3fc2-41a6-b61e-73c533b54358"
      },
      "source": [
        "final_model_AdaBoost = AdaBoostClassifier(base_estimator = DecisionTreeClassifier(class_weight=\"balanced\", criterion=\"gini\",max_depth=2),n_estimators = 20 , random_state=0 ) \n",
        "evaluation(final_model_AdaBoost, train_X_s, train_Y_s, test_X_s, test_Y_s, scoring=\"recall\" , plot =False)"
      ],
      "execution_count": 20,
      "outputs": [
        {
          "output_type": "stream",
          "text": [
            "test set : \n",
            "[[2826 2505]\n",
            " [4948 9581]]\n",
            "              precision    recall  f1-score   support\n",
            "\n",
            "           1       0.36      0.53      0.43      5331\n",
            "           2       0.79      0.66      0.72     14529\n",
            "\n",
            "    accuracy                           0.62     19860\n",
            "   macro avg       0.58      0.59      0.58     19860\n",
            "weighted avg       0.68      0.62      0.64     19860\n",
            "\n",
            "train set : \n",
            "[[11185 10212]\n",
            " [19170 38869]]\n",
            "              precision    recall  f1-score   support\n",
            "\n",
            "           1       0.37      0.52      0.43     21397\n",
            "           2       0.79      0.67      0.73     58039\n",
            "\n",
            "    accuracy                           0.63     79436\n",
            "   macro avg       0.58      0.60      0.58     79436\n",
            "weighted avg       0.68      0.63      0.65     79436\n",
            "\n",
            "GRAPHIQUE NON DEMANDE\n"
          ],
          "name": "stdout"
        }
      ]
    },
    {
      "cell_type": "code",
      "metadata": {
        "id": "LKm4jSqlhqKT",
        "colab": {
          "base_uri": "https://localhost:8080/"
        },
        "outputId": "6e19d50b-cbaa-44ad-c806-8aeb595cbd5d"
      },
      "source": [
        "# TRAIN SET TEST SET\n",
        "vingtiles_tableau = vingtiles(model = final_model_AdaBoost, data_orig = data, affichage=True,\n",
        "            save=False, path = \"/content/drive/MyDrive/spad_score_method_1/spad_projection_FDFTOT21/Fichier_excel_vingtiles/train_test_Adaboost.xlsx\")"
      ],
      "execution_count": 23,
      "outputs": [
        {
          "output_type": "stream",
          "text": [
            "            IDENT     PROBA\n",
            "63493  0010397061  0.135818\n",
            "18843  0010291953  0.136391\n",
            "10385  0010257272  0.136550\n",
            "62181  0010395560  0.136550\n",
            "11441  0010258353  0.136550\n",
            "...           ...       ...\n",
            "99283  0010539458  0.532344\n",
            "88492  0010524610  0.532355\n",
            "83980  0010505638  0.532984\n",
            "79062  0010415013  0.533166\n",
            "93101  0010530839  0.534106\n",
            "\n",
            "[99296 rows x 2 columns]\n",
            "0.499496    4341\n",
            "0.496758    3719\n",
            "0.491285    2614\n",
            "0.493052    2507\n",
            "0.501509    1123\n",
            "            ... \n",
            "0.506313       1\n",
            "0.518211       1\n",
            "0.495084       1\n",
            "0.499973       1\n",
            "0.497490       1\n",
            "Name: PROBA, Length: 8264, dtype: int64\n"
          ],
          "name": "stdout"
        },
        {
          "output_type": "stream",
          "text": [
            "/usr/local/lib/python3.7/dist-packages/ipykernel_launcher.py:119: SettingWithCopyWarning: \n",
            "A value is trying to be set on a copy of a slice from a DataFrame\n",
            "\n",
            "See the caveats in the documentation: https://pandas.pydata.org/pandas-docs/stable/user_guide/indexing.html#returning-a-view-versus-a-copy\n"
          ],
          "name": "stderr"
        },
        {
          "output_type": "stream",
          "text": [
            "            IDENT     PROBA                       TRANCHES CLASSE\n",
            "63493  0010397061  0.135818  (0.13570000000000002, 0.4908]      1\n",
            "18843  0010291953  0.136391  (0.13570000000000002, 0.4908]      1\n",
            "10385  0010257272  0.136550  (0.13570000000000002, 0.4908]      1\n",
            "62181  0010395560  0.136550  (0.13570000000000002, 0.4908]      1\n",
            "11441  0010258353  0.136550  (0.13570000000000002, 0.4908]      1\n",
            "...           ...       ...                            ...    ...\n",
            "99283  0010539458  0.532344               (0.5119, 0.5341]     20\n",
            "88492  0010524610  0.532355               (0.5119, 0.5341]     20\n",
            "83980  0010505638  0.532984               (0.5119, 0.5341]     20\n",
            "79062  0010415013  0.533166               (0.5119, 0.5341]     20\n",
            "93101  0010530839  0.534106               (0.5119, 0.5341]     20\n",
            "\n",
            "[99296 rows x 4 columns]\n",
            "Top_mon                           1     2  TOTAL\n",
            "TRANCHES                                        \n",
            "(0.13570000000000002, 0.4908]   656  4331   4987\n",
            "(0.4908, 0.4919]                788  4157   4945\n",
            "(0.4919, 0.4931]                875  4091   4966\n",
            "(0.4931, 0.4939]                945  4238   5183\n",
            "(0.4939, 0.495]                 991  3803   4794\n",
            "(0.495, 0.4957]                1030  4008   5038\n",
            "(0.4957, 0.4968]               1803  6678   8481\n",
            "(0.4968, 0.497]                 314  1082   1396\n",
            "(0.497, 0.498]                 1175  3755   4930\n",
            "(0.498, 0.4988]                1354  4286   5640\n",
            "(0.4988, 0.4995]               2234  6309   8543\n",
            "(0.4995, 0.4997]                181   579    760\n",
            "(0.4997, 0.5011]               1283  3596   4879\n",
            "(0.5011, 0.5015]               1471  3495   4966\n",
            "(0.5015, 0.5025]               1748  3985   5733\n",
            "(0.5025, 0.5038]               1330  2891   4221\n",
            "(0.5038, 0.5052]               1699  3240   4939\n",
            "(0.5052, 0.5079]               1860  3106   4966\n",
            "(0.5079, 0.5119]               2189  2807   4996\n",
            "(0.5119, 0.5341]               2802  2131   4933\n"
          ],
          "name": "stdout"
        }
      ]
    },
    {
      "cell_type": "code",
      "metadata": {
        "id": "iKXH83PFSlV1",
        "colab": {
          "base_uri": "https://localhost:8080/"
        },
        "outputId": "9b4183f5-ac08-4931-c2ac-785ce9e022d3"
      },
      "source": [
        "# TABLEAU MONTANT\n",
        "tableau_5_montant(vingtiles_tableau, data_montant_orig, affichage=True,\n",
        "            save=False, path = \"/content/drive/MyDrive/spad_score_method_1/spad_projection_FDFTOT21/Fichier_excel_vingtiles/montant_Adaboost.xlsx\")"
      ],
      "execution_count": 24,
      "outputs": [
        {
          "output_type": "stream",
          "text": [
            "            IDENT     PROBA  ... CLASSE SommeDeMONTANT_NUM\n",
            "0      0010397061  0.135818  ...      1               15.0\n",
            "1      0010291953  0.136391  ...      1               30.0\n",
            "2      0010257272  0.136550  ...      1               10.0\n",
            "3      0010395560  0.136550  ...      1               15.0\n",
            "4      0010258353  0.136550  ...      1               15.0\n",
            "...           ...       ...  ...    ...                ...\n",
            "99291  0010539458  0.532344  ...     20             1917.6\n",
            "99292  0010524610  0.532355  ...     20               20.0\n",
            "99293  0010505638  0.532984  ...     20              100.0\n",
            "99294  0010415013  0.533166  ...     20              100.0\n",
            "99295  0010530839  0.534106  ...     20              200.0\n",
            "\n",
            "[99146 rows x 5 columns]\n",
            "                         TRANCHES Moyen_Somme TOTAL\n",
            "0   (0.13570000000000002, 0.4908]     28.2102  4985\n",
            "1                (0.4908, 0.4919]     29.7559  4944\n",
            "2                (0.4919, 0.4931]     30.9221  4965\n",
            "3                (0.4931, 0.4939]     31.4666  5183\n",
            "4                 (0.4939, 0.495]     33.4845  4794\n",
            "5                 (0.495, 0.4957]     33.5276  5034\n",
            "6                (0.4957, 0.4968]     34.1494  8480\n",
            "7                 (0.4968, 0.497]     35.3593  1394\n",
            "8                  (0.497, 0.498]     38.8506  4928\n",
            "9                 (0.498, 0.4988]     36.3759  5638\n",
            "10               (0.4988, 0.4995]     41.1638  8534\n",
            "11               (0.4995, 0.4997]     35.9848   759\n",
            "12               (0.4997, 0.5011]     45.1603  4877\n",
            "13               (0.5011, 0.5015]      42.761  4960\n",
            "14               (0.5015, 0.5025]     45.2452  5722\n",
            "15               (0.5025, 0.5038]     48.7597  4217\n",
            "16               (0.5038, 0.5052]     51.9715  4934\n",
            "17               (0.5052, 0.5079]     61.1156  4947\n",
            "18               (0.5079, 0.5119]     73.9287  4970\n",
            "19               (0.5119, 0.5341]     150.757  4881\n"
          ],
          "name": "stdout"
        }
      ]
    },
    {
      "cell_type": "code",
      "metadata": {
        "id": "BvNNKb0ndG7O"
      },
      "source": [
        "# INDIVIDUS SANS TARGET\n",
        "vingtiles_ind_sans_target(model = final_model_AdaBoost, data_orig= data_var_qualitatives_temp[(data_var_qualitatives_temp.isnull()).sum(axis=1) != 0], affichage=True,\n",
        "            save=False, path = \"/content/drive/MyDrive/spad_score_method_1/spad_projection_FDFTOT21/Fichier_excel_vingtiles/ind_sans_target_Adaboost.xlsx\")"
      ],
      "execution_count": null,
      "outputs": []
    },
    {
      "cell_type": "code",
      "metadata": {
        "id": "qsQSJ6dhhqRJ"
      },
      "source": [
        "#############################################################\n",
        "#                   MODELE 2 : RANDOM FOREST\n",
        "#############################################################"
      ],
      "execution_count": null,
      "outputs": []
    },
    {
      "cell_type": "code",
      "metadata": {
        "id": "HBC-6OWNYvnm"
      },
      "source": [
        "model_RandomForestClassifier = RandomForestClassifier(class_weight=\"balanced\", random_state =0 )\n",
        "param = {'criterion': ['gini','entropy'], 'max_depth' : [2,3,4,5],\"max_features\":[8,12,15,20,25,30] ,'n_estimators' : [20,50,100,200] }\n",
        "\n",
        "grid_RandomForestClassifier = GridSearchCV(model_RandomForestClassifier, param, cv = 4, scoring = \"recall\", n_jobs=-1)\n",
        "resultat_grid_RandomForestClassifier = grid_RandomForestClassifier.fit(train_X_s, train_Y_s)\n",
        "resultat_grid_RandomForestClassifier.best_params_\n"
      ],
      "execution_count": null,
      "outputs": []
    },
    {
      "cell_type": "code",
      "metadata": {
        "id": "n3i-NJ26zZsC",
        "colab": {
          "base_uri": "https://localhost:8080/"
        },
        "outputId": "bcabef0e-879b-4dac-eac1-a95913797fb8"
      },
      "source": [
        "final_model_RandomForestClassifier = RandomForestClassifier(class_weight=\"balanced\", criterion=\"gini\", max_depth=3, max_features=25, n_estimators = 100, random_state=0) \n",
        "evaluation(final_model_RandomForestClassifier, train_X_s, train_Y_s, test_X_s, test_Y_s, scoring=\"recall\", plot=False)"
      ],
      "execution_count": 25,
      "outputs": [
        {
          "output_type": "stream",
          "text": [
            "test set : \n",
            "[[3380 1951]\n",
            " [6795 7734]]\n",
            "              precision    recall  f1-score   support\n",
            "\n",
            "           1       0.33      0.63      0.44      5331\n",
            "           2       0.80      0.53      0.64     14529\n",
            "\n",
            "    accuracy                           0.56     19860\n",
            "   macro avg       0.57      0.58      0.54     19860\n",
            "weighted avg       0.67      0.56      0.58     19860\n",
            "\n",
            "train set : \n",
            "[[13273  8124]\n",
            " [27007 31032]]\n",
            "              precision    recall  f1-score   support\n",
            "\n",
            "           1       0.33      0.62      0.43     21397\n",
            "           2       0.79      0.53      0.64     58039\n",
            "\n",
            "    accuracy                           0.56     79436\n",
            "   macro avg       0.56      0.58      0.53     79436\n",
            "weighted avg       0.67      0.56      0.58     79436\n",
            "\n",
            "GRAPHIQUE NON DEMANDE\n"
          ],
          "name": "stdout"
        }
      ]
    },
    {
      "cell_type": "code",
      "metadata": {
        "id": "zHQtVH69zZvW",
        "colab": {
          "base_uri": "https://localhost:8080/"
        },
        "outputId": "894769f0-30f9-42fd-ca86-f095167b259d"
      },
      "source": [
        "# TRAIN SET TEST SET\n",
        "vingtiles_tableau = vingtiles(model = final_model_RandomForestClassifier, data_orig = data, affichage=True,\n",
        "            save=False, path = \"/content/drive/MyDrive/spad_score_method_1/spad_projection_FDFTOT21/Fichier_excel_vingtiles/train_test_Random_Forest.xlsx\")"
      ],
      "execution_count": 26,
      "outputs": [
        {
          "output_type": "stream",
          "text": [
            "            IDENT     PROBA\n",
            "67904  0010401663  0.407182\n",
            "53738  0010379725  0.408820\n",
            "21093  0010337388  0.408885\n",
            "42914  0010368050  0.409773\n",
            "93208  0010530978  0.410760\n",
            "...           ...       ...\n",
            "88310  0010524335  0.694018\n",
            "51004  0010376561  0.694018\n",
            "3728   0010049725  0.694018\n",
            "54667  0010381112  0.694018\n",
            "2071   0010027021  0.694018\n",
            "\n",
            "[99296 rows x 2 columns]\n",
            "0.449338    1855\n",
            "0.526649    1347\n",
            "0.451151     695\n",
            "0.510004     676\n",
            "0.461725     508\n",
            "            ... \n",
            "0.510846       1\n",
            "0.434282       1\n",
            "0.499693       1\n",
            "0.444811       1\n",
            "0.462459       1\n",
            "Name: PROBA, Length: 31410, dtype: int64\n"
          ],
          "name": "stdout"
        },
        {
          "output_type": "stream",
          "text": [
            "/usr/local/lib/python3.7/dist-packages/ipykernel_launcher.py:119: SettingWithCopyWarning: \n",
            "A value is trying to be set on a copy of a slice from a DataFrame\n",
            "\n",
            "See the caveats in the documentation: https://pandas.pydata.org/pandas-docs/stable/user_guide/indexing.html#returning-a-view-versus-a-copy\n"
          ],
          "name": "stderr"
        },
        {
          "output_type": "stream",
          "text": [
            "            IDENT     PROBA                     TRANCHES CLASSE\n",
            "67904  0010401663  0.407182  (0.40599999999999997, 0.43]      1\n",
            "53738  0010379725  0.408820  (0.40599999999999997, 0.43]      1\n",
            "21093  0010337388  0.408885  (0.40599999999999997, 0.43]      1\n",
            "42914  0010368050  0.409773  (0.40599999999999997, 0.43]      1\n",
            "93208  0010530978  0.410760  (0.40599999999999997, 0.43]      1\n",
            "...           ...       ...                          ...    ...\n",
            "88310  0010524335  0.694018               (0.585, 0.694]     20\n",
            "51004  0010376561  0.694018               (0.585, 0.694]     20\n",
            "3728   0010049725  0.694018               (0.585, 0.694]     20\n",
            "54667  0010381112  0.694018               (0.585, 0.694]     20\n",
            "2071   0010027021  0.694018               (0.585, 0.694]     20\n",
            "\n",
            "[99296 rows x 4 columns]\n",
            "Top_mon                         1     2  TOTAL\n",
            "TRANCHES                                      \n",
            "(0.40599999999999997, 0.43]   733  4238   4971\n",
            "(0.43, 0.435]                 871  4121   4992\n",
            "(0.435, 0.445]                934  4009   4943\n",
            "(0.445, 0.449]               1095  4671   5766\n",
            "(0.449, 0.452]                794  3358   4152\n",
            "(0.452, 0.456]               1107  3869   4976\n",
            "(0.456, 0.462]               1138  3818   4956\n",
            "(0.462, 0.471]               1173  3790   4963\n",
            "(0.471, 0.484]               1206  3758   4964\n",
            "(0.484, 0.501]               1204  3762   4966\n",
            "(0.501, 0.508]               1186  3779   4965\n",
            "(0.508, 0.512]               1314  3652   4966\n",
            "(0.512, 0.518]               1319  3643   4962\n",
            "(0.518, 0.522]               1418  3714   5132\n",
            "(0.522, 0.526]               1438  3368   4806\n",
            "(0.526, 0.529]               1533  3425   4958\n",
            "(0.529, 0.534]               1649  3314   4963\n",
            "(0.534, 0.546]               1769  3197   4966\n",
            "(0.546, 0.585]               2172  2800   4972\n",
            "(0.585, 0.694]               2675  2282   4957\n"
          ],
          "name": "stdout"
        }
      ]
    },
    {
      "cell_type": "code",
      "metadata": {
        "id": "CNoifDu6iXK1",
        "colab": {
          "base_uri": "https://localhost:8080/"
        },
        "outputId": "2f85c105-cea6-49c0-a740-713cd74e500a"
      },
      "source": [
        "# TABLEAU MONTANT\n",
        "tableau_5_montant(vingtiles_tableau, data_montant_orig, affichage=True,\n",
        "            save=False, path = \"/content/drive/MyDrive/spad_score_method_1/spad_projection_FDFTOT21/Fichier_excel_vingtiles/montant_Random_Forest.xlsx\")"
      ],
      "execution_count": 27,
      "outputs": [
        {
          "output_type": "stream",
          "text": [
            "            IDENT     PROBA  ... CLASSE SommeDeMONTANT_NUM\n",
            "0      0010401663  0.407182  ...      1               50.0\n",
            "1      0010379725  0.408820  ...      1                5.0\n",
            "2      0010337388  0.408885  ...      1               15.0\n",
            "3      0010368050  0.409773  ...      1               20.0\n",
            "4      0010530978  0.410760  ...      1               15.0\n",
            "...           ...       ...  ...    ...                ...\n",
            "99291  0010524335  0.694018  ...     20               50.0\n",
            "99292  0010376561  0.694018  ...     20              500.0\n",
            "99293  0010049725  0.694018  ...     20                5.0\n",
            "99294  0010381112  0.694018  ...     20              500.0\n",
            "99295  0010027021  0.694018  ...     20               50.0\n",
            "\n",
            "[99146 rows x 5 columns]\n",
            "                       TRANCHES Moyen_Somme TOTAL\n",
            "0   (0.40599999999999997, 0.43]      28.702  4970\n",
            "1                 (0.43, 0.435]     31.2005  4991\n",
            "2                (0.435, 0.445]     31.4399  4941\n",
            "3                (0.445, 0.449]     32.9147  5764\n",
            "4                (0.449, 0.452]     35.2287  4150\n",
            "5                (0.452, 0.456]     35.3875  4972\n",
            "6                (0.456, 0.462]     36.4149  4954\n",
            "7                (0.462, 0.471]     39.8964  4959\n",
            "8                (0.471, 0.484]     38.4715  4958\n",
            "9                (0.484, 0.501]     38.3071  4961\n",
            "10               (0.501, 0.508]     38.0388  4964\n",
            "11               (0.508, 0.512]     39.0489  4963\n",
            "12               (0.512, 0.518]      41.664  4957\n",
            "13               (0.518, 0.522]     40.3542  5128\n",
            "14               (0.522, 0.526]      46.275  4799\n",
            "15               (0.526, 0.529]     51.9433  4953\n",
            "16               (0.529, 0.534]     49.6557  4953\n",
            "17               (0.534, 0.546]     54.3737  4950\n",
            "18               (0.546, 0.585]     87.1604  4954\n",
            "19               (0.585, 0.694]     134.484  4905\n"
          ],
          "name": "stdout"
        }
      ]
    },
    {
      "cell_type": "code",
      "metadata": {
        "id": "8jVj4rxxzZ1k"
      },
      "source": [
        "# INDIVIDUS SANS TARGET\n",
        "vingtiles_ind_sans_target(model = final_model_RandomForestClassifier, data_orig= data_var_qualitatives_temp[(data_var_qualitatives_temp.isnull()).sum(axis=1) != 0], affichage=True,\n",
        "            save=False, path = \"/content/drive/MyDrive/spad_score_method_1/spad_projection_FDFTOT21/Fichier_excel_vingtiles/ind_sans_target_Random_Forest.xlsx\")"
      ],
      "execution_count": null,
      "outputs": []
    },
    {
      "cell_type": "code",
      "metadata": {
        "id": "d04Xaq_mRPT-"
      },
      "source": [
        ""
      ],
      "execution_count": null,
      "outputs": []
    },
    {
      "cell_type": "code",
      "metadata": {
        "id": "7LLwgps2n4tS"
      },
      "source": [
        "#############################################################\n",
        "#                   MODELE 3 : BAGGING\n",
        "#############################################################"
      ],
      "execution_count": null,
      "outputs": []
    },
    {
      "cell_type": "code",
      "metadata": {
        "id": "pL9jq9H5n4wa"
      },
      "source": [
        "model_Bagging = BaggingClassifier(base_estimator=DecisionTreeClassifier(class_weight = \"balanced\"), random_state =0 )\n",
        "param = {'base_estimator__criterion': ['gini','entropy'], 'base_estimator__max_depth' : list(range(2,20, 1)), 'n_estimators' : [20,50,100],\n",
        "         'bootstrap':[True], \"bootstrap_features\": [False]}\n",
        "\n",
        "grid_Bagging = GridSearchCV(model_Bagging, param, cv = 4, scoring = \"recall\", n_jobs=-1)\n",
        "resultat_grid_Bagging = grid_Bagging.fit(train_X_s, train_Y_s)\n",
        "resultat_grid_Bagging.best_params_\n"
      ],
      "execution_count": null,
      "outputs": []
    },
    {
      "cell_type": "code",
      "metadata": {
        "id": "I8vJFdWdn4z1",
        "colab": {
          "base_uri": "https://localhost:8080/"
        },
        "outputId": "b6991416-43e4-42e4-8766-cdea4364bcae"
      },
      "source": [
        "final_model_BaggingClassifier = BaggingClassifier(base_estimator=DecisionTreeClassifier(class_weight = \"balanced\", criterion=\"gini\", max_depth=2, random_state=0),bootstrap=True, bootstrap_features=False, n_estimators = 50) \n",
        "evaluation(final_model_BaggingClassifier, train_X_s, train_Y_s, test_X_s, test_Y_s, scoring=\"recall\", plot=False)"
      ],
      "execution_count": 28,
      "outputs": [
        {
          "output_type": "stream",
          "text": [
            "test set : \n",
            "[[3289 2042]\n",
            " [6708 7821]]\n",
            "              precision    recall  f1-score   support\n",
            "\n",
            "           1       0.33      0.62      0.43      5331\n",
            "           2       0.79      0.54      0.64     14529\n",
            "\n",
            "    accuracy                           0.56     19860\n",
            "   macro avg       0.56      0.58      0.54     19860\n",
            "weighted avg       0.67      0.56      0.58     19860\n",
            "\n",
            "train set : \n",
            "[[12917  8480]\n",
            " [26550 31489]]\n",
            "              precision    recall  f1-score   support\n",
            "\n",
            "           1       0.33      0.60      0.42     21397\n",
            "           2       0.79      0.54      0.64     58039\n",
            "\n",
            "    accuracy                           0.56     79436\n",
            "   macro avg       0.56      0.57      0.53     79436\n",
            "weighted avg       0.66      0.56      0.58     79436\n",
            "\n",
            "GRAPHIQUE NON DEMANDE\n"
          ],
          "name": "stdout"
        }
      ]
    },
    {
      "cell_type": "code",
      "metadata": {
        "id": "-iYPSINKn43B",
        "colab": {
          "base_uri": "https://localhost:8080/",
          "height": 1000
        },
        "outputId": "550efe8c-a89a-4d96-c912-dd5816c5acb5"
      },
      "source": [
        "vingtiles(model = final_model_BaggingClassifier, data_orig = data, affichage=True,\n",
        "            save=False, path = \"/content/drive/MyDrive/spad_score_method_1/spad_projection_FDFTOT21/Fichier_excel_vingtiles/train_test_Decision_Tree_Classifier.xlsx\")"
      ],
      "execution_count": 29,
      "outputs": [
        {
          "output_type": "stream",
          "text": [
            "            IDENT     PROBA\n",
            "0      0010000001  0.423042\n",
            "51100  0010376657  0.423042\n",
            "51106  0010376663  0.423042\n",
            "51107  0010376664  0.423042\n",
            "51109  0010376666  0.423042\n",
            "...           ...       ...\n",
            "62753  0010396205  0.757319\n",
            "20700  0010336669  0.757319\n",
            "2091   0010027234  0.757319\n",
            "5409   0010107870  0.757319\n",
            "49476  0010374869  0.757319\n",
            "\n",
            "[99296 rows x 2 columns]\n",
            "0.423042    36029\n",
            "0.532756    24169\n",
            "0.507275    15519\n",
            "0.442709    11014\n",
            "0.657911     1764\n",
            "0.733459     1749\n",
            "0.468190     1397\n",
            "0.487609     1343\n",
            "0.698665     1131\n",
            "0.641776      904\n",
            "0.681771      798\n",
            "0.757319      779\n",
            "0.662274      517\n",
            "0.722525      377\n",
            "0.665636      336\n",
            "0.686134      228\n",
            "0.646139      198\n",
            "0.677469      106\n",
            "0.753017      104\n",
            "0.694302      104\n",
            "0.697068      102\n",
            "0.718162       74\n",
            "0.669999       64\n",
            "0.718224       60\n",
            "0.737761       55\n",
            "0.662212       53\n",
            "0.720928       42\n",
            "0.661334       41\n",
            "0.702967       36\n",
            "0.646077       34\n",
            "0.480960       32\n",
            "0.681832       25\n",
            "0.666576       17\n",
            "0.701370       11\n",
            "0.429691       11\n",
            "0.650441       10\n",
            "0.665697        8\n",
            "0.500626        7\n",
            "0.680933        7\n",
            "0.666269        6\n",
            "0.698604        6\n",
            "0.713860        6\n",
            "0.449357        5\n",
            "0.716626        3\n",
            "0.690129        3\n",
            "0.526108        3\n",
            "0.685944        2\n",
            "0.670632        2\n",
            "0.704793        1\n",
            "0.690190        1\n",
            "0.694492        1\n",
            "0.725101        1\n",
            "0.474839        1\n",
            "Name: PROBA, dtype: int64\n"
          ],
          "name": "stdout"
        },
        {
          "output_type": "error",
          "ename": "ValueError",
          "evalue": "ignored",
          "traceback": [
            "\u001b[0;31m---------------------------------------------------------------------------\u001b[0m",
            "\u001b[0;31mValueError\u001b[0m                                Traceback (most recent call last)",
            "\u001b[0;32m<ipython-input-29-4be2b6119a1a>\u001b[0m in \u001b[0;36m<module>\u001b[0;34m()\u001b[0m\n\u001b[1;32m      1\u001b[0m vingtiles(model = final_model_BaggingClassifier, data_orig = data, affichage=True,\n\u001b[0;32m----> 2\u001b[0;31m             save=False, path = \"/content/drive/MyDrive/spad_score_method_1/spad_projection_FDFTOT21/Fichier_excel_vingtiles/train_test_Decision_Tree_Classifier.xlsx\")\n\u001b[0m",
            "\u001b[0;32m<ipython-input-8-8e1bcf0023f5>\u001b[0m in \u001b[0;36mvingtiles\u001b[0;34m(model, data_orig, affichage, save, path)\u001b[0m\n\u001b[1;32m    105\u001b[0m \u001b[0;34m\u001b[0m\u001b[0m\n\u001b[1;32m    106\u001b[0m     \u001b[0;31m# vingtiles\u001b[0m\u001b[0;34m\u001b[0m\u001b[0;34m\u001b[0m\u001b[0;34m\u001b[0m\u001b[0m\n\u001b[0;32m--> 107\u001b[0;31m     \u001b[0mdf_temp\u001b[0m \u001b[0;34m=\u001b[0m\u001b[0mpd\u001b[0m\u001b[0;34m.\u001b[0m\u001b[0mDataFrame\u001b[0m\u001b[0;34m(\u001b[0m \u001b[0mpd\u001b[0m\u001b[0;34m.\u001b[0m\u001b[0mqcut\u001b[0m\u001b[0;34m(\u001b[0m\u001b[0mdf_tous\u001b[0m\u001b[0;34m[\u001b[0m\u001b[0;34m'PROBA'\u001b[0m\u001b[0;34m]\u001b[0m\u001b[0;34m,\u001b[0m\u001b[0mq\u001b[0m\u001b[0;34m=\u001b[0m \u001b[0;36m20\u001b[0m\u001b[0;34m)\u001b[0m  \u001b[0;34m)\u001b[0m\u001b[0;34m\u001b[0m\u001b[0;34m\u001b[0m\u001b[0m\n\u001b[0m\u001b[1;32m    108\u001b[0m     \u001b[0;31m#print(df_temp)\u001b[0m\u001b[0;34m\u001b[0m\u001b[0;34m\u001b[0m\u001b[0;34m\u001b[0m\u001b[0m\n\u001b[1;32m    109\u001b[0m \u001b[0;34m\u001b[0m\u001b[0m\n",
            "\u001b[0;32m/usr/local/lib/python3.7/dist-packages/pandas/core/reshape/tile.py\u001b[0m in \u001b[0;36mqcut\u001b[0;34m(x, q, labels, retbins, precision, duplicates)\u001b[0m\n\u001b[1;32m    365\u001b[0m         \u001b[0minclude_lowest\u001b[0m\u001b[0;34m=\u001b[0m\u001b[0;32mTrue\u001b[0m\u001b[0;34m,\u001b[0m\u001b[0;34m\u001b[0m\u001b[0;34m\u001b[0m\u001b[0m\n\u001b[1;32m    366\u001b[0m         \u001b[0mdtype\u001b[0m\u001b[0;34m=\u001b[0m\u001b[0mdtype\u001b[0m\u001b[0;34m,\u001b[0m\u001b[0;34m\u001b[0m\u001b[0;34m\u001b[0m\u001b[0m\n\u001b[0;32m--> 367\u001b[0;31m         \u001b[0mduplicates\u001b[0m\u001b[0;34m=\u001b[0m\u001b[0mduplicates\u001b[0m\u001b[0;34m,\u001b[0m\u001b[0;34m\u001b[0m\u001b[0;34m\u001b[0m\u001b[0m\n\u001b[0m\u001b[1;32m    368\u001b[0m     )\n\u001b[1;32m    369\u001b[0m \u001b[0;34m\u001b[0m\u001b[0m\n",
            "\u001b[0;32m/usr/local/lib/python3.7/dist-packages/pandas/core/reshape/tile.py\u001b[0m in \u001b[0;36m_bins_to_cuts\u001b[0;34m(x, bins, right, labels, precision, include_lowest, dtype, duplicates, ordered)\u001b[0m\n\u001b[1;32m    400\u001b[0m         \u001b[0;32mif\u001b[0m \u001b[0mduplicates\u001b[0m \u001b[0;34m==\u001b[0m \u001b[0;34m\"raise\"\u001b[0m\u001b[0;34m:\u001b[0m\u001b[0;34m\u001b[0m\u001b[0;34m\u001b[0m\u001b[0m\n\u001b[1;32m    401\u001b[0m             raise ValueError(\n\u001b[0;32m--> 402\u001b[0;31m                 \u001b[0;34mf\"Bin edges must be unique: {repr(bins)}.\\n\"\u001b[0m\u001b[0;34m\u001b[0m\u001b[0;34m\u001b[0m\u001b[0m\n\u001b[0m\u001b[1;32m    403\u001b[0m                 \u001b[0;34mf\"You can drop duplicate edges by setting the 'duplicates' kwarg\"\u001b[0m\u001b[0;34m\u001b[0m\u001b[0;34m\u001b[0m\u001b[0m\n\u001b[1;32m    404\u001b[0m             )\n",
            "\u001b[0;31mValueError\u001b[0m: Bin edges must be unique: array([0.423042  , 0.423042  , 0.423042  , 0.423042  , 0.423042  ,\n       0.423042  , 0.423042  , 0.423042  , 0.44270854, 0.44270854,\n       0.48760866, 0.50727521, 0.50727521, 0.50727521, 0.53275645,\n       0.53275645, 0.53275645, 0.53275645, 0.53275645, 0.68177079,\n       0.75731913]).\nYou can drop duplicate edges by setting the 'duplicates' kwarg"
          ]
        }
      ]
    },
    {
      "cell_type": "code",
      "metadata": {
        "id": "M_AjyHWqHVxP"
      },
      "source": [
        "#############################################################\n",
        "#                   MODELE 4 : EXTRA-TREES\n",
        "#############################################################"
      ],
      "execution_count": null,
      "outputs": []
    },
    {
      "cell_type": "code",
      "metadata": {
        "id": "Mato8dS5qWhB"
      },
      "source": [
        "model_ExtraTreesClassifier = ExtraTreesClassifier(class_weight=\"balanced\", random_state =0 )\n",
        "param = {'criterion': ['gini','entropy'], 'max_depth' : [2,3,4,5],\"max_features\":[8,12,15,20,25,30] ,'n_estimators' : [20,50,100] }\n",
        "\n",
        "grid_ExtraTreesClassifier = GridSearchCV(model_ExtraTreesClassifier, param, cv = 4, scoring = \"recall\", n_jobs=-1)\n",
        "resultat_grid_ExtraTreesClassifier = grid_ExtraTreesClassifier.fit(train_X_s, train_Y_s)\n",
        "resultat_grid_ExtraTreesClassifier.best_params_\n",
        "\n"
      ],
      "execution_count": null,
      "outputs": []
    },
    {
      "cell_type": "code",
      "metadata": {
        "id": "RoQPo8kpqWj6",
        "colab": {
          "base_uri": "https://localhost:8080/"
        },
        "outputId": "a544fa94-886c-4d70-8334-0dd3ae2e5d20"
      },
      "source": [
        "final_model_ExtraTreesClassifier = ExtraTreesClassifier( criterion=\"entropy\", max_depth=3, max_features=30, n_estimators=50 , class_weight=\"balanced\", random_state=0) \n",
        "evaluation(final_model_ExtraTreesClassifier, train_X_s, train_Y_s, test_X_s, test_Y_s, scoring=\"recall\", plot=False)"
      ],
      "execution_count": 30,
      "outputs": [
        {
          "output_type": "stream",
          "text": [
            "test set : \n",
            "[[3420 1911]\n",
            " [6955 7574]]\n",
            "              precision    recall  f1-score   support\n",
            "\n",
            "           1       0.33      0.64      0.44      5331\n",
            "           2       0.80      0.52      0.63     14529\n",
            "\n",
            "    accuracy                           0.55     19860\n",
            "   macro avg       0.56      0.58      0.53     19860\n",
            "weighted avg       0.67      0.55      0.58     19860\n",
            "\n",
            "train set : \n",
            "[[13414  7983]\n",
            " [27659 30380]]\n",
            "              precision    recall  f1-score   support\n",
            "\n",
            "           1       0.33      0.63      0.43     21397\n",
            "           2       0.79      0.52      0.63     58039\n",
            "\n",
            "    accuracy                           0.55     79436\n",
            "   macro avg       0.56      0.58      0.53     79436\n",
            "weighted avg       0.67      0.55      0.58     79436\n",
            "\n",
            "GRAPHIQUE NON DEMANDE\n"
          ],
          "name": "stdout"
        }
      ]
    },
    {
      "cell_type": "code",
      "metadata": {
        "id": "sbb1j_mWCJTJ",
        "colab": {
          "base_uri": "https://localhost:8080/"
        },
        "outputId": "7838187a-e456-49fa-fc7d-2d21e84e86d2"
      },
      "source": [
        "vingtiles_tableau=vingtiles(model = final_model_ExtraTreesClassifier, data_orig = data, affichage=True,\n",
        "            save=False, path = \"/content/drive/MyDrive/spad_score_method_1/spad_projection_FDFTOT21/Fichier_excel_vingtiles/train_test_Extra_Trees_Classifier.xlsx\")"
      ],
      "execution_count": 31,
      "outputs": [
        {
          "output_type": "stream",
          "text": [
            "            IDENT     PROBA\n",
            "14323  0010261341  0.402797\n",
            "21707  0010338071  0.402948\n",
            "61080  0010394340  0.402948\n",
            "35477  0010360000  0.402948\n",
            "23635  0010340220  0.402948\n",
            "...           ...       ...\n",
            "50923  0010376412  0.718302\n",
            "75590  0010410331  0.718302\n",
            "2070   0010027016  0.718302\n",
            "98902  0010538813  0.718302\n",
            "15264  0010262550  0.718302\n",
            "\n",
            "[99296 rows x 2 columns]\n",
            "0.446976    3932\n",
            "0.529540    2659\n",
            "0.528655    1724\n",
            "0.509002    1678\n",
            "0.425110    1476\n",
            "            ... \n",
            "0.531967       1\n",
            "0.521036       1\n",
            "0.447646       1\n",
            "0.441156       1\n",
            "0.472760       1\n",
            "Name: PROBA, Length: 12253, dtype: int64\n"
          ],
          "name": "stdout"
        },
        {
          "output_type": "stream",
          "text": [
            "/usr/local/lib/python3.7/dist-packages/ipykernel_launcher.py:119: SettingWithCopyWarning: \n",
            "A value is trying to be set on a copy of a slice from a DataFrame\n",
            "\n",
            "See the caveats in the documentation: https://pandas.pydata.org/pandas-docs/stable/user_guide/indexing.html#returning-a-view-versus-a-copy\n"
          ],
          "name": "stderr"
        },
        {
          "output_type": "stream",
          "text": [
            "            IDENT     PROBA        TRANCHES CLASSE\n",
            "14323  0010261341  0.402797  (0.402, 0.422]      1\n",
            "21707  0010338071  0.402948  (0.402, 0.422]      1\n",
            "61080  0010394340  0.402948  (0.402, 0.422]      1\n",
            "35477  0010360000  0.402948  (0.402, 0.422]      1\n",
            "23635  0010340220  0.402948  (0.402, 0.422]      1\n",
            "...           ...       ...             ...    ...\n",
            "50923  0010376412  0.718302  (0.596, 0.718]     20\n",
            "75590  0010410331  0.718302  (0.596, 0.718]     20\n",
            "2070   0010027016  0.718302  (0.596, 0.718]     20\n",
            "98902  0010538813  0.718302  (0.596, 0.718]     20\n",
            "15264  0010262550  0.718302  (0.596, 0.718]     20\n",
            "\n",
            "[99296 rows x 4 columns]\n",
            "Top_mon            1     2  TOTAL\n",
            "TRANCHES                         \n",
            "(0.402, 0.422]   876  4575   5451\n",
            "(0.422, 0.427]   767  3714   4481\n",
            "(0.427, 0.442]   908  4058   4966\n",
            "(0.442, 0.447]  1346  6148   7494\n",
            "(0.447, 0.449]   574  1863   2437\n",
            "(0.449, 0.456]  1082  3887   4969\n",
            "(0.456, 0.46]   1203  4345   5548\n",
            "(0.46, 0.468]   1104  3423   4527\n",
            "(0.468, 0.481]  1173  3651   4824\n",
            "(0.481, 0.503]  1274  3683   4957\n",
            "(0.503, 0.508]  1306  4179   5485\n",
            "(0.508, 0.513]  1183  3326   4509\n",
            "(0.513, 0.52]   1295  3603   4898\n",
            "(0.52, 0.525]   1398  3613   5011\n",
            "(0.525, 0.529]  1529  3459   4988\n",
            "(0.529, 0.531]  1605  3626   5231\n",
            "(0.531, 0.537]  1505  3176   4681\n",
            "(0.537, 0.546]  1772  3141   4913\n",
            "(0.546, 0.596]  2196  2815   5011\n",
            "(0.596, 0.718]  2632  2283   4915\n"
          ],
          "name": "stdout"
        }
      ]
    },
    {
      "cell_type": "code",
      "metadata": {
        "id": "jS0wqiC_jkzN",
        "colab": {
          "base_uri": "https://localhost:8080/"
        },
        "outputId": "13e17a2e-a13f-4959-9b90-b83336f40033"
      },
      "source": [
        "# TABLEAU MONTANT\n",
        "tableau_5_montant(vingtiles_tableau, data_montant_orig, affichage=True,\n",
        "            save=False, path = \"/content/drive/MyDrive/spad_score_method_1/spad_projection_FDFTOT21/Fichier_excel_vingtiles/montant_Extra_Trees_Classifier.xlsx\")"
      ],
      "execution_count": 32,
      "outputs": [
        {
          "output_type": "stream",
          "text": [
            "            IDENT     PROBA        TRANCHES CLASSE  SommeDeMONTANT_NUM\n",
            "0      0010261341  0.402797  (0.402, 0.422]      1                15.0\n",
            "1      0010338071  0.402948  (0.402, 0.422]      1                30.0\n",
            "2      0010394340  0.402948  (0.402, 0.422]      1                20.0\n",
            "3      0010360000  0.402948  (0.402, 0.422]      1                20.0\n",
            "4      0010340220  0.402948  (0.402, 0.422]      1                20.0\n",
            "...           ...       ...             ...    ...                 ...\n",
            "99291  0010376412  0.718302  (0.596, 0.718]     20               200.0\n",
            "99292  0010410331  0.718302  (0.596, 0.718]     20                50.0\n",
            "99293  0010027016  0.718302  (0.596, 0.718]     20                40.0\n",
            "99294  0010538813  0.718302  (0.596, 0.718]     20                50.0\n",
            "99295  0010262550  0.718302  (0.596, 0.718]     20              1000.0\n",
            "\n",
            "[99146 rows x 5 columns]\n",
            "          TRANCHES Moyen_Somme TOTAL\n",
            "0   (0.402, 0.422]     29.5749  5450\n",
            "1   (0.422, 0.427]     31.7655  4480\n",
            "2   (0.427, 0.442]     30.9538  4964\n",
            "3   (0.442, 0.447]     33.1053  7491\n",
            "4   (0.447, 0.449]     33.8863  2437\n",
            "5   (0.449, 0.456]      38.057  4966\n",
            "6    (0.456, 0.46]     34.8972  5544\n",
            "7    (0.46, 0.468]     38.8247  4523\n",
            "8   (0.468, 0.481]     38.8936  4820\n",
            "9   (0.481, 0.503]     39.4857  4951\n",
            "10  (0.503, 0.508]     36.6523  5482\n",
            "11  (0.508, 0.513]      39.808  4505\n",
            "12   (0.513, 0.52]     43.1039  4893\n",
            "13   (0.52, 0.525]     40.9848  5009\n",
            "14  (0.525, 0.529]     49.0505  4983\n",
            "15  (0.529, 0.531]     46.9249  5223\n",
            "16  (0.531, 0.537]     49.9939  4670\n",
            "17  (0.537, 0.546]     57.6263  4899\n",
            "18  (0.546, 0.596]     84.4453  4994\n",
            "19  (0.596, 0.718]     134.586  4862\n"
          ],
          "name": "stdout"
        }
      ]
    },
    {
      "cell_type": "code",
      "metadata": {
        "id": "o4sqbcxcBhvi"
      },
      "source": [
        "# INDIVIDUS SANS TARGET\n",
        "vingtiles_ind_sans_target(model = final_model_ExtraTreesClassifier, data_orig= data_var_qualitatives_temp[(data_var_qualitatives_temp.isnull()).sum(axis=1) != 0], affichage=True,\n",
        "            save=False, path = \"/content/drive/MyDrive/spad_score_method_1/spad_projection_FDFTOT21/Fichier_excel_vingtiles/ind_sans_target_Extra_Trees_Classifier.xlsx\")"
      ],
      "execution_count": null,
      "outputs": []
    },
    {
      "cell_type": "code",
      "metadata": {
        "id": "JxHRxZh4DB2f"
      },
      "source": [
        "#############################################################\n",
        "#                   MODELE 5 : XGBoost (IL FAUT L'AMELIORER CAR GRIDSEARCHCV PREND TROP DE TEMPS)\n",
        "#############################################################"
      ],
      "execution_count": null,
      "outputs": []
    },
    {
      "cell_type": "code",
      "metadata": {
        "id": "Xsf_dhDuTIXz"
      },
      "source": [
        "import xgboost as xgb\n",
        "from xgboost.sklearn import XGBClassifier"
      ],
      "execution_count": 13,
      "outputs": []
    },
    {
      "cell_type": "code",
      "metadata": {
        "id": "ehBv4OVJ1Sle"
      },
      "source": [
        ""
      ],
      "execution_count": 14,
      "outputs": []
    },
    {
      "cell_type": "code",
      "metadata": {
        "colab": {
          "base_uri": "https://localhost:8080/"
        },
        "id": "PRE7ofNSzqMB",
        "outputId": "be66ba3b-005e-4a9f-f21a-4c2945f12694"
      },
      "source": [
        "XGBClassifier()"
      ],
      "execution_count": null,
      "outputs": [
        {
          "output_type": "execute_result",
          "data": {
            "text/plain": [
              "XGBClassifier(base_score=0.5, booster='gbtree', colsample_bylevel=1,\n",
              "              colsample_bynode=1, colsample_bytree=1, gamma=0,\n",
              "              learning_rate=0.1, max_delta_step=0, max_depth=3,\n",
              "              min_child_weight=1, missing=None, n_estimators=100, n_jobs=1,\n",
              "              nthread=None, objective='binary:logistic', random_state=0,\n",
              "              reg_alpha=0, reg_lambda=1, scale_pos_weight=1, seed=None,\n",
              "              silent=None, subsample=1, verbosity=1)"
            ]
          },
          "metadata": {
            "tags": []
          },
          "execution_count": 24
        }
      ]
    },
    {
      "cell_type": "code",
      "metadata": {
        "colab": {
          "base_uri": "https://localhost:8080/"
        },
        "id": "e8CsHSLMafgQ",
        "outputId": "9b5a0acc-8b81-4c7e-986a-151e98060fee"
      },
      "source": [
        "\n",
        "model_XGBClassifier = XGBClassifier(learning_rate =0.1, n_estimators=100, gamma=0, subsample=0.8,\n",
        "                                                  colsample_bytree=0.8, objective= 'binary:logistic',seed=0, tree_method=\"gpu_hist\")\n",
        "param = { 'scale_pos_weight': list(np.linspace(0.25, 0.35, 20)), 'max_depth':range(3,8,1), 'min_child_weight':range(1,6,1),\n",
        "         \"learning_rate\": [0.1,0.4], \"gamma\" :[0,0.5] } #list(np.linspace(0.10, 0.30, 2))   #'max_depth':range(3,10,2), 'min_child_weight':range(1,6,2),\n",
        "\n",
        "grid_XGBClassifier = GridSearchCV(estimator = model_XGBClassifier, param_grid = param, scoring='recall', cv=4, n_jobs=-1)\n",
        "resultat_grid_XGBClassifier = grid_XGBClassifier.fit(train_X_s, train_Y_s)\n",
        "resultat_grid_XGBClassifier.best_params_"
      ],
      "execution_count": 14,
      "outputs": [
        {
          "output_type": "stream",
          "text": [
            "/usr/local/lib/python3.7/dist-packages/joblib/externals/loky/process_executor.py:691: UserWarning: A worker stopped while some jobs were given to the executor. This can be caused by a too short worker timeout or by a memory leak.\n",
            "  \"timeout or by a memory leak.\", UserWarning\n"
          ],
          "name": "stderr"
        },
        {
          "output_type": "execute_result",
          "data": {
            "text/plain": [
              "{'gamma': 0,\n",
              " 'learning_rate': 0.1,\n",
              " 'max_depth': 3,\n",
              " 'min_child_weight': 1,\n",
              " 'scale_pos_weight': 0.25}"
            ]
          },
          "metadata": {
            "tags": []
          },
          "execution_count": 14
        }
      ]
    },
    {
      "cell_type": "code",
      "metadata": {
        "colab": {
          "base_uri": "https://localhost:8080/"
        },
        "id": "sgv8RGt5afiW",
        "outputId": "be214bf6-976d-4d1f-8016-0e36b529ab18"
      },
      "source": [
        "final_model_XGBClassifier = XGBClassifier(learning_rate =0.1, n_estimators=100, max_depth=3, min_child_weight=1, gamma=0, subsample=0.8,\n",
        "                                                  colsample_bytree=0.8, objective= 'binary:logistic', scale_pos_weight=0.25, seed=0, tree_method=\"gpu_hist\")\n",
        "evaluation(final_model_XGBClassifier, train_X_s, train_Y_s, test_X_s, test_Y_s, scoring=\"recall\", plot=False)"
      ],
      "execution_count": 18,
      "outputs": [
        {
          "output_type": "stream",
          "text": [
            "test set : \n",
            "[[ 4623   708]\n",
            " [10989  3540]]\n",
            "              precision    recall  f1-score   support\n",
            "\n",
            "           1       0.30      0.87      0.44      5331\n",
            "           2       0.83      0.24      0.38     14529\n",
            "\n",
            "    accuracy                           0.41     19860\n",
            "   macro avg       0.56      0.56      0.41     19860\n",
            "weighted avg       0.69      0.41      0.39     19860\n",
            "\n",
            "train set : \n",
            "[[18669  2728]\n",
            " [43470 14569]]\n",
            "              precision    recall  f1-score   support\n",
            "\n",
            "           1       0.30      0.87      0.45     21397\n",
            "           2       0.84      0.25      0.39     58039\n",
            "\n",
            "    accuracy                           0.42     79436\n",
            "   macro avg       0.57      0.56      0.42     79436\n",
            "weighted avg       0.70      0.42      0.40     79436\n",
            "\n",
            "GRAPHIQUE NON DEMANDE\n"
          ],
          "name": "stdout"
        }
      ]
    },
    {
      "cell_type": "code",
      "metadata": {
        "colab": {
          "base_uri": "https://localhost:8080/"
        },
        "id": "D5UGKazveShM",
        "outputId": "c064f62c-0fdc-4e1b-f57f-70dab8119201"
      },
      "source": [
        "vingtiles_tableau = vingtiles_xgb(model = final_model_XGBClassifier, data_orig = data, affichage=True,\n",
        "            save=False, path = \"/content/drive/MyDrive/spad_score_method_1/spad_projection_FDFTOT21/Fichier_excel_vingtiles/train_test_XGBoost.xlsx\")"
      ],
      "execution_count": 35,
      "outputs": [
        {
          "output_type": "stream",
          "text": [
            "            IDENT     PROBA\n",
            "36819  0010361425  0.284345\n",
            "54757  0010381203  0.288740\n",
            "29727  0010349859  0.290438\n",
            "84244  0010509750  0.290515\n",
            "57586  0010385156  0.294717\n",
            "...           ...       ...\n",
            "16063  0010263630  0.914028\n",
            "13889  0010260863  0.914028\n",
            "77220  0010412631  0.918124\n",
            "82851  0010500476  0.918124\n",
            "83624  0010504178  0.918124\n",
            "\n",
            "[99296 rows x 2 columns]\n",
            "0.626075    433\n",
            "0.573391    361\n",
            "0.510407    168\n",
            "0.638555    154\n",
            "0.624594    141\n",
            "           ... \n",
            "0.413470      1\n",
            "0.576936      1\n",
            "0.413467      1\n",
            "0.576921      1\n",
            "0.594214      1\n",
            "Name: PROBA, Length: 62467, dtype: int64\n"
          ],
          "name": "stdout"
        },
        {
          "output_type": "stream",
          "text": [
            "/usr/local/lib/python3.7/dist-packages/ipykernel_launcher.py:31: SettingWithCopyWarning: \n",
            "A value is trying to be set on a copy of a slice from a DataFrame\n",
            "\n",
            "See the caveats in the documentation: https://pandas.pydata.org/pandas-docs/stable/user_guide/indexing.html#returning-a-view-versus-a-copy\n"
          ],
          "name": "stderr"
        },
        {
          "output_type": "stream",
          "text": [
            "            IDENT     PROBA        TRANCHES CLASSE\n",
            "36819  0010361425  0.284345  (0.283, 0.432]      1\n",
            "54757  0010381203  0.288740  (0.283, 0.432]      1\n",
            "29727  0010349859  0.290438  (0.283, 0.432]      1\n",
            "84244  0010509750  0.290515  (0.283, 0.432]      1\n",
            "57586  0010385156  0.294717  (0.283, 0.432]      1\n",
            "...           ...       ...             ...    ...\n",
            "16063  0010263630  0.914028  (0.773, 0.918]     20\n",
            "13889  0010260863  0.914028  (0.773, 0.918]     20\n",
            "77220  0010412631  0.918124  (0.773, 0.918]     20\n",
            "82851  0010500476  0.918124  (0.773, 0.918]     20\n",
            "83624  0010504178  0.918124  (0.773, 0.918]     20\n",
            "\n",
            "[99296 rows x 4 columns]\n",
            "Top_mon            1     2  TOTAL\n",
            "TRANCHES                         \n",
            "(0.283, 0.432]   575  4390   4965\n",
            "(0.432, 0.458]   789  4176   4965\n",
            "(0.458, 0.478]   878  4134   5012\n",
            "(0.478, 0.495]   874  4044   4918\n",
            "(0.495, 0.509]   913  4056   4969\n",
            "(0.509, 0.522]  1041  3919   4960\n",
            "(0.522, 0.535]  1018  3948   4966\n",
            "(0.535, 0.548]  1116  3852   4968\n",
            "(0.548, 0.559]  1180  3780   4960\n",
            "(0.559, 0.572]  1118  3847   4965\n",
            "(0.572, 0.584]  1250  3715   4965\n",
            "(0.584, 0.597]  1360  3608   4968\n",
            "(0.597, 0.61]   1418  3546   4964\n",
            "(0.61, 0.622]   1439  3523   4962\n",
            "(0.622, 0.635]  1507  3458   4965\n",
            "(0.635, 0.651]  1631  3334   4965\n",
            "(0.651, 0.675]  1705  3261   4966\n",
            "(0.675, 0.708]  1911  3052   4963\n",
            "(0.708, 0.773]  2172  2793   4965\n",
            "(0.773, 0.918]  2833  2132   4965\n"
          ],
          "name": "stdout"
        }
      ]
    },
    {
      "cell_type": "code",
      "metadata": {
        "colab": {
          "base_uri": "https://localhost:8080/"
        },
        "id": "N1wMA1Zbyqj0",
        "outputId": "5040ff15-99d6-4559-b0e2-dead06ff9476"
      },
      "source": [
        "# TABLEAU MONTANT\n",
        "tableau_5_montant(vingtiles_tableau, data_montant_orig, affichage=True,\n",
        "            save=False, path = \"/content/drive/MyDrive/spad_score_method_1/spad_projection_FDFTOT21/Fichier_excel_vingtiles/montant_XGBoost.xlsx\")"
      ],
      "execution_count": 36,
      "outputs": [
        {
          "output_type": "stream",
          "text": [
            "            IDENT     PROBA        TRANCHES CLASSE  SommeDeMONTANT_NUM\n",
            "0      0010361425  0.284345  (0.283, 0.432]      1                30.0\n",
            "1      0010381203  0.288740  (0.283, 0.432]      1                30.0\n",
            "2      0010349859  0.290438  (0.283, 0.432]      1                20.0\n",
            "3      0010509750  0.290515  (0.283, 0.432]      1                25.0\n",
            "4      0010385156  0.294717  (0.283, 0.432]      1                20.0\n",
            "...           ...       ...             ...    ...                 ...\n",
            "99291  0010263630  0.914028  (0.773, 0.918]     20               500.0\n",
            "99292  0010260863  0.914028  (0.773, 0.918]     20              3000.0\n",
            "99293  0010412631  0.918124  (0.773, 0.918]     20              2400.0\n",
            "99294  0010500476  0.918124  (0.773, 0.918]     20                10.0\n",
            "99295  0010504178  0.918124  (0.773, 0.918]     20                20.0\n",
            "\n",
            "[99146 rows x 5 columns]\n",
            "          TRANCHES Moyen_Somme TOTAL\n",
            "0   (0.283, 0.432]     25.7942  4965\n",
            "1   (0.432, 0.458]     30.6277  4963\n",
            "2   (0.458, 0.478]     30.7223  5012\n",
            "3   (0.478, 0.495]     30.8746  4916\n",
            "4   (0.495, 0.509]     30.3678  4968\n",
            "5   (0.509, 0.522]     34.6955  4959\n",
            "6   (0.522, 0.535]     35.2051  4965\n",
            "7   (0.535, 0.548]     36.2049  4967\n",
            "8   (0.548, 0.559]     37.2963  4956\n",
            "9   (0.559, 0.572]     35.8864  4961\n",
            "10  (0.572, 0.584]     40.6839  4962\n",
            "11  (0.584, 0.597]     40.3872  4967\n",
            "12   (0.597, 0.61]     42.1475  4961\n",
            "13   (0.61, 0.622]     46.1287  4957\n",
            "14  (0.622, 0.635]     43.4338  4958\n",
            "15  (0.635, 0.651]      47.793  4954\n",
            "16  (0.651, 0.675]       54.61  4955\n",
            "17  (0.675, 0.708]     61.5688  4948\n",
            "18  (0.708, 0.773]     75.8956  4939\n",
            "19  (0.773, 0.918]     150.194  4913\n"
          ],
          "name": "stdout"
        }
      ]
    },
    {
      "cell_type": "code",
      "metadata": {
        "id": "1y7a7EMEy8sK"
      },
      "source": [
        "###################################################################################################################@\n",
        "###################################################################################################################@\n",
        "#                                   DECISION TREE CLASSIFIER  ----  AVEC VARIABLES QUALITATIVES\n",
        "###################################################################################################################@\n",
        "###################################################################################################################@"
      ],
      "execution_count": null,
      "outputs": []
    },
    {
      "cell_type": "code",
      "metadata": {
        "id": "CtAZAPy_h355"
      },
      "source": [
        "####################################################################################\n",
        "####################################################################################\n",
        "#                   DECISION TREE\n",
        "####################################################################################\n",
        "####################################################################################"
      ],
      "execution_count": null,
      "outputs": []
    },
    {
      "cell_type": "code",
      "metadata": {
        "colab": {
          "base_uri": "https://localhost:8080/"
        },
        "id": "9pt0VNO18P4N",
        "outputId": "c78b99b3-3dc2-479b-a605-99931c8ac90a"
      },
      "source": [
        "\n",
        "model_DecisionTreeClassifier = DecisionTreeClassifier(random_state = 0, class_weight = \"balanced\" )\n",
        "param = { 'max_depth' :list(range(2,20)), 'criterion': [\"gini\", \"entropy\"], 'max_features' : list(range(3,10,1)),\n",
        "         'min_samples_split' : [0.05, 0.1, 0.4, 0.6, 0.8, 1] }\n",
        "\n",
        "grid_DecisionTreeClassifier = GridSearchCV(model_DecisionTreeClassifier, param_grid= param, cv = 4, scoring = \"recall\", n_jobs=-1)\n",
        "resultat_grid_DecisionTreeClassifier = grid_DecisionTreeClassifier.fit(train_X_s, train_Y_s)\n",
        "resultat_grid_DecisionTreeClassifier.best_params_\n"
      ],
      "execution_count": null,
      "outputs": [
        {
          "output_type": "execute_result",
          "data": {
            "text/plain": [
              "{'criterion': 'gini',\n",
              " 'max_depth': 2,\n",
              " 'max_features': 5,\n",
              " 'min_samples_split': 0.05}"
            ]
          },
          "metadata": {
            "tags": []
          },
          "execution_count": 20
        }
      ]
    },
    {
      "cell_type": "code",
      "metadata": {
        "colab": {
          "base_uri": "https://localhost:8080/"
        },
        "id": "JNnn4DAf8P6W",
        "outputId": "329ebd9d-a8bd-4adb-b602-d8968f54eeac"
      },
      "source": [
        "final_model_DecisionTreeClassifier = DecisionTreeClassifier(random_state = 0, criterion=\"gini\", class_weight = \"balanced\", max_depth = 2, max_features=13, min_samples_split=0.05 )\n",
        "evaluation(final_model_DecisionTreeClassifier, train_X_s, train_Y_s, test_X_s, test_Y_s, scoring=\"recall\", plot=False)"
      ],
      "execution_count": null,
      "outputs": [
        {
          "output_type": "stream",
          "text": [
            "test set : \n",
            "[[ 5180   151]\n",
            " [13889   640]]\n",
            "              precision    recall  f1-score   support\n",
            "\n",
            "           1       0.27      0.97      0.42      5331\n",
            "           2       0.81      0.04      0.08     14529\n",
            "\n",
            "    accuracy                           0.29     19860\n",
            "   macro avg       0.54      0.51      0.25     19860\n",
            "weighted avg       0.66      0.29      0.18     19860\n",
            "\n",
            "train set : \n",
            "[[20819   578]\n",
            " [55499  2540]]\n",
            "              precision    recall  f1-score   support\n",
            "\n",
            "           1       0.27      0.97      0.43     21397\n",
            "           2       0.81      0.04      0.08     58039\n",
            "\n",
            "    accuracy                           0.29     79436\n",
            "   macro avg       0.54      0.51      0.25     79436\n",
            "weighted avg       0.67      0.29      0.18     79436\n",
            "\n",
            "GRAPHIQUE NON DEMANDE\n"
          ],
          "name": "stdout"
        }
      ]
    },
    {
      "cell_type": "code",
      "metadata": {
        "colab": {
          "base_uri": "https://localhost:8080/",
          "height": 779
        },
        "id": "3sGdSD11IMOO",
        "outputId": "1dd1998b-79a3-4201-de6d-77664d68143a"
      },
      "source": [
        "# TRAIN SET TEST SET\n",
        "vingtiles(model = final_model_DecisionTreeClassifier, data_orig = data, affichage=True,\n",
        "            save=False, path = \"/content/drive/MyDrive/spad_score_method_1/spad_projection_FDFTOT21/Fichier_excel_vingtiles/train_test_Decision_Tree_Classifier.xlsx\")"
      ],
      "execution_count": null,
      "outputs": [
        {
          "output_type": "stream",
          "text": [
            "                 IDENT     PROBA\n",
            "56970  569710010384479  0.381666\n",
            "9253    92540010256064  0.381666\n",
            "52518  525190010378240  0.381666\n",
            "60182  601830010392815  0.381666\n",
            "22850  228510010339375  0.381666\n",
            "...                ...       ...\n",
            "29519  295200010349528  0.553444\n",
            "94344  943450010532481  0.553444\n",
            "69420  694210010403242  0.553444\n",
            "44966  449670010370130  0.553444\n",
            "49402  494030010374795  0.553444\n",
            "\n",
            "[99296 rows x 2 columns]\n",
            "0.501674    90709\n",
            "0.553444     4678\n",
            "0.381666     3909\n",
            "Name: PROBA, dtype: int64\n"
          ],
          "name": "stdout"
        },
        {
          "output_type": "error",
          "ename": "ValueError",
          "evalue": "ignored",
          "traceback": [
            "\u001b[0;31m---------------------------------------------------------------------------\u001b[0m",
            "\u001b[0;31mValueError\u001b[0m                                Traceback (most recent call last)",
            "\u001b[0;32m<ipython-input-51-9560f2332a90>\u001b[0m in \u001b[0;36m<module>\u001b[0;34m()\u001b[0m\n\u001b[1;32m      1\u001b[0m \u001b[0;31m# TRAIN SET TEST SET\u001b[0m\u001b[0;34m\u001b[0m\u001b[0;34m\u001b[0m\u001b[0;34m\u001b[0m\u001b[0m\n\u001b[1;32m      2\u001b[0m vingtiles(model = final_model_DecisionTreeClassifier, data_orig = data, affichage=True,\n\u001b[0;32m----> 3\u001b[0;31m             save=False, path = \"/content/drive/MyDrive/spad_score_method_1/spad_projection_FDFTOT21/Fichier_excel_vingtiles/train_test_Decision_Tree_Classifier.xlsx\")\n\u001b[0m",
            "\u001b[0;32m<ipython-input-35-3433ddb3b525>\u001b[0m in \u001b[0;36mvingtiles\u001b[0;34m(model, data_orig, affichage, save, path)\u001b[0m\n\u001b[1;32m    105\u001b[0m \u001b[0;34m\u001b[0m\u001b[0m\n\u001b[1;32m    106\u001b[0m     \u001b[0;31m# quarantiles\u001b[0m\u001b[0;34m\u001b[0m\u001b[0;34m\u001b[0m\u001b[0;34m\u001b[0m\u001b[0m\n\u001b[0;32m--> 107\u001b[0;31m     \u001b[0mdf_temp\u001b[0m \u001b[0;34m=\u001b[0m\u001b[0mpd\u001b[0m\u001b[0;34m.\u001b[0m\u001b[0mDataFrame\u001b[0m\u001b[0;34m(\u001b[0m \u001b[0mpd\u001b[0m\u001b[0;34m.\u001b[0m\u001b[0mqcut\u001b[0m\u001b[0;34m(\u001b[0m\u001b[0mdf_tous\u001b[0m\u001b[0;34m[\u001b[0m\u001b[0;34m'PROBA'\u001b[0m\u001b[0;34m]\u001b[0m\u001b[0;34m,\u001b[0m\u001b[0mq\u001b[0m\u001b[0;34m=\u001b[0m \u001b[0;36m20\u001b[0m\u001b[0;34m)\u001b[0m  \u001b[0;34m)\u001b[0m\u001b[0;34m\u001b[0m\u001b[0;34m\u001b[0m\u001b[0m\n\u001b[0m\u001b[1;32m    108\u001b[0m     \u001b[0mprint\u001b[0m\u001b[0;34m(\u001b[0m\u001b[0mdf_temp\u001b[0m\u001b[0;34m)\u001b[0m\u001b[0;34m\u001b[0m\u001b[0;34m\u001b[0m\u001b[0m\n\u001b[1;32m    109\u001b[0m \u001b[0;34m\u001b[0m\u001b[0m\n",
            "\u001b[0;32m/usr/local/lib/python3.7/dist-packages/pandas/core/reshape/tile.py\u001b[0m in \u001b[0;36mqcut\u001b[0;34m(x, q, labels, retbins, precision, duplicates)\u001b[0m\n\u001b[1;32m    365\u001b[0m         \u001b[0minclude_lowest\u001b[0m\u001b[0;34m=\u001b[0m\u001b[0;32mTrue\u001b[0m\u001b[0;34m,\u001b[0m\u001b[0;34m\u001b[0m\u001b[0;34m\u001b[0m\u001b[0m\n\u001b[1;32m    366\u001b[0m         \u001b[0mdtype\u001b[0m\u001b[0;34m=\u001b[0m\u001b[0mdtype\u001b[0m\u001b[0;34m,\u001b[0m\u001b[0;34m\u001b[0m\u001b[0;34m\u001b[0m\u001b[0m\n\u001b[0;32m--> 367\u001b[0;31m         \u001b[0mduplicates\u001b[0m\u001b[0;34m=\u001b[0m\u001b[0mduplicates\u001b[0m\u001b[0;34m,\u001b[0m\u001b[0;34m\u001b[0m\u001b[0;34m\u001b[0m\u001b[0m\n\u001b[0m\u001b[1;32m    368\u001b[0m     )\n\u001b[1;32m    369\u001b[0m \u001b[0;34m\u001b[0m\u001b[0m\n",
            "\u001b[0;32m/usr/local/lib/python3.7/dist-packages/pandas/core/reshape/tile.py\u001b[0m in \u001b[0;36m_bins_to_cuts\u001b[0;34m(x, bins, right, labels, precision, include_lowest, dtype, duplicates, ordered)\u001b[0m\n\u001b[1;32m    400\u001b[0m         \u001b[0;32mif\u001b[0m \u001b[0mduplicates\u001b[0m \u001b[0;34m==\u001b[0m \u001b[0;34m\"raise\"\u001b[0m\u001b[0;34m:\u001b[0m\u001b[0;34m\u001b[0m\u001b[0;34m\u001b[0m\u001b[0m\n\u001b[1;32m    401\u001b[0m             raise ValueError(\n\u001b[0;32m--> 402\u001b[0;31m                 \u001b[0;34mf\"Bin edges must be unique: {repr(bins)}.\\n\"\u001b[0m\u001b[0;34m\u001b[0m\u001b[0;34m\u001b[0m\u001b[0m\n\u001b[0m\u001b[1;32m    403\u001b[0m                 \u001b[0;34mf\"You can drop duplicate edges by setting the 'duplicates' kwarg\"\u001b[0m\u001b[0;34m\u001b[0m\u001b[0;34m\u001b[0m\u001b[0m\n\u001b[1;32m    404\u001b[0m             )\n",
            "\u001b[0;31mValueError\u001b[0m: Bin edges must be unique: array([0.38166644, 0.50167414, 0.50167414, 0.50167414, 0.50167414,\n       0.50167414, 0.50167414, 0.50167414, 0.50167414, 0.50167414,\n       0.50167414, 0.50167414, 0.50167414, 0.50167414, 0.50167414,\n       0.50167414, 0.50167414, 0.50167414, 0.50167414, 0.50167414,\n       0.55344393]).\nYou can drop duplicate edges by setting the 'duplicates' kwarg"
          ]
        }
      ]
    },
    {
      "cell_type": "code",
      "metadata": {
        "id": "wOGaAy3aicdc"
      },
      "source": [
        "# INDIVIDUS SANS TARGET\n",
        "vingtiles_ind_sans_target(model = final_model_DecisionTreeClassifier, data_orig= data_var_qualitatives_temp[(data_var_qualitatives_temp.isnull()).sum(axis=1) != 0], affichage=True,\n",
        "            save=False, path = \"/content/drive/MyDrive/spad_score_method_1/spad_projection_FDFTOT21/Fichier_excel_vingtiles/ind_sans_target_Decision_Tree_Classifier.xlsx\")"
      ],
      "execution_count": null,
      "outputs": []
    },
    {
      "cell_type": "code",
      "metadata": {
        "id": "ztkYTw2lKfrN"
      },
      "source": [
        ""
      ],
      "execution_count": null,
      "outputs": []
    },
    {
      "cell_type": "code",
      "metadata": {
        "id": "JT4GplPeak4R"
      },
      "source": [
        ""
      ],
      "execution_count": null,
      "outputs": []
    },
    {
      "cell_type": "code",
      "metadata": {
        "id": "16GnZhtoasFp"
      },
      "source": [
        ""
      ],
      "execution_count": null,
      "outputs": []
    },
    {
      "cell_type": "code",
      "metadata": {
        "id": "oH3l33RFbgfm"
      },
      "source": [
        ""
      ],
      "execution_count": null,
      "outputs": []
    },
    {
      "cell_type": "code",
      "metadata": {
        "id": "JtgQ52BrD66B"
      },
      "source": [
        ""
      ],
      "execution_count": null,
      "outputs": []
    },
    {
      "cell_type": "code",
      "metadata": {
        "id": "0iHS19fsUdQu"
      },
      "source": [
        ""
      ],
      "execution_count": null,
      "outputs": []
    }
  ]
}